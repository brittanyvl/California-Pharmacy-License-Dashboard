{
 "cells": [
  {
   "metadata": {},
   "cell_type": "markdown",
   "source": [
    "# Exploratory Analysis of California State Board of Pharmacy Sterile Compounding Licenses\n",
    "\n",
    "The pharmacy data utilized in this analysis was retrieved from the California State Board of Pharmacy License Verification Database on 11/24/2024 at 2:53pm CST.  Please visit https://search.dca.ca.gov/results for more information. "
   ],
   "id": "917093db83f53ef8"
  },
  {
   "metadata": {},
   "cell_type": "markdown",
   "source": "## Notebook Setup",
   "id": "501a5603e676084d"
  },
  {
   "metadata": {
    "ExecuteTime": {
     "end_time": "2024-11-24T21:10:27.163498Z",
     "start_time": "2024-11-24T21:10:05.352248Z"
    }
   },
   "cell_type": "code",
   "source": "pip install matplotlib",
   "id": "8c3484bf414c1a74",
   "outputs": [
    {
     "name": "stdout",
     "output_type": "stream",
     "text": [
      "Collecting matplotlib\n",
      "  Downloading matplotlib-3.9.2-cp312-cp312-win_amd64.whl.metadata (11 kB)\n",
      "Collecting contourpy>=1.0.1 (from matplotlib)\n",
      "  Downloading contourpy-1.3.1-cp312-cp312-win_amd64.whl.metadata (5.4 kB)\n",
      "Collecting cycler>=0.10 (from matplotlib)\n",
      "  Downloading cycler-0.12.1-py3-none-any.whl.metadata (3.8 kB)\n",
      "Collecting fonttools>=4.22.0 (from matplotlib)\n",
      "  Downloading fonttools-4.55.0-cp312-cp312-win_amd64.whl.metadata (167 kB)\n",
      "     ---------------------------------------- 0.0/167.9 kB ? eta -:--:--\n",
      "     -- ------------------------------------- 10.2/167.9 kB ? eta -:--:--\n",
      "     --------------- --------------------- 71.7/167.9 kB 777.7 kB/s eta 0:00:01\n",
      "     -------------------------------------- 167.9/167.9 kB 1.4 MB/s eta 0:00:00\n",
      "Collecting kiwisolver>=1.3.1 (from matplotlib)\n",
      "  Downloading kiwisolver-1.4.7-cp312-cp312-win_amd64.whl.metadata (6.4 kB)\n",
      "Requirement already satisfied: numpy>=1.23 in c:\\users\\bvlma\\appdata\\local\\programs\\python\\python312\\lib\\site-packages (from matplotlib) (2.1.2)\n",
      "Requirement already satisfied: packaging>=20.0 in c:\\users\\bvlma\\appdata\\local\\programs\\python\\python312\\lib\\site-packages (from matplotlib) (24.0)\n",
      "Requirement already satisfied: pillow>=8 in c:\\users\\bvlma\\appdata\\local\\programs\\python\\python312\\lib\\site-packages (from matplotlib) (10.4.0)\n",
      "Collecting pyparsing>=2.3.1 (from matplotlib)\n",
      "  Downloading pyparsing-3.2.0-py3-none-any.whl.metadata (5.0 kB)\n",
      "Requirement already satisfied: python-dateutil>=2.7 in c:\\users\\bvlma\\appdata\\local\\programs\\python\\python312\\lib\\site-packages (from matplotlib) (2.9.0.post0)\n",
      "Requirement already satisfied: six>=1.5 in c:\\users\\bvlma\\appdata\\local\\programs\\python\\python312\\lib\\site-packages (from python-dateutil>=2.7->matplotlib) (1.16.0)\n",
      "Downloading matplotlib-3.9.2-cp312-cp312-win_amd64.whl (7.8 MB)\n",
      "   ---------------------------------------- 0.0/7.8 MB ? eta -:--:--\n",
      "   - -------------------------------------- 0.3/7.8 MB 10.9 MB/s eta 0:00:01\n",
      "   -------- ------------------------------- 1.6/7.8 MB 20.0 MB/s eta 0:00:01\n",
      "   -------------------- ------------------- 4.1/7.8 MB 32.4 MB/s eta 0:00:01\n",
      "   ---------------------------------------  7.7/7.8 MB 44.8 MB/s eta 0:00:01\n",
      "   ---------------------------------------- 7.8/7.8 MB 41.8 MB/s eta 0:00:00\n",
      "Downloading contourpy-1.3.1-cp312-cp312-win_amd64.whl (220 kB)\n",
      "   ---------------------------------------- 0.0/221.0 kB ? eta -:--:--\n",
      "   ---------------------------------------- 221.0/221.0 kB ? eta 0:00:00\n",
      "Downloading cycler-0.12.1-py3-none-any.whl (8.3 kB)\n",
      "Downloading fonttools-4.55.0-cp312-cp312-win_amd64.whl (2.2 MB)\n",
      "   ---------------------------------------- 0.0/2.2 MB ? eta -:--:--\n",
      "   ---------------------------------------- 2.2/2.2 MB 70.8 MB/s eta 0:00:00\n",
      "Downloading kiwisolver-1.4.7-cp312-cp312-win_amd64.whl (55 kB)\n",
      "   ---------------------------------------- 0.0/55.9 kB ? eta -:--:--\n",
      "   ---------------------------------------- 55.9/55.9 kB ? eta 0:00:00\n",
      "Downloading pyparsing-3.2.0-py3-none-any.whl (106 kB)\n",
      "   ---------------------------------------- 0.0/106.9 kB ? eta -:--:--\n",
      "   ---------------------------------------- 106.9/106.9 kB ? eta 0:00:00\n",
      "Installing collected packages: pyparsing, kiwisolver, fonttools, cycler, contourpy, matplotlib\n",
      "Successfully installed contourpy-1.3.1 cycler-0.12.1 fonttools-4.55.0 kiwisolver-1.4.7 matplotlib-3.9.2 pyparsing-3.2.0\n",
      "Note: you may need to restart the kernel to use updated packages.\n"
     ]
    },
    {
     "name": "stderr",
     "output_type": "stream",
     "text": [
      "\n",
      "[notice] A new release of pip is available: 24.0 -> 24.3.1\n",
      "[notice] To update, run: C:\\Users\\bvlma\\AppData\\Local\\Programs\\Python\\Python312\\python.exe -m pip install --upgrade pip\n"
     ]
    }
   ],
   "execution_count": 10
  },
  {
   "metadata": {
    "ExecuteTime": {
     "end_time": "2024-11-24T21:34:45.710778Z",
     "start_time": "2024-11-24T21:34:45.705767Z"
    }
   },
   "cell_type": "code",
   "source": [
    "import pandas as pd\n",
    "import numpy as np\n",
    "import matplotlib.pyplot as plt\n",
    "\n",
    "\n",
    "# Set pandas to display more rows/columns for wider dataframes\n",
    "pd.set_option('display.max_columns', None)  # Show all columns\n",
    "pd.set_option('display.max_rows', 100)     # Adjust rows\n",
    "pd.set_option('display.width', 1000)       # Increase width for better visibility\n",
    "\n",
    "#pd.reset_option('all') "
   ],
   "id": "220caaafb34d99b0",
   "outputs": [],
   "execution_count": 14
  },
  {
   "metadata": {},
   "cell_type": "markdown",
   "source": "## Load Pharmacy Data",
   "id": "147173345325c83a"
  },
  {
   "metadata": {
    "ExecuteTime": {
     "end_time": "2024-11-24T21:57:28.137808Z",
     "start_time": "2024-11-24T21:57:28.038154Z"
    }
   },
   "cell_type": "code",
   "source": [
    "pharmacies = pd.read_csv('sterile_compounding_pharmacy_data_2.csv')\n",
    "pharmacies.head()"
   ],
   "id": "1ebdc26e5b591f18",
   "outputs": [
    {
     "data": {
      "text/plain": [
       "                          Title License Number                              License Type License Status   Expiration Date        City         State        County    Zip\n",
       "0  986 INFUSION PHARMACY #1 INC     LSC 101414              STERILE COMPOUNDING PHARMACY          CLEAR      JULY 1, 2025     ANAHEIM    CALIFORNIA        ORANGE  92807\n",
       "1      A & O SPECIALTY PHARMACY     LSC 101817              STERILE COMPOUNDING PHARMACY          CLEAR     MARCH 1, 2025     SALINAS    CALIFORNIA      MONTEREY  93901\n",
       "2      ACCREDO HEALTH GROUP INC     NSC 101280  NONRESIDENT STERILE COMPOUNDING PHARMACY          CLEAR  DECEMBER 1, 2025  WARRENDALE  PENNSYLVANIA  OUT OF STATE  15086\n",
       "3      ACCREDO HEALTH GROUP INC     NSC 101279  NONRESIDENT STERILE COMPOUNDING PHARMACY          CLEAR  DECEMBER 1, 2025     ORLANDO       FLORIDA  OUT OF STATE  32822\n",
       "4         ADVANCE CARE PHARMACY      LSC 99611              STERILE COMPOUNDING PHARMACY          CLEAR      JULY 1, 2025   ESCONDIDO    CALIFORNIA     SAN DIEGO  92025"
      ],
      "text/html": [
       "<div>\n",
       "<style scoped>\n",
       "    .dataframe tbody tr th:only-of-type {\n",
       "        vertical-align: middle;\n",
       "    }\n",
       "\n",
       "    .dataframe tbody tr th {\n",
       "        vertical-align: top;\n",
       "    }\n",
       "\n",
       "    .dataframe thead th {\n",
       "        text-align: right;\n",
       "    }\n",
       "</style>\n",
       "<table border=\"1\" class=\"dataframe\">\n",
       "  <thead>\n",
       "    <tr style=\"text-align: right;\">\n",
       "      <th></th>\n",
       "      <th>Title</th>\n",
       "      <th>License Number</th>\n",
       "      <th>License Type</th>\n",
       "      <th>License Status</th>\n",
       "      <th>Expiration Date</th>\n",
       "      <th>City</th>\n",
       "      <th>State</th>\n",
       "      <th>County</th>\n",
       "      <th>Zip</th>\n",
       "    </tr>\n",
       "  </thead>\n",
       "  <tbody>\n",
       "    <tr>\n",
       "      <th>0</th>\n",
       "      <td>986 INFUSION PHARMACY #1 INC</td>\n",
       "      <td>LSC 101414</td>\n",
       "      <td>STERILE COMPOUNDING PHARMACY</td>\n",
       "      <td>CLEAR</td>\n",
       "      <td>JULY 1, 2025</td>\n",
       "      <td>ANAHEIM</td>\n",
       "      <td>CALIFORNIA</td>\n",
       "      <td>ORANGE</td>\n",
       "      <td>92807</td>\n",
       "    </tr>\n",
       "    <tr>\n",
       "      <th>1</th>\n",
       "      <td>A &amp; O SPECIALTY PHARMACY</td>\n",
       "      <td>LSC 101817</td>\n",
       "      <td>STERILE COMPOUNDING PHARMACY</td>\n",
       "      <td>CLEAR</td>\n",
       "      <td>MARCH 1, 2025</td>\n",
       "      <td>SALINAS</td>\n",
       "      <td>CALIFORNIA</td>\n",
       "      <td>MONTEREY</td>\n",
       "      <td>93901</td>\n",
       "    </tr>\n",
       "    <tr>\n",
       "      <th>2</th>\n",
       "      <td>ACCREDO HEALTH GROUP INC</td>\n",
       "      <td>NSC 101280</td>\n",
       "      <td>NONRESIDENT STERILE COMPOUNDING PHARMACY</td>\n",
       "      <td>CLEAR</td>\n",
       "      <td>DECEMBER 1, 2025</td>\n",
       "      <td>WARRENDALE</td>\n",
       "      <td>PENNSYLVANIA</td>\n",
       "      <td>OUT OF STATE</td>\n",
       "      <td>15086</td>\n",
       "    </tr>\n",
       "    <tr>\n",
       "      <th>3</th>\n",
       "      <td>ACCREDO HEALTH GROUP INC</td>\n",
       "      <td>NSC 101279</td>\n",
       "      <td>NONRESIDENT STERILE COMPOUNDING PHARMACY</td>\n",
       "      <td>CLEAR</td>\n",
       "      <td>DECEMBER 1, 2025</td>\n",
       "      <td>ORLANDO</td>\n",
       "      <td>FLORIDA</td>\n",
       "      <td>OUT OF STATE</td>\n",
       "      <td>32822</td>\n",
       "    </tr>\n",
       "    <tr>\n",
       "      <th>4</th>\n",
       "      <td>ADVANCE CARE PHARMACY</td>\n",
       "      <td>LSC 99611</td>\n",
       "      <td>STERILE COMPOUNDING PHARMACY</td>\n",
       "      <td>CLEAR</td>\n",
       "      <td>JULY 1, 2025</td>\n",
       "      <td>ESCONDIDO</td>\n",
       "      <td>CALIFORNIA</td>\n",
       "      <td>SAN DIEGO</td>\n",
       "      <td>92025</td>\n",
       "    </tr>\n",
       "  </tbody>\n",
       "</table>\n",
       "</div>"
      ]
     },
     "execution_count": 22,
     "metadata": {},
     "output_type": "execute_result"
    }
   ],
   "execution_count": 22
  },
  {
   "metadata": {},
   "cell_type": "markdown",
   "source": [
    "## Inspect Pharmacy Data\n",
    "\n",
    "The below cells provide statistics and summaries of the entire dataset. "
   ],
   "id": "918a538e5df4cd46"
  },
  {
   "metadata": {
    "ExecuteTime": {
     "end_time": "2024-11-24T21:57:33.776002Z",
     "start_time": "2024-11-24T21:57:33.766823Z"
    }
   },
   "cell_type": "code",
   "source": [
    "#Review summary statistics for the numeric columns\n",
    "pharmacies.describe()"
   ],
   "id": "567e1aae64848c2b",
   "outputs": [
    {
     "data": {
      "text/plain": [
       "                Zip\n",
       "count   1680.000000\n",
       "mean   86952.050000\n",
       "std    21232.545579\n",
       "min    15086.000000\n",
       "25%    93000.500000\n",
       "50%    93301.000000\n",
       "75%    95370.000000\n",
       "max    95901.000000"
      ],
      "text/html": [
       "<div>\n",
       "<style scoped>\n",
       "    .dataframe tbody tr th:only-of-type {\n",
       "        vertical-align: middle;\n",
       "    }\n",
       "\n",
       "    .dataframe tbody tr th {\n",
       "        vertical-align: top;\n",
       "    }\n",
       "\n",
       "    .dataframe thead th {\n",
       "        text-align: right;\n",
       "    }\n",
       "</style>\n",
       "<table border=\"1\" class=\"dataframe\">\n",
       "  <thead>\n",
       "    <tr style=\"text-align: right;\">\n",
       "      <th></th>\n",
       "      <th>Zip</th>\n",
       "    </tr>\n",
       "  </thead>\n",
       "  <tbody>\n",
       "    <tr>\n",
       "      <th>count</th>\n",
       "      <td>1680.000000</td>\n",
       "    </tr>\n",
       "    <tr>\n",
       "      <th>mean</th>\n",
       "      <td>86952.050000</td>\n",
       "    </tr>\n",
       "    <tr>\n",
       "      <th>std</th>\n",
       "      <td>21232.545579</td>\n",
       "    </tr>\n",
       "    <tr>\n",
       "      <th>min</th>\n",
       "      <td>15086.000000</td>\n",
       "    </tr>\n",
       "    <tr>\n",
       "      <th>25%</th>\n",
       "      <td>93000.500000</td>\n",
       "    </tr>\n",
       "    <tr>\n",
       "      <th>50%</th>\n",
       "      <td>93301.000000</td>\n",
       "    </tr>\n",
       "    <tr>\n",
       "      <th>75%</th>\n",
       "      <td>95370.000000</td>\n",
       "    </tr>\n",
       "    <tr>\n",
       "      <th>max</th>\n",
       "      <td>95901.000000</td>\n",
       "    </tr>\n",
       "  </tbody>\n",
       "</table>\n",
       "</div>"
      ]
     },
     "execution_count": 23,
     "metadata": {},
     "output_type": "execute_result"
    }
   ],
   "execution_count": 23
  },
  {
   "metadata": {
    "ExecuteTime": {
     "end_time": "2024-11-24T21:57:37.957479Z",
     "start_time": "2024-11-24T21:57:37.948512Z"
    }
   },
   "cell_type": "code",
   "source": [
    "#Review datatypes and memory usage\n",
    "pharmacies.info()"
   ],
   "id": "c38fd8e021d62d09",
   "outputs": [
    {
     "name": "stdout",
     "output_type": "stream",
     "text": [
      "<class 'pandas.core.frame.DataFrame'>\n",
      "RangeIndex: 1680 entries, 0 to 1679\n",
      "Data columns (total 9 columns):\n",
      " #   Column           Non-Null Count  Dtype \n",
      "---  ------           --------------  ----- \n",
      " 0   Title            1680 non-null   object\n",
      " 1   License Number   1680 non-null   object\n",
      " 2   License Type     1680 non-null   object\n",
      " 3   License Status   1680 non-null   object\n",
      " 4   Expiration Date  1680 non-null   object\n",
      " 5   City             1680 non-null   object\n",
      " 6   State            1680 non-null   object\n",
      " 7   County           1680 non-null   object\n",
      " 8   Zip              1680 non-null   int64 \n",
      "dtypes: int64(1), object(8)\n",
      "memory usage: 118.3+ KB\n"
     ]
    }
   ],
   "execution_count": 24
  },
  {
   "metadata": {
    "ExecuteTime": {
     "end_time": "2024-11-24T21:58:27.757535Z",
     "start_time": "2024-11-24T21:58:27.752502Z"
    }
   },
   "cell_type": "code",
   "source": [
    "#Review unique titles in pharmacy table\n",
    "pharmacies['Title'].value_counts()"
   ],
   "id": "f12ca1d347a6c83c",
   "outputs": [
    {
     "data": {
      "text/plain": [
       "Title\n",
       "ACCREDO HEALTH GROUP INC                                             168\n",
       "ADVENTIST HEALTH SIMI VALLEY                                         168\n",
       "ADVENTIST HEALTH AND RIDEOUT                                         168\n",
       "986 INFUSION PHARMACY #1 INC                                          84\n",
       "ADVANCE CARE PHARMACY                                                 84\n",
       "ADVENTIST HEALTH AIS CANCER CENTER PHARMACY                           84\n",
       "ADVENTIST HEALTH BAKERSFIELD - HOSPITAL PHARMACY                      84\n",
       "ADVENTIST HEALTH DELANO                                               84\n",
       "A & O SPECIALTY PHARMACY                                              84\n",
       "ADVENTIST HEALTH GLENDALE                                             84\n",
       "ADVENTIST HEALTH HANFORD                                              84\n",
       "ADVENTIST HEALTH LODI MEMORIAL HOSPITAL PHARMACY 1STFLR NORTHWING     84\n",
       "ADVENTIST HEALTH HOWARD MEMORIAL                                      84\n",
       "ADVENTIST HEALTH MENDOCINO COAST                                      84\n",
       "ADVENTIST HEALTH SONORA                                               84\n",
       "ADVENTIST HEALTH SONORA-PHARMACY                                      84\n",
       "ADVENTIST HEALTH SPECIALTY BAKERSFIELD                                84\n",
       "Name: count, dtype: int64"
      ]
     },
     "execution_count": 30,
     "metadata": {},
     "output_type": "execute_result"
    }
   ],
   "execution_count": 30
  },
  {
   "metadata": {
    "ExecuteTime": {
     "end_time": "2024-11-24T21:57:54.699356Z",
     "start_time": "2024-11-24T21:57:54.694619Z"
    }
   },
   "cell_type": "code",
   "source": [
    "#Count any null values \n",
    "pharmacies.isnull().sum()"
   ],
   "id": "fb449950509ee9a6",
   "outputs": [
    {
     "data": {
      "text/plain": [
       "Title              0\n",
       "License Number     0\n",
       "License Type       0\n",
       "License Status     0\n",
       "Expiration Date    0\n",
       "City               0\n",
       "State              0\n",
       "County             0\n",
       "Zip                0\n",
       "dtype: int64"
      ]
     },
     "execution_count": 26,
     "metadata": {},
     "output_type": "execute_result"
    }
   ],
   "execution_count": 26
  },
  {
   "metadata": {},
   "cell_type": "markdown",
   "source": [
    "## Exploring the Pharmacy Data Visually\n",
    "\n",
    "The below cells are an initial analysis of the pharmacy data utilizing matplotlib.pyplot.  "
   ],
   "id": "59f81b89f315cf30"
  },
  {
   "metadata": {
    "ExecuteTime": {
     "end_time": "2024-11-24T22:01:48.574358Z",
     "start_time": "2024-11-24T22:01:48.494583Z"
    }
   },
   "cell_type": "code",
   "source": [
    "#Create a histogram of the License Type distribution\n",
    "pharmacies['License Type'].hist(bins=20)\n",
    "plt.title('Histogram of License Type')\n",
    "plt.xlabel('Type')\n",
    "plt.ylabel('Count')\n",
    "plt.show()"
   ],
   "id": "459fccc1d002438a",
   "outputs": [
    {
     "data": {
      "text/plain": [
       "<Figure size 640x480 with 1 Axes>"
      ],
      "image/png": "[encoded data removed]"
     },
     "metadata": {},
     "output_type": "display_data"
    }
   ],
   "execution_count": 32
  },
  {
   "metadata": {
    "ExecuteTime": {
     "end_time": "2024-11-24T21:58:07.857600Z",
     "start_time": "2024-11-24T21:58:07.788817Z"
    }
   },
   "cell_type": "code",
   "source": [
    "#Create a histogram of the License Status distribution\n",
    "pharmacies['License Status'].hist(bins=20)\n",
    "plt.title('Histogram of License Status')\n",
    "plt.xlabel('Status')\n",
    "plt.ylabel('Count')\n",
    "plt.show()"
   ],
   "id": "d844be90fc234452",
   "outputs": [
    {
     "data": {
      "text/plain": [
       "<Figure size 640x480 with 1 Axes>"
      ],
      "image/png": "[encoded data removed]"
     },
     "metadata": {},
     "output_type": "display_data"
    }
   ],
   "execution_count": 29
  },
  {
   "metadata": {
    "ExecuteTime": {
     "end_time": "2024-11-24T22:01:15.873582Z",
     "start_time": "2024-11-24T22:01:15.853645Z"
    }
   },
   "cell_type": "code",
   "source": [
    "license_number = 'LSC 101807'\n",
    "filtered_pharmacy = pharmacies[pharmacies['License Number'] == license_number]\n",
    "\n",
    "# Show the filtered pharmacy information\n",
    "print(filtered_pharmacy)"
   ],
   "id": "fc7498414c218830",
   "outputs": [
    {
     "name": "stdout",
     "output_type": "stream",
     "text": [
      "Empty DataFrame\n",
      "Columns: [Title, License Number, License Type, License Status, Expiration Date, City, State, County, Zip]\n",
      "Index: []\n"
     ]
    }
   ],
   "execution_count": 31
  },
  {
   "metadata": {},
   "cell_type": "code",
   "outputs": [],
   "execution_count": null,
   "source": "",
   "id": "d4f3e602196df4e3"
  }
 ],
 "metadata": {
  "kernelspec": {
   "display_name": "Python 3",
   "language": "python",
   "name": "python3"
  },
  "language_info": {
   "codemirror_mode": {
    "name": "ipython",
    "version": 2
   },
   "file_extension": ".py",
   "mimetype": "text/x-python",
   "name": "python",
   "nbconvert_exporter": "python",
   "pygments_lexer": "ipython2",
   "version": "2.7.6"
  }
 },
 "nbformat": 4,
 "nbformat_minor": 5
}
