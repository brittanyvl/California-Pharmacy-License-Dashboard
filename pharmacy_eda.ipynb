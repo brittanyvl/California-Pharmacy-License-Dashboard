{
 "cells": [
  {
   "metadata": {},
   "cell_type": "markdown",
   "source": [
    "# Exploratory Analysis of California State Board of Pharmacy Sterile Compounding Licenses\n",
    "\n",
    "The pharmacy data utilized in this analysis was retrieved from the California State Board of Pharmacy License Verification Database on 11/24/2024 at 2:53pm CST.  Please visit https://search.dca.ca.gov/results for more information. "
   ],
   "id": "917093db83f53ef8"
  },
  {
   "metadata": {},
   "cell_type": "markdown",
   "source": "## Notebook Setup",
   "id": "501a5603e676084d"
  },
  {
   "metadata": {
    "ExecuteTime": {
     "end_time": "2024-11-24T21:10:27.163498Z",
     "start_time": "2024-11-24T21:10:05.352248Z"
    }
   },
   "cell_type": "code",
   "source": "pip install matplotlib",
   "id": "8c3484bf414c1a74",
   "outputs": [
    {
     "name": "stdout",
     "output_type": "stream",
     "text": [
      "Collecting matplotlib\n",
      "  Downloading matplotlib-3.9.2-cp312-cp312-win_amd64.whl.metadata (11 kB)\n",
      "Collecting contourpy>=1.0.1 (from matplotlib)\n",
      "  Downloading contourpy-1.3.1-cp312-cp312-win_amd64.whl.metadata (5.4 kB)\n",
      "Collecting cycler>=0.10 (from matplotlib)\n",
      "  Downloading cycler-0.12.1-py3-none-any.whl.metadata (3.8 kB)\n",
      "Collecting fonttools>=4.22.0 (from matplotlib)\n",
      "  Downloading fonttools-4.55.0-cp312-cp312-win_amd64.whl.metadata (167 kB)\n",
      "     ---------------------------------------- 0.0/167.9 kB ? eta -:--:--\n",
      "     -- ------------------------------------- 10.2/167.9 kB ? eta -:--:--\n",
      "     --------------- --------------------- 71.7/167.9 kB 777.7 kB/s eta 0:00:01\n",
      "     -------------------------------------- 167.9/167.9 kB 1.4 MB/s eta 0:00:00\n",
      "Collecting kiwisolver>=1.3.1 (from matplotlib)\n",
      "  Downloading kiwisolver-1.4.7-cp312-cp312-win_amd64.whl.metadata (6.4 kB)\n",
      "Requirement already satisfied: numpy>=1.23 in c:\\users\\bvlma\\appdata\\local\\programs\\python\\python312\\lib\\site-packages (from matplotlib) (2.1.2)\n",
      "Requirement already satisfied: packaging>=20.0 in c:\\users\\bvlma\\appdata\\local\\programs\\python\\python312\\lib\\site-packages (from matplotlib) (24.0)\n",
      "Requirement already satisfied: pillow>=8 in c:\\users\\bvlma\\appdata\\local\\programs\\python\\python312\\lib\\site-packages (from matplotlib) (10.4.0)\n",
      "Collecting pyparsing>=2.3.1 (from matplotlib)\n",
      "  Downloading pyparsing-3.2.0-py3-none-any.whl.metadata (5.0 kB)\n",
      "Requirement already satisfied: python-dateutil>=2.7 in c:\\users\\bvlma\\appdata\\local\\programs\\python\\python312\\lib\\site-packages (from matplotlib) (2.9.0.post0)\n",
      "Requirement already satisfied: six>=1.5 in c:\\users\\bvlma\\appdata\\local\\programs\\python\\python312\\lib\\site-packages (from python-dateutil>=2.7->matplotlib) (1.16.0)\n",
      "Downloading matplotlib-3.9.2-cp312-cp312-win_amd64.whl (7.8 MB)\n",
      "   ---------------------------------------- 0.0/7.8 MB ? eta -:--:--\n",
      "   - -------------------------------------- 0.3/7.8 MB 10.9 MB/s eta 0:00:01\n",
      "   -------- ------------------------------- 1.6/7.8 MB 20.0 MB/s eta 0:00:01\n",
      "   -------------------- ------------------- 4.1/7.8 MB 32.4 MB/s eta 0:00:01\n",
      "   ---------------------------------------  7.7/7.8 MB 44.8 MB/s eta 0:00:01\n",
      "   ---------------------------------------- 7.8/7.8 MB 41.8 MB/s eta 0:00:00\n",
      "Downloading contourpy-1.3.1-cp312-cp312-win_amd64.whl (220 kB)\n",
      "   ---------------------------------------- 0.0/221.0 kB ? eta -:--:--\n",
      "   ---------------------------------------- 221.0/221.0 kB ? eta 0:00:00\n",
      "Downloading cycler-0.12.1-py3-none-any.whl (8.3 kB)\n",
      "Downloading fonttools-4.55.0-cp312-cp312-win_amd64.whl (2.2 MB)\n",
      "   ---------------------------------------- 0.0/2.2 MB ? eta -:--:--\n",
      "   ---------------------------------------- 2.2/2.2 MB 70.8 MB/s eta 0:00:00\n",
      "Downloading kiwisolver-1.4.7-cp312-cp312-win_amd64.whl (55 kB)\n",
      "   ---------------------------------------- 0.0/55.9 kB ? eta -:--:--\n",
      "   ---------------------------------------- 55.9/55.9 kB ? eta 0:00:00\n",
      "Downloading pyparsing-3.2.0-py3-none-any.whl (106 kB)\n",
      "   ---------------------------------------- 0.0/106.9 kB ? eta -:--:--\n",
      "   ---------------------------------------- 106.9/106.9 kB ? eta 0:00:00\n",
      "Installing collected packages: pyparsing, kiwisolver, fonttools, cycler, contourpy, matplotlib\n",
      "Successfully installed contourpy-1.3.1 cycler-0.12.1 fonttools-4.55.0 kiwisolver-1.4.7 matplotlib-3.9.2 pyparsing-3.2.0\n",
      "Note: you may need to restart the kernel to use updated packages.\n"
     ]
    },
    {
     "name": "stderr",
     "output_type": "stream",
     "text": [
      "\n",
      "[notice] A new release of pip is available: 24.0 -> 24.3.1\n",
      "[notice] To update, run: C:\\Users\\bvlma\\AppData\\Local\\Programs\\Python\\Python312\\python.exe -m pip install --upgrade pip\n"
     ]
    }
   ],
   "execution_count": 10
  },
  {
   "metadata": {
    "ExecuteTime": {
     "end_time": "2024-11-24T21:10:38.499239Z",
     "start_time": "2024-11-24T21:10:37.271569Z"
    }
   },
   "cell_type": "code",
   "source": [
    "import pandas as pd\n",
    "import numpy as np\n",
    "import matplotlib.pyplot as plt\n",
    "\n",
    "\n",
    "# Set pandas to display more rows/columns for wider dataframes\n",
    "pd.set_option('display.max_columns', None)  # Show all columns\n",
    "pd.set_option('display.max_rows', 100)     # Adjust rows\n",
    "pd.set_option('display.width', 1000)       # Increase width for better visibility\n",
    "\n",
    "#pd.reset_option('all') "
   ],
   "id": "220caaafb34d99b0",
   "outputs": [],
   "execution_count": 11
  },
  {
   "metadata": {},
   "cell_type": "markdown",
   "source": "## Load Pharmacy Data",
   "id": "147173345325c83a"
  },
  {
   "metadata": {
    "ExecuteTime": {
     "end_time": "2024-11-24T21:01:15.783831Z",
     "start_time": "2024-11-24T21:01:15.759889Z"
    }
   },
   "cell_type": "code",
   "source": [
    "pharmacies = pd.read_csv('pharmacy_data.csv')\n",
    "pharmacies.head()"
   ],
   "id": "1ebdc26e5b591f18",
   "outputs": [
    {
     "data": {
      "text/plain": [
       "                               Title License Number                                License Type             License Status                     Expiration Date                 City              State                 County         Zip\n",
       "0               3RD ST. YOUTH CLINIC       CLE 4375     LICENSE TYPE: CLINIC (GOVERNMENT OWNED)      LICENSE STATUS: CLEAR     EXPIRATION DATE: AUGUST 1, 2025  CITY: SAN FRANCISCO  STATE: CALIFORNIA  COUNTY: SAN FRANCISCO  ZIP: 94124\n",
       "1  5TH AVENUE PUBLIC HEALTH SERVICES       CLE 1391     LICENSE TYPE: CLINIC (GOVERNMENT OWNED)  LICENSE STATUS: CANCELLED   EXPIRATION DATE: NOVEMBER 1, 2006      CITY: SAN DIEGO  STATE: CALIFORNIA      COUNTY: SAN DIEGO  ZIP: 92103\n",
       "2            77TH STREET JAIL CLINIC       CLE 1310     LICENSE TYPE: CLINIC (GOVERNMENT OWNED)      LICENSE STATUS: CLEAR   EXPIRATION DATE: NOVEMBER 1, 2025    CITY: LOS ANGELES  STATE: CALIFORNIA    COUNTY: LOS ANGELES  ZIP: 90003\n",
       "3          ABAJIAN, HOURY BARSOUMIAN      APH 10319  LICENSE TYPE: ADVANCED PRACTICE PHARMACIST      LICENSE STATUS: CLEAR  EXPIRATION DATE: DECEMBER 31, 2026  CITY: BEVERLY HILLS  STATE: CALIFORNIA    COUNTY: LOS ANGELES  ZIP: 90210\n",
       "4                 ABASI, RABIE NIDAL      APH 11380  LICENSE TYPE: ADVANCED PRACTICE PHARMACIST      LICENSE STATUS: CLEAR   EXPIRATION DATE: OCTOBER 31, 2025         CITY: SANTEE  STATE: CALIFORNIA      COUNTY: SAN DIEGO  ZIP: 92071"
      ],
      "text/html": [
       "<div>\n",
       "<style scoped>\n",
       "    .dataframe tbody tr th:only-of-type {\n",
       "        vertical-align: middle;\n",
       "    }\n",
       "\n",
       "    .dataframe tbody tr th {\n",
       "        vertical-align: top;\n",
       "    }\n",
       "\n",
       "    .dataframe thead th {\n",
       "        text-align: right;\n",
       "    }\n",
       "</style>\n",
       "<table border=\"1\" class=\"dataframe\">\n",
       "  <thead>\n",
       "    <tr style=\"text-align: right;\">\n",
       "      <th></th>\n",
       "      <th>Title</th>\n",
       "      <th>License Number</th>\n",
       "      <th>License Type</th>\n",
       "      <th>License Status</th>\n",
       "      <th>Expiration Date</th>\n",
       "      <th>City</th>\n",
       "      <th>State</th>\n",
       "      <th>County</th>\n",
       "      <th>Zip</th>\n",
       "    </tr>\n",
       "  </thead>\n",
       "  <tbody>\n",
       "    <tr>\n",
       "      <th>0</th>\n",
       "      <td>3RD ST. YOUTH CLINIC</td>\n",
       "      <td>CLE 4375</td>\n",
       "      <td>LICENSE TYPE: CLINIC (GOVERNMENT OWNED)</td>\n",
       "      <td>LICENSE STATUS: CLEAR</td>\n",
       "      <td>EXPIRATION DATE: AUGUST 1, 2025</td>\n",
       "      <td>CITY: SAN FRANCISCO</td>\n",
       "      <td>STATE: CALIFORNIA</td>\n",
       "      <td>COUNTY: SAN FRANCISCO</td>\n",
       "      <td>ZIP: 94124</td>\n",
       "    </tr>\n",
       "    <tr>\n",
       "      <th>1</th>\n",
       "      <td>5TH AVENUE PUBLIC HEALTH SERVICES</td>\n",
       "      <td>CLE 1391</td>\n",
       "      <td>LICENSE TYPE: CLINIC (GOVERNMENT OWNED)</td>\n",
       "      <td>LICENSE STATUS: CANCELLED</td>\n",
       "      <td>EXPIRATION DATE: NOVEMBER 1, 2006</td>\n",
       "      <td>CITY: SAN DIEGO</td>\n",
       "      <td>STATE: CALIFORNIA</td>\n",
       "      <td>COUNTY: SAN DIEGO</td>\n",
       "      <td>ZIP: 92103</td>\n",
       "    </tr>\n",
       "    <tr>\n",
       "      <th>2</th>\n",
       "      <td>77TH STREET JAIL CLINIC</td>\n",
       "      <td>CLE 1310</td>\n",
       "      <td>LICENSE TYPE: CLINIC (GOVERNMENT OWNED)</td>\n",
       "      <td>LICENSE STATUS: CLEAR</td>\n",
       "      <td>EXPIRATION DATE: NOVEMBER 1, 2025</td>\n",
       "      <td>CITY: LOS ANGELES</td>\n",
       "      <td>STATE: CALIFORNIA</td>\n",
       "      <td>COUNTY: LOS ANGELES</td>\n",
       "      <td>ZIP: 90003</td>\n",
       "    </tr>\n",
       "    <tr>\n",
       "      <th>3</th>\n",
       "      <td>ABAJIAN, HOURY BARSOUMIAN</td>\n",
       "      <td>APH 10319</td>\n",
       "      <td>LICENSE TYPE: ADVANCED PRACTICE PHARMACIST</td>\n",
       "      <td>LICENSE STATUS: CLEAR</td>\n",
       "      <td>EXPIRATION DATE: DECEMBER 31, 2026</td>\n",
       "      <td>CITY: BEVERLY HILLS</td>\n",
       "      <td>STATE: CALIFORNIA</td>\n",
       "      <td>COUNTY: LOS ANGELES</td>\n",
       "      <td>ZIP: 90210</td>\n",
       "    </tr>\n",
       "    <tr>\n",
       "      <th>4</th>\n",
       "      <td>ABASI, RABIE NIDAL</td>\n",
       "      <td>APH 11380</td>\n",
       "      <td>LICENSE TYPE: ADVANCED PRACTICE PHARMACIST</td>\n",
       "      <td>LICENSE STATUS: CLEAR</td>\n",
       "      <td>EXPIRATION DATE: OCTOBER 31, 2025</td>\n",
       "      <td>CITY: SANTEE</td>\n",
       "      <td>STATE: CALIFORNIA</td>\n",
       "      <td>COUNTY: SAN DIEGO</td>\n",
       "      <td>ZIP: 92071</td>\n",
       "    </tr>\n",
       "  </tbody>\n",
       "</table>\n",
       "</div>"
      ]
     },
     "execution_count": 4,
     "metadata": {},
     "output_type": "execute_result"
    }
   ],
   "execution_count": 4
  },
  {
   "metadata": {},
   "cell_type": "markdown",
   "source": [
    "## Inspect Pharmacy Data\n",
    "\n",
    "The below cells provide statistics and summaries of the entire dataset. "
   ],
   "id": "918a538e5df4cd46"
  },
  {
   "metadata": {
    "ExecuteTime": {
     "end_time": "2024-11-24T21:03:37.811480Z",
     "start_time": "2024-11-24T21:03:37.794713Z"
    }
   },
   "cell_type": "code",
   "source": [
    "#Review summary statistics for the numeric columns\n",
    "pharmacies.describe()"
   ],
   "id": "567e1aae64848c2b",
   "outputs": [
    {
     "data": {
      "text/plain": [
       "                       Title License Number                                License Type         License Status                    Expiration Date             City              State               County         Zip\n",
       "count                   2000           2000                                        2000                   2000                               2000             2000               2000                 2000        2000\n",
       "unique                    20             20                                           2                      3                                 14               17                  1                   10          19\n",
       "top     3RD ST. YOUTH CLINIC       CLE 4375  LICENSE TYPE: ADVANCED PRACTICE PHARMACIST  LICENSE STATUS: CLEAR  EXPIRATION DATE: NOVEMBER 1, 2025  CITY: SAN DIEGO  STATE: CALIFORNIA  COUNTY: LOS ANGELES  ZIP: 92103\n",
       "freq                     100            100                                        1400                   1700                                300              300               2000                  600         200"
      ],
      "text/html": [
       "<div>\n",
       "<style scoped>\n",
       "    .dataframe tbody tr th:only-of-type {\n",
       "        vertical-align: middle;\n",
       "    }\n",
       "\n",
       "    .dataframe tbody tr th {\n",
       "        vertical-align: top;\n",
       "    }\n",
       "\n",
       "    .dataframe thead th {\n",
       "        text-align: right;\n",
       "    }\n",
       "</style>\n",
       "<table border=\"1\" class=\"dataframe\">\n",
       "  <thead>\n",
       "    <tr style=\"text-align: right;\">\n",
       "      <th></th>\n",
       "      <th>Title</th>\n",
       "      <th>License Number</th>\n",
       "      <th>License Type</th>\n",
       "      <th>License Status</th>\n",
       "      <th>Expiration Date</th>\n",
       "      <th>City</th>\n",
       "      <th>State</th>\n",
       "      <th>County</th>\n",
       "      <th>Zip</th>\n",
       "    </tr>\n",
       "  </thead>\n",
       "  <tbody>\n",
       "    <tr>\n",
       "      <th>count</th>\n",
       "      <td>2000</td>\n",
       "      <td>2000</td>\n",
       "      <td>2000</td>\n",
       "      <td>2000</td>\n",
       "      <td>2000</td>\n",
       "      <td>2000</td>\n",
       "      <td>2000</td>\n",
       "      <td>2000</td>\n",
       "      <td>2000</td>\n",
       "    </tr>\n",
       "    <tr>\n",
       "      <th>unique</th>\n",
       "      <td>20</td>\n",
       "      <td>20</td>\n",
       "      <td>2</td>\n",
       "      <td>3</td>\n",
       "      <td>14</td>\n",
       "      <td>17</td>\n",
       "      <td>1</td>\n",
       "      <td>10</td>\n",
       "      <td>19</td>\n",
       "    </tr>\n",
       "    <tr>\n",
       "      <th>top</th>\n",
       "      <td>3RD ST. YOUTH CLINIC</td>\n",
       "      <td>CLE 4375</td>\n",
       "      <td>LICENSE TYPE: ADVANCED PRACTICE PHARMACIST</td>\n",
       "      <td>LICENSE STATUS: CLEAR</td>\n",
       "      <td>EXPIRATION DATE: NOVEMBER 1, 2025</td>\n",
       "      <td>CITY: SAN DIEGO</td>\n",
       "      <td>STATE: CALIFORNIA</td>\n",
       "      <td>COUNTY: LOS ANGELES</td>\n",
       "      <td>ZIP: 92103</td>\n",
       "    </tr>\n",
       "    <tr>\n",
       "      <th>freq</th>\n",
       "      <td>100</td>\n",
       "      <td>100</td>\n",
       "      <td>1400</td>\n",
       "      <td>1700</td>\n",
       "      <td>300</td>\n",
       "      <td>300</td>\n",
       "      <td>2000</td>\n",
       "      <td>600</td>\n",
       "      <td>200</td>\n",
       "    </tr>\n",
       "  </tbody>\n",
       "</table>\n",
       "</div>"
      ]
     },
     "execution_count": 5,
     "metadata": {},
     "output_type": "execute_result"
    }
   ],
   "execution_count": 5
  },
  {
   "metadata": {
    "ExecuteTime": {
     "end_time": "2024-11-24T21:04:27.226584Z",
     "start_time": "2024-11-24T21:04:27.208952Z"
    }
   },
   "cell_type": "code",
   "source": [
    "#Review datatypes and memory usage\n",
    "pharmacies.info()"
   ],
   "id": "c38fd8e021d62d09",
   "outputs": [
    {
     "name": "stdout",
     "output_type": "stream",
     "text": [
      "<class 'pandas.core.frame.DataFrame'>\n",
      "RangeIndex: 2000 entries, 0 to 1999\n",
      "Data columns (total 9 columns):\n",
      " #   Column           Non-Null Count  Dtype \n",
      "---  ------           --------------  ----- \n",
      " 0   Title            2000 non-null   object\n",
      " 1   License Number   2000 non-null   object\n",
      " 2   License Type     2000 non-null   object\n",
      " 3   License Status   2000 non-null   object\n",
      " 4   Expiration Date  2000 non-null   object\n",
      " 5   City             2000 non-null   object\n",
      " 6   State            2000 non-null   object\n",
      " 7   County           2000 non-null   object\n",
      " 8   Zip              2000 non-null   object\n",
      "dtypes: object(9)\n",
      "memory usage: 140.8+ KB\n"
     ]
    }
   ],
   "execution_count": 6
  },
  {
   "metadata": {
    "ExecuteTime": {
     "end_time": "2024-11-24T21:05:12.696912Z",
     "start_time": "2024-11-24T21:05:12.690904Z"
    }
   },
   "cell_type": "code",
   "source": [
    "#Review unique titles in pharmacy table\n",
    "pharmacies['Title'].value_counts()"
   ],
   "id": "f12ca1d347a6c83c",
   "outputs": [
    {
     "data": {
      "text/plain": [
       "Title\n",
       "3RD ST. YOUTH CLINIC                 100\n",
       "5TH AVENUE PUBLIC HEALTH SERVICES    100\n",
       "77TH STREET JAIL CLINIC              100\n",
       "ABAJIAN, HOURY BARSOUMIAN            100\n",
       "ABASI, RABIE NIDAL                   100\n",
       "ABBAS, SHAIDA MOHAMMAD               100\n",
       "ABDUL NOUR, CHADI                    100\n",
       "ABOU-KARAM, NADA MOHAMED             100\n",
       "ABRAHAM, JESSICA MARELENE            100\n",
       "ABRAHAM, JOSEPH EMAD                 100\n",
       "ADAMIAN, ANNA MARIE                  100\n",
       "ADAMS, LISA JEAN                     100\n",
       "ADAMS, MICHAEL DON                   100\n",
       "ADAMS, PETRA INES                    100\n",
       "ADELANTO COMMUNITY HEALTH CENTER     100\n",
       "ADULT MEDICATION CLINIC              100\n",
       "ADULT URGENT CARE CENTER             100\n",
       "AFSHAR, ANAHITA                      100\n",
       "AFZAL, SHAMA PELWASHA                100\n",
       "AGHAJANIAN, BERSABEH                 100\n",
       "Name: count, dtype: int64"
      ]
     },
     "execution_count": 7,
     "metadata": {},
     "output_type": "execute_result"
    }
   ],
   "execution_count": 7
  },
  {
   "metadata": {
    "ExecuteTime": {
     "end_time": "2024-11-24T21:06:40.944797Z",
     "start_time": "2024-11-24T21:06:40.939175Z"
    }
   },
   "cell_type": "code",
   "source": [
    "#Count any null values \n",
    "pharmacies.isnull().sum()"
   ],
   "id": "fb449950509ee9a6",
   "outputs": [
    {
     "data": {
      "text/plain": [
       "Title              0\n",
       "License Number     0\n",
       "License Type       0\n",
       "License Status     0\n",
       "Expiration Date    0\n",
       "City               0\n",
       "State              0\n",
       "County             0\n",
       "Zip                0\n",
       "dtype: int64"
      ]
     },
     "execution_count": 8,
     "metadata": {},
     "output_type": "execute_result"
    }
   ],
   "execution_count": 8
  },
  {
   "metadata": {},
   "cell_type": "markdown",
   "source": [
    "## Exploring the Pharmacy Data Visually\n",
    "\n",
    "The below cells are an initial analysis of the pharmacy data utilizing matplotlib.pyplot.  "
   ],
   "id": "59f81b89f315cf30"
  },
  {
   "metadata": {
    "ExecuteTime": {
     "end_time": "2024-11-24T21:12:14.309183Z",
     "start_time": "2024-11-24T21:12:14.098568Z"
    }
   },
   "cell_type": "code",
   "source": [
    "#Create a histogram of the License Type distribution\n",
    "pharmacies['License Type'].hist(bins=20)\n",
    "plt.title('Histogram of License Type')\n",
    "plt.xlabel('Type')\n",
    "plt.ylabel('Count')\n",
    "plt.show()"
   ],
   "id": "459fccc1d002438a",
   "outputs": [
    {
     "data": {
      "text/plain": [
       "<Figure size 640x480 with 1 Axes>"
      ],
      "image/png": "[encoded data removed]"
     },
     "metadata": {},
     "output_type": "display_data"
    }
   ],
   "execution_count": 12
  },
  {
   "metadata": {
    "ExecuteTime": {
     "end_time": "2024-11-24T21:13:09.776538Z",
     "start_time": "2024-11-24T21:13:09.682437Z"
    }
   },
   "cell_type": "code",
   "source": [
    "#Create a histogram of the License Status distribution\n",
    "pharmacies['License Status'].hist(bins=20)\n",
    "plt.title('Histogram of License Status')\n",
    "plt.xlabel('Status')\n",
    "plt.ylabel('Count')\n",
    "plt.show()"
   ],
   "id": "d844be90fc234452",
   "outputs": [
    {
     "data": {
      "text/plain": [
       "<Figure size 640x480 with 1 Axes>"
      ],
      "image/png": "[encoded data removed]"
     },
     "metadata": {},
     "output_type": "display_data"
    }
   ],
   "execution_count": 13
  },
  {
   "metadata": {},
   "cell_type": "code",
   "outputs": [],
   "execution_count": null,
   "source": "",
   "id": "fc7498414c218830"
  }
 ],
 "metadata": {
  "kernelspec": {
   "display_name": "Python 3",
   "language": "python",
   "name": "python3"
  },
  "language_info": {
   "codemirror_mode": {
    "name": "ipython",
    "version": 2
   },
   "file_extension": ".py",
   "mimetype": "text/x-python",
   "name": "python",
   "nbconvert_exporter": "python",
   "pygments_lexer": "ipython2",
   "version": "2.7.6"
  }
 },
 "nbformat": 4,
 "nbformat_minor": 5
}
