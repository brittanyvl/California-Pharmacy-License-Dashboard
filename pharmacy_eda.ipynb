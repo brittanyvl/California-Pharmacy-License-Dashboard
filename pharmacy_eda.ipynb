{
 "cells": [
  {
   "metadata": {},
   "cell_type": "markdown",
   "source": [
    "# Exploratory Analysis of California State Board of Pharmacy Sterile Compounding Licenses\n",
    "\n",
    "The pharmacy data utilized in this analysis was retrieved from the California State Board of Pharmacy License Verification Database on 11/24/2024 at 2:53pm CST.  Please visit https://search.dca.ca.gov/results for more information. "
   ],
   "id": "917093db83f53ef8"
  },
  {
   "metadata": {},
   "cell_type": "markdown",
   "source": "## Notebook Setup",
   "id": "501a5603e676084d"
  },
  {
   "metadata": {},
   "cell_type": "code",
   "source": "pip install matplotlib",
   "id": "8c3484bf414c1a74",
   "outputs": [],
   "execution_count": null
  },
  {
   "metadata": {},
   "cell_type": "code",
   "source": [
    "import pandas as pd\n",
    "import matplotlib.pyplot as plt\n",
    "\n",
    "\n",
    "# Set pandas to display more rows/columns for wider dataframes\n",
    "pd.set_option('display.max_columns', None)  # Show all columns\n",
    "pd.set_option('display.max_rows', 100)     # Adjust rows\n",
    "pd.set_option('display.width', 1000)       # Increase width for better visibility\n",
    "\n",
    "#pd.reset_option('all') "
   ],
   "id": "220caaafb34d99b0",
   "outputs": [],
   "execution_count": null
  },
  {
   "metadata": {},
   "cell_type": "markdown",
   "source": "## Load Pharmacy Data",
   "id": "147173345325c83a"
  },
  {
   "metadata": {},
   "cell_type": "code",
   "source": [
    "pharmacies = pd.read_csv('pharmacies_attempt6.csv')\n",
    "pharmacies.head()\n",
    "\n",
    "#Drop Duplicates\n",
    "pharmacies = pharmacies.drop_duplicates()"
   ],
   "id": "1ebdc26e5b591f18",
   "outputs": [],
   "execution_count": null
  },
  {
   "metadata": {},
   "cell_type": "markdown",
   "source": [
    "## Inspect Pharmacy Data\n",
    "\n",
    "The below cells provide statistics and summaries of the entire dataset. "
   ],
   "id": "918a538e5df4cd46"
  },
  {
   "metadata": {},
   "cell_type": "code",
   "outputs": [],
   "execution_count": null,
   "source": [
    "#Review duplicate rows\n",
    "duplicates = pharmacies.duplicated()\n",
    "duplicates.head()"
   ],
   "id": "de8f47c00cd90f6e"
  },
  {
   "metadata": {},
   "cell_type": "code",
   "source": [
    "#Review summary statistics for the numeric columns\n",
    "pharmacies.describe()"
   ],
   "id": "567e1aae64848c2b",
   "outputs": [],
   "execution_count": null
  },
  {
   "metadata": {},
   "cell_type": "code",
   "source": [
    "#Review datatypes and memory usage\n",
    "pharmacies.info()"
   ],
   "id": "c38fd8e021d62d09",
   "outputs": [],
   "execution_count": null
  },
  {
   "metadata": {},
   "cell_type": "code",
   "outputs": [],
   "execution_count": null,
   "source": [
    "#Inspect datatypes\n",
    "pharmacies.dtypes()"
   ],
   "id": "8e83ca9fd326ca1c"
  },
  {
   "metadata": {},
   "cell_type": "code",
   "source": [
    "#Review unique titles in pharmacy table\n",
    "pharmacies['Title'].value_counts()"
   ],
   "id": "f12ca1d347a6c83c",
   "outputs": [],
   "execution_count": null
  },
  {
   "metadata": {},
   "cell_type": "code",
   "source": [
    "#Count any null values \n",
    "pharmacies.isnull().sum()"
   ],
   "id": "fb449950509ee9a6",
   "outputs": [],
   "execution_count": null
  },
  {
   "metadata": {},
   "cell_type": "markdown",
   "source": [
    "## Exploring the Pharmacy Data Visually\n",
    "\n",
    "The below cells are an initial analysis of the pharmacy data utilizing matplotlib.pyplot.  "
   ],
   "id": "59f81b89f315cf30"
  },
  {
   "metadata": {},
   "cell_type": "code",
   "source": [
    "#Create a histogram of the License Type distribution\n",
    "pharmacies['License Type'].hist(bins=20)\n",
    "plt.title('Histogram of License Type')\n",
    "plt.xlabel('Type')\n",
    "plt.ylabel('Count')\n",
    "plt.show()"
   ],
   "id": "459fccc1d002438a",
   "outputs": [],
   "execution_count": null
  },
  {
   "metadata": {},
   "cell_type": "code",
   "source": [
    "#Create a histogram of the License Status distribution\n",
    "pharmacies['License Status'].hist(bins=20)\n",
    "plt.title('Histogram of License Status')\n",
    "plt.xlabel('Status')\n",
    "plt.ylabel('Count')\n",
    "plt.show()"
   ],
   "id": "d844be90fc234452",
   "outputs": [],
   "execution_count": null
  },
  {
   "metadata": {},
   "cell_type": "code",
   "source": [
    "license_number = 'LSC 101414'\n",
    "filtered_pharmacy = pharmacies[pharmacies['License Number'] == license_number]\n",
    "\n",
    "# Show the filtered pharmacy information\n",
    "filtered_pharmacy"
   ],
   "id": "fc7498414c218830",
   "outputs": [],
   "execution_count": null
  },
  {
   "metadata": {},
   "cell_type": "code",
   "source": "pharmacies",
   "id": "d4f3e602196df4e3",
   "outputs": [],
   "execution_count": null
  },
  {
   "metadata": {},
   "cell_type": "code",
   "source": "",
   "id": "f8bdb2acd3cbd725",
   "outputs": [],
   "execution_count": null
  }
 ],
 "metadata": {
  "kernelspec": {
   "display_name": "Python 3",
   "language": "python",
   "name": "python3"
  },
  "language_info": {
   "codemirror_mode": {
    "name": "ipython",
    "version": 2
   },
   "file_extension": ".py",
   "mimetype": "text/x-python",
   "name": "python",
   "nbconvert_exporter": "python",
   "pygments_lexer": "ipython2",
   "version": "2.7.6"
  }
 },
 "nbformat": 4,
 "nbformat_minor": 5
}
