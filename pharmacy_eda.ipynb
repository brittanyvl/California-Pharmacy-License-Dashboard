{
 "cells": [
  {
   "metadata": {},
   "cell_type": "markdown",
   "source": [
    "# Exploratory Analysis of California State Board of Pharmacy Sterile Compounding Licenses\n",
    "\n",
    "The pharmacy data utilized in this analysis was retrieved from the California State Board of Pharmacy License Verification Database on 11/24/2024 at 2:53pm CST.  Please visit https://search.dca.ca.gov/results for more information. "
   ],
   "id": "917093db83f53ef8"
  },
  {
   "metadata": {},
   "cell_type": "markdown",
   "source": "## Notebook Setup",
   "id": "501a5603e676084d"
  },
  {
   "metadata": {},
   "cell_type": "code",
   "source": "pip install matplotlib",
   "id": "8c3484bf414c1a74",
   "outputs": [],
   "execution_count": null
  },
  {
   "metadata": {},
   "cell_type": "code",
   "source": [
    "import pandas as pd\n",
    "import matplotlib.pyplot as plt\n",
    "\n",
    "\n",
    "# Set pandas to display more rows/columns for wider dataframes\n",
    "pd.set_option('display.max_columns', None)  # Show all columns\n",
    "pd.set_option('display.max_rows', 100)     # Adjust rows\n",
    "pd.set_option('display.width', 1000)       # Increase width for better visibility\n",
    "\n",
    "#pd.reset_option('all') "
   ],
   "id": "220caaafb34d99b0",
   "outputs": [],
   "execution_count": null
  },
  {
   "metadata": {},
   "cell_type": "markdown",
   "source": "## Load Pharmacy Data",
   "id": "147173345325c83a"
  },
  {
   "metadata": {
    "ExecuteTime": {
     "end_time": "2024-11-25T04:44:04.082049Z",
     "start_time": "2024-11-25T04:44:03.981930Z"
    }
   },
   "cell_type": "code",
   "source": [
    "pharmacies = pd.read_csv('attempt_19.csv')\n",
    "pharmacies.head()\n",
    "\n",
    "#Drop Duplicates\n",
    "pharmacies = pharmacies.drop_duplicates()"
   ],
   "id": "1ebdc26e5b591f18",
   "outputs": [],
   "execution_count": 48
  },
  {
   "metadata": {},
   "cell_type": "markdown",
   "source": [
    "## Inspect Pharmacy Data\n",
    "\n",
    "The below cells provide statistics and summaries of the entire dataset. "
   ],
   "id": "918a538e5df4cd46"
  },
  {
   "metadata": {
    "ExecuteTime": {
     "end_time": "2024-11-25T04:44:08.965268Z",
     "start_time": "2024-11-25T04:44:08.951591Z"
    }
   },
   "cell_type": "code",
   "source": [
    "#Review duplicate rows\n",
    "duplicates = pharmacies.duplicated()\n",
    "duplicates.head()"
   ],
   "id": "de8f47c00cd90f6e",
   "outputs": [
    {
     "data": {
      "text/plain": [
       "0    False\n",
       "1    False\n",
       "2    False\n",
       "3    False\n",
       "4    False\n",
       "dtype: bool"
      ]
     },
     "execution_count": 49,
     "metadata": {},
     "output_type": "execute_result"
    }
   ],
   "execution_count": 49
  },
  {
   "metadata": {
    "ExecuteTime": {
     "end_time": "2024-11-25T04:44:11.560550Z",
     "start_time": "2024-11-25T04:44:11.537302Z"
    }
   },
   "cell_type": "code",
   "source": [
    "#Review summary statistics for the numeric columns\n",
    "pharmacies.describe()"
   ],
   "id": "567e1aae64848c2b",
   "outputs": [
    {
     "data": {
      "text/plain": [
       "                Zip\n",
       "count    845.000000\n",
       "mean   90378.297041\n",
       "std    12635.391128\n",
       "min     1922.000000\n",
       "25%    91360.000000\n",
       "50%    92651.000000\n",
       "75%    94509.000000\n",
       "max    98057.000000"
      ],
      "text/html": [
       "<div>\n",
       "<style scoped>\n",
       "    .dataframe tbody tr th:only-of-type {\n",
       "        vertical-align: middle;\n",
       "    }\n",
       "\n",
       "    .dataframe tbody tr th {\n",
       "        vertical-align: top;\n",
       "    }\n",
       "\n",
       "    .dataframe thead th {\n",
       "        text-align: right;\n",
       "    }\n",
       "</style>\n",
       "<table border=\"1\" class=\"dataframe\">\n",
       "  <thead>\n",
       "    <tr style=\"text-align: right;\">\n",
       "      <th></th>\n",
       "      <th>Zip</th>\n",
       "    </tr>\n",
       "  </thead>\n",
       "  <tbody>\n",
       "    <tr>\n",
       "      <th>count</th>\n",
       "      <td>845.000000</td>\n",
       "    </tr>\n",
       "    <tr>\n",
       "      <th>mean</th>\n",
       "      <td>90378.297041</td>\n",
       "    </tr>\n",
       "    <tr>\n",
       "      <th>std</th>\n",
       "      <td>12635.391128</td>\n",
       "    </tr>\n",
       "    <tr>\n",
       "      <th>min</th>\n",
       "      <td>1922.000000</td>\n",
       "    </tr>\n",
       "    <tr>\n",
       "      <th>25%</th>\n",
       "      <td>91360.000000</td>\n",
       "    </tr>\n",
       "    <tr>\n",
       "      <th>50%</th>\n",
       "      <td>92651.000000</td>\n",
       "    </tr>\n",
       "    <tr>\n",
       "      <th>75%</th>\n",
       "      <td>94509.000000</td>\n",
       "    </tr>\n",
       "    <tr>\n",
       "      <th>max</th>\n",
       "      <td>98057.000000</td>\n",
       "    </tr>\n",
       "  </tbody>\n",
       "</table>\n",
       "</div>"
      ]
     },
     "execution_count": 50,
     "metadata": {},
     "output_type": "execute_result"
    }
   ],
   "execution_count": 50
  },
  {
   "metadata": {
    "ExecuteTime": {
     "end_time": "2024-11-25T04:44:14.967454Z",
     "start_time": "2024-11-25T04:44:14.947816Z"
    }
   },
   "cell_type": "code",
   "source": [
    "#Review datatypes and memory usage\n",
    "pharmacies.info()"
   ],
   "id": "c38fd8e021d62d09",
   "outputs": [
    {
     "name": "stdout",
     "output_type": "stream",
     "text": [
      "<class 'pandas.core.frame.DataFrame'>\n",
      "RangeIndex: 846 entries, 0 to 845\n",
      "Data columns (total 10 columns):\n",
      " #   Column                                       Non-Null Count  Dtype  \n",
      "---  ------                                       --------------  -----  \n",
      " 0   Pharmacy Name                                846 non-null    object \n",
      " 1   License Number                               845 non-null    object \n",
      " 2   License Type                                 845 non-null    object \n",
      " 3   License Status                               845 non-null    object \n",
      " 4   Expiration Date                              845 non-null    object \n",
      " 5   City                                         845 non-null    object \n",
      " 6   State                                        845 non-null    object \n",
      " 7   County                                       845 non-null    object \n",
      " 8   Zip                                          845 non-null    float64\n",
      " 9   CEDARS-SINAI MEDICAL CENTER -4TH FLOOR MAIN  1 non-null      object \n",
      "dtypes: float64(1), object(9)\n",
      "memory usage: 66.2+ KB\n"
     ]
    }
   ],
   "execution_count": 51
  },
  {
   "metadata": {
    "ExecuteTime": {
     "end_time": "2024-11-25T04:44:17.956524Z",
     "start_time": "2024-11-25T04:44:17.771868Z"
    }
   },
   "cell_type": "code",
   "source": [
    "#Inspect datatypes\n",
    "pharmacies.dtypes()"
   ],
   "id": "8e83ca9fd326ca1c",
   "outputs": [
    {
     "ename": "TypeError",
     "evalue": "'Series' object is not callable",
     "output_type": "error",
     "traceback": [
      "\u001B[1;31m---------------------------------------------------------------------------\u001B[0m",
      "\u001B[1;31mTypeError\u001B[0m                                 Traceback (most recent call last)",
      "Cell \u001B[1;32mIn[52], line 2\u001B[0m\n\u001B[0;32m      1\u001B[0m \u001B[38;5;66;03m#Inspect datatypes\u001B[39;00m\n\u001B[1;32m----> 2\u001B[0m \u001B[43mpharmacies\u001B[49m\u001B[38;5;241;43m.\u001B[39;49m\u001B[43mdtypes\u001B[49m\u001B[43m(\u001B[49m\u001B[43m)\u001B[49m\n",
      "\u001B[1;31mTypeError\u001B[0m: 'Series' object is not callable"
     ]
    }
   ],
   "execution_count": 52
  },
  {
   "metadata": {
    "ExecuteTime": {
     "end_time": "2024-11-25T04:44:21.032555Z",
     "start_time": "2024-11-25T04:44:20.333656Z"
    }
   },
   "cell_type": "code",
   "source": [
    "#Review unique titles in pharmacy table\n",
    "pharmacies['Title'].value_counts()"
   ],
   "id": "f12ca1d347a6c83c",
   "outputs": [
    {
     "ename": "KeyError",
     "evalue": "'Title'",
     "output_type": "error",
     "traceback": [
      "\u001B[1;31m---------------------------------------------------------------------------\u001B[0m",
      "\u001B[1;31mKeyError\u001B[0m                                  Traceback (most recent call last)",
      "File \u001B[1;32m~\\AppData\\Local\\Programs\\Python\\Python312\\Lib\\site-packages\\pandas\\core\\indexes\\base.py:3805\u001B[0m, in \u001B[0;36mIndex.get_loc\u001B[1;34m(self, key)\u001B[0m\n\u001B[0;32m   3804\u001B[0m \u001B[38;5;28;01mtry\u001B[39;00m:\n\u001B[1;32m-> 3805\u001B[0m     \u001B[38;5;28;01mreturn\u001B[39;00m \u001B[38;5;28;43mself\u001B[39;49m\u001B[38;5;241;43m.\u001B[39;49m\u001B[43m_engine\u001B[49m\u001B[38;5;241;43m.\u001B[39;49m\u001B[43mget_loc\u001B[49m\u001B[43m(\u001B[49m\u001B[43mcasted_key\u001B[49m\u001B[43m)\u001B[49m\n\u001B[0;32m   3806\u001B[0m \u001B[38;5;28;01mexcept\u001B[39;00m \u001B[38;5;167;01mKeyError\u001B[39;00m \u001B[38;5;28;01mas\u001B[39;00m err:\n",
      "File \u001B[1;32mindex.pyx:167\u001B[0m, in \u001B[0;36mpandas._libs.index.IndexEngine.get_loc\u001B[1;34m()\u001B[0m\n",
      "File \u001B[1;32mindex.pyx:196\u001B[0m, in \u001B[0;36mpandas._libs.index.IndexEngine.get_loc\u001B[1;34m()\u001B[0m\n",
      "File \u001B[1;32mpandas\\\\_libs\\\\hashtable_class_helper.pxi:7081\u001B[0m, in \u001B[0;36mpandas._libs.hashtable.PyObjectHashTable.get_item\u001B[1;34m()\u001B[0m\n",
      "File \u001B[1;32mpandas\\\\_libs\\\\hashtable_class_helper.pxi:7089\u001B[0m, in \u001B[0;36mpandas._libs.hashtable.PyObjectHashTable.get_item\u001B[1;34m()\u001B[0m\n",
      "\u001B[1;31mKeyError\u001B[0m: 'Title'",
      "\nThe above exception was the direct cause of the following exception:\n",
      "\u001B[1;31mKeyError\u001B[0m                                  Traceback (most recent call last)",
      "Cell \u001B[1;32mIn[53], line 2\u001B[0m\n\u001B[0;32m      1\u001B[0m \u001B[38;5;66;03m#Review unique titles in pharmacy table\u001B[39;00m\n\u001B[1;32m----> 2\u001B[0m \u001B[43mpharmacies\u001B[49m\u001B[43m[\u001B[49m\u001B[38;5;124;43m'\u001B[39;49m\u001B[38;5;124;43mTitle\u001B[39;49m\u001B[38;5;124;43m'\u001B[39;49m\u001B[43m]\u001B[49m\u001B[38;5;241m.\u001B[39mvalue_counts()\n",
      "File \u001B[1;32m~\\AppData\\Local\\Programs\\Python\\Python312\\Lib\\site-packages\\pandas\\core\\frame.py:4102\u001B[0m, in \u001B[0;36mDataFrame.__getitem__\u001B[1;34m(self, key)\u001B[0m\n\u001B[0;32m   4100\u001B[0m \u001B[38;5;28;01mif\u001B[39;00m \u001B[38;5;28mself\u001B[39m\u001B[38;5;241m.\u001B[39mcolumns\u001B[38;5;241m.\u001B[39mnlevels \u001B[38;5;241m>\u001B[39m \u001B[38;5;241m1\u001B[39m:\n\u001B[0;32m   4101\u001B[0m     \u001B[38;5;28;01mreturn\u001B[39;00m \u001B[38;5;28mself\u001B[39m\u001B[38;5;241m.\u001B[39m_getitem_multilevel(key)\n\u001B[1;32m-> 4102\u001B[0m indexer \u001B[38;5;241m=\u001B[39m \u001B[38;5;28;43mself\u001B[39;49m\u001B[38;5;241;43m.\u001B[39;49m\u001B[43mcolumns\u001B[49m\u001B[38;5;241;43m.\u001B[39;49m\u001B[43mget_loc\u001B[49m\u001B[43m(\u001B[49m\u001B[43mkey\u001B[49m\u001B[43m)\u001B[49m\n\u001B[0;32m   4103\u001B[0m \u001B[38;5;28;01mif\u001B[39;00m is_integer(indexer):\n\u001B[0;32m   4104\u001B[0m     indexer \u001B[38;5;241m=\u001B[39m [indexer]\n",
      "File \u001B[1;32m~\\AppData\\Local\\Programs\\Python\\Python312\\Lib\\site-packages\\pandas\\core\\indexes\\base.py:3812\u001B[0m, in \u001B[0;36mIndex.get_loc\u001B[1;34m(self, key)\u001B[0m\n\u001B[0;32m   3807\u001B[0m     \u001B[38;5;28;01mif\u001B[39;00m \u001B[38;5;28misinstance\u001B[39m(casted_key, \u001B[38;5;28mslice\u001B[39m) \u001B[38;5;129;01mor\u001B[39;00m (\n\u001B[0;32m   3808\u001B[0m         \u001B[38;5;28misinstance\u001B[39m(casted_key, abc\u001B[38;5;241m.\u001B[39mIterable)\n\u001B[0;32m   3809\u001B[0m         \u001B[38;5;129;01mand\u001B[39;00m \u001B[38;5;28many\u001B[39m(\u001B[38;5;28misinstance\u001B[39m(x, \u001B[38;5;28mslice\u001B[39m) \u001B[38;5;28;01mfor\u001B[39;00m x \u001B[38;5;129;01min\u001B[39;00m casted_key)\n\u001B[0;32m   3810\u001B[0m     ):\n\u001B[0;32m   3811\u001B[0m         \u001B[38;5;28;01mraise\u001B[39;00m InvalidIndexError(key)\n\u001B[1;32m-> 3812\u001B[0m     \u001B[38;5;28;01mraise\u001B[39;00m \u001B[38;5;167;01mKeyError\u001B[39;00m(key) \u001B[38;5;28;01mfrom\u001B[39;00m \u001B[38;5;21;01merr\u001B[39;00m\n\u001B[0;32m   3813\u001B[0m \u001B[38;5;28;01mexcept\u001B[39;00m \u001B[38;5;167;01mTypeError\u001B[39;00m:\n\u001B[0;32m   3814\u001B[0m     \u001B[38;5;66;03m# If we have a listlike key, _check_indexing_error will raise\u001B[39;00m\n\u001B[0;32m   3815\u001B[0m     \u001B[38;5;66;03m#  InvalidIndexError. Otherwise we fall through and re-raise\u001B[39;00m\n\u001B[0;32m   3816\u001B[0m     \u001B[38;5;66;03m#  the TypeError.\u001B[39;00m\n\u001B[0;32m   3817\u001B[0m     \u001B[38;5;28mself\u001B[39m\u001B[38;5;241m.\u001B[39m_check_indexing_error(key)\n",
      "\u001B[1;31mKeyError\u001B[0m: 'Title'"
     ]
    }
   ],
   "execution_count": 53
  },
  {
   "metadata": {
    "ExecuteTime": {
     "end_time": "2024-11-25T04:44:23.992823Z",
     "start_time": "2024-11-25T04:44:23.987848Z"
    }
   },
   "cell_type": "code",
   "source": [
    "#Count any null values \n",
    "pharmacies.isnull().sum()"
   ],
   "id": "fb449950509ee9a6",
   "outputs": [
    {
     "data": {
      "text/plain": [
       "Pharmacy Name                                    0\n",
       "License Number                                   1\n",
       "License Type                                     1\n",
       "License Status                                   1\n",
       "Expiration Date                                  1\n",
       "City                                             1\n",
       "State                                            1\n",
       "County                                           1\n",
       "Zip                                              1\n",
       "CEDARS-SINAI MEDICAL CENTER -4TH FLOOR MAIN    845\n",
       "dtype: int64"
      ]
     },
     "execution_count": 54,
     "metadata": {},
     "output_type": "execute_result"
    }
   ],
   "execution_count": 54
  },
  {
   "metadata": {},
   "cell_type": "markdown",
   "source": [
    "## Exploring the Pharmacy Data Visually\n",
    "\n",
    "The below cells are an initial analysis of the pharmacy data utilizing matplotlib.pyplot.  "
   ],
   "id": "59f81b89f315cf30"
  },
  {
   "metadata": {
    "ExecuteTime": {
     "end_time": "2024-11-25T04:44:33.139087Z",
     "start_time": "2024-11-25T04:44:33.026734Z"
    }
   },
   "cell_type": "code",
   "source": [
    "#Create a histogram of the License Type distribution\n",
    "pharmacies['License Type'].hist(bins=20)\n",
    "plt.title('Histogram of License Type')\n",
    "plt.xlabel('Type')\n",
    "plt.ylabel('Count')\n",
    "plt.show()"
   ],
   "id": "459fccc1d002438a",
   "outputs": [
    {
     "data": {
      "text/plain": [
       "<Figure size 640x480 with 1 Axes>"
      ],
      "image/png": "[encoded data removed]"
     },
     "metadata": {},
     "output_type": "display_data"
    }
   ],
   "execution_count": 55
  },
  {
   "metadata": {
    "ExecuteTime": {
     "end_time": "2024-11-25T04:44:40.733402Z",
     "start_time": "2024-11-25T04:44:40.656891Z"
    }
   },
   "cell_type": "code",
   "source": [
    "#Create a histogram of the License Status distribution\n",
    "pharmacies['License Status'].hist(bins=20)\n",
    "plt.title('Histogram of License Status')\n",
    "plt.xlabel('Status')\n",
    "plt.ylabel('Count')\n",
    "plt.show()"
   ],
   "id": "d844be90fc234452",
   "outputs": [
    {
     "data": {
      "text/plain": [
       "<Figure size 640x480 with 1 Axes>"
      ],
      "image/png": "[encoded data removed]"
     },
     "metadata": {},
     "output_type": "display_data"
    }
   ],
   "execution_count": 56
  },
  {
   "metadata": {
    "ExecuteTime": {
     "end_time": "2024-11-25T04:44:43.379117Z",
     "start_time": "2024-11-25T04:44:43.370655Z"
    }
   },
   "cell_type": "code",
   "source": [
    "license_number = 'LSC 101414'\n",
    "filtered_pharmacy = pharmacies[pharmacies['License Number'] == license_number]\n",
    "\n",
    "# Show the filtered pharmacy information\n",
    "filtered_pharmacy"
   ],
   "id": "fc7498414c218830",
   "outputs": [
    {
     "data": {
      "text/plain": [
       "                  Pharmacy Name License Number                  License Type License Status Expiration Date     City       State  County      Zip CEDARS-SINAI MEDICAL CENTER -4TH FLOOR MAIN\n",
       "0  986 INFUSION PHARMACY #1 INC     LSC 101414  Sterile Compounding Pharmacy          CLEAR    July 1, 2025  ANAHEIM  California  ORANGE  92807.0                                         NaN"
      ],
      "text/html": [
       "<div>\n",
       "<style scoped>\n",
       "    .dataframe tbody tr th:only-of-type {\n",
       "        vertical-align: middle;\n",
       "    }\n",
       "\n",
       "    .dataframe tbody tr th {\n",
       "        vertical-align: top;\n",
       "    }\n",
       "\n",
       "    .dataframe thead th {\n",
       "        text-align: right;\n",
       "    }\n",
       "</style>\n",
       "<table border=\"1\" class=\"dataframe\">\n",
       "  <thead>\n",
       "    <tr style=\"text-align: right;\">\n",
       "      <th></th>\n",
       "      <th>Pharmacy Name</th>\n",
       "      <th>License Number</th>\n",
       "      <th>License Type</th>\n",
       "      <th>License Status</th>\n",
       "      <th>Expiration Date</th>\n",
       "      <th>City</th>\n",
       "      <th>State</th>\n",
       "      <th>County</th>\n",
       "      <th>Zip</th>\n",
       "      <th>CEDARS-SINAI MEDICAL CENTER -4TH FLOOR MAIN</th>\n",
       "    </tr>\n",
       "  </thead>\n",
       "  <tbody>\n",
       "    <tr>\n",
       "      <th>0</th>\n",
       "      <td>986 INFUSION PHARMACY #1 INC</td>\n",
       "      <td>LSC 101414</td>\n",
       "      <td>Sterile Compounding Pharmacy</td>\n",
       "      <td>CLEAR</td>\n",
       "      <td>July 1, 2025</td>\n",
       "      <td>ANAHEIM</td>\n",
       "      <td>California</td>\n",
       "      <td>ORANGE</td>\n",
       "      <td>92807.0</td>\n",
       "      <td>NaN</td>\n",
       "    </tr>\n",
       "  </tbody>\n",
       "</table>\n",
       "</div>"
      ]
     },
     "execution_count": 57,
     "metadata": {},
     "output_type": "execute_result"
    }
   ],
   "execution_count": 57
  },
  {
   "metadata": {},
   "cell_type": "code",
   "source": "pharmacies",
   "id": "d4f3e602196df4e3",
   "outputs": [],
   "execution_count": null
  },
  {
   "metadata": {},
   "cell_type": "code",
   "source": "",
   "id": "f8bdb2acd3cbd725",
   "outputs": [],
   "execution_count": null
  }
 ],
 "metadata": {
  "kernelspec": {
   "display_name": "Python 3",
   "language": "python",
   "name": "python3"
  },
  "language_info": {
   "codemirror_mode": {
    "name": "ipython",
    "version": 2
   },
   "file_extension": ".py",
   "mimetype": "text/x-python",
   "name": "python",
   "nbconvert_exporter": "python",
   "pygments_lexer": "ipython2",
   "version": "2.7.6"
  }
 },
 "nbformat": 4,
 "nbformat_minor": 5
}
