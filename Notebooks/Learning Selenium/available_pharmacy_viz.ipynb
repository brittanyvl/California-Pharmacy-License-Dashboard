{
 "cells": [
  {
   "metadata": {},
   "cell_type": "markdown",
   "source": "# Exploring Available Pharmacy Data & Viz Options",
   "id": "caeed05fed2bbdc6"
  },
  {
   "metadata": {},
   "cell_type": "markdown",
   "source": "## Notebook Configuration ",
   "id": "d509ca8e3acf6f9d"
  },
  {
   "cell_type": "code",
   "id": "initial_id",
   "metadata": {
    "collapsed": true,
    "ExecuteTime": {
     "end_time": "2024-12-15T18:53:45.995333Z",
     "start_time": "2024-12-15T18:53:45.990670Z"
    }
   },
   "source": [
    "import pandas as pd\n",
    "import plotly.express as px\n",
    "\n",
    "# Set pandas to display more rows/columns for wider dataframes\n",
    "pd.set_option('display.max_columns', None)  # Show all columns\n",
    "pd.set_option('display.max_rows', 100)     # Adjust rows\n",
    "pd.set_option('display.width', 1000)       # Increase width for better visibility"
   ],
   "outputs": [],
   "execution_count": 119
  },
  {
   "metadata": {},
   "cell_type": "markdown",
   "source": "## Load Pharmacy Data",
   "id": "e153a4565ea0c4e0"
  },
  {
   "metadata": {
    "ExecuteTime": {
     "end_time": "2024-12-15T18:53:46.081985Z",
     "start_time": "2024-12-15T18:53:46.062754Z"
    }
   },
   "cell_type": "code",
   "source": [
    "all_pharmacies = pd.read_csv('all_pharmacies.csv')\n",
    "all_pharmacies"
   ],
   "id": "699f798189e2e14f",
   "outputs": [
    {
     "data": {
      "text/plain": [
       "                                         Pharmacy Name License Number                              License Type License Status Expiration Date         City         State        County    Zip  isGovernment  isSatellite  isInfusionCenter  isHospital  isVeterinaryOnly             Entity Type      ZIP        LAT         LNG\n",
       "0                         986 INFUSION PHARMACY #1 INC     LSC 101414              Sterile Compounding Pharmacy          CLEAR      2025-07-01      ANAHEIM    California        ORANGE  92807         False        False              True       False             False       Infusion Services  92807.0  33.848733 -117.788357\n",
       "1                             A & O SPECIALTY PHARMACY     LSC 101817              Sterile Compounding Pharmacy          CLEAR      2025-03-01      SALINAS    California      MONTEREY  93901         False        False             False       False             False    Compounding Pharmacy  93901.0  36.636344 -121.623978\n",
       "2                             ACCREDO HEALTH GROUP INC     NSC 101280  Nonresident Sterile Compounding Pharmacy          CLEAR      2025-12-01   WARRENDALE  Pennsylvania  OUT OF STATE  15086         False        False             False       False             False    Compounding Pharmacy  15086.0  40.674947  -80.106364\n",
       "3                             ACCREDO HEALTH GROUP INC     NSC 101279  Nonresident Sterile Compounding Pharmacy          CLEAR      2025-12-01      ORLANDO       Florida  OUT OF STATE  32822         False        False             False       False             False    Compounding Pharmacy  32822.0  28.489898  -81.290154\n",
       "4                                ADVANCE CARE PHARMACY      LSC 99611              Sterile Compounding Pharmacy          CLEAR      2025-07-01    ESCONDIDO    California     SAN DIEGO  92025         False        False             False       False             False    Compounding Pharmacy  92025.0  33.102005 -117.080419\n",
       "..                                                 ...            ...                                       ...            ...             ...          ...           ...           ...    ...           ...          ...               ...         ...               ...                     ...      ...        ...         ...\n",
       "841  WHITE MEMORIAL MEDICAL CENTER DBA ADVENTIST HE...     LSC 100146              Sterile Compounding Pharmacy          CLEAR      2025-07-01  LOS ANGELES    California   LOS ANGELES  90033         False        False             False        True             False  Hospital or Med Center  90033.0  34.050380 -118.211991\n",
       "842                   WHITTIER HOSPITAL MEDICAL CENTER     LSC 101408              Sterile Compounding Pharmacy          CLEAR      2025-01-01     WHITTIER    California   LOS ANGELES  90605         False        False             False        True             False  Hospital or Med Center  90605.0  33.950295 -118.024352\n",
       "843  WOMENS INTERNATIONAL PHARMACY, INC. DBA BELMAR...     NSC 101754  Nonresident Sterile Compounding Pharmacy          CLEAR      2025-03-01    YOUNGTOWN       Arizona  OUT OF STATE  85363         False        False             False       False             False    Compounding Pharmacy  85363.0  33.584969 -112.304916\n",
       "844  WOODLAND MEMORIAL HOSPITAL STERILE COMPOUNDING...     LSC 101509              Sterile Compounding Pharmacy          CLEAR      2025-02-01     WOODLAND    California          YOLO  95695         False        False             False        True             False  Hospital or Med Center  95695.0  38.687045 -121.857077\n",
       "845           You have reached the end of your results            NaN                                       NaN            NaN             NaN          NaN           NaN           NaN      0         False        False             False       False             False    Compounding Pharmacy      NaN        NaN         NaN\n",
       "\n",
       "[846 rows x 18 columns]"
      ],
      "text/html": [
       "<div>\n",
       "<style scoped>\n",
       "    .dataframe tbody tr th:only-of-type {\n",
       "        vertical-align: middle;\n",
       "    }\n",
       "\n",
       "    .dataframe tbody tr th {\n",
       "        vertical-align: top;\n",
       "    }\n",
       "\n",
       "    .dataframe thead th {\n",
       "        text-align: right;\n",
       "    }\n",
       "</style>\n",
       "<table border=\"1\" class=\"dataframe\">\n",
       "  <thead>\n",
       "    <tr style=\"text-align: right;\">\n",
       "      <th></th>\n",
       "      <th>Pharmacy Name</th>\n",
       "      <th>License Number</th>\n",
       "      <th>License Type</th>\n",
       "      <th>License Status</th>\n",
       "      <th>Expiration Date</th>\n",
       "      <th>City</th>\n",
       "      <th>State</th>\n",
       "      <th>County</th>\n",
       "      <th>Zip</th>\n",
       "      <th>isGovernment</th>\n",
       "      <th>isSatellite</th>\n",
       "      <th>isInfusionCenter</th>\n",
       "      <th>isHospital</th>\n",
       "      <th>isVeterinaryOnly</th>\n",
       "      <th>Entity Type</th>\n",
       "      <th>ZIP</th>\n",
       "      <th>LAT</th>\n",
       "      <th>LNG</th>\n",
       "    </tr>\n",
       "  </thead>\n",
       "  <tbody>\n",
       "    <tr>\n",
       "      <th>0</th>\n",
       "      <td>986 INFUSION PHARMACY #1 INC</td>\n",
       "      <td>LSC 101414</td>\n",
       "      <td>Sterile Compounding Pharmacy</td>\n",
       "      <td>CLEAR</td>\n",
       "      <td>2025-07-01</td>\n",
       "      <td>ANAHEIM</td>\n",
       "      <td>California</td>\n",
       "      <td>ORANGE</td>\n",
       "      <td>92807</td>\n",
       "      <td>False</td>\n",
       "      <td>False</td>\n",
       "      <td>True</td>\n",
       "      <td>False</td>\n",
       "      <td>False</td>\n",
       "      <td>Infusion Services</td>\n",
       "      <td>92807.0</td>\n",
       "      <td>33.848733</td>\n",
       "      <td>-117.788357</td>\n",
       "    </tr>\n",
       "    <tr>\n",
       "      <th>1</th>\n",
       "      <td>A &amp; O SPECIALTY PHARMACY</td>\n",
       "      <td>LSC 101817</td>\n",
       "      <td>Sterile Compounding Pharmacy</td>\n",
       "      <td>CLEAR</td>\n",
       "      <td>2025-03-01</td>\n",
       "      <td>SALINAS</td>\n",
       "      <td>California</td>\n",
       "      <td>MONTEREY</td>\n",
       "      <td>93901</td>\n",
       "      <td>False</td>\n",
       "      <td>False</td>\n",
       "      <td>False</td>\n",
       "      <td>False</td>\n",
       "      <td>False</td>\n",
       "      <td>Compounding Pharmacy</td>\n",
       "      <td>93901.0</td>\n",
       "      <td>36.636344</td>\n",
       "      <td>-121.623978</td>\n",
       "    </tr>\n",
       "    <tr>\n",
       "      <th>2</th>\n",
       "      <td>ACCREDO HEALTH GROUP INC</td>\n",
       "      <td>NSC 101280</td>\n",
       "      <td>Nonresident Sterile Compounding Pharmacy</td>\n",
       "      <td>CLEAR</td>\n",
       "      <td>2025-12-01</td>\n",
       "      <td>WARRENDALE</td>\n",
       "      <td>Pennsylvania</td>\n",
       "      <td>OUT OF STATE</td>\n",
       "      <td>15086</td>\n",
       "      <td>False</td>\n",
       "      <td>False</td>\n",
       "      <td>False</td>\n",
       "      <td>False</td>\n",
       "      <td>False</td>\n",
       "      <td>Compounding Pharmacy</td>\n",
       "      <td>15086.0</td>\n",
       "      <td>40.674947</td>\n",
       "      <td>-80.106364</td>\n",
       "    </tr>\n",
       "    <tr>\n",
       "      <th>3</th>\n",
       "      <td>ACCREDO HEALTH GROUP INC</td>\n",
       "      <td>NSC 101279</td>\n",
       "      <td>Nonresident Sterile Compounding Pharmacy</td>\n",
       "      <td>CLEAR</td>\n",
       "      <td>2025-12-01</td>\n",
       "      <td>ORLANDO</td>\n",
       "      <td>Florida</td>\n",
       "      <td>OUT OF STATE</td>\n",
       "      <td>32822</td>\n",
       "      <td>False</td>\n",
       "      <td>False</td>\n",
       "      <td>False</td>\n",
       "      <td>False</td>\n",
       "      <td>False</td>\n",
       "      <td>Compounding Pharmacy</td>\n",
       "      <td>32822.0</td>\n",
       "      <td>28.489898</td>\n",
       "      <td>-81.290154</td>\n",
       "    </tr>\n",
       "    <tr>\n",
       "      <th>4</th>\n",
       "      <td>ADVANCE CARE PHARMACY</td>\n",
       "      <td>LSC 99611</td>\n",
       "      <td>Sterile Compounding Pharmacy</td>\n",
       "      <td>CLEAR</td>\n",
       "      <td>2025-07-01</td>\n",
       "      <td>ESCONDIDO</td>\n",
       "      <td>California</td>\n",
       "      <td>SAN DIEGO</td>\n",
       "      <td>92025</td>\n",
       "      <td>False</td>\n",
       "      <td>False</td>\n",
       "      <td>False</td>\n",
       "      <td>False</td>\n",
       "      <td>False</td>\n",
       "      <td>Compounding Pharmacy</td>\n",
       "      <td>92025.0</td>\n",
       "      <td>33.102005</td>\n",
       "      <td>-117.080419</td>\n",
       "    </tr>\n",
       "    <tr>\n",
       "      <th>...</th>\n",
       "      <td>...</td>\n",
       "      <td>...</td>\n",
       "      <td>...</td>\n",
       "      <td>...</td>\n",
       "      <td>...</td>\n",
       "      <td>...</td>\n",
       "      <td>...</td>\n",
       "      <td>...</td>\n",
       "      <td>...</td>\n",
       "      <td>...</td>\n",
       "      <td>...</td>\n",
       "      <td>...</td>\n",
       "      <td>...</td>\n",
       "      <td>...</td>\n",
       "      <td>...</td>\n",
       "      <td>...</td>\n",
       "      <td>...</td>\n",
       "      <td>...</td>\n",
       "    </tr>\n",
       "    <tr>\n",
       "      <th>841</th>\n",
       "      <td>WHITE MEMORIAL MEDICAL CENTER DBA ADVENTIST HE...</td>\n",
       "      <td>LSC 100146</td>\n",
       "      <td>Sterile Compounding Pharmacy</td>\n",
       "      <td>CLEAR</td>\n",
       "      <td>2025-07-01</td>\n",
       "      <td>LOS ANGELES</td>\n",
       "      <td>California</td>\n",
       "      <td>LOS ANGELES</td>\n",
       "      <td>90033</td>\n",
       "      <td>False</td>\n",
       "      <td>False</td>\n",
       "      <td>False</td>\n",
       "      <td>True</td>\n",
       "      <td>False</td>\n",
       "      <td>Hospital or Med Center</td>\n",
       "      <td>90033.0</td>\n",
       "      <td>34.050380</td>\n",
       "      <td>-118.211991</td>\n",
       "    </tr>\n",
       "    <tr>\n",
       "      <th>842</th>\n",
       "      <td>WHITTIER HOSPITAL MEDICAL CENTER</td>\n",
       "      <td>LSC 101408</td>\n",
       "      <td>Sterile Compounding Pharmacy</td>\n",
       "      <td>CLEAR</td>\n",
       "      <td>2025-01-01</td>\n",
       "      <td>WHITTIER</td>\n",
       "      <td>California</td>\n",
       "      <td>LOS ANGELES</td>\n",
       "      <td>90605</td>\n",
       "      <td>False</td>\n",
       "      <td>False</td>\n",
       "      <td>False</td>\n",
       "      <td>True</td>\n",
       "      <td>False</td>\n",
       "      <td>Hospital or Med Center</td>\n",
       "      <td>90605.0</td>\n",
       "      <td>33.950295</td>\n",
       "      <td>-118.024352</td>\n",
       "    </tr>\n",
       "    <tr>\n",
       "      <th>843</th>\n",
       "      <td>WOMENS INTERNATIONAL PHARMACY, INC. DBA BELMAR...</td>\n",
       "      <td>NSC 101754</td>\n",
       "      <td>Nonresident Sterile Compounding Pharmacy</td>\n",
       "      <td>CLEAR</td>\n",
       "      <td>2025-03-01</td>\n",
       "      <td>YOUNGTOWN</td>\n",
       "      <td>Arizona</td>\n",
       "      <td>OUT OF STATE</td>\n",
       "      <td>85363</td>\n",
       "      <td>False</td>\n",
       "      <td>False</td>\n",
       "      <td>False</td>\n",
       "      <td>False</td>\n",
       "      <td>False</td>\n",
       "      <td>Compounding Pharmacy</td>\n",
       "      <td>85363.0</td>\n",
       "      <td>33.584969</td>\n",
       "      <td>-112.304916</td>\n",
       "    </tr>\n",
       "    <tr>\n",
       "      <th>844</th>\n",
       "      <td>WOODLAND MEMORIAL HOSPITAL STERILE COMPOUNDING...</td>\n",
       "      <td>LSC 101509</td>\n",
       "      <td>Sterile Compounding Pharmacy</td>\n",
       "      <td>CLEAR</td>\n",
       "      <td>2025-02-01</td>\n",
       "      <td>WOODLAND</td>\n",
       "      <td>California</td>\n",
       "      <td>YOLO</td>\n",
       "      <td>95695</td>\n",
       "      <td>False</td>\n",
       "      <td>False</td>\n",
       "      <td>False</td>\n",
       "      <td>True</td>\n",
       "      <td>False</td>\n",
       "      <td>Hospital or Med Center</td>\n",
       "      <td>95695.0</td>\n",
       "      <td>38.687045</td>\n",
       "      <td>-121.857077</td>\n",
       "    </tr>\n",
       "    <tr>\n",
       "      <th>845</th>\n",
       "      <td>You have reached the end of your results</td>\n",
       "      <td>NaN</td>\n",
       "      <td>NaN</td>\n",
       "      <td>NaN</td>\n",
       "      <td>NaN</td>\n",
       "      <td>NaN</td>\n",
       "      <td>NaN</td>\n",
       "      <td>NaN</td>\n",
       "      <td>0</td>\n",
       "      <td>False</td>\n",
       "      <td>False</td>\n",
       "      <td>False</td>\n",
       "      <td>False</td>\n",
       "      <td>False</td>\n",
       "      <td>Compounding Pharmacy</td>\n",
       "      <td>NaN</td>\n",
       "      <td>NaN</td>\n",
       "      <td>NaN</td>\n",
       "    </tr>\n",
       "  </tbody>\n",
       "</table>\n",
       "<p>846 rows × 18 columns</p>\n",
       "</div>"
      ]
     },
     "execution_count": 120,
     "metadata": {},
     "output_type": "execute_result"
    }
   ],
   "execution_count": 120
  },
  {
   "metadata": {
    "ExecuteTime": {
     "end_time": "2024-12-15T18:53:46.126655Z",
     "start_time": "2024-12-15T18:53:46.088991Z"
    }
   },
   "cell_type": "code",
   "source": [
    "available_pharmacies = pd.read_csv('available_pharmacies.csv')\n",
    "available_pharmacies"
   ],
   "id": "387f51abf4e0aa66",
   "outputs": [
    {
     "data": {
      "text/plain": [
       "                                         Pharmacy Name License Number                              License Type License Status Expiration Date         City         State        County    Zip  isGovernment  isSatellite  isInfusionCenter  isHospital  isVeterinaryOnly           Entity Type  isHRT  isSexualHealth  isDermatology  isPainManagement  isGastroenterology  isNutrition,Anti-Aging,GeneralWellness  isOncology  isBlood&BleedingDisorders  isHospice&LongTermCare  isCardiology  isInfectiousDisease  isLowMolecular  isNeurology  isOpthalmic  isOsteo  isRheumatology  isUrology  isPulmonary  isReproductive  isVeterinary  isAutoimmuneDisease  isTPN  isPediatric  isGeneticDisorders  isWeightLoss  isHairCare  isDental  isEar,Nose,Throat  isPodiatry  isNuclearRadiopharmacy  servicesMultipleSclerosis  servicesHIVAIDS  servicesCrohns  servicesCysticFibrosis  servicesEndometriosis  servicesAutism  servicesHepatitis  servicesAddiction  servicesChronicFatigueSyndrome  servicesErectileDysfunction  \\\n",
       "0                             A & O SPECIALTY PHARMACY     LSC 101817              Sterile Compounding Pharmacy          CLEAR      2025-03-01      SALINAS    California      MONTEREY  93901         False        False             False       False             False  Compounding Pharmacy  False           False          False             False               False                                   False       False                      False                   False         False                False           False        False        False    False           False      False        False           False         False                False  False        False               False         False       False     False              False       False                   False                      False            False           False                   False                  False           False              False              False                           False                        False   \n",
       "1                             ACCREDO HEALTH GROUP INC     NSC 101280  Nonresident Sterile Compounding Pharmacy          CLEAR      2025-12-01   WARRENDALE  Pennsylvania  OUT OF STATE  15086         False        False             False       False             False  Compounding Pharmacy  False           False          False             False               False                                   False        True                       True                   False         False                False           False        False        False    False           False      False        False           False         False                False  False        False               False         False       False     False              False       False                   False                       True             True           False                   False                  False           False               True              False                           False                        False   \n",
       "2                             ACCREDO HEALTH GROUP INC     NSC 101279  Nonresident Sterile Compounding Pharmacy          CLEAR      2025-12-01      ORLANDO       Florida  OUT OF STATE  32822         False        False             False       False             False  Compounding Pharmacy  False           False          False             False               False                                   False        True                       True                   False         False                False           False        False        False    False           False      False        False           False         False                False  False        False               False         False       False     False              False       False                   False                       True             True           False                   False                  False           False               True              False                           False                        False   \n",
       "3                                ADVANCE CARE PHARMACY      LSC 99611              Sterile Compounding Pharmacy          CLEAR      2025-07-01    ESCONDIDO    California     SAN DIEGO  92025         False        False             False       False             False  Compounding Pharmacy  False           False          False             False               False                                   False       False                      False                    True         False                False           False        False        False    False           False      False        False           False         False                False  False        False               False         False       False     False              False       False                   False                      False            False           False                   False                  False           False              False              False                           False                        False   \n",
       "4                                   ALERACARE PHARMACY     NSC 101806  Nonresident Sterile Compounding Pharmacy          CLEAR      2025-11-01      PHOENIX       Arizona  OUT OF STATE  85032         False        False             False       False             False  Compounding Pharmacy  False           False           True             False                True                                   False        True                       True                   False          True                 True            True         True         True     True            True       True        False           False         False                False  False        False               False         False       False     False              False       False                   False                       True            False            True                    True                   True           False               True              False                           False                        False   \n",
       "..                                                 ...            ...                                       ...            ...             ...          ...           ...           ...    ...           ...          ...               ...         ...               ...                   ...    ...             ...            ...               ...                 ...                                     ...         ...                        ...                     ...           ...                  ...             ...          ...          ...      ...             ...        ...          ...             ...           ...                  ...    ...          ...                 ...           ...         ...       ...                ...         ...                     ...                        ...              ...             ...                     ...                    ...             ...                ...                ...                             ...                          ...   \n",
       "99                     VERDUGO PLAZA PHARMACY ALHAMBRA     LSC 101881              Sterile Compounding Pharmacy          CLEAR      2025-01-15     ALHAMBRA    California   LOS ANGELES  91803         False        False             False       False             False  Compounding Pharmacy  False           False          False             False               False                                   False       False                      False                    True         False                False           False        False        False    False           False      False        False           False         False                False  False        False               False         False       False     False              False       False                   False                      False            False           False                   False                  False           False              False              False                           False                        False   \n",
       "100                                   VLS PHARMACY INC     NSC 101214  Nonresident Sterile Compounding Pharmacy          CLEAR      2025-11-01     BROOKLYN      New York  OUT OF STATE  11220         False        False             False       False             False  Compounding Pharmacy  False           False           True              True               False                                    True       False                      False                   False         False                False           False        False        False    False           False      False        False           False         False                False  False         True               False         False       False     False              False       False                   False                      False            False           False                   False                  False           False              False              False                           False                        False   \n",
       "101    WELLNESS CENTER PHARMACY INC DBA DESIGNER DRUGS     NSC 100938  Nonresident Sterile Compounding Pharmacy          CLEAR      2025-11-01  CHATTANOOGA     Tennessee  OUT OF STATE  37421         False        False             False       False             False  Compounding Pharmacy  False           False          False             False               False                                   False       False                      False                   False         False                False           False        False        False    False           False      False        False           False         False                False  False        False               False         False       False     False              False       False                   False                      False            False           False                   False                  False           False              False              False                           False                        False   \n",
       "102                                         WELLSCRIPT     LSC 100178              Sterile Compounding Pharmacy          CLEAR      2025-06-01      REDDING    California        SHASTA  96001         False        False             False       False             False  Compounding Pharmacy  False           False          False             False               False                                   False       False                      False                   False         False                False           False        False        False    False           False      False        False           False         False                False  False        False               False         False       False     False              False       False                   False                      False            False           False                   False                  False           False              False              False                           False                        False   \n",
       "103  WOMENS INTERNATIONAL PHARMACY, INC. DBA BELMAR...     NSC 101754  Nonresident Sterile Compounding Pharmacy          CLEAR      2025-03-01    YOUNGTOWN       Arizona  OUT OF STATE  85363         False        False             False       False             False  Compounding Pharmacy  False           False          False             False               False                                   False       False                      False                   False         False                False           False        False        False    False           False      False        False           False         False                False  False        False               False         False       False     False              False       False                   False                      False            False           False                   False                  False           False              False              False                           False                        False   \n",
       "\n",
       "     servicesFibromyalgia  servicesFissures  servicesHirsutism  servicesInfertility  servicesLymeDisease  servicesMethylationDysfunction  servicesOralMucositis  servicesPANDAS  servicesRosacea  servicesShingles  servicesSkinLightening  servicesVaginosis  servicesWarts  servicesWoundCare  servicesOrganTransplants  \n",
       "0                   False             False              False                False                False                           False                  False           False            False             False                   False              False          False              False                     False  \n",
       "1                   False             False              False                False                False                           False                  False           False            False             False                   False              False          False              False                     False  \n",
       "2                   False             False              False                False                False                           False                  False           False            False             False                   False              False          False              False                     False  \n",
       "3                   False             False              False                False                False                           False                  False           False            False             False                   False              False          False              False                     False  \n",
       "4                   False             False              False                False                False                           False                  False           False            False             False                   False              False          False              False                     False  \n",
       "..                    ...               ...                ...                  ...                  ...                             ...                    ...             ...              ...               ...                     ...                ...            ...                ...                       ...  \n",
       "99                  False             False              False                False                False                           False                  False           False            False             False                   False              False          False              False                     False  \n",
       "100                 False             False              False                False                False                           False                  False           False            False             False                   False              False          False              False                     False  \n",
       "101                 False             False              False                False                False                           False                  False           False            False             False                   False              False          False              False                     False  \n",
       "102                 False             False              False                False                False                           False                  False           False            False             False                   False              False          False              False                     False  \n",
       "103                 False             False              False                False                False                           False                  False           False            False             False                   False              False          False              False                     False  \n",
       "\n",
       "[104 rows x 70 columns]"
      ],
      "text/html": [
       "<div>\n",
       "<style scoped>\n",
       "    .dataframe tbody tr th:only-of-type {\n",
       "        vertical-align: middle;\n",
       "    }\n",
       "\n",
       "    .dataframe tbody tr th {\n",
       "        vertical-align: top;\n",
       "    }\n",
       "\n",
       "    .dataframe thead th {\n",
       "        text-align: right;\n",
       "    }\n",
       "</style>\n",
       "<table border=\"1\" class=\"dataframe\">\n",
       "  <thead>\n",
       "    <tr style=\"text-align: right;\">\n",
       "      <th></th>\n",
       "      <th>Pharmacy Name</th>\n",
       "      <th>License Number</th>\n",
       "      <th>License Type</th>\n",
       "      <th>License Status</th>\n",
       "      <th>Expiration Date</th>\n",
       "      <th>City</th>\n",
       "      <th>State</th>\n",
       "      <th>County</th>\n",
       "      <th>Zip</th>\n",
       "      <th>isGovernment</th>\n",
       "      <th>isSatellite</th>\n",
       "      <th>isInfusionCenter</th>\n",
       "      <th>isHospital</th>\n",
       "      <th>isVeterinaryOnly</th>\n",
       "      <th>Entity Type</th>\n",
       "      <th>isHRT</th>\n",
       "      <th>isSexualHealth</th>\n",
       "      <th>isDermatology</th>\n",
       "      <th>isPainManagement</th>\n",
       "      <th>isGastroenterology</th>\n",
       "      <th>isNutrition,Anti-Aging,GeneralWellness</th>\n",
       "      <th>isOncology</th>\n",
       "      <th>isBlood&amp;BleedingDisorders</th>\n",
       "      <th>isHospice&amp;LongTermCare</th>\n",
       "      <th>isCardiology</th>\n",
       "      <th>isInfectiousDisease</th>\n",
       "      <th>isLowMolecular</th>\n",
       "      <th>isNeurology</th>\n",
       "      <th>isOpthalmic</th>\n",
       "      <th>isOsteo</th>\n",
       "      <th>isRheumatology</th>\n",
       "      <th>isUrology</th>\n",
       "      <th>isPulmonary</th>\n",
       "      <th>isReproductive</th>\n",
       "      <th>isVeterinary</th>\n",
       "      <th>isAutoimmuneDisease</th>\n",
       "      <th>isTPN</th>\n",
       "      <th>isPediatric</th>\n",
       "      <th>isGeneticDisorders</th>\n",
       "      <th>isWeightLoss</th>\n",
       "      <th>isHairCare</th>\n",
       "      <th>isDental</th>\n",
       "      <th>isEar,Nose,Throat</th>\n",
       "      <th>isPodiatry</th>\n",
       "      <th>isNuclearRadiopharmacy</th>\n",
       "      <th>servicesMultipleSclerosis</th>\n",
       "      <th>servicesHIVAIDS</th>\n",
       "      <th>servicesCrohns</th>\n",
       "      <th>servicesCysticFibrosis</th>\n",
       "      <th>servicesEndometriosis</th>\n",
       "      <th>servicesAutism</th>\n",
       "      <th>servicesHepatitis</th>\n",
       "      <th>servicesAddiction</th>\n",
       "      <th>servicesChronicFatigueSyndrome</th>\n",
       "      <th>servicesErectileDysfunction</th>\n",
       "      <th>servicesFibromyalgia</th>\n",
       "      <th>servicesFissures</th>\n",
       "      <th>servicesHirsutism</th>\n",
       "      <th>servicesInfertility</th>\n",
       "      <th>servicesLymeDisease</th>\n",
       "      <th>servicesMethylationDysfunction</th>\n",
       "      <th>servicesOralMucositis</th>\n",
       "      <th>servicesPANDAS</th>\n",
       "      <th>servicesRosacea</th>\n",
       "      <th>servicesShingles</th>\n",
       "      <th>servicesSkinLightening</th>\n",
       "      <th>servicesVaginosis</th>\n",
       "      <th>servicesWarts</th>\n",
       "      <th>servicesWoundCare</th>\n",
       "      <th>servicesOrganTransplants</th>\n",
       "    </tr>\n",
       "  </thead>\n",
       "  <tbody>\n",
       "    <tr>\n",
       "      <th>0</th>\n",
       "      <td>A &amp; O SPECIALTY PHARMACY</td>\n",
       "      <td>LSC 101817</td>\n",
       "      <td>Sterile Compounding Pharmacy</td>\n",
       "      <td>CLEAR</td>\n",
       "      <td>2025-03-01</td>\n",
       "      <td>SALINAS</td>\n",
       "      <td>California</td>\n",
       "      <td>MONTEREY</td>\n",
       "      <td>93901</td>\n",
       "      <td>False</td>\n",
       "      <td>False</td>\n",
       "      <td>False</td>\n",
       "      <td>False</td>\n",
       "      <td>False</td>\n",
       "      <td>Compounding Pharmacy</td>\n",
       "      <td>False</td>\n",
       "      <td>False</td>\n",
       "      <td>False</td>\n",
       "      <td>False</td>\n",
       "      <td>False</td>\n",
       "      <td>False</td>\n",
       "      <td>False</td>\n",
       "      <td>False</td>\n",
       "      <td>False</td>\n",
       "      <td>False</td>\n",
       "      <td>False</td>\n",
       "      <td>False</td>\n",
       "      <td>False</td>\n",
       "      <td>False</td>\n",
       "      <td>False</td>\n",
       "      <td>False</td>\n",
       "      <td>False</td>\n",
       "      <td>False</td>\n",
       "      <td>False</td>\n",
       "      <td>False</td>\n",
       "      <td>False</td>\n",
       "      <td>False</td>\n",
       "      <td>False</td>\n",
       "      <td>False</td>\n",
       "      <td>False</td>\n",
       "      <td>False</td>\n",
       "      <td>False</td>\n",
       "      <td>False</td>\n",
       "      <td>False</td>\n",
       "      <td>False</td>\n",
       "      <td>False</td>\n",
       "      <td>False</td>\n",
       "      <td>False</td>\n",
       "      <td>False</td>\n",
       "      <td>False</td>\n",
       "      <td>False</td>\n",
       "      <td>False</td>\n",
       "      <td>False</td>\n",
       "      <td>False</td>\n",
       "      <td>False</td>\n",
       "      <td>False</td>\n",
       "      <td>False</td>\n",
       "      <td>False</td>\n",
       "      <td>False</td>\n",
       "      <td>False</td>\n",
       "      <td>False</td>\n",
       "      <td>False</td>\n",
       "      <td>False</td>\n",
       "      <td>False</td>\n",
       "      <td>False</td>\n",
       "      <td>False</td>\n",
       "      <td>False</td>\n",
       "      <td>False</td>\n",
       "      <td>False</td>\n",
       "      <td>False</td>\n",
       "    </tr>\n",
       "    <tr>\n",
       "      <th>1</th>\n",
       "      <td>ACCREDO HEALTH GROUP INC</td>\n",
       "      <td>NSC 101280</td>\n",
       "      <td>Nonresident Sterile Compounding Pharmacy</td>\n",
       "      <td>CLEAR</td>\n",
       "      <td>2025-12-01</td>\n",
       "      <td>WARRENDALE</td>\n",
       "      <td>Pennsylvania</td>\n",
       "      <td>OUT OF STATE</td>\n",
       "      <td>15086</td>\n",
       "      <td>False</td>\n",
       "      <td>False</td>\n",
       "      <td>False</td>\n",
       "      <td>False</td>\n",
       "      <td>False</td>\n",
       "      <td>Compounding Pharmacy</td>\n",
       "      <td>False</td>\n",
       "      <td>False</td>\n",
       "      <td>False</td>\n",
       "      <td>False</td>\n",
       "      <td>False</td>\n",
       "      <td>False</td>\n",
       "      <td>True</td>\n",
       "      <td>True</td>\n",
       "      <td>False</td>\n",
       "      <td>False</td>\n",
       "      <td>False</td>\n",
       "      <td>False</td>\n",
       "      <td>False</td>\n",
       "      <td>False</td>\n",
       "      <td>False</td>\n",
       "      <td>False</td>\n",
       "      <td>False</td>\n",
       "      <td>False</td>\n",
       "      <td>False</td>\n",
       "      <td>False</td>\n",
       "      <td>False</td>\n",
       "      <td>False</td>\n",
       "      <td>False</td>\n",
       "      <td>False</td>\n",
       "      <td>False</td>\n",
       "      <td>False</td>\n",
       "      <td>False</td>\n",
       "      <td>False</td>\n",
       "      <td>False</td>\n",
       "      <td>False</td>\n",
       "      <td>True</td>\n",
       "      <td>True</td>\n",
       "      <td>False</td>\n",
       "      <td>False</td>\n",
       "      <td>False</td>\n",
       "      <td>False</td>\n",
       "      <td>True</td>\n",
       "      <td>False</td>\n",
       "      <td>False</td>\n",
       "      <td>False</td>\n",
       "      <td>False</td>\n",
       "      <td>False</td>\n",
       "      <td>False</td>\n",
       "      <td>False</td>\n",
       "      <td>False</td>\n",
       "      <td>False</td>\n",
       "      <td>False</td>\n",
       "      <td>False</td>\n",
       "      <td>False</td>\n",
       "      <td>False</td>\n",
       "      <td>False</td>\n",
       "      <td>False</td>\n",
       "      <td>False</td>\n",
       "      <td>False</td>\n",
       "      <td>False</td>\n",
       "    </tr>\n",
       "    <tr>\n",
       "      <th>2</th>\n",
       "      <td>ACCREDO HEALTH GROUP INC</td>\n",
       "      <td>NSC 101279</td>\n",
       "      <td>Nonresident Sterile Compounding Pharmacy</td>\n",
       "      <td>CLEAR</td>\n",
       "      <td>2025-12-01</td>\n",
       "      <td>ORLANDO</td>\n",
       "      <td>Florida</td>\n",
       "      <td>OUT OF STATE</td>\n",
       "      <td>32822</td>\n",
       "      <td>False</td>\n",
       "      <td>False</td>\n",
       "      <td>False</td>\n",
       "      <td>False</td>\n",
       "      <td>False</td>\n",
       "      <td>Compounding Pharmacy</td>\n",
       "      <td>False</td>\n",
       "      <td>False</td>\n",
       "      <td>False</td>\n",
       "      <td>False</td>\n",
       "      <td>False</td>\n",
       "      <td>False</td>\n",
       "      <td>True</td>\n",
       "      <td>True</td>\n",
       "      <td>False</td>\n",
       "      <td>False</td>\n",
       "      <td>False</td>\n",
       "      <td>False</td>\n",
       "      <td>False</td>\n",
       "      <td>False</td>\n",
       "      <td>False</td>\n",
       "      <td>False</td>\n",
       "      <td>False</td>\n",
       "      <td>False</td>\n",
       "      <td>False</td>\n",
       "      <td>False</td>\n",
       "      <td>False</td>\n",
       "      <td>False</td>\n",
       "      <td>False</td>\n",
       "      <td>False</td>\n",
       "      <td>False</td>\n",
       "      <td>False</td>\n",
       "      <td>False</td>\n",
       "      <td>False</td>\n",
       "      <td>False</td>\n",
       "      <td>False</td>\n",
       "      <td>True</td>\n",
       "      <td>True</td>\n",
       "      <td>False</td>\n",
       "      <td>False</td>\n",
       "      <td>False</td>\n",
       "      <td>False</td>\n",
       "      <td>True</td>\n",
       "      <td>False</td>\n",
       "      <td>False</td>\n",
       "      <td>False</td>\n",
       "      <td>False</td>\n",
       "      <td>False</td>\n",
       "      <td>False</td>\n",
       "      <td>False</td>\n",
       "      <td>False</td>\n",
       "      <td>False</td>\n",
       "      <td>False</td>\n",
       "      <td>False</td>\n",
       "      <td>False</td>\n",
       "      <td>False</td>\n",
       "      <td>False</td>\n",
       "      <td>False</td>\n",
       "      <td>False</td>\n",
       "      <td>False</td>\n",
       "      <td>False</td>\n",
       "    </tr>\n",
       "    <tr>\n",
       "      <th>3</th>\n",
       "      <td>ADVANCE CARE PHARMACY</td>\n",
       "      <td>LSC 99611</td>\n",
       "      <td>Sterile Compounding Pharmacy</td>\n",
       "      <td>CLEAR</td>\n",
       "      <td>2025-07-01</td>\n",
       "      <td>ESCONDIDO</td>\n",
       "      <td>California</td>\n",
       "      <td>SAN DIEGO</td>\n",
       "      <td>92025</td>\n",
       "      <td>False</td>\n",
       "      <td>False</td>\n",
       "      <td>False</td>\n",
       "      <td>False</td>\n",
       "      <td>False</td>\n",
       "      <td>Compounding Pharmacy</td>\n",
       "      <td>False</td>\n",
       "      <td>False</td>\n",
       "      <td>False</td>\n",
       "      <td>False</td>\n",
       "      <td>False</td>\n",
       "      <td>False</td>\n",
       "      <td>False</td>\n",
       "      <td>False</td>\n",
       "      <td>True</td>\n",
       "      <td>False</td>\n",
       "      <td>False</td>\n",
       "      <td>False</td>\n",
       "      <td>False</td>\n",
       "      <td>False</td>\n",
       "      <td>False</td>\n",
       "      <td>False</td>\n",
       "      <td>False</td>\n",
       "      <td>False</td>\n",
       "      <td>False</td>\n",
       "      <td>False</td>\n",
       "      <td>False</td>\n",
       "      <td>False</td>\n",
       "      <td>False</td>\n",
       "      <td>False</td>\n",
       "      <td>False</td>\n",
       "      <td>False</td>\n",
       "      <td>False</td>\n",
       "      <td>False</td>\n",
       "      <td>False</td>\n",
       "      <td>False</td>\n",
       "      <td>False</td>\n",
       "      <td>False</td>\n",
       "      <td>False</td>\n",
       "      <td>False</td>\n",
       "      <td>False</td>\n",
       "      <td>False</td>\n",
       "      <td>False</td>\n",
       "      <td>False</td>\n",
       "      <td>False</td>\n",
       "      <td>False</td>\n",
       "      <td>False</td>\n",
       "      <td>False</td>\n",
       "      <td>False</td>\n",
       "      <td>False</td>\n",
       "      <td>False</td>\n",
       "      <td>False</td>\n",
       "      <td>False</td>\n",
       "      <td>False</td>\n",
       "      <td>False</td>\n",
       "      <td>False</td>\n",
       "      <td>False</td>\n",
       "      <td>False</td>\n",
       "      <td>False</td>\n",
       "      <td>False</td>\n",
       "      <td>False</td>\n",
       "    </tr>\n",
       "    <tr>\n",
       "      <th>4</th>\n",
       "      <td>ALERACARE PHARMACY</td>\n",
       "      <td>NSC 101806</td>\n",
       "      <td>Nonresident Sterile Compounding Pharmacy</td>\n",
       "      <td>CLEAR</td>\n",
       "      <td>2025-11-01</td>\n",
       "      <td>PHOENIX</td>\n",
       "      <td>Arizona</td>\n",
       "      <td>OUT OF STATE</td>\n",
       "      <td>85032</td>\n",
       "      <td>False</td>\n",
       "      <td>False</td>\n",
       "      <td>False</td>\n",
       "      <td>False</td>\n",
       "      <td>False</td>\n",
       "      <td>Compounding Pharmacy</td>\n",
       "      <td>False</td>\n",
       "      <td>False</td>\n",
       "      <td>True</td>\n",
       "      <td>False</td>\n",
       "      <td>True</td>\n",
       "      <td>False</td>\n",
       "      <td>True</td>\n",
       "      <td>True</td>\n",
       "      <td>False</td>\n",
       "      <td>True</td>\n",
       "      <td>True</td>\n",
       "      <td>True</td>\n",
       "      <td>True</td>\n",
       "      <td>True</td>\n",
       "      <td>True</td>\n",
       "      <td>True</td>\n",
       "      <td>True</td>\n",
       "      <td>False</td>\n",
       "      <td>False</td>\n",
       "      <td>False</td>\n",
       "      <td>False</td>\n",
       "      <td>False</td>\n",
       "      <td>False</td>\n",
       "      <td>False</td>\n",
       "      <td>False</td>\n",
       "      <td>False</td>\n",
       "      <td>False</td>\n",
       "      <td>False</td>\n",
       "      <td>False</td>\n",
       "      <td>False</td>\n",
       "      <td>True</td>\n",
       "      <td>False</td>\n",
       "      <td>True</td>\n",
       "      <td>True</td>\n",
       "      <td>True</td>\n",
       "      <td>False</td>\n",
       "      <td>True</td>\n",
       "      <td>False</td>\n",
       "      <td>False</td>\n",
       "      <td>False</td>\n",
       "      <td>False</td>\n",
       "      <td>False</td>\n",
       "      <td>False</td>\n",
       "      <td>False</td>\n",
       "      <td>False</td>\n",
       "      <td>False</td>\n",
       "      <td>False</td>\n",
       "      <td>False</td>\n",
       "      <td>False</td>\n",
       "      <td>False</td>\n",
       "      <td>False</td>\n",
       "      <td>False</td>\n",
       "      <td>False</td>\n",
       "      <td>False</td>\n",
       "      <td>False</td>\n",
       "    </tr>\n",
       "    <tr>\n",
       "      <th>...</th>\n",
       "      <td>...</td>\n",
       "      <td>...</td>\n",
       "      <td>...</td>\n",
       "      <td>...</td>\n",
       "      <td>...</td>\n",
       "      <td>...</td>\n",
       "      <td>...</td>\n",
       "      <td>...</td>\n",
       "      <td>...</td>\n",
       "      <td>...</td>\n",
       "      <td>...</td>\n",
       "      <td>...</td>\n",
       "      <td>...</td>\n",
       "      <td>...</td>\n",
       "      <td>...</td>\n",
       "      <td>...</td>\n",
       "      <td>...</td>\n",
       "      <td>...</td>\n",
       "      <td>...</td>\n",
       "      <td>...</td>\n",
       "      <td>...</td>\n",
       "      <td>...</td>\n",
       "      <td>...</td>\n",
       "      <td>...</td>\n",
       "      <td>...</td>\n",
       "      <td>...</td>\n",
       "      <td>...</td>\n",
       "      <td>...</td>\n",
       "      <td>...</td>\n",
       "      <td>...</td>\n",
       "      <td>...</td>\n",
       "      <td>...</td>\n",
       "      <td>...</td>\n",
       "      <td>...</td>\n",
       "      <td>...</td>\n",
       "      <td>...</td>\n",
       "      <td>...</td>\n",
       "      <td>...</td>\n",
       "      <td>...</td>\n",
       "      <td>...</td>\n",
       "      <td>...</td>\n",
       "      <td>...</td>\n",
       "      <td>...</td>\n",
       "      <td>...</td>\n",
       "      <td>...</td>\n",
       "      <td>...</td>\n",
       "      <td>...</td>\n",
       "      <td>...</td>\n",
       "      <td>...</td>\n",
       "      <td>...</td>\n",
       "      <td>...</td>\n",
       "      <td>...</td>\n",
       "      <td>...</td>\n",
       "      <td>...</td>\n",
       "      <td>...</td>\n",
       "      <td>...</td>\n",
       "      <td>...</td>\n",
       "      <td>...</td>\n",
       "      <td>...</td>\n",
       "      <td>...</td>\n",
       "      <td>...</td>\n",
       "      <td>...</td>\n",
       "      <td>...</td>\n",
       "      <td>...</td>\n",
       "      <td>...</td>\n",
       "      <td>...</td>\n",
       "      <td>...</td>\n",
       "      <td>...</td>\n",
       "      <td>...</td>\n",
       "      <td>...</td>\n",
       "    </tr>\n",
       "    <tr>\n",
       "      <th>99</th>\n",
       "      <td>VERDUGO PLAZA PHARMACY ALHAMBRA</td>\n",
       "      <td>LSC 101881</td>\n",
       "      <td>Sterile Compounding Pharmacy</td>\n",
       "      <td>CLEAR</td>\n",
       "      <td>2025-01-15</td>\n",
       "      <td>ALHAMBRA</td>\n",
       "      <td>California</td>\n",
       "      <td>LOS ANGELES</td>\n",
       "      <td>91803</td>\n",
       "      <td>False</td>\n",
       "      <td>False</td>\n",
       "      <td>False</td>\n",
       "      <td>False</td>\n",
       "      <td>False</td>\n",
       "      <td>Compounding Pharmacy</td>\n",
       "      <td>False</td>\n",
       "      <td>False</td>\n",
       "      <td>False</td>\n",
       "      <td>False</td>\n",
       "      <td>False</td>\n",
       "      <td>False</td>\n",
       "      <td>False</td>\n",
       "      <td>False</td>\n",
       "      <td>True</td>\n",
       "      <td>False</td>\n",
       "      <td>False</td>\n",
       "      <td>False</td>\n",
       "      <td>False</td>\n",
       "      <td>False</td>\n",
       "      <td>False</td>\n",
       "      <td>False</td>\n",
       "      <td>False</td>\n",
       "      <td>False</td>\n",
       "      <td>False</td>\n",
       "      <td>False</td>\n",
       "      <td>False</td>\n",
       "      <td>False</td>\n",
       "      <td>False</td>\n",
       "      <td>False</td>\n",
       "      <td>False</td>\n",
       "      <td>False</td>\n",
       "      <td>False</td>\n",
       "      <td>False</td>\n",
       "      <td>False</td>\n",
       "      <td>False</td>\n",
       "      <td>False</td>\n",
       "      <td>False</td>\n",
       "      <td>False</td>\n",
       "      <td>False</td>\n",
       "      <td>False</td>\n",
       "      <td>False</td>\n",
       "      <td>False</td>\n",
       "      <td>False</td>\n",
       "      <td>False</td>\n",
       "      <td>False</td>\n",
       "      <td>False</td>\n",
       "      <td>False</td>\n",
       "      <td>False</td>\n",
       "      <td>False</td>\n",
       "      <td>False</td>\n",
       "      <td>False</td>\n",
       "      <td>False</td>\n",
       "      <td>False</td>\n",
       "      <td>False</td>\n",
       "      <td>False</td>\n",
       "      <td>False</td>\n",
       "      <td>False</td>\n",
       "      <td>False</td>\n",
       "      <td>False</td>\n",
       "      <td>False</td>\n",
       "    </tr>\n",
       "    <tr>\n",
       "      <th>100</th>\n",
       "      <td>VLS PHARMACY INC</td>\n",
       "      <td>NSC 101214</td>\n",
       "      <td>Nonresident Sterile Compounding Pharmacy</td>\n",
       "      <td>CLEAR</td>\n",
       "      <td>2025-11-01</td>\n",
       "      <td>BROOKLYN</td>\n",
       "      <td>New York</td>\n",
       "      <td>OUT OF STATE</td>\n",
       "      <td>11220</td>\n",
       "      <td>False</td>\n",
       "      <td>False</td>\n",
       "      <td>False</td>\n",
       "      <td>False</td>\n",
       "      <td>False</td>\n",
       "      <td>Compounding Pharmacy</td>\n",
       "      <td>False</td>\n",
       "      <td>False</td>\n",
       "      <td>True</td>\n",
       "      <td>True</td>\n",
       "      <td>False</td>\n",
       "      <td>True</td>\n",
       "      <td>False</td>\n",
       "      <td>False</td>\n",
       "      <td>False</td>\n",
       "      <td>False</td>\n",
       "      <td>False</td>\n",
       "      <td>False</td>\n",
       "      <td>False</td>\n",
       "      <td>False</td>\n",
       "      <td>False</td>\n",
       "      <td>False</td>\n",
       "      <td>False</td>\n",
       "      <td>False</td>\n",
       "      <td>False</td>\n",
       "      <td>False</td>\n",
       "      <td>False</td>\n",
       "      <td>False</td>\n",
       "      <td>True</td>\n",
       "      <td>False</td>\n",
       "      <td>False</td>\n",
       "      <td>False</td>\n",
       "      <td>False</td>\n",
       "      <td>False</td>\n",
       "      <td>False</td>\n",
       "      <td>False</td>\n",
       "      <td>False</td>\n",
       "      <td>False</td>\n",
       "      <td>False</td>\n",
       "      <td>False</td>\n",
       "      <td>False</td>\n",
       "      <td>False</td>\n",
       "      <td>False</td>\n",
       "      <td>False</td>\n",
       "      <td>False</td>\n",
       "      <td>False</td>\n",
       "      <td>False</td>\n",
       "      <td>False</td>\n",
       "      <td>False</td>\n",
       "      <td>False</td>\n",
       "      <td>False</td>\n",
       "      <td>False</td>\n",
       "      <td>False</td>\n",
       "      <td>False</td>\n",
       "      <td>False</td>\n",
       "      <td>False</td>\n",
       "      <td>False</td>\n",
       "      <td>False</td>\n",
       "      <td>False</td>\n",
       "      <td>False</td>\n",
       "      <td>False</td>\n",
       "    </tr>\n",
       "    <tr>\n",
       "      <th>101</th>\n",
       "      <td>WELLNESS CENTER PHARMACY INC DBA DESIGNER DRUGS</td>\n",
       "      <td>NSC 100938</td>\n",
       "      <td>Nonresident Sterile Compounding Pharmacy</td>\n",
       "      <td>CLEAR</td>\n",
       "      <td>2025-11-01</td>\n",
       "      <td>CHATTANOOGA</td>\n",
       "      <td>Tennessee</td>\n",
       "      <td>OUT OF STATE</td>\n",
       "      <td>37421</td>\n",
       "      <td>False</td>\n",
       "      <td>False</td>\n",
       "      <td>False</td>\n",
       "      <td>False</td>\n",
       "      <td>False</td>\n",
       "      <td>Compounding Pharmacy</td>\n",
       "      <td>False</td>\n",
       "      <td>False</td>\n",
       "      <td>False</td>\n",
       "      <td>False</td>\n",
       "      <td>False</td>\n",
       "      <td>False</td>\n",
       "      <td>False</td>\n",
       "      <td>False</td>\n",
       "      <td>False</td>\n",
       "      <td>False</td>\n",
       "      <td>False</td>\n",
       "      <td>False</td>\n",
       "      <td>False</td>\n",
       "      <td>False</td>\n",
       "      <td>False</td>\n",
       "      <td>False</td>\n",
       "      <td>False</td>\n",
       "      <td>False</td>\n",
       "      <td>False</td>\n",
       "      <td>False</td>\n",
       "      <td>False</td>\n",
       "      <td>False</td>\n",
       "      <td>False</td>\n",
       "      <td>False</td>\n",
       "      <td>False</td>\n",
       "      <td>False</td>\n",
       "      <td>False</td>\n",
       "      <td>False</td>\n",
       "      <td>False</td>\n",
       "      <td>False</td>\n",
       "      <td>False</td>\n",
       "      <td>False</td>\n",
       "      <td>False</td>\n",
       "      <td>False</td>\n",
       "      <td>False</td>\n",
       "      <td>False</td>\n",
       "      <td>False</td>\n",
       "      <td>False</td>\n",
       "      <td>False</td>\n",
       "      <td>False</td>\n",
       "      <td>False</td>\n",
       "      <td>False</td>\n",
       "      <td>False</td>\n",
       "      <td>False</td>\n",
       "      <td>False</td>\n",
       "      <td>False</td>\n",
       "      <td>False</td>\n",
       "      <td>False</td>\n",
       "      <td>False</td>\n",
       "      <td>False</td>\n",
       "      <td>False</td>\n",
       "      <td>False</td>\n",
       "      <td>False</td>\n",
       "      <td>False</td>\n",
       "      <td>False</td>\n",
       "    </tr>\n",
       "    <tr>\n",
       "      <th>102</th>\n",
       "      <td>WELLSCRIPT</td>\n",
       "      <td>LSC 100178</td>\n",
       "      <td>Sterile Compounding Pharmacy</td>\n",
       "      <td>CLEAR</td>\n",
       "      <td>2025-06-01</td>\n",
       "      <td>REDDING</td>\n",
       "      <td>California</td>\n",
       "      <td>SHASTA</td>\n",
       "      <td>96001</td>\n",
       "      <td>False</td>\n",
       "      <td>False</td>\n",
       "      <td>False</td>\n",
       "      <td>False</td>\n",
       "      <td>False</td>\n",
       "      <td>Compounding Pharmacy</td>\n",
       "      <td>False</td>\n",
       "      <td>False</td>\n",
       "      <td>False</td>\n",
       "      <td>False</td>\n",
       "      <td>False</td>\n",
       "      <td>False</td>\n",
       "      <td>False</td>\n",
       "      <td>False</td>\n",
       "      <td>False</td>\n",
       "      <td>False</td>\n",
       "      <td>False</td>\n",
       "      <td>False</td>\n",
       "      <td>False</td>\n",
       "      <td>False</td>\n",
       "      <td>False</td>\n",
       "      <td>False</td>\n",
       "      <td>False</td>\n",
       "      <td>False</td>\n",
       "      <td>False</td>\n",
       "      <td>False</td>\n",
       "      <td>False</td>\n",
       "      <td>False</td>\n",
       "      <td>False</td>\n",
       "      <td>False</td>\n",
       "      <td>False</td>\n",
       "      <td>False</td>\n",
       "      <td>False</td>\n",
       "      <td>False</td>\n",
       "      <td>False</td>\n",
       "      <td>False</td>\n",
       "      <td>False</td>\n",
       "      <td>False</td>\n",
       "      <td>False</td>\n",
       "      <td>False</td>\n",
       "      <td>False</td>\n",
       "      <td>False</td>\n",
       "      <td>False</td>\n",
       "      <td>False</td>\n",
       "      <td>False</td>\n",
       "      <td>False</td>\n",
       "      <td>False</td>\n",
       "      <td>False</td>\n",
       "      <td>False</td>\n",
       "      <td>False</td>\n",
       "      <td>False</td>\n",
       "      <td>False</td>\n",
       "      <td>False</td>\n",
       "      <td>False</td>\n",
       "      <td>False</td>\n",
       "      <td>False</td>\n",
       "      <td>False</td>\n",
       "      <td>False</td>\n",
       "      <td>False</td>\n",
       "      <td>False</td>\n",
       "      <td>False</td>\n",
       "    </tr>\n",
       "    <tr>\n",
       "      <th>103</th>\n",
       "      <td>WOMENS INTERNATIONAL PHARMACY, INC. DBA BELMAR...</td>\n",
       "      <td>NSC 101754</td>\n",
       "      <td>Nonresident Sterile Compounding Pharmacy</td>\n",
       "      <td>CLEAR</td>\n",
       "      <td>2025-03-01</td>\n",
       "      <td>YOUNGTOWN</td>\n",
       "      <td>Arizona</td>\n",
       "      <td>OUT OF STATE</td>\n",
       "      <td>85363</td>\n",
       "      <td>False</td>\n",
       "      <td>False</td>\n",
       "      <td>False</td>\n",
       "      <td>False</td>\n",
       "      <td>False</td>\n",
       "      <td>Compounding Pharmacy</td>\n",
       "      <td>False</td>\n",
       "      <td>False</td>\n",
       "      <td>False</td>\n",
       "      <td>False</td>\n",
       "      <td>False</td>\n",
       "      <td>False</td>\n",
       "      <td>False</td>\n",
       "      <td>False</td>\n",
       "      <td>False</td>\n",
       "      <td>False</td>\n",
       "      <td>False</td>\n",
       "      <td>False</td>\n",
       "      <td>False</td>\n",
       "      <td>False</td>\n",
       "      <td>False</td>\n",
       "      <td>False</td>\n",
       "      <td>False</td>\n",
       "      <td>False</td>\n",
       "      <td>False</td>\n",
       "      <td>False</td>\n",
       "      <td>False</td>\n",
       "      <td>False</td>\n",
       "      <td>False</td>\n",
       "      <td>False</td>\n",
       "      <td>False</td>\n",
       "      <td>False</td>\n",
       "      <td>False</td>\n",
       "      <td>False</td>\n",
       "      <td>False</td>\n",
       "      <td>False</td>\n",
       "      <td>False</td>\n",
       "      <td>False</td>\n",
       "      <td>False</td>\n",
       "      <td>False</td>\n",
       "      <td>False</td>\n",
       "      <td>False</td>\n",
       "      <td>False</td>\n",
       "      <td>False</td>\n",
       "      <td>False</td>\n",
       "      <td>False</td>\n",
       "      <td>False</td>\n",
       "      <td>False</td>\n",
       "      <td>False</td>\n",
       "      <td>False</td>\n",
       "      <td>False</td>\n",
       "      <td>False</td>\n",
       "      <td>False</td>\n",
       "      <td>False</td>\n",
       "      <td>False</td>\n",
       "      <td>False</td>\n",
       "      <td>False</td>\n",
       "      <td>False</td>\n",
       "      <td>False</td>\n",
       "      <td>False</td>\n",
       "      <td>False</td>\n",
       "    </tr>\n",
       "  </tbody>\n",
       "</table>\n",
       "<p>104 rows × 70 columns</p>\n",
       "</div>"
      ]
     },
     "execution_count": 121,
     "metadata": {},
     "output_type": "execute_result"
    }
   ],
   "execution_count": 121
  },
  {
   "metadata": {},
   "cell_type": "markdown",
   "source": "## Exploring All Pharmacy Table",
   "id": "6745571248db952e"
  },
  {
   "metadata": {
    "ExecuteTime": {
     "end_time": "2024-12-15T18:53:46.136706Z",
     "start_time": "2024-12-15T18:53:46.128662Z"
    }
   },
   "cell_type": "code",
   "source": "all_pharmacies.info()",
   "id": "937246946c5080ef",
   "outputs": [
    {
     "name": "stdout",
     "output_type": "stream",
     "text": [
      "<class 'pandas.core.frame.DataFrame'>\n",
      "RangeIndex: 846 entries, 0 to 845\n",
      "Data columns (total 18 columns):\n",
      " #   Column            Non-Null Count  Dtype  \n",
      "---  ------            --------------  -----  \n",
      " 0   Pharmacy Name     846 non-null    object \n",
      " 1   License Number    845 non-null    object \n",
      " 2   License Type      845 non-null    object \n",
      " 3   License Status    845 non-null    object \n",
      " 4   Expiration Date   845 non-null    object \n",
      " 5   City              845 non-null    object \n",
      " 6   State             845 non-null    object \n",
      " 7   County            845 non-null    object \n",
      " 8   Zip               846 non-null    int64  \n",
      " 9   isGovernment      846 non-null    bool   \n",
      " 10  isSatellite       846 non-null    bool   \n",
      " 11  isInfusionCenter  846 non-null    bool   \n",
      " 12  isHospital        846 non-null    bool   \n",
      " 13  isVeterinaryOnly  846 non-null    bool   \n",
      " 14  Entity Type       846 non-null    object \n",
      " 15  ZIP               825 non-null    float64\n",
      " 16  LAT               825 non-null    float64\n",
      " 17  LNG               825 non-null    float64\n",
      "dtypes: bool(5), float64(3), int64(1), object(9)\n",
      "memory usage: 90.2+ KB\n"
     ]
    }
   ],
   "execution_count": 122
  },
  {
   "metadata": {},
   "cell_type": "markdown",
   "source": "### WHAT type of Sterile Compounding Licenses have been issued by the California State Board of Pharmacy? ",
   "id": "9ca629c422a32396"
  },
  {
   "metadata": {
    "ExecuteTime": {
     "end_time": "2024-12-15T18:53:46.241072Z",
     "start_time": "2024-12-15T18:53:46.157862Z"
    }
   },
   "cell_type": "code",
   "source": [
    "# Aggregate the counts of each 'License Type'\n",
    "license_type_counts = all_pharmacies['License Type'].value_counts().reset_index()\n",
    "license_type_counts.columns = ['License Type', 'Count']\n",
    "\n",
    "# Create the donut chart for License Type\n",
    "fig = px.pie(\n",
    "    license_type_counts,\n",
    "    names='License Type',\n",
    "    values='Count',\n",
    "    title=\"Distribution of License Types\",\n",
    "    hole=0.4,  # This makes it a donut chart\n",
    ")\n",
    "\n",
    "# Update the legend labels for each trace to be more descriptive\n",
    "fig.for_each_trace(lambda trace: trace.update(\n",
    "    name=\"License Type A\" if trace.name == \"Type A\" else\n",
    "    \"License Type B\" if trace.name == \"Type B\" else\n",
    "    \"License Type C\" if trace.name == \"Type C\" else\n",
    "    trace.name  # Keep original name if it doesn't match any condition\n",
    "))\n",
    "\n",
    "# Customize the layout for title and legend\n",
    "fig.update_layout(\n",
    "    title={\n",
    "        'text': \"Distribution of License Types\",\n",
    "        'y': 0.95,  # Position the title just below the top of the chart\n",
    "        'x': 0.5,  # Horizontally center the title\n",
    "        'xanchor': 'center',\n",
    "        'yanchor': 'top'  # Align title's top edge with y position\n",
    "    },\n",
    "    legend=dict(\n",
    "        title=\"License Type\",  # Add a legend title\n",
    "        orientation=\"v\",  # Horizontal legend layout\n",
    "        yanchor=\"bottom\",\n",
    "        y=0.5,  # Place legend below the chart\n",
    "        xanchor=\"right\",\n",
    "        x=.25\n",
    "    )\n",
    ")\n",
    "\n",
    "# Show the plot\n",
    "fig.show()\n"
   ],
   "id": "2b828eddce92166d",
   "outputs": [
    {
     "data": {
      "application/vnd.plotly.v1+json": {
       "data": [
        {
         "domain": {
          "x": [
           0.0,
           1.0
          ],
          "y": [
           0.0,
           1.0
          ]
         },
         "hole": 0.4,
         "hovertemplate": "License Type=%{label}<br>Count=%{value}<extra></extra>",
         "labels": [
          "Sterile Compounding Pharmacy",
          "Sterile Compounding Pharmacy (Government Owned)",
          "Nonresident Sterile Compounding Pharmacy",
          "Satellite Compounding Pharmacy",
          "Satellite Compounding Pharmacy (Fee Exempt)"
         ],
         "legendgroup": "",
         "name": "",
         "showlegend": true,
         "values": [
          672,
          109,
          50,
          7,
          7
         ],
         "type": "pie"
        }
       ],
       "layout": {
        "template": {
         "data": {
          "histogram2dcontour": [
           {
            "type": "histogram2dcontour",
            "colorbar": {
             "outlinewidth": 0,
             "ticks": ""
            },
            "colorscale": [
             [
              0.0,
              "#0d0887"
             ],
             [
              0.1111111111111111,
              "#46039f"
             ],
             [
              0.2222222222222222,
              "#7201a8"
             ],
             [
              0.3333333333333333,
              "#9c179e"
             ],
             [
              0.4444444444444444,
              "#bd3786"
             ],
             [
              0.5555555555555556,
              "#d8576b"
             ],
             [
              0.6666666666666666,
              "#ed7953"
             ],
             [
              0.7777777777777778,
              "#fb9f3a"
             ],
             [
              0.8888888888888888,
              "#fdca26"
             ],
             [
              1.0,
              "#f0f921"
             ]
            ]
           }
          ],
          "choropleth": [
           {
            "type": "choropleth",
            "colorbar": {
             "outlinewidth": 0,
             "ticks": ""
            }
           }
          ],
          "histogram2d": [
           {
            "type": "histogram2d",
            "colorbar": {
             "outlinewidth": 0,
             "ticks": ""
            },
            "colorscale": [
             [
              0.0,
              "#0d0887"
             ],
             [
              0.1111111111111111,
              "#46039f"
             ],
             [
              0.2222222222222222,
              "#7201a8"
             ],
             [
              0.3333333333333333,
              "#9c179e"
             ],
             [
              0.4444444444444444,
              "#bd3786"
             ],
             [
              0.5555555555555556,
              "#d8576b"
             ],
             [
              0.6666666666666666,
              "#ed7953"
             ],
             [
              0.7777777777777778,
              "#fb9f3a"
             ],
             [
              0.8888888888888888,
              "#fdca26"
             ],
             [
              1.0,
              "#f0f921"
             ]
            ]
           }
          ],
          "heatmap": [
           {
            "type": "heatmap",
            "colorbar": {
             "outlinewidth": 0,
             "ticks": ""
            },
            "colorscale": [
             [
              0.0,
              "#0d0887"
             ],
             [
              0.1111111111111111,
              "#46039f"
             ],
             [
              0.2222222222222222,
              "#7201a8"
             ],
             [
              0.3333333333333333,
              "#9c179e"
             ],
             [
              0.4444444444444444,
              "#bd3786"
             ],
             [
              0.5555555555555556,
              "#d8576b"
             ],
             [
              0.6666666666666666,
              "#ed7953"
             ],
             [
              0.7777777777777778,
              "#fb9f3a"
             ],
             [
              0.8888888888888888,
              "#fdca26"
             ],
             [
              1.0,
              "#f0f921"
             ]
            ]
           }
          ],
          "heatmapgl": [
           {
            "type": "heatmapgl",
            "colorbar": {
             "outlinewidth": 0,
             "ticks": ""
            },
            "colorscale": [
             [
              0.0,
              "#0d0887"
             ],
             [
              0.1111111111111111,
              "#46039f"
             ],
             [
              0.2222222222222222,
              "#7201a8"
             ],
             [
              0.3333333333333333,
              "#9c179e"
             ],
             [
              0.4444444444444444,
              "#bd3786"
             ],
             [
              0.5555555555555556,
              "#d8576b"
             ],
             [
              0.6666666666666666,
              "#ed7953"
             ],
             [
              0.7777777777777778,
              "#fb9f3a"
             ],
             [
              0.8888888888888888,
              "#fdca26"
             ],
             [
              1.0,
              "#f0f921"
             ]
            ]
           }
          ],
          "contourcarpet": [
           {
            "type": "contourcarpet",
            "colorbar": {
             "outlinewidth": 0,
             "ticks": ""
            }
           }
          ],
          "contour": [
           {
            "type": "contour",
            "colorbar": {
             "outlinewidth": 0,
             "ticks": ""
            },
            "colorscale": [
             [
              0.0,
              "#0d0887"
             ],
             [
              0.1111111111111111,
              "#46039f"
             ],
             [
              0.2222222222222222,
              "#7201a8"
             ],
             [
              0.3333333333333333,
              "#9c179e"
             ],
             [
              0.4444444444444444,
              "#bd3786"
             ],
             [
              0.5555555555555556,
              "#d8576b"
             ],
             [
              0.6666666666666666,
              "#ed7953"
             ],
             [
              0.7777777777777778,
              "#fb9f3a"
             ],
             [
              0.8888888888888888,
              "#fdca26"
             ],
             [
              1.0,
              "#f0f921"
             ]
            ]
           }
          ],
          "surface": [
           {
            "type": "surface",
            "colorbar": {
             "outlinewidth": 0,
             "ticks": ""
            },
            "colorscale": [
             [
              0.0,
              "#0d0887"
             ],
             [
              0.1111111111111111,
              "#46039f"
             ],
             [
              0.2222222222222222,
              "#7201a8"
             ],
             [
              0.3333333333333333,
              "#9c179e"
             ],
             [
              0.4444444444444444,
              "#bd3786"
             ],
             [
              0.5555555555555556,
              "#d8576b"
             ],
             [
              0.6666666666666666,
              "#ed7953"
             ],
             [
              0.7777777777777778,
              "#fb9f3a"
             ],
             [
              0.8888888888888888,
              "#fdca26"
             ],
             [
              1.0,
              "#f0f921"
             ]
            ]
           }
          ],
          "mesh3d": [
           {
            "type": "mesh3d",
            "colorbar": {
             "outlinewidth": 0,
             "ticks": ""
            }
           }
          ],
          "scatter": [
           {
            "fillpattern": {
             "fillmode": "overlay",
             "size": 10,
             "solidity": 0.2
            },
            "type": "scatter"
           }
          ],
          "parcoords": [
           {
            "type": "parcoords",
            "line": {
             "colorbar": {
              "outlinewidth": 0,
              "ticks": ""
             }
            }
           }
          ],
          "scatterpolargl": [
           {
            "type": "scatterpolargl",
            "marker": {
             "colorbar": {
              "outlinewidth": 0,
              "ticks": ""
             }
            }
           }
          ],
          "bar": [
           {
            "error_x": {
             "color": "#2a3f5f"
            },
            "error_y": {
             "color": "#2a3f5f"
            },
            "marker": {
             "line": {
              "color": "#E5ECF6",
              "width": 0.5
             },
             "pattern": {
              "fillmode": "overlay",
              "size": 10,
              "solidity": 0.2
             }
            },
            "type": "bar"
           }
          ],
          "scattergeo": [
           {
            "type": "scattergeo",
            "marker": {
             "colorbar": {
              "outlinewidth": 0,
              "ticks": ""
             }
            }
           }
          ],
          "scatterpolar": [
           {
            "type": "scatterpolar",
            "marker": {
             "colorbar": {
              "outlinewidth": 0,
              "ticks": ""
             }
            }
           }
          ],
          "histogram": [
           {
            "marker": {
             "pattern": {
              "fillmode": "overlay",
              "size": 10,
              "solidity": 0.2
             }
            },
            "type": "histogram"
           }
          ],
          "scattergl": [
           {
            "type": "scattergl",
            "marker": {
             "colorbar": {
              "outlinewidth": 0,
              "ticks": ""
             }
            }
           }
          ],
          "scatter3d": [
           {
            "type": "scatter3d",
            "line": {
             "colorbar": {
              "outlinewidth": 0,
              "ticks": ""
             }
            },
            "marker": {
             "colorbar": {
              "outlinewidth": 0,
              "ticks": ""
             }
            }
           }
          ],
          "scattermapbox": [
           {
            "type": "scattermapbox",
            "marker": {
             "colorbar": {
              "outlinewidth": 0,
              "ticks": ""
             }
            }
           }
          ],
          "scatterternary": [
           {
            "type": "scatterternary",
            "marker": {
             "colorbar": {
              "outlinewidth": 0,
              "ticks": ""
             }
            }
           }
          ],
          "scattercarpet": [
           {
            "type": "scattercarpet",
            "marker": {
             "colorbar": {
              "outlinewidth": 0,
              "ticks": ""
             }
            }
           }
          ],
          "carpet": [
           {
            "aaxis": {
             "endlinecolor": "#2a3f5f",
             "gridcolor": "white",
             "linecolor": "white",
             "minorgridcolor": "white",
             "startlinecolor": "#2a3f5f"
            },
            "baxis": {
             "endlinecolor": "#2a3f5f",
             "gridcolor": "white",
             "linecolor": "white",
             "minorgridcolor": "white",
             "startlinecolor": "#2a3f5f"
            },
            "type": "carpet"
           }
          ],
          "table": [
           {
            "cells": {
             "fill": {
              "color": "#EBF0F8"
             },
             "line": {
              "color": "white"
             }
            },
            "header": {
             "fill": {
              "color": "#C8D4E3"
             },
             "line": {
              "color": "white"
             }
            },
            "type": "table"
           }
          ],
          "barpolar": [
           {
            "marker": {
             "line": {
              "color": "#E5ECF6",
              "width": 0.5
             },
             "pattern": {
              "fillmode": "overlay",
              "size": 10,
              "solidity": 0.2
             }
            },
            "type": "barpolar"
           }
          ],
          "pie": [
           {
            "automargin": true,
            "type": "pie"
           }
          ]
         },
         "layout": {
          "autotypenumbers": "strict",
          "colorway": [
           "#636efa",
           "#EF553B",
           "#00cc96",
           "#ab63fa",
           "#FFA15A",
           "#19d3f3",
           "#FF6692",
           "#B6E880",
           "#FF97FF",
           "#FECB52"
          ],
          "font": {
           "color": "#2a3f5f"
          },
          "hovermode": "closest",
          "hoverlabel": {
           "align": "left"
          },
          "paper_bgcolor": "white",
          "plot_bgcolor": "#E5ECF6",
          "polar": {
           "bgcolor": "#E5ECF6",
           "angularaxis": {
            "gridcolor": "white",
            "linecolor": "white",
            "ticks": ""
           },
           "radialaxis": {
            "gridcolor": "white",
            "linecolor": "white",
            "ticks": ""
           }
          },
          "ternary": {
           "bgcolor": "#E5ECF6",
           "aaxis": {
            "gridcolor": "white",
            "linecolor": "white",
            "ticks": ""
           },
           "baxis": {
            "gridcolor": "white",
            "linecolor": "white",
            "ticks": ""
           },
           "caxis": {
            "gridcolor": "white",
            "linecolor": "white",
            "ticks": ""
           }
          },
          "coloraxis": {
           "colorbar": {
            "outlinewidth": 0,
            "ticks": ""
           }
          },
          "colorscale": {
           "sequential": [
            [
             0.0,
             "#0d0887"
            ],
            [
             0.1111111111111111,
             "#46039f"
            ],
            [
             0.2222222222222222,
             "#7201a8"
            ],
            [
             0.3333333333333333,
             "#9c179e"
            ],
            [
             0.4444444444444444,
             "#bd3786"
            ],
            [
             0.5555555555555556,
             "#d8576b"
            ],
            [
             0.6666666666666666,
             "#ed7953"
            ],
            [
             0.7777777777777778,
             "#fb9f3a"
            ],
            [
             0.8888888888888888,
             "#fdca26"
            ],
            [
             1.0,
             "#f0f921"
            ]
           ],
           "sequentialminus": [
            [
             0.0,
             "#0d0887"
            ],
            [
             0.1111111111111111,
             "#46039f"
            ],
            [
             0.2222222222222222,
             "#7201a8"
            ],
            [
             0.3333333333333333,
             "#9c179e"
            ],
            [
             0.4444444444444444,
             "#bd3786"
            ],
            [
             0.5555555555555556,
             "#d8576b"
            ],
            [
             0.6666666666666666,
             "#ed7953"
            ],
            [
             0.7777777777777778,
             "#fb9f3a"
            ],
            [
             0.8888888888888888,
             "#fdca26"
            ],
            [
             1.0,
             "#f0f921"
            ]
           ],
           "diverging": [
            [
             0,
             "#8e0152"
            ],
            [
             0.1,
             "#c51b7d"
            ],
            [
             0.2,
             "#de77ae"
            ],
            [
             0.3,
             "#f1b6da"
            ],
            [
             0.4,
             "#fde0ef"
            ],
            [
             0.5,
             "#f7f7f7"
            ],
            [
             0.6,
             "#e6f5d0"
            ],
            [
             0.7,
             "#b8e186"
            ],
            [
             0.8,
             "#7fbc41"
            ],
            [
             0.9,
             "#4d9221"
            ],
            [
             1,
             "#276419"
            ]
           ]
          },
          "xaxis": {
           "gridcolor": "white",
           "linecolor": "white",
           "ticks": "",
           "title": {
            "standoff": 15
           },
           "zerolinecolor": "white",
           "automargin": true,
           "zerolinewidth": 2
          },
          "yaxis": {
           "gridcolor": "white",
           "linecolor": "white",
           "ticks": "",
           "title": {
            "standoff": 15
           },
           "zerolinecolor": "white",
           "automargin": true,
           "zerolinewidth": 2
          },
          "scene": {
           "xaxis": {
            "backgroundcolor": "#E5ECF6",
            "gridcolor": "white",
            "linecolor": "white",
            "showbackground": true,
            "ticks": "",
            "zerolinecolor": "white",
            "gridwidth": 2
           },
           "yaxis": {
            "backgroundcolor": "#E5ECF6",
            "gridcolor": "white",
            "linecolor": "white",
            "showbackground": true,
            "ticks": "",
            "zerolinecolor": "white",
            "gridwidth": 2
           },
           "zaxis": {
            "backgroundcolor": "#E5ECF6",
            "gridcolor": "white",
            "linecolor": "white",
            "showbackground": true,
            "ticks": "",
            "zerolinecolor": "white",
            "gridwidth": 2
           }
          },
          "shapedefaults": {
           "line": {
            "color": "#2a3f5f"
           }
          },
          "annotationdefaults": {
           "arrowcolor": "#2a3f5f",
           "arrowhead": 0,
           "arrowwidth": 1
          },
          "geo": {
           "bgcolor": "white",
           "landcolor": "#E5ECF6",
           "subunitcolor": "white",
           "showland": true,
           "showlakes": true,
           "lakecolor": "white"
          },
          "title": {
           "x": 0.05
          },
          "mapbox": {
           "style": "light"
          }
         }
        },
        "legend": {
         "tracegroupgap": 0,
         "title": {
          "text": "License Type"
         },
         "orientation": "v",
         "yanchor": "bottom",
         "y": 0.5,
         "xanchor": "right",
         "x": 0.25
        },
        "title": {
         "text": "Distribution of License Types",
         "y": 0.95,
         "x": 0.5,
         "xanchor": "center",
         "yanchor": "top"
        }
       },
       "config": {
        "plotlyServerURL": "https://plot.ly"
       }
      },
      "text/html": [
       "<div>                            <div id=\"9871182d-e4a0-4064-97a0-2870774a8e83\" class=\"plotly-graph-div\" style=\"height:525px; width:100%;\"></div>            <script type=\"text/javascript\">                require([\"plotly\"], function(Plotly) {                    window.PLOTLYENV=window.PLOTLYENV || {};                                    if (document.getElementById(\"9871182d-e4a0-4064-97a0-2870774a8e83\")) {                    Plotly.newPlot(                        \"9871182d-e4a0-4064-97a0-2870774a8e83\",                        [{\"domain\":{\"x\":[0.0,1.0],\"y\":[0.0,1.0]},\"hole\":0.4,\"hovertemplate\":\"License Type=%{label}\\u003cbr\\u003eCount=%{value}\\u003cextra\\u003e\\u003c\\u002fextra\\u003e\",\"labels\":[\"Sterile Compounding Pharmacy\",\"Sterile Compounding Pharmacy (Government Owned)\",\"Nonresident Sterile Compounding Pharmacy\",\"Satellite Compounding Pharmacy\",\"Satellite Compounding Pharmacy (Fee Exempt)\"],\"legendgroup\":\"\",\"name\":\"\",\"showlegend\":true,\"values\":[672,109,50,7,7],\"type\":\"pie\"}],                        {\"template\":{\"data\":{\"histogram2dcontour\":[{\"type\":\"histogram2dcontour\",\"colorbar\":{\"outlinewidth\":0,\"ticks\":\"\"},\"colorscale\":[[0.0,\"#0d0887\"],[0.1111111111111111,\"#46039f\"],[0.2222222222222222,\"#7201a8\"],[0.3333333333333333,\"#9c179e\"],[0.4444444444444444,\"#bd3786\"],[0.5555555555555556,\"#d8576b\"],[0.6666666666666666,\"#ed7953\"],[0.7777777777777778,\"#fb9f3a\"],[0.8888888888888888,\"#fdca26\"],[1.0,\"#f0f921\"]]}],\"choropleth\":[{\"type\":\"choropleth\",\"colorbar\":{\"outlinewidth\":0,\"ticks\":\"\"}}],\"histogram2d\":[{\"type\":\"histogram2d\",\"colorbar\":{\"outlinewidth\":0,\"ticks\":\"\"},\"colorscale\":[[0.0,\"#0d0887\"],[0.1111111111111111,\"#46039f\"],[0.2222222222222222,\"#7201a8\"],[0.3333333333333333,\"#9c179e\"],[0.4444444444444444,\"#bd3786\"],[0.5555555555555556,\"#d8576b\"],[0.6666666666666666,\"#ed7953\"],[0.7777777777777778,\"#fb9f3a\"],[0.8888888888888888,\"#fdca26\"],[1.0,\"#f0f921\"]]}],\"heatmap\":[{\"type\":\"heatmap\",\"colorbar\":{\"outlinewidth\":0,\"ticks\":\"\"},\"colorscale\":[[0.0,\"#0d0887\"],[0.1111111111111111,\"#46039f\"],[0.2222222222222222,\"#7201a8\"],[0.3333333333333333,\"#9c179e\"],[0.4444444444444444,\"#bd3786\"],[0.5555555555555556,\"#d8576b\"],[0.6666666666666666,\"#ed7953\"],[0.7777777777777778,\"#fb9f3a\"],[0.8888888888888888,\"#fdca26\"],[1.0,\"#f0f921\"]]}],\"heatmapgl\":[{\"type\":\"heatmapgl\",\"colorbar\":{\"outlinewidth\":0,\"ticks\":\"\"},\"colorscale\":[[0.0,\"#0d0887\"],[0.1111111111111111,\"#46039f\"],[0.2222222222222222,\"#7201a8\"],[0.3333333333333333,\"#9c179e\"],[0.4444444444444444,\"#bd3786\"],[0.5555555555555556,\"#d8576b\"],[0.6666666666666666,\"#ed7953\"],[0.7777777777777778,\"#fb9f3a\"],[0.8888888888888888,\"#fdca26\"],[1.0,\"#f0f921\"]]}],\"contourcarpet\":[{\"type\":\"contourcarpet\",\"colorbar\":{\"outlinewidth\":0,\"ticks\":\"\"}}],\"contour\":[{\"type\":\"contour\",\"colorbar\":{\"outlinewidth\":0,\"ticks\":\"\"},\"colorscale\":[[0.0,\"#0d0887\"],[0.1111111111111111,\"#46039f\"],[0.2222222222222222,\"#7201a8\"],[0.3333333333333333,\"#9c179e\"],[0.4444444444444444,\"#bd3786\"],[0.5555555555555556,\"#d8576b\"],[0.6666666666666666,\"#ed7953\"],[0.7777777777777778,\"#fb9f3a\"],[0.8888888888888888,\"#fdca26\"],[1.0,\"#f0f921\"]]}],\"surface\":[{\"type\":\"surface\",\"colorbar\":{\"outlinewidth\":0,\"ticks\":\"\"},\"colorscale\":[[0.0,\"#0d0887\"],[0.1111111111111111,\"#46039f\"],[0.2222222222222222,\"#7201a8\"],[0.3333333333333333,\"#9c179e\"],[0.4444444444444444,\"#bd3786\"],[0.5555555555555556,\"#d8576b\"],[0.6666666666666666,\"#ed7953\"],[0.7777777777777778,\"#fb9f3a\"],[0.8888888888888888,\"#fdca26\"],[1.0,\"#f0f921\"]]}],\"mesh3d\":[{\"type\":\"mesh3d\",\"colorbar\":{\"outlinewidth\":0,\"ticks\":\"\"}}],\"scatter\":[{\"fillpattern\":{\"fillmode\":\"overlay\",\"size\":10,\"solidity\":0.2},\"type\":\"scatter\"}],\"parcoords\":[{\"type\":\"parcoords\",\"line\":{\"colorbar\":{\"outlinewidth\":0,\"ticks\":\"\"}}}],\"scatterpolargl\":[{\"type\":\"scatterpolargl\",\"marker\":{\"colorbar\":{\"outlinewidth\":0,\"ticks\":\"\"}}}],\"bar\":[{\"error_x\":{\"color\":\"#2a3f5f\"},\"error_y\":{\"color\":\"#2a3f5f\"},\"marker\":{\"line\":{\"color\":\"#E5ECF6\",\"width\":0.5},\"pattern\":{\"fillmode\":\"overlay\",\"size\":10,\"solidity\":0.2}},\"type\":\"bar\"}],\"scattergeo\":[{\"type\":\"scattergeo\",\"marker\":{\"colorbar\":{\"outlinewidth\":0,\"ticks\":\"\"}}}],\"scatterpolar\":[{\"type\":\"scatterpolar\",\"marker\":{\"colorbar\":{\"outlinewidth\":0,\"ticks\":\"\"}}}],\"histogram\":[{\"marker\":{\"pattern\":{\"fillmode\":\"overlay\",\"size\":10,\"solidity\":0.2}},\"type\":\"histogram\"}],\"scattergl\":[{\"type\":\"scattergl\",\"marker\":{\"colorbar\":{\"outlinewidth\":0,\"ticks\":\"\"}}}],\"scatter3d\":[{\"type\":\"scatter3d\",\"line\":{\"colorbar\":{\"outlinewidth\":0,\"ticks\":\"\"}},\"marker\":{\"colorbar\":{\"outlinewidth\":0,\"ticks\":\"\"}}}],\"scattermapbox\":[{\"type\":\"scattermapbox\",\"marker\":{\"colorbar\":{\"outlinewidth\":0,\"ticks\":\"\"}}}],\"scatterternary\":[{\"type\":\"scatterternary\",\"marker\":{\"colorbar\":{\"outlinewidth\":0,\"ticks\":\"\"}}}],\"scattercarpet\":[{\"type\":\"scattercarpet\",\"marker\":{\"colorbar\":{\"outlinewidth\":0,\"ticks\":\"\"}}}],\"carpet\":[{\"aaxis\":{\"endlinecolor\":\"#2a3f5f\",\"gridcolor\":\"white\",\"linecolor\":\"white\",\"minorgridcolor\":\"white\",\"startlinecolor\":\"#2a3f5f\"},\"baxis\":{\"endlinecolor\":\"#2a3f5f\",\"gridcolor\":\"white\",\"linecolor\":\"white\",\"minorgridcolor\":\"white\",\"startlinecolor\":\"#2a3f5f\"},\"type\":\"carpet\"}],\"table\":[{\"cells\":{\"fill\":{\"color\":\"#EBF0F8\"},\"line\":{\"color\":\"white\"}},\"header\":{\"fill\":{\"color\":\"#C8D4E3\"},\"line\":{\"color\":\"white\"}},\"type\":\"table\"}],\"barpolar\":[{\"marker\":{\"line\":{\"color\":\"#E5ECF6\",\"width\":0.5},\"pattern\":{\"fillmode\":\"overlay\",\"size\":10,\"solidity\":0.2}},\"type\":\"barpolar\"}],\"pie\":[{\"automargin\":true,\"type\":\"pie\"}]},\"layout\":{\"autotypenumbers\":\"strict\",\"colorway\":[\"#636efa\",\"#EF553B\",\"#00cc96\",\"#ab63fa\",\"#FFA15A\",\"#19d3f3\",\"#FF6692\",\"#B6E880\",\"#FF97FF\",\"#FECB52\"],\"font\":{\"color\":\"#2a3f5f\"},\"hovermode\":\"closest\",\"hoverlabel\":{\"align\":\"left\"},\"paper_bgcolor\":\"white\",\"plot_bgcolor\":\"#E5ECF6\",\"polar\":{\"bgcolor\":\"#E5ECF6\",\"angularaxis\":{\"gridcolor\":\"white\",\"linecolor\":\"white\",\"ticks\":\"\"},\"radialaxis\":{\"gridcolor\":\"white\",\"linecolor\":\"white\",\"ticks\":\"\"}},\"ternary\":{\"bgcolor\":\"#E5ECF6\",\"aaxis\":{\"gridcolor\":\"white\",\"linecolor\":\"white\",\"ticks\":\"\"},\"baxis\":{\"gridcolor\":\"white\",\"linecolor\":\"white\",\"ticks\":\"\"},\"caxis\":{\"gridcolor\":\"white\",\"linecolor\":\"white\",\"ticks\":\"\"}},\"coloraxis\":{\"colorbar\":{\"outlinewidth\":0,\"ticks\":\"\"}},\"colorscale\":{\"sequential\":[[0.0,\"#0d0887\"],[0.1111111111111111,\"#46039f\"],[0.2222222222222222,\"#7201a8\"],[0.3333333333333333,\"#9c179e\"],[0.4444444444444444,\"#bd3786\"],[0.5555555555555556,\"#d8576b\"],[0.6666666666666666,\"#ed7953\"],[0.7777777777777778,\"#fb9f3a\"],[0.8888888888888888,\"#fdca26\"],[1.0,\"#f0f921\"]],\"sequentialminus\":[[0.0,\"#0d0887\"],[0.1111111111111111,\"#46039f\"],[0.2222222222222222,\"#7201a8\"],[0.3333333333333333,\"#9c179e\"],[0.4444444444444444,\"#bd3786\"],[0.5555555555555556,\"#d8576b\"],[0.6666666666666666,\"#ed7953\"],[0.7777777777777778,\"#fb9f3a\"],[0.8888888888888888,\"#fdca26\"],[1.0,\"#f0f921\"]],\"diverging\":[[0,\"#8e0152\"],[0.1,\"#c51b7d\"],[0.2,\"#de77ae\"],[0.3,\"#f1b6da\"],[0.4,\"#fde0ef\"],[0.5,\"#f7f7f7\"],[0.6,\"#e6f5d0\"],[0.7,\"#b8e186\"],[0.8,\"#7fbc41\"],[0.9,\"#4d9221\"],[1,\"#276419\"]]},\"xaxis\":{\"gridcolor\":\"white\",\"linecolor\":\"white\",\"ticks\":\"\",\"title\":{\"standoff\":15},\"zerolinecolor\":\"white\",\"automargin\":true,\"zerolinewidth\":2},\"yaxis\":{\"gridcolor\":\"white\",\"linecolor\":\"white\",\"ticks\":\"\",\"title\":{\"standoff\":15},\"zerolinecolor\":\"white\",\"automargin\":true,\"zerolinewidth\":2},\"scene\":{\"xaxis\":{\"backgroundcolor\":\"#E5ECF6\",\"gridcolor\":\"white\",\"linecolor\":\"white\",\"showbackground\":true,\"ticks\":\"\",\"zerolinecolor\":\"white\",\"gridwidth\":2},\"yaxis\":{\"backgroundcolor\":\"#E5ECF6\",\"gridcolor\":\"white\",\"linecolor\":\"white\",\"showbackground\":true,\"ticks\":\"\",\"zerolinecolor\":\"white\",\"gridwidth\":2},\"zaxis\":{\"backgroundcolor\":\"#E5ECF6\",\"gridcolor\":\"white\",\"linecolor\":\"white\",\"showbackground\":true,\"ticks\":\"\",\"zerolinecolor\":\"white\",\"gridwidth\":2}},\"shapedefaults\":{\"line\":{\"color\":\"#2a3f5f\"}},\"annotationdefaults\":{\"arrowcolor\":\"#2a3f5f\",\"arrowhead\":0,\"arrowwidth\":1},\"geo\":{\"bgcolor\":\"white\",\"landcolor\":\"#E5ECF6\",\"subunitcolor\":\"white\",\"showland\":true,\"showlakes\":true,\"lakecolor\":\"white\"},\"title\":{\"x\":0.05},\"mapbox\":{\"style\":\"light\"}}},\"legend\":{\"tracegroupgap\":0,\"title\":{\"text\":\"License Type\"},\"orientation\":\"v\",\"yanchor\":\"bottom\",\"y\":0.5,\"xanchor\":\"right\",\"x\":0.25},\"title\":{\"text\":\"Distribution of License Types\",\"y\":0.95,\"x\":0.5,\"xanchor\":\"center\",\"yanchor\":\"top\"}},                        {\"responsive\": true}                    ).then(function(){\n",
       "                            \n",
       "var gd = document.getElementById('9871182d-e4a0-4064-97a0-2870774a8e83');\n",
       "var x = new MutationObserver(function (mutations, observer) {{\n",
       "        var display = window.getComputedStyle(gd).display;\n",
       "        if (!display || display === 'none') {{\n",
       "            console.log([gd, 'removed!']);\n",
       "            Plotly.purge(gd);\n",
       "            observer.disconnect();\n",
       "        }}\n",
       "}});\n",
       "\n",
       "// Listen for the removal of the full notebook cells\n",
       "var notebookContainer = gd.closest('#notebook-container');\n",
       "if (notebookContainer) {{\n",
       "    x.observe(notebookContainer, {childList: true});\n",
       "}}\n",
       "\n",
       "// Listen for the clearing of the current output cell\n",
       "var outputEl = gd.closest('.output');\n",
       "if (outputEl) {{\n",
       "    x.observe(outputEl, {childList: true});\n",
       "}}\n",
       "\n",
       "                        })                };                });            </script>        </div>"
      ]
     },
     "metadata": {},
     "output_type": "display_data"
    }
   ],
   "execution_count": 123
  },
  {
   "metadata": {
    "ExecuteTime": {
     "end_time": "2024-12-15T18:53:46.331514Z",
     "start_time": "2024-12-15T18:53:46.242114Z"
    }
   },
   "cell_type": "code",
   "source": [
    "# Step 1: Aggregate the counts of each 'License Type'\n",
    "license_type_counts = all_pharmacies['License Type'].value_counts().reset_index()\n",
    "license_type_counts.columns = ['License Type', 'Count']\n",
    "\n",
    "# Step 2: Create the horizontal bar chart\n",
    "fig = px.bar(\n",
    "    license_type_counts,\n",
    "    x='Count',  # Bar length will be determined by the 'Count'\n",
    "    y='License Type',  # Each bar corresponds to a 'License Type'\n",
    "    orientation='h',  # Make the bars horizontal\n",
    "    title=\"Distribution of License Types\",\n",
    ")\n",
    "\n",
    "# Step 3: Customize the layout for title and axes\n",
    "fig.update_layout(\n",
    "    title={  # Title customization\n",
    "        'text': \"Distribution of License Types\",\n",
    "        'y': 0.95,  # Position the title just below the top of the chart\n",
    "        'x': 0.5,  # Horizontally center the title\n",
    "        'xanchor': 'center',\n",
    "        'yanchor': 'top'  # Align title's top edge with y position\n",
    "    },\n",
    "    xaxis_title=\"Count\",  # Label for the x-axis\n",
    "    yaxis_title=\"License Type\",  # Label for the y-axis\n",
    "    yaxis=dict(tickmode='array'),  # Ensure all 'License Type' labels appear on the y-axis\n",
    ")\n",
    "\n",
    "# Step 4: Show the plot\n",
    "fig.show()"
   ],
   "id": "65ce155f132e1975",
   "outputs": [
    {
     "data": {
      "application/vnd.plotly.v1+json": {
       "data": [
        {
         "alignmentgroup": "True",
         "hovertemplate": "Count=%{x}<br>License Type=%{y}<extra></extra>",
         "legendgroup": "",
         "marker": {
          "color": "#636efa",
          "pattern": {
           "shape": ""
          }
         },
         "name": "",
         "offsetgroup": "",
         "orientation": "h",
         "showlegend": false,
         "textposition": "auto",
         "x": [
          672,
          109,
          50,
          7,
          7
         ],
         "xaxis": "x",
         "y": [
          "Sterile Compounding Pharmacy",
          "Sterile Compounding Pharmacy (Government Owned)",
          "Nonresident Sterile Compounding Pharmacy",
          "Satellite Compounding Pharmacy",
          "Satellite Compounding Pharmacy (Fee Exempt)"
         ],
         "yaxis": "y",
         "type": "bar"
        }
       ],
       "layout": {
        "template": {
         "data": {
          "histogram2dcontour": [
           {
            "type": "histogram2dcontour",
            "colorbar": {
             "outlinewidth": 0,
             "ticks": ""
            },
            "colorscale": [
             [
              0.0,
              "#0d0887"
             ],
             [
              0.1111111111111111,
              "#46039f"
             ],
             [
              0.2222222222222222,
              "#7201a8"
             ],
             [
              0.3333333333333333,
              "#9c179e"
             ],
             [
              0.4444444444444444,
              "#bd3786"
             ],
             [
              0.5555555555555556,
              "#d8576b"
             ],
             [
              0.6666666666666666,
              "#ed7953"
             ],
             [
              0.7777777777777778,
              "#fb9f3a"
             ],
             [
              0.8888888888888888,
              "#fdca26"
             ],
             [
              1.0,
              "#f0f921"
             ]
            ]
           }
          ],
          "choropleth": [
           {
            "type": "choropleth",
            "colorbar": {
             "outlinewidth": 0,
             "ticks": ""
            }
           }
          ],
          "histogram2d": [
           {
            "type": "histogram2d",
            "colorbar": {
             "outlinewidth": 0,
             "ticks": ""
            },
            "colorscale": [
             [
              0.0,
              "#0d0887"
             ],
             [
              0.1111111111111111,
              "#46039f"
             ],
             [
              0.2222222222222222,
              "#7201a8"
             ],
             [
              0.3333333333333333,
              "#9c179e"
             ],
             [
              0.4444444444444444,
              "#bd3786"
             ],
             [
              0.5555555555555556,
              "#d8576b"
             ],
             [
              0.6666666666666666,
              "#ed7953"
             ],
             [
              0.7777777777777778,
              "#fb9f3a"
             ],
             [
              0.8888888888888888,
              "#fdca26"
             ],
             [
              1.0,
              "#f0f921"
             ]
            ]
           }
          ],
          "heatmap": [
           {
            "type": "heatmap",
            "colorbar": {
             "outlinewidth": 0,
             "ticks": ""
            },
            "colorscale": [
             [
              0.0,
              "#0d0887"
             ],
             [
              0.1111111111111111,
              "#46039f"
             ],
             [
              0.2222222222222222,
              "#7201a8"
             ],
             [
              0.3333333333333333,
              "#9c179e"
             ],
             [
              0.4444444444444444,
              "#bd3786"
             ],
             [
              0.5555555555555556,
              "#d8576b"
             ],
             [
              0.6666666666666666,
              "#ed7953"
             ],
             [
              0.7777777777777778,
              "#fb9f3a"
             ],
             [
              0.8888888888888888,
              "#fdca26"
             ],
             [
              1.0,
              "#f0f921"
             ]
            ]
           }
          ],
          "heatmapgl": [
           {
            "type": "heatmapgl",
            "colorbar": {
             "outlinewidth": 0,
             "ticks": ""
            },
            "colorscale": [
             [
              0.0,
              "#0d0887"
             ],
             [
              0.1111111111111111,
              "#46039f"
             ],
             [
              0.2222222222222222,
              "#7201a8"
             ],
             [
              0.3333333333333333,
              "#9c179e"
             ],
             [
              0.4444444444444444,
              "#bd3786"
             ],
             [
              0.5555555555555556,
              "#d8576b"
             ],
             [
              0.6666666666666666,
              "#ed7953"
             ],
             [
              0.7777777777777778,
              "#fb9f3a"
             ],
             [
              0.8888888888888888,
              "#fdca26"
             ],
             [
              1.0,
              "#f0f921"
             ]
            ]
           }
          ],
          "contourcarpet": [
           {
            "type": "contourcarpet",
            "colorbar": {
             "outlinewidth": 0,
             "ticks": ""
            }
           }
          ],
          "contour": [
           {
            "type": "contour",
            "colorbar": {
             "outlinewidth": 0,
             "ticks": ""
            },
            "colorscale": [
             [
              0.0,
              "#0d0887"
             ],
             [
              0.1111111111111111,
              "#46039f"
             ],
             [
              0.2222222222222222,
              "#7201a8"
             ],
             [
              0.3333333333333333,
              "#9c179e"
             ],
             [
              0.4444444444444444,
              "#bd3786"
             ],
             [
              0.5555555555555556,
              "#d8576b"
             ],
             [
              0.6666666666666666,
              "#ed7953"
             ],
             [
              0.7777777777777778,
              "#fb9f3a"
             ],
             [
              0.8888888888888888,
              "#fdca26"
             ],
             [
              1.0,
              "#f0f921"
             ]
            ]
           }
          ],
          "surface": [
           {
            "type": "surface",
            "colorbar": {
             "outlinewidth": 0,
             "ticks": ""
            },
            "colorscale": [
             [
              0.0,
              "#0d0887"
             ],
             [
              0.1111111111111111,
              "#46039f"
             ],
             [
              0.2222222222222222,
              "#7201a8"
             ],
             [
              0.3333333333333333,
              "#9c179e"
             ],
             [
              0.4444444444444444,
              "#bd3786"
             ],
             [
              0.5555555555555556,
              "#d8576b"
             ],
             [
              0.6666666666666666,
              "#ed7953"
             ],
             [
              0.7777777777777778,
              "#fb9f3a"
             ],
             [
              0.8888888888888888,
              "#fdca26"
             ],
             [
              1.0,
              "#f0f921"
             ]
            ]
           }
          ],
          "mesh3d": [
           {
            "type": "mesh3d",
            "colorbar": {
             "outlinewidth": 0,
             "ticks": ""
            }
           }
          ],
          "scatter": [
           {
            "fillpattern": {
             "fillmode": "overlay",
             "size": 10,
             "solidity": 0.2
            },
            "type": "scatter"
           }
          ],
          "parcoords": [
           {
            "type": "parcoords",
            "line": {
             "colorbar": {
              "outlinewidth": 0,
              "ticks": ""
             }
            }
           }
          ],
          "scatterpolargl": [
           {
            "type": "scatterpolargl",
            "marker": {
             "colorbar": {
              "outlinewidth": 0,
              "ticks": ""
             }
            }
           }
          ],
          "bar": [
           {
            "error_x": {
             "color": "#2a3f5f"
            },
            "error_y": {
             "color": "#2a3f5f"
            },
            "marker": {
             "line": {
              "color": "#E5ECF6",
              "width": 0.5
             },
             "pattern": {
              "fillmode": "overlay",
              "size": 10,
              "solidity": 0.2
             }
            },
            "type": "bar"
           }
          ],
          "scattergeo": [
           {
            "type": "scattergeo",
            "marker": {
             "colorbar": {
              "outlinewidth": 0,
              "ticks": ""
             }
            }
           }
          ],
          "scatterpolar": [
           {
            "type": "scatterpolar",
            "marker": {
             "colorbar": {
              "outlinewidth": 0,
              "ticks": ""
             }
            }
           }
          ],
          "histogram": [
           {
            "marker": {
             "pattern": {
              "fillmode": "overlay",
              "size": 10,
              "solidity": 0.2
             }
            },
            "type": "histogram"
           }
          ],
          "scattergl": [
           {
            "type": "scattergl",
            "marker": {
             "colorbar": {
              "outlinewidth": 0,
              "ticks": ""
             }
            }
           }
          ],
          "scatter3d": [
           {
            "type": "scatter3d",
            "line": {
             "colorbar": {
              "outlinewidth": 0,
              "ticks": ""
             }
            },
            "marker": {
             "colorbar": {
              "outlinewidth": 0,
              "ticks": ""
             }
            }
           }
          ],
          "scattermapbox": [
           {
            "type": "scattermapbox",
            "marker": {
             "colorbar": {
              "outlinewidth": 0,
              "ticks": ""
             }
            }
           }
          ],
          "scatterternary": [
           {
            "type": "scatterternary",
            "marker": {
             "colorbar": {
              "outlinewidth": 0,
              "ticks": ""
             }
            }
           }
          ],
          "scattercarpet": [
           {
            "type": "scattercarpet",
            "marker": {
             "colorbar": {
              "outlinewidth": 0,
              "ticks": ""
             }
            }
           }
          ],
          "carpet": [
           {
            "aaxis": {
             "endlinecolor": "#2a3f5f",
             "gridcolor": "white",
             "linecolor": "white",
             "minorgridcolor": "white",
             "startlinecolor": "#2a3f5f"
            },
            "baxis": {
             "endlinecolor": "#2a3f5f",
             "gridcolor": "white",
             "linecolor": "white",
             "minorgridcolor": "white",
             "startlinecolor": "#2a3f5f"
            },
            "type": "carpet"
           }
          ],
          "table": [
           {
            "cells": {
             "fill": {
              "color": "#EBF0F8"
             },
             "line": {
              "color": "white"
             }
            },
            "header": {
             "fill": {
              "color": "#C8D4E3"
             },
             "line": {
              "color": "white"
             }
            },
            "type": "table"
           }
          ],
          "barpolar": [
           {
            "marker": {
             "line": {
              "color": "#E5ECF6",
              "width": 0.5
             },
             "pattern": {
              "fillmode": "overlay",
              "size": 10,
              "solidity": 0.2
             }
            },
            "type": "barpolar"
           }
          ],
          "pie": [
           {
            "automargin": true,
            "type": "pie"
           }
          ]
         },
         "layout": {
          "autotypenumbers": "strict",
          "colorway": [
           "#636efa",
           "#EF553B",
           "#00cc96",
           "#ab63fa",
           "#FFA15A",
           "#19d3f3",
           "#FF6692",
           "#B6E880",
           "#FF97FF",
           "#FECB52"
          ],
          "font": {
           "color": "#2a3f5f"
          },
          "hovermode": "closest",
          "hoverlabel": {
           "align": "left"
          },
          "paper_bgcolor": "white",
          "plot_bgcolor": "#E5ECF6",
          "polar": {
           "bgcolor": "#E5ECF6",
           "angularaxis": {
            "gridcolor": "white",
            "linecolor": "white",
            "ticks": ""
           },
           "radialaxis": {
            "gridcolor": "white",
            "linecolor": "white",
            "ticks": ""
           }
          },
          "ternary": {
           "bgcolor": "#E5ECF6",
           "aaxis": {
            "gridcolor": "white",
            "linecolor": "white",
            "ticks": ""
           },
           "baxis": {
            "gridcolor": "white",
            "linecolor": "white",
            "ticks": ""
           },
           "caxis": {
            "gridcolor": "white",
            "linecolor": "white",
            "ticks": ""
           }
          },
          "coloraxis": {
           "colorbar": {
            "outlinewidth": 0,
            "ticks": ""
           }
          },
          "colorscale": {
           "sequential": [
            [
             0.0,
             "#0d0887"
            ],
            [
             0.1111111111111111,
             "#46039f"
            ],
            [
             0.2222222222222222,
             "#7201a8"
            ],
            [
             0.3333333333333333,
             "#9c179e"
            ],
            [
             0.4444444444444444,
             "#bd3786"
            ],
            [
             0.5555555555555556,
             "#d8576b"
            ],
            [
             0.6666666666666666,
             "#ed7953"
            ],
            [
             0.7777777777777778,
             "#fb9f3a"
            ],
            [
             0.8888888888888888,
             "#fdca26"
            ],
            [
             1.0,
             "#f0f921"
            ]
           ],
           "sequentialminus": [
            [
             0.0,
             "#0d0887"
            ],
            [
             0.1111111111111111,
             "#46039f"
            ],
            [
             0.2222222222222222,
             "#7201a8"
            ],
            [
             0.3333333333333333,
             "#9c179e"
            ],
            [
             0.4444444444444444,
             "#bd3786"
            ],
            [
             0.5555555555555556,
             "#d8576b"
            ],
            [
             0.6666666666666666,
             "#ed7953"
            ],
            [
             0.7777777777777778,
             "#fb9f3a"
            ],
            [
             0.8888888888888888,
             "#fdca26"
            ],
            [
             1.0,
             "#f0f921"
            ]
           ],
           "diverging": [
            [
             0,
             "#8e0152"
            ],
            [
             0.1,
             "#c51b7d"
            ],
            [
             0.2,
             "#de77ae"
            ],
            [
             0.3,
             "#f1b6da"
            ],
            [
             0.4,
             "#fde0ef"
            ],
            [
             0.5,
             "#f7f7f7"
            ],
            [
             0.6,
             "#e6f5d0"
            ],
            [
             0.7,
             "#b8e186"
            ],
            [
             0.8,
             "#7fbc41"
            ],
            [
             0.9,
             "#4d9221"
            ],
            [
             1,
             "#276419"
            ]
           ]
          },
          "xaxis": {
           "gridcolor": "white",
           "linecolor": "white",
           "ticks": "",
           "title": {
            "standoff": 15
           },
           "zerolinecolor": "white",
           "automargin": true,
           "zerolinewidth": 2
          },
          "yaxis": {
           "gridcolor": "white",
           "linecolor": "white",
           "ticks": "",
           "title": {
            "standoff": 15
           },
           "zerolinecolor": "white",
           "automargin": true,
           "zerolinewidth": 2
          },
          "scene": {
           "xaxis": {
            "backgroundcolor": "#E5ECF6",
            "gridcolor": "white",
            "linecolor": "white",
            "showbackground": true,
            "ticks": "",
            "zerolinecolor": "white",
            "gridwidth": 2
           },
           "yaxis": {
            "backgroundcolor": "#E5ECF6",
            "gridcolor": "white",
            "linecolor": "white",
            "showbackground": true,
            "ticks": "",
            "zerolinecolor": "white",
            "gridwidth": 2
           },
           "zaxis": {
            "backgroundcolor": "#E5ECF6",
            "gridcolor": "white",
            "linecolor": "white",
            "showbackground": true,
            "ticks": "",
            "zerolinecolor": "white",
            "gridwidth": 2
           }
          },
          "shapedefaults": {
           "line": {
            "color": "#2a3f5f"
           }
          },
          "annotationdefaults": {
           "arrowcolor": "#2a3f5f",
           "arrowhead": 0,
           "arrowwidth": 1
          },
          "geo": {
           "bgcolor": "white",
           "landcolor": "#E5ECF6",
           "subunitcolor": "white",
           "showland": true,
           "showlakes": true,
           "lakecolor": "white"
          },
          "title": {
           "x": 0.05
          },
          "mapbox": {
           "style": "light"
          }
         }
        },
        "xaxis": {
         "anchor": "y",
         "domain": [
          0.0,
          1.0
         ],
         "title": {
          "text": "Count"
         }
        },
        "yaxis": {
         "anchor": "x",
         "domain": [
          0.0,
          1.0
         ],
         "title": {
          "text": "License Type"
         },
         "tickmode": "array"
        },
        "legend": {
         "tracegroupgap": 0
        },
        "title": {
         "text": "Distribution of License Types",
         "y": 0.95,
         "x": 0.5,
         "xanchor": "center",
         "yanchor": "top"
        },
        "barmode": "relative"
       },
       "config": {
        "plotlyServerURL": "https://plot.ly"
       }
      },
      "text/html": [
       "<div>                            <div id=\"fede8cef-7aaa-4245-aac1-6276c6241b1c\" class=\"plotly-graph-div\" style=\"height:525px; width:100%;\"></div>            <script type=\"text/javascript\">                require([\"plotly\"], function(Plotly) {                    window.PLOTLYENV=window.PLOTLYENV || {};                                    if (document.getElementById(\"fede8cef-7aaa-4245-aac1-6276c6241b1c\")) {                    Plotly.newPlot(                        \"fede8cef-7aaa-4245-aac1-6276c6241b1c\",                        [{\"alignmentgroup\":\"True\",\"hovertemplate\":\"Count=%{x}\\u003cbr\\u003eLicense Type=%{y}\\u003cextra\\u003e\\u003c\\u002fextra\\u003e\",\"legendgroup\":\"\",\"marker\":{\"color\":\"#636efa\",\"pattern\":{\"shape\":\"\"}},\"name\":\"\",\"offsetgroup\":\"\",\"orientation\":\"h\",\"showlegend\":false,\"textposition\":\"auto\",\"x\":[672,109,50,7,7],\"xaxis\":\"x\",\"y\":[\"Sterile Compounding Pharmacy\",\"Sterile Compounding Pharmacy (Government Owned)\",\"Nonresident Sterile Compounding Pharmacy\",\"Satellite Compounding Pharmacy\",\"Satellite Compounding Pharmacy (Fee Exempt)\"],\"yaxis\":\"y\",\"type\":\"bar\"}],                        {\"template\":{\"data\":{\"histogram2dcontour\":[{\"type\":\"histogram2dcontour\",\"colorbar\":{\"outlinewidth\":0,\"ticks\":\"\"},\"colorscale\":[[0.0,\"#0d0887\"],[0.1111111111111111,\"#46039f\"],[0.2222222222222222,\"#7201a8\"],[0.3333333333333333,\"#9c179e\"],[0.4444444444444444,\"#bd3786\"],[0.5555555555555556,\"#d8576b\"],[0.6666666666666666,\"#ed7953\"],[0.7777777777777778,\"#fb9f3a\"],[0.8888888888888888,\"#fdca26\"],[1.0,\"#f0f921\"]]}],\"choropleth\":[{\"type\":\"choropleth\",\"colorbar\":{\"outlinewidth\":0,\"ticks\":\"\"}}],\"histogram2d\":[{\"type\":\"histogram2d\",\"colorbar\":{\"outlinewidth\":0,\"ticks\":\"\"},\"colorscale\":[[0.0,\"#0d0887\"],[0.1111111111111111,\"#46039f\"],[0.2222222222222222,\"#7201a8\"],[0.3333333333333333,\"#9c179e\"],[0.4444444444444444,\"#bd3786\"],[0.5555555555555556,\"#d8576b\"],[0.6666666666666666,\"#ed7953\"],[0.7777777777777778,\"#fb9f3a\"],[0.8888888888888888,\"#fdca26\"],[1.0,\"#f0f921\"]]}],\"heatmap\":[{\"type\":\"heatmap\",\"colorbar\":{\"outlinewidth\":0,\"ticks\":\"\"},\"colorscale\":[[0.0,\"#0d0887\"],[0.1111111111111111,\"#46039f\"],[0.2222222222222222,\"#7201a8\"],[0.3333333333333333,\"#9c179e\"],[0.4444444444444444,\"#bd3786\"],[0.5555555555555556,\"#d8576b\"],[0.6666666666666666,\"#ed7953\"],[0.7777777777777778,\"#fb9f3a\"],[0.8888888888888888,\"#fdca26\"],[1.0,\"#f0f921\"]]}],\"heatmapgl\":[{\"type\":\"heatmapgl\",\"colorbar\":{\"outlinewidth\":0,\"ticks\":\"\"},\"colorscale\":[[0.0,\"#0d0887\"],[0.1111111111111111,\"#46039f\"],[0.2222222222222222,\"#7201a8\"],[0.3333333333333333,\"#9c179e\"],[0.4444444444444444,\"#bd3786\"],[0.5555555555555556,\"#d8576b\"],[0.6666666666666666,\"#ed7953\"],[0.7777777777777778,\"#fb9f3a\"],[0.8888888888888888,\"#fdca26\"],[1.0,\"#f0f921\"]]}],\"contourcarpet\":[{\"type\":\"contourcarpet\",\"colorbar\":{\"outlinewidth\":0,\"ticks\":\"\"}}],\"contour\":[{\"type\":\"contour\",\"colorbar\":{\"outlinewidth\":0,\"ticks\":\"\"},\"colorscale\":[[0.0,\"#0d0887\"],[0.1111111111111111,\"#46039f\"],[0.2222222222222222,\"#7201a8\"],[0.3333333333333333,\"#9c179e\"],[0.4444444444444444,\"#bd3786\"],[0.5555555555555556,\"#d8576b\"],[0.6666666666666666,\"#ed7953\"],[0.7777777777777778,\"#fb9f3a\"],[0.8888888888888888,\"#fdca26\"],[1.0,\"#f0f921\"]]}],\"surface\":[{\"type\":\"surface\",\"colorbar\":{\"outlinewidth\":0,\"ticks\":\"\"},\"colorscale\":[[0.0,\"#0d0887\"],[0.1111111111111111,\"#46039f\"],[0.2222222222222222,\"#7201a8\"],[0.3333333333333333,\"#9c179e\"],[0.4444444444444444,\"#bd3786\"],[0.5555555555555556,\"#d8576b\"],[0.6666666666666666,\"#ed7953\"],[0.7777777777777778,\"#fb9f3a\"],[0.8888888888888888,\"#fdca26\"],[1.0,\"#f0f921\"]]}],\"mesh3d\":[{\"type\":\"mesh3d\",\"colorbar\":{\"outlinewidth\":0,\"ticks\":\"\"}}],\"scatter\":[{\"fillpattern\":{\"fillmode\":\"overlay\",\"size\":10,\"solidity\":0.2},\"type\":\"scatter\"}],\"parcoords\":[{\"type\":\"parcoords\",\"line\":{\"colorbar\":{\"outlinewidth\":0,\"ticks\":\"\"}}}],\"scatterpolargl\":[{\"type\":\"scatterpolargl\",\"marker\":{\"colorbar\":{\"outlinewidth\":0,\"ticks\":\"\"}}}],\"bar\":[{\"error_x\":{\"color\":\"#2a3f5f\"},\"error_y\":{\"color\":\"#2a3f5f\"},\"marker\":{\"line\":{\"color\":\"#E5ECF6\",\"width\":0.5},\"pattern\":{\"fillmode\":\"overlay\",\"size\":10,\"solidity\":0.2}},\"type\":\"bar\"}],\"scattergeo\":[{\"type\":\"scattergeo\",\"marker\":{\"colorbar\":{\"outlinewidth\":0,\"ticks\":\"\"}}}],\"scatterpolar\":[{\"type\":\"scatterpolar\",\"marker\":{\"colorbar\":{\"outlinewidth\":0,\"ticks\":\"\"}}}],\"histogram\":[{\"marker\":{\"pattern\":{\"fillmode\":\"overlay\",\"size\":10,\"solidity\":0.2}},\"type\":\"histogram\"}],\"scattergl\":[{\"type\":\"scattergl\",\"marker\":{\"colorbar\":{\"outlinewidth\":0,\"ticks\":\"\"}}}],\"scatter3d\":[{\"type\":\"scatter3d\",\"line\":{\"colorbar\":{\"outlinewidth\":0,\"ticks\":\"\"}},\"marker\":{\"colorbar\":{\"outlinewidth\":0,\"ticks\":\"\"}}}],\"scattermapbox\":[{\"type\":\"scattermapbox\",\"marker\":{\"colorbar\":{\"outlinewidth\":0,\"ticks\":\"\"}}}],\"scatterternary\":[{\"type\":\"scatterternary\",\"marker\":{\"colorbar\":{\"outlinewidth\":0,\"ticks\":\"\"}}}],\"scattercarpet\":[{\"type\":\"scattercarpet\",\"marker\":{\"colorbar\":{\"outlinewidth\":0,\"ticks\":\"\"}}}],\"carpet\":[{\"aaxis\":{\"endlinecolor\":\"#2a3f5f\",\"gridcolor\":\"white\",\"linecolor\":\"white\",\"minorgridcolor\":\"white\",\"startlinecolor\":\"#2a3f5f\"},\"baxis\":{\"endlinecolor\":\"#2a3f5f\",\"gridcolor\":\"white\",\"linecolor\":\"white\",\"minorgridcolor\":\"white\",\"startlinecolor\":\"#2a3f5f\"},\"type\":\"carpet\"}],\"table\":[{\"cells\":{\"fill\":{\"color\":\"#EBF0F8\"},\"line\":{\"color\":\"white\"}},\"header\":{\"fill\":{\"color\":\"#C8D4E3\"},\"line\":{\"color\":\"white\"}},\"type\":\"table\"}],\"barpolar\":[{\"marker\":{\"line\":{\"color\":\"#E5ECF6\",\"width\":0.5},\"pattern\":{\"fillmode\":\"overlay\",\"size\":10,\"solidity\":0.2}},\"type\":\"barpolar\"}],\"pie\":[{\"automargin\":true,\"type\":\"pie\"}]},\"layout\":{\"autotypenumbers\":\"strict\",\"colorway\":[\"#636efa\",\"#EF553B\",\"#00cc96\",\"#ab63fa\",\"#FFA15A\",\"#19d3f3\",\"#FF6692\",\"#B6E880\",\"#FF97FF\",\"#FECB52\"],\"font\":{\"color\":\"#2a3f5f\"},\"hovermode\":\"closest\",\"hoverlabel\":{\"align\":\"left\"},\"paper_bgcolor\":\"white\",\"plot_bgcolor\":\"#E5ECF6\",\"polar\":{\"bgcolor\":\"#E5ECF6\",\"angularaxis\":{\"gridcolor\":\"white\",\"linecolor\":\"white\",\"ticks\":\"\"},\"radialaxis\":{\"gridcolor\":\"white\",\"linecolor\":\"white\",\"ticks\":\"\"}},\"ternary\":{\"bgcolor\":\"#E5ECF6\",\"aaxis\":{\"gridcolor\":\"white\",\"linecolor\":\"white\",\"ticks\":\"\"},\"baxis\":{\"gridcolor\":\"white\",\"linecolor\":\"white\",\"ticks\":\"\"},\"caxis\":{\"gridcolor\":\"white\",\"linecolor\":\"white\",\"ticks\":\"\"}},\"coloraxis\":{\"colorbar\":{\"outlinewidth\":0,\"ticks\":\"\"}},\"colorscale\":{\"sequential\":[[0.0,\"#0d0887\"],[0.1111111111111111,\"#46039f\"],[0.2222222222222222,\"#7201a8\"],[0.3333333333333333,\"#9c179e\"],[0.4444444444444444,\"#bd3786\"],[0.5555555555555556,\"#d8576b\"],[0.6666666666666666,\"#ed7953\"],[0.7777777777777778,\"#fb9f3a\"],[0.8888888888888888,\"#fdca26\"],[1.0,\"#f0f921\"]],\"sequentialminus\":[[0.0,\"#0d0887\"],[0.1111111111111111,\"#46039f\"],[0.2222222222222222,\"#7201a8\"],[0.3333333333333333,\"#9c179e\"],[0.4444444444444444,\"#bd3786\"],[0.5555555555555556,\"#d8576b\"],[0.6666666666666666,\"#ed7953\"],[0.7777777777777778,\"#fb9f3a\"],[0.8888888888888888,\"#fdca26\"],[1.0,\"#f0f921\"]],\"diverging\":[[0,\"#8e0152\"],[0.1,\"#c51b7d\"],[0.2,\"#de77ae\"],[0.3,\"#f1b6da\"],[0.4,\"#fde0ef\"],[0.5,\"#f7f7f7\"],[0.6,\"#e6f5d0\"],[0.7,\"#b8e186\"],[0.8,\"#7fbc41\"],[0.9,\"#4d9221\"],[1,\"#276419\"]]},\"xaxis\":{\"gridcolor\":\"white\",\"linecolor\":\"white\",\"ticks\":\"\",\"title\":{\"standoff\":15},\"zerolinecolor\":\"white\",\"automargin\":true,\"zerolinewidth\":2},\"yaxis\":{\"gridcolor\":\"white\",\"linecolor\":\"white\",\"ticks\":\"\",\"title\":{\"standoff\":15},\"zerolinecolor\":\"white\",\"automargin\":true,\"zerolinewidth\":2},\"scene\":{\"xaxis\":{\"backgroundcolor\":\"#E5ECF6\",\"gridcolor\":\"white\",\"linecolor\":\"white\",\"showbackground\":true,\"ticks\":\"\",\"zerolinecolor\":\"white\",\"gridwidth\":2},\"yaxis\":{\"backgroundcolor\":\"#E5ECF6\",\"gridcolor\":\"white\",\"linecolor\":\"white\",\"showbackground\":true,\"ticks\":\"\",\"zerolinecolor\":\"white\",\"gridwidth\":2},\"zaxis\":{\"backgroundcolor\":\"#E5ECF6\",\"gridcolor\":\"white\",\"linecolor\":\"white\",\"showbackground\":true,\"ticks\":\"\",\"zerolinecolor\":\"white\",\"gridwidth\":2}},\"shapedefaults\":{\"line\":{\"color\":\"#2a3f5f\"}},\"annotationdefaults\":{\"arrowcolor\":\"#2a3f5f\",\"arrowhead\":0,\"arrowwidth\":1},\"geo\":{\"bgcolor\":\"white\",\"landcolor\":\"#E5ECF6\",\"subunitcolor\":\"white\",\"showland\":true,\"showlakes\":true,\"lakecolor\":\"white\"},\"title\":{\"x\":0.05},\"mapbox\":{\"style\":\"light\"}}},\"xaxis\":{\"anchor\":\"y\",\"domain\":[0.0,1.0],\"title\":{\"text\":\"Count\"}},\"yaxis\":{\"anchor\":\"x\",\"domain\":[0.0,1.0],\"title\":{\"text\":\"License Type\"},\"tickmode\":\"array\"},\"legend\":{\"tracegroupgap\":0},\"title\":{\"text\":\"Distribution of License Types\",\"y\":0.95,\"x\":0.5,\"xanchor\":\"center\",\"yanchor\":\"top\"},\"barmode\":\"relative\"},                        {\"responsive\": true}                    ).then(function(){\n",
       "                            \n",
       "var gd = document.getElementById('fede8cef-7aaa-4245-aac1-6276c6241b1c');\n",
       "var x = new MutationObserver(function (mutations, observer) {{\n",
       "        var display = window.getComputedStyle(gd).display;\n",
       "        if (!display || display === 'none') {{\n",
       "            console.log([gd, 'removed!']);\n",
       "            Plotly.purge(gd);\n",
       "            observer.disconnect();\n",
       "        }}\n",
       "}});\n",
       "\n",
       "// Listen for the removal of the full notebook cells\n",
       "var notebookContainer = gd.closest('#notebook-container');\n",
       "if (notebookContainer) {{\n",
       "    x.observe(notebookContainer, {childList: true});\n",
       "}}\n",
       "\n",
       "// Listen for the clearing of the current output cell\n",
       "var outputEl = gd.closest('.output');\n",
       "if (outputEl) {{\n",
       "    x.observe(outputEl, {childList: true});\n",
       "}}\n",
       "\n",
       "                        })                };                });            </script>        </div>"
      ]
     },
     "metadata": {},
     "output_type": "display_data"
    }
   ],
   "execution_count": 124
  },
  {
   "metadata": {},
   "cell_type": "markdown",
   "source": "### WHEN are the currently licenses expiring? ",
   "id": "5dd51cb7b0367ea1"
  },
  {
   "metadata": {
    "ExecuteTime": {
     "end_time": "2024-12-15T18:53:46.638987Z",
     "start_time": "2024-12-15T18:53:46.332555Z"
    }
   },
   "cell_type": "code",
   "source": [
    "# Step 1: Convert 'Expiration Date' to datetime (if not already done)\n",
    "all_pharmacies['Expiration Date'] = pd.to_datetime(all_pharmacies['Expiration Date'], errors='coerce')\n",
    "\n",
    "# Step 2: Group the data by month and year, and convert to string\n",
    "expiration_monthly_counts = all_pharmacies.groupby(all_pharmacies['Expiration Date'].dt.to_period('M')).size().reset_index(name='Count')\n",
    "\n",
    "# Convert Period to string for Plotly compatibility\n",
    "expiration_monthly_counts['Expiration Date'] = expiration_monthly_counts['Expiration Date'].astype(str)\n",
    "\n",
    "# Step 3: Plot the time series as a line chart with markers\n",
    "fig = px.line(\n",
    "    expiration_monthly_counts,\n",
    "    x='Expiration Date',\n",
    "    y='Count',\n",
    "    title=\"Pharmacies Expiring Over Time\",\n",
    "    labels={'Expiration Date': 'Expiration Date', 'Count': 'Number of Pharmacies'},\n",
    "    markers=True\n",
    ")\n",
    "\n",
    "# Add text labels for each marker to display the count\n",
    "fig.update_traces(\n",
    "    text=expiration_monthly_counts['Count'],   # Add the count as text\n",
    "    textposition='top center',  # Position the text above each marker\n",
    ")\n",
    "\n",
    "# Show the plot\n",
    "fig.show()"
   ],
   "id": "205d76d937076bdd",
   "outputs": [
    {
     "data": {
      "application/vnd.plotly.v1+json": {
       "data": [
        {
         "hovertemplate": "Expiration Date=%{x}<br>Number of Pharmacies=%{y}<extra></extra>",
         "legendgroup": "",
         "line": {
          "color": "#636efa",
          "dash": "solid"
         },
         "marker": {
          "symbol": "circle"
         },
         "mode": "lines+markers",
         "name": "",
         "orientation": "v",
         "showlegend": false,
         "x": [
          "2024-04",
          "2024-11",
          "2024-12",
          "2025-01",
          "2025-02",
          "2025-03",
          "2025-04",
          "2025-05",
          "2025-06",
          "2025-07",
          "2025-08",
          "2025-09",
          "2025-10",
          "2025-11",
          "2025-12"
         ],
         "xaxis": "x",
         "y": [
          1,
          1,
          24,
          70,
          53,
          59,
          39,
          50,
          49,
          94,
          92,
          54,
          56,
          156,
          47
         ],
         "yaxis": "y",
         "type": "scatter",
         "text": [
          1.0,
          1.0,
          24.0,
          70.0,
          53.0,
          59.0,
          39.0,
          50.0,
          49.0,
          94.0,
          92.0,
          54.0,
          56.0,
          156.0,
          47.0
         ],
         "textposition": "top center"
        }
       ],
       "layout": {
        "template": {
         "data": {
          "histogram2dcontour": [
           {
            "type": "histogram2dcontour",
            "colorbar": {
             "outlinewidth": 0,
             "ticks": ""
            },
            "colorscale": [
             [
              0.0,
              "#0d0887"
             ],
             [
              0.1111111111111111,
              "#46039f"
             ],
             [
              0.2222222222222222,
              "#7201a8"
             ],
             [
              0.3333333333333333,
              "#9c179e"
             ],
             [
              0.4444444444444444,
              "#bd3786"
             ],
             [
              0.5555555555555556,
              "#d8576b"
             ],
             [
              0.6666666666666666,
              "#ed7953"
             ],
             [
              0.7777777777777778,
              "#fb9f3a"
             ],
             [
              0.8888888888888888,
              "#fdca26"
             ],
             [
              1.0,
              "#f0f921"
             ]
            ]
           }
          ],
          "choropleth": [
           {
            "type": "choropleth",
            "colorbar": {
             "outlinewidth": 0,
             "ticks": ""
            }
           }
          ],
          "histogram2d": [
           {
            "type": "histogram2d",
            "colorbar": {
             "outlinewidth": 0,
             "ticks": ""
            },
            "colorscale": [
             [
              0.0,
              "#0d0887"
             ],
             [
              0.1111111111111111,
              "#46039f"
             ],
             [
              0.2222222222222222,
              "#7201a8"
             ],
             [
              0.3333333333333333,
              "#9c179e"
             ],
             [
              0.4444444444444444,
              "#bd3786"
             ],
             [
              0.5555555555555556,
              "#d8576b"
             ],
             [
              0.6666666666666666,
              "#ed7953"
             ],
             [
              0.7777777777777778,
              "#fb9f3a"
             ],
             [
              0.8888888888888888,
              "#fdca26"
             ],
             [
              1.0,
              "#f0f921"
             ]
            ]
           }
          ],
          "heatmap": [
           {
            "type": "heatmap",
            "colorbar": {
             "outlinewidth": 0,
             "ticks": ""
            },
            "colorscale": [
             [
              0.0,
              "#0d0887"
             ],
             [
              0.1111111111111111,
              "#46039f"
             ],
             [
              0.2222222222222222,
              "#7201a8"
             ],
             [
              0.3333333333333333,
              "#9c179e"
             ],
             [
              0.4444444444444444,
              "#bd3786"
             ],
             [
              0.5555555555555556,
              "#d8576b"
             ],
             [
              0.6666666666666666,
              "#ed7953"
             ],
             [
              0.7777777777777778,
              "#fb9f3a"
             ],
             [
              0.8888888888888888,
              "#fdca26"
             ],
             [
              1.0,
              "#f0f921"
             ]
            ]
           }
          ],
          "heatmapgl": [
           {
            "type": "heatmapgl",
            "colorbar": {
             "outlinewidth": 0,
             "ticks": ""
            },
            "colorscale": [
             [
              0.0,
              "#0d0887"
             ],
             [
              0.1111111111111111,
              "#46039f"
             ],
             [
              0.2222222222222222,
              "#7201a8"
             ],
             [
              0.3333333333333333,
              "#9c179e"
             ],
             [
              0.4444444444444444,
              "#bd3786"
             ],
             [
              0.5555555555555556,
              "#d8576b"
             ],
             [
              0.6666666666666666,
              "#ed7953"
             ],
             [
              0.7777777777777778,
              "#fb9f3a"
             ],
             [
              0.8888888888888888,
              "#fdca26"
             ],
             [
              1.0,
              "#f0f921"
             ]
            ]
           }
          ],
          "contourcarpet": [
           {
            "type": "contourcarpet",
            "colorbar": {
             "outlinewidth": 0,
             "ticks": ""
            }
           }
          ],
          "contour": [
           {
            "type": "contour",
            "colorbar": {
             "outlinewidth": 0,
             "ticks": ""
            },
            "colorscale": [
             [
              0.0,
              "#0d0887"
             ],
             [
              0.1111111111111111,
              "#46039f"
             ],
             [
              0.2222222222222222,
              "#7201a8"
             ],
             [
              0.3333333333333333,
              "#9c179e"
             ],
             [
              0.4444444444444444,
              "#bd3786"
             ],
             [
              0.5555555555555556,
              "#d8576b"
             ],
             [
              0.6666666666666666,
              "#ed7953"
             ],
             [
              0.7777777777777778,
              "#fb9f3a"
             ],
             [
              0.8888888888888888,
              "#fdca26"
             ],
             [
              1.0,
              "#f0f921"
             ]
            ]
           }
          ],
          "surface": [
           {
            "type": "surface",
            "colorbar": {
             "outlinewidth": 0,
             "ticks": ""
            },
            "colorscale": [
             [
              0.0,
              "#0d0887"
             ],
             [
              0.1111111111111111,
              "#46039f"
             ],
             [
              0.2222222222222222,
              "#7201a8"
             ],
             [
              0.3333333333333333,
              "#9c179e"
             ],
             [
              0.4444444444444444,
              "#bd3786"
             ],
             [
              0.5555555555555556,
              "#d8576b"
             ],
             [
              0.6666666666666666,
              "#ed7953"
             ],
             [
              0.7777777777777778,
              "#fb9f3a"
             ],
             [
              0.8888888888888888,
              "#fdca26"
             ],
             [
              1.0,
              "#f0f921"
             ]
            ]
           }
          ],
          "mesh3d": [
           {
            "type": "mesh3d",
            "colorbar": {
             "outlinewidth": 0,
             "ticks": ""
            }
           }
          ],
          "scatter": [
           {
            "fillpattern": {
             "fillmode": "overlay",
             "size": 10,
             "solidity": 0.2
            },
            "type": "scatter"
           }
          ],
          "parcoords": [
           {
            "type": "parcoords",
            "line": {
             "colorbar": {
              "outlinewidth": 0,
              "ticks": ""
             }
            }
           }
          ],
          "scatterpolargl": [
           {
            "type": "scatterpolargl",
            "marker": {
             "colorbar": {
              "outlinewidth": 0,
              "ticks": ""
             }
            }
           }
          ],
          "bar": [
           {
            "error_x": {
             "color": "#2a3f5f"
            },
            "error_y": {
             "color": "#2a3f5f"
            },
            "marker": {
             "line": {
              "color": "#E5ECF6",
              "width": 0.5
             },
             "pattern": {
              "fillmode": "overlay",
              "size": 10,
              "solidity": 0.2
             }
            },
            "type": "bar"
           }
          ],
          "scattergeo": [
           {
            "type": "scattergeo",
            "marker": {
             "colorbar": {
              "outlinewidth": 0,
              "ticks": ""
             }
            }
           }
          ],
          "scatterpolar": [
           {
            "type": "scatterpolar",
            "marker": {
             "colorbar": {
              "outlinewidth": 0,
              "ticks": ""
             }
            }
           }
          ],
          "histogram": [
           {
            "marker": {
             "pattern": {
              "fillmode": "overlay",
              "size": 10,
              "solidity": 0.2
             }
            },
            "type": "histogram"
           }
          ],
          "scattergl": [
           {
            "type": "scattergl",
            "marker": {
             "colorbar": {
              "outlinewidth": 0,
              "ticks": ""
             }
            }
           }
          ],
          "scatter3d": [
           {
            "type": "scatter3d",
            "line": {
             "colorbar": {
              "outlinewidth": 0,
              "ticks": ""
             }
            },
            "marker": {
             "colorbar": {
              "outlinewidth": 0,
              "ticks": ""
             }
            }
           }
          ],
          "scattermapbox": [
           {
            "type": "scattermapbox",
            "marker": {
             "colorbar": {
              "outlinewidth": 0,
              "ticks": ""
             }
            }
           }
          ],
          "scatterternary": [
           {
            "type": "scatterternary",
            "marker": {
             "colorbar": {
              "outlinewidth": 0,
              "ticks": ""
             }
            }
           }
          ],
          "scattercarpet": [
           {
            "type": "scattercarpet",
            "marker": {
             "colorbar": {
              "outlinewidth": 0,
              "ticks": ""
             }
            }
           }
          ],
          "carpet": [
           {
            "aaxis": {
             "endlinecolor": "#2a3f5f",
             "gridcolor": "white",
             "linecolor": "white",
             "minorgridcolor": "white",
             "startlinecolor": "#2a3f5f"
            },
            "baxis": {
             "endlinecolor": "#2a3f5f",
             "gridcolor": "white",
             "linecolor": "white",
             "minorgridcolor": "white",
             "startlinecolor": "#2a3f5f"
            },
            "type": "carpet"
           }
          ],
          "table": [
           {
            "cells": {
             "fill": {
              "color": "#EBF0F8"
             },
             "line": {
              "color": "white"
             }
            },
            "header": {
             "fill": {
              "color": "#C8D4E3"
             },
             "line": {
              "color": "white"
             }
            },
            "type": "table"
           }
          ],
          "barpolar": [
           {
            "marker": {
             "line": {
              "color": "#E5ECF6",
              "width": 0.5
             },
             "pattern": {
              "fillmode": "overlay",
              "size": 10,
              "solidity": 0.2
             }
            },
            "type": "barpolar"
           }
          ],
          "pie": [
           {
            "automargin": true,
            "type": "pie"
           }
          ]
         },
         "layout": {
          "autotypenumbers": "strict",
          "colorway": [
           "#636efa",
           "#EF553B",
           "#00cc96",
           "#ab63fa",
           "#FFA15A",
           "#19d3f3",
           "#FF6692",
           "#B6E880",
           "#FF97FF",
           "#FECB52"
          ],
          "font": {
           "color": "#2a3f5f"
          },
          "hovermode": "closest",
          "hoverlabel": {
           "align": "left"
          },
          "paper_bgcolor": "white",
          "plot_bgcolor": "#E5ECF6",
          "polar": {
           "bgcolor": "#E5ECF6",
           "angularaxis": {
            "gridcolor": "white",
            "linecolor": "white",
            "ticks": ""
           },
           "radialaxis": {
            "gridcolor": "white",
            "linecolor": "white",
            "ticks": ""
           }
          },
          "ternary": {
           "bgcolor": "#E5ECF6",
           "aaxis": {
            "gridcolor": "white",
            "linecolor": "white",
            "ticks": ""
           },
           "baxis": {
            "gridcolor": "white",
            "linecolor": "white",
            "ticks": ""
           },
           "caxis": {
            "gridcolor": "white",
            "linecolor": "white",
            "ticks": ""
           }
          },
          "coloraxis": {
           "colorbar": {
            "outlinewidth": 0,
            "ticks": ""
           }
          },
          "colorscale": {
           "sequential": [
            [
             0.0,
             "#0d0887"
            ],
            [
             0.1111111111111111,
             "#46039f"
            ],
            [
             0.2222222222222222,
             "#7201a8"
            ],
            [
             0.3333333333333333,
             "#9c179e"
            ],
            [
             0.4444444444444444,
             "#bd3786"
            ],
            [
             0.5555555555555556,
             "#d8576b"
            ],
            [
             0.6666666666666666,
             "#ed7953"
            ],
            [
             0.7777777777777778,
             "#fb9f3a"
            ],
            [
             0.8888888888888888,
             "#fdca26"
            ],
            [
             1.0,
             "#f0f921"
            ]
           ],
           "sequentialminus": [
            [
             0.0,
             "#0d0887"
            ],
            [
             0.1111111111111111,
             "#46039f"
            ],
            [
             0.2222222222222222,
             "#7201a8"
            ],
            [
             0.3333333333333333,
             "#9c179e"
            ],
            [
             0.4444444444444444,
             "#bd3786"
            ],
            [
             0.5555555555555556,
             "#d8576b"
            ],
            [
             0.6666666666666666,
             "#ed7953"
            ],
            [
             0.7777777777777778,
             "#fb9f3a"
            ],
            [
             0.8888888888888888,
             "#fdca26"
            ],
            [
             1.0,
             "#f0f921"
            ]
           ],
           "diverging": [
            [
             0,
             "#8e0152"
            ],
            [
             0.1,
             "#c51b7d"
            ],
            [
             0.2,
             "#de77ae"
            ],
            [
             0.3,
             "#f1b6da"
            ],
            [
             0.4,
             "#fde0ef"
            ],
            [
             0.5,
             "#f7f7f7"
            ],
            [
             0.6,
             "#e6f5d0"
            ],
            [
             0.7,
             "#b8e186"
            ],
            [
             0.8,
             "#7fbc41"
            ],
            [
             0.9,
             "#4d9221"
            ],
            [
             1,
             "#276419"
            ]
           ]
          },
          "xaxis": {
           "gridcolor": "white",
           "linecolor": "white",
           "ticks": "",
           "title": {
            "standoff": 15
           },
           "zerolinecolor": "white",
           "automargin": true,
           "zerolinewidth": 2
          },
          "yaxis": {
           "gridcolor": "white",
           "linecolor": "white",
           "ticks": "",
           "title": {
            "standoff": 15
           },
           "zerolinecolor": "white",
           "automargin": true,
           "zerolinewidth": 2
          },
          "scene": {
           "xaxis": {
            "backgroundcolor": "#E5ECF6",
            "gridcolor": "white",
            "linecolor": "white",
            "showbackground": true,
            "ticks": "",
            "zerolinecolor": "white",
            "gridwidth": 2
           },
           "yaxis": {
            "backgroundcolor": "#E5ECF6",
            "gridcolor": "white",
            "linecolor": "white",
            "showbackground": true,
            "ticks": "",
            "zerolinecolor": "white",
            "gridwidth": 2
           },
           "zaxis": {
            "backgroundcolor": "#E5ECF6",
            "gridcolor": "white",
            "linecolor": "white",
            "showbackground": true,
            "ticks": "",
            "zerolinecolor": "white",
            "gridwidth": 2
           }
          },
          "shapedefaults": {
           "line": {
            "color": "#2a3f5f"
           }
          },
          "annotationdefaults": {
           "arrowcolor": "#2a3f5f",
           "arrowhead": 0,
           "arrowwidth": 1
          },
          "geo": {
           "bgcolor": "white",
           "landcolor": "#E5ECF6",
           "subunitcolor": "white",
           "showland": true,
           "showlakes": true,
           "lakecolor": "white"
          },
          "title": {
           "x": 0.05
          },
          "mapbox": {
           "style": "light"
          }
         }
        },
        "xaxis": {
         "anchor": "y",
         "domain": [
          0.0,
          1.0
         ],
         "title": {
          "text": "Expiration Date"
         }
        },
        "yaxis": {
         "anchor": "x",
         "domain": [
          0.0,
          1.0
         ],
         "title": {
          "text": "Number of Pharmacies"
         }
        },
        "legend": {
         "tracegroupgap": 0
        },
        "title": {
         "text": "Pharmacies Expiring Over Time"
        }
       },
       "config": {
        "plotlyServerURL": "https://plot.ly"
       }
      },
      "text/html": [
       "<div>                            <div id=\"df28189e-9003-43f4-8dd3-7a02b2c08528\" class=\"plotly-graph-div\" style=\"height:525px; width:100%;\"></div>            <script type=\"text/javascript\">                require([\"plotly\"], function(Plotly) {                    window.PLOTLYENV=window.PLOTLYENV || {};                                    if (document.getElementById(\"df28189e-9003-43f4-8dd3-7a02b2c08528\")) {                    Plotly.newPlot(                        \"df28189e-9003-43f4-8dd3-7a02b2c08528\",                        [{\"hovertemplate\":\"Expiration Date=%{x}\\u003cbr\\u003eNumber of Pharmacies=%{y}\\u003cextra\\u003e\\u003c\\u002fextra\\u003e\",\"legendgroup\":\"\",\"line\":{\"color\":\"#636efa\",\"dash\":\"solid\"},\"marker\":{\"symbol\":\"circle\"},\"mode\":\"lines+markers\",\"name\":\"\",\"orientation\":\"v\",\"showlegend\":false,\"x\":[\"2024-04\",\"2024-11\",\"2024-12\",\"2025-01\",\"2025-02\",\"2025-03\",\"2025-04\",\"2025-05\",\"2025-06\",\"2025-07\",\"2025-08\",\"2025-09\",\"2025-10\",\"2025-11\",\"2025-12\"],\"xaxis\":\"x\",\"y\":[1,1,24,70,53,59,39,50,49,94,92,54,56,156,47],\"yaxis\":\"y\",\"type\":\"scatter\",\"text\":[1.0,1.0,24.0,70.0,53.0,59.0,39.0,50.0,49.0,94.0,92.0,54.0,56.0,156.0,47.0],\"textposition\":\"top center\"}],                        {\"template\":{\"data\":{\"histogram2dcontour\":[{\"type\":\"histogram2dcontour\",\"colorbar\":{\"outlinewidth\":0,\"ticks\":\"\"},\"colorscale\":[[0.0,\"#0d0887\"],[0.1111111111111111,\"#46039f\"],[0.2222222222222222,\"#7201a8\"],[0.3333333333333333,\"#9c179e\"],[0.4444444444444444,\"#bd3786\"],[0.5555555555555556,\"#d8576b\"],[0.6666666666666666,\"#ed7953\"],[0.7777777777777778,\"#fb9f3a\"],[0.8888888888888888,\"#fdca26\"],[1.0,\"#f0f921\"]]}],\"choropleth\":[{\"type\":\"choropleth\",\"colorbar\":{\"outlinewidth\":0,\"ticks\":\"\"}}],\"histogram2d\":[{\"type\":\"histogram2d\",\"colorbar\":{\"outlinewidth\":0,\"ticks\":\"\"},\"colorscale\":[[0.0,\"#0d0887\"],[0.1111111111111111,\"#46039f\"],[0.2222222222222222,\"#7201a8\"],[0.3333333333333333,\"#9c179e\"],[0.4444444444444444,\"#bd3786\"],[0.5555555555555556,\"#d8576b\"],[0.6666666666666666,\"#ed7953\"],[0.7777777777777778,\"#fb9f3a\"],[0.8888888888888888,\"#fdca26\"],[1.0,\"#f0f921\"]]}],\"heatmap\":[{\"type\":\"heatmap\",\"colorbar\":{\"outlinewidth\":0,\"ticks\":\"\"},\"colorscale\":[[0.0,\"#0d0887\"],[0.1111111111111111,\"#46039f\"],[0.2222222222222222,\"#7201a8\"],[0.3333333333333333,\"#9c179e\"],[0.4444444444444444,\"#bd3786\"],[0.5555555555555556,\"#d8576b\"],[0.6666666666666666,\"#ed7953\"],[0.7777777777777778,\"#fb9f3a\"],[0.8888888888888888,\"#fdca26\"],[1.0,\"#f0f921\"]]}],\"heatmapgl\":[{\"type\":\"heatmapgl\",\"colorbar\":{\"outlinewidth\":0,\"ticks\":\"\"},\"colorscale\":[[0.0,\"#0d0887\"],[0.1111111111111111,\"#46039f\"],[0.2222222222222222,\"#7201a8\"],[0.3333333333333333,\"#9c179e\"],[0.4444444444444444,\"#bd3786\"],[0.5555555555555556,\"#d8576b\"],[0.6666666666666666,\"#ed7953\"],[0.7777777777777778,\"#fb9f3a\"],[0.8888888888888888,\"#fdca26\"],[1.0,\"#f0f921\"]]}],\"contourcarpet\":[{\"type\":\"contourcarpet\",\"colorbar\":{\"outlinewidth\":0,\"ticks\":\"\"}}],\"contour\":[{\"type\":\"contour\",\"colorbar\":{\"outlinewidth\":0,\"ticks\":\"\"},\"colorscale\":[[0.0,\"#0d0887\"],[0.1111111111111111,\"#46039f\"],[0.2222222222222222,\"#7201a8\"],[0.3333333333333333,\"#9c179e\"],[0.4444444444444444,\"#bd3786\"],[0.5555555555555556,\"#d8576b\"],[0.6666666666666666,\"#ed7953\"],[0.7777777777777778,\"#fb9f3a\"],[0.8888888888888888,\"#fdca26\"],[1.0,\"#f0f921\"]]}],\"surface\":[{\"type\":\"surface\",\"colorbar\":{\"outlinewidth\":0,\"ticks\":\"\"},\"colorscale\":[[0.0,\"#0d0887\"],[0.1111111111111111,\"#46039f\"],[0.2222222222222222,\"#7201a8\"],[0.3333333333333333,\"#9c179e\"],[0.4444444444444444,\"#bd3786\"],[0.5555555555555556,\"#d8576b\"],[0.6666666666666666,\"#ed7953\"],[0.7777777777777778,\"#fb9f3a\"],[0.8888888888888888,\"#fdca26\"],[1.0,\"#f0f921\"]]}],\"mesh3d\":[{\"type\":\"mesh3d\",\"colorbar\":{\"outlinewidth\":0,\"ticks\":\"\"}}],\"scatter\":[{\"fillpattern\":{\"fillmode\":\"overlay\",\"size\":10,\"solidity\":0.2},\"type\":\"scatter\"}],\"parcoords\":[{\"type\":\"parcoords\",\"line\":{\"colorbar\":{\"outlinewidth\":0,\"ticks\":\"\"}}}],\"scatterpolargl\":[{\"type\":\"scatterpolargl\",\"marker\":{\"colorbar\":{\"outlinewidth\":0,\"ticks\":\"\"}}}],\"bar\":[{\"error_x\":{\"color\":\"#2a3f5f\"},\"error_y\":{\"color\":\"#2a3f5f\"},\"marker\":{\"line\":{\"color\":\"#E5ECF6\",\"width\":0.5},\"pattern\":{\"fillmode\":\"overlay\",\"size\":10,\"solidity\":0.2}},\"type\":\"bar\"}],\"scattergeo\":[{\"type\":\"scattergeo\",\"marker\":{\"colorbar\":{\"outlinewidth\":0,\"ticks\":\"\"}}}],\"scatterpolar\":[{\"type\":\"scatterpolar\",\"marker\":{\"colorbar\":{\"outlinewidth\":0,\"ticks\":\"\"}}}],\"histogram\":[{\"marker\":{\"pattern\":{\"fillmode\":\"overlay\",\"size\":10,\"solidity\":0.2}},\"type\":\"histogram\"}],\"scattergl\":[{\"type\":\"scattergl\",\"marker\":{\"colorbar\":{\"outlinewidth\":0,\"ticks\":\"\"}}}],\"scatter3d\":[{\"type\":\"scatter3d\",\"line\":{\"colorbar\":{\"outlinewidth\":0,\"ticks\":\"\"}},\"marker\":{\"colorbar\":{\"outlinewidth\":0,\"ticks\":\"\"}}}],\"scattermapbox\":[{\"type\":\"scattermapbox\",\"marker\":{\"colorbar\":{\"outlinewidth\":0,\"ticks\":\"\"}}}],\"scatterternary\":[{\"type\":\"scatterternary\",\"marker\":{\"colorbar\":{\"outlinewidth\":0,\"ticks\":\"\"}}}],\"scattercarpet\":[{\"type\":\"scattercarpet\",\"marker\":{\"colorbar\":{\"outlinewidth\":0,\"ticks\":\"\"}}}],\"carpet\":[{\"aaxis\":{\"endlinecolor\":\"#2a3f5f\",\"gridcolor\":\"white\",\"linecolor\":\"white\",\"minorgridcolor\":\"white\",\"startlinecolor\":\"#2a3f5f\"},\"baxis\":{\"endlinecolor\":\"#2a3f5f\",\"gridcolor\":\"white\",\"linecolor\":\"white\",\"minorgridcolor\":\"white\",\"startlinecolor\":\"#2a3f5f\"},\"type\":\"carpet\"}],\"table\":[{\"cells\":{\"fill\":{\"color\":\"#EBF0F8\"},\"line\":{\"color\":\"white\"}},\"header\":{\"fill\":{\"color\":\"#C8D4E3\"},\"line\":{\"color\":\"white\"}},\"type\":\"table\"}],\"barpolar\":[{\"marker\":{\"line\":{\"color\":\"#E5ECF6\",\"width\":0.5},\"pattern\":{\"fillmode\":\"overlay\",\"size\":10,\"solidity\":0.2}},\"type\":\"barpolar\"}],\"pie\":[{\"automargin\":true,\"type\":\"pie\"}]},\"layout\":{\"autotypenumbers\":\"strict\",\"colorway\":[\"#636efa\",\"#EF553B\",\"#00cc96\",\"#ab63fa\",\"#FFA15A\",\"#19d3f3\",\"#FF6692\",\"#B6E880\",\"#FF97FF\",\"#FECB52\"],\"font\":{\"color\":\"#2a3f5f\"},\"hovermode\":\"closest\",\"hoverlabel\":{\"align\":\"left\"},\"paper_bgcolor\":\"white\",\"plot_bgcolor\":\"#E5ECF6\",\"polar\":{\"bgcolor\":\"#E5ECF6\",\"angularaxis\":{\"gridcolor\":\"white\",\"linecolor\":\"white\",\"ticks\":\"\"},\"radialaxis\":{\"gridcolor\":\"white\",\"linecolor\":\"white\",\"ticks\":\"\"}},\"ternary\":{\"bgcolor\":\"#E5ECF6\",\"aaxis\":{\"gridcolor\":\"white\",\"linecolor\":\"white\",\"ticks\":\"\"},\"baxis\":{\"gridcolor\":\"white\",\"linecolor\":\"white\",\"ticks\":\"\"},\"caxis\":{\"gridcolor\":\"white\",\"linecolor\":\"white\",\"ticks\":\"\"}},\"coloraxis\":{\"colorbar\":{\"outlinewidth\":0,\"ticks\":\"\"}},\"colorscale\":{\"sequential\":[[0.0,\"#0d0887\"],[0.1111111111111111,\"#46039f\"],[0.2222222222222222,\"#7201a8\"],[0.3333333333333333,\"#9c179e\"],[0.4444444444444444,\"#bd3786\"],[0.5555555555555556,\"#d8576b\"],[0.6666666666666666,\"#ed7953\"],[0.7777777777777778,\"#fb9f3a\"],[0.8888888888888888,\"#fdca26\"],[1.0,\"#f0f921\"]],\"sequentialminus\":[[0.0,\"#0d0887\"],[0.1111111111111111,\"#46039f\"],[0.2222222222222222,\"#7201a8\"],[0.3333333333333333,\"#9c179e\"],[0.4444444444444444,\"#bd3786\"],[0.5555555555555556,\"#d8576b\"],[0.6666666666666666,\"#ed7953\"],[0.7777777777777778,\"#fb9f3a\"],[0.8888888888888888,\"#fdca26\"],[1.0,\"#f0f921\"]],\"diverging\":[[0,\"#8e0152\"],[0.1,\"#c51b7d\"],[0.2,\"#de77ae\"],[0.3,\"#f1b6da\"],[0.4,\"#fde0ef\"],[0.5,\"#f7f7f7\"],[0.6,\"#e6f5d0\"],[0.7,\"#b8e186\"],[0.8,\"#7fbc41\"],[0.9,\"#4d9221\"],[1,\"#276419\"]]},\"xaxis\":{\"gridcolor\":\"white\",\"linecolor\":\"white\",\"ticks\":\"\",\"title\":{\"standoff\":15},\"zerolinecolor\":\"white\",\"automargin\":true,\"zerolinewidth\":2},\"yaxis\":{\"gridcolor\":\"white\",\"linecolor\":\"white\",\"ticks\":\"\",\"title\":{\"standoff\":15},\"zerolinecolor\":\"white\",\"automargin\":true,\"zerolinewidth\":2},\"scene\":{\"xaxis\":{\"backgroundcolor\":\"#E5ECF6\",\"gridcolor\":\"white\",\"linecolor\":\"white\",\"showbackground\":true,\"ticks\":\"\",\"zerolinecolor\":\"white\",\"gridwidth\":2},\"yaxis\":{\"backgroundcolor\":\"#E5ECF6\",\"gridcolor\":\"white\",\"linecolor\":\"white\",\"showbackground\":true,\"ticks\":\"\",\"zerolinecolor\":\"white\",\"gridwidth\":2},\"zaxis\":{\"backgroundcolor\":\"#E5ECF6\",\"gridcolor\":\"white\",\"linecolor\":\"white\",\"showbackground\":true,\"ticks\":\"\",\"zerolinecolor\":\"white\",\"gridwidth\":2}},\"shapedefaults\":{\"line\":{\"color\":\"#2a3f5f\"}},\"annotationdefaults\":{\"arrowcolor\":\"#2a3f5f\",\"arrowhead\":0,\"arrowwidth\":1},\"geo\":{\"bgcolor\":\"white\",\"landcolor\":\"#E5ECF6\",\"subunitcolor\":\"white\",\"showland\":true,\"showlakes\":true,\"lakecolor\":\"white\"},\"title\":{\"x\":0.05},\"mapbox\":{\"style\":\"light\"}}},\"xaxis\":{\"anchor\":\"y\",\"domain\":[0.0,1.0],\"title\":{\"text\":\"Expiration Date\"}},\"yaxis\":{\"anchor\":\"x\",\"domain\":[0.0,1.0],\"title\":{\"text\":\"Number of Pharmacies\"}},\"legend\":{\"tracegroupgap\":0},\"title\":{\"text\":\"Pharmacies Expiring Over Time\"}},                        {\"responsive\": true}                    ).then(function(){\n",
       "                            \n",
       "var gd = document.getElementById('df28189e-9003-43f4-8dd3-7a02b2c08528');\n",
       "var x = new MutationObserver(function (mutations, observer) {{\n",
       "        var display = window.getComputedStyle(gd).display;\n",
       "        if (!display || display === 'none') {{\n",
       "            console.log([gd, 'removed!']);\n",
       "            Plotly.purge(gd);\n",
       "            observer.disconnect();\n",
       "        }}\n",
       "}});\n",
       "\n",
       "// Listen for the removal of the full notebook cells\n",
       "var notebookContainer = gd.closest('#notebook-container');\n",
       "if (notebookContainer) {{\n",
       "    x.observe(notebookContainer, {childList: true});\n",
       "}}\n",
       "\n",
       "// Listen for the clearing of the current output cell\n",
       "var outputEl = gd.closest('.output');\n",
       "if (outputEl) {{\n",
       "    x.observe(outputEl, {childList: true});\n",
       "}}\n",
       "\n",
       "                        })                };                });            </script>        </div>"
      ]
     },
     "metadata": {},
     "output_type": "display_data"
    }
   ],
   "execution_count": 125
  },
  {
   "metadata": {},
   "cell_type": "markdown",
   "source": "### WHO is being issued Sterile Compounding Licenses by the California State Board of Pharmacy? ",
   "id": "62891174e69cbb0d"
  },
  {
   "metadata": {
    "ExecuteTime": {
     "end_time": "2024-12-15T18:53:46.719747Z",
     "start_time": "2024-12-15T18:53:46.640503Z"
    }
   },
   "cell_type": "code",
   "source": [
    "import plotly.express as px\n",
    "\n",
    "# Step 1: Aggregate the counts of each 'Entity Type'\n",
    "entity_type_counts = all_pharmacies['Entity Type'].value_counts().reset_index()\n",
    "entity_type_counts.columns = ['Entity Type', 'Count']\n",
    "\n",
    "# Step 2: Create the donut chart for Entity Type\n",
    "fig = px.pie(\n",
    "    entity_type_counts,  # Use entity_type_counts, not license_type_counts\n",
    "    names='Entity Type',\n",
    "    values='Count',\n",
    "    title=\"Distribution of Entity Types\",\n",
    "    hole=0.4,  # This makes it a donut chart\n",
    ")\n",
    "\n",
    "# Step 3: Update the legend labels for each trace to be more descriptive\n",
    "fig.for_each_trace(lambda trace: trace.update(\n",
    "    name=\"Entity Type A\" if trace.name == \"Type A\" else\n",
    "    \"Entity Type B\" if trace.name == \"Type B\" else\n",
    "    \"Entity Type C\" if trace.name == \"Type C\" else\n",
    "    trace.name  # Keep original name if it doesn't match any condition\n",
    "))\n",
    "\n",
    "# Step 4: Customize the layout for title and legend\n",
    "fig.update_layout(\n",
    "    title={  # Title customization\n",
    "        'text': \"Distribution of Entity Types\",\n",
    "        'y': 0.95,  # Position the title just below the top of the chart\n",
    "        'x': 0.5,  # Horizontally center the title\n",
    "        'xanchor': 'center',\n",
    "        'yanchor': 'top'  # Align title's top edge with y position\n",
    "    },\n",
    "    legend=dict(\n",
    "        title=\"Entity Type\",  # Add a legend title\n",
    "        orientation=\"v\",  # Vertical legend layout\n",
    "        yanchor=\"bottom\",\n",
    "        y=0.5,  # Place legend below the chart\n",
    "        xanchor=\"right\",\n",
    "        x=.25\n",
    "    )\n",
    ")\n",
    "\n",
    "# Step 5: Show the plot\n",
    "fig.show()\n"
   ],
   "id": "1ccd9a0284d2e086",
   "outputs": [
    {
     "data": {
      "application/vnd.plotly.v1+json": {
       "data": [
        {
         "domain": {
          "x": [
           0.0,
           1.0
          ],
          "y": [
           0.0,
           1.0
          ]
         },
         "hole": 0.4,
         "hovertemplate": "Entity Type=%{label}<br>Count=%{value}<extra></extra>",
         "labels": [
          "Hospital or Med Center",
          "Compounding Pharmacy",
          "Infusion Services",
          "Veterinary Compounding Only",
          "Government Facility"
         ],
         "legendgroup": "",
         "name": "",
         "showlegend": true,
         "values": [
          658,
          105,
          72,
          10,
          1
         ],
         "type": "pie"
        }
       ],
       "layout": {
        "template": {
         "data": {
          "histogram2dcontour": [
           {
            "type": "histogram2dcontour",
            "colorbar": {
             "outlinewidth": 0,
             "ticks": ""
            },
            "colorscale": [
             [
              0.0,
              "#0d0887"
             ],
             [
              0.1111111111111111,
              "#46039f"
             ],
             [
              0.2222222222222222,
              "#7201a8"
             ],
             [
              0.3333333333333333,
              "#9c179e"
             ],
             [
              0.4444444444444444,
              "#bd3786"
             ],
             [
              0.5555555555555556,
              "#d8576b"
             ],
             [
              0.6666666666666666,
              "#ed7953"
             ],
             [
              0.7777777777777778,
              "#fb9f3a"
             ],
             [
              0.8888888888888888,
              "#fdca26"
             ],
             [
              1.0,
              "#f0f921"
             ]
            ]
           }
          ],
          "choropleth": [
           {
            "type": "choropleth",
            "colorbar": {
             "outlinewidth": 0,
             "ticks": ""
            }
           }
          ],
          "histogram2d": [
           {
            "type": "histogram2d",
            "colorbar": {
             "outlinewidth": 0,
             "ticks": ""
            },
            "colorscale": [
             [
              0.0,
              "#0d0887"
             ],
             [
              0.1111111111111111,
              "#46039f"
             ],
             [
              0.2222222222222222,
              "#7201a8"
             ],
             [
              0.3333333333333333,
              "#9c179e"
             ],
             [
              0.4444444444444444,
              "#bd3786"
             ],
             [
              0.5555555555555556,
              "#d8576b"
             ],
             [
              0.6666666666666666,
              "#ed7953"
             ],
             [
              0.7777777777777778,
              "#fb9f3a"
             ],
             [
              0.8888888888888888,
              "#fdca26"
             ],
             [
              1.0,
              "#f0f921"
             ]
            ]
           }
          ],
          "heatmap": [
           {
            "type": "heatmap",
            "colorbar": {
             "outlinewidth": 0,
             "ticks": ""
            },
            "colorscale": [
             [
              0.0,
              "#0d0887"
             ],
             [
              0.1111111111111111,
              "#46039f"
             ],
             [
              0.2222222222222222,
              "#7201a8"
             ],
             [
              0.3333333333333333,
              "#9c179e"
             ],
             [
              0.4444444444444444,
              "#bd3786"
             ],
             [
              0.5555555555555556,
              "#d8576b"
             ],
             [
              0.6666666666666666,
              "#ed7953"
             ],
             [
              0.7777777777777778,
              "#fb9f3a"
             ],
             [
              0.8888888888888888,
              "#fdca26"
             ],
             [
              1.0,
              "#f0f921"
             ]
            ]
           }
          ],
          "heatmapgl": [
           {
            "type": "heatmapgl",
            "colorbar": {
             "outlinewidth": 0,
             "ticks": ""
            },
            "colorscale": [
             [
              0.0,
              "#0d0887"
             ],
             [
              0.1111111111111111,
              "#46039f"
             ],
             [
              0.2222222222222222,
              "#7201a8"
             ],
             [
              0.3333333333333333,
              "#9c179e"
             ],
             [
              0.4444444444444444,
              "#bd3786"
             ],
             [
              0.5555555555555556,
              "#d8576b"
             ],
             [
              0.6666666666666666,
              "#ed7953"
             ],
             [
              0.7777777777777778,
              "#fb9f3a"
             ],
             [
              0.8888888888888888,
              "#fdca26"
             ],
             [
              1.0,
              "#f0f921"
             ]
            ]
           }
          ],
          "contourcarpet": [
           {
            "type": "contourcarpet",
            "colorbar": {
             "outlinewidth": 0,
             "ticks": ""
            }
           }
          ],
          "contour": [
           {
            "type": "contour",
            "colorbar": {
             "outlinewidth": 0,
             "ticks": ""
            },
            "colorscale": [
             [
              0.0,
              "#0d0887"
             ],
             [
              0.1111111111111111,
              "#46039f"
             ],
             [
              0.2222222222222222,
              "#7201a8"
             ],
             [
              0.3333333333333333,
              "#9c179e"
             ],
             [
              0.4444444444444444,
              "#bd3786"
             ],
             [
              0.5555555555555556,
              "#d8576b"
             ],
             [
              0.6666666666666666,
              "#ed7953"
             ],
             [
              0.7777777777777778,
              "#fb9f3a"
             ],
             [
              0.8888888888888888,
              "#fdca26"
             ],
             [
              1.0,
              "#f0f921"
             ]
            ]
           }
          ],
          "surface": [
           {
            "type": "surface",
            "colorbar": {
             "outlinewidth": 0,
             "ticks": ""
            },
            "colorscale": [
             [
              0.0,
              "#0d0887"
             ],
             [
              0.1111111111111111,
              "#46039f"
             ],
             [
              0.2222222222222222,
              "#7201a8"
             ],
             [
              0.3333333333333333,
              "#9c179e"
             ],
             [
              0.4444444444444444,
              "#bd3786"
             ],
             [
              0.5555555555555556,
              "#d8576b"
             ],
             [
              0.6666666666666666,
              "#ed7953"
             ],
             [
              0.7777777777777778,
              "#fb9f3a"
             ],
             [
              0.8888888888888888,
              "#fdca26"
             ],
             [
              1.0,
              "#f0f921"
             ]
            ]
           }
          ],
          "mesh3d": [
           {
            "type": "mesh3d",
            "colorbar": {
             "outlinewidth": 0,
             "ticks": ""
            }
           }
          ],
          "scatter": [
           {
            "fillpattern": {
             "fillmode": "overlay",
             "size": 10,
             "solidity": 0.2
            },
            "type": "scatter"
           }
          ],
          "parcoords": [
           {
            "type": "parcoords",
            "line": {
             "colorbar": {
              "outlinewidth": 0,
              "ticks": ""
             }
            }
           }
          ],
          "scatterpolargl": [
           {
            "type": "scatterpolargl",
            "marker": {
             "colorbar": {
              "outlinewidth": 0,
              "ticks": ""
             }
            }
           }
          ],
          "bar": [
           {
            "error_x": {
             "color": "#2a3f5f"
            },
            "error_y": {
             "color": "#2a3f5f"
            },
            "marker": {
             "line": {
              "color": "#E5ECF6",
              "width": 0.5
             },
             "pattern": {
              "fillmode": "overlay",
              "size": 10,
              "solidity": 0.2
             }
            },
            "type": "bar"
           }
          ],
          "scattergeo": [
           {
            "type": "scattergeo",
            "marker": {
             "colorbar": {
              "outlinewidth": 0,
              "ticks": ""
             }
            }
           }
          ],
          "scatterpolar": [
           {
            "type": "scatterpolar",
            "marker": {
             "colorbar": {
              "outlinewidth": 0,
              "ticks": ""
             }
            }
           }
          ],
          "histogram": [
           {
            "marker": {
             "pattern": {
              "fillmode": "overlay",
              "size": 10,
              "solidity": 0.2
             }
            },
            "type": "histogram"
           }
          ],
          "scattergl": [
           {
            "type": "scattergl",
            "marker": {
             "colorbar": {
              "outlinewidth": 0,
              "ticks": ""
             }
            }
           }
          ],
          "scatter3d": [
           {
            "type": "scatter3d",
            "line": {
             "colorbar": {
              "outlinewidth": 0,
              "ticks": ""
             }
            },
            "marker": {
             "colorbar": {
              "outlinewidth": 0,
              "ticks": ""
             }
            }
           }
          ],
          "scattermapbox": [
           {
            "type": "scattermapbox",
            "marker": {
             "colorbar": {
              "outlinewidth": 0,
              "ticks": ""
             }
            }
           }
          ],
          "scatterternary": [
           {
            "type": "scatterternary",
            "marker": {
             "colorbar": {
              "outlinewidth": 0,
              "ticks": ""
             }
            }
           }
          ],
          "scattercarpet": [
           {
            "type": "scattercarpet",
            "marker": {
             "colorbar": {
              "outlinewidth": 0,
              "ticks": ""
             }
            }
           }
          ],
          "carpet": [
           {
            "aaxis": {
             "endlinecolor": "#2a3f5f",
             "gridcolor": "white",
             "linecolor": "white",
             "minorgridcolor": "white",
             "startlinecolor": "#2a3f5f"
            },
            "baxis": {
             "endlinecolor": "#2a3f5f",
             "gridcolor": "white",
             "linecolor": "white",
             "minorgridcolor": "white",
             "startlinecolor": "#2a3f5f"
            },
            "type": "carpet"
           }
          ],
          "table": [
           {
            "cells": {
             "fill": {
              "color": "#EBF0F8"
             },
             "line": {
              "color": "white"
             }
            },
            "header": {
             "fill": {
              "color": "#C8D4E3"
             },
             "line": {
              "color": "white"
             }
            },
            "type": "table"
           }
          ],
          "barpolar": [
           {
            "marker": {
             "line": {
              "color": "#E5ECF6",
              "width": 0.5
             },
             "pattern": {
              "fillmode": "overlay",
              "size": 10,
              "solidity": 0.2
             }
            },
            "type": "barpolar"
           }
          ],
          "pie": [
           {
            "automargin": true,
            "type": "pie"
           }
          ]
         },
         "layout": {
          "autotypenumbers": "strict",
          "colorway": [
           "#636efa",
           "#EF553B",
           "#00cc96",
           "#ab63fa",
           "#FFA15A",
           "#19d3f3",
           "#FF6692",
           "#B6E880",
           "#FF97FF",
           "#FECB52"
          ],
          "font": {
           "color": "#2a3f5f"
          },
          "hovermode": "closest",
          "hoverlabel": {
           "align": "left"
          },
          "paper_bgcolor": "white",
          "plot_bgcolor": "#E5ECF6",
          "polar": {
           "bgcolor": "#E5ECF6",
           "angularaxis": {
            "gridcolor": "white",
            "linecolor": "white",
            "ticks": ""
           },
           "radialaxis": {
            "gridcolor": "white",
            "linecolor": "white",
            "ticks": ""
           }
          },
          "ternary": {
           "bgcolor": "#E5ECF6",
           "aaxis": {
            "gridcolor": "white",
            "linecolor": "white",
            "ticks": ""
           },
           "baxis": {
            "gridcolor": "white",
            "linecolor": "white",
            "ticks": ""
           },
           "caxis": {
            "gridcolor": "white",
            "linecolor": "white",
            "ticks": ""
           }
          },
          "coloraxis": {
           "colorbar": {
            "outlinewidth": 0,
            "ticks": ""
           }
          },
          "colorscale": {
           "sequential": [
            [
             0.0,
             "#0d0887"
            ],
            [
             0.1111111111111111,
             "#46039f"
            ],
            [
             0.2222222222222222,
             "#7201a8"
            ],
            [
             0.3333333333333333,
             "#9c179e"
            ],
            [
             0.4444444444444444,
             "#bd3786"
            ],
            [
             0.5555555555555556,
             "#d8576b"
            ],
            [
             0.6666666666666666,
             "#ed7953"
            ],
            [
             0.7777777777777778,
             "#fb9f3a"
            ],
            [
             0.8888888888888888,
             "#fdca26"
            ],
            [
             1.0,
             "#f0f921"
            ]
           ],
           "sequentialminus": [
            [
             0.0,
             "#0d0887"
            ],
            [
             0.1111111111111111,
             "#46039f"
            ],
            [
             0.2222222222222222,
             "#7201a8"
            ],
            [
             0.3333333333333333,
             "#9c179e"
            ],
            [
             0.4444444444444444,
             "#bd3786"
            ],
            [
             0.5555555555555556,
             "#d8576b"
            ],
            [
             0.6666666666666666,
             "#ed7953"
            ],
            [
             0.7777777777777778,
             "#fb9f3a"
            ],
            [
             0.8888888888888888,
             "#fdca26"
            ],
            [
             1.0,
             "#f0f921"
            ]
           ],
           "diverging": [
            [
             0,
             "#8e0152"
            ],
            [
             0.1,
             "#c51b7d"
            ],
            [
             0.2,
             "#de77ae"
            ],
            [
             0.3,
             "#f1b6da"
            ],
            [
             0.4,
             "#fde0ef"
            ],
            [
             0.5,
             "#f7f7f7"
            ],
            [
             0.6,
             "#e6f5d0"
            ],
            [
             0.7,
             "#b8e186"
            ],
            [
             0.8,
             "#7fbc41"
            ],
            [
             0.9,
             "#4d9221"
            ],
            [
             1,
             "#276419"
            ]
           ]
          },
          "xaxis": {
           "gridcolor": "white",
           "linecolor": "white",
           "ticks": "",
           "title": {
            "standoff": 15
           },
           "zerolinecolor": "white",
           "automargin": true,
           "zerolinewidth": 2
          },
          "yaxis": {
           "gridcolor": "white",
           "linecolor": "white",
           "ticks": "",
           "title": {
            "standoff": 15
           },
           "zerolinecolor": "white",
           "automargin": true,
           "zerolinewidth": 2
          },
          "scene": {
           "xaxis": {
            "backgroundcolor": "#E5ECF6",
            "gridcolor": "white",
            "linecolor": "white",
            "showbackground": true,
            "ticks": "",
            "zerolinecolor": "white",
            "gridwidth": 2
           },
           "yaxis": {
            "backgroundcolor": "#E5ECF6",
            "gridcolor": "white",
            "linecolor": "white",
            "showbackground": true,
            "ticks": "",
            "zerolinecolor": "white",
            "gridwidth": 2
           },
           "zaxis": {
            "backgroundcolor": "#E5ECF6",
            "gridcolor": "white",
            "linecolor": "white",
            "showbackground": true,
            "ticks": "",
            "zerolinecolor": "white",
            "gridwidth": 2
           }
          },
          "shapedefaults": {
           "line": {
            "color": "#2a3f5f"
           }
          },
          "annotationdefaults": {
           "arrowcolor": "#2a3f5f",
           "arrowhead": 0,
           "arrowwidth": 1
          },
          "geo": {
           "bgcolor": "white",
           "landcolor": "#E5ECF6",
           "subunitcolor": "white",
           "showland": true,
           "showlakes": true,
           "lakecolor": "white"
          },
          "title": {
           "x": 0.05
          },
          "mapbox": {
           "style": "light"
          }
         }
        },
        "legend": {
         "tracegroupgap": 0,
         "title": {
          "text": "Entity Type"
         },
         "orientation": "v",
         "yanchor": "bottom",
         "y": 0.5,
         "xanchor": "right",
         "x": 0.25
        },
        "title": {
         "text": "Distribution of Entity Types",
         "y": 0.95,
         "x": 0.5,
         "xanchor": "center",
         "yanchor": "top"
        }
       },
       "config": {
        "plotlyServerURL": "https://plot.ly"
       }
      },
      "text/html": [
       "<div>                            <div id=\"9a43778c-6feb-49a5-9e59-94b07b6ced31\" class=\"plotly-graph-div\" style=\"height:525px; width:100%;\"></div>            <script type=\"text/javascript\">                require([\"plotly\"], function(Plotly) {                    window.PLOTLYENV=window.PLOTLYENV || {};                                    if (document.getElementById(\"9a43778c-6feb-49a5-9e59-94b07b6ced31\")) {                    Plotly.newPlot(                        \"9a43778c-6feb-49a5-9e59-94b07b6ced31\",                        [{\"domain\":{\"x\":[0.0,1.0],\"y\":[0.0,1.0]},\"hole\":0.4,\"hovertemplate\":\"Entity Type=%{label}\\u003cbr\\u003eCount=%{value}\\u003cextra\\u003e\\u003c\\u002fextra\\u003e\",\"labels\":[\"Hospital or Med Center\",\"Compounding Pharmacy\",\"Infusion Services\",\"Veterinary Compounding Only\",\"Government Facility\"],\"legendgroup\":\"\",\"name\":\"\",\"showlegend\":true,\"values\":[658,105,72,10,1],\"type\":\"pie\"}],                        {\"template\":{\"data\":{\"histogram2dcontour\":[{\"type\":\"histogram2dcontour\",\"colorbar\":{\"outlinewidth\":0,\"ticks\":\"\"},\"colorscale\":[[0.0,\"#0d0887\"],[0.1111111111111111,\"#46039f\"],[0.2222222222222222,\"#7201a8\"],[0.3333333333333333,\"#9c179e\"],[0.4444444444444444,\"#bd3786\"],[0.5555555555555556,\"#d8576b\"],[0.6666666666666666,\"#ed7953\"],[0.7777777777777778,\"#fb9f3a\"],[0.8888888888888888,\"#fdca26\"],[1.0,\"#f0f921\"]]}],\"choropleth\":[{\"type\":\"choropleth\",\"colorbar\":{\"outlinewidth\":0,\"ticks\":\"\"}}],\"histogram2d\":[{\"type\":\"histogram2d\",\"colorbar\":{\"outlinewidth\":0,\"ticks\":\"\"},\"colorscale\":[[0.0,\"#0d0887\"],[0.1111111111111111,\"#46039f\"],[0.2222222222222222,\"#7201a8\"],[0.3333333333333333,\"#9c179e\"],[0.4444444444444444,\"#bd3786\"],[0.5555555555555556,\"#d8576b\"],[0.6666666666666666,\"#ed7953\"],[0.7777777777777778,\"#fb9f3a\"],[0.8888888888888888,\"#fdca26\"],[1.0,\"#f0f921\"]]}],\"heatmap\":[{\"type\":\"heatmap\",\"colorbar\":{\"outlinewidth\":0,\"ticks\":\"\"},\"colorscale\":[[0.0,\"#0d0887\"],[0.1111111111111111,\"#46039f\"],[0.2222222222222222,\"#7201a8\"],[0.3333333333333333,\"#9c179e\"],[0.4444444444444444,\"#bd3786\"],[0.5555555555555556,\"#d8576b\"],[0.6666666666666666,\"#ed7953\"],[0.7777777777777778,\"#fb9f3a\"],[0.8888888888888888,\"#fdca26\"],[1.0,\"#f0f921\"]]}],\"heatmapgl\":[{\"type\":\"heatmapgl\",\"colorbar\":{\"outlinewidth\":0,\"ticks\":\"\"},\"colorscale\":[[0.0,\"#0d0887\"],[0.1111111111111111,\"#46039f\"],[0.2222222222222222,\"#7201a8\"],[0.3333333333333333,\"#9c179e\"],[0.4444444444444444,\"#bd3786\"],[0.5555555555555556,\"#d8576b\"],[0.6666666666666666,\"#ed7953\"],[0.7777777777777778,\"#fb9f3a\"],[0.8888888888888888,\"#fdca26\"],[1.0,\"#f0f921\"]]}],\"contourcarpet\":[{\"type\":\"contourcarpet\",\"colorbar\":{\"outlinewidth\":0,\"ticks\":\"\"}}],\"contour\":[{\"type\":\"contour\",\"colorbar\":{\"outlinewidth\":0,\"ticks\":\"\"},\"colorscale\":[[0.0,\"#0d0887\"],[0.1111111111111111,\"#46039f\"],[0.2222222222222222,\"#7201a8\"],[0.3333333333333333,\"#9c179e\"],[0.4444444444444444,\"#bd3786\"],[0.5555555555555556,\"#d8576b\"],[0.6666666666666666,\"#ed7953\"],[0.7777777777777778,\"#fb9f3a\"],[0.8888888888888888,\"#fdca26\"],[1.0,\"#f0f921\"]]}],\"surface\":[{\"type\":\"surface\",\"colorbar\":{\"outlinewidth\":0,\"ticks\":\"\"},\"colorscale\":[[0.0,\"#0d0887\"],[0.1111111111111111,\"#46039f\"],[0.2222222222222222,\"#7201a8\"],[0.3333333333333333,\"#9c179e\"],[0.4444444444444444,\"#bd3786\"],[0.5555555555555556,\"#d8576b\"],[0.6666666666666666,\"#ed7953\"],[0.7777777777777778,\"#fb9f3a\"],[0.8888888888888888,\"#fdca26\"],[1.0,\"#f0f921\"]]}],\"mesh3d\":[{\"type\":\"mesh3d\",\"colorbar\":{\"outlinewidth\":0,\"ticks\":\"\"}}],\"scatter\":[{\"fillpattern\":{\"fillmode\":\"overlay\",\"size\":10,\"solidity\":0.2},\"type\":\"scatter\"}],\"parcoords\":[{\"type\":\"parcoords\",\"line\":{\"colorbar\":{\"outlinewidth\":0,\"ticks\":\"\"}}}],\"scatterpolargl\":[{\"type\":\"scatterpolargl\",\"marker\":{\"colorbar\":{\"outlinewidth\":0,\"ticks\":\"\"}}}],\"bar\":[{\"error_x\":{\"color\":\"#2a3f5f\"},\"error_y\":{\"color\":\"#2a3f5f\"},\"marker\":{\"line\":{\"color\":\"#E5ECF6\",\"width\":0.5},\"pattern\":{\"fillmode\":\"overlay\",\"size\":10,\"solidity\":0.2}},\"type\":\"bar\"}],\"scattergeo\":[{\"type\":\"scattergeo\",\"marker\":{\"colorbar\":{\"outlinewidth\":0,\"ticks\":\"\"}}}],\"scatterpolar\":[{\"type\":\"scatterpolar\",\"marker\":{\"colorbar\":{\"outlinewidth\":0,\"ticks\":\"\"}}}],\"histogram\":[{\"marker\":{\"pattern\":{\"fillmode\":\"overlay\",\"size\":10,\"solidity\":0.2}},\"type\":\"histogram\"}],\"scattergl\":[{\"type\":\"scattergl\",\"marker\":{\"colorbar\":{\"outlinewidth\":0,\"ticks\":\"\"}}}],\"scatter3d\":[{\"type\":\"scatter3d\",\"line\":{\"colorbar\":{\"outlinewidth\":0,\"ticks\":\"\"}},\"marker\":{\"colorbar\":{\"outlinewidth\":0,\"ticks\":\"\"}}}],\"scattermapbox\":[{\"type\":\"scattermapbox\",\"marker\":{\"colorbar\":{\"outlinewidth\":0,\"ticks\":\"\"}}}],\"scatterternary\":[{\"type\":\"scatterternary\",\"marker\":{\"colorbar\":{\"outlinewidth\":0,\"ticks\":\"\"}}}],\"scattercarpet\":[{\"type\":\"scattercarpet\",\"marker\":{\"colorbar\":{\"outlinewidth\":0,\"ticks\":\"\"}}}],\"carpet\":[{\"aaxis\":{\"endlinecolor\":\"#2a3f5f\",\"gridcolor\":\"white\",\"linecolor\":\"white\",\"minorgridcolor\":\"white\",\"startlinecolor\":\"#2a3f5f\"},\"baxis\":{\"endlinecolor\":\"#2a3f5f\",\"gridcolor\":\"white\",\"linecolor\":\"white\",\"minorgridcolor\":\"white\",\"startlinecolor\":\"#2a3f5f\"},\"type\":\"carpet\"}],\"table\":[{\"cells\":{\"fill\":{\"color\":\"#EBF0F8\"},\"line\":{\"color\":\"white\"}},\"header\":{\"fill\":{\"color\":\"#C8D4E3\"},\"line\":{\"color\":\"white\"}},\"type\":\"table\"}],\"barpolar\":[{\"marker\":{\"line\":{\"color\":\"#E5ECF6\",\"width\":0.5},\"pattern\":{\"fillmode\":\"overlay\",\"size\":10,\"solidity\":0.2}},\"type\":\"barpolar\"}],\"pie\":[{\"automargin\":true,\"type\":\"pie\"}]},\"layout\":{\"autotypenumbers\":\"strict\",\"colorway\":[\"#636efa\",\"#EF553B\",\"#00cc96\",\"#ab63fa\",\"#FFA15A\",\"#19d3f3\",\"#FF6692\",\"#B6E880\",\"#FF97FF\",\"#FECB52\"],\"font\":{\"color\":\"#2a3f5f\"},\"hovermode\":\"closest\",\"hoverlabel\":{\"align\":\"left\"},\"paper_bgcolor\":\"white\",\"plot_bgcolor\":\"#E5ECF6\",\"polar\":{\"bgcolor\":\"#E5ECF6\",\"angularaxis\":{\"gridcolor\":\"white\",\"linecolor\":\"white\",\"ticks\":\"\"},\"radialaxis\":{\"gridcolor\":\"white\",\"linecolor\":\"white\",\"ticks\":\"\"}},\"ternary\":{\"bgcolor\":\"#E5ECF6\",\"aaxis\":{\"gridcolor\":\"white\",\"linecolor\":\"white\",\"ticks\":\"\"},\"baxis\":{\"gridcolor\":\"white\",\"linecolor\":\"white\",\"ticks\":\"\"},\"caxis\":{\"gridcolor\":\"white\",\"linecolor\":\"white\",\"ticks\":\"\"}},\"coloraxis\":{\"colorbar\":{\"outlinewidth\":0,\"ticks\":\"\"}},\"colorscale\":{\"sequential\":[[0.0,\"#0d0887\"],[0.1111111111111111,\"#46039f\"],[0.2222222222222222,\"#7201a8\"],[0.3333333333333333,\"#9c179e\"],[0.4444444444444444,\"#bd3786\"],[0.5555555555555556,\"#d8576b\"],[0.6666666666666666,\"#ed7953\"],[0.7777777777777778,\"#fb9f3a\"],[0.8888888888888888,\"#fdca26\"],[1.0,\"#f0f921\"]],\"sequentialminus\":[[0.0,\"#0d0887\"],[0.1111111111111111,\"#46039f\"],[0.2222222222222222,\"#7201a8\"],[0.3333333333333333,\"#9c179e\"],[0.4444444444444444,\"#bd3786\"],[0.5555555555555556,\"#d8576b\"],[0.6666666666666666,\"#ed7953\"],[0.7777777777777778,\"#fb9f3a\"],[0.8888888888888888,\"#fdca26\"],[1.0,\"#f0f921\"]],\"diverging\":[[0,\"#8e0152\"],[0.1,\"#c51b7d\"],[0.2,\"#de77ae\"],[0.3,\"#f1b6da\"],[0.4,\"#fde0ef\"],[0.5,\"#f7f7f7\"],[0.6,\"#e6f5d0\"],[0.7,\"#b8e186\"],[0.8,\"#7fbc41\"],[0.9,\"#4d9221\"],[1,\"#276419\"]]},\"xaxis\":{\"gridcolor\":\"white\",\"linecolor\":\"white\",\"ticks\":\"\",\"title\":{\"standoff\":15},\"zerolinecolor\":\"white\",\"automargin\":true,\"zerolinewidth\":2},\"yaxis\":{\"gridcolor\":\"white\",\"linecolor\":\"white\",\"ticks\":\"\",\"title\":{\"standoff\":15},\"zerolinecolor\":\"white\",\"automargin\":true,\"zerolinewidth\":2},\"scene\":{\"xaxis\":{\"backgroundcolor\":\"#E5ECF6\",\"gridcolor\":\"white\",\"linecolor\":\"white\",\"showbackground\":true,\"ticks\":\"\",\"zerolinecolor\":\"white\",\"gridwidth\":2},\"yaxis\":{\"backgroundcolor\":\"#E5ECF6\",\"gridcolor\":\"white\",\"linecolor\":\"white\",\"showbackground\":true,\"ticks\":\"\",\"zerolinecolor\":\"white\",\"gridwidth\":2},\"zaxis\":{\"backgroundcolor\":\"#E5ECF6\",\"gridcolor\":\"white\",\"linecolor\":\"white\",\"showbackground\":true,\"ticks\":\"\",\"zerolinecolor\":\"white\",\"gridwidth\":2}},\"shapedefaults\":{\"line\":{\"color\":\"#2a3f5f\"}},\"annotationdefaults\":{\"arrowcolor\":\"#2a3f5f\",\"arrowhead\":0,\"arrowwidth\":1},\"geo\":{\"bgcolor\":\"white\",\"landcolor\":\"#E5ECF6\",\"subunitcolor\":\"white\",\"showland\":true,\"showlakes\":true,\"lakecolor\":\"white\"},\"title\":{\"x\":0.05},\"mapbox\":{\"style\":\"light\"}}},\"legend\":{\"tracegroupgap\":0,\"title\":{\"text\":\"Entity Type\"},\"orientation\":\"v\",\"yanchor\":\"bottom\",\"y\":0.5,\"xanchor\":\"right\",\"x\":0.25},\"title\":{\"text\":\"Distribution of Entity Types\",\"y\":0.95,\"x\":0.5,\"xanchor\":\"center\",\"yanchor\":\"top\"}},                        {\"responsive\": true}                    ).then(function(){\n",
       "                            \n",
       "var gd = document.getElementById('9a43778c-6feb-49a5-9e59-94b07b6ced31');\n",
       "var x = new MutationObserver(function (mutations, observer) {{\n",
       "        var display = window.getComputedStyle(gd).display;\n",
       "        if (!display || display === 'none') {{\n",
       "            console.log([gd, 'removed!']);\n",
       "            Plotly.purge(gd);\n",
       "            observer.disconnect();\n",
       "        }}\n",
       "}});\n",
       "\n",
       "// Listen for the removal of the full notebook cells\n",
       "var notebookContainer = gd.closest('#notebook-container');\n",
       "if (notebookContainer) {{\n",
       "    x.observe(notebookContainer, {childList: true});\n",
       "}}\n",
       "\n",
       "// Listen for the clearing of the current output cell\n",
       "var outputEl = gd.closest('.output');\n",
       "if (outputEl) {{\n",
       "    x.observe(outputEl, {childList: true});\n",
       "}}\n",
       "\n",
       "                        })                };                });            </script>        </div>"
      ]
     },
     "metadata": {},
     "output_type": "display_data"
    }
   ],
   "execution_count": 126
  },
  {
   "metadata": {
    "ExecuteTime": {
     "end_time": "2024-12-15T19:54:23.656774Z",
     "start_time": "2024-12-15T19:54:23.417221Z"
    }
   },
   "cell_type": "code",
   "source": [
    "import plotly.express as px\n",
    "\n",
    "# Step 1: Aggregate the counts of each 'Entity Type'\n",
    "entity_type_counts = all_pharmacies['Entity Type'].value_counts().reset_index()\n",
    "entity_type_counts.columns = ['Entity Type', 'Count']\n",
    "\n",
    "# Step 2: Create the horizontal bar chart\n",
    "fig = px.bar(\n",
    "    entity_type_counts,\n",
    "    x='Count',  # Use 'Count' for the x-axis (bar length)\n",
    "    y='Entity Type',  # Use 'Entity Type' for the y-axis\n",
    "    orientation='h',  # Make bars horizontal\n",
    "    title=\"What type of facilities hold sterile compounding licenses?\",\n",
    ")\n",
    "\n",
    "# Step 3: Customize the layout for title and axes\n",
    "fig.update_layout(\n",
    "    title={  # Title customization\n",
    "        'text': \"What type of facilities hold sterile compounding licenses?\",\n",
    "        'y': 0.95,  # Position the title just below the top of the chart\n",
    "        'x': 0.5,  # Horizontally center the title\n",
    "        'xanchor': 'center',\n",
    "        'yanchor': 'top'  # Align title's top edge with y position\n",
    "    },\n",
    "    xaxis_title=\"Count\",  # Label for the x-axis (Count of entities)\n",
    "    yaxis_title=\"Entity Type\",  # Label for the y-axis (Type of entity)\n",
    ")\n",
    "\n",
    "# Step 4: Show the plot\n",
    "fig.show()\n"
   ],
   "id": "1d71442a7e094fa3",
   "outputs": [
    {
     "data": {
      "application/vnd.plotly.v1+json": {
       "data": [
        {
         "alignmentgroup": "True",
         "hovertemplate": "Count=%{x}<br>Entity Type=%{y}<extra></extra>",
         "legendgroup": "",
         "marker": {
          "color": "#636efa",
          "pattern": {
           "shape": ""
          }
         },
         "name": "",
         "offsetgroup": "",
         "orientation": "h",
         "showlegend": false,
         "textposition": "auto",
         "x": [
          658,
          105,
          72,
          10,
          1
         ],
         "xaxis": "x",
         "y": [
          "Hospital or Med Center",
          "Compounding Pharmacy",
          "Infusion Services",
          "Veterinary Compounding Only",
          "Government Facility"
         ],
         "yaxis": "y",
         "type": "bar"
        }
       ],
       "layout": {
        "template": {
         "data": {
          "histogram2dcontour": [
           {
            "type": "histogram2dcontour",
            "colorbar": {
             "outlinewidth": 0,
             "ticks": ""
            },
            "colorscale": [
             [
              0.0,
              "#0d0887"
             ],
             [
              0.1111111111111111,
              "#46039f"
             ],
             [
              0.2222222222222222,
              "#7201a8"
             ],
             [
              0.3333333333333333,
              "#9c179e"
             ],
             [
              0.4444444444444444,
              "#bd3786"
             ],
             [
              0.5555555555555556,
              "#d8576b"
             ],
             [
              0.6666666666666666,
              "#ed7953"
             ],
             [
              0.7777777777777778,
              "#fb9f3a"
             ],
             [
              0.8888888888888888,
              "#fdca26"
             ],
             [
              1.0,
              "#f0f921"
             ]
            ]
           }
          ],
          "choropleth": [
           {
            "type": "choropleth",
            "colorbar": {
             "outlinewidth": 0,
             "ticks": ""
            }
           }
          ],
          "histogram2d": [
           {
            "type": "histogram2d",
            "colorbar": {
             "outlinewidth": 0,
             "ticks": ""
            },
            "colorscale": [
             [
              0.0,
              "#0d0887"
             ],
             [
              0.1111111111111111,
              "#46039f"
             ],
             [
              0.2222222222222222,
              "#7201a8"
             ],
             [
              0.3333333333333333,
              "#9c179e"
             ],
             [
              0.4444444444444444,
              "#bd3786"
             ],
             [
              0.5555555555555556,
              "#d8576b"
             ],
             [
              0.6666666666666666,
              "#ed7953"
             ],
             [
              0.7777777777777778,
              "#fb9f3a"
             ],
             [
              0.8888888888888888,
              "#fdca26"
             ],
             [
              1.0,
              "#f0f921"
             ]
            ]
           }
          ],
          "heatmap": [
           {
            "type": "heatmap",
            "colorbar": {
             "outlinewidth": 0,
             "ticks": ""
            },
            "colorscale": [
             [
              0.0,
              "#0d0887"
             ],
             [
              0.1111111111111111,
              "#46039f"
             ],
             [
              0.2222222222222222,
              "#7201a8"
             ],
             [
              0.3333333333333333,
              "#9c179e"
             ],
             [
              0.4444444444444444,
              "#bd3786"
             ],
             [
              0.5555555555555556,
              "#d8576b"
             ],
             [
              0.6666666666666666,
              "#ed7953"
             ],
             [
              0.7777777777777778,
              "#fb9f3a"
             ],
             [
              0.8888888888888888,
              "#fdca26"
             ],
             [
              1.0,
              "#f0f921"
             ]
            ]
           }
          ],
          "heatmapgl": [
           {
            "type": "heatmapgl",
            "colorbar": {
             "outlinewidth": 0,
             "ticks": ""
            },
            "colorscale": [
             [
              0.0,
              "#0d0887"
             ],
             [
              0.1111111111111111,
              "#46039f"
             ],
             [
              0.2222222222222222,
              "#7201a8"
             ],
             [
              0.3333333333333333,
              "#9c179e"
             ],
             [
              0.4444444444444444,
              "#bd3786"
             ],
             [
              0.5555555555555556,
              "#d8576b"
             ],
             [
              0.6666666666666666,
              "#ed7953"
             ],
             [
              0.7777777777777778,
              "#fb9f3a"
             ],
             [
              0.8888888888888888,
              "#fdca26"
             ],
             [
              1.0,
              "#f0f921"
             ]
            ]
           }
          ],
          "contourcarpet": [
           {
            "type": "contourcarpet",
            "colorbar": {
             "outlinewidth": 0,
             "ticks": ""
            }
           }
          ],
          "contour": [
           {
            "type": "contour",
            "colorbar": {
             "outlinewidth": 0,
             "ticks": ""
            },
            "colorscale": [
             [
              0.0,
              "#0d0887"
             ],
             [
              0.1111111111111111,
              "#46039f"
             ],
             [
              0.2222222222222222,
              "#7201a8"
             ],
             [
              0.3333333333333333,
              "#9c179e"
             ],
             [
              0.4444444444444444,
              "#bd3786"
             ],
             [
              0.5555555555555556,
              "#d8576b"
             ],
             [
              0.6666666666666666,
              "#ed7953"
             ],
             [
              0.7777777777777778,
              "#fb9f3a"
             ],
             [
              0.8888888888888888,
              "#fdca26"
             ],
             [
              1.0,
              "#f0f921"
             ]
            ]
           }
          ],
          "surface": [
           {
            "type": "surface",
            "colorbar": {
             "outlinewidth": 0,
             "ticks": ""
            },
            "colorscale": [
             [
              0.0,
              "#0d0887"
             ],
             [
              0.1111111111111111,
              "#46039f"
             ],
             [
              0.2222222222222222,
              "#7201a8"
             ],
             [
              0.3333333333333333,
              "#9c179e"
             ],
             [
              0.4444444444444444,
              "#bd3786"
             ],
             [
              0.5555555555555556,
              "#d8576b"
             ],
             [
              0.6666666666666666,
              "#ed7953"
             ],
             [
              0.7777777777777778,
              "#fb9f3a"
             ],
             [
              0.8888888888888888,
              "#fdca26"
             ],
             [
              1.0,
              "#f0f921"
             ]
            ]
           }
          ],
          "mesh3d": [
           {
            "type": "mesh3d",
            "colorbar": {
             "outlinewidth": 0,
             "ticks": ""
            }
           }
          ],
          "scatter": [
           {
            "fillpattern": {
             "fillmode": "overlay",
             "size": 10,
             "solidity": 0.2
            },
            "type": "scatter"
           }
          ],
          "parcoords": [
           {
            "type": "parcoords",
            "line": {
             "colorbar": {
              "outlinewidth": 0,
              "ticks": ""
             }
            }
           }
          ],
          "scatterpolargl": [
           {
            "type": "scatterpolargl",
            "marker": {
             "colorbar": {
              "outlinewidth": 0,
              "ticks": ""
             }
            }
           }
          ],
          "bar": [
           {
            "error_x": {
             "color": "#2a3f5f"
            },
            "error_y": {
             "color": "#2a3f5f"
            },
            "marker": {
             "line": {
              "color": "#E5ECF6",
              "width": 0.5
             },
             "pattern": {
              "fillmode": "overlay",
              "size": 10,
              "solidity": 0.2
             }
            },
            "type": "bar"
           }
          ],
          "scattergeo": [
           {
            "type": "scattergeo",
            "marker": {
             "colorbar": {
              "outlinewidth": 0,
              "ticks": ""
             }
            }
           }
          ],
          "scatterpolar": [
           {
            "type": "scatterpolar",
            "marker": {
             "colorbar": {
              "outlinewidth": 0,
              "ticks": ""
             }
            }
           }
          ],
          "histogram": [
           {
            "marker": {
             "pattern": {
              "fillmode": "overlay",
              "size": 10,
              "solidity": 0.2
             }
            },
            "type": "histogram"
           }
          ],
          "scattergl": [
           {
            "type": "scattergl",
            "marker": {
             "colorbar": {
              "outlinewidth": 0,
              "ticks": ""
             }
            }
           }
          ],
          "scatter3d": [
           {
            "type": "scatter3d",
            "line": {
             "colorbar": {
              "outlinewidth": 0,
              "ticks": ""
             }
            },
            "marker": {
             "colorbar": {
              "outlinewidth": 0,
              "ticks": ""
             }
            }
           }
          ],
          "scattermapbox": [
           {
            "type": "scattermapbox",
            "marker": {
             "colorbar": {
              "outlinewidth": 0,
              "ticks": ""
             }
            }
           }
          ],
          "scatterternary": [
           {
            "type": "scatterternary",
            "marker": {
             "colorbar": {
              "outlinewidth": 0,
              "ticks": ""
             }
            }
           }
          ],
          "scattercarpet": [
           {
            "type": "scattercarpet",
            "marker": {
             "colorbar": {
              "outlinewidth": 0,
              "ticks": ""
             }
            }
           }
          ],
          "carpet": [
           {
            "aaxis": {
             "endlinecolor": "#2a3f5f",
             "gridcolor": "white",
             "linecolor": "white",
             "minorgridcolor": "white",
             "startlinecolor": "#2a3f5f"
            },
            "baxis": {
             "endlinecolor": "#2a3f5f",
             "gridcolor": "white",
             "linecolor": "white",
             "minorgridcolor": "white",
             "startlinecolor": "#2a3f5f"
            },
            "type": "carpet"
           }
          ],
          "table": [
           {
            "cells": {
             "fill": {
              "color": "#EBF0F8"
             },
             "line": {
              "color": "white"
             }
            },
            "header": {
             "fill": {
              "color": "#C8D4E3"
             },
             "line": {
              "color": "white"
             }
            },
            "type": "table"
           }
          ],
          "barpolar": [
           {
            "marker": {
             "line": {
              "color": "#E5ECF6",
              "width": 0.5
             },
             "pattern": {
              "fillmode": "overlay",
              "size": 10,
              "solidity": 0.2
             }
            },
            "type": "barpolar"
           }
          ],
          "pie": [
           {
            "automargin": true,
            "type": "pie"
           }
          ]
         },
         "layout": {
          "autotypenumbers": "strict",
          "colorway": [
           "#636efa",
           "#EF553B",
           "#00cc96",
           "#ab63fa",
           "#FFA15A",
           "#19d3f3",
           "#FF6692",
           "#B6E880",
           "#FF97FF",
           "#FECB52"
          ],
          "font": {
           "color": "#2a3f5f"
          },
          "hovermode": "closest",
          "hoverlabel": {
           "align": "left"
          },
          "paper_bgcolor": "white",
          "plot_bgcolor": "#E5ECF6",
          "polar": {
           "bgcolor": "#E5ECF6",
           "angularaxis": {
            "gridcolor": "white",
            "linecolor": "white",
            "ticks": ""
           },
           "radialaxis": {
            "gridcolor": "white",
            "linecolor": "white",
            "ticks": ""
           }
          },
          "ternary": {
           "bgcolor": "#E5ECF6",
           "aaxis": {
            "gridcolor": "white",
            "linecolor": "white",
            "ticks": ""
           },
           "baxis": {
            "gridcolor": "white",
            "linecolor": "white",
            "ticks": ""
           },
           "caxis": {
            "gridcolor": "white",
            "linecolor": "white",
            "ticks": ""
           }
          },
          "coloraxis": {
           "colorbar": {
            "outlinewidth": 0,
            "ticks": ""
           }
          },
          "colorscale": {
           "sequential": [
            [
             0.0,
             "#0d0887"
            ],
            [
             0.1111111111111111,
             "#46039f"
            ],
            [
             0.2222222222222222,
             "#7201a8"
            ],
            [
             0.3333333333333333,
             "#9c179e"
            ],
            [
             0.4444444444444444,
             "#bd3786"
            ],
            [
             0.5555555555555556,
             "#d8576b"
            ],
            [
             0.6666666666666666,
             "#ed7953"
            ],
            [
             0.7777777777777778,
             "#fb9f3a"
            ],
            [
             0.8888888888888888,
             "#fdca26"
            ],
            [
             1.0,
             "#f0f921"
            ]
           ],
           "sequentialminus": [
            [
             0.0,
             "#0d0887"
            ],
            [
             0.1111111111111111,
             "#46039f"
            ],
            [
             0.2222222222222222,
             "#7201a8"
            ],
            [
             0.3333333333333333,
             "#9c179e"
            ],
            [
             0.4444444444444444,
             "#bd3786"
            ],
            [
             0.5555555555555556,
             "#d8576b"
            ],
            [
             0.6666666666666666,
             "#ed7953"
            ],
            [
             0.7777777777777778,
             "#fb9f3a"
            ],
            [
             0.8888888888888888,
             "#fdca26"
            ],
            [
             1.0,
             "#f0f921"
            ]
           ],
           "diverging": [
            [
             0,
             "#8e0152"
            ],
            [
             0.1,
             "#c51b7d"
            ],
            [
             0.2,
             "#de77ae"
            ],
            [
             0.3,
             "#f1b6da"
            ],
            [
             0.4,
             "#fde0ef"
            ],
            [
             0.5,
             "#f7f7f7"
            ],
            [
             0.6,
             "#e6f5d0"
            ],
            [
             0.7,
             "#b8e186"
            ],
            [
             0.8,
             "#7fbc41"
            ],
            [
             0.9,
             "#4d9221"
            ],
            [
             1,
             "#276419"
            ]
           ]
          },
          "xaxis": {
           "gridcolor": "white",
           "linecolor": "white",
           "ticks": "",
           "title": {
            "standoff": 15
           },
           "zerolinecolor": "white",
           "automargin": true,
           "zerolinewidth": 2
          },
          "yaxis": {
           "gridcolor": "white",
           "linecolor": "white",
           "ticks": "",
           "title": {
            "standoff": 15
           },
           "zerolinecolor": "white",
           "automargin": true,
           "zerolinewidth": 2
          },
          "scene": {
           "xaxis": {
            "backgroundcolor": "#E5ECF6",
            "gridcolor": "white",
            "linecolor": "white",
            "showbackground": true,
            "ticks": "",
            "zerolinecolor": "white",
            "gridwidth": 2
           },
           "yaxis": {
            "backgroundcolor": "#E5ECF6",
            "gridcolor": "white",
            "linecolor": "white",
            "showbackground": true,
            "ticks": "",
            "zerolinecolor": "white",
            "gridwidth": 2
           },
           "zaxis": {
            "backgroundcolor": "#E5ECF6",
            "gridcolor": "white",
            "linecolor": "white",
            "showbackground": true,
            "ticks": "",
            "zerolinecolor": "white",
            "gridwidth": 2
           }
          },
          "shapedefaults": {
           "line": {
            "color": "#2a3f5f"
           }
          },
          "annotationdefaults": {
           "arrowcolor": "#2a3f5f",
           "arrowhead": 0,
           "arrowwidth": 1
          },
          "geo": {
           "bgcolor": "white",
           "landcolor": "#E5ECF6",
           "subunitcolor": "white",
           "showland": true,
           "showlakes": true,
           "lakecolor": "white"
          },
          "title": {
           "x": 0.05
          },
          "mapbox": {
           "style": "light"
          }
         }
        },
        "xaxis": {
         "anchor": "y",
         "domain": [
          0.0,
          1.0
         ],
         "title": {
          "text": "Count"
         }
        },
        "yaxis": {
         "anchor": "x",
         "domain": [
          0.0,
          1.0
         ],
         "title": {
          "text": "Entity Type"
         }
        },
        "legend": {
         "tracegroupgap": 0
        },
        "title": {
         "text": "What type of facilities hold sterile compounding licenses?",
         "y": 0.95,
         "x": 0.5,
         "xanchor": "center",
         "yanchor": "top"
        },
        "barmode": "relative"
       },
       "config": {
        "plotlyServerURL": "https://plot.ly"
       }
      },
      "text/html": [
       "<div>                            <div id=\"c772195b-ffed-4b23-9ad6-4a68b3e838aa\" class=\"plotly-graph-div\" style=\"height:525px; width:100%;\"></div>            <script type=\"text/javascript\">                require([\"plotly\"], function(Plotly) {                    window.PLOTLYENV=window.PLOTLYENV || {};                                    if (document.getElementById(\"c772195b-ffed-4b23-9ad6-4a68b3e838aa\")) {                    Plotly.newPlot(                        \"c772195b-ffed-4b23-9ad6-4a68b3e838aa\",                        [{\"alignmentgroup\":\"True\",\"hovertemplate\":\"Count=%{x}\\u003cbr\\u003eEntity Type=%{y}\\u003cextra\\u003e\\u003c\\u002fextra\\u003e\",\"legendgroup\":\"\",\"marker\":{\"color\":\"#636efa\",\"pattern\":{\"shape\":\"\"}},\"name\":\"\",\"offsetgroup\":\"\",\"orientation\":\"h\",\"showlegend\":false,\"textposition\":\"auto\",\"x\":[658,105,72,10,1],\"xaxis\":\"x\",\"y\":[\"Hospital or Med Center\",\"Compounding Pharmacy\",\"Infusion Services\",\"Veterinary Compounding Only\",\"Government Facility\"],\"yaxis\":\"y\",\"type\":\"bar\"}],                        {\"template\":{\"data\":{\"histogram2dcontour\":[{\"type\":\"histogram2dcontour\",\"colorbar\":{\"outlinewidth\":0,\"ticks\":\"\"},\"colorscale\":[[0.0,\"#0d0887\"],[0.1111111111111111,\"#46039f\"],[0.2222222222222222,\"#7201a8\"],[0.3333333333333333,\"#9c179e\"],[0.4444444444444444,\"#bd3786\"],[0.5555555555555556,\"#d8576b\"],[0.6666666666666666,\"#ed7953\"],[0.7777777777777778,\"#fb9f3a\"],[0.8888888888888888,\"#fdca26\"],[1.0,\"#f0f921\"]]}],\"choropleth\":[{\"type\":\"choropleth\",\"colorbar\":{\"outlinewidth\":0,\"ticks\":\"\"}}],\"histogram2d\":[{\"type\":\"histogram2d\",\"colorbar\":{\"outlinewidth\":0,\"ticks\":\"\"},\"colorscale\":[[0.0,\"#0d0887\"],[0.1111111111111111,\"#46039f\"],[0.2222222222222222,\"#7201a8\"],[0.3333333333333333,\"#9c179e\"],[0.4444444444444444,\"#bd3786\"],[0.5555555555555556,\"#d8576b\"],[0.6666666666666666,\"#ed7953\"],[0.7777777777777778,\"#fb9f3a\"],[0.8888888888888888,\"#fdca26\"],[1.0,\"#f0f921\"]]}],\"heatmap\":[{\"type\":\"heatmap\",\"colorbar\":{\"outlinewidth\":0,\"ticks\":\"\"},\"colorscale\":[[0.0,\"#0d0887\"],[0.1111111111111111,\"#46039f\"],[0.2222222222222222,\"#7201a8\"],[0.3333333333333333,\"#9c179e\"],[0.4444444444444444,\"#bd3786\"],[0.5555555555555556,\"#d8576b\"],[0.6666666666666666,\"#ed7953\"],[0.7777777777777778,\"#fb9f3a\"],[0.8888888888888888,\"#fdca26\"],[1.0,\"#f0f921\"]]}],\"heatmapgl\":[{\"type\":\"heatmapgl\",\"colorbar\":{\"outlinewidth\":0,\"ticks\":\"\"},\"colorscale\":[[0.0,\"#0d0887\"],[0.1111111111111111,\"#46039f\"],[0.2222222222222222,\"#7201a8\"],[0.3333333333333333,\"#9c179e\"],[0.4444444444444444,\"#bd3786\"],[0.5555555555555556,\"#d8576b\"],[0.6666666666666666,\"#ed7953\"],[0.7777777777777778,\"#fb9f3a\"],[0.8888888888888888,\"#fdca26\"],[1.0,\"#f0f921\"]]}],\"contourcarpet\":[{\"type\":\"contourcarpet\",\"colorbar\":{\"outlinewidth\":0,\"ticks\":\"\"}}],\"contour\":[{\"type\":\"contour\",\"colorbar\":{\"outlinewidth\":0,\"ticks\":\"\"},\"colorscale\":[[0.0,\"#0d0887\"],[0.1111111111111111,\"#46039f\"],[0.2222222222222222,\"#7201a8\"],[0.3333333333333333,\"#9c179e\"],[0.4444444444444444,\"#bd3786\"],[0.5555555555555556,\"#d8576b\"],[0.6666666666666666,\"#ed7953\"],[0.7777777777777778,\"#fb9f3a\"],[0.8888888888888888,\"#fdca26\"],[1.0,\"#f0f921\"]]}],\"surface\":[{\"type\":\"surface\",\"colorbar\":{\"outlinewidth\":0,\"ticks\":\"\"},\"colorscale\":[[0.0,\"#0d0887\"],[0.1111111111111111,\"#46039f\"],[0.2222222222222222,\"#7201a8\"],[0.3333333333333333,\"#9c179e\"],[0.4444444444444444,\"#bd3786\"],[0.5555555555555556,\"#d8576b\"],[0.6666666666666666,\"#ed7953\"],[0.7777777777777778,\"#fb9f3a\"],[0.8888888888888888,\"#fdca26\"],[1.0,\"#f0f921\"]]}],\"mesh3d\":[{\"type\":\"mesh3d\",\"colorbar\":{\"outlinewidth\":0,\"ticks\":\"\"}}],\"scatter\":[{\"fillpattern\":{\"fillmode\":\"overlay\",\"size\":10,\"solidity\":0.2},\"type\":\"scatter\"}],\"parcoords\":[{\"type\":\"parcoords\",\"line\":{\"colorbar\":{\"outlinewidth\":0,\"ticks\":\"\"}}}],\"scatterpolargl\":[{\"type\":\"scatterpolargl\",\"marker\":{\"colorbar\":{\"outlinewidth\":0,\"ticks\":\"\"}}}],\"bar\":[{\"error_x\":{\"color\":\"#2a3f5f\"},\"error_y\":{\"color\":\"#2a3f5f\"},\"marker\":{\"line\":{\"color\":\"#E5ECF6\",\"width\":0.5},\"pattern\":{\"fillmode\":\"overlay\",\"size\":10,\"solidity\":0.2}},\"type\":\"bar\"}],\"scattergeo\":[{\"type\":\"scattergeo\",\"marker\":{\"colorbar\":{\"outlinewidth\":0,\"ticks\":\"\"}}}],\"scatterpolar\":[{\"type\":\"scatterpolar\",\"marker\":{\"colorbar\":{\"outlinewidth\":0,\"ticks\":\"\"}}}],\"histogram\":[{\"marker\":{\"pattern\":{\"fillmode\":\"overlay\",\"size\":10,\"solidity\":0.2}},\"type\":\"histogram\"}],\"scattergl\":[{\"type\":\"scattergl\",\"marker\":{\"colorbar\":{\"outlinewidth\":0,\"ticks\":\"\"}}}],\"scatter3d\":[{\"type\":\"scatter3d\",\"line\":{\"colorbar\":{\"outlinewidth\":0,\"ticks\":\"\"}},\"marker\":{\"colorbar\":{\"outlinewidth\":0,\"ticks\":\"\"}}}],\"scattermapbox\":[{\"type\":\"scattermapbox\",\"marker\":{\"colorbar\":{\"outlinewidth\":0,\"ticks\":\"\"}}}],\"scatterternary\":[{\"type\":\"scatterternary\",\"marker\":{\"colorbar\":{\"outlinewidth\":0,\"ticks\":\"\"}}}],\"scattercarpet\":[{\"type\":\"scattercarpet\",\"marker\":{\"colorbar\":{\"outlinewidth\":0,\"ticks\":\"\"}}}],\"carpet\":[{\"aaxis\":{\"endlinecolor\":\"#2a3f5f\",\"gridcolor\":\"white\",\"linecolor\":\"white\",\"minorgridcolor\":\"white\",\"startlinecolor\":\"#2a3f5f\"},\"baxis\":{\"endlinecolor\":\"#2a3f5f\",\"gridcolor\":\"white\",\"linecolor\":\"white\",\"minorgridcolor\":\"white\",\"startlinecolor\":\"#2a3f5f\"},\"type\":\"carpet\"}],\"table\":[{\"cells\":{\"fill\":{\"color\":\"#EBF0F8\"},\"line\":{\"color\":\"white\"}},\"header\":{\"fill\":{\"color\":\"#C8D4E3\"},\"line\":{\"color\":\"white\"}},\"type\":\"table\"}],\"barpolar\":[{\"marker\":{\"line\":{\"color\":\"#E5ECF6\",\"width\":0.5},\"pattern\":{\"fillmode\":\"overlay\",\"size\":10,\"solidity\":0.2}},\"type\":\"barpolar\"}],\"pie\":[{\"automargin\":true,\"type\":\"pie\"}]},\"layout\":{\"autotypenumbers\":\"strict\",\"colorway\":[\"#636efa\",\"#EF553B\",\"#00cc96\",\"#ab63fa\",\"#FFA15A\",\"#19d3f3\",\"#FF6692\",\"#B6E880\",\"#FF97FF\",\"#FECB52\"],\"font\":{\"color\":\"#2a3f5f\"},\"hovermode\":\"closest\",\"hoverlabel\":{\"align\":\"left\"},\"paper_bgcolor\":\"white\",\"plot_bgcolor\":\"#E5ECF6\",\"polar\":{\"bgcolor\":\"#E5ECF6\",\"angularaxis\":{\"gridcolor\":\"white\",\"linecolor\":\"white\",\"ticks\":\"\"},\"radialaxis\":{\"gridcolor\":\"white\",\"linecolor\":\"white\",\"ticks\":\"\"}},\"ternary\":{\"bgcolor\":\"#E5ECF6\",\"aaxis\":{\"gridcolor\":\"white\",\"linecolor\":\"white\",\"ticks\":\"\"},\"baxis\":{\"gridcolor\":\"white\",\"linecolor\":\"white\",\"ticks\":\"\"},\"caxis\":{\"gridcolor\":\"white\",\"linecolor\":\"white\",\"ticks\":\"\"}},\"coloraxis\":{\"colorbar\":{\"outlinewidth\":0,\"ticks\":\"\"}},\"colorscale\":{\"sequential\":[[0.0,\"#0d0887\"],[0.1111111111111111,\"#46039f\"],[0.2222222222222222,\"#7201a8\"],[0.3333333333333333,\"#9c179e\"],[0.4444444444444444,\"#bd3786\"],[0.5555555555555556,\"#d8576b\"],[0.6666666666666666,\"#ed7953\"],[0.7777777777777778,\"#fb9f3a\"],[0.8888888888888888,\"#fdca26\"],[1.0,\"#f0f921\"]],\"sequentialminus\":[[0.0,\"#0d0887\"],[0.1111111111111111,\"#46039f\"],[0.2222222222222222,\"#7201a8\"],[0.3333333333333333,\"#9c179e\"],[0.4444444444444444,\"#bd3786\"],[0.5555555555555556,\"#d8576b\"],[0.6666666666666666,\"#ed7953\"],[0.7777777777777778,\"#fb9f3a\"],[0.8888888888888888,\"#fdca26\"],[1.0,\"#f0f921\"]],\"diverging\":[[0,\"#8e0152\"],[0.1,\"#c51b7d\"],[0.2,\"#de77ae\"],[0.3,\"#f1b6da\"],[0.4,\"#fde0ef\"],[0.5,\"#f7f7f7\"],[0.6,\"#e6f5d0\"],[0.7,\"#b8e186\"],[0.8,\"#7fbc41\"],[0.9,\"#4d9221\"],[1,\"#276419\"]]},\"xaxis\":{\"gridcolor\":\"white\",\"linecolor\":\"white\",\"ticks\":\"\",\"title\":{\"standoff\":15},\"zerolinecolor\":\"white\",\"automargin\":true,\"zerolinewidth\":2},\"yaxis\":{\"gridcolor\":\"white\",\"linecolor\":\"white\",\"ticks\":\"\",\"title\":{\"standoff\":15},\"zerolinecolor\":\"white\",\"automargin\":true,\"zerolinewidth\":2},\"scene\":{\"xaxis\":{\"backgroundcolor\":\"#E5ECF6\",\"gridcolor\":\"white\",\"linecolor\":\"white\",\"showbackground\":true,\"ticks\":\"\",\"zerolinecolor\":\"white\",\"gridwidth\":2},\"yaxis\":{\"backgroundcolor\":\"#E5ECF6\",\"gridcolor\":\"white\",\"linecolor\":\"white\",\"showbackground\":true,\"ticks\":\"\",\"zerolinecolor\":\"white\",\"gridwidth\":2},\"zaxis\":{\"backgroundcolor\":\"#E5ECF6\",\"gridcolor\":\"white\",\"linecolor\":\"white\",\"showbackground\":true,\"ticks\":\"\",\"zerolinecolor\":\"white\",\"gridwidth\":2}},\"shapedefaults\":{\"line\":{\"color\":\"#2a3f5f\"}},\"annotationdefaults\":{\"arrowcolor\":\"#2a3f5f\",\"arrowhead\":0,\"arrowwidth\":1},\"geo\":{\"bgcolor\":\"white\",\"landcolor\":\"#E5ECF6\",\"subunitcolor\":\"white\",\"showland\":true,\"showlakes\":true,\"lakecolor\":\"white\"},\"title\":{\"x\":0.05},\"mapbox\":{\"style\":\"light\"}}},\"xaxis\":{\"anchor\":\"y\",\"domain\":[0.0,1.0],\"title\":{\"text\":\"Count\"}},\"yaxis\":{\"anchor\":\"x\",\"domain\":[0.0,1.0],\"title\":{\"text\":\"Entity Type\"}},\"legend\":{\"tracegroupgap\":0},\"title\":{\"text\":\"What type of facilities hold sterile compounding licenses?\",\"y\":0.95,\"x\":0.5,\"xanchor\":\"center\",\"yanchor\":\"top\"},\"barmode\":\"relative\"},                        {\"responsive\": true}                    ).then(function(){\n",
       "                            \n",
       "var gd = document.getElementById('c772195b-ffed-4b23-9ad6-4a68b3e838aa');\n",
       "var x = new MutationObserver(function (mutations, observer) {{\n",
       "        var display = window.getComputedStyle(gd).display;\n",
       "        if (!display || display === 'none') {{\n",
       "            console.log([gd, 'removed!']);\n",
       "            Plotly.purge(gd);\n",
       "            observer.disconnect();\n",
       "        }}\n",
       "}});\n",
       "\n",
       "// Listen for the removal of the full notebook cells\n",
       "var notebookContainer = gd.closest('#notebook-container');\n",
       "if (notebookContainer) {{\n",
       "    x.observe(notebookContainer, {childList: true});\n",
       "}}\n",
       "\n",
       "// Listen for the clearing of the current output cell\n",
       "var outputEl = gd.closest('.output');\n",
       "if (outputEl) {{\n",
       "    x.observe(outputEl, {childList: true});\n",
       "}}\n",
       "\n",
       "                        })                };                });            </script>        </div>"
      ]
     },
     "metadata": {},
     "output_type": "display_data"
    }
   ],
   "execution_count": 137
  },
  {
   "metadata": {
    "ExecuteTime": {
     "end_time": "2024-12-15T18:53:46.838500Z",
     "start_time": "2024-12-15T18:53:46.814276Z"
    }
   },
   "cell_type": "code",
   "source": "all_pharmacies.head(50)",
   "id": "cc77c9579c21c7fb",
   "outputs": [
    {
     "data": {
      "text/plain": [
       "                                        Pharmacy Name License Number                                     License Type License Status Expiration Date         City         State          County    Zip  isGovernment  isSatellite  isInfusionCenter  isHospital  isVeterinaryOnly             Entity Type      ZIP        LAT         LNG\n",
       "0                        986 INFUSION PHARMACY #1 INC     LSC 101414                     Sterile Compounding Pharmacy          CLEAR      2025-07-01      ANAHEIM    California          ORANGE  92807         False        False              True       False             False       Infusion Services  92807.0  33.848733 -117.788357\n",
       "1                            A & O SPECIALTY PHARMACY     LSC 101817                     Sterile Compounding Pharmacy          CLEAR      2025-03-01      SALINAS    California        MONTEREY  93901         False        False             False       False             False    Compounding Pharmacy  93901.0  36.636344 -121.623978\n",
       "2                            ACCREDO HEALTH GROUP INC     NSC 101280         Nonresident Sterile Compounding Pharmacy          CLEAR      2025-12-01   WARRENDALE  Pennsylvania    OUT OF STATE  15086         False        False             False       False             False    Compounding Pharmacy  15086.0  40.674947  -80.106364\n",
       "3                            ACCREDO HEALTH GROUP INC     NSC 101279         Nonresident Sterile Compounding Pharmacy          CLEAR      2025-12-01      ORLANDO       Florida    OUT OF STATE  32822         False        False             False       False             False    Compounding Pharmacy  32822.0  28.489898  -81.290154\n",
       "4                               ADVANCE CARE PHARMACY      LSC 99611                     Sterile Compounding Pharmacy          CLEAR      2025-07-01    ESCONDIDO    California       SAN DIEGO  92025         False        False             False       False             False    Compounding Pharmacy  92025.0  33.102005 -117.080419\n",
       "5         ADVENTIST HEALTH AIS CANCER CENTER PHARMACY     LSC 101531                     Sterile Compounding Pharmacy          CLEAR      2025-11-01  BAKERSFIELD    California            KERN  93301         False        False             False        True             False  Hospital or Med Center  93301.0  35.384336 -119.020562\n",
       "6                        ADVENTIST HEALTH AND RIDEOUT     LSC 101196                     Sterile Compounding Pharmacy          CLEAR      2025-03-01   MARYSVILLE    California            YUBA  95901         False        False             False        True             False  Hospital or Med Center  95901.0  39.223939 -121.494050\n",
       "7                        ADVENTIST HEALTH AND RIDEOUT     LSC 101197                     Sterile Compounding Pharmacy          CLEAR      2025-03-01   MARYSVILLE    California            YUBA  95901         False        False             False        True             False  Hospital or Med Center  95901.0  39.223939 -121.494050\n",
       "8    ADVENTIST HEALTH BAKERSFIELD - HOSPITAL PHARMACY     LSC 100489                     Sterile Compounding Pharmacy          CLEAR      2025-11-01  BAKERSFIELD    California            KERN  93301         False        False             False        True             False  Hospital or Med Center  93301.0  35.384336 -119.020562\n",
       "9                             ADVENTIST HEALTH DELANO     LSC 101519                     Sterile Compounding Pharmacy          CLEAR      2025-12-01       DELANO    California            KERN  93215         False        False             False        True             False  Hospital or Med Center  93215.0  35.779507 -119.200825\n",
       "10                          ADVENTIST HEALTH GLENDALE     LSC 101368                     Sterile Compounding Pharmacy          CLEAR      2025-05-01     GLENDALE    California     LOS ANGELES  91206         False        False             False        True             False  Hospital or Med Center  91206.0  34.160359 -118.213769\n",
       "11                           ADVENTIST HEALTH HANFORD     LSC 100584                     Sterile Compounding Pharmacy          CLEAR      2025-11-01      HANFORD    California           KINGS  93230         False        False             False        True             False  Hospital or Med Center  93230.0  36.292230 -119.622676\n",
       "12                   ADVENTIST HEALTH HOWARD MEMORIAL     LSC 100713                     Sterile Compounding Pharmacy          CLEAR      2025-10-01      WILLITS    California       MENDOCINO  95490         False        False             False        True             False  Hospital or Med Center  95490.0  39.492842 -123.340973\n",
       "13  ADVENTIST HEALTH LODI MEMORIAL HOSPITAL PHARMA...     LSC 100845                     Sterile Compounding Pharmacy          CLEAR      2025-06-01         LODI    California     SAN JOAQUIN  95240         False        False             False        True             False  Hospital or Med Center  95240.0  38.114388 -121.144658\n",
       "14                   ADVENTIST HEALTH MENDOCINO COAST     LSC 101566                     Sterile Compounding Pharmacy          CLEAR      2025-07-01   FORT BRAGG    California       MENDOCINO  95437         False        False             False        True             False  Hospital or Med Center  95437.0  39.487185 -123.741963\n",
       "15                       ADVENTIST HEALTH SIMI VALLEY     LSC 101218                     Sterile Compounding Pharmacy          CLEAR      2025-07-01  SIMI VALLEY    California         VENTURA  93065         False        False             False        True             False  Hospital or Med Center  93065.0  34.258405 -118.775026\n",
       "16                       ADVENTIST HEALTH SIMI VALLEY     LSC 101217                     Sterile Compounding Pharmacy          CLEAR      2025-07-01  SIMI VALLEY    California         VENTURA  93065         False        False             False        True             False  Hospital or Med Center  93065.0  34.258405 -118.775026\n",
       "17                            ADVENTIST HEALTH SONORA     LSC 101199                     Sterile Compounding Pharmacy          CLEAR      2025-11-01       SONORA    California        TUOLUMNE  95370         False        False             False        True             False  Hospital or Med Center  95370.0  37.984549 -120.349264\n",
       "18                   ADVENTIST HEALTH SONORA-PHARMACY      LSC 99918                     Sterile Compounding Pharmacy          CLEAR      2025-05-01       SONORA    California        TUOLUMNE  95370         False        False             False        True             False  Hospital or Med Center  95370.0  37.984549 -120.349264\n",
       "19             ADVENTIST HEALTH SPECIALTY BAKERSFIELD     LSC 101888                     Sterile Compounding Pharmacy          CLEAR      2025-11-01  BAKERSFIELD    California            KERN  93308         False        False             False        True             False  Hospital or Med Center  93308.0  35.621087 -118.789677\n",
       "20  ADVENTIST HEALTH ST HELENA HOSPITAL CANCER CEN...     LSC 100022                     Sterile Compounding Pharmacy          CLEAR      2025-04-01    ST HELENA    California            NAPA  94574         False        False             False        True             False  Hospital or Med Center  94574.0  38.542448 -122.419923\n",
       "21  ADVENTIST HEALTH ST HELENA HOSPITAL INPATIENT ...     LSC 100021                     Sterile Compounding Pharmacy          CLEAR      2025-04-01    ST HELENA    California            NAPA  94574         False        False             False        True             False  Hospital or Med Center  94574.0  38.542448 -122.419923\n",
       "22                  ADVENTIST HEALTH TEHACHAPI VALLEY     LSC 101256                     Sterile Compounding Pharmacy          CLEAR      2025-10-01    TEHACHAPI    California            KERN  93561         False        False             False        True             False  Hospital or Med Center  93561.0  35.118772 -118.493811\n",
       "23                            ADVENTIST HEALTH TULARE     LSC 101447                     Sterile Compounding Pharmacy          CLEAR      2025-03-01       TULARE    California          TULARE  93274         False        False             False        True             False  Hospital or Med Center  93274.0  36.178091 -119.370752\n",
       "24                      ADVENTIST HEALTH UKIAH VALLEY     LSC 101710                     Sterile Compounding Pharmacy          CLEAR      2025-10-01        UKIAH    California       MENDOCINO  95482         False        False             False        True             False  Hospital or Med Center  95482.0  39.135023 -123.259338\n",
       "25         ADVENTIST HEALTH WHITE MEMORIAL MONTEBELLO     LSC 101880                     Sterile Compounding Pharmacy          CLEAR      2025-09-01   MONTEBELLO    California     LOS ANGELES  90640         False        False             False        True             False  Hospital or Med Center  90640.0  34.015444 -118.111012\n",
       "26  AHMC ANAHEIM REGIONAL MEDICAL CENTER - MAIN PH...     LSC 100381                     Sterile Compounding Pharmacy          CLEAR      2025-07-01      ANAHEIM    California          ORANGE  92801         False        False             False        True             False  Hospital or Med Center  92801.0  33.844983 -117.952151\n",
       "27                      AHMC SETON MEDICAL CENTER LLC     LSC 101594                     Sterile Compounding Pharmacy          CLEAR      2025-01-01    DALY CITY    California       SAN MATEO  94015         False        False             False        True             False  Hospital or Med Center  94015.0  37.681264 -122.480589\n",
       "28                                   ALAMEDA HOSPITAL     LSE 100487  Sterile Compounding Pharmacy (Government Owned)          CLEAR      2025-05-01      ALAMEDA    California         ALAMEDA  94501          True        False             False        True             False  Hospital or Med Center  94501.0  37.773793 -122.278115\n",
       "29                                 ALERACARE PHARMACY     NSC 101806         Nonresident Sterile Compounding Pharmacy          CLEAR      2025-11-01      PHOENIX       Arizona    OUT OF STATE  85032         False        False             False       False             False    Compounding Pharmacy  85032.0  33.625920 -112.002503\n",
       "30                      ALERACARE PHARMACY CALIFORNIA     LSC 101805                     Sterile Compounding Pharmacy          CLEAR      2025-11-01     VAN NUYS    California     LOS ANGELES  91406         False        False             False       False             False    Compounding Pharmacy  91406.0  34.195685 -118.490752\n",
       "31                   ALHAMBRA HOSPITAL MEDICAL CENTER      LSC 99917                     Sterile Compounding Pharmacy          CLEAR      2025-01-01     ALHAMBRA    California     LOS ANGELES  91801         False        False             False        True             False  Hospital or Med Center  91801.0  34.090728 -118.127527\n",
       "32                   ALHAMBRA HOSPITAL MEDICAL CENTER     LSC 101472                     Sterile Compounding Pharmacy          CLEAR      2025-01-01     ALHAMBRA    California     LOS ANGELES  91801         False        False             False        True             False  Hospital or Med Center  91801.0  34.090728 -118.127527\n",
       "33               ALLIANCERX WALGREENS PHARMACY #15443     NSC 100917         Nonresident Sterile Compounding Pharmacy          CLEAR      2025-04-01       FRISCO         Texas    OUT OF STATE  75033         False        False             False       False             False    Compounding Pharmacy      NaN        NaN         NaN\n",
       "34               ALLIANCERX WALGREENS PHARMACY #16287     NSC 101051         Nonresident Sterile Compounding Pharmacy          CLEAR      2025-11-01   PITTSBURGH  Pennsylvania    OUT OF STATE  15275         False        False             False       False             False    Compounding Pharmacy      NaN        NaN         NaN\n",
       "35  ALTA BATES SUMMIT MED CTR HERRICK INFUSION PHA...     LSC 101302                     Sterile Compounding Pharmacy          CLEAR      2025-07-01     BERKELEY    California         ALAMEDA  94704         False        False              True        True             False  Hospital or Med Center  94704.0  37.866536 -122.257996\n",
       "36  ALTA BATES SUMMIT MEDICAL CENTER - ALTA BATES ...     LSC 101192                     Sterile Compounding Pharmacy          CLEAR      2025-03-01     BERKELEY    California         ALAMEDA  94705         False        False             False        True             False  Hospital or Med Center  94705.0  37.865183 -122.238209\n",
       "37  ALTA BATES SUMMIT MEDICAL CENTER - SUMMIT CAMP...     LSC 101187                     Sterile Compounding Pharmacy          CLEAR      2025-03-01      OAKLAND    California         ALAMEDA  94609         False        False             False        True             False  Hospital or Med Center  94609.0  37.834403 -122.264368\n",
       "38                            AMBROSIA HEALTHCARE INC      LSC 99935                     Sterile Compounding Pharmacy          CLEAR      2025-06-01  PALM DESERT    California       RIVERSIDE  92211         False        False             False       False             False    Compounding Pharmacy  92211.0  33.765401 -116.334205\n",
       "39  AMERICAN OUTCOMES MANAGEMENT, LP DBA AOM INFUSION     NSC 101746         Nonresident Sterile Compounding Pharmacy          CLEAR      2025-02-01  FORTH WORTH         Texas    OUT OF STATE  76109         False        False              True       False             False       Infusion Services  76109.0  32.700650  -97.386965\n",
       "40                   AMERICAN RIVER INFUSION SERVICES     LSC 101698                     Sterile Compounding Pharmacy          CLEAR      2025-09-01   SACRAMENTO    California      SACRAMENTO  95834         False        False              True       False             False       Infusion Services  95834.0  38.635653 -121.518416\n",
       "41                                        AMERIPHARMA     LSC 100895                     Sterile Compounding Pharmacy          CLEAR      2025-01-01       ORANGE    California          ORANGE  92868         False        False             False       False             False    Compounding Pharmacy  92868.0  33.788145 -117.876550\n",
       "42             ANTELOPE VALLEY MEDICAL CENTER IV ROOM     LSE 101481  Sterile Compounding Pharmacy (Government Owned)          CLEAR      2025-08-01    LANCASTER    California     LOS ANGELES  93534          True        False             False        True             False  Hospital or Med Center  93534.0  34.713292 -118.152920\n",
       "43         ARROWHEAD REGIONAL MEDICAL CENTER PHARMACY      LSE 99997  Sterile Compounding Pharmacy (Government Owned)          CLEAR      2025-10-01       COLTON    California  SAN BERNARDINO  92324          True        False             False        True             False  Hospital or Med Center  92324.0  34.024520 -117.289255\n",
       "44                      BAKERSFIELD MEMORIAL HOSPITAL     LSC 101845                     Sterile Compounding Pharmacy          CLEAR      2025-01-01  BAKERSFIELD    California            KERN  93301         False        False             False        True             False  Hospital or Med Center  93301.0  35.384336 -119.020562\n",
       "45             BAKERSFIELD MEMORIAL HOSPITAL PHARMACY     LSC 101683                     Sterile Compounding Pharmacy          CLEAR      2025-01-01  BAKERSFIELD    California            KERN  93301         False        False             False        True             False  Hospital or Med Center  93301.0  35.384336 -119.020562\n",
       "46                BAKERSFIELD REHABILITATION HOSPITAL     LSC 101703                     Sterile Compounding Pharmacy          CLEAR      2025-02-01  BAKERSFIELD    California            KERN  93306         False        False             False        True             False  Hospital or Med Center  93306.0  35.468183 -118.779649\n",
       "47    BANNER LASSEN MEDICAL CENTER 1ST FLOOR ROOM 523     LSC 100034                     Sterile Compounding Pharmacy          CLEAR      2025-03-01   SUSANVILLE    California          LASSEN  96130         False        False             False        True             False  Hospital or Med Center  96130.0  40.551757 -120.675673\n",
       "48                           BARLOW HOSPITAL PHARMACY     LSC 101656                     Sterile Compounding Pharmacy          CLEAR      2025-07-01  LOS ANGELES    California     LOS ANGELES  90026         False        False             False        True             False  Hospital or Med Center  90026.0  34.080017 -118.262643\n",
       "49                         BARSTOW COMMUNITY HOSPITAL     LSC 101582                     Sterile Compounding Pharmacy          CLEAR      2025-07-01      BARSTOW    California  SAN BERNARDINO  92311         False        False             False        True             False  Hospital or Med Center  92311.0  34.980294 -116.964449"
      ],
      "text/html": [
       "<div>\n",
       "<style scoped>\n",
       "    .dataframe tbody tr th:only-of-type {\n",
       "        vertical-align: middle;\n",
       "    }\n",
       "\n",
       "    .dataframe tbody tr th {\n",
       "        vertical-align: top;\n",
       "    }\n",
       "\n",
       "    .dataframe thead th {\n",
       "        text-align: right;\n",
       "    }\n",
       "</style>\n",
       "<table border=\"1\" class=\"dataframe\">\n",
       "  <thead>\n",
       "    <tr style=\"text-align: right;\">\n",
       "      <th></th>\n",
       "      <th>Pharmacy Name</th>\n",
       "      <th>License Number</th>\n",
       "      <th>License Type</th>\n",
       "      <th>License Status</th>\n",
       "      <th>Expiration Date</th>\n",
       "      <th>City</th>\n",
       "      <th>State</th>\n",
       "      <th>County</th>\n",
       "      <th>Zip</th>\n",
       "      <th>isGovernment</th>\n",
       "      <th>isSatellite</th>\n",
       "      <th>isInfusionCenter</th>\n",
       "      <th>isHospital</th>\n",
       "      <th>isVeterinaryOnly</th>\n",
       "      <th>Entity Type</th>\n",
       "      <th>ZIP</th>\n",
       "      <th>LAT</th>\n",
       "      <th>LNG</th>\n",
       "    </tr>\n",
       "  </thead>\n",
       "  <tbody>\n",
       "    <tr>\n",
       "      <th>0</th>\n",
       "      <td>986 INFUSION PHARMACY #1 INC</td>\n",
       "      <td>LSC 101414</td>\n",
       "      <td>Sterile Compounding Pharmacy</td>\n",
       "      <td>CLEAR</td>\n",
       "      <td>2025-07-01</td>\n",
       "      <td>ANAHEIM</td>\n",
       "      <td>California</td>\n",
       "      <td>ORANGE</td>\n",
       "      <td>92807</td>\n",
       "      <td>False</td>\n",
       "      <td>False</td>\n",
       "      <td>True</td>\n",
       "      <td>False</td>\n",
       "      <td>False</td>\n",
       "      <td>Infusion Services</td>\n",
       "      <td>92807.0</td>\n",
       "      <td>33.848733</td>\n",
       "      <td>-117.788357</td>\n",
       "    </tr>\n",
       "    <tr>\n",
       "      <th>1</th>\n",
       "      <td>A &amp; O SPECIALTY PHARMACY</td>\n",
       "      <td>LSC 101817</td>\n",
       "      <td>Sterile Compounding Pharmacy</td>\n",
       "      <td>CLEAR</td>\n",
       "      <td>2025-03-01</td>\n",
       "      <td>SALINAS</td>\n",
       "      <td>California</td>\n",
       "      <td>MONTEREY</td>\n",
       "      <td>93901</td>\n",
       "      <td>False</td>\n",
       "      <td>False</td>\n",
       "      <td>False</td>\n",
       "      <td>False</td>\n",
       "      <td>False</td>\n",
       "      <td>Compounding Pharmacy</td>\n",
       "      <td>93901.0</td>\n",
       "      <td>36.636344</td>\n",
       "      <td>-121.623978</td>\n",
       "    </tr>\n",
       "    <tr>\n",
       "      <th>2</th>\n",
       "      <td>ACCREDO HEALTH GROUP INC</td>\n",
       "      <td>NSC 101280</td>\n",
       "      <td>Nonresident Sterile Compounding Pharmacy</td>\n",
       "      <td>CLEAR</td>\n",
       "      <td>2025-12-01</td>\n",
       "      <td>WARRENDALE</td>\n",
       "      <td>Pennsylvania</td>\n",
       "      <td>OUT OF STATE</td>\n",
       "      <td>15086</td>\n",
       "      <td>False</td>\n",
       "      <td>False</td>\n",
       "      <td>False</td>\n",
       "      <td>False</td>\n",
       "      <td>False</td>\n",
       "      <td>Compounding Pharmacy</td>\n",
       "      <td>15086.0</td>\n",
       "      <td>40.674947</td>\n",
       "      <td>-80.106364</td>\n",
       "    </tr>\n",
       "    <tr>\n",
       "      <th>3</th>\n",
       "      <td>ACCREDO HEALTH GROUP INC</td>\n",
       "      <td>NSC 101279</td>\n",
       "      <td>Nonresident Sterile Compounding Pharmacy</td>\n",
       "      <td>CLEAR</td>\n",
       "      <td>2025-12-01</td>\n",
       "      <td>ORLANDO</td>\n",
       "      <td>Florida</td>\n",
       "      <td>OUT OF STATE</td>\n",
       "      <td>32822</td>\n",
       "      <td>False</td>\n",
       "      <td>False</td>\n",
       "      <td>False</td>\n",
       "      <td>False</td>\n",
       "      <td>False</td>\n",
       "      <td>Compounding Pharmacy</td>\n",
       "      <td>32822.0</td>\n",
       "      <td>28.489898</td>\n",
       "      <td>-81.290154</td>\n",
       "    </tr>\n",
       "    <tr>\n",
       "      <th>4</th>\n",
       "      <td>ADVANCE CARE PHARMACY</td>\n",
       "      <td>LSC 99611</td>\n",
       "      <td>Sterile Compounding Pharmacy</td>\n",
       "      <td>CLEAR</td>\n",
       "      <td>2025-07-01</td>\n",
       "      <td>ESCONDIDO</td>\n",
       "      <td>California</td>\n",
       "      <td>SAN DIEGO</td>\n",
       "      <td>92025</td>\n",
       "      <td>False</td>\n",
       "      <td>False</td>\n",
       "      <td>False</td>\n",
       "      <td>False</td>\n",
       "      <td>False</td>\n",
       "      <td>Compounding Pharmacy</td>\n",
       "      <td>92025.0</td>\n",
       "      <td>33.102005</td>\n",
       "      <td>-117.080419</td>\n",
       "    </tr>\n",
       "    <tr>\n",
       "      <th>5</th>\n",
       "      <td>ADVENTIST HEALTH AIS CANCER CENTER PHARMACY</td>\n",
       "      <td>LSC 101531</td>\n",
       "      <td>Sterile Compounding Pharmacy</td>\n",
       "      <td>CLEAR</td>\n",
       "      <td>2025-11-01</td>\n",
       "      <td>BAKERSFIELD</td>\n",
       "      <td>California</td>\n",
       "      <td>KERN</td>\n",
       "      <td>93301</td>\n",
       "      <td>False</td>\n",
       "      <td>False</td>\n",
       "      <td>False</td>\n",
       "      <td>True</td>\n",
       "      <td>False</td>\n",
       "      <td>Hospital or Med Center</td>\n",
       "      <td>93301.0</td>\n",
       "      <td>35.384336</td>\n",
       "      <td>-119.020562</td>\n",
       "    </tr>\n",
       "    <tr>\n",
       "      <th>6</th>\n",
       "      <td>ADVENTIST HEALTH AND RIDEOUT</td>\n",
       "      <td>LSC 101196</td>\n",
       "      <td>Sterile Compounding Pharmacy</td>\n",
       "      <td>CLEAR</td>\n",
       "      <td>2025-03-01</td>\n",
       "      <td>MARYSVILLE</td>\n",
       "      <td>California</td>\n",
       "      <td>YUBA</td>\n",
       "      <td>95901</td>\n",
       "      <td>False</td>\n",
       "      <td>False</td>\n",
       "      <td>False</td>\n",
       "      <td>True</td>\n",
       "      <td>False</td>\n",
       "      <td>Hospital or Med Center</td>\n",
       "      <td>95901.0</td>\n",
       "      <td>39.223939</td>\n",
       "      <td>-121.494050</td>\n",
       "    </tr>\n",
       "    <tr>\n",
       "      <th>7</th>\n",
       "      <td>ADVENTIST HEALTH AND RIDEOUT</td>\n",
       "      <td>LSC 101197</td>\n",
       "      <td>Sterile Compounding Pharmacy</td>\n",
       "      <td>CLEAR</td>\n",
       "      <td>2025-03-01</td>\n",
       "      <td>MARYSVILLE</td>\n",
       "      <td>California</td>\n",
       "      <td>YUBA</td>\n",
       "      <td>95901</td>\n",
       "      <td>False</td>\n",
       "      <td>False</td>\n",
       "      <td>False</td>\n",
       "      <td>True</td>\n",
       "      <td>False</td>\n",
       "      <td>Hospital or Med Center</td>\n",
       "      <td>95901.0</td>\n",
       "      <td>39.223939</td>\n",
       "      <td>-121.494050</td>\n",
       "    </tr>\n",
       "    <tr>\n",
       "      <th>8</th>\n",
       "      <td>ADVENTIST HEALTH BAKERSFIELD - HOSPITAL PHARMACY</td>\n",
       "      <td>LSC 100489</td>\n",
       "      <td>Sterile Compounding Pharmacy</td>\n",
       "      <td>CLEAR</td>\n",
       "      <td>2025-11-01</td>\n",
       "      <td>BAKERSFIELD</td>\n",
       "      <td>California</td>\n",
       "      <td>KERN</td>\n",
       "      <td>93301</td>\n",
       "      <td>False</td>\n",
       "      <td>False</td>\n",
       "      <td>False</td>\n",
       "      <td>True</td>\n",
       "      <td>False</td>\n",
       "      <td>Hospital or Med Center</td>\n",
       "      <td>93301.0</td>\n",
       "      <td>35.384336</td>\n",
       "      <td>-119.020562</td>\n",
       "    </tr>\n",
       "    <tr>\n",
       "      <th>9</th>\n",
       "      <td>ADVENTIST HEALTH DELANO</td>\n",
       "      <td>LSC 101519</td>\n",
       "      <td>Sterile Compounding Pharmacy</td>\n",
       "      <td>CLEAR</td>\n",
       "      <td>2025-12-01</td>\n",
       "      <td>DELANO</td>\n",
       "      <td>California</td>\n",
       "      <td>KERN</td>\n",
       "      <td>93215</td>\n",
       "      <td>False</td>\n",
       "      <td>False</td>\n",
       "      <td>False</td>\n",
       "      <td>True</td>\n",
       "      <td>False</td>\n",
       "      <td>Hospital or Med Center</td>\n",
       "      <td>93215.0</td>\n",
       "      <td>35.779507</td>\n",
       "      <td>-119.200825</td>\n",
       "    </tr>\n",
       "    <tr>\n",
       "      <th>10</th>\n",
       "      <td>ADVENTIST HEALTH GLENDALE</td>\n",
       "      <td>LSC 101368</td>\n",
       "      <td>Sterile Compounding Pharmacy</td>\n",
       "      <td>CLEAR</td>\n",
       "      <td>2025-05-01</td>\n",
       "      <td>GLENDALE</td>\n",
       "      <td>California</td>\n",
       "      <td>LOS ANGELES</td>\n",
       "      <td>91206</td>\n",
       "      <td>False</td>\n",
       "      <td>False</td>\n",
       "      <td>False</td>\n",
       "      <td>True</td>\n",
       "      <td>False</td>\n",
       "      <td>Hospital or Med Center</td>\n",
       "      <td>91206.0</td>\n",
       "      <td>34.160359</td>\n",
       "      <td>-118.213769</td>\n",
       "    </tr>\n",
       "    <tr>\n",
       "      <th>11</th>\n",
       "      <td>ADVENTIST HEALTH HANFORD</td>\n",
       "      <td>LSC 100584</td>\n",
       "      <td>Sterile Compounding Pharmacy</td>\n",
       "      <td>CLEAR</td>\n",
       "      <td>2025-11-01</td>\n",
       "      <td>HANFORD</td>\n",
       "      <td>California</td>\n",
       "      <td>KINGS</td>\n",
       "      <td>93230</td>\n",
       "      <td>False</td>\n",
       "      <td>False</td>\n",
       "      <td>False</td>\n",
       "      <td>True</td>\n",
       "      <td>False</td>\n",
       "      <td>Hospital or Med Center</td>\n",
       "      <td>93230.0</td>\n",
       "      <td>36.292230</td>\n",
       "      <td>-119.622676</td>\n",
       "    </tr>\n",
       "    <tr>\n",
       "      <th>12</th>\n",
       "      <td>ADVENTIST HEALTH HOWARD MEMORIAL</td>\n",
       "      <td>LSC 100713</td>\n",
       "      <td>Sterile Compounding Pharmacy</td>\n",
       "      <td>CLEAR</td>\n",
       "      <td>2025-10-01</td>\n",
       "      <td>WILLITS</td>\n",
       "      <td>California</td>\n",
       "      <td>MENDOCINO</td>\n",
       "      <td>95490</td>\n",
       "      <td>False</td>\n",
       "      <td>False</td>\n",
       "      <td>False</td>\n",
       "      <td>True</td>\n",
       "      <td>False</td>\n",
       "      <td>Hospital or Med Center</td>\n",
       "      <td>95490.0</td>\n",
       "      <td>39.492842</td>\n",
       "      <td>-123.340973</td>\n",
       "    </tr>\n",
       "    <tr>\n",
       "      <th>13</th>\n",
       "      <td>ADVENTIST HEALTH LODI MEMORIAL HOSPITAL PHARMA...</td>\n",
       "      <td>LSC 100845</td>\n",
       "      <td>Sterile Compounding Pharmacy</td>\n",
       "      <td>CLEAR</td>\n",
       "      <td>2025-06-01</td>\n",
       "      <td>LODI</td>\n",
       "      <td>California</td>\n",
       "      <td>SAN JOAQUIN</td>\n",
       "      <td>95240</td>\n",
       "      <td>False</td>\n",
       "      <td>False</td>\n",
       "      <td>False</td>\n",
       "      <td>True</td>\n",
       "      <td>False</td>\n",
       "      <td>Hospital or Med Center</td>\n",
       "      <td>95240.0</td>\n",
       "      <td>38.114388</td>\n",
       "      <td>-121.144658</td>\n",
       "    </tr>\n",
       "    <tr>\n",
       "      <th>14</th>\n",
       "      <td>ADVENTIST HEALTH MENDOCINO COAST</td>\n",
       "      <td>LSC 101566</td>\n",
       "      <td>Sterile Compounding Pharmacy</td>\n",
       "      <td>CLEAR</td>\n",
       "      <td>2025-07-01</td>\n",
       "      <td>FORT BRAGG</td>\n",
       "      <td>California</td>\n",
       "      <td>MENDOCINO</td>\n",
       "      <td>95437</td>\n",
       "      <td>False</td>\n",
       "      <td>False</td>\n",
       "      <td>False</td>\n",
       "      <td>True</td>\n",
       "      <td>False</td>\n",
       "      <td>Hospital or Med Center</td>\n",
       "      <td>95437.0</td>\n",
       "      <td>39.487185</td>\n",
       "      <td>-123.741963</td>\n",
       "    </tr>\n",
       "    <tr>\n",
       "      <th>15</th>\n",
       "      <td>ADVENTIST HEALTH SIMI VALLEY</td>\n",
       "      <td>LSC 101218</td>\n",
       "      <td>Sterile Compounding Pharmacy</td>\n",
       "      <td>CLEAR</td>\n",
       "      <td>2025-07-01</td>\n",
       "      <td>SIMI VALLEY</td>\n",
       "      <td>California</td>\n",
       "      <td>VENTURA</td>\n",
       "      <td>93065</td>\n",
       "      <td>False</td>\n",
       "      <td>False</td>\n",
       "      <td>False</td>\n",
       "      <td>True</td>\n",
       "      <td>False</td>\n",
       "      <td>Hospital or Med Center</td>\n",
       "      <td>93065.0</td>\n",
       "      <td>34.258405</td>\n",
       "      <td>-118.775026</td>\n",
       "    </tr>\n",
       "    <tr>\n",
       "      <th>16</th>\n",
       "      <td>ADVENTIST HEALTH SIMI VALLEY</td>\n",
       "      <td>LSC 101217</td>\n",
       "      <td>Sterile Compounding Pharmacy</td>\n",
       "      <td>CLEAR</td>\n",
       "      <td>2025-07-01</td>\n",
       "      <td>SIMI VALLEY</td>\n",
       "      <td>California</td>\n",
       "      <td>VENTURA</td>\n",
       "      <td>93065</td>\n",
       "      <td>False</td>\n",
       "      <td>False</td>\n",
       "      <td>False</td>\n",
       "      <td>True</td>\n",
       "      <td>False</td>\n",
       "      <td>Hospital or Med Center</td>\n",
       "      <td>93065.0</td>\n",
       "      <td>34.258405</td>\n",
       "      <td>-118.775026</td>\n",
       "    </tr>\n",
       "    <tr>\n",
       "      <th>17</th>\n",
       "      <td>ADVENTIST HEALTH SONORA</td>\n",
       "      <td>LSC 101199</td>\n",
       "      <td>Sterile Compounding Pharmacy</td>\n",
       "      <td>CLEAR</td>\n",
       "      <td>2025-11-01</td>\n",
       "      <td>SONORA</td>\n",
       "      <td>California</td>\n",
       "      <td>TUOLUMNE</td>\n",
       "      <td>95370</td>\n",
       "      <td>False</td>\n",
       "      <td>False</td>\n",
       "      <td>False</td>\n",
       "      <td>True</td>\n",
       "      <td>False</td>\n",
       "      <td>Hospital or Med Center</td>\n",
       "      <td>95370.0</td>\n",
       "      <td>37.984549</td>\n",
       "      <td>-120.349264</td>\n",
       "    </tr>\n",
       "    <tr>\n",
       "      <th>18</th>\n",
       "      <td>ADVENTIST HEALTH SONORA-PHARMACY</td>\n",
       "      <td>LSC 99918</td>\n",
       "      <td>Sterile Compounding Pharmacy</td>\n",
       "      <td>CLEAR</td>\n",
       "      <td>2025-05-01</td>\n",
       "      <td>SONORA</td>\n",
       "      <td>California</td>\n",
       "      <td>TUOLUMNE</td>\n",
       "      <td>95370</td>\n",
       "      <td>False</td>\n",
       "      <td>False</td>\n",
       "      <td>False</td>\n",
       "      <td>True</td>\n",
       "      <td>False</td>\n",
       "      <td>Hospital or Med Center</td>\n",
       "      <td>95370.0</td>\n",
       "      <td>37.984549</td>\n",
       "      <td>-120.349264</td>\n",
       "    </tr>\n",
       "    <tr>\n",
       "      <th>19</th>\n",
       "      <td>ADVENTIST HEALTH SPECIALTY BAKERSFIELD</td>\n",
       "      <td>LSC 101888</td>\n",
       "      <td>Sterile Compounding Pharmacy</td>\n",
       "      <td>CLEAR</td>\n",
       "      <td>2025-11-01</td>\n",
       "      <td>BAKERSFIELD</td>\n",
       "      <td>California</td>\n",
       "      <td>KERN</td>\n",
       "      <td>93308</td>\n",
       "      <td>False</td>\n",
       "      <td>False</td>\n",
       "      <td>False</td>\n",
       "      <td>True</td>\n",
       "      <td>False</td>\n",
       "      <td>Hospital or Med Center</td>\n",
       "      <td>93308.0</td>\n",
       "      <td>35.621087</td>\n",
       "      <td>-118.789677</td>\n",
       "    </tr>\n",
       "    <tr>\n",
       "      <th>20</th>\n",
       "      <td>ADVENTIST HEALTH ST HELENA HOSPITAL CANCER CEN...</td>\n",
       "      <td>LSC 100022</td>\n",
       "      <td>Sterile Compounding Pharmacy</td>\n",
       "      <td>CLEAR</td>\n",
       "      <td>2025-04-01</td>\n",
       "      <td>ST HELENA</td>\n",
       "      <td>California</td>\n",
       "      <td>NAPA</td>\n",
       "      <td>94574</td>\n",
       "      <td>False</td>\n",
       "      <td>False</td>\n",
       "      <td>False</td>\n",
       "      <td>True</td>\n",
       "      <td>False</td>\n",
       "      <td>Hospital or Med Center</td>\n",
       "      <td>94574.0</td>\n",
       "      <td>38.542448</td>\n",
       "      <td>-122.419923</td>\n",
       "    </tr>\n",
       "    <tr>\n",
       "      <th>21</th>\n",
       "      <td>ADVENTIST HEALTH ST HELENA HOSPITAL INPATIENT ...</td>\n",
       "      <td>LSC 100021</td>\n",
       "      <td>Sterile Compounding Pharmacy</td>\n",
       "      <td>CLEAR</td>\n",
       "      <td>2025-04-01</td>\n",
       "      <td>ST HELENA</td>\n",
       "      <td>California</td>\n",
       "      <td>NAPA</td>\n",
       "      <td>94574</td>\n",
       "      <td>False</td>\n",
       "      <td>False</td>\n",
       "      <td>False</td>\n",
       "      <td>True</td>\n",
       "      <td>False</td>\n",
       "      <td>Hospital or Med Center</td>\n",
       "      <td>94574.0</td>\n",
       "      <td>38.542448</td>\n",
       "      <td>-122.419923</td>\n",
       "    </tr>\n",
       "    <tr>\n",
       "      <th>22</th>\n",
       "      <td>ADVENTIST HEALTH TEHACHAPI VALLEY</td>\n",
       "      <td>LSC 101256</td>\n",
       "      <td>Sterile Compounding Pharmacy</td>\n",
       "      <td>CLEAR</td>\n",
       "      <td>2025-10-01</td>\n",
       "      <td>TEHACHAPI</td>\n",
       "      <td>California</td>\n",
       "      <td>KERN</td>\n",
       "      <td>93561</td>\n",
       "      <td>False</td>\n",
       "      <td>False</td>\n",
       "      <td>False</td>\n",
       "      <td>True</td>\n",
       "      <td>False</td>\n",
       "      <td>Hospital or Med Center</td>\n",
       "      <td>93561.0</td>\n",
       "      <td>35.118772</td>\n",
       "      <td>-118.493811</td>\n",
       "    </tr>\n",
       "    <tr>\n",
       "      <th>23</th>\n",
       "      <td>ADVENTIST HEALTH TULARE</td>\n",
       "      <td>LSC 101447</td>\n",
       "      <td>Sterile Compounding Pharmacy</td>\n",
       "      <td>CLEAR</td>\n",
       "      <td>2025-03-01</td>\n",
       "      <td>TULARE</td>\n",
       "      <td>California</td>\n",
       "      <td>TULARE</td>\n",
       "      <td>93274</td>\n",
       "      <td>False</td>\n",
       "      <td>False</td>\n",
       "      <td>False</td>\n",
       "      <td>True</td>\n",
       "      <td>False</td>\n",
       "      <td>Hospital or Med Center</td>\n",
       "      <td>93274.0</td>\n",
       "      <td>36.178091</td>\n",
       "      <td>-119.370752</td>\n",
       "    </tr>\n",
       "    <tr>\n",
       "      <th>24</th>\n",
       "      <td>ADVENTIST HEALTH UKIAH VALLEY</td>\n",
       "      <td>LSC 101710</td>\n",
       "      <td>Sterile Compounding Pharmacy</td>\n",
       "      <td>CLEAR</td>\n",
       "      <td>2025-10-01</td>\n",
       "      <td>UKIAH</td>\n",
       "      <td>California</td>\n",
       "      <td>MENDOCINO</td>\n",
       "      <td>95482</td>\n",
       "      <td>False</td>\n",
       "      <td>False</td>\n",
       "      <td>False</td>\n",
       "      <td>True</td>\n",
       "      <td>False</td>\n",
       "      <td>Hospital or Med Center</td>\n",
       "      <td>95482.0</td>\n",
       "      <td>39.135023</td>\n",
       "      <td>-123.259338</td>\n",
       "    </tr>\n",
       "    <tr>\n",
       "      <th>25</th>\n",
       "      <td>ADVENTIST HEALTH WHITE MEMORIAL MONTEBELLO</td>\n",
       "      <td>LSC 101880</td>\n",
       "      <td>Sterile Compounding Pharmacy</td>\n",
       "      <td>CLEAR</td>\n",
       "      <td>2025-09-01</td>\n",
       "      <td>MONTEBELLO</td>\n",
       "      <td>California</td>\n",
       "      <td>LOS ANGELES</td>\n",
       "      <td>90640</td>\n",
       "      <td>False</td>\n",
       "      <td>False</td>\n",
       "      <td>False</td>\n",
       "      <td>True</td>\n",
       "      <td>False</td>\n",
       "      <td>Hospital or Med Center</td>\n",
       "      <td>90640.0</td>\n",
       "      <td>34.015444</td>\n",
       "      <td>-118.111012</td>\n",
       "    </tr>\n",
       "    <tr>\n",
       "      <th>26</th>\n",
       "      <td>AHMC ANAHEIM REGIONAL MEDICAL CENTER - MAIN PH...</td>\n",
       "      <td>LSC 100381</td>\n",
       "      <td>Sterile Compounding Pharmacy</td>\n",
       "      <td>CLEAR</td>\n",
       "      <td>2025-07-01</td>\n",
       "      <td>ANAHEIM</td>\n",
       "      <td>California</td>\n",
       "      <td>ORANGE</td>\n",
       "      <td>92801</td>\n",
       "      <td>False</td>\n",
       "      <td>False</td>\n",
       "      <td>False</td>\n",
       "      <td>True</td>\n",
       "      <td>False</td>\n",
       "      <td>Hospital or Med Center</td>\n",
       "      <td>92801.0</td>\n",
       "      <td>33.844983</td>\n",
       "      <td>-117.952151</td>\n",
       "    </tr>\n",
       "    <tr>\n",
       "      <th>27</th>\n",
       "      <td>AHMC SETON MEDICAL CENTER LLC</td>\n",
       "      <td>LSC 101594</td>\n",
       "      <td>Sterile Compounding Pharmacy</td>\n",
       "      <td>CLEAR</td>\n",
       "      <td>2025-01-01</td>\n",
       "      <td>DALY CITY</td>\n",
       "      <td>California</td>\n",
       "      <td>SAN MATEO</td>\n",
       "      <td>94015</td>\n",
       "      <td>False</td>\n",
       "      <td>False</td>\n",
       "      <td>False</td>\n",
       "      <td>True</td>\n",
       "      <td>False</td>\n",
       "      <td>Hospital or Med Center</td>\n",
       "      <td>94015.0</td>\n",
       "      <td>37.681264</td>\n",
       "      <td>-122.480589</td>\n",
       "    </tr>\n",
       "    <tr>\n",
       "      <th>28</th>\n",
       "      <td>ALAMEDA HOSPITAL</td>\n",
       "      <td>LSE 100487</td>\n",
       "      <td>Sterile Compounding Pharmacy (Government Owned)</td>\n",
       "      <td>CLEAR</td>\n",
       "      <td>2025-05-01</td>\n",
       "      <td>ALAMEDA</td>\n",
       "      <td>California</td>\n",
       "      <td>ALAMEDA</td>\n",
       "      <td>94501</td>\n",
       "      <td>True</td>\n",
       "      <td>False</td>\n",
       "      <td>False</td>\n",
       "      <td>True</td>\n",
       "      <td>False</td>\n",
       "      <td>Hospital or Med Center</td>\n",
       "      <td>94501.0</td>\n",
       "      <td>37.773793</td>\n",
       "      <td>-122.278115</td>\n",
       "    </tr>\n",
       "    <tr>\n",
       "      <th>29</th>\n",
       "      <td>ALERACARE PHARMACY</td>\n",
       "      <td>NSC 101806</td>\n",
       "      <td>Nonresident Sterile Compounding Pharmacy</td>\n",
       "      <td>CLEAR</td>\n",
       "      <td>2025-11-01</td>\n",
       "      <td>PHOENIX</td>\n",
       "      <td>Arizona</td>\n",
       "      <td>OUT OF STATE</td>\n",
       "      <td>85032</td>\n",
       "      <td>False</td>\n",
       "      <td>False</td>\n",
       "      <td>False</td>\n",
       "      <td>False</td>\n",
       "      <td>False</td>\n",
       "      <td>Compounding Pharmacy</td>\n",
       "      <td>85032.0</td>\n",
       "      <td>33.625920</td>\n",
       "      <td>-112.002503</td>\n",
       "    </tr>\n",
       "    <tr>\n",
       "      <th>30</th>\n",
       "      <td>ALERACARE PHARMACY CALIFORNIA</td>\n",
       "      <td>LSC 101805</td>\n",
       "      <td>Sterile Compounding Pharmacy</td>\n",
       "      <td>CLEAR</td>\n",
       "      <td>2025-11-01</td>\n",
       "      <td>VAN NUYS</td>\n",
       "      <td>California</td>\n",
       "      <td>LOS ANGELES</td>\n",
       "      <td>91406</td>\n",
       "      <td>False</td>\n",
       "      <td>False</td>\n",
       "      <td>False</td>\n",
       "      <td>False</td>\n",
       "      <td>False</td>\n",
       "      <td>Compounding Pharmacy</td>\n",
       "      <td>91406.0</td>\n",
       "      <td>34.195685</td>\n",
       "      <td>-118.490752</td>\n",
       "    </tr>\n",
       "    <tr>\n",
       "      <th>31</th>\n",
       "      <td>ALHAMBRA HOSPITAL MEDICAL CENTER</td>\n",
       "      <td>LSC 99917</td>\n",
       "      <td>Sterile Compounding Pharmacy</td>\n",
       "      <td>CLEAR</td>\n",
       "      <td>2025-01-01</td>\n",
       "      <td>ALHAMBRA</td>\n",
       "      <td>California</td>\n",
       "      <td>LOS ANGELES</td>\n",
       "      <td>91801</td>\n",
       "      <td>False</td>\n",
       "      <td>False</td>\n",
       "      <td>False</td>\n",
       "      <td>True</td>\n",
       "      <td>False</td>\n",
       "      <td>Hospital or Med Center</td>\n",
       "      <td>91801.0</td>\n",
       "      <td>34.090728</td>\n",
       "      <td>-118.127527</td>\n",
       "    </tr>\n",
       "    <tr>\n",
       "      <th>32</th>\n",
       "      <td>ALHAMBRA HOSPITAL MEDICAL CENTER</td>\n",
       "      <td>LSC 101472</td>\n",
       "      <td>Sterile Compounding Pharmacy</td>\n",
       "      <td>CLEAR</td>\n",
       "      <td>2025-01-01</td>\n",
       "      <td>ALHAMBRA</td>\n",
       "      <td>California</td>\n",
       "      <td>LOS ANGELES</td>\n",
       "      <td>91801</td>\n",
       "      <td>False</td>\n",
       "      <td>False</td>\n",
       "      <td>False</td>\n",
       "      <td>True</td>\n",
       "      <td>False</td>\n",
       "      <td>Hospital or Med Center</td>\n",
       "      <td>91801.0</td>\n",
       "      <td>34.090728</td>\n",
       "      <td>-118.127527</td>\n",
       "    </tr>\n",
       "    <tr>\n",
       "      <th>33</th>\n",
       "      <td>ALLIANCERX WALGREENS PHARMACY #15443</td>\n",
       "      <td>NSC 100917</td>\n",
       "      <td>Nonresident Sterile Compounding Pharmacy</td>\n",
       "      <td>CLEAR</td>\n",
       "      <td>2025-04-01</td>\n",
       "      <td>FRISCO</td>\n",
       "      <td>Texas</td>\n",
       "      <td>OUT OF STATE</td>\n",
       "      <td>75033</td>\n",
       "      <td>False</td>\n",
       "      <td>False</td>\n",
       "      <td>False</td>\n",
       "      <td>False</td>\n",
       "      <td>False</td>\n",
       "      <td>Compounding Pharmacy</td>\n",
       "      <td>NaN</td>\n",
       "      <td>NaN</td>\n",
       "      <td>NaN</td>\n",
       "    </tr>\n",
       "    <tr>\n",
       "      <th>34</th>\n",
       "      <td>ALLIANCERX WALGREENS PHARMACY #16287</td>\n",
       "      <td>NSC 101051</td>\n",
       "      <td>Nonresident Sterile Compounding Pharmacy</td>\n",
       "      <td>CLEAR</td>\n",
       "      <td>2025-11-01</td>\n",
       "      <td>PITTSBURGH</td>\n",
       "      <td>Pennsylvania</td>\n",
       "      <td>OUT OF STATE</td>\n",
       "      <td>15275</td>\n",
       "      <td>False</td>\n",
       "      <td>False</td>\n",
       "      <td>False</td>\n",
       "      <td>False</td>\n",
       "      <td>False</td>\n",
       "      <td>Compounding Pharmacy</td>\n",
       "      <td>NaN</td>\n",
       "      <td>NaN</td>\n",
       "      <td>NaN</td>\n",
       "    </tr>\n",
       "    <tr>\n",
       "      <th>35</th>\n",
       "      <td>ALTA BATES SUMMIT MED CTR HERRICK INFUSION PHA...</td>\n",
       "      <td>LSC 101302</td>\n",
       "      <td>Sterile Compounding Pharmacy</td>\n",
       "      <td>CLEAR</td>\n",
       "      <td>2025-07-01</td>\n",
       "      <td>BERKELEY</td>\n",
       "      <td>California</td>\n",
       "      <td>ALAMEDA</td>\n",
       "      <td>94704</td>\n",
       "      <td>False</td>\n",
       "      <td>False</td>\n",
       "      <td>True</td>\n",
       "      <td>True</td>\n",
       "      <td>False</td>\n",
       "      <td>Hospital or Med Center</td>\n",
       "      <td>94704.0</td>\n",
       "      <td>37.866536</td>\n",
       "      <td>-122.257996</td>\n",
       "    </tr>\n",
       "    <tr>\n",
       "      <th>36</th>\n",
       "      <td>ALTA BATES SUMMIT MEDICAL CENTER - ALTA BATES ...</td>\n",
       "      <td>LSC 101192</td>\n",
       "      <td>Sterile Compounding Pharmacy</td>\n",
       "      <td>CLEAR</td>\n",
       "      <td>2025-03-01</td>\n",
       "      <td>BERKELEY</td>\n",
       "      <td>California</td>\n",
       "      <td>ALAMEDA</td>\n",
       "      <td>94705</td>\n",
       "      <td>False</td>\n",
       "      <td>False</td>\n",
       "      <td>False</td>\n",
       "      <td>True</td>\n",
       "      <td>False</td>\n",
       "      <td>Hospital or Med Center</td>\n",
       "      <td>94705.0</td>\n",
       "      <td>37.865183</td>\n",
       "      <td>-122.238209</td>\n",
       "    </tr>\n",
       "    <tr>\n",
       "      <th>37</th>\n",
       "      <td>ALTA BATES SUMMIT MEDICAL CENTER - SUMMIT CAMP...</td>\n",
       "      <td>LSC 101187</td>\n",
       "      <td>Sterile Compounding Pharmacy</td>\n",
       "      <td>CLEAR</td>\n",
       "      <td>2025-03-01</td>\n",
       "      <td>OAKLAND</td>\n",
       "      <td>California</td>\n",
       "      <td>ALAMEDA</td>\n",
       "      <td>94609</td>\n",
       "      <td>False</td>\n",
       "      <td>False</td>\n",
       "      <td>False</td>\n",
       "      <td>True</td>\n",
       "      <td>False</td>\n",
       "      <td>Hospital or Med Center</td>\n",
       "      <td>94609.0</td>\n",
       "      <td>37.834403</td>\n",
       "      <td>-122.264368</td>\n",
       "    </tr>\n",
       "    <tr>\n",
       "      <th>38</th>\n",
       "      <td>AMBROSIA HEALTHCARE INC</td>\n",
       "      <td>LSC 99935</td>\n",
       "      <td>Sterile Compounding Pharmacy</td>\n",
       "      <td>CLEAR</td>\n",
       "      <td>2025-06-01</td>\n",
       "      <td>PALM DESERT</td>\n",
       "      <td>California</td>\n",
       "      <td>RIVERSIDE</td>\n",
       "      <td>92211</td>\n",
       "      <td>False</td>\n",
       "      <td>False</td>\n",
       "      <td>False</td>\n",
       "      <td>False</td>\n",
       "      <td>False</td>\n",
       "      <td>Compounding Pharmacy</td>\n",
       "      <td>92211.0</td>\n",
       "      <td>33.765401</td>\n",
       "      <td>-116.334205</td>\n",
       "    </tr>\n",
       "    <tr>\n",
       "      <th>39</th>\n",
       "      <td>AMERICAN OUTCOMES MANAGEMENT, LP DBA AOM INFUSION</td>\n",
       "      <td>NSC 101746</td>\n",
       "      <td>Nonresident Sterile Compounding Pharmacy</td>\n",
       "      <td>CLEAR</td>\n",
       "      <td>2025-02-01</td>\n",
       "      <td>FORTH WORTH</td>\n",
       "      <td>Texas</td>\n",
       "      <td>OUT OF STATE</td>\n",
       "      <td>76109</td>\n",
       "      <td>False</td>\n",
       "      <td>False</td>\n",
       "      <td>True</td>\n",
       "      <td>False</td>\n",
       "      <td>False</td>\n",
       "      <td>Infusion Services</td>\n",
       "      <td>76109.0</td>\n",
       "      <td>32.700650</td>\n",
       "      <td>-97.386965</td>\n",
       "    </tr>\n",
       "    <tr>\n",
       "      <th>40</th>\n",
       "      <td>AMERICAN RIVER INFUSION SERVICES</td>\n",
       "      <td>LSC 101698</td>\n",
       "      <td>Sterile Compounding Pharmacy</td>\n",
       "      <td>CLEAR</td>\n",
       "      <td>2025-09-01</td>\n",
       "      <td>SACRAMENTO</td>\n",
       "      <td>California</td>\n",
       "      <td>SACRAMENTO</td>\n",
       "      <td>95834</td>\n",
       "      <td>False</td>\n",
       "      <td>False</td>\n",
       "      <td>True</td>\n",
       "      <td>False</td>\n",
       "      <td>False</td>\n",
       "      <td>Infusion Services</td>\n",
       "      <td>95834.0</td>\n",
       "      <td>38.635653</td>\n",
       "      <td>-121.518416</td>\n",
       "    </tr>\n",
       "    <tr>\n",
       "      <th>41</th>\n",
       "      <td>AMERIPHARMA</td>\n",
       "      <td>LSC 100895</td>\n",
       "      <td>Sterile Compounding Pharmacy</td>\n",
       "      <td>CLEAR</td>\n",
       "      <td>2025-01-01</td>\n",
       "      <td>ORANGE</td>\n",
       "      <td>California</td>\n",
       "      <td>ORANGE</td>\n",
       "      <td>92868</td>\n",
       "      <td>False</td>\n",
       "      <td>False</td>\n",
       "      <td>False</td>\n",
       "      <td>False</td>\n",
       "      <td>False</td>\n",
       "      <td>Compounding Pharmacy</td>\n",
       "      <td>92868.0</td>\n",
       "      <td>33.788145</td>\n",
       "      <td>-117.876550</td>\n",
       "    </tr>\n",
       "    <tr>\n",
       "      <th>42</th>\n",
       "      <td>ANTELOPE VALLEY MEDICAL CENTER IV ROOM</td>\n",
       "      <td>LSE 101481</td>\n",
       "      <td>Sterile Compounding Pharmacy (Government Owned)</td>\n",
       "      <td>CLEAR</td>\n",
       "      <td>2025-08-01</td>\n",
       "      <td>LANCASTER</td>\n",
       "      <td>California</td>\n",
       "      <td>LOS ANGELES</td>\n",
       "      <td>93534</td>\n",
       "      <td>True</td>\n",
       "      <td>False</td>\n",
       "      <td>False</td>\n",
       "      <td>True</td>\n",
       "      <td>False</td>\n",
       "      <td>Hospital or Med Center</td>\n",
       "      <td>93534.0</td>\n",
       "      <td>34.713292</td>\n",
       "      <td>-118.152920</td>\n",
       "    </tr>\n",
       "    <tr>\n",
       "      <th>43</th>\n",
       "      <td>ARROWHEAD REGIONAL MEDICAL CENTER PHARMACY</td>\n",
       "      <td>LSE 99997</td>\n",
       "      <td>Sterile Compounding Pharmacy (Government Owned)</td>\n",
       "      <td>CLEAR</td>\n",
       "      <td>2025-10-01</td>\n",
       "      <td>COLTON</td>\n",
       "      <td>California</td>\n",
       "      <td>SAN BERNARDINO</td>\n",
       "      <td>92324</td>\n",
       "      <td>True</td>\n",
       "      <td>False</td>\n",
       "      <td>False</td>\n",
       "      <td>True</td>\n",
       "      <td>False</td>\n",
       "      <td>Hospital or Med Center</td>\n",
       "      <td>92324.0</td>\n",
       "      <td>34.024520</td>\n",
       "      <td>-117.289255</td>\n",
       "    </tr>\n",
       "    <tr>\n",
       "      <th>44</th>\n",
       "      <td>BAKERSFIELD MEMORIAL HOSPITAL</td>\n",
       "      <td>LSC 101845</td>\n",
       "      <td>Sterile Compounding Pharmacy</td>\n",
       "      <td>CLEAR</td>\n",
       "      <td>2025-01-01</td>\n",
       "      <td>BAKERSFIELD</td>\n",
       "      <td>California</td>\n",
       "      <td>KERN</td>\n",
       "      <td>93301</td>\n",
       "      <td>False</td>\n",
       "      <td>False</td>\n",
       "      <td>False</td>\n",
       "      <td>True</td>\n",
       "      <td>False</td>\n",
       "      <td>Hospital or Med Center</td>\n",
       "      <td>93301.0</td>\n",
       "      <td>35.384336</td>\n",
       "      <td>-119.020562</td>\n",
       "    </tr>\n",
       "    <tr>\n",
       "      <th>45</th>\n",
       "      <td>BAKERSFIELD MEMORIAL HOSPITAL PHARMACY</td>\n",
       "      <td>LSC 101683</td>\n",
       "      <td>Sterile Compounding Pharmacy</td>\n",
       "      <td>CLEAR</td>\n",
       "      <td>2025-01-01</td>\n",
       "      <td>BAKERSFIELD</td>\n",
       "      <td>California</td>\n",
       "      <td>KERN</td>\n",
       "      <td>93301</td>\n",
       "      <td>False</td>\n",
       "      <td>False</td>\n",
       "      <td>False</td>\n",
       "      <td>True</td>\n",
       "      <td>False</td>\n",
       "      <td>Hospital or Med Center</td>\n",
       "      <td>93301.0</td>\n",
       "      <td>35.384336</td>\n",
       "      <td>-119.020562</td>\n",
       "    </tr>\n",
       "    <tr>\n",
       "      <th>46</th>\n",
       "      <td>BAKERSFIELD REHABILITATION HOSPITAL</td>\n",
       "      <td>LSC 101703</td>\n",
       "      <td>Sterile Compounding Pharmacy</td>\n",
       "      <td>CLEAR</td>\n",
       "      <td>2025-02-01</td>\n",
       "      <td>BAKERSFIELD</td>\n",
       "      <td>California</td>\n",
       "      <td>KERN</td>\n",
       "      <td>93306</td>\n",
       "      <td>False</td>\n",
       "      <td>False</td>\n",
       "      <td>False</td>\n",
       "      <td>True</td>\n",
       "      <td>False</td>\n",
       "      <td>Hospital or Med Center</td>\n",
       "      <td>93306.0</td>\n",
       "      <td>35.468183</td>\n",
       "      <td>-118.779649</td>\n",
       "    </tr>\n",
       "    <tr>\n",
       "      <th>47</th>\n",
       "      <td>BANNER LASSEN MEDICAL CENTER 1ST FLOOR ROOM 523</td>\n",
       "      <td>LSC 100034</td>\n",
       "      <td>Sterile Compounding Pharmacy</td>\n",
       "      <td>CLEAR</td>\n",
       "      <td>2025-03-01</td>\n",
       "      <td>SUSANVILLE</td>\n",
       "      <td>California</td>\n",
       "      <td>LASSEN</td>\n",
       "      <td>96130</td>\n",
       "      <td>False</td>\n",
       "      <td>False</td>\n",
       "      <td>False</td>\n",
       "      <td>True</td>\n",
       "      <td>False</td>\n",
       "      <td>Hospital or Med Center</td>\n",
       "      <td>96130.0</td>\n",
       "      <td>40.551757</td>\n",
       "      <td>-120.675673</td>\n",
       "    </tr>\n",
       "    <tr>\n",
       "      <th>48</th>\n",
       "      <td>BARLOW HOSPITAL PHARMACY</td>\n",
       "      <td>LSC 101656</td>\n",
       "      <td>Sterile Compounding Pharmacy</td>\n",
       "      <td>CLEAR</td>\n",
       "      <td>2025-07-01</td>\n",
       "      <td>LOS ANGELES</td>\n",
       "      <td>California</td>\n",
       "      <td>LOS ANGELES</td>\n",
       "      <td>90026</td>\n",
       "      <td>False</td>\n",
       "      <td>False</td>\n",
       "      <td>False</td>\n",
       "      <td>True</td>\n",
       "      <td>False</td>\n",
       "      <td>Hospital or Med Center</td>\n",
       "      <td>90026.0</td>\n",
       "      <td>34.080017</td>\n",
       "      <td>-118.262643</td>\n",
       "    </tr>\n",
       "    <tr>\n",
       "      <th>49</th>\n",
       "      <td>BARSTOW COMMUNITY HOSPITAL</td>\n",
       "      <td>LSC 101582</td>\n",
       "      <td>Sterile Compounding Pharmacy</td>\n",
       "      <td>CLEAR</td>\n",
       "      <td>2025-07-01</td>\n",
       "      <td>BARSTOW</td>\n",
       "      <td>California</td>\n",
       "      <td>SAN BERNARDINO</td>\n",
       "      <td>92311</td>\n",
       "      <td>False</td>\n",
       "      <td>False</td>\n",
       "      <td>False</td>\n",
       "      <td>True</td>\n",
       "      <td>False</td>\n",
       "      <td>Hospital or Med Center</td>\n",
       "      <td>92311.0</td>\n",
       "      <td>34.980294</td>\n",
       "      <td>-116.964449</td>\n",
       "    </tr>\n",
       "  </tbody>\n",
       "</table>\n",
       "</div>"
      ]
     },
     "execution_count": 128,
     "metadata": {},
     "output_type": "execute_result"
    }
   ],
   "execution_count": 128
  },
  {
   "metadata": {},
   "cell_type": "markdown",
   "source": "### WHERE are the licensed Sterile Compounding Pharmacies located within the US? ",
   "id": "50ad928cee437501"
  },
  {
   "metadata": {
    "ExecuteTime": {
     "end_time": "2024-12-15T18:53:46.966138Z",
     "start_time": "2024-12-15T18:53:46.839512Z"
    }
   },
   "cell_type": "code",
   "source": [
    "# Step 2: Create the map\n",
    "fig = px.scatter_mapbox(\n",
    "    all_pharmacies,\n",
    "    lat=\"LAT\",\n",
    "    lon=\"LNG\",\n",
    "    hover_name=\"Pharmacy Name\",  # Pharmacy name shown on hover\n",
    "    zoom=3,  # Adjust zoom level for a national view\n",
    "    center={\"lat\": 37.0902, \"lon\": -95.7129},  # Center on the US\n",
    "    mapbox_style=\"open-street-map\",  # Use a free map style\n",
    "    title=\"Pharmacies in the US\"\n",
    ")\n",
    "\n",
    "# Step 3: Update the figure layout for better aspect ratio\n",
    "fig.update_layout(\n",
    "    autosize=True,  # Automatically adjust to screen size\n",
    "    margin={\"r\":0,\"t\":0,\"l\":0,\"b\":0},  # Remove excessive margins\n",
    "    height=800  # Set a height to ensure the map is not squished\n",
    ")\n",
    "\n",
    "# Step 4: Show the plot\n",
    "fig.show()\n"
   ],
   "id": "2c0114bfb6b15ad7",
   "outputs": [
    {
     "data": {
      "application/vnd.plotly.v1+json": {
       "data": [
        {
         "hovertemplate": "<b>%{hovertext}</b><br><br>LAT=%{lat}<br>LNG=%{lon}<extra></extra>",
         "hovertext": [
          "986 INFUSION PHARMACY #1 INC",
          "A & O SPECIALTY PHARMACY",
          "ACCREDO HEALTH GROUP INC",
          "ACCREDO HEALTH GROUP INC",
          "ADVANCE CARE PHARMACY",
          "ADVENTIST HEALTH AIS CANCER CENTER PHARMACY",
          "ADVENTIST HEALTH AND RIDEOUT",
          "ADVENTIST HEALTH AND RIDEOUT",
          "ADVENTIST HEALTH BAKERSFIELD - HOSPITAL PHARMACY",
          "ADVENTIST HEALTH DELANO",
          "ADVENTIST HEALTH GLENDALE",
          "ADVENTIST HEALTH HANFORD",
          "ADVENTIST HEALTH HOWARD MEMORIAL",
          "ADVENTIST HEALTH LODI MEMORIAL HOSPITAL PHARMACY 1STFLR NORTHWING",
          "ADVENTIST HEALTH MENDOCINO COAST",
          "ADVENTIST HEALTH SIMI VALLEY",
          "ADVENTIST HEALTH SIMI VALLEY",
          "ADVENTIST HEALTH SONORA",
          "ADVENTIST HEALTH SONORA-PHARMACY",
          "ADVENTIST HEALTH SPECIALTY BAKERSFIELD",
          "ADVENTIST HEALTH ST HELENA HOSPITAL CANCER CENTER PHARMACY",
          "ADVENTIST HEALTH ST HELENA HOSPITAL INPATIENT PHARMACY",
          "ADVENTIST HEALTH TEHACHAPI VALLEY",
          "ADVENTIST HEALTH TULARE",
          "ADVENTIST HEALTH UKIAH VALLEY",
          "ADVENTIST HEALTH WHITE MEMORIAL MONTEBELLO",
          "AHMC ANAHEIM REGIONAL MEDICAL CENTER - MAIN PHARMACY",
          "AHMC SETON MEDICAL CENTER LLC",
          "ALAMEDA HOSPITAL",
          "ALERACARE PHARMACY",
          "ALERACARE PHARMACY CALIFORNIA",
          "ALHAMBRA HOSPITAL MEDICAL CENTER",
          "ALHAMBRA HOSPITAL MEDICAL CENTER",
          "ALLIANCERX WALGREENS PHARMACY #15443",
          "ALLIANCERX WALGREENS PHARMACY #16287",
          "ALTA BATES SUMMIT MED CTR HERRICK INFUSION PHARMACY",
          "ALTA BATES SUMMIT MEDICAL CENTER - ALTA BATES CAMPUS",
          "ALTA BATES SUMMIT MEDICAL CENTER - SUMMIT CAMPUS RM G744",
          "AMBROSIA HEALTHCARE INC",
          "AMERICAN OUTCOMES MANAGEMENT, LP DBA AOM INFUSION",
          "AMERICAN RIVER INFUSION SERVICES",
          "AMERIPHARMA",
          "ANTELOPE VALLEY MEDICAL CENTER IV ROOM",
          "ARROWHEAD REGIONAL MEDICAL CENTER PHARMACY",
          "BAKERSFIELD MEMORIAL HOSPITAL",
          "BAKERSFIELD MEMORIAL HOSPITAL PHARMACY",
          "BAKERSFIELD REHABILITATION HOSPITAL",
          "BANNER LASSEN MEDICAL CENTER 1ST FLOOR ROOM 523",
          "BARLOW HOSPITAL PHARMACY",
          "BARSTOW COMMUNITY HOSPITAL",
          "BARTON MEMORIAL HOSPITAL PHARMACY",
          "BASIC HOME INFUSION INC",
          "BCP VETERINARY PHARMACY",
          "BEAR VALLEY COMMUNITY HOSPITAL",
          "BECKMAN RESEARCH INSTITUTE OF THE CITY OF HOPE",
          "BIOLOGIC INFUSION PHARMACY",
          "BIOMED CALIFORNIA INC",
          "BIOPLUS SPECIALTY INFUSION CA, LLC",
          "BIOSCRIP INFUSION SERVICES",
          "BOND PHARMACY INC DBA ADVANCED INFUSION SOLUTIONS",
          "BOND PHARMACY INC DBA ADVANCED INFUSION SOLUTIONS",
          "BOOTHWYN PHARMACY LLC",
          "BOWYER PHARMACY",
          "BROOKS HEALTH CARE",
          "CA PACIFIC MED CTR PHY - DAVIES CAMPUS",
          "CALIFORNIA HOSPITAL MEDICAL CENTER",
          "CALIFORNIA REHABILITATION INSTITUTE LLC 9TH FLOOR",
          "CALIFORNIA SPECIALTY PHARMACY LLC",
          "CARDINAL HEALTH",
          "CARDINAL HEALTH",
          "CARDINAL HEALTH 414 LLC",
          "CARDINAL HEALTH 414, LLC",
          "CARDINAL HEALTH 414,LLC",
          "CARDINAL HEALTH 414,LLC",
          "CARDINAL HEALTH 414,LLC",
          "CARDINAL HEALTH 414,LLC",
          "CARDINAL HEALTH 414,LLC",
          "CARDINAL HEALTH 414,LLC",
          "CARDINAL HEALTH 414,LLC",
          "CARDINAL HEALTH_414,LLC",
          "CARDINAL HEALTH_414,LLC",
          "CAREMARK ILLINOIS SPECIALTY PHARMACY, LLC DBA CVS/SPECIALTY OR",
          "CASA COLINA HOSPITAL PHARMACY",
          "CD PHARMACY LLC DBA RED ROCK PHARMACY",
          "CEDARS SINAI MEDICAL CENTER - CENTRAL PHARMACY MAIN SOUTH TOWER",
          "CEDARS SINAI MEDICAL CENTER - MARK TAPER",
          "CEDARS-SANAI TOWER HEMATOLOGY ONCOLOGY PHARMACY",
          "CEDARS-SINAI MEDICAL CENTER -4TH FLOOR MAIN: 4407-4408",
          "CEDARS-SINAI MEDICAL CENTER AHSP PLAZA LEVEL ROOM A2403",
          "CEDARS-SINAI MEDICAL CENTER ASHP",
          "CEDARS-SINAI MEDICAL CENTER PHARMACY #6",
          "CEDARS-SINAI MEDICAL CENTER PHY #4",
          "CEDARS-SINAI TOWER HEMATOLOGY ONCOLOGY PHARMACY",
          "CENTINELA HOSPITAL MEDICAL CENTER",
          "CENTRAL ADMIXTURE PHARMACY SERVICES INC",
          "CENTRAL ADMIXTURE PHARMACY SERVICES INC",
          "CENTRAL VALLEY SPECIALTY HOSPITAL - PHARMACY IV ROOM",
          "CFHS HOLDINGS INC DBA CEDARS SINAI MARINA DEL REY HOSPITAL",
          "CHA HOLLYWOOD PRESBYTERIAN MEDICAL CENTER INPATIENT PHARMACY IV R",
          "CHAPMAN GLOBAL MEDICAL CENTER INC",
          "CHEMIQUE PHARMACEUTICALS INC",
          "CHEMIQUE PHARMACEUTICALS INC",
          "CHILDREN'S HOSPITAL & HEALTH CENTER PHARMACY",
          "CHILDREN'S HOSPITAL & HEALTH CENTER PHARMACY",
          "CHILDREN'S HOSPITAL & RESEARCH CENTER AT OAKLAND",
          "CHILDREN'S HOSPITAL OF ORANGE COUNTY",
          "CHILDREN'S HOSPITAL OF ORANGE COUNTY HOSPITAL PHARMACY 6TH FLOOR",
          "CHILDREN'S HOSPITAL OF ORANGE COUNTY HOSPITAL PHARMACY INPATIENT",
          "CHILDREN'S HOSPITAL OF ORANGE COUNTY HOSPITAL PHARMACY OR SATELLI",
          "CHILDREN'S HOSPITAL PHARMACY - 4TH FLOOR 4A80",
          "CHILDRENS HOSPITAL OF ORANGE COUNTY",
          "CHILDRENS HOSPITAL PHARMACY - 2ND FLOOR 2A80",
          "CHILDRENS HOSPITAL PHARMACY - INPATIENT PHARMACY",
          "CHILDRENS HOSPITAL PHARMACY - OR SATELITE RM 2074",
          "CHILDRENS HOSPITAL PHARMACY - SATELITE EMERGENCY DEPT RM 0A66",
          "CHILDRENS HOSPITAL PHARMACY - SATELITE PAGE INFUSION CENTER P2-10",
          "CHILDRENS VILLAGE PHARMACY",
          "CHINESE HOSPITAL PHARMACY",
          "CHINO VALLEY MEDICAL CENTER",
          "CITY OF HOPE BRISKIN CENTER FOR CLINICAL RESEARCH  (Previous Name)",
          "CITRUS PHARMACY",
          "CITY OF HOPE CORONA",
          "CITY OF HOPE DUARTE BRISKIN",
          "CITY OF HOPE DUARTE HELFORD2",
          "CITY OF HOPE DUARTE HP8",
          "CITY OF HOPE DUARTE NW1202",
          "CITY OF HOPE DUARTE NW1252",
          "CITY OF HOPE ORANGE COUNTY",
          "CITY OF HOPE SEACLIFF",
          "CITY OF HOPE SOUTH BAY",
          "CITY OF HOPE UPLAND",
          "CLINISHARE PHARMACY",
          "CLOVIS COMMUNITY HOSPITAL PHARMACY - ED SATELLITE",
          "CLOVIS COMMUNITY HOSPITAL PHARMACY - ICU SATELLITE",
          "CLOVIS COMMUNITY HOSPITAL PHARMACY - MAIN PHARMACY",
          "COALINGA REGIONAL MEDICAL CENTER",
          "COAST PLAZA HOSPITAL",
          "COAST QUALITY PHARMACY LLC D/B/A ANAZAOHEALTH",
          "COLLEGE HOSPITAL OF COSTA MESA IV HOOD (BARRIER ISOLATOR) LOCATED",
          "COLLEGE MEDICAL CENTER",
          "COMMUNITY CANCER CENTER INFUSION PHARMACY",
          "COMMUNITY HOME INFUSION",
          "COMMUNITY HOSPITAL OF HUNTINGTON PARK",
          "COMMUNITY HOSPITAL OF SAN BERNARDINO",
          "COMMUNITY HOSPITAL OF THE MONTEREY PENINSULA",
          "COMMUNITY MEMORIAL HOSPITAL OF SAN BUENA VENTURA MAIN PHARMACY",
          "COMPLETE INFUSION CARE",
          "CONSONUS PHARMACY SERVICES CA NORTH LLC",
          "CONTRA COSTA REG MED CTR OUTPATIENT PHY",
          "CONTRA COSTA REG MEDICAL CTR HOSPITAL PHARMACY",
          "CONVERSIO HEALTH",
          "CORAM CVS/SPECIALTY INFUSION SERVICES",
          "CORAM CVS/SPECIALTY INFUSION SERVICES",
          "CORAM CVS/SPECIALTY INFUSION SERVICES",
          "CORAM HEALTHCARE CORPORATION OF NEVADA DBA CORAM CVS/SPECIALTY IN",
          "CORONA REGIONAL MEDICAL CENTER MAIN PHARMACY ON 1ST FLOOR",
          "COVETRUS NORTH AMERICA, LLC",
          "CPMC MISSION BERNAL CAMPUS PHARMACY",
          "CPMC VAN NESS CAMPUS 5TH FLOOR SATELLITE PHARMACY",
          "CPMC VAN NESS CAMPUS PHARMACY",
          "CRESCENT HEALTHCARE INC DBA CRESCENT HEALTHCARE",
          "CRESCENT HEALTHCARE INC DBA CRESCENT HEALTHCARE",
          "CRESCENT HEALTHCARE INC DBA CRESCENT HEALTHCARE",
          "CRESCENT HEALTHCARE INC DBA CRESCENT HEALTHCARE",
          "CRMC INFUSION CENTER - CLOVIS",
          "CURE STAT RX",
          "CVS/SPECIALTY OR CARELONRX SPECIALTY PHARMACY",
          "DAMERON HOSPITAL PHARMACY",
          "DCRX INFUSION PATIENT CARE AMERICA",
          "DEL'S PHARMACY I",
          "DESERT REGIONAL MED CTR COMP CANCER CTR",
          "DESERT REGIONAL MEDICAL CENTER - INPATIENT PHARMACY",
          "DESERT REGIONAL MEDICAL CENTER COMPREHENSIVE CANCER CENTER",
          "DESERT VALLEY HOSPITAL",
          "DESERT VALLEY HOSPITAL",
          "DIAMOND DRUGS INC",
          "DIGNITY HEALTH BAKERSFIELD INFUSION CENTER",
          "DIGNITY HEALTH BAKERSFIELD INFUSION CENTER",
          "DIGNITY HEALTH HOME INFUSION SERVICES",
          "DIGNITY HEALTH INFUSION CENTER CAMARILLO",
          "DIGNITY HEALTH INFUSION CENTER OXNARD",
          "DIGNITY HEALTH INFUSION CENTER VENTURA",
          "DIGNITY HEALTH MERCY ONCOLOGY CENTER PHARMACY",
          "DM CLINICAL COLLABORATIONS DBA INFUCARE RX",
          "DOCTORS HOSPITAL OF MANTECA",
          "DOCTORS HOSPTIAL OF RIVERSIDE",
          "DOCTORS MEDICAL CENTER OF MODESTO",
          "DOMINICAN HOSPITAL INFUSION CENTER",
          "DOMINICAN HOSPITAL PHARMACY",
          "DWAYNE'S FRIENDLY PHARMACY",
          "DYNAMIC RX LABS LLC",
          "EARL & LORAINE MILLER CHILDRENS HOSPITAL",
          "EAST LOS ANGELES DOCTORS HOSPITAL",
          "EDEN MEDICAL CENTER",
          "EISENHOWER MEDICAL CENTER - HOSPITAL LOWER LEVEL",
          "EISENHOWER MEDICAL CENTER - LUCY CURCI PHARMACY",
          "EISENHOWER MEDICAL CENTER YUCCA VALLEY",
          "EL CAMINO HOSPITAL - LOS GATOS",
          "EL CAMINO HOSPITAL CANCER CENTER",
          "EL CAMINO HOSPITAL LOS GATOS CANCER CENTER",
          "EL CAMINO HOSPITAL PHARMACY",
          "EL CAMINO HOSPITAL PHARMACY COMPOUNDING ROOM GB 512",
          "EL CAMINO HOSPITAL- LOS GATOS",
          "EL CENTRO REGIONAL MEDICAL CENTER PHARMACY",
          "EL CENTRO REGIONAL MEDICAL CENTER PHARMACY ECRMC PHARMACY ONCOLOG",
          "EL CENTRO REGIONAL MEDICAL CENTER PHY",
          "ELEVARE SPECIALTY SERVICES",
          "EMANATE HEALTH FOOTHILL PRESBYTERIAN HOSPITAL",
          "EMANATE HEALTH INTER-COMMUNITY MAIN PHARMACY (BASEMENT)",
          "EMANATE HEALTH QUEEN OF THE VALLEY HOSPITAL",
          "EMANATE HEALTH QUEEN OF THE VALLEY HOSPITAL MAIN PHARMACY BASEMEN",
          "EMANATE HEALTH QUEEN OF THE VALLEY HOSPITAL ROOM 249",
          "EMANATE HEALTH QUEEN OF THE VALLEY HOSPITAL ROOM 250",
          "EMANUEL MEDICAL CENTER",
          "EMANUEL SPECIALTY CLINIC MEDICAL ONCOLOGY PHARMACY",
          "ENCINO HOSPITAL MEDICAL CENTER PHARMACY",
          "ENCINO PHARMACY",
          "ENCOMPASS HEALTH REHABILITATION HOSPITAL OF BAKERSFIELD",
          "ENLOE MEDICAL CENTER",
          "ENLOE MEDICAL CENTER CANCER CENTER",
          "ENOVEX PHARMACY",
          "FAIRCHILD MEDICAL CENTER PHARMACY",
          "FIRESIDE PHARMACY",
          "FIRST CALL PHARMACY LLC",
          "FOOTHILL REGIONAL MEDICAL CENTER",
          "FRENCH HOSPITAL MEDICAL CENTER FIRST FLOOR",
          "FRESNO COMM MED CTR",
          "FRESNO COMM MED CTR PHARMACY 4TH FLOOR, 10-STORY BLDG, NEONATAL I",
          "FRESNO COMM MED CTR PHARMACY 5TH FLOOR, TCCB BLDG, INTENSIVE CARE",
          "FRESNO HEART AND SURGICAL HOSPITAL BAKER SG403 & EG4252",
          "FRESNO SURGICAL HOSPITAL STERILE PHARMACY 2ND FLOOR",
          "GARDEN GROVE HOSPITAL AND MEDICAL CENTER",
          "GARFIELD HOSPITAL MEDICAL CENTER 2ND FLOOR",
          "GLENDALE MEMORIAL HOSPITAL & HEALTH CENTER",
          "GLENN MEDICAL CENTER",
          "GMT PHARMACY",
          "GOLETA VALLEY COTTAGE HOSPITAL",
          "GOOD SAMARITAN HOSPITAL PHARMACY",
          "GOOD SAMARITAN HOSPITAL, LP",
          "GREATER EL MONTE COMMUNITY HOSPITAL PHARMACY IV ROOM",
          "GROSSMONT HOSPITAL PHARMACY HEART & VASCULAR TOWER LEVEL A",
          "HARTLEY MEDICAL CENTER PHARMACY INC",
          "HAZEL HAWKINS MEMORIAL HOSPITAL PHARMACY",
          "HEALDSBURG HOSPITAL",
          "HEALIX INFUSION THERAPY LLC",
          "HEARTLAND HOME INFUSIONS INC D.B.A HHI INFUSION SERVICES",
          "HEMET GLOBAL MEDICAL CENTER FIRST FLOOR PHARMACY",
          "HENRY MAYO NEWHALL HOSPITAL",
          "HI-DESERT MEDICAL CENTER HOSPITAL PHARMACY",
          "HIGHLAND CARE PAVILLION PHARMACY",
          "HIGHLAND HOSPITAL PHARMACY",
          "HOAG HOSPITAL IRVINE",
          "HOAG INFUSION CENTER PHARMACY",
          "HOAG MEMORIAL PRESBYTERIAN PHARMACY",
          "HOAG MEMORIAL PRESBYTERIAN PHARMACY",
          "HOPEWELL PHARMACY",
          "HOSPICARE PHARMACY INLAND EMPIRE",
          "HOSPICARE PHARMACY LOS ANGELES IV ROOM",
          "HUNTINGTON BEACH HOSPITAL",
          "HUNTINGTON HOSPITAL MAIN PHARMACY IV ROOM GROUND FLOOR",
          "HUNTINGTON HOSPITAL PEDIATRIC SATELLITE 1ST FLOOR",
          "HYGEIA LTC PHARMACY",
          "IMPRIMISRX",
          "INFUSERVE AMERICA INC",
          "INFUSION CARE PHARMACY NORTH",
          "INFUSION CENTER OF ARROYO GRANDE",
          "INFUSION CENTER OF SAN LUIS OBISPO",
          "INFUSION CONNECTIONS PHARMACY SERVICES INC",
          "INFUSIONRX",
          "INLAND VALLEY MEDICAL CENTER MAIN PHARMACY 1ST FLOOR",
          "INNOVATIVE COMPOUNDING PHARMACY",
          "INTEGRATED CARE SYSTEMS",
          "ISORX RADIOPHARMACY",
          "IV LEAGUE",
          "JOHN F KENNEDY MEMORIAL HOSPITAL",
          "JOHN MUIR HEALTH INFUSION PHARMACY",
          "JOHN MUIR MEDICAL CENTER",
          "JOHN MUIR MEDICAL CENTER CONCORD",
          "JOHN MUIR MEDICAL CENTER WALNUT CREEK",
          "JOHN MUIR MEDICAL CENTER WALNUT CREEK PEDIATRIC SATELLITE PHARM",
          "JUBILANT DRAXIMAGE INC DBA JUBILANT RADIOPHARMA",
          "JUBILANT DRAXIMAGE INC DBA JUBILANT RADIOPHARMA",
          "JUBILANT DRAXIMAGE INC DBA JUBILANT RADIOPHARMA",
          "KABAFUSION, LLC",
          "KABAFUSION, LLC",
          "KAISER FDN HSP INP DISCHARGE PHY 39A 394",
          "KAISER FDN HSP INP DISCHARGE PHY 39A 394",
          "KAISER FDN HSP INP DISCHARGE PHY 72A 726",
          "KAISER FDN HSP INP PHY 12A",
          "KAISER FDN HSP INP PHY 12A",
          "KAISER FDN HSP INP PHY 16A",
          "KAISER FDN HSP INP PHY 16A",
          "KAISER FDN HSP INP PHY 51A",
          "KAISER FDN HSP INP PHY 51A FL 2 RM 213",
          "KAISER FDN HSP INP PHY 51A FL 2 RM 23B13",
          "KAISER FDN HSP INP PHY 60A",
          "KAISER FDN HSP INP/OUT DIS PHY 63A 634",
          "KAISER FDN HSP INP/OUT HSP PHY 31A 315",
          "KAISER FDN HSP INP/OUT HSP PHY 31A 315",
          "KAISER FDN HSP INP/OUT HSP PHY 58A 584",
          "KAISER FDN HSP INP/OUT HSP PHY 58A 584 FL 2 RM N2000",
          "KAISER FDN HSP INP/OUT PHY 35A-355",
          "KAISER FDN HSP PHY 21A",
          "KAISER FDN HSP PHY 21A",
          "KAISER FOUND HOSP PHARMACY #49A",
          "KAISER FOUND HOSPITAL PHARMACY #054",
          "KAISER FOUND HOSPITAL PHARMACY #054 - FL-1, RM H13R32",
          "KAISER FOUND HOSPITAL PHARMACY #85A",
          "KAISER FOUND HOSPITAL PHRMCY #57A MAIN PHARMACY",
          "KAISER FOUND HOSPITAL PHRMCY #67A",
          "KAISER FOUND HOSPITAL PHRMCY #67A / 67B",
          "KAISER FOUND HOSPITAL PHY #58B",
          "KAISER FOUND HSP PHY #44B FLR 2 RM H2164",
          "KAISER FOUND HSP PHY #44B FLR 2 RM P2531A",
          "KAISER FOUND HSP PHY #44B MAIN PHARMACY",
          "KAISER FOUNDATION HLTH MOB 2 PHY #686",
          "KAISER FOUNDATION HOSPITAL",
          "KAISER FOUNDATION HOSPITAL 551",
          "KAISER FOUNDATION HOSPITAL 551 - MAIN",
          "KAISER FOUNDATION HOSPITAL IP MAIN PHARMACY",
          "KAISER FOUNDATION HOSPITAL MAIN PHARMACY ROOM  #1047",
          "KAISER FOUNDATION HOSPITAL PHARMACY",
          "KAISER FOUNDATION HOSPITAL PHARMACY",
          "KAISER FOUNDATION HOSPITAL PHARMACY #054 MAIN PHARMACY",
          "KAISER FOUNDATION HOSPITAL PHARMACY #10A MAIN PHARMACY",
          "KAISER FOUNDATION HOSPITAL PHARMACY #247",
          "KAISER FOUNDATION HOSPITAL PHARMACY #28B/282",
          "KAISER FOUNDATION HOSPITAL PHARMACY #367 MAIN PHARMACY",
          "KAISER FOUNDATION HOSPITAL PHARMACY #372 MAIN PHARMACY",
          "KAISER FOUNDATION HOSPITAL PHARMACY #37B/378 FL 3 MAIN PHARMACY",
          "KAISER FOUNDATION HOSPITAL PHARMACY #529",
          "KAISER FOUNDATION HOSPITAL PHARMACY #61A MAIN PHARMACY",
          "KAISER FOUNDATION HOSPITAL PHARMACY #63C",
          "KAISER FOUNDATION HOSPITAL PHARMACY #651",
          "KAISER FOUNDATION HOSPITAL PHARMACY #71B",
          "KAISER FOUNDATION HOSPITAL PHARMACY #751",
          "KAISER FOUNDATION HOSPITAL PHARMACY #85A",
          "KAISER FOUNDATION HOSPITAL PHARMACY #92A FL 2, RM 2228",
          "KAISER FOUNDATION HOSPITAL PHARMACY #92A MAIN PHARMACY",
          "KAISER FOUNDATION HOSPITAL PHARMACY - MAIN PHARMACY",
          "KAISER FOUNDATION HOSPITAL PHARMACY 151 - FL 2, RM 2126",
          "KAISER FOUNDATION HOSPITAL PHARMACY 151 - MAIN",
          "KAISER FOUNDATION HOSPITAL PHARMACY MAIN PHARMACY",
          "KAISER FOUNDATION HOSPITAL PHARMACY MAIN PHARMACY",
          "KAISER FOUNDATION HOSPITAL PHY #253 MAIN PHARMACY",
          "KAISER HEALTH PLAN PHARMACY NO 338",
          "KAISER HOSPITAL PHARMACY #59A FL-1 RM W1D06",
          "KAISER HOSPITAL PHARMACY #59A MAIN PHARMACY",
          "KAISER ONCOLOGY PHARMACY #060",
          "KAISER ONCOLOGY PHARMACY #104",
          "KAISER ONCOLOGY PHARMACY #247",
          "KAISER ONCOLOGY PHARMACY #520",
          "KAISER ONCOLOGY PHARMACY #573",
          "KAISER ONCOLOGY PHARMACY #598",
          "KAISER ONCOLOGY PHARMACY #680",
          "KAISER ONCOLOGY PHARMACY #854",
          "KAISER ONCOLOGY PHARMACY #868",
          "KAISER ONCOLOGY PHRMCY #081",
          "KAISER ONCOLOGY PHRMCY #170",
          "KAISER ONCOLOGY PHRMCY #638",
          "KAISER PERMANENTE HOME INFUSION PHARMACY #620",
          "KAISER PERMANENTE ONCOLOGY PHARMACY #014C",
          "KAISER PERMANENTE ONCOLOGY PHARMACY #168",
          "KAISER PERMANENTE ONCOLOGY PHARMACY #379",
          "KAISER PERMANENTE ONCOLOGY PHARMACY #675",
          "KAISER PERMANENTE PHARMACY #005C",
          "KAISER PERMANENTE PHARMACY #122C",
          "KAISER PERMANENTE PHARMACY #162",
          "KAISER PERMANENTE PHARMACY #171",
          "KAISER PERMANENTE PHARMACY #181",
          "KAISER PERMANENTE PHARMACY #221",
          "KAISER PERMANENTE PHARMACY #252",
          "KAISER PERMANENTE PHARMACY #257C",
          "KAISER PERMANENTE PHARMACY #260C",
          "KAISER PERMANENTE PHARMACY #271C",
          "KAISER PERMANENTE PHARMACY #305C - RM 4644",
          "KAISER PERMANENTE PHARMACY #363C",
          "KAISER PERMANENTE PHARMACY #374C",
          "KAISER PERMANENTE PHARMACY #376",
          "KAISER PERMANENTE PHARMACY #398",
          "KAISER PERMANENTE PHARMACY #401",
          "KAISER PERMANENTE PHARMACY #414",
          "KAISER PERMANENTE PHARMACY #514",
          "KAISER PERMANENTE PHARMACY #524C",
          "KAISER PERMANENTE PHARMACY #531C",
          "KAISER PERMANENTE PHARMACY #551C",
          "KAISER PERMANENTE PHARMACY #607",
          "KAISER PERMANENTE PHARMACY #612T2",
          "KAISER PERMANENTE PHARMACY #889C",
          "KAISER PERMANENTE PHARMACY #922",
          "KAISER PERMANENTE PHARMACY #979",
          "KAISER PERMANENTE PHY #193",
          "KAISER ZION ONCOLOGY PHARMACY #202C",
          "KAWEAH HEALTH ACEQUIA WING SATALITE PHARMACY",
          "KAWEAH HEALTH HOME INFUSION PHARMACY",
          "KAWEAH HEALTH MEDICAL CENTER PHARMACY",
          "KECK HOSPITAL OF USC - ARCADIA TREATMENT CENTER",
          "KECK HOSPITAL OF USC - NORRIS HEALTHCARE CENTER PHARMACY",
          "KECK HOSPITAL OF USC 3RD FLOOR PHARMACY",
          "KECK HOSPITAL OF USC 4TH FLOOR OR PHARMACY",
          "KECK HOSPITAL OF USC 9TH FLOOR PHARMACY",
          "KECK HOSPITAL OF USC MAIN PHARMACY",
          "KECK MEDICINE OF USC-NEWPORT PHARMACY",
          "KENTFIELD HOSPITAL",
          "KENTFIELD HOSPITAL SAN FRANCISCO",
          "KERN MEDICAL CENTER PHARMACY RM 1150",
          "KERN VALLEY HEALTHCARE DISTRICT",
          "KINDRED HOSPITAL BALDWIN PARK",
          "KINDRED HOSPITAL BREA",
          "KINDRED HOSPITAL LA MIRADA",
          "KINDRED HOSPITAL LOS ANGELES",
          "KINDRED HOSPITAL ONTARIO",
          "KINDRED HOSPITAL PARAMOUNT",
          "KINDRED HOSPITAL RANCHO",
          "KINDRED HOSPITAL RIVERSIDE",
          "KINDRED HOSPITAL SAN DIEGO",
          "KINDRED HOSPITAL SAN FRANCISCO BAY AREA",
          "KINDRED HOSPITAL SAN GABRIEL VALLEY",
          "KINDRED HOSPITAL SANTA ANA",
          "KINDRED HOSPITAL SOUTH BAY",
          "KINDRED HOSPITAL WESTMINSTER",
          "LA JOLLA DISCOUNT PHARMACY",
          "LA PALMA INTERCOMMUNITY HOSPITAL",
          "LA PALMA INTERCOMMUNITY HOSPITAL",
          "LAC HARBOR UCLA MEDICAL CENTER PHARMACY 3RD FLOOR SATELLITE",
          "LAC HARBOR UCLA MEDICAL CENTER PHARMACY 6TH FLOOR SATELLITE",
          "LAC HARBOR UCLA MEDICAL CENTER PHARMACY MAIN PHARMACY",
          "LAC HARBOR UCLA MEDICAL CENTER PHARMACY SE 1H09",
          "LEE SILSBY COMPOUNDING PHARMACY",
          "LLUMC - EAST CAMPUS HOSPITAL PHARMACY",
          "LOMA LINDA UNIVERSITY CHILDREN'S HOSPITAL",
          "LOMA LINDA UNIVERSITY CHILDREN'S HOSPITAL PHARMACY",
          "LOMA LINDA UNIVERSITY CHILDREN'S HOSPITAL PHARMACY (NICU-3RD)",
          "LOMA LINDA UNIVERSITY CHILDRENS HOSPITAL",
          "LOMA LINDA UNIVERSITY CHILDRENS HOSPITAL PEDIATRIC HEMATOLOGY/ONC",
          "LOMA LINDA UNIVERSITY HOSPITAL PHARMACY- 14TH FLOOR",
          "LOMA LINDA UNIVERSITY HOSPITAL PHARMACY-3RD FLOOR",
          "LOMA LINDA UNIVERSITY HOSPITAL PHARMACY-6TH FLOOR",
          "LOMA LINDA UNIVERSITY HOSPITAL PHARMACY-ADULT CANCER CENTER",
          "LOMA LINDA UNIVERSITY HOSPITAL PHARMACY-BASEMENT",
          "LOMA LINDA UNIVERSITY MEDICAL CENTER - HOSPITAL PHARMACY (2ND FLO",
          "LOMA LINDA UNIVERSITY MEDICAL CENTER - MURRIETA",
          "LOMA LINDA UNIVERSITY MEDICAL CENTER ADULT INFUSION PHARMACY HIGH",
          "LOMA LINDA UNIVERSITY SURGICAL HOSPITAL",
          "LOMPOC VALLEY MEDICAL CENTER",
          "LOMPOC VALLEY MEDICAL CENTER HEMATOLOGY-ONCOLOGY PHARMACY",
          "LONG BEACH MEMORIAL MEDICAL CENTER",
          "LOS ANGELES COMMUNITY HOSPITAL AT NORWALK",
          "LOS ANGELES COMMUNITY HOSPITAL PHARMACY",
          "LOS ANGELES COUNTY HIGH DESERT REGIONAL HEALTH CENTER PHARMACY",
          "LOS ANGELES GENERAL MEDICAL CENTER INPATIENT PHARMACY",
          "LOS ANGELES GENERAL MEDICAL CENTER INPATIENT PHARMACY",
          "LOS ANGELES GENERAL MEDICAL CENTER INPATIENT PHARMACY",
          "LOS ANGELES GENERAL MEDICAL CENTER INPATIENT PHARMACY",
          "LOS ANGELES GENERAL MEDICAL CENTER INPATIENT PHARMACY",
          "LOS ROBLES HOSPITAL AND MEDICAL CENTER",
          "LPCH CHILDRENS HOME PHARMACY",
          "LUCILE PACKARD CHILDREN'S HOSPITAL RM 2875 INPATIENT PHARMACY",
          "LUCILE SALTER PACKARD CHILDRENS HSP",
          "LUCILE SALTER PACKARD CHILDRENS HSP",
          "LUCILE SALTER PACKARD CHILDRENS HSP",
          "LUNDQUIST INSTITUTE FOR BIOMEDICAL INNOVATION",
          "LYNNFIELD DRUG INC DBA FREEDOM FERTILITY PHARMACY",
          "MAD RIVER COMMUNITY HOSPITAL PHARMACY",
          "MAMMOTH HOSPITAL",
          "MANDELL'S CLINICAL PHARMACY",
          "MARIAN REGIONAL MEDICAL CENTER",
          "MARIAN REGIONAL MEDICAL CENTER ARROYO GRANDE",
          "MARIN GENERAL HOSPITAL PHARMACY MAIN PHARMACY, 2ND FLOOR",
          "MARIN GENERAL HOSPITAL PHARMACY SATELLITE PHARAMCY, 5TH FLOOR",
          "MARIN WELLNESS PHARMACY LLC D/B/A APEX INFUSION PHARMACY",
          "MARINER ADVANCED PHARMACY CORP",
          "MARK TWAIN MEDICAL CENTER",
          "MARSHALL HOSPITAL PHARMACY; 2ND FLOOR SURGERY WING",
          "MARSHALL MEDICAL ONCOLOGY PHARMACY",
          "MARTIN LUTHER KING JR COMMUNITY HOSPITAL PHARMACY",
          "MARTIN LUTHER KING JR OUTPATIENT CENTER PHARMACY",
          "MAYERS MEMORIAL HOSPITAL PHARMACY",
          "MEDRX INFUSION CLINICAL PHARMACY",
          "MEDSPECIALTIES COMPOUNDING PHARMACY",
          "MEMORIAL HOSPITAL LOS BANOS PHARMACY",
          "MEMORIAL HOSPITAL OF GARDENA",
          "MEMORIAL MEDICAL CENTER PHARMACY- INPATIENT",
          "MENIFEE GLOBAL MEDICAL CENTER MAIN PHARMACY",
          "MERCY GENERAL HOSPITAL",
          "MERCY HOSPITAL",
          "MERCY HOSPITAL OF FOLSOM MAIN PHARMACY - LOWER LEVEL ROOM 170",
          "MERCY MEDICAL CENTER MAIN PHARMACY - GARDEN LEVEL ROOM # 0165",
          "MERCY MEDICAL CENTER MT SHASTA",
          "MERCY MEDICAL CENTER REDDING",
          "MERCY SAN JUAN MEDICAL CENTER PHARMACY 1ST FLOOR IV ROOM",
          "MERCY SOUTHWEST HOSPITAL",
          "METHODIST HOSPITAL OF SACRAMENTO",
          "MID VALLEY HEALTH SERVICES",
          "MILLS-PENINSULA HEALTH CENTER PHARMACY",
          "MILLS-PENINSULA MEDICAL CENTER PHARMACY",
          "MISSION HEALTH CENTER  (Previous Name)",
          "MISSION COMMUNITY HOSPITAL MAIN PHARMACY IN BASEMENT",
          "MISSION HOPE INFUSION CENTER",
          "MODEL DRUG",
          "MODEL DRUG INC",
          "MONROVIA MEMORIAL HOSPITAL",
          "MONTCLAIR HOSPITAL MEDICAL CENTER",
          "MONTEREY PARK HOSPITAL",
          "MOUNTAIN VIEW PHARMACEUTICALS",
          "MOUNTAINS COMMUNITY HOSPITAL PHARMACY",
          "NATIVIDAD MEDICAL CENTER 1ST FLOOR MAIN PHARMACY 1D018",
          "NORTH COUNTY ONCOLOGY",
          "NORTHBAY MEDICAL CENTER PHARMACY",
          "NORTHBAY SPECIALTY PHARMACY",
          "NORTHBAY VACAVALLEY HOSPITAL PHARMACY",
          "NORTHERN INYO HOSPITAL PHARMACY",
          "NORTHRIDGE HOSPITAL MEDICAL CENTER",
          "NORTHRIDGE HOSPITAL MEDICAL CENTER",
          "NOVATO COMMUNITY HOSPITAL - MAIL PHARMACY IV ROOM 2ND FLOOR",
          "NUTRISHARE LLC",
          "O'BRIEN PHARMACY",
          "O'CONNOR HOSPITAL",
          "OAK VALLEY HOSPITAL DISTRICT",
          "OJAI VALLEY COMMUNITY HOSPITAL",
          "OLIVE VIEW UCLA MED CTR PHY I",
          "OMNICARE OF CERRITOS",
          "OMNICARE OF HAYWARD",
          "OMNICARE OF NORTHERN CALIFORNIA",
          "OMNICARE OF SAN DIEGO",
          "OMNICARE OF SOUTHERN CALIFORNIA",
          "OPTION CARE",
          "OPTION CARE ENTERPRISES INC DBA OPTION CARE",
          "OPTUM PHARMACY 801, INC",
          "ORANGE COAST MEMORIAL MEDICAL CENTER",
          "ORANGE COUNTY GLOBAL MEDICAL CENTER",
          "OROVILLE HOSPITAL - MAIN PHARMACY",
          "OSO HOME CARE PHARMACY",
          "OSO HOME CARE PHARMACY",
          "OSRX INC",
          "OWL REXALL DRUG",
          "OWL WESTERN PHARMACY",
          "PACIFIC COMPOUNDING PHARMACY AND CONSULTATIONS INC",
          "PACIFIC WEST PHARMACY INC",
          "PACIFICA HOSPITAL OF THE VALLEY",
          "PALMDALE REGIONAL MEDICAL CENTER INPATIENT PHARMACY",
          "PALO VERDE HOSPITAL",
          "PALOMAR MEDICAL CENTER PHARMACY",
          "PALOMAR MEDICAL CENTER POWAY PHARMACY",
          "PALOMAR MEDICAL CNTER ESCONDIDO INFUSION PHARMACY",
          "PARADISE VALLEY HOSPITAL",
          "PARADISE VALLEY HOSPITAL",
          "PC AND MZ SAN FRANCISCO GEN HOSPITAL AND TRAUMA CTR INPT PHARMACY",
          "PENTEC HEALTH, INC.",
          "PETALUMA VALLEY HOSPITAL PHARMACY",
          "PETNET PHARMACEUTICAL",
          "PETNET PHARMACEUTICAL",
          "PETNET PHARMACEUTICAL",
          "PETNET PHARMACEUTICAL",
          "PHARMA101",
          "PHARMALABS LLC",
          "PHARMALOGIC LOS ANGELES",
          "PHARMARX PHARMACEUTICAL INC",
          "PHARMASCRIPT INC",
          "PHARMATRON A PHARMACY COMPANY",
          "PHARMERICA",
          "PHARMERICA",
          "PHARMERICA",
          "PHARMERICA",
          "PHARMERICA",
          "PHARMERICA",
          "PHARMERICA",
          "PHARMERICA",
          "PHAST PHARMACY",
          "PHILLIPS RANCH PHARMACY",
          "PIH HEALTH DOWNEY HOSPITAL",
          "PIH HEALTH GOOD SAMARITAN HOSPITAL",
          "PIH HEALTH GOOD SAMARITAN HOSPITAL",
          "PIH HEALTH GOOD SAMARITAN HOSPITAL 4TH FLOOR PHARMACY",
          "PIH HEALTH WHITTIER HOSPITAL PHCY",
          "PIH HEALTH WHITTIER HOSPITAL PHCY PLAZA TOWER MAIN PHARMACY",
          "PIONEERS MEMORIAL HEALTHCARE DISTRICT",
          "PIONEERS MEMORIAL HEALTHCARE DISTRICT MAIN PHARMACY",
          "PLAZA HOME CARE PHARMACY INC",
          "POLARIS PHARMACY SERVICES",
          "POLARIS PHARMACY SERVICES",
          "POLARIS PHARMACY SERVICES",
          "POMONA VALLEY HOSPITAL MEDICAL CENTER CENTRAL PHARMACY #DB20P",
          "POMONA VALLEY HOSPITAL MEDICAL CENTER SATELLITE PHARMACY #EC298A",
          "PREFERRED EXCELLENT CARE",
          "PREMIER INFUSION AND HEALTHCARE SERVICES, INC.",
          "PRIME HEALTHCARE SERVICES- ST. FRANCIS LLC",
          "PROLAB PHARMACY",
          "PROVIDENCE CEDARS-SINAI TARZANA MEDICAL CENTER",
          "PROVIDENCE HEALTH SYSTEM SOUTHERN CALIFORNIA DBA PROVIDENCE HOLY",
          "PROVIDENCE HOLY CROSS MEDICAL CENTER PHARMACY",
          "PROVIDENCE HOME INFUSION LA COUNTY",
          "PROVIDENCE HOME INFUSION ORANGE COUNTY",
          "PROVIDENCE LITTLE COMPANY OF MARY MED CTR SAN PEDRO",
          "PROVIDENCE LITTLE COMPANY OF MARY MED CTR TORRANCE",
          "PROVIDENCE MISSION HOSPITAL",
          "PROVIDENCE MISSION HOSPITAL CANCER CENTER",
          "PROVIDENCE MISSION HOSPITAL LAGUNA BEACH",
          "PROVIDENCE ONCOLOGY PHARMACY",
          "PROVIDENCE QUEEN OF THE VALLEY MEDICAL CENTER",
          "PROVIDENCE REDWOOD MEMORIAL HOSPITAL",
          "PROVIDENCE SAINT JOHN'S HEALTH CENTER- MAIN PHARMACY",
          "PROVIDENCE SAINT JOHN'S HEALTH CENTER- SATELLITE PHARMACY",
          "PROVIDENCE SAINT JOHNS HEALTH CENTER PHARMACY",
          "PROVIDENCE SAINT JOSEPH MEDICAL CENTER",
          "PROVIDENCE SAINT JOSEPH SATELLITE INFUSION PHARMACY",
          "PROVIDENCE ST JOSEPH HOSPITAL",
          "PROVIDENCE ST JOSEPH HOSPITAL PHARMACY INPATIENT PHARMACY",
          "PROVIDENCE ST. JOSEPH HOSPITAL PHARMACY",
          "QUADRACARE INC",
          "RADY CHILDREN'S HOMECARE PHARMACY",
          "RANCHO LOS AMIGOS NAT. REHAB CTR HOSPITAL PHARMACY",
          "RANCHO PARK PHARMACY",
          "RANCHO SANTA FE PHARMACY",
          "REDLANDS COMMUNITY HOSPITAL",
          "REGIONAL MEDICAL CENTER OF SAN JOSE",
          "REHABILITATION HOSPITAL OF SOUTHERN CALIFORNIA, LLC",
          "RIDGECREST REGIONAL HOSPITAL",
          "RIVER CITY PHARMACY INC DBA OPTION CARE",
          "RIVER'S EDGE PHARMACY",
          "RIVERSIDE COMMUNITY HOSPITAL CENTRAL PHARMACY I.V. ROOM",
          "RLS USA INC",
          "RLS USA INC",
          "RLS USA INC",
          "RLS USA INC",
          "RLS USA INC",
          "RONALD REAGAN UCLA MEDICAL CENTER 6TH FLOOR SATELLITE",
          "RONALD REAGAN UCLA MEDICAL CENTER I.V. ADDITIVE SERVICE",
          "RUHS - MC - INFUSION CENTER",
          "RUHS- MC- MAIN IV ROOM E1111",
          "RX UNLIMITED PHARMACY",
          "SACRAMENTO REHABILITATION HOSPITAL",
          "SADDLEBACK MEM MED CTR PHCY IND HSP",
          "SAINT AGNES MEDICAL CENTER CVOR PHARMACY SATELLITE (2ND FLOOR)",
          "SAINT AGNES MEDICAL CENTER EMERGENCY ROOM SATELLITE PHARMACY",
          "SAINT AGNES MEDICAL CENTER PHARMACY 2 MAINIV COMPOUNDING PHARMACY",
          "SAINT AGNES MEDICAL CENTER PHARMACY 2 WEST SATELLITE PHARMACY",
          "SAINT AGNES MEDICAL CENTER PHARMACY 3 MAIN PHARMACY",
          "SAINT AGNES MEDICAL CENTER PHARMACY OR PHARMACY SATELLITE",
          "SAINT LOUISE REGIONAL HOSPITAL",
          "SALINAS VALLEY MEMORIAL HOSPITAL PHARMACY",
          "SAN ANTONIO REGIONAL HOSPITAL",
          "SAN DIMAS COMMUNITY HOSPITAL",
          "SAN DIMAS COMMUNITY HOSPITAL",
          "SAN GABRIEL VALLEY MEDICAL CENTER",
          "SAN GORGONIO MEMORIAL HOSPITAL PHARMACY - FIRST FLOOR CENTRAL PHA",
          "SAN JOAQUIN GENERAL HOSPITAL",
          "SAN JOAQUIN GENERAL HOSPITAL INPATIENT PHARMACY IV ROOM (A1477)",
          "SAN JOAQUIN VALLEY REHABILITATION HOSPITAL",
          "SAN LEANDRO HOSPITAL",
          "SAN MATEO MEDICAL CENTER",
          "SAN RAMON REGIONAL MEDICAL CENTER PHARMACY 1ST FLOOR",
          "SANTA BARBARA COTTAGE HOSPITAL",
          "SANTA CLARA VALLEY  MEDICAL CENTER - BUILDING A IV PHARMACY",
          "SANTA CLARA VALLEY MEDICAL CENTER - BUILDING A IV PHARMACY",
          "SANTA PAULA HOSPITAL",
          "SANTA YNEZ VALLEY COTTAGE HOSPITAL",
          "SCRIPPS CENTRAL PHARMACY PRODUCTION CENTER",
          "SCRIPPS ENCINITAS COMPOUNDING PHARMACY",
          "SCRIPPS GREEN HOSPITAL",
          "SCRIPPS MEMORIAL HOSPITAL ENCINITAS",
          "SCRIPPS MEMORIAL HOSPITAL LA JOLLA PREBYS MAIN PHARMACY",
          "SCRIPPS MEMORIAL HOSPITAL, LA JOLLA--PREBYS OR SATELLITE",
          "SCRIPPS MERCY HOSPITAL - CHULA VISTA",
          "SCRIPPS MERCY HOSPITAL - SAN DIEGO",
          "SCRIPPS MERCY SD COMPOUNDING PHARMACY",
          "SCRIPTS",
          "SELECT SPECIALTY HOSPITAL - SAN DIEGO",
          "SEQUOIA HOSPITAL",
          "SEQUOIA REGIONAL CANCER CENTER PHARMACY",
          "SHARP CENTRAL PHARMACY SERVICES",
          "SHARP CENTRALIZED HOSPITAL PHARMACY",
          "SHARP CHULA VISTA MEDICAL CENTER",
          "SHARP CORONADO HOSPITAL AND HEALTHCARE CENTER",
          "SHARP GROSSMONT HOSPITAL PHARMACY 2-WEST SATELLITE PHARMACY 2ND F",
          "SHARP MARY BIRCH HOSPITAL PHARMACY FIRST FLOOR MAIN PHARMACY",
          "SHARP MEMORIAL HOSPITAL PHARMACY MAIN PHARMACY",
          "SHASTA REGIONAL MEDICAL CENTER - PHARMACY",
          "SHERMAN OAKS HOSPITAL",
          "SHRINERS FOR CHILDREN AMBULATORY SURGICAL CENTER",
          "SHRINERS HOSPITAL PHARMACY",
          "SIERRA NEVADA MEMORIAL HOSPITAL",
          "SIERRA VIEW MEDICAL CENTER-CANCER TREATMENT CENTER  (Previous Name)",
          "SIERRA VIEW DISTRICT HOSPITAL",
          "SIERRA VIEW MEDICAL CENTER-CANCER TREATMENT CENTER SUITE B",
          "SIERRA VISTA HOSPITAL INC",
          "SKILLED NURSING PHARMACY",
          "SKILLED NURSING PHARMACY",
          "SKILLED NURSING PHARMACY",
          "SOFIE CO",
          "SOLEO HEALTH INC",
          "SONOMA SPECIALTY PHARMACY",
          "SONOMA VALLEY HOSPITAL PHARMACY",
          "SOUTH COAST GLOBAL MEDICAL CENTER INC",
          "SOUTHERN CALIFORNIA HOSPITAL AT CULVER CITY",
          "SOUTHERN CALIFORNIA HOSPITAL AT HOLLYWOOD PHARMACY",
          "SOUTHWEST HEALTHCARE RANCHO SPRINGS HOSPITAL",
          "SPECIALTY VETERINARY PHARMACY",
          "ST BERNARDINE MEDICAL CENTER",
          "ST ELIZABETH COMMUNITY HOSPITAL PHARMACY CLEAN ROOM",
          "ST HELENA HOSPITAL CLEAR LAKE HOSPITAL PHARMACY",
          "ST JOHN'S HOSPITAL CAMARILLO",
          "ST JOSEPH HEALTH OUTPATIENT CANCER CENTER PHARMACY FOUNTAINGROVE",
          "ST JOSEPHS MEDICAL CENTER OF STOCKTON",
          "ST JUDE HOSPITAL INFUSION CENTER PHARMACY  (Previous Name)",
          "ST JOSEPHS MEDICAL CENTER STOCKTON",
          "ST JUDE MEDICAL CENTER INFUSION CENTER PHARMACY",
          "ST MARY MEDICAL CENTER BASEMENT PHARMACY",
          "ST MARY MEDICAL CENTER DBA PROVIDENCE ST MARY MEDICAL CENTER",
          "ST ROSE HOSPITAL PHARMACY",
          "ST. JOHN'S REGIONAL MEDICAL CENTER",
          "ST. JUDE MEDICAL CENTER PHARMACY",
          "ST. JUDE MEDICAL CENTER PHARMACY",
          "ST. JUDE MEDICAL CENTER PHARMACY",
          "ST. JUDE MEDICAL CENTER PHARMACY",
          "ST. MARYS MEDICAL CENTER LEVEL C",
          "STANFORD EMERYVILLE HEALTH CENTER PHARMACY",
          "STANFORD HEALTH CARE",
          "STANFORD HEALTH CARE",
          "STANFORD HEALTH CARE",
          "STANFORD HEALTH CARE - REDWOOD CITY",
          "STANFORD HEALTH CARE - REDWOOD CITY (PAV D)",
          "STANFORD HEALTH CARE - VALLEYCARE",
          "STANFORD HEALTH CARE 500P PHARMACY",
          "STANFORD HEALTH CARE- SAMARITAN PHARMACY",
          "STANFORD HEALTH SOUTH BAY CANCER CENTER PHARMACY",
          "STANFORD NEUROSCIENCE HEALTH CENTER PHARMACY",
          "STAR PHARMACY",
          "STOCKTON REGIONAL REHABILITATION HOSPITAL",
          "STRIVE PHARMACY",
          "SUTTER AMADOR HOSPITAL INPATIENT PHARMACY",
          "SUTTER AUBURN FAITH HOSPITAL PHARMACY",
          "SUTTER BAY HOSPITALS DBA PACIFIC HEIGHTS OUTPATIENT PHARMACY",
          "SUTTER BAY HOSPITALS DBA SUTTER MATERNITY & SURGERY CENTER OF SAN",
          "SUTTER COAST HOSPITAL INFUSION PHARMACY",
          "SUTTER DAVIS HOSPITAL INPATIENT PHARMACY",
          "SUTTER DELTA MEDICAL CENTER HOSPITAL PHARMACY",
          "SUTTER INFUSION & PHARMACY SERVICES",
          "SUTTER INFUSION & PHARMACY SERVICES",
          "SUTTER LAKESIDE PHARMACY",
          "SUTTER MEDICAL CENTER SACRAMENTO",
          "SUTTER MEDICAL CENTER SACRAMENTO INFUSION PHARMACY",
          "SUTTER ROSEVILLE MEDICAL CENTER FIRST FLOOR PHARMACY",
          "SUTTER ROSEVILLE MEDICAL CENTER INFUSION PHARMACY",
          "SUTTER SANTA ROSA REGIONAL HOSPITAL PHARMACY",
          "SUTTER SOLANO MEDICAL CENTER INFUSION PHARMACY",
          "SUTTER SOLANO MEDICAL CENTER INPATIENT PHARMACY - 1ST FLOOR - ROO",
          "SUTTER SURGICAL HOSPITAL - NORTH VALLEY",
          "SUTTER TRACY COMMUNITY HOSPITAL INPATIENT PHARMACY",
          "SVMHS-OUTPATIENT SERVICE-INFUSION CENTER",
          "TAHOE FOREST HOSPITAL PHARMACY",
          "TEMECULA VALLEY HOSPITAL",
          "THE CENTER FOR CANCER PREVENTION AND TREATMENT INFUSION CENTER PH",
          "THE JOHN M & SALLY B THORNTON HOSPITAL",
          "THE MEDICINE SHOPPE",
          "TMC ACQUISITION LLC DBA TAILOR MADE COMPOUNDING",
          "TODD CANCER PAVILION PHARMACY",
          "TORMED PHARMACY",
          "TORRANCE MEMORIAL MEDICAL CENTER 2ND FLOOR PHARMACY SATELLITE ROO",
          "TORRANCE MEMORIAL MEDICAL CENTER INPATIENT PHARMACY BASEMENT CLEA",
          "TRI-CITY HOSPITAL",
          "TRINITY CARE RX",
          "TWIN CITIES COMMUNITY HOSPITAL PHARMACY",
          "TWIN TOWERS CORRECTIONAL FACILITY",
          "U.C. DAVIS MEDICAL CENTER ROOM 0711D",
          "UC DAVIS HEALTH AT HOME",
          "UC DAVIS MEDICAL CENTER",
          "UC DAVIS MEDICAL CENTER INFUSION PHARMACY",
          "UC DAVIS MEDICAL CENTER PLACER CENTER FOR HEALTH PHARMACY",
          "UC IRVINE HEALTH CANCER CENTER - NEWPORT",
          "UC SAN DIEGO HEALTH EAST CAMPUS",
          "UCI HEALTH - FOUNTAIN VALLEY HOSPITAL PHARMACY",
          "UCI HEALTH - LAGUNA HILLS PHARMACY",
          "UCI HEALTH - LAKEWOOD HOSPITAL PHARMACY",
          "UCI HEALTH - LIVING CARE CENTER PHARMACY",
          "UCI HEALTH - LOS ALAMITOS HOSPITAL PHARMACY",
          "UCI HEALTH - PLACENTIA-LINDA HOSPITAL PHARMACY",
          "UCI HEALTH - SUSAN SAMUELI INTEGRATIVE HEALTH INSTITUTE PHARMACY",
          "UCI HEALTH IRVINE INFUSION PHARMACY ACC",
          "UCLA MED CTR CHS OUTPATIENT PHARMACY",
          "UCLA WEST VALLEY MEDICAL CENTER",
          "UCSD HEALTH LA JOLLA JACOBS MED CTR & SULPIZIO CARDIOVASCULAR CTR",
          "UCSD HOME INFUSION PHARMACY",
          "UCSD MEDICAL CENTER PHARMACY FIRST FLOOR, CENTRAL PHARMACY AREA,",
          "UCSD MEDICAL CENTER PHARMACY SECOND FLOOR",
          "UCSD MOORES CANCER CENTER",
          "UCSD OUTPATIENT PAVILION PHARMACY",
          "UCSD RESEARCH PHARMACY",
          "UCSD- SDCC INFUSION PHARMACY",
          "UCSD-ALTMAN CLINICAL TRANSLATIONAL RESEARCH INSTITUTE - RESEARCH",
          "UCSF HEALTH - SAINT FRANCIS HOSPITAL",
          "UCSF MEDICAL CENTER",
          "UCSF MEDICAL CENTER (MISSION BAY)",
          "UCSF MEDICAL CENTER AT MOUNT ZION",
          "UCSF MEDICAL CENTER BENIOFF",
          "UCSF MEDICAL CENTER BENIOFF 2ND FLR RM C2700 OR SATELLITE",
          "UCSF MEDICAL CENTER BENIOFF 4TH FLR RM C4411 MAIN PHARMACY",
          "UCSF MEDICAL CENTER BENIOFF 6TH FLR RM M6362 PEDIATRIC INFUSION",
          "UCSF MEDICAL CENTER BENIOFF6TH FLR RM C6984 INVESTIGATIONAL",
          "UCSF MEDICAL CENTER L487 (OR SATELLITE) ON 4TH FLOOR",
          "UCSF MEDICAL CENTER OUTPATIENT INFUSION PHARMACY",
          "UCSF MEDICAL CENTER ROOM A427",
          "UCSF MEDICAL CENTER WEIL BUILDING  (Previous Name)",
          "UCSF MEDICAL CENTER ROOM M1324",
          "UCSF MEDICAL CENTER WEILL BUILDING",
          "UCSF OUTPATIENT PHARMACY AT MISSION BAY",
          "UCSF PHARMACY CANCER CENTER BERKELEY",
          "UNIVERSITY COMPOUNDING PHARMACY",
          "UNIVERSITY OF CALIFORNIA IRVINE MEDICAL CENTER BLDG 23, 2ND FLOOR",
          "USC ARCADIA HOSPITAL",
          "USC KENNETH NORRIS JR CANCER HOSPITAL",
          "USC NORRIS CANCER HOSPITAL - PASADENA TREATMENT CENTER",
          "USC NORRIS CANCER HOSPITAL - SANTA CLARITA TREATMENT CENTER",
          "USC VERDUGO HILLS HOSPITAL",
          "VALLEY CHILDREN'S HOSPITAL",
          "VALLEY CHILDREN'S HOSPITAL",
          "VALLEY CHILDREN'S HOSPITAL",
          "VALLEY CHILDREN'S HOSPITAL",
          "VALLEY CHILDRENS HOSPITAL - PCUN 2ND FLOOR ICU-NORTH",
          "VALLEY PRESBYTERIAN HOSPITAL PHARMACY-PHARMACY HOSPITAL BASEMENT",
          "VALLEYCARE MEDICAL CENTER PHARMACY",
          "VALLEYCARE MEDICAL CENTER PHARMACY",
          "VALOR COMPOUNDING PHARMACY",
          "VENTURA COUNTY MEDICAL CENTER",
          "VENTURA COUNTY MEDICAL CENTER INFUSION CENTER PHARMACY",
          "VERDUGO PLAZA PHARMACY ALHAMBRA",
          "VIBRA HOSPITAL OF NORTHERN CALIFORNIA",
          "VIBRA HOSPITAL OF SACRAMENTO PHARMACY IV ROOM",
          "VIBRA HOSPITAL OF SAN BERNARDINO LLC",
          "VICTOR VALLEY GLOBAL MEDICAL CENTER",
          "VIVE RX INC",
          "VLS PHARMACY INC",
          "WASHINGTON HOSPITAL PHARMACY",
          "WATSONVILLE COMMUNITY HOSPITAL PHARMACY",
          "WEDGEWOOD PHARMACY LLC",
          "WEDGEWOOD PHARMACY LLC",
          "WEDGEWOOD PHARMACY LLC",
          "WEDGEWOOD PHARMACY LLC",
          "WELLNESS CENTER PHARMACY INC DBA DESIGNER DRUGS",
          "WELLSCRIPT",
          "WEST ANAHEIM MEDICAL CENTER",
          "WHITE MEMORIAL MEDICAL CENTER DBA ADVENTIST HEALTH WHITE MEMORIAL",
          "WHITTIER HOSPITAL MEDICAL CENTER",
          "WOMENS INTERNATIONAL PHARMACY, INC. DBA BELMAR PHARMACY",
          "WOODLAND MEMORIAL HOSPITAL STERILE COMPOUNDING SUITE",
          "You have reached the end of your results"
         ],
         "lat": [
          33.848733,
          36.636344,
          40.674947,
          28.489898,
          33.102005,
          35.384336,
          39.223939,
          39.223939,
          35.384336,
          35.779507,
          34.160359,
          36.29223,
          39.492842,
          38.114388,
          39.487185,
          34.258405,
          34.258405,
          37.984549,
          37.984549,
          35.621087,
          38.542448,
          38.542448,
          35.118772,
          36.178091,
          39.135023,
          34.015444,
          33.844983,
          37.681264,
          37.773793,
          33.62592,
          34.195685,
          34.090728,
          34.090728,
          null,
          null,
          37.866536,
          37.865183,
          37.834403,
          33.765401,
          32.70065,
          38.635653,
          33.788145,
          34.713292,
          34.02452,
          35.384336,
          35.384336,
          35.468183,
          40.551757,
          34.080017,
          34.980294,
          38.869825,
          null,
          29.749778,
          34.232796,
          34.141586,
          33.818477,
          33.956526,
          33.833744,
          33.666942,
          32.999309,
          32.425874,
          39.87028,
          34.0712,
          36.822349,
          37.769436,
          34.039378,
          34.057597,
          34.00784,
          39.771649,
          null,
          37.344482,
          39.898613,
          37.916555,
          40.601778,
          34.195685,
          33.867257,
          34.02452,
          36.834289,
          33.881158,
          38.605407,
          32.774046,
          42.067166,
          34.083086,
          37.044186,
          34.072924,
          34.072924,
          34.064958,
          34.072924,
          34.072924,
          34.072924,
          34.072924,
          34.072924,
          34.064958,
          33.956526,
          37.501368,
          33.933565,
          37.639029,
          33.976582,
          34.127194,
          33.80845,
          34.063516,
          33.972782,
          32.806794,
          32.806794,
          37.834403,
          33.788145,
          33.788145,
          33.788145,
          33.788145,
          34.127194,
          33.788145,
          34.127194,
          34.127194,
          34.127194,
          34.127194,
          34.127194,
          33.805401,
          37.804531,
          34.004468,
          34.141586,
          34.011953,
          33.840451,
          34.141586,
          34.141586,
          34.141586,
          34.141586,
          34.141586,
          33.666942,
          33.67901,
          33.840398,
          34.105282,
          34.224196,
          36.825296,
          36.825296,
          36.825296,
          36.197785,
          33.906956,
          28.009826,
          33.647763,
          33.805401,
          36.825296,
          36.822349,
          33.979248,
          34.122501,
          36.57469,
          34.283668,
          34.037251,
          38.408571,
          37.993892,
          37.993892,
          35.23575,
          34.035602,
          32.999818,
          44.874984,
          36.061718,
          33.840451,
          33.635109,
          37.750021,
          37.795388,
          37.795388,
          33.933565,
          37.605905,
          32.999818,
          33.970847,
          36.825296,
          32.899592,
          39.173116,
          37.952452,
          26.278502,
          34.10097,
          33.860925,
          33.860925,
          33.641767,
          34.501472,
          34.480247,
          40.628381,
          35.342891,
          35.342891,
          34.923013,
          34.227892,
          34.205247,
          34.283668,
          40.527834,
          null,
          37.830267,
          33.882579,
          37.671978,
          37.031475,
          37.031475,
          37.492115,
          47.47202,
          33.805401,
          34.022502,
          37.714509,
          33.768584,
          33.768584,
          34.185894,
          37.216953,
          37.380566,
          37.216953,
          37.380566,
          37.380566,
          37.216953,
          32.770197,
          32.770197,
          32.770197,
          34.17051,
          34.156529,
          34.084747,
          34.066964,
          34.066964,
          34.066964,
          34.066964,
          37.528476,
          37.528476,
          34.149588,
          34.160236,
          35.342891,
          39.745628,
          39.745628,
          34.168366,
          41.756147,
          33.708012,
          29.991693,
          33.734005,
          35.23575,
          36.732891,
          36.732891,
          36.732891,
          36.862209,
          36.822349,
          33.763905,
          34.052922,
          34.136194,
          39.491654,
          32.777999,
          34.449185,
          37.256765,
          35.621087,
          34.046243,
          32.777999,
          33.864617,
          36.902045,
          38.622985,
          29.620312,
          41.743074,
          33.667301,
          34.439855,
          34.168333,
          37.80432,
          37.80432,
          33.666942,
          33.666942,
          33.623208,
          null,
          null,
          33.828396,
          34.173885,
          33.723228,
          34.13946,
          34.13946,
          34.052922,
          null,
          27.87506,
          33.805401,
          35.176043,
          35.23575,
          34.026608,
          34.283668,
          33.617844,
          38.666597,
          36.391777,
          37.916555,
          33.997862,
          33.710984,
          37.899936,
          37.899936,
          37.995285,
          37.899936,
          37.899936,
          34.051177,
          37.807215,
          33.994523,
          33.867743,
          37.792682,
          38.022366,
          38.022366,
          36.862209,
          37.952844,
          37.952844,
          37.501368,
          37.501368,
          37.889098,
          37.87195,
          37.87195,
          38.474099,
          37.230327,
          37.785969,
          37.785969,
          38.503685,
          38.503685,
          37.65549,
          38.18735,
          38.18735,
          37.743039,
          33.921793,
          33.921793,
          37.718023,
          37.965765,
          38.408571,
          38.408571,
          38.503685,
          36.976175,
          36.976175,
          36.976175,
          38.030177,
          33.799904,
          34.09741,
          34.09741,
          34.030578,
          33.799904,
          34.127194,
          33.936193,
          33.921793,
          37.82935,
          33.117154,
          38.666597,
          33.83796,
          33.666942,
          37.493297,
          33.889702,
          38.591897,
          37.230327,
          34.035602,
          38.604268,
          32.806794,
          37.718023,
          37.713275,
          37.713275,
          32.794714,
          34.085972,
          34.085972,
          34.177311,
          33.936193,
          34.222506,
          37.785969,
          38.741074,
          38.741074,
          37.715245,
          37.82935,
          33.117154,
          33.936193,
          37.965765,
          38.741074,
          38.030177,
          37.718023,
          33.765401,
          33.887821,
          34.085972,
          37.230327,
          38.645723,
          34.127194,
          37.501368,
          37.493297,
          38.408571,
          34.127194,
          33.799904,
          34.085972,
          34.035602,
          37.863914,
          32.794714,
          34.222506,
          34.222506,
          34.713292,
          34.439855,
          34.030578,
          33.83796,
          33.666942,
          33.788145,
          38.022366,
          34.177311,
          37.34864,
          37.889098,
          33.580016,
          33.889702,
          34.09741,
          38.474099,
          35.384336,
          34.283668,
          37.713275,
          38.580568,
          34.049809,
          32.794714,
          36.391777,
          36.391777,
          36.391777,
          34.136258,
          34.05038,
          34.05038,
          34.05038,
          34.05038,
          34.05038,
          33.623208,
          37.945512,
          37.769436,
          35.468183,
          35.617546,
          34.09741,
          33.927561,
          33.902045,
          33.988047,
          34.074087,
          33.898883,
          34.10097,
          33.828396,
          32.741501,
          37.713275,
          34.061624,
          33.765301,
          33.890853,
          null,
          32.856347,
          33.850616,
          33.850616,
          33.833181,
          33.833181,
          33.833181,
          33.833181,
          41.469494,
          34.051177,
          34.051177,
          34.051177,
          34.051177,
          34.051177,
          34.083458,
          34.051177,
          34.051177,
          34.051177,
          34.051177,
          34.051177,
          34.051177,
          33.580016,
          33.948255,
          34.011953,
          34.595669,
          34.595669,
          33.805401,
          33.906956,
          34.022502,
          34.713656,
          34.05038,
          34.05038,
          34.05038,
          34.05038,
          34.05038,
          34.212805,
          37.457524,
          37.374707,
          37.374707,
          37.374707,
          37.374707,
          33.833181,
          null,
          40.855694,
          37.548799,
          null,
          34.923013,
          35.176043,
          37.945512,
          37.945512,
          33.803431,
          37.576948,
          38.189115,
          38.734925,
          38.612129,
          33.926262,
          33.926262,
          41.006417,
          33.975332,
          33.896339,
          37.068068,
          33.890853,
          37.672906,
          33.746707,
          38.569828,
          35.384336,
          38.666597,
          37.345785,
          41.314337,
          40.601778,
          38.62415,
          35.192404,
          38.474099,
          37.554269,
          37.576948,
          37.57028,
          33.611945,
          34.222506,
          34.923013,
          35.165671,
          36.478239,
          34.1528,
          34.072329,
          34.052922,
          34.051177,
          34.259971,
          36.722714,
          33.201242,
          38.280745,
          38.333133,
          38.333133,
          37.492115,
          34.237519,
          34.237519,
          38.134068,
          38.427507,
          39.031176,
          37.315977,
          37.787236,
          34.530199,
          34.326584,
          33.867743,
          37.605905,
          38.114388,
          32.899592,
          34.224196,
          34.230854,
          35.16319,
          33.750815,
          33.710582,
          33.765639,
          39.47536,
          33.680302,
          34.204568,
          46.856398,
          34.119367,
          34.097345,
          38.002125,
          38.791075,
          34.230854,
          34.604105,
          33.736458,
          33.0824,
          33.102005,
          33.0824,
          32.670646,
          32.670646,
          37.750021,
          39.82883,
          38.235014,
          37.605905,
          33.997862,
          38.571577,
          34.051177,
          35.23575,
          27.87506,
          34.020221,
          34.224196,
          41.972872,
          36.825296,
          36.793661,
          32.908449,
          33.818477,
          37.603155,
          34.283668,
          38.635653,
          39.898839,
          33.970847,
          35.384336,
          32.852358,
          33.940445,
          34.052913,
          34.052913,
          34.052913,
          33.972782,
          33.972782,
          32.990121,
          32.990121,
          34.13946,
          37.750502,
          null,
          32.806794,
          34.083086,
          34.083086,
          33.763905,
          33.833181,
          33.923533,
          33.65554,
          34.155097,
          34.265879,
          34.265879,
          34.204568,
          33.830457,
          33.74212,
          33.840398,
          33.611945,
          33.611945,
          33.57093,
          34.026608,
          38.442011,
          40.578828,
          34.026608,
          34.026608,
          34.026608,
          34.173885,
          34.173885,
          40.798659,
          33.788145,
          33.788145,
          34.074736,
          32.806794,
          33.921793,
          34.037251,
          33.020908,
          34.011953,
          37.350421,
          33.768584,
          35.606509,
          38.571577,
          33.765401,
          33.99504,
          38.605407,
          32.806476,
          37.412402,
          33.879768,
          34.195685,
          34.0712,
          34.0712,
          33.889702,
          33.889702,
          34.237912,
          38.635653,
          33.591304,
          36.862209,
          36.862209,
          36.862209,
          36.862209,
          36.862209,
          36.862209,
          37.018419,
          36.636344,
          34.105282,
          34.110186,
          34.110186,
          34.090776,
          33.948948,
          37.873793,
          37.873793,
          36.862209,
          37.706137,
          37.538449,
          37.75512,
          34.533222,
          null,
          37.315977,
          34.402343,
          34.624395,
          32.899592,
          33.056022,
          32.856347,
          33.056022,
          32.856347,
          32.856347,
          32.637868,
          32.747415,
          32.747415,
          34.207341,
          32.747415,
          37.413691,
          36.301334,
          32.806794,
          32.806794,
          32.608185,
          32.699234,
          32.777999,
          32.806794,
          32.806794,
          40.601778,
          34.147149,
          34.13946,
          38.550547,
          39.196387,
          35.988087,
          35.860883,
          35.988087,
          35.296958,
          37.605905,
          33.999005,
          32.88607,
          37.018419,
          37.605905,
          38.398815,
          38.249428,
          33.721131,
          34.019323,
          34.099912,
          33.547613,
          29.624261,
          34.177083,
          40.18189,
          38.973012,
          34.227892,
          38.503685,
          37.973736,
          33.901886,
          37.973736,
          33.901886,
          33.782259,
          34.571218,
          37.605905,
          34.205247,
          33.901886,
          33.901886,
          33.901886,
          33.901886,
          37.769436,
          37.836844,
          37.374707,
          37.493297,
          37.418256,
          37.493297,
          37.493297,
          37.792682,
          37.418256,
          37.256765,
          37.256765,
          37.374707,
          34.195685,
          37.959736,
          33.353505,
          38.343033,
          38.99003,
          37.785969,
          37.031475,
          41.819578,
          38.554133,
          37.996501,
          37.773793,
          38.488809,
          39.045931,
          38.571577,
          38.571577,
          38.741074,
          38.741074,
          38.503685,
          38.18735,
          38.18735,
          38.994187,
          37.737191,
          36.636344,
          39.313089,
          33.511228,
          33.788145,
          32.856347,
          33.882579,
          37.874952,
          33.805401,
          33.807882,
          33.807882,
          33.807882,
          33.201242,
          33.801191,
          35.538809,
          34.065975,
          38.550547,
          38.534879,
          38.550547,
          38.550547,
          38.815548,
          33.647763,
          32.794714,
          33.710582,
          33.591304,
          33.849034,
          33.710582,
          33.795012,
          33.881158,
          33.642512,
          33.65844,
          34.0712,
          34.200834,
          32.856347,
          32.806794,
          32.747415,
          32.747415,
          null,
          32.856347,
          32.747415,
          33.056022,
          32.856347,
          37.795388,
          null,
          37.768106,
          null,
          37.768106,
          37.768106,
          37.768106,
          37.768106,
          37.768106,
          null,
          37.768106,
          null,
          37.768106,
          null,
          37.768106,
          37.768106,
          37.865777,
          32.724103,
          33.788145,
          34.128284,
          34.05038,
          34.13946,
          34.439855,
          34.185666,
          36.984885,
          36.751519,
          36.984885,
          36.984885,
          36.984885,
          34.199824,
          37.792682,
          37.792682,
          37.866536,
          34.283668,
          34.283668,
          34.074736,
          40.601778,
          38.666597,
          34.122501,
          34.501472,
          33.942108,
          40.641221,
          37.501368,
          36.946256,
          38.14029,
          35.192404,
          null,
          33.493513,
          35.030496,
          40.601778,
          33.818246,
          34.05038,
          33.950295,
          33.584969,
          38.687045,
          null
         ],
         "legendgroup": "",
         "lon": [
          -117.788357,
          -121.623978,
          -80.106364,
          -81.290154,
          -117.080419,
          -119.020562,
          -121.49405,
          -121.49405,
          -119.020562,
          -119.200825,
          -118.213769,
          -119.622676,
          -123.340973,
          -121.144658,
          -123.741963,
          -118.775026,
          -118.775026,
          -120.349264,
          -120.349264,
          -118.789677,
          -122.419923,
          -122.419923,
          -118.493811,
          -119.370752,
          -123.259338,
          -118.111012,
          -117.952151,
          -122.480589,
          -122.278115,
          -112.002503,
          -118.490752,
          -118.127527,
          -118.127527,
          null,
          null,
          -122.257996,
          -122.238209,
          -122.264368,
          -116.334205,
          -97.386965,
          -121.518416,
          -117.87655,
          -118.15292,
          -117.289255,
          -119.020562,
          -119.020562,
          -118.779649,
          -120.675673,
          -118.262643,
          -116.964449,
          -120.008594,
          null,
          -95.345885,
          -116.902863,
          -117.957627,
          -118.038307,
          -118.358654,
          -118.314022,
          -117.732094,
          -96.841688,
          -90.169852,
          -75.712913,
          -118.443523,
          -119.760243,
          -122.447662,
          -118.2663,
          -118.413998,
          -118.030271,
          -104.882471,
          null,
          -121.883535,
          -86.233341,
          -122.341233,
          -122.454973,
          -118.490752,
          -118.330794,
          -117.289255,
          -119.83335,
          -117.854783,
          -121.447593,
          -117.142454,
          -87.934719,
          -117.737997,
          -113.577299,
          -118.37271,
          -118.37271,
          -118.382979,
          -118.37271,
          -118.37271,
          -118.37271,
          -118.37271,
          -118.37271,
          -118.382979,
          -118.358654,
          -121.956753,
          -118.062611,
          -120.964772,
          -118.455222,
          -118.295647,
          -117.791737,
          -117.790379,
          -118.022066,
          -117.13493,
          -117.13493,
          -122.264368,
          -117.87655,
          -117.87655,
          -117.87655,
          -117.87655,
          -118.295647,
          -117.87655,
          -118.295647,
          -118.295647,
          -118.295647,
          -118.295647,
          -118.295647,
          -118.187701,
          -122.410852,
          -117.684697,
          -117.957627,
          -117.159699,
          -117.601961,
          -117.957627,
          -117.957627,
          -117.957627,
          -117.957627,
          -117.957627,
          -117.732094,
          -118.014603,
          -118.353715,
          -117.662035,
          -118.632394,
          -119.68019,
          -119.68019,
          -119.68019,
          -120.422249,
          -118.08264,
          -82.547789,
          -117.919761,
          -118.187701,
          -119.68019,
          -119.760243,
          -118.217438,
          -117.320138,
          -121.840854,
          -119.223196,
          -118.423573,
          -122.022775,
          -122.136441,
          -122.136441,
          -120.615973,
          -117.591528,
          -117.071808,
          -93.152093,
          -115.058058,
          -117.601961,
          -112.093768,
          -122.415201,
          -122.422453,
          -122.422453,
          -118.062611,
          -122.126873,
          -117.071808,
          -117.32512,
          -119.68019,
          -117.201203,
          -76.842028,
          -121.329655,
          -80.1153,
          -117.57882,
          -116.566176,
          -116.566176,
          -116.273943,
          -117.292048,
          -117.408184,
          -79.150041,
          -119.064803,
          -119.064803,
          -120.259463,
          -119.079552,
          -119.174092,
          -119.223196,
          -122.318749,
          null,
          -121.20102,
          -117.442303,
          -121.007405,
          -121.98334,
          -121.98334,
          -118.390408,
          -122.2219,
          -118.187701,
          -118.199613,
          -122.079542,
          -116.429988,
          -116.429988,
          -116.432416,
          -121.926555,
          -122.085293,
          -121.926555,
          -122.085293,
          -122.085293,
          -121.926555,
          -115.59859,
          -115.59859,
          -115.59859,
          -118.289463,
          -117.841605,
          -117.886844,
          -117.937007,
          -117.937007,
          -117.937007,
          -117.937007,
          -120.853313,
          -120.853313,
          -118.489708,
          -118.515472,
          -119.064803,
          -121.843834,
          -121.843834,
          -118.267771,
          -122.659466,
          -116.403627,
          -90.258179,
          -117.819163,
          -120.615973,
          -119.783739,
          -119.783739,
          -119.783739,
          -119.760793,
          -119.760243,
          -117.931382,
          -118.143465,
          -118.260934,
          -122.26208,
          -117.021511,
          -119.804782,
          -121.922762,
          -118.789677,
          -118.053748,
          -117.021511,
          -118.180567,
          -121.350783,
          -122.889121,
          -95.605693,
          -87.929214,
          -116.963506,
          -118.644401,
          -116.288431,
          -122.207545,
          -122.207545,
          -117.732094,
          -117.732094,
          -117.933903,
          null,
          null,
          -117.20766,
          -118.346937,
          -118.008692,
          -118.166649,
          -118.166649,
          -118.143465,
          null,
          -82.648609,
          -118.187701,
          -120.476694,
          -120.615973,
          -118.473643,
          -119.223196,
          -117.259304,
          -121.141635,
          -119.372842,
          -122.341233,
          -118.393617,
          -116.204844,
          -121.999244,
          -121.999244,
          -122.040627,
          -121.999244,
          -121.999244,
          -117.248563,
          -122.301497,
          -118.149952,
          -118.069472,
          -121.86059,
          -122.555605,
          -122.555605,
          -119.760793,
          -122.381974,
          -122.381974,
          -121.956753,
          -121.956753,
          -122.037553,
          -122.069383,
          -122.069383,
          -121.443454,
          -121.785227,
          -122.437253,
          -122.437253,
          -122.754057,
          -122.754057,
          -122.422075,
          -122.224074,
          -122.224074,
          -121.23838,
          -118.140588,
          -118.140588,
          -121.032714,
          -121.775818,
          -122.022775,
          -122.022775,
          -122.754057,
          -121.95316,
          -121.95316,
          -121.95316,
          -121.297912,
          -118.298661,
          -117.968269,
          -117.968269,
          -118.399613,
          -118.298661,
          -118.295647,
          -117.493881,
          -118.140588,
          -122.203507,
          -117.180627,
          -121.141635,
          -117.870494,
          -117.732094,
          -122.195535,
          -117.113427,
          -121.408467,
          -121.785227,
          -117.591528,
          -121.280327,
          -117.13493,
          -121.032714,
          -122.16735,
          -122.16735,
          -117.071764,
          -117.464597,
          -117.464597,
          -118.615704,
          -117.493881,
          -118.444689,
          -122.437253,
          -121.247693,
          -121.247693,
          -121.9147,
          -122.203507,
          -117.180627,
          -117.493881,
          -121.775818,
          -121.247693,
          -121.297912,
          -121.032714,
          -116.334205,
          -118.12725,
          -117.464597,
          -121.785227,
          -121.445254,
          -118.295647,
          -121.956753,
          -122.195535,
          -122.022775,
          -118.295647,
          -118.298661,
          -117.464597,
          -117.591528,
          -122.306465,
          -117.071764,
          -118.444689,
          -118.444689,
          -118.15292,
          -118.644401,
          -118.399613,
          -117.870494,
          -117.732094,
          -117.87655,
          -122.555605,
          -118.615704,
          -121.984373,
          -122.037553,
          -117.14736,
          -117.113427,
          -117.968269,
          -121.443454,
          -119.020562,
          -119.223196,
          -122.16735,
          -121.49559,
          -117.470613,
          -117.071764,
          -119.372842,
          -119.372842,
          -119.372842,
          -118.026704,
          -118.211991,
          -118.211991,
          -118.211991,
          -118.211991,
          -118.211991,
          -117.933903,
          -122.56012,
          -122.447662,
          -118.779649,
          -118.452285,
          -117.968269,
          -117.887086,
          -118.008961,
          -118.370361,
          -117.605618,
          -118.166629,
          -117.57882,
          -117.20766,
          -117.127948,
          -122.16735,
          -117.892235,
          -117.881976,
          -118.297967,
          null,
          -117.250058,
          -118.039565,
          -118.039565,
          -118.292062,
          -118.292062,
          -118.292062,
          -118.292062,
          -81.512442,
          -117.248563,
          -117.248563,
          -117.248563,
          -117.248563,
          -117.248563,
          -117.270016,
          -117.248563,
          -117.248563,
          -117.248563,
          -117.248563,
          -117.248563,
          -117.248563,
          -117.14736,
          -116.987839,
          -117.159699,
          -120.352667,
          -120.352667,
          -118.187701,
          -118.08264,
          -118.199613,
          -117.86466,
          -118.211991,
          -118.211991,
          -118.211991,
          -118.211991,
          -118.211991,
          -118.882179,
          -122.176542,
          -122.181698,
          -122.181698,
          -122.181698,
          -122.181698,
          -118.292062,
          null,
          -124.066898,
          -118.839818,
          null,
          -120.259463,
          -120.476694,
          -122.56012,
          -122.56012,
          -118.16977,
          -122.316903,
          -120.638708,
          -120.789952,
          -120.964522,
          -118.249883,
          -118.249883,
          -121.480741,
          -118.355252,
          -117.796416,
          -120.843579,
          -118.297967,
          -120.946594,
          -117.172142,
          -121.440067,
          -119.020562,
          -121.141635,
          -120.42415,
          -122.380798,
          -122.454973,
          -121.324911,
          -119.175866,
          -121.443454,
          -120.951523,
          -122.316903,
          -122.365778,
          -117.665867,
          -118.444689,
          -120.259463,
          -120.655844,
          -119.52137,
          -118.000482,
          -117.698315,
          -118.143465,
          -117.248563,
          -117.199381,
          -121.633649,
          -117.296984,
          -122.00638,
          -121.920151,
          -121.920151,
          -118.390408,
          -118.517712,
          -118.517712,
          -122.52719,
          -121.314899,
          -94.630762,
          -121.936319,
          -120.759202,
          -119.310133,
          -118.382261,
          -118.069472,
          -122.126873,
          -121.144658,
          -117.201203,
          -118.632394,
          -118.365856,
          -119.046322,
          -112.090632,
          -117.951129,
          -117.790075,
          -121.41411,
          -117.833295,
          -118.326365,
          -114.014338,
          -117.855054,
          -117.906736,
          -121.324979,
          -121.234854,
          -118.365856,
          -118.239213,
          -114.687973,
          -117.127641,
          -117.080419,
          -117.127641,
          -117.094668,
          -117.094668,
          -122.415201,
          -75.435069,
          -122.557332,
          -122.126873,
          -118.393617,
          -121.466465,
          -117.248563,
          -120.615973,
          -82.648609,
          -118.286035,
          -118.632394,
          -87.662604,
          -119.68019,
          -119.761461,
          -117.14138,
          -118.038307,
          -122.018638,
          -119.223196,
          -121.518416,
          -86.05872,
          -117.32512,
          -119.020562,
          -116.987842,
          -118.129022,
          -118.26434,
          -118.26434,
          -118.26434,
          -118.022066,
          -118.022066,
          -115.358757,
          -115.358757,
          -118.166649,
          -121.749055,
          null,
          -117.13493,
          -117.737997,
          -117.737997,
          -117.931382,
          -118.292062,
          -118.200705,
          -95.60504,
          -118.547553,
          -118.456748,
          -118.456748,
          -118.326365,
          -117.905941,
          -118.312878,
          -118.353715,
          -117.665867,
          -117.665867,
          -117.773042,
          -118.473643,
          -122.23832,
          -124.136869,
          -118.473643,
          -118.473643,
          -118.473643,
          -118.346937,
          -118.346937,
          -124.151583,
          -117.87655,
          -117.87655,
          -118.145959,
          -117.13493,
          -118.140588,
          -118.423573,
          -117.190346,
          -117.159699,
          -121.852585,
          -116.429988,
          -117.683472,
          -121.466465,
          -116.334205,
          -117.373184,
          -121.447593,
          -117.168879,
          -122.015605,
          -117.89634,
          -118.490752,
          -118.443523,
          -118.443523,
          -117.113427,
          -117.113427,
          -118.482306,
          -121.518416,
          -117.697512,
          -119.760793,
          -119.760793,
          -119.760793,
          -119.760793,
          -119.760793,
          -119.760793,
          -121.554249,
          -121.623978,
          -117.662035,
          -117.81039,
          -117.81039,
          -118.095091,
          -116.832362,
          -121.290146,
          -121.290146,
          -119.760793,
          -122.12555,
          -122.305447,
          -121.972699,
          -119.791731,
          null,
          -121.936319,
          -119.094824,
          -120.137875,
          -117.201203,
          -117.2599,
          -117.250058,
          -117.2599,
          -117.250058,
          -117.250058,
          -117.058031,
          -117.166883,
          -117.166883,
          -118.400973,
          -117.166883,
          -122.295343,
          -119.372586,
          -117.13493,
          -117.13493,
          -117.054512,
          -117.209642,
          -117.021511,
          -117.13493,
          -117.13493,
          -122.454973,
          -118.463365,
          -118.166649,
          -121.456373,
          -120.972289,
          -118.860221,
          -119.03614,
          -118.860221,
          -120.733134,
          -122.126873,
          -117.972146,
          -117.085982,
          -121.554249,
          -122.126873,
          -122.861923,
          -122.466627,
          -117.90511,
          -118.391902,
          -118.326912,
          -117.34404,
          -95.568033,
          -117.254763,
          -122.377104,
          -122.623922,
          -119.079552,
          -122.754057,
          -121.319246,
          -117.916639,
          -121.319246,
          -117.916639,
          -118.196793,
          -117.133073,
          -122.126873,
          -119.174092,
          -117.916639,
          -117.916639,
          -117.916639,
          -117.916639,
          -122.447662,
          -122.289143,
          -122.181698,
          -122.195535,
          -122.170871,
          -122.195535,
          -122.195535,
          -121.86059,
          -122.170871,
          -121.922762,
          -121.922762,
          -122.181698,
          -118.490752,
          -121.288287,
          -111.811432,
          -120.760921,
          -121.114408,
          -122.437253,
          -121.98334,
          -124.065667,
          -121.798467,
          -121.812301,
          -122.278115,
          -121.395843,
          -122.941077,
          -121.466465,
          -121.466465,
          -121.247693,
          -121.247693,
          -122.754057,
          -122.224074,
          -122.224074,
          -121.594591,
          -121.433384,
          -121.623978,
          -120.207783,
          -117.042396,
          -117.87655,
          -117.250058,
          -117.442303,
          -84.563367,
          -118.187701,
          -118.347957,
          -118.347957,
          -118.347957,
          -117.296984,
          -117.994904,
          -120.739893,
          -118.238642,
          -121.456373,
          -121.444372,
          -121.456373,
          -121.456373,
          -121.280172,
          -117.919761,
          -117.071764,
          -117.951129,
          -117.697512,
          -118.147902,
          -117.951129,
          -118.062692,
          -117.854783,
          -117.841688,
          -117.826009,
          -118.443523,
          -118.6649,
          -117.250058,
          -117.13493,
          -117.166883,
          -117.166883,
          null,
          -117.250058,
          -117.166883,
          -117.2599,
          -117.250058,
          -122.422453,
          null,
          -122.386927,
          null,
          -122.386927,
          -122.386927,
          -122.386927,
          -122.386927,
          -122.386927,
          null,
          -122.386927,
          null,
          -122.386927,
          null,
          -122.386927,
          -122.386927,
          -122.286321,
          -117.170912,
          -117.87655,
          -118.047732,
          -118.211991,
          -118.166649,
          -118.644401,
          -118.239494,
          -119.873914,
          -119.680602,
          -119.873914,
          -119.873914,
          -119.873914,
          -118.447609,
          -121.86059,
          -121.86059,
          -122.257996,
          -119.223196,
          -119.223196,
          -118.145959,
          -122.454973,
          -121.141635,
          -117.320138,
          -117.292048,
          -118.417488,
          -74.016862,
          -121.956753,
          -121.756479,
          -84.46161,
          -119.175866,
          null,
          -111.919239,
          -85.14578,
          -122.454973,
          -117.974985,
          -118.211991,
          -118.024352,
          -112.304916,
          -121.857077,
          null
         ],
         "marker": {
          "color": "#636efa"
         },
         "mode": "markers",
         "name": "",
         "showlegend": false,
         "subplot": "mapbox",
         "type": "scattermapbox"
        }
       ],
       "layout": {
        "template": {
         "data": {
          "histogram2dcontour": [
           {
            "type": "histogram2dcontour",
            "colorbar": {
             "outlinewidth": 0,
             "ticks": ""
            },
            "colorscale": [
             [
              0.0,
              "#0d0887"
             ],
             [
              0.1111111111111111,
              "#46039f"
             ],
             [
              0.2222222222222222,
              "#7201a8"
             ],
             [
              0.3333333333333333,
              "#9c179e"
             ],
             [
              0.4444444444444444,
              "#bd3786"
             ],
             [
              0.5555555555555556,
              "#d8576b"
             ],
             [
              0.6666666666666666,
              "#ed7953"
             ],
             [
              0.7777777777777778,
              "#fb9f3a"
             ],
             [
              0.8888888888888888,
              "#fdca26"
             ],
             [
              1.0,
              "#f0f921"
             ]
            ]
           }
          ],
          "choropleth": [
           {
            "type": "choropleth",
            "colorbar": {
             "outlinewidth": 0,
             "ticks": ""
            }
           }
          ],
          "histogram2d": [
           {
            "type": "histogram2d",
            "colorbar": {
             "outlinewidth": 0,
             "ticks": ""
            },
            "colorscale": [
             [
              0.0,
              "#0d0887"
             ],
             [
              0.1111111111111111,
              "#46039f"
             ],
             [
              0.2222222222222222,
              "#7201a8"
             ],
             [
              0.3333333333333333,
              "#9c179e"
             ],
             [
              0.4444444444444444,
              "#bd3786"
             ],
             [
              0.5555555555555556,
              "#d8576b"
             ],
             [
              0.6666666666666666,
              "#ed7953"
             ],
             [
              0.7777777777777778,
              "#fb9f3a"
             ],
             [
              0.8888888888888888,
              "#fdca26"
             ],
             [
              1.0,
              "#f0f921"
             ]
            ]
           }
          ],
          "heatmap": [
           {
            "type": "heatmap",
            "colorbar": {
             "outlinewidth": 0,
             "ticks": ""
            },
            "colorscale": [
             [
              0.0,
              "#0d0887"
             ],
             [
              0.1111111111111111,
              "#46039f"
             ],
             [
              0.2222222222222222,
              "#7201a8"
             ],
             [
              0.3333333333333333,
              "#9c179e"
             ],
             [
              0.4444444444444444,
              "#bd3786"
             ],
             [
              0.5555555555555556,
              "#d8576b"
             ],
             [
              0.6666666666666666,
              "#ed7953"
             ],
             [
              0.7777777777777778,
              "#fb9f3a"
             ],
             [
              0.8888888888888888,
              "#fdca26"
             ],
             [
              1.0,
              "#f0f921"
             ]
            ]
           }
          ],
          "heatmapgl": [
           {
            "type": "heatmapgl",
            "colorbar": {
             "outlinewidth": 0,
             "ticks": ""
            },
            "colorscale": [
             [
              0.0,
              "#0d0887"
             ],
             [
              0.1111111111111111,
              "#46039f"
             ],
             [
              0.2222222222222222,
              "#7201a8"
             ],
             [
              0.3333333333333333,
              "#9c179e"
             ],
             [
              0.4444444444444444,
              "#bd3786"
             ],
             [
              0.5555555555555556,
              "#d8576b"
             ],
             [
              0.6666666666666666,
              "#ed7953"
             ],
             [
              0.7777777777777778,
              "#fb9f3a"
             ],
             [
              0.8888888888888888,
              "#fdca26"
             ],
             [
              1.0,
              "#f0f921"
             ]
            ]
           }
          ],
          "contourcarpet": [
           {
            "type": "contourcarpet",
            "colorbar": {
             "outlinewidth": 0,
             "ticks": ""
            }
           }
          ],
          "contour": [
           {
            "type": "contour",
            "colorbar": {
             "outlinewidth": 0,
             "ticks": ""
            },
            "colorscale": [
             [
              0.0,
              "#0d0887"
             ],
             [
              0.1111111111111111,
              "#46039f"
             ],
             [
              0.2222222222222222,
              "#7201a8"
             ],
             [
              0.3333333333333333,
              "#9c179e"
             ],
             [
              0.4444444444444444,
              "#bd3786"
             ],
             [
              0.5555555555555556,
              "#d8576b"
             ],
             [
              0.6666666666666666,
              "#ed7953"
             ],
             [
              0.7777777777777778,
              "#fb9f3a"
             ],
             [
              0.8888888888888888,
              "#fdca26"
             ],
             [
              1.0,
              "#f0f921"
             ]
            ]
           }
          ],
          "surface": [
           {
            "type": "surface",
            "colorbar": {
             "outlinewidth": 0,
             "ticks": ""
            },
            "colorscale": [
             [
              0.0,
              "#0d0887"
             ],
             [
              0.1111111111111111,
              "#46039f"
             ],
             [
              0.2222222222222222,
              "#7201a8"
             ],
             [
              0.3333333333333333,
              "#9c179e"
             ],
             [
              0.4444444444444444,
              "#bd3786"
             ],
             [
              0.5555555555555556,
              "#d8576b"
             ],
             [
              0.6666666666666666,
              "#ed7953"
             ],
             [
              0.7777777777777778,
              "#fb9f3a"
             ],
             [
              0.8888888888888888,
              "#fdca26"
             ],
             [
              1.0,
              "#f0f921"
             ]
            ]
           }
          ],
          "mesh3d": [
           {
            "type": "mesh3d",
            "colorbar": {
             "outlinewidth": 0,
             "ticks": ""
            }
           }
          ],
          "scatter": [
           {
            "fillpattern": {
             "fillmode": "overlay",
             "size": 10,
             "solidity": 0.2
            },
            "type": "scatter"
           }
          ],
          "parcoords": [
           {
            "type": "parcoords",
            "line": {
             "colorbar": {
              "outlinewidth": 0,
              "ticks": ""
             }
            }
           }
          ],
          "scatterpolargl": [
           {
            "type": "scatterpolargl",
            "marker": {
             "colorbar": {
              "outlinewidth": 0,
              "ticks": ""
             }
            }
           }
          ],
          "bar": [
           {
            "error_x": {
             "color": "#2a3f5f"
            },
            "error_y": {
             "color": "#2a3f5f"
            },
            "marker": {
             "line": {
              "color": "#E5ECF6",
              "width": 0.5
             },
             "pattern": {
              "fillmode": "overlay",
              "size": 10,
              "solidity": 0.2
             }
            },
            "type": "bar"
           }
          ],
          "scattergeo": [
           {
            "type": "scattergeo",
            "marker": {
             "colorbar": {
              "outlinewidth": 0,
              "ticks": ""
             }
            }
           }
          ],
          "scatterpolar": [
           {
            "type": "scatterpolar",
            "marker": {
             "colorbar": {
              "outlinewidth": 0,
              "ticks": ""
             }
            }
           }
          ],
          "histogram": [
           {
            "marker": {
             "pattern": {
              "fillmode": "overlay",
              "size": 10,
              "solidity": 0.2
             }
            },
            "type": "histogram"
           }
          ],
          "scattergl": [
           {
            "type": "scattergl",
            "marker": {
             "colorbar": {
              "outlinewidth": 0,
              "ticks": ""
             }
            }
           }
          ],
          "scatter3d": [
           {
            "type": "scatter3d",
            "line": {
             "colorbar": {
              "outlinewidth": 0,
              "ticks": ""
             }
            },
            "marker": {
             "colorbar": {
              "outlinewidth": 0,
              "ticks": ""
             }
            }
           }
          ],
          "scattermapbox": [
           {
            "type": "scattermapbox",
            "marker": {
             "colorbar": {
              "outlinewidth": 0,
              "ticks": ""
             }
            }
           }
          ],
          "scatterternary": [
           {
            "type": "scatterternary",
            "marker": {
             "colorbar": {
              "outlinewidth": 0,
              "ticks": ""
             }
            }
           }
          ],
          "scattercarpet": [
           {
            "type": "scattercarpet",
            "marker": {
             "colorbar": {
              "outlinewidth": 0,
              "ticks": ""
             }
            }
           }
          ],
          "carpet": [
           {
            "aaxis": {
             "endlinecolor": "#2a3f5f",
             "gridcolor": "white",
             "linecolor": "white",
             "minorgridcolor": "white",
             "startlinecolor": "#2a3f5f"
            },
            "baxis": {
             "endlinecolor": "#2a3f5f",
             "gridcolor": "white",
             "linecolor": "white",
             "minorgridcolor": "white",
             "startlinecolor": "#2a3f5f"
            },
            "type": "carpet"
           }
          ],
          "table": [
           {
            "cells": {
             "fill": {
              "color": "#EBF0F8"
             },
             "line": {
              "color": "white"
             }
            },
            "header": {
             "fill": {
              "color": "#C8D4E3"
             },
             "line": {
              "color": "white"
             }
            },
            "type": "table"
           }
          ],
          "barpolar": [
           {
            "marker": {
             "line": {
              "color": "#E5ECF6",
              "width": 0.5
             },
             "pattern": {
              "fillmode": "overlay",
              "size": 10,
              "solidity": 0.2
             }
            },
            "type": "barpolar"
           }
          ],
          "pie": [
           {
            "automargin": true,
            "type": "pie"
           }
          ]
         },
         "layout": {
          "autotypenumbers": "strict",
          "colorway": [
           "#636efa",
           "#EF553B",
           "#00cc96",
           "#ab63fa",
           "#FFA15A",
           "#19d3f3",
           "#FF6692",
           "#B6E880",
           "#FF97FF",
           "#FECB52"
          ],
          "font": {
           "color": "#2a3f5f"
          },
          "hovermode": "closest",
          "hoverlabel": {
           "align": "left"
          },
          "paper_bgcolor": "white",
          "plot_bgcolor": "#E5ECF6",
          "polar": {
           "bgcolor": "#E5ECF6",
           "angularaxis": {
            "gridcolor": "white",
            "linecolor": "white",
            "ticks": ""
           },
           "radialaxis": {
            "gridcolor": "white",
            "linecolor": "white",
            "ticks": ""
           }
          },
          "ternary": {
           "bgcolor": "#E5ECF6",
           "aaxis": {
            "gridcolor": "white",
            "linecolor": "white",
            "ticks": ""
           },
           "baxis": {
            "gridcolor": "white",
            "linecolor": "white",
            "ticks": ""
           },
           "caxis": {
            "gridcolor": "white",
            "linecolor": "white",
            "ticks": ""
           }
          },
          "coloraxis": {
           "colorbar": {
            "outlinewidth": 0,
            "ticks": ""
           }
          },
          "colorscale": {
           "sequential": [
            [
             0.0,
             "#0d0887"
            ],
            [
             0.1111111111111111,
             "#46039f"
            ],
            [
             0.2222222222222222,
             "#7201a8"
            ],
            [
             0.3333333333333333,
             "#9c179e"
            ],
            [
             0.4444444444444444,
             "#bd3786"
            ],
            [
             0.5555555555555556,
             "#d8576b"
            ],
            [
             0.6666666666666666,
             "#ed7953"
            ],
            [
             0.7777777777777778,
             "#fb9f3a"
            ],
            [
             0.8888888888888888,
             "#fdca26"
            ],
            [
             1.0,
             "#f0f921"
            ]
           ],
           "sequentialminus": [
            [
             0.0,
             "#0d0887"
            ],
            [
             0.1111111111111111,
             "#46039f"
            ],
            [
             0.2222222222222222,
             "#7201a8"
            ],
            [
             0.3333333333333333,
             "#9c179e"
            ],
            [
             0.4444444444444444,
             "#bd3786"
            ],
            [
             0.5555555555555556,
             "#d8576b"
            ],
            [
             0.6666666666666666,
             "#ed7953"
            ],
            [
             0.7777777777777778,
             "#fb9f3a"
            ],
            [
             0.8888888888888888,
             "#fdca26"
            ],
            [
             1.0,
             "#f0f921"
            ]
           ],
           "diverging": [
            [
             0,
             "#8e0152"
            ],
            [
             0.1,
             "#c51b7d"
            ],
            [
             0.2,
             "#de77ae"
            ],
            [
             0.3,
             "#f1b6da"
            ],
            [
             0.4,
             "#fde0ef"
            ],
            [
             0.5,
             "#f7f7f7"
            ],
            [
             0.6,
             "#e6f5d0"
            ],
            [
             0.7,
             "#b8e186"
            ],
            [
             0.8,
             "#7fbc41"
            ],
            [
             0.9,
             "#4d9221"
            ],
            [
             1,
             "#276419"
            ]
           ]
          },
          "xaxis": {
           "gridcolor": "white",
           "linecolor": "white",
           "ticks": "",
           "title": {
            "standoff": 15
           },
           "zerolinecolor": "white",
           "automargin": true,
           "zerolinewidth": 2
          },
          "yaxis": {
           "gridcolor": "white",
           "linecolor": "white",
           "ticks": "",
           "title": {
            "standoff": 15
           },
           "zerolinecolor": "white",
           "automargin": true,
           "zerolinewidth": 2
          },
          "scene": {
           "xaxis": {
            "backgroundcolor": "#E5ECF6",
            "gridcolor": "white",
            "linecolor": "white",
            "showbackground": true,
            "ticks": "",
            "zerolinecolor": "white",
            "gridwidth": 2
           },
           "yaxis": {
            "backgroundcolor": "#E5ECF6",
            "gridcolor": "white",
            "linecolor": "white",
            "showbackground": true,
            "ticks": "",
            "zerolinecolor": "white",
            "gridwidth": 2
           },
           "zaxis": {
            "backgroundcolor": "#E5ECF6",
            "gridcolor": "white",
            "linecolor": "white",
            "showbackground": true,
            "ticks": "",
            "zerolinecolor": "white",
            "gridwidth": 2
           }
          },
          "shapedefaults": {
           "line": {
            "color": "#2a3f5f"
           }
          },
          "annotationdefaults": {
           "arrowcolor": "#2a3f5f",
           "arrowhead": 0,
           "arrowwidth": 1
          },
          "geo": {
           "bgcolor": "white",
           "landcolor": "#E5ECF6",
           "subunitcolor": "white",
           "showland": true,
           "showlakes": true,
           "lakecolor": "white"
          },
          "title": {
           "x": 0.05
          },
          "mapbox": {
           "style": "light"
          }
         }
        },
        "mapbox": {
         "domain": {
          "x": [
           0.0,
           1.0
          ],
          "y": [
           0.0,
           1.0
          ]
         },
         "center": {
          "lat": 37.0902,
          "lon": -95.7129
         },
         "zoom": 3,
         "style": "open-street-map"
        },
        "legend": {
         "tracegroupgap": 0
        },
        "title": {
         "text": "Pharmacies in the US"
        },
        "margin": {
         "r": 0,
         "t": 0,
         "l": 0,
         "b": 0
        },
        "autosize": true,
        "height": 800
       },
       "config": {
        "plotlyServerURL": "https://plot.ly"
       }
      },
      "text/html": [
       "<div>                            <div id=\"f30e8538-0dee-400a-bed1-f604a594e2e6\" class=\"plotly-graph-div\" style=\"height:800px; width:100%;\"></div>            <script type=\"text/javascript\">                require([\"plotly\"], function(Plotly) {                    window.PLOTLYENV=window.PLOTLYENV || {};                                    if (document.getElementById(\"f30e8538-0dee-400a-bed1-f604a594e2e6\")) {                    Plotly.newPlot(                        \"f30e8538-0dee-400a-bed1-f604a594e2e6\",                        [{\"hovertemplate\":\"\\u003cb\\u003e%{hovertext}\\u003c\\u002fb\\u003e\\u003cbr\\u003e\\u003cbr\\u003eLAT=%{lat}\\u003cbr\\u003eLNG=%{lon}\\u003cextra\\u003e\\u003c\\u002fextra\\u003e\",\"hovertext\":[\"986 INFUSION PHARMACY #1 INC\",\"A & O SPECIALTY PHARMACY\",\"ACCREDO HEALTH GROUP INC\",\"ACCREDO HEALTH GROUP INC\",\"ADVANCE CARE PHARMACY\",\"ADVENTIST HEALTH AIS CANCER CENTER PHARMACY\",\"ADVENTIST HEALTH AND RIDEOUT\",\"ADVENTIST HEALTH AND RIDEOUT\",\"ADVENTIST HEALTH BAKERSFIELD - HOSPITAL PHARMACY\",\"ADVENTIST HEALTH DELANO\",\"ADVENTIST HEALTH GLENDALE\",\"ADVENTIST HEALTH HANFORD\",\"ADVENTIST HEALTH HOWARD MEMORIAL\",\"ADVENTIST HEALTH LODI MEMORIAL HOSPITAL PHARMACY 1STFLR NORTHWING\",\"ADVENTIST HEALTH MENDOCINO COAST\",\"ADVENTIST HEALTH SIMI VALLEY\",\"ADVENTIST HEALTH SIMI VALLEY\",\"ADVENTIST HEALTH SONORA\",\"ADVENTIST HEALTH SONORA-PHARMACY\",\"ADVENTIST HEALTH SPECIALTY BAKERSFIELD\",\"ADVENTIST HEALTH ST HELENA HOSPITAL CANCER CENTER PHARMACY\",\"ADVENTIST HEALTH ST HELENA HOSPITAL INPATIENT PHARMACY\",\"ADVENTIST HEALTH TEHACHAPI VALLEY\",\"ADVENTIST HEALTH TULARE\",\"ADVENTIST HEALTH UKIAH VALLEY\",\"ADVENTIST HEALTH WHITE MEMORIAL MONTEBELLO\",\"AHMC ANAHEIM REGIONAL MEDICAL CENTER - MAIN PHARMACY\",\"AHMC SETON MEDICAL CENTER LLC\",\"ALAMEDA HOSPITAL\",\"ALERACARE PHARMACY\",\"ALERACARE PHARMACY CALIFORNIA\",\"ALHAMBRA HOSPITAL MEDICAL CENTER\",\"ALHAMBRA HOSPITAL MEDICAL CENTER\",\"ALLIANCERX WALGREENS PHARMACY #15443\",\"ALLIANCERX WALGREENS PHARMACY #16287\",\"ALTA BATES SUMMIT MED CTR HERRICK INFUSION PHARMACY\",\"ALTA BATES SUMMIT MEDICAL CENTER - ALTA BATES CAMPUS\",\"ALTA BATES SUMMIT MEDICAL CENTER - SUMMIT CAMPUS RM G744\",\"AMBROSIA HEALTHCARE INC\",\"AMERICAN OUTCOMES MANAGEMENT, LP DBA AOM INFUSION\",\"AMERICAN RIVER INFUSION SERVICES\",\"AMERIPHARMA\",\"ANTELOPE VALLEY MEDICAL CENTER IV ROOM\",\"ARROWHEAD REGIONAL MEDICAL CENTER PHARMACY\",\"BAKERSFIELD MEMORIAL HOSPITAL\",\"BAKERSFIELD MEMORIAL HOSPITAL PHARMACY\",\"BAKERSFIELD REHABILITATION HOSPITAL\",\"BANNER LASSEN MEDICAL CENTER 1ST FLOOR ROOM 523\",\"BARLOW HOSPITAL PHARMACY\",\"BARSTOW COMMUNITY HOSPITAL\",\"BARTON MEMORIAL HOSPITAL PHARMACY\",\"BASIC HOME INFUSION INC\",\"BCP VETERINARY PHARMACY\",\"BEAR VALLEY COMMUNITY HOSPITAL\",\"BECKMAN RESEARCH INSTITUTE OF THE CITY OF HOPE\",\"BIOLOGIC INFUSION PHARMACY\",\"BIOMED CALIFORNIA INC\",\"BIOPLUS SPECIALTY INFUSION CA, LLC\",\"BIOSCRIP INFUSION SERVICES\",\"BOND PHARMACY INC DBA ADVANCED INFUSION SOLUTIONS\",\"BOND PHARMACY INC DBA ADVANCED INFUSION SOLUTIONS\",\"BOOTHWYN PHARMACY LLC\",\"BOWYER PHARMACY\",\"BROOKS HEALTH CARE\",\"CA PACIFIC MED CTR PHY - DAVIES CAMPUS\",\"CALIFORNIA HOSPITAL MEDICAL CENTER\",\"CALIFORNIA REHABILITATION INSTITUTE LLC 9TH FLOOR\",\"CALIFORNIA SPECIALTY PHARMACY LLC\",\"CARDINAL HEALTH\",\"CARDINAL HEALTH\",\"CARDINAL HEALTH 414 LLC\",\"CARDINAL HEALTH 414, LLC\",\"CARDINAL HEALTH 414,LLC\",\"CARDINAL HEALTH 414,LLC\",\"CARDINAL HEALTH 414,LLC\",\"CARDINAL HEALTH 414,LLC\",\"CARDINAL HEALTH 414,LLC\",\"CARDINAL HEALTH 414,LLC\",\"CARDINAL HEALTH 414,LLC\",\"CARDINAL HEALTH_414,LLC\",\"CARDINAL HEALTH_414,LLC\",\"CAREMARK ILLINOIS SPECIALTY PHARMACY, LLC DBA CVS\\u002fSPECIALTY OR\",\"CASA COLINA HOSPITAL PHARMACY\",\"CD PHARMACY LLC DBA RED ROCK PHARMACY\",\"CEDARS SINAI MEDICAL CENTER - CENTRAL PHARMACY MAIN SOUTH TOWER\",\"CEDARS SINAI MEDICAL CENTER - MARK TAPER\",\"CEDARS-SANAI TOWER HEMATOLOGY ONCOLOGY PHARMACY\",\"CEDARS-SINAI MEDICAL CENTER -4TH FLOOR MAIN: 4407-4408\",\"CEDARS-SINAI MEDICAL CENTER AHSP PLAZA LEVEL ROOM A2403\",\"CEDARS-SINAI MEDICAL CENTER ASHP\",\"CEDARS-SINAI MEDICAL CENTER PHARMACY #6\",\"CEDARS-SINAI MEDICAL CENTER PHY #4\",\"CEDARS-SINAI TOWER HEMATOLOGY ONCOLOGY PHARMACY\",\"CENTINELA HOSPITAL MEDICAL CENTER\",\"CENTRAL ADMIXTURE PHARMACY SERVICES INC\",\"CENTRAL ADMIXTURE PHARMACY SERVICES INC\",\"CENTRAL VALLEY SPECIALTY HOSPITAL - PHARMACY IV ROOM\",\"CFHS HOLDINGS INC DBA CEDARS SINAI MARINA DEL REY HOSPITAL\",\"CHA HOLLYWOOD PRESBYTERIAN MEDICAL CENTER INPATIENT PHARMACY IV R\",\"CHAPMAN GLOBAL MEDICAL CENTER INC\",\"CHEMIQUE PHARMACEUTICALS INC\",\"CHEMIQUE PHARMACEUTICALS INC\",\"CHILDREN'S HOSPITAL & HEALTH CENTER PHARMACY\",\"CHILDREN'S HOSPITAL & HEALTH CENTER PHARMACY\",\"CHILDREN'S HOSPITAL & RESEARCH CENTER AT OAKLAND\",\"CHILDREN'S HOSPITAL OF ORANGE COUNTY\",\"CHILDREN'S HOSPITAL OF ORANGE COUNTY HOSPITAL PHARMACY 6TH FLOOR\",\"CHILDREN'S HOSPITAL OF ORANGE COUNTY HOSPITAL PHARMACY INPATIENT\",\"CHILDREN'S HOSPITAL OF ORANGE COUNTY HOSPITAL PHARMACY OR SATELLI\",\"CHILDREN'S HOSPITAL PHARMACY - 4TH FLOOR 4A80\",\"CHILDRENS HOSPITAL OF ORANGE COUNTY\",\"CHILDRENS HOSPITAL PHARMACY - 2ND FLOOR 2A80\",\"CHILDRENS HOSPITAL PHARMACY - INPATIENT PHARMACY\",\"CHILDRENS HOSPITAL PHARMACY - OR SATELITE RM 2074\",\"CHILDRENS HOSPITAL PHARMACY - SATELITE EMERGENCY DEPT RM 0A66\",\"CHILDRENS HOSPITAL PHARMACY - SATELITE PAGE INFUSION CENTER P2-10\",\"CHILDRENS VILLAGE PHARMACY\",\"CHINESE HOSPITAL PHARMACY\",\"CHINO VALLEY MEDICAL CENTER\",\"CITY OF HOPE BRISKIN CENTER FOR CLINICAL RESEARCH  (Previous Name)\",\"CITRUS PHARMACY\",\"CITY OF HOPE CORONA\",\"CITY OF HOPE DUARTE BRISKIN\",\"CITY OF HOPE DUARTE HELFORD2\",\"CITY OF HOPE DUARTE HP8\",\"CITY OF HOPE DUARTE NW1202\",\"CITY OF HOPE DUARTE NW1252\",\"CITY OF HOPE ORANGE COUNTY\",\"CITY OF HOPE SEACLIFF\",\"CITY OF HOPE SOUTH BAY\",\"CITY OF HOPE UPLAND\",\"CLINISHARE PHARMACY\",\"CLOVIS COMMUNITY HOSPITAL PHARMACY - ED SATELLITE\",\"CLOVIS COMMUNITY HOSPITAL PHARMACY - ICU SATELLITE\",\"CLOVIS COMMUNITY HOSPITAL PHARMACY - MAIN PHARMACY\",\"COALINGA REGIONAL MEDICAL CENTER\",\"COAST PLAZA HOSPITAL\",\"COAST QUALITY PHARMACY LLC D\\u002fB\\u002fA ANAZAOHEALTH\",\"COLLEGE HOSPITAL OF COSTA MESA IV HOOD (BARRIER ISOLATOR) LOCATED\",\"COLLEGE MEDICAL CENTER\",\"COMMUNITY CANCER CENTER INFUSION PHARMACY\",\"COMMUNITY HOME INFUSION\",\"COMMUNITY HOSPITAL OF HUNTINGTON PARK\",\"COMMUNITY HOSPITAL OF SAN BERNARDINO\",\"COMMUNITY HOSPITAL OF THE MONTEREY PENINSULA\",\"COMMUNITY MEMORIAL HOSPITAL OF SAN BUENA VENTURA MAIN PHARMACY\",\"COMPLETE INFUSION CARE\",\"CONSONUS PHARMACY SERVICES CA NORTH LLC\",\"CONTRA COSTA REG MED CTR OUTPATIENT PHY\",\"CONTRA COSTA REG MEDICAL CTR HOSPITAL PHARMACY\",\"CONVERSIO HEALTH\",\"CORAM CVS\\u002fSPECIALTY INFUSION SERVICES\",\"CORAM CVS\\u002fSPECIALTY INFUSION SERVICES\",\"CORAM CVS\\u002fSPECIALTY INFUSION SERVICES\",\"CORAM HEALTHCARE CORPORATION OF NEVADA DBA CORAM CVS\\u002fSPECIALTY IN\",\"CORONA REGIONAL MEDICAL CENTER MAIN PHARMACY ON 1ST FLOOR\",\"COVETRUS NORTH AMERICA, LLC\",\"CPMC MISSION BERNAL CAMPUS PHARMACY\",\"CPMC VAN NESS CAMPUS 5TH FLOOR SATELLITE PHARMACY\",\"CPMC VAN NESS CAMPUS PHARMACY\",\"CRESCENT HEALTHCARE INC DBA CRESCENT HEALTHCARE\",\"CRESCENT HEALTHCARE INC DBA CRESCENT HEALTHCARE\",\"CRESCENT HEALTHCARE INC DBA CRESCENT HEALTHCARE\",\"CRESCENT HEALTHCARE INC DBA CRESCENT HEALTHCARE\",\"CRMC INFUSION CENTER - CLOVIS\",\"CURE STAT RX\",\"CVS\\u002fSPECIALTY OR CARELONRX SPECIALTY PHARMACY\",\"DAMERON HOSPITAL PHARMACY\",\"DCRX INFUSION PATIENT CARE AMERICA\",\"DEL'S PHARMACY I\",\"DESERT REGIONAL MED CTR COMP CANCER CTR\",\"DESERT REGIONAL MEDICAL CENTER - INPATIENT PHARMACY\",\"DESERT REGIONAL MEDICAL CENTER COMPREHENSIVE CANCER CENTER\",\"DESERT VALLEY HOSPITAL\",\"DESERT VALLEY HOSPITAL\",\"DIAMOND DRUGS INC\",\"DIGNITY HEALTH BAKERSFIELD INFUSION CENTER\",\"DIGNITY HEALTH BAKERSFIELD INFUSION CENTER\",\"DIGNITY HEALTH HOME INFUSION SERVICES\",\"DIGNITY HEALTH INFUSION CENTER CAMARILLO\",\"DIGNITY HEALTH INFUSION CENTER OXNARD\",\"DIGNITY HEALTH INFUSION CENTER VENTURA\",\"DIGNITY HEALTH MERCY ONCOLOGY CENTER PHARMACY\",\"DM CLINICAL COLLABORATIONS DBA INFUCARE RX\",\"DOCTORS HOSPITAL OF MANTECA\",\"DOCTORS HOSPTIAL OF RIVERSIDE\",\"DOCTORS MEDICAL CENTER OF MODESTO\",\"DOMINICAN HOSPITAL INFUSION CENTER\",\"DOMINICAN HOSPITAL PHARMACY\",\"DWAYNE'S FRIENDLY PHARMACY\",\"DYNAMIC RX LABS LLC\",\"EARL & LORAINE MILLER CHILDRENS HOSPITAL\",\"EAST LOS ANGELES DOCTORS HOSPITAL\",\"EDEN MEDICAL CENTER\",\"EISENHOWER MEDICAL CENTER - HOSPITAL LOWER LEVEL\",\"EISENHOWER MEDICAL CENTER - LUCY CURCI PHARMACY\",\"EISENHOWER MEDICAL CENTER YUCCA VALLEY\",\"EL CAMINO HOSPITAL - LOS GATOS\",\"EL CAMINO HOSPITAL CANCER CENTER\",\"EL CAMINO HOSPITAL LOS GATOS CANCER CENTER\",\"EL CAMINO HOSPITAL PHARMACY\",\"EL CAMINO HOSPITAL PHARMACY COMPOUNDING ROOM GB 512\",\"EL CAMINO HOSPITAL- LOS GATOS\",\"EL CENTRO REGIONAL MEDICAL CENTER PHARMACY\",\"EL CENTRO REGIONAL MEDICAL CENTER PHARMACY ECRMC PHARMACY ONCOLOG\",\"EL CENTRO REGIONAL MEDICAL CENTER PHY\",\"ELEVARE SPECIALTY SERVICES\",\"EMANATE HEALTH FOOTHILL PRESBYTERIAN HOSPITAL\",\"EMANATE HEALTH INTER-COMMUNITY MAIN PHARMACY (BASEMENT)\",\"EMANATE HEALTH QUEEN OF THE VALLEY HOSPITAL\",\"EMANATE HEALTH QUEEN OF THE VALLEY HOSPITAL MAIN PHARMACY BASEMEN\",\"EMANATE HEALTH QUEEN OF THE VALLEY HOSPITAL ROOM 249\",\"EMANATE HEALTH QUEEN OF THE VALLEY HOSPITAL ROOM 250\",\"EMANUEL MEDICAL CENTER\",\"EMANUEL SPECIALTY CLINIC MEDICAL ONCOLOGY PHARMACY\",\"ENCINO HOSPITAL MEDICAL CENTER PHARMACY\",\"ENCINO PHARMACY\",\"ENCOMPASS HEALTH REHABILITATION HOSPITAL OF BAKERSFIELD\",\"ENLOE MEDICAL CENTER\",\"ENLOE MEDICAL CENTER CANCER CENTER\",\"ENOVEX PHARMACY\",\"FAIRCHILD MEDICAL CENTER PHARMACY\",\"FIRESIDE PHARMACY\",\"FIRST CALL PHARMACY LLC\",\"FOOTHILL REGIONAL MEDICAL CENTER\",\"FRENCH HOSPITAL MEDICAL CENTER FIRST FLOOR\",\"FRESNO COMM MED CTR\",\"FRESNO COMM MED CTR PHARMACY 4TH FLOOR, 10-STORY BLDG, NEONATAL I\",\"FRESNO COMM MED CTR PHARMACY 5TH FLOOR, TCCB BLDG, INTENSIVE CARE\",\"FRESNO HEART AND SURGICAL HOSPITAL BAKER SG403 & EG4252\",\"FRESNO SURGICAL HOSPITAL STERILE PHARMACY 2ND FLOOR\",\"GARDEN GROVE HOSPITAL AND MEDICAL CENTER\",\"GARFIELD HOSPITAL MEDICAL CENTER 2ND FLOOR\",\"GLENDALE MEMORIAL HOSPITAL & HEALTH CENTER\",\"GLENN MEDICAL CENTER\",\"GMT PHARMACY\",\"GOLETA VALLEY COTTAGE HOSPITAL\",\"GOOD SAMARITAN HOSPITAL PHARMACY\",\"GOOD SAMARITAN HOSPITAL, LP\",\"GREATER EL MONTE COMMUNITY HOSPITAL PHARMACY IV ROOM\",\"GROSSMONT HOSPITAL PHARMACY HEART & VASCULAR TOWER LEVEL A\",\"HARTLEY MEDICAL CENTER PHARMACY INC\",\"HAZEL HAWKINS MEMORIAL HOSPITAL PHARMACY\",\"HEALDSBURG HOSPITAL\",\"HEALIX INFUSION THERAPY LLC\",\"HEARTLAND HOME INFUSIONS INC D.B.A HHI INFUSION SERVICES\",\"HEMET GLOBAL MEDICAL CENTER FIRST FLOOR PHARMACY\",\"HENRY MAYO NEWHALL HOSPITAL\",\"HI-DESERT MEDICAL CENTER HOSPITAL PHARMACY\",\"HIGHLAND CARE PAVILLION PHARMACY\",\"HIGHLAND HOSPITAL PHARMACY\",\"HOAG HOSPITAL IRVINE\",\"HOAG INFUSION CENTER PHARMACY\",\"HOAG MEMORIAL PRESBYTERIAN PHARMACY\",\"HOAG MEMORIAL PRESBYTERIAN PHARMACY\",\"HOPEWELL PHARMACY\",\"HOSPICARE PHARMACY INLAND EMPIRE\",\"HOSPICARE PHARMACY LOS ANGELES IV ROOM\",\"HUNTINGTON BEACH HOSPITAL\",\"HUNTINGTON HOSPITAL MAIN PHARMACY IV ROOM GROUND FLOOR\",\"HUNTINGTON HOSPITAL PEDIATRIC SATELLITE 1ST FLOOR\",\"HYGEIA LTC PHARMACY\",\"IMPRIMISRX\",\"INFUSERVE AMERICA INC\",\"INFUSION CARE PHARMACY NORTH\",\"INFUSION CENTER OF ARROYO GRANDE\",\"INFUSION CENTER OF SAN LUIS OBISPO\",\"INFUSION CONNECTIONS PHARMACY SERVICES INC\",\"INFUSIONRX\",\"INLAND VALLEY MEDICAL CENTER MAIN PHARMACY 1ST FLOOR\",\"INNOVATIVE COMPOUNDING PHARMACY\",\"INTEGRATED CARE SYSTEMS\",\"ISORX RADIOPHARMACY\",\"IV LEAGUE\",\"JOHN F KENNEDY MEMORIAL HOSPITAL\",\"JOHN MUIR HEALTH INFUSION PHARMACY\",\"JOHN MUIR MEDICAL CENTER\",\"JOHN MUIR MEDICAL CENTER CONCORD\",\"JOHN MUIR MEDICAL CENTER WALNUT CREEK\",\"JOHN MUIR MEDICAL CENTER WALNUT CREEK PEDIATRIC SATELLITE PHARM\",\"JUBILANT DRAXIMAGE INC DBA JUBILANT RADIOPHARMA\",\"JUBILANT DRAXIMAGE INC DBA JUBILANT RADIOPHARMA\",\"JUBILANT DRAXIMAGE INC DBA JUBILANT RADIOPHARMA\",\"KABAFUSION, LLC\",\"KABAFUSION, LLC\",\"KAISER FDN HSP INP DISCHARGE PHY 39A 394\",\"KAISER FDN HSP INP DISCHARGE PHY 39A 394\",\"KAISER FDN HSP INP DISCHARGE PHY 72A 726\",\"KAISER FDN HSP INP PHY 12A\",\"KAISER FDN HSP INP PHY 12A\",\"KAISER FDN HSP INP PHY 16A\",\"KAISER FDN HSP INP PHY 16A\",\"KAISER FDN HSP INP PHY 51A\",\"KAISER FDN HSP INP PHY 51A FL 2 RM 213\",\"KAISER FDN HSP INP PHY 51A FL 2 RM 23B13\",\"KAISER FDN HSP INP PHY 60A\",\"KAISER FDN HSP INP\\u002fOUT DIS PHY 63A 634\",\"KAISER FDN HSP INP\\u002fOUT HSP PHY 31A 315\",\"KAISER FDN HSP INP\\u002fOUT HSP PHY 31A 315\",\"KAISER FDN HSP INP\\u002fOUT HSP PHY 58A 584\",\"KAISER FDN HSP INP\\u002fOUT HSP PHY 58A 584 FL 2 RM N2000\",\"KAISER FDN HSP INP\\u002fOUT PHY 35A-355\",\"KAISER FDN HSP PHY 21A\",\"KAISER FDN HSP PHY 21A\",\"KAISER FOUND HOSP PHARMACY #49A\",\"KAISER FOUND HOSPITAL PHARMACY #054\",\"KAISER FOUND HOSPITAL PHARMACY #054 - FL-1, RM H13R32\",\"KAISER FOUND HOSPITAL PHARMACY #85A\",\"KAISER FOUND HOSPITAL PHRMCY #57A MAIN PHARMACY\",\"KAISER FOUND HOSPITAL PHRMCY #67A\",\"KAISER FOUND HOSPITAL PHRMCY #67A \\u002f 67B\",\"KAISER FOUND HOSPITAL PHY #58B\",\"KAISER FOUND HSP PHY #44B FLR 2 RM H2164\",\"KAISER FOUND HSP PHY #44B FLR 2 RM P2531A\",\"KAISER FOUND HSP PHY #44B MAIN PHARMACY\",\"KAISER FOUNDATION HLTH MOB 2 PHY #686\",\"KAISER FOUNDATION HOSPITAL\",\"KAISER FOUNDATION HOSPITAL 551\",\"KAISER FOUNDATION HOSPITAL 551 - MAIN\",\"KAISER FOUNDATION HOSPITAL IP MAIN PHARMACY\",\"KAISER FOUNDATION HOSPITAL MAIN PHARMACY ROOM  #1047\",\"KAISER FOUNDATION HOSPITAL PHARMACY\",\"KAISER FOUNDATION HOSPITAL PHARMACY\",\"KAISER FOUNDATION HOSPITAL PHARMACY #054 MAIN PHARMACY\",\"KAISER FOUNDATION HOSPITAL PHARMACY #10A MAIN PHARMACY\",\"KAISER FOUNDATION HOSPITAL PHARMACY #247\",\"KAISER FOUNDATION HOSPITAL PHARMACY #28B\\u002f282\",\"KAISER FOUNDATION HOSPITAL PHARMACY #367 MAIN PHARMACY\",\"KAISER FOUNDATION HOSPITAL PHARMACY #372 MAIN PHARMACY\",\"KAISER FOUNDATION HOSPITAL PHARMACY #37B\\u002f378 FL 3 MAIN PHARMACY\",\"KAISER FOUNDATION HOSPITAL PHARMACY #529\",\"KAISER FOUNDATION HOSPITAL PHARMACY #61A MAIN PHARMACY\",\"KAISER FOUNDATION HOSPITAL PHARMACY #63C\",\"KAISER FOUNDATION HOSPITAL PHARMACY #651\",\"KAISER FOUNDATION HOSPITAL PHARMACY #71B\",\"KAISER FOUNDATION HOSPITAL PHARMACY #751\",\"KAISER FOUNDATION HOSPITAL PHARMACY #85A\",\"KAISER FOUNDATION HOSPITAL PHARMACY #92A FL 2, RM 2228\",\"KAISER FOUNDATION HOSPITAL PHARMACY #92A MAIN PHARMACY\",\"KAISER FOUNDATION HOSPITAL PHARMACY - MAIN PHARMACY\",\"KAISER FOUNDATION HOSPITAL PHARMACY 151 - FL 2, RM 2126\",\"KAISER FOUNDATION HOSPITAL PHARMACY 151 - MAIN\",\"KAISER FOUNDATION HOSPITAL PHARMACY MAIN PHARMACY\",\"KAISER FOUNDATION HOSPITAL PHARMACY MAIN PHARMACY\",\"KAISER FOUNDATION HOSPITAL PHY #253 MAIN PHARMACY\",\"KAISER HEALTH PLAN PHARMACY NO 338\",\"KAISER HOSPITAL PHARMACY #59A FL-1 RM W1D06\",\"KAISER HOSPITAL PHARMACY #59A MAIN PHARMACY\",\"KAISER ONCOLOGY PHARMACY #060\",\"KAISER ONCOLOGY PHARMACY #104\",\"KAISER ONCOLOGY PHARMACY #247\",\"KAISER ONCOLOGY PHARMACY #520\",\"KAISER ONCOLOGY PHARMACY #573\",\"KAISER ONCOLOGY PHARMACY #598\",\"KAISER ONCOLOGY PHARMACY #680\",\"KAISER ONCOLOGY PHARMACY #854\",\"KAISER ONCOLOGY PHARMACY #868\",\"KAISER ONCOLOGY PHRMCY #081\",\"KAISER ONCOLOGY PHRMCY #170\",\"KAISER ONCOLOGY PHRMCY #638\",\"KAISER PERMANENTE HOME INFUSION PHARMACY #620\",\"KAISER PERMANENTE ONCOLOGY PHARMACY #014C\",\"KAISER PERMANENTE ONCOLOGY PHARMACY #168\",\"KAISER PERMANENTE ONCOLOGY PHARMACY #379\",\"KAISER PERMANENTE ONCOLOGY PHARMACY #675\",\"KAISER PERMANENTE PHARMACY #005C\",\"KAISER PERMANENTE PHARMACY #122C\",\"KAISER PERMANENTE PHARMACY #162\",\"KAISER PERMANENTE PHARMACY #171\",\"KAISER PERMANENTE PHARMACY #181\",\"KAISER PERMANENTE PHARMACY #221\",\"KAISER PERMANENTE PHARMACY #252\",\"KAISER PERMANENTE PHARMACY #257C\",\"KAISER PERMANENTE PHARMACY #260C\",\"KAISER PERMANENTE PHARMACY #271C\",\"KAISER PERMANENTE PHARMACY #305C - RM 4644\",\"KAISER PERMANENTE PHARMACY #363C\",\"KAISER PERMANENTE PHARMACY #374C\",\"KAISER PERMANENTE PHARMACY #376\",\"KAISER PERMANENTE PHARMACY #398\",\"KAISER PERMANENTE PHARMACY #401\",\"KAISER PERMANENTE PHARMACY #414\",\"KAISER PERMANENTE PHARMACY #514\",\"KAISER PERMANENTE PHARMACY #524C\",\"KAISER PERMANENTE PHARMACY #531C\",\"KAISER PERMANENTE PHARMACY #551C\",\"KAISER PERMANENTE PHARMACY #607\",\"KAISER PERMANENTE PHARMACY #612T2\",\"KAISER PERMANENTE PHARMACY #889C\",\"KAISER PERMANENTE PHARMACY #922\",\"KAISER PERMANENTE PHARMACY #979\",\"KAISER PERMANENTE PHY #193\",\"KAISER ZION ONCOLOGY PHARMACY #202C\",\"KAWEAH HEALTH ACEQUIA WING SATALITE PHARMACY\",\"KAWEAH HEALTH HOME INFUSION PHARMACY\",\"KAWEAH HEALTH MEDICAL CENTER PHARMACY\",\"KECK HOSPITAL OF USC - ARCADIA TREATMENT CENTER\",\"KECK HOSPITAL OF USC - NORRIS HEALTHCARE CENTER PHARMACY\",\"KECK HOSPITAL OF USC 3RD FLOOR PHARMACY\",\"KECK HOSPITAL OF USC 4TH FLOOR OR PHARMACY\",\"KECK HOSPITAL OF USC 9TH FLOOR PHARMACY\",\"KECK HOSPITAL OF USC MAIN PHARMACY\",\"KECK MEDICINE OF USC-NEWPORT PHARMACY\",\"KENTFIELD HOSPITAL\",\"KENTFIELD HOSPITAL SAN FRANCISCO\",\"KERN MEDICAL CENTER PHARMACY RM 1150\",\"KERN VALLEY HEALTHCARE DISTRICT\",\"KINDRED HOSPITAL BALDWIN PARK\",\"KINDRED HOSPITAL BREA\",\"KINDRED HOSPITAL LA MIRADA\",\"KINDRED HOSPITAL LOS ANGELES\",\"KINDRED HOSPITAL ONTARIO\",\"KINDRED HOSPITAL PARAMOUNT\",\"KINDRED HOSPITAL RANCHO\",\"KINDRED HOSPITAL RIVERSIDE\",\"KINDRED HOSPITAL SAN DIEGO\",\"KINDRED HOSPITAL SAN FRANCISCO BAY AREA\",\"KINDRED HOSPITAL SAN GABRIEL VALLEY\",\"KINDRED HOSPITAL SANTA ANA\",\"KINDRED HOSPITAL SOUTH BAY\",\"KINDRED HOSPITAL WESTMINSTER\",\"LA JOLLA DISCOUNT PHARMACY\",\"LA PALMA INTERCOMMUNITY HOSPITAL\",\"LA PALMA INTERCOMMUNITY HOSPITAL\",\"LAC HARBOR UCLA MEDICAL CENTER PHARMACY 3RD FLOOR SATELLITE\",\"LAC HARBOR UCLA MEDICAL CENTER PHARMACY 6TH FLOOR SATELLITE\",\"LAC HARBOR UCLA MEDICAL CENTER PHARMACY MAIN PHARMACY\",\"LAC HARBOR UCLA MEDICAL CENTER PHARMACY SE 1H09\",\"LEE SILSBY COMPOUNDING PHARMACY\",\"LLUMC - EAST CAMPUS HOSPITAL PHARMACY\",\"LOMA LINDA UNIVERSITY CHILDREN'S HOSPITAL\",\"LOMA LINDA UNIVERSITY CHILDREN'S HOSPITAL PHARMACY\",\"LOMA LINDA UNIVERSITY CHILDREN'S HOSPITAL PHARMACY (NICU-3RD)\",\"LOMA LINDA UNIVERSITY CHILDRENS HOSPITAL\",\"LOMA LINDA UNIVERSITY CHILDRENS HOSPITAL PEDIATRIC HEMATOLOGY\\u002fONC\",\"LOMA LINDA UNIVERSITY HOSPITAL PHARMACY- 14TH FLOOR\",\"LOMA LINDA UNIVERSITY HOSPITAL PHARMACY-3RD FLOOR\",\"LOMA LINDA UNIVERSITY HOSPITAL PHARMACY-6TH FLOOR\",\"LOMA LINDA UNIVERSITY HOSPITAL PHARMACY-ADULT CANCER CENTER\",\"LOMA LINDA UNIVERSITY HOSPITAL PHARMACY-BASEMENT\",\"LOMA LINDA UNIVERSITY MEDICAL CENTER - HOSPITAL PHARMACY (2ND FLO\",\"LOMA LINDA UNIVERSITY MEDICAL CENTER - MURRIETA\",\"LOMA LINDA UNIVERSITY MEDICAL CENTER ADULT INFUSION PHARMACY HIGH\",\"LOMA LINDA UNIVERSITY SURGICAL HOSPITAL\",\"LOMPOC VALLEY MEDICAL CENTER\",\"LOMPOC VALLEY MEDICAL CENTER HEMATOLOGY-ONCOLOGY PHARMACY\",\"LONG BEACH MEMORIAL MEDICAL CENTER\",\"LOS ANGELES COMMUNITY HOSPITAL AT NORWALK\",\"LOS ANGELES COMMUNITY HOSPITAL PHARMACY\",\"LOS ANGELES COUNTY HIGH DESERT REGIONAL HEALTH CENTER PHARMACY\",\"LOS ANGELES GENERAL MEDICAL CENTER INPATIENT PHARMACY\",\"LOS ANGELES GENERAL MEDICAL CENTER INPATIENT PHARMACY\",\"LOS ANGELES GENERAL MEDICAL CENTER INPATIENT PHARMACY\",\"LOS ANGELES GENERAL MEDICAL CENTER INPATIENT PHARMACY\",\"LOS ANGELES GENERAL MEDICAL CENTER INPATIENT PHARMACY\",\"LOS ROBLES HOSPITAL AND MEDICAL CENTER\",\"LPCH CHILDRENS HOME PHARMACY\",\"LUCILE PACKARD CHILDREN'S HOSPITAL RM 2875 INPATIENT PHARMACY\",\"LUCILE SALTER PACKARD CHILDRENS HSP\",\"LUCILE SALTER PACKARD CHILDRENS HSP\",\"LUCILE SALTER PACKARD CHILDRENS HSP\",\"LUNDQUIST INSTITUTE FOR BIOMEDICAL INNOVATION\",\"LYNNFIELD DRUG INC DBA FREEDOM FERTILITY PHARMACY\",\"MAD RIVER COMMUNITY HOSPITAL PHARMACY\",\"MAMMOTH HOSPITAL\",\"MANDELL'S CLINICAL PHARMACY\",\"MARIAN REGIONAL MEDICAL CENTER\",\"MARIAN REGIONAL MEDICAL CENTER ARROYO GRANDE\",\"MARIN GENERAL HOSPITAL PHARMACY MAIN PHARMACY, 2ND FLOOR\",\"MARIN GENERAL HOSPITAL PHARMACY SATELLITE PHARAMCY, 5TH FLOOR\",\"MARIN WELLNESS PHARMACY LLC D\\u002fB\\u002fA APEX INFUSION PHARMACY\",\"MARINER ADVANCED PHARMACY CORP\",\"MARK TWAIN MEDICAL CENTER\",\"MARSHALL HOSPITAL PHARMACY; 2ND FLOOR SURGERY WING\",\"MARSHALL MEDICAL ONCOLOGY PHARMACY\",\"MARTIN LUTHER KING JR COMMUNITY HOSPITAL PHARMACY\",\"MARTIN LUTHER KING JR OUTPATIENT CENTER PHARMACY\",\"MAYERS MEMORIAL HOSPITAL PHARMACY\",\"MEDRX INFUSION CLINICAL PHARMACY\",\"MEDSPECIALTIES COMPOUNDING PHARMACY\",\"MEMORIAL HOSPITAL LOS BANOS PHARMACY\",\"MEMORIAL HOSPITAL OF GARDENA\",\"MEMORIAL MEDICAL CENTER PHARMACY- INPATIENT\",\"MENIFEE GLOBAL MEDICAL CENTER MAIN PHARMACY\",\"MERCY GENERAL HOSPITAL\",\"MERCY HOSPITAL\",\"MERCY HOSPITAL OF FOLSOM MAIN PHARMACY - LOWER LEVEL ROOM 170\",\"MERCY MEDICAL CENTER MAIN PHARMACY - GARDEN LEVEL ROOM # 0165\",\"MERCY MEDICAL CENTER MT SHASTA\",\"MERCY MEDICAL CENTER REDDING\",\"MERCY SAN JUAN MEDICAL CENTER PHARMACY 1ST FLOOR IV ROOM\",\"MERCY SOUTHWEST HOSPITAL\",\"METHODIST HOSPITAL OF SACRAMENTO\",\"MID VALLEY HEALTH SERVICES\",\"MILLS-PENINSULA HEALTH CENTER PHARMACY\",\"MILLS-PENINSULA MEDICAL CENTER PHARMACY\",\"MISSION HEALTH CENTER  (Previous Name)\",\"MISSION COMMUNITY HOSPITAL MAIN PHARMACY IN BASEMENT\",\"MISSION HOPE INFUSION CENTER\",\"MODEL DRUG\",\"MODEL DRUG INC\",\"MONROVIA MEMORIAL HOSPITAL\",\"MONTCLAIR HOSPITAL MEDICAL CENTER\",\"MONTEREY PARK HOSPITAL\",\"MOUNTAIN VIEW PHARMACEUTICALS\",\"MOUNTAINS COMMUNITY HOSPITAL PHARMACY\",\"NATIVIDAD MEDICAL CENTER 1ST FLOOR MAIN PHARMACY 1D018\",\"NORTH COUNTY ONCOLOGY\",\"NORTHBAY MEDICAL CENTER PHARMACY\",\"NORTHBAY SPECIALTY PHARMACY\",\"NORTHBAY VACAVALLEY HOSPITAL PHARMACY\",\"NORTHERN INYO HOSPITAL PHARMACY\",\"NORTHRIDGE HOSPITAL MEDICAL CENTER\",\"NORTHRIDGE HOSPITAL MEDICAL CENTER\",\"NOVATO COMMUNITY HOSPITAL - MAIL PHARMACY IV ROOM 2ND FLOOR\",\"NUTRISHARE LLC\",\"O'BRIEN PHARMACY\",\"O'CONNOR HOSPITAL\",\"OAK VALLEY HOSPITAL DISTRICT\",\"OJAI VALLEY COMMUNITY HOSPITAL\",\"OLIVE VIEW UCLA MED CTR PHY I\",\"OMNICARE OF CERRITOS\",\"OMNICARE OF HAYWARD\",\"OMNICARE OF NORTHERN CALIFORNIA\",\"OMNICARE OF SAN DIEGO\",\"OMNICARE OF SOUTHERN CALIFORNIA\",\"OPTION CARE\",\"OPTION CARE ENTERPRISES INC DBA OPTION CARE\",\"OPTUM PHARMACY 801, INC\",\"ORANGE COAST MEMORIAL MEDICAL CENTER\",\"ORANGE COUNTY GLOBAL MEDICAL CENTER\",\"OROVILLE HOSPITAL - MAIN PHARMACY\",\"OSO HOME CARE PHARMACY\",\"OSO HOME CARE PHARMACY\",\"OSRX INC\",\"OWL REXALL DRUG\",\"OWL WESTERN PHARMACY\",\"PACIFIC COMPOUNDING PHARMACY AND CONSULTATIONS INC\",\"PACIFIC WEST PHARMACY INC\",\"PACIFICA HOSPITAL OF THE VALLEY\",\"PALMDALE REGIONAL MEDICAL CENTER INPATIENT PHARMACY\",\"PALO VERDE HOSPITAL\",\"PALOMAR MEDICAL CENTER PHARMACY\",\"PALOMAR MEDICAL CENTER POWAY PHARMACY\",\"PALOMAR MEDICAL CNTER ESCONDIDO INFUSION PHARMACY\",\"PARADISE VALLEY HOSPITAL\",\"PARADISE VALLEY HOSPITAL\",\"PC AND MZ SAN FRANCISCO GEN HOSPITAL AND TRAUMA CTR INPT PHARMACY\",\"PENTEC HEALTH, INC.\",\"PETALUMA VALLEY HOSPITAL PHARMACY\",\"PETNET PHARMACEUTICAL\",\"PETNET PHARMACEUTICAL\",\"PETNET PHARMACEUTICAL\",\"PETNET PHARMACEUTICAL\",\"PHARMA101\",\"PHARMALABS LLC\",\"PHARMALOGIC LOS ANGELES\",\"PHARMARX PHARMACEUTICAL INC\",\"PHARMASCRIPT INC\",\"PHARMATRON A PHARMACY COMPANY\",\"PHARMERICA\",\"PHARMERICA\",\"PHARMERICA\",\"PHARMERICA\",\"PHARMERICA\",\"PHARMERICA\",\"PHARMERICA\",\"PHARMERICA\",\"PHAST PHARMACY\",\"PHILLIPS RANCH PHARMACY\",\"PIH HEALTH DOWNEY HOSPITAL\",\"PIH HEALTH GOOD SAMARITAN HOSPITAL\",\"PIH HEALTH GOOD SAMARITAN HOSPITAL\",\"PIH HEALTH GOOD SAMARITAN HOSPITAL 4TH FLOOR PHARMACY\",\"PIH HEALTH WHITTIER HOSPITAL PHCY\",\"PIH HEALTH WHITTIER HOSPITAL PHCY PLAZA TOWER MAIN PHARMACY\",\"PIONEERS MEMORIAL HEALTHCARE DISTRICT\",\"PIONEERS MEMORIAL HEALTHCARE DISTRICT MAIN PHARMACY\",\"PLAZA HOME CARE PHARMACY INC\",\"POLARIS PHARMACY SERVICES\",\"POLARIS PHARMACY SERVICES\",\"POLARIS PHARMACY SERVICES\",\"POMONA VALLEY HOSPITAL MEDICAL CENTER CENTRAL PHARMACY #DB20P\",\"POMONA VALLEY HOSPITAL MEDICAL CENTER SATELLITE PHARMACY #EC298A\",\"PREFERRED EXCELLENT CARE\",\"PREMIER INFUSION AND HEALTHCARE SERVICES, INC.\",\"PRIME HEALTHCARE SERVICES- ST. FRANCIS LLC\",\"PROLAB PHARMACY\",\"PROVIDENCE CEDARS-SINAI TARZANA MEDICAL CENTER\",\"PROVIDENCE HEALTH SYSTEM SOUTHERN CALIFORNIA DBA PROVIDENCE HOLY\",\"PROVIDENCE HOLY CROSS MEDICAL CENTER PHARMACY\",\"PROVIDENCE HOME INFUSION LA COUNTY\",\"PROVIDENCE HOME INFUSION ORANGE COUNTY\",\"PROVIDENCE LITTLE COMPANY OF MARY MED CTR SAN PEDRO\",\"PROVIDENCE LITTLE COMPANY OF MARY MED CTR TORRANCE\",\"PROVIDENCE MISSION HOSPITAL\",\"PROVIDENCE MISSION HOSPITAL CANCER CENTER\",\"PROVIDENCE MISSION HOSPITAL LAGUNA BEACH\",\"PROVIDENCE ONCOLOGY PHARMACY\",\"PROVIDENCE QUEEN OF THE VALLEY MEDICAL CENTER\",\"PROVIDENCE REDWOOD MEMORIAL HOSPITAL\",\"PROVIDENCE SAINT JOHN'S HEALTH CENTER- MAIN PHARMACY\",\"PROVIDENCE SAINT JOHN'S HEALTH CENTER- SATELLITE PHARMACY\",\"PROVIDENCE SAINT JOHNS HEALTH CENTER PHARMACY\",\"PROVIDENCE SAINT JOSEPH MEDICAL CENTER\",\"PROVIDENCE SAINT JOSEPH SATELLITE INFUSION PHARMACY\",\"PROVIDENCE ST JOSEPH HOSPITAL\",\"PROVIDENCE ST JOSEPH HOSPITAL PHARMACY INPATIENT PHARMACY\",\"PROVIDENCE ST. JOSEPH HOSPITAL PHARMACY\",\"QUADRACARE INC\",\"RADY CHILDREN'S HOMECARE PHARMACY\",\"RANCHO LOS AMIGOS NAT. REHAB CTR HOSPITAL PHARMACY\",\"RANCHO PARK PHARMACY\",\"RANCHO SANTA FE PHARMACY\",\"REDLANDS COMMUNITY HOSPITAL\",\"REGIONAL MEDICAL CENTER OF SAN JOSE\",\"REHABILITATION HOSPITAL OF SOUTHERN CALIFORNIA, LLC\",\"RIDGECREST REGIONAL HOSPITAL\",\"RIVER CITY PHARMACY INC DBA OPTION CARE\",\"RIVER'S EDGE PHARMACY\",\"RIVERSIDE COMMUNITY HOSPITAL CENTRAL PHARMACY I.V. ROOM\",\"RLS USA INC\",\"RLS USA INC\",\"RLS USA INC\",\"RLS USA INC\",\"RLS USA INC\",\"RONALD REAGAN UCLA MEDICAL CENTER 6TH FLOOR SATELLITE\",\"RONALD REAGAN UCLA MEDICAL CENTER I.V. ADDITIVE SERVICE\",\"RUHS - MC - INFUSION CENTER\",\"RUHS- MC- MAIN IV ROOM E1111\",\"RX UNLIMITED PHARMACY\",\"SACRAMENTO REHABILITATION HOSPITAL\",\"SADDLEBACK MEM MED CTR PHCY IND HSP\",\"SAINT AGNES MEDICAL CENTER CVOR PHARMACY SATELLITE (2ND FLOOR)\",\"SAINT AGNES MEDICAL CENTER EMERGENCY ROOM SATELLITE PHARMACY\",\"SAINT AGNES MEDICAL CENTER PHARMACY 2 MAINIV COMPOUNDING PHARMACY\",\"SAINT AGNES MEDICAL CENTER PHARMACY 2 WEST SATELLITE PHARMACY\",\"SAINT AGNES MEDICAL CENTER PHARMACY 3 MAIN PHARMACY\",\"SAINT AGNES MEDICAL CENTER PHARMACY OR PHARMACY SATELLITE\",\"SAINT LOUISE REGIONAL HOSPITAL\",\"SALINAS VALLEY MEMORIAL HOSPITAL PHARMACY\",\"SAN ANTONIO REGIONAL HOSPITAL\",\"SAN DIMAS COMMUNITY HOSPITAL\",\"SAN DIMAS COMMUNITY HOSPITAL\",\"SAN GABRIEL VALLEY MEDICAL CENTER\",\"SAN GORGONIO MEMORIAL HOSPITAL PHARMACY - FIRST FLOOR CENTRAL PHA\",\"SAN JOAQUIN GENERAL HOSPITAL\",\"SAN JOAQUIN GENERAL HOSPITAL INPATIENT PHARMACY IV ROOM (A1477)\",\"SAN JOAQUIN VALLEY REHABILITATION HOSPITAL\",\"SAN LEANDRO HOSPITAL\",\"SAN MATEO MEDICAL CENTER\",\"SAN RAMON REGIONAL MEDICAL CENTER PHARMACY 1ST FLOOR\",\"SANTA BARBARA COTTAGE HOSPITAL\",\"SANTA CLARA VALLEY  MEDICAL CENTER - BUILDING A IV PHARMACY\",\"SANTA CLARA VALLEY MEDICAL CENTER - BUILDING A IV PHARMACY\",\"SANTA PAULA HOSPITAL\",\"SANTA YNEZ VALLEY COTTAGE HOSPITAL\",\"SCRIPPS CENTRAL PHARMACY PRODUCTION CENTER\",\"SCRIPPS ENCINITAS COMPOUNDING PHARMACY\",\"SCRIPPS GREEN HOSPITAL\",\"SCRIPPS MEMORIAL HOSPITAL ENCINITAS\",\"SCRIPPS MEMORIAL HOSPITAL LA JOLLA PREBYS MAIN PHARMACY\",\"SCRIPPS MEMORIAL HOSPITAL, LA JOLLA--PREBYS OR SATELLITE\",\"SCRIPPS MERCY HOSPITAL - CHULA VISTA\",\"SCRIPPS MERCY HOSPITAL - SAN DIEGO\",\"SCRIPPS MERCY SD COMPOUNDING PHARMACY\",\"SCRIPTS\",\"SELECT SPECIALTY HOSPITAL - SAN DIEGO\",\"SEQUOIA HOSPITAL\",\"SEQUOIA REGIONAL CANCER CENTER PHARMACY\",\"SHARP CENTRAL PHARMACY SERVICES\",\"SHARP CENTRALIZED HOSPITAL PHARMACY\",\"SHARP CHULA VISTA MEDICAL CENTER\",\"SHARP CORONADO HOSPITAL AND HEALTHCARE CENTER\",\"SHARP GROSSMONT HOSPITAL PHARMACY 2-WEST SATELLITE PHARMACY 2ND F\",\"SHARP MARY BIRCH HOSPITAL PHARMACY FIRST FLOOR MAIN PHARMACY\",\"SHARP MEMORIAL HOSPITAL PHARMACY MAIN PHARMACY\",\"SHASTA REGIONAL MEDICAL CENTER - PHARMACY\",\"SHERMAN OAKS HOSPITAL\",\"SHRINERS FOR CHILDREN AMBULATORY SURGICAL CENTER\",\"SHRINERS HOSPITAL PHARMACY\",\"SIERRA NEVADA MEMORIAL HOSPITAL\",\"SIERRA VIEW MEDICAL CENTER-CANCER TREATMENT CENTER  (Previous Name)\",\"SIERRA VIEW DISTRICT HOSPITAL\",\"SIERRA VIEW MEDICAL CENTER-CANCER TREATMENT CENTER SUITE B\",\"SIERRA VISTA HOSPITAL INC\",\"SKILLED NURSING PHARMACY\",\"SKILLED NURSING PHARMACY\",\"SKILLED NURSING PHARMACY\",\"SOFIE CO\",\"SOLEO HEALTH INC\",\"SONOMA SPECIALTY PHARMACY\",\"SONOMA VALLEY HOSPITAL PHARMACY\",\"SOUTH COAST GLOBAL MEDICAL CENTER INC\",\"SOUTHERN CALIFORNIA HOSPITAL AT CULVER CITY\",\"SOUTHERN CALIFORNIA HOSPITAL AT HOLLYWOOD PHARMACY\",\"SOUTHWEST HEALTHCARE RANCHO SPRINGS HOSPITAL\",\"SPECIALTY VETERINARY PHARMACY\",\"ST BERNARDINE MEDICAL CENTER\",\"ST ELIZABETH COMMUNITY HOSPITAL PHARMACY CLEAN ROOM\",\"ST HELENA HOSPITAL CLEAR LAKE HOSPITAL PHARMACY\",\"ST JOHN'S HOSPITAL CAMARILLO\",\"ST JOSEPH HEALTH OUTPATIENT CANCER CENTER PHARMACY FOUNTAINGROVE\",\"ST JOSEPHS MEDICAL CENTER OF STOCKTON\",\"ST JUDE HOSPITAL INFUSION CENTER PHARMACY  (Previous Name)\",\"ST JOSEPHS MEDICAL CENTER STOCKTON\",\"ST JUDE MEDICAL CENTER INFUSION CENTER PHARMACY\",\"ST MARY MEDICAL CENTER BASEMENT PHARMACY\",\"ST MARY MEDICAL CENTER DBA PROVIDENCE ST MARY MEDICAL CENTER\",\"ST ROSE HOSPITAL PHARMACY\",\"ST. JOHN'S REGIONAL MEDICAL CENTER\",\"ST. JUDE MEDICAL CENTER PHARMACY\",\"ST. JUDE MEDICAL CENTER PHARMACY\",\"ST. JUDE MEDICAL CENTER PHARMACY\",\"ST. JUDE MEDICAL CENTER PHARMACY\",\"ST. MARYS MEDICAL CENTER LEVEL C\",\"STANFORD EMERYVILLE HEALTH CENTER PHARMACY\",\"STANFORD HEALTH CARE\",\"STANFORD HEALTH CARE\",\"STANFORD HEALTH CARE\",\"STANFORD HEALTH CARE - REDWOOD CITY\",\"STANFORD HEALTH CARE - REDWOOD CITY (PAV D)\",\"STANFORD HEALTH CARE - VALLEYCARE\",\"STANFORD HEALTH CARE 500P PHARMACY\",\"STANFORD HEALTH CARE- SAMARITAN PHARMACY\",\"STANFORD HEALTH SOUTH BAY CANCER CENTER PHARMACY\",\"STANFORD NEUROSCIENCE HEALTH CENTER PHARMACY\",\"STAR PHARMACY\",\"STOCKTON REGIONAL REHABILITATION HOSPITAL\",\"STRIVE PHARMACY\",\"SUTTER AMADOR HOSPITAL INPATIENT PHARMACY\",\"SUTTER AUBURN FAITH HOSPITAL PHARMACY\",\"SUTTER BAY HOSPITALS DBA PACIFIC HEIGHTS OUTPATIENT PHARMACY\",\"SUTTER BAY HOSPITALS DBA SUTTER MATERNITY & SURGERY CENTER OF SAN\",\"SUTTER COAST HOSPITAL INFUSION PHARMACY\",\"SUTTER DAVIS HOSPITAL INPATIENT PHARMACY\",\"SUTTER DELTA MEDICAL CENTER HOSPITAL PHARMACY\",\"SUTTER INFUSION & PHARMACY SERVICES\",\"SUTTER INFUSION & PHARMACY SERVICES\",\"SUTTER LAKESIDE PHARMACY\",\"SUTTER MEDICAL CENTER SACRAMENTO\",\"SUTTER MEDICAL CENTER SACRAMENTO INFUSION PHARMACY\",\"SUTTER ROSEVILLE MEDICAL CENTER FIRST FLOOR PHARMACY\",\"SUTTER ROSEVILLE MEDICAL CENTER INFUSION PHARMACY\",\"SUTTER SANTA ROSA REGIONAL HOSPITAL PHARMACY\",\"SUTTER SOLANO MEDICAL CENTER INFUSION PHARMACY\",\"SUTTER SOLANO MEDICAL CENTER INPATIENT PHARMACY - 1ST FLOOR - ROO\",\"SUTTER SURGICAL HOSPITAL - NORTH VALLEY\",\"SUTTER TRACY COMMUNITY HOSPITAL INPATIENT PHARMACY\",\"SVMHS-OUTPATIENT SERVICE-INFUSION CENTER\",\"TAHOE FOREST HOSPITAL PHARMACY\",\"TEMECULA VALLEY HOSPITAL\",\"THE CENTER FOR CANCER PREVENTION AND TREATMENT INFUSION CENTER PH\",\"THE JOHN M & SALLY B THORNTON HOSPITAL\",\"THE MEDICINE SHOPPE\",\"TMC ACQUISITION LLC DBA TAILOR MADE COMPOUNDING\",\"TODD CANCER PAVILION PHARMACY\",\"TORMED PHARMACY\",\"TORRANCE MEMORIAL MEDICAL CENTER 2ND FLOOR PHARMACY SATELLITE ROO\",\"TORRANCE MEMORIAL MEDICAL CENTER INPATIENT PHARMACY BASEMENT CLEA\",\"TRI-CITY HOSPITAL\",\"TRINITY CARE RX\",\"TWIN CITIES COMMUNITY HOSPITAL PHARMACY\",\"TWIN TOWERS CORRECTIONAL FACILITY\",\"U.C. DAVIS MEDICAL CENTER ROOM 0711D\",\"UC DAVIS HEALTH AT HOME\",\"UC DAVIS MEDICAL CENTER\",\"UC DAVIS MEDICAL CENTER INFUSION PHARMACY\",\"UC DAVIS MEDICAL CENTER PLACER CENTER FOR HEALTH PHARMACY\",\"UC IRVINE HEALTH CANCER CENTER - NEWPORT\",\"UC SAN DIEGO HEALTH EAST CAMPUS\",\"UCI HEALTH - FOUNTAIN VALLEY HOSPITAL PHARMACY\",\"UCI HEALTH - LAGUNA HILLS PHARMACY\",\"UCI HEALTH - LAKEWOOD HOSPITAL PHARMACY\",\"UCI HEALTH - LIVING CARE CENTER PHARMACY\",\"UCI HEALTH - LOS ALAMITOS HOSPITAL PHARMACY\",\"UCI HEALTH - PLACENTIA-LINDA HOSPITAL PHARMACY\",\"UCI HEALTH - SUSAN SAMUELI INTEGRATIVE HEALTH INSTITUTE PHARMACY\",\"UCI HEALTH IRVINE INFUSION PHARMACY ACC\",\"UCLA MED CTR CHS OUTPATIENT PHARMACY\",\"UCLA WEST VALLEY MEDICAL CENTER\",\"UCSD HEALTH LA JOLLA JACOBS MED CTR & SULPIZIO CARDIOVASCULAR CTR\",\"UCSD HOME INFUSION PHARMACY\",\"UCSD MEDICAL CENTER PHARMACY FIRST FLOOR, CENTRAL PHARMACY AREA,\",\"UCSD MEDICAL CENTER PHARMACY SECOND FLOOR\",\"UCSD MOORES CANCER CENTER\",\"UCSD OUTPATIENT PAVILION PHARMACY\",\"UCSD RESEARCH PHARMACY\",\"UCSD- SDCC INFUSION PHARMACY\",\"UCSD-ALTMAN CLINICAL TRANSLATIONAL RESEARCH INSTITUTE - RESEARCH\",\"UCSF HEALTH - SAINT FRANCIS HOSPITAL\",\"UCSF MEDICAL CENTER\",\"UCSF MEDICAL CENTER (MISSION BAY)\",\"UCSF MEDICAL CENTER AT MOUNT ZION\",\"UCSF MEDICAL CENTER BENIOFF\",\"UCSF MEDICAL CENTER BENIOFF 2ND FLR RM C2700 OR SATELLITE\",\"UCSF MEDICAL CENTER BENIOFF 4TH FLR RM C4411 MAIN PHARMACY\",\"UCSF MEDICAL CENTER BENIOFF 6TH FLR RM M6362 PEDIATRIC INFUSION\",\"UCSF MEDICAL CENTER BENIOFF6TH FLR RM C6984 INVESTIGATIONAL\",\"UCSF MEDICAL CENTER L487 (OR SATELLITE) ON 4TH FLOOR\",\"UCSF MEDICAL CENTER OUTPATIENT INFUSION PHARMACY\",\"UCSF MEDICAL CENTER ROOM A427\",\"UCSF MEDICAL CENTER WEIL BUILDING  (Previous Name)\",\"UCSF MEDICAL CENTER ROOM M1324\",\"UCSF MEDICAL CENTER WEILL BUILDING\",\"UCSF OUTPATIENT PHARMACY AT MISSION BAY\",\"UCSF PHARMACY CANCER CENTER BERKELEY\",\"UNIVERSITY COMPOUNDING PHARMACY\",\"UNIVERSITY OF CALIFORNIA IRVINE MEDICAL CENTER BLDG 23, 2ND FLOOR\",\"USC ARCADIA HOSPITAL\",\"USC KENNETH NORRIS JR CANCER HOSPITAL\",\"USC NORRIS CANCER HOSPITAL - PASADENA TREATMENT CENTER\",\"USC NORRIS CANCER HOSPITAL - SANTA CLARITA TREATMENT CENTER\",\"USC VERDUGO HILLS HOSPITAL\",\"VALLEY CHILDREN'S HOSPITAL\",\"VALLEY CHILDREN'S HOSPITAL\",\"VALLEY CHILDREN'S HOSPITAL\",\"VALLEY CHILDREN'S HOSPITAL\",\"VALLEY CHILDRENS HOSPITAL - PCUN 2ND FLOOR ICU-NORTH\",\"VALLEY PRESBYTERIAN HOSPITAL PHARMACY-PHARMACY HOSPITAL BASEMENT\",\"VALLEYCARE MEDICAL CENTER PHARMACY\",\"VALLEYCARE MEDICAL CENTER PHARMACY\",\"VALOR COMPOUNDING PHARMACY\",\"VENTURA COUNTY MEDICAL CENTER\",\"VENTURA COUNTY MEDICAL CENTER INFUSION CENTER PHARMACY\",\"VERDUGO PLAZA PHARMACY ALHAMBRA\",\"VIBRA HOSPITAL OF NORTHERN CALIFORNIA\",\"VIBRA HOSPITAL OF SACRAMENTO PHARMACY IV ROOM\",\"VIBRA HOSPITAL OF SAN BERNARDINO LLC\",\"VICTOR VALLEY GLOBAL MEDICAL CENTER\",\"VIVE RX INC\",\"VLS PHARMACY INC\",\"WASHINGTON HOSPITAL PHARMACY\",\"WATSONVILLE COMMUNITY HOSPITAL PHARMACY\",\"WEDGEWOOD PHARMACY LLC\",\"WEDGEWOOD PHARMACY LLC\",\"WEDGEWOOD PHARMACY LLC\",\"WEDGEWOOD PHARMACY LLC\",\"WELLNESS CENTER PHARMACY INC DBA DESIGNER DRUGS\",\"WELLSCRIPT\",\"WEST ANAHEIM MEDICAL CENTER\",\"WHITE MEMORIAL MEDICAL CENTER DBA ADVENTIST HEALTH WHITE MEMORIAL\",\"WHITTIER HOSPITAL MEDICAL CENTER\",\"WOMENS INTERNATIONAL PHARMACY, INC. DBA BELMAR PHARMACY\",\"WOODLAND MEMORIAL HOSPITAL STERILE COMPOUNDING SUITE\",\"You have reached the end of your results\"],\"lat\":[33.848733,36.636344,40.674947,28.489898,33.102005,35.384336,39.223939,39.223939,35.384336,35.779507,34.160359,36.29223,39.492842,38.114388,39.487185,34.258405,34.258405,37.984549,37.984549,35.621087,38.542448,38.542448,35.118772,36.178091,39.135023,34.015444,33.844983,37.681264,37.773793,33.62592,34.195685,34.090728,34.090728,null,null,37.866536,37.865183,37.834403,33.765401,32.70065,38.635653,33.788145,34.713292,34.02452,35.384336,35.384336,35.468183,40.551757,34.080017,34.980294,38.869825,null,29.749778,34.232796,34.141586,33.818477,33.956526,33.833744,33.666942,32.999309,32.425874,39.87028,34.0712,36.822349,37.769436,34.039378,34.057597,34.00784,39.771649,null,37.344482,39.898613,37.916555,40.601778,34.195685,33.867257,34.02452,36.834289,33.881158,38.605407,32.774046,42.067166,34.083086,37.044186,34.072924,34.072924,34.064958,34.072924,34.072924,34.072924,34.072924,34.072924,34.064958,33.956526,37.501368,33.933565,37.639029,33.976582,34.127194,33.80845,34.063516,33.972782,32.806794,32.806794,37.834403,33.788145,33.788145,33.788145,33.788145,34.127194,33.788145,34.127194,34.127194,34.127194,34.127194,34.127194,33.805401,37.804531,34.004468,34.141586,34.011953,33.840451,34.141586,34.141586,34.141586,34.141586,34.141586,33.666942,33.67901,33.840398,34.105282,34.224196,36.825296,36.825296,36.825296,36.197785,33.906956,28.009826,33.647763,33.805401,36.825296,36.822349,33.979248,34.122501,36.57469,34.283668,34.037251,38.408571,37.993892,37.993892,35.23575,34.035602,32.999818,44.874984,36.061718,33.840451,33.635109,37.750021,37.795388,37.795388,33.933565,37.605905,32.999818,33.970847,36.825296,32.899592,39.173116,37.952452,26.278502,34.10097,33.860925,33.860925,33.641767,34.501472,34.480247,40.628381,35.342891,35.342891,34.923013,34.227892,34.205247,34.283668,40.527834,null,37.830267,33.882579,37.671978,37.031475,37.031475,37.492115,47.47202,33.805401,34.022502,37.714509,33.768584,33.768584,34.185894,37.216953,37.380566,37.216953,37.380566,37.380566,37.216953,32.770197,32.770197,32.770197,34.17051,34.156529,34.084747,34.066964,34.066964,34.066964,34.066964,37.528476,37.528476,34.149588,34.160236,35.342891,39.745628,39.745628,34.168366,41.756147,33.708012,29.991693,33.734005,35.23575,36.732891,36.732891,36.732891,36.862209,36.822349,33.763905,34.052922,34.136194,39.491654,32.777999,34.449185,37.256765,35.621087,34.046243,32.777999,33.864617,36.902045,38.622985,29.620312,41.743074,33.667301,34.439855,34.168333,37.80432,37.80432,33.666942,33.666942,33.623208,null,null,33.828396,34.173885,33.723228,34.13946,34.13946,34.052922,null,27.87506,33.805401,35.176043,35.23575,34.026608,34.283668,33.617844,38.666597,36.391777,37.916555,33.997862,33.710984,37.899936,37.899936,37.995285,37.899936,37.899936,34.051177,37.807215,33.994523,33.867743,37.792682,38.022366,38.022366,36.862209,37.952844,37.952844,37.501368,37.501368,37.889098,37.87195,37.87195,38.474099,37.230327,37.785969,37.785969,38.503685,38.503685,37.65549,38.18735,38.18735,37.743039,33.921793,33.921793,37.718023,37.965765,38.408571,38.408571,38.503685,36.976175,36.976175,36.976175,38.030177,33.799904,34.09741,34.09741,34.030578,33.799904,34.127194,33.936193,33.921793,37.82935,33.117154,38.666597,33.83796,33.666942,37.493297,33.889702,38.591897,37.230327,34.035602,38.604268,32.806794,37.718023,37.713275,37.713275,32.794714,34.085972,34.085972,34.177311,33.936193,34.222506,37.785969,38.741074,38.741074,37.715245,37.82935,33.117154,33.936193,37.965765,38.741074,38.030177,37.718023,33.765401,33.887821,34.085972,37.230327,38.645723,34.127194,37.501368,37.493297,38.408571,34.127194,33.799904,34.085972,34.035602,37.863914,32.794714,34.222506,34.222506,34.713292,34.439855,34.030578,33.83796,33.666942,33.788145,38.022366,34.177311,37.34864,37.889098,33.580016,33.889702,34.09741,38.474099,35.384336,34.283668,37.713275,38.580568,34.049809,32.794714,36.391777,36.391777,36.391777,34.136258,34.05038,34.05038,34.05038,34.05038,34.05038,33.623208,37.945512,37.769436,35.468183,35.617546,34.09741,33.927561,33.902045,33.988047,34.074087,33.898883,34.10097,33.828396,32.741501,37.713275,34.061624,33.765301,33.890853,null,32.856347,33.850616,33.850616,33.833181,33.833181,33.833181,33.833181,41.469494,34.051177,34.051177,34.051177,34.051177,34.051177,34.083458,34.051177,34.051177,34.051177,34.051177,34.051177,34.051177,33.580016,33.948255,34.011953,34.595669,34.595669,33.805401,33.906956,34.022502,34.713656,34.05038,34.05038,34.05038,34.05038,34.05038,34.212805,37.457524,37.374707,37.374707,37.374707,37.374707,33.833181,null,40.855694,37.548799,null,34.923013,35.176043,37.945512,37.945512,33.803431,37.576948,38.189115,38.734925,38.612129,33.926262,33.926262,41.006417,33.975332,33.896339,37.068068,33.890853,37.672906,33.746707,38.569828,35.384336,38.666597,37.345785,41.314337,40.601778,38.62415,35.192404,38.474099,37.554269,37.576948,37.57028,33.611945,34.222506,34.923013,35.165671,36.478239,34.1528,34.072329,34.052922,34.051177,34.259971,36.722714,33.201242,38.280745,38.333133,38.333133,37.492115,34.237519,34.237519,38.134068,38.427507,39.031176,37.315977,37.787236,34.530199,34.326584,33.867743,37.605905,38.114388,32.899592,34.224196,34.230854,35.16319,33.750815,33.710582,33.765639,39.47536,33.680302,34.204568,46.856398,34.119367,34.097345,38.002125,38.791075,34.230854,34.604105,33.736458,33.0824,33.102005,33.0824,32.670646,32.670646,37.750021,39.82883,38.235014,37.605905,33.997862,38.571577,34.051177,35.23575,27.87506,34.020221,34.224196,41.972872,36.825296,36.793661,32.908449,33.818477,37.603155,34.283668,38.635653,39.898839,33.970847,35.384336,32.852358,33.940445,34.052913,34.052913,34.052913,33.972782,33.972782,32.990121,32.990121,34.13946,37.750502,null,32.806794,34.083086,34.083086,33.763905,33.833181,33.923533,33.65554,34.155097,34.265879,34.265879,34.204568,33.830457,33.74212,33.840398,33.611945,33.611945,33.57093,34.026608,38.442011,40.578828,34.026608,34.026608,34.026608,34.173885,34.173885,40.798659,33.788145,33.788145,34.074736,32.806794,33.921793,34.037251,33.020908,34.011953,37.350421,33.768584,35.606509,38.571577,33.765401,33.99504,38.605407,32.806476,37.412402,33.879768,34.195685,34.0712,34.0712,33.889702,33.889702,34.237912,38.635653,33.591304,36.862209,36.862209,36.862209,36.862209,36.862209,36.862209,37.018419,36.636344,34.105282,34.110186,34.110186,34.090776,33.948948,37.873793,37.873793,36.862209,37.706137,37.538449,37.75512,34.533222,null,37.315977,34.402343,34.624395,32.899592,33.056022,32.856347,33.056022,32.856347,32.856347,32.637868,32.747415,32.747415,34.207341,32.747415,37.413691,36.301334,32.806794,32.806794,32.608185,32.699234,32.777999,32.806794,32.806794,40.601778,34.147149,34.13946,38.550547,39.196387,35.988087,35.860883,35.988087,35.296958,37.605905,33.999005,32.88607,37.018419,37.605905,38.398815,38.249428,33.721131,34.019323,34.099912,33.547613,29.624261,34.177083,40.18189,38.973012,34.227892,38.503685,37.973736,33.901886,37.973736,33.901886,33.782259,34.571218,37.605905,34.205247,33.901886,33.901886,33.901886,33.901886,37.769436,37.836844,37.374707,37.493297,37.418256,37.493297,37.493297,37.792682,37.418256,37.256765,37.256765,37.374707,34.195685,37.959736,33.353505,38.343033,38.99003,37.785969,37.031475,41.819578,38.554133,37.996501,37.773793,38.488809,39.045931,38.571577,38.571577,38.741074,38.741074,38.503685,38.18735,38.18735,38.994187,37.737191,36.636344,39.313089,33.511228,33.788145,32.856347,33.882579,37.874952,33.805401,33.807882,33.807882,33.807882,33.201242,33.801191,35.538809,34.065975,38.550547,38.534879,38.550547,38.550547,38.815548,33.647763,32.794714,33.710582,33.591304,33.849034,33.710582,33.795012,33.881158,33.642512,33.65844,34.0712,34.200834,32.856347,32.806794,32.747415,32.747415,null,32.856347,32.747415,33.056022,32.856347,37.795388,null,37.768106,null,37.768106,37.768106,37.768106,37.768106,37.768106,null,37.768106,null,37.768106,null,37.768106,37.768106,37.865777,32.724103,33.788145,34.128284,34.05038,34.13946,34.439855,34.185666,36.984885,36.751519,36.984885,36.984885,36.984885,34.199824,37.792682,37.792682,37.866536,34.283668,34.283668,34.074736,40.601778,38.666597,34.122501,34.501472,33.942108,40.641221,37.501368,36.946256,38.14029,35.192404,null,33.493513,35.030496,40.601778,33.818246,34.05038,33.950295,33.584969,38.687045,null],\"legendgroup\":\"\",\"lon\":[-117.788357,-121.623978,-80.106364,-81.290154,-117.080419,-119.020562,-121.49405,-121.49405,-119.020562,-119.200825,-118.213769,-119.622676,-123.340973,-121.144658,-123.741963,-118.775026,-118.775026,-120.349264,-120.349264,-118.789677,-122.419923,-122.419923,-118.493811,-119.370752,-123.259338,-118.111012,-117.952151,-122.480589,-122.278115,-112.002503,-118.490752,-118.127527,-118.127527,null,null,-122.257996,-122.238209,-122.264368,-116.334205,-97.386965,-121.518416,-117.87655,-118.15292,-117.289255,-119.020562,-119.020562,-118.779649,-120.675673,-118.262643,-116.964449,-120.008594,null,-95.345885,-116.902863,-117.957627,-118.038307,-118.358654,-118.314022,-117.732094,-96.841688,-90.169852,-75.712913,-118.443523,-119.760243,-122.447662,-118.2663,-118.413998,-118.030271,-104.882471,null,-121.883535,-86.233341,-122.341233,-122.454973,-118.490752,-118.330794,-117.289255,-119.83335,-117.854783,-121.447593,-117.142454,-87.934719,-117.737997,-113.577299,-118.37271,-118.37271,-118.382979,-118.37271,-118.37271,-118.37271,-118.37271,-118.37271,-118.382979,-118.358654,-121.956753,-118.062611,-120.964772,-118.455222,-118.295647,-117.791737,-117.790379,-118.022066,-117.13493,-117.13493,-122.264368,-117.87655,-117.87655,-117.87655,-117.87655,-118.295647,-117.87655,-118.295647,-118.295647,-118.295647,-118.295647,-118.295647,-118.187701,-122.410852,-117.684697,-117.957627,-117.159699,-117.601961,-117.957627,-117.957627,-117.957627,-117.957627,-117.957627,-117.732094,-118.014603,-118.353715,-117.662035,-118.632394,-119.68019,-119.68019,-119.68019,-120.422249,-118.08264,-82.547789,-117.919761,-118.187701,-119.68019,-119.760243,-118.217438,-117.320138,-121.840854,-119.223196,-118.423573,-122.022775,-122.136441,-122.136441,-120.615973,-117.591528,-117.071808,-93.152093,-115.058058,-117.601961,-112.093768,-122.415201,-122.422453,-122.422453,-118.062611,-122.126873,-117.071808,-117.32512,-119.68019,-117.201203,-76.842028,-121.329655,-80.1153,-117.57882,-116.566176,-116.566176,-116.273943,-117.292048,-117.408184,-79.150041,-119.064803,-119.064803,-120.259463,-119.079552,-119.174092,-119.223196,-122.318749,null,-121.20102,-117.442303,-121.007405,-121.98334,-121.98334,-118.390408,-122.2219,-118.187701,-118.199613,-122.079542,-116.429988,-116.429988,-116.432416,-121.926555,-122.085293,-121.926555,-122.085293,-122.085293,-121.926555,-115.59859,-115.59859,-115.59859,-118.289463,-117.841605,-117.886844,-117.937007,-117.937007,-117.937007,-117.937007,-120.853313,-120.853313,-118.489708,-118.515472,-119.064803,-121.843834,-121.843834,-118.267771,-122.659466,-116.403627,-90.258179,-117.819163,-120.615973,-119.783739,-119.783739,-119.783739,-119.760793,-119.760243,-117.931382,-118.143465,-118.260934,-122.26208,-117.021511,-119.804782,-121.922762,-118.789677,-118.053748,-117.021511,-118.180567,-121.350783,-122.889121,-95.605693,-87.929214,-116.963506,-118.644401,-116.288431,-122.207545,-122.207545,-117.732094,-117.732094,-117.933903,null,null,-117.20766,-118.346937,-118.008692,-118.166649,-118.166649,-118.143465,null,-82.648609,-118.187701,-120.476694,-120.615973,-118.473643,-119.223196,-117.259304,-121.141635,-119.372842,-122.341233,-118.393617,-116.204844,-121.999244,-121.999244,-122.040627,-121.999244,-121.999244,-117.248563,-122.301497,-118.149952,-118.069472,-121.86059,-122.555605,-122.555605,-119.760793,-122.381974,-122.381974,-121.956753,-121.956753,-122.037553,-122.069383,-122.069383,-121.443454,-121.785227,-122.437253,-122.437253,-122.754057,-122.754057,-122.422075,-122.224074,-122.224074,-121.23838,-118.140588,-118.140588,-121.032714,-121.775818,-122.022775,-122.022775,-122.754057,-121.95316,-121.95316,-121.95316,-121.297912,-118.298661,-117.968269,-117.968269,-118.399613,-118.298661,-118.295647,-117.493881,-118.140588,-122.203507,-117.180627,-121.141635,-117.870494,-117.732094,-122.195535,-117.113427,-121.408467,-121.785227,-117.591528,-121.280327,-117.13493,-121.032714,-122.16735,-122.16735,-117.071764,-117.464597,-117.464597,-118.615704,-117.493881,-118.444689,-122.437253,-121.247693,-121.247693,-121.9147,-122.203507,-117.180627,-117.493881,-121.775818,-121.247693,-121.297912,-121.032714,-116.334205,-118.12725,-117.464597,-121.785227,-121.445254,-118.295647,-121.956753,-122.195535,-122.022775,-118.295647,-118.298661,-117.464597,-117.591528,-122.306465,-117.071764,-118.444689,-118.444689,-118.15292,-118.644401,-118.399613,-117.870494,-117.732094,-117.87655,-122.555605,-118.615704,-121.984373,-122.037553,-117.14736,-117.113427,-117.968269,-121.443454,-119.020562,-119.223196,-122.16735,-121.49559,-117.470613,-117.071764,-119.372842,-119.372842,-119.372842,-118.026704,-118.211991,-118.211991,-118.211991,-118.211991,-118.211991,-117.933903,-122.56012,-122.447662,-118.779649,-118.452285,-117.968269,-117.887086,-118.008961,-118.370361,-117.605618,-118.166629,-117.57882,-117.20766,-117.127948,-122.16735,-117.892235,-117.881976,-118.297967,null,-117.250058,-118.039565,-118.039565,-118.292062,-118.292062,-118.292062,-118.292062,-81.512442,-117.248563,-117.248563,-117.248563,-117.248563,-117.248563,-117.270016,-117.248563,-117.248563,-117.248563,-117.248563,-117.248563,-117.248563,-117.14736,-116.987839,-117.159699,-120.352667,-120.352667,-118.187701,-118.08264,-118.199613,-117.86466,-118.211991,-118.211991,-118.211991,-118.211991,-118.211991,-118.882179,-122.176542,-122.181698,-122.181698,-122.181698,-122.181698,-118.292062,null,-124.066898,-118.839818,null,-120.259463,-120.476694,-122.56012,-122.56012,-118.16977,-122.316903,-120.638708,-120.789952,-120.964522,-118.249883,-118.249883,-121.480741,-118.355252,-117.796416,-120.843579,-118.297967,-120.946594,-117.172142,-121.440067,-119.020562,-121.141635,-120.42415,-122.380798,-122.454973,-121.324911,-119.175866,-121.443454,-120.951523,-122.316903,-122.365778,-117.665867,-118.444689,-120.259463,-120.655844,-119.52137,-118.000482,-117.698315,-118.143465,-117.248563,-117.199381,-121.633649,-117.296984,-122.00638,-121.920151,-121.920151,-118.390408,-118.517712,-118.517712,-122.52719,-121.314899,-94.630762,-121.936319,-120.759202,-119.310133,-118.382261,-118.069472,-122.126873,-121.144658,-117.201203,-118.632394,-118.365856,-119.046322,-112.090632,-117.951129,-117.790075,-121.41411,-117.833295,-118.326365,-114.014338,-117.855054,-117.906736,-121.324979,-121.234854,-118.365856,-118.239213,-114.687973,-117.127641,-117.080419,-117.127641,-117.094668,-117.094668,-122.415201,-75.435069,-122.557332,-122.126873,-118.393617,-121.466465,-117.248563,-120.615973,-82.648609,-118.286035,-118.632394,-87.662604,-119.68019,-119.761461,-117.14138,-118.038307,-122.018638,-119.223196,-121.518416,-86.05872,-117.32512,-119.020562,-116.987842,-118.129022,-118.26434,-118.26434,-118.26434,-118.022066,-118.022066,-115.358757,-115.358757,-118.166649,-121.749055,null,-117.13493,-117.737997,-117.737997,-117.931382,-118.292062,-118.200705,-95.60504,-118.547553,-118.456748,-118.456748,-118.326365,-117.905941,-118.312878,-118.353715,-117.665867,-117.665867,-117.773042,-118.473643,-122.23832,-124.136869,-118.473643,-118.473643,-118.473643,-118.346937,-118.346937,-124.151583,-117.87655,-117.87655,-118.145959,-117.13493,-118.140588,-118.423573,-117.190346,-117.159699,-121.852585,-116.429988,-117.683472,-121.466465,-116.334205,-117.373184,-121.447593,-117.168879,-122.015605,-117.89634,-118.490752,-118.443523,-118.443523,-117.113427,-117.113427,-118.482306,-121.518416,-117.697512,-119.760793,-119.760793,-119.760793,-119.760793,-119.760793,-119.760793,-121.554249,-121.623978,-117.662035,-117.81039,-117.81039,-118.095091,-116.832362,-121.290146,-121.290146,-119.760793,-122.12555,-122.305447,-121.972699,-119.791731,null,-121.936319,-119.094824,-120.137875,-117.201203,-117.2599,-117.250058,-117.2599,-117.250058,-117.250058,-117.058031,-117.166883,-117.166883,-118.400973,-117.166883,-122.295343,-119.372586,-117.13493,-117.13493,-117.054512,-117.209642,-117.021511,-117.13493,-117.13493,-122.454973,-118.463365,-118.166649,-121.456373,-120.972289,-118.860221,-119.03614,-118.860221,-120.733134,-122.126873,-117.972146,-117.085982,-121.554249,-122.126873,-122.861923,-122.466627,-117.90511,-118.391902,-118.326912,-117.34404,-95.568033,-117.254763,-122.377104,-122.623922,-119.079552,-122.754057,-121.319246,-117.916639,-121.319246,-117.916639,-118.196793,-117.133073,-122.126873,-119.174092,-117.916639,-117.916639,-117.916639,-117.916639,-122.447662,-122.289143,-122.181698,-122.195535,-122.170871,-122.195535,-122.195535,-121.86059,-122.170871,-121.922762,-121.922762,-122.181698,-118.490752,-121.288287,-111.811432,-120.760921,-121.114408,-122.437253,-121.98334,-124.065667,-121.798467,-121.812301,-122.278115,-121.395843,-122.941077,-121.466465,-121.466465,-121.247693,-121.247693,-122.754057,-122.224074,-122.224074,-121.594591,-121.433384,-121.623978,-120.207783,-117.042396,-117.87655,-117.250058,-117.442303,-84.563367,-118.187701,-118.347957,-118.347957,-118.347957,-117.296984,-117.994904,-120.739893,-118.238642,-121.456373,-121.444372,-121.456373,-121.456373,-121.280172,-117.919761,-117.071764,-117.951129,-117.697512,-118.147902,-117.951129,-118.062692,-117.854783,-117.841688,-117.826009,-118.443523,-118.6649,-117.250058,-117.13493,-117.166883,-117.166883,null,-117.250058,-117.166883,-117.2599,-117.250058,-122.422453,null,-122.386927,null,-122.386927,-122.386927,-122.386927,-122.386927,-122.386927,null,-122.386927,null,-122.386927,null,-122.386927,-122.386927,-122.286321,-117.170912,-117.87655,-118.047732,-118.211991,-118.166649,-118.644401,-118.239494,-119.873914,-119.680602,-119.873914,-119.873914,-119.873914,-118.447609,-121.86059,-121.86059,-122.257996,-119.223196,-119.223196,-118.145959,-122.454973,-121.141635,-117.320138,-117.292048,-118.417488,-74.016862,-121.956753,-121.756479,-84.46161,-119.175866,null,-111.919239,-85.14578,-122.454973,-117.974985,-118.211991,-118.024352,-112.304916,-121.857077,null],\"marker\":{\"color\":\"#636efa\"},\"mode\":\"markers\",\"name\":\"\",\"showlegend\":false,\"subplot\":\"mapbox\",\"type\":\"scattermapbox\"}],                        {\"template\":{\"data\":{\"histogram2dcontour\":[{\"type\":\"histogram2dcontour\",\"colorbar\":{\"outlinewidth\":0,\"ticks\":\"\"},\"colorscale\":[[0.0,\"#0d0887\"],[0.1111111111111111,\"#46039f\"],[0.2222222222222222,\"#7201a8\"],[0.3333333333333333,\"#9c179e\"],[0.4444444444444444,\"#bd3786\"],[0.5555555555555556,\"#d8576b\"],[0.6666666666666666,\"#ed7953\"],[0.7777777777777778,\"#fb9f3a\"],[0.8888888888888888,\"#fdca26\"],[1.0,\"#f0f921\"]]}],\"choropleth\":[{\"type\":\"choropleth\",\"colorbar\":{\"outlinewidth\":0,\"ticks\":\"\"}}],\"histogram2d\":[{\"type\":\"histogram2d\",\"colorbar\":{\"outlinewidth\":0,\"ticks\":\"\"},\"colorscale\":[[0.0,\"#0d0887\"],[0.1111111111111111,\"#46039f\"],[0.2222222222222222,\"#7201a8\"],[0.3333333333333333,\"#9c179e\"],[0.4444444444444444,\"#bd3786\"],[0.5555555555555556,\"#d8576b\"],[0.6666666666666666,\"#ed7953\"],[0.7777777777777778,\"#fb9f3a\"],[0.8888888888888888,\"#fdca26\"],[1.0,\"#f0f921\"]]}],\"heatmap\":[{\"type\":\"heatmap\",\"colorbar\":{\"outlinewidth\":0,\"ticks\":\"\"},\"colorscale\":[[0.0,\"#0d0887\"],[0.1111111111111111,\"#46039f\"],[0.2222222222222222,\"#7201a8\"],[0.3333333333333333,\"#9c179e\"],[0.4444444444444444,\"#bd3786\"],[0.5555555555555556,\"#d8576b\"],[0.6666666666666666,\"#ed7953\"],[0.7777777777777778,\"#fb9f3a\"],[0.8888888888888888,\"#fdca26\"],[1.0,\"#f0f921\"]]}],\"heatmapgl\":[{\"type\":\"heatmapgl\",\"colorbar\":{\"outlinewidth\":0,\"ticks\":\"\"},\"colorscale\":[[0.0,\"#0d0887\"],[0.1111111111111111,\"#46039f\"],[0.2222222222222222,\"#7201a8\"],[0.3333333333333333,\"#9c179e\"],[0.4444444444444444,\"#bd3786\"],[0.5555555555555556,\"#d8576b\"],[0.6666666666666666,\"#ed7953\"],[0.7777777777777778,\"#fb9f3a\"],[0.8888888888888888,\"#fdca26\"],[1.0,\"#f0f921\"]]}],\"contourcarpet\":[{\"type\":\"contourcarpet\",\"colorbar\":{\"outlinewidth\":0,\"ticks\":\"\"}}],\"contour\":[{\"type\":\"contour\",\"colorbar\":{\"outlinewidth\":0,\"ticks\":\"\"},\"colorscale\":[[0.0,\"#0d0887\"],[0.1111111111111111,\"#46039f\"],[0.2222222222222222,\"#7201a8\"],[0.3333333333333333,\"#9c179e\"],[0.4444444444444444,\"#bd3786\"],[0.5555555555555556,\"#d8576b\"],[0.6666666666666666,\"#ed7953\"],[0.7777777777777778,\"#fb9f3a\"],[0.8888888888888888,\"#fdca26\"],[1.0,\"#f0f921\"]]}],\"surface\":[{\"type\":\"surface\",\"colorbar\":{\"outlinewidth\":0,\"ticks\":\"\"},\"colorscale\":[[0.0,\"#0d0887\"],[0.1111111111111111,\"#46039f\"],[0.2222222222222222,\"#7201a8\"],[0.3333333333333333,\"#9c179e\"],[0.4444444444444444,\"#bd3786\"],[0.5555555555555556,\"#d8576b\"],[0.6666666666666666,\"#ed7953\"],[0.7777777777777778,\"#fb9f3a\"],[0.8888888888888888,\"#fdca26\"],[1.0,\"#f0f921\"]]}],\"mesh3d\":[{\"type\":\"mesh3d\",\"colorbar\":{\"outlinewidth\":0,\"ticks\":\"\"}}],\"scatter\":[{\"fillpattern\":{\"fillmode\":\"overlay\",\"size\":10,\"solidity\":0.2},\"type\":\"scatter\"}],\"parcoords\":[{\"type\":\"parcoords\",\"line\":{\"colorbar\":{\"outlinewidth\":0,\"ticks\":\"\"}}}],\"scatterpolargl\":[{\"type\":\"scatterpolargl\",\"marker\":{\"colorbar\":{\"outlinewidth\":0,\"ticks\":\"\"}}}],\"bar\":[{\"error_x\":{\"color\":\"#2a3f5f\"},\"error_y\":{\"color\":\"#2a3f5f\"},\"marker\":{\"line\":{\"color\":\"#E5ECF6\",\"width\":0.5},\"pattern\":{\"fillmode\":\"overlay\",\"size\":10,\"solidity\":0.2}},\"type\":\"bar\"}],\"scattergeo\":[{\"type\":\"scattergeo\",\"marker\":{\"colorbar\":{\"outlinewidth\":0,\"ticks\":\"\"}}}],\"scatterpolar\":[{\"type\":\"scatterpolar\",\"marker\":{\"colorbar\":{\"outlinewidth\":0,\"ticks\":\"\"}}}],\"histogram\":[{\"marker\":{\"pattern\":{\"fillmode\":\"overlay\",\"size\":10,\"solidity\":0.2}},\"type\":\"histogram\"}],\"scattergl\":[{\"type\":\"scattergl\",\"marker\":{\"colorbar\":{\"outlinewidth\":0,\"ticks\":\"\"}}}],\"scatter3d\":[{\"type\":\"scatter3d\",\"line\":{\"colorbar\":{\"outlinewidth\":0,\"ticks\":\"\"}},\"marker\":{\"colorbar\":{\"outlinewidth\":0,\"ticks\":\"\"}}}],\"scattermapbox\":[{\"type\":\"scattermapbox\",\"marker\":{\"colorbar\":{\"outlinewidth\":0,\"ticks\":\"\"}}}],\"scatterternary\":[{\"type\":\"scatterternary\",\"marker\":{\"colorbar\":{\"outlinewidth\":0,\"ticks\":\"\"}}}],\"scattercarpet\":[{\"type\":\"scattercarpet\",\"marker\":{\"colorbar\":{\"outlinewidth\":0,\"ticks\":\"\"}}}],\"carpet\":[{\"aaxis\":{\"endlinecolor\":\"#2a3f5f\",\"gridcolor\":\"white\",\"linecolor\":\"white\",\"minorgridcolor\":\"white\",\"startlinecolor\":\"#2a3f5f\"},\"baxis\":{\"endlinecolor\":\"#2a3f5f\",\"gridcolor\":\"white\",\"linecolor\":\"white\",\"minorgridcolor\":\"white\",\"startlinecolor\":\"#2a3f5f\"},\"type\":\"carpet\"}],\"table\":[{\"cells\":{\"fill\":{\"color\":\"#EBF0F8\"},\"line\":{\"color\":\"white\"}},\"header\":{\"fill\":{\"color\":\"#C8D4E3\"},\"line\":{\"color\":\"white\"}},\"type\":\"table\"}],\"barpolar\":[{\"marker\":{\"line\":{\"color\":\"#E5ECF6\",\"width\":0.5},\"pattern\":{\"fillmode\":\"overlay\",\"size\":10,\"solidity\":0.2}},\"type\":\"barpolar\"}],\"pie\":[{\"automargin\":true,\"type\":\"pie\"}]},\"layout\":{\"autotypenumbers\":\"strict\",\"colorway\":[\"#636efa\",\"#EF553B\",\"#00cc96\",\"#ab63fa\",\"#FFA15A\",\"#19d3f3\",\"#FF6692\",\"#B6E880\",\"#FF97FF\",\"#FECB52\"],\"font\":{\"color\":\"#2a3f5f\"},\"hovermode\":\"closest\",\"hoverlabel\":{\"align\":\"left\"},\"paper_bgcolor\":\"white\",\"plot_bgcolor\":\"#E5ECF6\",\"polar\":{\"bgcolor\":\"#E5ECF6\",\"angularaxis\":{\"gridcolor\":\"white\",\"linecolor\":\"white\",\"ticks\":\"\"},\"radialaxis\":{\"gridcolor\":\"white\",\"linecolor\":\"white\",\"ticks\":\"\"}},\"ternary\":{\"bgcolor\":\"#E5ECF6\",\"aaxis\":{\"gridcolor\":\"white\",\"linecolor\":\"white\",\"ticks\":\"\"},\"baxis\":{\"gridcolor\":\"white\",\"linecolor\":\"white\",\"ticks\":\"\"},\"caxis\":{\"gridcolor\":\"white\",\"linecolor\":\"white\",\"ticks\":\"\"}},\"coloraxis\":{\"colorbar\":{\"outlinewidth\":0,\"ticks\":\"\"}},\"colorscale\":{\"sequential\":[[0.0,\"#0d0887\"],[0.1111111111111111,\"#46039f\"],[0.2222222222222222,\"#7201a8\"],[0.3333333333333333,\"#9c179e\"],[0.4444444444444444,\"#bd3786\"],[0.5555555555555556,\"#d8576b\"],[0.6666666666666666,\"#ed7953\"],[0.7777777777777778,\"#fb9f3a\"],[0.8888888888888888,\"#fdca26\"],[1.0,\"#f0f921\"]],\"sequentialminus\":[[0.0,\"#0d0887\"],[0.1111111111111111,\"#46039f\"],[0.2222222222222222,\"#7201a8\"],[0.3333333333333333,\"#9c179e\"],[0.4444444444444444,\"#bd3786\"],[0.5555555555555556,\"#d8576b\"],[0.6666666666666666,\"#ed7953\"],[0.7777777777777778,\"#fb9f3a\"],[0.8888888888888888,\"#fdca26\"],[1.0,\"#f0f921\"]],\"diverging\":[[0,\"#8e0152\"],[0.1,\"#c51b7d\"],[0.2,\"#de77ae\"],[0.3,\"#f1b6da\"],[0.4,\"#fde0ef\"],[0.5,\"#f7f7f7\"],[0.6,\"#e6f5d0\"],[0.7,\"#b8e186\"],[0.8,\"#7fbc41\"],[0.9,\"#4d9221\"],[1,\"#276419\"]]},\"xaxis\":{\"gridcolor\":\"white\",\"linecolor\":\"white\",\"ticks\":\"\",\"title\":{\"standoff\":15},\"zerolinecolor\":\"white\",\"automargin\":true,\"zerolinewidth\":2},\"yaxis\":{\"gridcolor\":\"white\",\"linecolor\":\"white\",\"ticks\":\"\",\"title\":{\"standoff\":15},\"zerolinecolor\":\"white\",\"automargin\":true,\"zerolinewidth\":2},\"scene\":{\"xaxis\":{\"backgroundcolor\":\"#E5ECF6\",\"gridcolor\":\"white\",\"linecolor\":\"white\",\"showbackground\":true,\"ticks\":\"\",\"zerolinecolor\":\"white\",\"gridwidth\":2},\"yaxis\":{\"backgroundcolor\":\"#E5ECF6\",\"gridcolor\":\"white\",\"linecolor\":\"white\",\"showbackground\":true,\"ticks\":\"\",\"zerolinecolor\":\"white\",\"gridwidth\":2},\"zaxis\":{\"backgroundcolor\":\"#E5ECF6\",\"gridcolor\":\"white\",\"linecolor\":\"white\",\"showbackground\":true,\"ticks\":\"\",\"zerolinecolor\":\"white\",\"gridwidth\":2}},\"shapedefaults\":{\"line\":{\"color\":\"#2a3f5f\"}},\"annotationdefaults\":{\"arrowcolor\":\"#2a3f5f\",\"arrowhead\":0,\"arrowwidth\":1},\"geo\":{\"bgcolor\":\"white\",\"landcolor\":\"#E5ECF6\",\"subunitcolor\":\"white\",\"showland\":true,\"showlakes\":true,\"lakecolor\":\"white\"},\"title\":{\"x\":0.05},\"mapbox\":{\"style\":\"light\"}}},\"mapbox\":{\"domain\":{\"x\":[0.0,1.0],\"y\":[0.0,1.0]},\"center\":{\"lat\":37.0902,\"lon\":-95.7129},\"zoom\":3,\"style\":\"open-street-map\"},\"legend\":{\"tracegroupgap\":0},\"title\":{\"text\":\"Pharmacies in the US\"},\"margin\":{\"r\":0,\"t\":0,\"l\":0,\"b\":0},\"autosize\":true,\"height\":800},                        {\"responsive\": true}                    ).then(function(){\n",
       "                            \n",
       "var gd = document.getElementById('f30e8538-0dee-400a-bed1-f604a594e2e6');\n",
       "var x = new MutationObserver(function (mutations, observer) {{\n",
       "        var display = window.getComputedStyle(gd).display;\n",
       "        if (!display || display === 'none') {{\n",
       "            console.log([gd, 'removed!']);\n",
       "            Plotly.purge(gd);\n",
       "            observer.disconnect();\n",
       "        }}\n",
       "}});\n",
       "\n",
       "// Listen for the removal of the full notebook cells\n",
       "var notebookContainer = gd.closest('#notebook-container');\n",
       "if (notebookContainer) {{\n",
       "    x.observe(notebookContainer, {childList: true});\n",
       "}}\n",
       "\n",
       "// Listen for the clearing of the current output cell\n",
       "var outputEl = gd.closest('.output');\n",
       "if (outputEl) {{\n",
       "    x.observe(outputEl, {childList: true});\n",
       "}}\n",
       "\n",
       "                        })                };                });            </script>        </div>"
      ]
     },
     "metadata": {},
     "output_type": "display_data"
    }
   ],
   "execution_count": 129
  },
  {
   "metadata": {},
   "cell_type": "markdown",
   "source": "",
   "id": "bb550bc66e0fc82d"
  },
  {
   "metadata": {
    "ExecuteTime": {
     "end_time": "2024-12-15T18:53:47.090144Z",
     "start_time": "2024-12-15T18:53:46.968178Z"
    }
   },
   "cell_type": "code",
   "source": [
    "import plotly.express as px\n",
    "\n",
    "# Step 1: Ensure that the 'Entity Type' column is included and non-null\n",
    "# Step 2: Create the map and color the dots by 'Entity Type'\n",
    "fig = px.scatter_mapbox(\n",
    "    all_pharmacies,\n",
    "    lat=\"LAT\",\n",
    "    lon=\"LNG\",\n",
    "    hover_name=\"Pharmacy Name\",  # Pharmacy name shown on hover\n",
    "    color=\"Entity Type\",  # Color the dots by Entity Type\n",
    "    zoom=3,  # Adjust zoom level for a national view\n",
    "    center={\"lat\": 37.0902, \"lon\": -95.7129},  # Center on the US\n",
    "    mapbox_style=\"open-street-map\",  # Use a free map style\n",
    "    title=\"Pharmacies in the US\"\n",
    ")\n",
    "\n",
    "# Step 3: Update the figure layout for better aspect ratio\n",
    "fig.update_layout(\n",
    "    autosize=True,  # Automatically adjust to screen size\n",
    "    margin={\"r\":0,\"t\":0,\"l\":0,\"b\":0},  # Remove excessive margins\n",
    "    height=800  # Set a height to ensure the map is not squished\n",
    ")\n",
    "\n",
    "# Step 4: Show the plot\n",
    "fig.show()\n"
   ],
   "id": "9094068d9bceae86",
   "outputs": [
    {
     "data": {
      "application/vnd.plotly.v1+json": {
       "data": [
        {
         "hovertemplate": "<b>%{hovertext}</b><br><br>Entity Type=Infusion Services<br>LAT=%{lat}<br>LNG=%{lon}<extra></extra>",
         "hovertext": [
          "986 INFUSION PHARMACY #1 INC",
          "AMERICAN OUTCOMES MANAGEMENT, LP DBA AOM INFUSION",
          "AMERICAN RIVER INFUSION SERVICES",
          "BASIC HOME INFUSION INC",
          "BIOLOGIC INFUSION PHARMACY",
          "BIOPLUS SPECIALTY INFUSION CA, LLC",
          "BIOSCRIP INFUSION SERVICES",
          "BOND PHARMACY INC DBA ADVANCED INFUSION SOLUTIONS",
          "BOND PHARMACY INC DBA ADVANCED INFUSION SOLUTIONS",
          "COMMUNITY HOME INFUSION",
          "COMPLETE INFUSION CARE",
          "CORAM CVS/SPECIALTY INFUSION SERVICES",
          "CORAM CVS/SPECIALTY INFUSION SERVICES",
          "CORAM CVS/SPECIALTY INFUSION SERVICES",
          "DCRX INFUSION PATIENT CARE AMERICA",
          "DIGNITY HEALTH BAKERSFIELD INFUSION CENTER",
          "DIGNITY HEALTH BAKERSFIELD INFUSION CENTER",
          "DIGNITY HEALTH HOME INFUSION SERVICES",
          "DIGNITY HEALTH INFUSION CENTER CAMARILLO",
          "DIGNITY HEALTH INFUSION CENTER OXNARD",
          "DIGNITY HEALTH INFUSION CENTER VENTURA",
          "HEALIX INFUSION THERAPY LLC",
          "HEARTLAND HOME INFUSIONS INC D.B.A HHI INFUSION SERVICES",
          "HOSPICARE PHARMACY INLAND EMPIRE",
          "HOSPICARE PHARMACY LOS ANGELES IV ROOM",
          "INFUSION CARE PHARMACY NORTH",
          "INFUSION CENTER OF ARROYO GRANDE",
          "INFUSION CENTER OF SAN LUIS OBISPO",
          "INFUSION CONNECTIONS PHARMACY SERVICES INC",
          "INFUSIONRX",
          "INTEGRATED CARE SYSTEMS",
          "IV LEAGUE",
          "JOHN MUIR HEALTH INFUSION PHARMACY",
          "KABAFUSION, LLC",
          "KABAFUSION, LLC",
          "MARIN WELLNESS PHARMACY LLC D/B/A APEX INFUSION PHARMACY",
          "MARSHALL MEDICAL ONCOLOGY PHARMACY",
          "MISSION HOPE INFUSION CENTER",
          "MODEL DRUG",
          "MODEL DRUG INC",
          "NUTRISHARE LLC",
          "OMNICARE OF CERRITOS",
          "OMNICARE OF HAYWARD",
          "OMNICARE OF NORTHERN CALIFORNIA",
          "OMNICARE OF SAN DIEGO",
          "OMNICARE OF SOUTHERN CALIFORNIA",
          "OPTION CARE",
          "OPTION CARE ENTERPRISES INC DBA OPTION CARE",
          "OPTUM PHARMACY 801, INC",
          "OSO HOME CARE PHARMACY",
          "OSO HOME CARE PHARMACY",
          "OWL REXALL DRUG",
          "PALOMAR MEDICAL CNTER ESCONDIDO INFUSION PHARMACY",
          "PLAZA HOME CARE PHARMACY INC",
          "POLARIS PHARMACY SERVICES",
          "POLARIS PHARMACY SERVICES",
          "POLARIS PHARMACY SERVICES",
          "PREFERRED EXCELLENT CARE",
          "PREMIER INFUSION AND HEALTHCARE SERVICES, INC.",
          "PROVIDENCE HOME INFUSION LA COUNTY",
          "PROVIDENCE HOME INFUSION ORANGE COUNTY",
          "PROVIDENCE SAINT JOSEPH SATELLITE INFUSION PHARMACY",
          "QUADRACARE INC",
          "RIVER CITY PHARMACY INC DBA OPTION CARE",
          "SCRIPTS",
          "SHARP CENTRAL PHARMACY SERVICES",
          "SUTTER INFUSION & PHARMACY SERVICES",
          "SUTTER INFUSION & PHARMACY SERVICES",
          "TRINITY CARE RX",
          "UCSD HOME INFUSION PHARMACY",
          "UCSD- SDCC INFUSION PHARMACY",
          "VIVE RX INC"
         ],
         "lat": [
          33.848733,
          32.70065,
          38.635653,
          null,
          33.818477,
          33.833744,
          33.666942,
          32.999309,
          32.425874,
          36.822349,
          34.037251,
          34.035602,
          32.999818,
          44.874984,
          26.278502,
          35.342891,
          35.342891,
          34.923013,
          34.227892,
          34.205247,
          34.283668,
          29.620312,
          41.743074,
          33.828396,
          34.173885,
          33.805401,
          35.176043,
          35.23575,
          34.026608,
          34.283668,
          36.391777,
          33.997862,
          37.899936,
          33.867743,
          37.792682,
          33.803431,
          38.612129,
          34.923013,
          35.165671,
          36.478239,
          38.427507,
          33.867743,
          37.605905,
          38.114388,
          32.899592,
          34.224196,
          34.230854,
          35.16319,
          33.750815,
          33.680302,
          34.204568,
          34.119367,
          33.0824,
          34.13946,
          37.750502,
          null,
          32.806794,
          33.763905,
          33.833181,
          34.204568,
          33.830457,
          34.173885,
          34.074736,
          38.571577,
          34.207341,
          32.806794,
          37.773793,
          38.488809,
          33.801191,
          32.806794,
          33.056022,
          33.942108
         ],
         "legendgroup": "Infusion Services",
         "lon": [
          -117.788357,
          -97.386965,
          -121.518416,
          null,
          -118.038307,
          -118.314022,
          -117.732094,
          -96.841688,
          -90.169852,
          -119.760243,
          -118.423573,
          -117.591528,
          -117.071808,
          -93.152093,
          -80.1153,
          -119.064803,
          -119.064803,
          -120.259463,
          -119.079552,
          -119.174092,
          -119.223196,
          -95.605693,
          -87.929214,
          -117.20766,
          -118.346937,
          -118.187701,
          -120.476694,
          -120.615973,
          -118.473643,
          -119.223196,
          -119.372842,
          -118.393617,
          -121.999244,
          -118.069472,
          -121.86059,
          -118.16977,
          -120.964522,
          -120.259463,
          -120.655844,
          -119.52137,
          -121.314899,
          -118.069472,
          -122.126873,
          -121.144658,
          -117.201203,
          -118.632394,
          -118.365856,
          -119.046322,
          -112.090632,
          -117.833295,
          -118.326365,
          -117.855054,
          -117.127641,
          -118.166649,
          -121.749055,
          null,
          -117.13493,
          -117.931382,
          -118.292062,
          -118.326365,
          -117.905941,
          -118.346937,
          -118.145959,
          -121.466465,
          -118.400973,
          -117.13493,
          -122.278115,
          -121.395843,
          -117.994904,
          -117.13493,
          -117.2599,
          -118.417488
         ],
         "marker": {
          "color": "#636efa"
         },
         "mode": "markers",
         "name": "Infusion Services",
         "showlegend": true,
         "subplot": "mapbox",
         "type": "scattermapbox"
        },
        {
         "hovertemplate": "<b>%{hovertext}</b><br><br>Entity Type=Compounding Pharmacy<br>LAT=%{lat}<br>LNG=%{lon}<extra></extra>",
         "hovertext": [
          "A & O SPECIALTY PHARMACY",
          "ACCREDO HEALTH GROUP INC",
          "ACCREDO HEALTH GROUP INC",
          "ADVANCE CARE PHARMACY",
          "ALERACARE PHARMACY",
          "ALERACARE PHARMACY CALIFORNIA",
          "ALLIANCERX WALGREENS PHARMACY #15443",
          "ALLIANCERX WALGREENS PHARMACY #16287",
          "AMBROSIA HEALTHCARE INC",
          "AMERIPHARMA",
          "BCP VETERINARY PHARMACY",
          "BIOMED CALIFORNIA INC",
          "BOOTHWYN PHARMACY LLC",
          "BROOKS HEALTH CARE",
          "CALIFORNIA SPECIALTY PHARMACY LLC",
          "CAREMARK ILLINOIS SPECIALTY PHARMACY, LLC DBA CVS/SPECIALTY OR",
          "CD PHARMACY LLC DBA RED ROCK PHARMACY",
          "CENTRAL ADMIXTURE PHARMACY SERVICES INC",
          "CENTRAL ADMIXTURE PHARMACY SERVICES INC",
          "CHEMIQUE PHARMACEUTICALS INC",
          "CHEMIQUE PHARMACEUTICALS INC",
          "CHILDRENS VILLAGE PHARMACY",
          "CITRUS PHARMACY",
          "CLINISHARE PHARMACY",
          "COAST QUALITY PHARMACY LLC D/B/A ANAZAOHEALTH",
          "CONSONUS PHARMACY SERVICES CA NORTH LLC",
          "CORAM HEALTHCARE CORPORATION OF NEVADA DBA CORAM CVS/SPECIALTY IN",
          "COVETRUS NORTH AMERICA, LLC",
          "CRESCENT HEALTHCARE INC DBA CRESCENT HEALTHCARE",
          "CRESCENT HEALTHCARE INC DBA CRESCENT HEALTHCARE",
          "CRESCENT HEALTHCARE INC DBA CRESCENT HEALTHCARE",
          "CRESCENT HEALTHCARE INC DBA CRESCENT HEALTHCARE",
          "CURE STAT RX",
          "CVS/SPECIALTY OR CARELONRX SPECIALTY PHARMACY",
          "DEL'S PHARMACY I",
          "DIAMOND DRUGS INC",
          "DWAYNE'S FRIENDLY PHARMACY",
          "DYNAMIC RX LABS LLC",
          "ELEVARE SPECIALTY SERVICES",
          "ENCINO PHARMACY",
          "ENOVEX PHARMACY",
          "FIRESIDE PHARMACY",
          "FIRST CALL PHARMACY LLC",
          "GMT PHARMACY",
          "HOPEWELL PHARMACY",
          "HYGEIA LTC PHARMACY",
          "IMPRIMISRX",
          "INFUSERVE AMERICA INC",
          "INNOVATIVE COMPOUNDING PHARMACY",
          "ISORX RADIOPHARMACY",
          "JUBILANT DRAXIMAGE INC DBA JUBILANT RADIOPHARMA",
          "JUBILANT DRAXIMAGE INC DBA JUBILANT RADIOPHARMA",
          "JUBILANT DRAXIMAGE INC DBA JUBILANT RADIOPHARMA",
          "LA JOLLA DISCOUNT PHARMACY",
          "LEE SILSBY COMPOUNDING PHARMACY",
          "LYNNFIELD DRUG INC DBA FREEDOM FERTILITY PHARMACY",
          "MARINER ADVANCED PHARMACY CORP",
          "MEDSPECIALTIES COMPOUNDING PHARMACY",
          "NORTHBAY SPECIALTY PHARMACY",
          "O'BRIEN PHARMACY",
          "OSRX INC",
          "OWL WESTERN PHARMACY",
          "PACIFIC COMPOUNDING PHARMACY AND CONSULTATIONS INC",
          "PACIFIC WEST PHARMACY INC",
          "PHARMA101",
          "PHARMALABS LLC",
          "PHARMALOGIC LOS ANGELES",
          "PHARMARX PHARMACEUTICAL INC",
          "PHARMASCRIPT INC",
          "PHARMATRON A PHARMACY COMPANY",
          "PHARMERICA",
          "PHARMERICA",
          "PHARMERICA",
          "PHARMERICA",
          "PHARMERICA",
          "PHARMERICA",
          "PHARMERICA",
          "PHARMERICA",
          "PHAST PHARMACY",
          "PHILLIPS RANCH PHARMACY",
          "RANCHO PARK PHARMACY",
          "RANCHO SANTA FE PHARMACY",
          "RLS USA INC",
          "RLS USA INC",
          "RLS USA INC",
          "RLS USA INC",
          "RLS USA INC",
          "RX UNLIMITED PHARMACY",
          "SKILLED NURSING PHARMACY",
          "SKILLED NURSING PHARMACY",
          "SKILLED NURSING PHARMACY",
          "SOFIE CO",
          "STAR PHARMACY",
          "STRIVE PHARMACY",
          "THE MEDICINE SHOPPE",
          "TMC ACQUISITION LLC DBA TAILOR MADE COMPOUNDING",
          "TORMED PHARMACY",
          "UNIVERSITY COMPOUNDING PHARMACY",
          "VALOR COMPOUNDING PHARMACY",
          "VERDUGO PLAZA PHARMACY ALHAMBRA",
          "VLS PHARMACY INC",
          "WELLNESS CENTER PHARMACY INC DBA DESIGNER DRUGS",
          "WELLSCRIPT",
          "WOMENS INTERNATIONAL PHARMACY, INC. DBA BELMAR PHARMACY",
          "You have reached the end of your results"
         ],
         "lat": [
          36.636344,
          40.674947,
          28.489898,
          33.102005,
          33.62592,
          34.195685,
          null,
          null,
          33.765401,
          33.788145,
          29.749778,
          33.956526,
          39.87028,
          36.822349,
          34.00784,
          42.067166,
          37.044186,
          37.501368,
          33.933565,
          34.063516,
          33.972782,
          33.805401,
          34.011953,
          34.224196,
          28.009826,
          38.408571,
          36.061718,
          33.635109,
          33.933565,
          37.605905,
          32.999818,
          33.970847,
          32.899592,
          39.173116,
          34.10097,
          40.628381,
          37.492115,
          47.47202,
          34.17051,
          34.160236,
          34.168366,
          33.708012,
          29.991693,
          32.777999,
          null,
          34.052922,
          null,
          27.87506,
          38.666597,
          37.916555,
          34.051177,
          37.807215,
          33.994523,
          32.856347,
          41.469494,
          null,
          37.576948,
          33.896339,
          38.333133,
          39.031176,
          46.856398,
          34.097345,
          38.002125,
          38.791075,
          35.23575,
          27.87506,
          34.020221,
          34.224196,
          41.972872,
          36.825296,
          36.793661,
          32.908449,
          33.818477,
          37.603155,
          34.283668,
          38.635653,
          39.898839,
          33.970847,
          35.384336,
          32.852358,
          34.037251,
          33.020908,
          38.605407,
          32.806476,
          37.412402,
          33.879768,
          34.195685,
          34.237912,
          37.605905,
          33.999005,
          32.88607,
          37.018419,
          34.195685,
          33.353505,
          33.882579,
          37.874952,
          33.807882,
          32.724103,
          37.866536,
          34.074736,
          40.641221,
          35.030496,
          40.601778,
          33.584969,
          null
         ],
         "legendgroup": "Compounding Pharmacy",
         "lon": [
          -121.623978,
          -80.106364,
          -81.290154,
          -117.080419,
          -112.002503,
          -118.490752,
          null,
          null,
          -116.334205,
          -117.87655,
          -95.345885,
          -118.358654,
          -75.712913,
          -119.760243,
          -118.030271,
          -87.934719,
          -113.577299,
          -121.956753,
          -118.062611,
          -117.790379,
          -118.022066,
          -118.187701,
          -117.159699,
          -118.632394,
          -82.547789,
          -122.022775,
          -115.058058,
          -112.093768,
          -118.062611,
          -122.126873,
          -117.071808,
          -117.32512,
          -117.201203,
          -76.842028,
          -117.57882,
          -79.150041,
          -118.390408,
          -122.2219,
          -118.289463,
          -118.515472,
          -118.267771,
          -116.403627,
          -90.258179,
          -117.021511,
          null,
          -118.143465,
          null,
          -82.648609,
          -121.141635,
          -122.341233,
          -117.248563,
          -122.301497,
          -118.149952,
          -117.250058,
          -81.512442,
          null,
          -122.316903,
          -117.796416,
          -121.920151,
          -94.630762,
          -114.014338,
          -117.906736,
          -121.324979,
          -121.234854,
          -120.615973,
          -82.648609,
          -118.286035,
          -118.632394,
          -87.662604,
          -119.68019,
          -119.761461,
          -117.14138,
          -118.038307,
          -122.018638,
          -119.223196,
          -121.518416,
          -86.05872,
          -117.32512,
          -119.020562,
          -116.987842,
          -118.423573,
          -117.190346,
          -121.447593,
          -117.168879,
          -122.015605,
          -117.89634,
          -118.490752,
          -118.482306,
          -122.126873,
          -117.972146,
          -117.085982,
          -121.554249,
          -118.490752,
          -111.811432,
          -117.442303,
          -84.563367,
          -118.347957,
          -117.170912,
          -122.257996,
          -118.145959,
          -74.016862,
          -85.14578,
          -122.454973,
          -112.304916,
          null
         ],
         "marker": {
          "color": "#EF553B"
         },
         "mode": "markers",
         "name": "Compounding Pharmacy",
         "showlegend": true,
         "subplot": "mapbox",
         "type": "scattermapbox"
        },
        {
         "hovertemplate": "<b>%{hovertext}</b><br><br>Entity Type=Hospital or Med Center<br>LAT=%{lat}<br>LNG=%{lon}<extra></extra>",
         "hovertext": [
          "ADVENTIST HEALTH AIS CANCER CENTER PHARMACY",
          "ADVENTIST HEALTH AND RIDEOUT",
          "ADVENTIST HEALTH AND RIDEOUT",
          "ADVENTIST HEALTH BAKERSFIELD - HOSPITAL PHARMACY",
          "ADVENTIST HEALTH DELANO",
          "ADVENTIST HEALTH GLENDALE",
          "ADVENTIST HEALTH HANFORD",
          "ADVENTIST HEALTH HOWARD MEMORIAL",
          "ADVENTIST HEALTH LODI MEMORIAL HOSPITAL PHARMACY 1STFLR NORTHWING",
          "ADVENTIST HEALTH MENDOCINO COAST",
          "ADVENTIST HEALTH SIMI VALLEY",
          "ADVENTIST HEALTH SIMI VALLEY",
          "ADVENTIST HEALTH SONORA",
          "ADVENTIST HEALTH SONORA-PHARMACY",
          "ADVENTIST HEALTH SPECIALTY BAKERSFIELD",
          "ADVENTIST HEALTH ST HELENA HOSPITAL CANCER CENTER PHARMACY",
          "ADVENTIST HEALTH ST HELENA HOSPITAL INPATIENT PHARMACY",
          "ADVENTIST HEALTH TEHACHAPI VALLEY",
          "ADVENTIST HEALTH TULARE",
          "ADVENTIST HEALTH UKIAH VALLEY",
          "ADVENTIST HEALTH WHITE MEMORIAL MONTEBELLO",
          "AHMC ANAHEIM REGIONAL MEDICAL CENTER - MAIN PHARMACY",
          "AHMC SETON MEDICAL CENTER LLC",
          "ALAMEDA HOSPITAL",
          "ALHAMBRA HOSPITAL MEDICAL CENTER",
          "ALHAMBRA HOSPITAL MEDICAL CENTER",
          "ALTA BATES SUMMIT MED CTR HERRICK INFUSION PHARMACY",
          "ALTA BATES SUMMIT MEDICAL CENTER - ALTA BATES CAMPUS",
          "ALTA BATES SUMMIT MEDICAL CENTER - SUMMIT CAMPUS RM G744",
          "ANTELOPE VALLEY MEDICAL CENTER IV ROOM",
          "ARROWHEAD REGIONAL MEDICAL CENTER PHARMACY",
          "BAKERSFIELD MEMORIAL HOSPITAL",
          "BAKERSFIELD MEMORIAL HOSPITAL PHARMACY",
          "BAKERSFIELD REHABILITATION HOSPITAL",
          "BANNER LASSEN MEDICAL CENTER 1ST FLOOR ROOM 523",
          "BARLOW HOSPITAL PHARMACY",
          "BARSTOW COMMUNITY HOSPITAL",
          "BARTON MEMORIAL HOSPITAL PHARMACY",
          "BEAR VALLEY COMMUNITY HOSPITAL",
          "BECKMAN RESEARCH INSTITUTE OF THE CITY OF HOPE",
          "BOWYER PHARMACY",
          "CA PACIFIC MED CTR PHY - DAVIES CAMPUS",
          "CALIFORNIA HOSPITAL MEDICAL CENTER",
          "CALIFORNIA REHABILITATION INSTITUTE LLC 9TH FLOOR",
          "CARDINAL HEALTH",
          "CARDINAL HEALTH",
          "CARDINAL HEALTH 414 LLC",
          "CARDINAL HEALTH 414, LLC",
          "CARDINAL HEALTH 414,LLC",
          "CARDINAL HEALTH 414,LLC",
          "CARDINAL HEALTH 414,LLC",
          "CARDINAL HEALTH 414,LLC",
          "CARDINAL HEALTH 414,LLC",
          "CARDINAL HEALTH 414,LLC",
          "CARDINAL HEALTH 414,LLC",
          "CARDINAL HEALTH_414,LLC",
          "CARDINAL HEALTH_414,LLC",
          "CASA COLINA HOSPITAL PHARMACY",
          "CEDARS SINAI MEDICAL CENTER - CENTRAL PHARMACY MAIN SOUTH TOWER",
          "CEDARS SINAI MEDICAL CENTER - MARK TAPER",
          "CEDARS-SANAI TOWER HEMATOLOGY ONCOLOGY PHARMACY",
          "CEDARS-SINAI MEDICAL CENTER -4TH FLOOR MAIN: 4407-4408",
          "CEDARS-SINAI MEDICAL CENTER AHSP PLAZA LEVEL ROOM A2403",
          "CEDARS-SINAI MEDICAL CENTER ASHP",
          "CEDARS-SINAI MEDICAL CENTER PHARMACY #6",
          "CEDARS-SINAI MEDICAL CENTER PHY #4",
          "CEDARS-SINAI TOWER HEMATOLOGY ONCOLOGY PHARMACY",
          "CENTINELA HOSPITAL MEDICAL CENTER",
          "CENTRAL VALLEY SPECIALTY HOSPITAL - PHARMACY IV ROOM",
          "CFHS HOLDINGS INC DBA CEDARS SINAI MARINA DEL REY HOSPITAL",
          "CHA HOLLYWOOD PRESBYTERIAN MEDICAL CENTER INPATIENT PHARMACY IV R",
          "CHAPMAN GLOBAL MEDICAL CENTER INC",
          "CHILDREN'S HOSPITAL & HEALTH CENTER PHARMACY",
          "CHILDREN'S HOSPITAL & HEALTH CENTER PHARMACY",
          "CHILDREN'S HOSPITAL & RESEARCH CENTER AT OAKLAND",
          "CHILDREN'S HOSPITAL OF ORANGE COUNTY",
          "CHILDREN'S HOSPITAL OF ORANGE COUNTY HOSPITAL PHARMACY 6TH FLOOR",
          "CHILDREN'S HOSPITAL OF ORANGE COUNTY HOSPITAL PHARMACY INPATIENT",
          "CHILDREN'S HOSPITAL OF ORANGE COUNTY HOSPITAL PHARMACY OR SATELLI",
          "CHILDREN'S HOSPITAL PHARMACY - 4TH FLOOR 4A80",
          "CHILDRENS HOSPITAL OF ORANGE COUNTY",
          "CHILDRENS HOSPITAL PHARMACY - 2ND FLOOR 2A80",
          "CHILDRENS HOSPITAL PHARMACY - INPATIENT PHARMACY",
          "CHILDRENS HOSPITAL PHARMACY - OR SATELITE RM 2074",
          "CHILDRENS HOSPITAL PHARMACY - SATELITE EMERGENCY DEPT RM 0A66",
          "CHILDRENS HOSPITAL PHARMACY - SATELITE PAGE INFUSION CENTER P2-10",
          "CHINESE HOSPITAL PHARMACY",
          "CHINO VALLEY MEDICAL CENTER",
          "CITY OF HOPE BRISKIN CENTER FOR CLINICAL RESEARCH  (Previous Name)",
          "CITY OF HOPE CORONA",
          "CITY OF HOPE DUARTE BRISKIN",
          "CITY OF HOPE DUARTE HELFORD2",
          "CITY OF HOPE DUARTE HP8",
          "CITY OF HOPE DUARTE NW1202",
          "CITY OF HOPE DUARTE NW1252",
          "CITY OF HOPE ORANGE COUNTY",
          "CITY OF HOPE SEACLIFF",
          "CITY OF HOPE SOUTH BAY",
          "CITY OF HOPE UPLAND",
          "CLOVIS COMMUNITY HOSPITAL PHARMACY - ED SATELLITE",
          "CLOVIS COMMUNITY HOSPITAL PHARMACY - ICU SATELLITE",
          "CLOVIS COMMUNITY HOSPITAL PHARMACY - MAIN PHARMACY",
          "COALINGA REGIONAL MEDICAL CENTER",
          "COAST PLAZA HOSPITAL",
          "COLLEGE HOSPITAL OF COSTA MESA IV HOOD (BARRIER ISOLATOR) LOCATED",
          "COLLEGE MEDICAL CENTER",
          "COMMUNITY CANCER CENTER INFUSION PHARMACY",
          "COMMUNITY HOSPITAL OF HUNTINGTON PARK",
          "COMMUNITY HOSPITAL OF SAN BERNARDINO",
          "COMMUNITY HOSPITAL OF THE MONTEREY PENINSULA",
          "COMMUNITY MEMORIAL HOSPITAL OF SAN BUENA VENTURA MAIN PHARMACY",
          "CONTRA COSTA REG MED CTR OUTPATIENT PHY",
          "CONTRA COSTA REG MEDICAL CTR HOSPITAL PHARMACY",
          "CONVERSIO HEALTH",
          "CORONA REGIONAL MEDICAL CENTER MAIN PHARMACY ON 1ST FLOOR",
          "CPMC MISSION BERNAL CAMPUS PHARMACY",
          "CPMC VAN NESS CAMPUS 5TH FLOOR SATELLITE PHARMACY",
          "CPMC VAN NESS CAMPUS PHARMACY",
          "CRMC INFUSION CENTER - CLOVIS",
          "DAMERON HOSPITAL PHARMACY",
          "DESERT REGIONAL MED CTR COMP CANCER CTR",
          "DESERT REGIONAL MEDICAL CENTER - INPATIENT PHARMACY",
          "DESERT REGIONAL MEDICAL CENTER COMPREHENSIVE CANCER CENTER",
          "DESERT VALLEY HOSPITAL",
          "DESERT VALLEY HOSPITAL",
          "DIGNITY HEALTH MERCY ONCOLOGY CENTER PHARMACY",
          "DM CLINICAL COLLABORATIONS DBA INFUCARE RX",
          "DOCTORS HOSPITAL OF MANTECA",
          "DOCTORS HOSPTIAL OF RIVERSIDE",
          "DOCTORS MEDICAL CENTER OF MODESTO",
          "DOMINICAN HOSPITAL INFUSION CENTER",
          "DOMINICAN HOSPITAL PHARMACY",
          "EARL & LORAINE MILLER CHILDRENS HOSPITAL",
          "EAST LOS ANGELES DOCTORS HOSPITAL",
          "EDEN MEDICAL CENTER",
          "EISENHOWER MEDICAL CENTER - HOSPITAL LOWER LEVEL",
          "EISENHOWER MEDICAL CENTER - LUCY CURCI PHARMACY",
          "EISENHOWER MEDICAL CENTER YUCCA VALLEY",
          "EL CAMINO HOSPITAL - LOS GATOS",
          "EL CAMINO HOSPITAL CANCER CENTER",
          "EL CAMINO HOSPITAL LOS GATOS CANCER CENTER",
          "EL CAMINO HOSPITAL PHARMACY",
          "EL CAMINO HOSPITAL PHARMACY COMPOUNDING ROOM GB 512",
          "EL CAMINO HOSPITAL- LOS GATOS",
          "EL CENTRO REGIONAL MEDICAL CENTER PHARMACY",
          "EL CENTRO REGIONAL MEDICAL CENTER PHARMACY ECRMC PHARMACY ONCOLOG",
          "EL CENTRO REGIONAL MEDICAL CENTER PHY",
          "EMANATE HEALTH FOOTHILL PRESBYTERIAN HOSPITAL",
          "EMANATE HEALTH INTER-COMMUNITY MAIN PHARMACY (BASEMENT)",
          "EMANATE HEALTH QUEEN OF THE VALLEY HOSPITAL",
          "EMANATE HEALTH QUEEN OF THE VALLEY HOSPITAL MAIN PHARMACY BASEMEN",
          "EMANATE HEALTH QUEEN OF THE VALLEY HOSPITAL ROOM 249",
          "EMANATE HEALTH QUEEN OF THE VALLEY HOSPITAL ROOM 250",
          "EMANUEL MEDICAL CENTER",
          "EMANUEL SPECIALTY CLINIC MEDICAL ONCOLOGY PHARMACY",
          "ENCINO HOSPITAL MEDICAL CENTER PHARMACY",
          "ENCOMPASS HEALTH REHABILITATION HOSPITAL OF BAKERSFIELD",
          "ENLOE MEDICAL CENTER",
          "ENLOE MEDICAL CENTER CANCER CENTER",
          "FAIRCHILD MEDICAL CENTER PHARMACY",
          "FOOTHILL REGIONAL MEDICAL CENTER",
          "FRENCH HOSPITAL MEDICAL CENTER FIRST FLOOR",
          "FRESNO COMM MED CTR",
          "FRESNO COMM MED CTR PHARMACY 4TH FLOOR, 10-STORY BLDG, NEONATAL I",
          "FRESNO COMM MED CTR PHARMACY 5TH FLOOR, TCCB BLDG, INTENSIVE CARE",
          "FRESNO HEART AND SURGICAL HOSPITAL BAKER SG403 & EG4252",
          "FRESNO SURGICAL HOSPITAL STERILE PHARMACY 2ND FLOOR",
          "GARDEN GROVE HOSPITAL AND MEDICAL CENTER",
          "GARFIELD HOSPITAL MEDICAL CENTER 2ND FLOOR",
          "GLENDALE MEMORIAL HOSPITAL & HEALTH CENTER",
          "GLENN MEDICAL CENTER",
          "GOLETA VALLEY COTTAGE HOSPITAL",
          "GOOD SAMARITAN HOSPITAL PHARMACY",
          "GOOD SAMARITAN HOSPITAL, LP",
          "GREATER EL MONTE COMMUNITY HOSPITAL PHARMACY IV ROOM",
          "GROSSMONT HOSPITAL PHARMACY HEART & VASCULAR TOWER LEVEL A",
          "HARTLEY MEDICAL CENTER PHARMACY INC",
          "HAZEL HAWKINS MEMORIAL HOSPITAL PHARMACY",
          "HEALDSBURG HOSPITAL",
          "HEMET GLOBAL MEDICAL CENTER FIRST FLOOR PHARMACY",
          "HENRY MAYO NEWHALL HOSPITAL",
          "HI-DESERT MEDICAL CENTER HOSPITAL PHARMACY",
          "HIGHLAND CARE PAVILLION PHARMACY",
          "HIGHLAND HOSPITAL PHARMACY",
          "HOAG HOSPITAL IRVINE",
          "HOAG INFUSION CENTER PHARMACY",
          "HOAG MEMORIAL PRESBYTERIAN PHARMACY",
          "HOAG MEMORIAL PRESBYTERIAN PHARMACY",
          "HUNTINGTON BEACH HOSPITAL",
          "HUNTINGTON HOSPITAL MAIN PHARMACY IV ROOM GROUND FLOOR",
          "HUNTINGTON HOSPITAL PEDIATRIC SATELLITE 1ST FLOOR",
          "INLAND VALLEY MEDICAL CENTER MAIN PHARMACY 1ST FLOOR",
          "JOHN F KENNEDY MEMORIAL HOSPITAL",
          "JOHN MUIR MEDICAL CENTER",
          "JOHN MUIR MEDICAL CENTER CONCORD",
          "JOHN MUIR MEDICAL CENTER WALNUT CREEK",
          "JOHN MUIR MEDICAL CENTER WALNUT CREEK PEDIATRIC SATELLITE PHARM",
          "KAISER FDN HSP INP DISCHARGE PHY 39A 394",
          "KAISER FDN HSP INP DISCHARGE PHY 39A 394",
          "KAISER FDN HSP INP DISCHARGE PHY 72A 726",
          "KAISER FDN HSP INP PHY 12A",
          "KAISER FDN HSP INP PHY 12A",
          "KAISER FDN HSP INP PHY 16A",
          "KAISER FDN HSP INP PHY 16A",
          "KAISER FDN HSP INP PHY 51A",
          "KAISER FDN HSP INP PHY 51A FL 2 RM 213",
          "KAISER FDN HSP INP PHY 51A FL 2 RM 23B13",
          "KAISER FDN HSP INP PHY 60A",
          "KAISER FDN HSP INP/OUT DIS PHY 63A 634",
          "KAISER FDN HSP INP/OUT HSP PHY 31A 315",
          "KAISER FDN HSP INP/OUT HSP PHY 31A 315",
          "KAISER FDN HSP INP/OUT HSP PHY 58A 584",
          "KAISER FDN HSP INP/OUT HSP PHY 58A 584 FL 2 RM N2000",
          "KAISER FDN HSP INP/OUT PHY 35A-355",
          "KAISER FDN HSP PHY 21A",
          "KAISER FDN HSP PHY 21A",
          "KAISER FOUND HOSP PHARMACY #49A",
          "KAISER FOUND HOSPITAL PHARMACY #054",
          "KAISER FOUND HOSPITAL PHARMACY #054 - FL-1, RM H13R32",
          "KAISER FOUND HOSPITAL PHARMACY #85A",
          "KAISER FOUND HOSPITAL PHRMCY #57A MAIN PHARMACY",
          "KAISER FOUND HOSPITAL PHRMCY #67A",
          "KAISER FOUND HOSPITAL PHRMCY #67A / 67B",
          "KAISER FOUND HOSPITAL PHY #58B",
          "KAISER FOUND HSP PHY #44B FLR 2 RM H2164",
          "KAISER FOUND HSP PHY #44B FLR 2 RM P2531A",
          "KAISER FOUND HSP PHY #44B MAIN PHARMACY",
          "KAISER FOUNDATION HLTH MOB 2 PHY #686",
          "KAISER FOUNDATION HOSPITAL",
          "KAISER FOUNDATION HOSPITAL 551",
          "KAISER FOUNDATION HOSPITAL 551 - MAIN",
          "KAISER FOUNDATION HOSPITAL IP MAIN PHARMACY",
          "KAISER FOUNDATION HOSPITAL MAIN PHARMACY ROOM  #1047",
          "KAISER FOUNDATION HOSPITAL PHARMACY",
          "KAISER FOUNDATION HOSPITAL PHARMACY",
          "KAISER FOUNDATION HOSPITAL PHARMACY #054 MAIN PHARMACY",
          "KAISER FOUNDATION HOSPITAL PHARMACY #10A MAIN PHARMACY",
          "KAISER FOUNDATION HOSPITAL PHARMACY #247",
          "KAISER FOUNDATION HOSPITAL PHARMACY #28B/282",
          "KAISER FOUNDATION HOSPITAL PHARMACY #367 MAIN PHARMACY",
          "KAISER FOUNDATION HOSPITAL PHARMACY #372 MAIN PHARMACY",
          "KAISER FOUNDATION HOSPITAL PHARMACY #37B/378 FL 3 MAIN PHARMACY",
          "KAISER FOUNDATION HOSPITAL PHARMACY #529",
          "KAISER FOUNDATION HOSPITAL PHARMACY #61A MAIN PHARMACY",
          "KAISER FOUNDATION HOSPITAL PHARMACY #63C",
          "KAISER FOUNDATION HOSPITAL PHARMACY #651",
          "KAISER FOUNDATION HOSPITAL PHARMACY #71B",
          "KAISER FOUNDATION HOSPITAL PHARMACY #751",
          "KAISER FOUNDATION HOSPITAL PHARMACY #85A",
          "KAISER FOUNDATION HOSPITAL PHARMACY #92A FL 2, RM 2228",
          "KAISER FOUNDATION HOSPITAL PHARMACY #92A MAIN PHARMACY",
          "KAISER FOUNDATION HOSPITAL PHARMACY - MAIN PHARMACY",
          "KAISER FOUNDATION HOSPITAL PHARMACY 151 - FL 2, RM 2126",
          "KAISER FOUNDATION HOSPITAL PHARMACY 151 - MAIN",
          "KAISER FOUNDATION HOSPITAL PHARMACY MAIN PHARMACY",
          "KAISER FOUNDATION HOSPITAL PHARMACY MAIN PHARMACY",
          "KAISER FOUNDATION HOSPITAL PHY #253 MAIN PHARMACY",
          "KAISER HEALTH PLAN PHARMACY NO 338",
          "KAISER HOSPITAL PHARMACY #59A FL-1 RM W1D06",
          "KAISER HOSPITAL PHARMACY #59A MAIN PHARMACY",
          "KAISER ONCOLOGY PHARMACY #060",
          "KAISER ONCOLOGY PHARMACY #104",
          "KAISER ONCOLOGY PHARMACY #247",
          "KAISER ONCOLOGY PHARMACY #520",
          "KAISER ONCOLOGY PHARMACY #573",
          "KAISER ONCOLOGY PHARMACY #598",
          "KAISER ONCOLOGY PHARMACY #680",
          "KAISER ONCOLOGY PHARMACY #854",
          "KAISER ONCOLOGY PHARMACY #868",
          "KAISER ONCOLOGY PHRMCY #081",
          "KAISER ONCOLOGY PHRMCY #170",
          "KAISER ONCOLOGY PHRMCY #638",
          "KAISER PERMANENTE HOME INFUSION PHARMACY #620",
          "KAISER PERMANENTE ONCOLOGY PHARMACY #014C",
          "KAISER PERMANENTE ONCOLOGY PHARMACY #168",
          "KAISER PERMANENTE ONCOLOGY PHARMACY #379",
          "KAISER PERMANENTE ONCOLOGY PHARMACY #675",
          "KAISER PERMANENTE PHARMACY #005C",
          "KAISER PERMANENTE PHARMACY #122C",
          "KAISER PERMANENTE PHARMACY #162",
          "KAISER PERMANENTE PHARMACY #171",
          "KAISER PERMANENTE PHARMACY #181",
          "KAISER PERMANENTE PHARMACY #221",
          "KAISER PERMANENTE PHARMACY #252",
          "KAISER PERMANENTE PHARMACY #257C",
          "KAISER PERMANENTE PHARMACY #260C",
          "KAISER PERMANENTE PHARMACY #271C",
          "KAISER PERMANENTE PHARMACY #305C - RM 4644",
          "KAISER PERMANENTE PHARMACY #363C",
          "KAISER PERMANENTE PHARMACY #374C",
          "KAISER PERMANENTE PHARMACY #376",
          "KAISER PERMANENTE PHARMACY #398",
          "KAISER PERMANENTE PHARMACY #401",
          "KAISER PERMANENTE PHARMACY #414",
          "KAISER PERMANENTE PHARMACY #514",
          "KAISER PERMANENTE PHARMACY #524C",
          "KAISER PERMANENTE PHARMACY #531C",
          "KAISER PERMANENTE PHARMACY #551C",
          "KAISER PERMANENTE PHARMACY #607",
          "KAISER PERMANENTE PHARMACY #612T2",
          "KAISER PERMANENTE PHARMACY #889C",
          "KAISER PERMANENTE PHARMACY #922",
          "KAISER PERMANENTE PHARMACY #979",
          "KAISER PERMANENTE PHY #193",
          "KAISER ZION ONCOLOGY PHARMACY #202C",
          "KAWEAH HEALTH ACEQUIA WING SATALITE PHARMACY",
          "KAWEAH HEALTH HOME INFUSION PHARMACY",
          "KAWEAH HEALTH MEDICAL CENTER PHARMACY",
          "KECK HOSPITAL OF USC - ARCADIA TREATMENT CENTER",
          "KECK HOSPITAL OF USC - NORRIS HEALTHCARE CENTER PHARMACY",
          "KECK HOSPITAL OF USC 3RD FLOOR PHARMACY",
          "KECK HOSPITAL OF USC 4TH FLOOR OR PHARMACY",
          "KECK HOSPITAL OF USC 9TH FLOOR PHARMACY",
          "KECK HOSPITAL OF USC MAIN PHARMACY",
          "KECK MEDICINE OF USC-NEWPORT PHARMACY",
          "KENTFIELD HOSPITAL",
          "KENTFIELD HOSPITAL SAN FRANCISCO",
          "KERN MEDICAL CENTER PHARMACY RM 1150",
          "KERN VALLEY HEALTHCARE DISTRICT",
          "KINDRED HOSPITAL BALDWIN PARK",
          "KINDRED HOSPITAL BREA",
          "KINDRED HOSPITAL LA MIRADA",
          "KINDRED HOSPITAL LOS ANGELES",
          "KINDRED HOSPITAL ONTARIO",
          "KINDRED HOSPITAL PARAMOUNT",
          "KINDRED HOSPITAL RANCHO",
          "KINDRED HOSPITAL RIVERSIDE",
          "KINDRED HOSPITAL SAN DIEGO",
          "KINDRED HOSPITAL SAN FRANCISCO BAY AREA",
          "KINDRED HOSPITAL SAN GABRIEL VALLEY",
          "KINDRED HOSPITAL SANTA ANA",
          "KINDRED HOSPITAL SOUTH BAY",
          "KINDRED HOSPITAL WESTMINSTER",
          "LA PALMA INTERCOMMUNITY HOSPITAL",
          "LA PALMA INTERCOMMUNITY HOSPITAL",
          "LAC HARBOR UCLA MEDICAL CENTER PHARMACY 3RD FLOOR SATELLITE",
          "LAC HARBOR UCLA MEDICAL CENTER PHARMACY 6TH FLOOR SATELLITE",
          "LAC HARBOR UCLA MEDICAL CENTER PHARMACY MAIN PHARMACY",
          "LAC HARBOR UCLA MEDICAL CENTER PHARMACY SE 1H09",
          "LLUMC - EAST CAMPUS HOSPITAL PHARMACY",
          "LOMA LINDA UNIVERSITY CHILDREN'S HOSPITAL",
          "LOMA LINDA UNIVERSITY CHILDREN'S HOSPITAL PHARMACY",
          "LOMA LINDA UNIVERSITY CHILDREN'S HOSPITAL PHARMACY (NICU-3RD)",
          "LOMA LINDA UNIVERSITY CHILDRENS HOSPITAL",
          "LOMA LINDA UNIVERSITY CHILDRENS HOSPITAL PEDIATRIC HEMATOLOGY/ONC",
          "LOMA LINDA UNIVERSITY HOSPITAL PHARMACY- 14TH FLOOR",
          "LOMA LINDA UNIVERSITY HOSPITAL PHARMACY-3RD FLOOR",
          "LOMA LINDA UNIVERSITY HOSPITAL PHARMACY-6TH FLOOR",
          "LOMA LINDA UNIVERSITY HOSPITAL PHARMACY-ADULT CANCER CENTER",
          "LOMA LINDA UNIVERSITY HOSPITAL PHARMACY-BASEMENT",
          "LOMA LINDA UNIVERSITY MEDICAL CENTER - HOSPITAL PHARMACY (2ND FLO",
          "LOMA LINDA UNIVERSITY MEDICAL CENTER - MURRIETA",
          "LOMA LINDA UNIVERSITY MEDICAL CENTER ADULT INFUSION PHARMACY HIGH",
          "LOMA LINDA UNIVERSITY SURGICAL HOSPITAL",
          "LOMPOC VALLEY MEDICAL CENTER",
          "LOMPOC VALLEY MEDICAL CENTER HEMATOLOGY-ONCOLOGY PHARMACY",
          "LONG BEACH MEMORIAL MEDICAL CENTER",
          "LOS ANGELES COMMUNITY HOSPITAL AT NORWALK",
          "LOS ANGELES COMMUNITY HOSPITAL PHARMACY",
          "LOS ANGELES COUNTY HIGH DESERT REGIONAL HEALTH CENTER PHARMACY",
          "LOS ANGELES GENERAL MEDICAL CENTER INPATIENT PHARMACY",
          "LOS ANGELES GENERAL MEDICAL CENTER INPATIENT PHARMACY",
          "LOS ANGELES GENERAL MEDICAL CENTER INPATIENT PHARMACY",
          "LOS ANGELES GENERAL MEDICAL CENTER INPATIENT PHARMACY",
          "LOS ANGELES GENERAL MEDICAL CENTER INPATIENT PHARMACY",
          "LOS ROBLES HOSPITAL AND MEDICAL CENTER",
          "LPCH CHILDRENS HOME PHARMACY",
          "LUCILE PACKARD CHILDREN'S HOSPITAL RM 2875 INPATIENT PHARMACY",
          "LUCILE SALTER PACKARD CHILDRENS HSP",
          "LUCILE SALTER PACKARD CHILDRENS HSP",
          "LUCILE SALTER PACKARD CHILDRENS HSP",
          "LUNDQUIST INSTITUTE FOR BIOMEDICAL INNOVATION",
          "MAD RIVER COMMUNITY HOSPITAL PHARMACY",
          "MAMMOTH HOSPITAL",
          "MANDELL'S CLINICAL PHARMACY",
          "MARIAN REGIONAL MEDICAL CENTER",
          "MARIAN REGIONAL MEDICAL CENTER ARROYO GRANDE",
          "MARIN GENERAL HOSPITAL PHARMACY MAIN PHARMACY, 2ND FLOOR",
          "MARIN GENERAL HOSPITAL PHARMACY SATELLITE PHARAMCY, 5TH FLOOR",
          "MARK TWAIN MEDICAL CENTER",
          "MARSHALL HOSPITAL PHARMACY; 2ND FLOOR SURGERY WING",
          "MARTIN LUTHER KING JR COMMUNITY HOSPITAL PHARMACY",
          "MARTIN LUTHER KING JR OUTPATIENT CENTER PHARMACY",
          "MAYERS MEMORIAL HOSPITAL PHARMACY",
          "MEDRX INFUSION CLINICAL PHARMACY",
          "MEMORIAL HOSPITAL LOS BANOS PHARMACY",
          "MEMORIAL HOSPITAL OF GARDENA",
          "MEMORIAL MEDICAL CENTER PHARMACY- INPATIENT",
          "MENIFEE GLOBAL MEDICAL CENTER MAIN PHARMACY",
          "MERCY GENERAL HOSPITAL",
          "MERCY HOSPITAL",
          "MERCY HOSPITAL OF FOLSOM MAIN PHARMACY - LOWER LEVEL ROOM 170",
          "MERCY MEDICAL CENTER MAIN PHARMACY - GARDEN LEVEL ROOM # 0165",
          "MERCY MEDICAL CENTER MT SHASTA",
          "MERCY MEDICAL CENTER REDDING",
          "MERCY SAN JUAN MEDICAL CENTER PHARMACY 1ST FLOOR IV ROOM",
          "MERCY SOUTHWEST HOSPITAL",
          "METHODIST HOSPITAL OF SACRAMENTO",
          "MID VALLEY HEALTH SERVICES",
          "MILLS-PENINSULA HEALTH CENTER PHARMACY",
          "MILLS-PENINSULA MEDICAL CENTER PHARMACY",
          "MISSION HEALTH CENTER  (Previous Name)",
          "MISSION COMMUNITY HOSPITAL MAIN PHARMACY IN BASEMENT",
          "MONROVIA MEMORIAL HOSPITAL",
          "MONTCLAIR HOSPITAL MEDICAL CENTER",
          "MONTEREY PARK HOSPITAL",
          "MOUNTAIN VIEW PHARMACEUTICALS",
          "MOUNTAINS COMMUNITY HOSPITAL PHARMACY",
          "NATIVIDAD MEDICAL CENTER 1ST FLOOR MAIN PHARMACY 1D018",
          "NORTH COUNTY ONCOLOGY",
          "NORTHBAY MEDICAL CENTER PHARMACY",
          "NORTHBAY VACAVALLEY HOSPITAL PHARMACY",
          "NORTHERN INYO HOSPITAL PHARMACY",
          "NORTHRIDGE HOSPITAL MEDICAL CENTER",
          "NORTHRIDGE HOSPITAL MEDICAL CENTER",
          "NOVATO COMMUNITY HOSPITAL - MAIL PHARMACY IV ROOM 2ND FLOOR",
          "O'CONNOR HOSPITAL",
          "OAK VALLEY HOSPITAL DISTRICT",
          "OJAI VALLEY COMMUNITY HOSPITAL",
          "OLIVE VIEW UCLA MED CTR PHY I",
          "ORANGE COAST MEMORIAL MEDICAL CENTER",
          "ORANGE COUNTY GLOBAL MEDICAL CENTER",
          "OROVILLE HOSPITAL - MAIN PHARMACY",
          "PACIFICA HOSPITAL OF THE VALLEY",
          "PALMDALE REGIONAL MEDICAL CENTER INPATIENT PHARMACY",
          "PALO VERDE HOSPITAL",
          "PALOMAR MEDICAL CENTER PHARMACY",
          "PALOMAR MEDICAL CENTER POWAY PHARMACY",
          "PARADISE VALLEY HOSPITAL",
          "PARADISE VALLEY HOSPITAL",
          "PC AND MZ SAN FRANCISCO GEN HOSPITAL AND TRAUMA CTR INPT PHARMACY",
          "PENTEC HEALTH, INC.",
          "PETALUMA VALLEY HOSPITAL PHARMACY",
          "PIH HEALTH DOWNEY HOSPITAL",
          "PIH HEALTH GOOD SAMARITAN HOSPITAL",
          "PIH HEALTH GOOD SAMARITAN HOSPITAL",
          "PIH HEALTH GOOD SAMARITAN HOSPITAL 4TH FLOOR PHARMACY",
          "PIH HEALTH WHITTIER HOSPITAL PHCY",
          "PIH HEALTH WHITTIER HOSPITAL PHCY PLAZA TOWER MAIN PHARMACY",
          "PIONEERS MEMORIAL HEALTHCARE DISTRICT",
          "PIONEERS MEMORIAL HEALTHCARE DISTRICT MAIN PHARMACY",
          "POMONA VALLEY HOSPITAL MEDICAL CENTER CENTRAL PHARMACY #DB20P",
          "POMONA VALLEY HOSPITAL MEDICAL CENTER SATELLITE PHARMACY #EC298A",
          "PRIME HEALTHCARE SERVICES- ST. FRANCIS LLC",
          "PROVIDENCE CEDARS-SINAI TARZANA MEDICAL CENTER",
          "PROVIDENCE HEALTH SYSTEM SOUTHERN CALIFORNIA DBA PROVIDENCE HOLY",
          "PROVIDENCE HOLY CROSS MEDICAL CENTER PHARMACY",
          "PROVIDENCE LITTLE COMPANY OF MARY MED CTR SAN PEDRO",
          "PROVIDENCE LITTLE COMPANY OF MARY MED CTR TORRANCE",
          "PROVIDENCE MISSION HOSPITAL",
          "PROVIDENCE MISSION HOSPITAL CANCER CENTER",
          "PROVIDENCE MISSION HOSPITAL LAGUNA BEACH",
          "PROVIDENCE ONCOLOGY PHARMACY",
          "PROVIDENCE QUEEN OF THE VALLEY MEDICAL CENTER",
          "PROVIDENCE REDWOOD MEMORIAL HOSPITAL",
          "PROVIDENCE SAINT JOHN'S HEALTH CENTER- MAIN PHARMACY",
          "PROVIDENCE SAINT JOHN'S HEALTH CENTER- SATELLITE PHARMACY",
          "PROVIDENCE SAINT JOHNS HEALTH CENTER PHARMACY",
          "PROVIDENCE SAINT JOSEPH MEDICAL CENTER",
          "PROVIDENCE ST JOSEPH HOSPITAL",
          "PROVIDENCE ST JOSEPH HOSPITAL PHARMACY INPATIENT PHARMACY",
          "PROVIDENCE ST. JOSEPH HOSPITAL PHARMACY",
          "RADY CHILDREN'S HOMECARE PHARMACY",
          "RANCHO LOS AMIGOS NAT. REHAB CTR HOSPITAL PHARMACY",
          "REDLANDS COMMUNITY HOSPITAL",
          "REGIONAL MEDICAL CENTER OF SAN JOSE",
          "REHABILITATION HOSPITAL OF SOUTHERN CALIFORNIA, LLC",
          "RIDGECREST REGIONAL HOSPITAL",
          "RIVER'S EDGE PHARMACY",
          "RIVERSIDE COMMUNITY HOSPITAL CENTRAL PHARMACY I.V. ROOM",
          "RONALD REAGAN UCLA MEDICAL CENTER 6TH FLOOR SATELLITE",
          "RONALD REAGAN UCLA MEDICAL CENTER I.V. ADDITIVE SERVICE",
          "RUHS - MC - INFUSION CENTER",
          "RUHS- MC- MAIN IV ROOM E1111",
          "SACRAMENTO REHABILITATION HOSPITAL",
          "SADDLEBACK MEM MED CTR PHCY IND HSP",
          "SAINT AGNES MEDICAL CENTER CVOR PHARMACY SATELLITE (2ND FLOOR)",
          "SAINT AGNES MEDICAL CENTER EMERGENCY ROOM SATELLITE PHARMACY",
          "SAINT AGNES MEDICAL CENTER PHARMACY 2 MAINIV COMPOUNDING PHARMACY",
          "SAINT AGNES MEDICAL CENTER PHARMACY 2 WEST SATELLITE PHARMACY",
          "SAINT AGNES MEDICAL CENTER PHARMACY 3 MAIN PHARMACY",
          "SAINT AGNES MEDICAL CENTER PHARMACY OR PHARMACY SATELLITE",
          "SAINT LOUISE REGIONAL HOSPITAL",
          "SALINAS VALLEY MEMORIAL HOSPITAL PHARMACY",
          "SAN ANTONIO REGIONAL HOSPITAL",
          "SAN DIMAS COMMUNITY HOSPITAL",
          "SAN DIMAS COMMUNITY HOSPITAL",
          "SAN GABRIEL VALLEY MEDICAL CENTER",
          "SAN GORGONIO MEMORIAL HOSPITAL PHARMACY - FIRST FLOOR CENTRAL PHA",
          "SAN JOAQUIN GENERAL HOSPITAL",
          "SAN JOAQUIN GENERAL HOSPITAL INPATIENT PHARMACY IV ROOM (A1477)",
          "SAN JOAQUIN VALLEY REHABILITATION HOSPITAL",
          "SAN LEANDRO HOSPITAL",
          "SAN MATEO MEDICAL CENTER",
          "SAN RAMON REGIONAL MEDICAL CENTER PHARMACY 1ST FLOOR",
          "SANTA BARBARA COTTAGE HOSPITAL",
          "SANTA CLARA VALLEY  MEDICAL CENTER - BUILDING A IV PHARMACY",
          "SANTA CLARA VALLEY MEDICAL CENTER - BUILDING A IV PHARMACY",
          "SANTA PAULA HOSPITAL",
          "SANTA YNEZ VALLEY COTTAGE HOSPITAL",
          "SCRIPPS CENTRAL PHARMACY PRODUCTION CENTER",
          "SCRIPPS ENCINITAS COMPOUNDING PHARMACY",
          "SCRIPPS GREEN HOSPITAL",
          "SCRIPPS MEMORIAL HOSPITAL ENCINITAS",
          "SCRIPPS MEMORIAL HOSPITAL LA JOLLA PREBYS MAIN PHARMACY",
          "SCRIPPS MEMORIAL HOSPITAL, LA JOLLA--PREBYS OR SATELLITE",
          "SCRIPPS MERCY HOSPITAL - CHULA VISTA",
          "SCRIPPS MERCY HOSPITAL - SAN DIEGO",
          "SCRIPPS MERCY SD COMPOUNDING PHARMACY",
          "SELECT SPECIALTY HOSPITAL - SAN DIEGO",
          "SEQUOIA HOSPITAL",
          "SEQUOIA REGIONAL CANCER CENTER PHARMACY",
          "SHARP CENTRALIZED HOSPITAL PHARMACY",
          "SHARP CHULA VISTA MEDICAL CENTER",
          "SHARP CORONADO HOSPITAL AND HEALTHCARE CENTER",
          "SHARP GROSSMONT HOSPITAL PHARMACY 2-WEST SATELLITE PHARMACY 2ND F",
          "SHARP MARY BIRCH HOSPITAL PHARMACY FIRST FLOOR MAIN PHARMACY",
          "SHARP MEMORIAL HOSPITAL PHARMACY MAIN PHARMACY",
          "SHASTA REGIONAL MEDICAL CENTER - PHARMACY",
          "SHERMAN OAKS HOSPITAL",
          "SHRINERS FOR CHILDREN AMBULATORY SURGICAL CENTER",
          "SHRINERS HOSPITAL PHARMACY",
          "SIERRA NEVADA MEMORIAL HOSPITAL",
          "SIERRA VIEW MEDICAL CENTER-CANCER TREATMENT CENTER  (Previous Name)",
          "SIERRA VIEW DISTRICT HOSPITAL",
          "SIERRA VIEW MEDICAL CENTER-CANCER TREATMENT CENTER SUITE B",
          "SIERRA VISTA HOSPITAL INC",
          "SOLEO HEALTH INC",
          "SONOMA SPECIALTY PHARMACY",
          "SONOMA VALLEY HOSPITAL PHARMACY",
          "SOUTH COAST GLOBAL MEDICAL CENTER INC",
          "SOUTHERN CALIFORNIA HOSPITAL AT CULVER CITY",
          "SOUTHERN CALIFORNIA HOSPITAL AT HOLLYWOOD PHARMACY",
          "SOUTHWEST HEALTHCARE RANCHO SPRINGS HOSPITAL",
          "ST BERNARDINE MEDICAL CENTER",
          "ST ELIZABETH COMMUNITY HOSPITAL PHARMACY CLEAN ROOM",
          "ST HELENA HOSPITAL CLEAR LAKE HOSPITAL PHARMACY",
          "ST JOHN'S HOSPITAL CAMARILLO",
          "ST JOSEPH HEALTH OUTPATIENT CANCER CENTER PHARMACY FOUNTAINGROVE",
          "ST JOSEPHS MEDICAL CENTER OF STOCKTON",
          "ST JUDE HOSPITAL INFUSION CENTER PHARMACY  (Previous Name)",
          "ST JOSEPHS MEDICAL CENTER STOCKTON",
          "ST JUDE MEDICAL CENTER INFUSION CENTER PHARMACY",
          "ST MARY MEDICAL CENTER BASEMENT PHARMACY",
          "ST MARY MEDICAL CENTER DBA PROVIDENCE ST MARY MEDICAL CENTER",
          "ST ROSE HOSPITAL PHARMACY",
          "ST. JOHN'S REGIONAL MEDICAL CENTER",
          "ST. JUDE MEDICAL CENTER PHARMACY",
          "ST. JUDE MEDICAL CENTER PHARMACY",
          "ST. JUDE MEDICAL CENTER PHARMACY",
          "ST. JUDE MEDICAL CENTER PHARMACY",
          "ST. MARYS MEDICAL CENTER LEVEL C",
          "STANFORD EMERYVILLE HEALTH CENTER PHARMACY",
          "STANFORD HEALTH CARE",
          "STANFORD HEALTH CARE",
          "STANFORD HEALTH CARE",
          "STANFORD HEALTH CARE - REDWOOD CITY",
          "STANFORD HEALTH CARE - REDWOOD CITY (PAV D)",
          "STANFORD HEALTH CARE - VALLEYCARE",
          "STANFORD HEALTH CARE 500P PHARMACY",
          "STANFORD HEALTH CARE- SAMARITAN PHARMACY",
          "STANFORD HEALTH SOUTH BAY CANCER CENTER PHARMACY",
          "STANFORD NEUROSCIENCE HEALTH CENTER PHARMACY",
          "STOCKTON REGIONAL REHABILITATION HOSPITAL",
          "SUTTER AMADOR HOSPITAL INPATIENT PHARMACY",
          "SUTTER AUBURN FAITH HOSPITAL PHARMACY",
          "SUTTER BAY HOSPITALS DBA PACIFIC HEIGHTS OUTPATIENT PHARMACY",
          "SUTTER BAY HOSPITALS DBA SUTTER MATERNITY & SURGERY CENTER OF SAN",
          "SUTTER COAST HOSPITAL INFUSION PHARMACY",
          "SUTTER DAVIS HOSPITAL INPATIENT PHARMACY",
          "SUTTER DELTA MEDICAL CENTER HOSPITAL PHARMACY",
          "SUTTER LAKESIDE PHARMACY",
          "SUTTER MEDICAL CENTER SACRAMENTO",
          "SUTTER MEDICAL CENTER SACRAMENTO INFUSION PHARMACY",
          "SUTTER ROSEVILLE MEDICAL CENTER FIRST FLOOR PHARMACY",
          "SUTTER ROSEVILLE MEDICAL CENTER INFUSION PHARMACY",
          "SUTTER SANTA ROSA REGIONAL HOSPITAL PHARMACY",
          "SUTTER SOLANO MEDICAL CENTER INFUSION PHARMACY",
          "SUTTER SOLANO MEDICAL CENTER INPATIENT PHARMACY - 1ST FLOOR - ROO",
          "SUTTER SURGICAL HOSPITAL - NORTH VALLEY",
          "SUTTER TRACY COMMUNITY HOSPITAL INPATIENT PHARMACY",
          "SVMHS-OUTPATIENT SERVICE-INFUSION CENTER",
          "TAHOE FOREST HOSPITAL PHARMACY",
          "TEMECULA VALLEY HOSPITAL",
          "THE CENTER FOR CANCER PREVENTION AND TREATMENT INFUSION CENTER PH",
          "THE JOHN M & SALLY B THORNTON HOSPITAL",
          "TODD CANCER PAVILION PHARMACY",
          "TORRANCE MEMORIAL MEDICAL CENTER 2ND FLOOR PHARMACY SATELLITE ROO",
          "TORRANCE MEMORIAL MEDICAL CENTER INPATIENT PHARMACY BASEMENT CLEA",
          "TRI-CITY HOSPITAL",
          "TWIN CITIES COMMUNITY HOSPITAL PHARMACY",
          "TWIN TOWERS CORRECTIONAL FACILITY",
          "U.C. DAVIS MEDICAL CENTER ROOM 0711D",
          "UC DAVIS HEALTH AT HOME",
          "UC DAVIS MEDICAL CENTER",
          "UC DAVIS MEDICAL CENTER INFUSION PHARMACY",
          "UC DAVIS MEDICAL CENTER PLACER CENTER FOR HEALTH PHARMACY",
          "UC IRVINE HEALTH CANCER CENTER - NEWPORT",
          "UC SAN DIEGO HEALTH EAST CAMPUS",
          "UCI HEALTH - FOUNTAIN VALLEY HOSPITAL PHARMACY",
          "UCI HEALTH - LAGUNA HILLS PHARMACY",
          "UCI HEALTH - LAKEWOOD HOSPITAL PHARMACY",
          "UCI HEALTH - LIVING CARE CENTER PHARMACY",
          "UCI HEALTH - LOS ALAMITOS HOSPITAL PHARMACY",
          "UCI HEALTH - PLACENTIA-LINDA HOSPITAL PHARMACY",
          "UCI HEALTH - SUSAN SAMUELI INTEGRATIVE HEALTH INSTITUTE PHARMACY",
          "UCI HEALTH IRVINE INFUSION PHARMACY ACC",
          "UCLA MED CTR CHS OUTPATIENT PHARMACY",
          "UCLA WEST VALLEY MEDICAL CENTER",
          "UCSD HEALTH LA JOLLA JACOBS MED CTR & SULPIZIO CARDIOVASCULAR CTR",
          "UCSD MEDICAL CENTER PHARMACY FIRST FLOOR, CENTRAL PHARMACY AREA,",
          "UCSD MEDICAL CENTER PHARMACY SECOND FLOOR",
          "UCSD MOORES CANCER CENTER",
          "UCSD OUTPATIENT PAVILION PHARMACY",
          "UCSD-ALTMAN CLINICAL TRANSLATIONAL RESEARCH INSTITUTE - RESEARCH",
          "UCSF HEALTH - SAINT FRANCIS HOSPITAL",
          "UCSF MEDICAL CENTER",
          "UCSF MEDICAL CENTER (MISSION BAY)",
          "UCSF MEDICAL CENTER AT MOUNT ZION",
          "UCSF MEDICAL CENTER BENIOFF",
          "UCSF MEDICAL CENTER BENIOFF 2ND FLR RM C2700 OR SATELLITE",
          "UCSF MEDICAL CENTER BENIOFF 4TH FLR RM C4411 MAIN PHARMACY",
          "UCSF MEDICAL CENTER BENIOFF 6TH FLR RM M6362 PEDIATRIC INFUSION",
          "UCSF MEDICAL CENTER BENIOFF6TH FLR RM C6984 INVESTIGATIONAL",
          "UCSF MEDICAL CENTER L487 (OR SATELLITE) ON 4TH FLOOR",
          "UCSF MEDICAL CENTER OUTPATIENT INFUSION PHARMACY",
          "UCSF MEDICAL CENTER ROOM A427",
          "UCSF MEDICAL CENTER WEIL BUILDING  (Previous Name)",
          "UCSF MEDICAL CENTER ROOM M1324",
          "UCSF MEDICAL CENTER WEILL BUILDING",
          "UCSF OUTPATIENT PHARMACY AT MISSION BAY",
          "UCSF PHARMACY CANCER CENTER BERKELEY",
          "UNIVERSITY OF CALIFORNIA IRVINE MEDICAL CENTER BLDG 23, 2ND FLOOR",
          "USC ARCADIA HOSPITAL",
          "USC KENNETH NORRIS JR CANCER HOSPITAL",
          "USC NORRIS CANCER HOSPITAL - PASADENA TREATMENT CENTER",
          "USC NORRIS CANCER HOSPITAL - SANTA CLARITA TREATMENT CENTER",
          "USC VERDUGO HILLS HOSPITAL",
          "VALLEY CHILDREN'S HOSPITAL",
          "VALLEY CHILDREN'S HOSPITAL",
          "VALLEY CHILDREN'S HOSPITAL",
          "VALLEY CHILDREN'S HOSPITAL",
          "VALLEY CHILDRENS HOSPITAL - PCUN 2ND FLOOR ICU-NORTH",
          "VALLEY PRESBYTERIAN HOSPITAL PHARMACY-PHARMACY HOSPITAL BASEMENT",
          "VALLEYCARE MEDICAL CENTER PHARMACY",
          "VALLEYCARE MEDICAL CENTER PHARMACY",
          "VENTURA COUNTY MEDICAL CENTER",
          "VENTURA COUNTY MEDICAL CENTER INFUSION CENTER PHARMACY",
          "VIBRA HOSPITAL OF NORTHERN CALIFORNIA",
          "VIBRA HOSPITAL OF SACRAMENTO PHARMACY IV ROOM",
          "VIBRA HOSPITAL OF SAN BERNARDINO LLC",
          "VICTOR VALLEY GLOBAL MEDICAL CENTER",
          "WASHINGTON HOSPITAL PHARMACY",
          "WATSONVILLE COMMUNITY HOSPITAL PHARMACY",
          "WEST ANAHEIM MEDICAL CENTER",
          "WHITE MEMORIAL MEDICAL CENTER DBA ADVENTIST HEALTH WHITE MEMORIAL",
          "WHITTIER HOSPITAL MEDICAL CENTER",
          "WOODLAND MEMORIAL HOSPITAL STERILE COMPOUNDING SUITE"
         ],
         "lat": [
          35.384336,
          39.223939,
          39.223939,
          35.384336,
          35.779507,
          34.160359,
          36.29223,
          39.492842,
          38.114388,
          39.487185,
          34.258405,
          34.258405,
          37.984549,
          37.984549,
          35.621087,
          38.542448,
          38.542448,
          35.118772,
          36.178091,
          39.135023,
          34.015444,
          33.844983,
          37.681264,
          37.773793,
          34.090728,
          34.090728,
          37.866536,
          37.865183,
          37.834403,
          34.713292,
          34.02452,
          35.384336,
          35.384336,
          35.468183,
          40.551757,
          34.080017,
          34.980294,
          38.869825,
          34.232796,
          34.141586,
          34.0712,
          37.769436,
          34.039378,
          34.057597,
          39.771649,
          null,
          37.344482,
          39.898613,
          37.916555,
          40.601778,
          34.195685,
          33.867257,
          34.02452,
          36.834289,
          33.881158,
          38.605407,
          32.774046,
          34.083086,
          34.072924,
          34.072924,
          34.064958,
          34.072924,
          34.072924,
          34.072924,
          34.072924,
          34.072924,
          34.064958,
          33.956526,
          37.639029,
          33.976582,
          34.127194,
          33.80845,
          32.806794,
          32.806794,
          37.834403,
          33.788145,
          33.788145,
          33.788145,
          33.788145,
          34.127194,
          33.788145,
          34.127194,
          34.127194,
          34.127194,
          34.127194,
          34.127194,
          37.804531,
          34.004468,
          34.141586,
          33.840451,
          34.141586,
          34.141586,
          34.141586,
          34.141586,
          34.141586,
          33.666942,
          33.67901,
          33.840398,
          34.105282,
          36.825296,
          36.825296,
          36.825296,
          36.197785,
          33.906956,
          33.647763,
          33.805401,
          36.825296,
          33.979248,
          34.122501,
          36.57469,
          34.283668,
          37.993892,
          37.993892,
          35.23575,
          33.840451,
          37.750021,
          37.795388,
          37.795388,
          36.825296,
          37.952452,
          33.860925,
          33.860925,
          33.641767,
          34.501472,
          34.480247,
          40.527834,
          null,
          37.830267,
          33.882579,
          37.671978,
          37.031475,
          37.031475,
          33.805401,
          34.022502,
          37.714509,
          33.768584,
          33.768584,
          34.185894,
          37.216953,
          37.380566,
          37.216953,
          37.380566,
          37.380566,
          37.216953,
          32.770197,
          32.770197,
          32.770197,
          34.156529,
          34.084747,
          34.066964,
          34.066964,
          34.066964,
          34.066964,
          37.528476,
          37.528476,
          34.149588,
          35.342891,
          39.745628,
          39.745628,
          41.756147,
          33.734005,
          35.23575,
          36.732891,
          36.732891,
          36.732891,
          36.862209,
          36.822349,
          33.763905,
          34.052922,
          34.136194,
          39.491654,
          34.449185,
          37.256765,
          35.621087,
          34.046243,
          32.777999,
          33.864617,
          36.902045,
          38.622985,
          33.667301,
          34.439855,
          34.168333,
          37.80432,
          37.80432,
          33.666942,
          33.666942,
          33.623208,
          null,
          33.723228,
          34.13946,
          34.13946,
          33.617844,
          33.710984,
          37.899936,
          37.995285,
          37.899936,
          37.899936,
          38.022366,
          38.022366,
          36.862209,
          37.952844,
          37.952844,
          37.501368,
          37.501368,
          37.889098,
          37.87195,
          37.87195,
          38.474099,
          37.230327,
          37.785969,
          37.785969,
          38.503685,
          38.503685,
          37.65549,
          38.18735,
          38.18735,
          37.743039,
          33.921793,
          33.921793,
          37.718023,
          37.965765,
          38.408571,
          38.408571,
          38.503685,
          36.976175,
          36.976175,
          36.976175,
          38.030177,
          33.799904,
          34.09741,
          34.09741,
          34.030578,
          33.799904,
          34.127194,
          33.936193,
          33.921793,
          37.82935,
          33.117154,
          38.666597,
          33.83796,
          33.666942,
          37.493297,
          33.889702,
          38.591897,
          37.230327,
          34.035602,
          38.604268,
          32.806794,
          37.718023,
          37.713275,
          37.713275,
          32.794714,
          34.085972,
          34.085972,
          34.177311,
          33.936193,
          34.222506,
          37.785969,
          38.741074,
          38.741074,
          37.715245,
          37.82935,
          33.117154,
          33.936193,
          37.965765,
          38.741074,
          38.030177,
          37.718023,
          33.765401,
          33.887821,
          34.085972,
          37.230327,
          38.645723,
          34.127194,
          37.501368,
          37.493297,
          38.408571,
          34.127194,
          33.799904,
          34.085972,
          34.035602,
          37.863914,
          32.794714,
          34.222506,
          34.222506,
          34.713292,
          34.439855,
          34.030578,
          33.83796,
          33.666942,
          33.788145,
          38.022366,
          34.177311,
          37.34864,
          37.889098,
          33.580016,
          33.889702,
          34.09741,
          38.474099,
          35.384336,
          34.283668,
          37.713275,
          38.580568,
          34.049809,
          32.794714,
          36.391777,
          36.391777,
          36.391777,
          34.136258,
          34.05038,
          34.05038,
          34.05038,
          34.05038,
          34.05038,
          33.623208,
          37.945512,
          37.769436,
          35.468183,
          35.617546,
          34.09741,
          33.927561,
          33.902045,
          33.988047,
          34.074087,
          33.898883,
          34.10097,
          33.828396,
          32.741501,
          37.713275,
          34.061624,
          33.765301,
          33.890853,
          null,
          33.850616,
          33.850616,
          33.833181,
          33.833181,
          33.833181,
          33.833181,
          34.051177,
          34.051177,
          34.051177,
          34.051177,
          34.051177,
          34.083458,
          34.051177,
          34.051177,
          34.051177,
          34.051177,
          34.051177,
          34.051177,
          33.580016,
          33.948255,
          34.011953,
          34.595669,
          34.595669,
          33.805401,
          33.906956,
          34.022502,
          34.713656,
          34.05038,
          34.05038,
          34.05038,
          34.05038,
          34.05038,
          34.212805,
          37.457524,
          37.374707,
          37.374707,
          37.374707,
          37.374707,
          33.833181,
          40.855694,
          37.548799,
          null,
          34.923013,
          35.176043,
          37.945512,
          37.945512,
          38.189115,
          38.734925,
          33.926262,
          33.926262,
          41.006417,
          33.975332,
          37.068068,
          33.890853,
          37.672906,
          33.746707,
          38.569828,
          35.384336,
          38.666597,
          37.345785,
          41.314337,
          40.601778,
          38.62415,
          35.192404,
          38.474099,
          37.554269,
          37.576948,
          37.57028,
          33.611945,
          34.222506,
          34.1528,
          34.072329,
          34.052922,
          34.051177,
          34.259971,
          36.722714,
          33.201242,
          38.280745,
          38.333133,
          37.492115,
          34.237519,
          34.237519,
          38.134068,
          37.315977,
          37.787236,
          34.530199,
          34.326584,
          33.710582,
          33.765639,
          39.47536,
          34.230854,
          34.604105,
          33.736458,
          33.0824,
          33.102005,
          32.670646,
          32.670646,
          37.750021,
          39.82883,
          38.235014,
          33.940445,
          34.052913,
          34.052913,
          34.052913,
          33.972782,
          33.972782,
          32.990121,
          32.990121,
          34.083086,
          34.083086,
          33.923533,
          34.155097,
          34.265879,
          34.265879,
          33.74212,
          33.840398,
          33.611945,
          33.611945,
          33.57093,
          34.026608,
          38.442011,
          40.578828,
          34.026608,
          34.026608,
          34.026608,
          34.173885,
          40.798659,
          33.788145,
          33.788145,
          32.806794,
          33.921793,
          34.011953,
          37.350421,
          33.768584,
          35.606509,
          33.765401,
          33.99504,
          34.0712,
          34.0712,
          33.889702,
          33.889702,
          38.635653,
          33.591304,
          36.862209,
          36.862209,
          36.862209,
          36.862209,
          36.862209,
          36.862209,
          37.018419,
          36.636344,
          34.105282,
          34.110186,
          34.110186,
          34.090776,
          33.948948,
          37.873793,
          37.873793,
          36.862209,
          37.706137,
          37.538449,
          37.75512,
          34.533222,
          null,
          37.315977,
          34.402343,
          34.624395,
          32.899592,
          33.056022,
          32.856347,
          33.056022,
          32.856347,
          32.856347,
          32.637868,
          32.747415,
          32.747415,
          32.747415,
          37.413691,
          36.301334,
          32.806794,
          32.608185,
          32.699234,
          32.777999,
          32.806794,
          32.806794,
          40.601778,
          34.147149,
          34.13946,
          38.550547,
          39.196387,
          35.988087,
          35.860883,
          35.988087,
          35.296958,
          37.605905,
          38.398815,
          38.249428,
          33.721131,
          34.019323,
          34.099912,
          33.547613,
          34.177083,
          40.18189,
          38.973012,
          34.227892,
          38.503685,
          37.973736,
          33.901886,
          37.973736,
          33.901886,
          33.782259,
          34.571218,
          37.605905,
          34.205247,
          33.901886,
          33.901886,
          33.901886,
          33.901886,
          37.769436,
          37.836844,
          37.374707,
          37.493297,
          37.418256,
          37.493297,
          37.493297,
          37.792682,
          37.418256,
          37.256765,
          37.256765,
          37.374707,
          37.959736,
          38.343033,
          38.99003,
          37.785969,
          37.031475,
          41.819578,
          38.554133,
          37.996501,
          39.045931,
          38.571577,
          38.571577,
          38.741074,
          38.741074,
          38.503685,
          38.18735,
          38.18735,
          38.994187,
          37.737191,
          36.636344,
          39.313089,
          33.511228,
          33.788145,
          32.856347,
          33.805401,
          33.807882,
          33.807882,
          33.201242,
          35.538809,
          34.065975,
          38.550547,
          38.534879,
          38.550547,
          38.550547,
          38.815548,
          33.647763,
          32.794714,
          33.710582,
          33.591304,
          33.849034,
          33.710582,
          33.795012,
          33.881158,
          33.642512,
          33.65844,
          34.0712,
          34.200834,
          32.856347,
          32.747415,
          32.747415,
          null,
          32.856347,
          32.856347,
          37.795388,
          null,
          37.768106,
          null,
          37.768106,
          37.768106,
          37.768106,
          37.768106,
          37.768106,
          null,
          37.768106,
          null,
          37.768106,
          null,
          37.768106,
          37.768106,
          37.865777,
          33.788145,
          34.128284,
          34.05038,
          34.13946,
          34.439855,
          34.185666,
          36.984885,
          36.751519,
          36.984885,
          36.984885,
          36.984885,
          34.199824,
          37.792682,
          37.792682,
          34.283668,
          34.283668,
          40.601778,
          38.666597,
          34.122501,
          34.501472,
          37.501368,
          36.946256,
          33.818246,
          34.05038,
          33.950295,
          38.687045
         ],
         "legendgroup": "Hospital or Med Center",
         "lon": [
          -119.020562,
          -121.49405,
          -121.49405,
          -119.020562,
          -119.200825,
          -118.213769,
          -119.622676,
          -123.340973,
          -121.144658,
          -123.741963,
          -118.775026,
          -118.775026,
          -120.349264,
          -120.349264,
          -118.789677,
          -122.419923,
          -122.419923,
          -118.493811,
          -119.370752,
          -123.259338,
          -118.111012,
          -117.952151,
          -122.480589,
          -122.278115,
          -118.127527,
          -118.127527,
          -122.257996,
          -122.238209,
          -122.264368,
          -118.15292,
          -117.289255,
          -119.020562,
          -119.020562,
          -118.779649,
          -120.675673,
          -118.262643,
          -116.964449,
          -120.008594,
          -116.902863,
          -117.957627,
          -118.443523,
          -122.447662,
          -118.2663,
          -118.413998,
          -104.882471,
          null,
          -121.883535,
          -86.233341,
          -122.341233,
          -122.454973,
          -118.490752,
          -118.330794,
          -117.289255,
          -119.83335,
          -117.854783,
          -121.447593,
          -117.142454,
          -117.737997,
          -118.37271,
          -118.37271,
          -118.382979,
          -118.37271,
          -118.37271,
          -118.37271,
          -118.37271,
          -118.37271,
          -118.382979,
          -118.358654,
          -120.964772,
          -118.455222,
          -118.295647,
          -117.791737,
          -117.13493,
          -117.13493,
          -122.264368,
          -117.87655,
          -117.87655,
          -117.87655,
          -117.87655,
          -118.295647,
          -117.87655,
          -118.295647,
          -118.295647,
          -118.295647,
          -118.295647,
          -118.295647,
          -122.410852,
          -117.684697,
          -117.957627,
          -117.601961,
          -117.957627,
          -117.957627,
          -117.957627,
          -117.957627,
          -117.957627,
          -117.732094,
          -118.014603,
          -118.353715,
          -117.662035,
          -119.68019,
          -119.68019,
          -119.68019,
          -120.422249,
          -118.08264,
          -117.919761,
          -118.187701,
          -119.68019,
          -118.217438,
          -117.320138,
          -121.840854,
          -119.223196,
          -122.136441,
          -122.136441,
          -120.615973,
          -117.601961,
          -122.415201,
          -122.422453,
          -122.422453,
          -119.68019,
          -121.329655,
          -116.566176,
          -116.566176,
          -116.273943,
          -117.292048,
          -117.408184,
          -122.318749,
          null,
          -121.20102,
          -117.442303,
          -121.007405,
          -121.98334,
          -121.98334,
          -118.187701,
          -118.199613,
          -122.079542,
          -116.429988,
          -116.429988,
          -116.432416,
          -121.926555,
          -122.085293,
          -121.926555,
          -122.085293,
          -122.085293,
          -121.926555,
          -115.59859,
          -115.59859,
          -115.59859,
          -117.841605,
          -117.886844,
          -117.937007,
          -117.937007,
          -117.937007,
          -117.937007,
          -120.853313,
          -120.853313,
          -118.489708,
          -119.064803,
          -121.843834,
          -121.843834,
          -122.659466,
          -117.819163,
          -120.615973,
          -119.783739,
          -119.783739,
          -119.783739,
          -119.760793,
          -119.760243,
          -117.931382,
          -118.143465,
          -118.260934,
          -122.26208,
          -119.804782,
          -121.922762,
          -118.789677,
          -118.053748,
          -117.021511,
          -118.180567,
          -121.350783,
          -122.889121,
          -116.963506,
          -118.644401,
          -116.288431,
          -122.207545,
          -122.207545,
          -117.732094,
          -117.732094,
          -117.933903,
          null,
          -118.008692,
          -118.166649,
          -118.166649,
          -117.259304,
          -116.204844,
          -121.999244,
          -122.040627,
          -121.999244,
          -121.999244,
          -122.555605,
          -122.555605,
          -119.760793,
          -122.381974,
          -122.381974,
          -121.956753,
          -121.956753,
          -122.037553,
          -122.069383,
          -122.069383,
          -121.443454,
          -121.785227,
          -122.437253,
          -122.437253,
          -122.754057,
          -122.754057,
          -122.422075,
          -122.224074,
          -122.224074,
          -121.23838,
          -118.140588,
          -118.140588,
          -121.032714,
          -121.775818,
          -122.022775,
          -122.022775,
          -122.754057,
          -121.95316,
          -121.95316,
          -121.95316,
          -121.297912,
          -118.298661,
          -117.968269,
          -117.968269,
          -118.399613,
          -118.298661,
          -118.295647,
          -117.493881,
          -118.140588,
          -122.203507,
          -117.180627,
          -121.141635,
          -117.870494,
          -117.732094,
          -122.195535,
          -117.113427,
          -121.408467,
          -121.785227,
          -117.591528,
          -121.280327,
          -117.13493,
          -121.032714,
          -122.16735,
          -122.16735,
          -117.071764,
          -117.464597,
          -117.464597,
          -118.615704,
          -117.493881,
          -118.444689,
          -122.437253,
          -121.247693,
          -121.247693,
          -121.9147,
          -122.203507,
          -117.180627,
          -117.493881,
          -121.775818,
          -121.247693,
          -121.297912,
          -121.032714,
          -116.334205,
          -118.12725,
          -117.464597,
          -121.785227,
          -121.445254,
          -118.295647,
          -121.956753,
          -122.195535,
          -122.022775,
          -118.295647,
          -118.298661,
          -117.464597,
          -117.591528,
          -122.306465,
          -117.071764,
          -118.444689,
          -118.444689,
          -118.15292,
          -118.644401,
          -118.399613,
          -117.870494,
          -117.732094,
          -117.87655,
          -122.555605,
          -118.615704,
          -121.984373,
          -122.037553,
          -117.14736,
          -117.113427,
          -117.968269,
          -121.443454,
          -119.020562,
          -119.223196,
          -122.16735,
          -121.49559,
          -117.470613,
          -117.071764,
          -119.372842,
          -119.372842,
          -119.372842,
          -118.026704,
          -118.211991,
          -118.211991,
          -118.211991,
          -118.211991,
          -118.211991,
          -117.933903,
          -122.56012,
          -122.447662,
          -118.779649,
          -118.452285,
          -117.968269,
          -117.887086,
          -118.008961,
          -118.370361,
          -117.605618,
          -118.166629,
          -117.57882,
          -117.20766,
          -117.127948,
          -122.16735,
          -117.892235,
          -117.881976,
          -118.297967,
          null,
          -118.039565,
          -118.039565,
          -118.292062,
          -118.292062,
          -118.292062,
          -118.292062,
          -117.248563,
          -117.248563,
          -117.248563,
          -117.248563,
          -117.248563,
          -117.270016,
          -117.248563,
          -117.248563,
          -117.248563,
          -117.248563,
          -117.248563,
          -117.248563,
          -117.14736,
          -116.987839,
          -117.159699,
          -120.352667,
          -120.352667,
          -118.187701,
          -118.08264,
          -118.199613,
          -117.86466,
          -118.211991,
          -118.211991,
          -118.211991,
          -118.211991,
          -118.211991,
          -118.882179,
          -122.176542,
          -122.181698,
          -122.181698,
          -122.181698,
          -122.181698,
          -118.292062,
          -124.066898,
          -118.839818,
          null,
          -120.259463,
          -120.476694,
          -122.56012,
          -122.56012,
          -120.638708,
          -120.789952,
          -118.249883,
          -118.249883,
          -121.480741,
          -118.355252,
          -120.843579,
          -118.297967,
          -120.946594,
          -117.172142,
          -121.440067,
          -119.020562,
          -121.141635,
          -120.42415,
          -122.380798,
          -122.454973,
          -121.324911,
          -119.175866,
          -121.443454,
          -120.951523,
          -122.316903,
          -122.365778,
          -117.665867,
          -118.444689,
          -118.000482,
          -117.698315,
          -118.143465,
          -117.248563,
          -117.199381,
          -121.633649,
          -117.296984,
          -122.00638,
          -121.920151,
          -118.390408,
          -118.517712,
          -118.517712,
          -122.52719,
          -121.936319,
          -120.759202,
          -119.310133,
          -118.382261,
          -117.951129,
          -117.790075,
          -121.41411,
          -118.365856,
          -118.239213,
          -114.687973,
          -117.127641,
          -117.080419,
          -117.094668,
          -117.094668,
          -122.415201,
          -75.435069,
          -122.557332,
          -118.129022,
          -118.26434,
          -118.26434,
          -118.26434,
          -118.022066,
          -118.022066,
          -115.358757,
          -115.358757,
          -117.737997,
          -117.737997,
          -118.200705,
          -118.547553,
          -118.456748,
          -118.456748,
          -118.312878,
          -118.353715,
          -117.665867,
          -117.665867,
          -117.773042,
          -118.473643,
          -122.23832,
          -124.136869,
          -118.473643,
          -118.473643,
          -118.473643,
          -118.346937,
          -124.151583,
          -117.87655,
          -117.87655,
          -117.13493,
          -118.140588,
          -117.159699,
          -121.852585,
          -116.429988,
          -117.683472,
          -116.334205,
          -117.373184,
          -118.443523,
          -118.443523,
          -117.113427,
          -117.113427,
          -121.518416,
          -117.697512,
          -119.760793,
          -119.760793,
          -119.760793,
          -119.760793,
          -119.760793,
          -119.760793,
          -121.554249,
          -121.623978,
          -117.662035,
          -117.81039,
          -117.81039,
          -118.095091,
          -116.832362,
          -121.290146,
          -121.290146,
          -119.760793,
          -122.12555,
          -122.305447,
          -121.972699,
          -119.791731,
          null,
          -121.936319,
          -119.094824,
          -120.137875,
          -117.201203,
          -117.2599,
          -117.250058,
          -117.2599,
          -117.250058,
          -117.250058,
          -117.058031,
          -117.166883,
          -117.166883,
          -117.166883,
          -122.295343,
          -119.372586,
          -117.13493,
          -117.054512,
          -117.209642,
          -117.021511,
          -117.13493,
          -117.13493,
          -122.454973,
          -118.463365,
          -118.166649,
          -121.456373,
          -120.972289,
          -118.860221,
          -119.03614,
          -118.860221,
          -120.733134,
          -122.126873,
          -122.861923,
          -122.466627,
          -117.90511,
          -118.391902,
          -118.326912,
          -117.34404,
          -117.254763,
          -122.377104,
          -122.623922,
          -119.079552,
          -122.754057,
          -121.319246,
          -117.916639,
          -121.319246,
          -117.916639,
          -118.196793,
          -117.133073,
          -122.126873,
          -119.174092,
          -117.916639,
          -117.916639,
          -117.916639,
          -117.916639,
          -122.447662,
          -122.289143,
          -122.181698,
          -122.195535,
          -122.170871,
          -122.195535,
          -122.195535,
          -121.86059,
          -122.170871,
          -121.922762,
          -121.922762,
          -122.181698,
          -121.288287,
          -120.760921,
          -121.114408,
          -122.437253,
          -121.98334,
          -124.065667,
          -121.798467,
          -121.812301,
          -122.941077,
          -121.466465,
          -121.466465,
          -121.247693,
          -121.247693,
          -122.754057,
          -122.224074,
          -122.224074,
          -121.594591,
          -121.433384,
          -121.623978,
          -120.207783,
          -117.042396,
          -117.87655,
          -117.250058,
          -118.187701,
          -118.347957,
          -118.347957,
          -117.296984,
          -120.739893,
          -118.238642,
          -121.456373,
          -121.444372,
          -121.456373,
          -121.456373,
          -121.280172,
          -117.919761,
          -117.071764,
          -117.951129,
          -117.697512,
          -118.147902,
          -117.951129,
          -118.062692,
          -117.854783,
          -117.841688,
          -117.826009,
          -118.443523,
          -118.6649,
          -117.250058,
          -117.166883,
          -117.166883,
          null,
          -117.250058,
          -117.250058,
          -122.422453,
          null,
          -122.386927,
          null,
          -122.386927,
          -122.386927,
          -122.386927,
          -122.386927,
          -122.386927,
          null,
          -122.386927,
          null,
          -122.386927,
          null,
          -122.386927,
          -122.386927,
          -122.286321,
          -117.87655,
          -118.047732,
          -118.211991,
          -118.166649,
          -118.644401,
          -118.239494,
          -119.873914,
          -119.680602,
          -119.873914,
          -119.873914,
          -119.873914,
          -118.447609,
          -121.86059,
          -121.86059,
          -119.223196,
          -119.223196,
          -122.454973,
          -121.141635,
          -117.320138,
          -117.292048,
          -121.956753,
          -121.756479,
          -117.974985,
          -118.211991,
          -118.024352,
          -121.857077
         ],
         "marker": {
          "color": "#00cc96"
         },
         "mode": "markers",
         "name": "Hospital or Med Center",
         "showlegend": true,
         "subplot": "mapbox",
         "type": "scattermapbox"
        },
        {
         "hovertemplate": "<b>%{hovertext}</b><br><br>Entity Type=Veterinary Compounding Only<br>LAT=%{lat}<br>LNG=%{lon}<extra></extra>",
         "hovertext": [
          "PETNET PHARMACEUTICAL",
          "PETNET PHARMACEUTICAL",
          "PETNET PHARMACEUTICAL",
          "PETNET PHARMACEUTICAL",
          "PROLAB PHARMACY",
          "SPECIALTY VETERINARY PHARMACY",
          "WEDGEWOOD PHARMACY LLC",
          "WEDGEWOOD PHARMACY LLC",
          "WEDGEWOOD PHARMACY LLC",
          "WEDGEWOOD PHARMACY LLC"
         ],
         "lat": [
          37.605905,
          33.997862,
          38.571577,
          34.051177,
          33.65554,
          29.624261,
          38.14029,
          35.192404,
          null,
          33.493513
         ],
         "legendgroup": "Veterinary Compounding Only",
         "lon": [
          -122.126873,
          -118.393617,
          -121.466465,
          -117.248563,
          -95.60504,
          -95.568033,
          -84.46161,
          -119.175866,
          null,
          -111.919239
         ],
         "marker": {
          "color": "#ab63fa"
         },
         "mode": "markers",
         "name": "Veterinary Compounding Only",
         "showlegend": true,
         "subplot": "mapbox",
         "type": "scattermapbox"
        },
        {
         "hovertemplate": "<b>%{hovertext}</b><br><br>Entity Type=Government Facility<br>LAT=%{lat}<br>LNG=%{lon}<extra></extra>",
         "hovertext": [
          "UCSD RESEARCH PHARMACY"
         ],
         "lat": [
          32.747415
         ],
         "legendgroup": "Government Facility",
         "lon": [
          -117.166883
         ],
         "marker": {
          "color": "#FFA15A"
         },
         "mode": "markers",
         "name": "Government Facility",
         "showlegend": true,
         "subplot": "mapbox",
         "type": "scattermapbox"
        }
       ],
       "layout": {
        "template": {
         "data": {
          "histogram2dcontour": [
           {
            "type": "histogram2dcontour",
            "colorbar": {
             "outlinewidth": 0,
             "ticks": ""
            },
            "colorscale": [
             [
              0.0,
              "#0d0887"
             ],
             [
              0.1111111111111111,
              "#46039f"
             ],
             [
              0.2222222222222222,
              "#7201a8"
             ],
             [
              0.3333333333333333,
              "#9c179e"
             ],
             [
              0.4444444444444444,
              "#bd3786"
             ],
             [
              0.5555555555555556,
              "#d8576b"
             ],
             [
              0.6666666666666666,
              "#ed7953"
             ],
             [
              0.7777777777777778,
              "#fb9f3a"
             ],
             [
              0.8888888888888888,
              "#fdca26"
             ],
             [
              1.0,
              "#f0f921"
             ]
            ]
           }
          ],
          "choropleth": [
           {
            "type": "choropleth",
            "colorbar": {
             "outlinewidth": 0,
             "ticks": ""
            }
           }
          ],
          "histogram2d": [
           {
            "type": "histogram2d",
            "colorbar": {
             "outlinewidth": 0,
             "ticks": ""
            },
            "colorscale": [
             [
              0.0,
              "#0d0887"
             ],
             [
              0.1111111111111111,
              "#46039f"
             ],
             [
              0.2222222222222222,
              "#7201a8"
             ],
             [
              0.3333333333333333,
              "#9c179e"
             ],
             [
              0.4444444444444444,
              "#bd3786"
             ],
             [
              0.5555555555555556,
              "#d8576b"
             ],
             [
              0.6666666666666666,
              "#ed7953"
             ],
             [
              0.7777777777777778,
              "#fb9f3a"
             ],
             [
              0.8888888888888888,
              "#fdca26"
             ],
             [
              1.0,
              "#f0f921"
             ]
            ]
           }
          ],
          "heatmap": [
           {
            "type": "heatmap",
            "colorbar": {
             "outlinewidth": 0,
             "ticks": ""
            },
            "colorscale": [
             [
              0.0,
              "#0d0887"
             ],
             [
              0.1111111111111111,
              "#46039f"
             ],
             [
              0.2222222222222222,
              "#7201a8"
             ],
             [
              0.3333333333333333,
              "#9c179e"
             ],
             [
              0.4444444444444444,
              "#bd3786"
             ],
             [
              0.5555555555555556,
              "#d8576b"
             ],
             [
              0.6666666666666666,
              "#ed7953"
             ],
             [
              0.7777777777777778,
              "#fb9f3a"
             ],
             [
              0.8888888888888888,
              "#fdca26"
             ],
             [
              1.0,
              "#f0f921"
             ]
            ]
           }
          ],
          "heatmapgl": [
           {
            "type": "heatmapgl",
            "colorbar": {
             "outlinewidth": 0,
             "ticks": ""
            },
            "colorscale": [
             [
              0.0,
              "#0d0887"
             ],
             [
              0.1111111111111111,
              "#46039f"
             ],
             [
              0.2222222222222222,
              "#7201a8"
             ],
             [
              0.3333333333333333,
              "#9c179e"
             ],
             [
              0.4444444444444444,
              "#bd3786"
             ],
             [
              0.5555555555555556,
              "#d8576b"
             ],
             [
              0.6666666666666666,
              "#ed7953"
             ],
             [
              0.7777777777777778,
              "#fb9f3a"
             ],
             [
              0.8888888888888888,
              "#fdca26"
             ],
             [
              1.0,
              "#f0f921"
             ]
            ]
           }
          ],
          "contourcarpet": [
           {
            "type": "contourcarpet",
            "colorbar": {
             "outlinewidth": 0,
             "ticks": ""
            }
           }
          ],
          "contour": [
           {
            "type": "contour",
            "colorbar": {
             "outlinewidth": 0,
             "ticks": ""
            },
            "colorscale": [
             [
              0.0,
              "#0d0887"
             ],
             [
              0.1111111111111111,
              "#46039f"
             ],
             [
              0.2222222222222222,
              "#7201a8"
             ],
             [
              0.3333333333333333,
              "#9c179e"
             ],
             [
              0.4444444444444444,
              "#bd3786"
             ],
             [
              0.5555555555555556,
              "#d8576b"
             ],
             [
              0.6666666666666666,
              "#ed7953"
             ],
             [
              0.7777777777777778,
              "#fb9f3a"
             ],
             [
              0.8888888888888888,
              "#fdca26"
             ],
             [
              1.0,
              "#f0f921"
             ]
            ]
           }
          ],
          "surface": [
           {
            "type": "surface",
            "colorbar": {
             "outlinewidth": 0,
             "ticks": ""
            },
            "colorscale": [
             [
              0.0,
              "#0d0887"
             ],
             [
              0.1111111111111111,
              "#46039f"
             ],
             [
              0.2222222222222222,
              "#7201a8"
             ],
             [
              0.3333333333333333,
              "#9c179e"
             ],
             [
              0.4444444444444444,
              "#bd3786"
             ],
             [
              0.5555555555555556,
              "#d8576b"
             ],
             [
              0.6666666666666666,
              "#ed7953"
             ],
             [
              0.7777777777777778,
              "#fb9f3a"
             ],
             [
              0.8888888888888888,
              "#fdca26"
             ],
             [
              1.0,
              "#f0f921"
             ]
            ]
           }
          ],
          "mesh3d": [
           {
            "type": "mesh3d",
            "colorbar": {
             "outlinewidth": 0,
             "ticks": ""
            }
           }
          ],
          "scatter": [
           {
            "fillpattern": {
             "fillmode": "overlay",
             "size": 10,
             "solidity": 0.2
            },
            "type": "scatter"
           }
          ],
          "parcoords": [
           {
            "type": "parcoords",
            "line": {
             "colorbar": {
              "outlinewidth": 0,
              "ticks": ""
             }
            }
           }
          ],
          "scatterpolargl": [
           {
            "type": "scatterpolargl",
            "marker": {
             "colorbar": {
              "outlinewidth": 0,
              "ticks": ""
             }
            }
           }
          ],
          "bar": [
           {
            "error_x": {
             "color": "#2a3f5f"
            },
            "error_y": {
             "color": "#2a3f5f"
            },
            "marker": {
             "line": {
              "color": "#E5ECF6",
              "width": 0.5
             },
             "pattern": {
              "fillmode": "overlay",
              "size": 10,
              "solidity": 0.2
             }
            },
            "type": "bar"
           }
          ],
          "scattergeo": [
           {
            "type": "scattergeo",
            "marker": {
             "colorbar": {
              "outlinewidth": 0,
              "ticks": ""
             }
            }
           }
          ],
          "scatterpolar": [
           {
            "type": "scatterpolar",
            "marker": {
             "colorbar": {
              "outlinewidth": 0,
              "ticks": ""
             }
            }
           }
          ],
          "histogram": [
           {
            "marker": {
             "pattern": {
              "fillmode": "overlay",
              "size": 10,
              "solidity": 0.2
             }
            },
            "type": "histogram"
           }
          ],
          "scattergl": [
           {
            "type": "scattergl",
            "marker": {
             "colorbar": {
              "outlinewidth": 0,
              "ticks": ""
             }
            }
           }
          ],
          "scatter3d": [
           {
            "type": "scatter3d",
            "line": {
             "colorbar": {
              "outlinewidth": 0,
              "ticks": ""
             }
            },
            "marker": {
             "colorbar": {
              "outlinewidth": 0,
              "ticks": ""
             }
            }
           }
          ],
          "scattermapbox": [
           {
            "type": "scattermapbox",
            "marker": {
             "colorbar": {
              "outlinewidth": 0,
              "ticks": ""
             }
            }
           }
          ],
          "scatterternary": [
           {
            "type": "scatterternary",
            "marker": {
             "colorbar": {
              "outlinewidth": 0,
              "ticks": ""
             }
            }
           }
          ],
          "scattercarpet": [
           {
            "type": "scattercarpet",
            "marker": {
             "colorbar": {
              "outlinewidth": 0,
              "ticks": ""
             }
            }
           }
          ],
          "carpet": [
           {
            "aaxis": {
             "endlinecolor": "#2a3f5f",
             "gridcolor": "white",
             "linecolor": "white",
             "minorgridcolor": "white",
             "startlinecolor": "#2a3f5f"
            },
            "baxis": {
             "endlinecolor": "#2a3f5f",
             "gridcolor": "white",
             "linecolor": "white",
             "minorgridcolor": "white",
             "startlinecolor": "#2a3f5f"
            },
            "type": "carpet"
           }
          ],
          "table": [
           {
            "cells": {
             "fill": {
              "color": "#EBF0F8"
             },
             "line": {
              "color": "white"
             }
            },
            "header": {
             "fill": {
              "color": "#C8D4E3"
             },
             "line": {
              "color": "white"
             }
            },
            "type": "table"
           }
          ],
          "barpolar": [
           {
            "marker": {
             "line": {
              "color": "#E5ECF6",
              "width": 0.5
             },
             "pattern": {
              "fillmode": "overlay",
              "size": 10,
              "solidity": 0.2
             }
            },
            "type": "barpolar"
           }
          ],
          "pie": [
           {
            "automargin": true,
            "type": "pie"
           }
          ]
         },
         "layout": {
          "autotypenumbers": "strict",
          "colorway": [
           "#636efa",
           "#EF553B",
           "#00cc96",
           "#ab63fa",
           "#FFA15A",
           "#19d3f3",
           "#FF6692",
           "#B6E880",
           "#FF97FF",
           "#FECB52"
          ],
          "font": {
           "color": "#2a3f5f"
          },
          "hovermode": "closest",
          "hoverlabel": {
           "align": "left"
          },
          "paper_bgcolor": "white",
          "plot_bgcolor": "#E5ECF6",
          "polar": {
           "bgcolor": "#E5ECF6",
           "angularaxis": {
            "gridcolor": "white",
            "linecolor": "white",
            "ticks": ""
           },
           "radialaxis": {
            "gridcolor": "white",
            "linecolor": "white",
            "ticks": ""
           }
          },
          "ternary": {
           "bgcolor": "#E5ECF6",
           "aaxis": {
            "gridcolor": "white",
            "linecolor": "white",
            "ticks": ""
           },
           "baxis": {
            "gridcolor": "white",
            "linecolor": "white",
            "ticks": ""
           },
           "caxis": {
            "gridcolor": "white",
            "linecolor": "white",
            "ticks": ""
           }
          },
          "coloraxis": {
           "colorbar": {
            "outlinewidth": 0,
            "ticks": ""
           }
          },
          "colorscale": {
           "sequential": [
            [
             0.0,
             "#0d0887"
            ],
            [
             0.1111111111111111,
             "#46039f"
            ],
            [
             0.2222222222222222,
             "#7201a8"
            ],
            [
             0.3333333333333333,
             "#9c179e"
            ],
            [
             0.4444444444444444,
             "#bd3786"
            ],
            [
             0.5555555555555556,
             "#d8576b"
            ],
            [
             0.6666666666666666,
             "#ed7953"
            ],
            [
             0.7777777777777778,
             "#fb9f3a"
            ],
            [
             0.8888888888888888,
             "#fdca26"
            ],
            [
             1.0,
             "#f0f921"
            ]
           ],
           "sequentialminus": [
            [
             0.0,
             "#0d0887"
            ],
            [
             0.1111111111111111,
             "#46039f"
            ],
            [
             0.2222222222222222,
             "#7201a8"
            ],
            [
             0.3333333333333333,
             "#9c179e"
            ],
            [
             0.4444444444444444,
             "#bd3786"
            ],
            [
             0.5555555555555556,
             "#d8576b"
            ],
            [
             0.6666666666666666,
             "#ed7953"
            ],
            [
             0.7777777777777778,
             "#fb9f3a"
            ],
            [
             0.8888888888888888,
             "#fdca26"
            ],
            [
             1.0,
             "#f0f921"
            ]
           ],
           "diverging": [
            [
             0,
             "#8e0152"
            ],
            [
             0.1,
             "#c51b7d"
            ],
            [
             0.2,
             "#de77ae"
            ],
            [
             0.3,
             "#f1b6da"
            ],
            [
             0.4,
             "#fde0ef"
            ],
            [
             0.5,
             "#f7f7f7"
            ],
            [
             0.6,
             "#e6f5d0"
            ],
            [
             0.7,
             "#b8e186"
            ],
            [
             0.8,
             "#7fbc41"
            ],
            [
             0.9,
             "#4d9221"
            ],
            [
             1,
             "#276419"
            ]
           ]
          },
          "xaxis": {
           "gridcolor": "white",
           "linecolor": "white",
           "ticks": "",
           "title": {
            "standoff": 15
           },
           "zerolinecolor": "white",
           "automargin": true,
           "zerolinewidth": 2
          },
          "yaxis": {
           "gridcolor": "white",
           "linecolor": "white",
           "ticks": "",
           "title": {
            "standoff": 15
           },
           "zerolinecolor": "white",
           "automargin": true,
           "zerolinewidth": 2
          },
          "scene": {
           "xaxis": {
            "backgroundcolor": "#E5ECF6",
            "gridcolor": "white",
            "linecolor": "white",
            "showbackground": true,
            "ticks": "",
            "zerolinecolor": "white",
            "gridwidth": 2
           },
           "yaxis": {
            "backgroundcolor": "#E5ECF6",
            "gridcolor": "white",
            "linecolor": "white",
            "showbackground": true,
            "ticks": "",
            "zerolinecolor": "white",
            "gridwidth": 2
           },
           "zaxis": {
            "backgroundcolor": "#E5ECF6",
            "gridcolor": "white",
            "linecolor": "white",
            "showbackground": true,
            "ticks": "",
            "zerolinecolor": "white",
            "gridwidth": 2
           }
          },
          "shapedefaults": {
           "line": {
            "color": "#2a3f5f"
           }
          },
          "annotationdefaults": {
           "arrowcolor": "#2a3f5f",
           "arrowhead": 0,
           "arrowwidth": 1
          },
          "geo": {
           "bgcolor": "white",
           "landcolor": "#E5ECF6",
           "subunitcolor": "white",
           "showland": true,
           "showlakes": true,
           "lakecolor": "white"
          },
          "title": {
           "x": 0.05
          },
          "mapbox": {
           "style": "light"
          }
         }
        },
        "mapbox": {
         "domain": {
          "x": [
           0.0,
           1.0
          ],
          "y": [
           0.0,
           1.0
          ]
         },
         "center": {
          "lat": 37.0902,
          "lon": -95.7129
         },
         "zoom": 3,
         "style": "open-street-map"
        },
        "legend": {
         "title": {
          "text": "Entity Type"
         },
         "tracegroupgap": 0
        },
        "title": {
         "text": "Pharmacies in the US"
        },
        "margin": {
         "r": 0,
         "t": 0,
         "l": 0,
         "b": 0
        },
        "autosize": true,
        "height": 800
       },
       "config": {
        "plotlyServerURL": "https://plot.ly"
       }
      },
      "text/html": [
       "<div>                            <div id=\"0b349cc8-89c8-4f47-aedf-de1ee1f111c5\" class=\"plotly-graph-div\" style=\"height:800px; width:100%;\"></div>            <script type=\"text/javascript\">                require([\"plotly\"], function(Plotly) {                    window.PLOTLYENV=window.PLOTLYENV || {};                                    if (document.getElementById(\"0b349cc8-89c8-4f47-aedf-de1ee1f111c5\")) {                    Plotly.newPlot(                        \"0b349cc8-89c8-4f47-aedf-de1ee1f111c5\",                        [{\"hovertemplate\":\"\\u003cb\\u003e%{hovertext}\\u003c\\u002fb\\u003e\\u003cbr\\u003e\\u003cbr\\u003eEntity Type=Infusion Services\\u003cbr\\u003eLAT=%{lat}\\u003cbr\\u003eLNG=%{lon}\\u003cextra\\u003e\\u003c\\u002fextra\\u003e\",\"hovertext\":[\"986 INFUSION PHARMACY #1 INC\",\"AMERICAN OUTCOMES MANAGEMENT, LP DBA AOM INFUSION\",\"AMERICAN RIVER INFUSION SERVICES\",\"BASIC HOME INFUSION INC\",\"BIOLOGIC INFUSION PHARMACY\",\"BIOPLUS SPECIALTY INFUSION CA, LLC\",\"BIOSCRIP INFUSION SERVICES\",\"BOND PHARMACY INC DBA ADVANCED INFUSION SOLUTIONS\",\"BOND PHARMACY INC DBA ADVANCED INFUSION SOLUTIONS\",\"COMMUNITY HOME INFUSION\",\"COMPLETE INFUSION CARE\",\"CORAM CVS\\u002fSPECIALTY INFUSION SERVICES\",\"CORAM CVS\\u002fSPECIALTY INFUSION SERVICES\",\"CORAM CVS\\u002fSPECIALTY INFUSION SERVICES\",\"DCRX INFUSION PATIENT CARE AMERICA\",\"DIGNITY HEALTH BAKERSFIELD INFUSION CENTER\",\"DIGNITY HEALTH BAKERSFIELD INFUSION CENTER\",\"DIGNITY HEALTH HOME INFUSION SERVICES\",\"DIGNITY HEALTH INFUSION CENTER CAMARILLO\",\"DIGNITY HEALTH INFUSION CENTER OXNARD\",\"DIGNITY HEALTH INFUSION CENTER VENTURA\",\"HEALIX INFUSION THERAPY LLC\",\"HEARTLAND HOME INFUSIONS INC D.B.A HHI INFUSION SERVICES\",\"HOSPICARE PHARMACY INLAND EMPIRE\",\"HOSPICARE PHARMACY LOS ANGELES IV ROOM\",\"INFUSION CARE PHARMACY NORTH\",\"INFUSION CENTER OF ARROYO GRANDE\",\"INFUSION CENTER OF SAN LUIS OBISPO\",\"INFUSION CONNECTIONS PHARMACY SERVICES INC\",\"INFUSIONRX\",\"INTEGRATED CARE SYSTEMS\",\"IV LEAGUE\",\"JOHN MUIR HEALTH INFUSION PHARMACY\",\"KABAFUSION, LLC\",\"KABAFUSION, LLC\",\"MARIN WELLNESS PHARMACY LLC D\\u002fB\\u002fA APEX INFUSION PHARMACY\",\"MARSHALL MEDICAL ONCOLOGY PHARMACY\",\"MISSION HOPE INFUSION CENTER\",\"MODEL DRUG\",\"MODEL DRUG INC\",\"NUTRISHARE LLC\",\"OMNICARE OF CERRITOS\",\"OMNICARE OF HAYWARD\",\"OMNICARE OF NORTHERN CALIFORNIA\",\"OMNICARE OF SAN DIEGO\",\"OMNICARE OF SOUTHERN CALIFORNIA\",\"OPTION CARE\",\"OPTION CARE ENTERPRISES INC DBA OPTION CARE\",\"OPTUM PHARMACY 801, INC\",\"OSO HOME CARE PHARMACY\",\"OSO HOME CARE PHARMACY\",\"OWL REXALL DRUG\",\"PALOMAR MEDICAL CNTER ESCONDIDO INFUSION PHARMACY\",\"PLAZA HOME CARE PHARMACY INC\",\"POLARIS PHARMACY SERVICES\",\"POLARIS PHARMACY SERVICES\",\"POLARIS PHARMACY SERVICES\",\"PREFERRED EXCELLENT CARE\",\"PREMIER INFUSION AND HEALTHCARE SERVICES, INC.\",\"PROVIDENCE HOME INFUSION LA COUNTY\",\"PROVIDENCE HOME INFUSION ORANGE COUNTY\",\"PROVIDENCE SAINT JOSEPH SATELLITE INFUSION PHARMACY\",\"QUADRACARE INC\",\"RIVER CITY PHARMACY INC DBA OPTION CARE\",\"SCRIPTS\",\"SHARP CENTRAL PHARMACY SERVICES\",\"SUTTER INFUSION & PHARMACY SERVICES\",\"SUTTER INFUSION & PHARMACY SERVICES\",\"TRINITY CARE RX\",\"UCSD HOME INFUSION PHARMACY\",\"UCSD- SDCC INFUSION PHARMACY\",\"VIVE RX INC\"],\"lat\":[33.848733,32.70065,38.635653,null,33.818477,33.833744,33.666942,32.999309,32.425874,36.822349,34.037251,34.035602,32.999818,44.874984,26.278502,35.342891,35.342891,34.923013,34.227892,34.205247,34.283668,29.620312,41.743074,33.828396,34.173885,33.805401,35.176043,35.23575,34.026608,34.283668,36.391777,33.997862,37.899936,33.867743,37.792682,33.803431,38.612129,34.923013,35.165671,36.478239,38.427507,33.867743,37.605905,38.114388,32.899592,34.224196,34.230854,35.16319,33.750815,33.680302,34.204568,34.119367,33.0824,34.13946,37.750502,null,32.806794,33.763905,33.833181,34.204568,33.830457,34.173885,34.074736,38.571577,34.207341,32.806794,37.773793,38.488809,33.801191,32.806794,33.056022,33.942108],\"legendgroup\":\"Infusion Services\",\"lon\":[-117.788357,-97.386965,-121.518416,null,-118.038307,-118.314022,-117.732094,-96.841688,-90.169852,-119.760243,-118.423573,-117.591528,-117.071808,-93.152093,-80.1153,-119.064803,-119.064803,-120.259463,-119.079552,-119.174092,-119.223196,-95.605693,-87.929214,-117.20766,-118.346937,-118.187701,-120.476694,-120.615973,-118.473643,-119.223196,-119.372842,-118.393617,-121.999244,-118.069472,-121.86059,-118.16977,-120.964522,-120.259463,-120.655844,-119.52137,-121.314899,-118.069472,-122.126873,-121.144658,-117.201203,-118.632394,-118.365856,-119.046322,-112.090632,-117.833295,-118.326365,-117.855054,-117.127641,-118.166649,-121.749055,null,-117.13493,-117.931382,-118.292062,-118.326365,-117.905941,-118.346937,-118.145959,-121.466465,-118.400973,-117.13493,-122.278115,-121.395843,-117.994904,-117.13493,-117.2599,-118.417488],\"marker\":{\"color\":\"#636efa\"},\"mode\":\"markers\",\"name\":\"Infusion Services\",\"showlegend\":true,\"subplot\":\"mapbox\",\"type\":\"scattermapbox\"},{\"hovertemplate\":\"\\u003cb\\u003e%{hovertext}\\u003c\\u002fb\\u003e\\u003cbr\\u003e\\u003cbr\\u003eEntity Type=Compounding Pharmacy\\u003cbr\\u003eLAT=%{lat}\\u003cbr\\u003eLNG=%{lon}\\u003cextra\\u003e\\u003c\\u002fextra\\u003e\",\"hovertext\":[\"A & O SPECIALTY PHARMACY\",\"ACCREDO HEALTH GROUP INC\",\"ACCREDO HEALTH GROUP INC\",\"ADVANCE CARE PHARMACY\",\"ALERACARE PHARMACY\",\"ALERACARE PHARMACY CALIFORNIA\",\"ALLIANCERX WALGREENS PHARMACY #15443\",\"ALLIANCERX WALGREENS PHARMACY #16287\",\"AMBROSIA HEALTHCARE INC\",\"AMERIPHARMA\",\"BCP VETERINARY PHARMACY\",\"BIOMED CALIFORNIA INC\",\"BOOTHWYN PHARMACY LLC\",\"BROOKS HEALTH CARE\",\"CALIFORNIA SPECIALTY PHARMACY LLC\",\"CAREMARK ILLINOIS SPECIALTY PHARMACY, LLC DBA CVS\\u002fSPECIALTY OR\",\"CD PHARMACY LLC DBA RED ROCK PHARMACY\",\"CENTRAL ADMIXTURE PHARMACY SERVICES INC\",\"CENTRAL ADMIXTURE PHARMACY SERVICES INC\",\"CHEMIQUE PHARMACEUTICALS INC\",\"CHEMIQUE PHARMACEUTICALS INC\",\"CHILDRENS VILLAGE PHARMACY\",\"CITRUS PHARMACY\",\"CLINISHARE PHARMACY\",\"COAST QUALITY PHARMACY LLC D\\u002fB\\u002fA ANAZAOHEALTH\",\"CONSONUS PHARMACY SERVICES CA NORTH LLC\",\"CORAM HEALTHCARE CORPORATION OF NEVADA DBA CORAM CVS\\u002fSPECIALTY IN\",\"COVETRUS NORTH AMERICA, LLC\",\"CRESCENT HEALTHCARE INC DBA CRESCENT HEALTHCARE\",\"CRESCENT HEALTHCARE INC DBA CRESCENT HEALTHCARE\",\"CRESCENT HEALTHCARE INC DBA CRESCENT HEALTHCARE\",\"CRESCENT HEALTHCARE INC DBA CRESCENT HEALTHCARE\",\"CURE STAT RX\",\"CVS\\u002fSPECIALTY OR CARELONRX SPECIALTY PHARMACY\",\"DEL'S PHARMACY I\",\"DIAMOND DRUGS INC\",\"DWAYNE'S FRIENDLY PHARMACY\",\"DYNAMIC RX LABS LLC\",\"ELEVARE SPECIALTY SERVICES\",\"ENCINO PHARMACY\",\"ENOVEX PHARMACY\",\"FIRESIDE PHARMACY\",\"FIRST CALL PHARMACY LLC\",\"GMT PHARMACY\",\"HOPEWELL PHARMACY\",\"HYGEIA LTC PHARMACY\",\"IMPRIMISRX\",\"INFUSERVE AMERICA INC\",\"INNOVATIVE COMPOUNDING PHARMACY\",\"ISORX RADIOPHARMACY\",\"JUBILANT DRAXIMAGE INC DBA JUBILANT RADIOPHARMA\",\"JUBILANT DRAXIMAGE INC DBA JUBILANT RADIOPHARMA\",\"JUBILANT DRAXIMAGE INC DBA JUBILANT RADIOPHARMA\",\"LA JOLLA DISCOUNT PHARMACY\",\"LEE SILSBY COMPOUNDING PHARMACY\",\"LYNNFIELD DRUG INC DBA FREEDOM FERTILITY PHARMACY\",\"MARINER ADVANCED PHARMACY CORP\",\"MEDSPECIALTIES COMPOUNDING PHARMACY\",\"NORTHBAY SPECIALTY PHARMACY\",\"O'BRIEN PHARMACY\",\"OSRX INC\",\"OWL WESTERN PHARMACY\",\"PACIFIC COMPOUNDING PHARMACY AND CONSULTATIONS INC\",\"PACIFIC WEST PHARMACY INC\",\"PHARMA101\",\"PHARMALABS LLC\",\"PHARMALOGIC LOS ANGELES\",\"PHARMARX PHARMACEUTICAL INC\",\"PHARMASCRIPT INC\",\"PHARMATRON A PHARMACY COMPANY\",\"PHARMERICA\",\"PHARMERICA\",\"PHARMERICA\",\"PHARMERICA\",\"PHARMERICA\",\"PHARMERICA\",\"PHARMERICA\",\"PHARMERICA\",\"PHAST PHARMACY\",\"PHILLIPS RANCH PHARMACY\",\"RANCHO PARK PHARMACY\",\"RANCHO SANTA FE PHARMACY\",\"RLS USA INC\",\"RLS USA INC\",\"RLS USA INC\",\"RLS USA INC\",\"RLS USA INC\",\"RX UNLIMITED PHARMACY\",\"SKILLED NURSING PHARMACY\",\"SKILLED NURSING PHARMACY\",\"SKILLED NURSING PHARMACY\",\"SOFIE CO\",\"STAR PHARMACY\",\"STRIVE PHARMACY\",\"THE MEDICINE SHOPPE\",\"TMC ACQUISITION LLC DBA TAILOR MADE COMPOUNDING\",\"TORMED PHARMACY\",\"UNIVERSITY COMPOUNDING PHARMACY\",\"VALOR COMPOUNDING PHARMACY\",\"VERDUGO PLAZA PHARMACY ALHAMBRA\",\"VLS PHARMACY INC\",\"WELLNESS CENTER PHARMACY INC DBA DESIGNER DRUGS\",\"WELLSCRIPT\",\"WOMENS INTERNATIONAL PHARMACY, INC. DBA BELMAR PHARMACY\",\"You have reached the end of your results\"],\"lat\":[36.636344,40.674947,28.489898,33.102005,33.62592,34.195685,null,null,33.765401,33.788145,29.749778,33.956526,39.87028,36.822349,34.00784,42.067166,37.044186,37.501368,33.933565,34.063516,33.972782,33.805401,34.011953,34.224196,28.009826,38.408571,36.061718,33.635109,33.933565,37.605905,32.999818,33.970847,32.899592,39.173116,34.10097,40.628381,37.492115,47.47202,34.17051,34.160236,34.168366,33.708012,29.991693,32.777999,null,34.052922,null,27.87506,38.666597,37.916555,34.051177,37.807215,33.994523,32.856347,41.469494,null,37.576948,33.896339,38.333133,39.031176,46.856398,34.097345,38.002125,38.791075,35.23575,27.87506,34.020221,34.224196,41.972872,36.825296,36.793661,32.908449,33.818477,37.603155,34.283668,38.635653,39.898839,33.970847,35.384336,32.852358,34.037251,33.020908,38.605407,32.806476,37.412402,33.879768,34.195685,34.237912,37.605905,33.999005,32.88607,37.018419,34.195685,33.353505,33.882579,37.874952,33.807882,32.724103,37.866536,34.074736,40.641221,35.030496,40.601778,33.584969,null],\"legendgroup\":\"Compounding Pharmacy\",\"lon\":[-121.623978,-80.106364,-81.290154,-117.080419,-112.002503,-118.490752,null,null,-116.334205,-117.87655,-95.345885,-118.358654,-75.712913,-119.760243,-118.030271,-87.934719,-113.577299,-121.956753,-118.062611,-117.790379,-118.022066,-118.187701,-117.159699,-118.632394,-82.547789,-122.022775,-115.058058,-112.093768,-118.062611,-122.126873,-117.071808,-117.32512,-117.201203,-76.842028,-117.57882,-79.150041,-118.390408,-122.2219,-118.289463,-118.515472,-118.267771,-116.403627,-90.258179,-117.021511,null,-118.143465,null,-82.648609,-121.141635,-122.341233,-117.248563,-122.301497,-118.149952,-117.250058,-81.512442,null,-122.316903,-117.796416,-121.920151,-94.630762,-114.014338,-117.906736,-121.324979,-121.234854,-120.615973,-82.648609,-118.286035,-118.632394,-87.662604,-119.68019,-119.761461,-117.14138,-118.038307,-122.018638,-119.223196,-121.518416,-86.05872,-117.32512,-119.020562,-116.987842,-118.423573,-117.190346,-121.447593,-117.168879,-122.015605,-117.89634,-118.490752,-118.482306,-122.126873,-117.972146,-117.085982,-121.554249,-118.490752,-111.811432,-117.442303,-84.563367,-118.347957,-117.170912,-122.257996,-118.145959,-74.016862,-85.14578,-122.454973,-112.304916,null],\"marker\":{\"color\":\"#EF553B\"},\"mode\":\"markers\",\"name\":\"Compounding Pharmacy\",\"showlegend\":true,\"subplot\":\"mapbox\",\"type\":\"scattermapbox\"},{\"hovertemplate\":\"\\u003cb\\u003e%{hovertext}\\u003c\\u002fb\\u003e\\u003cbr\\u003e\\u003cbr\\u003eEntity Type=Hospital or Med Center\\u003cbr\\u003eLAT=%{lat}\\u003cbr\\u003eLNG=%{lon}\\u003cextra\\u003e\\u003c\\u002fextra\\u003e\",\"hovertext\":[\"ADVENTIST HEALTH AIS CANCER CENTER PHARMACY\",\"ADVENTIST HEALTH AND RIDEOUT\",\"ADVENTIST HEALTH AND RIDEOUT\",\"ADVENTIST HEALTH BAKERSFIELD - HOSPITAL PHARMACY\",\"ADVENTIST HEALTH DELANO\",\"ADVENTIST HEALTH GLENDALE\",\"ADVENTIST HEALTH HANFORD\",\"ADVENTIST HEALTH HOWARD MEMORIAL\",\"ADVENTIST HEALTH LODI MEMORIAL HOSPITAL PHARMACY 1STFLR NORTHWING\",\"ADVENTIST HEALTH MENDOCINO COAST\",\"ADVENTIST HEALTH SIMI VALLEY\",\"ADVENTIST HEALTH SIMI VALLEY\",\"ADVENTIST HEALTH SONORA\",\"ADVENTIST HEALTH SONORA-PHARMACY\",\"ADVENTIST HEALTH SPECIALTY BAKERSFIELD\",\"ADVENTIST HEALTH ST HELENA HOSPITAL CANCER CENTER PHARMACY\",\"ADVENTIST HEALTH ST HELENA HOSPITAL INPATIENT PHARMACY\",\"ADVENTIST HEALTH TEHACHAPI VALLEY\",\"ADVENTIST HEALTH TULARE\",\"ADVENTIST HEALTH UKIAH VALLEY\",\"ADVENTIST HEALTH WHITE MEMORIAL MONTEBELLO\",\"AHMC ANAHEIM REGIONAL MEDICAL CENTER - MAIN PHARMACY\",\"AHMC SETON MEDICAL CENTER LLC\",\"ALAMEDA HOSPITAL\",\"ALHAMBRA HOSPITAL MEDICAL CENTER\",\"ALHAMBRA HOSPITAL MEDICAL CENTER\",\"ALTA BATES SUMMIT MED CTR HERRICK INFUSION PHARMACY\",\"ALTA BATES SUMMIT MEDICAL CENTER - ALTA BATES CAMPUS\",\"ALTA BATES SUMMIT MEDICAL CENTER - SUMMIT CAMPUS RM G744\",\"ANTELOPE VALLEY MEDICAL CENTER IV ROOM\",\"ARROWHEAD REGIONAL MEDICAL CENTER PHARMACY\",\"BAKERSFIELD MEMORIAL HOSPITAL\",\"BAKERSFIELD MEMORIAL HOSPITAL PHARMACY\",\"BAKERSFIELD REHABILITATION HOSPITAL\",\"BANNER LASSEN MEDICAL CENTER 1ST FLOOR ROOM 523\",\"BARLOW HOSPITAL PHARMACY\",\"BARSTOW COMMUNITY HOSPITAL\",\"BARTON MEMORIAL HOSPITAL PHARMACY\",\"BEAR VALLEY COMMUNITY HOSPITAL\",\"BECKMAN RESEARCH INSTITUTE OF THE CITY OF HOPE\",\"BOWYER PHARMACY\",\"CA PACIFIC MED CTR PHY - DAVIES CAMPUS\",\"CALIFORNIA HOSPITAL MEDICAL CENTER\",\"CALIFORNIA REHABILITATION INSTITUTE LLC 9TH FLOOR\",\"CARDINAL HEALTH\",\"CARDINAL HEALTH\",\"CARDINAL HEALTH 414 LLC\",\"CARDINAL HEALTH 414, LLC\",\"CARDINAL HEALTH 414,LLC\",\"CARDINAL HEALTH 414,LLC\",\"CARDINAL HEALTH 414,LLC\",\"CARDINAL HEALTH 414,LLC\",\"CARDINAL HEALTH 414,LLC\",\"CARDINAL HEALTH 414,LLC\",\"CARDINAL HEALTH 414,LLC\",\"CARDINAL HEALTH_414,LLC\",\"CARDINAL HEALTH_414,LLC\",\"CASA COLINA HOSPITAL PHARMACY\",\"CEDARS SINAI MEDICAL CENTER - CENTRAL PHARMACY MAIN SOUTH TOWER\",\"CEDARS SINAI MEDICAL CENTER - MARK TAPER\",\"CEDARS-SANAI TOWER HEMATOLOGY ONCOLOGY PHARMACY\",\"CEDARS-SINAI MEDICAL CENTER -4TH FLOOR MAIN: 4407-4408\",\"CEDARS-SINAI MEDICAL CENTER AHSP PLAZA LEVEL ROOM A2403\",\"CEDARS-SINAI MEDICAL CENTER ASHP\",\"CEDARS-SINAI MEDICAL CENTER PHARMACY #6\",\"CEDARS-SINAI MEDICAL CENTER PHY #4\",\"CEDARS-SINAI TOWER HEMATOLOGY ONCOLOGY PHARMACY\",\"CENTINELA HOSPITAL MEDICAL CENTER\",\"CENTRAL VALLEY SPECIALTY HOSPITAL - PHARMACY IV ROOM\",\"CFHS HOLDINGS INC DBA CEDARS SINAI MARINA DEL REY HOSPITAL\",\"CHA HOLLYWOOD PRESBYTERIAN MEDICAL CENTER INPATIENT PHARMACY IV R\",\"CHAPMAN GLOBAL MEDICAL CENTER INC\",\"CHILDREN'S HOSPITAL & HEALTH CENTER PHARMACY\",\"CHILDREN'S HOSPITAL & HEALTH CENTER PHARMACY\",\"CHILDREN'S HOSPITAL & RESEARCH CENTER AT OAKLAND\",\"CHILDREN'S HOSPITAL OF ORANGE COUNTY\",\"CHILDREN'S HOSPITAL OF ORANGE COUNTY HOSPITAL PHARMACY 6TH FLOOR\",\"CHILDREN'S HOSPITAL OF ORANGE COUNTY HOSPITAL PHARMACY INPATIENT\",\"CHILDREN'S HOSPITAL OF ORANGE COUNTY HOSPITAL PHARMACY OR SATELLI\",\"CHILDREN'S HOSPITAL PHARMACY - 4TH FLOOR 4A80\",\"CHILDRENS HOSPITAL OF ORANGE COUNTY\",\"CHILDRENS HOSPITAL PHARMACY - 2ND FLOOR 2A80\",\"CHILDRENS HOSPITAL PHARMACY - INPATIENT PHARMACY\",\"CHILDRENS HOSPITAL PHARMACY - OR SATELITE RM 2074\",\"CHILDRENS HOSPITAL PHARMACY - SATELITE EMERGENCY DEPT RM 0A66\",\"CHILDRENS HOSPITAL PHARMACY - SATELITE PAGE INFUSION CENTER P2-10\",\"CHINESE HOSPITAL PHARMACY\",\"CHINO VALLEY MEDICAL CENTER\",\"CITY OF HOPE BRISKIN CENTER FOR CLINICAL RESEARCH  (Previous Name)\",\"CITY OF HOPE CORONA\",\"CITY OF HOPE DUARTE BRISKIN\",\"CITY OF HOPE DUARTE HELFORD2\",\"CITY OF HOPE DUARTE HP8\",\"CITY OF HOPE DUARTE NW1202\",\"CITY OF HOPE DUARTE NW1252\",\"CITY OF HOPE ORANGE COUNTY\",\"CITY OF HOPE SEACLIFF\",\"CITY OF HOPE SOUTH BAY\",\"CITY OF HOPE UPLAND\",\"CLOVIS COMMUNITY HOSPITAL PHARMACY - ED SATELLITE\",\"CLOVIS COMMUNITY HOSPITAL PHARMACY - ICU SATELLITE\",\"CLOVIS COMMUNITY HOSPITAL PHARMACY - MAIN PHARMACY\",\"COALINGA REGIONAL MEDICAL CENTER\",\"COAST PLAZA HOSPITAL\",\"COLLEGE HOSPITAL OF COSTA MESA IV HOOD (BARRIER ISOLATOR) LOCATED\",\"COLLEGE MEDICAL CENTER\",\"COMMUNITY CANCER CENTER INFUSION PHARMACY\",\"COMMUNITY HOSPITAL OF HUNTINGTON PARK\",\"COMMUNITY HOSPITAL OF SAN BERNARDINO\",\"COMMUNITY HOSPITAL OF THE MONTEREY PENINSULA\",\"COMMUNITY MEMORIAL HOSPITAL OF SAN BUENA VENTURA MAIN PHARMACY\",\"CONTRA COSTA REG MED CTR OUTPATIENT PHY\",\"CONTRA COSTA REG MEDICAL CTR HOSPITAL PHARMACY\",\"CONVERSIO HEALTH\",\"CORONA REGIONAL MEDICAL CENTER MAIN PHARMACY ON 1ST FLOOR\",\"CPMC MISSION BERNAL CAMPUS PHARMACY\",\"CPMC VAN NESS CAMPUS 5TH FLOOR SATELLITE PHARMACY\",\"CPMC VAN NESS CAMPUS PHARMACY\",\"CRMC INFUSION CENTER - CLOVIS\",\"DAMERON HOSPITAL PHARMACY\",\"DESERT REGIONAL MED CTR COMP CANCER CTR\",\"DESERT REGIONAL MEDICAL CENTER - INPATIENT PHARMACY\",\"DESERT REGIONAL MEDICAL CENTER COMPREHENSIVE CANCER CENTER\",\"DESERT VALLEY HOSPITAL\",\"DESERT VALLEY HOSPITAL\",\"DIGNITY HEALTH MERCY ONCOLOGY CENTER PHARMACY\",\"DM CLINICAL COLLABORATIONS DBA INFUCARE RX\",\"DOCTORS HOSPITAL OF MANTECA\",\"DOCTORS HOSPTIAL OF RIVERSIDE\",\"DOCTORS MEDICAL CENTER OF MODESTO\",\"DOMINICAN HOSPITAL INFUSION CENTER\",\"DOMINICAN HOSPITAL PHARMACY\",\"EARL & LORAINE MILLER CHILDRENS HOSPITAL\",\"EAST LOS ANGELES DOCTORS HOSPITAL\",\"EDEN MEDICAL CENTER\",\"EISENHOWER MEDICAL CENTER - HOSPITAL LOWER LEVEL\",\"EISENHOWER MEDICAL CENTER - LUCY CURCI PHARMACY\",\"EISENHOWER MEDICAL CENTER YUCCA VALLEY\",\"EL CAMINO HOSPITAL - LOS GATOS\",\"EL CAMINO HOSPITAL CANCER CENTER\",\"EL CAMINO HOSPITAL LOS GATOS CANCER CENTER\",\"EL CAMINO HOSPITAL PHARMACY\",\"EL CAMINO HOSPITAL PHARMACY COMPOUNDING ROOM GB 512\",\"EL CAMINO HOSPITAL- LOS GATOS\",\"EL CENTRO REGIONAL MEDICAL CENTER PHARMACY\",\"EL CENTRO REGIONAL MEDICAL CENTER PHARMACY ECRMC PHARMACY ONCOLOG\",\"EL CENTRO REGIONAL MEDICAL CENTER PHY\",\"EMANATE HEALTH FOOTHILL PRESBYTERIAN HOSPITAL\",\"EMANATE HEALTH INTER-COMMUNITY MAIN PHARMACY (BASEMENT)\",\"EMANATE HEALTH QUEEN OF THE VALLEY HOSPITAL\",\"EMANATE HEALTH QUEEN OF THE VALLEY HOSPITAL MAIN PHARMACY BASEMEN\",\"EMANATE HEALTH QUEEN OF THE VALLEY HOSPITAL ROOM 249\",\"EMANATE HEALTH QUEEN OF THE VALLEY HOSPITAL ROOM 250\",\"EMANUEL MEDICAL CENTER\",\"EMANUEL SPECIALTY CLINIC MEDICAL ONCOLOGY PHARMACY\",\"ENCINO HOSPITAL MEDICAL CENTER PHARMACY\",\"ENCOMPASS HEALTH REHABILITATION HOSPITAL OF BAKERSFIELD\",\"ENLOE MEDICAL CENTER\",\"ENLOE MEDICAL CENTER CANCER CENTER\",\"FAIRCHILD MEDICAL CENTER PHARMACY\",\"FOOTHILL REGIONAL MEDICAL CENTER\",\"FRENCH HOSPITAL MEDICAL CENTER FIRST FLOOR\",\"FRESNO COMM MED CTR\",\"FRESNO COMM MED CTR PHARMACY 4TH FLOOR, 10-STORY BLDG, NEONATAL I\",\"FRESNO COMM MED CTR PHARMACY 5TH FLOOR, TCCB BLDG, INTENSIVE CARE\",\"FRESNO HEART AND SURGICAL HOSPITAL BAKER SG403 & EG4252\",\"FRESNO SURGICAL HOSPITAL STERILE PHARMACY 2ND FLOOR\",\"GARDEN GROVE HOSPITAL AND MEDICAL CENTER\",\"GARFIELD HOSPITAL MEDICAL CENTER 2ND FLOOR\",\"GLENDALE MEMORIAL HOSPITAL & HEALTH CENTER\",\"GLENN MEDICAL CENTER\",\"GOLETA VALLEY COTTAGE HOSPITAL\",\"GOOD SAMARITAN HOSPITAL PHARMACY\",\"GOOD SAMARITAN HOSPITAL, LP\",\"GREATER EL MONTE COMMUNITY HOSPITAL PHARMACY IV ROOM\",\"GROSSMONT HOSPITAL PHARMACY HEART & VASCULAR TOWER LEVEL A\",\"HARTLEY MEDICAL CENTER PHARMACY INC\",\"HAZEL HAWKINS MEMORIAL HOSPITAL PHARMACY\",\"HEALDSBURG HOSPITAL\",\"HEMET GLOBAL MEDICAL CENTER FIRST FLOOR PHARMACY\",\"HENRY MAYO NEWHALL HOSPITAL\",\"HI-DESERT MEDICAL CENTER HOSPITAL PHARMACY\",\"HIGHLAND CARE PAVILLION PHARMACY\",\"HIGHLAND HOSPITAL PHARMACY\",\"HOAG HOSPITAL IRVINE\",\"HOAG INFUSION CENTER PHARMACY\",\"HOAG MEMORIAL PRESBYTERIAN PHARMACY\",\"HOAG MEMORIAL PRESBYTERIAN PHARMACY\",\"HUNTINGTON BEACH HOSPITAL\",\"HUNTINGTON HOSPITAL MAIN PHARMACY IV ROOM GROUND FLOOR\",\"HUNTINGTON HOSPITAL PEDIATRIC SATELLITE 1ST FLOOR\",\"INLAND VALLEY MEDICAL CENTER MAIN PHARMACY 1ST FLOOR\",\"JOHN F KENNEDY MEMORIAL HOSPITAL\",\"JOHN MUIR MEDICAL CENTER\",\"JOHN MUIR MEDICAL CENTER CONCORD\",\"JOHN MUIR MEDICAL CENTER WALNUT CREEK\",\"JOHN MUIR MEDICAL CENTER WALNUT CREEK PEDIATRIC SATELLITE PHARM\",\"KAISER FDN HSP INP DISCHARGE PHY 39A 394\",\"KAISER FDN HSP INP DISCHARGE PHY 39A 394\",\"KAISER FDN HSP INP DISCHARGE PHY 72A 726\",\"KAISER FDN HSP INP PHY 12A\",\"KAISER FDN HSP INP PHY 12A\",\"KAISER FDN HSP INP PHY 16A\",\"KAISER FDN HSP INP PHY 16A\",\"KAISER FDN HSP INP PHY 51A\",\"KAISER FDN HSP INP PHY 51A FL 2 RM 213\",\"KAISER FDN HSP INP PHY 51A FL 2 RM 23B13\",\"KAISER FDN HSP INP PHY 60A\",\"KAISER FDN HSP INP\\u002fOUT DIS PHY 63A 634\",\"KAISER FDN HSP INP\\u002fOUT HSP PHY 31A 315\",\"KAISER FDN HSP INP\\u002fOUT HSP PHY 31A 315\",\"KAISER FDN HSP INP\\u002fOUT HSP PHY 58A 584\",\"KAISER FDN HSP INP\\u002fOUT HSP PHY 58A 584 FL 2 RM N2000\",\"KAISER FDN HSP INP\\u002fOUT PHY 35A-355\",\"KAISER FDN HSP PHY 21A\",\"KAISER FDN HSP PHY 21A\",\"KAISER FOUND HOSP PHARMACY #49A\",\"KAISER FOUND HOSPITAL PHARMACY #054\",\"KAISER FOUND HOSPITAL PHARMACY #054 - FL-1, RM H13R32\",\"KAISER FOUND HOSPITAL PHARMACY #85A\",\"KAISER FOUND HOSPITAL PHRMCY #57A MAIN PHARMACY\",\"KAISER FOUND HOSPITAL PHRMCY #67A\",\"KAISER FOUND HOSPITAL PHRMCY #67A \\u002f 67B\",\"KAISER FOUND HOSPITAL PHY #58B\",\"KAISER FOUND HSP PHY #44B FLR 2 RM H2164\",\"KAISER FOUND HSP PHY #44B FLR 2 RM P2531A\",\"KAISER FOUND HSP PHY #44B MAIN PHARMACY\",\"KAISER FOUNDATION HLTH MOB 2 PHY #686\",\"KAISER FOUNDATION HOSPITAL\",\"KAISER FOUNDATION HOSPITAL 551\",\"KAISER FOUNDATION HOSPITAL 551 - MAIN\",\"KAISER FOUNDATION HOSPITAL IP MAIN PHARMACY\",\"KAISER FOUNDATION HOSPITAL MAIN PHARMACY ROOM  #1047\",\"KAISER FOUNDATION HOSPITAL PHARMACY\",\"KAISER FOUNDATION HOSPITAL PHARMACY\",\"KAISER FOUNDATION HOSPITAL PHARMACY #054 MAIN PHARMACY\",\"KAISER FOUNDATION HOSPITAL PHARMACY #10A MAIN PHARMACY\",\"KAISER FOUNDATION HOSPITAL PHARMACY #247\",\"KAISER FOUNDATION HOSPITAL PHARMACY #28B\\u002f282\",\"KAISER FOUNDATION HOSPITAL PHARMACY #367 MAIN PHARMACY\",\"KAISER FOUNDATION HOSPITAL PHARMACY #372 MAIN PHARMACY\",\"KAISER FOUNDATION HOSPITAL PHARMACY #37B\\u002f378 FL 3 MAIN PHARMACY\",\"KAISER FOUNDATION HOSPITAL PHARMACY #529\",\"KAISER FOUNDATION HOSPITAL PHARMACY #61A MAIN PHARMACY\",\"KAISER FOUNDATION HOSPITAL PHARMACY #63C\",\"KAISER FOUNDATION HOSPITAL PHARMACY #651\",\"KAISER FOUNDATION HOSPITAL PHARMACY #71B\",\"KAISER FOUNDATION HOSPITAL PHARMACY #751\",\"KAISER FOUNDATION HOSPITAL PHARMACY #85A\",\"KAISER FOUNDATION HOSPITAL PHARMACY #92A FL 2, RM 2228\",\"KAISER FOUNDATION HOSPITAL PHARMACY #92A MAIN PHARMACY\",\"KAISER FOUNDATION HOSPITAL PHARMACY - MAIN PHARMACY\",\"KAISER FOUNDATION HOSPITAL PHARMACY 151 - FL 2, RM 2126\",\"KAISER FOUNDATION HOSPITAL PHARMACY 151 - MAIN\",\"KAISER FOUNDATION HOSPITAL PHARMACY MAIN PHARMACY\",\"KAISER FOUNDATION HOSPITAL PHARMACY MAIN PHARMACY\",\"KAISER FOUNDATION HOSPITAL PHY #253 MAIN PHARMACY\",\"KAISER HEALTH PLAN PHARMACY NO 338\",\"KAISER HOSPITAL PHARMACY #59A FL-1 RM W1D06\",\"KAISER HOSPITAL PHARMACY #59A MAIN PHARMACY\",\"KAISER ONCOLOGY PHARMACY #060\",\"KAISER ONCOLOGY PHARMACY #104\",\"KAISER ONCOLOGY PHARMACY #247\",\"KAISER ONCOLOGY PHARMACY #520\",\"KAISER ONCOLOGY PHARMACY #573\",\"KAISER ONCOLOGY PHARMACY #598\",\"KAISER ONCOLOGY PHARMACY #680\",\"KAISER ONCOLOGY PHARMACY #854\",\"KAISER ONCOLOGY PHARMACY #868\",\"KAISER ONCOLOGY PHRMCY #081\",\"KAISER ONCOLOGY PHRMCY #170\",\"KAISER ONCOLOGY PHRMCY #638\",\"KAISER PERMANENTE HOME INFUSION PHARMACY #620\",\"KAISER PERMANENTE ONCOLOGY PHARMACY #014C\",\"KAISER PERMANENTE ONCOLOGY PHARMACY #168\",\"KAISER PERMANENTE ONCOLOGY PHARMACY #379\",\"KAISER PERMANENTE ONCOLOGY PHARMACY #675\",\"KAISER PERMANENTE PHARMACY #005C\",\"KAISER PERMANENTE PHARMACY #122C\",\"KAISER PERMANENTE PHARMACY #162\",\"KAISER PERMANENTE PHARMACY #171\",\"KAISER PERMANENTE PHARMACY #181\",\"KAISER PERMANENTE PHARMACY #221\",\"KAISER PERMANENTE PHARMACY #252\",\"KAISER PERMANENTE PHARMACY #257C\",\"KAISER PERMANENTE PHARMACY #260C\",\"KAISER PERMANENTE PHARMACY #271C\",\"KAISER PERMANENTE PHARMACY #305C - RM 4644\",\"KAISER PERMANENTE PHARMACY #363C\",\"KAISER PERMANENTE PHARMACY #374C\",\"KAISER PERMANENTE PHARMACY #376\",\"KAISER PERMANENTE PHARMACY #398\",\"KAISER PERMANENTE PHARMACY #401\",\"KAISER PERMANENTE PHARMACY #414\",\"KAISER PERMANENTE PHARMACY #514\",\"KAISER PERMANENTE PHARMACY #524C\",\"KAISER PERMANENTE PHARMACY #531C\",\"KAISER PERMANENTE PHARMACY #551C\",\"KAISER PERMANENTE PHARMACY #607\",\"KAISER PERMANENTE PHARMACY #612T2\",\"KAISER PERMANENTE PHARMACY #889C\",\"KAISER PERMANENTE PHARMACY #922\",\"KAISER PERMANENTE PHARMACY #979\",\"KAISER PERMANENTE PHY #193\",\"KAISER ZION ONCOLOGY PHARMACY #202C\",\"KAWEAH HEALTH ACEQUIA WING SATALITE PHARMACY\",\"KAWEAH HEALTH HOME INFUSION PHARMACY\",\"KAWEAH HEALTH MEDICAL CENTER PHARMACY\",\"KECK HOSPITAL OF USC - ARCADIA TREATMENT CENTER\",\"KECK HOSPITAL OF USC - NORRIS HEALTHCARE CENTER PHARMACY\",\"KECK HOSPITAL OF USC 3RD FLOOR PHARMACY\",\"KECK HOSPITAL OF USC 4TH FLOOR OR PHARMACY\",\"KECK HOSPITAL OF USC 9TH FLOOR PHARMACY\",\"KECK HOSPITAL OF USC MAIN PHARMACY\",\"KECK MEDICINE OF USC-NEWPORT PHARMACY\",\"KENTFIELD HOSPITAL\",\"KENTFIELD HOSPITAL SAN FRANCISCO\",\"KERN MEDICAL CENTER PHARMACY RM 1150\",\"KERN VALLEY HEALTHCARE DISTRICT\",\"KINDRED HOSPITAL BALDWIN PARK\",\"KINDRED HOSPITAL BREA\",\"KINDRED HOSPITAL LA MIRADA\",\"KINDRED HOSPITAL LOS ANGELES\",\"KINDRED HOSPITAL ONTARIO\",\"KINDRED HOSPITAL PARAMOUNT\",\"KINDRED HOSPITAL RANCHO\",\"KINDRED HOSPITAL RIVERSIDE\",\"KINDRED HOSPITAL SAN DIEGO\",\"KINDRED HOSPITAL SAN FRANCISCO BAY AREA\",\"KINDRED HOSPITAL SAN GABRIEL VALLEY\",\"KINDRED HOSPITAL SANTA ANA\",\"KINDRED HOSPITAL SOUTH BAY\",\"KINDRED HOSPITAL WESTMINSTER\",\"LA PALMA INTERCOMMUNITY HOSPITAL\",\"LA PALMA INTERCOMMUNITY HOSPITAL\",\"LAC HARBOR UCLA MEDICAL CENTER PHARMACY 3RD FLOOR SATELLITE\",\"LAC HARBOR UCLA MEDICAL CENTER PHARMACY 6TH FLOOR SATELLITE\",\"LAC HARBOR UCLA MEDICAL CENTER PHARMACY MAIN PHARMACY\",\"LAC HARBOR UCLA MEDICAL CENTER PHARMACY SE 1H09\",\"LLUMC - EAST CAMPUS HOSPITAL PHARMACY\",\"LOMA LINDA UNIVERSITY CHILDREN'S HOSPITAL\",\"LOMA LINDA UNIVERSITY CHILDREN'S HOSPITAL PHARMACY\",\"LOMA LINDA UNIVERSITY CHILDREN'S HOSPITAL PHARMACY (NICU-3RD)\",\"LOMA LINDA UNIVERSITY CHILDRENS HOSPITAL\",\"LOMA LINDA UNIVERSITY CHILDRENS HOSPITAL PEDIATRIC HEMATOLOGY\\u002fONC\",\"LOMA LINDA UNIVERSITY HOSPITAL PHARMACY- 14TH FLOOR\",\"LOMA LINDA UNIVERSITY HOSPITAL PHARMACY-3RD FLOOR\",\"LOMA LINDA UNIVERSITY HOSPITAL PHARMACY-6TH FLOOR\",\"LOMA LINDA UNIVERSITY HOSPITAL PHARMACY-ADULT CANCER CENTER\",\"LOMA LINDA UNIVERSITY HOSPITAL PHARMACY-BASEMENT\",\"LOMA LINDA UNIVERSITY MEDICAL CENTER - HOSPITAL PHARMACY (2ND FLO\",\"LOMA LINDA UNIVERSITY MEDICAL CENTER - MURRIETA\",\"LOMA LINDA UNIVERSITY MEDICAL CENTER ADULT INFUSION PHARMACY HIGH\",\"LOMA LINDA UNIVERSITY SURGICAL HOSPITAL\",\"LOMPOC VALLEY MEDICAL CENTER\",\"LOMPOC VALLEY MEDICAL CENTER HEMATOLOGY-ONCOLOGY PHARMACY\",\"LONG BEACH MEMORIAL MEDICAL CENTER\",\"LOS ANGELES COMMUNITY HOSPITAL AT NORWALK\",\"LOS ANGELES COMMUNITY HOSPITAL PHARMACY\",\"LOS ANGELES COUNTY HIGH DESERT REGIONAL HEALTH CENTER PHARMACY\",\"LOS ANGELES GENERAL MEDICAL CENTER INPATIENT PHARMACY\",\"LOS ANGELES GENERAL MEDICAL CENTER INPATIENT PHARMACY\",\"LOS ANGELES GENERAL MEDICAL CENTER INPATIENT PHARMACY\",\"LOS ANGELES GENERAL MEDICAL CENTER INPATIENT PHARMACY\",\"LOS ANGELES GENERAL MEDICAL CENTER INPATIENT PHARMACY\",\"LOS ROBLES HOSPITAL AND MEDICAL CENTER\",\"LPCH CHILDRENS HOME PHARMACY\",\"LUCILE PACKARD CHILDREN'S HOSPITAL RM 2875 INPATIENT PHARMACY\",\"LUCILE SALTER PACKARD CHILDRENS HSP\",\"LUCILE SALTER PACKARD CHILDRENS HSP\",\"LUCILE SALTER PACKARD CHILDRENS HSP\",\"LUNDQUIST INSTITUTE FOR BIOMEDICAL INNOVATION\",\"MAD RIVER COMMUNITY HOSPITAL PHARMACY\",\"MAMMOTH HOSPITAL\",\"MANDELL'S CLINICAL PHARMACY\",\"MARIAN REGIONAL MEDICAL CENTER\",\"MARIAN REGIONAL MEDICAL CENTER ARROYO GRANDE\",\"MARIN GENERAL HOSPITAL PHARMACY MAIN PHARMACY, 2ND FLOOR\",\"MARIN GENERAL HOSPITAL PHARMACY SATELLITE PHARAMCY, 5TH FLOOR\",\"MARK TWAIN MEDICAL CENTER\",\"MARSHALL HOSPITAL PHARMACY; 2ND FLOOR SURGERY WING\",\"MARTIN LUTHER KING JR COMMUNITY HOSPITAL PHARMACY\",\"MARTIN LUTHER KING JR OUTPATIENT CENTER PHARMACY\",\"MAYERS MEMORIAL HOSPITAL PHARMACY\",\"MEDRX INFUSION CLINICAL PHARMACY\",\"MEMORIAL HOSPITAL LOS BANOS PHARMACY\",\"MEMORIAL HOSPITAL OF GARDENA\",\"MEMORIAL MEDICAL CENTER PHARMACY- INPATIENT\",\"MENIFEE GLOBAL MEDICAL CENTER MAIN PHARMACY\",\"MERCY GENERAL HOSPITAL\",\"MERCY HOSPITAL\",\"MERCY HOSPITAL OF FOLSOM MAIN PHARMACY - LOWER LEVEL ROOM 170\",\"MERCY MEDICAL CENTER MAIN PHARMACY - GARDEN LEVEL ROOM # 0165\",\"MERCY MEDICAL CENTER MT SHASTA\",\"MERCY MEDICAL CENTER REDDING\",\"MERCY SAN JUAN MEDICAL CENTER PHARMACY 1ST FLOOR IV ROOM\",\"MERCY SOUTHWEST HOSPITAL\",\"METHODIST HOSPITAL OF SACRAMENTO\",\"MID VALLEY HEALTH SERVICES\",\"MILLS-PENINSULA HEALTH CENTER PHARMACY\",\"MILLS-PENINSULA MEDICAL CENTER PHARMACY\",\"MISSION HEALTH CENTER  (Previous Name)\",\"MISSION COMMUNITY HOSPITAL MAIN PHARMACY IN BASEMENT\",\"MONROVIA MEMORIAL HOSPITAL\",\"MONTCLAIR HOSPITAL MEDICAL CENTER\",\"MONTEREY PARK HOSPITAL\",\"MOUNTAIN VIEW PHARMACEUTICALS\",\"MOUNTAINS COMMUNITY HOSPITAL PHARMACY\",\"NATIVIDAD MEDICAL CENTER 1ST FLOOR MAIN PHARMACY 1D018\",\"NORTH COUNTY ONCOLOGY\",\"NORTHBAY MEDICAL CENTER PHARMACY\",\"NORTHBAY VACAVALLEY HOSPITAL PHARMACY\",\"NORTHERN INYO HOSPITAL PHARMACY\",\"NORTHRIDGE HOSPITAL MEDICAL CENTER\",\"NORTHRIDGE HOSPITAL MEDICAL CENTER\",\"NOVATO COMMUNITY HOSPITAL - MAIL PHARMACY IV ROOM 2ND FLOOR\",\"O'CONNOR HOSPITAL\",\"OAK VALLEY HOSPITAL DISTRICT\",\"OJAI VALLEY COMMUNITY HOSPITAL\",\"OLIVE VIEW UCLA MED CTR PHY I\",\"ORANGE COAST MEMORIAL MEDICAL CENTER\",\"ORANGE COUNTY GLOBAL MEDICAL CENTER\",\"OROVILLE HOSPITAL - MAIN PHARMACY\",\"PACIFICA HOSPITAL OF THE VALLEY\",\"PALMDALE REGIONAL MEDICAL CENTER INPATIENT PHARMACY\",\"PALO VERDE HOSPITAL\",\"PALOMAR MEDICAL CENTER PHARMACY\",\"PALOMAR MEDICAL CENTER POWAY PHARMACY\",\"PARADISE VALLEY HOSPITAL\",\"PARADISE VALLEY HOSPITAL\",\"PC AND MZ SAN FRANCISCO GEN HOSPITAL AND TRAUMA CTR INPT PHARMACY\",\"PENTEC HEALTH, INC.\",\"PETALUMA VALLEY HOSPITAL PHARMACY\",\"PIH HEALTH DOWNEY HOSPITAL\",\"PIH HEALTH GOOD SAMARITAN HOSPITAL\",\"PIH HEALTH GOOD SAMARITAN HOSPITAL\",\"PIH HEALTH GOOD SAMARITAN HOSPITAL 4TH FLOOR PHARMACY\",\"PIH HEALTH WHITTIER HOSPITAL PHCY\",\"PIH HEALTH WHITTIER HOSPITAL PHCY PLAZA TOWER MAIN PHARMACY\",\"PIONEERS MEMORIAL HEALTHCARE DISTRICT\",\"PIONEERS MEMORIAL HEALTHCARE DISTRICT MAIN PHARMACY\",\"POMONA VALLEY HOSPITAL MEDICAL CENTER CENTRAL PHARMACY #DB20P\",\"POMONA VALLEY HOSPITAL MEDICAL CENTER SATELLITE PHARMACY #EC298A\",\"PRIME HEALTHCARE SERVICES- ST. FRANCIS LLC\",\"PROVIDENCE CEDARS-SINAI TARZANA MEDICAL CENTER\",\"PROVIDENCE HEALTH SYSTEM SOUTHERN CALIFORNIA DBA PROVIDENCE HOLY\",\"PROVIDENCE HOLY CROSS MEDICAL CENTER PHARMACY\",\"PROVIDENCE LITTLE COMPANY OF MARY MED CTR SAN PEDRO\",\"PROVIDENCE LITTLE COMPANY OF MARY MED CTR TORRANCE\",\"PROVIDENCE MISSION HOSPITAL\",\"PROVIDENCE MISSION HOSPITAL CANCER CENTER\",\"PROVIDENCE MISSION HOSPITAL LAGUNA BEACH\",\"PROVIDENCE ONCOLOGY PHARMACY\",\"PROVIDENCE QUEEN OF THE VALLEY MEDICAL CENTER\",\"PROVIDENCE REDWOOD MEMORIAL HOSPITAL\",\"PROVIDENCE SAINT JOHN'S HEALTH CENTER- MAIN PHARMACY\",\"PROVIDENCE SAINT JOHN'S HEALTH CENTER- SATELLITE PHARMACY\",\"PROVIDENCE SAINT JOHNS HEALTH CENTER PHARMACY\",\"PROVIDENCE SAINT JOSEPH MEDICAL CENTER\",\"PROVIDENCE ST JOSEPH HOSPITAL\",\"PROVIDENCE ST JOSEPH HOSPITAL PHARMACY INPATIENT PHARMACY\",\"PROVIDENCE ST. JOSEPH HOSPITAL PHARMACY\",\"RADY CHILDREN'S HOMECARE PHARMACY\",\"RANCHO LOS AMIGOS NAT. REHAB CTR HOSPITAL PHARMACY\",\"REDLANDS COMMUNITY HOSPITAL\",\"REGIONAL MEDICAL CENTER OF SAN JOSE\",\"REHABILITATION HOSPITAL OF SOUTHERN CALIFORNIA, LLC\",\"RIDGECREST REGIONAL HOSPITAL\",\"RIVER'S EDGE PHARMACY\",\"RIVERSIDE COMMUNITY HOSPITAL CENTRAL PHARMACY I.V. ROOM\",\"RONALD REAGAN UCLA MEDICAL CENTER 6TH FLOOR SATELLITE\",\"RONALD REAGAN UCLA MEDICAL CENTER I.V. ADDITIVE SERVICE\",\"RUHS - MC - INFUSION CENTER\",\"RUHS- MC- MAIN IV ROOM E1111\",\"SACRAMENTO REHABILITATION HOSPITAL\",\"SADDLEBACK MEM MED CTR PHCY IND HSP\",\"SAINT AGNES MEDICAL CENTER CVOR PHARMACY SATELLITE (2ND FLOOR)\",\"SAINT AGNES MEDICAL CENTER EMERGENCY ROOM SATELLITE PHARMACY\",\"SAINT AGNES MEDICAL CENTER PHARMACY 2 MAINIV COMPOUNDING PHARMACY\",\"SAINT AGNES MEDICAL CENTER PHARMACY 2 WEST SATELLITE PHARMACY\",\"SAINT AGNES MEDICAL CENTER PHARMACY 3 MAIN PHARMACY\",\"SAINT AGNES MEDICAL CENTER PHARMACY OR PHARMACY SATELLITE\",\"SAINT LOUISE REGIONAL HOSPITAL\",\"SALINAS VALLEY MEMORIAL HOSPITAL PHARMACY\",\"SAN ANTONIO REGIONAL HOSPITAL\",\"SAN DIMAS COMMUNITY HOSPITAL\",\"SAN DIMAS COMMUNITY HOSPITAL\",\"SAN GABRIEL VALLEY MEDICAL CENTER\",\"SAN GORGONIO MEMORIAL HOSPITAL PHARMACY - FIRST FLOOR CENTRAL PHA\",\"SAN JOAQUIN GENERAL HOSPITAL\",\"SAN JOAQUIN GENERAL HOSPITAL INPATIENT PHARMACY IV ROOM (A1477)\",\"SAN JOAQUIN VALLEY REHABILITATION HOSPITAL\",\"SAN LEANDRO HOSPITAL\",\"SAN MATEO MEDICAL CENTER\",\"SAN RAMON REGIONAL MEDICAL CENTER PHARMACY 1ST FLOOR\",\"SANTA BARBARA COTTAGE HOSPITAL\",\"SANTA CLARA VALLEY  MEDICAL CENTER - BUILDING A IV PHARMACY\",\"SANTA CLARA VALLEY MEDICAL CENTER - BUILDING A IV PHARMACY\",\"SANTA PAULA HOSPITAL\",\"SANTA YNEZ VALLEY COTTAGE HOSPITAL\",\"SCRIPPS CENTRAL PHARMACY PRODUCTION CENTER\",\"SCRIPPS ENCINITAS COMPOUNDING PHARMACY\",\"SCRIPPS GREEN HOSPITAL\",\"SCRIPPS MEMORIAL HOSPITAL ENCINITAS\",\"SCRIPPS MEMORIAL HOSPITAL LA JOLLA PREBYS MAIN PHARMACY\",\"SCRIPPS MEMORIAL HOSPITAL, LA JOLLA--PREBYS OR SATELLITE\",\"SCRIPPS MERCY HOSPITAL - CHULA VISTA\",\"SCRIPPS MERCY HOSPITAL - SAN DIEGO\",\"SCRIPPS MERCY SD COMPOUNDING PHARMACY\",\"SELECT SPECIALTY HOSPITAL - SAN DIEGO\",\"SEQUOIA HOSPITAL\",\"SEQUOIA REGIONAL CANCER CENTER PHARMACY\",\"SHARP CENTRALIZED HOSPITAL PHARMACY\",\"SHARP CHULA VISTA MEDICAL CENTER\",\"SHARP CORONADO HOSPITAL AND HEALTHCARE CENTER\",\"SHARP GROSSMONT HOSPITAL PHARMACY 2-WEST SATELLITE PHARMACY 2ND F\",\"SHARP MARY BIRCH HOSPITAL PHARMACY FIRST FLOOR MAIN PHARMACY\",\"SHARP MEMORIAL HOSPITAL PHARMACY MAIN PHARMACY\",\"SHASTA REGIONAL MEDICAL CENTER - PHARMACY\",\"SHERMAN OAKS HOSPITAL\",\"SHRINERS FOR CHILDREN AMBULATORY SURGICAL CENTER\",\"SHRINERS HOSPITAL PHARMACY\",\"SIERRA NEVADA MEMORIAL HOSPITAL\",\"SIERRA VIEW MEDICAL CENTER-CANCER TREATMENT CENTER  (Previous Name)\",\"SIERRA VIEW DISTRICT HOSPITAL\",\"SIERRA VIEW MEDICAL CENTER-CANCER TREATMENT CENTER SUITE B\",\"SIERRA VISTA HOSPITAL INC\",\"SOLEO HEALTH INC\",\"SONOMA SPECIALTY PHARMACY\",\"SONOMA VALLEY HOSPITAL PHARMACY\",\"SOUTH COAST GLOBAL MEDICAL CENTER INC\",\"SOUTHERN CALIFORNIA HOSPITAL AT CULVER CITY\",\"SOUTHERN CALIFORNIA HOSPITAL AT HOLLYWOOD PHARMACY\",\"SOUTHWEST HEALTHCARE RANCHO SPRINGS HOSPITAL\",\"ST BERNARDINE MEDICAL CENTER\",\"ST ELIZABETH COMMUNITY HOSPITAL PHARMACY CLEAN ROOM\",\"ST HELENA HOSPITAL CLEAR LAKE HOSPITAL PHARMACY\",\"ST JOHN'S HOSPITAL CAMARILLO\",\"ST JOSEPH HEALTH OUTPATIENT CANCER CENTER PHARMACY FOUNTAINGROVE\",\"ST JOSEPHS MEDICAL CENTER OF STOCKTON\",\"ST JUDE HOSPITAL INFUSION CENTER PHARMACY  (Previous Name)\",\"ST JOSEPHS MEDICAL CENTER STOCKTON\",\"ST JUDE MEDICAL CENTER INFUSION CENTER PHARMACY\",\"ST MARY MEDICAL CENTER BASEMENT PHARMACY\",\"ST MARY MEDICAL CENTER DBA PROVIDENCE ST MARY MEDICAL CENTER\",\"ST ROSE HOSPITAL PHARMACY\",\"ST. JOHN'S REGIONAL MEDICAL CENTER\",\"ST. JUDE MEDICAL CENTER PHARMACY\",\"ST. JUDE MEDICAL CENTER PHARMACY\",\"ST. JUDE MEDICAL CENTER PHARMACY\",\"ST. JUDE MEDICAL CENTER PHARMACY\",\"ST. MARYS MEDICAL CENTER LEVEL C\",\"STANFORD EMERYVILLE HEALTH CENTER PHARMACY\",\"STANFORD HEALTH CARE\",\"STANFORD HEALTH CARE\",\"STANFORD HEALTH CARE\",\"STANFORD HEALTH CARE - REDWOOD CITY\",\"STANFORD HEALTH CARE - REDWOOD CITY (PAV D)\",\"STANFORD HEALTH CARE - VALLEYCARE\",\"STANFORD HEALTH CARE 500P PHARMACY\",\"STANFORD HEALTH CARE- SAMARITAN PHARMACY\",\"STANFORD HEALTH SOUTH BAY CANCER CENTER PHARMACY\",\"STANFORD NEUROSCIENCE HEALTH CENTER PHARMACY\",\"STOCKTON REGIONAL REHABILITATION HOSPITAL\",\"SUTTER AMADOR HOSPITAL INPATIENT PHARMACY\",\"SUTTER AUBURN FAITH HOSPITAL PHARMACY\",\"SUTTER BAY HOSPITALS DBA PACIFIC HEIGHTS OUTPATIENT PHARMACY\",\"SUTTER BAY HOSPITALS DBA SUTTER MATERNITY & SURGERY CENTER OF SAN\",\"SUTTER COAST HOSPITAL INFUSION PHARMACY\",\"SUTTER DAVIS HOSPITAL INPATIENT PHARMACY\",\"SUTTER DELTA MEDICAL CENTER HOSPITAL PHARMACY\",\"SUTTER LAKESIDE PHARMACY\",\"SUTTER MEDICAL CENTER SACRAMENTO\",\"SUTTER MEDICAL CENTER SACRAMENTO INFUSION PHARMACY\",\"SUTTER ROSEVILLE MEDICAL CENTER FIRST FLOOR PHARMACY\",\"SUTTER ROSEVILLE MEDICAL CENTER INFUSION PHARMACY\",\"SUTTER SANTA ROSA REGIONAL HOSPITAL PHARMACY\",\"SUTTER SOLANO MEDICAL CENTER INFUSION PHARMACY\",\"SUTTER SOLANO MEDICAL CENTER INPATIENT PHARMACY - 1ST FLOOR - ROO\",\"SUTTER SURGICAL HOSPITAL - NORTH VALLEY\",\"SUTTER TRACY COMMUNITY HOSPITAL INPATIENT PHARMACY\",\"SVMHS-OUTPATIENT SERVICE-INFUSION CENTER\",\"TAHOE FOREST HOSPITAL PHARMACY\",\"TEMECULA VALLEY HOSPITAL\",\"THE CENTER FOR CANCER PREVENTION AND TREATMENT INFUSION CENTER PH\",\"THE JOHN M & SALLY B THORNTON HOSPITAL\",\"TODD CANCER PAVILION PHARMACY\",\"TORRANCE MEMORIAL MEDICAL CENTER 2ND FLOOR PHARMACY SATELLITE ROO\",\"TORRANCE MEMORIAL MEDICAL CENTER INPATIENT PHARMACY BASEMENT CLEA\",\"TRI-CITY HOSPITAL\",\"TWIN CITIES COMMUNITY HOSPITAL PHARMACY\",\"TWIN TOWERS CORRECTIONAL FACILITY\",\"U.C. DAVIS MEDICAL CENTER ROOM 0711D\",\"UC DAVIS HEALTH AT HOME\",\"UC DAVIS MEDICAL CENTER\",\"UC DAVIS MEDICAL CENTER INFUSION PHARMACY\",\"UC DAVIS MEDICAL CENTER PLACER CENTER FOR HEALTH PHARMACY\",\"UC IRVINE HEALTH CANCER CENTER - NEWPORT\",\"UC SAN DIEGO HEALTH EAST CAMPUS\",\"UCI HEALTH - FOUNTAIN VALLEY HOSPITAL PHARMACY\",\"UCI HEALTH - LAGUNA HILLS PHARMACY\",\"UCI HEALTH - LAKEWOOD HOSPITAL PHARMACY\",\"UCI HEALTH - LIVING CARE CENTER PHARMACY\",\"UCI HEALTH - LOS ALAMITOS HOSPITAL PHARMACY\",\"UCI HEALTH - PLACENTIA-LINDA HOSPITAL PHARMACY\",\"UCI HEALTH - SUSAN SAMUELI INTEGRATIVE HEALTH INSTITUTE PHARMACY\",\"UCI HEALTH IRVINE INFUSION PHARMACY ACC\",\"UCLA MED CTR CHS OUTPATIENT PHARMACY\",\"UCLA WEST VALLEY MEDICAL CENTER\",\"UCSD HEALTH LA JOLLA JACOBS MED CTR & SULPIZIO CARDIOVASCULAR CTR\",\"UCSD MEDICAL CENTER PHARMACY FIRST FLOOR, CENTRAL PHARMACY AREA,\",\"UCSD MEDICAL CENTER PHARMACY SECOND FLOOR\",\"UCSD MOORES CANCER CENTER\",\"UCSD OUTPATIENT PAVILION PHARMACY\",\"UCSD-ALTMAN CLINICAL TRANSLATIONAL RESEARCH INSTITUTE - RESEARCH\",\"UCSF HEALTH - SAINT FRANCIS HOSPITAL\",\"UCSF MEDICAL CENTER\",\"UCSF MEDICAL CENTER (MISSION BAY)\",\"UCSF MEDICAL CENTER AT MOUNT ZION\",\"UCSF MEDICAL CENTER BENIOFF\",\"UCSF MEDICAL CENTER BENIOFF 2ND FLR RM C2700 OR SATELLITE\",\"UCSF MEDICAL CENTER BENIOFF 4TH FLR RM C4411 MAIN PHARMACY\",\"UCSF MEDICAL CENTER BENIOFF 6TH FLR RM M6362 PEDIATRIC INFUSION\",\"UCSF MEDICAL CENTER BENIOFF6TH FLR RM C6984 INVESTIGATIONAL\",\"UCSF MEDICAL CENTER L487 (OR SATELLITE) ON 4TH FLOOR\",\"UCSF MEDICAL CENTER OUTPATIENT INFUSION PHARMACY\",\"UCSF MEDICAL CENTER ROOM A427\",\"UCSF MEDICAL CENTER WEIL BUILDING  (Previous Name)\",\"UCSF MEDICAL CENTER ROOM M1324\",\"UCSF MEDICAL CENTER WEILL BUILDING\",\"UCSF OUTPATIENT PHARMACY AT MISSION BAY\",\"UCSF PHARMACY CANCER CENTER BERKELEY\",\"UNIVERSITY OF CALIFORNIA IRVINE MEDICAL CENTER BLDG 23, 2ND FLOOR\",\"USC ARCADIA HOSPITAL\",\"USC KENNETH NORRIS JR CANCER HOSPITAL\",\"USC NORRIS CANCER HOSPITAL - PASADENA TREATMENT CENTER\",\"USC NORRIS CANCER HOSPITAL - SANTA CLARITA TREATMENT CENTER\",\"USC VERDUGO HILLS HOSPITAL\",\"VALLEY CHILDREN'S HOSPITAL\",\"VALLEY CHILDREN'S HOSPITAL\",\"VALLEY CHILDREN'S HOSPITAL\",\"VALLEY CHILDREN'S HOSPITAL\",\"VALLEY CHILDRENS HOSPITAL - PCUN 2ND FLOOR ICU-NORTH\",\"VALLEY PRESBYTERIAN HOSPITAL PHARMACY-PHARMACY HOSPITAL BASEMENT\",\"VALLEYCARE MEDICAL CENTER PHARMACY\",\"VALLEYCARE MEDICAL CENTER PHARMACY\",\"VENTURA COUNTY MEDICAL CENTER\",\"VENTURA COUNTY MEDICAL CENTER INFUSION CENTER PHARMACY\",\"VIBRA HOSPITAL OF NORTHERN CALIFORNIA\",\"VIBRA HOSPITAL OF SACRAMENTO PHARMACY IV ROOM\",\"VIBRA HOSPITAL OF SAN BERNARDINO LLC\",\"VICTOR VALLEY GLOBAL MEDICAL CENTER\",\"WASHINGTON HOSPITAL PHARMACY\",\"WATSONVILLE COMMUNITY HOSPITAL PHARMACY\",\"WEST ANAHEIM MEDICAL CENTER\",\"WHITE MEMORIAL MEDICAL CENTER DBA ADVENTIST HEALTH WHITE MEMORIAL\",\"WHITTIER HOSPITAL MEDICAL CENTER\",\"WOODLAND MEMORIAL HOSPITAL STERILE COMPOUNDING SUITE\"],\"lat\":[35.384336,39.223939,39.223939,35.384336,35.779507,34.160359,36.29223,39.492842,38.114388,39.487185,34.258405,34.258405,37.984549,37.984549,35.621087,38.542448,38.542448,35.118772,36.178091,39.135023,34.015444,33.844983,37.681264,37.773793,34.090728,34.090728,37.866536,37.865183,37.834403,34.713292,34.02452,35.384336,35.384336,35.468183,40.551757,34.080017,34.980294,38.869825,34.232796,34.141586,34.0712,37.769436,34.039378,34.057597,39.771649,null,37.344482,39.898613,37.916555,40.601778,34.195685,33.867257,34.02452,36.834289,33.881158,38.605407,32.774046,34.083086,34.072924,34.072924,34.064958,34.072924,34.072924,34.072924,34.072924,34.072924,34.064958,33.956526,37.639029,33.976582,34.127194,33.80845,32.806794,32.806794,37.834403,33.788145,33.788145,33.788145,33.788145,34.127194,33.788145,34.127194,34.127194,34.127194,34.127194,34.127194,37.804531,34.004468,34.141586,33.840451,34.141586,34.141586,34.141586,34.141586,34.141586,33.666942,33.67901,33.840398,34.105282,36.825296,36.825296,36.825296,36.197785,33.906956,33.647763,33.805401,36.825296,33.979248,34.122501,36.57469,34.283668,37.993892,37.993892,35.23575,33.840451,37.750021,37.795388,37.795388,36.825296,37.952452,33.860925,33.860925,33.641767,34.501472,34.480247,40.527834,null,37.830267,33.882579,37.671978,37.031475,37.031475,33.805401,34.022502,37.714509,33.768584,33.768584,34.185894,37.216953,37.380566,37.216953,37.380566,37.380566,37.216953,32.770197,32.770197,32.770197,34.156529,34.084747,34.066964,34.066964,34.066964,34.066964,37.528476,37.528476,34.149588,35.342891,39.745628,39.745628,41.756147,33.734005,35.23575,36.732891,36.732891,36.732891,36.862209,36.822349,33.763905,34.052922,34.136194,39.491654,34.449185,37.256765,35.621087,34.046243,32.777999,33.864617,36.902045,38.622985,33.667301,34.439855,34.168333,37.80432,37.80432,33.666942,33.666942,33.623208,null,33.723228,34.13946,34.13946,33.617844,33.710984,37.899936,37.995285,37.899936,37.899936,38.022366,38.022366,36.862209,37.952844,37.952844,37.501368,37.501368,37.889098,37.87195,37.87195,38.474099,37.230327,37.785969,37.785969,38.503685,38.503685,37.65549,38.18735,38.18735,37.743039,33.921793,33.921793,37.718023,37.965765,38.408571,38.408571,38.503685,36.976175,36.976175,36.976175,38.030177,33.799904,34.09741,34.09741,34.030578,33.799904,34.127194,33.936193,33.921793,37.82935,33.117154,38.666597,33.83796,33.666942,37.493297,33.889702,38.591897,37.230327,34.035602,38.604268,32.806794,37.718023,37.713275,37.713275,32.794714,34.085972,34.085972,34.177311,33.936193,34.222506,37.785969,38.741074,38.741074,37.715245,37.82935,33.117154,33.936193,37.965765,38.741074,38.030177,37.718023,33.765401,33.887821,34.085972,37.230327,38.645723,34.127194,37.501368,37.493297,38.408571,34.127194,33.799904,34.085972,34.035602,37.863914,32.794714,34.222506,34.222506,34.713292,34.439855,34.030578,33.83796,33.666942,33.788145,38.022366,34.177311,37.34864,37.889098,33.580016,33.889702,34.09741,38.474099,35.384336,34.283668,37.713275,38.580568,34.049809,32.794714,36.391777,36.391777,36.391777,34.136258,34.05038,34.05038,34.05038,34.05038,34.05038,33.623208,37.945512,37.769436,35.468183,35.617546,34.09741,33.927561,33.902045,33.988047,34.074087,33.898883,34.10097,33.828396,32.741501,37.713275,34.061624,33.765301,33.890853,null,33.850616,33.850616,33.833181,33.833181,33.833181,33.833181,34.051177,34.051177,34.051177,34.051177,34.051177,34.083458,34.051177,34.051177,34.051177,34.051177,34.051177,34.051177,33.580016,33.948255,34.011953,34.595669,34.595669,33.805401,33.906956,34.022502,34.713656,34.05038,34.05038,34.05038,34.05038,34.05038,34.212805,37.457524,37.374707,37.374707,37.374707,37.374707,33.833181,40.855694,37.548799,null,34.923013,35.176043,37.945512,37.945512,38.189115,38.734925,33.926262,33.926262,41.006417,33.975332,37.068068,33.890853,37.672906,33.746707,38.569828,35.384336,38.666597,37.345785,41.314337,40.601778,38.62415,35.192404,38.474099,37.554269,37.576948,37.57028,33.611945,34.222506,34.1528,34.072329,34.052922,34.051177,34.259971,36.722714,33.201242,38.280745,38.333133,37.492115,34.237519,34.237519,38.134068,37.315977,37.787236,34.530199,34.326584,33.710582,33.765639,39.47536,34.230854,34.604105,33.736458,33.0824,33.102005,32.670646,32.670646,37.750021,39.82883,38.235014,33.940445,34.052913,34.052913,34.052913,33.972782,33.972782,32.990121,32.990121,34.083086,34.083086,33.923533,34.155097,34.265879,34.265879,33.74212,33.840398,33.611945,33.611945,33.57093,34.026608,38.442011,40.578828,34.026608,34.026608,34.026608,34.173885,40.798659,33.788145,33.788145,32.806794,33.921793,34.011953,37.350421,33.768584,35.606509,33.765401,33.99504,34.0712,34.0712,33.889702,33.889702,38.635653,33.591304,36.862209,36.862209,36.862209,36.862209,36.862209,36.862209,37.018419,36.636344,34.105282,34.110186,34.110186,34.090776,33.948948,37.873793,37.873793,36.862209,37.706137,37.538449,37.75512,34.533222,null,37.315977,34.402343,34.624395,32.899592,33.056022,32.856347,33.056022,32.856347,32.856347,32.637868,32.747415,32.747415,32.747415,37.413691,36.301334,32.806794,32.608185,32.699234,32.777999,32.806794,32.806794,40.601778,34.147149,34.13946,38.550547,39.196387,35.988087,35.860883,35.988087,35.296958,37.605905,38.398815,38.249428,33.721131,34.019323,34.099912,33.547613,34.177083,40.18189,38.973012,34.227892,38.503685,37.973736,33.901886,37.973736,33.901886,33.782259,34.571218,37.605905,34.205247,33.901886,33.901886,33.901886,33.901886,37.769436,37.836844,37.374707,37.493297,37.418256,37.493297,37.493297,37.792682,37.418256,37.256765,37.256765,37.374707,37.959736,38.343033,38.99003,37.785969,37.031475,41.819578,38.554133,37.996501,39.045931,38.571577,38.571577,38.741074,38.741074,38.503685,38.18735,38.18735,38.994187,37.737191,36.636344,39.313089,33.511228,33.788145,32.856347,33.805401,33.807882,33.807882,33.201242,35.538809,34.065975,38.550547,38.534879,38.550547,38.550547,38.815548,33.647763,32.794714,33.710582,33.591304,33.849034,33.710582,33.795012,33.881158,33.642512,33.65844,34.0712,34.200834,32.856347,32.747415,32.747415,null,32.856347,32.856347,37.795388,null,37.768106,null,37.768106,37.768106,37.768106,37.768106,37.768106,null,37.768106,null,37.768106,null,37.768106,37.768106,37.865777,33.788145,34.128284,34.05038,34.13946,34.439855,34.185666,36.984885,36.751519,36.984885,36.984885,36.984885,34.199824,37.792682,37.792682,34.283668,34.283668,40.601778,38.666597,34.122501,34.501472,37.501368,36.946256,33.818246,34.05038,33.950295,38.687045],\"legendgroup\":\"Hospital or Med Center\",\"lon\":[-119.020562,-121.49405,-121.49405,-119.020562,-119.200825,-118.213769,-119.622676,-123.340973,-121.144658,-123.741963,-118.775026,-118.775026,-120.349264,-120.349264,-118.789677,-122.419923,-122.419923,-118.493811,-119.370752,-123.259338,-118.111012,-117.952151,-122.480589,-122.278115,-118.127527,-118.127527,-122.257996,-122.238209,-122.264368,-118.15292,-117.289255,-119.020562,-119.020562,-118.779649,-120.675673,-118.262643,-116.964449,-120.008594,-116.902863,-117.957627,-118.443523,-122.447662,-118.2663,-118.413998,-104.882471,null,-121.883535,-86.233341,-122.341233,-122.454973,-118.490752,-118.330794,-117.289255,-119.83335,-117.854783,-121.447593,-117.142454,-117.737997,-118.37271,-118.37271,-118.382979,-118.37271,-118.37271,-118.37271,-118.37271,-118.37271,-118.382979,-118.358654,-120.964772,-118.455222,-118.295647,-117.791737,-117.13493,-117.13493,-122.264368,-117.87655,-117.87655,-117.87655,-117.87655,-118.295647,-117.87655,-118.295647,-118.295647,-118.295647,-118.295647,-118.295647,-122.410852,-117.684697,-117.957627,-117.601961,-117.957627,-117.957627,-117.957627,-117.957627,-117.957627,-117.732094,-118.014603,-118.353715,-117.662035,-119.68019,-119.68019,-119.68019,-120.422249,-118.08264,-117.919761,-118.187701,-119.68019,-118.217438,-117.320138,-121.840854,-119.223196,-122.136441,-122.136441,-120.615973,-117.601961,-122.415201,-122.422453,-122.422453,-119.68019,-121.329655,-116.566176,-116.566176,-116.273943,-117.292048,-117.408184,-122.318749,null,-121.20102,-117.442303,-121.007405,-121.98334,-121.98334,-118.187701,-118.199613,-122.079542,-116.429988,-116.429988,-116.432416,-121.926555,-122.085293,-121.926555,-122.085293,-122.085293,-121.926555,-115.59859,-115.59859,-115.59859,-117.841605,-117.886844,-117.937007,-117.937007,-117.937007,-117.937007,-120.853313,-120.853313,-118.489708,-119.064803,-121.843834,-121.843834,-122.659466,-117.819163,-120.615973,-119.783739,-119.783739,-119.783739,-119.760793,-119.760243,-117.931382,-118.143465,-118.260934,-122.26208,-119.804782,-121.922762,-118.789677,-118.053748,-117.021511,-118.180567,-121.350783,-122.889121,-116.963506,-118.644401,-116.288431,-122.207545,-122.207545,-117.732094,-117.732094,-117.933903,null,-118.008692,-118.166649,-118.166649,-117.259304,-116.204844,-121.999244,-122.040627,-121.999244,-121.999244,-122.555605,-122.555605,-119.760793,-122.381974,-122.381974,-121.956753,-121.956753,-122.037553,-122.069383,-122.069383,-121.443454,-121.785227,-122.437253,-122.437253,-122.754057,-122.754057,-122.422075,-122.224074,-122.224074,-121.23838,-118.140588,-118.140588,-121.032714,-121.775818,-122.022775,-122.022775,-122.754057,-121.95316,-121.95316,-121.95316,-121.297912,-118.298661,-117.968269,-117.968269,-118.399613,-118.298661,-118.295647,-117.493881,-118.140588,-122.203507,-117.180627,-121.141635,-117.870494,-117.732094,-122.195535,-117.113427,-121.408467,-121.785227,-117.591528,-121.280327,-117.13493,-121.032714,-122.16735,-122.16735,-117.071764,-117.464597,-117.464597,-118.615704,-117.493881,-118.444689,-122.437253,-121.247693,-121.247693,-121.9147,-122.203507,-117.180627,-117.493881,-121.775818,-121.247693,-121.297912,-121.032714,-116.334205,-118.12725,-117.464597,-121.785227,-121.445254,-118.295647,-121.956753,-122.195535,-122.022775,-118.295647,-118.298661,-117.464597,-117.591528,-122.306465,-117.071764,-118.444689,-118.444689,-118.15292,-118.644401,-118.399613,-117.870494,-117.732094,-117.87655,-122.555605,-118.615704,-121.984373,-122.037553,-117.14736,-117.113427,-117.968269,-121.443454,-119.020562,-119.223196,-122.16735,-121.49559,-117.470613,-117.071764,-119.372842,-119.372842,-119.372842,-118.026704,-118.211991,-118.211991,-118.211991,-118.211991,-118.211991,-117.933903,-122.56012,-122.447662,-118.779649,-118.452285,-117.968269,-117.887086,-118.008961,-118.370361,-117.605618,-118.166629,-117.57882,-117.20766,-117.127948,-122.16735,-117.892235,-117.881976,-118.297967,null,-118.039565,-118.039565,-118.292062,-118.292062,-118.292062,-118.292062,-117.248563,-117.248563,-117.248563,-117.248563,-117.248563,-117.270016,-117.248563,-117.248563,-117.248563,-117.248563,-117.248563,-117.248563,-117.14736,-116.987839,-117.159699,-120.352667,-120.352667,-118.187701,-118.08264,-118.199613,-117.86466,-118.211991,-118.211991,-118.211991,-118.211991,-118.211991,-118.882179,-122.176542,-122.181698,-122.181698,-122.181698,-122.181698,-118.292062,-124.066898,-118.839818,null,-120.259463,-120.476694,-122.56012,-122.56012,-120.638708,-120.789952,-118.249883,-118.249883,-121.480741,-118.355252,-120.843579,-118.297967,-120.946594,-117.172142,-121.440067,-119.020562,-121.141635,-120.42415,-122.380798,-122.454973,-121.324911,-119.175866,-121.443454,-120.951523,-122.316903,-122.365778,-117.665867,-118.444689,-118.000482,-117.698315,-118.143465,-117.248563,-117.199381,-121.633649,-117.296984,-122.00638,-121.920151,-118.390408,-118.517712,-118.517712,-122.52719,-121.936319,-120.759202,-119.310133,-118.382261,-117.951129,-117.790075,-121.41411,-118.365856,-118.239213,-114.687973,-117.127641,-117.080419,-117.094668,-117.094668,-122.415201,-75.435069,-122.557332,-118.129022,-118.26434,-118.26434,-118.26434,-118.022066,-118.022066,-115.358757,-115.358757,-117.737997,-117.737997,-118.200705,-118.547553,-118.456748,-118.456748,-118.312878,-118.353715,-117.665867,-117.665867,-117.773042,-118.473643,-122.23832,-124.136869,-118.473643,-118.473643,-118.473643,-118.346937,-124.151583,-117.87655,-117.87655,-117.13493,-118.140588,-117.159699,-121.852585,-116.429988,-117.683472,-116.334205,-117.373184,-118.443523,-118.443523,-117.113427,-117.113427,-121.518416,-117.697512,-119.760793,-119.760793,-119.760793,-119.760793,-119.760793,-119.760793,-121.554249,-121.623978,-117.662035,-117.81039,-117.81039,-118.095091,-116.832362,-121.290146,-121.290146,-119.760793,-122.12555,-122.305447,-121.972699,-119.791731,null,-121.936319,-119.094824,-120.137875,-117.201203,-117.2599,-117.250058,-117.2599,-117.250058,-117.250058,-117.058031,-117.166883,-117.166883,-117.166883,-122.295343,-119.372586,-117.13493,-117.054512,-117.209642,-117.021511,-117.13493,-117.13493,-122.454973,-118.463365,-118.166649,-121.456373,-120.972289,-118.860221,-119.03614,-118.860221,-120.733134,-122.126873,-122.861923,-122.466627,-117.90511,-118.391902,-118.326912,-117.34404,-117.254763,-122.377104,-122.623922,-119.079552,-122.754057,-121.319246,-117.916639,-121.319246,-117.916639,-118.196793,-117.133073,-122.126873,-119.174092,-117.916639,-117.916639,-117.916639,-117.916639,-122.447662,-122.289143,-122.181698,-122.195535,-122.170871,-122.195535,-122.195535,-121.86059,-122.170871,-121.922762,-121.922762,-122.181698,-121.288287,-120.760921,-121.114408,-122.437253,-121.98334,-124.065667,-121.798467,-121.812301,-122.941077,-121.466465,-121.466465,-121.247693,-121.247693,-122.754057,-122.224074,-122.224074,-121.594591,-121.433384,-121.623978,-120.207783,-117.042396,-117.87655,-117.250058,-118.187701,-118.347957,-118.347957,-117.296984,-120.739893,-118.238642,-121.456373,-121.444372,-121.456373,-121.456373,-121.280172,-117.919761,-117.071764,-117.951129,-117.697512,-118.147902,-117.951129,-118.062692,-117.854783,-117.841688,-117.826009,-118.443523,-118.6649,-117.250058,-117.166883,-117.166883,null,-117.250058,-117.250058,-122.422453,null,-122.386927,null,-122.386927,-122.386927,-122.386927,-122.386927,-122.386927,null,-122.386927,null,-122.386927,null,-122.386927,-122.386927,-122.286321,-117.87655,-118.047732,-118.211991,-118.166649,-118.644401,-118.239494,-119.873914,-119.680602,-119.873914,-119.873914,-119.873914,-118.447609,-121.86059,-121.86059,-119.223196,-119.223196,-122.454973,-121.141635,-117.320138,-117.292048,-121.956753,-121.756479,-117.974985,-118.211991,-118.024352,-121.857077],\"marker\":{\"color\":\"#00cc96\"},\"mode\":\"markers\",\"name\":\"Hospital or Med Center\",\"showlegend\":true,\"subplot\":\"mapbox\",\"type\":\"scattermapbox\"},{\"hovertemplate\":\"\\u003cb\\u003e%{hovertext}\\u003c\\u002fb\\u003e\\u003cbr\\u003e\\u003cbr\\u003eEntity Type=Veterinary Compounding Only\\u003cbr\\u003eLAT=%{lat}\\u003cbr\\u003eLNG=%{lon}\\u003cextra\\u003e\\u003c\\u002fextra\\u003e\",\"hovertext\":[\"PETNET PHARMACEUTICAL\",\"PETNET PHARMACEUTICAL\",\"PETNET PHARMACEUTICAL\",\"PETNET PHARMACEUTICAL\",\"PROLAB PHARMACY\",\"SPECIALTY VETERINARY PHARMACY\",\"WEDGEWOOD PHARMACY LLC\",\"WEDGEWOOD PHARMACY LLC\",\"WEDGEWOOD PHARMACY LLC\",\"WEDGEWOOD PHARMACY LLC\"],\"lat\":[37.605905,33.997862,38.571577,34.051177,33.65554,29.624261,38.14029,35.192404,null,33.493513],\"legendgroup\":\"Veterinary Compounding Only\",\"lon\":[-122.126873,-118.393617,-121.466465,-117.248563,-95.60504,-95.568033,-84.46161,-119.175866,null,-111.919239],\"marker\":{\"color\":\"#ab63fa\"},\"mode\":\"markers\",\"name\":\"Veterinary Compounding Only\",\"showlegend\":true,\"subplot\":\"mapbox\",\"type\":\"scattermapbox\"},{\"hovertemplate\":\"\\u003cb\\u003e%{hovertext}\\u003c\\u002fb\\u003e\\u003cbr\\u003e\\u003cbr\\u003eEntity Type=Government Facility\\u003cbr\\u003eLAT=%{lat}\\u003cbr\\u003eLNG=%{lon}\\u003cextra\\u003e\\u003c\\u002fextra\\u003e\",\"hovertext\":[\"UCSD RESEARCH PHARMACY\"],\"lat\":[32.747415],\"legendgroup\":\"Government Facility\",\"lon\":[-117.166883],\"marker\":{\"color\":\"#FFA15A\"},\"mode\":\"markers\",\"name\":\"Government Facility\",\"showlegend\":true,\"subplot\":\"mapbox\",\"type\":\"scattermapbox\"}],                        {\"template\":{\"data\":{\"histogram2dcontour\":[{\"type\":\"histogram2dcontour\",\"colorbar\":{\"outlinewidth\":0,\"ticks\":\"\"},\"colorscale\":[[0.0,\"#0d0887\"],[0.1111111111111111,\"#46039f\"],[0.2222222222222222,\"#7201a8\"],[0.3333333333333333,\"#9c179e\"],[0.4444444444444444,\"#bd3786\"],[0.5555555555555556,\"#d8576b\"],[0.6666666666666666,\"#ed7953\"],[0.7777777777777778,\"#fb9f3a\"],[0.8888888888888888,\"#fdca26\"],[1.0,\"#f0f921\"]]}],\"choropleth\":[{\"type\":\"choropleth\",\"colorbar\":{\"outlinewidth\":0,\"ticks\":\"\"}}],\"histogram2d\":[{\"type\":\"histogram2d\",\"colorbar\":{\"outlinewidth\":0,\"ticks\":\"\"},\"colorscale\":[[0.0,\"#0d0887\"],[0.1111111111111111,\"#46039f\"],[0.2222222222222222,\"#7201a8\"],[0.3333333333333333,\"#9c179e\"],[0.4444444444444444,\"#bd3786\"],[0.5555555555555556,\"#d8576b\"],[0.6666666666666666,\"#ed7953\"],[0.7777777777777778,\"#fb9f3a\"],[0.8888888888888888,\"#fdca26\"],[1.0,\"#f0f921\"]]}],\"heatmap\":[{\"type\":\"heatmap\",\"colorbar\":{\"outlinewidth\":0,\"ticks\":\"\"},\"colorscale\":[[0.0,\"#0d0887\"],[0.1111111111111111,\"#46039f\"],[0.2222222222222222,\"#7201a8\"],[0.3333333333333333,\"#9c179e\"],[0.4444444444444444,\"#bd3786\"],[0.5555555555555556,\"#d8576b\"],[0.6666666666666666,\"#ed7953\"],[0.7777777777777778,\"#fb9f3a\"],[0.8888888888888888,\"#fdca26\"],[1.0,\"#f0f921\"]]}],\"heatmapgl\":[{\"type\":\"heatmapgl\",\"colorbar\":{\"outlinewidth\":0,\"ticks\":\"\"},\"colorscale\":[[0.0,\"#0d0887\"],[0.1111111111111111,\"#46039f\"],[0.2222222222222222,\"#7201a8\"],[0.3333333333333333,\"#9c179e\"],[0.4444444444444444,\"#bd3786\"],[0.5555555555555556,\"#d8576b\"],[0.6666666666666666,\"#ed7953\"],[0.7777777777777778,\"#fb9f3a\"],[0.8888888888888888,\"#fdca26\"],[1.0,\"#f0f921\"]]}],\"contourcarpet\":[{\"type\":\"contourcarpet\",\"colorbar\":{\"outlinewidth\":0,\"ticks\":\"\"}}],\"contour\":[{\"type\":\"contour\",\"colorbar\":{\"outlinewidth\":0,\"ticks\":\"\"},\"colorscale\":[[0.0,\"#0d0887\"],[0.1111111111111111,\"#46039f\"],[0.2222222222222222,\"#7201a8\"],[0.3333333333333333,\"#9c179e\"],[0.4444444444444444,\"#bd3786\"],[0.5555555555555556,\"#d8576b\"],[0.6666666666666666,\"#ed7953\"],[0.7777777777777778,\"#fb9f3a\"],[0.8888888888888888,\"#fdca26\"],[1.0,\"#f0f921\"]]}],\"surface\":[{\"type\":\"surface\",\"colorbar\":{\"outlinewidth\":0,\"ticks\":\"\"},\"colorscale\":[[0.0,\"#0d0887\"],[0.1111111111111111,\"#46039f\"],[0.2222222222222222,\"#7201a8\"],[0.3333333333333333,\"#9c179e\"],[0.4444444444444444,\"#bd3786\"],[0.5555555555555556,\"#d8576b\"],[0.6666666666666666,\"#ed7953\"],[0.7777777777777778,\"#fb9f3a\"],[0.8888888888888888,\"#fdca26\"],[1.0,\"#f0f921\"]]}],\"mesh3d\":[{\"type\":\"mesh3d\",\"colorbar\":{\"outlinewidth\":0,\"ticks\":\"\"}}],\"scatter\":[{\"fillpattern\":{\"fillmode\":\"overlay\",\"size\":10,\"solidity\":0.2},\"type\":\"scatter\"}],\"parcoords\":[{\"type\":\"parcoords\",\"line\":{\"colorbar\":{\"outlinewidth\":0,\"ticks\":\"\"}}}],\"scatterpolargl\":[{\"type\":\"scatterpolargl\",\"marker\":{\"colorbar\":{\"outlinewidth\":0,\"ticks\":\"\"}}}],\"bar\":[{\"error_x\":{\"color\":\"#2a3f5f\"},\"error_y\":{\"color\":\"#2a3f5f\"},\"marker\":{\"line\":{\"color\":\"#E5ECF6\",\"width\":0.5},\"pattern\":{\"fillmode\":\"overlay\",\"size\":10,\"solidity\":0.2}},\"type\":\"bar\"}],\"scattergeo\":[{\"type\":\"scattergeo\",\"marker\":{\"colorbar\":{\"outlinewidth\":0,\"ticks\":\"\"}}}],\"scatterpolar\":[{\"type\":\"scatterpolar\",\"marker\":{\"colorbar\":{\"outlinewidth\":0,\"ticks\":\"\"}}}],\"histogram\":[{\"marker\":{\"pattern\":{\"fillmode\":\"overlay\",\"size\":10,\"solidity\":0.2}},\"type\":\"histogram\"}],\"scattergl\":[{\"type\":\"scattergl\",\"marker\":{\"colorbar\":{\"outlinewidth\":0,\"ticks\":\"\"}}}],\"scatter3d\":[{\"type\":\"scatter3d\",\"line\":{\"colorbar\":{\"outlinewidth\":0,\"ticks\":\"\"}},\"marker\":{\"colorbar\":{\"outlinewidth\":0,\"ticks\":\"\"}}}],\"scattermapbox\":[{\"type\":\"scattermapbox\",\"marker\":{\"colorbar\":{\"outlinewidth\":0,\"ticks\":\"\"}}}],\"scatterternary\":[{\"type\":\"scatterternary\",\"marker\":{\"colorbar\":{\"outlinewidth\":0,\"ticks\":\"\"}}}],\"scattercarpet\":[{\"type\":\"scattercarpet\",\"marker\":{\"colorbar\":{\"outlinewidth\":0,\"ticks\":\"\"}}}],\"carpet\":[{\"aaxis\":{\"endlinecolor\":\"#2a3f5f\",\"gridcolor\":\"white\",\"linecolor\":\"white\",\"minorgridcolor\":\"white\",\"startlinecolor\":\"#2a3f5f\"},\"baxis\":{\"endlinecolor\":\"#2a3f5f\",\"gridcolor\":\"white\",\"linecolor\":\"white\",\"minorgridcolor\":\"white\",\"startlinecolor\":\"#2a3f5f\"},\"type\":\"carpet\"}],\"table\":[{\"cells\":{\"fill\":{\"color\":\"#EBF0F8\"},\"line\":{\"color\":\"white\"}},\"header\":{\"fill\":{\"color\":\"#C8D4E3\"},\"line\":{\"color\":\"white\"}},\"type\":\"table\"}],\"barpolar\":[{\"marker\":{\"line\":{\"color\":\"#E5ECF6\",\"width\":0.5},\"pattern\":{\"fillmode\":\"overlay\",\"size\":10,\"solidity\":0.2}},\"type\":\"barpolar\"}],\"pie\":[{\"automargin\":true,\"type\":\"pie\"}]},\"layout\":{\"autotypenumbers\":\"strict\",\"colorway\":[\"#636efa\",\"#EF553B\",\"#00cc96\",\"#ab63fa\",\"#FFA15A\",\"#19d3f3\",\"#FF6692\",\"#B6E880\",\"#FF97FF\",\"#FECB52\"],\"font\":{\"color\":\"#2a3f5f\"},\"hovermode\":\"closest\",\"hoverlabel\":{\"align\":\"left\"},\"paper_bgcolor\":\"white\",\"plot_bgcolor\":\"#E5ECF6\",\"polar\":{\"bgcolor\":\"#E5ECF6\",\"angularaxis\":{\"gridcolor\":\"white\",\"linecolor\":\"white\",\"ticks\":\"\"},\"radialaxis\":{\"gridcolor\":\"white\",\"linecolor\":\"white\",\"ticks\":\"\"}},\"ternary\":{\"bgcolor\":\"#E5ECF6\",\"aaxis\":{\"gridcolor\":\"white\",\"linecolor\":\"white\",\"ticks\":\"\"},\"baxis\":{\"gridcolor\":\"white\",\"linecolor\":\"white\",\"ticks\":\"\"},\"caxis\":{\"gridcolor\":\"white\",\"linecolor\":\"white\",\"ticks\":\"\"}},\"coloraxis\":{\"colorbar\":{\"outlinewidth\":0,\"ticks\":\"\"}},\"colorscale\":{\"sequential\":[[0.0,\"#0d0887\"],[0.1111111111111111,\"#46039f\"],[0.2222222222222222,\"#7201a8\"],[0.3333333333333333,\"#9c179e\"],[0.4444444444444444,\"#bd3786\"],[0.5555555555555556,\"#d8576b\"],[0.6666666666666666,\"#ed7953\"],[0.7777777777777778,\"#fb9f3a\"],[0.8888888888888888,\"#fdca26\"],[1.0,\"#f0f921\"]],\"sequentialminus\":[[0.0,\"#0d0887\"],[0.1111111111111111,\"#46039f\"],[0.2222222222222222,\"#7201a8\"],[0.3333333333333333,\"#9c179e\"],[0.4444444444444444,\"#bd3786\"],[0.5555555555555556,\"#d8576b\"],[0.6666666666666666,\"#ed7953\"],[0.7777777777777778,\"#fb9f3a\"],[0.8888888888888888,\"#fdca26\"],[1.0,\"#f0f921\"]],\"diverging\":[[0,\"#8e0152\"],[0.1,\"#c51b7d\"],[0.2,\"#de77ae\"],[0.3,\"#f1b6da\"],[0.4,\"#fde0ef\"],[0.5,\"#f7f7f7\"],[0.6,\"#e6f5d0\"],[0.7,\"#b8e186\"],[0.8,\"#7fbc41\"],[0.9,\"#4d9221\"],[1,\"#276419\"]]},\"xaxis\":{\"gridcolor\":\"white\",\"linecolor\":\"white\",\"ticks\":\"\",\"title\":{\"standoff\":15},\"zerolinecolor\":\"white\",\"automargin\":true,\"zerolinewidth\":2},\"yaxis\":{\"gridcolor\":\"white\",\"linecolor\":\"white\",\"ticks\":\"\",\"title\":{\"standoff\":15},\"zerolinecolor\":\"white\",\"automargin\":true,\"zerolinewidth\":2},\"scene\":{\"xaxis\":{\"backgroundcolor\":\"#E5ECF6\",\"gridcolor\":\"white\",\"linecolor\":\"white\",\"showbackground\":true,\"ticks\":\"\",\"zerolinecolor\":\"white\",\"gridwidth\":2},\"yaxis\":{\"backgroundcolor\":\"#E5ECF6\",\"gridcolor\":\"white\",\"linecolor\":\"white\",\"showbackground\":true,\"ticks\":\"\",\"zerolinecolor\":\"white\",\"gridwidth\":2},\"zaxis\":{\"backgroundcolor\":\"#E5ECF6\",\"gridcolor\":\"white\",\"linecolor\":\"white\",\"showbackground\":true,\"ticks\":\"\",\"zerolinecolor\":\"white\",\"gridwidth\":2}},\"shapedefaults\":{\"line\":{\"color\":\"#2a3f5f\"}},\"annotationdefaults\":{\"arrowcolor\":\"#2a3f5f\",\"arrowhead\":0,\"arrowwidth\":1},\"geo\":{\"bgcolor\":\"white\",\"landcolor\":\"#E5ECF6\",\"subunitcolor\":\"white\",\"showland\":true,\"showlakes\":true,\"lakecolor\":\"white\"},\"title\":{\"x\":0.05},\"mapbox\":{\"style\":\"light\"}}},\"mapbox\":{\"domain\":{\"x\":[0.0,1.0],\"y\":[0.0,1.0]},\"center\":{\"lat\":37.0902,\"lon\":-95.7129},\"zoom\":3,\"style\":\"open-street-map\"},\"legend\":{\"title\":{\"text\":\"Entity Type\"},\"tracegroupgap\":0},\"title\":{\"text\":\"Pharmacies in the US\"},\"margin\":{\"r\":0,\"t\":0,\"l\":0,\"b\":0},\"autosize\":true,\"height\":800},                        {\"responsive\": true}                    ).then(function(){\n",
       "                            \n",
       "var gd = document.getElementById('0b349cc8-89c8-4f47-aedf-de1ee1f111c5');\n",
       "var x = new MutationObserver(function (mutations, observer) {{\n",
       "        var display = window.getComputedStyle(gd).display;\n",
       "        if (!display || display === 'none') {{\n",
       "            console.log([gd, 'removed!']);\n",
       "            Plotly.purge(gd);\n",
       "            observer.disconnect();\n",
       "        }}\n",
       "}});\n",
       "\n",
       "// Listen for the removal of the full notebook cells\n",
       "var notebookContainer = gd.closest('#notebook-container');\n",
       "if (notebookContainer) {{\n",
       "    x.observe(notebookContainer, {childList: true});\n",
       "}}\n",
       "\n",
       "// Listen for the clearing of the current output cell\n",
       "var outputEl = gd.closest('.output');\n",
       "if (outputEl) {{\n",
       "    x.observe(outputEl, {childList: true});\n",
       "}}\n",
       "\n",
       "                        })                };                });            </script>        </div>"
      ]
     },
     "metadata": {},
     "output_type": "display_data"
    }
   ],
   "execution_count": 130
  },
  {
   "metadata": {},
   "cell_type": "markdown",
   "source": [
    "# Exploring the Available Pharmacies\n",
    "\n",
    "An available pharmacy is any licensed Sterile Compounding Pharmacy that:\n",
    "\n",
    "- Is not a government facility\n",
    "- Is not a Hospital or Medical Center\n",
    "- Is not an Infusion Center or Infusion Service\n",
    "- Is not dedicated only to Veterinary Compounding\n"
   ],
   "id": "20f8f6065d840902"
  },
  {
   "metadata": {
    "ExecuteTime": {
     "end_time": "2024-12-15T18:53:47.177656Z",
     "start_time": "2024-12-15T18:53:47.162257Z"
    }
   },
   "cell_type": "code",
   "source": "available_pharmacies.info()",
   "id": "654216e20e1f5752",
   "outputs": [
    {
     "name": "stdout",
     "output_type": "stream",
     "text": [
      "<class 'pandas.core.frame.DataFrame'>\n",
      "RangeIndex: 104 entries, 0 to 103\n",
      "Data columns (total 70 columns):\n",
      " #   Column                                  Non-Null Count  Dtype \n",
      "---  ------                                  --------------  ----- \n",
      " 0   Pharmacy Name                           104 non-null    object\n",
      " 1   License Number                          104 non-null    object\n",
      " 2   License Type                            104 non-null    object\n",
      " 3   License Status                          104 non-null    object\n",
      " 4   Expiration Date                         104 non-null    object\n",
      " 5   City                                    104 non-null    object\n",
      " 6   State                                   104 non-null    object\n",
      " 7   County                                  104 non-null    object\n",
      " 8   Zip                                     104 non-null    int64 \n",
      " 9   isGovernment                            104 non-null    bool  \n",
      " 10  isSatellite                             104 non-null    bool  \n",
      " 11  isInfusionCenter                        104 non-null    bool  \n",
      " 12  isHospital                              104 non-null    bool  \n",
      " 13  isVeterinaryOnly                        104 non-null    bool  \n",
      " 14  Entity Type                             104 non-null    object\n",
      " 15  isHRT                                   104 non-null    bool  \n",
      " 16  isSexualHealth                          104 non-null    bool  \n",
      " 17  isDermatology                           104 non-null    bool  \n",
      " 18  isPainManagement                        104 non-null    bool  \n",
      " 19  isGastroenterology                      104 non-null    bool  \n",
      " 20  isNutrition,Anti-Aging,GeneralWellness  104 non-null    bool  \n",
      " 21  isOncology                              104 non-null    bool  \n",
      " 22  isBlood&BleedingDisorders               104 non-null    bool  \n",
      " 23  isHospice&LongTermCare                  104 non-null    bool  \n",
      " 24  isCardiology                            104 non-null    bool  \n",
      " 25  isInfectiousDisease                     104 non-null    bool  \n",
      " 26  isLowMolecular                          104 non-null    bool  \n",
      " 27  isNeurology                             104 non-null    bool  \n",
      " 28  isOpthalmic                             104 non-null    bool  \n",
      " 29  isOsteo                                 104 non-null    bool  \n",
      " 30  isRheumatology                          104 non-null    bool  \n",
      " 31  isUrology                               104 non-null    bool  \n",
      " 32  isPulmonary                             104 non-null    bool  \n",
      " 33  isReproductive                          104 non-null    bool  \n",
      " 34  isVeterinary                            104 non-null    bool  \n",
      " 35  isAutoimmuneDisease                     104 non-null    bool  \n",
      " 36  isTPN                                   104 non-null    bool  \n",
      " 37  isPediatric                             104 non-null    bool  \n",
      " 38  isGeneticDisorders                      104 non-null    bool  \n",
      " 39  isWeightLoss                            104 non-null    bool  \n",
      " 40  isHairCare                              104 non-null    bool  \n",
      " 41  isDental                                104 non-null    bool  \n",
      " 42  isEar,Nose,Throat                       104 non-null    bool  \n",
      " 43  isPodiatry                              104 non-null    bool  \n",
      " 44  isNuclearRadiopharmacy                  104 non-null    bool  \n",
      " 45  servicesMultipleSclerosis               104 non-null    bool  \n",
      " 46  servicesHIVAIDS                         104 non-null    bool  \n",
      " 47  servicesCrohns                          104 non-null    bool  \n",
      " 48  servicesCysticFibrosis                  104 non-null    bool  \n",
      " 49  servicesEndometriosis                   104 non-null    bool  \n",
      " 50  servicesAutism                          104 non-null    bool  \n",
      " 51  servicesHepatitis                       104 non-null    bool  \n",
      " 52  servicesAddiction                       104 non-null    bool  \n",
      " 53  servicesChronicFatigueSyndrome          104 non-null    bool  \n",
      " 54  servicesErectileDysfunction             104 non-null    bool  \n",
      " 55  servicesFibromyalgia                    104 non-null    bool  \n",
      " 56  servicesFissures                        104 non-null    bool  \n",
      " 57  servicesHirsutism                       104 non-null    bool  \n",
      " 58  servicesInfertility                     104 non-null    bool  \n",
      " 59  servicesLymeDisease                     104 non-null    bool  \n",
      " 60  servicesMethylationDysfunction          104 non-null    bool  \n",
      " 61  servicesOralMucositis                   104 non-null    bool  \n",
      " 62  servicesPANDAS                          104 non-null    bool  \n",
      " 63  servicesRosacea                         104 non-null    bool  \n",
      " 64  servicesShingles                        104 non-null    bool  \n",
      " 65  servicesSkinLightening                  104 non-null    bool  \n",
      " 66  servicesVaginosis                       104 non-null    bool  \n",
      " 67  servicesWarts                           104 non-null    bool  \n",
      " 68  servicesWoundCare                       104 non-null    bool  \n",
      " 69  servicesOrganTransplants                104 non-null    bool  \n",
      "dtypes: bool(60), int64(1), object(9)\n",
      "memory usage: 14.3+ KB\n"
     ]
    }
   ],
   "execution_count": 131
  },
  {
   "metadata": {
    "ExecuteTime": {
     "end_time": "2024-12-15T18:53:47.309990Z",
     "start_time": "2024-12-15T18:53:47.305382Z"
    }
   },
   "cell_type": "code",
   "source": "",
   "id": "dff9f4047df69da2",
   "outputs": [],
   "execution_count": 131
  },
  {
   "metadata": {},
   "cell_type": "markdown",
   "source": "### When will the available pharmacies licenses expire? ",
   "id": "4eff82e980cdfd6"
  },
  {
   "metadata": {
    "ExecuteTime": {
     "end_time": "2024-12-15T18:53:47.911792Z",
     "start_time": "2024-12-15T18:53:47.712422Z"
    }
   },
   "cell_type": "code",
   "source": [
    "# Step 1: Convert 'Expiration Date' to datetime (if not already done)\n",
    "available_pharmacies['Expiration Date'] = pd.to_datetime(available_pharmacies['Expiration Date'], errors='coerce')\n",
    "\n",
    "# Step 2: Group the data by month and year, and convert to string\n",
    "expiration_monthly_counts = available_pharmacies.groupby(available_pharmacies['Expiration Date'].dt.to_period('M')).size().reset_index(name='Count')\n",
    "\n",
    "# Convert Period to string for Plotly compatibility\n",
    "expiration_monthly_counts['Expiration Date'] = expiration_monthly_counts['Expiration Date'].astype(str)\n",
    "\n",
    "# Step 3: Plot the time series as a line chart with markers\n",
    "fig = px.line(\n",
    "    expiration_monthly_counts,\n",
    "    x='Expiration Date',\n",
    "    y='Count',\n",
    "    title=\"Pharmacies Expiring Over Time\",\n",
    "    labels={'Expiration Date': 'Expiration Date', 'Count': 'Number of Pharmacies'},\n",
    "    markers=True\n",
    ")\n",
    "\n",
    "# Add text labels for each marker to display the count\n",
    "fig.update_traces(\n",
    "    text=expiration_monthly_counts['Count'],   # Add the count as text\n",
    "    textposition='top center',  # Position the text above each marker\n",
    ")\n",
    "\n",
    "# Show the plot\n",
    "fig.show()"
   ],
   "id": "16c988d8ff7ffecd",
   "outputs": [
    {
     "data": {
      "application/vnd.plotly.v1+json": {
       "data": [
        {
         "hovertemplate": "Expiration Date=%{x}<br>Number of Pharmacies=%{y}<extra></extra>",
         "legendgroup": "",
         "line": {
          "color": "#636efa",
          "dash": "solid"
         },
         "marker": {
          "symbol": "circle"
         },
         "mode": "lines+markers",
         "name": "",
         "orientation": "v",
         "showlegend": false,
         "x": [
          "2024-11",
          "2024-12",
          "2025-01",
          "2025-02",
          "2025-03",
          "2025-04",
          "2025-05",
          "2025-06",
          "2025-07",
          "2025-08",
          "2025-09",
          "2025-10",
          "2025-11",
          "2025-12"
         ],
         "xaxis": "x",
         "y": [
          1,
          11,
          4,
          8,
          6,
          6,
          4,
          14,
          8,
          9,
          9,
          2,
          12,
          10
         ],
         "yaxis": "y",
         "type": "scatter",
         "text": [
          1.0,
          11.0,
          4.0,
          8.0,
          6.0,
          6.0,
          4.0,
          14.0,
          8.0,
          9.0,
          9.0,
          2.0,
          12.0,
          10.0
         ],
         "textposition": "top center"
        }
       ],
       "layout": {
        "template": {
         "data": {
          "histogram2dcontour": [
           {
            "type": "histogram2dcontour",
            "colorbar": {
             "outlinewidth": 0,
             "ticks": ""
            },
            "colorscale": [
             [
              0.0,
              "#0d0887"
             ],
             [
              0.1111111111111111,
              "#46039f"
             ],
             [
              0.2222222222222222,
              "#7201a8"
             ],
             [
              0.3333333333333333,
              "#9c179e"
             ],
             [
              0.4444444444444444,
              "#bd3786"
             ],
             [
              0.5555555555555556,
              "#d8576b"
             ],
             [
              0.6666666666666666,
              "#ed7953"
             ],
             [
              0.7777777777777778,
              "#fb9f3a"
             ],
             [
              0.8888888888888888,
              "#fdca26"
             ],
             [
              1.0,
              "#f0f921"
             ]
            ]
           }
          ],
          "choropleth": [
           {
            "type": "choropleth",
            "colorbar": {
             "outlinewidth": 0,
             "ticks": ""
            }
           }
          ],
          "histogram2d": [
           {
            "type": "histogram2d",
            "colorbar": {
             "outlinewidth": 0,
             "ticks": ""
            },
            "colorscale": [
             [
              0.0,
              "#0d0887"
             ],
             [
              0.1111111111111111,
              "#46039f"
             ],
             [
              0.2222222222222222,
              "#7201a8"
             ],
             [
              0.3333333333333333,
              "#9c179e"
             ],
             [
              0.4444444444444444,
              "#bd3786"
             ],
             [
              0.5555555555555556,
              "#d8576b"
             ],
             [
              0.6666666666666666,
              "#ed7953"
             ],
             [
              0.7777777777777778,
              "#fb9f3a"
             ],
             [
              0.8888888888888888,
              "#fdca26"
             ],
             [
              1.0,
              "#f0f921"
             ]
            ]
           }
          ],
          "heatmap": [
           {
            "type": "heatmap",
            "colorbar": {
             "outlinewidth": 0,
             "ticks": ""
            },
            "colorscale": [
             [
              0.0,
              "#0d0887"
             ],
             [
              0.1111111111111111,
              "#46039f"
             ],
             [
              0.2222222222222222,
              "#7201a8"
             ],
             [
              0.3333333333333333,
              "#9c179e"
             ],
             [
              0.4444444444444444,
              "#bd3786"
             ],
             [
              0.5555555555555556,
              "#d8576b"
             ],
             [
              0.6666666666666666,
              "#ed7953"
             ],
             [
              0.7777777777777778,
              "#fb9f3a"
             ],
             [
              0.8888888888888888,
              "#fdca26"
             ],
             [
              1.0,
              "#f0f921"
             ]
            ]
           }
          ],
          "heatmapgl": [
           {
            "type": "heatmapgl",
            "colorbar": {
             "outlinewidth": 0,
             "ticks": ""
            },
            "colorscale": [
             [
              0.0,
              "#0d0887"
             ],
             [
              0.1111111111111111,
              "#46039f"
             ],
             [
              0.2222222222222222,
              "#7201a8"
             ],
             [
              0.3333333333333333,
              "#9c179e"
             ],
             [
              0.4444444444444444,
              "#bd3786"
             ],
             [
              0.5555555555555556,
              "#d8576b"
             ],
             [
              0.6666666666666666,
              "#ed7953"
             ],
             [
              0.7777777777777778,
              "#fb9f3a"
             ],
             [
              0.8888888888888888,
              "#fdca26"
             ],
             [
              1.0,
              "#f0f921"
             ]
            ]
           }
          ],
          "contourcarpet": [
           {
            "type": "contourcarpet",
            "colorbar": {
             "outlinewidth": 0,
             "ticks": ""
            }
           }
          ],
          "contour": [
           {
            "type": "contour",
            "colorbar": {
             "outlinewidth": 0,
             "ticks": ""
            },
            "colorscale": [
             [
              0.0,
              "#0d0887"
             ],
             [
              0.1111111111111111,
              "#46039f"
             ],
             [
              0.2222222222222222,
              "#7201a8"
             ],
             [
              0.3333333333333333,
              "#9c179e"
             ],
             [
              0.4444444444444444,
              "#bd3786"
             ],
             [
              0.5555555555555556,
              "#d8576b"
             ],
             [
              0.6666666666666666,
              "#ed7953"
             ],
             [
              0.7777777777777778,
              "#fb9f3a"
             ],
             [
              0.8888888888888888,
              "#fdca26"
             ],
             [
              1.0,
              "#f0f921"
             ]
            ]
           }
          ],
          "surface": [
           {
            "type": "surface",
            "colorbar": {
             "outlinewidth": 0,
             "ticks": ""
            },
            "colorscale": [
             [
              0.0,
              "#0d0887"
             ],
             [
              0.1111111111111111,
              "#46039f"
             ],
             [
              0.2222222222222222,
              "#7201a8"
             ],
             [
              0.3333333333333333,
              "#9c179e"
             ],
             [
              0.4444444444444444,
              "#bd3786"
             ],
             [
              0.5555555555555556,
              "#d8576b"
             ],
             [
              0.6666666666666666,
              "#ed7953"
             ],
             [
              0.7777777777777778,
              "#fb9f3a"
             ],
             [
              0.8888888888888888,
              "#fdca26"
             ],
             [
              1.0,
              "#f0f921"
             ]
            ]
           }
          ],
          "mesh3d": [
           {
            "type": "mesh3d",
            "colorbar": {
             "outlinewidth": 0,
             "ticks": ""
            }
           }
          ],
          "scatter": [
           {
            "fillpattern": {
             "fillmode": "overlay",
             "size": 10,
             "solidity": 0.2
            },
            "type": "scatter"
           }
          ],
          "parcoords": [
           {
            "type": "parcoords",
            "line": {
             "colorbar": {
              "outlinewidth": 0,
              "ticks": ""
             }
            }
           }
          ],
          "scatterpolargl": [
           {
            "type": "scatterpolargl",
            "marker": {
             "colorbar": {
              "outlinewidth": 0,
              "ticks": ""
             }
            }
           }
          ],
          "bar": [
           {
            "error_x": {
             "color": "#2a3f5f"
            },
            "error_y": {
             "color": "#2a3f5f"
            },
            "marker": {
             "line": {
              "color": "#E5ECF6",
              "width": 0.5
             },
             "pattern": {
              "fillmode": "overlay",
              "size": 10,
              "solidity": 0.2
             }
            },
            "type": "bar"
           }
          ],
          "scattergeo": [
           {
            "type": "scattergeo",
            "marker": {
             "colorbar": {
              "outlinewidth": 0,
              "ticks": ""
             }
            }
           }
          ],
          "scatterpolar": [
           {
            "type": "scatterpolar",
            "marker": {
             "colorbar": {
              "outlinewidth": 0,
              "ticks": ""
             }
            }
           }
          ],
          "histogram": [
           {
            "marker": {
             "pattern": {
              "fillmode": "overlay",
              "size": 10,
              "solidity": 0.2
             }
            },
            "type": "histogram"
           }
          ],
          "scattergl": [
           {
            "type": "scattergl",
            "marker": {
             "colorbar": {
              "outlinewidth": 0,
              "ticks": ""
             }
            }
           }
          ],
          "scatter3d": [
           {
            "type": "scatter3d",
            "line": {
             "colorbar": {
              "outlinewidth": 0,
              "ticks": ""
             }
            },
            "marker": {
             "colorbar": {
              "outlinewidth": 0,
              "ticks": ""
             }
            }
           }
          ],
          "scattermapbox": [
           {
            "type": "scattermapbox",
            "marker": {
             "colorbar": {
              "outlinewidth": 0,
              "ticks": ""
             }
            }
           }
          ],
          "scatterternary": [
           {
            "type": "scatterternary",
            "marker": {
             "colorbar": {
              "outlinewidth": 0,
              "ticks": ""
             }
            }
           }
          ],
          "scattercarpet": [
           {
            "type": "scattercarpet",
            "marker": {
             "colorbar": {
              "outlinewidth": 0,
              "ticks": ""
             }
            }
           }
          ],
          "carpet": [
           {
            "aaxis": {
             "endlinecolor": "#2a3f5f",
             "gridcolor": "white",
             "linecolor": "white",
             "minorgridcolor": "white",
             "startlinecolor": "#2a3f5f"
            },
            "baxis": {
             "endlinecolor": "#2a3f5f",
             "gridcolor": "white",
             "linecolor": "white",
             "minorgridcolor": "white",
             "startlinecolor": "#2a3f5f"
            },
            "type": "carpet"
           }
          ],
          "table": [
           {
            "cells": {
             "fill": {
              "color": "#EBF0F8"
             },
             "line": {
              "color": "white"
             }
            },
            "header": {
             "fill": {
              "color": "#C8D4E3"
             },
             "line": {
              "color": "white"
             }
            },
            "type": "table"
           }
          ],
          "barpolar": [
           {
            "marker": {
             "line": {
              "color": "#E5ECF6",
              "width": 0.5
             },
             "pattern": {
              "fillmode": "overlay",
              "size": 10,
              "solidity": 0.2
             }
            },
            "type": "barpolar"
           }
          ],
          "pie": [
           {
            "automargin": true,
            "type": "pie"
           }
          ]
         },
         "layout": {
          "autotypenumbers": "strict",
          "colorway": [
           "#636efa",
           "#EF553B",
           "#00cc96",
           "#ab63fa",
           "#FFA15A",
           "#19d3f3",
           "#FF6692",
           "#B6E880",
           "#FF97FF",
           "#FECB52"
          ],
          "font": {
           "color": "#2a3f5f"
          },
          "hovermode": "closest",
          "hoverlabel": {
           "align": "left"
          },
          "paper_bgcolor": "white",
          "plot_bgcolor": "#E5ECF6",
          "polar": {
           "bgcolor": "#E5ECF6",
           "angularaxis": {
            "gridcolor": "white",
            "linecolor": "white",
            "ticks": ""
           },
           "radialaxis": {
            "gridcolor": "white",
            "linecolor": "white",
            "ticks": ""
           }
          },
          "ternary": {
           "bgcolor": "#E5ECF6",
           "aaxis": {
            "gridcolor": "white",
            "linecolor": "white",
            "ticks": ""
           },
           "baxis": {
            "gridcolor": "white",
            "linecolor": "white",
            "ticks": ""
           },
           "caxis": {
            "gridcolor": "white",
            "linecolor": "white",
            "ticks": ""
           }
          },
          "coloraxis": {
           "colorbar": {
            "outlinewidth": 0,
            "ticks": ""
           }
          },
          "colorscale": {
           "sequential": [
            [
             0.0,
             "#0d0887"
            ],
            [
             0.1111111111111111,
             "#46039f"
            ],
            [
             0.2222222222222222,
             "#7201a8"
            ],
            [
             0.3333333333333333,
             "#9c179e"
            ],
            [
             0.4444444444444444,
             "#bd3786"
            ],
            [
             0.5555555555555556,
             "#d8576b"
            ],
            [
             0.6666666666666666,
             "#ed7953"
            ],
            [
             0.7777777777777778,
             "#fb9f3a"
            ],
            [
             0.8888888888888888,
             "#fdca26"
            ],
            [
             1.0,
             "#f0f921"
            ]
           ],
           "sequentialminus": [
            [
             0.0,
             "#0d0887"
            ],
            [
             0.1111111111111111,
             "#46039f"
            ],
            [
             0.2222222222222222,
             "#7201a8"
            ],
            [
             0.3333333333333333,
             "#9c179e"
            ],
            [
             0.4444444444444444,
             "#bd3786"
            ],
            [
             0.5555555555555556,
             "#d8576b"
            ],
            [
             0.6666666666666666,
             "#ed7953"
            ],
            [
             0.7777777777777778,
             "#fb9f3a"
            ],
            [
             0.8888888888888888,
             "#fdca26"
            ],
            [
             1.0,
             "#f0f921"
            ]
           ],
           "diverging": [
            [
             0,
             "#8e0152"
            ],
            [
             0.1,
             "#c51b7d"
            ],
            [
             0.2,
             "#de77ae"
            ],
            [
             0.3,
             "#f1b6da"
            ],
            [
             0.4,
             "#fde0ef"
            ],
            [
             0.5,
             "#f7f7f7"
            ],
            [
             0.6,
             "#e6f5d0"
            ],
            [
             0.7,
             "#b8e186"
            ],
            [
             0.8,
             "#7fbc41"
            ],
            [
             0.9,
             "#4d9221"
            ],
            [
             1,
             "#276419"
            ]
           ]
          },
          "xaxis": {
           "gridcolor": "white",
           "linecolor": "white",
           "ticks": "",
           "title": {
            "standoff": 15
           },
           "zerolinecolor": "white",
           "automargin": true,
           "zerolinewidth": 2
          },
          "yaxis": {
           "gridcolor": "white",
           "linecolor": "white",
           "ticks": "",
           "title": {
            "standoff": 15
           },
           "zerolinecolor": "white",
           "automargin": true,
           "zerolinewidth": 2
          },
          "scene": {
           "xaxis": {
            "backgroundcolor": "#E5ECF6",
            "gridcolor": "white",
            "linecolor": "white",
            "showbackground": true,
            "ticks": "",
            "zerolinecolor": "white",
            "gridwidth": 2
           },
           "yaxis": {
            "backgroundcolor": "#E5ECF6",
            "gridcolor": "white",
            "linecolor": "white",
            "showbackground": true,
            "ticks": "",
            "zerolinecolor": "white",
            "gridwidth": 2
           },
           "zaxis": {
            "backgroundcolor": "#E5ECF6",
            "gridcolor": "white",
            "linecolor": "white",
            "showbackground": true,
            "ticks": "",
            "zerolinecolor": "white",
            "gridwidth": 2
           }
          },
          "shapedefaults": {
           "line": {
            "color": "#2a3f5f"
           }
          },
          "annotationdefaults": {
           "arrowcolor": "#2a3f5f",
           "arrowhead": 0,
           "arrowwidth": 1
          },
          "geo": {
           "bgcolor": "white",
           "landcolor": "#E5ECF6",
           "subunitcolor": "white",
           "showland": true,
           "showlakes": true,
           "lakecolor": "white"
          },
          "title": {
           "x": 0.05
          },
          "mapbox": {
           "style": "light"
          }
         }
        },
        "xaxis": {
         "anchor": "y",
         "domain": [
          0.0,
          1.0
         ],
         "title": {
          "text": "Expiration Date"
         }
        },
        "yaxis": {
         "anchor": "x",
         "domain": [
          0.0,
          1.0
         ],
         "title": {
          "text": "Number of Pharmacies"
         }
        },
        "legend": {
         "tracegroupgap": 0
        },
        "title": {
         "text": "Pharmacies Expiring Over Time"
        }
       },
       "config": {
        "plotlyServerURL": "https://plot.ly"
       }
      },
      "text/html": [
       "<div>                            <div id=\"25f4548c-fb98-4e47-981e-974126c3a700\" class=\"plotly-graph-div\" style=\"height:525px; width:100%;\"></div>            <script type=\"text/javascript\">                require([\"plotly\"], function(Plotly) {                    window.PLOTLYENV=window.PLOTLYENV || {};                                    if (document.getElementById(\"25f4548c-fb98-4e47-981e-974126c3a700\")) {                    Plotly.newPlot(                        \"25f4548c-fb98-4e47-981e-974126c3a700\",                        [{\"hovertemplate\":\"Expiration Date=%{x}\\u003cbr\\u003eNumber of Pharmacies=%{y}\\u003cextra\\u003e\\u003c\\u002fextra\\u003e\",\"legendgroup\":\"\",\"line\":{\"color\":\"#636efa\",\"dash\":\"solid\"},\"marker\":{\"symbol\":\"circle\"},\"mode\":\"lines+markers\",\"name\":\"\",\"orientation\":\"v\",\"showlegend\":false,\"x\":[\"2024-11\",\"2024-12\",\"2025-01\",\"2025-02\",\"2025-03\",\"2025-04\",\"2025-05\",\"2025-06\",\"2025-07\",\"2025-08\",\"2025-09\",\"2025-10\",\"2025-11\",\"2025-12\"],\"xaxis\":\"x\",\"y\":[1,11,4,8,6,6,4,14,8,9,9,2,12,10],\"yaxis\":\"y\",\"type\":\"scatter\",\"text\":[1.0,11.0,4.0,8.0,6.0,6.0,4.0,14.0,8.0,9.0,9.0,2.0,12.0,10.0],\"textposition\":\"top center\"}],                        {\"template\":{\"data\":{\"histogram2dcontour\":[{\"type\":\"histogram2dcontour\",\"colorbar\":{\"outlinewidth\":0,\"ticks\":\"\"},\"colorscale\":[[0.0,\"#0d0887\"],[0.1111111111111111,\"#46039f\"],[0.2222222222222222,\"#7201a8\"],[0.3333333333333333,\"#9c179e\"],[0.4444444444444444,\"#bd3786\"],[0.5555555555555556,\"#d8576b\"],[0.6666666666666666,\"#ed7953\"],[0.7777777777777778,\"#fb9f3a\"],[0.8888888888888888,\"#fdca26\"],[1.0,\"#f0f921\"]]}],\"choropleth\":[{\"type\":\"choropleth\",\"colorbar\":{\"outlinewidth\":0,\"ticks\":\"\"}}],\"histogram2d\":[{\"type\":\"histogram2d\",\"colorbar\":{\"outlinewidth\":0,\"ticks\":\"\"},\"colorscale\":[[0.0,\"#0d0887\"],[0.1111111111111111,\"#46039f\"],[0.2222222222222222,\"#7201a8\"],[0.3333333333333333,\"#9c179e\"],[0.4444444444444444,\"#bd3786\"],[0.5555555555555556,\"#d8576b\"],[0.6666666666666666,\"#ed7953\"],[0.7777777777777778,\"#fb9f3a\"],[0.8888888888888888,\"#fdca26\"],[1.0,\"#f0f921\"]]}],\"heatmap\":[{\"type\":\"heatmap\",\"colorbar\":{\"outlinewidth\":0,\"ticks\":\"\"},\"colorscale\":[[0.0,\"#0d0887\"],[0.1111111111111111,\"#46039f\"],[0.2222222222222222,\"#7201a8\"],[0.3333333333333333,\"#9c179e\"],[0.4444444444444444,\"#bd3786\"],[0.5555555555555556,\"#d8576b\"],[0.6666666666666666,\"#ed7953\"],[0.7777777777777778,\"#fb9f3a\"],[0.8888888888888888,\"#fdca26\"],[1.0,\"#f0f921\"]]}],\"heatmapgl\":[{\"type\":\"heatmapgl\",\"colorbar\":{\"outlinewidth\":0,\"ticks\":\"\"},\"colorscale\":[[0.0,\"#0d0887\"],[0.1111111111111111,\"#46039f\"],[0.2222222222222222,\"#7201a8\"],[0.3333333333333333,\"#9c179e\"],[0.4444444444444444,\"#bd3786\"],[0.5555555555555556,\"#d8576b\"],[0.6666666666666666,\"#ed7953\"],[0.7777777777777778,\"#fb9f3a\"],[0.8888888888888888,\"#fdca26\"],[1.0,\"#f0f921\"]]}],\"contourcarpet\":[{\"type\":\"contourcarpet\",\"colorbar\":{\"outlinewidth\":0,\"ticks\":\"\"}}],\"contour\":[{\"type\":\"contour\",\"colorbar\":{\"outlinewidth\":0,\"ticks\":\"\"},\"colorscale\":[[0.0,\"#0d0887\"],[0.1111111111111111,\"#46039f\"],[0.2222222222222222,\"#7201a8\"],[0.3333333333333333,\"#9c179e\"],[0.4444444444444444,\"#bd3786\"],[0.5555555555555556,\"#d8576b\"],[0.6666666666666666,\"#ed7953\"],[0.7777777777777778,\"#fb9f3a\"],[0.8888888888888888,\"#fdca26\"],[1.0,\"#f0f921\"]]}],\"surface\":[{\"type\":\"surface\",\"colorbar\":{\"outlinewidth\":0,\"ticks\":\"\"},\"colorscale\":[[0.0,\"#0d0887\"],[0.1111111111111111,\"#46039f\"],[0.2222222222222222,\"#7201a8\"],[0.3333333333333333,\"#9c179e\"],[0.4444444444444444,\"#bd3786\"],[0.5555555555555556,\"#d8576b\"],[0.6666666666666666,\"#ed7953\"],[0.7777777777777778,\"#fb9f3a\"],[0.8888888888888888,\"#fdca26\"],[1.0,\"#f0f921\"]]}],\"mesh3d\":[{\"type\":\"mesh3d\",\"colorbar\":{\"outlinewidth\":0,\"ticks\":\"\"}}],\"scatter\":[{\"fillpattern\":{\"fillmode\":\"overlay\",\"size\":10,\"solidity\":0.2},\"type\":\"scatter\"}],\"parcoords\":[{\"type\":\"parcoords\",\"line\":{\"colorbar\":{\"outlinewidth\":0,\"ticks\":\"\"}}}],\"scatterpolargl\":[{\"type\":\"scatterpolargl\",\"marker\":{\"colorbar\":{\"outlinewidth\":0,\"ticks\":\"\"}}}],\"bar\":[{\"error_x\":{\"color\":\"#2a3f5f\"},\"error_y\":{\"color\":\"#2a3f5f\"},\"marker\":{\"line\":{\"color\":\"#E5ECF6\",\"width\":0.5},\"pattern\":{\"fillmode\":\"overlay\",\"size\":10,\"solidity\":0.2}},\"type\":\"bar\"}],\"scattergeo\":[{\"type\":\"scattergeo\",\"marker\":{\"colorbar\":{\"outlinewidth\":0,\"ticks\":\"\"}}}],\"scatterpolar\":[{\"type\":\"scatterpolar\",\"marker\":{\"colorbar\":{\"outlinewidth\":0,\"ticks\":\"\"}}}],\"histogram\":[{\"marker\":{\"pattern\":{\"fillmode\":\"overlay\",\"size\":10,\"solidity\":0.2}},\"type\":\"histogram\"}],\"scattergl\":[{\"type\":\"scattergl\",\"marker\":{\"colorbar\":{\"outlinewidth\":0,\"ticks\":\"\"}}}],\"scatter3d\":[{\"type\":\"scatter3d\",\"line\":{\"colorbar\":{\"outlinewidth\":0,\"ticks\":\"\"}},\"marker\":{\"colorbar\":{\"outlinewidth\":0,\"ticks\":\"\"}}}],\"scattermapbox\":[{\"type\":\"scattermapbox\",\"marker\":{\"colorbar\":{\"outlinewidth\":0,\"ticks\":\"\"}}}],\"scatterternary\":[{\"type\":\"scatterternary\",\"marker\":{\"colorbar\":{\"outlinewidth\":0,\"ticks\":\"\"}}}],\"scattercarpet\":[{\"type\":\"scattercarpet\",\"marker\":{\"colorbar\":{\"outlinewidth\":0,\"ticks\":\"\"}}}],\"carpet\":[{\"aaxis\":{\"endlinecolor\":\"#2a3f5f\",\"gridcolor\":\"white\",\"linecolor\":\"white\",\"minorgridcolor\":\"white\",\"startlinecolor\":\"#2a3f5f\"},\"baxis\":{\"endlinecolor\":\"#2a3f5f\",\"gridcolor\":\"white\",\"linecolor\":\"white\",\"minorgridcolor\":\"white\",\"startlinecolor\":\"#2a3f5f\"},\"type\":\"carpet\"}],\"table\":[{\"cells\":{\"fill\":{\"color\":\"#EBF0F8\"},\"line\":{\"color\":\"white\"}},\"header\":{\"fill\":{\"color\":\"#C8D4E3\"},\"line\":{\"color\":\"white\"}},\"type\":\"table\"}],\"barpolar\":[{\"marker\":{\"line\":{\"color\":\"#E5ECF6\",\"width\":0.5},\"pattern\":{\"fillmode\":\"overlay\",\"size\":10,\"solidity\":0.2}},\"type\":\"barpolar\"}],\"pie\":[{\"automargin\":true,\"type\":\"pie\"}]},\"layout\":{\"autotypenumbers\":\"strict\",\"colorway\":[\"#636efa\",\"#EF553B\",\"#00cc96\",\"#ab63fa\",\"#FFA15A\",\"#19d3f3\",\"#FF6692\",\"#B6E880\",\"#FF97FF\",\"#FECB52\"],\"font\":{\"color\":\"#2a3f5f\"},\"hovermode\":\"closest\",\"hoverlabel\":{\"align\":\"left\"},\"paper_bgcolor\":\"white\",\"plot_bgcolor\":\"#E5ECF6\",\"polar\":{\"bgcolor\":\"#E5ECF6\",\"angularaxis\":{\"gridcolor\":\"white\",\"linecolor\":\"white\",\"ticks\":\"\"},\"radialaxis\":{\"gridcolor\":\"white\",\"linecolor\":\"white\",\"ticks\":\"\"}},\"ternary\":{\"bgcolor\":\"#E5ECF6\",\"aaxis\":{\"gridcolor\":\"white\",\"linecolor\":\"white\",\"ticks\":\"\"},\"baxis\":{\"gridcolor\":\"white\",\"linecolor\":\"white\",\"ticks\":\"\"},\"caxis\":{\"gridcolor\":\"white\",\"linecolor\":\"white\",\"ticks\":\"\"}},\"coloraxis\":{\"colorbar\":{\"outlinewidth\":0,\"ticks\":\"\"}},\"colorscale\":{\"sequential\":[[0.0,\"#0d0887\"],[0.1111111111111111,\"#46039f\"],[0.2222222222222222,\"#7201a8\"],[0.3333333333333333,\"#9c179e\"],[0.4444444444444444,\"#bd3786\"],[0.5555555555555556,\"#d8576b\"],[0.6666666666666666,\"#ed7953\"],[0.7777777777777778,\"#fb9f3a\"],[0.8888888888888888,\"#fdca26\"],[1.0,\"#f0f921\"]],\"sequentialminus\":[[0.0,\"#0d0887\"],[0.1111111111111111,\"#46039f\"],[0.2222222222222222,\"#7201a8\"],[0.3333333333333333,\"#9c179e\"],[0.4444444444444444,\"#bd3786\"],[0.5555555555555556,\"#d8576b\"],[0.6666666666666666,\"#ed7953\"],[0.7777777777777778,\"#fb9f3a\"],[0.8888888888888888,\"#fdca26\"],[1.0,\"#f0f921\"]],\"diverging\":[[0,\"#8e0152\"],[0.1,\"#c51b7d\"],[0.2,\"#de77ae\"],[0.3,\"#f1b6da\"],[0.4,\"#fde0ef\"],[0.5,\"#f7f7f7\"],[0.6,\"#e6f5d0\"],[0.7,\"#b8e186\"],[0.8,\"#7fbc41\"],[0.9,\"#4d9221\"],[1,\"#276419\"]]},\"xaxis\":{\"gridcolor\":\"white\",\"linecolor\":\"white\",\"ticks\":\"\",\"title\":{\"standoff\":15},\"zerolinecolor\":\"white\",\"automargin\":true,\"zerolinewidth\":2},\"yaxis\":{\"gridcolor\":\"white\",\"linecolor\":\"white\",\"ticks\":\"\",\"title\":{\"standoff\":15},\"zerolinecolor\":\"white\",\"automargin\":true,\"zerolinewidth\":2},\"scene\":{\"xaxis\":{\"backgroundcolor\":\"#E5ECF6\",\"gridcolor\":\"white\",\"linecolor\":\"white\",\"showbackground\":true,\"ticks\":\"\",\"zerolinecolor\":\"white\",\"gridwidth\":2},\"yaxis\":{\"backgroundcolor\":\"#E5ECF6\",\"gridcolor\":\"white\",\"linecolor\":\"white\",\"showbackground\":true,\"ticks\":\"\",\"zerolinecolor\":\"white\",\"gridwidth\":2},\"zaxis\":{\"backgroundcolor\":\"#E5ECF6\",\"gridcolor\":\"white\",\"linecolor\":\"white\",\"showbackground\":true,\"ticks\":\"\",\"zerolinecolor\":\"white\",\"gridwidth\":2}},\"shapedefaults\":{\"line\":{\"color\":\"#2a3f5f\"}},\"annotationdefaults\":{\"arrowcolor\":\"#2a3f5f\",\"arrowhead\":0,\"arrowwidth\":1},\"geo\":{\"bgcolor\":\"white\",\"landcolor\":\"#E5ECF6\",\"subunitcolor\":\"white\",\"showland\":true,\"showlakes\":true,\"lakecolor\":\"white\"},\"title\":{\"x\":0.05},\"mapbox\":{\"style\":\"light\"}}},\"xaxis\":{\"anchor\":\"y\",\"domain\":[0.0,1.0],\"title\":{\"text\":\"Expiration Date\"}},\"yaxis\":{\"anchor\":\"x\",\"domain\":[0.0,1.0],\"title\":{\"text\":\"Number of Pharmacies\"}},\"legend\":{\"tracegroupgap\":0},\"title\":{\"text\":\"Pharmacies Expiring Over Time\"}},                        {\"responsive\": true}                    ).then(function(){\n",
       "                            \n",
       "var gd = document.getElementById('25f4548c-fb98-4e47-981e-974126c3a700');\n",
       "var x = new MutationObserver(function (mutations, observer) {{\n",
       "        var display = window.getComputedStyle(gd).display;\n",
       "        if (!display || display === 'none') {{\n",
       "            console.log([gd, 'removed!']);\n",
       "            Plotly.purge(gd);\n",
       "            observer.disconnect();\n",
       "        }}\n",
       "}});\n",
       "\n",
       "// Listen for the removal of the full notebook cells\n",
       "var notebookContainer = gd.closest('#notebook-container');\n",
       "if (notebookContainer) {{\n",
       "    x.observe(notebookContainer, {childList: true});\n",
       "}}\n",
       "\n",
       "// Listen for the clearing of the current output cell\n",
       "var outputEl = gd.closest('.output');\n",
       "if (outputEl) {{\n",
       "    x.observe(outputEl, {childList: true});\n",
       "}}\n",
       "\n",
       "                        })                };                });            </script>        </div>"
      ]
     },
     "metadata": {},
     "output_type": "display_data"
    }
   ],
   "execution_count": 132
  },
  {
   "metadata": {},
   "cell_type": "markdown",
   "source": "### What specialties do the available pharmacies advertise? ",
   "id": "89ff0313511de94c"
  },
  {
   "metadata": {
    "ExecuteTime": {
     "end_time": "2024-12-15T18:53:48.113396Z",
     "start_time": "2024-12-15T18:53:47.964817Z"
    }
   },
   "cell_type": "code",
   "source": [
    "import pandas as pd\n",
    "import plotly.express as px\n",
    "\n",
    "# Step 1: Select columns that start with 'is'\n",
    "is_columns = [col for col in available_pharmacies.columns if col.startswith('is')]\n",
    "\n",
    "# Step 2: Count the number of True values in each 'is' column\n",
    "is_counts = available_pharmacies[is_columns].sum()\n",
    "\n",
    "# Step 3: Create a DataFrame from the counts for easier plotting\n",
    "is_counts_df = is_counts.reset_index()\n",
    "is_counts_df.columns = ['Entity Type', 'Count']\n",
    "\n",
    "# Step 4: Create the bar chart\n",
    "fig = px.bar(\n",
    "    is_counts_df,\n",
    "    x='Entity Type',\n",
    "    y='Count',\n",
    "    title='Count of Pharmacies by Specialty',\n",
    "    labels={'Entity Type': 'Entity Type', 'Count': 'Count of Pharmacies'},\n",
    "    color='Count',  # Color bars by count\n",
    "    color_continuous_scale='Viridis'  # Choose a color scale\n",
    ")\n",
    "\n",
    "# Step 5: Customize the layout for better readability\n",
    "fig.update_layout(\n",
    "    xaxis_title=\"Entity Type\",\n",
    "    yaxis_title=\"Count of Pharmacies\",\n",
    "    xaxis_tickangle=-45,  # Rotate x-axis labels for better readability\n",
    "    autosize=True,\n",
    "    margin={\"r\":0,\"t\":50,\"l\":50,\"b\":50},  # Add margins for spacing\n",
    "    height=600  # Set a height for the plot\n",
    ")\n",
    "\n",
    "# Step 6: Show the plot\n",
    "fig.show()\n"
   ],
   "id": "78623ef933d3a660",
   "outputs": [
    {
     "data": {
      "application/vnd.plotly.v1+json": {
       "data": [
        {
         "alignmentgroup": "True",
         "hovertemplate": "Entity Type=%{x}<br>Count of Pharmacies=%{marker.color}<extra></extra>",
         "legendgroup": "",
         "marker": {
          "color": [
           0,
           1,
           0,
           0,
           0,
           9,
           4,
           9,
           6,
           5,
           7,
           9,
           6,
           9,
           1,
           4,
           1,
           2,
           7,
           1,
           3,
           4,
           0,
           1,
           6,
           1,
           4,
           3,
           0,
           5,
           0,
           3,
           2,
           0,
           10
          ],
          "coloraxis": "coloraxis",
          "pattern": {
           "shape": ""
          }
         },
         "name": "",
         "offsetgroup": "",
         "orientation": "v",
         "showlegend": false,
         "textposition": "auto",
         "x": [
          "isGovernment",
          "isSatellite",
          "isInfusionCenter",
          "isHospital",
          "isVeterinaryOnly",
          "isHRT",
          "isSexualHealth",
          "isDermatology",
          "isPainManagement",
          "isGastroenterology",
          "isNutrition,Anti-Aging,GeneralWellness",
          "isOncology",
          "isBlood&BleedingDisorders",
          "isHospice&LongTermCare",
          "isCardiology",
          "isInfectiousDisease",
          "isLowMolecular",
          "isNeurology",
          "isOpthalmic",
          "isOsteo",
          "isRheumatology",
          "isUrology",
          "isPulmonary",
          "isReproductive",
          "isVeterinary",
          "isAutoimmuneDisease",
          "isTPN",
          "isPediatric",
          "isGeneticDisorders",
          "isWeightLoss",
          "isHairCare",
          "isDental",
          "isEar,Nose,Throat",
          "isPodiatry",
          "isNuclearRadiopharmacy"
         ],
         "xaxis": "x",
         "y": [
          0,
          1,
          0,
          0,
          0,
          9,
          4,
          9,
          6,
          5,
          7,
          9,
          6,
          9,
          1,
          4,
          1,
          2,
          7,
          1,
          3,
          4,
          0,
          1,
          6,
          1,
          4,
          3,
          0,
          5,
          0,
          3,
          2,
          0,
          10
         ],
         "yaxis": "y",
         "type": "bar"
        }
       ],
       "layout": {
        "template": {
         "data": {
          "histogram2dcontour": [
           {
            "type": "histogram2dcontour",
            "colorbar": {
             "outlinewidth": 0,
             "ticks": ""
            },
            "colorscale": [
             [
              0.0,
              "#0d0887"
             ],
             [
              0.1111111111111111,
              "#46039f"
             ],
             [
              0.2222222222222222,
              "#7201a8"
             ],
             [
              0.3333333333333333,
              "#9c179e"
             ],
             [
              0.4444444444444444,
              "#bd3786"
             ],
             [
              0.5555555555555556,
              "#d8576b"
             ],
             [
              0.6666666666666666,
              "#ed7953"
             ],
             [
              0.7777777777777778,
              "#fb9f3a"
             ],
             [
              0.8888888888888888,
              "#fdca26"
             ],
             [
              1.0,
              "#f0f921"
             ]
            ]
           }
          ],
          "choropleth": [
           {
            "type": "choropleth",
            "colorbar": {
             "outlinewidth": 0,
             "ticks": ""
            }
           }
          ],
          "histogram2d": [
           {
            "type": "histogram2d",
            "colorbar": {
             "outlinewidth": 0,
             "ticks": ""
            },
            "colorscale": [
             [
              0.0,
              "#0d0887"
             ],
             [
              0.1111111111111111,
              "#46039f"
             ],
             [
              0.2222222222222222,
              "#7201a8"
             ],
             [
              0.3333333333333333,
              "#9c179e"
             ],
             [
              0.4444444444444444,
              "#bd3786"
             ],
             [
              0.5555555555555556,
              "#d8576b"
             ],
             [
              0.6666666666666666,
              "#ed7953"
             ],
             [
              0.7777777777777778,
              "#fb9f3a"
             ],
             [
              0.8888888888888888,
              "#fdca26"
             ],
             [
              1.0,
              "#f0f921"
             ]
            ]
           }
          ],
          "heatmap": [
           {
            "type": "heatmap",
            "colorbar": {
             "outlinewidth": 0,
             "ticks": ""
            },
            "colorscale": [
             [
              0.0,
              "#0d0887"
             ],
             [
              0.1111111111111111,
              "#46039f"
             ],
             [
              0.2222222222222222,
              "#7201a8"
             ],
             [
              0.3333333333333333,
              "#9c179e"
             ],
             [
              0.4444444444444444,
              "#bd3786"
             ],
             [
              0.5555555555555556,
              "#d8576b"
             ],
             [
              0.6666666666666666,
              "#ed7953"
             ],
             [
              0.7777777777777778,
              "#fb9f3a"
             ],
             [
              0.8888888888888888,
              "#fdca26"
             ],
             [
              1.0,
              "#f0f921"
             ]
            ]
           }
          ],
          "heatmapgl": [
           {
            "type": "heatmapgl",
            "colorbar": {
             "outlinewidth": 0,
             "ticks": ""
            },
            "colorscale": [
             [
              0.0,
              "#0d0887"
             ],
             [
              0.1111111111111111,
              "#46039f"
             ],
             [
              0.2222222222222222,
              "#7201a8"
             ],
             [
              0.3333333333333333,
              "#9c179e"
             ],
             [
              0.4444444444444444,
              "#bd3786"
             ],
             [
              0.5555555555555556,
              "#d8576b"
             ],
             [
              0.6666666666666666,
              "#ed7953"
             ],
             [
              0.7777777777777778,
              "#fb9f3a"
             ],
             [
              0.8888888888888888,
              "#fdca26"
             ],
             [
              1.0,
              "#f0f921"
             ]
            ]
           }
          ],
          "contourcarpet": [
           {
            "type": "contourcarpet",
            "colorbar": {
             "outlinewidth": 0,
             "ticks": ""
            }
           }
          ],
          "contour": [
           {
            "type": "contour",
            "colorbar": {
             "outlinewidth": 0,
             "ticks": ""
            },
            "colorscale": [
             [
              0.0,
              "#0d0887"
             ],
             [
              0.1111111111111111,
              "#46039f"
             ],
             [
              0.2222222222222222,
              "#7201a8"
             ],
             [
              0.3333333333333333,
              "#9c179e"
             ],
             [
              0.4444444444444444,
              "#bd3786"
             ],
             [
              0.5555555555555556,
              "#d8576b"
             ],
             [
              0.6666666666666666,
              "#ed7953"
             ],
             [
              0.7777777777777778,
              "#fb9f3a"
             ],
             [
              0.8888888888888888,
              "#fdca26"
             ],
             [
              1.0,
              "#f0f921"
             ]
            ]
           }
          ],
          "surface": [
           {
            "type": "surface",
            "colorbar": {
             "outlinewidth": 0,
             "ticks": ""
            },
            "colorscale": [
             [
              0.0,
              "#0d0887"
             ],
             [
              0.1111111111111111,
              "#46039f"
             ],
             [
              0.2222222222222222,
              "#7201a8"
             ],
             [
              0.3333333333333333,
              "#9c179e"
             ],
             [
              0.4444444444444444,
              "#bd3786"
             ],
             [
              0.5555555555555556,
              "#d8576b"
             ],
             [
              0.6666666666666666,
              "#ed7953"
             ],
             [
              0.7777777777777778,
              "#fb9f3a"
             ],
             [
              0.8888888888888888,
              "#fdca26"
             ],
             [
              1.0,
              "#f0f921"
             ]
            ]
           }
          ],
          "mesh3d": [
           {
            "type": "mesh3d",
            "colorbar": {
             "outlinewidth": 0,
             "ticks": ""
            }
           }
          ],
          "scatter": [
           {
            "fillpattern": {
             "fillmode": "overlay",
             "size": 10,
             "solidity": 0.2
            },
            "type": "scatter"
           }
          ],
          "parcoords": [
           {
            "type": "parcoords",
            "line": {
             "colorbar": {
              "outlinewidth": 0,
              "ticks": ""
             }
            }
           }
          ],
          "scatterpolargl": [
           {
            "type": "scatterpolargl",
            "marker": {
             "colorbar": {
              "outlinewidth": 0,
              "ticks": ""
             }
            }
           }
          ],
          "bar": [
           {
            "error_x": {
             "color": "#2a3f5f"
            },
            "error_y": {
             "color": "#2a3f5f"
            },
            "marker": {
             "line": {
              "color": "#E5ECF6",
              "width": 0.5
             },
             "pattern": {
              "fillmode": "overlay",
              "size": 10,
              "solidity": 0.2
             }
            },
            "type": "bar"
           }
          ],
          "scattergeo": [
           {
            "type": "scattergeo",
            "marker": {
             "colorbar": {
              "outlinewidth": 0,
              "ticks": ""
             }
            }
           }
          ],
          "scatterpolar": [
           {
            "type": "scatterpolar",
            "marker": {
             "colorbar": {
              "outlinewidth": 0,
              "ticks": ""
             }
            }
           }
          ],
          "histogram": [
           {
            "marker": {
             "pattern": {
              "fillmode": "overlay",
              "size": 10,
              "solidity": 0.2
             }
            },
            "type": "histogram"
           }
          ],
          "scattergl": [
           {
            "type": "scattergl",
            "marker": {
             "colorbar": {
              "outlinewidth": 0,
              "ticks": ""
             }
            }
           }
          ],
          "scatter3d": [
           {
            "type": "scatter3d",
            "line": {
             "colorbar": {
              "outlinewidth": 0,
              "ticks": ""
             }
            },
            "marker": {
             "colorbar": {
              "outlinewidth": 0,
              "ticks": ""
             }
            }
           }
          ],
          "scattermapbox": [
           {
            "type": "scattermapbox",
            "marker": {
             "colorbar": {
              "outlinewidth": 0,
              "ticks": ""
             }
            }
           }
          ],
          "scatterternary": [
           {
            "type": "scatterternary",
            "marker": {
             "colorbar": {
              "outlinewidth": 0,
              "ticks": ""
             }
            }
           }
          ],
          "scattercarpet": [
           {
            "type": "scattercarpet",
            "marker": {
             "colorbar": {
              "outlinewidth": 0,
              "ticks": ""
             }
            }
           }
          ],
          "carpet": [
           {
            "aaxis": {
             "endlinecolor": "#2a3f5f",
             "gridcolor": "white",
             "linecolor": "white",
             "minorgridcolor": "white",
             "startlinecolor": "#2a3f5f"
            },
            "baxis": {
             "endlinecolor": "#2a3f5f",
             "gridcolor": "white",
             "linecolor": "white",
             "minorgridcolor": "white",
             "startlinecolor": "#2a3f5f"
            },
            "type": "carpet"
           }
          ],
          "table": [
           {
            "cells": {
             "fill": {
              "color": "#EBF0F8"
             },
             "line": {
              "color": "white"
             }
            },
            "header": {
             "fill": {
              "color": "#C8D4E3"
             },
             "line": {
              "color": "white"
             }
            },
            "type": "table"
           }
          ],
          "barpolar": [
           {
            "marker": {
             "line": {
              "color": "#E5ECF6",
              "width": 0.5
             },
             "pattern": {
              "fillmode": "overlay",
              "size": 10,
              "solidity": 0.2
             }
            },
            "type": "barpolar"
           }
          ],
          "pie": [
           {
            "automargin": true,
            "type": "pie"
           }
          ]
         },
         "layout": {
          "autotypenumbers": "strict",
          "colorway": [
           "#636efa",
           "#EF553B",
           "#00cc96",
           "#ab63fa",
           "#FFA15A",
           "#19d3f3",
           "#FF6692",
           "#B6E880",
           "#FF97FF",
           "#FECB52"
          ],
          "font": {
           "color": "#2a3f5f"
          },
          "hovermode": "closest",
          "hoverlabel": {
           "align": "left"
          },
          "paper_bgcolor": "white",
          "plot_bgcolor": "#E5ECF6",
          "polar": {
           "bgcolor": "#E5ECF6",
           "angularaxis": {
            "gridcolor": "white",
            "linecolor": "white",
            "ticks": ""
           },
           "radialaxis": {
            "gridcolor": "white",
            "linecolor": "white",
            "ticks": ""
           }
          },
          "ternary": {
           "bgcolor": "#E5ECF6",
           "aaxis": {
            "gridcolor": "white",
            "linecolor": "white",
            "ticks": ""
           },
           "baxis": {
            "gridcolor": "white",
            "linecolor": "white",
            "ticks": ""
           },
           "caxis": {
            "gridcolor": "white",
            "linecolor": "white",
            "ticks": ""
           }
          },
          "coloraxis": {
           "colorbar": {
            "outlinewidth": 0,
            "ticks": ""
           }
          },
          "colorscale": {
           "sequential": [
            [
             0.0,
             "#0d0887"
            ],
            [
             0.1111111111111111,
             "#46039f"
            ],
            [
             0.2222222222222222,
             "#7201a8"
            ],
            [
             0.3333333333333333,
             "#9c179e"
            ],
            [
             0.4444444444444444,
             "#bd3786"
            ],
            [
             0.5555555555555556,
             "#d8576b"
            ],
            [
             0.6666666666666666,
             "#ed7953"
            ],
            [
             0.7777777777777778,
             "#fb9f3a"
            ],
            [
             0.8888888888888888,
             "#fdca26"
            ],
            [
             1.0,
             "#f0f921"
            ]
           ],
           "sequentialminus": [
            [
             0.0,
             "#0d0887"
            ],
            [
             0.1111111111111111,
             "#46039f"
            ],
            [
             0.2222222222222222,
             "#7201a8"
            ],
            [
             0.3333333333333333,
             "#9c179e"
            ],
            [
             0.4444444444444444,
             "#bd3786"
            ],
            [
             0.5555555555555556,
             "#d8576b"
            ],
            [
             0.6666666666666666,
             "#ed7953"
            ],
            [
             0.7777777777777778,
             "#fb9f3a"
            ],
            [
             0.8888888888888888,
             "#fdca26"
            ],
            [
             1.0,
             "#f0f921"
            ]
           ],
           "diverging": [
            [
             0,
             "#8e0152"
            ],
            [
             0.1,
             "#c51b7d"
            ],
            [
             0.2,
             "#de77ae"
            ],
            [
             0.3,
             "#f1b6da"
            ],
            [
             0.4,
             "#fde0ef"
            ],
            [
             0.5,
             "#f7f7f7"
            ],
            [
             0.6,
             "#e6f5d0"
            ],
            [
             0.7,
             "#b8e186"
            ],
            [
             0.8,
             "#7fbc41"
            ],
            [
             0.9,
             "#4d9221"
            ],
            [
             1,
             "#276419"
            ]
           ]
          },
          "xaxis": {
           "gridcolor": "white",
           "linecolor": "white",
           "ticks": "",
           "title": {
            "standoff": 15
           },
           "zerolinecolor": "white",
           "automargin": true,
           "zerolinewidth": 2
          },
          "yaxis": {
           "gridcolor": "white",
           "linecolor": "white",
           "ticks": "",
           "title": {
            "standoff": 15
           },
           "zerolinecolor": "white",
           "automargin": true,
           "zerolinewidth": 2
          },
          "scene": {
           "xaxis": {
            "backgroundcolor": "#E5ECF6",
            "gridcolor": "white",
            "linecolor": "white",
            "showbackground": true,
            "ticks": "",
            "zerolinecolor": "white",
            "gridwidth": 2
           },
           "yaxis": {
            "backgroundcolor": "#E5ECF6",
            "gridcolor": "white",
            "linecolor": "white",
            "showbackground": true,
            "ticks": "",
            "zerolinecolor": "white",
            "gridwidth": 2
           },
           "zaxis": {
            "backgroundcolor": "#E5ECF6",
            "gridcolor": "white",
            "linecolor": "white",
            "showbackground": true,
            "ticks": "",
            "zerolinecolor": "white",
            "gridwidth": 2
           }
          },
          "shapedefaults": {
           "line": {
            "color": "#2a3f5f"
           }
          },
          "annotationdefaults": {
           "arrowcolor": "#2a3f5f",
           "arrowhead": 0,
           "arrowwidth": 1
          },
          "geo": {
           "bgcolor": "white",
           "landcolor": "#E5ECF6",
           "subunitcolor": "white",
           "showland": true,
           "showlakes": true,
           "lakecolor": "white"
          },
          "title": {
           "x": 0.05
          },
          "mapbox": {
           "style": "light"
          }
         }
        },
        "xaxis": {
         "anchor": "y",
         "domain": [
          0.0,
          1.0
         ],
         "title": {
          "text": "Entity Type"
         },
         "tickangle": -45
        },
        "yaxis": {
         "anchor": "x",
         "domain": [
          0.0,
          1.0
         ],
         "title": {
          "text": "Count of Pharmacies"
         }
        },
        "coloraxis": {
         "colorbar": {
          "title": {
           "text": "Count of Pharmacies"
          }
         },
         "colorscale": [
          [
           0.0,
           "#440154"
          ],
          [
           0.1111111111111111,
           "#482878"
          ],
          [
           0.2222222222222222,
           "#3e4989"
          ],
          [
           0.3333333333333333,
           "#31688e"
          ],
          [
           0.4444444444444444,
           "#26828e"
          ],
          [
           0.5555555555555556,
           "#1f9e89"
          ],
          [
           0.6666666666666666,
           "#35b779"
          ],
          [
           0.7777777777777778,
           "#6ece58"
          ],
          [
           0.8888888888888888,
           "#b5de2b"
          ],
          [
           1.0,
           "#fde725"
          ]
         ]
        },
        "legend": {
         "tracegroupgap": 0
        },
        "title": {
         "text": "Count of Pharmacies by Specialty"
        },
        "barmode": "relative",
        "margin": {
         "r": 0,
         "t": 50,
         "l": 50,
         "b": 50
        },
        "autosize": true,
        "height": 600
       },
       "config": {
        "plotlyServerURL": "https://plot.ly"
       }
      },
      "text/html": [
       "<div>                            <div id=\"d5dee2c2-148b-4542-8dbe-0720f6cc5d43\" class=\"plotly-graph-div\" style=\"height:600px; width:100%;\"></div>            <script type=\"text/javascript\">                require([\"plotly\"], function(Plotly) {                    window.PLOTLYENV=window.PLOTLYENV || {};                                    if (document.getElementById(\"d5dee2c2-148b-4542-8dbe-0720f6cc5d43\")) {                    Plotly.newPlot(                        \"d5dee2c2-148b-4542-8dbe-0720f6cc5d43\",                        [{\"alignmentgroup\":\"True\",\"hovertemplate\":\"Entity Type=%{x}\\u003cbr\\u003eCount of Pharmacies=%{marker.color}\\u003cextra\\u003e\\u003c\\u002fextra\\u003e\",\"legendgroup\":\"\",\"marker\":{\"color\":[0,1,0,0,0,9,4,9,6,5,7,9,6,9,1,4,1,2,7,1,3,4,0,1,6,1,4,3,0,5,0,3,2,0,10],\"coloraxis\":\"coloraxis\",\"pattern\":{\"shape\":\"\"}},\"name\":\"\",\"offsetgroup\":\"\",\"orientation\":\"v\",\"showlegend\":false,\"textposition\":\"auto\",\"x\":[\"isGovernment\",\"isSatellite\",\"isInfusionCenter\",\"isHospital\",\"isVeterinaryOnly\",\"isHRT\",\"isSexualHealth\",\"isDermatology\",\"isPainManagement\",\"isGastroenterology\",\"isNutrition,Anti-Aging,GeneralWellness\",\"isOncology\",\"isBlood&BleedingDisorders\",\"isHospice&LongTermCare\",\"isCardiology\",\"isInfectiousDisease\",\"isLowMolecular\",\"isNeurology\",\"isOpthalmic\",\"isOsteo\",\"isRheumatology\",\"isUrology\",\"isPulmonary\",\"isReproductive\",\"isVeterinary\",\"isAutoimmuneDisease\",\"isTPN\",\"isPediatric\",\"isGeneticDisorders\",\"isWeightLoss\",\"isHairCare\",\"isDental\",\"isEar,Nose,Throat\",\"isPodiatry\",\"isNuclearRadiopharmacy\"],\"xaxis\":\"x\",\"y\":[0,1,0,0,0,9,4,9,6,5,7,9,6,9,1,4,1,2,7,1,3,4,0,1,6,1,4,3,0,5,0,3,2,0,10],\"yaxis\":\"y\",\"type\":\"bar\"}],                        {\"template\":{\"data\":{\"histogram2dcontour\":[{\"type\":\"histogram2dcontour\",\"colorbar\":{\"outlinewidth\":0,\"ticks\":\"\"},\"colorscale\":[[0.0,\"#0d0887\"],[0.1111111111111111,\"#46039f\"],[0.2222222222222222,\"#7201a8\"],[0.3333333333333333,\"#9c179e\"],[0.4444444444444444,\"#bd3786\"],[0.5555555555555556,\"#d8576b\"],[0.6666666666666666,\"#ed7953\"],[0.7777777777777778,\"#fb9f3a\"],[0.8888888888888888,\"#fdca26\"],[1.0,\"#f0f921\"]]}],\"choropleth\":[{\"type\":\"choropleth\",\"colorbar\":{\"outlinewidth\":0,\"ticks\":\"\"}}],\"histogram2d\":[{\"type\":\"histogram2d\",\"colorbar\":{\"outlinewidth\":0,\"ticks\":\"\"},\"colorscale\":[[0.0,\"#0d0887\"],[0.1111111111111111,\"#46039f\"],[0.2222222222222222,\"#7201a8\"],[0.3333333333333333,\"#9c179e\"],[0.4444444444444444,\"#bd3786\"],[0.5555555555555556,\"#d8576b\"],[0.6666666666666666,\"#ed7953\"],[0.7777777777777778,\"#fb9f3a\"],[0.8888888888888888,\"#fdca26\"],[1.0,\"#f0f921\"]]}],\"heatmap\":[{\"type\":\"heatmap\",\"colorbar\":{\"outlinewidth\":0,\"ticks\":\"\"},\"colorscale\":[[0.0,\"#0d0887\"],[0.1111111111111111,\"#46039f\"],[0.2222222222222222,\"#7201a8\"],[0.3333333333333333,\"#9c179e\"],[0.4444444444444444,\"#bd3786\"],[0.5555555555555556,\"#d8576b\"],[0.6666666666666666,\"#ed7953\"],[0.7777777777777778,\"#fb9f3a\"],[0.8888888888888888,\"#fdca26\"],[1.0,\"#f0f921\"]]}],\"heatmapgl\":[{\"type\":\"heatmapgl\",\"colorbar\":{\"outlinewidth\":0,\"ticks\":\"\"},\"colorscale\":[[0.0,\"#0d0887\"],[0.1111111111111111,\"#46039f\"],[0.2222222222222222,\"#7201a8\"],[0.3333333333333333,\"#9c179e\"],[0.4444444444444444,\"#bd3786\"],[0.5555555555555556,\"#d8576b\"],[0.6666666666666666,\"#ed7953\"],[0.7777777777777778,\"#fb9f3a\"],[0.8888888888888888,\"#fdca26\"],[1.0,\"#f0f921\"]]}],\"contourcarpet\":[{\"type\":\"contourcarpet\",\"colorbar\":{\"outlinewidth\":0,\"ticks\":\"\"}}],\"contour\":[{\"type\":\"contour\",\"colorbar\":{\"outlinewidth\":0,\"ticks\":\"\"},\"colorscale\":[[0.0,\"#0d0887\"],[0.1111111111111111,\"#46039f\"],[0.2222222222222222,\"#7201a8\"],[0.3333333333333333,\"#9c179e\"],[0.4444444444444444,\"#bd3786\"],[0.5555555555555556,\"#d8576b\"],[0.6666666666666666,\"#ed7953\"],[0.7777777777777778,\"#fb9f3a\"],[0.8888888888888888,\"#fdca26\"],[1.0,\"#f0f921\"]]}],\"surface\":[{\"type\":\"surface\",\"colorbar\":{\"outlinewidth\":0,\"ticks\":\"\"},\"colorscale\":[[0.0,\"#0d0887\"],[0.1111111111111111,\"#46039f\"],[0.2222222222222222,\"#7201a8\"],[0.3333333333333333,\"#9c179e\"],[0.4444444444444444,\"#bd3786\"],[0.5555555555555556,\"#d8576b\"],[0.6666666666666666,\"#ed7953\"],[0.7777777777777778,\"#fb9f3a\"],[0.8888888888888888,\"#fdca26\"],[1.0,\"#f0f921\"]]}],\"mesh3d\":[{\"type\":\"mesh3d\",\"colorbar\":{\"outlinewidth\":0,\"ticks\":\"\"}}],\"scatter\":[{\"fillpattern\":{\"fillmode\":\"overlay\",\"size\":10,\"solidity\":0.2},\"type\":\"scatter\"}],\"parcoords\":[{\"type\":\"parcoords\",\"line\":{\"colorbar\":{\"outlinewidth\":0,\"ticks\":\"\"}}}],\"scatterpolargl\":[{\"type\":\"scatterpolargl\",\"marker\":{\"colorbar\":{\"outlinewidth\":0,\"ticks\":\"\"}}}],\"bar\":[{\"error_x\":{\"color\":\"#2a3f5f\"},\"error_y\":{\"color\":\"#2a3f5f\"},\"marker\":{\"line\":{\"color\":\"#E5ECF6\",\"width\":0.5},\"pattern\":{\"fillmode\":\"overlay\",\"size\":10,\"solidity\":0.2}},\"type\":\"bar\"}],\"scattergeo\":[{\"type\":\"scattergeo\",\"marker\":{\"colorbar\":{\"outlinewidth\":0,\"ticks\":\"\"}}}],\"scatterpolar\":[{\"type\":\"scatterpolar\",\"marker\":{\"colorbar\":{\"outlinewidth\":0,\"ticks\":\"\"}}}],\"histogram\":[{\"marker\":{\"pattern\":{\"fillmode\":\"overlay\",\"size\":10,\"solidity\":0.2}},\"type\":\"histogram\"}],\"scattergl\":[{\"type\":\"scattergl\",\"marker\":{\"colorbar\":{\"outlinewidth\":0,\"ticks\":\"\"}}}],\"scatter3d\":[{\"type\":\"scatter3d\",\"line\":{\"colorbar\":{\"outlinewidth\":0,\"ticks\":\"\"}},\"marker\":{\"colorbar\":{\"outlinewidth\":0,\"ticks\":\"\"}}}],\"scattermapbox\":[{\"type\":\"scattermapbox\",\"marker\":{\"colorbar\":{\"outlinewidth\":0,\"ticks\":\"\"}}}],\"scatterternary\":[{\"type\":\"scatterternary\",\"marker\":{\"colorbar\":{\"outlinewidth\":0,\"ticks\":\"\"}}}],\"scattercarpet\":[{\"type\":\"scattercarpet\",\"marker\":{\"colorbar\":{\"outlinewidth\":0,\"ticks\":\"\"}}}],\"carpet\":[{\"aaxis\":{\"endlinecolor\":\"#2a3f5f\",\"gridcolor\":\"white\",\"linecolor\":\"white\",\"minorgridcolor\":\"white\",\"startlinecolor\":\"#2a3f5f\"},\"baxis\":{\"endlinecolor\":\"#2a3f5f\",\"gridcolor\":\"white\",\"linecolor\":\"white\",\"minorgridcolor\":\"white\",\"startlinecolor\":\"#2a3f5f\"},\"type\":\"carpet\"}],\"table\":[{\"cells\":{\"fill\":{\"color\":\"#EBF0F8\"},\"line\":{\"color\":\"white\"}},\"header\":{\"fill\":{\"color\":\"#C8D4E3\"},\"line\":{\"color\":\"white\"}},\"type\":\"table\"}],\"barpolar\":[{\"marker\":{\"line\":{\"color\":\"#E5ECF6\",\"width\":0.5},\"pattern\":{\"fillmode\":\"overlay\",\"size\":10,\"solidity\":0.2}},\"type\":\"barpolar\"}],\"pie\":[{\"automargin\":true,\"type\":\"pie\"}]},\"layout\":{\"autotypenumbers\":\"strict\",\"colorway\":[\"#636efa\",\"#EF553B\",\"#00cc96\",\"#ab63fa\",\"#FFA15A\",\"#19d3f3\",\"#FF6692\",\"#B6E880\",\"#FF97FF\",\"#FECB52\"],\"font\":{\"color\":\"#2a3f5f\"},\"hovermode\":\"closest\",\"hoverlabel\":{\"align\":\"left\"},\"paper_bgcolor\":\"white\",\"plot_bgcolor\":\"#E5ECF6\",\"polar\":{\"bgcolor\":\"#E5ECF6\",\"angularaxis\":{\"gridcolor\":\"white\",\"linecolor\":\"white\",\"ticks\":\"\"},\"radialaxis\":{\"gridcolor\":\"white\",\"linecolor\":\"white\",\"ticks\":\"\"}},\"ternary\":{\"bgcolor\":\"#E5ECF6\",\"aaxis\":{\"gridcolor\":\"white\",\"linecolor\":\"white\",\"ticks\":\"\"},\"baxis\":{\"gridcolor\":\"white\",\"linecolor\":\"white\",\"ticks\":\"\"},\"caxis\":{\"gridcolor\":\"white\",\"linecolor\":\"white\",\"ticks\":\"\"}},\"coloraxis\":{\"colorbar\":{\"outlinewidth\":0,\"ticks\":\"\"}},\"colorscale\":{\"sequential\":[[0.0,\"#0d0887\"],[0.1111111111111111,\"#46039f\"],[0.2222222222222222,\"#7201a8\"],[0.3333333333333333,\"#9c179e\"],[0.4444444444444444,\"#bd3786\"],[0.5555555555555556,\"#d8576b\"],[0.6666666666666666,\"#ed7953\"],[0.7777777777777778,\"#fb9f3a\"],[0.8888888888888888,\"#fdca26\"],[1.0,\"#f0f921\"]],\"sequentialminus\":[[0.0,\"#0d0887\"],[0.1111111111111111,\"#46039f\"],[0.2222222222222222,\"#7201a8\"],[0.3333333333333333,\"#9c179e\"],[0.4444444444444444,\"#bd3786\"],[0.5555555555555556,\"#d8576b\"],[0.6666666666666666,\"#ed7953\"],[0.7777777777777778,\"#fb9f3a\"],[0.8888888888888888,\"#fdca26\"],[1.0,\"#f0f921\"]],\"diverging\":[[0,\"#8e0152\"],[0.1,\"#c51b7d\"],[0.2,\"#de77ae\"],[0.3,\"#f1b6da\"],[0.4,\"#fde0ef\"],[0.5,\"#f7f7f7\"],[0.6,\"#e6f5d0\"],[0.7,\"#b8e186\"],[0.8,\"#7fbc41\"],[0.9,\"#4d9221\"],[1,\"#276419\"]]},\"xaxis\":{\"gridcolor\":\"white\",\"linecolor\":\"white\",\"ticks\":\"\",\"title\":{\"standoff\":15},\"zerolinecolor\":\"white\",\"automargin\":true,\"zerolinewidth\":2},\"yaxis\":{\"gridcolor\":\"white\",\"linecolor\":\"white\",\"ticks\":\"\",\"title\":{\"standoff\":15},\"zerolinecolor\":\"white\",\"automargin\":true,\"zerolinewidth\":2},\"scene\":{\"xaxis\":{\"backgroundcolor\":\"#E5ECF6\",\"gridcolor\":\"white\",\"linecolor\":\"white\",\"showbackground\":true,\"ticks\":\"\",\"zerolinecolor\":\"white\",\"gridwidth\":2},\"yaxis\":{\"backgroundcolor\":\"#E5ECF6\",\"gridcolor\":\"white\",\"linecolor\":\"white\",\"showbackground\":true,\"ticks\":\"\",\"zerolinecolor\":\"white\",\"gridwidth\":2},\"zaxis\":{\"backgroundcolor\":\"#E5ECF6\",\"gridcolor\":\"white\",\"linecolor\":\"white\",\"showbackground\":true,\"ticks\":\"\",\"zerolinecolor\":\"white\",\"gridwidth\":2}},\"shapedefaults\":{\"line\":{\"color\":\"#2a3f5f\"}},\"annotationdefaults\":{\"arrowcolor\":\"#2a3f5f\",\"arrowhead\":0,\"arrowwidth\":1},\"geo\":{\"bgcolor\":\"white\",\"landcolor\":\"#E5ECF6\",\"subunitcolor\":\"white\",\"showland\":true,\"showlakes\":true,\"lakecolor\":\"white\"},\"title\":{\"x\":0.05},\"mapbox\":{\"style\":\"light\"}}},\"xaxis\":{\"anchor\":\"y\",\"domain\":[0.0,1.0],\"title\":{\"text\":\"Entity Type\"},\"tickangle\":-45},\"yaxis\":{\"anchor\":\"x\",\"domain\":[0.0,1.0],\"title\":{\"text\":\"Count of Pharmacies\"}},\"coloraxis\":{\"colorbar\":{\"title\":{\"text\":\"Count of Pharmacies\"}},\"colorscale\":[[0.0,\"#440154\"],[0.1111111111111111,\"#482878\"],[0.2222222222222222,\"#3e4989\"],[0.3333333333333333,\"#31688e\"],[0.4444444444444444,\"#26828e\"],[0.5555555555555556,\"#1f9e89\"],[0.6666666666666666,\"#35b779\"],[0.7777777777777778,\"#6ece58\"],[0.8888888888888888,\"#b5de2b\"],[1.0,\"#fde725\"]]},\"legend\":{\"tracegroupgap\":0},\"title\":{\"text\":\"Count of Pharmacies by Specialty\"},\"barmode\":\"relative\",\"margin\":{\"r\":0,\"t\":50,\"l\":50,\"b\":50},\"autosize\":true,\"height\":600},                        {\"responsive\": true}                    ).then(function(){\n",
       "                            \n",
       "var gd = document.getElementById('d5dee2c2-148b-4542-8dbe-0720f6cc5d43');\n",
       "var x = new MutationObserver(function (mutations, observer) {{\n",
       "        var display = window.getComputedStyle(gd).display;\n",
       "        if (!display || display === 'none') {{\n",
       "            console.log([gd, 'removed!']);\n",
       "            Plotly.purge(gd);\n",
       "            observer.disconnect();\n",
       "        }}\n",
       "}});\n",
       "\n",
       "// Listen for the removal of the full notebook cells\n",
       "var notebookContainer = gd.closest('#notebook-container');\n",
       "if (notebookContainer) {{\n",
       "    x.observe(notebookContainer, {childList: true});\n",
       "}}\n",
       "\n",
       "// Listen for the clearing of the current output cell\n",
       "var outputEl = gd.closest('.output');\n",
       "if (outputEl) {{\n",
       "    x.observe(outputEl, {childList: true});\n",
       "}}\n",
       "\n",
       "                        })                };                });            </script>        </div>"
      ]
     },
     "metadata": {},
     "output_type": "display_data"
    }
   ],
   "execution_count": 133
  },
  {
   "metadata": {},
   "cell_type": "markdown",
   "source": "### What specific conditions do the available pharmacies mention on their website? ",
   "id": "12173f8794f81008"
  },
  {
   "metadata": {
    "ExecuteTime": {
     "end_time": "2024-12-15T18:53:48.290906Z",
     "start_time": "2024-12-15T18:53:48.115406Z"
    }
   },
   "cell_type": "code",
   "source": [
    "import pandas as pd\n",
    "import plotly.express as px\n",
    "\n",
    "# Step 1: Select columns that start with 'services'\n",
    "services_columns = [col for col in available_pharmacies.columns if col.startswith('services')]\n",
    "\n",
    "# Step 2: Count the number of True values in each 'services' column\n",
    "services_counts = available_pharmacies[services_columns].sum()\n",
    "\n",
    "# Step 3: Create a DataFrame from the counts for easier plotting\n",
    "services_counts_df = services_counts.reset_index()\n",
    "services_counts_df.columns = ['Service Type', 'Count']\n",
    "\n",
    "# Step 4: Create the bar chart\n",
    "fig = px.bar(\n",
    "    services_counts_df,\n",
    "    x='Service Type',\n",
    "    y='Count',\n",
    "    title='Count of Pharmacies by Conditions Treated',\n",
    "    labels={'Service Type': 'Service Type', 'Count': 'Count of Pharmacies'},\n",
    "    color='Count',  # Color bars by count\n",
    "    color_continuous_scale='Viridis'  # Choose a color scale\n",
    ")\n",
    "\n",
    "# Step 5: Customize the layout for better readability\n",
    "fig.update_layout(\n",
    "    xaxis_title=\"Service Type\",\n",
    "    yaxis_title=\"Count of Pharmacies\",\n",
    "    xaxis_tickangle=-45,  # Rotate x-axis labels for better readability\n",
    "    autosize=True,\n",
    "    margin={\"r\":0,\"t\":50,\"l\":50,\"b\":50},  # Add margins for spacing\n",
    "    height=600  # Set a height for the plot\n",
    ")\n",
    "\n",
    "# Step 6: Show the plot\n",
    "fig.show()\n"
   ],
   "id": "d815f81931759306",
   "outputs": [
    {
     "data": {
      "application/vnd.plotly.v1+json": {
       "data": [
        {
         "alignmentgroup": "True",
         "hovertemplate": "Service Type=%{x}<br>Count of Pharmacies=%{marker.color}<extra></extra>",
         "legendgroup": "",
         "marker": {
          "color": [
           5,
           5,
           2,
           1,
           1,
           2,
           5,
           1,
           1,
           1,
           1,
           1,
           1,
           1,
           1,
           1,
           1,
           1,
           1,
           1,
           1,
           1,
           1,
           1,
           1
          ],
          "coloraxis": "coloraxis",
          "pattern": {
           "shape": ""
          }
         },
         "name": "",
         "offsetgroup": "",
         "orientation": "v",
         "showlegend": false,
         "textposition": "auto",
         "x": [
          "servicesMultipleSclerosis",
          "servicesHIVAIDS",
          "servicesCrohns",
          "servicesCysticFibrosis",
          "servicesEndometriosis",
          "servicesAutism",
          "servicesHepatitis",
          "servicesAddiction",
          "servicesChronicFatigueSyndrome",
          "servicesErectileDysfunction",
          "servicesFibromyalgia",
          "servicesFissures",
          "servicesHirsutism",
          "servicesInfertility",
          "servicesLymeDisease",
          "servicesMethylationDysfunction",
          "servicesOralMucositis",
          "servicesPANDAS",
          "servicesRosacea",
          "servicesShingles",
          "servicesSkinLightening",
          "servicesVaginosis",
          "servicesWarts",
          "servicesWoundCare",
          "servicesOrganTransplants"
         ],
         "xaxis": "x",
         "y": [
          5,
          5,
          2,
          1,
          1,
          2,
          5,
          1,
          1,
          1,
          1,
          1,
          1,
          1,
          1,
          1,
          1,
          1,
          1,
          1,
          1,
          1,
          1,
          1,
          1
         ],
         "yaxis": "y",
         "type": "bar"
        }
       ],
       "layout": {
        "template": {
         "data": {
          "histogram2dcontour": [
           {
            "type": "histogram2dcontour",
            "colorbar": {
             "outlinewidth": 0,
             "ticks": ""
            },
            "colorscale": [
             [
              0.0,
              "#0d0887"
             ],
             [
              0.1111111111111111,
              "#46039f"
             ],
             [
              0.2222222222222222,
              "#7201a8"
             ],
             [
              0.3333333333333333,
              "#9c179e"
             ],
             [
              0.4444444444444444,
              "#bd3786"
             ],
             [
              0.5555555555555556,
              "#d8576b"
             ],
             [
              0.6666666666666666,
              "#ed7953"
             ],
             [
              0.7777777777777778,
              "#fb9f3a"
             ],
             [
              0.8888888888888888,
              "#fdca26"
             ],
             [
              1.0,
              "#f0f921"
             ]
            ]
           }
          ],
          "choropleth": [
           {
            "type": "choropleth",
            "colorbar": {
             "outlinewidth": 0,
             "ticks": ""
            }
           }
          ],
          "histogram2d": [
           {
            "type": "histogram2d",
            "colorbar": {
             "outlinewidth": 0,
             "ticks": ""
            },
            "colorscale": [
             [
              0.0,
              "#0d0887"
             ],
             [
              0.1111111111111111,
              "#46039f"
             ],
             [
              0.2222222222222222,
              "#7201a8"
             ],
             [
              0.3333333333333333,
              "#9c179e"
             ],
             [
              0.4444444444444444,
              "#bd3786"
             ],
             [
              0.5555555555555556,
              "#d8576b"
             ],
             [
              0.6666666666666666,
              "#ed7953"
             ],
             [
              0.7777777777777778,
              "#fb9f3a"
             ],
             [
              0.8888888888888888,
              "#fdca26"
             ],
             [
              1.0,
              "#f0f921"
             ]
            ]
           }
          ],
          "heatmap": [
           {
            "type": "heatmap",
            "colorbar": {
             "outlinewidth": 0,
             "ticks": ""
            },
            "colorscale": [
             [
              0.0,
              "#0d0887"
             ],
             [
              0.1111111111111111,
              "#46039f"
             ],
             [
              0.2222222222222222,
              "#7201a8"
             ],
             [
              0.3333333333333333,
              "#9c179e"
             ],
             [
              0.4444444444444444,
              "#bd3786"
             ],
             [
              0.5555555555555556,
              "#d8576b"
             ],
             [
              0.6666666666666666,
              "#ed7953"
             ],
             [
              0.7777777777777778,
              "#fb9f3a"
             ],
             [
              0.8888888888888888,
              "#fdca26"
             ],
             [
              1.0,
              "#f0f921"
             ]
            ]
           }
          ],
          "heatmapgl": [
           {
            "type": "heatmapgl",
            "colorbar": {
             "outlinewidth": 0,
             "ticks": ""
            },
            "colorscale": [
             [
              0.0,
              "#0d0887"
             ],
             [
              0.1111111111111111,
              "#46039f"
             ],
             [
              0.2222222222222222,
              "#7201a8"
             ],
             [
              0.3333333333333333,
              "#9c179e"
             ],
             [
              0.4444444444444444,
              "#bd3786"
             ],
             [
              0.5555555555555556,
              "#d8576b"
             ],
             [
              0.6666666666666666,
              "#ed7953"
             ],
             [
              0.7777777777777778,
              "#fb9f3a"
             ],
             [
              0.8888888888888888,
              "#fdca26"
             ],
             [
              1.0,
              "#f0f921"
             ]
            ]
           }
          ],
          "contourcarpet": [
           {
            "type": "contourcarpet",
            "colorbar": {
             "outlinewidth": 0,
             "ticks": ""
            }
           }
          ],
          "contour": [
           {
            "type": "contour",
            "colorbar": {
             "outlinewidth": 0,
             "ticks": ""
            },
            "colorscale": [
             [
              0.0,
              "#0d0887"
             ],
             [
              0.1111111111111111,
              "#46039f"
             ],
             [
              0.2222222222222222,
              "#7201a8"
             ],
             [
              0.3333333333333333,
              "#9c179e"
             ],
             [
              0.4444444444444444,
              "#bd3786"
             ],
             [
              0.5555555555555556,
              "#d8576b"
             ],
             [
              0.6666666666666666,
              "#ed7953"
             ],
             [
              0.7777777777777778,
              "#fb9f3a"
             ],
             [
              0.8888888888888888,
              "#fdca26"
             ],
             [
              1.0,
              "#f0f921"
             ]
            ]
           }
          ],
          "surface": [
           {
            "type": "surface",
            "colorbar": {
             "outlinewidth": 0,
             "ticks": ""
            },
            "colorscale": [
             [
              0.0,
              "#0d0887"
             ],
             [
              0.1111111111111111,
              "#46039f"
             ],
             [
              0.2222222222222222,
              "#7201a8"
             ],
             [
              0.3333333333333333,
              "#9c179e"
             ],
             [
              0.4444444444444444,
              "#bd3786"
             ],
             [
              0.5555555555555556,
              "#d8576b"
             ],
             [
              0.6666666666666666,
              "#ed7953"
             ],
             [
              0.7777777777777778,
              "#fb9f3a"
             ],
             [
              0.8888888888888888,
              "#fdca26"
             ],
             [
              1.0,
              "#f0f921"
             ]
            ]
           }
          ],
          "mesh3d": [
           {
            "type": "mesh3d",
            "colorbar": {
             "outlinewidth": 0,
             "ticks": ""
            }
           }
          ],
          "scatter": [
           {
            "fillpattern": {
             "fillmode": "overlay",
             "size": 10,
             "solidity": 0.2
            },
            "type": "scatter"
           }
          ],
          "parcoords": [
           {
            "type": "parcoords",
            "line": {
             "colorbar": {
              "outlinewidth": 0,
              "ticks": ""
             }
            }
           }
          ],
          "scatterpolargl": [
           {
            "type": "scatterpolargl",
            "marker": {
             "colorbar": {
              "outlinewidth": 0,
              "ticks": ""
             }
            }
           }
          ],
          "bar": [
           {
            "error_x": {
             "color": "#2a3f5f"
            },
            "error_y": {
             "color": "#2a3f5f"
            },
            "marker": {
             "line": {
              "color": "#E5ECF6",
              "width": 0.5
             },
             "pattern": {
              "fillmode": "overlay",
              "size": 10,
              "solidity": 0.2
             }
            },
            "type": "bar"
           }
          ],
          "scattergeo": [
           {
            "type": "scattergeo",
            "marker": {
             "colorbar": {
              "outlinewidth": 0,
              "ticks": ""
             }
            }
           }
          ],
          "scatterpolar": [
           {
            "type": "scatterpolar",
            "marker": {
             "colorbar": {
              "outlinewidth": 0,
              "ticks": ""
             }
            }
           }
          ],
          "histogram": [
           {
            "marker": {
             "pattern": {
              "fillmode": "overlay",
              "size": 10,
              "solidity": 0.2
             }
            },
            "type": "histogram"
           }
          ],
          "scattergl": [
           {
            "type": "scattergl",
            "marker": {
             "colorbar": {
              "outlinewidth": 0,
              "ticks": ""
             }
            }
           }
          ],
          "scatter3d": [
           {
            "type": "scatter3d",
            "line": {
             "colorbar": {
              "outlinewidth": 0,
              "ticks": ""
             }
            },
            "marker": {
             "colorbar": {
              "outlinewidth": 0,
              "ticks": ""
             }
            }
           }
          ],
          "scattermapbox": [
           {
            "type": "scattermapbox",
            "marker": {
             "colorbar": {
              "outlinewidth": 0,
              "ticks": ""
             }
            }
           }
          ],
          "scatterternary": [
           {
            "type": "scatterternary",
            "marker": {
             "colorbar": {
              "outlinewidth": 0,
              "ticks": ""
             }
            }
           }
          ],
          "scattercarpet": [
           {
            "type": "scattercarpet",
            "marker": {
             "colorbar": {
              "outlinewidth": 0,
              "ticks": ""
             }
            }
           }
          ],
          "carpet": [
           {
            "aaxis": {
             "endlinecolor": "#2a3f5f",
             "gridcolor": "white",
             "linecolor": "white",
             "minorgridcolor": "white",
             "startlinecolor": "#2a3f5f"
            },
            "baxis": {
             "endlinecolor": "#2a3f5f",
             "gridcolor": "white",
             "linecolor": "white",
             "minorgridcolor": "white",
             "startlinecolor": "#2a3f5f"
            },
            "type": "carpet"
           }
          ],
          "table": [
           {
            "cells": {
             "fill": {
              "color": "#EBF0F8"
             },
             "line": {
              "color": "white"
             }
            },
            "header": {
             "fill": {
              "color": "#C8D4E3"
             },
             "line": {
              "color": "white"
             }
            },
            "type": "table"
           }
          ],
          "barpolar": [
           {
            "marker": {
             "line": {
              "color": "#E5ECF6",
              "width": 0.5
             },
             "pattern": {
              "fillmode": "overlay",
              "size": 10,
              "solidity": 0.2
             }
            },
            "type": "barpolar"
           }
          ],
          "pie": [
           {
            "automargin": true,
            "type": "pie"
           }
          ]
         },
         "layout": {
          "autotypenumbers": "strict",
          "colorway": [
           "#636efa",
           "#EF553B",
           "#00cc96",
           "#ab63fa",
           "#FFA15A",
           "#19d3f3",
           "#FF6692",
           "#B6E880",
           "#FF97FF",
           "#FECB52"
          ],
          "font": {
           "color": "#2a3f5f"
          },
          "hovermode": "closest",
          "hoverlabel": {
           "align": "left"
          },
          "paper_bgcolor": "white",
          "plot_bgcolor": "#E5ECF6",
          "polar": {
           "bgcolor": "#E5ECF6",
           "angularaxis": {
            "gridcolor": "white",
            "linecolor": "white",
            "ticks": ""
           },
           "radialaxis": {
            "gridcolor": "white",
            "linecolor": "white",
            "ticks": ""
           }
          },
          "ternary": {
           "bgcolor": "#E5ECF6",
           "aaxis": {
            "gridcolor": "white",
            "linecolor": "white",
            "ticks": ""
           },
           "baxis": {
            "gridcolor": "white",
            "linecolor": "white",
            "ticks": ""
           },
           "caxis": {
            "gridcolor": "white",
            "linecolor": "white",
            "ticks": ""
           }
          },
          "coloraxis": {
           "colorbar": {
            "outlinewidth": 0,
            "ticks": ""
           }
          },
          "colorscale": {
           "sequential": [
            [
             0.0,
             "#0d0887"
            ],
            [
             0.1111111111111111,
             "#46039f"
            ],
            [
             0.2222222222222222,
             "#7201a8"
            ],
            [
             0.3333333333333333,
             "#9c179e"
            ],
            [
             0.4444444444444444,
             "#bd3786"
            ],
            [
             0.5555555555555556,
             "#d8576b"
            ],
            [
             0.6666666666666666,
             "#ed7953"
            ],
            [
             0.7777777777777778,
             "#fb9f3a"
            ],
            [
             0.8888888888888888,
             "#fdca26"
            ],
            [
             1.0,
             "#f0f921"
            ]
           ],
           "sequentialminus": [
            [
             0.0,
             "#0d0887"
            ],
            [
             0.1111111111111111,
             "#46039f"
            ],
            [
             0.2222222222222222,
             "#7201a8"
            ],
            [
             0.3333333333333333,
             "#9c179e"
            ],
            [
             0.4444444444444444,
             "#bd3786"
            ],
            [
             0.5555555555555556,
             "#d8576b"
            ],
            [
             0.6666666666666666,
             "#ed7953"
            ],
            [
             0.7777777777777778,
             "#fb9f3a"
            ],
            [
             0.8888888888888888,
             "#fdca26"
            ],
            [
             1.0,
             "#f0f921"
            ]
           ],
           "diverging": [
            [
             0,
             "#8e0152"
            ],
            [
             0.1,
             "#c51b7d"
            ],
            [
             0.2,
             "#de77ae"
            ],
            [
             0.3,
             "#f1b6da"
            ],
            [
             0.4,
             "#fde0ef"
            ],
            [
             0.5,
             "#f7f7f7"
            ],
            [
             0.6,
             "#e6f5d0"
            ],
            [
             0.7,
             "#b8e186"
            ],
            [
             0.8,
             "#7fbc41"
            ],
            [
             0.9,
             "#4d9221"
            ],
            [
             1,
             "#276419"
            ]
           ]
          },
          "xaxis": {
           "gridcolor": "white",
           "linecolor": "white",
           "ticks": "",
           "title": {
            "standoff": 15
           },
           "zerolinecolor": "white",
           "automargin": true,
           "zerolinewidth": 2
          },
          "yaxis": {
           "gridcolor": "white",
           "linecolor": "white",
           "ticks": "",
           "title": {
            "standoff": 15
           },
           "zerolinecolor": "white",
           "automargin": true,
           "zerolinewidth": 2
          },
          "scene": {
           "xaxis": {
            "backgroundcolor": "#E5ECF6",
            "gridcolor": "white",
            "linecolor": "white",
            "showbackground": true,
            "ticks": "",
            "zerolinecolor": "white",
            "gridwidth": 2
           },
           "yaxis": {
            "backgroundcolor": "#E5ECF6",
            "gridcolor": "white",
            "linecolor": "white",
            "showbackground": true,
            "ticks": "",
            "zerolinecolor": "white",
            "gridwidth": 2
           },
           "zaxis": {
            "backgroundcolor": "#E5ECF6",
            "gridcolor": "white",
            "linecolor": "white",
            "showbackground": true,
            "ticks": "",
            "zerolinecolor": "white",
            "gridwidth": 2
           }
          },
          "shapedefaults": {
           "line": {
            "color": "#2a3f5f"
           }
          },
          "annotationdefaults": {
           "arrowcolor": "#2a3f5f",
           "arrowhead": 0,
           "arrowwidth": 1
          },
          "geo": {
           "bgcolor": "white",
           "landcolor": "#E5ECF6",
           "subunitcolor": "white",
           "showland": true,
           "showlakes": true,
           "lakecolor": "white"
          },
          "title": {
           "x": 0.05
          },
          "mapbox": {
           "style": "light"
          }
         }
        },
        "xaxis": {
         "anchor": "y",
         "domain": [
          0.0,
          1.0
         ],
         "title": {
          "text": "Service Type"
         },
         "tickangle": -45
        },
        "yaxis": {
         "anchor": "x",
         "domain": [
          0.0,
          1.0
         ],
         "title": {
          "text": "Count of Pharmacies"
         }
        },
        "coloraxis": {
         "colorbar": {
          "title": {
           "text": "Count of Pharmacies"
          }
         },
         "colorscale": [
          [
           0.0,
           "#440154"
          ],
          [
           0.1111111111111111,
           "#482878"
          ],
          [
           0.2222222222222222,
           "#3e4989"
          ],
          [
           0.3333333333333333,
           "#31688e"
          ],
          [
           0.4444444444444444,
           "#26828e"
          ],
          [
           0.5555555555555556,
           "#1f9e89"
          ],
          [
           0.6666666666666666,
           "#35b779"
          ],
          [
           0.7777777777777778,
           "#6ece58"
          ],
          [
           0.8888888888888888,
           "#b5de2b"
          ],
          [
           1.0,
           "#fde725"
          ]
         ]
        },
        "legend": {
         "tracegroupgap": 0
        },
        "title": {
         "text": "Count of Pharmacies by Conditions Treated"
        },
        "barmode": "relative",
        "margin": {
         "r": 0,
         "t": 50,
         "l": 50,
         "b": 50
        },
        "autosize": true,
        "height": 600
       },
       "config": {
        "plotlyServerURL": "https://plot.ly"
       }
      },
      "text/html": [
       "<div>                            <div id=\"b3dc601e-b21f-4f80-844d-16557cb94913\" class=\"plotly-graph-div\" style=\"height:600px; width:100%;\"></div>            <script type=\"text/javascript\">                require([\"plotly\"], function(Plotly) {                    window.PLOTLYENV=window.PLOTLYENV || {};                                    if (document.getElementById(\"b3dc601e-b21f-4f80-844d-16557cb94913\")) {                    Plotly.newPlot(                        \"b3dc601e-b21f-4f80-844d-16557cb94913\",                        [{\"alignmentgroup\":\"True\",\"hovertemplate\":\"Service Type=%{x}\\u003cbr\\u003eCount of Pharmacies=%{marker.color}\\u003cextra\\u003e\\u003c\\u002fextra\\u003e\",\"legendgroup\":\"\",\"marker\":{\"color\":[5,5,2,1,1,2,5,1,1,1,1,1,1,1,1,1,1,1,1,1,1,1,1,1,1],\"coloraxis\":\"coloraxis\",\"pattern\":{\"shape\":\"\"}},\"name\":\"\",\"offsetgroup\":\"\",\"orientation\":\"v\",\"showlegend\":false,\"textposition\":\"auto\",\"x\":[\"servicesMultipleSclerosis\",\"servicesHIVAIDS\",\"servicesCrohns\",\"servicesCysticFibrosis\",\"servicesEndometriosis\",\"servicesAutism\",\"servicesHepatitis\",\"servicesAddiction\",\"servicesChronicFatigueSyndrome\",\"servicesErectileDysfunction\",\"servicesFibromyalgia\",\"servicesFissures\",\"servicesHirsutism\",\"servicesInfertility\",\"servicesLymeDisease\",\"servicesMethylationDysfunction\",\"servicesOralMucositis\",\"servicesPANDAS\",\"servicesRosacea\",\"servicesShingles\",\"servicesSkinLightening\",\"servicesVaginosis\",\"servicesWarts\",\"servicesWoundCare\",\"servicesOrganTransplants\"],\"xaxis\":\"x\",\"y\":[5,5,2,1,1,2,5,1,1,1,1,1,1,1,1,1,1,1,1,1,1,1,1,1,1],\"yaxis\":\"y\",\"type\":\"bar\"}],                        {\"template\":{\"data\":{\"histogram2dcontour\":[{\"type\":\"histogram2dcontour\",\"colorbar\":{\"outlinewidth\":0,\"ticks\":\"\"},\"colorscale\":[[0.0,\"#0d0887\"],[0.1111111111111111,\"#46039f\"],[0.2222222222222222,\"#7201a8\"],[0.3333333333333333,\"#9c179e\"],[0.4444444444444444,\"#bd3786\"],[0.5555555555555556,\"#d8576b\"],[0.6666666666666666,\"#ed7953\"],[0.7777777777777778,\"#fb9f3a\"],[0.8888888888888888,\"#fdca26\"],[1.0,\"#f0f921\"]]}],\"choropleth\":[{\"type\":\"choropleth\",\"colorbar\":{\"outlinewidth\":0,\"ticks\":\"\"}}],\"histogram2d\":[{\"type\":\"histogram2d\",\"colorbar\":{\"outlinewidth\":0,\"ticks\":\"\"},\"colorscale\":[[0.0,\"#0d0887\"],[0.1111111111111111,\"#46039f\"],[0.2222222222222222,\"#7201a8\"],[0.3333333333333333,\"#9c179e\"],[0.4444444444444444,\"#bd3786\"],[0.5555555555555556,\"#d8576b\"],[0.6666666666666666,\"#ed7953\"],[0.7777777777777778,\"#fb9f3a\"],[0.8888888888888888,\"#fdca26\"],[1.0,\"#f0f921\"]]}],\"heatmap\":[{\"type\":\"heatmap\",\"colorbar\":{\"outlinewidth\":0,\"ticks\":\"\"},\"colorscale\":[[0.0,\"#0d0887\"],[0.1111111111111111,\"#46039f\"],[0.2222222222222222,\"#7201a8\"],[0.3333333333333333,\"#9c179e\"],[0.4444444444444444,\"#bd3786\"],[0.5555555555555556,\"#d8576b\"],[0.6666666666666666,\"#ed7953\"],[0.7777777777777778,\"#fb9f3a\"],[0.8888888888888888,\"#fdca26\"],[1.0,\"#f0f921\"]]}],\"heatmapgl\":[{\"type\":\"heatmapgl\",\"colorbar\":{\"outlinewidth\":0,\"ticks\":\"\"},\"colorscale\":[[0.0,\"#0d0887\"],[0.1111111111111111,\"#46039f\"],[0.2222222222222222,\"#7201a8\"],[0.3333333333333333,\"#9c179e\"],[0.4444444444444444,\"#bd3786\"],[0.5555555555555556,\"#d8576b\"],[0.6666666666666666,\"#ed7953\"],[0.7777777777777778,\"#fb9f3a\"],[0.8888888888888888,\"#fdca26\"],[1.0,\"#f0f921\"]]}],\"contourcarpet\":[{\"type\":\"contourcarpet\",\"colorbar\":{\"outlinewidth\":0,\"ticks\":\"\"}}],\"contour\":[{\"type\":\"contour\",\"colorbar\":{\"outlinewidth\":0,\"ticks\":\"\"},\"colorscale\":[[0.0,\"#0d0887\"],[0.1111111111111111,\"#46039f\"],[0.2222222222222222,\"#7201a8\"],[0.3333333333333333,\"#9c179e\"],[0.4444444444444444,\"#bd3786\"],[0.5555555555555556,\"#d8576b\"],[0.6666666666666666,\"#ed7953\"],[0.7777777777777778,\"#fb9f3a\"],[0.8888888888888888,\"#fdca26\"],[1.0,\"#f0f921\"]]}],\"surface\":[{\"type\":\"surface\",\"colorbar\":{\"outlinewidth\":0,\"ticks\":\"\"},\"colorscale\":[[0.0,\"#0d0887\"],[0.1111111111111111,\"#46039f\"],[0.2222222222222222,\"#7201a8\"],[0.3333333333333333,\"#9c179e\"],[0.4444444444444444,\"#bd3786\"],[0.5555555555555556,\"#d8576b\"],[0.6666666666666666,\"#ed7953\"],[0.7777777777777778,\"#fb9f3a\"],[0.8888888888888888,\"#fdca26\"],[1.0,\"#f0f921\"]]}],\"mesh3d\":[{\"type\":\"mesh3d\",\"colorbar\":{\"outlinewidth\":0,\"ticks\":\"\"}}],\"scatter\":[{\"fillpattern\":{\"fillmode\":\"overlay\",\"size\":10,\"solidity\":0.2},\"type\":\"scatter\"}],\"parcoords\":[{\"type\":\"parcoords\",\"line\":{\"colorbar\":{\"outlinewidth\":0,\"ticks\":\"\"}}}],\"scatterpolargl\":[{\"type\":\"scatterpolargl\",\"marker\":{\"colorbar\":{\"outlinewidth\":0,\"ticks\":\"\"}}}],\"bar\":[{\"error_x\":{\"color\":\"#2a3f5f\"},\"error_y\":{\"color\":\"#2a3f5f\"},\"marker\":{\"line\":{\"color\":\"#E5ECF6\",\"width\":0.5},\"pattern\":{\"fillmode\":\"overlay\",\"size\":10,\"solidity\":0.2}},\"type\":\"bar\"}],\"scattergeo\":[{\"type\":\"scattergeo\",\"marker\":{\"colorbar\":{\"outlinewidth\":0,\"ticks\":\"\"}}}],\"scatterpolar\":[{\"type\":\"scatterpolar\",\"marker\":{\"colorbar\":{\"outlinewidth\":0,\"ticks\":\"\"}}}],\"histogram\":[{\"marker\":{\"pattern\":{\"fillmode\":\"overlay\",\"size\":10,\"solidity\":0.2}},\"type\":\"histogram\"}],\"scattergl\":[{\"type\":\"scattergl\",\"marker\":{\"colorbar\":{\"outlinewidth\":0,\"ticks\":\"\"}}}],\"scatter3d\":[{\"type\":\"scatter3d\",\"line\":{\"colorbar\":{\"outlinewidth\":0,\"ticks\":\"\"}},\"marker\":{\"colorbar\":{\"outlinewidth\":0,\"ticks\":\"\"}}}],\"scattermapbox\":[{\"type\":\"scattermapbox\",\"marker\":{\"colorbar\":{\"outlinewidth\":0,\"ticks\":\"\"}}}],\"scatterternary\":[{\"type\":\"scatterternary\",\"marker\":{\"colorbar\":{\"outlinewidth\":0,\"ticks\":\"\"}}}],\"scattercarpet\":[{\"type\":\"scattercarpet\",\"marker\":{\"colorbar\":{\"outlinewidth\":0,\"ticks\":\"\"}}}],\"carpet\":[{\"aaxis\":{\"endlinecolor\":\"#2a3f5f\",\"gridcolor\":\"white\",\"linecolor\":\"white\",\"minorgridcolor\":\"white\",\"startlinecolor\":\"#2a3f5f\"},\"baxis\":{\"endlinecolor\":\"#2a3f5f\",\"gridcolor\":\"white\",\"linecolor\":\"white\",\"minorgridcolor\":\"white\",\"startlinecolor\":\"#2a3f5f\"},\"type\":\"carpet\"}],\"table\":[{\"cells\":{\"fill\":{\"color\":\"#EBF0F8\"},\"line\":{\"color\":\"white\"}},\"header\":{\"fill\":{\"color\":\"#C8D4E3\"},\"line\":{\"color\":\"white\"}},\"type\":\"table\"}],\"barpolar\":[{\"marker\":{\"line\":{\"color\":\"#E5ECF6\",\"width\":0.5},\"pattern\":{\"fillmode\":\"overlay\",\"size\":10,\"solidity\":0.2}},\"type\":\"barpolar\"}],\"pie\":[{\"automargin\":true,\"type\":\"pie\"}]},\"layout\":{\"autotypenumbers\":\"strict\",\"colorway\":[\"#636efa\",\"#EF553B\",\"#00cc96\",\"#ab63fa\",\"#FFA15A\",\"#19d3f3\",\"#FF6692\",\"#B6E880\",\"#FF97FF\",\"#FECB52\"],\"font\":{\"color\":\"#2a3f5f\"},\"hovermode\":\"closest\",\"hoverlabel\":{\"align\":\"left\"},\"paper_bgcolor\":\"white\",\"plot_bgcolor\":\"#E5ECF6\",\"polar\":{\"bgcolor\":\"#E5ECF6\",\"angularaxis\":{\"gridcolor\":\"white\",\"linecolor\":\"white\",\"ticks\":\"\"},\"radialaxis\":{\"gridcolor\":\"white\",\"linecolor\":\"white\",\"ticks\":\"\"}},\"ternary\":{\"bgcolor\":\"#E5ECF6\",\"aaxis\":{\"gridcolor\":\"white\",\"linecolor\":\"white\",\"ticks\":\"\"},\"baxis\":{\"gridcolor\":\"white\",\"linecolor\":\"white\",\"ticks\":\"\"},\"caxis\":{\"gridcolor\":\"white\",\"linecolor\":\"white\",\"ticks\":\"\"}},\"coloraxis\":{\"colorbar\":{\"outlinewidth\":0,\"ticks\":\"\"}},\"colorscale\":{\"sequential\":[[0.0,\"#0d0887\"],[0.1111111111111111,\"#46039f\"],[0.2222222222222222,\"#7201a8\"],[0.3333333333333333,\"#9c179e\"],[0.4444444444444444,\"#bd3786\"],[0.5555555555555556,\"#d8576b\"],[0.6666666666666666,\"#ed7953\"],[0.7777777777777778,\"#fb9f3a\"],[0.8888888888888888,\"#fdca26\"],[1.0,\"#f0f921\"]],\"sequentialminus\":[[0.0,\"#0d0887\"],[0.1111111111111111,\"#46039f\"],[0.2222222222222222,\"#7201a8\"],[0.3333333333333333,\"#9c179e\"],[0.4444444444444444,\"#bd3786\"],[0.5555555555555556,\"#d8576b\"],[0.6666666666666666,\"#ed7953\"],[0.7777777777777778,\"#fb9f3a\"],[0.8888888888888888,\"#fdca26\"],[1.0,\"#f0f921\"]],\"diverging\":[[0,\"#8e0152\"],[0.1,\"#c51b7d\"],[0.2,\"#de77ae\"],[0.3,\"#f1b6da\"],[0.4,\"#fde0ef\"],[0.5,\"#f7f7f7\"],[0.6,\"#e6f5d0\"],[0.7,\"#b8e186\"],[0.8,\"#7fbc41\"],[0.9,\"#4d9221\"],[1,\"#276419\"]]},\"xaxis\":{\"gridcolor\":\"white\",\"linecolor\":\"white\",\"ticks\":\"\",\"title\":{\"standoff\":15},\"zerolinecolor\":\"white\",\"automargin\":true,\"zerolinewidth\":2},\"yaxis\":{\"gridcolor\":\"white\",\"linecolor\":\"white\",\"ticks\":\"\",\"title\":{\"standoff\":15},\"zerolinecolor\":\"white\",\"automargin\":true,\"zerolinewidth\":2},\"scene\":{\"xaxis\":{\"backgroundcolor\":\"#E5ECF6\",\"gridcolor\":\"white\",\"linecolor\":\"white\",\"showbackground\":true,\"ticks\":\"\",\"zerolinecolor\":\"white\",\"gridwidth\":2},\"yaxis\":{\"backgroundcolor\":\"#E5ECF6\",\"gridcolor\":\"white\",\"linecolor\":\"white\",\"showbackground\":true,\"ticks\":\"\",\"zerolinecolor\":\"white\",\"gridwidth\":2},\"zaxis\":{\"backgroundcolor\":\"#E5ECF6\",\"gridcolor\":\"white\",\"linecolor\":\"white\",\"showbackground\":true,\"ticks\":\"\",\"zerolinecolor\":\"white\",\"gridwidth\":2}},\"shapedefaults\":{\"line\":{\"color\":\"#2a3f5f\"}},\"annotationdefaults\":{\"arrowcolor\":\"#2a3f5f\",\"arrowhead\":0,\"arrowwidth\":1},\"geo\":{\"bgcolor\":\"white\",\"landcolor\":\"#E5ECF6\",\"subunitcolor\":\"white\",\"showland\":true,\"showlakes\":true,\"lakecolor\":\"white\"},\"title\":{\"x\":0.05},\"mapbox\":{\"style\":\"light\"}}},\"xaxis\":{\"anchor\":\"y\",\"domain\":[0.0,1.0],\"title\":{\"text\":\"Service Type\"},\"tickangle\":-45},\"yaxis\":{\"anchor\":\"x\",\"domain\":[0.0,1.0],\"title\":{\"text\":\"Count of Pharmacies\"}},\"coloraxis\":{\"colorbar\":{\"title\":{\"text\":\"Count of Pharmacies\"}},\"colorscale\":[[0.0,\"#440154\"],[0.1111111111111111,\"#482878\"],[0.2222222222222222,\"#3e4989\"],[0.3333333333333333,\"#31688e\"],[0.4444444444444444,\"#26828e\"],[0.5555555555555556,\"#1f9e89\"],[0.6666666666666666,\"#35b779\"],[0.7777777777777778,\"#6ece58\"],[0.8888888888888888,\"#b5de2b\"],[1.0,\"#fde725\"]]},\"legend\":{\"tracegroupgap\":0},\"title\":{\"text\":\"Count of Pharmacies by Conditions Treated\"},\"barmode\":\"relative\",\"margin\":{\"r\":0,\"t\":50,\"l\":50,\"b\":50},\"autosize\":true,\"height\":600},                        {\"responsive\": true}                    ).then(function(){\n",
       "                            \n",
       "var gd = document.getElementById('b3dc601e-b21f-4f80-844d-16557cb94913');\n",
       "var x = new MutationObserver(function (mutations, observer) {{\n",
       "        var display = window.getComputedStyle(gd).display;\n",
       "        if (!display || display === 'none') {{\n",
       "            console.log([gd, 'removed!']);\n",
       "            Plotly.purge(gd);\n",
       "            observer.disconnect();\n",
       "        }}\n",
       "}});\n",
       "\n",
       "// Listen for the removal of the full notebook cells\n",
       "var notebookContainer = gd.closest('#notebook-container');\n",
       "if (notebookContainer) {{\n",
       "    x.observe(notebookContainer, {childList: true});\n",
       "}}\n",
       "\n",
       "// Listen for the clearing of the current output cell\n",
       "var outputEl = gd.closest('.output');\n",
       "if (outputEl) {{\n",
       "    x.observe(outputEl, {childList: true});\n",
       "}}\n",
       "\n",
       "                        })                };                });            </script>        </div>"
      ]
     },
     "metadata": {},
     "output_type": "display_data"
    }
   ],
   "execution_count": 134
  },
  {
   "metadata": {},
   "cell_type": "markdown",
   "source": "### How many specialties does each pharmacy have? ",
   "id": "e729aedf7a9d55a9"
  },
  {
   "metadata": {
    "ExecuteTime": {
     "end_time": "2024-12-15T18:53:48.422183Z",
     "start_time": "2024-12-15T18:53:48.294944Z"
    }
   },
   "cell_type": "code",
   "source": [
    "import pandas as pd\n",
    "import plotly.express as px\n",
    "\n",
    "# Step 1: Select columns that start with 'is' (specialty columns)\n",
    "specialty_columns = [col for col in available_pharmacies.columns if col.startswith('is')]\n",
    "\n",
    "# Step 2: Melt the DataFrame to long format\n",
    "melted_df = available_pharmacies[['Pharmacy Name'] + specialty_columns].melt(\n",
    "    id_vars=['Pharmacy Name'], value_vars=specialty_columns, \n",
    "    var_name='Specialty', value_name='Has Specialty'\n",
    ")\n",
    "\n",
    "# Step 3: Filter only the rows where 'Has Specialty' is True\n",
    "melted_df = melted_df[melted_df['Has Specialty'] == True]\n",
    "\n",
    "# Step 4: Count the number of specialties for each pharmacy\n",
    "specialty_counts = melted_df.groupby('Pharmacy Name').size().reset_index(name='Specialty Count')\n",
    "\n",
    "# Step 5: Create the bar chart showing the number of specialties for each pharmacy\n",
    "fig = px.bar(\n",
    "    specialty_counts,\n",
    "    x='Pharmacy Name',  # Pharmacy Name on the x-axis\n",
    "    y='Specialty Count',  # Count of specialties on the y-axis\n",
    "    title='Number of Specialties per Pharmacy',\n",
    "    labels={'Specialty Count': 'Number of Specialties', 'Pharmacy Name': 'Pharmacy Name'},\n",
    "    color='Specialty Count',  # Color bars by the number of specialties\n",
    "    color_continuous_scale='Viridis',  # Choose a color scale\n",
    "    text='Specialty Count'  # Show the count on the bars\n",
    ")\n",
    "\n",
    "# Step 6: Customize the layout for better readability\n",
    "fig.update_layout(\n",
    "    xaxis_title=\"Pharmacy Name\",\n",
    "    yaxis_title=\"Number of Specialties\",\n",
    "    xaxis_tickangle=-45,  # Rotate x-axis labels for better readability\n",
    "    autosize=True,\n",
    "    margin={\"r\":0,\"t\":50,\"l\":50,\"b\":150},  # Add margins for spacing\n",
    "    height=600  # Set a height for the plot\n",
    ")\n",
    "\n",
    "# Step 7: Show the plot\n",
    "fig.show()\n"
   ],
   "id": "94805617ada0029b",
   "outputs": [
    {
     "data": {
      "application/vnd.plotly.v1+json": {
       "data": [
        {
         "alignmentgroup": "True",
         "hovertemplate": "Pharmacy Name=%{x}<br>Number of Specialties=%{marker.color}<extra></extra>",
         "legendgroup": "",
         "marker": {
          "color": [
           4,
           1,
           12,
           3,
           3,
           1,
           8,
           1,
           3,
           3,
           2,
           1,
           3,
           7,
           5,
           5,
           4,
           9,
           1,
           6,
           2,
           1,
           3,
           1,
           5,
           1,
           3,
           1,
           1,
           5,
           2,
           3,
           2,
           6,
           1,
           4
          ],
          "coloraxis": "coloraxis",
          "pattern": {
           "shape": ""
          }
         },
         "name": "",
         "offsetgroup": "",
         "orientation": "v",
         "showlegend": false,
         "text": [
          4.0,
          1.0,
          12.0,
          3.0,
          3.0,
          1.0,
          8.0,
          1.0,
          3.0,
          3.0,
          2.0,
          1.0,
          3.0,
          7.0,
          5.0,
          5.0,
          4.0,
          9.0,
          1.0,
          6.0,
          2.0,
          1.0,
          3.0,
          1.0,
          5.0,
          1.0,
          3.0,
          1.0,
          1.0,
          5.0,
          2.0,
          3.0,
          2.0,
          6.0,
          1.0,
          4.0
         ],
         "textposition": "auto",
         "x": [
          "ACCREDO HEALTH GROUP INC",
          "ADVANCE CARE PHARMACY",
          "ALERACARE PHARMACY",
          "AMERIPHARMA",
          "BROOKS HEALTH CARE",
          "CITRUS PHARMACY",
          "CURE STAT RX",
          "GMT PHARMACY",
          "HOPEWELL PHARMACY",
          "IMPRIMISRX",
          "INNOVATIVE COMPOUNDING PHARMACY",
          "ISORX RADIOPHARMACY",
          "JUBILANT DRAXIMAGE INC DBA JUBILANT RADIOPHARMA",
          "LEE SILSBY COMPOUNDING PHARMACY",
          "MARINER ADVANCED PHARMACY CORP",
          "MEDSPECIALTIES COMPOUNDING PHARMACY",
          "NORTHBAY SPECIALTY PHARMACY",
          "O'BRIEN PHARMACY",
          "OSRX INC",
          "OWL WESTERN PHARMACY",
          "PACIFIC COMPOUNDING PHARMACY AND CONSULTATIONS INC",
          "PACIFIC WEST PHARMACY INC",
          "PHARMALABS LLC",
          "PHILLIPS RANCH PHARMACY",
          "RLS USA INC",
          "RX UNLIMITED PHARMACY",
          "SKILLED NURSING PHARMACY",
          "SOFIE CO",
          "STAR PHARMACY",
          "STRIVE PHARMACY",
          "TMC ACQUISITION LLC DBA TAILOR MADE COMPOUNDING",
          "TORMED PHARMACY",
          "UNIVERSITY COMPOUNDING PHARMACY",
          "VALOR COMPOUNDING PHARMACY",
          "VERDUGO PLAZA PHARMACY ALHAMBRA",
          "VLS PHARMACY INC"
         ],
         "xaxis": "x",
         "y": [
          4,
          1,
          12,
          3,
          3,
          1,
          8,
          1,
          3,
          3,
          2,
          1,
          3,
          7,
          5,
          5,
          4,
          9,
          1,
          6,
          2,
          1,
          3,
          1,
          5,
          1,
          3,
          1,
          1,
          5,
          2,
          3,
          2,
          6,
          1,
          4
         ],
         "yaxis": "y",
         "type": "bar"
        }
       ],
       "layout": {
        "template": {
         "data": {
          "histogram2dcontour": [
           {
            "type": "histogram2dcontour",
            "colorbar": {
             "outlinewidth": 0,
             "ticks": ""
            },
            "colorscale": [
             [
              0.0,
              "#0d0887"
             ],
             [
              0.1111111111111111,
              "#46039f"
             ],
             [
              0.2222222222222222,
              "#7201a8"
             ],
             [
              0.3333333333333333,
              "#9c179e"
             ],
             [
              0.4444444444444444,
              "#bd3786"
             ],
             [
              0.5555555555555556,
              "#d8576b"
             ],
             [
              0.6666666666666666,
              "#ed7953"
             ],
             [
              0.7777777777777778,
              "#fb9f3a"
             ],
             [
              0.8888888888888888,
              "#fdca26"
             ],
             [
              1.0,
              "#f0f921"
             ]
            ]
           }
          ],
          "choropleth": [
           {
            "type": "choropleth",
            "colorbar": {
             "outlinewidth": 0,
             "ticks": ""
            }
           }
          ],
          "histogram2d": [
           {
            "type": "histogram2d",
            "colorbar": {
             "outlinewidth": 0,
             "ticks": ""
            },
            "colorscale": [
             [
              0.0,
              "#0d0887"
             ],
             [
              0.1111111111111111,
              "#46039f"
             ],
             [
              0.2222222222222222,
              "#7201a8"
             ],
             [
              0.3333333333333333,
              "#9c179e"
             ],
             [
              0.4444444444444444,
              "#bd3786"
             ],
             [
              0.5555555555555556,
              "#d8576b"
             ],
             [
              0.6666666666666666,
              "#ed7953"
             ],
             [
              0.7777777777777778,
              "#fb9f3a"
             ],
             [
              0.8888888888888888,
              "#fdca26"
             ],
             [
              1.0,
              "#f0f921"
             ]
            ]
           }
          ],
          "heatmap": [
           {
            "type": "heatmap",
            "colorbar": {
             "outlinewidth": 0,
             "ticks": ""
            },
            "colorscale": [
             [
              0.0,
              "#0d0887"
             ],
             [
              0.1111111111111111,
              "#46039f"
             ],
             [
              0.2222222222222222,
              "#7201a8"
             ],
             [
              0.3333333333333333,
              "#9c179e"
             ],
             [
              0.4444444444444444,
              "#bd3786"
             ],
             [
              0.5555555555555556,
              "#d8576b"
             ],
             [
              0.6666666666666666,
              "#ed7953"
             ],
             [
              0.7777777777777778,
              "#fb9f3a"
             ],
             [
              0.8888888888888888,
              "#fdca26"
             ],
             [
              1.0,
              "#f0f921"
             ]
            ]
           }
          ],
          "heatmapgl": [
           {
            "type": "heatmapgl",
            "colorbar": {
             "outlinewidth": 0,
             "ticks": ""
            },
            "colorscale": [
             [
              0.0,
              "#0d0887"
             ],
             [
              0.1111111111111111,
              "#46039f"
             ],
             [
              0.2222222222222222,
              "#7201a8"
             ],
             [
              0.3333333333333333,
              "#9c179e"
             ],
             [
              0.4444444444444444,
              "#bd3786"
             ],
             [
              0.5555555555555556,
              "#d8576b"
             ],
             [
              0.6666666666666666,
              "#ed7953"
             ],
             [
              0.7777777777777778,
              "#fb9f3a"
             ],
             [
              0.8888888888888888,
              "#fdca26"
             ],
             [
              1.0,
              "#f0f921"
             ]
            ]
           }
          ],
          "contourcarpet": [
           {
            "type": "contourcarpet",
            "colorbar": {
             "outlinewidth": 0,
             "ticks": ""
            }
           }
          ],
          "contour": [
           {
            "type": "contour",
            "colorbar": {
             "outlinewidth": 0,
             "ticks": ""
            },
            "colorscale": [
             [
              0.0,
              "#0d0887"
             ],
             [
              0.1111111111111111,
              "#46039f"
             ],
             [
              0.2222222222222222,
              "#7201a8"
             ],
             [
              0.3333333333333333,
              "#9c179e"
             ],
             [
              0.4444444444444444,
              "#bd3786"
             ],
             [
              0.5555555555555556,
              "#d8576b"
             ],
             [
              0.6666666666666666,
              "#ed7953"
             ],
             [
              0.7777777777777778,
              "#fb9f3a"
             ],
             [
              0.8888888888888888,
              "#fdca26"
             ],
             [
              1.0,
              "#f0f921"
             ]
            ]
           }
          ],
          "surface": [
           {
            "type": "surface",
            "colorbar": {
             "outlinewidth": 0,
             "ticks": ""
            },
            "colorscale": [
             [
              0.0,
              "#0d0887"
             ],
             [
              0.1111111111111111,
              "#46039f"
             ],
             [
              0.2222222222222222,
              "#7201a8"
             ],
             [
              0.3333333333333333,
              "#9c179e"
             ],
             [
              0.4444444444444444,
              "#bd3786"
             ],
             [
              0.5555555555555556,
              "#d8576b"
             ],
             [
              0.6666666666666666,
              "#ed7953"
             ],
             [
              0.7777777777777778,
              "#fb9f3a"
             ],
             [
              0.8888888888888888,
              "#fdca26"
             ],
             [
              1.0,
              "#f0f921"
             ]
            ]
           }
          ],
          "mesh3d": [
           {
            "type": "mesh3d",
            "colorbar": {
             "outlinewidth": 0,
             "ticks": ""
            }
           }
          ],
          "scatter": [
           {
            "fillpattern": {
             "fillmode": "overlay",
             "size": 10,
             "solidity": 0.2
            },
            "type": "scatter"
           }
          ],
          "parcoords": [
           {
            "type": "parcoords",
            "line": {
             "colorbar": {
              "outlinewidth": 0,
              "ticks": ""
             }
            }
           }
          ],
          "scatterpolargl": [
           {
            "type": "scatterpolargl",
            "marker": {
             "colorbar": {
              "outlinewidth": 0,
              "ticks": ""
             }
            }
           }
          ],
          "bar": [
           {
            "error_x": {
             "color": "#2a3f5f"
            },
            "error_y": {
             "color": "#2a3f5f"
            },
            "marker": {
             "line": {
              "color": "#E5ECF6",
              "width": 0.5
             },
             "pattern": {
              "fillmode": "overlay",
              "size": 10,
              "solidity": 0.2
             }
            },
            "type": "bar"
           }
          ],
          "scattergeo": [
           {
            "type": "scattergeo",
            "marker": {
             "colorbar": {
              "outlinewidth": 0,
              "ticks": ""
             }
            }
           }
          ],
          "scatterpolar": [
           {
            "type": "scatterpolar",
            "marker": {
             "colorbar": {
              "outlinewidth": 0,
              "ticks": ""
             }
            }
           }
          ],
          "histogram": [
           {
            "marker": {
             "pattern": {
              "fillmode": "overlay",
              "size": 10,
              "solidity": 0.2
             }
            },
            "type": "histogram"
           }
          ],
          "scattergl": [
           {
            "type": "scattergl",
            "marker": {
             "colorbar": {
              "outlinewidth": 0,
              "ticks": ""
             }
            }
           }
          ],
          "scatter3d": [
           {
            "type": "scatter3d",
            "line": {
             "colorbar": {
              "outlinewidth": 0,
              "ticks": ""
             }
            },
            "marker": {
             "colorbar": {
              "outlinewidth": 0,
              "ticks": ""
             }
            }
           }
          ],
          "scattermapbox": [
           {
            "type": "scattermapbox",
            "marker": {
             "colorbar": {
              "outlinewidth": 0,
              "ticks": ""
             }
            }
           }
          ],
          "scatterternary": [
           {
            "type": "scatterternary",
            "marker": {
             "colorbar": {
              "outlinewidth": 0,
              "ticks": ""
             }
            }
           }
          ],
          "scattercarpet": [
           {
            "type": "scattercarpet",
            "marker": {
             "colorbar": {
              "outlinewidth": 0,
              "ticks": ""
             }
            }
           }
          ],
          "carpet": [
           {
            "aaxis": {
             "endlinecolor": "#2a3f5f",
             "gridcolor": "white",
             "linecolor": "white",
             "minorgridcolor": "white",
             "startlinecolor": "#2a3f5f"
            },
            "baxis": {
             "endlinecolor": "#2a3f5f",
             "gridcolor": "white",
             "linecolor": "white",
             "minorgridcolor": "white",
             "startlinecolor": "#2a3f5f"
            },
            "type": "carpet"
           }
          ],
          "table": [
           {
            "cells": {
             "fill": {
              "color": "#EBF0F8"
             },
             "line": {
              "color": "white"
             }
            },
            "header": {
             "fill": {
              "color": "#C8D4E3"
             },
             "line": {
              "color": "white"
             }
            },
            "type": "table"
           }
          ],
          "barpolar": [
           {
            "marker": {
             "line": {
              "color": "#E5ECF6",
              "width": 0.5
             },
             "pattern": {
              "fillmode": "overlay",
              "size": 10,
              "solidity": 0.2
             }
            },
            "type": "barpolar"
           }
          ],
          "pie": [
           {
            "automargin": true,
            "type": "pie"
           }
          ]
         },
         "layout": {
          "autotypenumbers": "strict",
          "colorway": [
           "#636efa",
           "#EF553B",
           "#00cc96",
           "#ab63fa",
           "#FFA15A",
           "#19d3f3",
           "#FF6692",
           "#B6E880",
           "#FF97FF",
           "#FECB52"
          ],
          "font": {
           "color": "#2a3f5f"
          },
          "hovermode": "closest",
          "hoverlabel": {
           "align": "left"
          },
          "paper_bgcolor": "white",
          "plot_bgcolor": "#E5ECF6",
          "polar": {
           "bgcolor": "#E5ECF6",
           "angularaxis": {
            "gridcolor": "white",
            "linecolor": "white",
            "ticks": ""
           },
           "radialaxis": {
            "gridcolor": "white",
            "linecolor": "white",
            "ticks": ""
           }
          },
          "ternary": {
           "bgcolor": "#E5ECF6",
           "aaxis": {
            "gridcolor": "white",
            "linecolor": "white",
            "ticks": ""
           },
           "baxis": {
            "gridcolor": "white",
            "linecolor": "white",
            "ticks": ""
           },
           "caxis": {
            "gridcolor": "white",
            "linecolor": "white",
            "ticks": ""
           }
          },
          "coloraxis": {
           "colorbar": {
            "outlinewidth": 0,
            "ticks": ""
           }
          },
          "colorscale": {
           "sequential": [
            [
             0.0,
             "#0d0887"
            ],
            [
             0.1111111111111111,
             "#46039f"
            ],
            [
             0.2222222222222222,
             "#7201a8"
            ],
            [
             0.3333333333333333,
             "#9c179e"
            ],
            [
             0.4444444444444444,
             "#bd3786"
            ],
            [
             0.5555555555555556,
             "#d8576b"
            ],
            [
             0.6666666666666666,
             "#ed7953"
            ],
            [
             0.7777777777777778,
             "#fb9f3a"
            ],
            [
             0.8888888888888888,
             "#fdca26"
            ],
            [
             1.0,
             "#f0f921"
            ]
           ],
           "sequentialminus": [
            [
             0.0,
             "#0d0887"
            ],
            [
             0.1111111111111111,
             "#46039f"
            ],
            [
             0.2222222222222222,
             "#7201a8"
            ],
            [
             0.3333333333333333,
             "#9c179e"
            ],
            [
             0.4444444444444444,
             "#bd3786"
            ],
            [
             0.5555555555555556,
             "#d8576b"
            ],
            [
             0.6666666666666666,
             "#ed7953"
            ],
            [
             0.7777777777777778,
             "#fb9f3a"
            ],
            [
             0.8888888888888888,
             "#fdca26"
            ],
            [
             1.0,
             "#f0f921"
            ]
           ],
           "diverging": [
            [
             0,
             "#8e0152"
            ],
            [
             0.1,
             "#c51b7d"
            ],
            [
             0.2,
             "#de77ae"
            ],
            [
             0.3,
             "#f1b6da"
            ],
            [
             0.4,
             "#fde0ef"
            ],
            [
             0.5,
             "#f7f7f7"
            ],
            [
             0.6,
             "#e6f5d0"
            ],
            [
             0.7,
             "#b8e186"
            ],
            [
             0.8,
             "#7fbc41"
            ],
            [
             0.9,
             "#4d9221"
            ],
            [
             1,
             "#276419"
            ]
           ]
          },
          "xaxis": {
           "gridcolor": "white",
           "linecolor": "white",
           "ticks": "",
           "title": {
            "standoff": 15
           },
           "zerolinecolor": "white",
           "automargin": true,
           "zerolinewidth": 2
          },
          "yaxis": {
           "gridcolor": "white",
           "linecolor": "white",
           "ticks": "",
           "title": {
            "standoff": 15
           },
           "zerolinecolor": "white",
           "automargin": true,
           "zerolinewidth": 2
          },
          "scene": {
           "xaxis": {
            "backgroundcolor": "#E5ECF6",
            "gridcolor": "white",
            "linecolor": "white",
            "showbackground": true,
            "ticks": "",
            "zerolinecolor": "white",
            "gridwidth": 2
           },
           "yaxis": {
            "backgroundcolor": "#E5ECF6",
            "gridcolor": "white",
            "linecolor": "white",
            "showbackground": true,
            "ticks": "",
            "zerolinecolor": "white",
            "gridwidth": 2
           },
           "zaxis": {
            "backgroundcolor": "#E5ECF6",
            "gridcolor": "white",
            "linecolor": "white",
            "showbackground": true,
            "ticks": "",
            "zerolinecolor": "white",
            "gridwidth": 2
           }
          },
          "shapedefaults": {
           "line": {
            "color": "#2a3f5f"
           }
          },
          "annotationdefaults": {
           "arrowcolor": "#2a3f5f",
           "arrowhead": 0,
           "arrowwidth": 1
          },
          "geo": {
           "bgcolor": "white",
           "landcolor": "#E5ECF6",
           "subunitcolor": "white",
           "showland": true,
           "showlakes": true,
           "lakecolor": "white"
          },
          "title": {
           "x": 0.05
          },
          "mapbox": {
           "style": "light"
          }
         }
        },
        "xaxis": {
         "anchor": "y",
         "domain": [
          0.0,
          1.0
         ],
         "title": {
          "text": "Pharmacy Name"
         },
         "tickangle": -45
        },
        "yaxis": {
         "anchor": "x",
         "domain": [
          0.0,
          1.0
         ],
         "title": {
          "text": "Number of Specialties"
         }
        },
        "coloraxis": {
         "colorbar": {
          "title": {
           "text": "Number of Specialties"
          }
         },
         "colorscale": [
          [
           0.0,
           "#440154"
          ],
          [
           0.1111111111111111,
           "#482878"
          ],
          [
           0.2222222222222222,
           "#3e4989"
          ],
          [
           0.3333333333333333,
           "#31688e"
          ],
          [
           0.4444444444444444,
           "#26828e"
          ],
          [
           0.5555555555555556,
           "#1f9e89"
          ],
          [
           0.6666666666666666,
           "#35b779"
          ],
          [
           0.7777777777777778,
           "#6ece58"
          ],
          [
           0.8888888888888888,
           "#b5de2b"
          ],
          [
           1.0,
           "#fde725"
          ]
         ]
        },
        "legend": {
         "tracegroupgap": 0
        },
        "title": {
         "text": "Number of Specialties per Pharmacy"
        },
        "barmode": "relative",
        "margin": {
         "r": 0,
         "t": 50,
         "l": 50,
         "b": 150
        },
        "autosize": true,
        "height": 600
       },
       "config": {
        "plotlyServerURL": "https://plot.ly"
       }
      },
      "text/html": [
       "<div>                            <div id=\"08b9367b-1ba3-4b37-9fb1-0aa1210261ce\" class=\"plotly-graph-div\" style=\"height:600px; width:100%;\"></div>            <script type=\"text/javascript\">                require([\"plotly\"], function(Plotly) {                    window.PLOTLYENV=window.PLOTLYENV || {};                                    if (document.getElementById(\"08b9367b-1ba3-4b37-9fb1-0aa1210261ce\")) {                    Plotly.newPlot(                        \"08b9367b-1ba3-4b37-9fb1-0aa1210261ce\",                        [{\"alignmentgroup\":\"True\",\"hovertemplate\":\"Pharmacy Name=%{x}\\u003cbr\\u003eNumber of Specialties=%{marker.color}\\u003cextra\\u003e\\u003c\\u002fextra\\u003e\",\"legendgroup\":\"\",\"marker\":{\"color\":[4,1,12,3,3,1,8,1,3,3,2,1,3,7,5,5,4,9,1,6,2,1,3,1,5,1,3,1,1,5,2,3,2,6,1,4],\"coloraxis\":\"coloraxis\",\"pattern\":{\"shape\":\"\"}},\"name\":\"\",\"offsetgroup\":\"\",\"orientation\":\"v\",\"showlegend\":false,\"text\":[4.0,1.0,12.0,3.0,3.0,1.0,8.0,1.0,3.0,3.0,2.0,1.0,3.0,7.0,5.0,5.0,4.0,9.0,1.0,6.0,2.0,1.0,3.0,1.0,5.0,1.0,3.0,1.0,1.0,5.0,2.0,3.0,2.0,6.0,1.0,4.0],\"textposition\":\"auto\",\"x\":[\"ACCREDO HEALTH GROUP INC\",\"ADVANCE CARE PHARMACY\",\"ALERACARE PHARMACY\",\"AMERIPHARMA\",\"BROOKS HEALTH CARE\",\"CITRUS PHARMACY\",\"CURE STAT RX\",\"GMT PHARMACY\",\"HOPEWELL PHARMACY\",\"IMPRIMISRX\",\"INNOVATIVE COMPOUNDING PHARMACY\",\"ISORX RADIOPHARMACY\",\"JUBILANT DRAXIMAGE INC DBA JUBILANT RADIOPHARMA\",\"LEE SILSBY COMPOUNDING PHARMACY\",\"MARINER ADVANCED PHARMACY CORP\",\"MEDSPECIALTIES COMPOUNDING PHARMACY\",\"NORTHBAY SPECIALTY PHARMACY\",\"O'BRIEN PHARMACY\",\"OSRX INC\",\"OWL WESTERN PHARMACY\",\"PACIFIC COMPOUNDING PHARMACY AND CONSULTATIONS INC\",\"PACIFIC WEST PHARMACY INC\",\"PHARMALABS LLC\",\"PHILLIPS RANCH PHARMACY\",\"RLS USA INC\",\"RX UNLIMITED PHARMACY\",\"SKILLED NURSING PHARMACY\",\"SOFIE CO\",\"STAR PHARMACY\",\"STRIVE PHARMACY\",\"TMC ACQUISITION LLC DBA TAILOR MADE COMPOUNDING\",\"TORMED PHARMACY\",\"UNIVERSITY COMPOUNDING PHARMACY\",\"VALOR COMPOUNDING PHARMACY\",\"VERDUGO PLAZA PHARMACY ALHAMBRA\",\"VLS PHARMACY INC\"],\"xaxis\":\"x\",\"y\":[4,1,12,3,3,1,8,1,3,3,2,1,3,7,5,5,4,9,1,6,2,1,3,1,5,1,3,1,1,5,2,3,2,6,1,4],\"yaxis\":\"y\",\"type\":\"bar\"}],                        {\"template\":{\"data\":{\"histogram2dcontour\":[{\"type\":\"histogram2dcontour\",\"colorbar\":{\"outlinewidth\":0,\"ticks\":\"\"},\"colorscale\":[[0.0,\"#0d0887\"],[0.1111111111111111,\"#46039f\"],[0.2222222222222222,\"#7201a8\"],[0.3333333333333333,\"#9c179e\"],[0.4444444444444444,\"#bd3786\"],[0.5555555555555556,\"#d8576b\"],[0.6666666666666666,\"#ed7953\"],[0.7777777777777778,\"#fb9f3a\"],[0.8888888888888888,\"#fdca26\"],[1.0,\"#f0f921\"]]}],\"choropleth\":[{\"type\":\"choropleth\",\"colorbar\":{\"outlinewidth\":0,\"ticks\":\"\"}}],\"histogram2d\":[{\"type\":\"histogram2d\",\"colorbar\":{\"outlinewidth\":0,\"ticks\":\"\"},\"colorscale\":[[0.0,\"#0d0887\"],[0.1111111111111111,\"#46039f\"],[0.2222222222222222,\"#7201a8\"],[0.3333333333333333,\"#9c179e\"],[0.4444444444444444,\"#bd3786\"],[0.5555555555555556,\"#d8576b\"],[0.6666666666666666,\"#ed7953\"],[0.7777777777777778,\"#fb9f3a\"],[0.8888888888888888,\"#fdca26\"],[1.0,\"#f0f921\"]]}],\"heatmap\":[{\"type\":\"heatmap\",\"colorbar\":{\"outlinewidth\":0,\"ticks\":\"\"},\"colorscale\":[[0.0,\"#0d0887\"],[0.1111111111111111,\"#46039f\"],[0.2222222222222222,\"#7201a8\"],[0.3333333333333333,\"#9c179e\"],[0.4444444444444444,\"#bd3786\"],[0.5555555555555556,\"#d8576b\"],[0.6666666666666666,\"#ed7953\"],[0.7777777777777778,\"#fb9f3a\"],[0.8888888888888888,\"#fdca26\"],[1.0,\"#f0f921\"]]}],\"heatmapgl\":[{\"type\":\"heatmapgl\",\"colorbar\":{\"outlinewidth\":0,\"ticks\":\"\"},\"colorscale\":[[0.0,\"#0d0887\"],[0.1111111111111111,\"#46039f\"],[0.2222222222222222,\"#7201a8\"],[0.3333333333333333,\"#9c179e\"],[0.4444444444444444,\"#bd3786\"],[0.5555555555555556,\"#d8576b\"],[0.6666666666666666,\"#ed7953\"],[0.7777777777777778,\"#fb9f3a\"],[0.8888888888888888,\"#fdca26\"],[1.0,\"#f0f921\"]]}],\"contourcarpet\":[{\"type\":\"contourcarpet\",\"colorbar\":{\"outlinewidth\":0,\"ticks\":\"\"}}],\"contour\":[{\"type\":\"contour\",\"colorbar\":{\"outlinewidth\":0,\"ticks\":\"\"},\"colorscale\":[[0.0,\"#0d0887\"],[0.1111111111111111,\"#46039f\"],[0.2222222222222222,\"#7201a8\"],[0.3333333333333333,\"#9c179e\"],[0.4444444444444444,\"#bd3786\"],[0.5555555555555556,\"#d8576b\"],[0.6666666666666666,\"#ed7953\"],[0.7777777777777778,\"#fb9f3a\"],[0.8888888888888888,\"#fdca26\"],[1.0,\"#f0f921\"]]}],\"surface\":[{\"type\":\"surface\",\"colorbar\":{\"outlinewidth\":0,\"ticks\":\"\"},\"colorscale\":[[0.0,\"#0d0887\"],[0.1111111111111111,\"#46039f\"],[0.2222222222222222,\"#7201a8\"],[0.3333333333333333,\"#9c179e\"],[0.4444444444444444,\"#bd3786\"],[0.5555555555555556,\"#d8576b\"],[0.6666666666666666,\"#ed7953\"],[0.7777777777777778,\"#fb9f3a\"],[0.8888888888888888,\"#fdca26\"],[1.0,\"#f0f921\"]]}],\"mesh3d\":[{\"type\":\"mesh3d\",\"colorbar\":{\"outlinewidth\":0,\"ticks\":\"\"}}],\"scatter\":[{\"fillpattern\":{\"fillmode\":\"overlay\",\"size\":10,\"solidity\":0.2},\"type\":\"scatter\"}],\"parcoords\":[{\"type\":\"parcoords\",\"line\":{\"colorbar\":{\"outlinewidth\":0,\"ticks\":\"\"}}}],\"scatterpolargl\":[{\"type\":\"scatterpolargl\",\"marker\":{\"colorbar\":{\"outlinewidth\":0,\"ticks\":\"\"}}}],\"bar\":[{\"error_x\":{\"color\":\"#2a3f5f\"},\"error_y\":{\"color\":\"#2a3f5f\"},\"marker\":{\"line\":{\"color\":\"#E5ECF6\",\"width\":0.5},\"pattern\":{\"fillmode\":\"overlay\",\"size\":10,\"solidity\":0.2}},\"type\":\"bar\"}],\"scattergeo\":[{\"type\":\"scattergeo\",\"marker\":{\"colorbar\":{\"outlinewidth\":0,\"ticks\":\"\"}}}],\"scatterpolar\":[{\"type\":\"scatterpolar\",\"marker\":{\"colorbar\":{\"outlinewidth\":0,\"ticks\":\"\"}}}],\"histogram\":[{\"marker\":{\"pattern\":{\"fillmode\":\"overlay\",\"size\":10,\"solidity\":0.2}},\"type\":\"histogram\"}],\"scattergl\":[{\"type\":\"scattergl\",\"marker\":{\"colorbar\":{\"outlinewidth\":0,\"ticks\":\"\"}}}],\"scatter3d\":[{\"type\":\"scatter3d\",\"line\":{\"colorbar\":{\"outlinewidth\":0,\"ticks\":\"\"}},\"marker\":{\"colorbar\":{\"outlinewidth\":0,\"ticks\":\"\"}}}],\"scattermapbox\":[{\"type\":\"scattermapbox\",\"marker\":{\"colorbar\":{\"outlinewidth\":0,\"ticks\":\"\"}}}],\"scatterternary\":[{\"type\":\"scatterternary\",\"marker\":{\"colorbar\":{\"outlinewidth\":0,\"ticks\":\"\"}}}],\"scattercarpet\":[{\"type\":\"scattercarpet\",\"marker\":{\"colorbar\":{\"outlinewidth\":0,\"ticks\":\"\"}}}],\"carpet\":[{\"aaxis\":{\"endlinecolor\":\"#2a3f5f\",\"gridcolor\":\"white\",\"linecolor\":\"white\",\"minorgridcolor\":\"white\",\"startlinecolor\":\"#2a3f5f\"},\"baxis\":{\"endlinecolor\":\"#2a3f5f\",\"gridcolor\":\"white\",\"linecolor\":\"white\",\"minorgridcolor\":\"white\",\"startlinecolor\":\"#2a3f5f\"},\"type\":\"carpet\"}],\"table\":[{\"cells\":{\"fill\":{\"color\":\"#EBF0F8\"},\"line\":{\"color\":\"white\"}},\"header\":{\"fill\":{\"color\":\"#C8D4E3\"},\"line\":{\"color\":\"white\"}},\"type\":\"table\"}],\"barpolar\":[{\"marker\":{\"line\":{\"color\":\"#E5ECF6\",\"width\":0.5},\"pattern\":{\"fillmode\":\"overlay\",\"size\":10,\"solidity\":0.2}},\"type\":\"barpolar\"}],\"pie\":[{\"automargin\":true,\"type\":\"pie\"}]},\"layout\":{\"autotypenumbers\":\"strict\",\"colorway\":[\"#636efa\",\"#EF553B\",\"#00cc96\",\"#ab63fa\",\"#FFA15A\",\"#19d3f3\",\"#FF6692\",\"#B6E880\",\"#FF97FF\",\"#FECB52\"],\"font\":{\"color\":\"#2a3f5f\"},\"hovermode\":\"closest\",\"hoverlabel\":{\"align\":\"left\"},\"paper_bgcolor\":\"white\",\"plot_bgcolor\":\"#E5ECF6\",\"polar\":{\"bgcolor\":\"#E5ECF6\",\"angularaxis\":{\"gridcolor\":\"white\",\"linecolor\":\"white\",\"ticks\":\"\"},\"radialaxis\":{\"gridcolor\":\"white\",\"linecolor\":\"white\",\"ticks\":\"\"}},\"ternary\":{\"bgcolor\":\"#E5ECF6\",\"aaxis\":{\"gridcolor\":\"white\",\"linecolor\":\"white\",\"ticks\":\"\"},\"baxis\":{\"gridcolor\":\"white\",\"linecolor\":\"white\",\"ticks\":\"\"},\"caxis\":{\"gridcolor\":\"white\",\"linecolor\":\"white\",\"ticks\":\"\"}},\"coloraxis\":{\"colorbar\":{\"outlinewidth\":0,\"ticks\":\"\"}},\"colorscale\":{\"sequential\":[[0.0,\"#0d0887\"],[0.1111111111111111,\"#46039f\"],[0.2222222222222222,\"#7201a8\"],[0.3333333333333333,\"#9c179e\"],[0.4444444444444444,\"#bd3786\"],[0.5555555555555556,\"#d8576b\"],[0.6666666666666666,\"#ed7953\"],[0.7777777777777778,\"#fb9f3a\"],[0.8888888888888888,\"#fdca26\"],[1.0,\"#f0f921\"]],\"sequentialminus\":[[0.0,\"#0d0887\"],[0.1111111111111111,\"#46039f\"],[0.2222222222222222,\"#7201a8\"],[0.3333333333333333,\"#9c179e\"],[0.4444444444444444,\"#bd3786\"],[0.5555555555555556,\"#d8576b\"],[0.6666666666666666,\"#ed7953\"],[0.7777777777777778,\"#fb9f3a\"],[0.8888888888888888,\"#fdca26\"],[1.0,\"#f0f921\"]],\"diverging\":[[0,\"#8e0152\"],[0.1,\"#c51b7d\"],[0.2,\"#de77ae\"],[0.3,\"#f1b6da\"],[0.4,\"#fde0ef\"],[0.5,\"#f7f7f7\"],[0.6,\"#e6f5d0\"],[0.7,\"#b8e186\"],[0.8,\"#7fbc41\"],[0.9,\"#4d9221\"],[1,\"#276419\"]]},\"xaxis\":{\"gridcolor\":\"white\",\"linecolor\":\"white\",\"ticks\":\"\",\"title\":{\"standoff\":15},\"zerolinecolor\":\"white\",\"automargin\":true,\"zerolinewidth\":2},\"yaxis\":{\"gridcolor\":\"white\",\"linecolor\":\"white\",\"ticks\":\"\",\"title\":{\"standoff\":15},\"zerolinecolor\":\"white\",\"automargin\":true,\"zerolinewidth\":2},\"scene\":{\"xaxis\":{\"backgroundcolor\":\"#E5ECF6\",\"gridcolor\":\"white\",\"linecolor\":\"white\",\"showbackground\":true,\"ticks\":\"\",\"zerolinecolor\":\"white\",\"gridwidth\":2},\"yaxis\":{\"backgroundcolor\":\"#E5ECF6\",\"gridcolor\":\"white\",\"linecolor\":\"white\",\"showbackground\":true,\"ticks\":\"\",\"zerolinecolor\":\"white\",\"gridwidth\":2},\"zaxis\":{\"backgroundcolor\":\"#E5ECF6\",\"gridcolor\":\"white\",\"linecolor\":\"white\",\"showbackground\":true,\"ticks\":\"\",\"zerolinecolor\":\"white\",\"gridwidth\":2}},\"shapedefaults\":{\"line\":{\"color\":\"#2a3f5f\"}},\"annotationdefaults\":{\"arrowcolor\":\"#2a3f5f\",\"arrowhead\":0,\"arrowwidth\":1},\"geo\":{\"bgcolor\":\"white\",\"landcolor\":\"#E5ECF6\",\"subunitcolor\":\"white\",\"showland\":true,\"showlakes\":true,\"lakecolor\":\"white\"},\"title\":{\"x\":0.05},\"mapbox\":{\"style\":\"light\"}}},\"xaxis\":{\"anchor\":\"y\",\"domain\":[0.0,1.0],\"title\":{\"text\":\"Pharmacy Name\"},\"tickangle\":-45},\"yaxis\":{\"anchor\":\"x\",\"domain\":[0.0,1.0],\"title\":{\"text\":\"Number of Specialties\"}},\"coloraxis\":{\"colorbar\":{\"title\":{\"text\":\"Number of Specialties\"}},\"colorscale\":[[0.0,\"#440154\"],[0.1111111111111111,\"#482878\"],[0.2222222222222222,\"#3e4989\"],[0.3333333333333333,\"#31688e\"],[0.4444444444444444,\"#26828e\"],[0.5555555555555556,\"#1f9e89\"],[0.6666666666666666,\"#35b779\"],[0.7777777777777778,\"#6ece58\"],[0.8888888888888888,\"#b5de2b\"],[1.0,\"#fde725\"]]},\"legend\":{\"tracegroupgap\":0},\"title\":{\"text\":\"Number of Specialties per Pharmacy\"},\"barmode\":\"relative\",\"margin\":{\"r\":0,\"t\":50,\"l\":50,\"b\":150},\"autosize\":true,\"height\":600},                        {\"responsive\": true}                    ).then(function(){\n",
       "                            \n",
       "var gd = document.getElementById('08b9367b-1ba3-4b37-9fb1-0aa1210261ce');\n",
       "var x = new MutationObserver(function (mutations, observer) {{\n",
       "        var display = window.getComputedStyle(gd).display;\n",
       "        if (!display || display === 'none') {{\n",
       "            console.log([gd, 'removed!']);\n",
       "            Plotly.purge(gd);\n",
       "            observer.disconnect();\n",
       "        }}\n",
       "}});\n",
       "\n",
       "// Listen for the removal of the full notebook cells\n",
       "var notebookContainer = gd.closest('#notebook-container');\n",
       "if (notebookContainer) {{\n",
       "    x.observe(notebookContainer, {childList: true});\n",
       "}}\n",
       "\n",
       "// Listen for the clearing of the current output cell\n",
       "var outputEl = gd.closest('.output');\n",
       "if (outputEl) {{\n",
       "    x.observe(outputEl, {childList: true});\n",
       "}}\n",
       "\n",
       "                        })                };                });            </script>        </div>"
      ]
     },
     "metadata": {},
     "output_type": "display_data"
    }
   ],
   "execution_count": 135
  },
  {
   "metadata": {},
   "cell_type": "markdown",
   "source": "### Where are available pharmacies located? ",
   "id": "b17c08efe62a85ea"
  },
  {
   "metadata": {
    "ExecuteTime": {
     "end_time": "2024-12-15T18:53:48.576247Z",
     "start_time": "2024-12-15T18:53:48.424199Z"
    }
   },
   "cell_type": "code",
   "source": [
    "import plotly.express as px\n",
    "\n",
    "# List of columns to check for True values\n",
    "columns_to_check = ['isGovernment', 'isSatellite', 'isInfusionCenter', 'isHospital', 'isVeterinaryOnly']\n",
    "\n",
    "# Create the condition to filter out rows where any of these columns have a True value\n",
    "condition = ~all_pharmacies[columns_to_check].any(axis=1)\n",
    "\n",
    "# Apply the condition to the DataFrame\n",
    "filtered_pharmacies = all_pharmacies[condition]\n",
    "\n",
    "# Step 2: Create the map for filtered pharmacies\n",
    "fig = px.scatter_mapbox(\n",
    "    filtered_pharmacies,  # Use the filtered DataFrame\n",
    "    lat=\"LAT\",\n",
    "    lon=\"LNG\",\n",
    "    hover_name=\"Pharmacy Name\",\n",
    "    zoom=3,  # Adjust zoom level for a national view\n",
    "    center={\"lat\": 37.0902, \"lon\": -95.7129},  # Center on the US\n",
    "    mapbox_style=\"open-street-map\",  # Use a free map style\n",
    "    title=\"Filtered Pharmacies in the US\"\n",
    ")\n",
    "\n",
    "# Step 3: Update layout for better aspect ratio and positioning\n",
    "fig.update_layout(\n",
    "    autosize=True,\n",
    "    margin={\"r\":0, \"t\":50, \"l\":50, \"b\":50},  # Adjust margins\n",
    "    height=800  # Set a height to ensure the map is not squished\n",
    ")\n",
    "\n",
    "# Step 4: Show the plot\n",
    "fig.show()\n"
   ],
   "id": "4d01841921ee6d1c",
   "outputs": [
    {
     "data": {
      "application/vnd.plotly.v1+json": {
       "data": [
        {
         "hovertemplate": "<b>%{hovertext}</b><br><br>LAT=%{lat}<br>LNG=%{lon}<extra></extra>",
         "hovertext": [
          "A & O SPECIALTY PHARMACY",
          "ACCREDO HEALTH GROUP INC",
          "ACCREDO HEALTH GROUP INC",
          "ADVANCE CARE PHARMACY",
          "ALERACARE PHARMACY",
          "ALERACARE PHARMACY CALIFORNIA",
          "ALLIANCERX WALGREENS PHARMACY #15443",
          "ALLIANCERX WALGREENS PHARMACY #16287",
          "AMBROSIA HEALTHCARE INC",
          "AMERIPHARMA",
          "BCP VETERINARY PHARMACY",
          "BIOMED CALIFORNIA INC",
          "BOOTHWYN PHARMACY LLC",
          "BROOKS HEALTH CARE",
          "CALIFORNIA SPECIALTY PHARMACY LLC",
          "CAREMARK ILLINOIS SPECIALTY PHARMACY, LLC DBA CVS/SPECIALTY OR",
          "CD PHARMACY LLC DBA RED ROCK PHARMACY",
          "CENTRAL ADMIXTURE PHARMACY SERVICES INC",
          "CENTRAL ADMIXTURE PHARMACY SERVICES INC",
          "CHEMIQUE PHARMACEUTICALS INC",
          "CHEMIQUE PHARMACEUTICALS INC",
          "CHILDRENS VILLAGE PHARMACY",
          "CITRUS PHARMACY",
          "CLINISHARE PHARMACY",
          "COAST QUALITY PHARMACY LLC D/B/A ANAZAOHEALTH",
          "CONSONUS PHARMACY SERVICES CA NORTH LLC",
          "CORAM HEALTHCARE CORPORATION OF NEVADA DBA CORAM CVS/SPECIALTY IN",
          "COVETRUS NORTH AMERICA, LLC",
          "CRESCENT HEALTHCARE INC DBA CRESCENT HEALTHCARE",
          "CRESCENT HEALTHCARE INC DBA CRESCENT HEALTHCARE",
          "CRESCENT HEALTHCARE INC DBA CRESCENT HEALTHCARE",
          "CRESCENT HEALTHCARE INC DBA CRESCENT HEALTHCARE",
          "CURE STAT RX",
          "CVS/SPECIALTY OR CARELONRX SPECIALTY PHARMACY",
          "DEL'S PHARMACY I",
          "DIAMOND DRUGS INC",
          "DWAYNE'S FRIENDLY PHARMACY",
          "DYNAMIC RX LABS LLC",
          "ELEVARE SPECIALTY SERVICES",
          "ENCINO PHARMACY",
          "ENOVEX PHARMACY",
          "FIRESIDE PHARMACY",
          "FIRST CALL PHARMACY LLC",
          "HOPEWELL PHARMACY",
          "HYGEIA LTC PHARMACY",
          "IMPRIMISRX",
          "INFUSERVE AMERICA INC",
          "INNOVATIVE COMPOUNDING PHARMACY",
          "ISORX RADIOPHARMACY",
          "JUBILANT DRAXIMAGE INC DBA JUBILANT RADIOPHARMA",
          "JUBILANT DRAXIMAGE INC DBA JUBILANT RADIOPHARMA",
          "JUBILANT DRAXIMAGE INC DBA JUBILANT RADIOPHARMA",
          "LA JOLLA DISCOUNT PHARMACY",
          "LEE SILSBY COMPOUNDING PHARMACY",
          "LYNNFIELD DRUG INC DBA FREEDOM FERTILITY PHARMACY",
          "MARINER ADVANCED PHARMACY CORP",
          "MEDSPECIALTIES COMPOUNDING PHARMACY",
          "NORTHBAY SPECIALTY PHARMACY",
          "O'BRIEN PHARMACY",
          "OSRX INC",
          "OWL WESTERN PHARMACY",
          "PACIFIC COMPOUNDING PHARMACY AND CONSULTATIONS INC",
          "PACIFIC WEST PHARMACY INC",
          "PHARMA101",
          "PHARMALABS LLC",
          "PHARMALOGIC LOS ANGELES",
          "PHARMARX PHARMACEUTICAL INC",
          "PHARMASCRIPT INC",
          "PHARMATRON A PHARMACY COMPANY",
          "PHARMERICA",
          "PHARMERICA",
          "PHARMERICA",
          "PHARMERICA",
          "PHARMERICA",
          "PHARMERICA",
          "PHARMERICA",
          "PHARMERICA",
          "PHAST PHARMACY",
          "PHILLIPS RANCH PHARMACY",
          "RANCHO PARK PHARMACY",
          "RANCHO SANTA FE PHARMACY",
          "RLS USA INC",
          "RLS USA INC",
          "RLS USA INC",
          "RLS USA INC",
          "RLS USA INC",
          "RX UNLIMITED PHARMACY",
          "SKILLED NURSING PHARMACY",
          "SKILLED NURSING PHARMACY",
          "SKILLED NURSING PHARMACY",
          "SOFIE CO",
          "STAR PHARMACY",
          "STRIVE PHARMACY",
          "THE MEDICINE SHOPPE",
          "TMC ACQUISITION LLC DBA TAILOR MADE COMPOUNDING",
          "TORMED PHARMACY",
          "UNIVERSITY COMPOUNDING PHARMACY",
          "VALOR COMPOUNDING PHARMACY",
          "VERDUGO PLAZA PHARMACY ALHAMBRA",
          "VLS PHARMACY INC",
          "WELLNESS CENTER PHARMACY INC DBA DESIGNER DRUGS",
          "WELLSCRIPT",
          "WOMENS INTERNATIONAL PHARMACY, INC. DBA BELMAR PHARMACY",
          "You have reached the end of your results"
         ],
         "lat": [
          36.636344,
          40.674947,
          28.489898,
          33.102005,
          33.62592,
          34.195685,
          null,
          null,
          33.765401,
          33.788145,
          29.749778,
          33.956526,
          39.87028,
          36.822349,
          34.00784,
          42.067166,
          37.044186,
          37.501368,
          33.933565,
          34.063516,
          33.972782,
          33.805401,
          34.011953,
          34.224196,
          28.009826,
          38.408571,
          36.061718,
          33.635109,
          33.933565,
          37.605905,
          32.999818,
          33.970847,
          32.899592,
          39.173116,
          34.10097,
          40.628381,
          37.492115,
          47.47202,
          34.17051,
          34.160236,
          34.168366,
          33.708012,
          29.991693,
          null,
          34.052922,
          null,
          27.87506,
          38.666597,
          37.916555,
          34.051177,
          37.807215,
          33.994523,
          32.856347,
          41.469494,
          null,
          37.576948,
          33.896339,
          38.333133,
          39.031176,
          46.856398,
          34.097345,
          38.002125,
          38.791075,
          35.23575,
          27.87506,
          34.020221,
          34.224196,
          41.972872,
          36.825296,
          36.793661,
          32.908449,
          33.818477,
          37.603155,
          34.283668,
          38.635653,
          39.898839,
          33.970847,
          35.384336,
          32.852358,
          34.037251,
          33.020908,
          38.605407,
          32.806476,
          37.412402,
          33.879768,
          34.195685,
          34.237912,
          37.605905,
          33.999005,
          32.88607,
          37.018419,
          34.195685,
          33.353505,
          33.882579,
          37.874952,
          33.807882,
          32.724103,
          37.866536,
          34.074736,
          40.641221,
          35.030496,
          40.601778,
          33.584969,
          null
         ],
         "legendgroup": "",
         "lon": [
          -121.623978,
          -80.106364,
          -81.290154,
          -117.080419,
          -112.002503,
          -118.490752,
          null,
          null,
          -116.334205,
          -117.87655,
          -95.345885,
          -118.358654,
          -75.712913,
          -119.760243,
          -118.030271,
          -87.934719,
          -113.577299,
          -121.956753,
          -118.062611,
          -117.790379,
          -118.022066,
          -118.187701,
          -117.159699,
          -118.632394,
          -82.547789,
          -122.022775,
          -115.058058,
          -112.093768,
          -118.062611,
          -122.126873,
          -117.071808,
          -117.32512,
          -117.201203,
          -76.842028,
          -117.57882,
          -79.150041,
          -118.390408,
          -122.2219,
          -118.289463,
          -118.515472,
          -118.267771,
          -116.403627,
          -90.258179,
          null,
          -118.143465,
          null,
          -82.648609,
          -121.141635,
          -122.341233,
          -117.248563,
          -122.301497,
          -118.149952,
          -117.250058,
          -81.512442,
          null,
          -122.316903,
          -117.796416,
          -121.920151,
          -94.630762,
          -114.014338,
          -117.906736,
          -121.324979,
          -121.234854,
          -120.615973,
          -82.648609,
          -118.286035,
          -118.632394,
          -87.662604,
          -119.68019,
          -119.761461,
          -117.14138,
          -118.038307,
          -122.018638,
          -119.223196,
          -121.518416,
          -86.05872,
          -117.32512,
          -119.020562,
          -116.987842,
          -118.423573,
          -117.190346,
          -121.447593,
          -117.168879,
          -122.015605,
          -117.89634,
          -118.490752,
          -118.482306,
          -122.126873,
          -117.972146,
          -117.085982,
          -121.554249,
          -118.490752,
          -111.811432,
          -117.442303,
          -84.563367,
          -118.347957,
          -117.170912,
          -122.257996,
          -118.145959,
          -74.016862,
          -85.14578,
          -122.454973,
          -112.304916,
          null
         ],
         "marker": {
          "color": "#636efa"
         },
         "mode": "markers",
         "name": "",
         "showlegend": false,
         "subplot": "mapbox",
         "type": "scattermapbox"
        }
       ],
       "layout": {
        "template": {
         "data": {
          "histogram2dcontour": [
           {
            "type": "histogram2dcontour",
            "colorbar": {
             "outlinewidth": 0,
             "ticks": ""
            },
            "colorscale": [
             [
              0.0,
              "#0d0887"
             ],
             [
              0.1111111111111111,
              "#46039f"
             ],
             [
              0.2222222222222222,
              "#7201a8"
             ],
             [
              0.3333333333333333,
              "#9c179e"
             ],
             [
              0.4444444444444444,
              "#bd3786"
             ],
             [
              0.5555555555555556,
              "#d8576b"
             ],
             [
              0.6666666666666666,
              "#ed7953"
             ],
             [
              0.7777777777777778,
              "#fb9f3a"
             ],
             [
              0.8888888888888888,
              "#fdca26"
             ],
             [
              1.0,
              "#f0f921"
             ]
            ]
           }
          ],
          "choropleth": [
           {
            "type": "choropleth",
            "colorbar": {
             "outlinewidth": 0,
             "ticks": ""
            }
           }
          ],
          "histogram2d": [
           {
            "type": "histogram2d",
            "colorbar": {
             "outlinewidth": 0,
             "ticks": ""
            },
            "colorscale": [
             [
              0.0,
              "#0d0887"
             ],
             [
              0.1111111111111111,
              "#46039f"
             ],
             [
              0.2222222222222222,
              "#7201a8"
             ],
             [
              0.3333333333333333,
              "#9c179e"
             ],
             [
              0.4444444444444444,
              "#bd3786"
             ],
             [
              0.5555555555555556,
              "#d8576b"
             ],
             [
              0.6666666666666666,
              "#ed7953"
             ],
             [
              0.7777777777777778,
              "#fb9f3a"
             ],
             [
              0.8888888888888888,
              "#fdca26"
             ],
             [
              1.0,
              "#f0f921"
             ]
            ]
           }
          ],
          "heatmap": [
           {
            "type": "heatmap",
            "colorbar": {
             "outlinewidth": 0,
             "ticks": ""
            },
            "colorscale": [
             [
              0.0,
              "#0d0887"
             ],
             [
              0.1111111111111111,
              "#46039f"
             ],
             [
              0.2222222222222222,
              "#7201a8"
             ],
             [
              0.3333333333333333,
              "#9c179e"
             ],
             [
              0.4444444444444444,
              "#bd3786"
             ],
             [
              0.5555555555555556,
              "#d8576b"
             ],
             [
              0.6666666666666666,
              "#ed7953"
             ],
             [
              0.7777777777777778,
              "#fb9f3a"
             ],
             [
              0.8888888888888888,
              "#fdca26"
             ],
             [
              1.0,
              "#f0f921"
             ]
            ]
           }
          ],
          "heatmapgl": [
           {
            "type": "heatmapgl",
            "colorbar": {
             "outlinewidth": 0,
             "ticks": ""
            },
            "colorscale": [
             [
              0.0,
              "#0d0887"
             ],
             [
              0.1111111111111111,
              "#46039f"
             ],
             [
              0.2222222222222222,
              "#7201a8"
             ],
             [
              0.3333333333333333,
              "#9c179e"
             ],
             [
              0.4444444444444444,
              "#bd3786"
             ],
             [
              0.5555555555555556,
              "#d8576b"
             ],
             [
              0.6666666666666666,
              "#ed7953"
             ],
             [
              0.7777777777777778,
              "#fb9f3a"
             ],
             [
              0.8888888888888888,
              "#fdca26"
             ],
             [
              1.0,
              "#f0f921"
             ]
            ]
           }
          ],
          "contourcarpet": [
           {
            "type": "contourcarpet",
            "colorbar": {
             "outlinewidth": 0,
             "ticks": ""
            }
           }
          ],
          "contour": [
           {
            "type": "contour",
            "colorbar": {
             "outlinewidth": 0,
             "ticks": ""
            },
            "colorscale": [
             [
              0.0,
              "#0d0887"
             ],
             [
              0.1111111111111111,
              "#46039f"
             ],
             [
              0.2222222222222222,
              "#7201a8"
             ],
             [
              0.3333333333333333,
              "#9c179e"
             ],
             [
              0.4444444444444444,
              "#bd3786"
             ],
             [
              0.5555555555555556,
              "#d8576b"
             ],
             [
              0.6666666666666666,
              "#ed7953"
             ],
             [
              0.7777777777777778,
              "#fb9f3a"
             ],
             [
              0.8888888888888888,
              "#fdca26"
             ],
             [
              1.0,
              "#f0f921"
             ]
            ]
           }
          ],
          "surface": [
           {
            "type": "surface",
            "colorbar": {
             "outlinewidth": 0,
             "ticks": ""
            },
            "colorscale": [
             [
              0.0,
              "#0d0887"
             ],
             [
              0.1111111111111111,
              "#46039f"
             ],
             [
              0.2222222222222222,
              "#7201a8"
             ],
             [
              0.3333333333333333,
              "#9c179e"
             ],
             [
              0.4444444444444444,
              "#bd3786"
             ],
             [
              0.5555555555555556,
              "#d8576b"
             ],
             [
              0.6666666666666666,
              "#ed7953"
             ],
             [
              0.7777777777777778,
              "#fb9f3a"
             ],
             [
              0.8888888888888888,
              "#fdca26"
             ],
             [
              1.0,
              "#f0f921"
             ]
            ]
           }
          ],
          "mesh3d": [
           {
            "type": "mesh3d",
            "colorbar": {
             "outlinewidth": 0,
             "ticks": ""
            }
           }
          ],
          "scatter": [
           {
            "fillpattern": {
             "fillmode": "overlay",
             "size": 10,
             "solidity": 0.2
            },
            "type": "scatter"
           }
          ],
          "parcoords": [
           {
            "type": "parcoords",
            "line": {
             "colorbar": {
              "outlinewidth": 0,
              "ticks": ""
             }
            }
           }
          ],
          "scatterpolargl": [
           {
            "type": "scatterpolargl",
            "marker": {
             "colorbar": {
              "outlinewidth": 0,
              "ticks": ""
             }
            }
           }
          ],
          "bar": [
           {
            "error_x": {
             "color": "#2a3f5f"
            },
            "error_y": {
             "color": "#2a3f5f"
            },
            "marker": {
             "line": {
              "color": "#E5ECF6",
              "width": 0.5
             },
             "pattern": {
              "fillmode": "overlay",
              "size": 10,
              "solidity": 0.2
             }
            },
            "type": "bar"
           }
          ],
          "scattergeo": [
           {
            "type": "scattergeo",
            "marker": {
             "colorbar": {
              "outlinewidth": 0,
              "ticks": ""
             }
            }
           }
          ],
          "scatterpolar": [
           {
            "type": "scatterpolar",
            "marker": {
             "colorbar": {
              "outlinewidth": 0,
              "ticks": ""
             }
            }
           }
          ],
          "histogram": [
           {
            "marker": {
             "pattern": {
              "fillmode": "overlay",
              "size": 10,
              "solidity": 0.2
             }
            },
            "type": "histogram"
           }
          ],
          "scattergl": [
           {
            "type": "scattergl",
            "marker": {
             "colorbar": {
              "outlinewidth": 0,
              "ticks": ""
             }
            }
           }
          ],
          "scatter3d": [
           {
            "type": "scatter3d",
            "line": {
             "colorbar": {
              "outlinewidth": 0,
              "ticks": ""
             }
            },
            "marker": {
             "colorbar": {
              "outlinewidth": 0,
              "ticks": ""
             }
            }
           }
          ],
          "scattermapbox": [
           {
            "type": "scattermapbox",
            "marker": {
             "colorbar": {
              "outlinewidth": 0,
              "ticks": ""
             }
            }
           }
          ],
          "scatterternary": [
           {
            "type": "scatterternary",
            "marker": {
             "colorbar": {
              "outlinewidth": 0,
              "ticks": ""
             }
            }
           }
          ],
          "scattercarpet": [
           {
            "type": "scattercarpet",
            "marker": {
             "colorbar": {
              "outlinewidth": 0,
              "ticks": ""
             }
            }
           }
          ],
          "carpet": [
           {
            "aaxis": {
             "endlinecolor": "#2a3f5f",
             "gridcolor": "white",
             "linecolor": "white",
             "minorgridcolor": "white",
             "startlinecolor": "#2a3f5f"
            },
            "baxis": {
             "endlinecolor": "#2a3f5f",
             "gridcolor": "white",
             "linecolor": "white",
             "minorgridcolor": "white",
             "startlinecolor": "#2a3f5f"
            },
            "type": "carpet"
           }
          ],
          "table": [
           {
            "cells": {
             "fill": {
              "color": "#EBF0F8"
             },
             "line": {
              "color": "white"
             }
            },
            "header": {
             "fill": {
              "color": "#C8D4E3"
             },
             "line": {
              "color": "white"
             }
            },
            "type": "table"
           }
          ],
          "barpolar": [
           {
            "marker": {
             "line": {
              "color": "#E5ECF6",
              "width": 0.5
             },
             "pattern": {
              "fillmode": "overlay",
              "size": 10,
              "solidity": 0.2
             }
            },
            "type": "barpolar"
           }
          ],
          "pie": [
           {
            "automargin": true,
            "type": "pie"
           }
          ]
         },
         "layout": {
          "autotypenumbers": "strict",
          "colorway": [
           "#636efa",
           "#EF553B",
           "#00cc96",
           "#ab63fa",
           "#FFA15A",
           "#19d3f3",
           "#FF6692",
           "#B6E880",
           "#FF97FF",
           "#FECB52"
          ],
          "font": {
           "color": "#2a3f5f"
          },
          "hovermode": "closest",
          "hoverlabel": {
           "align": "left"
          },
          "paper_bgcolor": "white",
          "plot_bgcolor": "#E5ECF6",
          "polar": {
           "bgcolor": "#E5ECF6",
           "angularaxis": {
            "gridcolor": "white",
            "linecolor": "white",
            "ticks": ""
           },
           "radialaxis": {
            "gridcolor": "white",
            "linecolor": "white",
            "ticks": ""
           }
          },
          "ternary": {
           "bgcolor": "#E5ECF6",
           "aaxis": {
            "gridcolor": "white",
            "linecolor": "white",
            "ticks": ""
           },
           "baxis": {
            "gridcolor": "white",
            "linecolor": "white",
            "ticks": ""
           },
           "caxis": {
            "gridcolor": "white",
            "linecolor": "white",
            "ticks": ""
           }
          },
          "coloraxis": {
           "colorbar": {
            "outlinewidth": 0,
            "ticks": ""
           }
          },
          "colorscale": {
           "sequential": [
            [
             0.0,
             "#0d0887"
            ],
            [
             0.1111111111111111,
             "#46039f"
            ],
            [
             0.2222222222222222,
             "#7201a8"
            ],
            [
             0.3333333333333333,
             "#9c179e"
            ],
            [
             0.4444444444444444,
             "#bd3786"
            ],
            [
             0.5555555555555556,
             "#d8576b"
            ],
            [
             0.6666666666666666,
             "#ed7953"
            ],
            [
             0.7777777777777778,
             "#fb9f3a"
            ],
            [
             0.8888888888888888,
             "#fdca26"
            ],
            [
             1.0,
             "#f0f921"
            ]
           ],
           "sequentialminus": [
            [
             0.0,
             "#0d0887"
            ],
            [
             0.1111111111111111,
             "#46039f"
            ],
            [
             0.2222222222222222,
             "#7201a8"
            ],
            [
             0.3333333333333333,
             "#9c179e"
            ],
            [
             0.4444444444444444,
             "#bd3786"
            ],
            [
             0.5555555555555556,
             "#d8576b"
            ],
            [
             0.6666666666666666,
             "#ed7953"
            ],
            [
             0.7777777777777778,
             "#fb9f3a"
            ],
            [
             0.8888888888888888,
             "#fdca26"
            ],
            [
             1.0,
             "#f0f921"
            ]
           ],
           "diverging": [
            [
             0,
             "#8e0152"
            ],
            [
             0.1,
             "#c51b7d"
            ],
            [
             0.2,
             "#de77ae"
            ],
            [
             0.3,
             "#f1b6da"
            ],
            [
             0.4,
             "#fde0ef"
            ],
            [
             0.5,
             "#f7f7f7"
            ],
            [
             0.6,
             "#e6f5d0"
            ],
            [
             0.7,
             "#b8e186"
            ],
            [
             0.8,
             "#7fbc41"
            ],
            [
             0.9,
             "#4d9221"
            ],
            [
             1,
             "#276419"
            ]
           ]
          },
          "xaxis": {
           "gridcolor": "white",
           "linecolor": "white",
           "ticks": "",
           "title": {
            "standoff": 15
           },
           "zerolinecolor": "white",
           "automargin": true,
           "zerolinewidth": 2
          },
          "yaxis": {
           "gridcolor": "white",
           "linecolor": "white",
           "ticks": "",
           "title": {
            "standoff": 15
           },
           "zerolinecolor": "white",
           "automargin": true,
           "zerolinewidth": 2
          },
          "scene": {
           "xaxis": {
            "backgroundcolor": "#E5ECF6",
            "gridcolor": "white",
            "linecolor": "white",
            "showbackground": true,
            "ticks": "",
            "zerolinecolor": "white",
            "gridwidth": 2
           },
           "yaxis": {
            "backgroundcolor": "#E5ECF6",
            "gridcolor": "white",
            "linecolor": "white",
            "showbackground": true,
            "ticks": "",
            "zerolinecolor": "white",
            "gridwidth": 2
           },
           "zaxis": {
            "backgroundcolor": "#E5ECF6",
            "gridcolor": "white",
            "linecolor": "white",
            "showbackground": true,
            "ticks": "",
            "zerolinecolor": "white",
            "gridwidth": 2
           }
          },
          "shapedefaults": {
           "line": {
            "color": "#2a3f5f"
           }
          },
          "annotationdefaults": {
           "arrowcolor": "#2a3f5f",
           "arrowhead": 0,
           "arrowwidth": 1
          },
          "geo": {
           "bgcolor": "white",
           "landcolor": "#E5ECF6",
           "subunitcolor": "white",
           "showland": true,
           "showlakes": true,
           "lakecolor": "white"
          },
          "title": {
           "x": 0.05
          },
          "mapbox": {
           "style": "light"
          }
         }
        },
        "mapbox": {
         "domain": {
          "x": [
           0.0,
           1.0
          ],
          "y": [
           0.0,
           1.0
          ]
         },
         "center": {
          "lat": 37.0902,
          "lon": -95.7129
         },
         "zoom": 3,
         "style": "open-street-map"
        },
        "legend": {
         "tracegroupgap": 0
        },
        "title": {
         "text": "Filtered Pharmacies in the US"
        },
        "margin": {
         "r": 0,
         "t": 50,
         "l": 50,
         "b": 50
        },
        "autosize": true,
        "height": 800
       },
       "config": {
        "plotlyServerURL": "https://plot.ly"
       }
      },
      "text/html": [
       "<div>                            <div id=\"94484ac4-5f8b-404b-a549-37fb9732104d\" class=\"plotly-graph-div\" style=\"height:800px; width:100%;\"></div>            <script type=\"text/javascript\">                require([\"plotly\"], function(Plotly) {                    window.PLOTLYENV=window.PLOTLYENV || {};                                    if (document.getElementById(\"94484ac4-5f8b-404b-a549-37fb9732104d\")) {                    Plotly.newPlot(                        \"94484ac4-5f8b-404b-a549-37fb9732104d\",                        [{\"hovertemplate\":\"\\u003cb\\u003e%{hovertext}\\u003c\\u002fb\\u003e\\u003cbr\\u003e\\u003cbr\\u003eLAT=%{lat}\\u003cbr\\u003eLNG=%{lon}\\u003cextra\\u003e\\u003c\\u002fextra\\u003e\",\"hovertext\":[\"A & O SPECIALTY PHARMACY\",\"ACCREDO HEALTH GROUP INC\",\"ACCREDO HEALTH GROUP INC\",\"ADVANCE CARE PHARMACY\",\"ALERACARE PHARMACY\",\"ALERACARE PHARMACY CALIFORNIA\",\"ALLIANCERX WALGREENS PHARMACY #15443\",\"ALLIANCERX WALGREENS PHARMACY #16287\",\"AMBROSIA HEALTHCARE INC\",\"AMERIPHARMA\",\"BCP VETERINARY PHARMACY\",\"BIOMED CALIFORNIA INC\",\"BOOTHWYN PHARMACY LLC\",\"BROOKS HEALTH CARE\",\"CALIFORNIA SPECIALTY PHARMACY LLC\",\"CAREMARK ILLINOIS SPECIALTY PHARMACY, LLC DBA CVS\\u002fSPECIALTY OR\",\"CD PHARMACY LLC DBA RED ROCK PHARMACY\",\"CENTRAL ADMIXTURE PHARMACY SERVICES INC\",\"CENTRAL ADMIXTURE PHARMACY SERVICES INC\",\"CHEMIQUE PHARMACEUTICALS INC\",\"CHEMIQUE PHARMACEUTICALS INC\",\"CHILDRENS VILLAGE PHARMACY\",\"CITRUS PHARMACY\",\"CLINISHARE PHARMACY\",\"COAST QUALITY PHARMACY LLC D\\u002fB\\u002fA ANAZAOHEALTH\",\"CONSONUS PHARMACY SERVICES CA NORTH LLC\",\"CORAM HEALTHCARE CORPORATION OF NEVADA DBA CORAM CVS\\u002fSPECIALTY IN\",\"COVETRUS NORTH AMERICA, LLC\",\"CRESCENT HEALTHCARE INC DBA CRESCENT HEALTHCARE\",\"CRESCENT HEALTHCARE INC DBA CRESCENT HEALTHCARE\",\"CRESCENT HEALTHCARE INC DBA CRESCENT HEALTHCARE\",\"CRESCENT HEALTHCARE INC DBA CRESCENT HEALTHCARE\",\"CURE STAT RX\",\"CVS\\u002fSPECIALTY OR CARELONRX SPECIALTY PHARMACY\",\"DEL'S PHARMACY I\",\"DIAMOND DRUGS INC\",\"DWAYNE'S FRIENDLY PHARMACY\",\"DYNAMIC RX LABS LLC\",\"ELEVARE SPECIALTY SERVICES\",\"ENCINO PHARMACY\",\"ENOVEX PHARMACY\",\"FIRESIDE PHARMACY\",\"FIRST CALL PHARMACY LLC\",\"HOPEWELL PHARMACY\",\"HYGEIA LTC PHARMACY\",\"IMPRIMISRX\",\"INFUSERVE AMERICA INC\",\"INNOVATIVE COMPOUNDING PHARMACY\",\"ISORX RADIOPHARMACY\",\"JUBILANT DRAXIMAGE INC DBA JUBILANT RADIOPHARMA\",\"JUBILANT DRAXIMAGE INC DBA JUBILANT RADIOPHARMA\",\"JUBILANT DRAXIMAGE INC DBA JUBILANT RADIOPHARMA\",\"LA JOLLA DISCOUNT PHARMACY\",\"LEE SILSBY COMPOUNDING PHARMACY\",\"LYNNFIELD DRUG INC DBA FREEDOM FERTILITY PHARMACY\",\"MARINER ADVANCED PHARMACY CORP\",\"MEDSPECIALTIES COMPOUNDING PHARMACY\",\"NORTHBAY SPECIALTY PHARMACY\",\"O'BRIEN PHARMACY\",\"OSRX INC\",\"OWL WESTERN PHARMACY\",\"PACIFIC COMPOUNDING PHARMACY AND CONSULTATIONS INC\",\"PACIFIC WEST PHARMACY INC\",\"PHARMA101\",\"PHARMALABS LLC\",\"PHARMALOGIC LOS ANGELES\",\"PHARMARX PHARMACEUTICAL INC\",\"PHARMASCRIPT INC\",\"PHARMATRON A PHARMACY COMPANY\",\"PHARMERICA\",\"PHARMERICA\",\"PHARMERICA\",\"PHARMERICA\",\"PHARMERICA\",\"PHARMERICA\",\"PHARMERICA\",\"PHARMERICA\",\"PHAST PHARMACY\",\"PHILLIPS RANCH PHARMACY\",\"RANCHO PARK PHARMACY\",\"RANCHO SANTA FE PHARMACY\",\"RLS USA INC\",\"RLS USA INC\",\"RLS USA INC\",\"RLS USA INC\",\"RLS USA INC\",\"RX UNLIMITED PHARMACY\",\"SKILLED NURSING PHARMACY\",\"SKILLED NURSING PHARMACY\",\"SKILLED NURSING PHARMACY\",\"SOFIE CO\",\"STAR PHARMACY\",\"STRIVE PHARMACY\",\"THE MEDICINE SHOPPE\",\"TMC ACQUISITION LLC DBA TAILOR MADE COMPOUNDING\",\"TORMED PHARMACY\",\"UNIVERSITY COMPOUNDING PHARMACY\",\"VALOR COMPOUNDING PHARMACY\",\"VERDUGO PLAZA PHARMACY ALHAMBRA\",\"VLS PHARMACY INC\",\"WELLNESS CENTER PHARMACY INC DBA DESIGNER DRUGS\",\"WELLSCRIPT\",\"WOMENS INTERNATIONAL PHARMACY, INC. DBA BELMAR PHARMACY\",\"You have reached the end of your results\"],\"lat\":[36.636344,40.674947,28.489898,33.102005,33.62592,34.195685,null,null,33.765401,33.788145,29.749778,33.956526,39.87028,36.822349,34.00784,42.067166,37.044186,37.501368,33.933565,34.063516,33.972782,33.805401,34.011953,34.224196,28.009826,38.408571,36.061718,33.635109,33.933565,37.605905,32.999818,33.970847,32.899592,39.173116,34.10097,40.628381,37.492115,47.47202,34.17051,34.160236,34.168366,33.708012,29.991693,null,34.052922,null,27.87506,38.666597,37.916555,34.051177,37.807215,33.994523,32.856347,41.469494,null,37.576948,33.896339,38.333133,39.031176,46.856398,34.097345,38.002125,38.791075,35.23575,27.87506,34.020221,34.224196,41.972872,36.825296,36.793661,32.908449,33.818477,37.603155,34.283668,38.635653,39.898839,33.970847,35.384336,32.852358,34.037251,33.020908,38.605407,32.806476,37.412402,33.879768,34.195685,34.237912,37.605905,33.999005,32.88607,37.018419,34.195685,33.353505,33.882579,37.874952,33.807882,32.724103,37.866536,34.074736,40.641221,35.030496,40.601778,33.584969,null],\"legendgroup\":\"\",\"lon\":[-121.623978,-80.106364,-81.290154,-117.080419,-112.002503,-118.490752,null,null,-116.334205,-117.87655,-95.345885,-118.358654,-75.712913,-119.760243,-118.030271,-87.934719,-113.577299,-121.956753,-118.062611,-117.790379,-118.022066,-118.187701,-117.159699,-118.632394,-82.547789,-122.022775,-115.058058,-112.093768,-118.062611,-122.126873,-117.071808,-117.32512,-117.201203,-76.842028,-117.57882,-79.150041,-118.390408,-122.2219,-118.289463,-118.515472,-118.267771,-116.403627,-90.258179,null,-118.143465,null,-82.648609,-121.141635,-122.341233,-117.248563,-122.301497,-118.149952,-117.250058,-81.512442,null,-122.316903,-117.796416,-121.920151,-94.630762,-114.014338,-117.906736,-121.324979,-121.234854,-120.615973,-82.648609,-118.286035,-118.632394,-87.662604,-119.68019,-119.761461,-117.14138,-118.038307,-122.018638,-119.223196,-121.518416,-86.05872,-117.32512,-119.020562,-116.987842,-118.423573,-117.190346,-121.447593,-117.168879,-122.015605,-117.89634,-118.490752,-118.482306,-122.126873,-117.972146,-117.085982,-121.554249,-118.490752,-111.811432,-117.442303,-84.563367,-118.347957,-117.170912,-122.257996,-118.145959,-74.016862,-85.14578,-122.454973,-112.304916,null],\"marker\":{\"color\":\"#636efa\"},\"mode\":\"markers\",\"name\":\"\",\"showlegend\":false,\"subplot\":\"mapbox\",\"type\":\"scattermapbox\"}],                        {\"template\":{\"data\":{\"histogram2dcontour\":[{\"type\":\"histogram2dcontour\",\"colorbar\":{\"outlinewidth\":0,\"ticks\":\"\"},\"colorscale\":[[0.0,\"#0d0887\"],[0.1111111111111111,\"#46039f\"],[0.2222222222222222,\"#7201a8\"],[0.3333333333333333,\"#9c179e\"],[0.4444444444444444,\"#bd3786\"],[0.5555555555555556,\"#d8576b\"],[0.6666666666666666,\"#ed7953\"],[0.7777777777777778,\"#fb9f3a\"],[0.8888888888888888,\"#fdca26\"],[1.0,\"#f0f921\"]]}],\"choropleth\":[{\"type\":\"choropleth\",\"colorbar\":{\"outlinewidth\":0,\"ticks\":\"\"}}],\"histogram2d\":[{\"type\":\"histogram2d\",\"colorbar\":{\"outlinewidth\":0,\"ticks\":\"\"},\"colorscale\":[[0.0,\"#0d0887\"],[0.1111111111111111,\"#46039f\"],[0.2222222222222222,\"#7201a8\"],[0.3333333333333333,\"#9c179e\"],[0.4444444444444444,\"#bd3786\"],[0.5555555555555556,\"#d8576b\"],[0.6666666666666666,\"#ed7953\"],[0.7777777777777778,\"#fb9f3a\"],[0.8888888888888888,\"#fdca26\"],[1.0,\"#f0f921\"]]}],\"heatmap\":[{\"type\":\"heatmap\",\"colorbar\":{\"outlinewidth\":0,\"ticks\":\"\"},\"colorscale\":[[0.0,\"#0d0887\"],[0.1111111111111111,\"#46039f\"],[0.2222222222222222,\"#7201a8\"],[0.3333333333333333,\"#9c179e\"],[0.4444444444444444,\"#bd3786\"],[0.5555555555555556,\"#d8576b\"],[0.6666666666666666,\"#ed7953\"],[0.7777777777777778,\"#fb9f3a\"],[0.8888888888888888,\"#fdca26\"],[1.0,\"#f0f921\"]]}],\"heatmapgl\":[{\"type\":\"heatmapgl\",\"colorbar\":{\"outlinewidth\":0,\"ticks\":\"\"},\"colorscale\":[[0.0,\"#0d0887\"],[0.1111111111111111,\"#46039f\"],[0.2222222222222222,\"#7201a8\"],[0.3333333333333333,\"#9c179e\"],[0.4444444444444444,\"#bd3786\"],[0.5555555555555556,\"#d8576b\"],[0.6666666666666666,\"#ed7953\"],[0.7777777777777778,\"#fb9f3a\"],[0.8888888888888888,\"#fdca26\"],[1.0,\"#f0f921\"]]}],\"contourcarpet\":[{\"type\":\"contourcarpet\",\"colorbar\":{\"outlinewidth\":0,\"ticks\":\"\"}}],\"contour\":[{\"type\":\"contour\",\"colorbar\":{\"outlinewidth\":0,\"ticks\":\"\"},\"colorscale\":[[0.0,\"#0d0887\"],[0.1111111111111111,\"#46039f\"],[0.2222222222222222,\"#7201a8\"],[0.3333333333333333,\"#9c179e\"],[0.4444444444444444,\"#bd3786\"],[0.5555555555555556,\"#d8576b\"],[0.6666666666666666,\"#ed7953\"],[0.7777777777777778,\"#fb9f3a\"],[0.8888888888888888,\"#fdca26\"],[1.0,\"#f0f921\"]]}],\"surface\":[{\"type\":\"surface\",\"colorbar\":{\"outlinewidth\":0,\"ticks\":\"\"},\"colorscale\":[[0.0,\"#0d0887\"],[0.1111111111111111,\"#46039f\"],[0.2222222222222222,\"#7201a8\"],[0.3333333333333333,\"#9c179e\"],[0.4444444444444444,\"#bd3786\"],[0.5555555555555556,\"#d8576b\"],[0.6666666666666666,\"#ed7953\"],[0.7777777777777778,\"#fb9f3a\"],[0.8888888888888888,\"#fdca26\"],[1.0,\"#f0f921\"]]}],\"mesh3d\":[{\"type\":\"mesh3d\",\"colorbar\":{\"outlinewidth\":0,\"ticks\":\"\"}}],\"scatter\":[{\"fillpattern\":{\"fillmode\":\"overlay\",\"size\":10,\"solidity\":0.2},\"type\":\"scatter\"}],\"parcoords\":[{\"type\":\"parcoords\",\"line\":{\"colorbar\":{\"outlinewidth\":0,\"ticks\":\"\"}}}],\"scatterpolargl\":[{\"type\":\"scatterpolargl\",\"marker\":{\"colorbar\":{\"outlinewidth\":0,\"ticks\":\"\"}}}],\"bar\":[{\"error_x\":{\"color\":\"#2a3f5f\"},\"error_y\":{\"color\":\"#2a3f5f\"},\"marker\":{\"line\":{\"color\":\"#E5ECF6\",\"width\":0.5},\"pattern\":{\"fillmode\":\"overlay\",\"size\":10,\"solidity\":0.2}},\"type\":\"bar\"}],\"scattergeo\":[{\"type\":\"scattergeo\",\"marker\":{\"colorbar\":{\"outlinewidth\":0,\"ticks\":\"\"}}}],\"scatterpolar\":[{\"type\":\"scatterpolar\",\"marker\":{\"colorbar\":{\"outlinewidth\":0,\"ticks\":\"\"}}}],\"histogram\":[{\"marker\":{\"pattern\":{\"fillmode\":\"overlay\",\"size\":10,\"solidity\":0.2}},\"type\":\"histogram\"}],\"scattergl\":[{\"type\":\"scattergl\",\"marker\":{\"colorbar\":{\"outlinewidth\":0,\"ticks\":\"\"}}}],\"scatter3d\":[{\"type\":\"scatter3d\",\"line\":{\"colorbar\":{\"outlinewidth\":0,\"ticks\":\"\"}},\"marker\":{\"colorbar\":{\"outlinewidth\":0,\"ticks\":\"\"}}}],\"scattermapbox\":[{\"type\":\"scattermapbox\",\"marker\":{\"colorbar\":{\"outlinewidth\":0,\"ticks\":\"\"}}}],\"scatterternary\":[{\"type\":\"scatterternary\",\"marker\":{\"colorbar\":{\"outlinewidth\":0,\"ticks\":\"\"}}}],\"scattercarpet\":[{\"type\":\"scattercarpet\",\"marker\":{\"colorbar\":{\"outlinewidth\":0,\"ticks\":\"\"}}}],\"carpet\":[{\"aaxis\":{\"endlinecolor\":\"#2a3f5f\",\"gridcolor\":\"white\",\"linecolor\":\"white\",\"minorgridcolor\":\"white\",\"startlinecolor\":\"#2a3f5f\"},\"baxis\":{\"endlinecolor\":\"#2a3f5f\",\"gridcolor\":\"white\",\"linecolor\":\"white\",\"minorgridcolor\":\"white\",\"startlinecolor\":\"#2a3f5f\"},\"type\":\"carpet\"}],\"table\":[{\"cells\":{\"fill\":{\"color\":\"#EBF0F8\"},\"line\":{\"color\":\"white\"}},\"header\":{\"fill\":{\"color\":\"#C8D4E3\"},\"line\":{\"color\":\"white\"}},\"type\":\"table\"}],\"barpolar\":[{\"marker\":{\"line\":{\"color\":\"#E5ECF6\",\"width\":0.5},\"pattern\":{\"fillmode\":\"overlay\",\"size\":10,\"solidity\":0.2}},\"type\":\"barpolar\"}],\"pie\":[{\"automargin\":true,\"type\":\"pie\"}]},\"layout\":{\"autotypenumbers\":\"strict\",\"colorway\":[\"#636efa\",\"#EF553B\",\"#00cc96\",\"#ab63fa\",\"#FFA15A\",\"#19d3f3\",\"#FF6692\",\"#B6E880\",\"#FF97FF\",\"#FECB52\"],\"font\":{\"color\":\"#2a3f5f\"},\"hovermode\":\"closest\",\"hoverlabel\":{\"align\":\"left\"},\"paper_bgcolor\":\"white\",\"plot_bgcolor\":\"#E5ECF6\",\"polar\":{\"bgcolor\":\"#E5ECF6\",\"angularaxis\":{\"gridcolor\":\"white\",\"linecolor\":\"white\",\"ticks\":\"\"},\"radialaxis\":{\"gridcolor\":\"white\",\"linecolor\":\"white\",\"ticks\":\"\"}},\"ternary\":{\"bgcolor\":\"#E5ECF6\",\"aaxis\":{\"gridcolor\":\"white\",\"linecolor\":\"white\",\"ticks\":\"\"},\"baxis\":{\"gridcolor\":\"white\",\"linecolor\":\"white\",\"ticks\":\"\"},\"caxis\":{\"gridcolor\":\"white\",\"linecolor\":\"white\",\"ticks\":\"\"}},\"coloraxis\":{\"colorbar\":{\"outlinewidth\":0,\"ticks\":\"\"}},\"colorscale\":{\"sequential\":[[0.0,\"#0d0887\"],[0.1111111111111111,\"#46039f\"],[0.2222222222222222,\"#7201a8\"],[0.3333333333333333,\"#9c179e\"],[0.4444444444444444,\"#bd3786\"],[0.5555555555555556,\"#d8576b\"],[0.6666666666666666,\"#ed7953\"],[0.7777777777777778,\"#fb9f3a\"],[0.8888888888888888,\"#fdca26\"],[1.0,\"#f0f921\"]],\"sequentialminus\":[[0.0,\"#0d0887\"],[0.1111111111111111,\"#46039f\"],[0.2222222222222222,\"#7201a8\"],[0.3333333333333333,\"#9c179e\"],[0.4444444444444444,\"#bd3786\"],[0.5555555555555556,\"#d8576b\"],[0.6666666666666666,\"#ed7953\"],[0.7777777777777778,\"#fb9f3a\"],[0.8888888888888888,\"#fdca26\"],[1.0,\"#f0f921\"]],\"diverging\":[[0,\"#8e0152\"],[0.1,\"#c51b7d\"],[0.2,\"#de77ae\"],[0.3,\"#f1b6da\"],[0.4,\"#fde0ef\"],[0.5,\"#f7f7f7\"],[0.6,\"#e6f5d0\"],[0.7,\"#b8e186\"],[0.8,\"#7fbc41\"],[0.9,\"#4d9221\"],[1,\"#276419\"]]},\"xaxis\":{\"gridcolor\":\"white\",\"linecolor\":\"white\",\"ticks\":\"\",\"title\":{\"standoff\":15},\"zerolinecolor\":\"white\",\"automargin\":true,\"zerolinewidth\":2},\"yaxis\":{\"gridcolor\":\"white\",\"linecolor\":\"white\",\"ticks\":\"\",\"title\":{\"standoff\":15},\"zerolinecolor\":\"white\",\"automargin\":true,\"zerolinewidth\":2},\"scene\":{\"xaxis\":{\"backgroundcolor\":\"#E5ECF6\",\"gridcolor\":\"white\",\"linecolor\":\"white\",\"showbackground\":true,\"ticks\":\"\",\"zerolinecolor\":\"white\",\"gridwidth\":2},\"yaxis\":{\"backgroundcolor\":\"#E5ECF6\",\"gridcolor\":\"white\",\"linecolor\":\"white\",\"showbackground\":true,\"ticks\":\"\",\"zerolinecolor\":\"white\",\"gridwidth\":2},\"zaxis\":{\"backgroundcolor\":\"#E5ECF6\",\"gridcolor\":\"white\",\"linecolor\":\"white\",\"showbackground\":true,\"ticks\":\"\",\"zerolinecolor\":\"white\",\"gridwidth\":2}},\"shapedefaults\":{\"line\":{\"color\":\"#2a3f5f\"}},\"annotationdefaults\":{\"arrowcolor\":\"#2a3f5f\",\"arrowhead\":0,\"arrowwidth\":1},\"geo\":{\"bgcolor\":\"white\",\"landcolor\":\"#E5ECF6\",\"subunitcolor\":\"white\",\"showland\":true,\"showlakes\":true,\"lakecolor\":\"white\"},\"title\":{\"x\":0.05},\"mapbox\":{\"style\":\"light\"}}},\"mapbox\":{\"domain\":{\"x\":[0.0,1.0],\"y\":[0.0,1.0]},\"center\":{\"lat\":37.0902,\"lon\":-95.7129},\"zoom\":3,\"style\":\"open-street-map\"},\"legend\":{\"tracegroupgap\":0},\"title\":{\"text\":\"Filtered Pharmacies in the US\"},\"margin\":{\"r\":0,\"t\":50,\"l\":50,\"b\":50},\"autosize\":true,\"height\":800},                        {\"responsive\": true}                    ).then(function(){\n",
       "                            \n",
       "var gd = document.getElementById('94484ac4-5f8b-404b-a549-37fb9732104d');\n",
       "var x = new MutationObserver(function (mutations, observer) {{\n",
       "        var display = window.getComputedStyle(gd).display;\n",
       "        if (!display || display === 'none') {{\n",
       "            console.log([gd, 'removed!']);\n",
       "            Plotly.purge(gd);\n",
       "            observer.disconnect();\n",
       "        }}\n",
       "}});\n",
       "\n",
       "// Listen for the removal of the full notebook cells\n",
       "var notebookContainer = gd.closest('#notebook-container');\n",
       "if (notebookContainer) {{\n",
       "    x.observe(notebookContainer, {childList: true});\n",
       "}}\n",
       "\n",
       "// Listen for the clearing of the current output cell\n",
       "var outputEl = gd.closest('.output');\n",
       "if (outputEl) {{\n",
       "    x.observe(outputEl, {childList: true});\n",
       "}}\n",
       "\n",
       "                        })                };                });            </script>        </div>"
      ]
     },
     "metadata": {},
     "output_type": "display_data"
    }
   ],
   "execution_count": 136
  },
  {
   "metadata": {},
   "cell_type": "markdown",
   "source": "### What percentage of licensed pharmacies are 503B Outsource Pharmacies and under FDA oversight? ",
   "id": "a8257af6da52f82f"
  },
  {
   "metadata": {},
   "cell_type": "markdown",
   "source": "### When will licenses expire per specialty",
   "id": "99f602e4b1d18bc6"
  },
  {
   "metadata": {},
   "cell_type": "markdown",
   "source": "",
   "id": "3614f40cd4a4f444"
  }
 ],
 "metadata": {
  "kernelspec": {
   "display_name": "Python 3",
   "language": "python",
   "name": "python3"
  },
  "language_info": {
   "codemirror_mode": {
    "name": "ipython",
    "version": 2
   },
   "file_extension": ".py",
   "mimetype": "text/x-python",
   "name": "python",
   "nbconvert_exporter": "python",
   "pygments_lexer": "ipython2",
   "version": "2.7.6"
  }
 },
 "nbformat": 4,
 "nbformat_minor": 5
}
