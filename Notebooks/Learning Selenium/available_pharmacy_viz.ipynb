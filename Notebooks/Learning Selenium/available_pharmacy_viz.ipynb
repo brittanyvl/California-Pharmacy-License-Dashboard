{
 "cells": [
  {
   "metadata": {},
   "cell_type": "markdown",
   "source": "# Exploring Available Pharmacy Data & Viz Options",
   "id": "caeed05fed2bbdc6"
  },
  {
   "metadata": {},
   "cell_type": "markdown",
   "source": "## Notebook Configuration ",
   "id": "d509ca8e3acf6f9d"
  },
  {
   "cell_type": "code",
   "id": "initial_id",
   "metadata": {
    "collapsed": true,
    "ExecuteTime": {
     "end_time": "2024-12-15T18:53:45.995333Z",
     "start_time": "2024-12-15T18:53:45.990670Z"
    }
   },
   "source": [
    "import pandas as pd\n",
    "import plotly.express as px\n",
    "\n",
    "# Set pandas to display more rows/columns for wider dataframes\n",
    "pd.set_option('display.max_columns', None)  # Show all columns\n",
    "pd.set_option('display.max_rows', 100)     # Adjust rows\n",
    "pd.set_option('display.width', 1000)       # Increase width for better visibility"
   ],
   "execution_count": 119,
   "outputs": []
  },
  {
   "metadata": {},
   "cell_type": "markdown",
   "source": "## Load Pharmacy Data",
   "id": "e153a4565ea0c4e0"
  },
  {
   "metadata": {
    "ExecuteTime": {
     "end_time": "2024-12-15T18:53:46.081985Z",
     "start_time": "2024-12-15T18:53:46.062754Z"
    }
   },
   "cell_type": "code",
   "source": [
    "all_pharmacies = pd.read_csv('all_pharmacies.csv')\n",
    "all_pharmacies"
   ],
   "id": "699f798189e2e14f",
   "execution_count": 120,
   "outputs": []
  },
  {
   "metadata": {
    "ExecuteTime": {
     "end_time": "2024-12-15T18:53:46.126655Z",
     "start_time": "2024-12-15T18:53:46.088991Z"
    }
   },
   "cell_type": "code",
   "source": [
    "available_pharmacies = pd.read_csv('available_pharmacies.csv')\n",
    "available_pharmacies"
   ],
   "id": "387f51abf4e0aa66",
   "execution_count": 121,
   "outputs": []
  },
  {
   "metadata": {},
   "cell_type": "markdown",
   "source": "## Exploring All Pharmacy Table",
   "id": "6745571248db952e"
  },
  {
   "metadata": {
    "ExecuteTime": {
     "end_time": "2024-12-15T18:53:46.136706Z",
     "start_time": "2024-12-15T18:53:46.128662Z"
    }
   },
   "cell_type": "code",
   "source": "all_pharmacies.info()",
   "id": "937246946c5080ef",
   "execution_count": 122,
   "outputs": []
  },
  {
   "metadata": {},
   "cell_type": "markdown",
   "source": "### WHAT type of Sterile Compounding Licenses have been issued by the California State Board of Pharmacy? ",
   "id": "9ca629c422a32396"
  },
  {
   "metadata": {
    "ExecuteTime": {
     "end_time": "2024-12-15T18:53:46.241072Z",
     "start_time": "2024-12-15T18:53:46.157862Z"
    }
   },
   "cell_type": "code",
   "source": [
    "# Aggregate the counts of each 'License Type'\n",
    "license_type_counts = all_pharmacies['License Type'].value_counts().reset_index()\n",
    "license_type_counts.columns = ['License Type', 'Count']\n",
    "\n",
    "# Create the donut chart for License Type\n",
    "fig = px.pie(\n",
    "    license_type_counts,\n",
    "    names='License Type',\n",
    "    values='Count',\n",
    "    title=\"Distribution of License Types\",\n",
    "    hole=0.4,  # This makes it a donut chart\n",
    ")\n",
    "\n",
    "# Update the legend labels for each trace to be more descriptive\n",
    "fig.for_each_trace(lambda trace: trace.update(\n",
    "    name=\"License Type A\" if trace.name == \"Type A\" else\n",
    "    \"License Type B\" if trace.name == \"Type B\" else\n",
    "    \"License Type C\" if trace.name == \"Type C\" else\n",
    "    trace.name  # Keep original name if it doesn't match any condition\n",
    "))\n",
    "\n",
    "# Customize the layout for title and legend\n",
    "fig.update_layout(\n",
    "    title={\n",
    "        'text': \"Distribution of License Types\",\n",
    "        'y': 0.95,  # Position the title just below the top of the chart\n",
    "        'x': 0.5,  # Horizontally center the title\n",
    "        'xanchor': 'center',\n",
    "        'yanchor': 'top'  # Align title's top edge with y position\n",
    "    },\n",
    "    legend=dict(\n",
    "        title=\"License Type\",  # Add a legend title\n",
    "        orientation=\"v\",  # Horizontal legend layout\n",
    "        yanchor=\"bottom\",\n",
    "        y=0.5,  # Place legend below the chart\n",
    "        xanchor=\"right\",\n",
    "        x=.25\n",
    "    )\n",
    ")\n",
    "\n",
    "# Show the plot\n",
    "fig.show()\n"
   ],
   "id": "2b828eddce92166d",
   "execution_count": 123,
   "outputs": []
  },
  {
   "metadata": {
    "ExecuteTime": {
     "end_time": "2024-12-15T18:53:46.331514Z",
     "start_time": "2024-12-15T18:53:46.242114Z"
    }
   },
   "cell_type": "code",
   "source": [
    "# Step 1: Aggregate the counts of each 'License Type'\n",
    "license_type_counts = all_pharmacies['License Type'].value_counts().reset_index()\n",
    "license_type_counts.columns = ['License Type', 'Count']\n",
    "\n",
    "# Step 2: Create the horizontal bar chart\n",
    "fig = px.bar(\n",
    "    license_type_counts,\n",
    "    x='Count',  # Bar length will be determined by the 'Count'\n",
    "    y='License Type',  # Each bar corresponds to a 'License Type'\n",
    "    orientation='h',  # Make the bars horizontal\n",
    "    title=\"Distribution of License Types\",\n",
    ")\n",
    "\n",
    "# Step 3: Customize the layout for title and axes\n",
    "fig.update_layout(\n",
    "    title={  # Title customization\n",
    "        'text': \"Distribution of License Types\",\n",
    "        'y': 0.95,  # Position the title just below the top of the chart\n",
    "        'x': 0.5,  # Horizontally center the title\n",
    "        'xanchor': 'center',\n",
    "        'yanchor': 'top'  # Align title's top edge with y position\n",
    "    },\n",
    "    xaxis_title=\"Count\",  # Label for the x-axis\n",
    "    yaxis_title=\"License Type\",  # Label for the y-axis\n",
    "    yaxis=dict(tickmode='array'),  # Ensure all 'License Type' labels appear on the y-axis\n",
    ")\n",
    "\n",
    "# Step 4: Show the plot\n",
    "fig.show()"
   ],
   "id": "65ce155f132e1975",
   "execution_count": 124,
   "outputs": []
  },
  {
   "metadata": {},
   "cell_type": "markdown",
   "source": "### WHEN are the currently licenses expiring? ",
   "id": "5dd51cb7b0367ea1"
  },
  {
   "metadata": {
    "ExecuteTime": {
     "end_time": "2024-12-15T18:53:46.638987Z",
     "start_time": "2024-12-15T18:53:46.332555Z"
    }
   },
   "cell_type": "code",
   "source": [
    "# Step 1: Convert 'Expiration Date' to datetime (if not already done)\n",
    "all_pharmacies['Expiration Date'] = pd.to_datetime(all_pharmacies['Expiration Date'], errors='coerce')\n",
    "\n",
    "# Step 2: Group the data by month and year, and convert to string\n",
    "expiration_monthly_counts = all_pharmacies.groupby(all_pharmacies['Expiration Date'].dt.to_period('M')).size().reset_index(name='Count')\n",
    "\n",
    "# Convert Period to string for Plotly compatibility\n",
    "expiration_monthly_counts['Expiration Date'] = expiration_monthly_counts['Expiration Date'].astype(str)\n",
    "\n",
    "# Step 3: Plot the time series as a line chart with markers\n",
    "fig = px.line(\n",
    "    expiration_monthly_counts,\n",
    "    x='Expiration Date',\n",
    "    y='Count',\n",
    "    title=\"Pharmacies Expiring Over Time\",\n",
    "    labels={'Expiration Date': 'Expiration Date', 'Count': 'Number of Pharmacies'},\n",
    "    markers=True\n",
    ")\n",
    "\n",
    "# Add text labels for each marker to display the count\n",
    "fig.update_traces(\n",
    "    text=expiration_monthly_counts['Count'],   # Add the count as text\n",
    "    textposition='top center',  # Position the text above each marker\n",
    ")\n",
    "\n",
    "# Show the plot\n",
    "fig.show()"
   ],
   "id": "205d76d937076bdd",
   "execution_count": 125,
   "outputs": []
  },
  {
   "metadata": {},
   "cell_type": "markdown",
   "source": "### WHO is being issued Sterile Compounding Licenses by the California State Board of Pharmacy? ",
   "id": "62891174e69cbb0d"
  },
  {
   "metadata": {
    "ExecuteTime": {
     "end_time": "2024-12-15T18:53:46.719747Z",
     "start_time": "2024-12-15T18:53:46.640503Z"
    }
   },
   "cell_type": "code",
   "source": [
    "import plotly.express as px\n",
    "\n",
    "# Step 1: Aggregate the counts of each 'Entity Type'\n",
    "entity_type_counts = all_pharmacies['Entity Type'].value_counts().reset_index()\n",
    "entity_type_counts.columns = ['Entity Type', 'Count']\n",
    "\n",
    "# Step 2: Create the donut chart for Entity Type\n",
    "fig = px.pie(\n",
    "    entity_type_counts,  # Use entity_type_counts, not license_type_counts\n",
    "    names='Entity Type',\n",
    "    values='Count',\n",
    "    title=\"Distribution of Entity Types\",\n",
    "    hole=0.4,  # This makes it a donut chart\n",
    ")\n",
    "\n",
    "# Step 3: Update the legend labels for each trace to be more descriptive\n",
    "fig.for_each_trace(lambda trace: trace.update(\n",
    "    name=\"Entity Type A\" if trace.name == \"Type A\" else\n",
    "    \"Entity Type B\" if trace.name == \"Type B\" else\n",
    "    \"Entity Type C\" if trace.name == \"Type C\" else\n",
    "    trace.name  # Keep original name if it doesn't match any condition\n",
    "))\n",
    "\n",
    "# Step 4: Customize the layout for title and legend\n",
    "fig.update_layout(\n",
    "    title={  # Title customization\n",
    "        'text': \"Distribution of Entity Types\",\n",
    "        'y': 0.95,  # Position the title just below the top of the chart\n",
    "        'x': 0.5,  # Horizontally center the title\n",
    "        'xanchor': 'center',\n",
    "        'yanchor': 'top'  # Align title's top edge with y position\n",
    "    },\n",
    "    legend=dict(\n",
    "        title=\"Entity Type\",  # Add a legend title\n",
    "        orientation=\"v\",  # Vertical legend layout\n",
    "        yanchor=\"bottom\",\n",
    "        y=0.5,  # Place legend below the chart\n",
    "        xanchor=\"right\",\n",
    "        x=.25\n",
    "    )\n",
    ")\n",
    "\n",
    "# Step 5: Show the plot\n",
    "fig.show()\n"
   ],
   "id": "1ccd9a0284d2e086",
   "execution_count": 126,
   "outputs": []
  },
  {
   "metadata": {
    "ExecuteTime": {
     "end_time": "2024-12-15T19:54:23.656774Z",
     "start_time": "2024-12-15T19:54:23.417221Z"
    }
   },
   "cell_type": "code",
   "source": [
    "import plotly.express as px\n",
    "\n",
    "# Step 1: Aggregate the counts of each 'Entity Type'\n",
    "entity_type_counts = all_pharmacies['Entity Type'].value_counts().reset_index()\n",
    "entity_type_counts.columns = ['Entity Type', 'Count']\n",
    "\n",
    "# Step 2: Create the horizontal bar chart\n",
    "fig = px.bar(\n",
    "    entity_type_counts,\n",
    "    x='Count',  # Use 'Count' for the x-axis (bar length)\n",
    "    y='Entity Type',  # Use 'Entity Type' for the y-axis\n",
    "    orientation='h',  # Make bars horizontal\n",
    "    title=\"What type of facilities hold sterile compounding licenses?\",\n",
    ")\n",
    "\n",
    "# Step 3: Customize the layout for title and axes\n",
    "fig.update_layout(\n",
    "    title={  # Title customization\n",
    "        'text': \"What type of facilities hold sterile compounding licenses?\",\n",
    "        'y': 0.95,  # Position the title just below the top of the chart\n",
    "        'x': 0.5,  # Horizontally center the title\n",
    "        'xanchor': 'center',\n",
    "        'yanchor': 'top'  # Align title's top edge with y position\n",
    "    },\n",
    "    xaxis_title=\"Count\",  # Label for the x-axis (Count of entities)\n",
    "    yaxis_title=\"Entity Type\",  # Label for the y-axis (Type of entity)\n",
    ")\n",
    "\n",
    "# Step 4: Show the plot\n",
    "fig.show()\n"
   ],
   "id": "1d71442a7e094fa3",
   "execution_count": 137,
   "outputs": []
  },
  {
   "metadata": {
    "ExecuteTime": {
     "end_time": "2024-12-15T18:53:46.838500Z",
     "start_time": "2024-12-15T18:53:46.814276Z"
    }
   },
   "cell_type": "code",
   "source": "all_pharmacies.head(50)",
   "id": "cc77c9579c21c7fb",
   "execution_count": 128,
   "outputs": []
  },
  {
   "metadata": {},
   "cell_type": "markdown",
   "source": "### WHERE are the licensed Sterile Compounding Pharmacies located within the US? ",
   "id": "50ad928cee437501"
  },
  {
   "metadata": {
    "ExecuteTime": {
     "end_time": "2024-12-15T18:53:46.966138Z",
     "start_time": "2024-12-15T18:53:46.839512Z"
    }
   },
   "cell_type": "code",
   "source": [
    "# Step 2: Create the map\n",
    "fig = px.scatter_mapbox(\n",
    "    all_pharmacies,\n",
    "    lat=\"LAT\",\n",
    "    lon=\"LNG\",\n",
    "    hover_name=\"Pharmacy Name\",  # Pharmacy name shown on hover\n",
    "    zoom=3,  # Adjust zoom level for a national view\n",
    "    center={\"lat\": 37.0902, \"lon\": -95.7129},  # Center on the US\n",
    "    mapbox_style=\"open-street-map\",  # Use a free map style\n",
    "    title=\"Pharmacies in the US\"\n",
    ")\n",
    "\n",
    "# Step 3: Update the figure layout for better aspect ratio\n",
    "fig.update_layout(\n",
    "    autosize=True,  # Automatically adjust to screen size\n",
    "    margin={\"r\":0,\"t\":0,\"l\":0,\"b\":0},  # Remove excessive margins\n",
    "    height=800  # Set a height to ensure the map is not squished\n",
    ")\n",
    "\n",
    "# Step 4: Show the plot\n",
    "fig.show()\n"
   ],
   "id": "2c0114bfb6b15ad7",
   "execution_count": 129,
   "outputs": []
  },
  {
   "metadata": {},
   "cell_type": "markdown",
   "source": "",
   "id": "bb550bc66e0fc82d"
  },
  {
   "metadata": {
    "ExecuteTime": {
     "end_time": "2024-12-15T18:53:47.090144Z",
     "start_time": "2024-12-15T18:53:46.968178Z"
    }
   },
   "cell_type": "code",
   "source": [
    "import plotly.express as px\n",
    "\n",
    "# Step 1: Ensure that the 'Entity Type' column is included and non-null\n",
    "# Step 2: Create the map and color the dots by 'Entity Type'\n",
    "fig = px.scatter_mapbox(\n",
    "    all_pharmacies,\n",
    "    lat=\"LAT\",\n",
    "    lon=\"LNG\",\n",
    "    hover_name=\"Pharmacy Name\",  # Pharmacy name shown on hover\n",
    "    color=\"Entity Type\",  # Color the dots by Entity Type\n",
    "    zoom=3,  # Adjust zoom level for a national view\n",
    "    center={\"lat\": 37.0902, \"lon\": -95.7129},  # Center on the US\n",
    "    mapbox_style=\"open-street-map\",  # Use a free map style\n",
    "    title=\"Pharmacies in the US\"\n",
    ")\n",
    "\n",
    "# Step 3: Update the figure layout for better aspect ratio\n",
    "fig.update_layout(\n",
    "    autosize=True,  # Automatically adjust to screen size\n",
    "    margin={\"r\":0,\"t\":0,\"l\":0,\"b\":0},  # Remove excessive margins\n",
    "    height=800  # Set a height to ensure the map is not squished\n",
    ")\n",
    "\n",
    "# Step 4: Show the plot\n",
    "fig.show()\n"
   ],
   "id": "9094068d9bceae86",
   "execution_count": 130,
   "outputs": []
  },
  {
   "metadata": {},
   "cell_type": "markdown",
   "source": [
    "# Exploring the Available Pharmacies\n",
    "\n",
    "An available pharmacy is any licensed Sterile Compounding Pharmacy that:\n",
    "\n",
    "- Is not a government facility\n",
    "- Is not a Hospital or Medical Center\n",
    "- Is not an Infusion Center or Infusion Service\n",
    "- Is not dedicated only to Veterinary Compounding\n"
   ],
   "id": "20f8f6065d840902"
  },
  {
   "metadata": {
    "ExecuteTime": {
     "end_time": "2024-12-15T18:53:47.177656Z",
     "start_time": "2024-12-15T18:53:47.162257Z"
    }
   },
   "cell_type": "code",
   "source": "available_pharmacies.info()",
   "id": "654216e20e1f5752",
   "execution_count": 131,
   "outputs": []
  },
  {
   "metadata": {
    "ExecuteTime": {
     "end_time": "2024-12-15T18:53:47.309990Z",
     "start_time": "2024-12-15T18:53:47.305382Z"
    }
   },
   "cell_type": "code",
   "source": "",
   "id": "dff9f4047df69da2",
   "execution_count": 131,
   "outputs": []
  },
  {
   "metadata": {},
   "cell_type": "markdown",
   "source": "### When will the available pharmacies licenses expire? ",
   "id": "4eff82e980cdfd6"
  },
  {
   "metadata": {
    "ExecuteTime": {
     "end_time": "2024-12-15T18:53:47.911792Z",
     "start_time": "2024-12-15T18:53:47.712422Z"
    }
   },
   "cell_type": "code",
   "source": [
    "# Step 1: Convert 'Expiration Date' to datetime (if not already done)\n",
    "available_pharmacies['Expiration Date'] = pd.to_datetime(available_pharmacies['Expiration Date'], errors='coerce')\n",
    "\n",
    "# Step 2: Group the data by month and year, and convert to string\n",
    "expiration_monthly_counts = available_pharmacies.groupby(available_pharmacies['Expiration Date'].dt.to_period('M')).size().reset_index(name='Count')\n",
    "\n",
    "# Convert Period to string for Plotly compatibility\n",
    "expiration_monthly_counts['Expiration Date'] = expiration_monthly_counts['Expiration Date'].astype(str)\n",
    "\n",
    "# Step 3: Plot the time series as a line chart with markers\n",
    "fig = px.line(\n",
    "    expiration_monthly_counts,\n",
    "    x='Expiration Date',\n",
    "    y='Count',\n",
    "    title=\"Pharmacies Expiring Over Time\",\n",
    "    labels={'Expiration Date': 'Expiration Date', 'Count': 'Number of Pharmacies'},\n",
    "    markers=True\n",
    ")\n",
    "\n",
    "# Add text labels for each marker to display the count\n",
    "fig.update_traces(\n",
    "    text=expiration_monthly_counts['Count'],   # Add the count as text\n",
    "    textposition='top center',  # Position the text above each marker\n",
    ")\n",
    "\n",
    "# Show the plot\n",
    "fig.show()"
   ],
   "id": "16c988d8ff7ffecd",
   "execution_count": 132,
   "outputs": []
  },
  {
   "metadata": {},
   "cell_type": "markdown",
   "source": "### What specialties do the available pharmacies advertise? ",
   "id": "89ff0313511de94c"
  },
  {
   "metadata": {
    "ExecuteTime": {
     "end_time": "2024-12-15T18:53:48.113396Z",
     "start_time": "2024-12-15T18:53:47.964817Z"
    }
   },
   "cell_type": "code",
   "source": [
    "import pandas as pd\n",
    "import plotly.express as px\n",
    "\n",
    "# Step 1: Select columns that start with 'is'\n",
    "is_columns = [col for col in available_pharmacies.columns if col.startswith('is')]\n",
    "\n",
    "# Step 2: Count the number of True values in each 'is' column\n",
    "is_counts = available_pharmacies[is_columns].sum()\n",
    "\n",
    "# Step 3: Create a DataFrame from the counts for easier plotting\n",
    "is_counts_df = is_counts.reset_index()\n",
    "is_counts_df.columns = ['Entity Type', 'Count']\n",
    "\n",
    "# Step 4: Create the bar chart\n",
    "fig = px.bar(\n",
    "    is_counts_df,\n",
    "    x='Entity Type',\n",
    "    y='Count',\n",
    "    title='Count of Pharmacies by Specialty',\n",
    "    labels={'Entity Type': 'Entity Type', 'Count': 'Count of Pharmacies'},\n",
    "    color='Count',  # Color bars by count\n",
    "    color_continuous_scale='Viridis'  # Choose a color scale\n",
    ")\n",
    "\n",
    "# Step 5: Customize the layout for better readability\n",
    "fig.update_layout(\n",
    "    xaxis_title=\"Entity Type\",\n",
    "    yaxis_title=\"Count of Pharmacies\",\n",
    "    xaxis_tickangle=-45,  # Rotate x-axis labels for better readability\n",
    "    autosize=True,\n",
    "    margin={\"r\":0,\"t\":50,\"l\":50,\"b\":50},  # Add margins for spacing\n",
    "    height=600  # Set a height for the plot\n",
    ")\n",
    "\n",
    "# Step 6: Show the plot\n",
    "fig.show()\n"
   ],
   "id": "78623ef933d3a660",
   "execution_count": 133,
   "outputs": []
  },
  {
   "metadata": {},
   "cell_type": "markdown",
   "source": "### What specific conditions do the available pharmacies mention on their website? ",
   "id": "12173f8794f81008"
  },
  {
   "metadata": {
    "ExecuteTime": {
     "end_time": "2024-12-15T18:53:48.290906Z",
     "start_time": "2024-12-15T18:53:48.115406Z"
    }
   },
   "cell_type": "code",
   "source": [
    "import pandas as pd\n",
    "import plotly.express as px\n",
    "\n",
    "# Step 1: Select columns that start with 'services'\n",
    "services_columns = [col for col in available_pharmacies.columns if col.startswith('services')]\n",
    "\n",
    "# Step 2: Count the number of True values in each 'services' column\n",
    "services_counts = available_pharmacies[services_columns].sum()\n",
    "\n",
    "# Step 3: Create a DataFrame from the counts for easier plotting\n",
    "services_counts_df = services_counts.reset_index()\n",
    "services_counts_df.columns = ['Service Type', 'Count']\n",
    "\n",
    "# Step 4: Create the bar chart\n",
    "fig = px.bar(\n",
    "    services_counts_df,\n",
    "    x='Service Type',\n",
    "    y='Count',\n",
    "    title='Count of Pharmacies by Conditions Treated',\n",
    "    labels={'Service Type': 'Service Type', 'Count': 'Count of Pharmacies'},\n",
    "    color='Count',  # Color bars by count\n",
    "    color_continuous_scale='Viridis'  # Choose a color scale\n",
    ")\n",
    "\n",
    "# Step 5: Customize the layout for better readability\n",
    "fig.update_layout(\n",
    "    xaxis_title=\"Service Type\",\n",
    "    yaxis_title=\"Count of Pharmacies\",\n",
    "    xaxis_tickangle=-45,  # Rotate x-axis labels for better readability\n",
    "    autosize=True,\n",
    "    margin={\"r\":0,\"t\":50,\"l\":50,\"b\":50},  # Add margins for spacing\n",
    "    height=600  # Set a height for the plot\n",
    ")\n",
    "\n",
    "# Step 6: Show the plot\n",
    "fig.show()\n"
   ],
   "id": "d815f81931759306",
   "execution_count": 134,
   "outputs": []
  },
  {
   "metadata": {},
   "cell_type": "markdown",
   "source": "### How many specialties does each pharmacy have? ",
   "id": "e729aedf7a9d55a9"
  },
  {
   "metadata": {
    "ExecuteTime": {
     "end_time": "2024-12-15T18:53:48.422183Z",
     "start_time": "2024-12-15T18:53:48.294944Z"
    }
   },
   "cell_type": "code",
   "source": [
    "import pandas as pd\n",
    "import plotly.express as px\n",
    "\n",
    "# Step 1: Select columns that start with 'is' (specialty columns)\n",
    "specialty_columns = [col for col in available_pharmacies.columns if col.startswith('is')]\n",
    "\n",
    "# Step 2: Melt the DataFrame to long format\n",
    "melted_df = available_pharmacies[['Pharmacy Name'] + specialty_columns].melt(\n",
    "    id_vars=['Pharmacy Name'], value_vars=specialty_columns, \n",
    "    var_name='Specialty', value_name='Has Specialty'\n",
    ")\n",
    "\n",
    "# Step 3: Filter only the rows where 'Has Specialty' is True\n",
    "melted_df = melted_df[melted_df['Has Specialty'] == True]\n",
    "\n",
    "# Step 4: Count the number of specialties for each pharmacy\n",
    "specialty_counts = melted_df.groupby('Pharmacy Name').size().reset_index(name='Specialty Count')\n",
    "\n",
    "# Step 5: Create the bar chart showing the number of specialties for each pharmacy\n",
    "fig = px.bar(\n",
    "    specialty_counts,\n",
    "    x='Pharmacy Name',  # Pharmacy Name on the x-axis\n",
    "    y='Specialty Count',  # Count of specialties on the y-axis\n",
    "    title='Number of Specialties per Pharmacy',\n",
    "    labels={'Specialty Count': 'Number of Specialties', 'Pharmacy Name': 'Pharmacy Name'},\n",
    "    color='Specialty Count',  # Color bars by the number of specialties\n",
    "    color_continuous_scale='Viridis',  # Choose a color scale\n",
    "    text='Specialty Count'  # Show the count on the bars\n",
    ")\n",
    "\n",
    "# Step 6: Customize the layout for better readability\n",
    "fig.update_layout(\n",
    "    xaxis_title=\"Pharmacy Name\",\n",
    "    yaxis_title=\"Number of Specialties\",\n",
    "    xaxis_tickangle=-45,  # Rotate x-axis labels for better readability\n",
    "    autosize=True,\n",
    "    margin={\"r\":0,\"t\":50,\"l\":50,\"b\":150},  # Add margins for spacing\n",
    "    height=600  # Set a height for the plot\n",
    ")\n",
    "\n",
    "# Step 7: Show the plot\n",
    "fig.show()\n"
   ],
   "id": "94805617ada0029b",
   "execution_count": 135,
   "outputs": []
  },
  {
   "metadata": {},
   "cell_type": "markdown",
   "source": "### Where are available pharmacies located? ",
   "id": "b17c08efe62a85ea"
  },
  {
   "metadata": {
    "ExecuteTime": {
     "end_time": "2024-12-15T18:53:48.576247Z",
     "start_time": "2024-12-15T18:53:48.424199Z"
    }
   },
   "cell_type": "code",
   "source": [
    "import plotly.express as px\n",
    "\n",
    "# List of columns to check for True values\n",
    "columns_to_check = ['isGovernment', 'isSatellite', 'isInfusionCenter', 'isHospital', 'isVeterinaryOnly']\n",
    "\n",
    "# Create the condition to filter out rows where any of these columns have a True value\n",
    "condition = ~all_pharmacies[columns_to_check].any(axis=1)\n",
    "\n",
    "# Apply the condition to the DataFrame\n",
    "filtered_pharmacies = all_pharmacies[condition]\n",
    "\n",
    "# Step 2: Create the map for filtered pharmacies\n",
    "fig = px.scatter_mapbox(\n",
    "    filtered_pharmacies,  # Use the filtered DataFrame\n",
    "    lat=\"LAT\",\n",
    "    lon=\"LNG\",\n",
    "    hover_name=\"Pharmacy Name\",\n",
    "    zoom=3,  # Adjust zoom level for a national view\n",
    "    center={\"lat\": 37.0902, \"lon\": -95.7129},  # Center on the US\n",
    "    mapbox_style=\"open-street-map\",  # Use a free map style\n",
    "    title=\"Filtered Pharmacies in the US\"\n",
    ")\n",
    "\n",
    "# Step 3: Update layout for better aspect ratio and positioning\n",
    "fig.update_layout(\n",
    "    autosize=True,\n",
    "    margin={\"r\":0, \"t\":50, \"l\":50, \"b\":50},  # Adjust margins\n",
    "    height=800  # Set a height to ensure the map is not squished\n",
    ")\n",
    "\n",
    "# Step 4: Show the plot\n",
    "fig.show()\n"
   ],
   "id": "4d01841921ee6d1c",
   "execution_count": 136,
   "outputs": []
  },
  {
   "metadata": {},
   "cell_type": "markdown",
   "source": "### What percentage of licensed pharmacies are 503B Outsource Pharmacies and under FDA oversight? ",
   "id": "a8257af6da52f82f"
  },
  {
   "metadata": {},
   "cell_type": "markdown",
   "source": "### When will licenses expire per specialty",
   "id": "99f602e4b1d18bc6"
  },
  {
   "metadata": {},
   "cell_type": "markdown",
   "source": "",
   "id": "3614f40cd4a4f444"
  }
 ],
 "metadata": {
  "kernelspec": {
   "display_name": "Python 3",
   "language": "python",
   "name": "python3"
  },
  "language_info": {
   "codemirror_mode": {
    "name": "ipython",
    "version": 2
   },
   "file_extension": ".py",
   "mimetype": "text/x-python",
   "name": "python",
   "nbconvert_exporter": "python",
   "pygments_lexer": "ipython2",
   "version": "2.7.6"
  }
 },
 "nbformat": 4,
 "nbformat_minor": 5
}
