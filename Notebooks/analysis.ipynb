{
 "cells": [
  {
   "metadata": {},
   "cell_type": "markdown",
   "source": "# Analysis of Enriched Pharmacy Data",
   "id": "5a6b5c218b07f676"
  },
  {
   "metadata": {},
   "cell_type": "markdown",
   "source": "## Notebook Configurations",
   "id": "d1f646bcc56f3f29"
  },
  {
   "cell_type": "code",
   "id": "initial_id",
   "metadata": {
    "collapsed": true,
    "ExecuteTime": {
     "end_time": "2025-01-03T04:32:03.460735Z",
     "start_time": "2025-01-03T04:32:03.458039Z"
    }
   },
   "source": [
    "import pandas as pd\n",
    "import plotly.express as px\n",
    "import datetime as dt"
   ],
   "outputs": [],
   "execution_count": 156
  },
  {
   "metadata": {
    "ExecuteTime": {
     "end_time": "2025-01-03T04:32:03.629575Z",
     "start_time": "2025-01-03T04:32:03.611497Z"
    }
   },
   "cell_type": "code",
   "source": [
    "pharmacies = pd.read_csv('pharmacy_data.csv')\n",
    "pharmacies"
   ],
   "id": "a75ef20b42395805",
   "outputs": [
    {
     "data": {
      "text/plain": [
       "                                         Pharmacy Name License Number  \\\n",
       "0                         986 INFUSION PHARMACY #1 INC     LSC 101414   \n",
       "1                             A & O SPECIALTY PHARMACY     LSC 101817   \n",
       "2                             ACCREDO HEALTH GROUP INC     NSC 101280   \n",
       "3                             ACCREDO HEALTH GROUP INC     NSC 101279   \n",
       "4                                ADVANCE CARE PHARMACY      LSC 99611   \n",
       "..                                                 ...            ...   \n",
       "836                        WEST ANAHEIM MEDICAL CENTER     LSC 101464   \n",
       "837  WHITE MEMORIAL MEDICAL CENTER DBA ADVENTIST HE...     LSC 100146   \n",
       "838                   WHITTIER HOSPITAL MEDICAL CENTER     LSC 101408   \n",
       "839  WOMENS INTERNATIONAL PHARMACY, INC. DBA BELMAR...     NSC 101754   \n",
       "840  WOODLAND MEMORIAL HOSPITAL STERILE COMPOUNDING...     LSC 101509   \n",
       "\n",
       "                                 License Type License Status Expiration Date  \\\n",
       "0                Sterile Compounding Pharmacy          CLEAR      2025-07-01   \n",
       "1                Sterile Compounding Pharmacy          CLEAR      2025-03-01   \n",
       "2    Nonresident Sterile Compounding Pharmacy          CLEAR      2025-12-01   \n",
       "3    Nonresident Sterile Compounding Pharmacy          CLEAR      2025-12-01   \n",
       "4                Sterile Compounding Pharmacy          CLEAR      2025-07-01   \n",
       "..                                        ...            ...             ...   \n",
       "836              Sterile Compounding Pharmacy          CLEAR      2025-11-01   \n",
       "837              Sterile Compounding Pharmacy          CLEAR      2025-07-01   \n",
       "838              Sterile Compounding Pharmacy          CLEAR      2026-01-01   \n",
       "839  Nonresident Sterile Compounding Pharmacy          CLEAR      2025-03-01   \n",
       "840              Sterile Compounding Pharmacy          CLEAR      2025-02-01   \n",
       "\n",
       "            City State       County    Zip        LAT        LONG  \\\n",
       "0        ANAHEIM    CA       ORANGE  92807  33.848733 -117.788357   \n",
       "1        SALINAS    CA     MONTEREY  93901  36.636344 -121.623978   \n",
       "2     WARRENDALE    PA          NaN  15086  40.674947  -80.106364   \n",
       "3        ORLANDO    FL          NaN  32822  28.489898  -81.290154   \n",
       "4      ESCONDIDO    CA    SAN DIEGO  92025  33.102005 -117.080419   \n",
       "..           ...   ...          ...    ...        ...         ...   \n",
       "836      ANAHEIM    CA       ORANGE  92804  33.818246 -117.974985   \n",
       "837  LOS ANGELES    CA  LOS ANGELES  90033  34.050380 -118.211991   \n",
       "838     WHITTIER    CA  LOS ANGELES  90605  33.950295 -118.024352   \n",
       "839    YOUNGTOWN    AZ          NaN  85363  33.584969 -112.304916   \n",
       "840     WOODLAND    CA         YOLO  95695  38.687045 -121.857077   \n",
       "\n",
       "     isGovernment  isSatellite     Facility Type  \n",
       "0           False        False   Infusion Center  \n",
       "1           False        False               NaN  \n",
       "2           False        False   Infusion Center  \n",
       "3           False        False   Infusion Center  \n",
       "4           False        False               NaN  \n",
       "..            ...          ...               ...  \n",
       "836         False        False  Medical Facility  \n",
       "837         False        False  Medical Facility  \n",
       "838         False        False  Medical Facility  \n",
       "839         False        False               NaN  \n",
       "840         False        False  Medical Facility  \n",
       "\n",
       "[841 rows x 14 columns]"
      ],
      "text/html": [
       "<div>\n",
       "<style scoped>\n",
       "    .dataframe tbody tr th:only-of-type {\n",
       "        vertical-align: middle;\n",
       "    }\n",
       "\n",
       "    .dataframe tbody tr th {\n",
       "        vertical-align: top;\n",
       "    }\n",
       "\n",
       "    .dataframe thead th {\n",
       "        text-align: right;\n",
       "    }\n",
       "</style>\n",
       "<table border=\"1\" class=\"dataframe\">\n",
       "  <thead>\n",
       "    <tr style=\"text-align: right;\">\n",
       "      <th></th>\n",
       "      <th>Pharmacy Name</th>\n",
       "      <th>License Number</th>\n",
       "      <th>License Type</th>\n",
       "      <th>License Status</th>\n",
       "      <th>Expiration Date</th>\n",
       "      <th>City</th>\n",
       "      <th>State</th>\n",
       "      <th>County</th>\n",
       "      <th>Zip</th>\n",
       "      <th>LAT</th>\n",
       "      <th>LONG</th>\n",
       "      <th>isGovernment</th>\n",
       "      <th>isSatellite</th>\n",
       "      <th>Facility Type</th>\n",
       "    </tr>\n",
       "  </thead>\n",
       "  <tbody>\n",
       "    <tr>\n",
       "      <th>0</th>\n",
       "      <td>986 INFUSION PHARMACY #1 INC</td>\n",
       "      <td>LSC 101414</td>\n",
       "      <td>Sterile Compounding Pharmacy</td>\n",
       "      <td>CLEAR</td>\n",
       "      <td>2025-07-01</td>\n",
       "      <td>ANAHEIM</td>\n",
       "      <td>CA</td>\n",
       "      <td>ORANGE</td>\n",
       "      <td>92807</td>\n",
       "      <td>33.848733</td>\n",
       "      <td>-117.788357</td>\n",
       "      <td>False</td>\n",
       "      <td>False</td>\n",
       "      <td>Infusion Center</td>\n",
       "    </tr>\n",
       "    <tr>\n",
       "      <th>1</th>\n",
       "      <td>A &amp; O SPECIALTY PHARMACY</td>\n",
       "      <td>LSC 101817</td>\n",
       "      <td>Sterile Compounding Pharmacy</td>\n",
       "      <td>CLEAR</td>\n",
       "      <td>2025-03-01</td>\n",
       "      <td>SALINAS</td>\n",
       "      <td>CA</td>\n",
       "      <td>MONTEREY</td>\n",
       "      <td>93901</td>\n",
       "      <td>36.636344</td>\n",
       "      <td>-121.623978</td>\n",
       "      <td>False</td>\n",
       "      <td>False</td>\n",
       "      <td>NaN</td>\n",
       "    </tr>\n",
       "    <tr>\n",
       "      <th>2</th>\n",
       "      <td>ACCREDO HEALTH GROUP INC</td>\n",
       "      <td>NSC 101280</td>\n",
       "      <td>Nonresident Sterile Compounding Pharmacy</td>\n",
       "      <td>CLEAR</td>\n",
       "      <td>2025-12-01</td>\n",
       "      <td>WARRENDALE</td>\n",
       "      <td>PA</td>\n",
       "      <td>NaN</td>\n",
       "      <td>15086</td>\n",
       "      <td>40.674947</td>\n",
       "      <td>-80.106364</td>\n",
       "      <td>False</td>\n",
       "      <td>False</td>\n",
       "      <td>Infusion Center</td>\n",
       "    </tr>\n",
       "    <tr>\n",
       "      <th>3</th>\n",
       "      <td>ACCREDO HEALTH GROUP INC</td>\n",
       "      <td>NSC 101279</td>\n",
       "      <td>Nonresident Sterile Compounding Pharmacy</td>\n",
       "      <td>CLEAR</td>\n",
       "      <td>2025-12-01</td>\n",
       "      <td>ORLANDO</td>\n",
       "      <td>FL</td>\n",
       "      <td>NaN</td>\n",
       "      <td>32822</td>\n",
       "      <td>28.489898</td>\n",
       "      <td>-81.290154</td>\n",
       "      <td>False</td>\n",
       "      <td>False</td>\n",
       "      <td>Infusion Center</td>\n",
       "    </tr>\n",
       "    <tr>\n",
       "      <th>4</th>\n",
       "      <td>ADVANCE CARE PHARMACY</td>\n",
       "      <td>LSC 99611</td>\n",
       "      <td>Sterile Compounding Pharmacy</td>\n",
       "      <td>CLEAR</td>\n",
       "      <td>2025-07-01</td>\n",
       "      <td>ESCONDIDO</td>\n",
       "      <td>CA</td>\n",
       "      <td>SAN DIEGO</td>\n",
       "      <td>92025</td>\n",
       "      <td>33.102005</td>\n",
       "      <td>-117.080419</td>\n",
       "      <td>False</td>\n",
       "      <td>False</td>\n",
       "      <td>NaN</td>\n",
       "    </tr>\n",
       "    <tr>\n",
       "      <th>...</th>\n",
       "      <td>...</td>\n",
       "      <td>...</td>\n",
       "      <td>...</td>\n",
       "      <td>...</td>\n",
       "      <td>...</td>\n",
       "      <td>...</td>\n",
       "      <td>...</td>\n",
       "      <td>...</td>\n",
       "      <td>...</td>\n",
       "      <td>...</td>\n",
       "      <td>...</td>\n",
       "      <td>...</td>\n",
       "      <td>...</td>\n",
       "      <td>...</td>\n",
       "    </tr>\n",
       "    <tr>\n",
       "      <th>836</th>\n",
       "      <td>WEST ANAHEIM MEDICAL CENTER</td>\n",
       "      <td>LSC 101464</td>\n",
       "      <td>Sterile Compounding Pharmacy</td>\n",
       "      <td>CLEAR</td>\n",
       "      <td>2025-11-01</td>\n",
       "      <td>ANAHEIM</td>\n",
       "      <td>CA</td>\n",
       "      <td>ORANGE</td>\n",
       "      <td>92804</td>\n",
       "      <td>33.818246</td>\n",
       "      <td>-117.974985</td>\n",
       "      <td>False</td>\n",
       "      <td>False</td>\n",
       "      <td>Medical Facility</td>\n",
       "    </tr>\n",
       "    <tr>\n",
       "      <th>837</th>\n",
       "      <td>WHITE MEMORIAL MEDICAL CENTER DBA ADVENTIST HE...</td>\n",
       "      <td>LSC 100146</td>\n",
       "      <td>Sterile Compounding Pharmacy</td>\n",
       "      <td>CLEAR</td>\n",
       "      <td>2025-07-01</td>\n",
       "      <td>LOS ANGELES</td>\n",
       "      <td>CA</td>\n",
       "      <td>LOS ANGELES</td>\n",
       "      <td>90033</td>\n",
       "      <td>34.050380</td>\n",
       "      <td>-118.211991</td>\n",
       "      <td>False</td>\n",
       "      <td>False</td>\n",
       "      <td>Medical Facility</td>\n",
       "    </tr>\n",
       "    <tr>\n",
       "      <th>838</th>\n",
       "      <td>WHITTIER HOSPITAL MEDICAL CENTER</td>\n",
       "      <td>LSC 101408</td>\n",
       "      <td>Sterile Compounding Pharmacy</td>\n",
       "      <td>CLEAR</td>\n",
       "      <td>2026-01-01</td>\n",
       "      <td>WHITTIER</td>\n",
       "      <td>CA</td>\n",
       "      <td>LOS ANGELES</td>\n",
       "      <td>90605</td>\n",
       "      <td>33.950295</td>\n",
       "      <td>-118.024352</td>\n",
       "      <td>False</td>\n",
       "      <td>False</td>\n",
       "      <td>Medical Facility</td>\n",
       "    </tr>\n",
       "    <tr>\n",
       "      <th>839</th>\n",
       "      <td>WOMENS INTERNATIONAL PHARMACY, INC. DBA BELMAR...</td>\n",
       "      <td>NSC 101754</td>\n",
       "      <td>Nonresident Sterile Compounding Pharmacy</td>\n",
       "      <td>CLEAR</td>\n",
       "      <td>2025-03-01</td>\n",
       "      <td>YOUNGTOWN</td>\n",
       "      <td>AZ</td>\n",
       "      <td>NaN</td>\n",
       "      <td>85363</td>\n",
       "      <td>33.584969</td>\n",
       "      <td>-112.304916</td>\n",
       "      <td>False</td>\n",
       "      <td>False</td>\n",
       "      <td>NaN</td>\n",
       "    </tr>\n",
       "    <tr>\n",
       "      <th>840</th>\n",
       "      <td>WOODLAND MEMORIAL HOSPITAL STERILE COMPOUNDING...</td>\n",
       "      <td>LSC 101509</td>\n",
       "      <td>Sterile Compounding Pharmacy</td>\n",
       "      <td>CLEAR</td>\n",
       "      <td>2025-02-01</td>\n",
       "      <td>WOODLAND</td>\n",
       "      <td>CA</td>\n",
       "      <td>YOLO</td>\n",
       "      <td>95695</td>\n",
       "      <td>38.687045</td>\n",
       "      <td>-121.857077</td>\n",
       "      <td>False</td>\n",
       "      <td>False</td>\n",
       "      <td>Medical Facility</td>\n",
       "    </tr>\n",
       "  </tbody>\n",
       "</table>\n",
       "<p>841 rows × 14 columns</p>\n",
       "</div>"
      ]
     },
     "execution_count": 157,
     "metadata": {},
     "output_type": "execute_result"
    }
   ],
   "execution_count": 157
  },
  {
   "metadata": {
    "ExecuteTime": {
     "end_time": "2025-01-03T04:32:03.644773Z",
     "start_time": "2025-01-03T04:32:03.637917Z"
    }
   },
   "cell_type": "code",
   "source": "pharmacies.info()",
   "id": "879426e37dafa201",
   "outputs": [
    {
     "name": "stdout",
     "output_type": "stream",
     "text": [
      "<class 'pandas.core.frame.DataFrame'>\n",
      "RangeIndex: 841 entries, 0 to 840\n",
      "Data columns (total 14 columns):\n",
      " #   Column           Non-Null Count  Dtype  \n",
      "---  ------           --------------  -----  \n",
      " 0   Pharmacy Name    841 non-null    object \n",
      " 1   License Number   841 non-null    object \n",
      " 2   License Type     841 non-null    object \n",
      " 3   License Status   841 non-null    object \n",
      " 4   Expiration Date  841 non-null    object \n",
      " 5   City             841 non-null    object \n",
      " 6   State            841 non-null    object \n",
      " 7   County           792 non-null    object \n",
      " 8   Zip              841 non-null    int64  \n",
      " 9   LAT              828 non-null    float64\n",
      " 10  LONG             828 non-null    float64\n",
      " 11  isGovernment     841 non-null    bool   \n",
      " 12  isSatellite      841 non-null    bool   \n",
      " 13  Facility Type    773 non-null    object \n",
      "dtypes: bool(2), float64(2), int64(1), object(9)\n",
      "memory usage: 80.6+ KB\n"
     ]
    }
   ],
   "execution_count": 158
  },
  {
   "metadata": {},
   "cell_type": "markdown",
   "source": "## What Type of Facility is Being Licensed? ",
   "id": "593e0b5d4a29e03c"
  },
  {
   "metadata": {},
   "cell_type": "markdown",
   "source": "### Facility Type",
   "id": "1ceae6d475d2d248"
  },
  {
   "metadata": {
    "ExecuteTime": {
     "end_time": "2025-01-03T04:32:03.704615Z",
     "start_time": "2025-01-03T04:32:03.682332Z"
    }
   },
   "cell_type": "code",
   "source": [
    "# Calculate the count of each facility type\n",
    "facility_counts = pharmacies['Facility Type'].value_counts().reset_index()\n",
    "facility_counts.columns = ['Facility Type', 'Count']\n",
    "\n",
    "# Create the funnel chart\n",
    "funnel_fig = px.funnel(facility_counts, x='Count', y='Facility Type', \n",
    "                       title=\"Distribution of Facility Types\",\n",
    "                       labels={'Count': 'Number of Facilities', 'Facility Type': 'Type of Facility'})\n",
    "funnel_fig.show()"
   ],
   "id": "e33053b444ec8948",
   "outputs": [
    {
     "data": {
      "application/vnd.plotly.v1+json": {
       "data": [
        {
         "hovertemplate": "Number of Facilities=%{x}<br>Type of Facility=%{y}<extra></extra>",
         "legendgroup": "",
         "marker": {
          "color": "#636efa"
         },
         "name": "",
         "orientation": "h",
         "showlegend": false,
         "x": [
          643,
          118,
          11,
          1
         ],
         "xaxis": "x",
         "y": [
          "Medical Facility",
          "Infusion Center",
          "Veterinary Only",
          "Research Center"
         ],
         "yaxis": "y",
         "type": "funnel"
        }
       ],
       "layout": {
        "template": {
         "data": {
          "histogram2dcontour": [
           {
            "type": "histogram2dcontour",
            "colorbar": {
             "outlinewidth": 0,
             "ticks": ""
            },
            "colorscale": [
             [
              0.0,
              "#0d0887"
             ],
             [
              0.1111111111111111,
              "#46039f"
             ],
             [
              0.2222222222222222,
              "#7201a8"
             ],
             [
              0.3333333333333333,
              "#9c179e"
             ],
             [
              0.4444444444444444,
              "#bd3786"
             ],
             [
              0.5555555555555556,
              "#d8576b"
             ],
             [
              0.6666666666666666,
              "#ed7953"
             ],
             [
              0.7777777777777778,
              "#fb9f3a"
             ],
             [
              0.8888888888888888,
              "#fdca26"
             ],
             [
              1.0,
              "#f0f921"
             ]
            ]
           }
          ],
          "choropleth": [
           {
            "type": "choropleth",
            "colorbar": {
             "outlinewidth": 0,
             "ticks": ""
            }
           }
          ],
          "histogram2d": [
           {
            "type": "histogram2d",
            "colorbar": {
             "outlinewidth": 0,
             "ticks": ""
            },
            "colorscale": [
             [
              0.0,
              "#0d0887"
             ],
             [
              0.1111111111111111,
              "#46039f"
             ],
             [
              0.2222222222222222,
              "#7201a8"
             ],
             [
              0.3333333333333333,
              "#9c179e"
             ],
             [
              0.4444444444444444,
              "#bd3786"
             ],
             [
              0.5555555555555556,
              "#d8576b"
             ],
             [
              0.6666666666666666,
              "#ed7953"
             ],
             [
              0.7777777777777778,
              "#fb9f3a"
             ],
             [
              0.8888888888888888,
              "#fdca26"
             ],
             [
              1.0,
              "#f0f921"
             ]
            ]
           }
          ],
          "heatmap": [
           {
            "type": "heatmap",
            "colorbar": {
             "outlinewidth": 0,
             "ticks": ""
            },
            "colorscale": [
             [
              0.0,
              "#0d0887"
             ],
             [
              0.1111111111111111,
              "#46039f"
             ],
             [
              0.2222222222222222,
              "#7201a8"
             ],
             [
              0.3333333333333333,
              "#9c179e"
             ],
             [
              0.4444444444444444,
              "#bd3786"
             ],
             [
              0.5555555555555556,
              "#d8576b"
             ],
             [
              0.6666666666666666,
              "#ed7953"
             ],
             [
              0.7777777777777778,
              "#fb9f3a"
             ],
             [
              0.8888888888888888,
              "#fdca26"
             ],
             [
              1.0,
              "#f0f921"
             ]
            ]
           }
          ],
          "heatmapgl": [
           {
            "type": "heatmapgl",
            "colorbar": {
             "outlinewidth": 0,
             "ticks": ""
            },
            "colorscale": [
             [
              0.0,
              "#0d0887"
             ],
             [
              0.1111111111111111,
              "#46039f"
             ],
             [
              0.2222222222222222,
              "#7201a8"
             ],
             [
              0.3333333333333333,
              "#9c179e"
             ],
             [
              0.4444444444444444,
              "#bd3786"
             ],
             [
              0.5555555555555556,
              "#d8576b"
             ],
             [
              0.6666666666666666,
              "#ed7953"
             ],
             [
              0.7777777777777778,
              "#fb9f3a"
             ],
             [
              0.8888888888888888,
              "#fdca26"
             ],
             [
              1.0,
              "#f0f921"
             ]
            ]
           }
          ],
          "contourcarpet": [
           {
            "type": "contourcarpet",
            "colorbar": {
             "outlinewidth": 0,
             "ticks": ""
            }
           }
          ],
          "contour": [
           {
            "type": "contour",
            "colorbar": {
             "outlinewidth": 0,
             "ticks": ""
            },
            "colorscale": [
             [
              0.0,
              "#0d0887"
             ],
             [
              0.1111111111111111,
              "#46039f"
             ],
             [
              0.2222222222222222,
              "#7201a8"
             ],
             [
              0.3333333333333333,
              "#9c179e"
             ],
             [
              0.4444444444444444,
              "#bd3786"
             ],
             [
              0.5555555555555556,
              "#d8576b"
             ],
             [
              0.6666666666666666,
              "#ed7953"
             ],
             [
              0.7777777777777778,
              "#fb9f3a"
             ],
             [
              0.8888888888888888,
              "#fdca26"
             ],
             [
              1.0,
              "#f0f921"
             ]
            ]
           }
          ],
          "surface": [
           {
            "type": "surface",
            "colorbar": {
             "outlinewidth": 0,
             "ticks": ""
            },
            "colorscale": [
             [
              0.0,
              "#0d0887"
             ],
             [
              0.1111111111111111,
              "#46039f"
             ],
             [
              0.2222222222222222,
              "#7201a8"
             ],
             [
              0.3333333333333333,
              "#9c179e"
             ],
             [
              0.4444444444444444,
              "#bd3786"
             ],
             [
              0.5555555555555556,
              "#d8576b"
             ],
             [
              0.6666666666666666,
              "#ed7953"
             ],
             [
              0.7777777777777778,
              "#fb9f3a"
             ],
             [
              0.8888888888888888,
              "#fdca26"
             ],
             [
              1.0,
              "#f0f921"
             ]
            ]
           }
          ],
          "mesh3d": [
           {
            "type": "mesh3d",
            "colorbar": {
             "outlinewidth": 0,
             "ticks": ""
            }
           }
          ],
          "scatter": [
           {
            "fillpattern": {
             "fillmode": "overlay",
             "size": 10,
             "solidity": 0.2
            },
            "type": "scatter"
           }
          ],
          "parcoords": [
           {
            "type": "parcoords",
            "line": {
             "colorbar": {
              "outlinewidth": 0,
              "ticks": ""
             }
            }
           }
          ],
          "scatterpolargl": [
           {
            "type": "scatterpolargl",
            "marker": {
             "colorbar": {
              "outlinewidth": 0,
              "ticks": ""
             }
            }
           }
          ],
          "bar": [
           {
            "error_x": {
             "color": "#2a3f5f"
            },
            "error_y": {
             "color": "#2a3f5f"
            },
            "marker": {
             "line": {
              "color": "#E5ECF6",
              "width": 0.5
             },
             "pattern": {
              "fillmode": "overlay",
              "size": 10,
              "solidity": 0.2
             }
            },
            "type": "bar"
           }
          ],
          "scattergeo": [
           {
            "type": "scattergeo",
            "marker": {
             "colorbar": {
              "outlinewidth": 0,
              "ticks": ""
             }
            }
           }
          ],
          "scatterpolar": [
           {
            "type": "scatterpolar",
            "marker": {
             "colorbar": {
              "outlinewidth": 0,
              "ticks": ""
             }
            }
           }
          ],
          "histogram": [
           {
            "marker": {
             "pattern": {
              "fillmode": "overlay",
              "size": 10,
              "solidity": 0.2
             }
            },
            "type": "histogram"
           }
          ],
          "scattergl": [
           {
            "type": "scattergl",
            "marker": {
             "colorbar": {
              "outlinewidth": 0,
              "ticks": ""
             }
            }
           }
          ],
          "scatter3d": [
           {
            "type": "scatter3d",
            "line": {
             "colorbar": {
              "outlinewidth": 0,
              "ticks": ""
             }
            },
            "marker": {
             "colorbar": {
              "outlinewidth": 0,
              "ticks": ""
             }
            }
           }
          ],
          "scattermapbox": [
           {
            "type": "scattermapbox",
            "marker": {
             "colorbar": {
              "outlinewidth": 0,
              "ticks": ""
             }
            }
           }
          ],
          "scatterternary": [
           {
            "type": "scatterternary",
            "marker": {
             "colorbar": {
              "outlinewidth": 0,
              "ticks": ""
             }
            }
           }
          ],
          "scattercarpet": [
           {
            "type": "scattercarpet",
            "marker": {
             "colorbar": {
              "outlinewidth": 0,
              "ticks": ""
             }
            }
           }
          ],
          "carpet": [
           {
            "aaxis": {
             "endlinecolor": "#2a3f5f",
             "gridcolor": "white",
             "linecolor": "white",
             "minorgridcolor": "white",
             "startlinecolor": "#2a3f5f"
            },
            "baxis": {
             "endlinecolor": "#2a3f5f",
             "gridcolor": "white",
             "linecolor": "white",
             "minorgridcolor": "white",
             "startlinecolor": "#2a3f5f"
            },
            "type": "carpet"
           }
          ],
          "table": [
           {
            "cells": {
             "fill": {
              "color": "#EBF0F8"
             },
             "line": {
              "color": "white"
             }
            },
            "header": {
             "fill": {
              "color": "#C8D4E3"
             },
             "line": {
              "color": "white"
             }
            },
            "type": "table"
           }
          ],
          "barpolar": [
           {
            "marker": {
             "line": {
              "color": "#E5ECF6",
              "width": 0.5
             },
             "pattern": {
              "fillmode": "overlay",
              "size": 10,
              "solidity": 0.2
             }
            },
            "type": "barpolar"
           }
          ],
          "pie": [
           {
            "automargin": true,
            "type": "pie"
           }
          ]
         },
         "layout": {
          "autotypenumbers": "strict",
          "colorway": [
           "#636efa",
           "#EF553B",
           "#00cc96",
           "#ab63fa",
           "#FFA15A",
           "#19d3f3",
           "#FF6692",
           "#B6E880",
           "#FF97FF",
           "#FECB52"
          ],
          "font": {
           "color": "#2a3f5f"
          },
          "hovermode": "closest",
          "hoverlabel": {
           "align": "left"
          },
          "paper_bgcolor": "white",
          "plot_bgcolor": "#E5ECF6",
          "polar": {
           "bgcolor": "#E5ECF6",
           "angularaxis": {
            "gridcolor": "white",
            "linecolor": "white",
            "ticks": ""
           },
           "radialaxis": {
            "gridcolor": "white",
            "linecolor": "white",
            "ticks": ""
           }
          },
          "ternary": {
           "bgcolor": "#E5ECF6",
           "aaxis": {
            "gridcolor": "white",
            "linecolor": "white",
            "ticks": ""
           },
           "baxis": {
            "gridcolor": "white",
            "linecolor": "white",
            "ticks": ""
           },
           "caxis": {
            "gridcolor": "white",
            "linecolor": "white",
            "ticks": ""
           }
          },
          "coloraxis": {
           "colorbar": {
            "outlinewidth": 0,
            "ticks": ""
           }
          },
          "colorscale": {
           "sequential": [
            [
             0.0,
             "#0d0887"
            ],
            [
             0.1111111111111111,
             "#46039f"
            ],
            [
             0.2222222222222222,
             "#7201a8"
            ],
            [
             0.3333333333333333,
             "#9c179e"
            ],
            [
             0.4444444444444444,
             "#bd3786"
            ],
            [
             0.5555555555555556,
             "#d8576b"
            ],
            [
             0.6666666666666666,
             "#ed7953"
            ],
            [
             0.7777777777777778,
             "#fb9f3a"
            ],
            [
             0.8888888888888888,
             "#fdca26"
            ],
            [
             1.0,
             "#f0f921"
            ]
           ],
           "sequentialminus": [
            [
             0.0,
             "#0d0887"
            ],
            [
             0.1111111111111111,
             "#46039f"
            ],
            [
             0.2222222222222222,
             "#7201a8"
            ],
            [
             0.3333333333333333,
             "#9c179e"
            ],
            [
             0.4444444444444444,
             "#bd3786"
            ],
            [
             0.5555555555555556,
             "#d8576b"
            ],
            [
             0.6666666666666666,
             "#ed7953"
            ],
            [
             0.7777777777777778,
             "#fb9f3a"
            ],
            [
             0.8888888888888888,
             "#fdca26"
            ],
            [
             1.0,
             "#f0f921"
            ]
           ],
           "diverging": [
            [
             0,
             "#8e0152"
            ],
            [
             0.1,
             "#c51b7d"
            ],
            [
             0.2,
             "#de77ae"
            ],
            [
             0.3,
             "#f1b6da"
            ],
            [
             0.4,
             "#fde0ef"
            ],
            [
             0.5,
             "#f7f7f7"
            ],
            [
             0.6,
             "#e6f5d0"
            ],
            [
             0.7,
             "#b8e186"
            ],
            [
             0.8,
             "#7fbc41"
            ],
            [
             0.9,
             "#4d9221"
            ],
            [
             1,
             "#276419"
            ]
           ]
          },
          "xaxis": {
           "gridcolor": "white",
           "linecolor": "white",
           "ticks": "",
           "title": {
            "standoff": 15
           },
           "zerolinecolor": "white",
           "automargin": true,
           "zerolinewidth": 2
          },
          "yaxis": {
           "gridcolor": "white",
           "linecolor": "white",
           "ticks": "",
           "title": {
            "standoff": 15
           },
           "zerolinecolor": "white",
           "automargin": true,
           "zerolinewidth": 2
          },
          "scene": {
           "xaxis": {
            "backgroundcolor": "#E5ECF6",
            "gridcolor": "white",
            "linecolor": "white",
            "showbackground": true,
            "ticks": "",
            "zerolinecolor": "white",
            "gridwidth": 2
           },
           "yaxis": {
            "backgroundcolor": "#E5ECF6",
            "gridcolor": "white",
            "linecolor": "white",
            "showbackground": true,
            "ticks": "",
            "zerolinecolor": "white",
            "gridwidth": 2
           },
           "zaxis": {
            "backgroundcolor": "#E5ECF6",
            "gridcolor": "white",
            "linecolor": "white",
            "showbackground": true,
            "ticks": "",
            "zerolinecolor": "white",
            "gridwidth": 2
           }
          },
          "shapedefaults": {
           "line": {
            "color": "#2a3f5f"
           }
          },
          "annotationdefaults": {
           "arrowcolor": "#2a3f5f",
           "arrowhead": 0,
           "arrowwidth": 1
          },
          "geo": {
           "bgcolor": "white",
           "landcolor": "#E5ECF6",
           "subunitcolor": "white",
           "showland": true,
           "showlakes": true,
           "lakecolor": "white"
          },
          "title": {
           "x": 0.05
          },
          "mapbox": {
           "style": "light"
          }
         }
        },
        "xaxis": {
         "anchor": "y",
         "domain": [
          0.0,
          1.0
         ],
         "title": {
          "text": "Number of Facilities"
         }
        },
        "yaxis": {
         "anchor": "x",
         "domain": [
          0.0,
          1.0
         ],
         "title": {
          "text": "Type of Facility"
         }
        },
        "legend": {
         "tracegroupgap": 0
        },
        "title": {
         "text": "Distribution of Facility Types"
        }
       },
       "config": {
        "plotlyServerURL": "https://plot.ly"
       }
      },
      "text/html": [
       "<div>                            <div id=\"ec36da13-76a8-41a6-8eca-5af32a229dd6\" class=\"plotly-graph-div\" style=\"height:525px; width:100%;\"></div>            <script type=\"text/javascript\">                require([\"plotly\"], function(Plotly) {                    window.PLOTLYENV=window.PLOTLYENV || {};                                    if (document.getElementById(\"ec36da13-76a8-41a6-8eca-5af32a229dd6\")) {                    Plotly.newPlot(                        \"ec36da13-76a8-41a6-8eca-5af32a229dd6\",                        [{\"hovertemplate\":\"Number of Facilities=%{x}\\u003cbr\\u003eType of Facility=%{y}\\u003cextra\\u003e\\u003c\\u002fextra\\u003e\",\"legendgroup\":\"\",\"marker\":{\"color\":\"#636efa\"},\"name\":\"\",\"orientation\":\"h\",\"showlegend\":false,\"x\":[643,118,11,1],\"xaxis\":\"x\",\"y\":[\"Medical Facility\",\"Infusion Center\",\"Veterinary Only\",\"Research Center\"],\"yaxis\":\"y\",\"type\":\"funnel\"}],                        {\"template\":{\"data\":{\"histogram2dcontour\":[{\"type\":\"histogram2dcontour\",\"colorbar\":{\"outlinewidth\":0,\"ticks\":\"\"},\"colorscale\":[[0.0,\"#0d0887\"],[0.1111111111111111,\"#46039f\"],[0.2222222222222222,\"#7201a8\"],[0.3333333333333333,\"#9c179e\"],[0.4444444444444444,\"#bd3786\"],[0.5555555555555556,\"#d8576b\"],[0.6666666666666666,\"#ed7953\"],[0.7777777777777778,\"#fb9f3a\"],[0.8888888888888888,\"#fdca26\"],[1.0,\"#f0f921\"]]}],\"choropleth\":[{\"type\":\"choropleth\",\"colorbar\":{\"outlinewidth\":0,\"ticks\":\"\"}}],\"histogram2d\":[{\"type\":\"histogram2d\",\"colorbar\":{\"outlinewidth\":0,\"ticks\":\"\"},\"colorscale\":[[0.0,\"#0d0887\"],[0.1111111111111111,\"#46039f\"],[0.2222222222222222,\"#7201a8\"],[0.3333333333333333,\"#9c179e\"],[0.4444444444444444,\"#bd3786\"],[0.5555555555555556,\"#d8576b\"],[0.6666666666666666,\"#ed7953\"],[0.7777777777777778,\"#fb9f3a\"],[0.8888888888888888,\"#fdca26\"],[1.0,\"#f0f921\"]]}],\"heatmap\":[{\"type\":\"heatmap\",\"colorbar\":{\"outlinewidth\":0,\"ticks\":\"\"},\"colorscale\":[[0.0,\"#0d0887\"],[0.1111111111111111,\"#46039f\"],[0.2222222222222222,\"#7201a8\"],[0.3333333333333333,\"#9c179e\"],[0.4444444444444444,\"#bd3786\"],[0.5555555555555556,\"#d8576b\"],[0.6666666666666666,\"#ed7953\"],[0.7777777777777778,\"#fb9f3a\"],[0.8888888888888888,\"#fdca26\"],[1.0,\"#f0f921\"]]}],\"heatmapgl\":[{\"type\":\"heatmapgl\",\"colorbar\":{\"outlinewidth\":0,\"ticks\":\"\"},\"colorscale\":[[0.0,\"#0d0887\"],[0.1111111111111111,\"#46039f\"],[0.2222222222222222,\"#7201a8\"],[0.3333333333333333,\"#9c179e\"],[0.4444444444444444,\"#bd3786\"],[0.5555555555555556,\"#d8576b\"],[0.6666666666666666,\"#ed7953\"],[0.7777777777777778,\"#fb9f3a\"],[0.8888888888888888,\"#fdca26\"],[1.0,\"#f0f921\"]]}],\"contourcarpet\":[{\"type\":\"contourcarpet\",\"colorbar\":{\"outlinewidth\":0,\"ticks\":\"\"}}],\"contour\":[{\"type\":\"contour\",\"colorbar\":{\"outlinewidth\":0,\"ticks\":\"\"},\"colorscale\":[[0.0,\"#0d0887\"],[0.1111111111111111,\"#46039f\"],[0.2222222222222222,\"#7201a8\"],[0.3333333333333333,\"#9c179e\"],[0.4444444444444444,\"#bd3786\"],[0.5555555555555556,\"#d8576b\"],[0.6666666666666666,\"#ed7953\"],[0.7777777777777778,\"#fb9f3a\"],[0.8888888888888888,\"#fdca26\"],[1.0,\"#f0f921\"]]}],\"surface\":[{\"type\":\"surface\",\"colorbar\":{\"outlinewidth\":0,\"ticks\":\"\"},\"colorscale\":[[0.0,\"#0d0887\"],[0.1111111111111111,\"#46039f\"],[0.2222222222222222,\"#7201a8\"],[0.3333333333333333,\"#9c179e\"],[0.4444444444444444,\"#bd3786\"],[0.5555555555555556,\"#d8576b\"],[0.6666666666666666,\"#ed7953\"],[0.7777777777777778,\"#fb9f3a\"],[0.8888888888888888,\"#fdca26\"],[1.0,\"#f0f921\"]]}],\"mesh3d\":[{\"type\":\"mesh3d\",\"colorbar\":{\"outlinewidth\":0,\"ticks\":\"\"}}],\"scatter\":[{\"fillpattern\":{\"fillmode\":\"overlay\",\"size\":10,\"solidity\":0.2},\"type\":\"scatter\"}],\"parcoords\":[{\"type\":\"parcoords\",\"line\":{\"colorbar\":{\"outlinewidth\":0,\"ticks\":\"\"}}}],\"scatterpolargl\":[{\"type\":\"scatterpolargl\",\"marker\":{\"colorbar\":{\"outlinewidth\":0,\"ticks\":\"\"}}}],\"bar\":[{\"error_x\":{\"color\":\"#2a3f5f\"},\"error_y\":{\"color\":\"#2a3f5f\"},\"marker\":{\"line\":{\"color\":\"#E5ECF6\",\"width\":0.5},\"pattern\":{\"fillmode\":\"overlay\",\"size\":10,\"solidity\":0.2}},\"type\":\"bar\"}],\"scattergeo\":[{\"type\":\"scattergeo\",\"marker\":{\"colorbar\":{\"outlinewidth\":0,\"ticks\":\"\"}}}],\"scatterpolar\":[{\"type\":\"scatterpolar\",\"marker\":{\"colorbar\":{\"outlinewidth\":0,\"ticks\":\"\"}}}],\"histogram\":[{\"marker\":{\"pattern\":{\"fillmode\":\"overlay\",\"size\":10,\"solidity\":0.2}},\"type\":\"histogram\"}],\"scattergl\":[{\"type\":\"scattergl\",\"marker\":{\"colorbar\":{\"outlinewidth\":0,\"ticks\":\"\"}}}],\"scatter3d\":[{\"type\":\"scatter3d\",\"line\":{\"colorbar\":{\"outlinewidth\":0,\"ticks\":\"\"}},\"marker\":{\"colorbar\":{\"outlinewidth\":0,\"ticks\":\"\"}}}],\"scattermapbox\":[{\"type\":\"scattermapbox\",\"marker\":{\"colorbar\":{\"outlinewidth\":0,\"ticks\":\"\"}}}],\"scatterternary\":[{\"type\":\"scatterternary\",\"marker\":{\"colorbar\":{\"outlinewidth\":0,\"ticks\":\"\"}}}],\"scattercarpet\":[{\"type\":\"scattercarpet\",\"marker\":{\"colorbar\":{\"outlinewidth\":0,\"ticks\":\"\"}}}],\"carpet\":[{\"aaxis\":{\"endlinecolor\":\"#2a3f5f\",\"gridcolor\":\"white\",\"linecolor\":\"white\",\"minorgridcolor\":\"white\",\"startlinecolor\":\"#2a3f5f\"},\"baxis\":{\"endlinecolor\":\"#2a3f5f\",\"gridcolor\":\"white\",\"linecolor\":\"white\",\"minorgridcolor\":\"white\",\"startlinecolor\":\"#2a3f5f\"},\"type\":\"carpet\"}],\"table\":[{\"cells\":{\"fill\":{\"color\":\"#EBF0F8\"},\"line\":{\"color\":\"white\"}},\"header\":{\"fill\":{\"color\":\"#C8D4E3\"},\"line\":{\"color\":\"white\"}},\"type\":\"table\"}],\"barpolar\":[{\"marker\":{\"line\":{\"color\":\"#E5ECF6\",\"width\":0.5},\"pattern\":{\"fillmode\":\"overlay\",\"size\":10,\"solidity\":0.2}},\"type\":\"barpolar\"}],\"pie\":[{\"automargin\":true,\"type\":\"pie\"}]},\"layout\":{\"autotypenumbers\":\"strict\",\"colorway\":[\"#636efa\",\"#EF553B\",\"#00cc96\",\"#ab63fa\",\"#FFA15A\",\"#19d3f3\",\"#FF6692\",\"#B6E880\",\"#FF97FF\",\"#FECB52\"],\"font\":{\"color\":\"#2a3f5f\"},\"hovermode\":\"closest\",\"hoverlabel\":{\"align\":\"left\"},\"paper_bgcolor\":\"white\",\"plot_bgcolor\":\"#E5ECF6\",\"polar\":{\"bgcolor\":\"#E5ECF6\",\"angularaxis\":{\"gridcolor\":\"white\",\"linecolor\":\"white\",\"ticks\":\"\"},\"radialaxis\":{\"gridcolor\":\"white\",\"linecolor\":\"white\",\"ticks\":\"\"}},\"ternary\":{\"bgcolor\":\"#E5ECF6\",\"aaxis\":{\"gridcolor\":\"white\",\"linecolor\":\"white\",\"ticks\":\"\"},\"baxis\":{\"gridcolor\":\"white\",\"linecolor\":\"white\",\"ticks\":\"\"},\"caxis\":{\"gridcolor\":\"white\",\"linecolor\":\"white\",\"ticks\":\"\"}},\"coloraxis\":{\"colorbar\":{\"outlinewidth\":0,\"ticks\":\"\"}},\"colorscale\":{\"sequential\":[[0.0,\"#0d0887\"],[0.1111111111111111,\"#46039f\"],[0.2222222222222222,\"#7201a8\"],[0.3333333333333333,\"#9c179e\"],[0.4444444444444444,\"#bd3786\"],[0.5555555555555556,\"#d8576b\"],[0.6666666666666666,\"#ed7953\"],[0.7777777777777778,\"#fb9f3a\"],[0.8888888888888888,\"#fdca26\"],[1.0,\"#f0f921\"]],\"sequentialminus\":[[0.0,\"#0d0887\"],[0.1111111111111111,\"#46039f\"],[0.2222222222222222,\"#7201a8\"],[0.3333333333333333,\"#9c179e\"],[0.4444444444444444,\"#bd3786\"],[0.5555555555555556,\"#d8576b\"],[0.6666666666666666,\"#ed7953\"],[0.7777777777777778,\"#fb9f3a\"],[0.8888888888888888,\"#fdca26\"],[1.0,\"#f0f921\"]],\"diverging\":[[0,\"#8e0152\"],[0.1,\"#c51b7d\"],[0.2,\"#de77ae\"],[0.3,\"#f1b6da\"],[0.4,\"#fde0ef\"],[0.5,\"#f7f7f7\"],[0.6,\"#e6f5d0\"],[0.7,\"#b8e186\"],[0.8,\"#7fbc41\"],[0.9,\"#4d9221\"],[1,\"#276419\"]]},\"xaxis\":{\"gridcolor\":\"white\",\"linecolor\":\"white\",\"ticks\":\"\",\"title\":{\"standoff\":15},\"zerolinecolor\":\"white\",\"automargin\":true,\"zerolinewidth\":2},\"yaxis\":{\"gridcolor\":\"white\",\"linecolor\":\"white\",\"ticks\":\"\",\"title\":{\"standoff\":15},\"zerolinecolor\":\"white\",\"automargin\":true,\"zerolinewidth\":2},\"scene\":{\"xaxis\":{\"backgroundcolor\":\"#E5ECF6\",\"gridcolor\":\"white\",\"linecolor\":\"white\",\"showbackground\":true,\"ticks\":\"\",\"zerolinecolor\":\"white\",\"gridwidth\":2},\"yaxis\":{\"backgroundcolor\":\"#E5ECF6\",\"gridcolor\":\"white\",\"linecolor\":\"white\",\"showbackground\":true,\"ticks\":\"\",\"zerolinecolor\":\"white\",\"gridwidth\":2},\"zaxis\":{\"backgroundcolor\":\"#E5ECF6\",\"gridcolor\":\"white\",\"linecolor\":\"white\",\"showbackground\":true,\"ticks\":\"\",\"zerolinecolor\":\"white\",\"gridwidth\":2}},\"shapedefaults\":{\"line\":{\"color\":\"#2a3f5f\"}},\"annotationdefaults\":{\"arrowcolor\":\"#2a3f5f\",\"arrowhead\":0,\"arrowwidth\":1},\"geo\":{\"bgcolor\":\"white\",\"landcolor\":\"#E5ECF6\",\"subunitcolor\":\"white\",\"showland\":true,\"showlakes\":true,\"lakecolor\":\"white\"},\"title\":{\"x\":0.05},\"mapbox\":{\"style\":\"light\"}}},\"xaxis\":{\"anchor\":\"y\",\"domain\":[0.0,1.0],\"title\":{\"text\":\"Number of Facilities\"}},\"yaxis\":{\"anchor\":\"x\",\"domain\":[0.0,1.0],\"title\":{\"text\":\"Type of Facility\"}},\"legend\":{\"tracegroupgap\":0},\"title\":{\"text\":\"Distribution of Facility Types\"}},                        {\"responsive\": true}                    ).then(function(){\n",
       "                            \n",
       "var gd = document.getElementById('ec36da13-76a8-41a6-8eca-5af32a229dd6');\n",
       "var x = new MutationObserver(function (mutations, observer) {{\n",
       "        var display = window.getComputedStyle(gd).display;\n",
       "        if (!display || display === 'none') {{\n",
       "            console.log([gd, 'removed!']);\n",
       "            Plotly.purge(gd);\n",
       "            observer.disconnect();\n",
       "        }}\n",
       "}});\n",
       "\n",
       "// Listen for the removal of the full notebook cells\n",
       "var notebookContainer = gd.closest('#notebook-container');\n",
       "if (notebookContainer) {{\n",
       "    x.observe(notebookContainer, {childList: true});\n",
       "}}\n",
       "\n",
       "// Listen for the clearing of the current output cell\n",
       "var outputEl = gd.closest('.output');\n",
       "if (outputEl) {{\n",
       "    x.observe(outputEl, {childList: true});\n",
       "}}\n",
       "\n",
       "                        })                };                });            </script>        </div>"
      ]
     },
     "metadata": {},
     "output_type": "display_data"
    }
   ],
   "execution_count": 159
  },
  {
   "metadata": {
    "ExecuteTime": {
     "end_time": "2025-01-03T04:32:03.740264Z",
     "start_time": "2025-01-03T04:32:03.709700Z"
    }
   },
   "cell_type": "code",
   "source": [
    "donut_fig = px.pie(facility_counts, names='Facility Type', values='Count', title='Distribution of Facility Types', hole = 0.25, labels = {'Facility Type': 'Type of Facility', 'Count' : 'Number of Facilities'}, template='simple_white')\n",
    "donut_fig.show()"
   ],
   "id": "8b4df62962a6e2bf",
   "outputs": [
    {
     "data": {
      "application/vnd.plotly.v1+json": {
       "data": [
        {
         "domain": {
          "x": [
           0.0,
           1.0
          ],
          "y": [
           0.0,
           1.0
          ]
         },
         "hole": 0.25,
         "hovertemplate": "Type of Facility=%{label}<br>Number of Facilities=%{value}<extra></extra>",
         "labels": [
          "Medical Facility",
          "Infusion Center",
          "Veterinary Only",
          "Research Center"
         ],
         "legendgroup": "",
         "name": "",
         "showlegend": true,
         "values": [
          643,
          118,
          11,
          1
         ],
         "type": "pie"
        }
       ],
       "layout": {
        "template": {
         "data": {
          "barpolar": [
           {
            "marker": {
             "line": {
              "color": "white",
              "width": 0.5
             },
             "pattern": {
              "fillmode": "overlay",
              "size": 10,
              "solidity": 0.2
             }
            },
            "type": "barpolar"
           }
          ],
          "bar": [
           {
            "error_x": {
             "color": "rgb(36,36,36)"
            },
            "error_y": {
             "color": "rgb(36,36,36)"
            },
            "marker": {
             "line": {
              "color": "white",
              "width": 0.5
             },
             "pattern": {
              "fillmode": "overlay",
              "size": 10,
              "solidity": 0.2
             }
            },
            "type": "bar"
           }
          ],
          "carpet": [
           {
            "aaxis": {
             "endlinecolor": "rgb(36,36,36)",
             "gridcolor": "white",
             "linecolor": "white",
             "minorgridcolor": "white",
             "startlinecolor": "rgb(36,36,36)"
            },
            "baxis": {
             "endlinecolor": "rgb(36,36,36)",
             "gridcolor": "white",
             "linecolor": "white",
             "minorgridcolor": "white",
             "startlinecolor": "rgb(36,36,36)"
            },
            "type": "carpet"
           }
          ],
          "choropleth": [
           {
            "colorbar": {
             "outlinewidth": 1,
             "tickcolor": "rgb(36,36,36)",
             "ticks": "outside"
            },
            "type": "choropleth"
           }
          ],
          "contourcarpet": [
           {
            "colorbar": {
             "outlinewidth": 1,
             "tickcolor": "rgb(36,36,36)",
             "ticks": "outside"
            },
            "type": "contourcarpet"
           }
          ],
          "contour": [
           {
            "colorbar": {
             "outlinewidth": 1,
             "tickcolor": "rgb(36,36,36)",
             "ticks": "outside"
            },
            "colorscale": [
             [
              0.0,
              "#440154"
             ],
             [
              0.1111111111111111,
              "#482878"
             ],
             [
              0.2222222222222222,
              "#3e4989"
             ],
             [
              0.3333333333333333,
              "#31688e"
             ],
             [
              0.4444444444444444,
              "#26828e"
             ],
             [
              0.5555555555555556,
              "#1f9e89"
             ],
             [
              0.6666666666666666,
              "#35b779"
             ],
             [
              0.7777777777777778,
              "#6ece58"
             ],
             [
              0.8888888888888888,
              "#b5de2b"
             ],
             [
              1.0,
              "#fde725"
             ]
            ],
            "type": "contour"
           }
          ],
          "heatmapgl": [
           {
            "colorbar": {
             "outlinewidth": 1,
             "tickcolor": "rgb(36,36,36)",
             "ticks": "outside"
            },
            "colorscale": [
             [
              0.0,
              "#440154"
             ],
             [
              0.1111111111111111,
              "#482878"
             ],
             [
              0.2222222222222222,
              "#3e4989"
             ],
             [
              0.3333333333333333,
              "#31688e"
             ],
             [
              0.4444444444444444,
              "#26828e"
             ],
             [
              0.5555555555555556,
              "#1f9e89"
             ],
             [
              0.6666666666666666,
              "#35b779"
             ],
             [
              0.7777777777777778,
              "#6ece58"
             ],
             [
              0.8888888888888888,
              "#b5de2b"
             ],
             [
              1.0,
              "#fde725"
             ]
            ],
            "type": "heatmapgl"
           }
          ],
          "heatmap": [
           {
            "colorbar": {
             "outlinewidth": 1,
             "tickcolor": "rgb(36,36,36)",
             "ticks": "outside"
            },
            "colorscale": [
             [
              0.0,
              "#440154"
             ],
             [
              0.1111111111111111,
              "#482878"
             ],
             [
              0.2222222222222222,
              "#3e4989"
             ],
             [
              0.3333333333333333,
              "#31688e"
             ],
             [
              0.4444444444444444,
              "#26828e"
             ],
             [
              0.5555555555555556,
              "#1f9e89"
             ],
             [
              0.6666666666666666,
              "#35b779"
             ],
             [
              0.7777777777777778,
              "#6ece58"
             ],
             [
              0.8888888888888888,
              "#b5de2b"
             ],
             [
              1.0,
              "#fde725"
             ]
            ],
            "type": "heatmap"
           }
          ],
          "histogram2dcontour": [
           {
            "colorbar": {
             "outlinewidth": 1,
             "tickcolor": "rgb(36,36,36)",
             "ticks": "outside"
            },
            "colorscale": [
             [
              0.0,
              "#440154"
             ],
             [
              0.1111111111111111,
              "#482878"
             ],
             [
              0.2222222222222222,
              "#3e4989"
             ],
             [
              0.3333333333333333,
              "#31688e"
             ],
             [
              0.4444444444444444,
              "#26828e"
             ],
             [
              0.5555555555555556,
              "#1f9e89"
             ],
             [
              0.6666666666666666,
              "#35b779"
             ],
             [
              0.7777777777777778,
              "#6ece58"
             ],
             [
              0.8888888888888888,
              "#b5de2b"
             ],
             [
              1.0,
              "#fde725"
             ]
            ],
            "type": "histogram2dcontour"
           }
          ],
          "histogram2d": [
           {
            "colorbar": {
             "outlinewidth": 1,
             "tickcolor": "rgb(36,36,36)",
             "ticks": "outside"
            },
            "colorscale": [
             [
              0.0,
              "#440154"
             ],
             [
              0.1111111111111111,
              "#482878"
             ],
             [
              0.2222222222222222,
              "#3e4989"
             ],
             [
              0.3333333333333333,
              "#31688e"
             ],
             [
              0.4444444444444444,
              "#26828e"
             ],
             [
              0.5555555555555556,
              "#1f9e89"
             ],
             [
              0.6666666666666666,
              "#35b779"
             ],
             [
              0.7777777777777778,
              "#6ece58"
             ],
             [
              0.8888888888888888,
              "#b5de2b"
             ],
             [
              1.0,
              "#fde725"
             ]
            ],
            "type": "histogram2d"
           }
          ],
          "histogram": [
           {
            "marker": {
             "line": {
              "color": "white",
              "width": 0.6
             }
            },
            "type": "histogram"
           }
          ],
          "mesh3d": [
           {
            "colorbar": {
             "outlinewidth": 1,
             "tickcolor": "rgb(36,36,36)",
             "ticks": "outside"
            },
            "type": "mesh3d"
           }
          ],
          "parcoords": [
           {
            "line": {
             "colorbar": {
              "outlinewidth": 1,
              "tickcolor": "rgb(36,36,36)",
              "ticks": "outside"
             }
            },
            "type": "parcoords"
           }
          ],
          "pie": [
           {
            "automargin": true,
            "type": "pie"
           }
          ],
          "scatter3d": [
           {
            "line": {
             "colorbar": {
              "outlinewidth": 1,
              "tickcolor": "rgb(36,36,36)",
              "ticks": "outside"
             }
            },
            "marker": {
             "colorbar": {
              "outlinewidth": 1,
              "tickcolor": "rgb(36,36,36)",
              "ticks": "outside"
             }
            },
            "type": "scatter3d"
           }
          ],
          "scattercarpet": [
           {
            "marker": {
             "colorbar": {
              "outlinewidth": 1,
              "tickcolor": "rgb(36,36,36)",
              "ticks": "outside"
             }
            },
            "type": "scattercarpet"
           }
          ],
          "scattergeo": [
           {
            "marker": {
             "colorbar": {
              "outlinewidth": 1,
              "tickcolor": "rgb(36,36,36)",
              "ticks": "outside"
             }
            },
            "type": "scattergeo"
           }
          ],
          "scattergl": [
           {
            "marker": {
             "colorbar": {
              "outlinewidth": 1,
              "tickcolor": "rgb(36,36,36)",
              "ticks": "outside"
             }
            },
            "type": "scattergl"
           }
          ],
          "scattermapbox": [
           {
            "marker": {
             "colorbar": {
              "outlinewidth": 1,
              "tickcolor": "rgb(36,36,36)",
              "ticks": "outside"
             }
            },
            "type": "scattermapbox"
           }
          ],
          "scatterpolargl": [
           {
            "marker": {
             "colorbar": {
              "outlinewidth": 1,
              "tickcolor": "rgb(36,36,36)",
              "ticks": "outside"
             }
            },
            "type": "scatterpolargl"
           }
          ],
          "scatterpolar": [
           {
            "marker": {
             "colorbar": {
              "outlinewidth": 1,
              "tickcolor": "rgb(36,36,36)",
              "ticks": "outside"
             }
            },
            "type": "scatterpolar"
           }
          ],
          "scatter": [
           {
            "fillpattern": {
             "fillmode": "overlay",
             "size": 10,
             "solidity": 0.2
            },
            "type": "scatter"
           }
          ],
          "scatterternary": [
           {
            "marker": {
             "colorbar": {
              "outlinewidth": 1,
              "tickcolor": "rgb(36,36,36)",
              "ticks": "outside"
             }
            },
            "type": "scatterternary"
           }
          ],
          "surface": [
           {
            "colorbar": {
             "outlinewidth": 1,
             "tickcolor": "rgb(36,36,36)",
             "ticks": "outside"
            },
            "colorscale": [
             [
              0.0,
              "#440154"
             ],
             [
              0.1111111111111111,
              "#482878"
             ],
             [
              0.2222222222222222,
              "#3e4989"
             ],
             [
              0.3333333333333333,
              "#31688e"
             ],
             [
              0.4444444444444444,
              "#26828e"
             ],
             [
              0.5555555555555556,
              "#1f9e89"
             ],
             [
              0.6666666666666666,
              "#35b779"
             ],
             [
              0.7777777777777778,
              "#6ece58"
             ],
             [
              0.8888888888888888,
              "#b5de2b"
             ],
             [
              1.0,
              "#fde725"
             ]
            ],
            "type": "surface"
           }
          ],
          "table": [
           {
            "cells": {
             "fill": {
              "color": "rgb(237,237,237)"
             },
             "line": {
              "color": "white"
             }
            },
            "header": {
             "fill": {
              "color": "rgb(217,217,217)"
             },
             "line": {
              "color": "white"
             }
            },
            "type": "table"
           }
          ]
         },
         "layout": {
          "annotationdefaults": {
           "arrowhead": 0,
           "arrowwidth": 1
          },
          "autotypenumbers": "strict",
          "coloraxis": {
           "colorbar": {
            "outlinewidth": 1,
            "tickcolor": "rgb(36,36,36)",
            "ticks": "outside"
           }
          },
          "colorscale": {
           "diverging": [
            [
             0.0,
             "rgb(103,0,31)"
            ],
            [
             0.1,
             "rgb(178,24,43)"
            ],
            [
             0.2,
             "rgb(214,96,77)"
            ],
            [
             0.3,
             "rgb(244,165,130)"
            ],
            [
             0.4,
             "rgb(253,219,199)"
            ],
            [
             0.5,
             "rgb(247,247,247)"
            ],
            [
             0.6,
             "rgb(209,229,240)"
            ],
            [
             0.7,
             "rgb(146,197,222)"
            ],
            [
             0.8,
             "rgb(67,147,195)"
            ],
            [
             0.9,
             "rgb(33,102,172)"
            ],
            [
             1.0,
             "rgb(5,48,97)"
            ]
           ],
           "sequential": [
            [
             0.0,
             "#440154"
            ],
            [
             0.1111111111111111,
             "#482878"
            ],
            [
             0.2222222222222222,
             "#3e4989"
            ],
            [
             0.3333333333333333,
             "#31688e"
            ],
            [
             0.4444444444444444,
             "#26828e"
            ],
            [
             0.5555555555555556,
             "#1f9e89"
            ],
            [
             0.6666666666666666,
             "#35b779"
            ],
            [
             0.7777777777777778,
             "#6ece58"
            ],
            [
             0.8888888888888888,
             "#b5de2b"
            ],
            [
             1.0,
             "#fde725"
            ]
           ],
           "sequentialminus": [
            [
             0.0,
             "#440154"
            ],
            [
             0.1111111111111111,
             "#482878"
            ],
            [
             0.2222222222222222,
             "#3e4989"
            ],
            [
             0.3333333333333333,
             "#31688e"
            ],
            [
             0.4444444444444444,
             "#26828e"
            ],
            [
             0.5555555555555556,
             "#1f9e89"
            ],
            [
             0.6666666666666666,
             "#35b779"
            ],
            [
             0.7777777777777778,
             "#6ece58"
            ],
            [
             0.8888888888888888,
             "#b5de2b"
            ],
            [
             1.0,
             "#fde725"
            ]
           ]
          },
          "colorway": [
           "#1F77B4",
           "#FF7F0E",
           "#2CA02C",
           "#D62728",
           "#9467BD",
           "#8C564B",
           "#E377C2",
           "#7F7F7F",
           "#BCBD22",
           "#17BECF"
          ],
          "font": {
           "color": "rgb(36,36,36)"
          },
          "geo": {
           "bgcolor": "white",
           "lakecolor": "white",
           "landcolor": "white",
           "showlakes": true,
           "showland": true,
           "subunitcolor": "white"
          },
          "hoverlabel": {
           "align": "left"
          },
          "hovermode": "closest",
          "mapbox": {
           "style": "light"
          },
          "paper_bgcolor": "white",
          "plot_bgcolor": "white",
          "polar": {
           "angularaxis": {
            "gridcolor": "rgb(232,232,232)",
            "linecolor": "rgb(36,36,36)",
            "showgrid": false,
            "showline": true,
            "ticks": "outside"
           },
           "bgcolor": "white",
           "radialaxis": {
            "gridcolor": "rgb(232,232,232)",
            "linecolor": "rgb(36,36,36)",
            "showgrid": false,
            "showline": true,
            "ticks": "outside"
           }
          },
          "scene": {
           "xaxis": {
            "backgroundcolor": "white",
            "gridcolor": "rgb(232,232,232)",
            "gridwidth": 2,
            "linecolor": "rgb(36,36,36)",
            "showbackground": true,
            "showgrid": false,
            "showline": true,
            "ticks": "outside",
            "zeroline": false,
            "zerolinecolor": "rgb(36,36,36)"
           },
           "yaxis": {
            "backgroundcolor": "white",
            "gridcolor": "rgb(232,232,232)",
            "gridwidth": 2,
            "linecolor": "rgb(36,36,36)",
            "showbackground": true,
            "showgrid": false,
            "showline": true,
            "ticks": "outside",
            "zeroline": false,
            "zerolinecolor": "rgb(36,36,36)"
           },
           "zaxis": {
            "backgroundcolor": "white",
            "gridcolor": "rgb(232,232,232)",
            "gridwidth": 2,
            "linecolor": "rgb(36,36,36)",
            "showbackground": true,
            "showgrid": false,
            "showline": true,
            "ticks": "outside",
            "zeroline": false,
            "zerolinecolor": "rgb(36,36,36)"
           }
          },
          "shapedefaults": {
           "fillcolor": "black",
           "line": {
            "width": 0
           },
           "opacity": 0.3
          },
          "ternary": {
           "aaxis": {
            "gridcolor": "rgb(232,232,232)",
            "linecolor": "rgb(36,36,36)",
            "showgrid": false,
            "showline": true,
            "ticks": "outside"
           },
           "baxis": {
            "gridcolor": "rgb(232,232,232)",
            "linecolor": "rgb(36,36,36)",
            "showgrid": false,
            "showline": true,
            "ticks": "outside"
           },
           "bgcolor": "white",
           "caxis": {
            "gridcolor": "rgb(232,232,232)",
            "linecolor": "rgb(36,36,36)",
            "showgrid": false,
            "showline": true,
            "ticks": "outside"
           }
          },
          "title": {
           "x": 0.05
          },
          "xaxis": {
           "automargin": true,
           "gridcolor": "rgb(232,232,232)",
           "linecolor": "rgb(36,36,36)",
           "showgrid": false,
           "showline": true,
           "ticks": "outside",
           "title": {
            "standoff": 15
           },
           "zeroline": false,
           "zerolinecolor": "rgb(36,36,36)"
          },
          "yaxis": {
           "automargin": true,
           "gridcolor": "rgb(232,232,232)",
           "linecolor": "rgb(36,36,36)",
           "showgrid": false,
           "showline": true,
           "ticks": "outside",
           "title": {
            "standoff": 15
           },
           "zeroline": false,
           "zerolinecolor": "rgb(36,36,36)"
          }
         }
        },
        "legend": {
         "tracegroupgap": 0
        },
        "title": {
         "text": "Distribution of Facility Types"
        }
       },
       "config": {
        "plotlyServerURL": "https://plot.ly"
       }
      },
      "text/html": [
       "<div>                            <div id=\"bccc8b81-41b2-47b6-a28b-b108977b7132\" class=\"plotly-graph-div\" style=\"height:525px; width:100%;\"></div>            <script type=\"text/javascript\">                require([\"plotly\"], function(Plotly) {                    window.PLOTLYENV=window.PLOTLYENV || {};                                    if (document.getElementById(\"bccc8b81-41b2-47b6-a28b-b108977b7132\")) {                    Plotly.newPlot(                        \"bccc8b81-41b2-47b6-a28b-b108977b7132\",                        [{\"domain\":{\"x\":[0.0,1.0],\"y\":[0.0,1.0]},\"hole\":0.25,\"hovertemplate\":\"Type of Facility=%{label}\\u003cbr\\u003eNumber of Facilities=%{value}\\u003cextra\\u003e\\u003c\\u002fextra\\u003e\",\"labels\":[\"Medical Facility\",\"Infusion Center\",\"Veterinary Only\",\"Research Center\"],\"legendgroup\":\"\",\"name\":\"\",\"showlegend\":true,\"values\":[643,118,11,1],\"type\":\"pie\"}],                        {\"template\":{\"data\":{\"barpolar\":[{\"marker\":{\"line\":{\"color\":\"white\",\"width\":0.5},\"pattern\":{\"fillmode\":\"overlay\",\"size\":10,\"solidity\":0.2}},\"type\":\"barpolar\"}],\"bar\":[{\"error_x\":{\"color\":\"rgb(36,36,36)\"},\"error_y\":{\"color\":\"rgb(36,36,36)\"},\"marker\":{\"line\":{\"color\":\"white\",\"width\":0.5},\"pattern\":{\"fillmode\":\"overlay\",\"size\":10,\"solidity\":0.2}},\"type\":\"bar\"}],\"carpet\":[{\"aaxis\":{\"endlinecolor\":\"rgb(36,36,36)\",\"gridcolor\":\"white\",\"linecolor\":\"white\",\"minorgridcolor\":\"white\",\"startlinecolor\":\"rgb(36,36,36)\"},\"baxis\":{\"endlinecolor\":\"rgb(36,36,36)\",\"gridcolor\":\"white\",\"linecolor\":\"white\",\"minorgridcolor\":\"white\",\"startlinecolor\":\"rgb(36,36,36)\"},\"type\":\"carpet\"}],\"choropleth\":[{\"colorbar\":{\"outlinewidth\":1,\"tickcolor\":\"rgb(36,36,36)\",\"ticks\":\"outside\"},\"type\":\"choropleth\"}],\"contourcarpet\":[{\"colorbar\":{\"outlinewidth\":1,\"tickcolor\":\"rgb(36,36,36)\",\"ticks\":\"outside\"},\"type\":\"contourcarpet\"}],\"contour\":[{\"colorbar\":{\"outlinewidth\":1,\"tickcolor\":\"rgb(36,36,36)\",\"ticks\":\"outside\"},\"colorscale\":[[0.0,\"#440154\"],[0.1111111111111111,\"#482878\"],[0.2222222222222222,\"#3e4989\"],[0.3333333333333333,\"#31688e\"],[0.4444444444444444,\"#26828e\"],[0.5555555555555556,\"#1f9e89\"],[0.6666666666666666,\"#35b779\"],[0.7777777777777778,\"#6ece58\"],[0.8888888888888888,\"#b5de2b\"],[1.0,\"#fde725\"]],\"type\":\"contour\"}],\"heatmapgl\":[{\"colorbar\":{\"outlinewidth\":1,\"tickcolor\":\"rgb(36,36,36)\",\"ticks\":\"outside\"},\"colorscale\":[[0.0,\"#440154\"],[0.1111111111111111,\"#482878\"],[0.2222222222222222,\"#3e4989\"],[0.3333333333333333,\"#31688e\"],[0.4444444444444444,\"#26828e\"],[0.5555555555555556,\"#1f9e89\"],[0.6666666666666666,\"#35b779\"],[0.7777777777777778,\"#6ece58\"],[0.8888888888888888,\"#b5de2b\"],[1.0,\"#fde725\"]],\"type\":\"heatmapgl\"}],\"heatmap\":[{\"colorbar\":{\"outlinewidth\":1,\"tickcolor\":\"rgb(36,36,36)\",\"ticks\":\"outside\"},\"colorscale\":[[0.0,\"#440154\"],[0.1111111111111111,\"#482878\"],[0.2222222222222222,\"#3e4989\"],[0.3333333333333333,\"#31688e\"],[0.4444444444444444,\"#26828e\"],[0.5555555555555556,\"#1f9e89\"],[0.6666666666666666,\"#35b779\"],[0.7777777777777778,\"#6ece58\"],[0.8888888888888888,\"#b5de2b\"],[1.0,\"#fde725\"]],\"type\":\"heatmap\"}],\"histogram2dcontour\":[{\"colorbar\":{\"outlinewidth\":1,\"tickcolor\":\"rgb(36,36,36)\",\"ticks\":\"outside\"},\"colorscale\":[[0.0,\"#440154\"],[0.1111111111111111,\"#482878\"],[0.2222222222222222,\"#3e4989\"],[0.3333333333333333,\"#31688e\"],[0.4444444444444444,\"#26828e\"],[0.5555555555555556,\"#1f9e89\"],[0.6666666666666666,\"#35b779\"],[0.7777777777777778,\"#6ece58\"],[0.8888888888888888,\"#b5de2b\"],[1.0,\"#fde725\"]],\"type\":\"histogram2dcontour\"}],\"histogram2d\":[{\"colorbar\":{\"outlinewidth\":1,\"tickcolor\":\"rgb(36,36,36)\",\"ticks\":\"outside\"},\"colorscale\":[[0.0,\"#440154\"],[0.1111111111111111,\"#482878\"],[0.2222222222222222,\"#3e4989\"],[0.3333333333333333,\"#31688e\"],[0.4444444444444444,\"#26828e\"],[0.5555555555555556,\"#1f9e89\"],[0.6666666666666666,\"#35b779\"],[0.7777777777777778,\"#6ece58\"],[0.8888888888888888,\"#b5de2b\"],[1.0,\"#fde725\"]],\"type\":\"histogram2d\"}],\"histogram\":[{\"marker\":{\"line\":{\"color\":\"white\",\"width\":0.6}},\"type\":\"histogram\"}],\"mesh3d\":[{\"colorbar\":{\"outlinewidth\":1,\"tickcolor\":\"rgb(36,36,36)\",\"ticks\":\"outside\"},\"type\":\"mesh3d\"}],\"parcoords\":[{\"line\":{\"colorbar\":{\"outlinewidth\":1,\"tickcolor\":\"rgb(36,36,36)\",\"ticks\":\"outside\"}},\"type\":\"parcoords\"}],\"pie\":[{\"automargin\":true,\"type\":\"pie\"}],\"scatter3d\":[{\"line\":{\"colorbar\":{\"outlinewidth\":1,\"tickcolor\":\"rgb(36,36,36)\",\"ticks\":\"outside\"}},\"marker\":{\"colorbar\":{\"outlinewidth\":1,\"tickcolor\":\"rgb(36,36,36)\",\"ticks\":\"outside\"}},\"type\":\"scatter3d\"}],\"scattercarpet\":[{\"marker\":{\"colorbar\":{\"outlinewidth\":1,\"tickcolor\":\"rgb(36,36,36)\",\"ticks\":\"outside\"}},\"type\":\"scattercarpet\"}],\"scattergeo\":[{\"marker\":{\"colorbar\":{\"outlinewidth\":1,\"tickcolor\":\"rgb(36,36,36)\",\"ticks\":\"outside\"}},\"type\":\"scattergeo\"}],\"scattergl\":[{\"marker\":{\"colorbar\":{\"outlinewidth\":1,\"tickcolor\":\"rgb(36,36,36)\",\"ticks\":\"outside\"}},\"type\":\"scattergl\"}],\"scattermapbox\":[{\"marker\":{\"colorbar\":{\"outlinewidth\":1,\"tickcolor\":\"rgb(36,36,36)\",\"ticks\":\"outside\"}},\"type\":\"scattermapbox\"}],\"scatterpolargl\":[{\"marker\":{\"colorbar\":{\"outlinewidth\":1,\"tickcolor\":\"rgb(36,36,36)\",\"ticks\":\"outside\"}},\"type\":\"scatterpolargl\"}],\"scatterpolar\":[{\"marker\":{\"colorbar\":{\"outlinewidth\":1,\"tickcolor\":\"rgb(36,36,36)\",\"ticks\":\"outside\"}},\"type\":\"scatterpolar\"}],\"scatter\":[{\"fillpattern\":{\"fillmode\":\"overlay\",\"size\":10,\"solidity\":0.2},\"type\":\"scatter\"}],\"scatterternary\":[{\"marker\":{\"colorbar\":{\"outlinewidth\":1,\"tickcolor\":\"rgb(36,36,36)\",\"ticks\":\"outside\"}},\"type\":\"scatterternary\"}],\"surface\":[{\"colorbar\":{\"outlinewidth\":1,\"tickcolor\":\"rgb(36,36,36)\",\"ticks\":\"outside\"},\"colorscale\":[[0.0,\"#440154\"],[0.1111111111111111,\"#482878\"],[0.2222222222222222,\"#3e4989\"],[0.3333333333333333,\"#31688e\"],[0.4444444444444444,\"#26828e\"],[0.5555555555555556,\"#1f9e89\"],[0.6666666666666666,\"#35b779\"],[0.7777777777777778,\"#6ece58\"],[0.8888888888888888,\"#b5de2b\"],[1.0,\"#fde725\"]],\"type\":\"surface\"}],\"table\":[{\"cells\":{\"fill\":{\"color\":\"rgb(237,237,237)\"},\"line\":{\"color\":\"white\"}},\"header\":{\"fill\":{\"color\":\"rgb(217,217,217)\"},\"line\":{\"color\":\"white\"}},\"type\":\"table\"}]},\"layout\":{\"annotationdefaults\":{\"arrowhead\":0,\"arrowwidth\":1},\"autotypenumbers\":\"strict\",\"coloraxis\":{\"colorbar\":{\"outlinewidth\":1,\"tickcolor\":\"rgb(36,36,36)\",\"ticks\":\"outside\"}},\"colorscale\":{\"diverging\":[[0.0,\"rgb(103,0,31)\"],[0.1,\"rgb(178,24,43)\"],[0.2,\"rgb(214,96,77)\"],[0.3,\"rgb(244,165,130)\"],[0.4,\"rgb(253,219,199)\"],[0.5,\"rgb(247,247,247)\"],[0.6,\"rgb(209,229,240)\"],[0.7,\"rgb(146,197,222)\"],[0.8,\"rgb(67,147,195)\"],[0.9,\"rgb(33,102,172)\"],[1.0,\"rgb(5,48,97)\"]],\"sequential\":[[0.0,\"#440154\"],[0.1111111111111111,\"#482878\"],[0.2222222222222222,\"#3e4989\"],[0.3333333333333333,\"#31688e\"],[0.4444444444444444,\"#26828e\"],[0.5555555555555556,\"#1f9e89\"],[0.6666666666666666,\"#35b779\"],[0.7777777777777778,\"#6ece58\"],[0.8888888888888888,\"#b5de2b\"],[1.0,\"#fde725\"]],\"sequentialminus\":[[0.0,\"#440154\"],[0.1111111111111111,\"#482878\"],[0.2222222222222222,\"#3e4989\"],[0.3333333333333333,\"#31688e\"],[0.4444444444444444,\"#26828e\"],[0.5555555555555556,\"#1f9e89\"],[0.6666666666666666,\"#35b779\"],[0.7777777777777778,\"#6ece58\"],[0.8888888888888888,\"#b5de2b\"],[1.0,\"#fde725\"]]},\"colorway\":[\"#1F77B4\",\"#FF7F0E\",\"#2CA02C\",\"#D62728\",\"#9467BD\",\"#8C564B\",\"#E377C2\",\"#7F7F7F\",\"#BCBD22\",\"#17BECF\"],\"font\":{\"color\":\"rgb(36,36,36)\"},\"geo\":{\"bgcolor\":\"white\",\"lakecolor\":\"white\",\"landcolor\":\"white\",\"showlakes\":true,\"showland\":true,\"subunitcolor\":\"white\"},\"hoverlabel\":{\"align\":\"left\"},\"hovermode\":\"closest\",\"mapbox\":{\"style\":\"light\"},\"paper_bgcolor\":\"white\",\"plot_bgcolor\":\"white\",\"polar\":{\"angularaxis\":{\"gridcolor\":\"rgb(232,232,232)\",\"linecolor\":\"rgb(36,36,36)\",\"showgrid\":false,\"showline\":true,\"ticks\":\"outside\"},\"bgcolor\":\"white\",\"radialaxis\":{\"gridcolor\":\"rgb(232,232,232)\",\"linecolor\":\"rgb(36,36,36)\",\"showgrid\":false,\"showline\":true,\"ticks\":\"outside\"}},\"scene\":{\"xaxis\":{\"backgroundcolor\":\"white\",\"gridcolor\":\"rgb(232,232,232)\",\"gridwidth\":2,\"linecolor\":\"rgb(36,36,36)\",\"showbackground\":true,\"showgrid\":false,\"showline\":true,\"ticks\":\"outside\",\"zeroline\":false,\"zerolinecolor\":\"rgb(36,36,36)\"},\"yaxis\":{\"backgroundcolor\":\"white\",\"gridcolor\":\"rgb(232,232,232)\",\"gridwidth\":2,\"linecolor\":\"rgb(36,36,36)\",\"showbackground\":true,\"showgrid\":false,\"showline\":true,\"ticks\":\"outside\",\"zeroline\":false,\"zerolinecolor\":\"rgb(36,36,36)\"},\"zaxis\":{\"backgroundcolor\":\"white\",\"gridcolor\":\"rgb(232,232,232)\",\"gridwidth\":2,\"linecolor\":\"rgb(36,36,36)\",\"showbackground\":true,\"showgrid\":false,\"showline\":true,\"ticks\":\"outside\",\"zeroline\":false,\"zerolinecolor\":\"rgb(36,36,36)\"}},\"shapedefaults\":{\"fillcolor\":\"black\",\"line\":{\"width\":0},\"opacity\":0.3},\"ternary\":{\"aaxis\":{\"gridcolor\":\"rgb(232,232,232)\",\"linecolor\":\"rgb(36,36,36)\",\"showgrid\":false,\"showline\":true,\"ticks\":\"outside\"},\"baxis\":{\"gridcolor\":\"rgb(232,232,232)\",\"linecolor\":\"rgb(36,36,36)\",\"showgrid\":false,\"showline\":true,\"ticks\":\"outside\"},\"bgcolor\":\"white\",\"caxis\":{\"gridcolor\":\"rgb(232,232,232)\",\"linecolor\":\"rgb(36,36,36)\",\"showgrid\":false,\"showline\":true,\"ticks\":\"outside\"}},\"title\":{\"x\":0.05},\"xaxis\":{\"automargin\":true,\"gridcolor\":\"rgb(232,232,232)\",\"linecolor\":\"rgb(36,36,36)\",\"showgrid\":false,\"showline\":true,\"ticks\":\"outside\",\"title\":{\"standoff\":15},\"zeroline\":false,\"zerolinecolor\":\"rgb(36,36,36)\"},\"yaxis\":{\"automargin\":true,\"gridcolor\":\"rgb(232,232,232)\",\"linecolor\":\"rgb(36,36,36)\",\"showgrid\":false,\"showline\":true,\"ticks\":\"outside\",\"title\":{\"standoff\":15},\"zeroline\":false,\"zerolinecolor\":\"rgb(36,36,36)\"}}},\"legend\":{\"tracegroupgap\":0},\"title\":{\"text\":\"Distribution of Facility Types\"}},                        {\"responsive\": true}                    ).then(function(){\n",
       "                            \n",
       "var gd = document.getElementById('bccc8b81-41b2-47b6-a28b-b108977b7132');\n",
       "var x = new MutationObserver(function (mutations, observer) {{\n",
       "        var display = window.getComputedStyle(gd).display;\n",
       "        if (!display || display === 'none') {{\n",
       "            console.log([gd, 'removed!']);\n",
       "            Plotly.purge(gd);\n",
       "            observer.disconnect();\n",
       "        }}\n",
       "}});\n",
       "\n",
       "// Listen for the removal of the full notebook cells\n",
       "var notebookContainer = gd.closest('#notebook-container');\n",
       "if (notebookContainer) {{\n",
       "    x.observe(notebookContainer, {childList: true});\n",
       "}}\n",
       "\n",
       "// Listen for the clearing of the current output cell\n",
       "var outputEl = gd.closest('.output');\n",
       "if (outputEl) {{\n",
       "    x.observe(outputEl, {childList: true});\n",
       "}}\n",
       "\n",
       "                        })                };                });            </script>        </div>"
      ]
     },
     "metadata": {},
     "output_type": "display_data"
    }
   ],
   "execution_count": 160
  },
  {
   "metadata": {
    "ExecuteTime": {
     "end_time": "2025-01-03T04:32:04.107198Z",
     "start_time": "2025-01-03T04:32:04.062274Z"
    }
   },
   "cell_type": "code",
   "source": [
    "bar_fig = px.bar(\n",
    "    facility_counts,\n",
    "    x = 'Count',\n",
    "    y = 'Facility Type',\n",
    "    orientation = 'h',\n",
    "    title = 'What Types of Facilities Hold Sterile Compounding Licenses in California?',\n",
    "    labels = {'Facility Type': 'Type of Facility', 'Count' : 'Number of Facilities'},\n",
    "    template = 'seaborn'\n",
    ")\n",
    "\n",
    "bar_fig.show()"
   ],
   "id": "2ac3f1d93486a482",
   "outputs": [
    {
     "data": {
      "application/vnd.plotly.v1+json": {
       "data": [
        {
         "alignmentgroup": "True",
         "hovertemplate": "Number of Facilities=%{x}<br>Type of Facility=%{y}<extra></extra>",
         "legendgroup": "",
         "marker": {
          "color": "rgb(76,114,176)",
          "pattern": {
           "shape": ""
          }
         },
         "name": "",
         "offsetgroup": "",
         "orientation": "h",
         "showlegend": false,
         "textposition": "auto",
         "x": [
          643,
          118,
          11,
          1
         ],
         "xaxis": "x",
         "y": [
          "Medical Facility",
          "Infusion Center",
          "Veterinary Only",
          "Research Center"
         ],
         "yaxis": "y",
         "type": "bar"
        }
       ],
       "layout": {
        "template": {
         "data": {
          "barpolar": [
           {
            "marker": {
             "line": {
              "color": "rgb(234,234,242)",
              "width": 0.5
             },
             "pattern": {
              "fillmode": "overlay",
              "size": 10,
              "solidity": 0.2
             }
            },
            "type": "barpolar"
           }
          ],
          "bar": [
           {
            "error_x": {
             "color": "rgb(36,36,36)"
            },
            "error_y": {
             "color": "rgb(36,36,36)"
            },
            "marker": {
             "line": {
              "color": "rgb(234,234,242)",
              "width": 0.5
             },
             "pattern": {
              "fillmode": "overlay",
              "size": 10,
              "solidity": 0.2
             }
            },
            "type": "bar"
           }
          ],
          "carpet": [
           {
            "aaxis": {
             "endlinecolor": "rgb(36,36,36)",
             "gridcolor": "white",
             "linecolor": "white",
             "minorgridcolor": "white",
             "startlinecolor": "rgb(36,36,36)"
            },
            "baxis": {
             "endlinecolor": "rgb(36,36,36)",
             "gridcolor": "white",
             "linecolor": "white",
             "minorgridcolor": "white",
             "startlinecolor": "rgb(36,36,36)"
            },
            "type": "carpet"
           }
          ],
          "choropleth": [
           {
            "colorbar": {
             "outlinewidth": 0,
             "tickcolor": "rgb(36,36,36)",
             "ticklen": 8,
             "ticks": "outside",
             "tickwidth": 2
            },
            "type": "choropleth"
           }
          ],
          "contourcarpet": [
           {
            "colorbar": {
             "outlinewidth": 0,
             "tickcolor": "rgb(36,36,36)",
             "ticklen": 8,
             "ticks": "outside",
             "tickwidth": 2
            },
            "type": "contourcarpet"
           }
          ],
          "contour": [
           {
            "colorbar": {
             "outlinewidth": 0,
             "tickcolor": "rgb(36,36,36)",
             "ticklen": 8,
             "ticks": "outside",
             "tickwidth": 2
            },
            "colorscale": [
             [
              0.0,
              "rgb(2,4,25)"
             ],
             [
              0.06274509803921569,
              "rgb(24,15,41)"
             ],
             [
              0.12549019607843137,
              "rgb(47,23,57)"
             ],
             [
              0.18823529411764706,
              "rgb(71,28,72)"
             ],
             [
              0.25098039215686274,
              "rgb(97,30,82)"
             ],
             [
              0.3137254901960784,
              "rgb(123,30,89)"
             ],
             [
              0.3764705882352941,
              "rgb(150,27,91)"
             ],
             [
              0.4392156862745098,
              "rgb(177,22,88)"
             ],
             [
              0.5019607843137255,
              "rgb(203,26,79)"
             ],
             [
              0.5647058823529412,
              "rgb(223,47,67)"
             ],
             [
              0.6274509803921569,
              "rgb(236,76,61)"
             ],
             [
              0.6901960784313725,
              "rgb(242,107,73)"
             ],
             [
              0.7529411764705882,
              "rgb(244,135,95)"
             ],
             [
              0.8156862745098039,
              "rgb(245,162,122)"
             ],
             [
              0.8784313725490196,
              "rgb(246,188,153)"
             ],
             [
              0.9411764705882353,
              "rgb(247,212,187)"
             ],
             [
              1.0,
              "rgb(250,234,220)"
             ]
            ],
            "type": "contour"
           }
          ],
          "heatmapgl": [
           {
            "colorbar": {
             "outlinewidth": 0,
             "tickcolor": "rgb(36,36,36)",
             "ticklen": 8,
             "ticks": "outside",
             "tickwidth": 2
            },
            "colorscale": [
             [
              0.0,
              "rgb(2,4,25)"
             ],
             [
              0.06274509803921569,
              "rgb(24,15,41)"
             ],
             [
              0.12549019607843137,
              "rgb(47,23,57)"
             ],
             [
              0.18823529411764706,
              "rgb(71,28,72)"
             ],
             [
              0.25098039215686274,
              "rgb(97,30,82)"
             ],
             [
              0.3137254901960784,
              "rgb(123,30,89)"
             ],
             [
              0.3764705882352941,
              "rgb(150,27,91)"
             ],
             [
              0.4392156862745098,
              "rgb(177,22,88)"
             ],
             [
              0.5019607843137255,
              "rgb(203,26,79)"
             ],
             [
              0.5647058823529412,
              "rgb(223,47,67)"
             ],
             [
              0.6274509803921569,
              "rgb(236,76,61)"
             ],
             [
              0.6901960784313725,
              "rgb(242,107,73)"
             ],
             [
              0.7529411764705882,
              "rgb(244,135,95)"
             ],
             [
              0.8156862745098039,
              "rgb(245,162,122)"
             ],
             [
              0.8784313725490196,
              "rgb(246,188,153)"
             ],
             [
              0.9411764705882353,
              "rgb(247,212,187)"
             ],
             [
              1.0,
              "rgb(250,234,220)"
             ]
            ],
            "type": "heatmapgl"
           }
          ],
          "heatmap": [
           {
            "colorbar": {
             "outlinewidth": 0,
             "tickcolor": "rgb(36,36,36)",
             "ticklen": 8,
             "ticks": "outside",
             "tickwidth": 2
            },
            "colorscale": [
             [
              0.0,
              "rgb(2,4,25)"
             ],
             [
              0.06274509803921569,
              "rgb(24,15,41)"
             ],
             [
              0.12549019607843137,
              "rgb(47,23,57)"
             ],
             [
              0.18823529411764706,
              "rgb(71,28,72)"
             ],
             [
              0.25098039215686274,
              "rgb(97,30,82)"
             ],
             [
              0.3137254901960784,
              "rgb(123,30,89)"
             ],
             [
              0.3764705882352941,
              "rgb(150,27,91)"
             ],
             [
              0.4392156862745098,
              "rgb(177,22,88)"
             ],
             [
              0.5019607843137255,
              "rgb(203,26,79)"
             ],
             [
              0.5647058823529412,
              "rgb(223,47,67)"
             ],
             [
              0.6274509803921569,
              "rgb(236,76,61)"
             ],
             [
              0.6901960784313725,
              "rgb(242,107,73)"
             ],
             [
              0.7529411764705882,
              "rgb(244,135,95)"
             ],
             [
              0.8156862745098039,
              "rgb(245,162,122)"
             ],
             [
              0.8784313725490196,
              "rgb(246,188,153)"
             ],
             [
              0.9411764705882353,
              "rgb(247,212,187)"
             ],
             [
              1.0,
              "rgb(250,234,220)"
             ]
            ],
            "type": "heatmap"
           }
          ],
          "histogram2dcontour": [
           {
            "colorbar": {
             "outlinewidth": 0,
             "tickcolor": "rgb(36,36,36)",
             "ticklen": 8,
             "ticks": "outside",
             "tickwidth": 2
            },
            "colorscale": [
             [
              0.0,
              "rgb(2,4,25)"
             ],
             [
              0.06274509803921569,
              "rgb(24,15,41)"
             ],
             [
              0.12549019607843137,
              "rgb(47,23,57)"
             ],
             [
              0.18823529411764706,
              "rgb(71,28,72)"
             ],
             [
              0.25098039215686274,
              "rgb(97,30,82)"
             ],
             [
              0.3137254901960784,
              "rgb(123,30,89)"
             ],
             [
              0.3764705882352941,
              "rgb(150,27,91)"
             ],
             [
              0.4392156862745098,
              "rgb(177,22,88)"
             ],
             [
              0.5019607843137255,
              "rgb(203,26,79)"
             ],
             [
              0.5647058823529412,
              "rgb(223,47,67)"
             ],
             [
              0.6274509803921569,
              "rgb(236,76,61)"
             ],
             [
              0.6901960784313725,
              "rgb(242,107,73)"
             ],
             [
              0.7529411764705882,
              "rgb(244,135,95)"
             ],
             [
              0.8156862745098039,
              "rgb(245,162,122)"
             ],
             [
              0.8784313725490196,
              "rgb(246,188,153)"
             ],
             [
              0.9411764705882353,
              "rgb(247,212,187)"
             ],
             [
              1.0,
              "rgb(250,234,220)"
             ]
            ],
            "type": "histogram2dcontour"
           }
          ],
          "histogram2d": [
           {
            "colorbar": {
             "outlinewidth": 0,
             "tickcolor": "rgb(36,36,36)",
             "ticklen": 8,
             "ticks": "outside",
             "tickwidth": 2
            },
            "colorscale": [
             [
              0.0,
              "rgb(2,4,25)"
             ],
             [
              0.06274509803921569,
              "rgb(24,15,41)"
             ],
             [
              0.12549019607843137,
              "rgb(47,23,57)"
             ],
             [
              0.18823529411764706,
              "rgb(71,28,72)"
             ],
             [
              0.25098039215686274,
              "rgb(97,30,82)"
             ],
             [
              0.3137254901960784,
              "rgb(123,30,89)"
             ],
             [
              0.3764705882352941,
              "rgb(150,27,91)"
             ],
             [
              0.4392156862745098,
              "rgb(177,22,88)"
             ],
             [
              0.5019607843137255,
              "rgb(203,26,79)"
             ],
             [
              0.5647058823529412,
              "rgb(223,47,67)"
             ],
             [
              0.6274509803921569,
              "rgb(236,76,61)"
             ],
             [
              0.6901960784313725,
              "rgb(242,107,73)"
             ],
             [
              0.7529411764705882,
              "rgb(244,135,95)"
             ],
             [
              0.8156862745098039,
              "rgb(245,162,122)"
             ],
             [
              0.8784313725490196,
              "rgb(246,188,153)"
             ],
             [
              0.9411764705882353,
              "rgb(247,212,187)"
             ],
             [
              1.0,
              "rgb(250,234,220)"
             ]
            ],
            "type": "histogram2d"
           }
          ],
          "histogram": [
           {
            "marker": {
             "pattern": {
              "fillmode": "overlay",
              "size": 10,
              "solidity": 0.2
             }
            },
            "type": "histogram"
           }
          ],
          "mesh3d": [
           {
            "colorbar": {
             "outlinewidth": 0,
             "tickcolor": "rgb(36,36,36)",
             "ticklen": 8,
             "ticks": "outside",
             "tickwidth": 2
            },
            "type": "mesh3d"
           }
          ],
          "parcoords": [
           {
            "line": {
             "colorbar": {
              "outlinewidth": 0,
              "tickcolor": "rgb(36,36,36)",
              "ticklen": 8,
              "ticks": "outside",
              "tickwidth": 2
             }
            },
            "type": "parcoords"
           }
          ],
          "pie": [
           {
            "automargin": true,
            "type": "pie"
           }
          ],
          "scatter3d": [
           {
            "line": {
             "colorbar": {
              "outlinewidth": 0,
              "tickcolor": "rgb(36,36,36)",
              "ticklen": 8,
              "ticks": "outside",
              "tickwidth": 2
             }
            },
            "marker": {
             "colorbar": {
              "outlinewidth": 0,
              "tickcolor": "rgb(36,36,36)",
              "ticklen": 8,
              "ticks": "outside",
              "tickwidth": 2
             }
            },
            "type": "scatter3d"
           }
          ],
          "scattercarpet": [
           {
            "marker": {
             "colorbar": {
              "outlinewidth": 0,
              "tickcolor": "rgb(36,36,36)",
              "ticklen": 8,
              "ticks": "outside",
              "tickwidth": 2
             }
            },
            "type": "scattercarpet"
           }
          ],
          "scattergeo": [
           {
            "marker": {
             "colorbar": {
              "outlinewidth": 0,
              "tickcolor": "rgb(36,36,36)",
              "ticklen": 8,
              "ticks": "outside",
              "tickwidth": 2
             }
            },
            "type": "scattergeo"
           }
          ],
          "scattergl": [
           {
            "marker": {
             "colorbar": {
              "outlinewidth": 0,
              "tickcolor": "rgb(36,36,36)",
              "ticklen": 8,
              "ticks": "outside",
              "tickwidth": 2
             }
            },
            "type": "scattergl"
           }
          ],
          "scattermapbox": [
           {
            "marker": {
             "colorbar": {
              "outlinewidth": 0,
              "tickcolor": "rgb(36,36,36)",
              "ticklen": 8,
              "ticks": "outside",
              "tickwidth": 2
             }
            },
            "type": "scattermapbox"
           }
          ],
          "scatterpolargl": [
           {
            "marker": {
             "colorbar": {
              "outlinewidth": 0,
              "tickcolor": "rgb(36,36,36)",
              "ticklen": 8,
              "ticks": "outside",
              "tickwidth": 2
             }
            },
            "type": "scatterpolargl"
           }
          ],
          "scatterpolar": [
           {
            "marker": {
             "colorbar": {
              "outlinewidth": 0,
              "tickcolor": "rgb(36,36,36)",
              "ticklen": 8,
              "ticks": "outside",
              "tickwidth": 2
             }
            },
            "type": "scatterpolar"
           }
          ],
          "scatter": [
           {
            "fillpattern": {
             "fillmode": "overlay",
             "size": 10,
             "solidity": 0.2
            },
            "type": "scatter"
           }
          ],
          "scatterternary": [
           {
            "marker": {
             "colorbar": {
              "outlinewidth": 0,
              "tickcolor": "rgb(36,36,36)",
              "ticklen": 8,
              "ticks": "outside",
              "tickwidth": 2
             }
            },
            "type": "scatterternary"
           }
          ],
          "surface": [
           {
            "colorbar": {
             "outlinewidth": 0,
             "tickcolor": "rgb(36,36,36)",
             "ticklen": 8,
             "ticks": "outside",
             "tickwidth": 2
            },
            "colorscale": [
             [
              0.0,
              "rgb(2,4,25)"
             ],
             [
              0.06274509803921569,
              "rgb(24,15,41)"
             ],
             [
              0.12549019607843137,
              "rgb(47,23,57)"
             ],
             [
              0.18823529411764706,
              "rgb(71,28,72)"
             ],
             [
              0.25098039215686274,
              "rgb(97,30,82)"
             ],
             [
              0.3137254901960784,
              "rgb(123,30,89)"
             ],
             [
              0.3764705882352941,
              "rgb(150,27,91)"
             ],
             [
              0.4392156862745098,
              "rgb(177,22,88)"
             ],
             [
              0.5019607843137255,
              "rgb(203,26,79)"
             ],
             [
              0.5647058823529412,
              "rgb(223,47,67)"
             ],
             [
              0.6274509803921569,
              "rgb(236,76,61)"
             ],
             [
              0.6901960784313725,
              "rgb(242,107,73)"
             ],
             [
              0.7529411764705882,
              "rgb(244,135,95)"
             ],
             [
              0.8156862745098039,
              "rgb(245,162,122)"
             ],
             [
              0.8784313725490196,
              "rgb(246,188,153)"
             ],
             [
              0.9411764705882353,
              "rgb(247,212,187)"
             ],
             [
              1.0,
              "rgb(250,234,220)"
             ]
            ],
            "type": "surface"
           }
          ],
          "table": [
           {
            "cells": {
             "fill": {
              "color": "rgb(231,231,240)"
             },
             "line": {
              "color": "white"
             }
            },
            "header": {
             "fill": {
              "color": "rgb(183,183,191)"
             },
             "line": {
              "color": "white"
             }
            },
            "type": "table"
           }
          ]
         },
         "layout": {
          "annotationdefaults": {
           "arrowcolor": "rgb(67,103,167)"
          },
          "autotypenumbers": "strict",
          "coloraxis": {
           "colorbar": {
            "outlinewidth": 0,
            "tickcolor": "rgb(36,36,36)",
            "ticklen": 8,
            "ticks": "outside",
            "tickwidth": 2
           }
          },
          "colorscale": {
           "sequential": [
            [
             0.0,
             "rgb(2,4,25)"
            ],
            [
             0.06274509803921569,
             "rgb(24,15,41)"
            ],
            [
             0.12549019607843137,
             "rgb(47,23,57)"
            ],
            [
             0.18823529411764706,
             "rgb(71,28,72)"
            ],
            [
             0.25098039215686274,
             "rgb(97,30,82)"
            ],
            [
             0.3137254901960784,
             "rgb(123,30,89)"
            ],
            [
             0.3764705882352941,
             "rgb(150,27,91)"
            ],
            [
             0.4392156862745098,
             "rgb(177,22,88)"
            ],
            [
             0.5019607843137255,
             "rgb(203,26,79)"
            ],
            [
             0.5647058823529412,
             "rgb(223,47,67)"
            ],
            [
             0.6274509803921569,
             "rgb(236,76,61)"
            ],
            [
             0.6901960784313725,
             "rgb(242,107,73)"
            ],
            [
             0.7529411764705882,
             "rgb(244,135,95)"
            ],
            [
             0.8156862745098039,
             "rgb(245,162,122)"
            ],
            [
             0.8784313725490196,
             "rgb(246,188,153)"
            ],
            [
             0.9411764705882353,
             "rgb(247,212,187)"
            ],
            [
             1.0,
             "rgb(250,234,220)"
            ]
           ],
           "sequentialminus": [
            [
             0.0,
             "rgb(2,4,25)"
            ],
            [
             0.06274509803921569,
             "rgb(24,15,41)"
            ],
            [
             0.12549019607843137,
             "rgb(47,23,57)"
            ],
            [
             0.18823529411764706,
             "rgb(71,28,72)"
            ],
            [
             0.25098039215686274,
             "rgb(97,30,82)"
            ],
            [
             0.3137254901960784,
             "rgb(123,30,89)"
            ],
            [
             0.3764705882352941,
             "rgb(150,27,91)"
            ],
            [
             0.4392156862745098,
             "rgb(177,22,88)"
            ],
            [
             0.5019607843137255,
             "rgb(203,26,79)"
            ],
            [
             0.5647058823529412,
             "rgb(223,47,67)"
            ],
            [
             0.6274509803921569,
             "rgb(236,76,61)"
            ],
            [
             0.6901960784313725,
             "rgb(242,107,73)"
            ],
            [
             0.7529411764705882,
             "rgb(244,135,95)"
            ],
            [
             0.8156862745098039,
             "rgb(245,162,122)"
            ],
            [
             0.8784313725490196,
             "rgb(246,188,153)"
            ],
            [
             0.9411764705882353,
             "rgb(247,212,187)"
            ],
            [
             1.0,
             "rgb(250,234,220)"
            ]
           ]
          },
          "colorway": [
           "rgb(76,114,176)",
           "rgb(221,132,82)",
           "rgb(85,168,104)",
           "rgb(196,78,82)",
           "rgb(129,114,179)",
           "rgb(147,120,96)",
           "rgb(218,139,195)",
           "rgb(140,140,140)",
           "rgb(204,185,116)",
           "rgb(100,181,205)"
          ],
          "font": {
           "color": "rgb(36,36,36)"
          },
          "geo": {
           "bgcolor": "white",
           "lakecolor": "white",
           "landcolor": "rgb(234,234,242)",
           "showlakes": true,
           "showland": true,
           "subunitcolor": "white"
          },
          "hoverlabel": {
           "align": "left"
          },
          "hovermode": "closest",
          "paper_bgcolor": "white",
          "plot_bgcolor": "rgb(234,234,242)",
          "polar": {
           "angularaxis": {
            "gridcolor": "white",
            "linecolor": "white",
            "showgrid": true,
            "ticks": ""
           },
           "bgcolor": "rgb(234,234,242)",
           "radialaxis": {
            "gridcolor": "white",
            "linecolor": "white",
            "showgrid": true,
            "ticks": ""
           }
          },
          "scene": {
           "xaxis": {
            "backgroundcolor": "rgb(234,234,242)",
            "gridcolor": "white",
            "gridwidth": 2,
            "linecolor": "white",
            "showbackground": true,
            "showgrid": true,
            "ticks": "",
            "zerolinecolor": "white"
           },
           "yaxis": {
            "backgroundcolor": "rgb(234,234,242)",
            "gridcolor": "white",
            "gridwidth": 2,
            "linecolor": "white",
            "showbackground": true,
            "showgrid": true,
            "ticks": "",
            "zerolinecolor": "white"
           },
           "zaxis": {
            "backgroundcolor": "rgb(234,234,242)",
            "gridcolor": "white",
            "gridwidth": 2,
            "linecolor": "white",
            "showbackground": true,
            "showgrid": true,
            "ticks": "",
            "zerolinecolor": "white"
           }
          },
          "shapedefaults": {
           "fillcolor": "rgb(67,103,167)",
           "line": {
            "width": 0
           },
           "opacity": 0.5
          },
          "ternary": {
           "aaxis": {
            "gridcolor": "white",
            "linecolor": "white",
            "showgrid": true,
            "ticks": ""
           },
           "baxis": {
            "gridcolor": "white",
            "linecolor": "white",
            "showgrid": true,
            "ticks": ""
           },
           "bgcolor": "rgb(234,234,242)",
           "caxis": {
            "gridcolor": "white",
            "linecolor": "white",
            "showgrid": true,
            "ticks": ""
           }
          },
          "xaxis": {
           "automargin": true,
           "gridcolor": "white",
           "linecolor": "white",
           "showgrid": true,
           "ticks": "",
           "title": {
            "standoff": 15
           },
           "zerolinecolor": "white"
          },
          "yaxis": {
           "automargin": true,
           "gridcolor": "white",
           "linecolor": "white",
           "showgrid": true,
           "ticks": "",
           "title": {
            "standoff": 15
           },
           "zerolinecolor": "white"
          }
         }
        },
        "xaxis": {
         "anchor": "y",
         "domain": [
          0.0,
          1.0
         ],
         "title": {
          "text": "Number of Facilities"
         }
        },
        "yaxis": {
         "anchor": "x",
         "domain": [
          0.0,
          1.0
         ],
         "title": {
          "text": "Type of Facility"
         }
        },
        "legend": {
         "tracegroupgap": 0
        },
        "title": {
         "text": "What Types of Facilities Hold Sterile Compounding Licenses in California?"
        },
        "barmode": "relative"
       },
       "config": {
        "plotlyServerURL": "https://plot.ly"
       }
      },
      "text/html": [
       "<div>                            <div id=\"b6ee333a-5579-40dd-85b3-116230d527c5\" class=\"plotly-graph-div\" style=\"height:525px; width:100%;\"></div>            <script type=\"text/javascript\">                require([\"plotly\"], function(Plotly) {                    window.PLOTLYENV=window.PLOTLYENV || {};                                    if (document.getElementById(\"b6ee333a-5579-40dd-85b3-116230d527c5\")) {                    Plotly.newPlot(                        \"b6ee333a-5579-40dd-85b3-116230d527c5\",                        [{\"alignmentgroup\":\"True\",\"hovertemplate\":\"Number of Facilities=%{x}\\u003cbr\\u003eType of Facility=%{y}\\u003cextra\\u003e\\u003c\\u002fextra\\u003e\",\"legendgroup\":\"\",\"marker\":{\"color\":\"rgb(76,114,176)\",\"pattern\":{\"shape\":\"\"}},\"name\":\"\",\"offsetgroup\":\"\",\"orientation\":\"h\",\"showlegend\":false,\"textposition\":\"auto\",\"x\":[643,118,11,1],\"xaxis\":\"x\",\"y\":[\"Medical Facility\",\"Infusion Center\",\"Veterinary Only\",\"Research Center\"],\"yaxis\":\"y\",\"type\":\"bar\"}],                        {\"template\":{\"data\":{\"barpolar\":[{\"marker\":{\"line\":{\"color\":\"rgb(234,234,242)\",\"width\":0.5},\"pattern\":{\"fillmode\":\"overlay\",\"size\":10,\"solidity\":0.2}},\"type\":\"barpolar\"}],\"bar\":[{\"error_x\":{\"color\":\"rgb(36,36,36)\"},\"error_y\":{\"color\":\"rgb(36,36,36)\"},\"marker\":{\"line\":{\"color\":\"rgb(234,234,242)\",\"width\":0.5},\"pattern\":{\"fillmode\":\"overlay\",\"size\":10,\"solidity\":0.2}},\"type\":\"bar\"}],\"carpet\":[{\"aaxis\":{\"endlinecolor\":\"rgb(36,36,36)\",\"gridcolor\":\"white\",\"linecolor\":\"white\",\"minorgridcolor\":\"white\",\"startlinecolor\":\"rgb(36,36,36)\"},\"baxis\":{\"endlinecolor\":\"rgb(36,36,36)\",\"gridcolor\":\"white\",\"linecolor\":\"white\",\"minorgridcolor\":\"white\",\"startlinecolor\":\"rgb(36,36,36)\"},\"type\":\"carpet\"}],\"choropleth\":[{\"colorbar\":{\"outlinewidth\":0,\"tickcolor\":\"rgb(36,36,36)\",\"ticklen\":8,\"ticks\":\"outside\",\"tickwidth\":2},\"type\":\"choropleth\"}],\"contourcarpet\":[{\"colorbar\":{\"outlinewidth\":0,\"tickcolor\":\"rgb(36,36,36)\",\"ticklen\":8,\"ticks\":\"outside\",\"tickwidth\":2},\"type\":\"contourcarpet\"}],\"contour\":[{\"colorbar\":{\"outlinewidth\":0,\"tickcolor\":\"rgb(36,36,36)\",\"ticklen\":8,\"ticks\":\"outside\",\"tickwidth\":2},\"colorscale\":[[0.0,\"rgb(2,4,25)\"],[0.06274509803921569,\"rgb(24,15,41)\"],[0.12549019607843137,\"rgb(47,23,57)\"],[0.18823529411764706,\"rgb(71,28,72)\"],[0.25098039215686274,\"rgb(97,30,82)\"],[0.3137254901960784,\"rgb(123,30,89)\"],[0.3764705882352941,\"rgb(150,27,91)\"],[0.4392156862745098,\"rgb(177,22,88)\"],[0.5019607843137255,\"rgb(203,26,79)\"],[0.5647058823529412,\"rgb(223,47,67)\"],[0.6274509803921569,\"rgb(236,76,61)\"],[0.6901960784313725,\"rgb(242,107,73)\"],[0.7529411764705882,\"rgb(244,135,95)\"],[0.8156862745098039,\"rgb(245,162,122)\"],[0.8784313725490196,\"rgb(246,188,153)\"],[0.9411764705882353,\"rgb(247,212,187)\"],[1.0,\"rgb(250,234,220)\"]],\"type\":\"contour\"}],\"heatmapgl\":[{\"colorbar\":{\"outlinewidth\":0,\"tickcolor\":\"rgb(36,36,36)\",\"ticklen\":8,\"ticks\":\"outside\",\"tickwidth\":2},\"colorscale\":[[0.0,\"rgb(2,4,25)\"],[0.06274509803921569,\"rgb(24,15,41)\"],[0.12549019607843137,\"rgb(47,23,57)\"],[0.18823529411764706,\"rgb(71,28,72)\"],[0.25098039215686274,\"rgb(97,30,82)\"],[0.3137254901960784,\"rgb(123,30,89)\"],[0.3764705882352941,\"rgb(150,27,91)\"],[0.4392156862745098,\"rgb(177,22,88)\"],[0.5019607843137255,\"rgb(203,26,79)\"],[0.5647058823529412,\"rgb(223,47,67)\"],[0.6274509803921569,\"rgb(236,76,61)\"],[0.6901960784313725,\"rgb(242,107,73)\"],[0.7529411764705882,\"rgb(244,135,95)\"],[0.8156862745098039,\"rgb(245,162,122)\"],[0.8784313725490196,\"rgb(246,188,153)\"],[0.9411764705882353,\"rgb(247,212,187)\"],[1.0,\"rgb(250,234,220)\"]],\"type\":\"heatmapgl\"}],\"heatmap\":[{\"colorbar\":{\"outlinewidth\":0,\"tickcolor\":\"rgb(36,36,36)\",\"ticklen\":8,\"ticks\":\"outside\",\"tickwidth\":2},\"colorscale\":[[0.0,\"rgb(2,4,25)\"],[0.06274509803921569,\"rgb(24,15,41)\"],[0.12549019607843137,\"rgb(47,23,57)\"],[0.18823529411764706,\"rgb(71,28,72)\"],[0.25098039215686274,\"rgb(97,30,82)\"],[0.3137254901960784,\"rgb(123,30,89)\"],[0.3764705882352941,\"rgb(150,27,91)\"],[0.4392156862745098,\"rgb(177,22,88)\"],[0.5019607843137255,\"rgb(203,26,79)\"],[0.5647058823529412,\"rgb(223,47,67)\"],[0.6274509803921569,\"rgb(236,76,61)\"],[0.6901960784313725,\"rgb(242,107,73)\"],[0.7529411764705882,\"rgb(244,135,95)\"],[0.8156862745098039,\"rgb(245,162,122)\"],[0.8784313725490196,\"rgb(246,188,153)\"],[0.9411764705882353,\"rgb(247,212,187)\"],[1.0,\"rgb(250,234,220)\"]],\"type\":\"heatmap\"}],\"histogram2dcontour\":[{\"colorbar\":{\"outlinewidth\":0,\"tickcolor\":\"rgb(36,36,36)\",\"ticklen\":8,\"ticks\":\"outside\",\"tickwidth\":2},\"colorscale\":[[0.0,\"rgb(2,4,25)\"],[0.06274509803921569,\"rgb(24,15,41)\"],[0.12549019607843137,\"rgb(47,23,57)\"],[0.18823529411764706,\"rgb(71,28,72)\"],[0.25098039215686274,\"rgb(97,30,82)\"],[0.3137254901960784,\"rgb(123,30,89)\"],[0.3764705882352941,\"rgb(150,27,91)\"],[0.4392156862745098,\"rgb(177,22,88)\"],[0.5019607843137255,\"rgb(203,26,79)\"],[0.5647058823529412,\"rgb(223,47,67)\"],[0.6274509803921569,\"rgb(236,76,61)\"],[0.6901960784313725,\"rgb(242,107,73)\"],[0.7529411764705882,\"rgb(244,135,95)\"],[0.8156862745098039,\"rgb(245,162,122)\"],[0.8784313725490196,\"rgb(246,188,153)\"],[0.9411764705882353,\"rgb(247,212,187)\"],[1.0,\"rgb(250,234,220)\"]],\"type\":\"histogram2dcontour\"}],\"histogram2d\":[{\"colorbar\":{\"outlinewidth\":0,\"tickcolor\":\"rgb(36,36,36)\",\"ticklen\":8,\"ticks\":\"outside\",\"tickwidth\":2},\"colorscale\":[[0.0,\"rgb(2,4,25)\"],[0.06274509803921569,\"rgb(24,15,41)\"],[0.12549019607843137,\"rgb(47,23,57)\"],[0.18823529411764706,\"rgb(71,28,72)\"],[0.25098039215686274,\"rgb(97,30,82)\"],[0.3137254901960784,\"rgb(123,30,89)\"],[0.3764705882352941,\"rgb(150,27,91)\"],[0.4392156862745098,\"rgb(177,22,88)\"],[0.5019607843137255,\"rgb(203,26,79)\"],[0.5647058823529412,\"rgb(223,47,67)\"],[0.6274509803921569,\"rgb(236,76,61)\"],[0.6901960784313725,\"rgb(242,107,73)\"],[0.7529411764705882,\"rgb(244,135,95)\"],[0.8156862745098039,\"rgb(245,162,122)\"],[0.8784313725490196,\"rgb(246,188,153)\"],[0.9411764705882353,\"rgb(247,212,187)\"],[1.0,\"rgb(250,234,220)\"]],\"type\":\"histogram2d\"}],\"histogram\":[{\"marker\":{\"pattern\":{\"fillmode\":\"overlay\",\"size\":10,\"solidity\":0.2}},\"type\":\"histogram\"}],\"mesh3d\":[{\"colorbar\":{\"outlinewidth\":0,\"tickcolor\":\"rgb(36,36,36)\",\"ticklen\":8,\"ticks\":\"outside\",\"tickwidth\":2},\"type\":\"mesh3d\"}],\"parcoords\":[{\"line\":{\"colorbar\":{\"outlinewidth\":0,\"tickcolor\":\"rgb(36,36,36)\",\"ticklen\":8,\"ticks\":\"outside\",\"tickwidth\":2}},\"type\":\"parcoords\"}],\"pie\":[{\"automargin\":true,\"type\":\"pie\"}],\"scatter3d\":[{\"line\":{\"colorbar\":{\"outlinewidth\":0,\"tickcolor\":\"rgb(36,36,36)\",\"ticklen\":8,\"ticks\":\"outside\",\"tickwidth\":2}},\"marker\":{\"colorbar\":{\"outlinewidth\":0,\"tickcolor\":\"rgb(36,36,36)\",\"ticklen\":8,\"ticks\":\"outside\",\"tickwidth\":2}},\"type\":\"scatter3d\"}],\"scattercarpet\":[{\"marker\":{\"colorbar\":{\"outlinewidth\":0,\"tickcolor\":\"rgb(36,36,36)\",\"ticklen\":8,\"ticks\":\"outside\",\"tickwidth\":2}},\"type\":\"scattercarpet\"}],\"scattergeo\":[{\"marker\":{\"colorbar\":{\"outlinewidth\":0,\"tickcolor\":\"rgb(36,36,36)\",\"ticklen\":8,\"ticks\":\"outside\",\"tickwidth\":2}},\"type\":\"scattergeo\"}],\"scattergl\":[{\"marker\":{\"colorbar\":{\"outlinewidth\":0,\"tickcolor\":\"rgb(36,36,36)\",\"ticklen\":8,\"ticks\":\"outside\",\"tickwidth\":2}},\"type\":\"scattergl\"}],\"scattermapbox\":[{\"marker\":{\"colorbar\":{\"outlinewidth\":0,\"tickcolor\":\"rgb(36,36,36)\",\"ticklen\":8,\"ticks\":\"outside\",\"tickwidth\":2}},\"type\":\"scattermapbox\"}],\"scatterpolargl\":[{\"marker\":{\"colorbar\":{\"outlinewidth\":0,\"tickcolor\":\"rgb(36,36,36)\",\"ticklen\":8,\"ticks\":\"outside\",\"tickwidth\":2}},\"type\":\"scatterpolargl\"}],\"scatterpolar\":[{\"marker\":{\"colorbar\":{\"outlinewidth\":0,\"tickcolor\":\"rgb(36,36,36)\",\"ticklen\":8,\"ticks\":\"outside\",\"tickwidth\":2}},\"type\":\"scatterpolar\"}],\"scatter\":[{\"fillpattern\":{\"fillmode\":\"overlay\",\"size\":10,\"solidity\":0.2},\"type\":\"scatter\"}],\"scatterternary\":[{\"marker\":{\"colorbar\":{\"outlinewidth\":0,\"tickcolor\":\"rgb(36,36,36)\",\"ticklen\":8,\"ticks\":\"outside\",\"tickwidth\":2}},\"type\":\"scatterternary\"}],\"surface\":[{\"colorbar\":{\"outlinewidth\":0,\"tickcolor\":\"rgb(36,36,36)\",\"ticklen\":8,\"ticks\":\"outside\",\"tickwidth\":2},\"colorscale\":[[0.0,\"rgb(2,4,25)\"],[0.06274509803921569,\"rgb(24,15,41)\"],[0.12549019607843137,\"rgb(47,23,57)\"],[0.18823529411764706,\"rgb(71,28,72)\"],[0.25098039215686274,\"rgb(97,30,82)\"],[0.3137254901960784,\"rgb(123,30,89)\"],[0.3764705882352941,\"rgb(150,27,91)\"],[0.4392156862745098,\"rgb(177,22,88)\"],[0.5019607843137255,\"rgb(203,26,79)\"],[0.5647058823529412,\"rgb(223,47,67)\"],[0.6274509803921569,\"rgb(236,76,61)\"],[0.6901960784313725,\"rgb(242,107,73)\"],[0.7529411764705882,\"rgb(244,135,95)\"],[0.8156862745098039,\"rgb(245,162,122)\"],[0.8784313725490196,\"rgb(246,188,153)\"],[0.9411764705882353,\"rgb(247,212,187)\"],[1.0,\"rgb(250,234,220)\"]],\"type\":\"surface\"}],\"table\":[{\"cells\":{\"fill\":{\"color\":\"rgb(231,231,240)\"},\"line\":{\"color\":\"white\"}},\"header\":{\"fill\":{\"color\":\"rgb(183,183,191)\"},\"line\":{\"color\":\"white\"}},\"type\":\"table\"}]},\"layout\":{\"annotationdefaults\":{\"arrowcolor\":\"rgb(67,103,167)\"},\"autotypenumbers\":\"strict\",\"coloraxis\":{\"colorbar\":{\"outlinewidth\":0,\"tickcolor\":\"rgb(36,36,36)\",\"ticklen\":8,\"ticks\":\"outside\",\"tickwidth\":2}},\"colorscale\":{\"sequential\":[[0.0,\"rgb(2,4,25)\"],[0.06274509803921569,\"rgb(24,15,41)\"],[0.12549019607843137,\"rgb(47,23,57)\"],[0.18823529411764706,\"rgb(71,28,72)\"],[0.25098039215686274,\"rgb(97,30,82)\"],[0.3137254901960784,\"rgb(123,30,89)\"],[0.3764705882352941,\"rgb(150,27,91)\"],[0.4392156862745098,\"rgb(177,22,88)\"],[0.5019607843137255,\"rgb(203,26,79)\"],[0.5647058823529412,\"rgb(223,47,67)\"],[0.6274509803921569,\"rgb(236,76,61)\"],[0.6901960784313725,\"rgb(242,107,73)\"],[0.7529411764705882,\"rgb(244,135,95)\"],[0.8156862745098039,\"rgb(245,162,122)\"],[0.8784313725490196,\"rgb(246,188,153)\"],[0.9411764705882353,\"rgb(247,212,187)\"],[1.0,\"rgb(250,234,220)\"]],\"sequentialminus\":[[0.0,\"rgb(2,4,25)\"],[0.06274509803921569,\"rgb(24,15,41)\"],[0.12549019607843137,\"rgb(47,23,57)\"],[0.18823529411764706,\"rgb(71,28,72)\"],[0.25098039215686274,\"rgb(97,30,82)\"],[0.3137254901960784,\"rgb(123,30,89)\"],[0.3764705882352941,\"rgb(150,27,91)\"],[0.4392156862745098,\"rgb(177,22,88)\"],[0.5019607843137255,\"rgb(203,26,79)\"],[0.5647058823529412,\"rgb(223,47,67)\"],[0.6274509803921569,\"rgb(236,76,61)\"],[0.6901960784313725,\"rgb(242,107,73)\"],[0.7529411764705882,\"rgb(244,135,95)\"],[0.8156862745098039,\"rgb(245,162,122)\"],[0.8784313725490196,\"rgb(246,188,153)\"],[0.9411764705882353,\"rgb(247,212,187)\"],[1.0,\"rgb(250,234,220)\"]]},\"colorway\":[\"rgb(76,114,176)\",\"rgb(221,132,82)\",\"rgb(85,168,104)\",\"rgb(196,78,82)\",\"rgb(129,114,179)\",\"rgb(147,120,96)\",\"rgb(218,139,195)\",\"rgb(140,140,140)\",\"rgb(204,185,116)\",\"rgb(100,181,205)\"],\"font\":{\"color\":\"rgb(36,36,36)\"},\"geo\":{\"bgcolor\":\"white\",\"lakecolor\":\"white\",\"landcolor\":\"rgb(234,234,242)\",\"showlakes\":true,\"showland\":true,\"subunitcolor\":\"white\"},\"hoverlabel\":{\"align\":\"left\"},\"hovermode\":\"closest\",\"paper_bgcolor\":\"white\",\"plot_bgcolor\":\"rgb(234,234,242)\",\"polar\":{\"angularaxis\":{\"gridcolor\":\"white\",\"linecolor\":\"white\",\"showgrid\":true,\"ticks\":\"\"},\"bgcolor\":\"rgb(234,234,242)\",\"radialaxis\":{\"gridcolor\":\"white\",\"linecolor\":\"white\",\"showgrid\":true,\"ticks\":\"\"}},\"scene\":{\"xaxis\":{\"backgroundcolor\":\"rgb(234,234,242)\",\"gridcolor\":\"white\",\"gridwidth\":2,\"linecolor\":\"white\",\"showbackground\":true,\"showgrid\":true,\"ticks\":\"\",\"zerolinecolor\":\"white\"},\"yaxis\":{\"backgroundcolor\":\"rgb(234,234,242)\",\"gridcolor\":\"white\",\"gridwidth\":2,\"linecolor\":\"white\",\"showbackground\":true,\"showgrid\":true,\"ticks\":\"\",\"zerolinecolor\":\"white\"},\"zaxis\":{\"backgroundcolor\":\"rgb(234,234,242)\",\"gridcolor\":\"white\",\"gridwidth\":2,\"linecolor\":\"white\",\"showbackground\":true,\"showgrid\":true,\"ticks\":\"\",\"zerolinecolor\":\"white\"}},\"shapedefaults\":{\"fillcolor\":\"rgb(67,103,167)\",\"line\":{\"width\":0},\"opacity\":0.5},\"ternary\":{\"aaxis\":{\"gridcolor\":\"white\",\"linecolor\":\"white\",\"showgrid\":true,\"ticks\":\"\"},\"baxis\":{\"gridcolor\":\"white\",\"linecolor\":\"white\",\"showgrid\":true,\"ticks\":\"\"},\"bgcolor\":\"rgb(234,234,242)\",\"caxis\":{\"gridcolor\":\"white\",\"linecolor\":\"white\",\"showgrid\":true,\"ticks\":\"\"}},\"xaxis\":{\"automargin\":true,\"gridcolor\":\"white\",\"linecolor\":\"white\",\"showgrid\":true,\"ticks\":\"\",\"title\":{\"standoff\":15},\"zerolinecolor\":\"white\"},\"yaxis\":{\"automargin\":true,\"gridcolor\":\"white\",\"linecolor\":\"white\",\"showgrid\":true,\"ticks\":\"\",\"title\":{\"standoff\":15},\"zerolinecolor\":\"white\"}}},\"xaxis\":{\"anchor\":\"y\",\"domain\":[0.0,1.0],\"title\":{\"text\":\"Number of Facilities\"}},\"yaxis\":{\"anchor\":\"x\",\"domain\":[0.0,1.0],\"title\":{\"text\":\"Type of Facility\"}},\"legend\":{\"tracegroupgap\":0},\"title\":{\"text\":\"What Types of Facilities Hold Sterile Compounding Licenses in California?\"},\"barmode\":\"relative\"},                        {\"responsive\": true}                    ).then(function(){\n",
       "                            \n",
       "var gd = document.getElementById('b6ee333a-5579-40dd-85b3-116230d527c5');\n",
       "var x = new MutationObserver(function (mutations, observer) {{\n",
       "        var display = window.getComputedStyle(gd).display;\n",
       "        if (!display || display === 'none') {{\n",
       "            console.log([gd, 'removed!']);\n",
       "            Plotly.purge(gd);\n",
       "            observer.disconnect();\n",
       "        }}\n",
       "}});\n",
       "\n",
       "// Listen for the removal of the full notebook cells\n",
       "var notebookContainer = gd.closest('#notebook-container');\n",
       "if (notebookContainer) {{\n",
       "    x.observe(notebookContainer, {childList: true});\n",
       "}}\n",
       "\n",
       "// Listen for the clearing of the current output cell\n",
       "var outputEl = gd.closest('.output');\n",
       "if (outputEl) {{\n",
       "    x.observe(outputEl, {childList: true});\n",
       "}}\n",
       "\n",
       "                        })                };                });            </script>        </div>"
      ]
     },
     "metadata": {},
     "output_type": "display_data"
    }
   ],
   "execution_count": 161
  },
  {
   "metadata": {
    "ExecuteTime": {
     "end_time": "2025-01-03T04:32:04.217579Z",
     "start_time": "2025-01-03T04:32:04.214957Z"
    }
   },
   "cell_type": "code",
   "source": "",
   "id": "22171ae4a032f754",
   "outputs": [],
   "execution_count": 161
  },
  {
   "metadata": {},
   "cell_type": "markdown",
   "source": "### License Type",
   "id": "eb81625dee3852a3"
  },
  {
   "metadata": {
    "ExecuteTime": {
     "end_time": "2025-01-03T04:32:04.338498Z",
     "start_time": "2025-01-03T04:32:04.333268Z"
    }
   },
   "cell_type": "code",
   "source": [
    "# Calculate the count of each facility type\n",
    "license_counts = pharmacies['License Type'].value_counts().reset_index()\n",
    "license_counts.columns = ['License Type', 'Count']"
   ],
   "id": "c085c9cf4fafec83",
   "outputs": [],
   "execution_count": 162
  },
  {
   "metadata": {
    "ExecuteTime": {
     "end_time": "2025-01-03T04:32:04.409702Z",
     "start_time": "2025-01-03T04:32:04.376354Z"
    }
   },
   "cell_type": "code",
   "source": [
    "donut_fig = px.pie(license_counts, names='License Type', values='Count', title='Distribution of License Types', hole = 0.25, labels = {'License Type': 'Type of License', 'Count' : 'Number of Facilities'}, template='simple_white')\n",
    "donut_fig.show()"
   ],
   "id": "58342c039df2e227",
   "outputs": [
    {
     "data": {
      "application/vnd.plotly.v1+json": {
       "data": [
        {
         "domain": {
          "x": [
           0.0,
           1.0
          ],
          "y": [
           0.0,
           1.0
          ]
         },
         "hole": 0.25,
         "hovertemplate": "Type of License=%{label}<br>Number of Facilities=%{value}<extra></extra>",
         "labels": [
          "Sterile Compounding Pharmacy",
          "Sterile Compounding Pharmacy (Government Owned)",
          "Nonresident Sterile Compounding Pharmacy",
          "Satellite Compounding Pharmacy (Fee Exempt)",
          "Satellite Compounding Pharmacy"
         ],
         "legendgroup": "",
         "name": "",
         "showlegend": true,
         "values": [
          674,
          109,
          49,
          5,
          4
         ],
         "type": "pie"
        }
       ],
       "layout": {
        "template": {
         "data": {
          "barpolar": [
           {
            "marker": {
             "line": {
              "color": "white",
              "width": 0.5
             },
             "pattern": {
              "fillmode": "overlay",
              "size": 10,
              "solidity": 0.2
             }
            },
            "type": "barpolar"
           }
          ],
          "bar": [
           {
            "error_x": {
             "color": "rgb(36,36,36)"
            },
            "error_y": {
             "color": "rgb(36,36,36)"
            },
            "marker": {
             "line": {
              "color": "white",
              "width": 0.5
             },
             "pattern": {
              "fillmode": "overlay",
              "size": 10,
              "solidity": 0.2
             }
            },
            "type": "bar"
           }
          ],
          "carpet": [
           {
            "aaxis": {
             "endlinecolor": "rgb(36,36,36)",
             "gridcolor": "white",
             "linecolor": "white",
             "minorgridcolor": "white",
             "startlinecolor": "rgb(36,36,36)"
            },
            "baxis": {
             "endlinecolor": "rgb(36,36,36)",
             "gridcolor": "white",
             "linecolor": "white",
             "minorgridcolor": "white",
             "startlinecolor": "rgb(36,36,36)"
            },
            "type": "carpet"
           }
          ],
          "choropleth": [
           {
            "colorbar": {
             "outlinewidth": 1,
             "tickcolor": "rgb(36,36,36)",
             "ticks": "outside"
            },
            "type": "choropleth"
           }
          ],
          "contourcarpet": [
           {
            "colorbar": {
             "outlinewidth": 1,
             "tickcolor": "rgb(36,36,36)",
             "ticks": "outside"
            },
            "type": "contourcarpet"
           }
          ],
          "contour": [
           {
            "colorbar": {
             "outlinewidth": 1,
             "tickcolor": "rgb(36,36,36)",
             "ticks": "outside"
            },
            "colorscale": [
             [
              0.0,
              "#440154"
             ],
             [
              0.1111111111111111,
              "#482878"
             ],
             [
              0.2222222222222222,
              "#3e4989"
             ],
             [
              0.3333333333333333,
              "#31688e"
             ],
             [
              0.4444444444444444,
              "#26828e"
             ],
             [
              0.5555555555555556,
              "#1f9e89"
             ],
             [
              0.6666666666666666,
              "#35b779"
             ],
             [
              0.7777777777777778,
              "#6ece58"
             ],
             [
              0.8888888888888888,
              "#b5de2b"
             ],
             [
              1.0,
              "#fde725"
             ]
            ],
            "type": "contour"
           }
          ],
          "heatmapgl": [
           {
            "colorbar": {
             "outlinewidth": 1,
             "tickcolor": "rgb(36,36,36)",
             "ticks": "outside"
            },
            "colorscale": [
             [
              0.0,
              "#440154"
             ],
             [
              0.1111111111111111,
              "#482878"
             ],
             [
              0.2222222222222222,
              "#3e4989"
             ],
             [
              0.3333333333333333,
              "#31688e"
             ],
             [
              0.4444444444444444,
              "#26828e"
             ],
             [
              0.5555555555555556,
              "#1f9e89"
             ],
             [
              0.6666666666666666,
              "#35b779"
             ],
             [
              0.7777777777777778,
              "#6ece58"
             ],
             [
              0.8888888888888888,
              "#b5de2b"
             ],
             [
              1.0,
              "#fde725"
             ]
            ],
            "type": "heatmapgl"
           }
          ],
          "heatmap": [
           {
            "colorbar": {
             "outlinewidth": 1,
             "tickcolor": "rgb(36,36,36)",
             "ticks": "outside"
            },
            "colorscale": [
             [
              0.0,
              "#440154"
             ],
             [
              0.1111111111111111,
              "#482878"
             ],
             [
              0.2222222222222222,
              "#3e4989"
             ],
             [
              0.3333333333333333,
              "#31688e"
             ],
             [
              0.4444444444444444,
              "#26828e"
             ],
             [
              0.5555555555555556,
              "#1f9e89"
             ],
             [
              0.6666666666666666,
              "#35b779"
             ],
             [
              0.7777777777777778,
              "#6ece58"
             ],
             [
              0.8888888888888888,
              "#b5de2b"
             ],
             [
              1.0,
              "#fde725"
             ]
            ],
            "type": "heatmap"
           }
          ],
          "histogram2dcontour": [
           {
            "colorbar": {
             "outlinewidth": 1,
             "tickcolor": "rgb(36,36,36)",
             "ticks": "outside"
            },
            "colorscale": [
             [
              0.0,
              "#440154"
             ],
             [
              0.1111111111111111,
              "#482878"
             ],
             [
              0.2222222222222222,
              "#3e4989"
             ],
             [
              0.3333333333333333,
              "#31688e"
             ],
             [
              0.4444444444444444,
              "#26828e"
             ],
             [
              0.5555555555555556,
              "#1f9e89"
             ],
             [
              0.6666666666666666,
              "#35b779"
             ],
             [
              0.7777777777777778,
              "#6ece58"
             ],
             [
              0.8888888888888888,
              "#b5de2b"
             ],
             [
              1.0,
              "#fde725"
             ]
            ],
            "type": "histogram2dcontour"
           }
          ],
          "histogram2d": [
           {
            "colorbar": {
             "outlinewidth": 1,
             "tickcolor": "rgb(36,36,36)",
             "ticks": "outside"
            },
            "colorscale": [
             [
              0.0,
              "#440154"
             ],
             [
              0.1111111111111111,
              "#482878"
             ],
             [
              0.2222222222222222,
              "#3e4989"
             ],
             [
              0.3333333333333333,
              "#31688e"
             ],
             [
              0.4444444444444444,
              "#26828e"
             ],
             [
              0.5555555555555556,
              "#1f9e89"
             ],
             [
              0.6666666666666666,
              "#35b779"
             ],
             [
              0.7777777777777778,
              "#6ece58"
             ],
             [
              0.8888888888888888,
              "#b5de2b"
             ],
             [
              1.0,
              "#fde725"
             ]
            ],
            "type": "histogram2d"
           }
          ],
          "histogram": [
           {
            "marker": {
             "line": {
              "color": "white",
              "width": 0.6
             }
            },
            "type": "histogram"
           }
          ],
          "mesh3d": [
           {
            "colorbar": {
             "outlinewidth": 1,
             "tickcolor": "rgb(36,36,36)",
             "ticks": "outside"
            },
            "type": "mesh3d"
           }
          ],
          "parcoords": [
           {
            "line": {
             "colorbar": {
              "outlinewidth": 1,
              "tickcolor": "rgb(36,36,36)",
              "ticks": "outside"
             }
            },
            "type": "parcoords"
           }
          ],
          "pie": [
           {
            "automargin": true,
            "type": "pie"
           }
          ],
          "scatter3d": [
           {
            "line": {
             "colorbar": {
              "outlinewidth": 1,
              "tickcolor": "rgb(36,36,36)",
              "ticks": "outside"
             }
            },
            "marker": {
             "colorbar": {
              "outlinewidth": 1,
              "tickcolor": "rgb(36,36,36)",
              "ticks": "outside"
             }
            },
            "type": "scatter3d"
           }
          ],
          "scattercarpet": [
           {
            "marker": {
             "colorbar": {
              "outlinewidth": 1,
              "tickcolor": "rgb(36,36,36)",
              "ticks": "outside"
             }
            },
            "type": "scattercarpet"
           }
          ],
          "scattergeo": [
           {
            "marker": {
             "colorbar": {
              "outlinewidth": 1,
              "tickcolor": "rgb(36,36,36)",
              "ticks": "outside"
             }
            },
            "type": "scattergeo"
           }
          ],
          "scattergl": [
           {
            "marker": {
             "colorbar": {
              "outlinewidth": 1,
              "tickcolor": "rgb(36,36,36)",
              "ticks": "outside"
             }
            },
            "type": "scattergl"
           }
          ],
          "scattermapbox": [
           {
            "marker": {
             "colorbar": {
              "outlinewidth": 1,
              "tickcolor": "rgb(36,36,36)",
              "ticks": "outside"
             }
            },
            "type": "scattermapbox"
           }
          ],
          "scatterpolargl": [
           {
            "marker": {
             "colorbar": {
              "outlinewidth": 1,
              "tickcolor": "rgb(36,36,36)",
              "ticks": "outside"
             }
            },
            "type": "scatterpolargl"
           }
          ],
          "scatterpolar": [
           {
            "marker": {
             "colorbar": {
              "outlinewidth": 1,
              "tickcolor": "rgb(36,36,36)",
              "ticks": "outside"
             }
            },
            "type": "scatterpolar"
           }
          ],
          "scatter": [
           {
            "fillpattern": {
             "fillmode": "overlay",
             "size": 10,
             "solidity": 0.2
            },
            "type": "scatter"
           }
          ],
          "scatterternary": [
           {
            "marker": {
             "colorbar": {
              "outlinewidth": 1,
              "tickcolor": "rgb(36,36,36)",
              "ticks": "outside"
             }
            },
            "type": "scatterternary"
           }
          ],
          "surface": [
           {
            "colorbar": {
             "outlinewidth": 1,
             "tickcolor": "rgb(36,36,36)",
             "ticks": "outside"
            },
            "colorscale": [
             [
              0.0,
              "#440154"
             ],
             [
              0.1111111111111111,
              "#482878"
             ],
             [
              0.2222222222222222,
              "#3e4989"
             ],
             [
              0.3333333333333333,
              "#31688e"
             ],
             [
              0.4444444444444444,
              "#26828e"
             ],
             [
              0.5555555555555556,
              "#1f9e89"
             ],
             [
              0.6666666666666666,
              "#35b779"
             ],
             [
              0.7777777777777778,
              "#6ece58"
             ],
             [
              0.8888888888888888,
              "#b5de2b"
             ],
             [
              1.0,
              "#fde725"
             ]
            ],
            "type": "surface"
           }
          ],
          "table": [
           {
            "cells": {
             "fill": {
              "color": "rgb(237,237,237)"
             },
             "line": {
              "color": "white"
             }
            },
            "header": {
             "fill": {
              "color": "rgb(217,217,217)"
             },
             "line": {
              "color": "white"
             }
            },
            "type": "table"
           }
          ]
         },
         "layout": {
          "annotationdefaults": {
           "arrowhead": 0,
           "arrowwidth": 1
          },
          "autotypenumbers": "strict",
          "coloraxis": {
           "colorbar": {
            "outlinewidth": 1,
            "tickcolor": "rgb(36,36,36)",
            "ticks": "outside"
           }
          },
          "colorscale": {
           "diverging": [
            [
             0.0,
             "rgb(103,0,31)"
            ],
            [
             0.1,
             "rgb(178,24,43)"
            ],
            [
             0.2,
             "rgb(214,96,77)"
            ],
            [
             0.3,
             "rgb(244,165,130)"
            ],
            [
             0.4,
             "rgb(253,219,199)"
            ],
            [
             0.5,
             "rgb(247,247,247)"
            ],
            [
             0.6,
             "rgb(209,229,240)"
            ],
            [
             0.7,
             "rgb(146,197,222)"
            ],
            [
             0.8,
             "rgb(67,147,195)"
            ],
            [
             0.9,
             "rgb(33,102,172)"
            ],
            [
             1.0,
             "rgb(5,48,97)"
            ]
           ],
           "sequential": [
            [
             0.0,
             "#440154"
            ],
            [
             0.1111111111111111,
             "#482878"
            ],
            [
             0.2222222222222222,
             "#3e4989"
            ],
            [
             0.3333333333333333,
             "#31688e"
            ],
            [
             0.4444444444444444,
             "#26828e"
            ],
            [
             0.5555555555555556,
             "#1f9e89"
            ],
            [
             0.6666666666666666,
             "#35b779"
            ],
            [
             0.7777777777777778,
             "#6ece58"
            ],
            [
             0.8888888888888888,
             "#b5de2b"
            ],
            [
             1.0,
             "#fde725"
            ]
           ],
           "sequentialminus": [
            [
             0.0,
             "#440154"
            ],
            [
             0.1111111111111111,
             "#482878"
            ],
            [
             0.2222222222222222,
             "#3e4989"
            ],
            [
             0.3333333333333333,
             "#31688e"
            ],
            [
             0.4444444444444444,
             "#26828e"
            ],
            [
             0.5555555555555556,
             "#1f9e89"
            ],
            [
             0.6666666666666666,
             "#35b779"
            ],
            [
             0.7777777777777778,
             "#6ece58"
            ],
            [
             0.8888888888888888,
             "#b5de2b"
            ],
            [
             1.0,
             "#fde725"
            ]
           ]
          },
          "colorway": [
           "#1F77B4",
           "#FF7F0E",
           "#2CA02C",
           "#D62728",
           "#9467BD",
           "#8C564B",
           "#E377C2",
           "#7F7F7F",
           "#BCBD22",
           "#17BECF"
          ],
          "font": {
           "color": "rgb(36,36,36)"
          },
          "geo": {
           "bgcolor": "white",
           "lakecolor": "white",
           "landcolor": "white",
           "showlakes": true,
           "showland": true,
           "subunitcolor": "white"
          },
          "hoverlabel": {
           "align": "left"
          },
          "hovermode": "closest",
          "mapbox": {
           "style": "light"
          },
          "paper_bgcolor": "white",
          "plot_bgcolor": "white",
          "polar": {
           "angularaxis": {
            "gridcolor": "rgb(232,232,232)",
            "linecolor": "rgb(36,36,36)",
            "showgrid": false,
            "showline": true,
            "ticks": "outside"
           },
           "bgcolor": "white",
           "radialaxis": {
            "gridcolor": "rgb(232,232,232)",
            "linecolor": "rgb(36,36,36)",
            "showgrid": false,
            "showline": true,
            "ticks": "outside"
           }
          },
          "scene": {
           "xaxis": {
            "backgroundcolor": "white",
            "gridcolor": "rgb(232,232,232)",
            "gridwidth": 2,
            "linecolor": "rgb(36,36,36)",
            "showbackground": true,
            "showgrid": false,
            "showline": true,
            "ticks": "outside",
            "zeroline": false,
            "zerolinecolor": "rgb(36,36,36)"
           },
           "yaxis": {
            "backgroundcolor": "white",
            "gridcolor": "rgb(232,232,232)",
            "gridwidth": 2,
            "linecolor": "rgb(36,36,36)",
            "showbackground": true,
            "showgrid": false,
            "showline": true,
            "ticks": "outside",
            "zeroline": false,
            "zerolinecolor": "rgb(36,36,36)"
           },
           "zaxis": {
            "backgroundcolor": "white",
            "gridcolor": "rgb(232,232,232)",
            "gridwidth": 2,
            "linecolor": "rgb(36,36,36)",
            "showbackground": true,
            "showgrid": false,
            "showline": true,
            "ticks": "outside",
            "zeroline": false,
            "zerolinecolor": "rgb(36,36,36)"
           }
          },
          "shapedefaults": {
           "fillcolor": "black",
           "line": {
            "width": 0
           },
           "opacity": 0.3
          },
          "ternary": {
           "aaxis": {
            "gridcolor": "rgb(232,232,232)",
            "linecolor": "rgb(36,36,36)",
            "showgrid": false,
            "showline": true,
            "ticks": "outside"
           },
           "baxis": {
            "gridcolor": "rgb(232,232,232)",
            "linecolor": "rgb(36,36,36)",
            "showgrid": false,
            "showline": true,
            "ticks": "outside"
           },
           "bgcolor": "white",
           "caxis": {
            "gridcolor": "rgb(232,232,232)",
            "linecolor": "rgb(36,36,36)",
            "showgrid": false,
            "showline": true,
            "ticks": "outside"
           }
          },
          "title": {
           "x": 0.05
          },
          "xaxis": {
           "automargin": true,
           "gridcolor": "rgb(232,232,232)",
           "linecolor": "rgb(36,36,36)",
           "showgrid": false,
           "showline": true,
           "ticks": "outside",
           "title": {
            "standoff": 15
           },
           "zeroline": false,
           "zerolinecolor": "rgb(36,36,36)"
          },
          "yaxis": {
           "automargin": true,
           "gridcolor": "rgb(232,232,232)",
           "linecolor": "rgb(36,36,36)",
           "showgrid": false,
           "showline": true,
           "ticks": "outside",
           "title": {
            "standoff": 15
           },
           "zeroline": false,
           "zerolinecolor": "rgb(36,36,36)"
          }
         }
        },
        "legend": {
         "tracegroupgap": 0
        },
        "title": {
         "text": "Distribution of License Types"
        }
       },
       "config": {
        "plotlyServerURL": "https://plot.ly"
       }
      },
      "text/html": [
       "<div>                            <div id=\"573f25ee-f15d-4460-ab32-93aa8d457243\" class=\"plotly-graph-div\" style=\"height:525px; width:100%;\"></div>            <script type=\"text/javascript\">                require([\"plotly\"], function(Plotly) {                    window.PLOTLYENV=window.PLOTLYENV || {};                                    if (document.getElementById(\"573f25ee-f15d-4460-ab32-93aa8d457243\")) {                    Plotly.newPlot(                        \"573f25ee-f15d-4460-ab32-93aa8d457243\",                        [{\"domain\":{\"x\":[0.0,1.0],\"y\":[0.0,1.0]},\"hole\":0.25,\"hovertemplate\":\"Type of License=%{label}\\u003cbr\\u003eNumber of Facilities=%{value}\\u003cextra\\u003e\\u003c\\u002fextra\\u003e\",\"labels\":[\"Sterile Compounding Pharmacy\",\"Sterile Compounding Pharmacy (Government Owned)\",\"Nonresident Sterile Compounding Pharmacy\",\"Satellite Compounding Pharmacy (Fee Exempt)\",\"Satellite Compounding Pharmacy\"],\"legendgroup\":\"\",\"name\":\"\",\"showlegend\":true,\"values\":[674,109,49,5,4],\"type\":\"pie\"}],                        {\"template\":{\"data\":{\"barpolar\":[{\"marker\":{\"line\":{\"color\":\"white\",\"width\":0.5},\"pattern\":{\"fillmode\":\"overlay\",\"size\":10,\"solidity\":0.2}},\"type\":\"barpolar\"}],\"bar\":[{\"error_x\":{\"color\":\"rgb(36,36,36)\"},\"error_y\":{\"color\":\"rgb(36,36,36)\"},\"marker\":{\"line\":{\"color\":\"white\",\"width\":0.5},\"pattern\":{\"fillmode\":\"overlay\",\"size\":10,\"solidity\":0.2}},\"type\":\"bar\"}],\"carpet\":[{\"aaxis\":{\"endlinecolor\":\"rgb(36,36,36)\",\"gridcolor\":\"white\",\"linecolor\":\"white\",\"minorgridcolor\":\"white\",\"startlinecolor\":\"rgb(36,36,36)\"},\"baxis\":{\"endlinecolor\":\"rgb(36,36,36)\",\"gridcolor\":\"white\",\"linecolor\":\"white\",\"minorgridcolor\":\"white\",\"startlinecolor\":\"rgb(36,36,36)\"},\"type\":\"carpet\"}],\"choropleth\":[{\"colorbar\":{\"outlinewidth\":1,\"tickcolor\":\"rgb(36,36,36)\",\"ticks\":\"outside\"},\"type\":\"choropleth\"}],\"contourcarpet\":[{\"colorbar\":{\"outlinewidth\":1,\"tickcolor\":\"rgb(36,36,36)\",\"ticks\":\"outside\"},\"type\":\"contourcarpet\"}],\"contour\":[{\"colorbar\":{\"outlinewidth\":1,\"tickcolor\":\"rgb(36,36,36)\",\"ticks\":\"outside\"},\"colorscale\":[[0.0,\"#440154\"],[0.1111111111111111,\"#482878\"],[0.2222222222222222,\"#3e4989\"],[0.3333333333333333,\"#31688e\"],[0.4444444444444444,\"#26828e\"],[0.5555555555555556,\"#1f9e89\"],[0.6666666666666666,\"#35b779\"],[0.7777777777777778,\"#6ece58\"],[0.8888888888888888,\"#b5de2b\"],[1.0,\"#fde725\"]],\"type\":\"contour\"}],\"heatmapgl\":[{\"colorbar\":{\"outlinewidth\":1,\"tickcolor\":\"rgb(36,36,36)\",\"ticks\":\"outside\"},\"colorscale\":[[0.0,\"#440154\"],[0.1111111111111111,\"#482878\"],[0.2222222222222222,\"#3e4989\"],[0.3333333333333333,\"#31688e\"],[0.4444444444444444,\"#26828e\"],[0.5555555555555556,\"#1f9e89\"],[0.6666666666666666,\"#35b779\"],[0.7777777777777778,\"#6ece58\"],[0.8888888888888888,\"#b5de2b\"],[1.0,\"#fde725\"]],\"type\":\"heatmapgl\"}],\"heatmap\":[{\"colorbar\":{\"outlinewidth\":1,\"tickcolor\":\"rgb(36,36,36)\",\"ticks\":\"outside\"},\"colorscale\":[[0.0,\"#440154\"],[0.1111111111111111,\"#482878\"],[0.2222222222222222,\"#3e4989\"],[0.3333333333333333,\"#31688e\"],[0.4444444444444444,\"#26828e\"],[0.5555555555555556,\"#1f9e89\"],[0.6666666666666666,\"#35b779\"],[0.7777777777777778,\"#6ece58\"],[0.8888888888888888,\"#b5de2b\"],[1.0,\"#fde725\"]],\"type\":\"heatmap\"}],\"histogram2dcontour\":[{\"colorbar\":{\"outlinewidth\":1,\"tickcolor\":\"rgb(36,36,36)\",\"ticks\":\"outside\"},\"colorscale\":[[0.0,\"#440154\"],[0.1111111111111111,\"#482878\"],[0.2222222222222222,\"#3e4989\"],[0.3333333333333333,\"#31688e\"],[0.4444444444444444,\"#26828e\"],[0.5555555555555556,\"#1f9e89\"],[0.6666666666666666,\"#35b779\"],[0.7777777777777778,\"#6ece58\"],[0.8888888888888888,\"#b5de2b\"],[1.0,\"#fde725\"]],\"type\":\"histogram2dcontour\"}],\"histogram2d\":[{\"colorbar\":{\"outlinewidth\":1,\"tickcolor\":\"rgb(36,36,36)\",\"ticks\":\"outside\"},\"colorscale\":[[0.0,\"#440154\"],[0.1111111111111111,\"#482878\"],[0.2222222222222222,\"#3e4989\"],[0.3333333333333333,\"#31688e\"],[0.4444444444444444,\"#26828e\"],[0.5555555555555556,\"#1f9e89\"],[0.6666666666666666,\"#35b779\"],[0.7777777777777778,\"#6ece58\"],[0.8888888888888888,\"#b5de2b\"],[1.0,\"#fde725\"]],\"type\":\"histogram2d\"}],\"histogram\":[{\"marker\":{\"line\":{\"color\":\"white\",\"width\":0.6}},\"type\":\"histogram\"}],\"mesh3d\":[{\"colorbar\":{\"outlinewidth\":1,\"tickcolor\":\"rgb(36,36,36)\",\"ticks\":\"outside\"},\"type\":\"mesh3d\"}],\"parcoords\":[{\"line\":{\"colorbar\":{\"outlinewidth\":1,\"tickcolor\":\"rgb(36,36,36)\",\"ticks\":\"outside\"}},\"type\":\"parcoords\"}],\"pie\":[{\"automargin\":true,\"type\":\"pie\"}],\"scatter3d\":[{\"line\":{\"colorbar\":{\"outlinewidth\":1,\"tickcolor\":\"rgb(36,36,36)\",\"ticks\":\"outside\"}},\"marker\":{\"colorbar\":{\"outlinewidth\":1,\"tickcolor\":\"rgb(36,36,36)\",\"ticks\":\"outside\"}},\"type\":\"scatter3d\"}],\"scattercarpet\":[{\"marker\":{\"colorbar\":{\"outlinewidth\":1,\"tickcolor\":\"rgb(36,36,36)\",\"ticks\":\"outside\"}},\"type\":\"scattercarpet\"}],\"scattergeo\":[{\"marker\":{\"colorbar\":{\"outlinewidth\":1,\"tickcolor\":\"rgb(36,36,36)\",\"ticks\":\"outside\"}},\"type\":\"scattergeo\"}],\"scattergl\":[{\"marker\":{\"colorbar\":{\"outlinewidth\":1,\"tickcolor\":\"rgb(36,36,36)\",\"ticks\":\"outside\"}},\"type\":\"scattergl\"}],\"scattermapbox\":[{\"marker\":{\"colorbar\":{\"outlinewidth\":1,\"tickcolor\":\"rgb(36,36,36)\",\"ticks\":\"outside\"}},\"type\":\"scattermapbox\"}],\"scatterpolargl\":[{\"marker\":{\"colorbar\":{\"outlinewidth\":1,\"tickcolor\":\"rgb(36,36,36)\",\"ticks\":\"outside\"}},\"type\":\"scatterpolargl\"}],\"scatterpolar\":[{\"marker\":{\"colorbar\":{\"outlinewidth\":1,\"tickcolor\":\"rgb(36,36,36)\",\"ticks\":\"outside\"}},\"type\":\"scatterpolar\"}],\"scatter\":[{\"fillpattern\":{\"fillmode\":\"overlay\",\"size\":10,\"solidity\":0.2},\"type\":\"scatter\"}],\"scatterternary\":[{\"marker\":{\"colorbar\":{\"outlinewidth\":1,\"tickcolor\":\"rgb(36,36,36)\",\"ticks\":\"outside\"}},\"type\":\"scatterternary\"}],\"surface\":[{\"colorbar\":{\"outlinewidth\":1,\"tickcolor\":\"rgb(36,36,36)\",\"ticks\":\"outside\"},\"colorscale\":[[0.0,\"#440154\"],[0.1111111111111111,\"#482878\"],[0.2222222222222222,\"#3e4989\"],[0.3333333333333333,\"#31688e\"],[0.4444444444444444,\"#26828e\"],[0.5555555555555556,\"#1f9e89\"],[0.6666666666666666,\"#35b779\"],[0.7777777777777778,\"#6ece58\"],[0.8888888888888888,\"#b5de2b\"],[1.0,\"#fde725\"]],\"type\":\"surface\"}],\"table\":[{\"cells\":{\"fill\":{\"color\":\"rgb(237,237,237)\"},\"line\":{\"color\":\"white\"}},\"header\":{\"fill\":{\"color\":\"rgb(217,217,217)\"},\"line\":{\"color\":\"white\"}},\"type\":\"table\"}]},\"layout\":{\"annotationdefaults\":{\"arrowhead\":0,\"arrowwidth\":1},\"autotypenumbers\":\"strict\",\"coloraxis\":{\"colorbar\":{\"outlinewidth\":1,\"tickcolor\":\"rgb(36,36,36)\",\"ticks\":\"outside\"}},\"colorscale\":{\"diverging\":[[0.0,\"rgb(103,0,31)\"],[0.1,\"rgb(178,24,43)\"],[0.2,\"rgb(214,96,77)\"],[0.3,\"rgb(244,165,130)\"],[0.4,\"rgb(253,219,199)\"],[0.5,\"rgb(247,247,247)\"],[0.6,\"rgb(209,229,240)\"],[0.7,\"rgb(146,197,222)\"],[0.8,\"rgb(67,147,195)\"],[0.9,\"rgb(33,102,172)\"],[1.0,\"rgb(5,48,97)\"]],\"sequential\":[[0.0,\"#440154\"],[0.1111111111111111,\"#482878\"],[0.2222222222222222,\"#3e4989\"],[0.3333333333333333,\"#31688e\"],[0.4444444444444444,\"#26828e\"],[0.5555555555555556,\"#1f9e89\"],[0.6666666666666666,\"#35b779\"],[0.7777777777777778,\"#6ece58\"],[0.8888888888888888,\"#b5de2b\"],[1.0,\"#fde725\"]],\"sequentialminus\":[[0.0,\"#440154\"],[0.1111111111111111,\"#482878\"],[0.2222222222222222,\"#3e4989\"],[0.3333333333333333,\"#31688e\"],[0.4444444444444444,\"#26828e\"],[0.5555555555555556,\"#1f9e89\"],[0.6666666666666666,\"#35b779\"],[0.7777777777777778,\"#6ece58\"],[0.8888888888888888,\"#b5de2b\"],[1.0,\"#fde725\"]]},\"colorway\":[\"#1F77B4\",\"#FF7F0E\",\"#2CA02C\",\"#D62728\",\"#9467BD\",\"#8C564B\",\"#E377C2\",\"#7F7F7F\",\"#BCBD22\",\"#17BECF\"],\"font\":{\"color\":\"rgb(36,36,36)\"},\"geo\":{\"bgcolor\":\"white\",\"lakecolor\":\"white\",\"landcolor\":\"white\",\"showlakes\":true,\"showland\":true,\"subunitcolor\":\"white\"},\"hoverlabel\":{\"align\":\"left\"},\"hovermode\":\"closest\",\"mapbox\":{\"style\":\"light\"},\"paper_bgcolor\":\"white\",\"plot_bgcolor\":\"white\",\"polar\":{\"angularaxis\":{\"gridcolor\":\"rgb(232,232,232)\",\"linecolor\":\"rgb(36,36,36)\",\"showgrid\":false,\"showline\":true,\"ticks\":\"outside\"},\"bgcolor\":\"white\",\"radialaxis\":{\"gridcolor\":\"rgb(232,232,232)\",\"linecolor\":\"rgb(36,36,36)\",\"showgrid\":false,\"showline\":true,\"ticks\":\"outside\"}},\"scene\":{\"xaxis\":{\"backgroundcolor\":\"white\",\"gridcolor\":\"rgb(232,232,232)\",\"gridwidth\":2,\"linecolor\":\"rgb(36,36,36)\",\"showbackground\":true,\"showgrid\":false,\"showline\":true,\"ticks\":\"outside\",\"zeroline\":false,\"zerolinecolor\":\"rgb(36,36,36)\"},\"yaxis\":{\"backgroundcolor\":\"white\",\"gridcolor\":\"rgb(232,232,232)\",\"gridwidth\":2,\"linecolor\":\"rgb(36,36,36)\",\"showbackground\":true,\"showgrid\":false,\"showline\":true,\"ticks\":\"outside\",\"zeroline\":false,\"zerolinecolor\":\"rgb(36,36,36)\"},\"zaxis\":{\"backgroundcolor\":\"white\",\"gridcolor\":\"rgb(232,232,232)\",\"gridwidth\":2,\"linecolor\":\"rgb(36,36,36)\",\"showbackground\":true,\"showgrid\":false,\"showline\":true,\"ticks\":\"outside\",\"zeroline\":false,\"zerolinecolor\":\"rgb(36,36,36)\"}},\"shapedefaults\":{\"fillcolor\":\"black\",\"line\":{\"width\":0},\"opacity\":0.3},\"ternary\":{\"aaxis\":{\"gridcolor\":\"rgb(232,232,232)\",\"linecolor\":\"rgb(36,36,36)\",\"showgrid\":false,\"showline\":true,\"ticks\":\"outside\"},\"baxis\":{\"gridcolor\":\"rgb(232,232,232)\",\"linecolor\":\"rgb(36,36,36)\",\"showgrid\":false,\"showline\":true,\"ticks\":\"outside\"},\"bgcolor\":\"white\",\"caxis\":{\"gridcolor\":\"rgb(232,232,232)\",\"linecolor\":\"rgb(36,36,36)\",\"showgrid\":false,\"showline\":true,\"ticks\":\"outside\"}},\"title\":{\"x\":0.05},\"xaxis\":{\"automargin\":true,\"gridcolor\":\"rgb(232,232,232)\",\"linecolor\":\"rgb(36,36,36)\",\"showgrid\":false,\"showline\":true,\"ticks\":\"outside\",\"title\":{\"standoff\":15},\"zeroline\":false,\"zerolinecolor\":\"rgb(36,36,36)\"},\"yaxis\":{\"automargin\":true,\"gridcolor\":\"rgb(232,232,232)\",\"linecolor\":\"rgb(36,36,36)\",\"showgrid\":false,\"showline\":true,\"ticks\":\"outside\",\"title\":{\"standoff\":15},\"zeroline\":false,\"zerolinecolor\":\"rgb(36,36,36)\"}}},\"legend\":{\"tracegroupgap\":0},\"title\":{\"text\":\"Distribution of License Types\"}},                        {\"responsive\": true}                    ).then(function(){\n",
       "                            \n",
       "var gd = document.getElementById('573f25ee-f15d-4460-ab32-93aa8d457243');\n",
       "var x = new MutationObserver(function (mutations, observer) {{\n",
       "        var display = window.getComputedStyle(gd).display;\n",
       "        if (!display || display === 'none') {{\n",
       "            console.log([gd, 'removed!']);\n",
       "            Plotly.purge(gd);\n",
       "            observer.disconnect();\n",
       "        }}\n",
       "}});\n",
       "\n",
       "// Listen for the removal of the full notebook cells\n",
       "var notebookContainer = gd.closest('#notebook-container');\n",
       "if (notebookContainer) {{\n",
       "    x.observe(notebookContainer, {childList: true});\n",
       "}}\n",
       "\n",
       "// Listen for the clearing of the current output cell\n",
       "var outputEl = gd.closest('.output');\n",
       "if (outputEl) {{\n",
       "    x.observe(outputEl, {childList: true});\n",
       "}}\n",
       "\n",
       "                        })                };                });            </script>        </div>"
      ]
     },
     "metadata": {},
     "output_type": "display_data"
    }
   ],
   "execution_count": 163
  },
  {
   "metadata": {},
   "cell_type": "markdown",
   "source": "## Geography: Exploring Where Licensed Pharmacies are Located",
   "id": "9613ba5be7b65f98"
  },
  {
   "metadata": {
    "ExecuteTime": {
     "end_time": "2025-01-03T04:32:04.528022Z",
     "start_time": "2025-01-03T04:32:04.471874Z"
    }
   },
   "cell_type": "code",
   "source": [
    "# Drop rows with null values in LAT and LONG\n",
    "pharmacy_geo = pharmacies.dropna(subset=['LAT', 'LONG'])\n",
    "\n",
    "# Create the map\n",
    "map_fig = px.scatter_mapbox(pharmacy_geo, \n",
    "                            lat='LAT', \n",
    "                            lon='LONG', \n",
    "                            hover_name='Pharmacy Name',  \n",
    "                            color='Facility Type',  \n",
    "                            title=\"Where are the licensed pharmacies located? \",\n",
    "                            zoom=6,  # Default zoom level\n",
    "                            center={\"lat\": 36.7783, \"lon\": -119.4179},  # Center on California\n",
    "                            height=600,  \n",
    "                            template='simple_white')  \n",
    "\n",
    "# Add mapbox token\n",
    "map_fig.update_layout(mapbox_style=\"carto-positron\") \n",
    "\n",
    "# Allow user interaction and zoom\n",
    "map_fig.update_layout(mapbox=dict(zoom=6, center={\"lat\": 36.7783, \"lon\": -119.4179}))\n",
    "\n",
    "# Show the map\n",
    "map_fig.show()"
   ],
   "id": "c818b3bc6843636a",
   "outputs": [
    {
     "data": {
      "application/vnd.plotly.v1+json": {
       "data": [
        {
         "hovertemplate": "<b>%{hovertext}</b><br><br>Facility Type=Infusion Center<br>LAT=%{lat}<br>LONG=%{lon}<extra></extra>",
         "hovertext": [
          "986 INFUSION PHARMACY #1 INC",
          "ACCREDO HEALTH GROUP INC",
          "ACCREDO HEALTH GROUP INC",
          "ALERACARE PHARMACY CALIFORNIA",
          "ALTA BATES SUMMIT MED CTR HERRICK INFUSION PHARMACY",
          "AMERICAN OUTCOMES MANAGEMENT, LP DBA AOM INFUSION",
          "AMERICAN RIVER INFUSION SERVICES",
          "AMERIPHARMA",
          "APEX INFUSION PHARMACY",
          "BASIC HOME INFUSION INC",
          "BIOLOGIC INFUSION PHARMACY",
          "BIOMED CALIFORNIA INC",
          "BIOPLUS SPECIALTY INFUSION CA, LLC",
          "BIOSCRIP INFUSION SERVICES",
          "BOND PHARMACY INC DBA ADVANCED INFUSION SOLUTIONS",
          "BOND PHARMACY INC DBA ADVANCED INFUSION SOLUTIONS",
          "BROOKS HEALTH CARE",
          "CALIFORNIA SPECIALTY PHARMACY LLC",
          "CAREMARK ILLINOIS SPECIALTY PHARMACY, LLC DBA CVS/SPECIALTY OR",
          "CHILDRENS HOSPITAL PHARMACY - SATELITE PAGE INFUSION CENTER P2-10",
          "COMMUNITY CANCER CENTER INFUSION PHARMACY",
          "COMMUNITY HOME INFUSION",
          "COMPLETE INFUSION CARE",
          "CORAM CVS/SPECIALTY INFUSION SERVICES",
          "CORAM CVS/SPECIALTY INFUSION SERVICES",
          "CORAM CVS/SPECIALTY INFUSION SERVICES",
          "CORAM HEALTHCARE CORPORATION OF NEVADA DBA CORAM CVS/SPECIALTY IN",
          "CRMC INFUSION CENTER - CLOVIS",
          "CVS/SPECIALTY OR CARELONRX SPECIALTY PHARMACY",
          "DCRX INFUSION PATIENT CARE AMERICA",
          "DIGNITY HEALTH BAKERSFIELD INFUSION CENTER",
          "DIGNITY HEALTH BAKERSFIELD INFUSION CENTER",
          "DIGNITY HEALTH HOME INFUSION SERVICES",
          "DIGNITY HEALTH INFUSION CENTER CAMARILLO",
          "DIGNITY HEALTH INFUSION CENTER OXNARD",
          "DIGNITY HEALTH INFUSION CENTER VENTURA",
          "DOMINICAN HOSPITAL INFUSION CENTER",
          "ELEVARE SPECIALTY SERVICES",
          "FIRST CALL PHARMACY LLC",
          "HEALIX INFUSION THERAPY LLC",
          "HEARTLAND HOME INFUSIONS INC D.B.A HHI INFUSION SERVICES",
          "HOAG INFUSION CENTER PHARMACY",
          "HOSPICARE PHARMACY INLAND EMPIRE",
          "HOSPICARE PHARMACY LOS ANGELES IV ROOM",
          "INFUSION CARE PHARMACY NORTH",
          "INFUSION CENTER OF ARROYO GRANDE",
          "INFUSION CENTER OF SAN LUIS OBISPO",
          "INFUSION CONNECTIONS PHARMACY SERVICES INC",
          "INFUSIONRX",
          "INTEGRATED CARE SYSTEMS",
          "IV LEAGUE",
          "JOHN MUIR HEALTH INFUSION PHARMACY",
          "KABAFUSION, LLC",
          "KABAFUSION, LLC",
          "KAISER PERMANENTE HOME INFUSION PHARMACY #620",
          "KAWEAH HEALTH HOME INFUSION PHARMACY",
          "LOMA LINDA UNIVERSITY MEDICAL CENTER ADULT INFUSION PHARMACY HIGH",
          "MARSHALL MEDICAL ONCOLOGY PHARMACY",
          "MEDRX INFUSION CLINICAL PHARMACY",
          "MISSION HOPE INFUSION CENTER",
          "MODEL DRUG",
          "MODEL DRUG INC",
          "NUTRISHARE LLC",
          "OMNICARE OF CERRITOS",
          "OMNICARE OF HAYWARD",
          "OMNICARE OF NORTHERN CALIFORNIA",
          "OMNICARE OF SAN DIEGO",
          "OMNICARE OF SOUTHERN CALIFORNIA",
          "OPTION CARE",
          "OPTION CARE ENTERPRISES INC DBA OPTION CARE",
          "OPTUM PHARMACY 801, INC",
          "OSO HOME CARE PHARMACY",
          "OSO HOME CARE PHARMACY",
          "PALOMAR MEDICAL CNTER ESCONDIDO INFUSION PHARMACY",
          "PHARMERICA",
          "PHARMERICA",
          "PHARMERICA",
          "PHARMERICA",
          "PHARMERICA",
          "PHARMERICA",
          "PHARMERICA",
          "PHARMERICA",
          "PLAZA HOME CARE PHARMACY INC",
          "POLARIS HOME INFUSION",
          "POLARIS PHARMACY SERVICES",
          "POLARIS PHARMACY SERVICES",
          "PREFERRED EXCELLENT CARE",
          "PREMIER INFUSION AND HEALTHCARE SERVICES, INC.",
          "PROVIDENCE HOME INFUSION LA COUNTY",
          "PROVIDENCE HOME INFUSION ORANGE COUNTY",
          "PROVIDENCE SAINT JOSEPH SATELLITE INFUSION PHARMACY",
          "QUADRACARE INC",
          "RIVER CITY PHARMACY INC DBA OPTION CARE",
          "RUHS - MC - INFUSION CENTER",
          "SCRIPTS",
          "SHARP CENTRAL PHARMACY SERVICES",
          "ST JUDE MEDICAL CENTER INFUSION CENTER PHARMACY",
          "SUTTER COAST HOSPITAL INFUSION PHARMACY",
          "SUTTER INFUSION & PHARMACY SERVICES",
          "SUTTER INFUSION & PHARMACY SERVICES",
          "SUTTER MEDICAL CENTER SACRAMENTO INFUSION PHARMACY",
          "SUTTER ROSEVILLE MEDICAL CENTER INFUSION PHARMACY",
          "SUTTER SOLANO MEDICAL CENTER INFUSION PHARMACY",
          "SVMHS-OUTPATIENT SERVICE-INFUSION CENTER",
          "THE CENTER FOR CANCER PREVENTION AND TREATMENT INFUSION CENTER PH",
          "TRINITY CARE RX",
          "UC DAVIS MEDICAL CENTER INFUSION PHARMACY",
          "UCI HEALTH IRVINE INFUSION PHARMACY ACC",
          "UCSD HOME INFUSION PHARMACY",
          "UCSD- SDCC INFUSION PHARMACY",
          "UCSF MEDICAL CENTER BENIOFF 6TH FLR RM M6362 PEDIATRIC INFUSION",
          "UCSF MEDICAL CENTER OUTPATIENT INFUSION PHARMACY",
          "VENTURA COUNTY MEDICAL CENTER INFUSION CENTER PHARMACY",
          "VIVE RX INC",
          "WELLSCRIPT"
         ],
         "lat": [
          33.848733,
          40.674947,
          28.489898,
          34.195685,
          37.866536,
          32.70065,
          38.635653,
          33.788145,
          33.803431,
          40.945855,
          33.818477,
          33.956526,
          33.833744,
          33.666942,
          32.999309,
          32.425874,
          36.822349,
          34.00784,
          42.067166,
          34.127194,
          36.825296,
          36.822349,
          34.037251,
          34.035602,
          32.999818,
          44.874984,
          36.061718,
          36.825296,
          39.173116,
          26.278502,
          35.342891,
          35.342891,
          34.923013,
          34.227892,
          34.205247,
          34.283668,
          37.031475,
          34.17051,
          29.991693,
          29.620312,
          41.743074,
          33.666942,
          33.828396,
          34.173885,
          33.805401,
          35.176043,
          35.23575,
          34.026608,
          34.283668,
          36.391777,
          33.997862,
          37.899936,
          37.792682,
          33.867743,
          38.645723,
          36.391777,
          33.948255,
          38.612129,
          33.975332,
          34.923013,
          35.165671,
          36.478239,
          38.427507,
          33.867743,
          37.605905,
          38.114388,
          32.899592,
          34.224196,
          34.230854,
          35.16319,
          33.750815,
          33.680302,
          34.204568,
          33.0824,
          33.818477,
          36.793661,
          39.898839,
          33.970847,
          38.635653,
          32.908449,
          34.283668,
          37.603155,
          34.13946,
          34.119367,
          37.750502,
          32.806794,
          33.763905,
          33.833181,
          34.204568,
          33.830457,
          34.173885,
          34.074736,
          38.571577,
          33.889702,
          34.207341,
          32.806794,
          33.901886,
          41.819578,
          38.488809,
          37.773793,
          38.571577,
          38.741074,
          38.18735,
          36.636344,
          33.788145,
          33.801191,
          38.550547,
          33.65844,
          32.806794,
          33.056022,
          37.768106,
          37.768106,
          34.283668,
          33.942108,
          40.601778
         ],
         "legendgroup": "Infusion Center",
         "lon": [
          -117.788357,
          -80.106364,
          -81.290154,
          -118.490752,
          -122.257996,
          -97.386965,
          -121.518416,
          -117.87655,
          -118.16977,
          -74.245077,
          -118.038307,
          -118.358654,
          -118.314022,
          -117.732094,
          -96.841688,
          -90.169852,
          -119.760243,
          -118.030271,
          -87.934719,
          -118.295647,
          -119.68019,
          -119.760243,
          -118.423573,
          -117.591528,
          -117.071808,
          -93.152093,
          -115.058058,
          -119.68019,
          -76.842028,
          -80.1153,
          -119.064803,
          -119.064803,
          -120.259463,
          -119.079552,
          -119.174092,
          -119.223196,
          -121.98334,
          -118.289463,
          -90.258179,
          -95.605693,
          -87.929214,
          -117.732094,
          -117.20766,
          -118.346937,
          -118.187701,
          -120.476694,
          -120.615973,
          -118.473643,
          -119.223196,
          -119.372842,
          -118.393617,
          -121.999244,
          -121.86059,
          -118.069472,
          -121.445254,
          -119.372842,
          -116.987839,
          -120.964522,
          -118.355252,
          -120.259463,
          -120.655844,
          -119.52137,
          -121.314899,
          -118.069472,
          -122.126873,
          -121.144658,
          -117.201203,
          -118.632394,
          -118.365856,
          -119.046322,
          -112.090632,
          -117.833295,
          -118.326365,
          -117.127641,
          -118.038307,
          -119.761461,
          -86.05872,
          -117.32512,
          -121.518416,
          -117.14138,
          -119.223196,
          -122.018638,
          -118.166649,
          -117.855054,
          -121.749055,
          -117.13493,
          -117.931382,
          -118.292062,
          -118.326365,
          -117.905941,
          -118.346937,
          -118.145959,
          -121.466465,
          -117.113427,
          -118.400973,
          -117.13493,
          -117.916639,
          -124.065667,
          -121.395843,
          -122.278115,
          -121.466465,
          -121.247693,
          -122.224074,
          -121.623978,
          -117.87655,
          -117.994904,
          -121.456373,
          -117.826009,
          -117.13493,
          -117.2599,
          -122.386927,
          -122.386927,
          -119.223196,
          -118.417488,
          -122.454973
         ],
         "marker": {
          "color": "#1F77B4"
         },
         "mode": "markers",
         "name": "Infusion Center",
         "showlegend": true,
         "subplot": "mapbox",
         "type": "scattermapbox"
        },
        {
         "hovertemplate": "<b>%{hovertext}</b><br><br>Facility Type=Medical Facility<br>LAT=%{lat}<br>LONG=%{lon}<extra></extra>",
         "hovertext": [
          "ADVENTIST HEALTH AIS CANCER CENTER PHARMACY",
          "ADVENTIST HEALTH AND RIDEOUT",
          "ADVENTIST HEALTH AND RIDEOUT",
          "ADVENTIST HEALTH BAKERSFIELD - HOSPITAL PHARMACY",
          "ADVENTIST HEALTH DELANO",
          "ADVENTIST HEALTH GLENDALE",
          "ADVENTIST HEALTH HANFORD",
          "ADVENTIST HEALTH HOWARD MEMORIAL",
          "ADVENTIST HEALTH LODI MEMORIAL HOSPITAL PHARMACY 1STFLR NORTHWING",
          "ADVENTIST HEALTH MENDOCINO COAST",
          "ADVENTIST HEALTH SIMI VALLEY",
          "ADVENTIST HEALTH SIMI VALLEY",
          "ADVENTIST HEALTH SONORA",
          "ADVENTIST HEALTH SONORA-PHARMACY",
          "ADVENTIST HEALTH SPECIALTY BAKERSFIELD",
          "ADVENTIST HEALTH ST HELENA HOSPITAL CANCER CENTER PHARMACY",
          "ADVENTIST HEALTH ST HELENA HOSPITAL INPATIENT PHARMACY",
          "ADVENTIST HEALTH TEHACHAPI VALLEY",
          "ADVENTIST HEALTH TULARE",
          "ADVENTIST HEALTH UKIAH VALLEY",
          "ADVENTIST HEALTH WHITE MEMORIAL MONTEBELLO",
          "AHMC ANAHEIM REGIONAL MEDICAL CENTER - MAIN PHARMACY",
          "AHMC SETON MEDICAL CENTER LLC",
          "ALAMEDA HOSPITAL",
          "ALHAMBRA HOSPITAL MEDICAL CENTER",
          "ALHAMBRA HOSPITAL MEDICAL CENTER",
          "ALTA BATES SUMMIT MEDICAL CENTER - ALTA BATES CAMPUS",
          "ALTA BATES SUMMIT MEDICAL CENTER - SUMMIT CAMPUS RM G744",
          "ANTELOPE VALLEY MEDICAL CENTER IV ROOM",
          "ARROWHEAD REGIONAL MEDICAL CENTER PHARMACY",
          "BAKERSFIELD MEMORIAL HOSPITAL",
          "BAKERSFIELD MEMORIAL HOSPITAL PHARMACY",
          "BAKERSFIELD REHABILITATION HOSPITAL",
          "BANNER LASSEN MEDICAL CENTER 1ST FLOOR ROOM 523",
          "BARLOW HOSPITAL PHARMACY",
          "BARSTOW COMMUNITY HOSPITAL",
          "BARTON MEMORIAL HOSPITAL PHARMACY",
          "BEAR VALLEY COMMUNITY HOSPITAL",
          "BECKMAN RESEARCH INSTITUTE OF THE CITY OF HOPE",
          "BOWYER PHARMACY",
          "CA PACIFIC MED CTR PHY - DAVIES CAMPUS",
          "CALIFORNIA HOSPITAL MEDICAL CENTER",
          "CALIFORNIA REHABILITATION INSTITUTE LLC 9TH FLOOR",
          "CARDINAL HEALTH",
          "CARDINAL HEALTH",
          "CARDINAL HEALTH 414 LLC",
          "CARDINAL HEALTH 414, LLC",
          "CARDINAL HEALTH 414,LLC",
          "CARDINAL HEALTH 414,LLC",
          "CARDINAL HEALTH 414,LLC",
          "CARDINAL HEALTH 414,LLC",
          "CARDINAL HEALTH 414,LLC",
          "CARDINAL HEALTH 414,LLC",
          "CARDINAL HEALTH 414,LLC",
          "CARDINAL HEALTH_414,LLC",
          "CARDINAL HEALTH_414,LLC",
          "CASA COLINA HOSPITAL PHARMACY",
          "CEDARS SINAI MARINA HOSPITAL",
          "CEDARS SINAI MEDICAL CENTER - CENTRAL PHARMACY MAIN SOUTH TOWER",
          "CEDARS SINAI MEDICAL CENTER - MARK TAPER",
          "CEDARS-SINAI MEDICAL CENTER -4TH FLOOR MAIN: 4407-4408",
          "CEDARS-SINAI MEDICAL CENTER AHSP PLAZA LEVEL ROOM A2403",
          "CEDARS-SINAI MEDICAL CENTER ASHP",
          "CEDARS-SINAI MEDICAL CENTER PHARMACY #6",
          "CEDARS-SINAI MEDICAL CENTER PHY #4",
          "CEDARS-SINAI TOWER HEMATOLOGY ONCOLOGY PHARMACY",
          "CEDARS-SINAI TOWER HEMATOLOGY ONCOLOGY PHARMACY",
          "CENTINELA HOSPITAL MEDICAL CENTER",
          "CENTRAL VALLEY SPECIALTY HOSPITAL - PHARMACY IV ROOM",
          "CHA HOLLYWOOD PRESBYTERIAN MEDICAL CENTER INPATIENT PHARMACY IV R",
          "CHAPMAN GLOBAL MEDICAL CENTER INC",
          "CHILDREN'S HOSPITAL & HEALTH CENTER PHARMACY",
          "CHILDREN'S HOSPITAL & HEALTH CENTER PHARMACY",
          "CHILDREN'S HOSPITAL & RESEARCH CENTER AT OAKLAND",
          "CHILDREN'S HOSPITAL OF ORANGE COUNTY",
          "CHILDREN'S HOSPITAL OF ORANGE COUNTY HOSPITAL PHARMACY 6TH FLOOR",
          "CHILDREN'S HOSPITAL OF ORANGE COUNTY HOSPITAL PHARMACY INPATIENT",
          "CHILDREN'S HOSPITAL OF ORANGE COUNTY HOSPITAL PHARMACY OR SATELLI",
          "CHILDREN'S HOSPITAL PHARMACY - 4TH FLOOR 4A80",
          "CHILDRENS HOSPITAL OF ORANGE COUNTY",
          "CHILDRENS HOSPITAL PHARMACY - 2ND FLOOR 2A80",
          "CHILDRENS HOSPITAL PHARMACY - INPATIENT PHARMACY",
          "CHILDRENS HOSPITAL PHARMACY - OR SATELITE RM 2074",
          "CHILDRENS HOSPITAL PHARMACY - SATELITE EMERGENCY DEPT RM 0A66",
          "CHILDRENS VILLAGE PHARMACY",
          "CHINESE HOSPITAL PHARMACY",
          "CHINO VALLEY MEDICAL CENTER",
          "CITY OF HOPE CORONA",
          "CITY OF HOPE DUARTE BRISKIN",
          "CITY OF HOPE DUARTE HELFORD2",
          "CITY OF HOPE DUARTE HP8",
          "CITY OF HOPE DUARTE NW1202",
          "CITY OF HOPE DUARTE NW1252",
          "CITY OF HOPE ORANGE COUNTY",
          "CITY OF HOPE SEACLIFF",
          "CITY OF HOPE SOUTH BAY",
          "CITY OF HOPE UPLAND",
          "CLOVIS COMMUNITY HOSPITAL PHARMACY - ED SATELLITE",
          "CLOVIS COMMUNITY HOSPITAL PHARMACY - ICU SATELLITE",
          "CLOVIS COMMUNITY HOSPITAL PHARMACY - MAIN PHARMACY",
          "COALINGA REGIONAL MEDICAL CENTER",
          "COAST PLAZA HOSPITAL",
          "COLLEGE HOSPITAL OF COSTA MESA IV HOOD (BARRIER ISOLATOR) LOCATED",
          "COLLEGE MEDICAL CENTER",
          "COMMUNITY HOSPITAL OF HUNTINGTON PARK",
          "COMMUNITY HOSPITAL OF SAN BERNARDINO",
          "COMMUNITY HOSPITAL OF THE MONTEREY PENINSULA",
          "COMMUNITY MEMORIAL HOSPITAL OF SAN BUENA VENTURA MAIN PHARMACY",
          "CONSONUS PHARMACY SERVICES CA NORTH LLC",
          "CONTRA COSTA REG MED CTR OUTPATIENT PHY",
          "CONTRA COSTA REG MEDICAL CTR HOSPITAL PHARMACY",
          "CONVERSIO HEALTH",
          "CORONA REGIONAL MEDICAL CENTER MAIN PHARMACY ON 1ST FLOOR",
          "CPMC MISSION BERNAL CAMPUS PHARMACY",
          "CPMC VAN NESS CAMPUS 5TH FLOOR SATELLITE PHARMACY",
          "CPMC VAN NESS CAMPUS PHARMACY",
          "CRESCENT HEALTHCARE INC DBA CRESCENT HEALTHCARE",
          "CRESCENT HEALTHCARE INC DBA CRESCENT HEALTHCARE",
          "CRESCENT HEALTHCARE INC DBA CRESCENT HEALTHCARE",
          "CRESCENT HEALTHCARE INC DBA CRESCENT HEALTHCARE",
          "DAMERON HOSPITAL PHARMACY",
          "DESERT REGIONAL MED CTR COMP CANCER CTR",
          "DESERT REGIONAL MEDICAL CENTER - INPATIENT PHARMACY",
          "DESERT REGIONAL MEDICAL CENTER COMPREHENSIVE CANCER CENTER",
          "DESERT VALLEY HOSPITAL",
          "DESERT VALLEY HOSPITAL",
          "DIGNITY HEALTH MERCY ONCOLOGY CENTER PHARMACY",
          "DOCTORS HOSPITAL OF MANTECA",
          "DOCTORS HOSPTIAL OF RIVERSIDE",
          "DOCTORS MEDICAL CENTER OF MODESTO",
          "DOMINICAN HOSPITAL PHARMACY",
          "EARL & LORAINE MILLER CHILDRENS HOSPITAL",
          "EAST LOS ANGELES DOCTORS HOSPITAL",
          "EDEN MEDICAL CENTER",
          "EISENHOWER MEDICAL CENTER - HOSPITAL LOWER LEVEL",
          "EISENHOWER MEDICAL CENTER - LUCY CURCI PHARMACY",
          "EISENHOWER MEDICAL CENTER YUCCA VALLEY",
          "EL CAMINO HOSPITAL - LOS GATOS",
          "EL CAMINO HOSPITAL CANCER CENTER",
          "EL CAMINO HOSPITAL LOS GATOS CANCER CENTER",
          "EL CAMINO HOSPITAL PHARMACY",
          "EL CAMINO HOSPITAL PHARMACY COMPOUNDING ROOM GB 512",
          "EL CAMINO HOSPITAL- LOS GATOS",
          "EL CENTRO REGIONAL MEDICAL CENTER PHARMACY",
          "EL CENTRO REGIONAL MEDICAL CENTER PHARMACY ECRMC PHARMACY ONCOLOG",
          "EL CENTRO REGIONAL MEDICAL CENTER PHY",
          "EMANATE HEALTH FOOTHILL PRESBYTERIAN HOSPITAL",
          "EMANATE HEALTH INTER-COMMUNITY MAIN PHARMACY (BASEMENT)",
          "EMANATE HEALTH QUEEN OF THE VALLEY HOSPITAL",
          "EMANATE HEALTH QUEEN OF THE VALLEY HOSPITAL MAIN PHARMACY BASEMEN",
          "EMANATE HEALTH QUEEN OF THE VALLEY HOSPITAL ROOM 249",
          "EMANATE HEALTH QUEEN OF THE VALLEY HOSPITAL ROOM 250",
          "EMANUEL MEDICAL CENTER",
          "EMANUEL SPECIALTY CLINIC MEDICAL ONCOLOGY PHARMACY",
          "ENCINO HOSPITAL MEDICAL CENTER PHARMACY",
          "ENCOMPASS HEALTH REHABILITATION HOSPITAL OF BAKERSFIELD",
          "ENLOE MEDICAL CENTER",
          "ENLOE MEDICAL CENTER CANCER CENTER",
          "FAIRCHILD MEDICAL CENTER PHARMACY",
          "FOOTHILL REGIONAL MEDICAL CENTER",
          "FRENCH HOSPITAL MEDICAL CENTER FIRST FLOOR",
          "FRESNO COMM MED CTR",
          "FRESNO COMM MED CTR PHARMACY 4TH FLOOR, 10-STORY BLDG, NEONATAL I",
          "FRESNO COMM MED CTR PHARMACY 5TH FLOOR, TCCB BLDG, INTENSIVE CARE",
          "FRESNO HEART AND SURGICAL HOSPITAL BAKER SG403 & EG4252",
          "FRESNO SURGICAL HOSPITAL STERILE PHARMACY 2ND FLOOR",
          "GARDEN GROVE HOSPITAL AND MEDICAL CENTER",
          "GARFIELD HOSPITAL MEDICAL CENTER 2ND FLOOR",
          "GLENDALE MEMORIAL HOSPITAL & HEALTH CENTER",
          "GLENN MEDICAL CENTER",
          "GMT PHARMACY",
          "GOLETA VALLEY COTTAGE HOSPITAL",
          "GOOD SAMARITAN HOSPITAL PHARMACY",
          "GOOD SAMARITAN HOSPITAL, LP",
          "GREATER EL MONTE COMMUNITY HOSPITAL PHARMACY IV ROOM",
          "GROSSMONT HOSPITAL PHARMACY HEART & VASCULAR TOWER LEVEL A",
          "HARTLEY MEDICAL CENTER PHARMACY INC",
          "HAZEL HAWKINS MEMORIAL HOSPITAL PHARMACY",
          "HEALDSBURG HOSPITAL",
          "HEMET GLOBAL MEDICAL CENTER FIRST FLOOR PHARMACY",
          "HENRY MAYO NEWHALL HOSPITAL",
          "HI-DESERT MEDICAL CENTER HOSPITAL PHARMACY",
          "HIGHLAND CARE PAVILLION PHARMACY",
          "HIGHLAND HOSPITAL PHARMACY",
          "HOAG HOSPITAL IRVINE",
          "HOAG MEMORIAL PRESBYTERIAN PHARMACY",
          "HUNTINGTON BEACH HOSPITAL",
          "HUNTINGTON HOSPITAL MAIN PHARMACY IV ROOM GROUND FLOOR",
          "HUNTINGTON HOSPITAL PEDIATRIC SATELLITE 1ST FLOOR",
          "INLAND VALLEY MEDICAL CENTER MAIN PHARMACY 1ST FLOOR",
          "JOHN F KENNEDY MEMORIAL HOSPITAL",
          "JOHN MUIR MEDICAL CENTER",
          "JOHN MUIR MEDICAL CENTER CONCORD",
          "JOHN MUIR MEDICAL CENTER WALNUT CREEK",
          "JOHN MUIR MEDICAL CENTER WALNUT CREEK PEDIATRIC SATELLITE PHARM",
          "KAISER FDN HSP INP DISCHARGE PHY 39A 394",
          "KAISER FDN HSP INP DISCHARGE PHY 39A 394",
          "KAISER FDN HSP INP DISCHARGE PHY 72A 726",
          "KAISER FDN HSP INP PHY 12A",
          "KAISER FDN HSP INP PHY 12A",
          "KAISER FDN HSP INP PHY 16A",
          "KAISER FDN HSP INP PHY 16A",
          "KAISER FDN HSP INP PHY 51A",
          "KAISER FDN HSP INP PHY 51A FL 2 RM 213",
          "KAISER FDN HSP INP PHY 51A FL 2 RM 23B13",
          "KAISER FDN HSP INP PHY 60A",
          "KAISER FDN HSP INP/OUT DIS PHY 63A 634",
          "KAISER FDN HSP INP/OUT HSP PHY 31A 315",
          "KAISER FDN HSP INP/OUT HSP PHY 31A 315",
          "KAISER FDN HSP INP/OUT HSP PHY 58A 584",
          "KAISER FDN HSP INP/OUT HSP PHY 58A 584 FL 2 RM N2000",
          "KAISER FDN HSP INP/OUT PHY 35A-355",
          "KAISER FDN HSP PHY 21A",
          "KAISER FDN HSP PHY 21A",
          "KAISER FOUND HOSP PHARMACY #49A",
          "KAISER FOUND HOSPITAL PHARMACY #054",
          "KAISER FOUND HOSPITAL PHARMACY #054 - FL-1, RM H13R32",
          "KAISER FOUND HOSPITAL PHARMACY #85A",
          "KAISER FOUND HOSPITAL PHRMCY #57A MAIN PHARMACY",
          "KAISER FOUND HOSPITAL PHRMCY #67A",
          "KAISER FOUND HOSPITAL PHRMCY #67A / 67B",
          "KAISER FOUND HOSPITAL PHY #58B",
          "KAISER FOUND HSP PHY #44B FLR 2 RM H2164",
          "KAISER FOUND HSP PHY #44B FLR 2 RM P2531A",
          "KAISER FOUND HSP PHY #44B MAIN PHARMACY",
          "KAISER FOUNDATION HLTH MOB 2 PHY #686",
          "KAISER FOUNDATION HOSPITAL",
          "KAISER FOUNDATION HOSPITAL 551",
          "KAISER FOUNDATION HOSPITAL 551 - MAIN",
          "KAISER FOUNDATION HOSPITAL IP MAIN PHARMACY",
          "KAISER FOUNDATION HOSPITAL MAIN PHARMACY ROOM  #1047",
          "KAISER FOUNDATION HOSPITAL PHARMACY",
          "KAISER FOUNDATION HOSPITAL PHARMACY",
          "KAISER FOUNDATION HOSPITAL PHARMACY #054 MAIN PHARMACY",
          "KAISER FOUNDATION HOSPITAL PHARMACY #10A MAIN PHARMACY",
          "KAISER FOUNDATION HOSPITAL PHARMACY #247",
          "KAISER FOUNDATION HOSPITAL PHARMACY #28B/282",
          "KAISER FOUNDATION HOSPITAL PHARMACY #367 MAIN PHARMACY",
          "KAISER FOUNDATION HOSPITAL PHARMACY #372 MAIN PHARMACY",
          "KAISER FOUNDATION HOSPITAL PHARMACY #37B/378 FL 3 MAIN PHARMACY",
          "KAISER FOUNDATION HOSPITAL PHARMACY #529",
          "KAISER FOUNDATION HOSPITAL PHARMACY #61A MAIN PHARMACY",
          "KAISER FOUNDATION HOSPITAL PHARMACY #63C",
          "KAISER FOUNDATION HOSPITAL PHARMACY #651",
          "KAISER FOUNDATION HOSPITAL PHARMACY #71B",
          "KAISER FOUNDATION HOSPITAL PHARMACY #751",
          "KAISER FOUNDATION HOSPITAL PHARMACY #85A",
          "KAISER FOUNDATION HOSPITAL PHARMACY #92A FL 2, RM 2228",
          "KAISER FOUNDATION HOSPITAL PHARMACY #92A MAIN PHARMACY",
          "KAISER FOUNDATION HOSPITAL PHARMACY - MAIN PHARMACY",
          "KAISER FOUNDATION HOSPITAL PHARMACY 151 - FL 2, RM 2126",
          "KAISER FOUNDATION HOSPITAL PHARMACY 151 - MAIN",
          "KAISER FOUNDATION HOSPITAL PHARMACY MAIN PHARMACY",
          "KAISER FOUNDATION HOSPITAL PHARMACY MAIN PHARMACY",
          "KAISER FOUNDATION HOSPITAL PHY #253 MAIN PHARMACY",
          "KAISER HEALTH PLAN PHARMACY NO 338",
          "KAISER HOSPITAL PHARMACY #59A FL-1 RM W1D06",
          "KAISER HOSPITAL PHARMACY #59A MAIN PHARMACY",
          "KAISER ONCOLOGY PHARMACY #060",
          "KAISER ONCOLOGY PHARMACY #104",
          "KAISER ONCOLOGY PHARMACY #247",
          "KAISER ONCOLOGY PHARMACY #520",
          "KAISER ONCOLOGY PHARMACY #573",
          "KAISER ONCOLOGY PHARMACY #598",
          "KAISER ONCOLOGY PHARMACY #680",
          "KAISER ONCOLOGY PHARMACY #854",
          "KAISER ONCOLOGY PHARMACY #868",
          "KAISER ONCOLOGY PHRMCY #081",
          "KAISER ONCOLOGY PHRMCY #170",
          "KAISER ONCOLOGY PHRMCY #638",
          "KAISER PERMANENTE ONCOLOGY PHARMACY #014C",
          "KAISER PERMANENTE ONCOLOGY PHARMACY #168",
          "KAISER PERMANENTE ONCOLOGY PHARMACY #379",
          "KAISER PERMANENTE ONCOLOGY PHARMACY #675",
          "KAISER PERMANENTE PHARMACY #005C",
          "KAISER PERMANENTE PHARMACY #122C",
          "KAISER PERMANENTE PHARMACY #162",
          "KAISER PERMANENTE PHARMACY #171",
          "KAISER PERMANENTE PHARMACY #181",
          "KAISER PERMANENTE PHARMACY #221",
          "KAISER PERMANENTE PHARMACY #252",
          "KAISER PERMANENTE PHARMACY #257C",
          "KAISER PERMANENTE PHARMACY #260C",
          "KAISER PERMANENTE PHARMACY #271C",
          "KAISER PERMANENTE PHARMACY #305C - RM 4644",
          "KAISER PERMANENTE PHARMACY #363C",
          "KAISER PERMANENTE PHARMACY #374C",
          "KAISER PERMANENTE PHARMACY #376",
          "KAISER PERMANENTE PHARMACY #398",
          "KAISER PERMANENTE PHARMACY #401",
          "KAISER PERMANENTE PHARMACY #414",
          "KAISER PERMANENTE PHARMACY #514",
          "KAISER PERMANENTE PHARMACY #524C",
          "KAISER PERMANENTE PHARMACY #531C",
          "KAISER PERMANENTE PHARMACY #551C",
          "KAISER PERMANENTE PHARMACY #607",
          "KAISER PERMANENTE PHARMACY #612",
          "KAISER PERMANENTE PHARMACY #612T2",
          "KAISER PERMANENTE PHARMACY #889C",
          "KAISER PERMANENTE PHARMACY #922",
          "KAISER PERMANENTE PHARMACY #979",
          "KAISER PERMANENTE PHY #193",
          "KAISER ZION ONCOLOGY PHARMACY #202C",
          "KAWEAH HEALTH ACEQUIA WING SATALITE PHARMACY",
          "KAWEAH HEALTH MEDICAL CENTER PHARMACY",
          "KECK HOSPITAL OF USC - ARCADIA TREATMENT CENTER",
          "KECK HOSPITAL OF USC - NORRIS HEALTHCARE CENTER PHARMACY",
          "KECK HOSPITAL OF USC 4TH FLOOR OR PHARMACY",
          "KECK HOSPITAL OF USC 9TH FLOOR PHARMACY",
          "KECK HOSPITAL OF USC MAIN PHARMACY",
          "KECK MEDICINE OF USC-NEWPORT PHARMACY",
          "KENTFIELD HOSPITAL",
          "KENTFIELD HOSPITAL SAN FRANCISCO",
          "KERN MEDICAL CENTER PHARMACY RM 1150",
          "KERN VALLEY HEALTHCARE DISTRICT",
          "KINDRED HOSPITAL BALDWIN PARK",
          "KINDRED HOSPITAL BREA",
          "KINDRED HOSPITAL LA MIRADA",
          "KINDRED HOSPITAL LOS ANGELES",
          "KINDRED HOSPITAL ONTARIO",
          "KINDRED HOSPITAL PARAMOUNT",
          "KINDRED HOSPITAL RANCHO",
          "KINDRED HOSPITAL RIVERSIDE",
          "KINDRED HOSPITAL SAN DIEGO",
          "KINDRED HOSPITAL SAN FRANCISCO BAY AREA",
          "KINDRED HOSPITAL SAN GABRIEL VALLEY",
          "KINDRED HOSPITAL SANTA ANA",
          "KINDRED HOSPITAL SOUTH BAY",
          "LA JOLLA DISCOUNT PHARMACY",
          "LA PALMA INTERCOMMUNITY HOSPITAL",
          "LA PALMA INTERCOMMUNITY HOSPITAL",
          "LAC HARBOR UCLA MEDICAL CENTER PHARMACY 3RD FLOOR SATELLITE",
          "LAC HARBOR UCLA MEDICAL CENTER PHARMACY 6TH FLOOR SATELLITE",
          "LAC HARBOR UCLA MEDICAL CENTER PHARMACY MAIN PHARMACY",
          "LAC HARBOR UCLA MEDICAL CENTER PHARMACY SE 1H09",
          "LLUMC - EAST CAMPUS HOSPITAL PHARMACY",
          "LOMA LINDA UNIVERSITY CHILDREN'S HOSPITAL",
          "LOMA LINDA UNIVERSITY CHILDREN'S HOSPITAL PHARMACY",
          "LOMA LINDA UNIVERSITY CHILDREN'S HOSPITAL PHARMACY (NICU-3RD)",
          "LOMA LINDA UNIVERSITY CHILDRENS HOSPITAL",
          "LOMA LINDA UNIVERSITY CHILDRENS HOSPITAL PEDIATRIC HEMATOLOGY/ONC",
          "LOMA LINDA UNIVERSITY HOSPITAL PHARMACY- 14TH FLOOR",
          "LOMA LINDA UNIVERSITY HOSPITAL PHARMACY-3RD FLOOR",
          "LOMA LINDA UNIVERSITY HOSPITAL PHARMACY-6TH FLOOR",
          "LOMA LINDA UNIVERSITY HOSPITAL PHARMACY-ADULT CANCER CENTER",
          "LOMA LINDA UNIVERSITY HOSPITAL PHARMACY-BASEMENT",
          "LOMA LINDA UNIVERSITY MEDICAL CENTER - HOSPITAL PHARMACY (2ND FLO",
          "LOMA LINDA UNIVERSITY MEDICAL CENTER - MURRIETA",
          "LOMA LINDA UNIVERSITY SURGICAL HOSPITAL",
          "LOMPOC VALLEY MEDICAL CENTER",
          "LOMPOC VALLEY MEDICAL CENTER HEMATOLOGY-ONCOLOGY PHARMACY",
          "LONG BEACH MEMORIAL MEDICAL CENTER",
          "LOS ANGELES COMMUNITY HOSPITAL AT NORWALK",
          "LOS ANGELES COMMUNITY HOSPITAL PHARMACY",
          "LOS ANGELES COUNTY HIGH DESERT REGIONAL HEALTH CENTER PHARMACY",
          "LOS ANGELES GENERAL MEDICAL CENTER INPATIENT PHARMACY",
          "LOS ANGELES GENERAL MEDICAL CENTER INPATIENT PHARMACY",
          "LOS ANGELES GENERAL MEDICAL CENTER INPATIENT PHARMACY",
          "LOS ANGELES GENERAL MEDICAL CENTER INPATIENT PHARMACY",
          "LOS ANGELES GENERAL MEDICAL CENTER INPATIENT PHARMACY",
          "LOS ROBLES HOSPITAL AND MEDICAL CENTER",
          "LPCH CHILDRENS HOME PHARMACY",
          "LUCILE PACKARD CHILDREN'S HOSPITAL RM 2875 INPATIENT PHARMACY",
          "LUCILE SALTER PACKARD CHILDRENS HSP",
          "LUCILE SALTER PACKARD CHILDRENS HSP",
          "LUCILE SALTER PACKARD CHILDRENS HSP",
          "LUNDQUIST INSTITUTE FOR BIOMEDICAL INNOVATION",
          "MAD RIVER COMMUNITY HOSPITAL PHARMACY",
          "MADERA COMMUNITY HOSPITAL",
          "MAMMOTH HOSPITAL",
          "MANDELL'S CLINICAL PHARMACY",
          "MARIAN REGIONAL MEDICAL CENTER",
          "MARIAN REGIONAL MEDICAL CENTER ARROYO GRANDE",
          "MARIN GENERAL HOSPITAL PHARMACY MAIN PHARMACY, 2ND FLOOR",
          "MARIN GENERAL HOSPITAL PHARMACY SATELLITE PHARAMCY, 5TH FLOOR",
          "MARK TWAIN MEDICAL CENTER",
          "MARSHALL HOSPITAL PHARMACY; 2ND FLOOR SURGERY WING",
          "MARTIN LUTHER KING JR COMMUNITY HOSPITAL PHARMACY",
          "MARTIN LUTHER KING JR OUTPATIENT CENTER PHARMACY",
          "MAYERS MEMORIAL HOSPITAL PHARMACY",
          "MEMORIAL HOSPITAL LOS BANOS PHARMACY",
          "MEMORIAL HOSPITAL OF GARDENA",
          "MEMORIAL MEDICAL CENTER PHARMACY- INPATIENT",
          "MENIFEE GLOBAL MEDICAL CENTER MAIN PHARMACY",
          "MERCY GENERAL HOSPITAL",
          "MERCY HOSPITAL",
          "MERCY HOSPITAL OF FOLSOM MAIN PHARMACY - LOWER LEVEL ROOM 170",
          "MERCY MEDICAL CENTER MAIN PHARMACY - GARDEN LEVEL ROOM # 0165",
          "MERCY MEDICAL CENTER MT SHASTA",
          "MERCY MEDICAL CENTER REDDING",
          "MERCY SAN JUAN MEDICAL CENTER PHARMACY 1ST FLOOR IV ROOM",
          "MERCY SOUTHWEST HOSPITAL",
          "METHODIST HOSPITAL OF SACRAMENTO",
          "MID VALLEY HEALTH SERVICES",
          "MILLS-PENINSULA HEALTH CENTER PHARMACY",
          "MILLS-PENINSULA MEDICAL CENTER PHARMACY",
          "MISSION COMMUNITY HOSPITAL MAIN PHARMACY IN BASEMENT",
          "MONROVIA MEMORIAL HOSPITAL",
          "MONTCLAIR HOSPITAL MEDICAL CENTER",
          "MONTEREY PARK HOSPITAL",
          "MOUNTAIN VIEW PHARMACEUTICALS",
          "MOUNTAINS COMMUNITY HOSPITAL PHARMACY",
          "NATIVIDAD MEDICAL CENTER 1ST FLOOR MAIN PHARMACY 1D018",
          "NORTH COUNTY ONCOLOGY",
          "NORTHBAY MEDICAL CENTER PHARMACY",
          "NORTHBAY VACAVALLEY HOSPITAL PHARMACY",
          "NORTHERN INYO HOSPITAL PHARMACY",
          "NORTHRIDGE HOSPITAL MEDICAL CENTER",
          "NORTHRIDGE HOSPITAL MEDICAL CENTER",
          "NOVATO COMMUNITY HOSPITAL - MAIL PHARMACY IV ROOM 2ND FLOOR",
          "O'CONNOR HOSPITAL",
          "OAK VALLEY HOSPITAL DISTRICT",
          "OJAI VALLEY COMMUNITY HOSPITAL",
          "OLIVE VIEW UCLA MED CTR PHY I",
          "ORANGE COAST MEMORIAL MEDICAL CENTER",
          "ORANGE COUNTY GLOBAL MEDICAL CENTER",
          "OROVILLE HOSPITAL - MAIN PHARMACY",
          "PACIFIC WEST PHARMACY INC",
          "PACIFICA HOSPITAL OF THE VALLEY",
          "PALMDALE REGIONAL MEDICAL CENTER INPATIENT PHARMACY",
          "PALO VERDE HOSPITAL",
          "PALOMAR MEDICAL CENTER PHARMACY",
          "PALOMAR MEDICAL CENTER POWAY PHARMACY",
          "PARADISE VALLEY HOSPITAL",
          "PARADISE VALLEY HOSPITAL",
          "PC AND MZ SAN FRANCISCO GEN HOSPITAL AND TRAUMA CTR INPT PHARMACY",
          "PENTEC HEALTH, INC.",
          "PETALUMA VALLEY HOSPITAL PHARMACY",
          "PIH HEALTH DOWNEY HOSPITAL",
          "PIH HEALTH GOOD SAMARITAN HOSPITAL",
          "PIH HEALTH GOOD SAMARITAN HOSPITAL",
          "PIH HEALTH GOOD SAMARITAN HOSPITAL 4TH FLOOR PHARMACY",
          "PIH HEALTH WHITTIER HOSPITAL PHCY",
          "PIH HEALTH WHITTIER HOSPITAL PHCY PLAZA TOWER MAIN PHARMACY",
          "PIONEERS MEMORIAL HEALTHCARE DISTRICT",
          "PIONEERS MEMORIAL HEALTHCARE DISTRICT MAIN PHARMACY",
          "POMONA VALLEY HOSPITAL MEDICAL CENTER CENTRAL PHARMACY #DB20P",
          "POMONA VALLEY HOSPITAL MEDICAL CENTER SATELLITE PHARMACY #EC298A",
          "PRIME HEALTHCARE SERVICES- ST. FRANCIS LLC",
          "PROVIDENCE CEDARS-SINAI TARZANA MEDICAL CENTER",
          "PROVIDENCE HEALTH SYSTEM SOUTHERN CALIFORNIA DBA PROVIDENCE HOLY",
          "PROVIDENCE HOLY CROSS MEDICAL CENTER PHARMACY",
          "PROVIDENCE LITTLE COMPANY OF MARY MED CTR SAN PEDRO",
          "PROVIDENCE LITTLE COMPANY OF MARY MED CTR TORRANCE",
          "PROVIDENCE MISSION HOSPITAL",
          "PROVIDENCE MISSION HOSPITAL CANCER CENTER",
          "PROVIDENCE MISSION HOSPITAL LAGUNA BEACH",
          "PROVIDENCE ONCOLOGY PHARMACY",
          "PROVIDENCE QUEEN OF THE VALLEY MEDICAL CENTER",
          "PROVIDENCE REDWOOD MEMORIAL HOSPITAL",
          "PROVIDENCE SAINT JOHN'S HEALTH CENTER- MAIN PHARMACY",
          "PROVIDENCE SAINT JOHN'S HEALTH CENTER- SATELLITE PHARMACY",
          "PROVIDENCE SAINT JOHNS HEALTH CENTER PHARMACY",
          "PROVIDENCE SAINT JOSEPH MEDICAL CENTER",
          "PROVIDENCE ST JOSEPH HOSPITAL",
          "PROVIDENCE ST JOSEPH HOSPITAL PHARMACY INPATIENT PHARMACY",
          "PROVIDENCE ST. JOSEPH HOSPITAL PHARMACY",
          "RADY CHILDREN'S HOMECARE PHARMACY",
          "RANCHO LOS AMIGOS NAT. REHAB CTR HOSPITAL PHARMACY",
          "REDLANDS COMMUNITY HOSPITAL",
          "REGIONAL MEDICAL CENTER OF SAN JOSE",
          "REHABILITATION HOSPITAL OF SOUTHERN CALIFORNIA, LLC",
          "RIDGECREST REGIONAL HOSPITAL",
          "RIVER'S EDGE PHARMACY",
          "RIVERSIDE COMMUNITY HOSPITAL CENTRAL PHARMACY I.V. ROOM",
          "RONALD REAGAN UCLA MEDICAL CENTER 6TH FLOOR SATELLITE",
          "RONALD REAGAN UCLA MEDICAL CENTER I.V. ADDITIVE SERVICE",
          "RUHS- MC- MAIN IV ROOM E1111",
          "SACRAMENTO REHABILITATION HOSPITAL",
          "SADDLEBACK MEM MED CTR PHCY IND HSP",
          "SAINT AGNES MEDICAL CENTER CVOR PHARMACY SATELLITE (2ND FLOOR)",
          "SAINT AGNES MEDICAL CENTER EMERGENCY ROOM SATELLITE PHARMACY",
          "SAINT AGNES MEDICAL CENTER PHARMACY 2 MAINIV COMPOUNDING PHARMACY",
          "SAINT AGNES MEDICAL CENTER PHARMACY 2 WEST SATELLITE PHARMACY",
          "SAINT AGNES MEDICAL CENTER PHARMACY 3 MAIN PHARMACY",
          "SAINT AGNES MEDICAL CENTER PHARMACY OR PHARMACY SATELLITE",
          "SAINT LOUISE REGIONAL HOSPITAL",
          "SALINAS VALLEY MEMORIAL HOSPITAL PHARMACY",
          "SAN ANTONIO REGIONAL HOSPITAL",
          "SAN DIMAS COMMUNITY HOSPITAL",
          "SAN DIMAS COMMUNITY HOSPITAL",
          "SAN GABRIEL VALLEY MEDICAL CENTER",
          "SAN GORGONIO MEMORIAL HOSPITAL PHARMACY - FIRST FLOOR CENTRAL PHA",
          "SAN JOAQUIN GENERAL HOSPITAL",
          "SAN JOAQUIN GENERAL HOSPITAL INPATIENT PHARMACY IV ROOM (A1477)",
          "SAN JOAQUIN VALLEY REHABILITATION HOSPITAL",
          "SAN LEANDRO HOSPITAL",
          "SAN MATEO MEDICAL CENTER",
          "SAN RAMON REGIONAL MEDICAL CENTER PHARMACY 1ST FLOOR",
          "SANTA BARBARA COTTAGE HOSPITAL",
          "SANTA CLARA VALLEY MEDICAL CENTER - BUILDING A IV PHARMACY",
          "SANTA PAULA HOSPITAL",
          "SANTA YNEZ VALLEY COTTAGE HOSPITAL",
          "SCRIPPS CENTRAL PHARMACY PRODUCTION CENTER",
          "SCRIPPS ENCINITAS COMPOUNDING PHARMACY",
          "SCRIPPS GREEN HOSPITAL",
          "SCRIPPS MEMORIAL HOSPITAL ENCINITAS",
          "SCRIPPS MEMORIAL HOSPITAL LA JOLLA PREBYS MAIN PHARMACY",
          "SCRIPPS MEMORIAL HOSPITAL, LA JOLLA--PREBYS OR SATELLITE",
          "SCRIPPS MERCY HOSPITAL - CHULA VISTA",
          "SCRIPPS MERCY HOSPITAL - SAN DIEGO",
          "SCRIPPS MERCY SD COMPOUNDING PHARMACY",
          "SELECT SPECIALTY HOSPITAL - SAN DIEGO",
          "SEQUOIA HOSPITAL",
          "SEQUOIA REGIONAL CANCER CENTER PHARMACY",
          "SHARP CENTRALIZED HOSPITAL PHARMACY",
          "SHARP CHULA VISTA MEDICAL CENTER",
          "SHARP CORONADO HOSPITAL AND HEALTHCARE CENTER",
          "SHARP GROSSMONT HOSPITAL PHARMACY 2-WEST SATELLITE PHARMACY 2ND F",
          "SHARP MARY BIRCH HOSPITAL PHARMACY FIRST FLOOR MAIN PHARMACY",
          "SHARP MEMORIAL HOSPITAL PHARMACY MAIN PHARMACY",
          "SHASTA REGIONAL MEDICAL CENTER - PHARMACY",
          "SHERMAN OAKS HOSPITAL",
          "SHRINERS FOR CHILDREN AMBULATORY SURGICAL CENTER",
          "SHRINERS HOSPITAL PHARMACY",
          "SIERRA NEVADA MEMORIAL HOSPITAL",
          "SIERRA VIEW DISTRICT HOSPITAL",
          "SIERRA VIEW MEDICAL CENTER-CANCER TREATMENT CENTER SUITE B",
          "SIERRA VISTA HOSPITAL INC",
          "SKILLED NURSING PHARMACY",
          "SKILLED NURSING PHARMACY",
          "SKILLED NURSING PHARMACY",
          "SOLEO HEALTH INC",
          "SONOMA SPECIALTY PHARMACY",
          "SONOMA VALLEY HOSPITAL PHARMACY",
          "SOUTH COAST GLOBAL MEDICAL CENTER INC",
          "SOUTHERN CALIFORNIA HOSPITAL AT CULVER CITY",
          "SOUTHERN CALIFORNIA HOSPITAL AT HOLLYWOOD PHARMACY",
          "SOUTHWEST HEALTHCARE RANCHO SPRINGS HOSPITAL",
          "ST BERNARDINE MEDICAL CENTER",
          "ST ELIZABETH COMMUNITY HOSPITAL PHARMACY CLEAN ROOM",
          "ST HELENA HOSPITAL CLEAR LAKE HOSPITAL PHARMACY",
          "ST JOHN'S HOSPITAL CAMARILLO",
          "ST JOSEPH HEALTH OUTPATIENT CANCER CENTER PHARMACY FOUNTAINGROVE",
          "ST JOSEPHS MEDICAL CENTER OF STOCKTON",
          "ST JOSEPHS MEDICAL CENTER STOCKTON",
          "ST MARY MEDICAL CENTER BASEMENT PHARMACY",
          "ST MARY MEDICAL CENTER DBA PROVIDENCE ST MARY MEDICAL CENTER",
          "ST ROSE HOSPITAL PHARMACY",
          "ST. JOHN'S REGIONAL MEDICAL CENTER",
          "ST. JUDE MEDICAL CENTER PHARMACY",
          "ST. JUDE MEDICAL CENTER PHARMACY",
          "ST. JUDE MEDICAL CENTER PHARMACY",
          "ST. JUDE MEDICAL CENTER PHARMACY",
          "ST. MARYS MEDICAL CENTER LEVEL C",
          "STANFORD EMERYVILLE HEALTH CENTER PHARMACY",
          "STANFORD HEALTH CARE",
          "STANFORD HEALTH CARE",
          "STANFORD HEALTH CARE",
          "STANFORD HEALTH CARE - REDWOOD CITY",
          "STANFORD HEALTH CARE - REDWOOD CITY (PAV D)",
          "STANFORD HEALTH CARE - VALLEYCARE",
          "STANFORD HEALTH CARE 500P PHARMACY",
          "STANFORD HEALTH CARE- SAMARITAN PHARMACY",
          "STANFORD HEALTH SOUTH BAY CANCER CENTER PHARMACY",
          "STANFORD NEUROSCIENCE HEALTH CENTER PHARMACY",
          "STOCKTON REGIONAL REHABILITATION HOSPITAL",
          "SUTTER AMADOR HOSPITAL INPATIENT PHARMACY",
          "SUTTER AUBURN FAITH HOSPITAL PHARMACY",
          "SUTTER BAY HOSPITALS DBA PACIFIC HEIGHTS OUTPATIENT PHARMACY",
          "SUTTER BAY HOSPITALS DBA SUTTER MATERNITY & SURGERY CENTER OF SAN",
          "SUTTER DAVIS HOSPITAL INPATIENT PHARMACY",
          "SUTTER DELTA MEDICAL CENTER HOSPITAL PHARMACY",
          "SUTTER LAKESIDE PHARMACY",
          "SUTTER MEDICAL CENTER SACRAMENTO",
          "SUTTER ROSEVILLE MEDICAL CENTER FIRST FLOOR PHARMACY",
          "SUTTER SANTA ROSA REGIONAL HOSPITAL PHARMACY",
          "SUTTER SOLANO MEDICAL CENTER INPATIENT PHARMACY - 1ST FLOOR - ROO",
          "SUTTER SURGICAL HOSPITAL - NORTH VALLEY",
          "SUTTER TRACY COMMUNITY HOSPITAL INPATIENT PHARMACY",
          "TAHOE FOREST HOSPITAL PHARMACY",
          "TEMECULA VALLEY HOSPITAL",
          "THE JOHN M & SALLY B THORNTON HOSPITAL",
          "TODD CANCER PAVILION PHARMACY",
          "TORRANCE MEMORIAL MEDICAL CENTER 2ND FLOOR PHARMACY SATELLITE ROO",
          "TORRANCE MEMORIAL MEDICAL CENTER INPATIENT PHARMACY BASEMENT CLEA",
          "TRI-CITY HOSPITAL",
          "TWIN CITIES COMMUNITY HOSPITAL PHARMACY",
          "TWIN TOWERS CORRECTIONAL FACILITY",
          "U.C. DAVIS MEDICAL CENTER ROOM 0711D",
          "UC DAVIS HEALTH AT HOME",
          "UC DAVIS MEDICAL CENTER",
          "UC DAVIS MEDICAL CENTER PLACER CENTER FOR HEALTH PHARMACY",
          "UC IRVINE HEALTH CANCER CENTER - NEWPORT",
          "UC SAN DIEGO HEALTH EAST CAMPUS",
          "UCI HEALTH - FOUNTAIN VALLEY HOSPITAL PHARMACY",
          "UCI HEALTH - LAGUNA HILLS PHARMACY",
          "UCI HEALTH - LAKEWOOD HOSPITAL PHARMACY",
          "UCI HEALTH - LIVING CARE CENTER PHARMACY",
          "UCI HEALTH - LOS ALAMITOS HOSPITAL PHARMACY",
          "UCI HEALTH - PLACENTIA-LINDA HOSPITAL PHARMACY",
          "UCI HEALTH - SUSAN SAMUELI INTEGRATIVE HEALTH INSTITUTE PHARMACY",
          "UCLA MED CTR CHS OUTPATIENT PHARMACY",
          "UCLA WEST VALLEY MEDICAL CENTER",
          "UCSD HEALTH LA JOLLA JACOBS MED CTR & SULPIZIO CARDIOVASCULAR CTR",
          "UCSD MEDICAL CENTER PHARMACY FIRST FLOOR, CENTRAL PHARMACY AREA,",
          "UCSD MEDICAL CENTER PHARMACY SECOND FLOOR",
          "UCSD OUTPATIENT PAVILION PHARMACY",
          "UCSD-ALTMAN CLINICAL TRANSLATIONAL RESEARCH INSTITUTE - RESEARCH",
          "UCSF HEALTH - SAINT FRANCIS HOSPITAL",
          "UCSF MEDICAL CENTER (MISSION BAY)",
          "UCSF MEDICAL CENTER BENIOFF",
          "UCSF MEDICAL CENTER BENIOFF 2ND FLR RM C2700 OR SATELLITE",
          "UCSF MEDICAL CENTER BENIOFF 4TH FLR RM C4411 MAIN PHARMACY",
          "UCSF MEDICAL CENTER BENIOFF6TH FLR RM C6984 INVESTIGATIONAL",
          "UCSF MEDICAL CENTER WEILL BUILDING",
          "UCSF OUTPATIENT PHARMACY AT MISSION BAY",
          "UCSF PHARMACY CANCER CENTER BERKELEY",
          "UNIVERSITY OF CALIFORNIA IRVINE MEDICAL CENTER BLDG 23, 2ND FLOOR",
          "USC ARCADIA HOSPITAL",
          "USC KENNETH NORRIS JR CANCER HOSPITAL",
          "USC NORRIS CANCER HOSPITAL - PASADENA TREATMENT CENTER",
          "USC NORRIS CANCER HOSPITAL - SANTA CLARITA TREATMENT CENTER",
          "USC VERDUGO HILLS HOSPITAL",
          "VALLEY CHILDREN'S HOSPITAL",
          "VALLEY CHILDREN'S HOSPITAL",
          "VALLEY CHILDREN'S HOSPITAL",
          "VALLEY CHILDREN'S HOSPITAL",
          "VALLEY CHILDRENS HOSPITAL - PCUN 2ND FLOOR ICU-NORTH",
          "VALLEY PRESBYTERIAN HOSPITAL PHARMACY-PHARMACY HOSPITAL BASEMENT",
          "VALLEYCARE MEDICAL CENTER PHARMACY",
          "VALLEYCARE MEDICAL CENTER PHARMACY",
          "VENTURA COUNTY MEDICAL CENTER",
          "VIBRA HOSPITAL OF NORTHERN CALIFORNIA",
          "VIBRA HOSPITAL OF SACRAMENTO PHARMACY IV ROOM",
          "VIBRA HOSPITAL OF SAN BERNARDINO LLC",
          "VICTOR VALLEY GLOBAL MEDICAL CENTER",
          "WASHINGTON HOSPITAL PHARMACY",
          "WATSONVILLE COMMUNITY HOSPITAL PHARMACY",
          "WEST ANAHEIM MEDICAL CENTER",
          "WHITE MEMORIAL MEDICAL CENTER DBA ADVENTIST HEALTH WHITE MEMORIAL",
          "WHITTIER HOSPITAL MEDICAL CENTER",
          "WOODLAND MEMORIAL HOSPITAL STERILE COMPOUNDING SUITE"
         ],
         "lat": [
          35.384336,
          39.223939,
          39.223939,
          35.384336,
          35.779507,
          34.160359,
          36.29223,
          39.492842,
          38.114388,
          39.487185,
          34.258405,
          34.258405,
          37.984549,
          37.984549,
          35.621087,
          38.542448,
          38.542448,
          35.118772,
          36.178091,
          39.135023,
          34.015444,
          33.844983,
          37.681264,
          37.773793,
          34.090728,
          34.090728,
          37.865183,
          37.834403,
          34.713292,
          34.02452,
          35.384336,
          35.384336,
          35.468183,
          40.551757,
          34.080017,
          34.980294,
          38.869825,
          34.232796,
          34.141586,
          34.0712,
          37.769436,
          34.039378,
          34.057597,
          39.771649,
          40.817097,
          37.344482,
          39.898613,
          37.916555,
          40.601778,
          34.195685,
          33.867257,
          34.02452,
          36.834289,
          33.881158,
          32.774046,
          38.605407,
          34.083086,
          33.976582,
          34.072924,
          34.072924,
          34.072924,
          34.072924,
          34.072924,
          34.072924,
          34.072924,
          34.064958,
          34.064958,
          33.956526,
          37.639029,
          34.127194,
          33.80845,
          32.806794,
          32.806794,
          37.834403,
          33.788145,
          33.788145,
          33.788145,
          33.788145,
          34.127194,
          33.788145,
          34.127194,
          34.127194,
          34.127194,
          34.127194,
          33.805401,
          37.804531,
          34.004468,
          33.840451,
          34.141586,
          34.141586,
          34.141586,
          34.141586,
          34.141586,
          33.666942,
          33.67901,
          33.840398,
          34.105282,
          36.825296,
          36.825296,
          36.825296,
          36.197785,
          33.906956,
          33.647763,
          33.805401,
          33.979248,
          34.122501,
          36.57469,
          34.283668,
          38.408571,
          37.993892,
          37.993892,
          35.23575,
          33.840451,
          37.750021,
          37.795388,
          37.795388,
          33.933565,
          37.605905,
          32.999818,
          33.970847,
          37.952452,
          33.860925,
          33.860925,
          33.641767,
          34.501472,
          34.480247,
          40.527834,
          37.830267,
          33.882579,
          37.671978,
          37.031475,
          33.805401,
          34.022502,
          37.714509,
          33.768584,
          33.768584,
          34.185894,
          37.216953,
          37.380566,
          37.216953,
          37.380566,
          37.380566,
          37.216953,
          32.770197,
          32.770197,
          32.770197,
          34.156529,
          34.084747,
          34.066964,
          34.066964,
          34.066964,
          34.066964,
          37.528476,
          37.528476,
          34.149588,
          35.342891,
          39.745628,
          39.745628,
          41.756147,
          33.734005,
          35.23575,
          36.732891,
          36.732891,
          36.732891,
          36.862209,
          36.822349,
          33.763905,
          34.052922,
          34.136194,
          39.491654,
          32.777999,
          34.449185,
          37.256765,
          35.621087,
          34.046243,
          32.777999,
          33.864617,
          36.902045,
          38.622985,
          33.667301,
          34.439855,
          34.168333,
          37.80432,
          37.80432,
          33.666942,
          33.623208,
          33.723228,
          34.13946,
          34.13946,
          33.617844,
          33.710984,
          37.899936,
          37.995285,
          37.899936,
          37.899936,
          38.022366,
          38.022366,
          36.862209,
          37.952844,
          37.952844,
          37.501368,
          37.501368,
          37.889098,
          37.87195,
          37.87195,
          38.474099,
          37.230327,
          37.785969,
          37.785969,
          38.503685,
          38.503685,
          37.65549,
          38.18735,
          38.18735,
          37.743039,
          33.921793,
          33.921793,
          37.718023,
          37.965765,
          38.408571,
          38.408571,
          38.503685,
          36.976175,
          36.976175,
          36.976175,
          38.030177,
          33.799904,
          34.09741,
          34.09741,
          34.030578,
          33.799904,
          34.127194,
          33.936193,
          33.921793,
          37.82935,
          33.117154,
          38.666597,
          33.83796,
          33.666942,
          37.493297,
          33.889702,
          38.591897,
          37.230327,
          34.035602,
          38.604268,
          32.806794,
          37.718023,
          37.713275,
          37.713275,
          32.794714,
          34.085972,
          34.085972,
          34.177311,
          33.936193,
          34.222506,
          37.785969,
          38.741074,
          38.741074,
          37.715245,
          37.82935,
          33.117154,
          33.936193,
          37.965765,
          38.741074,
          38.030177,
          37.718023,
          33.765401,
          33.887821,
          34.085972,
          37.230327,
          34.127194,
          37.501368,
          37.493297,
          38.408571,
          34.127194,
          33.799904,
          34.085972,
          34.035602,
          37.863914,
          32.794714,
          34.222506,
          34.222506,
          34.713292,
          34.439855,
          34.030578,
          33.83796,
          33.666942,
          33.788145,
          38.022366,
          34.177311,
          37.34864,
          37.889098,
          33.580016,
          33.889702,
          34.09741,
          38.474099,
          35.384336,
          35.384336,
          34.283668,
          37.713275,
          38.580568,
          34.049809,
          32.794714,
          36.391777,
          36.391777,
          34.136258,
          34.05038,
          34.05038,
          34.05038,
          34.05038,
          33.623208,
          37.945512,
          37.769436,
          35.468183,
          35.617546,
          34.09741,
          33.927561,
          33.902045,
          33.988047,
          34.074087,
          33.898883,
          34.10097,
          33.828396,
          32.741501,
          37.713275,
          34.061624,
          33.765301,
          33.890853,
          32.856347,
          33.850616,
          33.850616,
          33.833181,
          33.833181,
          33.833181,
          33.833181,
          34.051177,
          34.051177,
          34.051177,
          34.051177,
          34.051177,
          34.083458,
          34.051177,
          34.051177,
          34.051177,
          34.051177,
          34.051177,
          34.051177,
          33.580016,
          34.011953,
          34.595669,
          34.595669,
          33.805401,
          33.906956,
          34.022502,
          34.713656,
          34.05038,
          34.05038,
          34.05038,
          34.05038,
          34.05038,
          34.212805,
          37.457524,
          37.374707,
          37.374707,
          37.374707,
          37.374707,
          33.833181,
          40.855694,
          36.918079,
          37.548799,
          40.496619,
          34.923013,
          35.176043,
          37.945512,
          37.945512,
          38.189115,
          38.734925,
          33.926262,
          33.926262,
          41.006417,
          37.068068,
          33.890853,
          37.672906,
          33.746707,
          38.569828,
          35.384336,
          38.666597,
          37.345785,
          41.314337,
          40.601778,
          38.62415,
          35.192404,
          38.474099,
          37.554269,
          37.576948,
          37.57028,
          34.222506,
          34.1528,
          34.072329,
          34.052922,
          34.051177,
          34.259971,
          36.722714,
          33.201242,
          38.280745,
          38.333133,
          37.492115,
          34.237519,
          34.237519,
          38.134068,
          37.315977,
          37.787236,
          34.530199,
          34.326584,
          33.710582,
          33.765639,
          39.47536,
          38.791075,
          34.230854,
          34.604105,
          33.736458,
          33.0824,
          33.102005,
          32.670646,
          32.670646,
          37.750021,
          39.82883,
          38.235014,
          33.940445,
          34.052913,
          34.052913,
          34.052913,
          33.972782,
          33.972782,
          32.990121,
          32.990121,
          34.083086,
          34.083086,
          33.923533,
          34.155097,
          34.265879,
          34.265879,
          33.74212,
          33.840398,
          33.611945,
          33.611945,
          33.57093,
          34.026608,
          38.442011,
          40.578828,
          34.026608,
          34.026608,
          34.026608,
          34.173885,
          40.798659,
          33.788145,
          33.788145,
          32.806794,
          33.921793,
          34.011953,
          37.350421,
          33.768584,
          35.606509,
          33.765401,
          33.99504,
          34.0712,
          34.0712,
          33.889702,
          38.635653,
          33.591304,
          36.862209,
          36.862209,
          36.862209,
          36.862209,
          36.862209,
          36.862209,
          37.018419,
          36.636344,
          34.105282,
          34.110186,
          34.110186,
          34.090776,
          33.948948,
          37.873793,
          37.873793,
          36.862209,
          37.706137,
          37.538449,
          37.75512,
          34.533222,
          37.315977,
          34.402343,
          34.624395,
          32.899592,
          33.056022,
          32.856347,
          33.056022,
          32.856347,
          32.856347,
          32.637868,
          32.747415,
          32.747415,
          32.747415,
          37.413691,
          36.391777,
          32.806794,
          32.608185,
          32.699234,
          32.777999,
          32.806794,
          32.806794,
          40.601778,
          34.147149,
          34.13946,
          38.550547,
          39.196387,
          35.860883,
          35.988087,
          35.296958,
          37.605905,
          33.999005,
          32.88607,
          37.605905,
          38.398815,
          38.249428,
          33.721131,
          34.019323,
          34.099912,
          33.547613,
          34.177083,
          40.18189,
          38.973012,
          34.227892,
          38.503685,
          37.973736,
          37.973736,
          33.782259,
          34.571218,
          37.605905,
          34.205247,
          33.901886,
          33.901886,
          33.901886,
          33.901886,
          37.769436,
          37.836844,
          37.418256,
          37.374707,
          37.493297,
          37.493297,
          37.493297,
          37.792682,
          37.418256,
          37.256765,
          37.256765,
          37.374707,
          37.959736,
          38.343033,
          38.99003,
          37.785969,
          37.031475,
          38.554133,
          37.996501,
          39.045931,
          38.571577,
          38.741074,
          38.503685,
          38.18735,
          38.994187,
          37.737191,
          39.313089,
          33.511228,
          32.856347,
          33.805401,
          33.807882,
          33.807882,
          33.201242,
          35.538809,
          34.065975,
          38.550547,
          38.534879,
          38.550547,
          38.815548,
          33.647763,
          32.794714,
          33.710582,
          33.591304,
          33.849034,
          33.710582,
          33.795012,
          33.881158,
          33.642512,
          34.0712,
          34.200834,
          32.856347,
          32.747415,
          32.747415,
          32.856347,
          32.856347,
          37.795388,
          37.768106,
          37.768106,
          37.768106,
          37.768106,
          37.768106,
          37.768106,
          37.768106,
          37.865777,
          33.788145,
          34.128284,
          34.05038,
          34.13946,
          34.439855,
          34.185666,
          36.984885,
          36.751519,
          36.984885,
          36.984885,
          36.984885,
          34.199824,
          37.792682,
          37.792682,
          34.283668,
          40.601778,
          38.666597,
          34.122501,
          34.501472,
          37.501368,
          36.946256,
          33.818246,
          34.05038,
          33.950295,
          38.687045
         ],
         "legendgroup": "Medical Facility",
         "lon": [
          -119.020562,
          -121.49405,
          -121.49405,
          -119.020562,
          -119.200825,
          -118.213769,
          -119.622676,
          -123.340973,
          -121.144658,
          -123.741963,
          -118.775026,
          -118.775026,
          -120.349264,
          -120.349264,
          -118.789677,
          -122.419923,
          -122.419923,
          -118.493811,
          -119.370752,
          -123.259338,
          -118.111012,
          -117.952151,
          -122.480589,
          -122.278115,
          -118.127527,
          -118.127527,
          -122.238209,
          -122.264368,
          -118.15292,
          -117.289255,
          -119.020562,
          -119.020562,
          -118.779649,
          -120.675673,
          -118.262643,
          -116.964449,
          -120.008594,
          -116.902863,
          -117.957627,
          -118.443523,
          -122.447662,
          -118.2663,
          -118.413998,
          -104.882471,
          -74.085024,
          -121.883535,
          -86.233341,
          -122.341233,
          -122.454973,
          -118.490752,
          -118.330794,
          -117.289255,
          -119.83335,
          -117.854783,
          -117.142454,
          -121.447593,
          -117.737997,
          -118.455222,
          -118.37271,
          -118.37271,
          -118.37271,
          -118.37271,
          -118.37271,
          -118.37271,
          -118.37271,
          -118.382979,
          -118.382979,
          -118.358654,
          -120.964772,
          -118.295647,
          -117.791737,
          -117.13493,
          -117.13493,
          -122.264368,
          -117.87655,
          -117.87655,
          -117.87655,
          -117.87655,
          -118.295647,
          -117.87655,
          -118.295647,
          -118.295647,
          -118.295647,
          -118.295647,
          -118.187701,
          -122.410852,
          -117.684697,
          -117.601961,
          -117.957627,
          -117.957627,
          -117.957627,
          -117.957627,
          -117.957627,
          -117.732094,
          -118.014603,
          -118.353715,
          -117.662035,
          -119.68019,
          -119.68019,
          -119.68019,
          -120.422249,
          -118.08264,
          -117.919761,
          -118.187701,
          -118.217438,
          -117.320138,
          -121.840854,
          -119.223196,
          -122.022775,
          -122.136441,
          -122.136441,
          -120.615973,
          -117.601961,
          -122.415201,
          -122.422453,
          -122.422453,
          -118.062611,
          -122.126873,
          -117.071808,
          -117.32512,
          -121.329655,
          -116.566176,
          -116.566176,
          -116.273943,
          -117.292048,
          -117.408184,
          -122.318749,
          -121.20102,
          -117.442303,
          -121.007405,
          -121.98334,
          -118.187701,
          -118.199613,
          -122.079542,
          -116.429988,
          -116.429988,
          -116.432416,
          -121.926555,
          -122.085293,
          -121.926555,
          -122.085293,
          -122.085293,
          -121.926555,
          -115.59859,
          -115.59859,
          -115.59859,
          -117.841605,
          -117.886844,
          -117.937007,
          -117.937007,
          -117.937007,
          -117.937007,
          -120.853313,
          -120.853313,
          -118.489708,
          -119.064803,
          -121.843834,
          -121.843834,
          -122.659466,
          -117.819163,
          -120.615973,
          -119.783739,
          -119.783739,
          -119.783739,
          -119.760793,
          -119.760243,
          -117.931382,
          -118.143465,
          -118.260934,
          -122.26208,
          -117.021511,
          -119.804782,
          -121.922762,
          -118.789677,
          -118.053748,
          -117.021511,
          -118.180567,
          -121.350783,
          -122.889121,
          -116.963506,
          -118.644401,
          -116.288431,
          -122.207545,
          -122.207545,
          -117.732094,
          -117.933903,
          -118.008692,
          -118.166649,
          -118.166649,
          -117.259304,
          -116.204844,
          -121.999244,
          -122.040627,
          -121.999244,
          -121.999244,
          -122.555605,
          -122.555605,
          -119.760793,
          -122.381974,
          -122.381974,
          -121.956753,
          -121.956753,
          -122.037553,
          -122.069383,
          -122.069383,
          -121.443454,
          -121.785227,
          -122.437253,
          -122.437253,
          -122.754057,
          -122.754057,
          -122.422075,
          -122.224074,
          -122.224074,
          -121.23838,
          -118.140588,
          -118.140588,
          -121.032714,
          -121.775818,
          -122.022775,
          -122.022775,
          -122.754057,
          -121.95316,
          -121.95316,
          -121.95316,
          -121.297912,
          -118.298661,
          -117.968269,
          -117.968269,
          -118.399613,
          -118.298661,
          -118.295647,
          -117.493881,
          -118.140588,
          -122.203507,
          -117.180627,
          -121.141635,
          -117.870494,
          -117.732094,
          -122.195535,
          -117.113427,
          -121.408467,
          -121.785227,
          -117.591528,
          -121.280327,
          -117.13493,
          -121.032714,
          -122.16735,
          -122.16735,
          -117.071764,
          -117.464597,
          -117.464597,
          -118.615704,
          -117.493881,
          -118.444689,
          -122.437253,
          -121.247693,
          -121.247693,
          -121.9147,
          -122.203507,
          -117.180627,
          -117.493881,
          -121.775818,
          -121.247693,
          -121.297912,
          -121.032714,
          -116.334205,
          -118.12725,
          -117.464597,
          -121.785227,
          -118.295647,
          -121.956753,
          -122.195535,
          -122.022775,
          -118.295647,
          -118.298661,
          -117.464597,
          -117.591528,
          -122.306465,
          -117.071764,
          -118.444689,
          -118.444689,
          -118.15292,
          -118.644401,
          -118.399613,
          -117.870494,
          -117.732094,
          -117.87655,
          -122.555605,
          -118.615704,
          -121.984373,
          -122.037553,
          -117.14736,
          -117.113427,
          -117.968269,
          -121.443454,
          -119.020562,
          -119.020562,
          -119.223196,
          -122.16735,
          -121.49559,
          -117.470613,
          -117.071764,
          -119.372842,
          -119.372842,
          -118.026704,
          -118.211991,
          -118.211991,
          -118.211991,
          -118.211991,
          -117.933903,
          -122.56012,
          -122.447662,
          -118.779649,
          -118.452285,
          -117.968269,
          -117.887086,
          -118.008961,
          -118.370361,
          -117.605618,
          -118.166629,
          -117.57882,
          -117.20766,
          -117.127948,
          -122.16735,
          -117.892235,
          -117.881976,
          -118.297967,
          -117.250058,
          -118.039565,
          -118.039565,
          -118.292062,
          -118.292062,
          -118.292062,
          -118.292062,
          -117.248563,
          -117.248563,
          -117.248563,
          -117.248563,
          -117.248563,
          -117.270016,
          -117.248563,
          -117.248563,
          -117.248563,
          -117.248563,
          -117.248563,
          -117.248563,
          -117.14736,
          -117.159699,
          -120.352667,
          -120.352667,
          -118.187701,
          -118.08264,
          -118.199613,
          -117.86466,
          -118.211991,
          -118.211991,
          -118.211991,
          -118.211991,
          -118.211991,
          -118.882179,
          -122.176542,
          -122.181698,
          -122.181698,
          -122.181698,
          -122.181698,
          -118.292062,
          -124.066898,
          -120.185933,
          -118.839818,
          -74.532009,
          -120.259463,
          -120.476694,
          -122.56012,
          -122.56012,
          -120.638708,
          -120.789952,
          -118.249883,
          -118.249883,
          -121.480741,
          -120.843579,
          -118.297967,
          -120.946594,
          -117.172142,
          -121.440067,
          -119.020562,
          -121.141635,
          -120.42415,
          -122.380798,
          -122.454973,
          -121.324911,
          -119.175866,
          -121.443454,
          -120.951523,
          -122.316903,
          -122.365778,
          -118.444689,
          -118.000482,
          -117.698315,
          -118.143465,
          -117.248563,
          -117.199381,
          -121.633649,
          -117.296984,
          -122.00638,
          -121.920151,
          -118.390408,
          -118.517712,
          -118.517712,
          -122.52719,
          -121.936319,
          -120.759202,
          -119.310133,
          -118.382261,
          -117.951129,
          -117.790075,
          -121.41411,
          -121.234854,
          -118.365856,
          -118.239213,
          -114.687973,
          -117.127641,
          -117.080419,
          -117.094668,
          -117.094668,
          -122.415201,
          -75.435069,
          -122.557332,
          -118.129022,
          -118.26434,
          -118.26434,
          -118.26434,
          -118.022066,
          -118.022066,
          -115.358757,
          -115.358757,
          -117.737997,
          -117.737997,
          -118.200705,
          -118.547553,
          -118.456748,
          -118.456748,
          -118.312878,
          -118.353715,
          -117.665867,
          -117.665867,
          -117.773042,
          -118.473643,
          -122.23832,
          -124.136869,
          -118.473643,
          -118.473643,
          -118.473643,
          -118.346937,
          -124.151583,
          -117.87655,
          -117.87655,
          -117.13493,
          -118.140588,
          -117.159699,
          -121.852585,
          -116.429988,
          -117.683472,
          -116.334205,
          -117.373184,
          -118.443523,
          -118.443523,
          -117.113427,
          -121.518416,
          -117.697512,
          -119.760793,
          -119.760793,
          -119.760793,
          -119.760793,
          -119.760793,
          -119.760793,
          -121.554249,
          -121.623978,
          -117.662035,
          -117.81039,
          -117.81039,
          -118.095091,
          -116.832362,
          -121.290146,
          -121.290146,
          -119.760793,
          -122.12555,
          -122.305447,
          -121.972699,
          -119.791731,
          -121.936319,
          -119.094824,
          -120.137875,
          -117.201203,
          -117.2599,
          -117.250058,
          -117.2599,
          -117.250058,
          -117.250058,
          -117.058031,
          -117.166883,
          -117.166883,
          -117.166883,
          -122.295343,
          -119.372842,
          -117.13493,
          -117.054512,
          -117.209642,
          -117.021511,
          -117.13493,
          -117.13493,
          -122.454973,
          -118.463365,
          -118.166649,
          -121.456373,
          -120.972289,
          -119.03614,
          -118.860221,
          -120.733134,
          -122.126873,
          -117.972146,
          -117.085982,
          -122.126873,
          -122.861923,
          -122.466627,
          -117.90511,
          -118.391902,
          -118.326912,
          -117.34404,
          -117.254763,
          -122.377104,
          -122.623922,
          -119.079552,
          -122.754057,
          -121.319246,
          -121.319246,
          -118.196793,
          -117.133073,
          -122.126873,
          -119.174092,
          -117.916639,
          -117.916639,
          -117.916639,
          -117.916639,
          -122.447662,
          -122.289143,
          -122.170871,
          -122.181698,
          -122.195535,
          -122.195535,
          -122.195535,
          -121.86059,
          -122.170871,
          -121.922762,
          -121.922762,
          -122.181698,
          -121.288287,
          -120.760921,
          -121.114408,
          -122.437253,
          -121.98334,
          -121.798467,
          -121.812301,
          -122.941077,
          -121.466465,
          -121.247693,
          -122.754057,
          -122.224074,
          -121.594591,
          -121.433384,
          -120.207783,
          -117.042396,
          -117.250058,
          -118.187701,
          -118.347957,
          -118.347957,
          -117.296984,
          -120.739893,
          -118.238642,
          -121.456373,
          -121.444372,
          -121.456373,
          -121.280172,
          -117.919761,
          -117.071764,
          -117.951129,
          -117.697512,
          -118.147902,
          -117.951129,
          -118.062692,
          -117.854783,
          -117.841688,
          -118.443523,
          -118.6649,
          -117.250058,
          -117.166883,
          -117.166883,
          -117.250058,
          -117.250058,
          -122.422453,
          -122.386927,
          -122.386927,
          -122.386927,
          -122.386927,
          -122.386927,
          -122.386927,
          -122.386927,
          -122.286321,
          -117.87655,
          -118.047732,
          -118.211991,
          -118.166649,
          -118.644401,
          -118.239494,
          -119.873914,
          -119.680602,
          -119.873914,
          -119.873914,
          -119.873914,
          -118.447609,
          -121.86059,
          -121.86059,
          -119.223196,
          -122.454973,
          -121.141635,
          -117.320138,
          -117.292048,
          -121.956753,
          -121.756479,
          -117.974985,
          -118.211991,
          -118.024352,
          -121.857077
         ],
         "marker": {
          "color": "#2CA02C"
         },
         "mode": "markers",
         "name": "Medical Facility",
         "showlegend": true,
         "subplot": "mapbox",
         "type": "scattermapbox"
        },
        {
         "hovertemplate": "<b>%{hovertext}</b><br><br>Facility Type=Veterinary Only<br>LAT=%{lat}<br>LONG=%{lon}<extra></extra>",
         "hovertext": [
          "BCP VETERINARY PHARMACY",
          "COVETRUS NORTH AMERICA, LLC",
          "PETNET PHARMACEUTICAL",
          "PETNET PHARMACEUTICAL",
          "PETNET PHARMACEUTICAL",
          "PETNET PHARMACEUTICAL",
          "SPECIALTY VETERINARY PHARMACY",
          "WEDGEWOOD PHARMACY LLC",
          "WEDGEWOOD PHARMACY LLC",
          "WEDGEWOOD PHARMACY LLC",
          "WEDGEWOOD PHARMACY LLC"
         ],
         "lat": [
          29.749778,
          33.635109,
          38.571577,
          33.997862,
          34.051177,
          37.605905,
          29.624261,
          38.14029,
          35.192404,
          39.761129,
          33.493513
         ],
         "legendgroup": "Veterinary Only",
         "lon": [
          -95.345885,
          -112.093768,
          -121.466465,
          -118.393617,
          -117.248563,
          -122.126873,
          -95.568033,
          -84.46161,
          -119.175866,
          -75.32406,
          -111.919239
         ],
         "marker": {
          "color": "#D62728"
         },
         "mode": "markers",
         "name": "Veterinary Only",
         "showlegend": true,
         "subplot": "mapbox",
         "type": "scattermapbox"
        },
        {
         "hovertemplate": "<b>%{hovertext}</b><br><br>Facility Type=Research Center<br>LAT=%{lat}<br>LONG=%{lon}<extra></extra>",
         "hovertext": [
          "UCSD RESEARCH PHARMACY"
         ],
         "lat": [
          32.747415
         ],
         "legendgroup": "Research Center",
         "lon": [
          -117.166883
         ],
         "marker": {
          "color": "#9467BD"
         },
         "mode": "markers",
         "name": "Research Center",
         "showlegend": true,
         "subplot": "mapbox",
         "type": "scattermapbox"
        }
       ],
       "layout": {
        "template": {
         "data": {
          "barpolar": [
           {
            "marker": {
             "line": {
              "color": "white",
              "width": 0.5
             },
             "pattern": {
              "fillmode": "overlay",
              "size": 10,
              "solidity": 0.2
             }
            },
            "type": "barpolar"
           }
          ],
          "bar": [
           {
            "error_x": {
             "color": "rgb(36,36,36)"
            },
            "error_y": {
             "color": "rgb(36,36,36)"
            },
            "marker": {
             "line": {
              "color": "white",
              "width": 0.5
             },
             "pattern": {
              "fillmode": "overlay",
              "size": 10,
              "solidity": 0.2
             }
            },
            "type": "bar"
           }
          ],
          "carpet": [
           {
            "aaxis": {
             "endlinecolor": "rgb(36,36,36)",
             "gridcolor": "white",
             "linecolor": "white",
             "minorgridcolor": "white",
             "startlinecolor": "rgb(36,36,36)"
            },
            "baxis": {
             "endlinecolor": "rgb(36,36,36)",
             "gridcolor": "white",
             "linecolor": "white",
             "minorgridcolor": "white",
             "startlinecolor": "rgb(36,36,36)"
            },
            "type": "carpet"
           }
          ],
          "choropleth": [
           {
            "colorbar": {
             "outlinewidth": 1,
             "tickcolor": "rgb(36,36,36)",
             "ticks": "outside"
            },
            "type": "choropleth"
           }
          ],
          "contourcarpet": [
           {
            "colorbar": {
             "outlinewidth": 1,
             "tickcolor": "rgb(36,36,36)",
             "ticks": "outside"
            },
            "type": "contourcarpet"
           }
          ],
          "contour": [
           {
            "colorbar": {
             "outlinewidth": 1,
             "tickcolor": "rgb(36,36,36)",
             "ticks": "outside"
            },
            "colorscale": [
             [
              0.0,
              "#440154"
             ],
             [
              0.1111111111111111,
              "#482878"
             ],
             [
              0.2222222222222222,
              "#3e4989"
             ],
             [
              0.3333333333333333,
              "#31688e"
             ],
             [
              0.4444444444444444,
              "#26828e"
             ],
             [
              0.5555555555555556,
              "#1f9e89"
             ],
             [
              0.6666666666666666,
              "#35b779"
             ],
             [
              0.7777777777777778,
              "#6ece58"
             ],
             [
              0.8888888888888888,
              "#b5de2b"
             ],
             [
              1.0,
              "#fde725"
             ]
            ],
            "type": "contour"
           }
          ],
          "heatmapgl": [
           {
            "colorbar": {
             "outlinewidth": 1,
             "tickcolor": "rgb(36,36,36)",
             "ticks": "outside"
            },
            "colorscale": [
             [
              0.0,
              "#440154"
             ],
             [
              0.1111111111111111,
              "#482878"
             ],
             [
              0.2222222222222222,
              "#3e4989"
             ],
             [
              0.3333333333333333,
              "#31688e"
             ],
             [
              0.4444444444444444,
              "#26828e"
             ],
             [
              0.5555555555555556,
              "#1f9e89"
             ],
             [
              0.6666666666666666,
              "#35b779"
             ],
             [
              0.7777777777777778,
              "#6ece58"
             ],
             [
              0.8888888888888888,
              "#b5de2b"
             ],
             [
              1.0,
              "#fde725"
             ]
            ],
            "type": "heatmapgl"
           }
          ],
          "heatmap": [
           {
            "colorbar": {
             "outlinewidth": 1,
             "tickcolor": "rgb(36,36,36)",
             "ticks": "outside"
            },
            "colorscale": [
             [
              0.0,
              "#440154"
             ],
             [
              0.1111111111111111,
              "#482878"
             ],
             [
              0.2222222222222222,
              "#3e4989"
             ],
             [
              0.3333333333333333,
              "#31688e"
             ],
             [
              0.4444444444444444,
              "#26828e"
             ],
             [
              0.5555555555555556,
              "#1f9e89"
             ],
             [
              0.6666666666666666,
              "#35b779"
             ],
             [
              0.7777777777777778,
              "#6ece58"
             ],
             [
              0.8888888888888888,
              "#b5de2b"
             ],
             [
              1.0,
              "#fde725"
             ]
            ],
            "type": "heatmap"
           }
          ],
          "histogram2dcontour": [
           {
            "colorbar": {
             "outlinewidth": 1,
             "tickcolor": "rgb(36,36,36)",
             "ticks": "outside"
            },
            "colorscale": [
             [
              0.0,
              "#440154"
             ],
             [
              0.1111111111111111,
              "#482878"
             ],
             [
              0.2222222222222222,
              "#3e4989"
             ],
             [
              0.3333333333333333,
              "#31688e"
             ],
             [
              0.4444444444444444,
              "#26828e"
             ],
             [
              0.5555555555555556,
              "#1f9e89"
             ],
             [
              0.6666666666666666,
              "#35b779"
             ],
             [
              0.7777777777777778,
              "#6ece58"
             ],
             [
              0.8888888888888888,
              "#b5de2b"
             ],
             [
              1.0,
              "#fde725"
             ]
            ],
            "type": "histogram2dcontour"
           }
          ],
          "histogram2d": [
           {
            "colorbar": {
             "outlinewidth": 1,
             "tickcolor": "rgb(36,36,36)",
             "ticks": "outside"
            },
            "colorscale": [
             [
              0.0,
              "#440154"
             ],
             [
              0.1111111111111111,
              "#482878"
             ],
             [
              0.2222222222222222,
              "#3e4989"
             ],
             [
              0.3333333333333333,
              "#31688e"
             ],
             [
              0.4444444444444444,
              "#26828e"
             ],
             [
              0.5555555555555556,
              "#1f9e89"
             ],
             [
              0.6666666666666666,
              "#35b779"
             ],
             [
              0.7777777777777778,
              "#6ece58"
             ],
             [
              0.8888888888888888,
              "#b5de2b"
             ],
             [
              1.0,
              "#fde725"
             ]
            ],
            "type": "histogram2d"
           }
          ],
          "histogram": [
           {
            "marker": {
             "line": {
              "color": "white",
              "width": 0.6
             }
            },
            "type": "histogram"
           }
          ],
          "mesh3d": [
           {
            "colorbar": {
             "outlinewidth": 1,
             "tickcolor": "rgb(36,36,36)",
             "ticks": "outside"
            },
            "type": "mesh3d"
           }
          ],
          "parcoords": [
           {
            "line": {
             "colorbar": {
              "outlinewidth": 1,
              "tickcolor": "rgb(36,36,36)",
              "ticks": "outside"
             }
            },
            "type": "parcoords"
           }
          ],
          "pie": [
           {
            "automargin": true,
            "type": "pie"
           }
          ],
          "scatter3d": [
           {
            "line": {
             "colorbar": {
              "outlinewidth": 1,
              "tickcolor": "rgb(36,36,36)",
              "ticks": "outside"
             }
            },
            "marker": {
             "colorbar": {
              "outlinewidth": 1,
              "tickcolor": "rgb(36,36,36)",
              "ticks": "outside"
             }
            },
            "type": "scatter3d"
           }
          ],
          "scattercarpet": [
           {
            "marker": {
             "colorbar": {
              "outlinewidth": 1,
              "tickcolor": "rgb(36,36,36)",
              "ticks": "outside"
             }
            },
            "type": "scattercarpet"
           }
          ],
          "scattergeo": [
           {
            "marker": {
             "colorbar": {
              "outlinewidth": 1,
              "tickcolor": "rgb(36,36,36)",
              "ticks": "outside"
             }
            },
            "type": "scattergeo"
           }
          ],
          "scattergl": [
           {
            "marker": {
             "colorbar": {
              "outlinewidth": 1,
              "tickcolor": "rgb(36,36,36)",
              "ticks": "outside"
             }
            },
            "type": "scattergl"
           }
          ],
          "scattermapbox": [
           {
            "marker": {
             "colorbar": {
              "outlinewidth": 1,
              "tickcolor": "rgb(36,36,36)",
              "ticks": "outside"
             }
            },
            "type": "scattermapbox"
           }
          ],
          "scatterpolargl": [
           {
            "marker": {
             "colorbar": {
              "outlinewidth": 1,
              "tickcolor": "rgb(36,36,36)",
              "ticks": "outside"
             }
            },
            "type": "scatterpolargl"
           }
          ],
          "scatterpolar": [
           {
            "marker": {
             "colorbar": {
              "outlinewidth": 1,
              "tickcolor": "rgb(36,36,36)",
              "ticks": "outside"
             }
            },
            "type": "scatterpolar"
           }
          ],
          "scatter": [
           {
            "fillpattern": {
             "fillmode": "overlay",
             "size": 10,
             "solidity": 0.2
            },
            "type": "scatter"
           }
          ],
          "scatterternary": [
           {
            "marker": {
             "colorbar": {
              "outlinewidth": 1,
              "tickcolor": "rgb(36,36,36)",
              "ticks": "outside"
             }
            },
            "type": "scatterternary"
           }
          ],
          "surface": [
           {
            "colorbar": {
             "outlinewidth": 1,
             "tickcolor": "rgb(36,36,36)",
             "ticks": "outside"
            },
            "colorscale": [
             [
              0.0,
              "#440154"
             ],
             [
              0.1111111111111111,
              "#482878"
             ],
             [
              0.2222222222222222,
              "#3e4989"
             ],
             [
              0.3333333333333333,
              "#31688e"
             ],
             [
              0.4444444444444444,
              "#26828e"
             ],
             [
              0.5555555555555556,
              "#1f9e89"
             ],
             [
              0.6666666666666666,
              "#35b779"
             ],
             [
              0.7777777777777778,
              "#6ece58"
             ],
             [
              0.8888888888888888,
              "#b5de2b"
             ],
             [
              1.0,
              "#fde725"
             ]
            ],
            "type": "surface"
           }
          ],
          "table": [
           {
            "cells": {
             "fill": {
              "color": "rgb(237,237,237)"
             },
             "line": {
              "color": "white"
             }
            },
            "header": {
             "fill": {
              "color": "rgb(217,217,217)"
             },
             "line": {
              "color": "white"
             }
            },
            "type": "table"
           }
          ]
         },
         "layout": {
          "annotationdefaults": {
           "arrowhead": 0,
           "arrowwidth": 1
          },
          "autotypenumbers": "strict",
          "coloraxis": {
           "colorbar": {
            "outlinewidth": 1,
            "tickcolor": "rgb(36,36,36)",
            "ticks": "outside"
           }
          },
          "colorscale": {
           "diverging": [
            [
             0.0,
             "rgb(103,0,31)"
            ],
            [
             0.1,
             "rgb(178,24,43)"
            ],
            [
             0.2,
             "rgb(214,96,77)"
            ],
            [
             0.3,
             "rgb(244,165,130)"
            ],
            [
             0.4,
             "rgb(253,219,199)"
            ],
            [
             0.5,
             "rgb(247,247,247)"
            ],
            [
             0.6,
             "rgb(209,229,240)"
            ],
            [
             0.7,
             "rgb(146,197,222)"
            ],
            [
             0.8,
             "rgb(67,147,195)"
            ],
            [
             0.9,
             "rgb(33,102,172)"
            ],
            [
             1.0,
             "rgb(5,48,97)"
            ]
           ],
           "sequential": [
            [
             0.0,
             "#440154"
            ],
            [
             0.1111111111111111,
             "#482878"
            ],
            [
             0.2222222222222222,
             "#3e4989"
            ],
            [
             0.3333333333333333,
             "#31688e"
            ],
            [
             0.4444444444444444,
             "#26828e"
            ],
            [
             0.5555555555555556,
             "#1f9e89"
            ],
            [
             0.6666666666666666,
             "#35b779"
            ],
            [
             0.7777777777777778,
             "#6ece58"
            ],
            [
             0.8888888888888888,
             "#b5de2b"
            ],
            [
             1.0,
             "#fde725"
            ]
           ],
           "sequentialminus": [
            [
             0.0,
             "#440154"
            ],
            [
             0.1111111111111111,
             "#482878"
            ],
            [
             0.2222222222222222,
             "#3e4989"
            ],
            [
             0.3333333333333333,
             "#31688e"
            ],
            [
             0.4444444444444444,
             "#26828e"
            ],
            [
             0.5555555555555556,
             "#1f9e89"
            ],
            [
             0.6666666666666666,
             "#35b779"
            ],
            [
             0.7777777777777778,
             "#6ece58"
            ],
            [
             0.8888888888888888,
             "#b5de2b"
            ],
            [
             1.0,
             "#fde725"
            ]
           ]
          },
          "colorway": [
           "#1F77B4",
           "#FF7F0E",
           "#2CA02C",
           "#D62728",
           "#9467BD",
           "#8C564B",
           "#E377C2",
           "#7F7F7F",
           "#BCBD22",
           "#17BECF"
          ],
          "font": {
           "color": "rgb(36,36,36)"
          },
          "geo": {
           "bgcolor": "white",
           "lakecolor": "white",
           "landcolor": "white",
           "showlakes": true,
           "showland": true,
           "subunitcolor": "white"
          },
          "hoverlabel": {
           "align": "left"
          },
          "hovermode": "closest",
          "mapbox": {
           "style": "light"
          },
          "paper_bgcolor": "white",
          "plot_bgcolor": "white",
          "polar": {
           "angularaxis": {
            "gridcolor": "rgb(232,232,232)",
            "linecolor": "rgb(36,36,36)",
            "showgrid": false,
            "showline": true,
            "ticks": "outside"
           },
           "bgcolor": "white",
           "radialaxis": {
            "gridcolor": "rgb(232,232,232)",
            "linecolor": "rgb(36,36,36)",
            "showgrid": false,
            "showline": true,
            "ticks": "outside"
           }
          },
          "scene": {
           "xaxis": {
            "backgroundcolor": "white",
            "gridcolor": "rgb(232,232,232)",
            "gridwidth": 2,
            "linecolor": "rgb(36,36,36)",
            "showbackground": true,
            "showgrid": false,
            "showline": true,
            "ticks": "outside",
            "zeroline": false,
            "zerolinecolor": "rgb(36,36,36)"
           },
           "yaxis": {
            "backgroundcolor": "white",
            "gridcolor": "rgb(232,232,232)",
            "gridwidth": 2,
            "linecolor": "rgb(36,36,36)",
            "showbackground": true,
            "showgrid": false,
            "showline": true,
            "ticks": "outside",
            "zeroline": false,
            "zerolinecolor": "rgb(36,36,36)"
           },
           "zaxis": {
            "backgroundcolor": "white",
            "gridcolor": "rgb(232,232,232)",
            "gridwidth": 2,
            "linecolor": "rgb(36,36,36)",
            "showbackground": true,
            "showgrid": false,
            "showline": true,
            "ticks": "outside",
            "zeroline": false,
            "zerolinecolor": "rgb(36,36,36)"
           }
          },
          "shapedefaults": {
           "fillcolor": "black",
           "line": {
            "width": 0
           },
           "opacity": 0.3
          },
          "ternary": {
           "aaxis": {
            "gridcolor": "rgb(232,232,232)",
            "linecolor": "rgb(36,36,36)",
            "showgrid": false,
            "showline": true,
            "ticks": "outside"
           },
           "baxis": {
            "gridcolor": "rgb(232,232,232)",
            "linecolor": "rgb(36,36,36)",
            "showgrid": false,
            "showline": true,
            "ticks": "outside"
           },
           "bgcolor": "white",
           "caxis": {
            "gridcolor": "rgb(232,232,232)",
            "linecolor": "rgb(36,36,36)",
            "showgrid": false,
            "showline": true,
            "ticks": "outside"
           }
          },
          "title": {
           "x": 0.05
          },
          "xaxis": {
           "automargin": true,
           "gridcolor": "rgb(232,232,232)",
           "linecolor": "rgb(36,36,36)",
           "showgrid": false,
           "showline": true,
           "ticks": "outside",
           "title": {
            "standoff": 15
           },
           "zeroline": false,
           "zerolinecolor": "rgb(36,36,36)"
          },
          "yaxis": {
           "automargin": true,
           "gridcolor": "rgb(232,232,232)",
           "linecolor": "rgb(36,36,36)",
           "showgrid": false,
           "showline": true,
           "ticks": "outside",
           "title": {
            "standoff": 15
           },
           "zeroline": false,
           "zerolinecolor": "rgb(36,36,36)"
          }
         }
        },
        "mapbox": {
         "domain": {
          "x": [
           0.0,
           1.0
          ],
          "y": [
           0.0,
           1.0
          ]
         },
         "center": {
          "lat": 36.7783,
          "lon": -119.4179
         },
         "zoom": 6,
         "style": "carto-positron"
        },
        "legend": {
         "title": {
          "text": "Facility Type"
         },
         "tracegroupgap": 0
        },
        "title": {
         "text": "Where are the licensed pharmacies located? "
        },
        "height": 600
       },
       "config": {
        "plotlyServerURL": "https://plot.ly"
       }
      },
      "text/html": [
       "<div>                            <div id=\"73b0ea45-28d4-4b80-8c02-e5197236bb7f\" class=\"plotly-graph-div\" style=\"height:600px; width:100%;\"></div>            <script type=\"text/javascript\">                require([\"plotly\"], function(Plotly) {                    window.PLOTLYENV=window.PLOTLYENV || {};                                    if (document.getElementById(\"73b0ea45-28d4-4b80-8c02-e5197236bb7f\")) {                    Plotly.newPlot(                        \"73b0ea45-28d4-4b80-8c02-e5197236bb7f\",                        [{\"hovertemplate\":\"\\u003cb\\u003e%{hovertext}\\u003c\\u002fb\\u003e\\u003cbr\\u003e\\u003cbr\\u003eFacility Type=Infusion Center\\u003cbr\\u003eLAT=%{lat}\\u003cbr\\u003eLONG=%{lon}\\u003cextra\\u003e\\u003c\\u002fextra\\u003e\",\"hovertext\":[\"986 INFUSION PHARMACY #1 INC\",\"ACCREDO HEALTH GROUP INC\",\"ACCREDO HEALTH GROUP INC\",\"ALERACARE PHARMACY CALIFORNIA\",\"ALTA BATES SUMMIT MED CTR HERRICK INFUSION PHARMACY\",\"AMERICAN OUTCOMES MANAGEMENT, LP DBA AOM INFUSION\",\"AMERICAN RIVER INFUSION SERVICES\",\"AMERIPHARMA\",\"APEX INFUSION PHARMACY\",\"BASIC HOME INFUSION INC\",\"BIOLOGIC INFUSION PHARMACY\",\"BIOMED CALIFORNIA INC\",\"BIOPLUS SPECIALTY INFUSION CA, LLC\",\"BIOSCRIP INFUSION SERVICES\",\"BOND PHARMACY INC DBA ADVANCED INFUSION SOLUTIONS\",\"BOND PHARMACY INC DBA ADVANCED INFUSION SOLUTIONS\",\"BROOKS HEALTH CARE\",\"CALIFORNIA SPECIALTY PHARMACY LLC\",\"CAREMARK ILLINOIS SPECIALTY PHARMACY, LLC DBA CVS\\u002fSPECIALTY OR\",\"CHILDRENS HOSPITAL PHARMACY - SATELITE PAGE INFUSION CENTER P2-10\",\"COMMUNITY CANCER CENTER INFUSION PHARMACY\",\"COMMUNITY HOME INFUSION\",\"COMPLETE INFUSION CARE\",\"CORAM CVS\\u002fSPECIALTY INFUSION SERVICES\",\"CORAM CVS\\u002fSPECIALTY INFUSION SERVICES\",\"CORAM CVS\\u002fSPECIALTY INFUSION SERVICES\",\"CORAM HEALTHCARE CORPORATION OF NEVADA DBA CORAM CVS\\u002fSPECIALTY IN\",\"CRMC INFUSION CENTER - CLOVIS\",\"CVS\\u002fSPECIALTY OR CARELONRX SPECIALTY PHARMACY\",\"DCRX INFUSION PATIENT CARE AMERICA\",\"DIGNITY HEALTH BAKERSFIELD INFUSION CENTER\",\"DIGNITY HEALTH BAKERSFIELD INFUSION CENTER\",\"DIGNITY HEALTH HOME INFUSION SERVICES\",\"DIGNITY HEALTH INFUSION CENTER CAMARILLO\",\"DIGNITY HEALTH INFUSION CENTER OXNARD\",\"DIGNITY HEALTH INFUSION CENTER VENTURA\",\"DOMINICAN HOSPITAL INFUSION CENTER\",\"ELEVARE SPECIALTY SERVICES\",\"FIRST CALL PHARMACY LLC\",\"HEALIX INFUSION THERAPY LLC\",\"HEARTLAND HOME INFUSIONS INC D.B.A HHI INFUSION SERVICES\",\"HOAG INFUSION CENTER PHARMACY\",\"HOSPICARE PHARMACY INLAND EMPIRE\",\"HOSPICARE PHARMACY LOS ANGELES IV ROOM\",\"INFUSION CARE PHARMACY NORTH\",\"INFUSION CENTER OF ARROYO GRANDE\",\"INFUSION CENTER OF SAN LUIS OBISPO\",\"INFUSION CONNECTIONS PHARMACY SERVICES INC\",\"INFUSIONRX\",\"INTEGRATED CARE SYSTEMS\",\"IV LEAGUE\",\"JOHN MUIR HEALTH INFUSION PHARMACY\",\"KABAFUSION, LLC\",\"KABAFUSION, LLC\",\"KAISER PERMANENTE HOME INFUSION PHARMACY #620\",\"KAWEAH HEALTH HOME INFUSION PHARMACY\",\"LOMA LINDA UNIVERSITY MEDICAL CENTER ADULT INFUSION PHARMACY HIGH\",\"MARSHALL MEDICAL ONCOLOGY PHARMACY\",\"MEDRX INFUSION CLINICAL PHARMACY\",\"MISSION HOPE INFUSION CENTER\",\"MODEL DRUG\",\"MODEL DRUG INC\",\"NUTRISHARE LLC\",\"OMNICARE OF CERRITOS\",\"OMNICARE OF HAYWARD\",\"OMNICARE OF NORTHERN CALIFORNIA\",\"OMNICARE OF SAN DIEGO\",\"OMNICARE OF SOUTHERN CALIFORNIA\",\"OPTION CARE\",\"OPTION CARE ENTERPRISES INC DBA OPTION CARE\",\"OPTUM PHARMACY 801, INC\",\"OSO HOME CARE PHARMACY\",\"OSO HOME CARE PHARMACY\",\"PALOMAR MEDICAL CNTER ESCONDIDO INFUSION PHARMACY\",\"PHARMERICA\",\"PHARMERICA\",\"PHARMERICA\",\"PHARMERICA\",\"PHARMERICA\",\"PHARMERICA\",\"PHARMERICA\",\"PHARMERICA\",\"PLAZA HOME CARE PHARMACY INC\",\"POLARIS HOME INFUSION\",\"POLARIS PHARMACY SERVICES\",\"POLARIS PHARMACY SERVICES\",\"PREFERRED EXCELLENT CARE\",\"PREMIER INFUSION AND HEALTHCARE SERVICES, INC.\",\"PROVIDENCE HOME INFUSION LA COUNTY\",\"PROVIDENCE HOME INFUSION ORANGE COUNTY\",\"PROVIDENCE SAINT JOSEPH SATELLITE INFUSION PHARMACY\",\"QUADRACARE INC\",\"RIVER CITY PHARMACY INC DBA OPTION CARE\",\"RUHS - MC - INFUSION CENTER\",\"SCRIPTS\",\"SHARP CENTRAL PHARMACY SERVICES\",\"ST JUDE MEDICAL CENTER INFUSION CENTER PHARMACY\",\"SUTTER COAST HOSPITAL INFUSION PHARMACY\",\"SUTTER INFUSION & PHARMACY SERVICES\",\"SUTTER INFUSION & PHARMACY SERVICES\",\"SUTTER MEDICAL CENTER SACRAMENTO INFUSION PHARMACY\",\"SUTTER ROSEVILLE MEDICAL CENTER INFUSION PHARMACY\",\"SUTTER SOLANO MEDICAL CENTER INFUSION PHARMACY\",\"SVMHS-OUTPATIENT SERVICE-INFUSION CENTER\",\"THE CENTER FOR CANCER PREVENTION AND TREATMENT INFUSION CENTER PH\",\"TRINITY CARE RX\",\"UC DAVIS MEDICAL CENTER INFUSION PHARMACY\",\"UCI HEALTH IRVINE INFUSION PHARMACY ACC\",\"UCSD HOME INFUSION PHARMACY\",\"UCSD- SDCC INFUSION PHARMACY\",\"UCSF MEDICAL CENTER BENIOFF 6TH FLR RM M6362 PEDIATRIC INFUSION\",\"UCSF MEDICAL CENTER OUTPATIENT INFUSION PHARMACY\",\"VENTURA COUNTY MEDICAL CENTER INFUSION CENTER PHARMACY\",\"VIVE RX INC\",\"WELLSCRIPT\"],\"lat\":[33.848733,40.674947,28.489898,34.195685,37.866536,32.70065,38.635653,33.788145,33.803431,40.945855,33.818477,33.956526,33.833744,33.666942,32.999309,32.425874,36.822349,34.00784,42.067166,34.127194,36.825296,36.822349,34.037251,34.035602,32.999818,44.874984,36.061718,36.825296,39.173116,26.278502,35.342891,35.342891,34.923013,34.227892,34.205247,34.283668,37.031475,34.17051,29.991693,29.620312,41.743074,33.666942,33.828396,34.173885,33.805401,35.176043,35.23575,34.026608,34.283668,36.391777,33.997862,37.899936,37.792682,33.867743,38.645723,36.391777,33.948255,38.612129,33.975332,34.923013,35.165671,36.478239,38.427507,33.867743,37.605905,38.114388,32.899592,34.224196,34.230854,35.16319,33.750815,33.680302,34.204568,33.0824,33.818477,36.793661,39.898839,33.970847,38.635653,32.908449,34.283668,37.603155,34.13946,34.119367,37.750502,32.806794,33.763905,33.833181,34.204568,33.830457,34.173885,34.074736,38.571577,33.889702,34.207341,32.806794,33.901886,41.819578,38.488809,37.773793,38.571577,38.741074,38.18735,36.636344,33.788145,33.801191,38.550547,33.65844,32.806794,33.056022,37.768106,37.768106,34.283668,33.942108,40.601778],\"legendgroup\":\"Infusion Center\",\"lon\":[-117.788357,-80.106364,-81.290154,-118.490752,-122.257996,-97.386965,-121.518416,-117.87655,-118.16977,-74.245077,-118.038307,-118.358654,-118.314022,-117.732094,-96.841688,-90.169852,-119.760243,-118.030271,-87.934719,-118.295647,-119.68019,-119.760243,-118.423573,-117.591528,-117.071808,-93.152093,-115.058058,-119.68019,-76.842028,-80.1153,-119.064803,-119.064803,-120.259463,-119.079552,-119.174092,-119.223196,-121.98334,-118.289463,-90.258179,-95.605693,-87.929214,-117.732094,-117.20766,-118.346937,-118.187701,-120.476694,-120.615973,-118.473643,-119.223196,-119.372842,-118.393617,-121.999244,-121.86059,-118.069472,-121.445254,-119.372842,-116.987839,-120.964522,-118.355252,-120.259463,-120.655844,-119.52137,-121.314899,-118.069472,-122.126873,-121.144658,-117.201203,-118.632394,-118.365856,-119.046322,-112.090632,-117.833295,-118.326365,-117.127641,-118.038307,-119.761461,-86.05872,-117.32512,-121.518416,-117.14138,-119.223196,-122.018638,-118.166649,-117.855054,-121.749055,-117.13493,-117.931382,-118.292062,-118.326365,-117.905941,-118.346937,-118.145959,-121.466465,-117.113427,-118.400973,-117.13493,-117.916639,-124.065667,-121.395843,-122.278115,-121.466465,-121.247693,-122.224074,-121.623978,-117.87655,-117.994904,-121.456373,-117.826009,-117.13493,-117.2599,-122.386927,-122.386927,-119.223196,-118.417488,-122.454973],\"marker\":{\"color\":\"#1F77B4\"},\"mode\":\"markers\",\"name\":\"Infusion Center\",\"showlegend\":true,\"subplot\":\"mapbox\",\"type\":\"scattermapbox\"},{\"hovertemplate\":\"\\u003cb\\u003e%{hovertext}\\u003c\\u002fb\\u003e\\u003cbr\\u003e\\u003cbr\\u003eFacility Type=Medical Facility\\u003cbr\\u003eLAT=%{lat}\\u003cbr\\u003eLONG=%{lon}\\u003cextra\\u003e\\u003c\\u002fextra\\u003e\",\"hovertext\":[\"ADVENTIST HEALTH AIS CANCER CENTER PHARMACY\",\"ADVENTIST HEALTH AND RIDEOUT\",\"ADVENTIST HEALTH AND RIDEOUT\",\"ADVENTIST HEALTH BAKERSFIELD - HOSPITAL PHARMACY\",\"ADVENTIST HEALTH DELANO\",\"ADVENTIST HEALTH GLENDALE\",\"ADVENTIST HEALTH HANFORD\",\"ADVENTIST HEALTH HOWARD MEMORIAL\",\"ADVENTIST HEALTH LODI MEMORIAL HOSPITAL PHARMACY 1STFLR NORTHWING\",\"ADVENTIST HEALTH MENDOCINO COAST\",\"ADVENTIST HEALTH SIMI VALLEY\",\"ADVENTIST HEALTH SIMI VALLEY\",\"ADVENTIST HEALTH SONORA\",\"ADVENTIST HEALTH SONORA-PHARMACY\",\"ADVENTIST HEALTH SPECIALTY BAKERSFIELD\",\"ADVENTIST HEALTH ST HELENA HOSPITAL CANCER CENTER PHARMACY\",\"ADVENTIST HEALTH ST HELENA HOSPITAL INPATIENT PHARMACY\",\"ADVENTIST HEALTH TEHACHAPI VALLEY\",\"ADVENTIST HEALTH TULARE\",\"ADVENTIST HEALTH UKIAH VALLEY\",\"ADVENTIST HEALTH WHITE MEMORIAL MONTEBELLO\",\"AHMC ANAHEIM REGIONAL MEDICAL CENTER - MAIN PHARMACY\",\"AHMC SETON MEDICAL CENTER LLC\",\"ALAMEDA HOSPITAL\",\"ALHAMBRA HOSPITAL MEDICAL CENTER\",\"ALHAMBRA HOSPITAL MEDICAL CENTER\",\"ALTA BATES SUMMIT MEDICAL CENTER - ALTA BATES CAMPUS\",\"ALTA BATES SUMMIT MEDICAL CENTER - SUMMIT CAMPUS RM G744\",\"ANTELOPE VALLEY MEDICAL CENTER IV ROOM\",\"ARROWHEAD REGIONAL MEDICAL CENTER PHARMACY\",\"BAKERSFIELD MEMORIAL HOSPITAL\",\"BAKERSFIELD MEMORIAL HOSPITAL PHARMACY\",\"BAKERSFIELD REHABILITATION HOSPITAL\",\"BANNER LASSEN MEDICAL CENTER 1ST FLOOR ROOM 523\",\"BARLOW HOSPITAL PHARMACY\",\"BARSTOW COMMUNITY HOSPITAL\",\"BARTON MEMORIAL HOSPITAL PHARMACY\",\"BEAR VALLEY COMMUNITY HOSPITAL\",\"BECKMAN RESEARCH INSTITUTE OF THE CITY OF HOPE\",\"BOWYER PHARMACY\",\"CA PACIFIC MED CTR PHY - DAVIES CAMPUS\",\"CALIFORNIA HOSPITAL MEDICAL CENTER\",\"CALIFORNIA REHABILITATION INSTITUTE LLC 9TH FLOOR\",\"CARDINAL HEALTH\",\"CARDINAL HEALTH\",\"CARDINAL HEALTH 414 LLC\",\"CARDINAL HEALTH 414, LLC\",\"CARDINAL HEALTH 414,LLC\",\"CARDINAL HEALTH 414,LLC\",\"CARDINAL HEALTH 414,LLC\",\"CARDINAL HEALTH 414,LLC\",\"CARDINAL HEALTH 414,LLC\",\"CARDINAL HEALTH 414,LLC\",\"CARDINAL HEALTH 414,LLC\",\"CARDINAL HEALTH_414,LLC\",\"CARDINAL HEALTH_414,LLC\",\"CASA COLINA HOSPITAL PHARMACY\",\"CEDARS SINAI MARINA HOSPITAL\",\"CEDARS SINAI MEDICAL CENTER - CENTRAL PHARMACY MAIN SOUTH TOWER\",\"CEDARS SINAI MEDICAL CENTER - MARK TAPER\",\"CEDARS-SINAI MEDICAL CENTER -4TH FLOOR MAIN: 4407-4408\",\"CEDARS-SINAI MEDICAL CENTER AHSP PLAZA LEVEL ROOM A2403\",\"CEDARS-SINAI MEDICAL CENTER ASHP\",\"CEDARS-SINAI MEDICAL CENTER PHARMACY #6\",\"CEDARS-SINAI MEDICAL CENTER PHY #4\",\"CEDARS-SINAI TOWER HEMATOLOGY ONCOLOGY PHARMACY\",\"CEDARS-SINAI TOWER HEMATOLOGY ONCOLOGY PHARMACY\",\"CENTINELA HOSPITAL MEDICAL CENTER\",\"CENTRAL VALLEY SPECIALTY HOSPITAL - PHARMACY IV ROOM\",\"CHA HOLLYWOOD PRESBYTERIAN MEDICAL CENTER INPATIENT PHARMACY IV R\",\"CHAPMAN GLOBAL MEDICAL CENTER INC\",\"CHILDREN'S HOSPITAL & HEALTH CENTER PHARMACY\",\"CHILDREN'S HOSPITAL & HEALTH CENTER PHARMACY\",\"CHILDREN'S HOSPITAL & RESEARCH CENTER AT OAKLAND\",\"CHILDREN'S HOSPITAL OF ORANGE COUNTY\",\"CHILDREN'S HOSPITAL OF ORANGE COUNTY HOSPITAL PHARMACY 6TH FLOOR\",\"CHILDREN'S HOSPITAL OF ORANGE COUNTY HOSPITAL PHARMACY INPATIENT\",\"CHILDREN'S HOSPITAL OF ORANGE COUNTY HOSPITAL PHARMACY OR SATELLI\",\"CHILDREN'S HOSPITAL PHARMACY - 4TH FLOOR 4A80\",\"CHILDRENS HOSPITAL OF ORANGE COUNTY\",\"CHILDRENS HOSPITAL PHARMACY - 2ND FLOOR 2A80\",\"CHILDRENS HOSPITAL PHARMACY - INPATIENT PHARMACY\",\"CHILDRENS HOSPITAL PHARMACY - OR SATELITE RM 2074\",\"CHILDRENS HOSPITAL PHARMACY - SATELITE EMERGENCY DEPT RM 0A66\",\"CHILDRENS VILLAGE PHARMACY\",\"CHINESE HOSPITAL PHARMACY\",\"CHINO VALLEY MEDICAL CENTER\",\"CITY OF HOPE CORONA\",\"CITY OF HOPE DUARTE BRISKIN\",\"CITY OF HOPE DUARTE HELFORD2\",\"CITY OF HOPE DUARTE HP8\",\"CITY OF HOPE DUARTE NW1202\",\"CITY OF HOPE DUARTE NW1252\",\"CITY OF HOPE ORANGE COUNTY\",\"CITY OF HOPE SEACLIFF\",\"CITY OF HOPE SOUTH BAY\",\"CITY OF HOPE UPLAND\",\"CLOVIS COMMUNITY HOSPITAL PHARMACY - ED SATELLITE\",\"CLOVIS COMMUNITY HOSPITAL PHARMACY - ICU SATELLITE\",\"CLOVIS COMMUNITY HOSPITAL PHARMACY - MAIN PHARMACY\",\"COALINGA REGIONAL MEDICAL CENTER\",\"COAST PLAZA HOSPITAL\",\"COLLEGE HOSPITAL OF COSTA MESA IV HOOD (BARRIER ISOLATOR) LOCATED\",\"COLLEGE MEDICAL CENTER\",\"COMMUNITY HOSPITAL OF HUNTINGTON PARK\",\"COMMUNITY HOSPITAL OF SAN BERNARDINO\",\"COMMUNITY HOSPITAL OF THE MONTEREY PENINSULA\",\"COMMUNITY MEMORIAL HOSPITAL OF SAN BUENA VENTURA MAIN PHARMACY\",\"CONSONUS PHARMACY SERVICES CA NORTH LLC\",\"CONTRA COSTA REG MED CTR OUTPATIENT PHY\",\"CONTRA COSTA REG MEDICAL CTR HOSPITAL PHARMACY\",\"CONVERSIO HEALTH\",\"CORONA REGIONAL MEDICAL CENTER MAIN PHARMACY ON 1ST FLOOR\",\"CPMC MISSION BERNAL CAMPUS PHARMACY\",\"CPMC VAN NESS CAMPUS 5TH FLOOR SATELLITE PHARMACY\",\"CPMC VAN NESS CAMPUS PHARMACY\",\"CRESCENT HEALTHCARE INC DBA CRESCENT HEALTHCARE\",\"CRESCENT HEALTHCARE INC DBA CRESCENT HEALTHCARE\",\"CRESCENT HEALTHCARE INC DBA CRESCENT HEALTHCARE\",\"CRESCENT HEALTHCARE INC DBA CRESCENT HEALTHCARE\",\"DAMERON HOSPITAL PHARMACY\",\"DESERT REGIONAL MED CTR COMP CANCER CTR\",\"DESERT REGIONAL MEDICAL CENTER - INPATIENT PHARMACY\",\"DESERT REGIONAL MEDICAL CENTER COMPREHENSIVE CANCER CENTER\",\"DESERT VALLEY HOSPITAL\",\"DESERT VALLEY HOSPITAL\",\"DIGNITY HEALTH MERCY ONCOLOGY CENTER PHARMACY\",\"DOCTORS HOSPITAL OF MANTECA\",\"DOCTORS HOSPTIAL OF RIVERSIDE\",\"DOCTORS MEDICAL CENTER OF MODESTO\",\"DOMINICAN HOSPITAL PHARMACY\",\"EARL & LORAINE MILLER CHILDRENS HOSPITAL\",\"EAST LOS ANGELES DOCTORS HOSPITAL\",\"EDEN MEDICAL CENTER\",\"EISENHOWER MEDICAL CENTER - HOSPITAL LOWER LEVEL\",\"EISENHOWER MEDICAL CENTER - LUCY CURCI PHARMACY\",\"EISENHOWER MEDICAL CENTER YUCCA VALLEY\",\"EL CAMINO HOSPITAL - LOS GATOS\",\"EL CAMINO HOSPITAL CANCER CENTER\",\"EL CAMINO HOSPITAL LOS GATOS CANCER CENTER\",\"EL CAMINO HOSPITAL PHARMACY\",\"EL CAMINO HOSPITAL PHARMACY COMPOUNDING ROOM GB 512\",\"EL CAMINO HOSPITAL- LOS GATOS\",\"EL CENTRO REGIONAL MEDICAL CENTER PHARMACY\",\"EL CENTRO REGIONAL MEDICAL CENTER PHARMACY ECRMC PHARMACY ONCOLOG\",\"EL CENTRO REGIONAL MEDICAL CENTER PHY\",\"EMANATE HEALTH FOOTHILL PRESBYTERIAN HOSPITAL\",\"EMANATE HEALTH INTER-COMMUNITY MAIN PHARMACY (BASEMENT)\",\"EMANATE HEALTH QUEEN OF THE VALLEY HOSPITAL\",\"EMANATE HEALTH QUEEN OF THE VALLEY HOSPITAL MAIN PHARMACY BASEMEN\",\"EMANATE HEALTH QUEEN OF THE VALLEY HOSPITAL ROOM 249\",\"EMANATE HEALTH QUEEN OF THE VALLEY HOSPITAL ROOM 250\",\"EMANUEL MEDICAL CENTER\",\"EMANUEL SPECIALTY CLINIC MEDICAL ONCOLOGY PHARMACY\",\"ENCINO HOSPITAL MEDICAL CENTER PHARMACY\",\"ENCOMPASS HEALTH REHABILITATION HOSPITAL OF BAKERSFIELD\",\"ENLOE MEDICAL CENTER\",\"ENLOE MEDICAL CENTER CANCER CENTER\",\"FAIRCHILD MEDICAL CENTER PHARMACY\",\"FOOTHILL REGIONAL MEDICAL CENTER\",\"FRENCH HOSPITAL MEDICAL CENTER FIRST FLOOR\",\"FRESNO COMM MED CTR\",\"FRESNO COMM MED CTR PHARMACY 4TH FLOOR, 10-STORY BLDG, NEONATAL I\",\"FRESNO COMM MED CTR PHARMACY 5TH FLOOR, TCCB BLDG, INTENSIVE CARE\",\"FRESNO HEART AND SURGICAL HOSPITAL BAKER SG403 & EG4252\",\"FRESNO SURGICAL HOSPITAL STERILE PHARMACY 2ND FLOOR\",\"GARDEN GROVE HOSPITAL AND MEDICAL CENTER\",\"GARFIELD HOSPITAL MEDICAL CENTER 2ND FLOOR\",\"GLENDALE MEMORIAL HOSPITAL & HEALTH CENTER\",\"GLENN MEDICAL CENTER\",\"GMT PHARMACY\",\"GOLETA VALLEY COTTAGE HOSPITAL\",\"GOOD SAMARITAN HOSPITAL PHARMACY\",\"GOOD SAMARITAN HOSPITAL, LP\",\"GREATER EL MONTE COMMUNITY HOSPITAL PHARMACY IV ROOM\",\"GROSSMONT HOSPITAL PHARMACY HEART & VASCULAR TOWER LEVEL A\",\"HARTLEY MEDICAL CENTER PHARMACY INC\",\"HAZEL HAWKINS MEMORIAL HOSPITAL PHARMACY\",\"HEALDSBURG HOSPITAL\",\"HEMET GLOBAL MEDICAL CENTER FIRST FLOOR PHARMACY\",\"HENRY MAYO NEWHALL HOSPITAL\",\"HI-DESERT MEDICAL CENTER HOSPITAL PHARMACY\",\"HIGHLAND CARE PAVILLION PHARMACY\",\"HIGHLAND HOSPITAL PHARMACY\",\"HOAG HOSPITAL IRVINE\",\"HOAG MEMORIAL PRESBYTERIAN PHARMACY\",\"HUNTINGTON BEACH HOSPITAL\",\"HUNTINGTON HOSPITAL MAIN PHARMACY IV ROOM GROUND FLOOR\",\"HUNTINGTON HOSPITAL PEDIATRIC SATELLITE 1ST FLOOR\",\"INLAND VALLEY MEDICAL CENTER MAIN PHARMACY 1ST FLOOR\",\"JOHN F KENNEDY MEMORIAL HOSPITAL\",\"JOHN MUIR MEDICAL CENTER\",\"JOHN MUIR MEDICAL CENTER CONCORD\",\"JOHN MUIR MEDICAL CENTER WALNUT CREEK\",\"JOHN MUIR MEDICAL CENTER WALNUT CREEK PEDIATRIC SATELLITE PHARM\",\"KAISER FDN HSP INP DISCHARGE PHY 39A 394\",\"KAISER FDN HSP INP DISCHARGE PHY 39A 394\",\"KAISER FDN HSP INP DISCHARGE PHY 72A 726\",\"KAISER FDN HSP INP PHY 12A\",\"KAISER FDN HSP INP PHY 12A\",\"KAISER FDN HSP INP PHY 16A\",\"KAISER FDN HSP INP PHY 16A\",\"KAISER FDN HSP INP PHY 51A\",\"KAISER FDN HSP INP PHY 51A FL 2 RM 213\",\"KAISER FDN HSP INP PHY 51A FL 2 RM 23B13\",\"KAISER FDN HSP INP PHY 60A\",\"KAISER FDN HSP INP\\u002fOUT DIS PHY 63A 634\",\"KAISER FDN HSP INP\\u002fOUT HSP PHY 31A 315\",\"KAISER FDN HSP INP\\u002fOUT HSP PHY 31A 315\",\"KAISER FDN HSP INP\\u002fOUT HSP PHY 58A 584\",\"KAISER FDN HSP INP\\u002fOUT HSP PHY 58A 584 FL 2 RM N2000\",\"KAISER FDN HSP INP\\u002fOUT PHY 35A-355\",\"KAISER FDN HSP PHY 21A\",\"KAISER FDN HSP PHY 21A\",\"KAISER FOUND HOSP PHARMACY #49A\",\"KAISER FOUND HOSPITAL PHARMACY #054\",\"KAISER FOUND HOSPITAL PHARMACY #054 - FL-1, RM H13R32\",\"KAISER FOUND HOSPITAL PHARMACY #85A\",\"KAISER FOUND HOSPITAL PHRMCY #57A MAIN PHARMACY\",\"KAISER FOUND HOSPITAL PHRMCY #67A\",\"KAISER FOUND HOSPITAL PHRMCY #67A \\u002f 67B\",\"KAISER FOUND HOSPITAL PHY #58B\",\"KAISER FOUND HSP PHY #44B FLR 2 RM H2164\",\"KAISER FOUND HSP PHY #44B FLR 2 RM P2531A\",\"KAISER FOUND HSP PHY #44B MAIN PHARMACY\",\"KAISER FOUNDATION HLTH MOB 2 PHY #686\",\"KAISER FOUNDATION HOSPITAL\",\"KAISER FOUNDATION HOSPITAL 551\",\"KAISER FOUNDATION HOSPITAL 551 - MAIN\",\"KAISER FOUNDATION HOSPITAL IP MAIN PHARMACY\",\"KAISER FOUNDATION HOSPITAL MAIN PHARMACY ROOM  #1047\",\"KAISER FOUNDATION HOSPITAL PHARMACY\",\"KAISER FOUNDATION HOSPITAL PHARMACY\",\"KAISER FOUNDATION HOSPITAL PHARMACY #054 MAIN PHARMACY\",\"KAISER FOUNDATION HOSPITAL PHARMACY #10A MAIN PHARMACY\",\"KAISER FOUNDATION HOSPITAL PHARMACY #247\",\"KAISER FOUNDATION HOSPITAL PHARMACY #28B\\u002f282\",\"KAISER FOUNDATION HOSPITAL PHARMACY #367 MAIN PHARMACY\",\"KAISER FOUNDATION HOSPITAL PHARMACY #372 MAIN PHARMACY\",\"KAISER FOUNDATION HOSPITAL PHARMACY #37B\\u002f378 FL 3 MAIN PHARMACY\",\"KAISER FOUNDATION HOSPITAL PHARMACY #529\",\"KAISER FOUNDATION HOSPITAL PHARMACY #61A MAIN PHARMACY\",\"KAISER FOUNDATION HOSPITAL PHARMACY #63C\",\"KAISER FOUNDATION HOSPITAL PHARMACY #651\",\"KAISER FOUNDATION HOSPITAL PHARMACY #71B\",\"KAISER FOUNDATION HOSPITAL PHARMACY #751\",\"KAISER FOUNDATION HOSPITAL PHARMACY #85A\",\"KAISER FOUNDATION HOSPITAL PHARMACY #92A FL 2, RM 2228\",\"KAISER FOUNDATION HOSPITAL PHARMACY #92A MAIN PHARMACY\",\"KAISER FOUNDATION HOSPITAL PHARMACY - MAIN PHARMACY\",\"KAISER FOUNDATION HOSPITAL PHARMACY 151 - FL 2, RM 2126\",\"KAISER FOUNDATION HOSPITAL PHARMACY 151 - MAIN\",\"KAISER FOUNDATION HOSPITAL PHARMACY MAIN PHARMACY\",\"KAISER FOUNDATION HOSPITAL PHARMACY MAIN PHARMACY\",\"KAISER FOUNDATION HOSPITAL PHY #253 MAIN PHARMACY\",\"KAISER HEALTH PLAN PHARMACY NO 338\",\"KAISER HOSPITAL PHARMACY #59A FL-1 RM W1D06\",\"KAISER HOSPITAL PHARMACY #59A MAIN PHARMACY\",\"KAISER ONCOLOGY PHARMACY #060\",\"KAISER ONCOLOGY PHARMACY #104\",\"KAISER ONCOLOGY PHARMACY #247\",\"KAISER ONCOLOGY PHARMACY #520\",\"KAISER ONCOLOGY PHARMACY #573\",\"KAISER ONCOLOGY PHARMACY #598\",\"KAISER ONCOLOGY PHARMACY #680\",\"KAISER ONCOLOGY PHARMACY #854\",\"KAISER ONCOLOGY PHARMACY #868\",\"KAISER ONCOLOGY PHRMCY #081\",\"KAISER ONCOLOGY PHRMCY #170\",\"KAISER ONCOLOGY PHRMCY #638\",\"KAISER PERMANENTE ONCOLOGY PHARMACY #014C\",\"KAISER PERMANENTE ONCOLOGY PHARMACY #168\",\"KAISER PERMANENTE ONCOLOGY PHARMACY #379\",\"KAISER PERMANENTE ONCOLOGY PHARMACY #675\",\"KAISER PERMANENTE PHARMACY #005C\",\"KAISER PERMANENTE PHARMACY #122C\",\"KAISER PERMANENTE PHARMACY #162\",\"KAISER PERMANENTE PHARMACY #171\",\"KAISER PERMANENTE PHARMACY #181\",\"KAISER PERMANENTE PHARMACY #221\",\"KAISER PERMANENTE PHARMACY #252\",\"KAISER PERMANENTE PHARMACY #257C\",\"KAISER PERMANENTE PHARMACY #260C\",\"KAISER PERMANENTE PHARMACY #271C\",\"KAISER PERMANENTE PHARMACY #305C - RM 4644\",\"KAISER PERMANENTE PHARMACY #363C\",\"KAISER PERMANENTE PHARMACY #374C\",\"KAISER PERMANENTE PHARMACY #376\",\"KAISER PERMANENTE PHARMACY #398\",\"KAISER PERMANENTE PHARMACY #401\",\"KAISER PERMANENTE PHARMACY #414\",\"KAISER PERMANENTE PHARMACY #514\",\"KAISER PERMANENTE PHARMACY #524C\",\"KAISER PERMANENTE PHARMACY #531C\",\"KAISER PERMANENTE PHARMACY #551C\",\"KAISER PERMANENTE PHARMACY #607\",\"KAISER PERMANENTE PHARMACY #612\",\"KAISER PERMANENTE PHARMACY #612T2\",\"KAISER PERMANENTE PHARMACY #889C\",\"KAISER PERMANENTE PHARMACY #922\",\"KAISER PERMANENTE PHARMACY #979\",\"KAISER PERMANENTE PHY #193\",\"KAISER ZION ONCOLOGY PHARMACY #202C\",\"KAWEAH HEALTH ACEQUIA WING SATALITE PHARMACY\",\"KAWEAH HEALTH MEDICAL CENTER PHARMACY\",\"KECK HOSPITAL OF USC - ARCADIA TREATMENT CENTER\",\"KECK HOSPITAL OF USC - NORRIS HEALTHCARE CENTER PHARMACY\",\"KECK HOSPITAL OF USC 4TH FLOOR OR PHARMACY\",\"KECK HOSPITAL OF USC 9TH FLOOR PHARMACY\",\"KECK HOSPITAL OF USC MAIN PHARMACY\",\"KECK MEDICINE OF USC-NEWPORT PHARMACY\",\"KENTFIELD HOSPITAL\",\"KENTFIELD HOSPITAL SAN FRANCISCO\",\"KERN MEDICAL CENTER PHARMACY RM 1150\",\"KERN VALLEY HEALTHCARE DISTRICT\",\"KINDRED HOSPITAL BALDWIN PARK\",\"KINDRED HOSPITAL BREA\",\"KINDRED HOSPITAL LA MIRADA\",\"KINDRED HOSPITAL LOS ANGELES\",\"KINDRED HOSPITAL ONTARIO\",\"KINDRED HOSPITAL PARAMOUNT\",\"KINDRED HOSPITAL RANCHO\",\"KINDRED HOSPITAL RIVERSIDE\",\"KINDRED HOSPITAL SAN DIEGO\",\"KINDRED HOSPITAL SAN FRANCISCO BAY AREA\",\"KINDRED HOSPITAL SAN GABRIEL VALLEY\",\"KINDRED HOSPITAL SANTA ANA\",\"KINDRED HOSPITAL SOUTH BAY\",\"LA JOLLA DISCOUNT PHARMACY\",\"LA PALMA INTERCOMMUNITY HOSPITAL\",\"LA PALMA INTERCOMMUNITY HOSPITAL\",\"LAC HARBOR UCLA MEDICAL CENTER PHARMACY 3RD FLOOR SATELLITE\",\"LAC HARBOR UCLA MEDICAL CENTER PHARMACY 6TH FLOOR SATELLITE\",\"LAC HARBOR UCLA MEDICAL CENTER PHARMACY MAIN PHARMACY\",\"LAC HARBOR UCLA MEDICAL CENTER PHARMACY SE 1H09\",\"LLUMC - EAST CAMPUS HOSPITAL PHARMACY\",\"LOMA LINDA UNIVERSITY CHILDREN'S HOSPITAL\",\"LOMA LINDA UNIVERSITY CHILDREN'S HOSPITAL PHARMACY\",\"LOMA LINDA UNIVERSITY CHILDREN'S HOSPITAL PHARMACY (NICU-3RD)\",\"LOMA LINDA UNIVERSITY CHILDRENS HOSPITAL\",\"LOMA LINDA UNIVERSITY CHILDRENS HOSPITAL PEDIATRIC HEMATOLOGY\\u002fONC\",\"LOMA LINDA UNIVERSITY HOSPITAL PHARMACY- 14TH FLOOR\",\"LOMA LINDA UNIVERSITY HOSPITAL PHARMACY-3RD FLOOR\",\"LOMA LINDA UNIVERSITY HOSPITAL PHARMACY-6TH FLOOR\",\"LOMA LINDA UNIVERSITY HOSPITAL PHARMACY-ADULT CANCER CENTER\",\"LOMA LINDA UNIVERSITY HOSPITAL PHARMACY-BASEMENT\",\"LOMA LINDA UNIVERSITY MEDICAL CENTER - HOSPITAL PHARMACY (2ND FLO\",\"LOMA LINDA UNIVERSITY MEDICAL CENTER - MURRIETA\",\"LOMA LINDA UNIVERSITY SURGICAL HOSPITAL\",\"LOMPOC VALLEY MEDICAL CENTER\",\"LOMPOC VALLEY MEDICAL CENTER HEMATOLOGY-ONCOLOGY PHARMACY\",\"LONG BEACH MEMORIAL MEDICAL CENTER\",\"LOS ANGELES COMMUNITY HOSPITAL AT NORWALK\",\"LOS ANGELES COMMUNITY HOSPITAL PHARMACY\",\"LOS ANGELES COUNTY HIGH DESERT REGIONAL HEALTH CENTER PHARMACY\",\"LOS ANGELES GENERAL MEDICAL CENTER INPATIENT PHARMACY\",\"LOS ANGELES GENERAL MEDICAL CENTER INPATIENT PHARMACY\",\"LOS ANGELES GENERAL MEDICAL CENTER INPATIENT PHARMACY\",\"LOS ANGELES GENERAL MEDICAL CENTER INPATIENT PHARMACY\",\"LOS ANGELES GENERAL MEDICAL CENTER INPATIENT PHARMACY\",\"LOS ROBLES HOSPITAL AND MEDICAL CENTER\",\"LPCH CHILDRENS HOME PHARMACY\",\"LUCILE PACKARD CHILDREN'S HOSPITAL RM 2875 INPATIENT PHARMACY\",\"LUCILE SALTER PACKARD CHILDRENS HSP\",\"LUCILE SALTER PACKARD CHILDRENS HSP\",\"LUCILE SALTER PACKARD CHILDRENS HSP\",\"LUNDQUIST INSTITUTE FOR BIOMEDICAL INNOVATION\",\"MAD RIVER COMMUNITY HOSPITAL PHARMACY\",\"MADERA COMMUNITY HOSPITAL\",\"MAMMOTH HOSPITAL\",\"MANDELL'S CLINICAL PHARMACY\",\"MARIAN REGIONAL MEDICAL CENTER\",\"MARIAN REGIONAL MEDICAL CENTER ARROYO GRANDE\",\"MARIN GENERAL HOSPITAL PHARMACY MAIN PHARMACY, 2ND FLOOR\",\"MARIN GENERAL HOSPITAL PHARMACY SATELLITE PHARAMCY, 5TH FLOOR\",\"MARK TWAIN MEDICAL CENTER\",\"MARSHALL HOSPITAL PHARMACY; 2ND FLOOR SURGERY WING\",\"MARTIN LUTHER KING JR COMMUNITY HOSPITAL PHARMACY\",\"MARTIN LUTHER KING JR OUTPATIENT CENTER PHARMACY\",\"MAYERS MEMORIAL HOSPITAL PHARMACY\",\"MEMORIAL HOSPITAL LOS BANOS PHARMACY\",\"MEMORIAL HOSPITAL OF GARDENA\",\"MEMORIAL MEDICAL CENTER PHARMACY- INPATIENT\",\"MENIFEE GLOBAL MEDICAL CENTER MAIN PHARMACY\",\"MERCY GENERAL HOSPITAL\",\"MERCY HOSPITAL\",\"MERCY HOSPITAL OF FOLSOM MAIN PHARMACY - LOWER LEVEL ROOM 170\",\"MERCY MEDICAL CENTER MAIN PHARMACY - GARDEN LEVEL ROOM # 0165\",\"MERCY MEDICAL CENTER MT SHASTA\",\"MERCY MEDICAL CENTER REDDING\",\"MERCY SAN JUAN MEDICAL CENTER PHARMACY 1ST FLOOR IV ROOM\",\"MERCY SOUTHWEST HOSPITAL\",\"METHODIST HOSPITAL OF SACRAMENTO\",\"MID VALLEY HEALTH SERVICES\",\"MILLS-PENINSULA HEALTH CENTER PHARMACY\",\"MILLS-PENINSULA MEDICAL CENTER PHARMACY\",\"MISSION COMMUNITY HOSPITAL MAIN PHARMACY IN BASEMENT\",\"MONROVIA MEMORIAL HOSPITAL\",\"MONTCLAIR HOSPITAL MEDICAL CENTER\",\"MONTEREY PARK HOSPITAL\",\"MOUNTAIN VIEW PHARMACEUTICALS\",\"MOUNTAINS COMMUNITY HOSPITAL PHARMACY\",\"NATIVIDAD MEDICAL CENTER 1ST FLOOR MAIN PHARMACY 1D018\",\"NORTH COUNTY ONCOLOGY\",\"NORTHBAY MEDICAL CENTER PHARMACY\",\"NORTHBAY VACAVALLEY HOSPITAL PHARMACY\",\"NORTHERN INYO HOSPITAL PHARMACY\",\"NORTHRIDGE HOSPITAL MEDICAL CENTER\",\"NORTHRIDGE HOSPITAL MEDICAL CENTER\",\"NOVATO COMMUNITY HOSPITAL - MAIL PHARMACY IV ROOM 2ND FLOOR\",\"O'CONNOR HOSPITAL\",\"OAK VALLEY HOSPITAL DISTRICT\",\"OJAI VALLEY COMMUNITY HOSPITAL\",\"OLIVE VIEW UCLA MED CTR PHY I\",\"ORANGE COAST MEMORIAL MEDICAL CENTER\",\"ORANGE COUNTY GLOBAL MEDICAL CENTER\",\"OROVILLE HOSPITAL - MAIN PHARMACY\",\"PACIFIC WEST PHARMACY INC\",\"PACIFICA HOSPITAL OF THE VALLEY\",\"PALMDALE REGIONAL MEDICAL CENTER INPATIENT PHARMACY\",\"PALO VERDE HOSPITAL\",\"PALOMAR MEDICAL CENTER PHARMACY\",\"PALOMAR MEDICAL CENTER POWAY PHARMACY\",\"PARADISE VALLEY HOSPITAL\",\"PARADISE VALLEY HOSPITAL\",\"PC AND MZ SAN FRANCISCO GEN HOSPITAL AND TRAUMA CTR INPT PHARMACY\",\"PENTEC HEALTH, INC.\",\"PETALUMA VALLEY HOSPITAL PHARMACY\",\"PIH HEALTH DOWNEY HOSPITAL\",\"PIH HEALTH GOOD SAMARITAN HOSPITAL\",\"PIH HEALTH GOOD SAMARITAN HOSPITAL\",\"PIH HEALTH GOOD SAMARITAN HOSPITAL 4TH FLOOR PHARMACY\",\"PIH HEALTH WHITTIER HOSPITAL PHCY\",\"PIH HEALTH WHITTIER HOSPITAL PHCY PLAZA TOWER MAIN PHARMACY\",\"PIONEERS MEMORIAL HEALTHCARE DISTRICT\",\"PIONEERS MEMORIAL HEALTHCARE DISTRICT MAIN PHARMACY\",\"POMONA VALLEY HOSPITAL MEDICAL CENTER CENTRAL PHARMACY #DB20P\",\"POMONA VALLEY HOSPITAL MEDICAL CENTER SATELLITE PHARMACY #EC298A\",\"PRIME HEALTHCARE SERVICES- ST. FRANCIS LLC\",\"PROVIDENCE CEDARS-SINAI TARZANA MEDICAL CENTER\",\"PROVIDENCE HEALTH SYSTEM SOUTHERN CALIFORNIA DBA PROVIDENCE HOLY\",\"PROVIDENCE HOLY CROSS MEDICAL CENTER PHARMACY\",\"PROVIDENCE LITTLE COMPANY OF MARY MED CTR SAN PEDRO\",\"PROVIDENCE LITTLE COMPANY OF MARY MED CTR TORRANCE\",\"PROVIDENCE MISSION HOSPITAL\",\"PROVIDENCE MISSION HOSPITAL CANCER CENTER\",\"PROVIDENCE MISSION HOSPITAL LAGUNA BEACH\",\"PROVIDENCE ONCOLOGY PHARMACY\",\"PROVIDENCE QUEEN OF THE VALLEY MEDICAL CENTER\",\"PROVIDENCE REDWOOD MEMORIAL HOSPITAL\",\"PROVIDENCE SAINT JOHN'S HEALTH CENTER- MAIN PHARMACY\",\"PROVIDENCE SAINT JOHN'S HEALTH CENTER- SATELLITE PHARMACY\",\"PROVIDENCE SAINT JOHNS HEALTH CENTER PHARMACY\",\"PROVIDENCE SAINT JOSEPH MEDICAL CENTER\",\"PROVIDENCE ST JOSEPH HOSPITAL\",\"PROVIDENCE ST JOSEPH HOSPITAL PHARMACY INPATIENT PHARMACY\",\"PROVIDENCE ST. JOSEPH HOSPITAL PHARMACY\",\"RADY CHILDREN'S HOMECARE PHARMACY\",\"RANCHO LOS AMIGOS NAT. REHAB CTR HOSPITAL PHARMACY\",\"REDLANDS COMMUNITY HOSPITAL\",\"REGIONAL MEDICAL CENTER OF SAN JOSE\",\"REHABILITATION HOSPITAL OF SOUTHERN CALIFORNIA, LLC\",\"RIDGECREST REGIONAL HOSPITAL\",\"RIVER'S EDGE PHARMACY\",\"RIVERSIDE COMMUNITY HOSPITAL CENTRAL PHARMACY I.V. ROOM\",\"RONALD REAGAN UCLA MEDICAL CENTER 6TH FLOOR SATELLITE\",\"RONALD REAGAN UCLA MEDICAL CENTER I.V. ADDITIVE SERVICE\",\"RUHS- MC- MAIN IV ROOM E1111\",\"SACRAMENTO REHABILITATION HOSPITAL\",\"SADDLEBACK MEM MED CTR PHCY IND HSP\",\"SAINT AGNES MEDICAL CENTER CVOR PHARMACY SATELLITE (2ND FLOOR)\",\"SAINT AGNES MEDICAL CENTER EMERGENCY ROOM SATELLITE PHARMACY\",\"SAINT AGNES MEDICAL CENTER PHARMACY 2 MAINIV COMPOUNDING PHARMACY\",\"SAINT AGNES MEDICAL CENTER PHARMACY 2 WEST SATELLITE PHARMACY\",\"SAINT AGNES MEDICAL CENTER PHARMACY 3 MAIN PHARMACY\",\"SAINT AGNES MEDICAL CENTER PHARMACY OR PHARMACY SATELLITE\",\"SAINT LOUISE REGIONAL HOSPITAL\",\"SALINAS VALLEY MEMORIAL HOSPITAL PHARMACY\",\"SAN ANTONIO REGIONAL HOSPITAL\",\"SAN DIMAS COMMUNITY HOSPITAL\",\"SAN DIMAS COMMUNITY HOSPITAL\",\"SAN GABRIEL VALLEY MEDICAL CENTER\",\"SAN GORGONIO MEMORIAL HOSPITAL PHARMACY - FIRST FLOOR CENTRAL PHA\",\"SAN JOAQUIN GENERAL HOSPITAL\",\"SAN JOAQUIN GENERAL HOSPITAL INPATIENT PHARMACY IV ROOM (A1477)\",\"SAN JOAQUIN VALLEY REHABILITATION HOSPITAL\",\"SAN LEANDRO HOSPITAL\",\"SAN MATEO MEDICAL CENTER\",\"SAN RAMON REGIONAL MEDICAL CENTER PHARMACY 1ST FLOOR\",\"SANTA BARBARA COTTAGE HOSPITAL\",\"SANTA CLARA VALLEY MEDICAL CENTER - BUILDING A IV PHARMACY\",\"SANTA PAULA HOSPITAL\",\"SANTA YNEZ VALLEY COTTAGE HOSPITAL\",\"SCRIPPS CENTRAL PHARMACY PRODUCTION CENTER\",\"SCRIPPS ENCINITAS COMPOUNDING PHARMACY\",\"SCRIPPS GREEN HOSPITAL\",\"SCRIPPS MEMORIAL HOSPITAL ENCINITAS\",\"SCRIPPS MEMORIAL HOSPITAL LA JOLLA PREBYS MAIN PHARMACY\",\"SCRIPPS MEMORIAL HOSPITAL, LA JOLLA--PREBYS OR SATELLITE\",\"SCRIPPS MERCY HOSPITAL - CHULA VISTA\",\"SCRIPPS MERCY HOSPITAL - SAN DIEGO\",\"SCRIPPS MERCY SD COMPOUNDING PHARMACY\",\"SELECT SPECIALTY HOSPITAL - SAN DIEGO\",\"SEQUOIA HOSPITAL\",\"SEQUOIA REGIONAL CANCER CENTER PHARMACY\",\"SHARP CENTRALIZED HOSPITAL PHARMACY\",\"SHARP CHULA VISTA MEDICAL CENTER\",\"SHARP CORONADO HOSPITAL AND HEALTHCARE CENTER\",\"SHARP GROSSMONT HOSPITAL PHARMACY 2-WEST SATELLITE PHARMACY 2ND F\",\"SHARP MARY BIRCH HOSPITAL PHARMACY FIRST FLOOR MAIN PHARMACY\",\"SHARP MEMORIAL HOSPITAL PHARMACY MAIN PHARMACY\",\"SHASTA REGIONAL MEDICAL CENTER - PHARMACY\",\"SHERMAN OAKS HOSPITAL\",\"SHRINERS FOR CHILDREN AMBULATORY SURGICAL CENTER\",\"SHRINERS HOSPITAL PHARMACY\",\"SIERRA NEVADA MEMORIAL HOSPITAL\",\"SIERRA VIEW DISTRICT HOSPITAL\",\"SIERRA VIEW MEDICAL CENTER-CANCER TREATMENT CENTER SUITE B\",\"SIERRA VISTA HOSPITAL INC\",\"SKILLED NURSING PHARMACY\",\"SKILLED NURSING PHARMACY\",\"SKILLED NURSING PHARMACY\",\"SOLEO HEALTH INC\",\"SONOMA SPECIALTY PHARMACY\",\"SONOMA VALLEY HOSPITAL PHARMACY\",\"SOUTH COAST GLOBAL MEDICAL CENTER INC\",\"SOUTHERN CALIFORNIA HOSPITAL AT CULVER CITY\",\"SOUTHERN CALIFORNIA HOSPITAL AT HOLLYWOOD PHARMACY\",\"SOUTHWEST HEALTHCARE RANCHO SPRINGS HOSPITAL\",\"ST BERNARDINE MEDICAL CENTER\",\"ST ELIZABETH COMMUNITY HOSPITAL PHARMACY CLEAN ROOM\",\"ST HELENA HOSPITAL CLEAR LAKE HOSPITAL PHARMACY\",\"ST JOHN'S HOSPITAL CAMARILLO\",\"ST JOSEPH HEALTH OUTPATIENT CANCER CENTER PHARMACY FOUNTAINGROVE\",\"ST JOSEPHS MEDICAL CENTER OF STOCKTON\",\"ST JOSEPHS MEDICAL CENTER STOCKTON\",\"ST MARY MEDICAL CENTER BASEMENT PHARMACY\",\"ST MARY MEDICAL CENTER DBA PROVIDENCE ST MARY MEDICAL CENTER\",\"ST ROSE HOSPITAL PHARMACY\",\"ST. JOHN'S REGIONAL MEDICAL CENTER\",\"ST. JUDE MEDICAL CENTER PHARMACY\",\"ST. JUDE MEDICAL CENTER PHARMACY\",\"ST. JUDE MEDICAL CENTER PHARMACY\",\"ST. JUDE MEDICAL CENTER PHARMACY\",\"ST. MARYS MEDICAL CENTER LEVEL C\",\"STANFORD EMERYVILLE HEALTH CENTER PHARMACY\",\"STANFORD HEALTH CARE\",\"STANFORD HEALTH CARE\",\"STANFORD HEALTH CARE\",\"STANFORD HEALTH CARE - REDWOOD CITY\",\"STANFORD HEALTH CARE - REDWOOD CITY (PAV D)\",\"STANFORD HEALTH CARE - VALLEYCARE\",\"STANFORD HEALTH CARE 500P PHARMACY\",\"STANFORD HEALTH CARE- SAMARITAN PHARMACY\",\"STANFORD HEALTH SOUTH BAY CANCER CENTER PHARMACY\",\"STANFORD NEUROSCIENCE HEALTH CENTER PHARMACY\",\"STOCKTON REGIONAL REHABILITATION HOSPITAL\",\"SUTTER AMADOR HOSPITAL INPATIENT PHARMACY\",\"SUTTER AUBURN FAITH HOSPITAL PHARMACY\",\"SUTTER BAY HOSPITALS DBA PACIFIC HEIGHTS OUTPATIENT PHARMACY\",\"SUTTER BAY HOSPITALS DBA SUTTER MATERNITY & SURGERY CENTER OF SAN\",\"SUTTER DAVIS HOSPITAL INPATIENT PHARMACY\",\"SUTTER DELTA MEDICAL CENTER HOSPITAL PHARMACY\",\"SUTTER LAKESIDE PHARMACY\",\"SUTTER MEDICAL CENTER SACRAMENTO\",\"SUTTER ROSEVILLE MEDICAL CENTER FIRST FLOOR PHARMACY\",\"SUTTER SANTA ROSA REGIONAL HOSPITAL PHARMACY\",\"SUTTER SOLANO MEDICAL CENTER INPATIENT PHARMACY - 1ST FLOOR - ROO\",\"SUTTER SURGICAL HOSPITAL - NORTH VALLEY\",\"SUTTER TRACY COMMUNITY HOSPITAL INPATIENT PHARMACY\",\"TAHOE FOREST HOSPITAL PHARMACY\",\"TEMECULA VALLEY HOSPITAL\",\"THE JOHN M & SALLY B THORNTON HOSPITAL\",\"TODD CANCER PAVILION PHARMACY\",\"TORRANCE MEMORIAL MEDICAL CENTER 2ND FLOOR PHARMACY SATELLITE ROO\",\"TORRANCE MEMORIAL MEDICAL CENTER INPATIENT PHARMACY BASEMENT CLEA\",\"TRI-CITY HOSPITAL\",\"TWIN CITIES COMMUNITY HOSPITAL PHARMACY\",\"TWIN TOWERS CORRECTIONAL FACILITY\",\"U.C. DAVIS MEDICAL CENTER ROOM 0711D\",\"UC DAVIS HEALTH AT HOME\",\"UC DAVIS MEDICAL CENTER\",\"UC DAVIS MEDICAL CENTER PLACER CENTER FOR HEALTH PHARMACY\",\"UC IRVINE HEALTH CANCER CENTER - NEWPORT\",\"UC SAN DIEGO HEALTH EAST CAMPUS\",\"UCI HEALTH - FOUNTAIN VALLEY HOSPITAL PHARMACY\",\"UCI HEALTH - LAGUNA HILLS PHARMACY\",\"UCI HEALTH - LAKEWOOD HOSPITAL PHARMACY\",\"UCI HEALTH - LIVING CARE CENTER PHARMACY\",\"UCI HEALTH - LOS ALAMITOS HOSPITAL PHARMACY\",\"UCI HEALTH - PLACENTIA-LINDA HOSPITAL PHARMACY\",\"UCI HEALTH - SUSAN SAMUELI INTEGRATIVE HEALTH INSTITUTE PHARMACY\",\"UCLA MED CTR CHS OUTPATIENT PHARMACY\",\"UCLA WEST VALLEY MEDICAL CENTER\",\"UCSD HEALTH LA JOLLA JACOBS MED CTR & SULPIZIO CARDIOVASCULAR CTR\",\"UCSD MEDICAL CENTER PHARMACY FIRST FLOOR, CENTRAL PHARMACY AREA,\",\"UCSD MEDICAL CENTER PHARMACY SECOND FLOOR\",\"UCSD OUTPATIENT PAVILION PHARMACY\",\"UCSD-ALTMAN CLINICAL TRANSLATIONAL RESEARCH INSTITUTE - RESEARCH\",\"UCSF HEALTH - SAINT FRANCIS HOSPITAL\",\"UCSF MEDICAL CENTER (MISSION BAY)\",\"UCSF MEDICAL CENTER BENIOFF\",\"UCSF MEDICAL CENTER BENIOFF 2ND FLR RM C2700 OR SATELLITE\",\"UCSF MEDICAL CENTER BENIOFF 4TH FLR RM C4411 MAIN PHARMACY\",\"UCSF MEDICAL CENTER BENIOFF6TH FLR RM C6984 INVESTIGATIONAL\",\"UCSF MEDICAL CENTER WEILL BUILDING\",\"UCSF OUTPATIENT PHARMACY AT MISSION BAY\",\"UCSF PHARMACY CANCER CENTER BERKELEY\",\"UNIVERSITY OF CALIFORNIA IRVINE MEDICAL CENTER BLDG 23, 2ND FLOOR\",\"USC ARCADIA HOSPITAL\",\"USC KENNETH NORRIS JR CANCER HOSPITAL\",\"USC NORRIS CANCER HOSPITAL - PASADENA TREATMENT CENTER\",\"USC NORRIS CANCER HOSPITAL - SANTA CLARITA TREATMENT CENTER\",\"USC VERDUGO HILLS HOSPITAL\",\"VALLEY CHILDREN'S HOSPITAL\",\"VALLEY CHILDREN'S HOSPITAL\",\"VALLEY CHILDREN'S HOSPITAL\",\"VALLEY CHILDREN'S HOSPITAL\",\"VALLEY CHILDRENS HOSPITAL - PCUN 2ND FLOOR ICU-NORTH\",\"VALLEY PRESBYTERIAN HOSPITAL PHARMACY-PHARMACY HOSPITAL BASEMENT\",\"VALLEYCARE MEDICAL CENTER PHARMACY\",\"VALLEYCARE MEDICAL CENTER PHARMACY\",\"VENTURA COUNTY MEDICAL CENTER\",\"VIBRA HOSPITAL OF NORTHERN CALIFORNIA\",\"VIBRA HOSPITAL OF SACRAMENTO PHARMACY IV ROOM\",\"VIBRA HOSPITAL OF SAN BERNARDINO LLC\",\"VICTOR VALLEY GLOBAL MEDICAL CENTER\",\"WASHINGTON HOSPITAL PHARMACY\",\"WATSONVILLE COMMUNITY HOSPITAL PHARMACY\",\"WEST ANAHEIM MEDICAL CENTER\",\"WHITE MEMORIAL MEDICAL CENTER DBA ADVENTIST HEALTH WHITE MEMORIAL\",\"WHITTIER HOSPITAL MEDICAL CENTER\",\"WOODLAND MEMORIAL HOSPITAL STERILE COMPOUNDING SUITE\"],\"lat\":[35.384336,39.223939,39.223939,35.384336,35.779507,34.160359,36.29223,39.492842,38.114388,39.487185,34.258405,34.258405,37.984549,37.984549,35.621087,38.542448,38.542448,35.118772,36.178091,39.135023,34.015444,33.844983,37.681264,37.773793,34.090728,34.090728,37.865183,37.834403,34.713292,34.02452,35.384336,35.384336,35.468183,40.551757,34.080017,34.980294,38.869825,34.232796,34.141586,34.0712,37.769436,34.039378,34.057597,39.771649,40.817097,37.344482,39.898613,37.916555,40.601778,34.195685,33.867257,34.02452,36.834289,33.881158,32.774046,38.605407,34.083086,33.976582,34.072924,34.072924,34.072924,34.072924,34.072924,34.072924,34.072924,34.064958,34.064958,33.956526,37.639029,34.127194,33.80845,32.806794,32.806794,37.834403,33.788145,33.788145,33.788145,33.788145,34.127194,33.788145,34.127194,34.127194,34.127194,34.127194,33.805401,37.804531,34.004468,33.840451,34.141586,34.141586,34.141586,34.141586,34.141586,33.666942,33.67901,33.840398,34.105282,36.825296,36.825296,36.825296,36.197785,33.906956,33.647763,33.805401,33.979248,34.122501,36.57469,34.283668,38.408571,37.993892,37.993892,35.23575,33.840451,37.750021,37.795388,37.795388,33.933565,37.605905,32.999818,33.970847,37.952452,33.860925,33.860925,33.641767,34.501472,34.480247,40.527834,37.830267,33.882579,37.671978,37.031475,33.805401,34.022502,37.714509,33.768584,33.768584,34.185894,37.216953,37.380566,37.216953,37.380566,37.380566,37.216953,32.770197,32.770197,32.770197,34.156529,34.084747,34.066964,34.066964,34.066964,34.066964,37.528476,37.528476,34.149588,35.342891,39.745628,39.745628,41.756147,33.734005,35.23575,36.732891,36.732891,36.732891,36.862209,36.822349,33.763905,34.052922,34.136194,39.491654,32.777999,34.449185,37.256765,35.621087,34.046243,32.777999,33.864617,36.902045,38.622985,33.667301,34.439855,34.168333,37.80432,37.80432,33.666942,33.623208,33.723228,34.13946,34.13946,33.617844,33.710984,37.899936,37.995285,37.899936,37.899936,38.022366,38.022366,36.862209,37.952844,37.952844,37.501368,37.501368,37.889098,37.87195,37.87195,38.474099,37.230327,37.785969,37.785969,38.503685,38.503685,37.65549,38.18735,38.18735,37.743039,33.921793,33.921793,37.718023,37.965765,38.408571,38.408571,38.503685,36.976175,36.976175,36.976175,38.030177,33.799904,34.09741,34.09741,34.030578,33.799904,34.127194,33.936193,33.921793,37.82935,33.117154,38.666597,33.83796,33.666942,37.493297,33.889702,38.591897,37.230327,34.035602,38.604268,32.806794,37.718023,37.713275,37.713275,32.794714,34.085972,34.085972,34.177311,33.936193,34.222506,37.785969,38.741074,38.741074,37.715245,37.82935,33.117154,33.936193,37.965765,38.741074,38.030177,37.718023,33.765401,33.887821,34.085972,37.230327,34.127194,37.501368,37.493297,38.408571,34.127194,33.799904,34.085972,34.035602,37.863914,32.794714,34.222506,34.222506,34.713292,34.439855,34.030578,33.83796,33.666942,33.788145,38.022366,34.177311,37.34864,37.889098,33.580016,33.889702,34.09741,38.474099,35.384336,35.384336,34.283668,37.713275,38.580568,34.049809,32.794714,36.391777,36.391777,34.136258,34.05038,34.05038,34.05038,34.05038,33.623208,37.945512,37.769436,35.468183,35.617546,34.09741,33.927561,33.902045,33.988047,34.074087,33.898883,34.10097,33.828396,32.741501,37.713275,34.061624,33.765301,33.890853,32.856347,33.850616,33.850616,33.833181,33.833181,33.833181,33.833181,34.051177,34.051177,34.051177,34.051177,34.051177,34.083458,34.051177,34.051177,34.051177,34.051177,34.051177,34.051177,33.580016,34.011953,34.595669,34.595669,33.805401,33.906956,34.022502,34.713656,34.05038,34.05038,34.05038,34.05038,34.05038,34.212805,37.457524,37.374707,37.374707,37.374707,37.374707,33.833181,40.855694,36.918079,37.548799,40.496619,34.923013,35.176043,37.945512,37.945512,38.189115,38.734925,33.926262,33.926262,41.006417,37.068068,33.890853,37.672906,33.746707,38.569828,35.384336,38.666597,37.345785,41.314337,40.601778,38.62415,35.192404,38.474099,37.554269,37.576948,37.57028,34.222506,34.1528,34.072329,34.052922,34.051177,34.259971,36.722714,33.201242,38.280745,38.333133,37.492115,34.237519,34.237519,38.134068,37.315977,37.787236,34.530199,34.326584,33.710582,33.765639,39.47536,38.791075,34.230854,34.604105,33.736458,33.0824,33.102005,32.670646,32.670646,37.750021,39.82883,38.235014,33.940445,34.052913,34.052913,34.052913,33.972782,33.972782,32.990121,32.990121,34.083086,34.083086,33.923533,34.155097,34.265879,34.265879,33.74212,33.840398,33.611945,33.611945,33.57093,34.026608,38.442011,40.578828,34.026608,34.026608,34.026608,34.173885,40.798659,33.788145,33.788145,32.806794,33.921793,34.011953,37.350421,33.768584,35.606509,33.765401,33.99504,34.0712,34.0712,33.889702,38.635653,33.591304,36.862209,36.862209,36.862209,36.862209,36.862209,36.862209,37.018419,36.636344,34.105282,34.110186,34.110186,34.090776,33.948948,37.873793,37.873793,36.862209,37.706137,37.538449,37.75512,34.533222,37.315977,34.402343,34.624395,32.899592,33.056022,32.856347,33.056022,32.856347,32.856347,32.637868,32.747415,32.747415,32.747415,37.413691,36.391777,32.806794,32.608185,32.699234,32.777999,32.806794,32.806794,40.601778,34.147149,34.13946,38.550547,39.196387,35.860883,35.988087,35.296958,37.605905,33.999005,32.88607,37.605905,38.398815,38.249428,33.721131,34.019323,34.099912,33.547613,34.177083,40.18189,38.973012,34.227892,38.503685,37.973736,37.973736,33.782259,34.571218,37.605905,34.205247,33.901886,33.901886,33.901886,33.901886,37.769436,37.836844,37.418256,37.374707,37.493297,37.493297,37.493297,37.792682,37.418256,37.256765,37.256765,37.374707,37.959736,38.343033,38.99003,37.785969,37.031475,38.554133,37.996501,39.045931,38.571577,38.741074,38.503685,38.18735,38.994187,37.737191,39.313089,33.511228,32.856347,33.805401,33.807882,33.807882,33.201242,35.538809,34.065975,38.550547,38.534879,38.550547,38.815548,33.647763,32.794714,33.710582,33.591304,33.849034,33.710582,33.795012,33.881158,33.642512,34.0712,34.200834,32.856347,32.747415,32.747415,32.856347,32.856347,37.795388,37.768106,37.768106,37.768106,37.768106,37.768106,37.768106,37.768106,37.865777,33.788145,34.128284,34.05038,34.13946,34.439855,34.185666,36.984885,36.751519,36.984885,36.984885,36.984885,34.199824,37.792682,37.792682,34.283668,40.601778,38.666597,34.122501,34.501472,37.501368,36.946256,33.818246,34.05038,33.950295,38.687045],\"legendgroup\":\"Medical Facility\",\"lon\":[-119.020562,-121.49405,-121.49405,-119.020562,-119.200825,-118.213769,-119.622676,-123.340973,-121.144658,-123.741963,-118.775026,-118.775026,-120.349264,-120.349264,-118.789677,-122.419923,-122.419923,-118.493811,-119.370752,-123.259338,-118.111012,-117.952151,-122.480589,-122.278115,-118.127527,-118.127527,-122.238209,-122.264368,-118.15292,-117.289255,-119.020562,-119.020562,-118.779649,-120.675673,-118.262643,-116.964449,-120.008594,-116.902863,-117.957627,-118.443523,-122.447662,-118.2663,-118.413998,-104.882471,-74.085024,-121.883535,-86.233341,-122.341233,-122.454973,-118.490752,-118.330794,-117.289255,-119.83335,-117.854783,-117.142454,-121.447593,-117.737997,-118.455222,-118.37271,-118.37271,-118.37271,-118.37271,-118.37271,-118.37271,-118.37271,-118.382979,-118.382979,-118.358654,-120.964772,-118.295647,-117.791737,-117.13493,-117.13493,-122.264368,-117.87655,-117.87655,-117.87655,-117.87655,-118.295647,-117.87655,-118.295647,-118.295647,-118.295647,-118.295647,-118.187701,-122.410852,-117.684697,-117.601961,-117.957627,-117.957627,-117.957627,-117.957627,-117.957627,-117.732094,-118.014603,-118.353715,-117.662035,-119.68019,-119.68019,-119.68019,-120.422249,-118.08264,-117.919761,-118.187701,-118.217438,-117.320138,-121.840854,-119.223196,-122.022775,-122.136441,-122.136441,-120.615973,-117.601961,-122.415201,-122.422453,-122.422453,-118.062611,-122.126873,-117.071808,-117.32512,-121.329655,-116.566176,-116.566176,-116.273943,-117.292048,-117.408184,-122.318749,-121.20102,-117.442303,-121.007405,-121.98334,-118.187701,-118.199613,-122.079542,-116.429988,-116.429988,-116.432416,-121.926555,-122.085293,-121.926555,-122.085293,-122.085293,-121.926555,-115.59859,-115.59859,-115.59859,-117.841605,-117.886844,-117.937007,-117.937007,-117.937007,-117.937007,-120.853313,-120.853313,-118.489708,-119.064803,-121.843834,-121.843834,-122.659466,-117.819163,-120.615973,-119.783739,-119.783739,-119.783739,-119.760793,-119.760243,-117.931382,-118.143465,-118.260934,-122.26208,-117.021511,-119.804782,-121.922762,-118.789677,-118.053748,-117.021511,-118.180567,-121.350783,-122.889121,-116.963506,-118.644401,-116.288431,-122.207545,-122.207545,-117.732094,-117.933903,-118.008692,-118.166649,-118.166649,-117.259304,-116.204844,-121.999244,-122.040627,-121.999244,-121.999244,-122.555605,-122.555605,-119.760793,-122.381974,-122.381974,-121.956753,-121.956753,-122.037553,-122.069383,-122.069383,-121.443454,-121.785227,-122.437253,-122.437253,-122.754057,-122.754057,-122.422075,-122.224074,-122.224074,-121.23838,-118.140588,-118.140588,-121.032714,-121.775818,-122.022775,-122.022775,-122.754057,-121.95316,-121.95316,-121.95316,-121.297912,-118.298661,-117.968269,-117.968269,-118.399613,-118.298661,-118.295647,-117.493881,-118.140588,-122.203507,-117.180627,-121.141635,-117.870494,-117.732094,-122.195535,-117.113427,-121.408467,-121.785227,-117.591528,-121.280327,-117.13493,-121.032714,-122.16735,-122.16735,-117.071764,-117.464597,-117.464597,-118.615704,-117.493881,-118.444689,-122.437253,-121.247693,-121.247693,-121.9147,-122.203507,-117.180627,-117.493881,-121.775818,-121.247693,-121.297912,-121.032714,-116.334205,-118.12725,-117.464597,-121.785227,-118.295647,-121.956753,-122.195535,-122.022775,-118.295647,-118.298661,-117.464597,-117.591528,-122.306465,-117.071764,-118.444689,-118.444689,-118.15292,-118.644401,-118.399613,-117.870494,-117.732094,-117.87655,-122.555605,-118.615704,-121.984373,-122.037553,-117.14736,-117.113427,-117.968269,-121.443454,-119.020562,-119.020562,-119.223196,-122.16735,-121.49559,-117.470613,-117.071764,-119.372842,-119.372842,-118.026704,-118.211991,-118.211991,-118.211991,-118.211991,-117.933903,-122.56012,-122.447662,-118.779649,-118.452285,-117.968269,-117.887086,-118.008961,-118.370361,-117.605618,-118.166629,-117.57882,-117.20766,-117.127948,-122.16735,-117.892235,-117.881976,-118.297967,-117.250058,-118.039565,-118.039565,-118.292062,-118.292062,-118.292062,-118.292062,-117.248563,-117.248563,-117.248563,-117.248563,-117.248563,-117.270016,-117.248563,-117.248563,-117.248563,-117.248563,-117.248563,-117.248563,-117.14736,-117.159699,-120.352667,-120.352667,-118.187701,-118.08264,-118.199613,-117.86466,-118.211991,-118.211991,-118.211991,-118.211991,-118.211991,-118.882179,-122.176542,-122.181698,-122.181698,-122.181698,-122.181698,-118.292062,-124.066898,-120.185933,-118.839818,-74.532009,-120.259463,-120.476694,-122.56012,-122.56012,-120.638708,-120.789952,-118.249883,-118.249883,-121.480741,-120.843579,-118.297967,-120.946594,-117.172142,-121.440067,-119.020562,-121.141635,-120.42415,-122.380798,-122.454973,-121.324911,-119.175866,-121.443454,-120.951523,-122.316903,-122.365778,-118.444689,-118.000482,-117.698315,-118.143465,-117.248563,-117.199381,-121.633649,-117.296984,-122.00638,-121.920151,-118.390408,-118.517712,-118.517712,-122.52719,-121.936319,-120.759202,-119.310133,-118.382261,-117.951129,-117.790075,-121.41411,-121.234854,-118.365856,-118.239213,-114.687973,-117.127641,-117.080419,-117.094668,-117.094668,-122.415201,-75.435069,-122.557332,-118.129022,-118.26434,-118.26434,-118.26434,-118.022066,-118.022066,-115.358757,-115.358757,-117.737997,-117.737997,-118.200705,-118.547553,-118.456748,-118.456748,-118.312878,-118.353715,-117.665867,-117.665867,-117.773042,-118.473643,-122.23832,-124.136869,-118.473643,-118.473643,-118.473643,-118.346937,-124.151583,-117.87655,-117.87655,-117.13493,-118.140588,-117.159699,-121.852585,-116.429988,-117.683472,-116.334205,-117.373184,-118.443523,-118.443523,-117.113427,-121.518416,-117.697512,-119.760793,-119.760793,-119.760793,-119.760793,-119.760793,-119.760793,-121.554249,-121.623978,-117.662035,-117.81039,-117.81039,-118.095091,-116.832362,-121.290146,-121.290146,-119.760793,-122.12555,-122.305447,-121.972699,-119.791731,-121.936319,-119.094824,-120.137875,-117.201203,-117.2599,-117.250058,-117.2599,-117.250058,-117.250058,-117.058031,-117.166883,-117.166883,-117.166883,-122.295343,-119.372842,-117.13493,-117.054512,-117.209642,-117.021511,-117.13493,-117.13493,-122.454973,-118.463365,-118.166649,-121.456373,-120.972289,-119.03614,-118.860221,-120.733134,-122.126873,-117.972146,-117.085982,-122.126873,-122.861923,-122.466627,-117.90511,-118.391902,-118.326912,-117.34404,-117.254763,-122.377104,-122.623922,-119.079552,-122.754057,-121.319246,-121.319246,-118.196793,-117.133073,-122.126873,-119.174092,-117.916639,-117.916639,-117.916639,-117.916639,-122.447662,-122.289143,-122.170871,-122.181698,-122.195535,-122.195535,-122.195535,-121.86059,-122.170871,-121.922762,-121.922762,-122.181698,-121.288287,-120.760921,-121.114408,-122.437253,-121.98334,-121.798467,-121.812301,-122.941077,-121.466465,-121.247693,-122.754057,-122.224074,-121.594591,-121.433384,-120.207783,-117.042396,-117.250058,-118.187701,-118.347957,-118.347957,-117.296984,-120.739893,-118.238642,-121.456373,-121.444372,-121.456373,-121.280172,-117.919761,-117.071764,-117.951129,-117.697512,-118.147902,-117.951129,-118.062692,-117.854783,-117.841688,-118.443523,-118.6649,-117.250058,-117.166883,-117.166883,-117.250058,-117.250058,-122.422453,-122.386927,-122.386927,-122.386927,-122.386927,-122.386927,-122.386927,-122.386927,-122.286321,-117.87655,-118.047732,-118.211991,-118.166649,-118.644401,-118.239494,-119.873914,-119.680602,-119.873914,-119.873914,-119.873914,-118.447609,-121.86059,-121.86059,-119.223196,-122.454973,-121.141635,-117.320138,-117.292048,-121.956753,-121.756479,-117.974985,-118.211991,-118.024352,-121.857077],\"marker\":{\"color\":\"#2CA02C\"},\"mode\":\"markers\",\"name\":\"Medical Facility\",\"showlegend\":true,\"subplot\":\"mapbox\",\"type\":\"scattermapbox\"},{\"hovertemplate\":\"\\u003cb\\u003e%{hovertext}\\u003c\\u002fb\\u003e\\u003cbr\\u003e\\u003cbr\\u003eFacility Type=Veterinary Only\\u003cbr\\u003eLAT=%{lat}\\u003cbr\\u003eLONG=%{lon}\\u003cextra\\u003e\\u003c\\u002fextra\\u003e\",\"hovertext\":[\"BCP VETERINARY PHARMACY\",\"COVETRUS NORTH AMERICA, LLC\",\"PETNET PHARMACEUTICAL\",\"PETNET PHARMACEUTICAL\",\"PETNET PHARMACEUTICAL\",\"PETNET PHARMACEUTICAL\",\"SPECIALTY VETERINARY PHARMACY\",\"WEDGEWOOD PHARMACY LLC\",\"WEDGEWOOD PHARMACY LLC\",\"WEDGEWOOD PHARMACY LLC\",\"WEDGEWOOD PHARMACY LLC\"],\"lat\":[29.749778,33.635109,38.571577,33.997862,34.051177,37.605905,29.624261,38.14029,35.192404,39.761129,33.493513],\"legendgroup\":\"Veterinary Only\",\"lon\":[-95.345885,-112.093768,-121.466465,-118.393617,-117.248563,-122.126873,-95.568033,-84.46161,-119.175866,-75.32406,-111.919239],\"marker\":{\"color\":\"#D62728\"},\"mode\":\"markers\",\"name\":\"Veterinary Only\",\"showlegend\":true,\"subplot\":\"mapbox\",\"type\":\"scattermapbox\"},{\"hovertemplate\":\"\\u003cb\\u003e%{hovertext}\\u003c\\u002fb\\u003e\\u003cbr\\u003e\\u003cbr\\u003eFacility Type=Research Center\\u003cbr\\u003eLAT=%{lat}\\u003cbr\\u003eLONG=%{lon}\\u003cextra\\u003e\\u003c\\u002fextra\\u003e\",\"hovertext\":[\"UCSD RESEARCH PHARMACY\"],\"lat\":[32.747415],\"legendgroup\":\"Research Center\",\"lon\":[-117.166883],\"marker\":{\"color\":\"#9467BD\"},\"mode\":\"markers\",\"name\":\"Research Center\",\"showlegend\":true,\"subplot\":\"mapbox\",\"type\":\"scattermapbox\"}],                        {\"template\":{\"data\":{\"barpolar\":[{\"marker\":{\"line\":{\"color\":\"white\",\"width\":0.5},\"pattern\":{\"fillmode\":\"overlay\",\"size\":10,\"solidity\":0.2}},\"type\":\"barpolar\"}],\"bar\":[{\"error_x\":{\"color\":\"rgb(36,36,36)\"},\"error_y\":{\"color\":\"rgb(36,36,36)\"},\"marker\":{\"line\":{\"color\":\"white\",\"width\":0.5},\"pattern\":{\"fillmode\":\"overlay\",\"size\":10,\"solidity\":0.2}},\"type\":\"bar\"}],\"carpet\":[{\"aaxis\":{\"endlinecolor\":\"rgb(36,36,36)\",\"gridcolor\":\"white\",\"linecolor\":\"white\",\"minorgridcolor\":\"white\",\"startlinecolor\":\"rgb(36,36,36)\"},\"baxis\":{\"endlinecolor\":\"rgb(36,36,36)\",\"gridcolor\":\"white\",\"linecolor\":\"white\",\"minorgridcolor\":\"white\",\"startlinecolor\":\"rgb(36,36,36)\"},\"type\":\"carpet\"}],\"choropleth\":[{\"colorbar\":{\"outlinewidth\":1,\"tickcolor\":\"rgb(36,36,36)\",\"ticks\":\"outside\"},\"type\":\"choropleth\"}],\"contourcarpet\":[{\"colorbar\":{\"outlinewidth\":1,\"tickcolor\":\"rgb(36,36,36)\",\"ticks\":\"outside\"},\"type\":\"contourcarpet\"}],\"contour\":[{\"colorbar\":{\"outlinewidth\":1,\"tickcolor\":\"rgb(36,36,36)\",\"ticks\":\"outside\"},\"colorscale\":[[0.0,\"#440154\"],[0.1111111111111111,\"#482878\"],[0.2222222222222222,\"#3e4989\"],[0.3333333333333333,\"#31688e\"],[0.4444444444444444,\"#26828e\"],[0.5555555555555556,\"#1f9e89\"],[0.6666666666666666,\"#35b779\"],[0.7777777777777778,\"#6ece58\"],[0.8888888888888888,\"#b5de2b\"],[1.0,\"#fde725\"]],\"type\":\"contour\"}],\"heatmapgl\":[{\"colorbar\":{\"outlinewidth\":1,\"tickcolor\":\"rgb(36,36,36)\",\"ticks\":\"outside\"},\"colorscale\":[[0.0,\"#440154\"],[0.1111111111111111,\"#482878\"],[0.2222222222222222,\"#3e4989\"],[0.3333333333333333,\"#31688e\"],[0.4444444444444444,\"#26828e\"],[0.5555555555555556,\"#1f9e89\"],[0.6666666666666666,\"#35b779\"],[0.7777777777777778,\"#6ece58\"],[0.8888888888888888,\"#b5de2b\"],[1.0,\"#fde725\"]],\"type\":\"heatmapgl\"}],\"heatmap\":[{\"colorbar\":{\"outlinewidth\":1,\"tickcolor\":\"rgb(36,36,36)\",\"ticks\":\"outside\"},\"colorscale\":[[0.0,\"#440154\"],[0.1111111111111111,\"#482878\"],[0.2222222222222222,\"#3e4989\"],[0.3333333333333333,\"#31688e\"],[0.4444444444444444,\"#26828e\"],[0.5555555555555556,\"#1f9e89\"],[0.6666666666666666,\"#35b779\"],[0.7777777777777778,\"#6ece58\"],[0.8888888888888888,\"#b5de2b\"],[1.0,\"#fde725\"]],\"type\":\"heatmap\"}],\"histogram2dcontour\":[{\"colorbar\":{\"outlinewidth\":1,\"tickcolor\":\"rgb(36,36,36)\",\"ticks\":\"outside\"},\"colorscale\":[[0.0,\"#440154\"],[0.1111111111111111,\"#482878\"],[0.2222222222222222,\"#3e4989\"],[0.3333333333333333,\"#31688e\"],[0.4444444444444444,\"#26828e\"],[0.5555555555555556,\"#1f9e89\"],[0.6666666666666666,\"#35b779\"],[0.7777777777777778,\"#6ece58\"],[0.8888888888888888,\"#b5de2b\"],[1.0,\"#fde725\"]],\"type\":\"histogram2dcontour\"}],\"histogram2d\":[{\"colorbar\":{\"outlinewidth\":1,\"tickcolor\":\"rgb(36,36,36)\",\"ticks\":\"outside\"},\"colorscale\":[[0.0,\"#440154\"],[0.1111111111111111,\"#482878\"],[0.2222222222222222,\"#3e4989\"],[0.3333333333333333,\"#31688e\"],[0.4444444444444444,\"#26828e\"],[0.5555555555555556,\"#1f9e89\"],[0.6666666666666666,\"#35b779\"],[0.7777777777777778,\"#6ece58\"],[0.8888888888888888,\"#b5de2b\"],[1.0,\"#fde725\"]],\"type\":\"histogram2d\"}],\"histogram\":[{\"marker\":{\"line\":{\"color\":\"white\",\"width\":0.6}},\"type\":\"histogram\"}],\"mesh3d\":[{\"colorbar\":{\"outlinewidth\":1,\"tickcolor\":\"rgb(36,36,36)\",\"ticks\":\"outside\"},\"type\":\"mesh3d\"}],\"parcoords\":[{\"line\":{\"colorbar\":{\"outlinewidth\":1,\"tickcolor\":\"rgb(36,36,36)\",\"ticks\":\"outside\"}},\"type\":\"parcoords\"}],\"pie\":[{\"automargin\":true,\"type\":\"pie\"}],\"scatter3d\":[{\"line\":{\"colorbar\":{\"outlinewidth\":1,\"tickcolor\":\"rgb(36,36,36)\",\"ticks\":\"outside\"}},\"marker\":{\"colorbar\":{\"outlinewidth\":1,\"tickcolor\":\"rgb(36,36,36)\",\"ticks\":\"outside\"}},\"type\":\"scatter3d\"}],\"scattercarpet\":[{\"marker\":{\"colorbar\":{\"outlinewidth\":1,\"tickcolor\":\"rgb(36,36,36)\",\"ticks\":\"outside\"}},\"type\":\"scattercarpet\"}],\"scattergeo\":[{\"marker\":{\"colorbar\":{\"outlinewidth\":1,\"tickcolor\":\"rgb(36,36,36)\",\"ticks\":\"outside\"}},\"type\":\"scattergeo\"}],\"scattergl\":[{\"marker\":{\"colorbar\":{\"outlinewidth\":1,\"tickcolor\":\"rgb(36,36,36)\",\"ticks\":\"outside\"}},\"type\":\"scattergl\"}],\"scattermapbox\":[{\"marker\":{\"colorbar\":{\"outlinewidth\":1,\"tickcolor\":\"rgb(36,36,36)\",\"ticks\":\"outside\"}},\"type\":\"scattermapbox\"}],\"scatterpolargl\":[{\"marker\":{\"colorbar\":{\"outlinewidth\":1,\"tickcolor\":\"rgb(36,36,36)\",\"ticks\":\"outside\"}},\"type\":\"scatterpolargl\"}],\"scatterpolar\":[{\"marker\":{\"colorbar\":{\"outlinewidth\":1,\"tickcolor\":\"rgb(36,36,36)\",\"ticks\":\"outside\"}},\"type\":\"scatterpolar\"}],\"scatter\":[{\"fillpattern\":{\"fillmode\":\"overlay\",\"size\":10,\"solidity\":0.2},\"type\":\"scatter\"}],\"scatterternary\":[{\"marker\":{\"colorbar\":{\"outlinewidth\":1,\"tickcolor\":\"rgb(36,36,36)\",\"ticks\":\"outside\"}},\"type\":\"scatterternary\"}],\"surface\":[{\"colorbar\":{\"outlinewidth\":1,\"tickcolor\":\"rgb(36,36,36)\",\"ticks\":\"outside\"},\"colorscale\":[[0.0,\"#440154\"],[0.1111111111111111,\"#482878\"],[0.2222222222222222,\"#3e4989\"],[0.3333333333333333,\"#31688e\"],[0.4444444444444444,\"#26828e\"],[0.5555555555555556,\"#1f9e89\"],[0.6666666666666666,\"#35b779\"],[0.7777777777777778,\"#6ece58\"],[0.8888888888888888,\"#b5de2b\"],[1.0,\"#fde725\"]],\"type\":\"surface\"}],\"table\":[{\"cells\":{\"fill\":{\"color\":\"rgb(237,237,237)\"},\"line\":{\"color\":\"white\"}},\"header\":{\"fill\":{\"color\":\"rgb(217,217,217)\"},\"line\":{\"color\":\"white\"}},\"type\":\"table\"}]},\"layout\":{\"annotationdefaults\":{\"arrowhead\":0,\"arrowwidth\":1},\"autotypenumbers\":\"strict\",\"coloraxis\":{\"colorbar\":{\"outlinewidth\":1,\"tickcolor\":\"rgb(36,36,36)\",\"ticks\":\"outside\"}},\"colorscale\":{\"diverging\":[[0.0,\"rgb(103,0,31)\"],[0.1,\"rgb(178,24,43)\"],[0.2,\"rgb(214,96,77)\"],[0.3,\"rgb(244,165,130)\"],[0.4,\"rgb(253,219,199)\"],[0.5,\"rgb(247,247,247)\"],[0.6,\"rgb(209,229,240)\"],[0.7,\"rgb(146,197,222)\"],[0.8,\"rgb(67,147,195)\"],[0.9,\"rgb(33,102,172)\"],[1.0,\"rgb(5,48,97)\"]],\"sequential\":[[0.0,\"#440154\"],[0.1111111111111111,\"#482878\"],[0.2222222222222222,\"#3e4989\"],[0.3333333333333333,\"#31688e\"],[0.4444444444444444,\"#26828e\"],[0.5555555555555556,\"#1f9e89\"],[0.6666666666666666,\"#35b779\"],[0.7777777777777778,\"#6ece58\"],[0.8888888888888888,\"#b5de2b\"],[1.0,\"#fde725\"]],\"sequentialminus\":[[0.0,\"#440154\"],[0.1111111111111111,\"#482878\"],[0.2222222222222222,\"#3e4989\"],[0.3333333333333333,\"#31688e\"],[0.4444444444444444,\"#26828e\"],[0.5555555555555556,\"#1f9e89\"],[0.6666666666666666,\"#35b779\"],[0.7777777777777778,\"#6ece58\"],[0.8888888888888888,\"#b5de2b\"],[1.0,\"#fde725\"]]},\"colorway\":[\"#1F77B4\",\"#FF7F0E\",\"#2CA02C\",\"#D62728\",\"#9467BD\",\"#8C564B\",\"#E377C2\",\"#7F7F7F\",\"#BCBD22\",\"#17BECF\"],\"font\":{\"color\":\"rgb(36,36,36)\"},\"geo\":{\"bgcolor\":\"white\",\"lakecolor\":\"white\",\"landcolor\":\"white\",\"showlakes\":true,\"showland\":true,\"subunitcolor\":\"white\"},\"hoverlabel\":{\"align\":\"left\"},\"hovermode\":\"closest\",\"mapbox\":{\"style\":\"light\"},\"paper_bgcolor\":\"white\",\"plot_bgcolor\":\"white\",\"polar\":{\"angularaxis\":{\"gridcolor\":\"rgb(232,232,232)\",\"linecolor\":\"rgb(36,36,36)\",\"showgrid\":false,\"showline\":true,\"ticks\":\"outside\"},\"bgcolor\":\"white\",\"radialaxis\":{\"gridcolor\":\"rgb(232,232,232)\",\"linecolor\":\"rgb(36,36,36)\",\"showgrid\":false,\"showline\":true,\"ticks\":\"outside\"}},\"scene\":{\"xaxis\":{\"backgroundcolor\":\"white\",\"gridcolor\":\"rgb(232,232,232)\",\"gridwidth\":2,\"linecolor\":\"rgb(36,36,36)\",\"showbackground\":true,\"showgrid\":false,\"showline\":true,\"ticks\":\"outside\",\"zeroline\":false,\"zerolinecolor\":\"rgb(36,36,36)\"},\"yaxis\":{\"backgroundcolor\":\"white\",\"gridcolor\":\"rgb(232,232,232)\",\"gridwidth\":2,\"linecolor\":\"rgb(36,36,36)\",\"showbackground\":true,\"showgrid\":false,\"showline\":true,\"ticks\":\"outside\",\"zeroline\":false,\"zerolinecolor\":\"rgb(36,36,36)\"},\"zaxis\":{\"backgroundcolor\":\"white\",\"gridcolor\":\"rgb(232,232,232)\",\"gridwidth\":2,\"linecolor\":\"rgb(36,36,36)\",\"showbackground\":true,\"showgrid\":false,\"showline\":true,\"ticks\":\"outside\",\"zeroline\":false,\"zerolinecolor\":\"rgb(36,36,36)\"}},\"shapedefaults\":{\"fillcolor\":\"black\",\"line\":{\"width\":0},\"opacity\":0.3},\"ternary\":{\"aaxis\":{\"gridcolor\":\"rgb(232,232,232)\",\"linecolor\":\"rgb(36,36,36)\",\"showgrid\":false,\"showline\":true,\"ticks\":\"outside\"},\"baxis\":{\"gridcolor\":\"rgb(232,232,232)\",\"linecolor\":\"rgb(36,36,36)\",\"showgrid\":false,\"showline\":true,\"ticks\":\"outside\"},\"bgcolor\":\"white\",\"caxis\":{\"gridcolor\":\"rgb(232,232,232)\",\"linecolor\":\"rgb(36,36,36)\",\"showgrid\":false,\"showline\":true,\"ticks\":\"outside\"}},\"title\":{\"x\":0.05},\"xaxis\":{\"automargin\":true,\"gridcolor\":\"rgb(232,232,232)\",\"linecolor\":\"rgb(36,36,36)\",\"showgrid\":false,\"showline\":true,\"ticks\":\"outside\",\"title\":{\"standoff\":15},\"zeroline\":false,\"zerolinecolor\":\"rgb(36,36,36)\"},\"yaxis\":{\"automargin\":true,\"gridcolor\":\"rgb(232,232,232)\",\"linecolor\":\"rgb(36,36,36)\",\"showgrid\":false,\"showline\":true,\"ticks\":\"outside\",\"title\":{\"standoff\":15},\"zeroline\":false,\"zerolinecolor\":\"rgb(36,36,36)\"}}},\"mapbox\":{\"domain\":{\"x\":[0.0,1.0],\"y\":[0.0,1.0]},\"center\":{\"lat\":36.7783,\"lon\":-119.4179},\"zoom\":6,\"style\":\"carto-positron\"},\"legend\":{\"title\":{\"text\":\"Facility Type\"},\"tracegroupgap\":0},\"title\":{\"text\":\"Where are the licensed pharmacies located? \"},\"height\":600},                        {\"responsive\": true}                    ).then(function(){\n",
       "                            \n",
       "var gd = document.getElementById('73b0ea45-28d4-4b80-8c02-e5197236bb7f');\n",
       "var x = new MutationObserver(function (mutations, observer) {{\n",
       "        var display = window.getComputedStyle(gd).display;\n",
       "        if (!display || display === 'none') {{\n",
       "            console.log([gd, 'removed!']);\n",
       "            Plotly.purge(gd);\n",
       "            observer.disconnect();\n",
       "        }}\n",
       "}});\n",
       "\n",
       "// Listen for the removal of the full notebook cells\n",
       "var notebookContainer = gd.closest('#notebook-container');\n",
       "if (notebookContainer) {{\n",
       "    x.observe(notebookContainer, {childList: true});\n",
       "}}\n",
       "\n",
       "// Listen for the clearing of the current output cell\n",
       "var outputEl = gd.closest('.output');\n",
       "if (outputEl) {{\n",
       "    x.observe(outputEl, {childList: true});\n",
       "}}\n",
       "\n",
       "                        })                };                });            </script>        </div>"
      ]
     },
     "metadata": {},
     "output_type": "display_data"
    }
   ],
   "execution_count": 164
  },
  {
   "metadata": {
    "ExecuteTime": {
     "end_time": "2025-01-03T04:32:04.543999Z",
     "start_time": "2025-01-03T04:32:04.530032Z"
    }
   },
   "cell_type": "code",
   "source": [
    "pharmacy_geo = pharmacies.dropna(subset=['City', 'County'])\n",
    "pharmacy_cities = pharmacy_geo.groupby(['City', 'Facility Type']).size().reset_index(name='Count').sort_values(by='Count')\n",
    "pharmacy_counties = pharmacy_geo.groupby(['County', 'Facility Type']).size().reset_index(name='Count').sort_values(by='Count')"
   ],
   "id": "8f51d981f8e757f9",
   "outputs": [],
   "execution_count": 165
  },
  {
   "metadata": {
    "ExecuteTime": {
     "end_time": "2025-01-03T04:32:04.636752Z",
     "start_time": "2025-01-03T04:32:04.626525Z"
    }
   },
   "cell_type": "code",
   "source": "pharmacy_cities",
   "id": "562958e48a2f5099",
   "outputs": [
    {
     "data": {
      "text/plain": [
       "              City     Facility Type  Count\n",
       "303    WESTMINSTER  Medical Facility      1\n",
       "302     WEST HILLS  Medical Facility      1\n",
       "0          ALAMEDA   Infusion Center      1\n",
       "300    WATSONVILLE  Medical Facility      1\n",
       "313   YUCCA VALLEY  Medical Facility      1\n",
       "..             ...               ...    ...\n",
       "218     SACRAMENTO  Medical Facility     13\n",
       "84          FRESNO  Medical Facility     15\n",
       "225      SAN DIEGO  Medical Facility     21\n",
       "229  SAN FRANCISCO  Medical Facility     25\n",
       "139    LOS ANGELES  Medical Facility     46\n",
       "\n",
       "[314 rows x 3 columns]"
      ],
      "text/html": [
       "<div>\n",
       "<style scoped>\n",
       "    .dataframe tbody tr th:only-of-type {\n",
       "        vertical-align: middle;\n",
       "    }\n",
       "\n",
       "    .dataframe tbody tr th {\n",
       "        vertical-align: top;\n",
       "    }\n",
       "\n",
       "    .dataframe thead th {\n",
       "        text-align: right;\n",
       "    }\n",
       "</style>\n",
       "<table border=\"1\" class=\"dataframe\">\n",
       "  <thead>\n",
       "    <tr style=\"text-align: right;\">\n",
       "      <th></th>\n",
       "      <th>City</th>\n",
       "      <th>Facility Type</th>\n",
       "      <th>Count</th>\n",
       "    </tr>\n",
       "  </thead>\n",
       "  <tbody>\n",
       "    <tr>\n",
       "      <th>303</th>\n",
       "      <td>WESTMINSTER</td>\n",
       "      <td>Medical Facility</td>\n",
       "      <td>1</td>\n",
       "    </tr>\n",
       "    <tr>\n",
       "      <th>302</th>\n",
       "      <td>WEST HILLS</td>\n",
       "      <td>Medical Facility</td>\n",
       "      <td>1</td>\n",
       "    </tr>\n",
       "    <tr>\n",
       "      <th>0</th>\n",
       "      <td>ALAMEDA</td>\n",
       "      <td>Infusion Center</td>\n",
       "      <td>1</td>\n",
       "    </tr>\n",
       "    <tr>\n",
       "      <th>300</th>\n",
       "      <td>WATSONVILLE</td>\n",
       "      <td>Medical Facility</td>\n",
       "      <td>1</td>\n",
       "    </tr>\n",
       "    <tr>\n",
       "      <th>313</th>\n",
       "      <td>YUCCA VALLEY</td>\n",
       "      <td>Medical Facility</td>\n",
       "      <td>1</td>\n",
       "    </tr>\n",
       "    <tr>\n",
       "      <th>...</th>\n",
       "      <td>...</td>\n",
       "      <td>...</td>\n",
       "      <td>...</td>\n",
       "    </tr>\n",
       "    <tr>\n",
       "      <th>218</th>\n",
       "      <td>SACRAMENTO</td>\n",
       "      <td>Medical Facility</td>\n",
       "      <td>13</td>\n",
       "    </tr>\n",
       "    <tr>\n",
       "      <th>84</th>\n",
       "      <td>FRESNO</td>\n",
       "      <td>Medical Facility</td>\n",
       "      <td>15</td>\n",
       "    </tr>\n",
       "    <tr>\n",
       "      <th>225</th>\n",
       "      <td>SAN DIEGO</td>\n",
       "      <td>Medical Facility</td>\n",
       "      <td>21</td>\n",
       "    </tr>\n",
       "    <tr>\n",
       "      <th>229</th>\n",
       "      <td>SAN FRANCISCO</td>\n",
       "      <td>Medical Facility</td>\n",
       "      <td>25</td>\n",
       "    </tr>\n",
       "    <tr>\n",
       "      <th>139</th>\n",
       "      <td>LOS ANGELES</td>\n",
       "      <td>Medical Facility</td>\n",
       "      <td>46</td>\n",
       "    </tr>\n",
       "  </tbody>\n",
       "</table>\n",
       "<p>314 rows × 3 columns</p>\n",
       "</div>"
      ]
     },
     "execution_count": 166,
     "metadata": {},
     "output_type": "execute_result"
    }
   ],
   "execution_count": 166
  },
  {
   "metadata": {
    "ExecuteTime": {
     "end_time": "2025-01-03T04:32:04.709720Z",
     "start_time": "2025-01-03T04:32:04.655466Z"
    }
   },
   "cell_type": "code",
   "source": [
    "# Ensure the DataFrame is sorted by County\n",
    "pharmacy_counties_sorted = pharmacy_counties.sort_values(by='County')\n",
    "\n",
    "# Create the bubble chart\n",
    "bubble_fig = px.scatter(pharmacy_counties_sorted, \n",
    "                        x='Facility Type', \n",
    "                        y='County', \n",
    "                        size='Count', \n",
    "                        color='Facility Type',\n",
    "                        title=\"Facilities by County (Bubble Chart)\",\n",
    "                        labels={'Count': 'Number of Facilities', 'County': 'County'},\n",
    "                        template='plotly_white',\n",
    "                        category_orders={\"County\": pharmacy_counties_sorted['County'].unique()})  # Enforce alphabetical order\n",
    "\n",
    "bubble_fig.show()"
   ],
   "id": "a8958eae5064504f",
   "outputs": [
    {
     "data": {
      "application/vnd.plotly.v1+json": {
       "data": [
        {
         "hovertemplate": "Facility Type=%{x}<br>County=%{y}<br>Number of Facilities=%{marker.size}<extra></extra>",
         "legendgroup": "Veterinary Only",
         "marker": {
          "color": "#636efa",
          "size": [
           1,
           1,
           1,
           1,
           1
          ],
          "sizemode": "area",
          "sizeref": 0.405,
          "symbol": "circle"
         },
         "mode": "markers",
         "name": "Veterinary Only",
         "orientation": "v",
         "showlegend": true,
         "x": [
          "Veterinary Only",
          "Veterinary Only",
          "Veterinary Only",
          "Veterinary Only",
          "Veterinary Only"
         ],
         "xaxis": "x",
         "y": [
          "ALAMEDA",
          "KERN",
          "LOS ANGELES",
          "SACRAMENTO",
          "SAN BERNARDINO"
         ],
         "yaxis": "y",
         "type": "scatter"
        },
        {
         "hovertemplate": "Facility Type=%{x}<br>County=%{y}<br>Number of Facilities=%{marker.size}<extra></extra>",
         "legendgroup": "Medical Facility",
         "marker": {
          "color": "#EF553B",
          "size": [
           29,
           1,
           3,
           1,
           17,
           2,
           19,
           1,
           3,
           5,
           1,
           17,
           1,
           2,
           1,
           162,
           5,
           7,
           3,
           2,
           1,
           3,
           3,
           2,
           50,
           7,
           30,
           18,
           1,
           42,
           46,
           25,
           12,
           5,
           12,
           6,
           30,
           3,
           6,
           2,
           9,
           9,
           10,
           1,
           1,
           6,
           2,
           10,
           2,
           2
          ],
          "sizemode": "area",
          "sizeref": 0.405,
          "symbol": "circle"
         },
         "mode": "markers",
         "name": "Medical Facility",
         "orientation": "v",
         "showlegend": true,
         "x": [
          "Medical Facility",
          "Medical Facility",
          "Medical Facility",
          "Medical Facility",
          "Medical Facility",
          "Medical Facility",
          "Medical Facility",
          "Medical Facility",
          "Medical Facility",
          "Medical Facility",
          "Medical Facility",
          "Medical Facility",
          "Medical Facility",
          "Medical Facility",
          "Medical Facility",
          "Medical Facility",
          "Medical Facility",
          "Medical Facility",
          "Medical Facility",
          "Medical Facility",
          "Medical Facility",
          "Medical Facility",
          "Medical Facility",
          "Medical Facility",
          "Medical Facility",
          "Medical Facility",
          "Medical Facility",
          "Medical Facility",
          "Medical Facility",
          "Medical Facility",
          "Medical Facility",
          "Medical Facility",
          "Medical Facility",
          "Medical Facility",
          "Medical Facility",
          "Medical Facility",
          "Medical Facility",
          "Medical Facility",
          "Medical Facility",
          "Medical Facility",
          "Medical Facility",
          "Medical Facility",
          "Medical Facility",
          "Medical Facility",
          "Medical Facility",
          "Medical Facility",
          "Medical Facility",
          "Medical Facility",
          "Medical Facility",
          "Medical Facility"
         ],
         "xaxis": "x",
         "y": [
          "ALAMEDA",
          "AMADOR",
          "BUTTE",
          "CALAVERAS",
          "CONTRA COSTA",
          "EL DORADO",
          "FRESNO",
          "GLENN",
          "HUMBOLDT",
          "IMPERIAL",
          "INYO",
          "KERN",
          "KINGS",
          "LAKE",
          "LASSEN",
          "LOS ANGELES",
          "MADERA",
          "MARIN",
          "MENDOCINO",
          "MERCED",
          "MONO",
          "MONTEREY",
          "NAPA",
          "NEVADA",
          "ORANGE",
          "PLACER",
          "RIVERSIDE",
          "SACRAMENTO",
          "SAN BENITO",
          "SAN BERNARDINO",
          "SAN DIEGO",
          "SAN FRANCISCO",
          "SAN JOAQUIN",
          "SAN LUIS OBISPO",
          "SAN MATEO",
          "SANTA BARBARA",
          "SANTA CLARA",
          "SANTA CRUZ",
          "SHASTA",
          "SISKIYOU",
          "SOLANO",
          "SONOMA",
          "STANISLAUS",
          "SUTTER",
          "TEHAMA",
          "TULARE",
          "TUOLUMNE",
          "VENTURA",
          "YOLO",
          "YUBA"
         ],
         "yaxis": "y",
         "type": "scatter"
        },
        {
         "hovertemplate": "Facility Type=%{x}<br>County=%{y}<br>Number of Facilities=%{marker.size}<extra></extra>",
         "legendgroup": "Infusion Center",
         "marker": {
          "color": "#00cc96",
          "size": [
           6,
           1,
           1,
           1,
           6,
           3,
           27,
           1,
           13,
           1,
           4,
           8,
           1,
           8,
           2,
           1,
           3,
           2,
           1,
           1,
           1,
           2,
           6
          ],
          "sizemode": "area",
          "sizeref": 0.405,
          "symbol": "circle"
         },
         "mode": "markers",
         "name": "Infusion Center",
         "orientation": "v",
         "showlegend": true,
         "x": [
          "Infusion Center",
          "Infusion Center",
          "Infusion Center",
          "Infusion Center",
          "Infusion Center",
          "Infusion Center",
          "Infusion Center",
          "Infusion Center",
          "Infusion Center",
          "Infusion Center",
          "Infusion Center",
          "Infusion Center",
          "Infusion Center",
          "Infusion Center",
          "Infusion Center",
          "Infusion Center",
          "Infusion Center",
          "Infusion Center",
          "Infusion Center",
          "Infusion Center",
          "Infusion Center",
          "Infusion Center",
          "Infusion Center"
         ],
         "xaxis": "x",
         "y": [
          "ALAMEDA",
          "CONTRA COSTA",
          "DEL NORTE",
          "EL DORADO",
          "FRESNO",
          "KERN",
          "LOS ANGELES",
          "MONTEREY",
          "ORANGE",
          "PLACER",
          "RIVERSIDE",
          "SACRAMENTO",
          "SAN BERNARDINO",
          "SAN DIEGO",
          "SAN FRANCISCO",
          "SAN JOAQUIN",
          "SAN LUIS OBISPO",
          "SANTA BARBARA",
          "SANTA CRUZ",
          "SHASTA",
          "SOLANO",
          "TULARE",
          "VENTURA"
         ],
         "yaxis": "y",
         "type": "scatter"
        },
        {
         "hovertemplate": "Facility Type=%{x}<br>County=%{y}<br>Number of Facilities=%{marker.size}<extra></extra>",
         "legendgroup": "Research Center",
         "marker": {
          "color": "#ab63fa",
          "size": [
           1
          ],
          "sizemode": "area",
          "sizeref": 0.405,
          "symbol": "circle"
         },
         "mode": "markers",
         "name": "Research Center",
         "orientation": "v",
         "showlegend": true,
         "x": [
          "Research Center"
         ],
         "xaxis": "x",
         "y": [
          "SAN DIEGO"
         ],
         "yaxis": "y",
         "type": "scatter"
        }
       ],
       "layout": {
        "template": {
         "data": {
          "barpolar": [
           {
            "marker": {
             "line": {
              "color": "white",
              "width": 0.5
             },
             "pattern": {
              "fillmode": "overlay",
              "size": 10,
              "solidity": 0.2
             }
            },
            "type": "barpolar"
           }
          ],
          "bar": [
           {
            "error_x": {
             "color": "#2a3f5f"
            },
            "error_y": {
             "color": "#2a3f5f"
            },
            "marker": {
             "line": {
              "color": "white",
              "width": 0.5
             },
             "pattern": {
              "fillmode": "overlay",
              "size": 10,
              "solidity": 0.2
             }
            },
            "type": "bar"
           }
          ],
          "carpet": [
           {
            "aaxis": {
             "endlinecolor": "#2a3f5f",
             "gridcolor": "#C8D4E3",
             "linecolor": "#C8D4E3",
             "minorgridcolor": "#C8D4E3",
             "startlinecolor": "#2a3f5f"
            },
            "baxis": {
             "endlinecolor": "#2a3f5f",
             "gridcolor": "#C8D4E3",
             "linecolor": "#C8D4E3",
             "minorgridcolor": "#C8D4E3",
             "startlinecolor": "#2a3f5f"
            },
            "type": "carpet"
           }
          ],
          "choropleth": [
           {
            "colorbar": {
             "outlinewidth": 0,
             "ticks": ""
            },
            "type": "choropleth"
           }
          ],
          "contourcarpet": [
           {
            "colorbar": {
             "outlinewidth": 0,
             "ticks": ""
            },
            "type": "contourcarpet"
           }
          ],
          "contour": [
           {
            "colorbar": {
             "outlinewidth": 0,
             "ticks": ""
            },
            "colorscale": [
             [
              0.0,
              "#0d0887"
             ],
             [
              0.1111111111111111,
              "#46039f"
             ],
             [
              0.2222222222222222,
              "#7201a8"
             ],
             [
              0.3333333333333333,
              "#9c179e"
             ],
             [
              0.4444444444444444,
              "#bd3786"
             ],
             [
              0.5555555555555556,
              "#d8576b"
             ],
             [
              0.6666666666666666,
              "#ed7953"
             ],
             [
              0.7777777777777778,
              "#fb9f3a"
             ],
             [
              0.8888888888888888,
              "#fdca26"
             ],
             [
              1.0,
              "#f0f921"
             ]
            ],
            "type": "contour"
           }
          ],
          "heatmapgl": [
           {
            "colorbar": {
             "outlinewidth": 0,
             "ticks": ""
            },
            "colorscale": [
             [
              0.0,
              "#0d0887"
             ],
             [
              0.1111111111111111,
              "#46039f"
             ],
             [
              0.2222222222222222,
              "#7201a8"
             ],
             [
              0.3333333333333333,
              "#9c179e"
             ],
             [
              0.4444444444444444,
              "#bd3786"
             ],
             [
              0.5555555555555556,
              "#d8576b"
             ],
             [
              0.6666666666666666,
              "#ed7953"
             ],
             [
              0.7777777777777778,
              "#fb9f3a"
             ],
             [
              0.8888888888888888,
              "#fdca26"
             ],
             [
              1.0,
              "#f0f921"
             ]
            ],
            "type": "heatmapgl"
           }
          ],
          "heatmap": [
           {
            "colorbar": {
             "outlinewidth": 0,
             "ticks": ""
            },
            "colorscale": [
             [
              0.0,
              "#0d0887"
             ],
             [
              0.1111111111111111,
              "#46039f"
             ],
             [
              0.2222222222222222,
              "#7201a8"
             ],
             [
              0.3333333333333333,
              "#9c179e"
             ],
             [
              0.4444444444444444,
              "#bd3786"
             ],
             [
              0.5555555555555556,
              "#d8576b"
             ],
             [
              0.6666666666666666,
              "#ed7953"
             ],
             [
              0.7777777777777778,
              "#fb9f3a"
             ],
             [
              0.8888888888888888,
              "#fdca26"
             ],
             [
              1.0,
              "#f0f921"
             ]
            ],
            "type": "heatmap"
           }
          ],
          "histogram2dcontour": [
           {
            "colorbar": {
             "outlinewidth": 0,
             "ticks": ""
            },
            "colorscale": [
             [
              0.0,
              "#0d0887"
             ],
             [
              0.1111111111111111,
              "#46039f"
             ],
             [
              0.2222222222222222,
              "#7201a8"
             ],
             [
              0.3333333333333333,
              "#9c179e"
             ],
             [
              0.4444444444444444,
              "#bd3786"
             ],
             [
              0.5555555555555556,
              "#d8576b"
             ],
             [
              0.6666666666666666,
              "#ed7953"
             ],
             [
              0.7777777777777778,
              "#fb9f3a"
             ],
             [
              0.8888888888888888,
              "#fdca26"
             ],
             [
              1.0,
              "#f0f921"
             ]
            ],
            "type": "histogram2dcontour"
           }
          ],
          "histogram2d": [
           {
            "colorbar": {
             "outlinewidth": 0,
             "ticks": ""
            },
            "colorscale": [
             [
              0.0,
              "#0d0887"
             ],
             [
              0.1111111111111111,
              "#46039f"
             ],
             [
              0.2222222222222222,
              "#7201a8"
             ],
             [
              0.3333333333333333,
              "#9c179e"
             ],
             [
              0.4444444444444444,
              "#bd3786"
             ],
             [
              0.5555555555555556,
              "#d8576b"
             ],
             [
              0.6666666666666666,
              "#ed7953"
             ],
             [
              0.7777777777777778,
              "#fb9f3a"
             ],
             [
              0.8888888888888888,
              "#fdca26"
             ],
             [
              1.0,
              "#f0f921"
             ]
            ],
            "type": "histogram2d"
           }
          ],
          "histogram": [
           {
            "marker": {
             "pattern": {
              "fillmode": "overlay",
              "size": 10,
              "solidity": 0.2
             }
            },
            "type": "histogram"
           }
          ],
          "mesh3d": [
           {
            "colorbar": {
             "outlinewidth": 0,
             "ticks": ""
            },
            "type": "mesh3d"
           }
          ],
          "parcoords": [
           {
            "line": {
             "colorbar": {
              "outlinewidth": 0,
              "ticks": ""
             }
            },
            "type": "parcoords"
           }
          ],
          "pie": [
           {
            "automargin": true,
            "type": "pie"
           }
          ],
          "scatter3d": [
           {
            "line": {
             "colorbar": {
              "outlinewidth": 0,
              "ticks": ""
             }
            },
            "marker": {
             "colorbar": {
              "outlinewidth": 0,
              "ticks": ""
             }
            },
            "type": "scatter3d"
           }
          ],
          "scattercarpet": [
           {
            "marker": {
             "colorbar": {
              "outlinewidth": 0,
              "ticks": ""
             }
            },
            "type": "scattercarpet"
           }
          ],
          "scattergeo": [
           {
            "marker": {
             "colorbar": {
              "outlinewidth": 0,
              "ticks": ""
             }
            },
            "type": "scattergeo"
           }
          ],
          "scattergl": [
           {
            "marker": {
             "colorbar": {
              "outlinewidth": 0,
              "ticks": ""
             }
            },
            "type": "scattergl"
           }
          ],
          "scattermapbox": [
           {
            "marker": {
             "colorbar": {
              "outlinewidth": 0,
              "ticks": ""
             }
            },
            "type": "scattermapbox"
           }
          ],
          "scatterpolargl": [
           {
            "marker": {
             "colorbar": {
              "outlinewidth": 0,
              "ticks": ""
             }
            },
            "type": "scatterpolargl"
           }
          ],
          "scatterpolar": [
           {
            "marker": {
             "colorbar": {
              "outlinewidth": 0,
              "ticks": ""
             }
            },
            "type": "scatterpolar"
           }
          ],
          "scatter": [
           {
            "fillpattern": {
             "fillmode": "overlay",
             "size": 10,
             "solidity": 0.2
            },
            "type": "scatter"
           }
          ],
          "scatterternary": [
           {
            "marker": {
             "colorbar": {
              "outlinewidth": 0,
              "ticks": ""
             }
            },
            "type": "scatterternary"
           }
          ],
          "surface": [
           {
            "colorbar": {
             "outlinewidth": 0,
             "ticks": ""
            },
            "colorscale": [
             [
              0.0,
              "#0d0887"
             ],
             [
              0.1111111111111111,
              "#46039f"
             ],
             [
              0.2222222222222222,
              "#7201a8"
             ],
             [
              0.3333333333333333,
              "#9c179e"
             ],
             [
              0.4444444444444444,
              "#bd3786"
             ],
             [
              0.5555555555555556,
              "#d8576b"
             ],
             [
              0.6666666666666666,
              "#ed7953"
             ],
             [
              0.7777777777777778,
              "#fb9f3a"
             ],
             [
              0.8888888888888888,
              "#fdca26"
             ],
             [
              1.0,
              "#f0f921"
             ]
            ],
            "type": "surface"
           }
          ],
          "table": [
           {
            "cells": {
             "fill": {
              "color": "#EBF0F8"
             },
             "line": {
              "color": "white"
             }
            },
            "header": {
             "fill": {
              "color": "#C8D4E3"
             },
             "line": {
              "color": "white"
             }
            },
            "type": "table"
           }
          ]
         },
         "layout": {
          "annotationdefaults": {
           "arrowcolor": "#2a3f5f",
           "arrowhead": 0,
           "arrowwidth": 1
          },
          "autotypenumbers": "strict",
          "coloraxis": {
           "colorbar": {
            "outlinewidth": 0,
            "ticks": ""
           }
          },
          "colorscale": {
           "diverging": [
            [
             0,
             "#8e0152"
            ],
            [
             0.1,
             "#c51b7d"
            ],
            [
             0.2,
             "#de77ae"
            ],
            [
             0.3,
             "#f1b6da"
            ],
            [
             0.4,
             "#fde0ef"
            ],
            [
             0.5,
             "#f7f7f7"
            ],
            [
             0.6,
             "#e6f5d0"
            ],
            [
             0.7,
             "#b8e186"
            ],
            [
             0.8,
             "#7fbc41"
            ],
            [
             0.9,
             "#4d9221"
            ],
            [
             1,
             "#276419"
            ]
           ],
           "sequential": [
            [
             0.0,
             "#0d0887"
            ],
            [
             0.1111111111111111,
             "#46039f"
            ],
            [
             0.2222222222222222,
             "#7201a8"
            ],
            [
             0.3333333333333333,
             "#9c179e"
            ],
            [
             0.4444444444444444,
             "#bd3786"
            ],
            [
             0.5555555555555556,
             "#d8576b"
            ],
            [
             0.6666666666666666,
             "#ed7953"
            ],
            [
             0.7777777777777778,
             "#fb9f3a"
            ],
            [
             0.8888888888888888,
             "#fdca26"
            ],
            [
             1.0,
             "#f0f921"
            ]
           ],
           "sequentialminus": [
            [
             0.0,
             "#0d0887"
            ],
            [
             0.1111111111111111,
             "#46039f"
            ],
            [
             0.2222222222222222,
             "#7201a8"
            ],
            [
             0.3333333333333333,
             "#9c179e"
            ],
            [
             0.4444444444444444,
             "#bd3786"
            ],
            [
             0.5555555555555556,
             "#d8576b"
            ],
            [
             0.6666666666666666,
             "#ed7953"
            ],
            [
             0.7777777777777778,
             "#fb9f3a"
            ],
            [
             0.8888888888888888,
             "#fdca26"
            ],
            [
             1.0,
             "#f0f921"
            ]
           ]
          },
          "colorway": [
           "#636efa",
           "#EF553B",
           "#00cc96",
           "#ab63fa",
           "#FFA15A",
           "#19d3f3",
           "#FF6692",
           "#B6E880",
           "#FF97FF",
           "#FECB52"
          ],
          "font": {
           "color": "#2a3f5f"
          },
          "geo": {
           "bgcolor": "white",
           "lakecolor": "white",
           "landcolor": "white",
           "showlakes": true,
           "showland": true,
           "subunitcolor": "#C8D4E3"
          },
          "hoverlabel": {
           "align": "left"
          },
          "hovermode": "closest",
          "mapbox": {
           "style": "light"
          },
          "paper_bgcolor": "white",
          "plot_bgcolor": "white",
          "polar": {
           "angularaxis": {
            "gridcolor": "#EBF0F8",
            "linecolor": "#EBF0F8",
            "ticks": ""
           },
           "bgcolor": "white",
           "radialaxis": {
            "gridcolor": "#EBF0F8",
            "linecolor": "#EBF0F8",
            "ticks": ""
           }
          },
          "scene": {
           "xaxis": {
            "backgroundcolor": "white",
            "gridcolor": "#DFE8F3",
            "gridwidth": 2,
            "linecolor": "#EBF0F8",
            "showbackground": true,
            "ticks": "",
            "zerolinecolor": "#EBF0F8"
           },
           "yaxis": {
            "backgroundcolor": "white",
            "gridcolor": "#DFE8F3",
            "gridwidth": 2,
            "linecolor": "#EBF0F8",
            "showbackground": true,
            "ticks": "",
            "zerolinecolor": "#EBF0F8"
           },
           "zaxis": {
            "backgroundcolor": "white",
            "gridcolor": "#DFE8F3",
            "gridwidth": 2,
            "linecolor": "#EBF0F8",
            "showbackground": true,
            "ticks": "",
            "zerolinecolor": "#EBF0F8"
           }
          },
          "shapedefaults": {
           "line": {
            "color": "#2a3f5f"
           }
          },
          "ternary": {
           "aaxis": {
            "gridcolor": "#DFE8F3",
            "linecolor": "#A2B1C6",
            "ticks": ""
           },
           "baxis": {
            "gridcolor": "#DFE8F3",
            "linecolor": "#A2B1C6",
            "ticks": ""
           },
           "bgcolor": "white",
           "caxis": {
            "gridcolor": "#DFE8F3",
            "linecolor": "#A2B1C6",
            "ticks": ""
           }
          },
          "title": {
           "x": 0.05
          },
          "xaxis": {
           "automargin": true,
           "gridcolor": "#EBF0F8",
           "linecolor": "#EBF0F8",
           "ticks": "",
           "title": {
            "standoff": 15
           },
           "zerolinecolor": "#EBF0F8",
           "zerolinewidth": 2
          },
          "yaxis": {
           "automargin": true,
           "gridcolor": "#EBF0F8",
           "linecolor": "#EBF0F8",
           "ticks": "",
           "title": {
            "standoff": 15
           },
           "zerolinecolor": "#EBF0F8",
           "zerolinewidth": 2
          }
         }
        },
        "xaxis": {
         "anchor": "y",
         "domain": [
          0.0,
          1.0
         ],
         "title": {
          "text": "Facility Type"
         },
         "categoryorder": "array",
         "categoryarray": [
          "Veterinary Only",
          "Medical Facility",
          "Infusion Center",
          "Research Center"
         ]
        },
        "yaxis": {
         "anchor": "x",
         "domain": [
          0.0,
          1.0
         ],
         "title": {
          "text": "County"
         },
         "categoryorder": "array",
         "categoryarray": [
          "YUBA",
          "YOLO",
          "VENTURA",
          "TUOLUMNE",
          "TULARE",
          "TEHAMA",
          "SUTTER",
          "STANISLAUS",
          "SONOMA",
          "SOLANO",
          "SISKIYOU",
          "SHASTA",
          "SANTA CRUZ",
          "SANTA CLARA",
          "SANTA BARBARA",
          "SAN MATEO",
          "SAN LUIS OBISPO",
          "SAN JOAQUIN",
          "SAN FRANCISCO",
          "SAN DIEGO",
          "SAN BERNARDINO",
          "SAN BENITO",
          "SACRAMENTO",
          "RIVERSIDE",
          "PLACER",
          "ORANGE",
          "NEVADA",
          "NAPA",
          "MONTEREY",
          "MONO",
          "MERCED",
          "MENDOCINO",
          "MARIN",
          "MADERA",
          "LOS ANGELES",
          "LASSEN",
          "LAKE",
          "KINGS",
          "KERN",
          "INYO",
          "IMPERIAL",
          "HUMBOLDT",
          "GLENN",
          "FRESNO",
          "EL DORADO",
          "DEL NORTE",
          "CONTRA COSTA",
          "CALAVERAS",
          "BUTTE",
          "AMADOR",
          "ALAMEDA"
         ]
        },
        "legend": {
         "title": {
          "text": "Facility Type"
         },
         "tracegroupgap": 0,
         "itemsizing": "constant"
        },
        "title": {
         "text": "Facilities by County (Bubble Chart)"
        }
       },
       "config": {
        "plotlyServerURL": "https://plot.ly"
       }
      },
      "text/html": [
       "<div>                            <div id=\"89b9d6b4-19e7-4f72-94d6-228633be4cb0\" class=\"plotly-graph-div\" style=\"height:525px; width:100%;\"></div>            <script type=\"text/javascript\">                require([\"plotly\"], function(Plotly) {                    window.PLOTLYENV=window.PLOTLYENV || {};                                    if (document.getElementById(\"89b9d6b4-19e7-4f72-94d6-228633be4cb0\")) {                    Plotly.newPlot(                        \"89b9d6b4-19e7-4f72-94d6-228633be4cb0\",                        [{\"hovertemplate\":\"Facility Type=%{x}\\u003cbr\\u003eCounty=%{y}\\u003cbr\\u003eNumber of Facilities=%{marker.size}\\u003cextra\\u003e\\u003c\\u002fextra\\u003e\",\"legendgroup\":\"Veterinary Only\",\"marker\":{\"color\":\"#636efa\",\"size\":[1,1,1,1,1],\"sizemode\":\"area\",\"sizeref\":0.405,\"symbol\":\"circle\"},\"mode\":\"markers\",\"name\":\"Veterinary Only\",\"orientation\":\"v\",\"showlegend\":true,\"x\":[\"Veterinary Only\",\"Veterinary Only\",\"Veterinary Only\",\"Veterinary Only\",\"Veterinary Only\"],\"xaxis\":\"x\",\"y\":[\"ALAMEDA\",\"KERN\",\"LOS ANGELES\",\"SACRAMENTO\",\"SAN BERNARDINO\"],\"yaxis\":\"y\",\"type\":\"scatter\"},{\"hovertemplate\":\"Facility Type=%{x}\\u003cbr\\u003eCounty=%{y}\\u003cbr\\u003eNumber of Facilities=%{marker.size}\\u003cextra\\u003e\\u003c\\u002fextra\\u003e\",\"legendgroup\":\"Medical Facility\",\"marker\":{\"color\":\"#EF553B\",\"size\":[29,1,3,1,17,2,19,1,3,5,1,17,1,2,1,162,5,7,3,2,1,3,3,2,50,7,30,18,1,42,46,25,12,5,12,6,30,3,6,2,9,9,10,1,1,6,2,10,2,2],\"sizemode\":\"area\",\"sizeref\":0.405,\"symbol\":\"circle\"},\"mode\":\"markers\",\"name\":\"Medical Facility\",\"orientation\":\"v\",\"showlegend\":true,\"x\":[\"Medical Facility\",\"Medical Facility\",\"Medical Facility\",\"Medical Facility\",\"Medical Facility\",\"Medical Facility\",\"Medical Facility\",\"Medical Facility\",\"Medical Facility\",\"Medical Facility\",\"Medical Facility\",\"Medical Facility\",\"Medical Facility\",\"Medical Facility\",\"Medical Facility\",\"Medical Facility\",\"Medical Facility\",\"Medical Facility\",\"Medical Facility\",\"Medical Facility\",\"Medical Facility\",\"Medical Facility\",\"Medical Facility\",\"Medical Facility\",\"Medical Facility\",\"Medical Facility\",\"Medical Facility\",\"Medical Facility\",\"Medical Facility\",\"Medical Facility\",\"Medical Facility\",\"Medical Facility\",\"Medical Facility\",\"Medical Facility\",\"Medical Facility\",\"Medical Facility\",\"Medical Facility\",\"Medical Facility\",\"Medical Facility\",\"Medical Facility\",\"Medical Facility\",\"Medical Facility\",\"Medical Facility\",\"Medical Facility\",\"Medical Facility\",\"Medical Facility\",\"Medical Facility\",\"Medical Facility\",\"Medical Facility\",\"Medical Facility\"],\"xaxis\":\"x\",\"y\":[\"ALAMEDA\",\"AMADOR\",\"BUTTE\",\"CALAVERAS\",\"CONTRA COSTA\",\"EL DORADO\",\"FRESNO\",\"GLENN\",\"HUMBOLDT\",\"IMPERIAL\",\"INYO\",\"KERN\",\"KINGS\",\"LAKE\",\"LASSEN\",\"LOS ANGELES\",\"MADERA\",\"MARIN\",\"MENDOCINO\",\"MERCED\",\"MONO\",\"MONTEREY\",\"NAPA\",\"NEVADA\",\"ORANGE\",\"PLACER\",\"RIVERSIDE\",\"SACRAMENTO\",\"SAN BENITO\",\"SAN BERNARDINO\",\"SAN DIEGO\",\"SAN FRANCISCO\",\"SAN JOAQUIN\",\"SAN LUIS OBISPO\",\"SAN MATEO\",\"SANTA BARBARA\",\"SANTA CLARA\",\"SANTA CRUZ\",\"SHASTA\",\"SISKIYOU\",\"SOLANO\",\"SONOMA\",\"STANISLAUS\",\"SUTTER\",\"TEHAMA\",\"TULARE\",\"TUOLUMNE\",\"VENTURA\",\"YOLO\",\"YUBA\"],\"yaxis\":\"y\",\"type\":\"scatter\"},{\"hovertemplate\":\"Facility Type=%{x}\\u003cbr\\u003eCounty=%{y}\\u003cbr\\u003eNumber of Facilities=%{marker.size}\\u003cextra\\u003e\\u003c\\u002fextra\\u003e\",\"legendgroup\":\"Infusion Center\",\"marker\":{\"color\":\"#00cc96\",\"size\":[6,1,1,1,6,3,27,1,13,1,4,8,1,8,2,1,3,2,1,1,1,2,6],\"sizemode\":\"area\",\"sizeref\":0.405,\"symbol\":\"circle\"},\"mode\":\"markers\",\"name\":\"Infusion Center\",\"orientation\":\"v\",\"showlegend\":true,\"x\":[\"Infusion Center\",\"Infusion Center\",\"Infusion Center\",\"Infusion Center\",\"Infusion Center\",\"Infusion Center\",\"Infusion Center\",\"Infusion Center\",\"Infusion Center\",\"Infusion Center\",\"Infusion Center\",\"Infusion Center\",\"Infusion Center\",\"Infusion Center\",\"Infusion Center\",\"Infusion Center\",\"Infusion Center\",\"Infusion Center\",\"Infusion Center\",\"Infusion Center\",\"Infusion Center\",\"Infusion Center\",\"Infusion Center\"],\"xaxis\":\"x\",\"y\":[\"ALAMEDA\",\"CONTRA COSTA\",\"DEL NORTE\",\"EL DORADO\",\"FRESNO\",\"KERN\",\"LOS ANGELES\",\"MONTEREY\",\"ORANGE\",\"PLACER\",\"RIVERSIDE\",\"SACRAMENTO\",\"SAN BERNARDINO\",\"SAN DIEGO\",\"SAN FRANCISCO\",\"SAN JOAQUIN\",\"SAN LUIS OBISPO\",\"SANTA BARBARA\",\"SANTA CRUZ\",\"SHASTA\",\"SOLANO\",\"TULARE\",\"VENTURA\"],\"yaxis\":\"y\",\"type\":\"scatter\"},{\"hovertemplate\":\"Facility Type=%{x}\\u003cbr\\u003eCounty=%{y}\\u003cbr\\u003eNumber of Facilities=%{marker.size}\\u003cextra\\u003e\\u003c\\u002fextra\\u003e\",\"legendgroup\":\"Research Center\",\"marker\":{\"color\":\"#ab63fa\",\"size\":[1],\"sizemode\":\"area\",\"sizeref\":0.405,\"symbol\":\"circle\"},\"mode\":\"markers\",\"name\":\"Research Center\",\"orientation\":\"v\",\"showlegend\":true,\"x\":[\"Research Center\"],\"xaxis\":\"x\",\"y\":[\"SAN DIEGO\"],\"yaxis\":\"y\",\"type\":\"scatter\"}],                        {\"template\":{\"data\":{\"barpolar\":[{\"marker\":{\"line\":{\"color\":\"white\",\"width\":0.5},\"pattern\":{\"fillmode\":\"overlay\",\"size\":10,\"solidity\":0.2}},\"type\":\"barpolar\"}],\"bar\":[{\"error_x\":{\"color\":\"#2a3f5f\"},\"error_y\":{\"color\":\"#2a3f5f\"},\"marker\":{\"line\":{\"color\":\"white\",\"width\":0.5},\"pattern\":{\"fillmode\":\"overlay\",\"size\":10,\"solidity\":0.2}},\"type\":\"bar\"}],\"carpet\":[{\"aaxis\":{\"endlinecolor\":\"#2a3f5f\",\"gridcolor\":\"#C8D4E3\",\"linecolor\":\"#C8D4E3\",\"minorgridcolor\":\"#C8D4E3\",\"startlinecolor\":\"#2a3f5f\"},\"baxis\":{\"endlinecolor\":\"#2a3f5f\",\"gridcolor\":\"#C8D4E3\",\"linecolor\":\"#C8D4E3\",\"minorgridcolor\":\"#C8D4E3\",\"startlinecolor\":\"#2a3f5f\"},\"type\":\"carpet\"}],\"choropleth\":[{\"colorbar\":{\"outlinewidth\":0,\"ticks\":\"\"},\"type\":\"choropleth\"}],\"contourcarpet\":[{\"colorbar\":{\"outlinewidth\":0,\"ticks\":\"\"},\"type\":\"contourcarpet\"}],\"contour\":[{\"colorbar\":{\"outlinewidth\":0,\"ticks\":\"\"},\"colorscale\":[[0.0,\"#0d0887\"],[0.1111111111111111,\"#46039f\"],[0.2222222222222222,\"#7201a8\"],[0.3333333333333333,\"#9c179e\"],[0.4444444444444444,\"#bd3786\"],[0.5555555555555556,\"#d8576b\"],[0.6666666666666666,\"#ed7953\"],[0.7777777777777778,\"#fb9f3a\"],[0.8888888888888888,\"#fdca26\"],[1.0,\"#f0f921\"]],\"type\":\"contour\"}],\"heatmapgl\":[{\"colorbar\":{\"outlinewidth\":0,\"ticks\":\"\"},\"colorscale\":[[0.0,\"#0d0887\"],[0.1111111111111111,\"#46039f\"],[0.2222222222222222,\"#7201a8\"],[0.3333333333333333,\"#9c179e\"],[0.4444444444444444,\"#bd3786\"],[0.5555555555555556,\"#d8576b\"],[0.6666666666666666,\"#ed7953\"],[0.7777777777777778,\"#fb9f3a\"],[0.8888888888888888,\"#fdca26\"],[1.0,\"#f0f921\"]],\"type\":\"heatmapgl\"}],\"heatmap\":[{\"colorbar\":{\"outlinewidth\":0,\"ticks\":\"\"},\"colorscale\":[[0.0,\"#0d0887\"],[0.1111111111111111,\"#46039f\"],[0.2222222222222222,\"#7201a8\"],[0.3333333333333333,\"#9c179e\"],[0.4444444444444444,\"#bd3786\"],[0.5555555555555556,\"#d8576b\"],[0.6666666666666666,\"#ed7953\"],[0.7777777777777778,\"#fb9f3a\"],[0.8888888888888888,\"#fdca26\"],[1.0,\"#f0f921\"]],\"type\":\"heatmap\"}],\"histogram2dcontour\":[{\"colorbar\":{\"outlinewidth\":0,\"ticks\":\"\"},\"colorscale\":[[0.0,\"#0d0887\"],[0.1111111111111111,\"#46039f\"],[0.2222222222222222,\"#7201a8\"],[0.3333333333333333,\"#9c179e\"],[0.4444444444444444,\"#bd3786\"],[0.5555555555555556,\"#d8576b\"],[0.6666666666666666,\"#ed7953\"],[0.7777777777777778,\"#fb9f3a\"],[0.8888888888888888,\"#fdca26\"],[1.0,\"#f0f921\"]],\"type\":\"histogram2dcontour\"}],\"histogram2d\":[{\"colorbar\":{\"outlinewidth\":0,\"ticks\":\"\"},\"colorscale\":[[0.0,\"#0d0887\"],[0.1111111111111111,\"#46039f\"],[0.2222222222222222,\"#7201a8\"],[0.3333333333333333,\"#9c179e\"],[0.4444444444444444,\"#bd3786\"],[0.5555555555555556,\"#d8576b\"],[0.6666666666666666,\"#ed7953\"],[0.7777777777777778,\"#fb9f3a\"],[0.8888888888888888,\"#fdca26\"],[1.0,\"#f0f921\"]],\"type\":\"histogram2d\"}],\"histogram\":[{\"marker\":{\"pattern\":{\"fillmode\":\"overlay\",\"size\":10,\"solidity\":0.2}},\"type\":\"histogram\"}],\"mesh3d\":[{\"colorbar\":{\"outlinewidth\":0,\"ticks\":\"\"},\"type\":\"mesh3d\"}],\"parcoords\":[{\"line\":{\"colorbar\":{\"outlinewidth\":0,\"ticks\":\"\"}},\"type\":\"parcoords\"}],\"pie\":[{\"automargin\":true,\"type\":\"pie\"}],\"scatter3d\":[{\"line\":{\"colorbar\":{\"outlinewidth\":0,\"ticks\":\"\"}},\"marker\":{\"colorbar\":{\"outlinewidth\":0,\"ticks\":\"\"}},\"type\":\"scatter3d\"}],\"scattercarpet\":[{\"marker\":{\"colorbar\":{\"outlinewidth\":0,\"ticks\":\"\"}},\"type\":\"scattercarpet\"}],\"scattergeo\":[{\"marker\":{\"colorbar\":{\"outlinewidth\":0,\"ticks\":\"\"}},\"type\":\"scattergeo\"}],\"scattergl\":[{\"marker\":{\"colorbar\":{\"outlinewidth\":0,\"ticks\":\"\"}},\"type\":\"scattergl\"}],\"scattermapbox\":[{\"marker\":{\"colorbar\":{\"outlinewidth\":0,\"ticks\":\"\"}},\"type\":\"scattermapbox\"}],\"scatterpolargl\":[{\"marker\":{\"colorbar\":{\"outlinewidth\":0,\"ticks\":\"\"}},\"type\":\"scatterpolargl\"}],\"scatterpolar\":[{\"marker\":{\"colorbar\":{\"outlinewidth\":0,\"ticks\":\"\"}},\"type\":\"scatterpolar\"}],\"scatter\":[{\"fillpattern\":{\"fillmode\":\"overlay\",\"size\":10,\"solidity\":0.2},\"type\":\"scatter\"}],\"scatterternary\":[{\"marker\":{\"colorbar\":{\"outlinewidth\":0,\"ticks\":\"\"}},\"type\":\"scatterternary\"}],\"surface\":[{\"colorbar\":{\"outlinewidth\":0,\"ticks\":\"\"},\"colorscale\":[[0.0,\"#0d0887\"],[0.1111111111111111,\"#46039f\"],[0.2222222222222222,\"#7201a8\"],[0.3333333333333333,\"#9c179e\"],[0.4444444444444444,\"#bd3786\"],[0.5555555555555556,\"#d8576b\"],[0.6666666666666666,\"#ed7953\"],[0.7777777777777778,\"#fb9f3a\"],[0.8888888888888888,\"#fdca26\"],[1.0,\"#f0f921\"]],\"type\":\"surface\"}],\"table\":[{\"cells\":{\"fill\":{\"color\":\"#EBF0F8\"},\"line\":{\"color\":\"white\"}},\"header\":{\"fill\":{\"color\":\"#C8D4E3\"},\"line\":{\"color\":\"white\"}},\"type\":\"table\"}]},\"layout\":{\"annotationdefaults\":{\"arrowcolor\":\"#2a3f5f\",\"arrowhead\":0,\"arrowwidth\":1},\"autotypenumbers\":\"strict\",\"coloraxis\":{\"colorbar\":{\"outlinewidth\":0,\"ticks\":\"\"}},\"colorscale\":{\"diverging\":[[0,\"#8e0152\"],[0.1,\"#c51b7d\"],[0.2,\"#de77ae\"],[0.3,\"#f1b6da\"],[0.4,\"#fde0ef\"],[0.5,\"#f7f7f7\"],[0.6,\"#e6f5d0\"],[0.7,\"#b8e186\"],[0.8,\"#7fbc41\"],[0.9,\"#4d9221\"],[1,\"#276419\"]],\"sequential\":[[0.0,\"#0d0887\"],[0.1111111111111111,\"#46039f\"],[0.2222222222222222,\"#7201a8\"],[0.3333333333333333,\"#9c179e\"],[0.4444444444444444,\"#bd3786\"],[0.5555555555555556,\"#d8576b\"],[0.6666666666666666,\"#ed7953\"],[0.7777777777777778,\"#fb9f3a\"],[0.8888888888888888,\"#fdca26\"],[1.0,\"#f0f921\"]],\"sequentialminus\":[[0.0,\"#0d0887\"],[0.1111111111111111,\"#46039f\"],[0.2222222222222222,\"#7201a8\"],[0.3333333333333333,\"#9c179e\"],[0.4444444444444444,\"#bd3786\"],[0.5555555555555556,\"#d8576b\"],[0.6666666666666666,\"#ed7953\"],[0.7777777777777778,\"#fb9f3a\"],[0.8888888888888888,\"#fdca26\"],[1.0,\"#f0f921\"]]},\"colorway\":[\"#636efa\",\"#EF553B\",\"#00cc96\",\"#ab63fa\",\"#FFA15A\",\"#19d3f3\",\"#FF6692\",\"#B6E880\",\"#FF97FF\",\"#FECB52\"],\"font\":{\"color\":\"#2a3f5f\"},\"geo\":{\"bgcolor\":\"white\",\"lakecolor\":\"white\",\"landcolor\":\"white\",\"showlakes\":true,\"showland\":true,\"subunitcolor\":\"#C8D4E3\"},\"hoverlabel\":{\"align\":\"left\"},\"hovermode\":\"closest\",\"mapbox\":{\"style\":\"light\"},\"paper_bgcolor\":\"white\",\"plot_bgcolor\":\"white\",\"polar\":{\"angularaxis\":{\"gridcolor\":\"#EBF0F8\",\"linecolor\":\"#EBF0F8\",\"ticks\":\"\"},\"bgcolor\":\"white\",\"radialaxis\":{\"gridcolor\":\"#EBF0F8\",\"linecolor\":\"#EBF0F8\",\"ticks\":\"\"}},\"scene\":{\"xaxis\":{\"backgroundcolor\":\"white\",\"gridcolor\":\"#DFE8F3\",\"gridwidth\":2,\"linecolor\":\"#EBF0F8\",\"showbackground\":true,\"ticks\":\"\",\"zerolinecolor\":\"#EBF0F8\"},\"yaxis\":{\"backgroundcolor\":\"white\",\"gridcolor\":\"#DFE8F3\",\"gridwidth\":2,\"linecolor\":\"#EBF0F8\",\"showbackground\":true,\"ticks\":\"\",\"zerolinecolor\":\"#EBF0F8\"},\"zaxis\":{\"backgroundcolor\":\"white\",\"gridcolor\":\"#DFE8F3\",\"gridwidth\":2,\"linecolor\":\"#EBF0F8\",\"showbackground\":true,\"ticks\":\"\",\"zerolinecolor\":\"#EBF0F8\"}},\"shapedefaults\":{\"line\":{\"color\":\"#2a3f5f\"}},\"ternary\":{\"aaxis\":{\"gridcolor\":\"#DFE8F3\",\"linecolor\":\"#A2B1C6\",\"ticks\":\"\"},\"baxis\":{\"gridcolor\":\"#DFE8F3\",\"linecolor\":\"#A2B1C6\",\"ticks\":\"\"},\"bgcolor\":\"white\",\"caxis\":{\"gridcolor\":\"#DFE8F3\",\"linecolor\":\"#A2B1C6\",\"ticks\":\"\"}},\"title\":{\"x\":0.05},\"xaxis\":{\"automargin\":true,\"gridcolor\":\"#EBF0F8\",\"linecolor\":\"#EBF0F8\",\"ticks\":\"\",\"title\":{\"standoff\":15},\"zerolinecolor\":\"#EBF0F8\",\"zerolinewidth\":2},\"yaxis\":{\"automargin\":true,\"gridcolor\":\"#EBF0F8\",\"linecolor\":\"#EBF0F8\",\"ticks\":\"\",\"title\":{\"standoff\":15},\"zerolinecolor\":\"#EBF0F8\",\"zerolinewidth\":2}}},\"xaxis\":{\"anchor\":\"y\",\"domain\":[0.0,1.0],\"title\":{\"text\":\"Facility Type\"},\"categoryorder\":\"array\",\"categoryarray\":[\"Veterinary Only\",\"Medical Facility\",\"Infusion Center\",\"Research Center\"]},\"yaxis\":{\"anchor\":\"x\",\"domain\":[0.0,1.0],\"title\":{\"text\":\"County\"},\"categoryorder\":\"array\",\"categoryarray\":[\"YUBA\",\"YOLO\",\"VENTURA\",\"TUOLUMNE\",\"TULARE\",\"TEHAMA\",\"SUTTER\",\"STANISLAUS\",\"SONOMA\",\"SOLANO\",\"SISKIYOU\",\"SHASTA\",\"SANTA CRUZ\",\"SANTA CLARA\",\"SANTA BARBARA\",\"SAN MATEO\",\"SAN LUIS OBISPO\",\"SAN JOAQUIN\",\"SAN FRANCISCO\",\"SAN DIEGO\",\"SAN BERNARDINO\",\"SAN BENITO\",\"SACRAMENTO\",\"RIVERSIDE\",\"PLACER\",\"ORANGE\",\"NEVADA\",\"NAPA\",\"MONTEREY\",\"MONO\",\"MERCED\",\"MENDOCINO\",\"MARIN\",\"MADERA\",\"LOS ANGELES\",\"LASSEN\",\"LAKE\",\"KINGS\",\"KERN\",\"INYO\",\"IMPERIAL\",\"HUMBOLDT\",\"GLENN\",\"FRESNO\",\"EL DORADO\",\"DEL NORTE\",\"CONTRA COSTA\",\"CALAVERAS\",\"BUTTE\",\"AMADOR\",\"ALAMEDA\"]},\"legend\":{\"title\":{\"text\":\"Facility Type\"},\"tracegroupgap\":0,\"itemsizing\":\"constant\"},\"title\":{\"text\":\"Facilities by County (Bubble Chart)\"}},                        {\"responsive\": true}                    ).then(function(){\n",
       "                            \n",
       "var gd = document.getElementById('89b9d6b4-19e7-4f72-94d6-228633be4cb0');\n",
       "var x = new MutationObserver(function (mutations, observer) {{\n",
       "        var display = window.getComputedStyle(gd).display;\n",
       "        if (!display || display === 'none') {{\n",
       "            console.log([gd, 'removed!']);\n",
       "            Plotly.purge(gd);\n",
       "            observer.disconnect();\n",
       "        }}\n",
       "}});\n",
       "\n",
       "// Listen for the removal of the full notebook cells\n",
       "var notebookContainer = gd.closest('#notebook-container');\n",
       "if (notebookContainer) {{\n",
       "    x.observe(notebookContainer, {childList: true});\n",
       "}}\n",
       "\n",
       "// Listen for the clearing of the current output cell\n",
       "var outputEl = gd.closest('.output');\n",
       "if (outputEl) {{\n",
       "    x.observe(outputEl, {childList: true});\n",
       "}}\n",
       "\n",
       "                        })                };                });            </script>        </div>"
      ]
     },
     "metadata": {},
     "output_type": "display_data"
    }
   ],
   "execution_count": 167
  },
  {
   "metadata": {
    "ExecuteTime": {
     "end_time": "2025-01-03T04:32:04.880706Z",
     "start_time": "2025-01-03T04:32:04.747868Z"
    }
   },
   "cell_type": "code",
   "source": [
    "# Ensure the DataFrame is sorted by City\n",
    "pharmacy_cities_sorted = pharmacy_cities.sort_values(by='City')\n",
    "\n",
    "# Create the bubble chart for cities\n",
    "city_bubble_fig = px.scatter(pharmacy_cities_sorted, \n",
    "                             x='Facility Type', \n",
    "                             y='City', \n",
    "                             size='Count', \n",
    "                             color='Facility Type',\n",
    "                             title=\"Facilities by City (Bubble Chart)\",\n",
    "                             labels={'Count': 'Number of Facilities', 'City': 'City'},\n",
    "                             template='plotly_white',\n",
    "                             category_orders={\"City\": pharmacy_cities_sorted['City'].unique()})  # Enforce alphabetical order\n",
    "\n",
    "city_bubble_fig.show()"
   ],
   "id": "2cb406708c1855bd",
   "outputs": [
    {
     "data": {
      "application/vnd.plotly.v1+json": {
       "data": [
        {
         "hovertemplate": "Facility Type=%{x}<br>City=%{y}<br>Number of Facilities=%{marker.size}<extra></extra>",
         "legendgroup": "Infusion Center",
         "marker": {
          "color": "#636efa",
          "size": [
           1,
           1,
           2,
           1,
           3,
           1,
           1,
           4,
           1,
           1,
           1,
           2,
           2,
           1,
           1,
           1,
           2,
           1,
           1,
           1,
           3,
           1,
           1,
           1,
           1,
           1,
           2,
           4,
           1,
           1,
           1,
           1,
           3,
           1,
           1,
           1,
           2,
           1,
           1,
           1,
           1,
           1,
           1,
           1,
           1,
           7,
           1,
           6,
           2,
           1,
           1,
           2,
           1,
           1,
           1,
           1,
           2,
           1,
           1,
           1,
           4,
           2,
           1,
           1
          ],
          "sizemode": "area",
          "sizeref": 0.115,
          "symbol": "circle"
         },
         "mode": "markers",
         "name": "Infusion Center",
         "orientation": "v",
         "showlegend": true,
         "x": [
          "Infusion Center",
          "Infusion Center",
          "Infusion Center",
          "Infusion Center",
          "Infusion Center",
          "Infusion Center",
          "Infusion Center",
          "Infusion Center",
          "Infusion Center",
          "Infusion Center",
          "Infusion Center",
          "Infusion Center",
          "Infusion Center",
          "Infusion Center",
          "Infusion Center",
          "Infusion Center",
          "Infusion Center",
          "Infusion Center",
          "Infusion Center",
          "Infusion Center",
          "Infusion Center",
          "Infusion Center",
          "Infusion Center",
          "Infusion Center",
          "Infusion Center",
          "Infusion Center",
          "Infusion Center",
          "Infusion Center",
          "Infusion Center",
          "Infusion Center",
          "Infusion Center",
          "Infusion Center",
          "Infusion Center",
          "Infusion Center",
          "Infusion Center",
          "Infusion Center",
          "Infusion Center",
          "Infusion Center",
          "Infusion Center",
          "Infusion Center",
          "Infusion Center",
          "Infusion Center",
          "Infusion Center",
          "Infusion Center",
          "Infusion Center",
          "Infusion Center",
          "Infusion Center",
          "Infusion Center",
          "Infusion Center",
          "Infusion Center",
          "Infusion Center",
          "Infusion Center",
          "Infusion Center",
          "Infusion Center",
          "Infusion Center",
          "Infusion Center",
          "Infusion Center",
          "Infusion Center",
          "Infusion Center",
          "Infusion Center",
          "Infusion Center",
          "Infusion Center",
          "Infusion Center",
          "Infusion Center"
         ],
         "xaxis": "x",
         "y": [
          "ALAMEDA",
          "ALHAMBRA",
          "ANAHEIM",
          "ARROYO GRANDE",
          "BAKERSFIELD",
          "BEAUMONT",
          "BERKELEY",
          "BURBANK",
          "CAMARILLO",
          "CAMERON PARK",
          "CANOGA PARK",
          "CERRITOS",
          "CLOVIS",
          "COVINA",
          "CRESCENT CITY",
          "CULVER CITY",
          "CYPRESS",
          "ELK GROVE",
          "ENCINITAS",
          "ESCONDIDO",
          "FRESNO",
          "FULLERTON",
          "GARDEN GROVE",
          "GLENDALE",
          "GLENDORA",
          "HAYWARD",
          "INGLEWOOD",
          "IRVINE",
          "KINGSBURG",
          "LIVERMORE",
          "LODI",
          "LONG BEACH",
          "LOS ANGELES",
          "MORENO VALLEY",
          "NORTH HOLLYWOOD",
          "ONTARIO",
          "ORANGE",
          "OXNARD",
          "PASADENA",
          "PERRIS",
          "PISMO BEACH",
          "PLEASANTON",
          "REDDING",
          "RIVERSIDE",
          "ROSEVILLE",
          "SACRAMENTO",
          "SALINAS",
          "SAN DIEGO",
          "SAN FRANCISCO",
          "SAN LUIS OBISPO",
          "SANTA CRUZ",
          "SANTA MARIA",
          "SANTA MONICA",
          "SIGNAL HILL",
          "STANTON",
          "SUN VALLEY",
          "TORRANCE",
          "UNION CITY",
          "VALLEJO",
          "VAN NUYS",
          "VENTURA",
          "VISALIA",
          "WALNUT CREEK",
          "WHITTIER"
         ],
         "yaxis": "y",
         "type": "scatter"
        },
        {
         "hovertemplate": "Facility Type=%{x}<br>City=%{y}<br>Number of Facilities=%{marker.size}<extra></extra>",
         "legendgroup": "Medical Facility",
         "marker": {
          "color": "#EF553B",
          "size": [
           1,
           2,
           4,
           3,
           1,
           2,
           1,
           1,
           1,
           13,
           4,
           1,
           1,
           1,
           3,
           2,
           1,
           1,
           1,
           2,
           1,
           1,
           1,
           1,
           1,
           1,
           1,
           2,
           1,
           2,
           1,
           3,
           1,
           2,
           1,
           2,
           1,
           2,
           1,
           1,
           1,
           1,
           1,
           5,
           6,
           1,
           3,
           1,
           2,
           1,
           1,
           1,
           1,
           1,
           3,
           5,
           1,
           1,
           3,
           4,
           2,
           15,
           4,
           1,
           2,
           1,
           4,
           1,
           1,
           2,
           1,
           3,
           4,
           1,
           1,
           1,
           2,
           1,
           1,
           1,
           1,
           5,
           1,
           1,
           1,
           9,
           3,
           1,
           2,
           1,
           1,
           2,
           1,
           1,
           1,
           1,
           3,
           1,
           12,
           2,
           7,
           1,
           46,
           1,
           3,
           1,
           5,
           1,
           2,
           1,
           2,
           2,
           1,
           1,
           2,
           2,
           6,
           1,
           1,
           1,
           1,
           2,
           3,
           3,
           1,
           3,
           1,
           2,
           3,
           2,
           2,
           1,
           1,
           6,
           2,
           1,
           3,
           10,
           1,
           1,
           2,
           2,
           1,
           6,
           1,
           3,
           1,
           4,
           1,
           1,
           2,
           1,
           3,
           3,
           2,
           1,
           1,
           1,
           3,
           1,
           5,
           2,
           6,
           3,
           1,
           6,
           2,
           4,
           13,
           2,
           1,
           4,
           21,
           2,
           25,
           1,
           11,
           5,
           3,
           2,
           2,
           1,
           3,
           1,
           3,
           2,
           4,
           2,
           2,
           1,
           1,
           4,
           1,
           5,
           1,
           1,
           2,
           1,
           1,
           2,
           1,
           1,
           1,
           2,
           2,
           6,
           1,
           1,
           1,
           1,
           1,
           1,
           1,
           1,
           1,
           10,
           1,
           1,
           1,
           2,
           1,
           1,
           2,
           5,
           1,
           3,
           2,
           3,
           3,
           3,
           7,
           1,
           5,
           1,
           1,
           3,
           1,
           1,
           1,
           1,
           2,
           1,
           1,
           1
          ],
          "sizemode": "area",
          "sizeref": 0.115,
          "symbol": "circle"
         },
         "mode": "markers",
         "name": "Medical Facility",
         "orientation": "v",
         "showlegend": true,
         "x": [
          "Medical Facility",
          "Medical Facility",
          "Medical Facility",
          "Medical Facility",
          "Medical Facility",
          "Medical Facility",
          "Medical Facility",
          "Medical Facility",
          "Medical Facility",
          "Medical Facility",
          "Medical Facility",
          "Medical Facility",
          "Medical Facility",
          "Medical Facility",
          "Medical Facility",
          "Medical Facility",
          "Medical Facility",
          "Medical Facility",
          "Medical Facility",
          "Medical Facility",
          "Medical Facility",
          "Medical Facility",
          "Medical Facility",
          "Medical Facility",
          "Medical Facility",
          "Medical Facility",
          "Medical Facility",
          "Medical Facility",
          "Medical Facility",
          "Medical Facility",
          "Medical Facility",
          "Medical Facility",
          "Medical Facility",
          "Medical Facility",
          "Medical Facility",
          "Medical Facility",
          "Medical Facility",
          "Medical Facility",
          "Medical Facility",
          "Medical Facility",
          "Medical Facility",
          "Medical Facility",
          "Medical Facility",
          "Medical Facility",
          "Medical Facility",
          "Medical Facility",
          "Medical Facility",
          "Medical Facility",
          "Medical Facility",
          "Medical Facility",
          "Medical Facility",
          "Medical Facility",
          "Medical Facility",
          "Medical Facility",
          "Medical Facility",
          "Medical Facility",
          "Medical Facility",
          "Medical Facility",
          "Medical Facility",
          "Medical Facility",
          "Medical Facility",
          "Medical Facility",
          "Medical Facility",
          "Medical Facility",
          "Medical Facility",
          "Medical Facility",
          "Medical Facility",
          "Medical Facility",
          "Medical Facility",
          "Medical Facility",
          "Medical Facility",
          "Medical Facility",
          "Medical Facility",
          "Medical Facility",
          "Medical Facility",
          "Medical Facility",
          "Medical Facility",
          "Medical Facility",
          "Medical Facility",
          "Medical Facility",
          "Medical Facility",
          "Medical Facility",
          "Medical Facility",
          "Medical Facility",
          "Medical Facility",
          "Medical Facility",
          "Medical Facility",
          "Medical Facility",
          "Medical Facility",
          "Medical Facility",
          "Medical Facility",
          "Medical Facility",
          "Medical Facility",
          "Medical Facility",
          "Medical Facility",
          "Medical Facility",
          "Medical Facility",
          "Medical Facility",
          "Medical Facility",
          "Medical Facility",
          "Medical Facility",
          "Medical Facility",
          "Medical Facility",
          "Medical Facility",
          "Medical Facility",
          "Medical Facility",
          "Medical Facility",
          "Medical Facility",
          "Medical Facility",
          "Medical Facility",
          "Medical Facility",
          "Medical Facility",
          "Medical Facility",
          "Medical Facility",
          "Medical Facility",
          "Medical Facility",
          "Medical Facility",
          "Medical Facility",
          "Medical Facility",
          "Medical Facility",
          "Medical Facility",
          "Medical Facility",
          "Medical Facility",
          "Medical Facility",
          "Medical Facility",
          "Medical Facility",
          "Medical Facility",
          "Medical Facility",
          "Medical Facility",
          "Medical Facility",
          "Medical Facility",
          "Medical Facility",
          "Medical Facility",
          "Medical Facility",
          "Medical Facility",
          "Medical Facility",
          "Medical Facility",
          "Medical Facility",
          "Medical Facility",
          "Medical Facility",
          "Medical Facility",
          "Medical Facility",
          "Medical Facility",
          "Medical Facility",
          "Medical Facility",
          "Medical Facility",
          "Medical Facility",
          "Medical Facility",
          "Medical Facility",
          "Medical Facility",
          "Medical Facility",
          "Medical Facility",
          "Medical Facility",
          "Medical Facility",
          "Medical Facility",
          "Medical Facility",
          "Medical Facility",
          "Medical Facility",
          "Medical Facility",
          "Medical Facility",
          "Medical Facility",
          "Medical Facility",
          "Medical Facility",
          "Medical Facility",
          "Medical Facility",
          "Medical Facility",
          "Medical Facility",
          "Medical Facility",
          "Medical Facility",
          "Medical Facility",
          "Medical Facility",
          "Medical Facility",
          "Medical Facility",
          "Medical Facility",
          "Medical Facility",
          "Medical Facility",
          "Medical Facility",
          "Medical Facility",
          "Medical Facility",
          "Medical Facility",
          "Medical Facility",
          "Medical Facility",
          "Medical Facility",
          "Medical Facility",
          "Medical Facility",
          "Medical Facility",
          "Medical Facility",
          "Medical Facility",
          "Medical Facility",
          "Medical Facility",
          "Medical Facility",
          "Medical Facility",
          "Medical Facility",
          "Medical Facility",
          "Medical Facility",
          "Medical Facility",
          "Medical Facility",
          "Medical Facility",
          "Medical Facility",
          "Medical Facility",
          "Medical Facility",
          "Medical Facility",
          "Medical Facility",
          "Medical Facility",
          "Medical Facility",
          "Medical Facility",
          "Medical Facility",
          "Medical Facility",
          "Medical Facility",
          "Medical Facility",
          "Medical Facility",
          "Medical Facility",
          "Medical Facility",
          "Medical Facility",
          "Medical Facility",
          "Medical Facility",
          "Medical Facility",
          "Medical Facility",
          "Medical Facility",
          "Medical Facility",
          "Medical Facility",
          "Medical Facility",
          "Medical Facility",
          "Medical Facility",
          "Medical Facility",
          "Medical Facility",
          "Medical Facility",
          "Medical Facility",
          "Medical Facility",
          "Medical Facility",
          "Medical Facility",
          "Medical Facility",
          "Medical Facility",
          "Medical Facility",
          "Medical Facility",
          "Medical Facility",
          "Medical Facility",
          "Medical Facility",
          "Medical Facility",
          "Medical Facility",
          "Medical Facility",
          "Medical Facility",
          "Medical Facility",
          "Medical Facility"
         ],
         "xaxis": "x",
         "y": [
          "ALAMEDA",
          "ALHAMBRA",
          "ANAHEIM",
          "ANTIOCH",
          "APPLE VALLEY",
          "ARCADIA",
          "ARCATA",
          "ARROYO GRANDE",
          "AUBURN",
          "BAKERSFIELD",
          "BALDWIN PARK",
          "BANNING",
          "BARSTOW",
          "BELLFLOWER",
          "BERKELEY",
          "BEVERLY HILLS",
          "BIG BEAR LAKE",
          "BISHOP",
          "BLYTHE",
          "BRAWLEY",
          "BREA",
          "BURBANK",
          "BURLINGAME",
          "CAMARILLO",
          "CARMICHAEL",
          "CASTRO VALLEY",
          "CERES",
          "CHICO",
          "CHINO",
          "CHULA VISTA",
          "CLEARLAKE",
          "CLOVIS",
          "COALINGA",
          "COLTON",
          "CONCORD",
          "CORONA",
          "CORONADO",
          "COSTA MESA",
          "COVINA",
          "CULVER CITY",
          "DALY CITY",
          "DAVIS",
          "DELANO",
          "DOWNEY",
          "DUARTE",
          "DUBLIN",
          "EL CENTRO",
          "EMERYVILLE",
          "ENCINITAS",
          "ENCINO",
          "ESCONDIDO",
          "EUREKA",
          "FAIRFIELD",
          "FALL RIVER MILLS",
          "FOLSOM",
          "FONTANA",
          "FORT BRAGG",
          "FORTUNA",
          "FOUNTAIN VALLEY",
          "FREMONT",
          "FRENCH CAMP",
          "FRESNO",
          "FULLERTON",
          "GARDEN GROVE",
          "GARDENA",
          "GILROY",
          "GLENDALE",
          "GLENDORA",
          "GRASS VALLEY",
          "GREENBRAE",
          "HANFORD",
          "HARBOR CITY",
          "HAYWARD",
          "HEALDSBURG",
          "HEMET",
          "HOLLISTER",
          "HUNTINGTON BEACH",
          "HUNTINGTON PARK",
          "INDIO",
          "INDUSTRY",
          "INGLEWOOD",
          "IRVINE",
          "JACKSON",
          "JOSHUA TREE",
          "KENTFIELD",
          "LA JOLLA",
          "LA MESA",
          "LA MIRADA",
          "LA PALMA",
          "LA QUINTA",
          "LAGUNA BEACH",
          "LAGUNA HILLS",
          "LAKE ARROWHEAD",
          "LAKE ISABELLA",
          "LAKEPORT",
          "LAKEWOOD",
          "LANCASTER",
          "LODI",
          "LOMA LINDA",
          "LOMPOC",
          "LONG BEACH",
          "LOS ALAMITOS",
          "LOS ANGELES",
          "LOS BANOS",
          "LOS GATOS",
          "LYNWOOD",
          "MADERA",
          "MAMMOTH LAKES",
          "MANTECA",
          "MARINA DEL REY",
          "MARTINEZ",
          "MARYSVILLE",
          "MENLO PARK",
          "MERCED",
          "MISSION HILLS",
          "MISSION VIEJO",
          "MODESTO",
          "MONROVIA",
          "MONTCLAIR",
          "MONTEBELLO",
          "MONTEREY",
          "MONTEREY PARK",
          "MORENO VALLEY",
          "MOUNTAIN VIEW",
          "MT SHASTA",
          "MURRIETA",
          "NAPA",
          "NATIONAL CITY",
          "NEWPORT BEACH",
          "NORTHRIDGE",
          "NORWALK",
          "NOVATO",
          "OAKDALE",
          "OAKLAND",
          "OCEANSIDE",
          "OJAI",
          "ONTARIO",
          "ORANGE",
          "OROVILLE",
          "OXNARD",
          "PALM DESERT",
          "PALM SPRINGS",
          "PALMDALE",
          "PALO ALTO",
          "PANORAMA",
          "PANORAMA CITY",
          "PARAMOUNT",
          "PASADENA",
          "PERRIS",
          "PETALUMA",
          "PLACENTIA",
          "PLACERVILLE",
          "PLEASANTON",
          "POMONA",
          "PORTERVILLE",
          "POWAY",
          "RANCHO CORDOVA",
          "RANCHO CUCAMONGA",
          "RANCHO MIRAGE",
          "RED BLUFF",
          "REDDING",
          "REDLANDS",
          "REDWOOD CITY",
          "RICHMOND",
          "RIDGECREST",
          "RIVERSIDE",
          "ROCKLIN",
          "ROSEVILLE",
          "SACRAMENTO",
          "SALINAS",
          "SAN ANDREAS",
          "SAN BERNARDINO",
          "SAN DIEGO",
          "SAN DIMAS",
          "SAN FRANCISCO",
          "SAN GABRIEL",
          "SAN JOSE",
          "SAN LEANDRO",
          "SAN LUIS OBISPO",
          "SAN MARCOS",
          "SAN MATEO",
          "SAN PEDRO",
          "SAN RAFAEL",
          "SAN RAMON",
          "SANTA ANA",
          "SANTA BARBARA",
          "SANTA CLARA",
          "SANTA CLARITA",
          "SANTA CRUZ",
          "SANTA FE SPRINGS",
          "SANTA MARIA",
          "SANTA MONICA",
          "SANTA PAULA",
          "SANTA ROSA",
          "SEBASTOPOL",
          "SHERMAN OAKS",
          "SIMI VALLEY",
          "SOLVANG",
          "SONOMA",
          "SONORA",
          "SOUTH EL MONTE",
          "SOUTH LAKE TAHOE",
          "SOUTH SAN FRANCISCO",
          "ST HELENA",
          "STANFORD",
          "STOCKTON",
          "SUN CITY",
          "SUN VALLEY",
          "SUSANVILLE",
          "SYLMAR",
          "TARZANA",
          "TEHACHAPI",
          "TEMECULA",
          "TEMPLETON",
          "THOUSAND OAKS",
          "TORRANCE",
          "TRACY",
          "TRUCKEE",
          "TULARE",
          "TURLOCK",
          "TUSTIN",
          "UKIAH",
          "UPLAND",
          "VACAVILLE",
          "VALENCIA",
          "VALLEJO",
          "VAN NUYS",
          "VENTURA",
          "VICTORVILLE",
          "VISALIA",
          "WALNUT CREEK",
          "WATSONVILLE",
          "WEST COVINA",
          "WEST HILLS",
          "WESTMINSTER",
          "WHITTIER",
          "WILDOMAR",
          "WILLITS",
          "WILLOWS",
          "WOODLAND",
          "WOODLAND HILLS",
          "YREKA",
          "YUBA CITY",
          "YUCCA VALLEY"
         ],
         "yaxis": "y",
         "type": "scatter"
        },
        {
         "hovertemplate": "Facility Type=%{x}<br>City=%{y}<br>Number of Facilities=%{marker.size}<extra></extra>",
         "legendgroup": "Veterinary Only",
         "marker": {
          "color": "#00cc96",
          "size": [
           1,
           1,
           1,
           1,
           1
          ],
          "sizemode": "area",
          "sizeref": 0.115,
          "symbol": "circle"
         },
         "mode": "markers",
         "name": "Veterinary Only",
         "orientation": "v",
         "showlegend": true,
         "x": [
          "Veterinary Only",
          "Veterinary Only",
          "Veterinary Only",
          "Veterinary Only",
          "Veterinary Only"
         ],
         "xaxis": "x",
         "y": [
          "BAKERSFIELD",
          "CULVER CITY",
          "HAYWARD",
          "LOMA LINDA",
          "SACRAMENTO"
         ],
         "yaxis": "y",
         "type": "scatter"
        },
        {
         "hovertemplate": "Facility Type=%{x}<br>City=%{y}<br>Number of Facilities=%{marker.size}<extra></extra>",
         "legendgroup": "Research Center",
         "marker": {
          "color": "#ab63fa",
          "size": [
           1
          ],
          "sizemode": "area",
          "sizeref": 0.115,
          "symbol": "circle"
         },
         "mode": "markers",
         "name": "Research Center",
         "orientation": "v",
         "showlegend": true,
         "x": [
          "Research Center"
         ],
         "xaxis": "x",
         "y": [
          "SAN DIEGO"
         ],
         "yaxis": "y",
         "type": "scatter"
        }
       ],
       "layout": {
        "template": {
         "data": {
          "barpolar": [
           {
            "marker": {
             "line": {
              "color": "white",
              "width": 0.5
             },
             "pattern": {
              "fillmode": "overlay",
              "size": 10,
              "solidity": 0.2
             }
            },
            "type": "barpolar"
           }
          ],
          "bar": [
           {
            "error_x": {
             "color": "#2a3f5f"
            },
            "error_y": {
             "color": "#2a3f5f"
            },
            "marker": {
             "line": {
              "color": "white",
              "width": 0.5
             },
             "pattern": {
              "fillmode": "overlay",
              "size": 10,
              "solidity": 0.2
             }
            },
            "type": "bar"
           }
          ],
          "carpet": [
           {
            "aaxis": {
             "endlinecolor": "#2a3f5f",
             "gridcolor": "#C8D4E3",
             "linecolor": "#C8D4E3",
             "minorgridcolor": "#C8D4E3",
             "startlinecolor": "#2a3f5f"
            },
            "baxis": {
             "endlinecolor": "#2a3f5f",
             "gridcolor": "#C8D4E3",
             "linecolor": "#C8D4E3",
             "minorgridcolor": "#C8D4E3",
             "startlinecolor": "#2a3f5f"
            },
            "type": "carpet"
           }
          ],
          "choropleth": [
           {
            "colorbar": {
             "outlinewidth": 0,
             "ticks": ""
            },
            "type": "choropleth"
           }
          ],
          "contourcarpet": [
           {
            "colorbar": {
             "outlinewidth": 0,
             "ticks": ""
            },
            "type": "contourcarpet"
           }
          ],
          "contour": [
           {
            "colorbar": {
             "outlinewidth": 0,
             "ticks": ""
            },
            "colorscale": [
             [
              0.0,
              "#0d0887"
             ],
             [
              0.1111111111111111,
              "#46039f"
             ],
             [
              0.2222222222222222,
              "#7201a8"
             ],
             [
              0.3333333333333333,
              "#9c179e"
             ],
             [
              0.4444444444444444,
              "#bd3786"
             ],
             [
              0.5555555555555556,
              "#d8576b"
             ],
             [
              0.6666666666666666,
              "#ed7953"
             ],
             [
              0.7777777777777778,
              "#fb9f3a"
             ],
             [
              0.8888888888888888,
              "#fdca26"
             ],
             [
              1.0,
              "#f0f921"
             ]
            ],
            "type": "contour"
           }
          ],
          "heatmapgl": [
           {
            "colorbar": {
             "outlinewidth": 0,
             "ticks": ""
            },
            "colorscale": [
             [
              0.0,
              "#0d0887"
             ],
             [
              0.1111111111111111,
              "#46039f"
             ],
             [
              0.2222222222222222,
              "#7201a8"
             ],
             [
              0.3333333333333333,
              "#9c179e"
             ],
             [
              0.4444444444444444,
              "#bd3786"
             ],
             [
              0.5555555555555556,
              "#d8576b"
             ],
             [
              0.6666666666666666,
              "#ed7953"
             ],
             [
              0.7777777777777778,
              "#fb9f3a"
             ],
             [
              0.8888888888888888,
              "#fdca26"
             ],
             [
              1.0,
              "#f0f921"
             ]
            ],
            "type": "heatmapgl"
           }
          ],
          "heatmap": [
           {
            "colorbar": {
             "outlinewidth": 0,
             "ticks": ""
            },
            "colorscale": [
             [
              0.0,
              "#0d0887"
             ],
             [
              0.1111111111111111,
              "#46039f"
             ],
             [
              0.2222222222222222,
              "#7201a8"
             ],
             [
              0.3333333333333333,
              "#9c179e"
             ],
             [
              0.4444444444444444,
              "#bd3786"
             ],
             [
              0.5555555555555556,
              "#d8576b"
             ],
             [
              0.6666666666666666,
              "#ed7953"
             ],
             [
              0.7777777777777778,
              "#fb9f3a"
             ],
             [
              0.8888888888888888,
              "#fdca26"
             ],
             [
              1.0,
              "#f0f921"
             ]
            ],
            "type": "heatmap"
           }
          ],
          "histogram2dcontour": [
           {
            "colorbar": {
             "outlinewidth": 0,
             "ticks": ""
            },
            "colorscale": [
             [
              0.0,
              "#0d0887"
             ],
             [
              0.1111111111111111,
              "#46039f"
             ],
             [
              0.2222222222222222,
              "#7201a8"
             ],
             [
              0.3333333333333333,
              "#9c179e"
             ],
             [
              0.4444444444444444,
              "#bd3786"
             ],
             [
              0.5555555555555556,
              "#d8576b"
             ],
             [
              0.6666666666666666,
              "#ed7953"
             ],
             [
              0.7777777777777778,
              "#fb9f3a"
             ],
             [
              0.8888888888888888,
              "#fdca26"
             ],
             [
              1.0,
              "#f0f921"
             ]
            ],
            "type": "histogram2dcontour"
           }
          ],
          "histogram2d": [
           {
            "colorbar": {
             "outlinewidth": 0,
             "ticks": ""
            },
            "colorscale": [
             [
              0.0,
              "#0d0887"
             ],
             [
              0.1111111111111111,
              "#46039f"
             ],
             [
              0.2222222222222222,
              "#7201a8"
             ],
             [
              0.3333333333333333,
              "#9c179e"
             ],
             [
              0.4444444444444444,
              "#bd3786"
             ],
             [
              0.5555555555555556,
              "#d8576b"
             ],
             [
              0.6666666666666666,
              "#ed7953"
             ],
             [
              0.7777777777777778,
              "#fb9f3a"
             ],
             [
              0.8888888888888888,
              "#fdca26"
             ],
             [
              1.0,
              "#f0f921"
             ]
            ],
            "type": "histogram2d"
           }
          ],
          "histogram": [
           {
            "marker": {
             "pattern": {
              "fillmode": "overlay",
              "size": 10,
              "solidity": 0.2
             }
            },
            "type": "histogram"
           }
          ],
          "mesh3d": [
           {
            "colorbar": {
             "outlinewidth": 0,
             "ticks": ""
            },
            "type": "mesh3d"
           }
          ],
          "parcoords": [
           {
            "line": {
             "colorbar": {
              "outlinewidth": 0,
              "ticks": ""
             }
            },
            "type": "parcoords"
           }
          ],
          "pie": [
           {
            "automargin": true,
            "type": "pie"
           }
          ],
          "scatter3d": [
           {
            "line": {
             "colorbar": {
              "outlinewidth": 0,
              "ticks": ""
             }
            },
            "marker": {
             "colorbar": {
              "outlinewidth": 0,
              "ticks": ""
             }
            },
            "type": "scatter3d"
           }
          ],
          "scattercarpet": [
           {
            "marker": {
             "colorbar": {
              "outlinewidth": 0,
              "ticks": ""
             }
            },
            "type": "scattercarpet"
           }
          ],
          "scattergeo": [
           {
            "marker": {
             "colorbar": {
              "outlinewidth": 0,
              "ticks": ""
             }
            },
            "type": "scattergeo"
           }
          ],
          "scattergl": [
           {
            "marker": {
             "colorbar": {
              "outlinewidth": 0,
              "ticks": ""
             }
            },
            "type": "scattergl"
           }
          ],
          "scattermapbox": [
           {
            "marker": {
             "colorbar": {
              "outlinewidth": 0,
              "ticks": ""
             }
            },
            "type": "scattermapbox"
           }
          ],
          "scatterpolargl": [
           {
            "marker": {
             "colorbar": {
              "outlinewidth": 0,
              "ticks": ""
             }
            },
            "type": "scatterpolargl"
           }
          ],
          "scatterpolar": [
           {
            "marker": {
             "colorbar": {
              "outlinewidth": 0,
              "ticks": ""
             }
            },
            "type": "scatterpolar"
           }
          ],
          "scatter": [
           {
            "fillpattern": {
             "fillmode": "overlay",
             "size": 10,
             "solidity": 0.2
            },
            "type": "scatter"
           }
          ],
          "scatterternary": [
           {
            "marker": {
             "colorbar": {
              "outlinewidth": 0,
              "ticks": ""
             }
            },
            "type": "scatterternary"
           }
          ],
          "surface": [
           {
            "colorbar": {
             "outlinewidth": 0,
             "ticks": ""
            },
            "colorscale": [
             [
              0.0,
              "#0d0887"
             ],
             [
              0.1111111111111111,
              "#46039f"
             ],
             [
              0.2222222222222222,
              "#7201a8"
             ],
             [
              0.3333333333333333,
              "#9c179e"
             ],
             [
              0.4444444444444444,
              "#bd3786"
             ],
             [
              0.5555555555555556,
              "#d8576b"
             ],
             [
              0.6666666666666666,
              "#ed7953"
             ],
             [
              0.7777777777777778,
              "#fb9f3a"
             ],
             [
              0.8888888888888888,
              "#fdca26"
             ],
             [
              1.0,
              "#f0f921"
             ]
            ],
            "type": "surface"
           }
          ],
          "table": [
           {
            "cells": {
             "fill": {
              "color": "#EBF0F8"
             },
             "line": {
              "color": "white"
             }
            },
            "header": {
             "fill": {
              "color": "#C8D4E3"
             },
             "line": {
              "color": "white"
             }
            },
            "type": "table"
           }
          ]
         },
         "layout": {
          "annotationdefaults": {
           "arrowcolor": "#2a3f5f",
           "arrowhead": 0,
           "arrowwidth": 1
          },
          "autotypenumbers": "strict",
          "coloraxis": {
           "colorbar": {
            "outlinewidth": 0,
            "ticks": ""
           }
          },
          "colorscale": {
           "diverging": [
            [
             0,
             "#8e0152"
            ],
            [
             0.1,
             "#c51b7d"
            ],
            [
             0.2,
             "#de77ae"
            ],
            [
             0.3,
             "#f1b6da"
            ],
            [
             0.4,
             "#fde0ef"
            ],
            [
             0.5,
             "#f7f7f7"
            ],
            [
             0.6,
             "#e6f5d0"
            ],
            [
             0.7,
             "#b8e186"
            ],
            [
             0.8,
             "#7fbc41"
            ],
            [
             0.9,
             "#4d9221"
            ],
            [
             1,
             "#276419"
            ]
           ],
           "sequential": [
            [
             0.0,
             "#0d0887"
            ],
            [
             0.1111111111111111,
             "#46039f"
            ],
            [
             0.2222222222222222,
             "#7201a8"
            ],
            [
             0.3333333333333333,
             "#9c179e"
            ],
            [
             0.4444444444444444,
             "#bd3786"
            ],
            [
             0.5555555555555556,
             "#d8576b"
            ],
            [
             0.6666666666666666,
             "#ed7953"
            ],
            [
             0.7777777777777778,
             "#fb9f3a"
            ],
            [
             0.8888888888888888,
             "#fdca26"
            ],
            [
             1.0,
             "#f0f921"
            ]
           ],
           "sequentialminus": [
            [
             0.0,
             "#0d0887"
            ],
            [
             0.1111111111111111,
             "#46039f"
            ],
            [
             0.2222222222222222,
             "#7201a8"
            ],
            [
             0.3333333333333333,
             "#9c179e"
            ],
            [
             0.4444444444444444,
             "#bd3786"
            ],
            [
             0.5555555555555556,
             "#d8576b"
            ],
            [
             0.6666666666666666,
             "#ed7953"
            ],
            [
             0.7777777777777778,
             "#fb9f3a"
            ],
            [
             0.8888888888888888,
             "#fdca26"
            ],
            [
             1.0,
             "#f0f921"
            ]
           ]
          },
          "colorway": [
           "#636efa",
           "#EF553B",
           "#00cc96",
           "#ab63fa",
           "#FFA15A",
           "#19d3f3",
           "#FF6692",
           "#B6E880",
           "#FF97FF",
           "#FECB52"
          ],
          "font": {
           "color": "#2a3f5f"
          },
          "geo": {
           "bgcolor": "white",
           "lakecolor": "white",
           "landcolor": "white",
           "showlakes": true,
           "showland": true,
           "subunitcolor": "#C8D4E3"
          },
          "hoverlabel": {
           "align": "left"
          },
          "hovermode": "closest",
          "mapbox": {
           "style": "light"
          },
          "paper_bgcolor": "white",
          "plot_bgcolor": "white",
          "polar": {
           "angularaxis": {
            "gridcolor": "#EBF0F8",
            "linecolor": "#EBF0F8",
            "ticks": ""
           },
           "bgcolor": "white",
           "radialaxis": {
            "gridcolor": "#EBF0F8",
            "linecolor": "#EBF0F8",
            "ticks": ""
           }
          },
          "scene": {
           "xaxis": {
            "backgroundcolor": "white",
            "gridcolor": "#DFE8F3",
            "gridwidth": 2,
            "linecolor": "#EBF0F8",
            "showbackground": true,
            "ticks": "",
            "zerolinecolor": "#EBF0F8"
           },
           "yaxis": {
            "backgroundcolor": "white",
            "gridcolor": "#DFE8F3",
            "gridwidth": 2,
            "linecolor": "#EBF0F8",
            "showbackground": true,
            "ticks": "",
            "zerolinecolor": "#EBF0F8"
           },
           "zaxis": {
            "backgroundcolor": "white",
            "gridcolor": "#DFE8F3",
            "gridwidth": 2,
            "linecolor": "#EBF0F8",
            "showbackground": true,
            "ticks": "",
            "zerolinecolor": "#EBF0F8"
           }
          },
          "shapedefaults": {
           "line": {
            "color": "#2a3f5f"
           }
          },
          "ternary": {
           "aaxis": {
            "gridcolor": "#DFE8F3",
            "linecolor": "#A2B1C6",
            "ticks": ""
           },
           "baxis": {
            "gridcolor": "#DFE8F3",
            "linecolor": "#A2B1C6",
            "ticks": ""
           },
           "bgcolor": "white",
           "caxis": {
            "gridcolor": "#DFE8F3",
            "linecolor": "#A2B1C6",
            "ticks": ""
           }
          },
          "title": {
           "x": 0.05
          },
          "xaxis": {
           "automargin": true,
           "gridcolor": "#EBF0F8",
           "linecolor": "#EBF0F8",
           "ticks": "",
           "title": {
            "standoff": 15
           },
           "zerolinecolor": "#EBF0F8",
           "zerolinewidth": 2
          },
          "yaxis": {
           "automargin": true,
           "gridcolor": "#EBF0F8",
           "linecolor": "#EBF0F8",
           "ticks": "",
           "title": {
            "standoff": 15
           },
           "zerolinecolor": "#EBF0F8",
           "zerolinewidth": 2
          }
         }
        },
        "xaxis": {
         "anchor": "y",
         "domain": [
          0.0,
          1.0
         ],
         "title": {
          "text": "Facility Type"
         },
         "categoryorder": "array",
         "categoryarray": [
          "Infusion Center",
          "Medical Facility",
          "Veterinary Only",
          "Research Center"
         ]
        },
        "yaxis": {
         "anchor": "x",
         "domain": [
          0.0,
          1.0
         ],
         "title": {
          "text": "City"
         },
         "categoryorder": "array",
         "categoryarray": [
          "YUCCA VALLEY",
          "YUBA CITY",
          "YREKA",
          "WOODLAND HILLS",
          "WOODLAND",
          "WILLOWS",
          "WILLITS",
          "WILDOMAR",
          "WHITTIER",
          "WESTMINSTER",
          "WEST HILLS",
          "WEST COVINA",
          "WATSONVILLE",
          "WALNUT CREEK",
          "VISALIA",
          "VICTORVILLE",
          "VENTURA",
          "VAN NUYS",
          "VALLEJO",
          "VALENCIA",
          "VACAVILLE",
          "UPLAND",
          "UNION CITY",
          "UKIAH",
          "TUSTIN",
          "TURLOCK",
          "TULARE",
          "TRUCKEE",
          "TRACY",
          "TORRANCE",
          "THOUSAND OAKS",
          "TEMPLETON",
          "TEMECULA",
          "TEHACHAPI",
          "TARZANA",
          "SYLMAR",
          "SUSANVILLE",
          "SUN VALLEY",
          "SUN CITY",
          "STOCKTON",
          "STANTON",
          "STANFORD",
          "ST HELENA",
          "SOUTH SAN FRANCISCO",
          "SOUTH LAKE TAHOE",
          "SOUTH EL MONTE",
          "SONORA",
          "SONOMA",
          "SOLVANG",
          "SIMI VALLEY",
          "SIGNAL HILL",
          "SHERMAN OAKS",
          "SEBASTOPOL",
          "SANTA ROSA",
          "SANTA PAULA",
          "SANTA MONICA",
          "SANTA MARIA",
          "SANTA FE SPRINGS",
          "SANTA CRUZ",
          "SANTA CLARITA",
          "SANTA CLARA",
          "SANTA BARBARA",
          "SANTA ANA",
          "SAN RAMON",
          "SAN RAFAEL",
          "SAN PEDRO",
          "SAN MATEO",
          "SAN MARCOS",
          "SAN LUIS OBISPO",
          "SAN LEANDRO",
          "SAN JOSE",
          "SAN GABRIEL",
          "SAN FRANCISCO",
          "SAN DIMAS",
          "SAN DIEGO",
          "SAN BERNARDINO",
          "SAN ANDREAS",
          "SALINAS",
          "SACRAMENTO",
          "ROSEVILLE",
          "ROCKLIN",
          "RIVERSIDE",
          "RIDGECREST",
          "RICHMOND",
          "REDWOOD CITY",
          "REDLANDS",
          "REDDING",
          "RED BLUFF",
          "RANCHO MIRAGE",
          "RANCHO CUCAMONGA",
          "RANCHO CORDOVA",
          "POWAY",
          "PORTERVILLE",
          "POMONA",
          "PLEASANTON",
          "PLACERVILLE",
          "PLACENTIA",
          "PISMO BEACH",
          "PETALUMA",
          "PERRIS",
          "PASADENA",
          "PARAMOUNT",
          "PANORAMA CITY",
          "PANORAMA",
          "PALO ALTO",
          "PALMDALE",
          "PALM SPRINGS",
          "PALM DESERT",
          "OXNARD",
          "OROVILLE",
          "ORANGE",
          "ONTARIO",
          "OJAI",
          "OCEANSIDE",
          "OAKLAND",
          "OAKDALE",
          "NOVATO",
          "NORWALK",
          "NORTHRIDGE",
          "NORTH HOLLYWOOD",
          "NEWPORT BEACH",
          "NATIONAL CITY",
          "NAPA",
          "MURRIETA",
          "MT SHASTA",
          "MOUNTAIN VIEW",
          "MORENO VALLEY",
          "MONTEREY PARK",
          "MONTEREY",
          "MONTEBELLO",
          "MONTCLAIR",
          "MONROVIA",
          "MODESTO",
          "MISSION VIEJO",
          "MISSION HILLS",
          "MERCED",
          "MENLO PARK",
          "MARYSVILLE",
          "MARTINEZ",
          "MARINA DEL REY",
          "MANTECA",
          "MAMMOTH LAKES",
          "MADERA",
          "LYNWOOD",
          "LOS GATOS",
          "LOS BANOS",
          "LOS ANGELES",
          "LOS ALAMITOS",
          "LONG BEACH",
          "LOMPOC",
          "LOMA LINDA",
          "LODI",
          "LIVERMORE",
          "LANCASTER",
          "LAKEWOOD",
          "LAKEPORT",
          "LAKE ISABELLA",
          "LAKE ARROWHEAD",
          "LAGUNA HILLS",
          "LAGUNA BEACH",
          "LA QUINTA",
          "LA PALMA",
          "LA MIRADA",
          "LA MESA",
          "LA JOLLA",
          "KINGSBURG",
          "KENTFIELD",
          "JOSHUA TREE",
          "JACKSON",
          "IRVINE",
          "INGLEWOOD",
          "INDUSTRY",
          "INDIO",
          "HUNTINGTON PARK",
          "HUNTINGTON BEACH",
          "HOLLISTER",
          "HEMET",
          "HEALDSBURG",
          "HAYWARD",
          "HARBOR CITY",
          "HANFORD",
          "GREENBRAE",
          "GRASS VALLEY",
          "GLENDORA",
          "GLENDALE",
          "GILROY",
          "GARDENA",
          "GARDEN GROVE",
          "FULLERTON",
          "FRESNO",
          "FRENCH CAMP",
          "FREMONT",
          "FOUNTAIN VALLEY",
          "FORTUNA",
          "FORT BRAGG",
          "FONTANA",
          "FOLSOM",
          "FALL RIVER MILLS",
          "FAIRFIELD",
          "EUREKA",
          "ESCONDIDO",
          "ENCINO",
          "ENCINITAS",
          "EMERYVILLE",
          "ELK GROVE",
          "EL CENTRO",
          "DUBLIN",
          "DUARTE",
          "DOWNEY",
          "DELANO",
          "DAVIS",
          "DALY CITY",
          "CYPRESS",
          "CULVER CITY",
          "CRESCENT CITY",
          "COVINA",
          "COSTA MESA",
          "CORONADO",
          "CORONA",
          "CONCORD",
          "COLTON",
          "COALINGA",
          "CLOVIS",
          "CLEARLAKE",
          "CHULA VISTA",
          "CHINO",
          "CHICO",
          "CERRITOS",
          "CERES",
          "CASTRO VALLEY",
          "CARMICHAEL",
          "CANOGA PARK",
          "CAMERON PARK",
          "CAMARILLO",
          "BURLINGAME",
          "BURBANK",
          "BREA",
          "BRAWLEY",
          "BLYTHE",
          "BISHOP",
          "BIG BEAR LAKE",
          "BEVERLY HILLS",
          "BERKELEY",
          "BELLFLOWER",
          "BEAUMONT",
          "BARSTOW",
          "BANNING",
          "BALDWIN PARK",
          "BAKERSFIELD",
          "AUBURN",
          "ARROYO GRANDE",
          "ARCATA",
          "ARCADIA",
          "APPLE VALLEY",
          "ANTIOCH",
          "ANAHEIM",
          "ALHAMBRA",
          "ALAMEDA"
         ]
        },
        "legend": {
         "title": {
          "text": "Facility Type"
         },
         "tracegroupgap": 0,
         "itemsizing": "constant"
        },
        "title": {
         "text": "Facilities by City (Bubble Chart)"
        }
       },
       "config": {
        "plotlyServerURL": "https://plot.ly"
       }
      },
      "text/html": [
       "<div>                            <div id=\"98a2ac64-fdbc-4b2f-b973-e311ba33f6bd\" class=\"plotly-graph-div\" style=\"height:525px; width:100%;\"></div>            <script type=\"text/javascript\">                require([\"plotly\"], function(Plotly) {                    window.PLOTLYENV=window.PLOTLYENV || {};                                    if (document.getElementById(\"98a2ac64-fdbc-4b2f-b973-e311ba33f6bd\")) {                    Plotly.newPlot(                        \"98a2ac64-fdbc-4b2f-b973-e311ba33f6bd\",                        [{\"hovertemplate\":\"Facility Type=%{x}\\u003cbr\\u003eCity=%{y}\\u003cbr\\u003eNumber of Facilities=%{marker.size}\\u003cextra\\u003e\\u003c\\u002fextra\\u003e\",\"legendgroup\":\"Infusion Center\",\"marker\":{\"color\":\"#636efa\",\"size\":[1,1,2,1,3,1,1,4,1,1,1,2,2,1,1,1,2,1,1,1,3,1,1,1,1,1,2,4,1,1,1,1,3,1,1,1,2,1,1,1,1,1,1,1,1,7,1,6,2,1,1,2,1,1,1,1,2,1,1,1,4,2,1,1],\"sizemode\":\"area\",\"sizeref\":0.115,\"symbol\":\"circle\"},\"mode\":\"markers\",\"name\":\"Infusion Center\",\"orientation\":\"v\",\"showlegend\":true,\"x\":[\"Infusion Center\",\"Infusion Center\",\"Infusion Center\",\"Infusion Center\",\"Infusion Center\",\"Infusion Center\",\"Infusion Center\",\"Infusion Center\",\"Infusion Center\",\"Infusion Center\",\"Infusion Center\",\"Infusion Center\",\"Infusion Center\",\"Infusion Center\",\"Infusion Center\",\"Infusion Center\",\"Infusion Center\",\"Infusion Center\",\"Infusion Center\",\"Infusion Center\",\"Infusion Center\",\"Infusion Center\",\"Infusion Center\",\"Infusion Center\",\"Infusion Center\",\"Infusion Center\",\"Infusion Center\",\"Infusion Center\",\"Infusion Center\",\"Infusion Center\",\"Infusion Center\",\"Infusion Center\",\"Infusion Center\",\"Infusion Center\",\"Infusion Center\",\"Infusion Center\",\"Infusion Center\",\"Infusion Center\",\"Infusion Center\",\"Infusion Center\",\"Infusion Center\",\"Infusion Center\",\"Infusion Center\",\"Infusion Center\",\"Infusion Center\",\"Infusion Center\",\"Infusion Center\",\"Infusion Center\",\"Infusion Center\",\"Infusion Center\",\"Infusion Center\",\"Infusion Center\",\"Infusion Center\",\"Infusion Center\",\"Infusion Center\",\"Infusion Center\",\"Infusion Center\",\"Infusion Center\",\"Infusion Center\",\"Infusion Center\",\"Infusion Center\",\"Infusion Center\",\"Infusion Center\",\"Infusion Center\"],\"xaxis\":\"x\",\"y\":[\"ALAMEDA\",\"ALHAMBRA\",\"ANAHEIM\",\"ARROYO GRANDE\",\"BAKERSFIELD\",\"BEAUMONT\",\"BERKELEY\",\"BURBANK\",\"CAMARILLO\",\"CAMERON PARK\",\"CANOGA PARK\",\"CERRITOS\",\"CLOVIS\",\"COVINA\",\"CRESCENT CITY\",\"CULVER CITY\",\"CYPRESS\",\"ELK GROVE\",\"ENCINITAS\",\"ESCONDIDO\",\"FRESNO\",\"FULLERTON\",\"GARDEN GROVE\",\"GLENDALE\",\"GLENDORA\",\"HAYWARD\",\"INGLEWOOD\",\"IRVINE\",\"KINGSBURG\",\"LIVERMORE\",\"LODI\",\"LONG BEACH\",\"LOS ANGELES\",\"MORENO VALLEY\",\"NORTH HOLLYWOOD\",\"ONTARIO\",\"ORANGE\",\"OXNARD\",\"PASADENA\",\"PERRIS\",\"PISMO BEACH\",\"PLEASANTON\",\"REDDING\",\"RIVERSIDE\",\"ROSEVILLE\",\"SACRAMENTO\",\"SALINAS\",\"SAN DIEGO\",\"SAN FRANCISCO\",\"SAN LUIS OBISPO\",\"SANTA CRUZ\",\"SANTA MARIA\",\"SANTA MONICA\",\"SIGNAL HILL\",\"STANTON\",\"SUN VALLEY\",\"TORRANCE\",\"UNION CITY\",\"VALLEJO\",\"VAN NUYS\",\"VENTURA\",\"VISALIA\",\"WALNUT CREEK\",\"WHITTIER\"],\"yaxis\":\"y\",\"type\":\"scatter\"},{\"hovertemplate\":\"Facility Type=%{x}\\u003cbr\\u003eCity=%{y}\\u003cbr\\u003eNumber of Facilities=%{marker.size}\\u003cextra\\u003e\\u003c\\u002fextra\\u003e\",\"legendgroup\":\"Medical Facility\",\"marker\":{\"color\":\"#EF553B\",\"size\":[1,2,4,3,1,2,1,1,1,13,4,1,1,1,3,2,1,1,1,2,1,1,1,1,1,1,1,2,1,2,1,3,1,2,1,2,1,2,1,1,1,1,1,5,6,1,3,1,2,1,1,1,1,1,3,5,1,1,3,4,2,15,4,1,2,1,4,1,1,2,1,3,4,1,1,1,2,1,1,1,1,5,1,1,1,9,3,1,2,1,1,2,1,1,1,1,3,1,12,2,7,1,46,1,3,1,5,1,2,1,2,2,1,1,2,2,6,1,1,1,1,2,3,3,1,3,1,2,3,2,2,1,1,6,2,1,3,10,1,1,2,2,1,6,1,3,1,4,1,1,2,1,3,3,2,1,1,1,3,1,5,2,6,3,1,6,2,4,13,2,1,4,21,2,25,1,11,5,3,2,2,1,3,1,3,2,4,2,2,1,1,4,1,5,1,1,2,1,1,2,1,1,1,2,2,6,1,1,1,1,1,1,1,1,1,10,1,1,1,2,1,1,2,5,1,3,2,3,3,3,7,1,5,1,1,3,1,1,1,1,2,1,1,1],\"sizemode\":\"area\",\"sizeref\":0.115,\"symbol\":\"circle\"},\"mode\":\"markers\",\"name\":\"Medical Facility\",\"orientation\":\"v\",\"showlegend\":true,\"x\":[\"Medical Facility\",\"Medical Facility\",\"Medical Facility\",\"Medical Facility\",\"Medical Facility\",\"Medical Facility\",\"Medical Facility\",\"Medical Facility\",\"Medical Facility\",\"Medical Facility\",\"Medical Facility\",\"Medical Facility\",\"Medical Facility\",\"Medical Facility\",\"Medical Facility\",\"Medical Facility\",\"Medical Facility\",\"Medical Facility\",\"Medical Facility\",\"Medical Facility\",\"Medical Facility\",\"Medical Facility\",\"Medical Facility\",\"Medical Facility\",\"Medical Facility\",\"Medical Facility\",\"Medical Facility\",\"Medical Facility\",\"Medical Facility\",\"Medical Facility\",\"Medical Facility\",\"Medical Facility\",\"Medical Facility\",\"Medical Facility\",\"Medical Facility\",\"Medical Facility\",\"Medical Facility\",\"Medical Facility\",\"Medical Facility\",\"Medical Facility\",\"Medical Facility\",\"Medical Facility\",\"Medical Facility\",\"Medical Facility\",\"Medical Facility\",\"Medical Facility\",\"Medical Facility\",\"Medical Facility\",\"Medical Facility\",\"Medical Facility\",\"Medical Facility\",\"Medical Facility\",\"Medical Facility\",\"Medical Facility\",\"Medical Facility\",\"Medical Facility\",\"Medical Facility\",\"Medical Facility\",\"Medical Facility\",\"Medical Facility\",\"Medical Facility\",\"Medical Facility\",\"Medical Facility\",\"Medical Facility\",\"Medical Facility\",\"Medical Facility\",\"Medical Facility\",\"Medical Facility\",\"Medical Facility\",\"Medical Facility\",\"Medical Facility\",\"Medical Facility\",\"Medical Facility\",\"Medical Facility\",\"Medical Facility\",\"Medical Facility\",\"Medical Facility\",\"Medical Facility\",\"Medical Facility\",\"Medical Facility\",\"Medical Facility\",\"Medical Facility\",\"Medical Facility\",\"Medical Facility\",\"Medical Facility\",\"Medical Facility\",\"Medical Facility\",\"Medical Facility\",\"Medical Facility\",\"Medical Facility\",\"Medical Facility\",\"Medical Facility\",\"Medical Facility\",\"Medical Facility\",\"Medical Facility\",\"Medical Facility\",\"Medical Facility\",\"Medical Facility\",\"Medical Facility\",\"Medical Facility\",\"Medical Facility\",\"Medical Facility\",\"Medical Facility\",\"Medical Facility\",\"Medical Facility\",\"Medical Facility\",\"Medical Facility\",\"Medical Facility\",\"Medical Facility\",\"Medical Facility\",\"Medical Facility\",\"Medical Facility\",\"Medical Facility\",\"Medical Facility\",\"Medical Facility\",\"Medical Facility\",\"Medical Facility\",\"Medical Facility\",\"Medical Facility\",\"Medical Facility\",\"Medical Facility\",\"Medical Facility\",\"Medical Facility\",\"Medical Facility\",\"Medical Facility\",\"Medical Facility\",\"Medical Facility\",\"Medical Facility\",\"Medical Facility\",\"Medical Facility\",\"Medical Facility\",\"Medical Facility\",\"Medical Facility\",\"Medical Facility\",\"Medical Facility\",\"Medical Facility\",\"Medical Facility\",\"Medical Facility\",\"Medical Facility\",\"Medical Facility\",\"Medical Facility\",\"Medical Facility\",\"Medical Facility\",\"Medical Facility\",\"Medical Facility\",\"Medical Facility\",\"Medical Facility\",\"Medical Facility\",\"Medical Facility\",\"Medical Facility\",\"Medical Facility\",\"Medical Facility\",\"Medical Facility\",\"Medical Facility\",\"Medical Facility\",\"Medical Facility\",\"Medical Facility\",\"Medical Facility\",\"Medical Facility\",\"Medical Facility\",\"Medical Facility\",\"Medical Facility\",\"Medical Facility\",\"Medical Facility\",\"Medical Facility\",\"Medical Facility\",\"Medical Facility\",\"Medical Facility\",\"Medical Facility\",\"Medical Facility\",\"Medical Facility\",\"Medical Facility\",\"Medical Facility\",\"Medical Facility\",\"Medical Facility\",\"Medical Facility\",\"Medical Facility\",\"Medical Facility\",\"Medical Facility\",\"Medical Facility\",\"Medical Facility\",\"Medical Facility\",\"Medical Facility\",\"Medical Facility\",\"Medical Facility\",\"Medical Facility\",\"Medical Facility\",\"Medical Facility\",\"Medical Facility\",\"Medical Facility\",\"Medical Facility\",\"Medical Facility\",\"Medical Facility\",\"Medical Facility\",\"Medical Facility\",\"Medical Facility\",\"Medical Facility\",\"Medical Facility\",\"Medical Facility\",\"Medical Facility\",\"Medical Facility\",\"Medical Facility\",\"Medical Facility\",\"Medical Facility\",\"Medical Facility\",\"Medical Facility\",\"Medical Facility\",\"Medical Facility\",\"Medical Facility\",\"Medical Facility\",\"Medical Facility\",\"Medical Facility\",\"Medical Facility\",\"Medical Facility\",\"Medical Facility\",\"Medical Facility\",\"Medical Facility\",\"Medical Facility\",\"Medical Facility\",\"Medical Facility\",\"Medical Facility\",\"Medical Facility\",\"Medical Facility\",\"Medical Facility\",\"Medical Facility\",\"Medical Facility\",\"Medical Facility\",\"Medical Facility\",\"Medical Facility\",\"Medical Facility\",\"Medical Facility\",\"Medical Facility\",\"Medical Facility\",\"Medical Facility\",\"Medical Facility\",\"Medical Facility\",\"Medical Facility\",\"Medical Facility\",\"Medical Facility\",\"Medical Facility\",\"Medical Facility\",\"Medical Facility\",\"Medical Facility\",\"Medical Facility\"],\"xaxis\":\"x\",\"y\":[\"ALAMEDA\",\"ALHAMBRA\",\"ANAHEIM\",\"ANTIOCH\",\"APPLE VALLEY\",\"ARCADIA\",\"ARCATA\",\"ARROYO GRANDE\",\"AUBURN\",\"BAKERSFIELD\",\"BALDWIN PARK\",\"BANNING\",\"BARSTOW\",\"BELLFLOWER\",\"BERKELEY\",\"BEVERLY HILLS\",\"BIG BEAR LAKE\",\"BISHOP\",\"BLYTHE\",\"BRAWLEY\",\"BREA\",\"BURBANK\",\"BURLINGAME\",\"CAMARILLO\",\"CARMICHAEL\",\"CASTRO VALLEY\",\"CERES\",\"CHICO\",\"CHINO\",\"CHULA VISTA\",\"CLEARLAKE\",\"CLOVIS\",\"COALINGA\",\"COLTON\",\"CONCORD\",\"CORONA\",\"CORONADO\",\"COSTA MESA\",\"COVINA\",\"CULVER CITY\",\"DALY CITY\",\"DAVIS\",\"DELANO\",\"DOWNEY\",\"DUARTE\",\"DUBLIN\",\"EL CENTRO\",\"EMERYVILLE\",\"ENCINITAS\",\"ENCINO\",\"ESCONDIDO\",\"EUREKA\",\"FAIRFIELD\",\"FALL RIVER MILLS\",\"FOLSOM\",\"FONTANA\",\"FORT BRAGG\",\"FORTUNA\",\"FOUNTAIN VALLEY\",\"FREMONT\",\"FRENCH CAMP\",\"FRESNO\",\"FULLERTON\",\"GARDEN GROVE\",\"GARDENA\",\"GILROY\",\"GLENDALE\",\"GLENDORA\",\"GRASS VALLEY\",\"GREENBRAE\",\"HANFORD\",\"HARBOR CITY\",\"HAYWARD\",\"HEALDSBURG\",\"HEMET\",\"HOLLISTER\",\"HUNTINGTON BEACH\",\"HUNTINGTON PARK\",\"INDIO\",\"INDUSTRY\",\"INGLEWOOD\",\"IRVINE\",\"JACKSON\",\"JOSHUA TREE\",\"KENTFIELD\",\"LA JOLLA\",\"LA MESA\",\"LA MIRADA\",\"LA PALMA\",\"LA QUINTA\",\"LAGUNA BEACH\",\"LAGUNA HILLS\",\"LAKE ARROWHEAD\",\"LAKE ISABELLA\",\"LAKEPORT\",\"LAKEWOOD\",\"LANCASTER\",\"LODI\",\"LOMA LINDA\",\"LOMPOC\",\"LONG BEACH\",\"LOS ALAMITOS\",\"LOS ANGELES\",\"LOS BANOS\",\"LOS GATOS\",\"LYNWOOD\",\"MADERA\",\"MAMMOTH LAKES\",\"MANTECA\",\"MARINA DEL REY\",\"MARTINEZ\",\"MARYSVILLE\",\"MENLO PARK\",\"MERCED\",\"MISSION HILLS\",\"MISSION VIEJO\",\"MODESTO\",\"MONROVIA\",\"MONTCLAIR\",\"MONTEBELLO\",\"MONTEREY\",\"MONTEREY PARK\",\"MORENO VALLEY\",\"MOUNTAIN VIEW\",\"MT SHASTA\",\"MURRIETA\",\"NAPA\",\"NATIONAL CITY\",\"NEWPORT BEACH\",\"NORTHRIDGE\",\"NORWALK\",\"NOVATO\",\"OAKDALE\",\"OAKLAND\",\"OCEANSIDE\",\"OJAI\",\"ONTARIO\",\"ORANGE\",\"OROVILLE\",\"OXNARD\",\"PALM DESERT\",\"PALM SPRINGS\",\"PALMDALE\",\"PALO ALTO\",\"PANORAMA\",\"PANORAMA CITY\",\"PARAMOUNT\",\"PASADENA\",\"PERRIS\",\"PETALUMA\",\"PLACENTIA\",\"PLACERVILLE\",\"PLEASANTON\",\"POMONA\",\"PORTERVILLE\",\"POWAY\",\"RANCHO CORDOVA\",\"RANCHO CUCAMONGA\",\"RANCHO MIRAGE\",\"RED BLUFF\",\"REDDING\",\"REDLANDS\",\"REDWOOD CITY\",\"RICHMOND\",\"RIDGECREST\",\"RIVERSIDE\",\"ROCKLIN\",\"ROSEVILLE\",\"SACRAMENTO\",\"SALINAS\",\"SAN ANDREAS\",\"SAN BERNARDINO\",\"SAN DIEGO\",\"SAN DIMAS\",\"SAN FRANCISCO\",\"SAN GABRIEL\",\"SAN JOSE\",\"SAN LEANDRO\",\"SAN LUIS OBISPO\",\"SAN MARCOS\",\"SAN MATEO\",\"SAN PEDRO\",\"SAN RAFAEL\",\"SAN RAMON\",\"SANTA ANA\",\"SANTA BARBARA\",\"SANTA CLARA\",\"SANTA CLARITA\",\"SANTA CRUZ\",\"SANTA FE SPRINGS\",\"SANTA MARIA\",\"SANTA MONICA\",\"SANTA PAULA\",\"SANTA ROSA\",\"SEBASTOPOL\",\"SHERMAN OAKS\",\"SIMI VALLEY\",\"SOLVANG\",\"SONOMA\",\"SONORA\",\"SOUTH EL MONTE\",\"SOUTH LAKE TAHOE\",\"SOUTH SAN FRANCISCO\",\"ST HELENA\",\"STANFORD\",\"STOCKTON\",\"SUN CITY\",\"SUN VALLEY\",\"SUSANVILLE\",\"SYLMAR\",\"TARZANA\",\"TEHACHAPI\",\"TEMECULA\",\"TEMPLETON\",\"THOUSAND OAKS\",\"TORRANCE\",\"TRACY\",\"TRUCKEE\",\"TULARE\",\"TURLOCK\",\"TUSTIN\",\"UKIAH\",\"UPLAND\",\"VACAVILLE\",\"VALENCIA\",\"VALLEJO\",\"VAN NUYS\",\"VENTURA\",\"VICTORVILLE\",\"VISALIA\",\"WALNUT CREEK\",\"WATSONVILLE\",\"WEST COVINA\",\"WEST HILLS\",\"WESTMINSTER\",\"WHITTIER\",\"WILDOMAR\",\"WILLITS\",\"WILLOWS\",\"WOODLAND\",\"WOODLAND HILLS\",\"YREKA\",\"YUBA CITY\",\"YUCCA VALLEY\"],\"yaxis\":\"y\",\"type\":\"scatter\"},{\"hovertemplate\":\"Facility Type=%{x}\\u003cbr\\u003eCity=%{y}\\u003cbr\\u003eNumber of Facilities=%{marker.size}\\u003cextra\\u003e\\u003c\\u002fextra\\u003e\",\"legendgroup\":\"Veterinary Only\",\"marker\":{\"color\":\"#00cc96\",\"size\":[1,1,1,1,1],\"sizemode\":\"area\",\"sizeref\":0.115,\"symbol\":\"circle\"},\"mode\":\"markers\",\"name\":\"Veterinary Only\",\"orientation\":\"v\",\"showlegend\":true,\"x\":[\"Veterinary Only\",\"Veterinary Only\",\"Veterinary Only\",\"Veterinary Only\",\"Veterinary Only\"],\"xaxis\":\"x\",\"y\":[\"BAKERSFIELD\",\"CULVER CITY\",\"HAYWARD\",\"LOMA LINDA\",\"SACRAMENTO\"],\"yaxis\":\"y\",\"type\":\"scatter\"},{\"hovertemplate\":\"Facility Type=%{x}\\u003cbr\\u003eCity=%{y}\\u003cbr\\u003eNumber of Facilities=%{marker.size}\\u003cextra\\u003e\\u003c\\u002fextra\\u003e\",\"legendgroup\":\"Research Center\",\"marker\":{\"color\":\"#ab63fa\",\"size\":[1],\"sizemode\":\"area\",\"sizeref\":0.115,\"symbol\":\"circle\"},\"mode\":\"markers\",\"name\":\"Research Center\",\"orientation\":\"v\",\"showlegend\":true,\"x\":[\"Research Center\"],\"xaxis\":\"x\",\"y\":[\"SAN DIEGO\"],\"yaxis\":\"y\",\"type\":\"scatter\"}],                        {\"template\":{\"data\":{\"barpolar\":[{\"marker\":{\"line\":{\"color\":\"white\",\"width\":0.5},\"pattern\":{\"fillmode\":\"overlay\",\"size\":10,\"solidity\":0.2}},\"type\":\"barpolar\"}],\"bar\":[{\"error_x\":{\"color\":\"#2a3f5f\"},\"error_y\":{\"color\":\"#2a3f5f\"},\"marker\":{\"line\":{\"color\":\"white\",\"width\":0.5},\"pattern\":{\"fillmode\":\"overlay\",\"size\":10,\"solidity\":0.2}},\"type\":\"bar\"}],\"carpet\":[{\"aaxis\":{\"endlinecolor\":\"#2a3f5f\",\"gridcolor\":\"#C8D4E3\",\"linecolor\":\"#C8D4E3\",\"minorgridcolor\":\"#C8D4E3\",\"startlinecolor\":\"#2a3f5f\"},\"baxis\":{\"endlinecolor\":\"#2a3f5f\",\"gridcolor\":\"#C8D4E3\",\"linecolor\":\"#C8D4E3\",\"minorgridcolor\":\"#C8D4E3\",\"startlinecolor\":\"#2a3f5f\"},\"type\":\"carpet\"}],\"choropleth\":[{\"colorbar\":{\"outlinewidth\":0,\"ticks\":\"\"},\"type\":\"choropleth\"}],\"contourcarpet\":[{\"colorbar\":{\"outlinewidth\":0,\"ticks\":\"\"},\"type\":\"contourcarpet\"}],\"contour\":[{\"colorbar\":{\"outlinewidth\":0,\"ticks\":\"\"},\"colorscale\":[[0.0,\"#0d0887\"],[0.1111111111111111,\"#46039f\"],[0.2222222222222222,\"#7201a8\"],[0.3333333333333333,\"#9c179e\"],[0.4444444444444444,\"#bd3786\"],[0.5555555555555556,\"#d8576b\"],[0.6666666666666666,\"#ed7953\"],[0.7777777777777778,\"#fb9f3a\"],[0.8888888888888888,\"#fdca26\"],[1.0,\"#f0f921\"]],\"type\":\"contour\"}],\"heatmapgl\":[{\"colorbar\":{\"outlinewidth\":0,\"ticks\":\"\"},\"colorscale\":[[0.0,\"#0d0887\"],[0.1111111111111111,\"#46039f\"],[0.2222222222222222,\"#7201a8\"],[0.3333333333333333,\"#9c179e\"],[0.4444444444444444,\"#bd3786\"],[0.5555555555555556,\"#d8576b\"],[0.6666666666666666,\"#ed7953\"],[0.7777777777777778,\"#fb9f3a\"],[0.8888888888888888,\"#fdca26\"],[1.0,\"#f0f921\"]],\"type\":\"heatmapgl\"}],\"heatmap\":[{\"colorbar\":{\"outlinewidth\":0,\"ticks\":\"\"},\"colorscale\":[[0.0,\"#0d0887\"],[0.1111111111111111,\"#46039f\"],[0.2222222222222222,\"#7201a8\"],[0.3333333333333333,\"#9c179e\"],[0.4444444444444444,\"#bd3786\"],[0.5555555555555556,\"#d8576b\"],[0.6666666666666666,\"#ed7953\"],[0.7777777777777778,\"#fb9f3a\"],[0.8888888888888888,\"#fdca26\"],[1.0,\"#f0f921\"]],\"type\":\"heatmap\"}],\"histogram2dcontour\":[{\"colorbar\":{\"outlinewidth\":0,\"ticks\":\"\"},\"colorscale\":[[0.0,\"#0d0887\"],[0.1111111111111111,\"#46039f\"],[0.2222222222222222,\"#7201a8\"],[0.3333333333333333,\"#9c179e\"],[0.4444444444444444,\"#bd3786\"],[0.5555555555555556,\"#d8576b\"],[0.6666666666666666,\"#ed7953\"],[0.7777777777777778,\"#fb9f3a\"],[0.8888888888888888,\"#fdca26\"],[1.0,\"#f0f921\"]],\"type\":\"histogram2dcontour\"}],\"histogram2d\":[{\"colorbar\":{\"outlinewidth\":0,\"ticks\":\"\"},\"colorscale\":[[0.0,\"#0d0887\"],[0.1111111111111111,\"#46039f\"],[0.2222222222222222,\"#7201a8\"],[0.3333333333333333,\"#9c179e\"],[0.4444444444444444,\"#bd3786\"],[0.5555555555555556,\"#d8576b\"],[0.6666666666666666,\"#ed7953\"],[0.7777777777777778,\"#fb9f3a\"],[0.8888888888888888,\"#fdca26\"],[1.0,\"#f0f921\"]],\"type\":\"histogram2d\"}],\"histogram\":[{\"marker\":{\"pattern\":{\"fillmode\":\"overlay\",\"size\":10,\"solidity\":0.2}},\"type\":\"histogram\"}],\"mesh3d\":[{\"colorbar\":{\"outlinewidth\":0,\"ticks\":\"\"},\"type\":\"mesh3d\"}],\"parcoords\":[{\"line\":{\"colorbar\":{\"outlinewidth\":0,\"ticks\":\"\"}},\"type\":\"parcoords\"}],\"pie\":[{\"automargin\":true,\"type\":\"pie\"}],\"scatter3d\":[{\"line\":{\"colorbar\":{\"outlinewidth\":0,\"ticks\":\"\"}},\"marker\":{\"colorbar\":{\"outlinewidth\":0,\"ticks\":\"\"}},\"type\":\"scatter3d\"}],\"scattercarpet\":[{\"marker\":{\"colorbar\":{\"outlinewidth\":0,\"ticks\":\"\"}},\"type\":\"scattercarpet\"}],\"scattergeo\":[{\"marker\":{\"colorbar\":{\"outlinewidth\":0,\"ticks\":\"\"}},\"type\":\"scattergeo\"}],\"scattergl\":[{\"marker\":{\"colorbar\":{\"outlinewidth\":0,\"ticks\":\"\"}},\"type\":\"scattergl\"}],\"scattermapbox\":[{\"marker\":{\"colorbar\":{\"outlinewidth\":0,\"ticks\":\"\"}},\"type\":\"scattermapbox\"}],\"scatterpolargl\":[{\"marker\":{\"colorbar\":{\"outlinewidth\":0,\"ticks\":\"\"}},\"type\":\"scatterpolargl\"}],\"scatterpolar\":[{\"marker\":{\"colorbar\":{\"outlinewidth\":0,\"ticks\":\"\"}},\"type\":\"scatterpolar\"}],\"scatter\":[{\"fillpattern\":{\"fillmode\":\"overlay\",\"size\":10,\"solidity\":0.2},\"type\":\"scatter\"}],\"scatterternary\":[{\"marker\":{\"colorbar\":{\"outlinewidth\":0,\"ticks\":\"\"}},\"type\":\"scatterternary\"}],\"surface\":[{\"colorbar\":{\"outlinewidth\":0,\"ticks\":\"\"},\"colorscale\":[[0.0,\"#0d0887\"],[0.1111111111111111,\"#46039f\"],[0.2222222222222222,\"#7201a8\"],[0.3333333333333333,\"#9c179e\"],[0.4444444444444444,\"#bd3786\"],[0.5555555555555556,\"#d8576b\"],[0.6666666666666666,\"#ed7953\"],[0.7777777777777778,\"#fb9f3a\"],[0.8888888888888888,\"#fdca26\"],[1.0,\"#f0f921\"]],\"type\":\"surface\"}],\"table\":[{\"cells\":{\"fill\":{\"color\":\"#EBF0F8\"},\"line\":{\"color\":\"white\"}},\"header\":{\"fill\":{\"color\":\"#C8D4E3\"},\"line\":{\"color\":\"white\"}},\"type\":\"table\"}]},\"layout\":{\"annotationdefaults\":{\"arrowcolor\":\"#2a3f5f\",\"arrowhead\":0,\"arrowwidth\":1},\"autotypenumbers\":\"strict\",\"coloraxis\":{\"colorbar\":{\"outlinewidth\":0,\"ticks\":\"\"}},\"colorscale\":{\"diverging\":[[0,\"#8e0152\"],[0.1,\"#c51b7d\"],[0.2,\"#de77ae\"],[0.3,\"#f1b6da\"],[0.4,\"#fde0ef\"],[0.5,\"#f7f7f7\"],[0.6,\"#e6f5d0\"],[0.7,\"#b8e186\"],[0.8,\"#7fbc41\"],[0.9,\"#4d9221\"],[1,\"#276419\"]],\"sequential\":[[0.0,\"#0d0887\"],[0.1111111111111111,\"#46039f\"],[0.2222222222222222,\"#7201a8\"],[0.3333333333333333,\"#9c179e\"],[0.4444444444444444,\"#bd3786\"],[0.5555555555555556,\"#d8576b\"],[0.6666666666666666,\"#ed7953\"],[0.7777777777777778,\"#fb9f3a\"],[0.8888888888888888,\"#fdca26\"],[1.0,\"#f0f921\"]],\"sequentialminus\":[[0.0,\"#0d0887\"],[0.1111111111111111,\"#46039f\"],[0.2222222222222222,\"#7201a8\"],[0.3333333333333333,\"#9c179e\"],[0.4444444444444444,\"#bd3786\"],[0.5555555555555556,\"#d8576b\"],[0.6666666666666666,\"#ed7953\"],[0.7777777777777778,\"#fb9f3a\"],[0.8888888888888888,\"#fdca26\"],[1.0,\"#f0f921\"]]},\"colorway\":[\"#636efa\",\"#EF553B\",\"#00cc96\",\"#ab63fa\",\"#FFA15A\",\"#19d3f3\",\"#FF6692\",\"#B6E880\",\"#FF97FF\",\"#FECB52\"],\"font\":{\"color\":\"#2a3f5f\"},\"geo\":{\"bgcolor\":\"white\",\"lakecolor\":\"white\",\"landcolor\":\"white\",\"showlakes\":true,\"showland\":true,\"subunitcolor\":\"#C8D4E3\"},\"hoverlabel\":{\"align\":\"left\"},\"hovermode\":\"closest\",\"mapbox\":{\"style\":\"light\"},\"paper_bgcolor\":\"white\",\"plot_bgcolor\":\"white\",\"polar\":{\"angularaxis\":{\"gridcolor\":\"#EBF0F8\",\"linecolor\":\"#EBF0F8\",\"ticks\":\"\"},\"bgcolor\":\"white\",\"radialaxis\":{\"gridcolor\":\"#EBF0F8\",\"linecolor\":\"#EBF0F8\",\"ticks\":\"\"}},\"scene\":{\"xaxis\":{\"backgroundcolor\":\"white\",\"gridcolor\":\"#DFE8F3\",\"gridwidth\":2,\"linecolor\":\"#EBF0F8\",\"showbackground\":true,\"ticks\":\"\",\"zerolinecolor\":\"#EBF0F8\"},\"yaxis\":{\"backgroundcolor\":\"white\",\"gridcolor\":\"#DFE8F3\",\"gridwidth\":2,\"linecolor\":\"#EBF0F8\",\"showbackground\":true,\"ticks\":\"\",\"zerolinecolor\":\"#EBF0F8\"},\"zaxis\":{\"backgroundcolor\":\"white\",\"gridcolor\":\"#DFE8F3\",\"gridwidth\":2,\"linecolor\":\"#EBF0F8\",\"showbackground\":true,\"ticks\":\"\",\"zerolinecolor\":\"#EBF0F8\"}},\"shapedefaults\":{\"line\":{\"color\":\"#2a3f5f\"}},\"ternary\":{\"aaxis\":{\"gridcolor\":\"#DFE8F3\",\"linecolor\":\"#A2B1C6\",\"ticks\":\"\"},\"baxis\":{\"gridcolor\":\"#DFE8F3\",\"linecolor\":\"#A2B1C6\",\"ticks\":\"\"},\"bgcolor\":\"white\",\"caxis\":{\"gridcolor\":\"#DFE8F3\",\"linecolor\":\"#A2B1C6\",\"ticks\":\"\"}},\"title\":{\"x\":0.05},\"xaxis\":{\"automargin\":true,\"gridcolor\":\"#EBF0F8\",\"linecolor\":\"#EBF0F8\",\"ticks\":\"\",\"title\":{\"standoff\":15},\"zerolinecolor\":\"#EBF0F8\",\"zerolinewidth\":2},\"yaxis\":{\"automargin\":true,\"gridcolor\":\"#EBF0F8\",\"linecolor\":\"#EBF0F8\",\"ticks\":\"\",\"title\":{\"standoff\":15},\"zerolinecolor\":\"#EBF0F8\",\"zerolinewidth\":2}}},\"xaxis\":{\"anchor\":\"y\",\"domain\":[0.0,1.0],\"title\":{\"text\":\"Facility Type\"},\"categoryorder\":\"array\",\"categoryarray\":[\"Infusion Center\",\"Medical Facility\",\"Veterinary Only\",\"Research Center\"]},\"yaxis\":{\"anchor\":\"x\",\"domain\":[0.0,1.0],\"title\":{\"text\":\"City\"},\"categoryorder\":\"array\",\"categoryarray\":[\"YUCCA VALLEY\",\"YUBA CITY\",\"YREKA\",\"WOODLAND HILLS\",\"WOODLAND\",\"WILLOWS\",\"WILLITS\",\"WILDOMAR\",\"WHITTIER\",\"WESTMINSTER\",\"WEST HILLS\",\"WEST COVINA\",\"WATSONVILLE\",\"WALNUT CREEK\",\"VISALIA\",\"VICTORVILLE\",\"VENTURA\",\"VAN NUYS\",\"VALLEJO\",\"VALENCIA\",\"VACAVILLE\",\"UPLAND\",\"UNION CITY\",\"UKIAH\",\"TUSTIN\",\"TURLOCK\",\"TULARE\",\"TRUCKEE\",\"TRACY\",\"TORRANCE\",\"THOUSAND OAKS\",\"TEMPLETON\",\"TEMECULA\",\"TEHACHAPI\",\"TARZANA\",\"SYLMAR\",\"SUSANVILLE\",\"SUN VALLEY\",\"SUN CITY\",\"STOCKTON\",\"STANTON\",\"STANFORD\",\"ST HELENA\",\"SOUTH SAN FRANCISCO\",\"SOUTH LAKE TAHOE\",\"SOUTH EL MONTE\",\"SONORA\",\"SONOMA\",\"SOLVANG\",\"SIMI VALLEY\",\"SIGNAL HILL\",\"SHERMAN OAKS\",\"SEBASTOPOL\",\"SANTA ROSA\",\"SANTA PAULA\",\"SANTA MONICA\",\"SANTA MARIA\",\"SANTA FE SPRINGS\",\"SANTA CRUZ\",\"SANTA CLARITA\",\"SANTA CLARA\",\"SANTA BARBARA\",\"SANTA ANA\",\"SAN RAMON\",\"SAN RAFAEL\",\"SAN PEDRO\",\"SAN MATEO\",\"SAN MARCOS\",\"SAN LUIS OBISPO\",\"SAN LEANDRO\",\"SAN JOSE\",\"SAN GABRIEL\",\"SAN FRANCISCO\",\"SAN DIMAS\",\"SAN DIEGO\",\"SAN BERNARDINO\",\"SAN ANDREAS\",\"SALINAS\",\"SACRAMENTO\",\"ROSEVILLE\",\"ROCKLIN\",\"RIVERSIDE\",\"RIDGECREST\",\"RICHMOND\",\"REDWOOD CITY\",\"REDLANDS\",\"REDDING\",\"RED BLUFF\",\"RANCHO MIRAGE\",\"RANCHO CUCAMONGA\",\"RANCHO CORDOVA\",\"POWAY\",\"PORTERVILLE\",\"POMONA\",\"PLEASANTON\",\"PLACERVILLE\",\"PLACENTIA\",\"PISMO BEACH\",\"PETALUMA\",\"PERRIS\",\"PASADENA\",\"PARAMOUNT\",\"PANORAMA CITY\",\"PANORAMA\",\"PALO ALTO\",\"PALMDALE\",\"PALM SPRINGS\",\"PALM DESERT\",\"OXNARD\",\"OROVILLE\",\"ORANGE\",\"ONTARIO\",\"OJAI\",\"OCEANSIDE\",\"OAKLAND\",\"OAKDALE\",\"NOVATO\",\"NORWALK\",\"NORTHRIDGE\",\"NORTH HOLLYWOOD\",\"NEWPORT BEACH\",\"NATIONAL CITY\",\"NAPA\",\"MURRIETA\",\"MT SHASTA\",\"MOUNTAIN VIEW\",\"MORENO VALLEY\",\"MONTEREY PARK\",\"MONTEREY\",\"MONTEBELLO\",\"MONTCLAIR\",\"MONROVIA\",\"MODESTO\",\"MISSION VIEJO\",\"MISSION HILLS\",\"MERCED\",\"MENLO PARK\",\"MARYSVILLE\",\"MARTINEZ\",\"MARINA DEL REY\",\"MANTECA\",\"MAMMOTH LAKES\",\"MADERA\",\"LYNWOOD\",\"LOS GATOS\",\"LOS BANOS\",\"LOS ANGELES\",\"LOS ALAMITOS\",\"LONG BEACH\",\"LOMPOC\",\"LOMA LINDA\",\"LODI\",\"LIVERMORE\",\"LANCASTER\",\"LAKEWOOD\",\"LAKEPORT\",\"LAKE ISABELLA\",\"LAKE ARROWHEAD\",\"LAGUNA HILLS\",\"LAGUNA BEACH\",\"LA QUINTA\",\"LA PALMA\",\"LA MIRADA\",\"LA MESA\",\"LA JOLLA\",\"KINGSBURG\",\"KENTFIELD\",\"JOSHUA TREE\",\"JACKSON\",\"IRVINE\",\"INGLEWOOD\",\"INDUSTRY\",\"INDIO\",\"HUNTINGTON PARK\",\"HUNTINGTON BEACH\",\"HOLLISTER\",\"HEMET\",\"HEALDSBURG\",\"HAYWARD\",\"HARBOR CITY\",\"HANFORD\",\"GREENBRAE\",\"GRASS VALLEY\",\"GLENDORA\",\"GLENDALE\",\"GILROY\",\"GARDENA\",\"GARDEN GROVE\",\"FULLERTON\",\"FRESNO\",\"FRENCH CAMP\",\"FREMONT\",\"FOUNTAIN VALLEY\",\"FORTUNA\",\"FORT BRAGG\",\"FONTANA\",\"FOLSOM\",\"FALL RIVER MILLS\",\"FAIRFIELD\",\"EUREKA\",\"ESCONDIDO\",\"ENCINO\",\"ENCINITAS\",\"EMERYVILLE\",\"ELK GROVE\",\"EL CENTRO\",\"DUBLIN\",\"DUARTE\",\"DOWNEY\",\"DELANO\",\"DAVIS\",\"DALY CITY\",\"CYPRESS\",\"CULVER CITY\",\"CRESCENT CITY\",\"COVINA\",\"COSTA MESA\",\"CORONADO\",\"CORONA\",\"CONCORD\",\"COLTON\",\"COALINGA\",\"CLOVIS\",\"CLEARLAKE\",\"CHULA VISTA\",\"CHINO\",\"CHICO\",\"CERRITOS\",\"CERES\",\"CASTRO VALLEY\",\"CARMICHAEL\",\"CANOGA PARK\",\"CAMERON PARK\",\"CAMARILLO\",\"BURLINGAME\",\"BURBANK\",\"BREA\",\"BRAWLEY\",\"BLYTHE\",\"BISHOP\",\"BIG BEAR LAKE\",\"BEVERLY HILLS\",\"BERKELEY\",\"BELLFLOWER\",\"BEAUMONT\",\"BARSTOW\",\"BANNING\",\"BALDWIN PARK\",\"BAKERSFIELD\",\"AUBURN\",\"ARROYO GRANDE\",\"ARCATA\",\"ARCADIA\",\"APPLE VALLEY\",\"ANTIOCH\",\"ANAHEIM\",\"ALHAMBRA\",\"ALAMEDA\"]},\"legend\":{\"title\":{\"text\":\"Facility Type\"},\"tracegroupgap\":0,\"itemsizing\":\"constant\"},\"title\":{\"text\":\"Facilities by City (Bubble Chart)\"}},                        {\"responsive\": true}                    ).then(function(){\n",
       "                            \n",
       "var gd = document.getElementById('98a2ac64-fdbc-4b2f-b973-e311ba33f6bd');\n",
       "var x = new MutationObserver(function (mutations, observer) {{\n",
       "        var display = window.getComputedStyle(gd).display;\n",
       "        if (!display || display === 'none') {{\n",
       "            console.log([gd, 'removed!']);\n",
       "            Plotly.purge(gd);\n",
       "            observer.disconnect();\n",
       "        }}\n",
       "}});\n",
       "\n",
       "// Listen for the removal of the full notebook cells\n",
       "var notebookContainer = gd.closest('#notebook-container');\n",
       "if (notebookContainer) {{\n",
       "    x.observe(notebookContainer, {childList: true});\n",
       "}}\n",
       "\n",
       "// Listen for the clearing of the current output cell\n",
       "var outputEl = gd.closest('.output');\n",
       "if (outputEl) {{\n",
       "    x.observe(outputEl, {childList: true});\n",
       "}}\n",
       "\n",
       "                        })                };                });            </script>        </div>"
      ]
     },
     "metadata": {},
     "output_type": "display_data"
    }
   ],
   "execution_count": 168
  },
  {
   "metadata": {
    "ExecuteTime": {
     "end_time": "2025-01-03T04:32:05.432491Z",
     "start_time": "2025-01-03T04:32:05.429844Z"
    }
   },
   "cell_type": "code",
   "source": "",
   "id": "4314286e071e29ab",
   "outputs": [],
   "execution_count": 168
  },
  {
   "metadata": {},
   "cell_type": "markdown",
   "source": "## Exploring Expiration Dates",
   "id": "f3c694a2b2763807"
  },
  {
   "metadata": {
    "ExecuteTime": {
     "end_time": "2025-01-03T04:32:05.972569Z",
     "start_time": "2025-01-03T04:32:05.891784Z"
    }
   },
   "cell_type": "code",
   "source": [
    "# Ensure the Expiration Date is in the correct datetime format\n",
    "pharmacies['Expiration Date'] = pd.to_datetime(pharmacies['Expiration Date'], errors='coerce')\n",
    "\n",
    "# Filter out rows with invalid Expiration Date\n",
    "pharmacies_expiration = pharmacies[pharmacies['Expiration Date'].notna()]\n",
    "\n",
    "# Extract year and month\n",
    "pharmacies_expiration['Year'] = pharmacies_expiration['Expiration Date'].dt.year\n",
    "pharmacies_expiration['Month'] = pharmacies_expiration['Expiration Date'].dt.month\n",
    "\n",
    "# Filter out rows where the Year is 2024\n",
    "pharmacies_expiration = pharmacies_expiration[pharmacies_expiration['Year'] != 2024]\n",
    "\n",
    "# Group by Year and Month and count the number of expirations\n",
    "expirations_by_year_month = pharmacies_expiration.groupby(['Year', 'Month']).size().reset_index(name='Count')\n",
    "\n",
    "# Filter out rows where the count of expirations is zero\n",
    "expirations_by_year_month = expirations_by_year_month[expirations_by_year_month['Count'] > 0]\n",
    "\n",
    "# Get unique years present in the data\n",
    "available_years = expirations_by_year_month['Year'].unique()\n",
    "\n",
    "# Create the heatmap of expirations by year and month\n",
    "heatmap_fig = px.density_heatmap(expirations_by_year_month, \n",
    "                                 x='Month', \n",
    "                                 y='Year', \n",
    "                                 z='Count',  # Use 'Count' for the intensity\n",
    "                                 title=\"Pharmacy Expirations Heatmap\",\n",
    "                                 labels={'Month': 'Month', 'Year': 'Year', 'Count': 'Number of Expirations'},\n",
    "                                 nbinsx=12, nbinsy=5, \n",
    "                                 color_continuous_scale='Viridis')\n",
    "\n",
    "# Ensure the Y-axis is treated as categorical and only shows available years\n",
    "heatmap_fig.update_layout(\n",
    "    yaxis=dict(\n",
    "        tickmode='array',\n",
    "        tickvals=available_years,  # Show only available years\n",
    "        type='category'  # Make sure it's treated as a categorical axis\n",
    "    )\n",
    ")\n",
    "\n",
    "heatmap_fig.show()\n"
   ],
   "id": "6266f18e79f34c08",
   "outputs": [
    {
     "data": {
      "application/vnd.plotly.v1+json": {
       "data": [
        {
         "coloraxis": "coloraxis",
         "histfunc": "sum",
         "hovertemplate": "Month=%{x}<br>Year=%{y}<br>sum of Number of Expirations=%{z}<extra></extra>",
         "name": "",
         "nbinsx": 12,
         "nbinsy": 5,
         "x": [
          1,
          2,
          3,
          4,
          5,
          6,
          7,
          8,
          9,
          10,
          11,
          12,
          1,
          2
         ],
         "xaxis": "x",
         "xbingroup": "x",
         "y": [
          2025,
          2025,
          2025,
          2025,
          2025,
          2025,
          2025,
          2025,
          2025,
          2025,
          2025,
          2025,
          2026,
          2026
         ],
         "yaxis": "y",
         "ybingroup": "y",
         "z": [
          16,
          55,
          60,
          41,
          51,
          51,
          92,
          92,
          53,
          56,
          156,
          63,
          52,
          1
         ],
         "type": "histogram2d"
        }
       ],
       "layout": {
        "template": {
         "data": {
          "histogram2dcontour": [
           {
            "type": "histogram2dcontour",
            "colorbar": {
             "outlinewidth": 0,
             "ticks": ""
            },
            "colorscale": [
             [
              0.0,
              "#0d0887"
             ],
             [
              0.1111111111111111,
              "#46039f"
             ],
             [
              0.2222222222222222,
              "#7201a8"
             ],
             [
              0.3333333333333333,
              "#9c179e"
             ],
             [
              0.4444444444444444,
              "#bd3786"
             ],
             [
              0.5555555555555556,
              "#d8576b"
             ],
             [
              0.6666666666666666,
              "#ed7953"
             ],
             [
              0.7777777777777778,
              "#fb9f3a"
             ],
             [
              0.8888888888888888,
              "#fdca26"
             ],
             [
              1.0,
              "#f0f921"
             ]
            ]
           }
          ],
          "choropleth": [
           {
            "type": "choropleth",
            "colorbar": {
             "outlinewidth": 0,
             "ticks": ""
            }
           }
          ],
          "histogram2d": [
           {
            "type": "histogram2d",
            "colorbar": {
             "outlinewidth": 0,
             "ticks": ""
            },
            "colorscale": [
             [
              0.0,
              "#0d0887"
             ],
             [
              0.1111111111111111,
              "#46039f"
             ],
             [
              0.2222222222222222,
              "#7201a8"
             ],
             [
              0.3333333333333333,
              "#9c179e"
             ],
             [
              0.4444444444444444,
              "#bd3786"
             ],
             [
              0.5555555555555556,
              "#d8576b"
             ],
             [
              0.6666666666666666,
              "#ed7953"
             ],
             [
              0.7777777777777778,
              "#fb9f3a"
             ],
             [
              0.8888888888888888,
              "#fdca26"
             ],
             [
              1.0,
              "#f0f921"
             ]
            ]
           }
          ],
          "heatmap": [
           {
            "type": "heatmap",
            "colorbar": {
             "outlinewidth": 0,
             "ticks": ""
            },
            "colorscale": [
             [
              0.0,
              "#0d0887"
             ],
             [
              0.1111111111111111,
              "#46039f"
             ],
             [
              0.2222222222222222,
              "#7201a8"
             ],
             [
              0.3333333333333333,
              "#9c179e"
             ],
             [
              0.4444444444444444,
              "#bd3786"
             ],
             [
              0.5555555555555556,
              "#d8576b"
             ],
             [
              0.6666666666666666,
              "#ed7953"
             ],
             [
              0.7777777777777778,
              "#fb9f3a"
             ],
             [
              0.8888888888888888,
              "#fdca26"
             ],
             [
              1.0,
              "#f0f921"
             ]
            ]
           }
          ],
          "heatmapgl": [
           {
            "type": "heatmapgl",
            "colorbar": {
             "outlinewidth": 0,
             "ticks": ""
            },
            "colorscale": [
             [
              0.0,
              "#0d0887"
             ],
             [
              0.1111111111111111,
              "#46039f"
             ],
             [
              0.2222222222222222,
              "#7201a8"
             ],
             [
              0.3333333333333333,
              "#9c179e"
             ],
             [
              0.4444444444444444,
              "#bd3786"
             ],
             [
              0.5555555555555556,
              "#d8576b"
             ],
             [
              0.6666666666666666,
              "#ed7953"
             ],
             [
              0.7777777777777778,
              "#fb9f3a"
             ],
             [
              0.8888888888888888,
              "#fdca26"
             ],
             [
              1.0,
              "#f0f921"
             ]
            ]
           }
          ],
          "contourcarpet": [
           {
            "type": "contourcarpet",
            "colorbar": {
             "outlinewidth": 0,
             "ticks": ""
            }
           }
          ],
          "contour": [
           {
            "type": "contour",
            "colorbar": {
             "outlinewidth": 0,
             "ticks": ""
            },
            "colorscale": [
             [
              0.0,
              "#0d0887"
             ],
             [
              0.1111111111111111,
              "#46039f"
             ],
             [
              0.2222222222222222,
              "#7201a8"
             ],
             [
              0.3333333333333333,
              "#9c179e"
             ],
             [
              0.4444444444444444,
              "#bd3786"
             ],
             [
              0.5555555555555556,
              "#d8576b"
             ],
             [
              0.6666666666666666,
              "#ed7953"
             ],
             [
              0.7777777777777778,
              "#fb9f3a"
             ],
             [
              0.8888888888888888,
              "#fdca26"
             ],
             [
              1.0,
              "#f0f921"
             ]
            ]
           }
          ],
          "surface": [
           {
            "type": "surface",
            "colorbar": {
             "outlinewidth": 0,
             "ticks": ""
            },
            "colorscale": [
             [
              0.0,
              "#0d0887"
             ],
             [
              0.1111111111111111,
              "#46039f"
             ],
             [
              0.2222222222222222,
              "#7201a8"
             ],
             [
              0.3333333333333333,
              "#9c179e"
             ],
             [
              0.4444444444444444,
              "#bd3786"
             ],
             [
              0.5555555555555556,
              "#d8576b"
             ],
             [
              0.6666666666666666,
              "#ed7953"
             ],
             [
              0.7777777777777778,
              "#fb9f3a"
             ],
             [
              0.8888888888888888,
              "#fdca26"
             ],
             [
              1.0,
              "#f0f921"
             ]
            ]
           }
          ],
          "mesh3d": [
           {
            "type": "mesh3d",
            "colorbar": {
             "outlinewidth": 0,
             "ticks": ""
            }
           }
          ],
          "scatter": [
           {
            "fillpattern": {
             "fillmode": "overlay",
             "size": 10,
             "solidity": 0.2
            },
            "type": "scatter"
           }
          ],
          "parcoords": [
           {
            "type": "parcoords",
            "line": {
             "colorbar": {
              "outlinewidth": 0,
              "ticks": ""
             }
            }
           }
          ],
          "scatterpolargl": [
           {
            "type": "scatterpolargl",
            "marker": {
             "colorbar": {
              "outlinewidth": 0,
              "ticks": ""
             }
            }
           }
          ],
          "bar": [
           {
            "error_x": {
             "color": "#2a3f5f"
            },
            "error_y": {
             "color": "#2a3f5f"
            },
            "marker": {
             "line": {
              "color": "#E5ECF6",
              "width": 0.5
             },
             "pattern": {
              "fillmode": "overlay",
              "size": 10,
              "solidity": 0.2
             }
            },
            "type": "bar"
           }
          ],
          "scattergeo": [
           {
            "type": "scattergeo",
            "marker": {
             "colorbar": {
              "outlinewidth": 0,
              "ticks": ""
             }
            }
           }
          ],
          "scatterpolar": [
           {
            "type": "scatterpolar",
            "marker": {
             "colorbar": {
              "outlinewidth": 0,
              "ticks": ""
             }
            }
           }
          ],
          "histogram": [
           {
            "marker": {
             "pattern": {
              "fillmode": "overlay",
              "size": 10,
              "solidity": 0.2
             }
            },
            "type": "histogram"
           }
          ],
          "scattergl": [
           {
            "type": "scattergl",
            "marker": {
             "colorbar": {
              "outlinewidth": 0,
              "ticks": ""
             }
            }
           }
          ],
          "scatter3d": [
           {
            "type": "scatter3d",
            "line": {
             "colorbar": {
              "outlinewidth": 0,
              "ticks": ""
             }
            },
            "marker": {
             "colorbar": {
              "outlinewidth": 0,
              "ticks": ""
             }
            }
           }
          ],
          "scattermapbox": [
           {
            "type": "scattermapbox",
            "marker": {
             "colorbar": {
              "outlinewidth": 0,
              "ticks": ""
             }
            }
           }
          ],
          "scatterternary": [
           {
            "type": "scatterternary",
            "marker": {
             "colorbar": {
              "outlinewidth": 0,
              "ticks": ""
             }
            }
           }
          ],
          "scattercarpet": [
           {
            "type": "scattercarpet",
            "marker": {
             "colorbar": {
              "outlinewidth": 0,
              "ticks": ""
             }
            }
           }
          ],
          "carpet": [
           {
            "aaxis": {
             "endlinecolor": "#2a3f5f",
             "gridcolor": "white",
             "linecolor": "white",
             "minorgridcolor": "white",
             "startlinecolor": "#2a3f5f"
            },
            "baxis": {
             "endlinecolor": "#2a3f5f",
             "gridcolor": "white",
             "linecolor": "white",
             "minorgridcolor": "white",
             "startlinecolor": "#2a3f5f"
            },
            "type": "carpet"
           }
          ],
          "table": [
           {
            "cells": {
             "fill": {
              "color": "#EBF0F8"
             },
             "line": {
              "color": "white"
             }
            },
            "header": {
             "fill": {
              "color": "#C8D4E3"
             },
             "line": {
              "color": "white"
             }
            },
            "type": "table"
           }
          ],
          "barpolar": [
           {
            "marker": {
             "line": {
              "color": "#E5ECF6",
              "width": 0.5
             },
             "pattern": {
              "fillmode": "overlay",
              "size": 10,
              "solidity": 0.2
             }
            },
            "type": "barpolar"
           }
          ],
          "pie": [
           {
            "automargin": true,
            "type": "pie"
           }
          ]
         },
         "layout": {
          "autotypenumbers": "strict",
          "colorway": [
           "#636efa",
           "#EF553B",
           "#00cc96",
           "#ab63fa",
           "#FFA15A",
           "#19d3f3",
           "#FF6692",
           "#B6E880",
           "#FF97FF",
           "#FECB52"
          ],
          "font": {
           "color": "#2a3f5f"
          },
          "hovermode": "closest",
          "hoverlabel": {
           "align": "left"
          },
          "paper_bgcolor": "white",
          "plot_bgcolor": "#E5ECF6",
          "polar": {
           "bgcolor": "#E5ECF6",
           "angularaxis": {
            "gridcolor": "white",
            "linecolor": "white",
            "ticks": ""
           },
           "radialaxis": {
            "gridcolor": "white",
            "linecolor": "white",
            "ticks": ""
           }
          },
          "ternary": {
           "bgcolor": "#E5ECF6",
           "aaxis": {
            "gridcolor": "white",
            "linecolor": "white",
            "ticks": ""
           },
           "baxis": {
            "gridcolor": "white",
            "linecolor": "white",
            "ticks": ""
           },
           "caxis": {
            "gridcolor": "white",
            "linecolor": "white",
            "ticks": ""
           }
          },
          "coloraxis": {
           "colorbar": {
            "outlinewidth": 0,
            "ticks": ""
           }
          },
          "colorscale": {
           "sequential": [
            [
             0.0,
             "#0d0887"
            ],
            [
             0.1111111111111111,
             "#46039f"
            ],
            [
             0.2222222222222222,
             "#7201a8"
            ],
            [
             0.3333333333333333,
             "#9c179e"
            ],
            [
             0.4444444444444444,
             "#bd3786"
            ],
            [
             0.5555555555555556,
             "#d8576b"
            ],
            [
             0.6666666666666666,
             "#ed7953"
            ],
            [
             0.7777777777777778,
             "#fb9f3a"
            ],
            [
             0.8888888888888888,
             "#fdca26"
            ],
            [
             1.0,
             "#f0f921"
            ]
           ],
           "sequentialminus": [
            [
             0.0,
             "#0d0887"
            ],
            [
             0.1111111111111111,
             "#46039f"
            ],
            [
             0.2222222222222222,
             "#7201a8"
            ],
            [
             0.3333333333333333,
             "#9c179e"
            ],
            [
             0.4444444444444444,
             "#bd3786"
            ],
            [
             0.5555555555555556,
             "#d8576b"
            ],
            [
             0.6666666666666666,
             "#ed7953"
            ],
            [
             0.7777777777777778,
             "#fb9f3a"
            ],
            [
             0.8888888888888888,
             "#fdca26"
            ],
            [
             1.0,
             "#f0f921"
            ]
           ],
           "diverging": [
            [
             0,
             "#8e0152"
            ],
            [
             0.1,
             "#c51b7d"
            ],
            [
             0.2,
             "#de77ae"
            ],
            [
             0.3,
             "#f1b6da"
            ],
            [
             0.4,
             "#fde0ef"
            ],
            [
             0.5,
             "#f7f7f7"
            ],
            [
             0.6,
             "#e6f5d0"
            ],
            [
             0.7,
             "#b8e186"
            ],
            [
             0.8,
             "#7fbc41"
            ],
            [
             0.9,
             "#4d9221"
            ],
            [
             1,
             "#276419"
            ]
           ]
          },
          "xaxis": {
           "gridcolor": "white",
           "linecolor": "white",
           "ticks": "",
           "title": {
            "standoff": 15
           },
           "zerolinecolor": "white",
           "automargin": true,
           "zerolinewidth": 2
          },
          "yaxis": {
           "gridcolor": "white",
           "linecolor": "white",
           "ticks": "",
           "title": {
            "standoff": 15
           },
           "zerolinecolor": "white",
           "automargin": true,
           "zerolinewidth": 2
          },
          "scene": {
           "xaxis": {
            "backgroundcolor": "#E5ECF6",
            "gridcolor": "white",
            "linecolor": "white",
            "showbackground": true,
            "ticks": "",
            "zerolinecolor": "white",
            "gridwidth": 2
           },
           "yaxis": {
            "backgroundcolor": "#E5ECF6",
            "gridcolor": "white",
            "linecolor": "white",
            "showbackground": true,
            "ticks": "",
            "zerolinecolor": "white",
            "gridwidth": 2
           },
           "zaxis": {
            "backgroundcolor": "#E5ECF6",
            "gridcolor": "white",
            "linecolor": "white",
            "showbackground": true,
            "ticks": "",
            "zerolinecolor": "white",
            "gridwidth": 2
           }
          },
          "shapedefaults": {
           "line": {
            "color": "#2a3f5f"
           }
          },
          "annotationdefaults": {
           "arrowcolor": "#2a3f5f",
           "arrowhead": 0,
           "arrowwidth": 1
          },
          "geo": {
           "bgcolor": "white",
           "landcolor": "#E5ECF6",
           "subunitcolor": "white",
           "showland": true,
           "showlakes": true,
           "lakecolor": "white"
          },
          "title": {
           "x": 0.05
          },
          "mapbox": {
           "style": "light"
          }
         }
        },
        "xaxis": {
         "anchor": "y",
         "domain": [
          0.0,
          1.0
         ],
         "title": {
          "text": "Month"
         }
        },
        "yaxis": {
         "anchor": "x",
         "domain": [
          0.0,
          1.0
         ],
         "title": {
          "text": "Year"
         },
         "tickmode": "array",
         "tickvals": [
          2025,
          2026
         ],
         "type": "category"
        },
        "coloraxis": {
         "colorbar": {
          "title": {
           "text": "sum of Number of Expirations"
          }
         },
         "colorscale": [
          [
           0.0,
           "#440154"
          ],
          [
           0.1111111111111111,
           "#482878"
          ],
          [
           0.2222222222222222,
           "#3e4989"
          ],
          [
           0.3333333333333333,
           "#31688e"
          ],
          [
           0.4444444444444444,
           "#26828e"
          ],
          [
           0.5555555555555556,
           "#1f9e89"
          ],
          [
           0.6666666666666666,
           "#35b779"
          ],
          [
           0.7777777777777778,
           "#6ece58"
          ],
          [
           0.8888888888888888,
           "#b5de2b"
          ],
          [
           1.0,
           "#fde725"
          ]
         ]
        },
        "legend": {
         "tracegroupgap": 0
        },
        "title": {
         "text": "Pharmacy Expirations Heatmap"
        }
       },
       "config": {
        "plotlyServerURL": "https://plot.ly"
       }
      },
      "text/html": [
       "<div>                            <div id=\"b173dc31-4954-4488-b32f-c64eccad18e6\" class=\"plotly-graph-div\" style=\"height:525px; width:100%;\"></div>            <script type=\"text/javascript\">                require([\"plotly\"], function(Plotly) {                    window.PLOTLYENV=window.PLOTLYENV || {};                                    if (document.getElementById(\"b173dc31-4954-4488-b32f-c64eccad18e6\")) {                    Plotly.newPlot(                        \"b173dc31-4954-4488-b32f-c64eccad18e6\",                        [{\"coloraxis\":\"coloraxis\",\"histfunc\":\"sum\",\"hovertemplate\":\"Month=%{x}\\u003cbr\\u003eYear=%{y}\\u003cbr\\u003esum of Number of Expirations=%{z}\\u003cextra\\u003e\\u003c\\u002fextra\\u003e\",\"name\":\"\",\"nbinsx\":12,\"nbinsy\":5,\"x\":[1,2,3,4,5,6,7,8,9,10,11,12,1,2],\"xaxis\":\"x\",\"xbingroup\":\"x\",\"y\":[2025,2025,2025,2025,2025,2025,2025,2025,2025,2025,2025,2025,2026,2026],\"yaxis\":\"y\",\"ybingroup\":\"y\",\"z\":[16,55,60,41,51,51,92,92,53,56,156,63,52,1],\"type\":\"histogram2d\"}],                        {\"template\":{\"data\":{\"histogram2dcontour\":[{\"type\":\"histogram2dcontour\",\"colorbar\":{\"outlinewidth\":0,\"ticks\":\"\"},\"colorscale\":[[0.0,\"#0d0887\"],[0.1111111111111111,\"#46039f\"],[0.2222222222222222,\"#7201a8\"],[0.3333333333333333,\"#9c179e\"],[0.4444444444444444,\"#bd3786\"],[0.5555555555555556,\"#d8576b\"],[0.6666666666666666,\"#ed7953\"],[0.7777777777777778,\"#fb9f3a\"],[0.8888888888888888,\"#fdca26\"],[1.0,\"#f0f921\"]]}],\"choropleth\":[{\"type\":\"choropleth\",\"colorbar\":{\"outlinewidth\":0,\"ticks\":\"\"}}],\"histogram2d\":[{\"type\":\"histogram2d\",\"colorbar\":{\"outlinewidth\":0,\"ticks\":\"\"},\"colorscale\":[[0.0,\"#0d0887\"],[0.1111111111111111,\"#46039f\"],[0.2222222222222222,\"#7201a8\"],[0.3333333333333333,\"#9c179e\"],[0.4444444444444444,\"#bd3786\"],[0.5555555555555556,\"#d8576b\"],[0.6666666666666666,\"#ed7953\"],[0.7777777777777778,\"#fb9f3a\"],[0.8888888888888888,\"#fdca26\"],[1.0,\"#f0f921\"]]}],\"heatmap\":[{\"type\":\"heatmap\",\"colorbar\":{\"outlinewidth\":0,\"ticks\":\"\"},\"colorscale\":[[0.0,\"#0d0887\"],[0.1111111111111111,\"#46039f\"],[0.2222222222222222,\"#7201a8\"],[0.3333333333333333,\"#9c179e\"],[0.4444444444444444,\"#bd3786\"],[0.5555555555555556,\"#d8576b\"],[0.6666666666666666,\"#ed7953\"],[0.7777777777777778,\"#fb9f3a\"],[0.8888888888888888,\"#fdca26\"],[1.0,\"#f0f921\"]]}],\"heatmapgl\":[{\"type\":\"heatmapgl\",\"colorbar\":{\"outlinewidth\":0,\"ticks\":\"\"},\"colorscale\":[[0.0,\"#0d0887\"],[0.1111111111111111,\"#46039f\"],[0.2222222222222222,\"#7201a8\"],[0.3333333333333333,\"#9c179e\"],[0.4444444444444444,\"#bd3786\"],[0.5555555555555556,\"#d8576b\"],[0.6666666666666666,\"#ed7953\"],[0.7777777777777778,\"#fb9f3a\"],[0.8888888888888888,\"#fdca26\"],[1.0,\"#f0f921\"]]}],\"contourcarpet\":[{\"type\":\"contourcarpet\",\"colorbar\":{\"outlinewidth\":0,\"ticks\":\"\"}}],\"contour\":[{\"type\":\"contour\",\"colorbar\":{\"outlinewidth\":0,\"ticks\":\"\"},\"colorscale\":[[0.0,\"#0d0887\"],[0.1111111111111111,\"#46039f\"],[0.2222222222222222,\"#7201a8\"],[0.3333333333333333,\"#9c179e\"],[0.4444444444444444,\"#bd3786\"],[0.5555555555555556,\"#d8576b\"],[0.6666666666666666,\"#ed7953\"],[0.7777777777777778,\"#fb9f3a\"],[0.8888888888888888,\"#fdca26\"],[1.0,\"#f0f921\"]]}],\"surface\":[{\"type\":\"surface\",\"colorbar\":{\"outlinewidth\":0,\"ticks\":\"\"},\"colorscale\":[[0.0,\"#0d0887\"],[0.1111111111111111,\"#46039f\"],[0.2222222222222222,\"#7201a8\"],[0.3333333333333333,\"#9c179e\"],[0.4444444444444444,\"#bd3786\"],[0.5555555555555556,\"#d8576b\"],[0.6666666666666666,\"#ed7953\"],[0.7777777777777778,\"#fb9f3a\"],[0.8888888888888888,\"#fdca26\"],[1.0,\"#f0f921\"]]}],\"mesh3d\":[{\"type\":\"mesh3d\",\"colorbar\":{\"outlinewidth\":0,\"ticks\":\"\"}}],\"scatter\":[{\"fillpattern\":{\"fillmode\":\"overlay\",\"size\":10,\"solidity\":0.2},\"type\":\"scatter\"}],\"parcoords\":[{\"type\":\"parcoords\",\"line\":{\"colorbar\":{\"outlinewidth\":0,\"ticks\":\"\"}}}],\"scatterpolargl\":[{\"type\":\"scatterpolargl\",\"marker\":{\"colorbar\":{\"outlinewidth\":0,\"ticks\":\"\"}}}],\"bar\":[{\"error_x\":{\"color\":\"#2a3f5f\"},\"error_y\":{\"color\":\"#2a3f5f\"},\"marker\":{\"line\":{\"color\":\"#E5ECF6\",\"width\":0.5},\"pattern\":{\"fillmode\":\"overlay\",\"size\":10,\"solidity\":0.2}},\"type\":\"bar\"}],\"scattergeo\":[{\"type\":\"scattergeo\",\"marker\":{\"colorbar\":{\"outlinewidth\":0,\"ticks\":\"\"}}}],\"scatterpolar\":[{\"type\":\"scatterpolar\",\"marker\":{\"colorbar\":{\"outlinewidth\":0,\"ticks\":\"\"}}}],\"histogram\":[{\"marker\":{\"pattern\":{\"fillmode\":\"overlay\",\"size\":10,\"solidity\":0.2}},\"type\":\"histogram\"}],\"scattergl\":[{\"type\":\"scattergl\",\"marker\":{\"colorbar\":{\"outlinewidth\":0,\"ticks\":\"\"}}}],\"scatter3d\":[{\"type\":\"scatter3d\",\"line\":{\"colorbar\":{\"outlinewidth\":0,\"ticks\":\"\"}},\"marker\":{\"colorbar\":{\"outlinewidth\":0,\"ticks\":\"\"}}}],\"scattermapbox\":[{\"type\":\"scattermapbox\",\"marker\":{\"colorbar\":{\"outlinewidth\":0,\"ticks\":\"\"}}}],\"scatterternary\":[{\"type\":\"scatterternary\",\"marker\":{\"colorbar\":{\"outlinewidth\":0,\"ticks\":\"\"}}}],\"scattercarpet\":[{\"type\":\"scattercarpet\",\"marker\":{\"colorbar\":{\"outlinewidth\":0,\"ticks\":\"\"}}}],\"carpet\":[{\"aaxis\":{\"endlinecolor\":\"#2a3f5f\",\"gridcolor\":\"white\",\"linecolor\":\"white\",\"minorgridcolor\":\"white\",\"startlinecolor\":\"#2a3f5f\"},\"baxis\":{\"endlinecolor\":\"#2a3f5f\",\"gridcolor\":\"white\",\"linecolor\":\"white\",\"minorgridcolor\":\"white\",\"startlinecolor\":\"#2a3f5f\"},\"type\":\"carpet\"}],\"table\":[{\"cells\":{\"fill\":{\"color\":\"#EBF0F8\"},\"line\":{\"color\":\"white\"}},\"header\":{\"fill\":{\"color\":\"#C8D4E3\"},\"line\":{\"color\":\"white\"}},\"type\":\"table\"}],\"barpolar\":[{\"marker\":{\"line\":{\"color\":\"#E5ECF6\",\"width\":0.5},\"pattern\":{\"fillmode\":\"overlay\",\"size\":10,\"solidity\":0.2}},\"type\":\"barpolar\"}],\"pie\":[{\"automargin\":true,\"type\":\"pie\"}]},\"layout\":{\"autotypenumbers\":\"strict\",\"colorway\":[\"#636efa\",\"#EF553B\",\"#00cc96\",\"#ab63fa\",\"#FFA15A\",\"#19d3f3\",\"#FF6692\",\"#B6E880\",\"#FF97FF\",\"#FECB52\"],\"font\":{\"color\":\"#2a3f5f\"},\"hovermode\":\"closest\",\"hoverlabel\":{\"align\":\"left\"},\"paper_bgcolor\":\"white\",\"plot_bgcolor\":\"#E5ECF6\",\"polar\":{\"bgcolor\":\"#E5ECF6\",\"angularaxis\":{\"gridcolor\":\"white\",\"linecolor\":\"white\",\"ticks\":\"\"},\"radialaxis\":{\"gridcolor\":\"white\",\"linecolor\":\"white\",\"ticks\":\"\"}},\"ternary\":{\"bgcolor\":\"#E5ECF6\",\"aaxis\":{\"gridcolor\":\"white\",\"linecolor\":\"white\",\"ticks\":\"\"},\"baxis\":{\"gridcolor\":\"white\",\"linecolor\":\"white\",\"ticks\":\"\"},\"caxis\":{\"gridcolor\":\"white\",\"linecolor\":\"white\",\"ticks\":\"\"}},\"coloraxis\":{\"colorbar\":{\"outlinewidth\":0,\"ticks\":\"\"}},\"colorscale\":{\"sequential\":[[0.0,\"#0d0887\"],[0.1111111111111111,\"#46039f\"],[0.2222222222222222,\"#7201a8\"],[0.3333333333333333,\"#9c179e\"],[0.4444444444444444,\"#bd3786\"],[0.5555555555555556,\"#d8576b\"],[0.6666666666666666,\"#ed7953\"],[0.7777777777777778,\"#fb9f3a\"],[0.8888888888888888,\"#fdca26\"],[1.0,\"#f0f921\"]],\"sequentialminus\":[[0.0,\"#0d0887\"],[0.1111111111111111,\"#46039f\"],[0.2222222222222222,\"#7201a8\"],[0.3333333333333333,\"#9c179e\"],[0.4444444444444444,\"#bd3786\"],[0.5555555555555556,\"#d8576b\"],[0.6666666666666666,\"#ed7953\"],[0.7777777777777778,\"#fb9f3a\"],[0.8888888888888888,\"#fdca26\"],[1.0,\"#f0f921\"]],\"diverging\":[[0,\"#8e0152\"],[0.1,\"#c51b7d\"],[0.2,\"#de77ae\"],[0.3,\"#f1b6da\"],[0.4,\"#fde0ef\"],[0.5,\"#f7f7f7\"],[0.6,\"#e6f5d0\"],[0.7,\"#b8e186\"],[0.8,\"#7fbc41\"],[0.9,\"#4d9221\"],[1,\"#276419\"]]},\"xaxis\":{\"gridcolor\":\"white\",\"linecolor\":\"white\",\"ticks\":\"\",\"title\":{\"standoff\":15},\"zerolinecolor\":\"white\",\"automargin\":true,\"zerolinewidth\":2},\"yaxis\":{\"gridcolor\":\"white\",\"linecolor\":\"white\",\"ticks\":\"\",\"title\":{\"standoff\":15},\"zerolinecolor\":\"white\",\"automargin\":true,\"zerolinewidth\":2},\"scene\":{\"xaxis\":{\"backgroundcolor\":\"#E5ECF6\",\"gridcolor\":\"white\",\"linecolor\":\"white\",\"showbackground\":true,\"ticks\":\"\",\"zerolinecolor\":\"white\",\"gridwidth\":2},\"yaxis\":{\"backgroundcolor\":\"#E5ECF6\",\"gridcolor\":\"white\",\"linecolor\":\"white\",\"showbackground\":true,\"ticks\":\"\",\"zerolinecolor\":\"white\",\"gridwidth\":2},\"zaxis\":{\"backgroundcolor\":\"#E5ECF6\",\"gridcolor\":\"white\",\"linecolor\":\"white\",\"showbackground\":true,\"ticks\":\"\",\"zerolinecolor\":\"white\",\"gridwidth\":2}},\"shapedefaults\":{\"line\":{\"color\":\"#2a3f5f\"}},\"annotationdefaults\":{\"arrowcolor\":\"#2a3f5f\",\"arrowhead\":0,\"arrowwidth\":1},\"geo\":{\"bgcolor\":\"white\",\"landcolor\":\"#E5ECF6\",\"subunitcolor\":\"white\",\"showland\":true,\"showlakes\":true,\"lakecolor\":\"white\"},\"title\":{\"x\":0.05},\"mapbox\":{\"style\":\"light\"}}},\"xaxis\":{\"anchor\":\"y\",\"domain\":[0.0,1.0],\"title\":{\"text\":\"Month\"}},\"yaxis\":{\"anchor\":\"x\",\"domain\":[0.0,1.0],\"title\":{\"text\":\"Year\"},\"tickmode\":\"array\",\"tickvals\":[2025,2026],\"type\":\"category\"},\"coloraxis\":{\"colorbar\":{\"title\":{\"text\":\"sum of Number of Expirations\"}},\"colorscale\":[[0.0,\"#440154\"],[0.1111111111111111,\"#482878\"],[0.2222222222222222,\"#3e4989\"],[0.3333333333333333,\"#31688e\"],[0.4444444444444444,\"#26828e\"],[0.5555555555555556,\"#1f9e89\"],[0.6666666666666666,\"#35b779\"],[0.7777777777777778,\"#6ece58\"],[0.8888888888888888,\"#b5de2b\"],[1.0,\"#fde725\"]]},\"legend\":{\"tracegroupgap\":0},\"title\":{\"text\":\"Pharmacy Expirations Heatmap\"}},                        {\"responsive\": true}                    ).then(function(){\n",
       "                            \n",
       "var gd = document.getElementById('b173dc31-4954-4488-b32f-c64eccad18e6');\n",
       "var x = new MutationObserver(function (mutations, observer) {{\n",
       "        var display = window.getComputedStyle(gd).display;\n",
       "        if (!display || display === 'none') {{\n",
       "            console.log([gd, 'removed!']);\n",
       "            Plotly.purge(gd);\n",
       "            observer.disconnect();\n",
       "        }}\n",
       "}});\n",
       "\n",
       "// Listen for the removal of the full notebook cells\n",
       "var notebookContainer = gd.closest('#notebook-container');\n",
       "if (notebookContainer) {{\n",
       "    x.observe(notebookContainer, {childList: true});\n",
       "}}\n",
       "\n",
       "// Listen for the clearing of the current output cell\n",
       "var outputEl = gd.closest('.output');\n",
       "if (outputEl) {{\n",
       "    x.observe(outputEl, {childList: true});\n",
       "}}\n",
       "\n",
       "                        })                };                });            </script>        </div>"
      ]
     },
     "metadata": {},
     "output_type": "display_data"
    }
   ],
   "execution_count": 169
  },
  {
   "metadata": {
    "ExecuteTime": {
     "end_time": "2025-01-03T04:32:06.026002Z",
     "start_time": "2025-01-03T04:32:06.005679Z"
    }
   },
   "cell_type": "code",
   "source": "pharmacies_expiration",
   "id": "e34454f79f74a3af",
   "outputs": [
    {
     "data": {
      "text/plain": [
       "                                         Pharmacy Name License Number  \\\n",
       "0                         986 INFUSION PHARMACY #1 INC     LSC 101414   \n",
       "1                             A & O SPECIALTY PHARMACY     LSC 101817   \n",
       "2                             ACCREDO HEALTH GROUP INC     NSC 101280   \n",
       "3                             ACCREDO HEALTH GROUP INC     NSC 101279   \n",
       "4                                ADVANCE CARE PHARMACY      LSC 99611   \n",
       "..                                                 ...            ...   \n",
       "836                        WEST ANAHEIM MEDICAL CENTER     LSC 101464   \n",
       "837  WHITE MEMORIAL MEDICAL CENTER DBA ADVENTIST HE...     LSC 100146   \n",
       "838                   WHITTIER HOSPITAL MEDICAL CENTER     LSC 101408   \n",
       "839  WOMENS INTERNATIONAL PHARMACY, INC. DBA BELMAR...     NSC 101754   \n",
       "840  WOODLAND MEMORIAL HOSPITAL STERILE COMPOUNDING...     LSC 101509   \n",
       "\n",
       "                                 License Type License Status Expiration Date  \\\n",
       "0                Sterile Compounding Pharmacy          CLEAR      2025-07-01   \n",
       "1                Sterile Compounding Pharmacy          CLEAR      2025-03-01   \n",
       "2    Nonresident Sterile Compounding Pharmacy          CLEAR      2025-12-01   \n",
       "3    Nonresident Sterile Compounding Pharmacy          CLEAR      2025-12-01   \n",
       "4                Sterile Compounding Pharmacy          CLEAR      2025-07-01   \n",
       "..                                        ...            ...             ...   \n",
       "836              Sterile Compounding Pharmacy          CLEAR      2025-11-01   \n",
       "837              Sterile Compounding Pharmacy          CLEAR      2025-07-01   \n",
       "838              Sterile Compounding Pharmacy          CLEAR      2026-01-01   \n",
       "839  Nonresident Sterile Compounding Pharmacy          CLEAR      2025-03-01   \n",
       "840              Sterile Compounding Pharmacy          CLEAR      2025-02-01   \n",
       "\n",
       "            City State       County    Zip        LAT        LONG  \\\n",
       "0        ANAHEIM    CA       ORANGE  92807  33.848733 -117.788357   \n",
       "1        SALINAS    CA     MONTEREY  93901  36.636344 -121.623978   \n",
       "2     WARRENDALE    PA          NaN  15086  40.674947  -80.106364   \n",
       "3        ORLANDO    FL          NaN  32822  28.489898  -81.290154   \n",
       "4      ESCONDIDO    CA    SAN DIEGO  92025  33.102005 -117.080419   \n",
       "..           ...   ...          ...    ...        ...         ...   \n",
       "836      ANAHEIM    CA       ORANGE  92804  33.818246 -117.974985   \n",
       "837  LOS ANGELES    CA  LOS ANGELES  90033  34.050380 -118.211991   \n",
       "838     WHITTIER    CA  LOS ANGELES  90605  33.950295 -118.024352   \n",
       "839    YOUNGTOWN    AZ          NaN  85363  33.584969 -112.304916   \n",
       "840     WOODLAND    CA         YOLO  95695  38.687045 -121.857077   \n",
       "\n",
       "     isGovernment  isSatellite     Facility Type  Year  Month  \n",
       "0           False        False   Infusion Center  2025      7  \n",
       "1           False        False               NaN  2025      3  \n",
       "2           False        False   Infusion Center  2025     12  \n",
       "3           False        False   Infusion Center  2025     12  \n",
       "4           False        False               NaN  2025      7  \n",
       "..            ...          ...               ...   ...    ...  \n",
       "836         False        False  Medical Facility  2025     11  \n",
       "837         False        False  Medical Facility  2025      7  \n",
       "838         False        False  Medical Facility  2026      1  \n",
       "839         False        False               NaN  2025      3  \n",
       "840         False        False  Medical Facility  2025      2  \n",
       "\n",
       "[839 rows x 16 columns]"
      ],
      "text/html": [
       "<div>\n",
       "<style scoped>\n",
       "    .dataframe tbody tr th:only-of-type {\n",
       "        vertical-align: middle;\n",
       "    }\n",
       "\n",
       "    .dataframe tbody tr th {\n",
       "        vertical-align: top;\n",
       "    }\n",
       "\n",
       "    .dataframe thead th {\n",
       "        text-align: right;\n",
       "    }\n",
       "</style>\n",
       "<table border=\"1\" class=\"dataframe\">\n",
       "  <thead>\n",
       "    <tr style=\"text-align: right;\">\n",
       "      <th></th>\n",
       "      <th>Pharmacy Name</th>\n",
       "      <th>License Number</th>\n",
       "      <th>License Type</th>\n",
       "      <th>License Status</th>\n",
       "      <th>Expiration Date</th>\n",
       "      <th>City</th>\n",
       "      <th>State</th>\n",
       "      <th>County</th>\n",
       "      <th>Zip</th>\n",
       "      <th>LAT</th>\n",
       "      <th>LONG</th>\n",
       "      <th>isGovernment</th>\n",
       "      <th>isSatellite</th>\n",
       "      <th>Facility Type</th>\n",
       "      <th>Year</th>\n",
       "      <th>Month</th>\n",
       "    </tr>\n",
       "  </thead>\n",
       "  <tbody>\n",
       "    <tr>\n",
       "      <th>0</th>\n",
       "      <td>986 INFUSION PHARMACY #1 INC</td>\n",
       "      <td>LSC 101414</td>\n",
       "      <td>Sterile Compounding Pharmacy</td>\n",
       "      <td>CLEAR</td>\n",
       "      <td>2025-07-01</td>\n",
       "      <td>ANAHEIM</td>\n",
       "      <td>CA</td>\n",
       "      <td>ORANGE</td>\n",
       "      <td>92807</td>\n",
       "      <td>33.848733</td>\n",
       "      <td>-117.788357</td>\n",
       "      <td>False</td>\n",
       "      <td>False</td>\n",
       "      <td>Infusion Center</td>\n",
       "      <td>2025</td>\n",
       "      <td>7</td>\n",
       "    </tr>\n",
       "    <tr>\n",
       "      <th>1</th>\n",
       "      <td>A &amp; O SPECIALTY PHARMACY</td>\n",
       "      <td>LSC 101817</td>\n",
       "      <td>Sterile Compounding Pharmacy</td>\n",
       "      <td>CLEAR</td>\n",
       "      <td>2025-03-01</td>\n",
       "      <td>SALINAS</td>\n",
       "      <td>CA</td>\n",
       "      <td>MONTEREY</td>\n",
       "      <td>93901</td>\n",
       "      <td>36.636344</td>\n",
       "      <td>-121.623978</td>\n",
       "      <td>False</td>\n",
       "      <td>False</td>\n",
       "      <td>NaN</td>\n",
       "      <td>2025</td>\n",
       "      <td>3</td>\n",
       "    </tr>\n",
       "    <tr>\n",
       "      <th>2</th>\n",
       "      <td>ACCREDO HEALTH GROUP INC</td>\n",
       "      <td>NSC 101280</td>\n",
       "      <td>Nonresident Sterile Compounding Pharmacy</td>\n",
       "      <td>CLEAR</td>\n",
       "      <td>2025-12-01</td>\n",
       "      <td>WARRENDALE</td>\n",
       "      <td>PA</td>\n",
       "      <td>NaN</td>\n",
       "      <td>15086</td>\n",
       "      <td>40.674947</td>\n",
       "      <td>-80.106364</td>\n",
       "      <td>False</td>\n",
       "      <td>False</td>\n",
       "      <td>Infusion Center</td>\n",
       "      <td>2025</td>\n",
       "      <td>12</td>\n",
       "    </tr>\n",
       "    <tr>\n",
       "      <th>3</th>\n",
       "      <td>ACCREDO HEALTH GROUP INC</td>\n",
       "      <td>NSC 101279</td>\n",
       "      <td>Nonresident Sterile Compounding Pharmacy</td>\n",
       "      <td>CLEAR</td>\n",
       "      <td>2025-12-01</td>\n",
       "      <td>ORLANDO</td>\n",
       "      <td>FL</td>\n",
       "      <td>NaN</td>\n",
       "      <td>32822</td>\n",
       "      <td>28.489898</td>\n",
       "      <td>-81.290154</td>\n",
       "      <td>False</td>\n",
       "      <td>False</td>\n",
       "      <td>Infusion Center</td>\n",
       "      <td>2025</td>\n",
       "      <td>12</td>\n",
       "    </tr>\n",
       "    <tr>\n",
       "      <th>4</th>\n",
       "      <td>ADVANCE CARE PHARMACY</td>\n",
       "      <td>LSC 99611</td>\n",
       "      <td>Sterile Compounding Pharmacy</td>\n",
       "      <td>CLEAR</td>\n",
       "      <td>2025-07-01</td>\n",
       "      <td>ESCONDIDO</td>\n",
       "      <td>CA</td>\n",
       "      <td>SAN DIEGO</td>\n",
       "      <td>92025</td>\n",
       "      <td>33.102005</td>\n",
       "      <td>-117.080419</td>\n",
       "      <td>False</td>\n",
       "      <td>False</td>\n",
       "      <td>NaN</td>\n",
       "      <td>2025</td>\n",
       "      <td>7</td>\n",
       "    </tr>\n",
       "    <tr>\n",
       "      <th>...</th>\n",
       "      <td>...</td>\n",
       "      <td>...</td>\n",
       "      <td>...</td>\n",
       "      <td>...</td>\n",
       "      <td>...</td>\n",
       "      <td>...</td>\n",
       "      <td>...</td>\n",
       "      <td>...</td>\n",
       "      <td>...</td>\n",
       "      <td>...</td>\n",
       "      <td>...</td>\n",
       "      <td>...</td>\n",
       "      <td>...</td>\n",
       "      <td>...</td>\n",
       "      <td>...</td>\n",
       "      <td>...</td>\n",
       "    </tr>\n",
       "    <tr>\n",
       "      <th>836</th>\n",
       "      <td>WEST ANAHEIM MEDICAL CENTER</td>\n",
       "      <td>LSC 101464</td>\n",
       "      <td>Sterile Compounding Pharmacy</td>\n",
       "      <td>CLEAR</td>\n",
       "      <td>2025-11-01</td>\n",
       "      <td>ANAHEIM</td>\n",
       "      <td>CA</td>\n",
       "      <td>ORANGE</td>\n",
       "      <td>92804</td>\n",
       "      <td>33.818246</td>\n",
       "      <td>-117.974985</td>\n",
       "      <td>False</td>\n",
       "      <td>False</td>\n",
       "      <td>Medical Facility</td>\n",
       "      <td>2025</td>\n",
       "      <td>11</td>\n",
       "    </tr>\n",
       "    <tr>\n",
       "      <th>837</th>\n",
       "      <td>WHITE MEMORIAL MEDICAL CENTER DBA ADVENTIST HE...</td>\n",
       "      <td>LSC 100146</td>\n",
       "      <td>Sterile Compounding Pharmacy</td>\n",
       "      <td>CLEAR</td>\n",
       "      <td>2025-07-01</td>\n",
       "      <td>LOS ANGELES</td>\n",
       "      <td>CA</td>\n",
       "      <td>LOS ANGELES</td>\n",
       "      <td>90033</td>\n",
       "      <td>34.050380</td>\n",
       "      <td>-118.211991</td>\n",
       "      <td>False</td>\n",
       "      <td>False</td>\n",
       "      <td>Medical Facility</td>\n",
       "      <td>2025</td>\n",
       "      <td>7</td>\n",
       "    </tr>\n",
       "    <tr>\n",
       "      <th>838</th>\n",
       "      <td>WHITTIER HOSPITAL MEDICAL CENTER</td>\n",
       "      <td>LSC 101408</td>\n",
       "      <td>Sterile Compounding Pharmacy</td>\n",
       "      <td>CLEAR</td>\n",
       "      <td>2026-01-01</td>\n",
       "      <td>WHITTIER</td>\n",
       "      <td>CA</td>\n",
       "      <td>LOS ANGELES</td>\n",
       "      <td>90605</td>\n",
       "      <td>33.950295</td>\n",
       "      <td>-118.024352</td>\n",
       "      <td>False</td>\n",
       "      <td>False</td>\n",
       "      <td>Medical Facility</td>\n",
       "      <td>2026</td>\n",
       "      <td>1</td>\n",
       "    </tr>\n",
       "    <tr>\n",
       "      <th>839</th>\n",
       "      <td>WOMENS INTERNATIONAL PHARMACY, INC. DBA BELMAR...</td>\n",
       "      <td>NSC 101754</td>\n",
       "      <td>Nonresident Sterile Compounding Pharmacy</td>\n",
       "      <td>CLEAR</td>\n",
       "      <td>2025-03-01</td>\n",
       "      <td>YOUNGTOWN</td>\n",
       "      <td>AZ</td>\n",
       "      <td>NaN</td>\n",
       "      <td>85363</td>\n",
       "      <td>33.584969</td>\n",
       "      <td>-112.304916</td>\n",
       "      <td>False</td>\n",
       "      <td>False</td>\n",
       "      <td>NaN</td>\n",
       "      <td>2025</td>\n",
       "      <td>3</td>\n",
       "    </tr>\n",
       "    <tr>\n",
       "      <th>840</th>\n",
       "      <td>WOODLAND MEMORIAL HOSPITAL STERILE COMPOUNDING...</td>\n",
       "      <td>LSC 101509</td>\n",
       "      <td>Sterile Compounding Pharmacy</td>\n",
       "      <td>CLEAR</td>\n",
       "      <td>2025-02-01</td>\n",
       "      <td>WOODLAND</td>\n",
       "      <td>CA</td>\n",
       "      <td>YOLO</td>\n",
       "      <td>95695</td>\n",
       "      <td>38.687045</td>\n",
       "      <td>-121.857077</td>\n",
       "      <td>False</td>\n",
       "      <td>False</td>\n",
       "      <td>Medical Facility</td>\n",
       "      <td>2025</td>\n",
       "      <td>2</td>\n",
       "    </tr>\n",
       "  </tbody>\n",
       "</table>\n",
       "<p>839 rows × 16 columns</p>\n",
       "</div>"
      ]
     },
     "execution_count": 170,
     "metadata": {},
     "output_type": "execute_result"
    }
   ],
   "execution_count": 170
  },
  {
   "metadata": {
    "ExecuteTime": {
     "end_time": "2025-01-03T04:32:06.111979Z",
     "start_time": "2025-01-03T04:32:06.047062Z"
    }
   },
   "cell_type": "code",
   "source": [
    "# Ensure the Expiration Date is in the correct datetime format\n",
    "pharmacies['Expiration Date'] = pd.to_datetime(pharmacies['Expiration Date'], errors='coerce')\n",
    "\n",
    "# Filter out rows with invalid Expiration Date\n",
    "pharmacies_expiration = pharmacies[pharmacies['Expiration Date'].notna()]\n",
    "\n",
    "# Extract year and month\n",
    "pharmacies_expiration['Year'] = pharmacies_expiration['Expiration Date'].dt.year\n",
    "pharmacies_expiration['Month'] = pharmacies_expiration['Expiration Date'].dt.month\n",
    "\n",
    "# Filter out rows where the Year is 2024\n",
    "pharmacies_expiration = pharmacies_expiration[pharmacies_expiration['Year'] != 2024]\n",
    "\n",
    "# Group by Year and Month and count the number of expirations\n",
    "expirations_by_year_month = pharmacies_expiration.groupby(['Year', 'Month']).size().reset_index(name='Count')\n",
    "\n",
    "# Filter out rows where the count of expirations is zero\n",
    "expirations_by_year_month = expirations_by_year_month[expirations_by_year_month['Count'] > 0]\n",
    "\n",
    "# Create a \"Date\" column combining Year and Month for the line plot\n",
    "expirations_by_year_month['Date'] = pd.to_datetime(expirations_by_year_month[['Year', 'Month']].assign(DAY=1))\n",
    "\n",
    "# Create the line chart of expirations over time\n",
    "line_fig = px.line(expirations_by_year_month, \n",
    "                   x='Date', \n",
    "                   y='Count', \n",
    "                   title=\"Pharmacy Expirations Over Time\",\n",
    "                   labels={'Count': 'Number of Expirations', 'Date': 'Date'},\n",
    "                   markers=True,  # Mark data points on the line\n",
    "                   template='plotly_white')\n",
    "\n",
    "line_fig.show()\n"
   ],
   "id": "77b2cfffabdf4afd",
   "outputs": [
    {
     "data": {
      "application/vnd.plotly.v1+json": {
       "data": [
        {
         "hovertemplate": "Date=%{x}<br>Number of Expirations=%{y}<extra></extra>",
         "legendgroup": "",
         "line": {
          "color": "#636efa",
          "dash": "solid"
         },
         "marker": {
          "symbol": "circle"
         },
         "mode": "lines+markers",
         "name": "",
         "orientation": "v",
         "showlegend": false,
         "x": [
          "2025-01-01T00:00:00",
          "2025-02-01T00:00:00",
          "2025-03-01T00:00:00",
          "2025-04-01T00:00:00",
          "2025-05-01T00:00:00",
          "2025-06-01T00:00:00",
          "2025-07-01T00:00:00",
          "2025-08-01T00:00:00",
          "2025-09-01T00:00:00",
          "2025-10-01T00:00:00",
          "2025-11-01T00:00:00",
          "2025-12-01T00:00:00",
          "2026-01-01T00:00:00",
          "2026-02-01T00:00:00"
         ],
         "xaxis": "x",
         "y": [
          16,
          55,
          60,
          41,
          51,
          51,
          92,
          92,
          53,
          56,
          156,
          63,
          52,
          1
         ],
         "yaxis": "y",
         "type": "scatter"
        }
       ],
       "layout": {
        "template": {
         "data": {
          "barpolar": [
           {
            "marker": {
             "line": {
              "color": "white",
              "width": 0.5
             },
             "pattern": {
              "fillmode": "overlay",
              "size": 10,
              "solidity": 0.2
             }
            },
            "type": "barpolar"
           }
          ],
          "bar": [
           {
            "error_x": {
             "color": "#2a3f5f"
            },
            "error_y": {
             "color": "#2a3f5f"
            },
            "marker": {
             "line": {
              "color": "white",
              "width": 0.5
             },
             "pattern": {
              "fillmode": "overlay",
              "size": 10,
              "solidity": 0.2
             }
            },
            "type": "bar"
           }
          ],
          "carpet": [
           {
            "aaxis": {
             "endlinecolor": "#2a3f5f",
             "gridcolor": "#C8D4E3",
             "linecolor": "#C8D4E3",
             "minorgridcolor": "#C8D4E3",
             "startlinecolor": "#2a3f5f"
            },
            "baxis": {
             "endlinecolor": "#2a3f5f",
             "gridcolor": "#C8D4E3",
             "linecolor": "#C8D4E3",
             "minorgridcolor": "#C8D4E3",
             "startlinecolor": "#2a3f5f"
            },
            "type": "carpet"
           }
          ],
          "choropleth": [
           {
            "colorbar": {
             "outlinewidth": 0,
             "ticks": ""
            },
            "type": "choropleth"
           }
          ],
          "contourcarpet": [
           {
            "colorbar": {
             "outlinewidth": 0,
             "ticks": ""
            },
            "type": "contourcarpet"
           }
          ],
          "contour": [
           {
            "colorbar": {
             "outlinewidth": 0,
             "ticks": ""
            },
            "colorscale": [
             [
              0.0,
              "#0d0887"
             ],
             [
              0.1111111111111111,
              "#46039f"
             ],
             [
              0.2222222222222222,
              "#7201a8"
             ],
             [
              0.3333333333333333,
              "#9c179e"
             ],
             [
              0.4444444444444444,
              "#bd3786"
             ],
             [
              0.5555555555555556,
              "#d8576b"
             ],
             [
              0.6666666666666666,
              "#ed7953"
             ],
             [
              0.7777777777777778,
              "#fb9f3a"
             ],
             [
              0.8888888888888888,
              "#fdca26"
             ],
             [
              1.0,
              "#f0f921"
             ]
            ],
            "type": "contour"
           }
          ],
          "heatmapgl": [
           {
            "colorbar": {
             "outlinewidth": 0,
             "ticks": ""
            },
            "colorscale": [
             [
              0.0,
              "#0d0887"
             ],
             [
              0.1111111111111111,
              "#46039f"
             ],
             [
              0.2222222222222222,
              "#7201a8"
             ],
             [
              0.3333333333333333,
              "#9c179e"
             ],
             [
              0.4444444444444444,
              "#bd3786"
             ],
             [
              0.5555555555555556,
              "#d8576b"
             ],
             [
              0.6666666666666666,
              "#ed7953"
             ],
             [
              0.7777777777777778,
              "#fb9f3a"
             ],
             [
              0.8888888888888888,
              "#fdca26"
             ],
             [
              1.0,
              "#f0f921"
             ]
            ],
            "type": "heatmapgl"
           }
          ],
          "heatmap": [
           {
            "colorbar": {
             "outlinewidth": 0,
             "ticks": ""
            },
            "colorscale": [
             [
              0.0,
              "#0d0887"
             ],
             [
              0.1111111111111111,
              "#46039f"
             ],
             [
              0.2222222222222222,
              "#7201a8"
             ],
             [
              0.3333333333333333,
              "#9c179e"
             ],
             [
              0.4444444444444444,
              "#bd3786"
             ],
             [
              0.5555555555555556,
              "#d8576b"
             ],
             [
              0.6666666666666666,
              "#ed7953"
             ],
             [
              0.7777777777777778,
              "#fb9f3a"
             ],
             [
              0.8888888888888888,
              "#fdca26"
             ],
             [
              1.0,
              "#f0f921"
             ]
            ],
            "type": "heatmap"
           }
          ],
          "histogram2dcontour": [
           {
            "colorbar": {
             "outlinewidth": 0,
             "ticks": ""
            },
            "colorscale": [
             [
              0.0,
              "#0d0887"
             ],
             [
              0.1111111111111111,
              "#46039f"
             ],
             [
              0.2222222222222222,
              "#7201a8"
             ],
             [
              0.3333333333333333,
              "#9c179e"
             ],
             [
              0.4444444444444444,
              "#bd3786"
             ],
             [
              0.5555555555555556,
              "#d8576b"
             ],
             [
              0.6666666666666666,
              "#ed7953"
             ],
             [
              0.7777777777777778,
              "#fb9f3a"
             ],
             [
              0.8888888888888888,
              "#fdca26"
             ],
             [
              1.0,
              "#f0f921"
             ]
            ],
            "type": "histogram2dcontour"
           }
          ],
          "histogram2d": [
           {
            "colorbar": {
             "outlinewidth": 0,
             "ticks": ""
            },
            "colorscale": [
             [
              0.0,
              "#0d0887"
             ],
             [
              0.1111111111111111,
              "#46039f"
             ],
             [
              0.2222222222222222,
              "#7201a8"
             ],
             [
              0.3333333333333333,
              "#9c179e"
             ],
             [
              0.4444444444444444,
              "#bd3786"
             ],
             [
              0.5555555555555556,
              "#d8576b"
             ],
             [
              0.6666666666666666,
              "#ed7953"
             ],
             [
              0.7777777777777778,
              "#fb9f3a"
             ],
             [
              0.8888888888888888,
              "#fdca26"
             ],
             [
              1.0,
              "#f0f921"
             ]
            ],
            "type": "histogram2d"
           }
          ],
          "histogram": [
           {
            "marker": {
             "pattern": {
              "fillmode": "overlay",
              "size": 10,
              "solidity": 0.2
             }
            },
            "type": "histogram"
           }
          ],
          "mesh3d": [
           {
            "colorbar": {
             "outlinewidth": 0,
             "ticks": ""
            },
            "type": "mesh3d"
           }
          ],
          "parcoords": [
           {
            "line": {
             "colorbar": {
              "outlinewidth": 0,
              "ticks": ""
             }
            },
            "type": "parcoords"
           }
          ],
          "pie": [
           {
            "automargin": true,
            "type": "pie"
           }
          ],
          "scatter3d": [
           {
            "line": {
             "colorbar": {
              "outlinewidth": 0,
              "ticks": ""
             }
            },
            "marker": {
             "colorbar": {
              "outlinewidth": 0,
              "ticks": ""
             }
            },
            "type": "scatter3d"
           }
          ],
          "scattercarpet": [
           {
            "marker": {
             "colorbar": {
              "outlinewidth": 0,
              "ticks": ""
             }
            },
            "type": "scattercarpet"
           }
          ],
          "scattergeo": [
           {
            "marker": {
             "colorbar": {
              "outlinewidth": 0,
              "ticks": ""
             }
            },
            "type": "scattergeo"
           }
          ],
          "scattergl": [
           {
            "marker": {
             "colorbar": {
              "outlinewidth": 0,
              "ticks": ""
             }
            },
            "type": "scattergl"
           }
          ],
          "scattermapbox": [
           {
            "marker": {
             "colorbar": {
              "outlinewidth": 0,
              "ticks": ""
             }
            },
            "type": "scattermapbox"
           }
          ],
          "scatterpolargl": [
           {
            "marker": {
             "colorbar": {
              "outlinewidth": 0,
              "ticks": ""
             }
            },
            "type": "scatterpolargl"
           }
          ],
          "scatterpolar": [
           {
            "marker": {
             "colorbar": {
              "outlinewidth": 0,
              "ticks": ""
             }
            },
            "type": "scatterpolar"
           }
          ],
          "scatter": [
           {
            "fillpattern": {
             "fillmode": "overlay",
             "size": 10,
             "solidity": 0.2
            },
            "type": "scatter"
           }
          ],
          "scatterternary": [
           {
            "marker": {
             "colorbar": {
              "outlinewidth": 0,
              "ticks": ""
             }
            },
            "type": "scatterternary"
           }
          ],
          "surface": [
           {
            "colorbar": {
             "outlinewidth": 0,
             "ticks": ""
            },
            "colorscale": [
             [
              0.0,
              "#0d0887"
             ],
             [
              0.1111111111111111,
              "#46039f"
             ],
             [
              0.2222222222222222,
              "#7201a8"
             ],
             [
              0.3333333333333333,
              "#9c179e"
             ],
             [
              0.4444444444444444,
              "#bd3786"
             ],
             [
              0.5555555555555556,
              "#d8576b"
             ],
             [
              0.6666666666666666,
              "#ed7953"
             ],
             [
              0.7777777777777778,
              "#fb9f3a"
             ],
             [
              0.8888888888888888,
              "#fdca26"
             ],
             [
              1.0,
              "#f0f921"
             ]
            ],
            "type": "surface"
           }
          ],
          "table": [
           {
            "cells": {
             "fill": {
              "color": "#EBF0F8"
             },
             "line": {
              "color": "white"
             }
            },
            "header": {
             "fill": {
              "color": "#C8D4E3"
             },
             "line": {
              "color": "white"
             }
            },
            "type": "table"
           }
          ]
         },
         "layout": {
          "annotationdefaults": {
           "arrowcolor": "#2a3f5f",
           "arrowhead": 0,
           "arrowwidth": 1
          },
          "autotypenumbers": "strict",
          "coloraxis": {
           "colorbar": {
            "outlinewidth": 0,
            "ticks": ""
           }
          },
          "colorscale": {
           "diverging": [
            [
             0,
             "#8e0152"
            ],
            [
             0.1,
             "#c51b7d"
            ],
            [
             0.2,
             "#de77ae"
            ],
            [
             0.3,
             "#f1b6da"
            ],
            [
             0.4,
             "#fde0ef"
            ],
            [
             0.5,
             "#f7f7f7"
            ],
            [
             0.6,
             "#e6f5d0"
            ],
            [
             0.7,
             "#b8e186"
            ],
            [
             0.8,
             "#7fbc41"
            ],
            [
             0.9,
             "#4d9221"
            ],
            [
             1,
             "#276419"
            ]
           ],
           "sequential": [
            [
             0.0,
             "#0d0887"
            ],
            [
             0.1111111111111111,
             "#46039f"
            ],
            [
             0.2222222222222222,
             "#7201a8"
            ],
            [
             0.3333333333333333,
             "#9c179e"
            ],
            [
             0.4444444444444444,
             "#bd3786"
            ],
            [
             0.5555555555555556,
             "#d8576b"
            ],
            [
             0.6666666666666666,
             "#ed7953"
            ],
            [
             0.7777777777777778,
             "#fb9f3a"
            ],
            [
             0.8888888888888888,
             "#fdca26"
            ],
            [
             1.0,
             "#f0f921"
            ]
           ],
           "sequentialminus": [
            [
             0.0,
             "#0d0887"
            ],
            [
             0.1111111111111111,
             "#46039f"
            ],
            [
             0.2222222222222222,
             "#7201a8"
            ],
            [
             0.3333333333333333,
             "#9c179e"
            ],
            [
             0.4444444444444444,
             "#bd3786"
            ],
            [
             0.5555555555555556,
             "#d8576b"
            ],
            [
             0.6666666666666666,
             "#ed7953"
            ],
            [
             0.7777777777777778,
             "#fb9f3a"
            ],
            [
             0.8888888888888888,
             "#fdca26"
            ],
            [
             1.0,
             "#f0f921"
            ]
           ]
          },
          "colorway": [
           "#636efa",
           "#EF553B",
           "#00cc96",
           "#ab63fa",
           "#FFA15A",
           "#19d3f3",
           "#FF6692",
           "#B6E880",
           "#FF97FF",
           "#FECB52"
          ],
          "font": {
           "color": "#2a3f5f"
          },
          "geo": {
           "bgcolor": "white",
           "lakecolor": "white",
           "landcolor": "white",
           "showlakes": true,
           "showland": true,
           "subunitcolor": "#C8D4E3"
          },
          "hoverlabel": {
           "align": "left"
          },
          "hovermode": "closest",
          "mapbox": {
           "style": "light"
          },
          "paper_bgcolor": "white",
          "plot_bgcolor": "white",
          "polar": {
           "angularaxis": {
            "gridcolor": "#EBF0F8",
            "linecolor": "#EBF0F8",
            "ticks": ""
           },
           "bgcolor": "white",
           "radialaxis": {
            "gridcolor": "#EBF0F8",
            "linecolor": "#EBF0F8",
            "ticks": ""
           }
          },
          "scene": {
           "xaxis": {
            "backgroundcolor": "white",
            "gridcolor": "#DFE8F3",
            "gridwidth": 2,
            "linecolor": "#EBF0F8",
            "showbackground": true,
            "ticks": "",
            "zerolinecolor": "#EBF0F8"
           },
           "yaxis": {
            "backgroundcolor": "white",
            "gridcolor": "#DFE8F3",
            "gridwidth": 2,
            "linecolor": "#EBF0F8",
            "showbackground": true,
            "ticks": "",
            "zerolinecolor": "#EBF0F8"
           },
           "zaxis": {
            "backgroundcolor": "white",
            "gridcolor": "#DFE8F3",
            "gridwidth": 2,
            "linecolor": "#EBF0F8",
            "showbackground": true,
            "ticks": "",
            "zerolinecolor": "#EBF0F8"
           }
          },
          "shapedefaults": {
           "line": {
            "color": "#2a3f5f"
           }
          },
          "ternary": {
           "aaxis": {
            "gridcolor": "#DFE8F3",
            "linecolor": "#A2B1C6",
            "ticks": ""
           },
           "baxis": {
            "gridcolor": "#DFE8F3",
            "linecolor": "#A2B1C6",
            "ticks": ""
           },
           "bgcolor": "white",
           "caxis": {
            "gridcolor": "#DFE8F3",
            "linecolor": "#A2B1C6",
            "ticks": ""
           }
          },
          "title": {
           "x": 0.05
          },
          "xaxis": {
           "automargin": true,
           "gridcolor": "#EBF0F8",
           "linecolor": "#EBF0F8",
           "ticks": "",
           "title": {
            "standoff": 15
           },
           "zerolinecolor": "#EBF0F8",
           "zerolinewidth": 2
          },
          "yaxis": {
           "automargin": true,
           "gridcolor": "#EBF0F8",
           "linecolor": "#EBF0F8",
           "ticks": "",
           "title": {
            "standoff": 15
           },
           "zerolinecolor": "#EBF0F8",
           "zerolinewidth": 2
          }
         }
        },
        "xaxis": {
         "anchor": "y",
         "domain": [
          0.0,
          1.0
         ],
         "title": {
          "text": "Date"
         }
        },
        "yaxis": {
         "anchor": "x",
         "domain": [
          0.0,
          1.0
         ],
         "title": {
          "text": "Number of Expirations"
         }
        },
        "legend": {
         "tracegroupgap": 0
        },
        "title": {
         "text": "Pharmacy Expirations Over Time"
        }
       },
       "config": {
        "plotlyServerURL": "https://plot.ly"
       }
      },
      "text/html": [
       "<div>                            <div id=\"9b37d353-5e70-4f52-bb51-9d12af779b5b\" class=\"plotly-graph-div\" style=\"height:525px; width:100%;\"></div>            <script type=\"text/javascript\">                require([\"plotly\"], function(Plotly) {                    window.PLOTLYENV=window.PLOTLYENV || {};                                    if (document.getElementById(\"9b37d353-5e70-4f52-bb51-9d12af779b5b\")) {                    Plotly.newPlot(                        \"9b37d353-5e70-4f52-bb51-9d12af779b5b\",                        [{\"hovertemplate\":\"Date=%{x}\\u003cbr\\u003eNumber of Expirations=%{y}\\u003cextra\\u003e\\u003c\\u002fextra\\u003e\",\"legendgroup\":\"\",\"line\":{\"color\":\"#636efa\",\"dash\":\"solid\"},\"marker\":{\"symbol\":\"circle\"},\"mode\":\"lines+markers\",\"name\":\"\",\"orientation\":\"v\",\"showlegend\":false,\"x\":[\"2025-01-01T00:00:00\",\"2025-02-01T00:00:00\",\"2025-03-01T00:00:00\",\"2025-04-01T00:00:00\",\"2025-05-01T00:00:00\",\"2025-06-01T00:00:00\",\"2025-07-01T00:00:00\",\"2025-08-01T00:00:00\",\"2025-09-01T00:00:00\",\"2025-10-01T00:00:00\",\"2025-11-01T00:00:00\",\"2025-12-01T00:00:00\",\"2026-01-01T00:00:00\",\"2026-02-01T00:00:00\"],\"xaxis\":\"x\",\"y\":[16,55,60,41,51,51,92,92,53,56,156,63,52,1],\"yaxis\":\"y\",\"type\":\"scatter\"}],                        {\"template\":{\"data\":{\"barpolar\":[{\"marker\":{\"line\":{\"color\":\"white\",\"width\":0.5},\"pattern\":{\"fillmode\":\"overlay\",\"size\":10,\"solidity\":0.2}},\"type\":\"barpolar\"}],\"bar\":[{\"error_x\":{\"color\":\"#2a3f5f\"},\"error_y\":{\"color\":\"#2a3f5f\"},\"marker\":{\"line\":{\"color\":\"white\",\"width\":0.5},\"pattern\":{\"fillmode\":\"overlay\",\"size\":10,\"solidity\":0.2}},\"type\":\"bar\"}],\"carpet\":[{\"aaxis\":{\"endlinecolor\":\"#2a3f5f\",\"gridcolor\":\"#C8D4E3\",\"linecolor\":\"#C8D4E3\",\"minorgridcolor\":\"#C8D4E3\",\"startlinecolor\":\"#2a3f5f\"},\"baxis\":{\"endlinecolor\":\"#2a3f5f\",\"gridcolor\":\"#C8D4E3\",\"linecolor\":\"#C8D4E3\",\"minorgridcolor\":\"#C8D4E3\",\"startlinecolor\":\"#2a3f5f\"},\"type\":\"carpet\"}],\"choropleth\":[{\"colorbar\":{\"outlinewidth\":0,\"ticks\":\"\"},\"type\":\"choropleth\"}],\"contourcarpet\":[{\"colorbar\":{\"outlinewidth\":0,\"ticks\":\"\"},\"type\":\"contourcarpet\"}],\"contour\":[{\"colorbar\":{\"outlinewidth\":0,\"ticks\":\"\"},\"colorscale\":[[0.0,\"#0d0887\"],[0.1111111111111111,\"#46039f\"],[0.2222222222222222,\"#7201a8\"],[0.3333333333333333,\"#9c179e\"],[0.4444444444444444,\"#bd3786\"],[0.5555555555555556,\"#d8576b\"],[0.6666666666666666,\"#ed7953\"],[0.7777777777777778,\"#fb9f3a\"],[0.8888888888888888,\"#fdca26\"],[1.0,\"#f0f921\"]],\"type\":\"contour\"}],\"heatmapgl\":[{\"colorbar\":{\"outlinewidth\":0,\"ticks\":\"\"},\"colorscale\":[[0.0,\"#0d0887\"],[0.1111111111111111,\"#46039f\"],[0.2222222222222222,\"#7201a8\"],[0.3333333333333333,\"#9c179e\"],[0.4444444444444444,\"#bd3786\"],[0.5555555555555556,\"#d8576b\"],[0.6666666666666666,\"#ed7953\"],[0.7777777777777778,\"#fb9f3a\"],[0.8888888888888888,\"#fdca26\"],[1.0,\"#f0f921\"]],\"type\":\"heatmapgl\"}],\"heatmap\":[{\"colorbar\":{\"outlinewidth\":0,\"ticks\":\"\"},\"colorscale\":[[0.0,\"#0d0887\"],[0.1111111111111111,\"#46039f\"],[0.2222222222222222,\"#7201a8\"],[0.3333333333333333,\"#9c179e\"],[0.4444444444444444,\"#bd3786\"],[0.5555555555555556,\"#d8576b\"],[0.6666666666666666,\"#ed7953\"],[0.7777777777777778,\"#fb9f3a\"],[0.8888888888888888,\"#fdca26\"],[1.0,\"#f0f921\"]],\"type\":\"heatmap\"}],\"histogram2dcontour\":[{\"colorbar\":{\"outlinewidth\":0,\"ticks\":\"\"},\"colorscale\":[[0.0,\"#0d0887\"],[0.1111111111111111,\"#46039f\"],[0.2222222222222222,\"#7201a8\"],[0.3333333333333333,\"#9c179e\"],[0.4444444444444444,\"#bd3786\"],[0.5555555555555556,\"#d8576b\"],[0.6666666666666666,\"#ed7953\"],[0.7777777777777778,\"#fb9f3a\"],[0.8888888888888888,\"#fdca26\"],[1.0,\"#f0f921\"]],\"type\":\"histogram2dcontour\"}],\"histogram2d\":[{\"colorbar\":{\"outlinewidth\":0,\"ticks\":\"\"},\"colorscale\":[[0.0,\"#0d0887\"],[0.1111111111111111,\"#46039f\"],[0.2222222222222222,\"#7201a8\"],[0.3333333333333333,\"#9c179e\"],[0.4444444444444444,\"#bd3786\"],[0.5555555555555556,\"#d8576b\"],[0.6666666666666666,\"#ed7953\"],[0.7777777777777778,\"#fb9f3a\"],[0.8888888888888888,\"#fdca26\"],[1.0,\"#f0f921\"]],\"type\":\"histogram2d\"}],\"histogram\":[{\"marker\":{\"pattern\":{\"fillmode\":\"overlay\",\"size\":10,\"solidity\":0.2}},\"type\":\"histogram\"}],\"mesh3d\":[{\"colorbar\":{\"outlinewidth\":0,\"ticks\":\"\"},\"type\":\"mesh3d\"}],\"parcoords\":[{\"line\":{\"colorbar\":{\"outlinewidth\":0,\"ticks\":\"\"}},\"type\":\"parcoords\"}],\"pie\":[{\"automargin\":true,\"type\":\"pie\"}],\"scatter3d\":[{\"line\":{\"colorbar\":{\"outlinewidth\":0,\"ticks\":\"\"}},\"marker\":{\"colorbar\":{\"outlinewidth\":0,\"ticks\":\"\"}},\"type\":\"scatter3d\"}],\"scattercarpet\":[{\"marker\":{\"colorbar\":{\"outlinewidth\":0,\"ticks\":\"\"}},\"type\":\"scattercarpet\"}],\"scattergeo\":[{\"marker\":{\"colorbar\":{\"outlinewidth\":0,\"ticks\":\"\"}},\"type\":\"scattergeo\"}],\"scattergl\":[{\"marker\":{\"colorbar\":{\"outlinewidth\":0,\"ticks\":\"\"}},\"type\":\"scattergl\"}],\"scattermapbox\":[{\"marker\":{\"colorbar\":{\"outlinewidth\":0,\"ticks\":\"\"}},\"type\":\"scattermapbox\"}],\"scatterpolargl\":[{\"marker\":{\"colorbar\":{\"outlinewidth\":0,\"ticks\":\"\"}},\"type\":\"scatterpolargl\"}],\"scatterpolar\":[{\"marker\":{\"colorbar\":{\"outlinewidth\":0,\"ticks\":\"\"}},\"type\":\"scatterpolar\"}],\"scatter\":[{\"fillpattern\":{\"fillmode\":\"overlay\",\"size\":10,\"solidity\":0.2},\"type\":\"scatter\"}],\"scatterternary\":[{\"marker\":{\"colorbar\":{\"outlinewidth\":0,\"ticks\":\"\"}},\"type\":\"scatterternary\"}],\"surface\":[{\"colorbar\":{\"outlinewidth\":0,\"ticks\":\"\"},\"colorscale\":[[0.0,\"#0d0887\"],[0.1111111111111111,\"#46039f\"],[0.2222222222222222,\"#7201a8\"],[0.3333333333333333,\"#9c179e\"],[0.4444444444444444,\"#bd3786\"],[0.5555555555555556,\"#d8576b\"],[0.6666666666666666,\"#ed7953\"],[0.7777777777777778,\"#fb9f3a\"],[0.8888888888888888,\"#fdca26\"],[1.0,\"#f0f921\"]],\"type\":\"surface\"}],\"table\":[{\"cells\":{\"fill\":{\"color\":\"#EBF0F8\"},\"line\":{\"color\":\"white\"}},\"header\":{\"fill\":{\"color\":\"#C8D4E3\"},\"line\":{\"color\":\"white\"}},\"type\":\"table\"}]},\"layout\":{\"annotationdefaults\":{\"arrowcolor\":\"#2a3f5f\",\"arrowhead\":0,\"arrowwidth\":1},\"autotypenumbers\":\"strict\",\"coloraxis\":{\"colorbar\":{\"outlinewidth\":0,\"ticks\":\"\"}},\"colorscale\":{\"diverging\":[[0,\"#8e0152\"],[0.1,\"#c51b7d\"],[0.2,\"#de77ae\"],[0.3,\"#f1b6da\"],[0.4,\"#fde0ef\"],[0.5,\"#f7f7f7\"],[0.6,\"#e6f5d0\"],[0.7,\"#b8e186\"],[0.8,\"#7fbc41\"],[0.9,\"#4d9221\"],[1,\"#276419\"]],\"sequential\":[[0.0,\"#0d0887\"],[0.1111111111111111,\"#46039f\"],[0.2222222222222222,\"#7201a8\"],[0.3333333333333333,\"#9c179e\"],[0.4444444444444444,\"#bd3786\"],[0.5555555555555556,\"#d8576b\"],[0.6666666666666666,\"#ed7953\"],[0.7777777777777778,\"#fb9f3a\"],[0.8888888888888888,\"#fdca26\"],[1.0,\"#f0f921\"]],\"sequentialminus\":[[0.0,\"#0d0887\"],[0.1111111111111111,\"#46039f\"],[0.2222222222222222,\"#7201a8\"],[0.3333333333333333,\"#9c179e\"],[0.4444444444444444,\"#bd3786\"],[0.5555555555555556,\"#d8576b\"],[0.6666666666666666,\"#ed7953\"],[0.7777777777777778,\"#fb9f3a\"],[0.8888888888888888,\"#fdca26\"],[1.0,\"#f0f921\"]]},\"colorway\":[\"#636efa\",\"#EF553B\",\"#00cc96\",\"#ab63fa\",\"#FFA15A\",\"#19d3f3\",\"#FF6692\",\"#B6E880\",\"#FF97FF\",\"#FECB52\"],\"font\":{\"color\":\"#2a3f5f\"},\"geo\":{\"bgcolor\":\"white\",\"lakecolor\":\"white\",\"landcolor\":\"white\",\"showlakes\":true,\"showland\":true,\"subunitcolor\":\"#C8D4E3\"},\"hoverlabel\":{\"align\":\"left\"},\"hovermode\":\"closest\",\"mapbox\":{\"style\":\"light\"},\"paper_bgcolor\":\"white\",\"plot_bgcolor\":\"white\",\"polar\":{\"angularaxis\":{\"gridcolor\":\"#EBF0F8\",\"linecolor\":\"#EBF0F8\",\"ticks\":\"\"},\"bgcolor\":\"white\",\"radialaxis\":{\"gridcolor\":\"#EBF0F8\",\"linecolor\":\"#EBF0F8\",\"ticks\":\"\"}},\"scene\":{\"xaxis\":{\"backgroundcolor\":\"white\",\"gridcolor\":\"#DFE8F3\",\"gridwidth\":2,\"linecolor\":\"#EBF0F8\",\"showbackground\":true,\"ticks\":\"\",\"zerolinecolor\":\"#EBF0F8\"},\"yaxis\":{\"backgroundcolor\":\"white\",\"gridcolor\":\"#DFE8F3\",\"gridwidth\":2,\"linecolor\":\"#EBF0F8\",\"showbackground\":true,\"ticks\":\"\",\"zerolinecolor\":\"#EBF0F8\"},\"zaxis\":{\"backgroundcolor\":\"white\",\"gridcolor\":\"#DFE8F3\",\"gridwidth\":2,\"linecolor\":\"#EBF0F8\",\"showbackground\":true,\"ticks\":\"\",\"zerolinecolor\":\"#EBF0F8\"}},\"shapedefaults\":{\"line\":{\"color\":\"#2a3f5f\"}},\"ternary\":{\"aaxis\":{\"gridcolor\":\"#DFE8F3\",\"linecolor\":\"#A2B1C6\",\"ticks\":\"\"},\"baxis\":{\"gridcolor\":\"#DFE8F3\",\"linecolor\":\"#A2B1C6\",\"ticks\":\"\"},\"bgcolor\":\"white\",\"caxis\":{\"gridcolor\":\"#DFE8F3\",\"linecolor\":\"#A2B1C6\",\"ticks\":\"\"}},\"title\":{\"x\":0.05},\"xaxis\":{\"automargin\":true,\"gridcolor\":\"#EBF0F8\",\"linecolor\":\"#EBF0F8\",\"ticks\":\"\",\"title\":{\"standoff\":15},\"zerolinecolor\":\"#EBF0F8\",\"zerolinewidth\":2},\"yaxis\":{\"automargin\":true,\"gridcolor\":\"#EBF0F8\",\"linecolor\":\"#EBF0F8\",\"ticks\":\"\",\"title\":{\"standoff\":15},\"zerolinecolor\":\"#EBF0F8\",\"zerolinewidth\":2}}},\"xaxis\":{\"anchor\":\"y\",\"domain\":[0.0,1.0],\"title\":{\"text\":\"Date\"}},\"yaxis\":{\"anchor\":\"x\",\"domain\":[0.0,1.0],\"title\":{\"text\":\"Number of Expirations\"}},\"legend\":{\"tracegroupgap\":0},\"title\":{\"text\":\"Pharmacy Expirations Over Time\"}},                        {\"responsive\": true}                    ).then(function(){\n",
       "                            \n",
       "var gd = document.getElementById('9b37d353-5e70-4f52-bb51-9d12af779b5b');\n",
       "var x = new MutationObserver(function (mutations, observer) {{\n",
       "        var display = window.getComputedStyle(gd).display;\n",
       "        if (!display || display === 'none') {{\n",
       "            console.log([gd, 'removed!']);\n",
       "            Plotly.purge(gd);\n",
       "            observer.disconnect();\n",
       "        }}\n",
       "}});\n",
       "\n",
       "// Listen for the removal of the full notebook cells\n",
       "var notebookContainer = gd.closest('#notebook-container');\n",
       "if (notebookContainer) {{\n",
       "    x.observe(notebookContainer, {childList: true});\n",
       "}}\n",
       "\n",
       "// Listen for the clearing of the current output cell\n",
       "var outputEl = gd.closest('.output');\n",
       "if (outputEl) {{\n",
       "    x.observe(outputEl, {childList: true});\n",
       "}}\n",
       "\n",
       "                        })                };                });            </script>        </div>"
      ]
     },
     "metadata": {},
     "output_type": "display_data"
    }
   ],
   "execution_count": 171
  },
  {
   "metadata": {
    "ExecuteTime": {
     "end_time": "2025-01-03T04:32:06.218355Z",
     "start_time": "2025-01-03T04:32:06.131044Z"
    }
   },
   "cell_type": "code",
   "source": [
    "# Ensure the Expiration Date is in the correct datetime format\n",
    "pharmacies['Expiration Date'] = pd.to_datetime(pharmacies['Expiration Date'], errors='coerce')\n",
    "\n",
    "# Filter out rows with invalid Expiration Date\n",
    "pharmacies_expiration = pharmacies[pharmacies['Expiration Date'].notna()]\n",
    "\n",
    "# Extract year, month, and facility type\n",
    "pharmacies_expiration['Year'] = pharmacies_expiration['Expiration Date'].dt.year\n",
    "pharmacies_expiration['Month'] = pharmacies_expiration['Expiration Date'].dt.month\n",
    "\n",
    "# Filter out rows where the Year is 2024\n",
    "pharmacies_expiration = pharmacies_expiration[pharmacies_expiration['Year'] != 2024]\n",
    "\n",
    "# Group by Year, Month, and Facility Type and count the number of expirations\n",
    "expirations_by_year_month_type = pharmacies_expiration.groupby(['Year', 'Month', 'Facility Type']).size().reset_index(name='Count')\n",
    "\n",
    "# Filter out rows where the count of expirations is zero\n",
    "expirations_by_year_month_type = expirations_by_year_month_type[expirations_by_year_month_type['Count'] > 0]\n",
    "\n",
    "# Create a \"Date\" column combining Year and Month for the area chart\n",
    "expirations_by_year_month_type['Date'] = pd.to_datetime(expirations_by_year_month_type[['Year', 'Month']].assign(DAY=1))\n",
    "\n",
    "# Sort by 'Count' within each 'Date' so the smallest counts appear at the bottom\n",
    "expirations_by_year_month_type = expirations_by_year_month_type.sort_values(by=['Date', 'Count'], ascending=[True, True])\n",
    "\n",
    "# Create the stacked area chart of expirations over time by facility type\n",
    "area_fig = px.area(expirations_by_year_month_type, \n",
    "                   x='Date', \n",
    "                   y='Count', \n",
    "                   color='Facility Type', \n",
    "                   title=\"Pharmacy Expirations Over Time by Facility Type\",\n",
    "                   labels={'Count': 'Number of Expirations', 'Date': 'Date'},\n",
    "                   template='plotly_white',\n",
    "                   markers=True)  # Add markers to show data points\n",
    "\n",
    "# Show the plot\n",
    "area_fig.show()\n"
   ],
   "id": "92369d01a67a8037",
   "outputs": [
    {
     "data": {
      "application/vnd.plotly.v1+json": {
       "data": [
        {
         "fillpattern": {
          "shape": ""
         },
         "hovertemplate": "Facility Type=Veterinary Only<br>Date=%{x}<br>Number of Expirations=%{y}<extra></extra>",
         "legendgroup": "Veterinary Only",
         "line": {
          "color": "#636efa"
         },
         "marker": {
          "symbol": "circle"
         },
         "mode": "lines+markers",
         "name": "Veterinary Only",
         "orientation": "v",
         "showlegend": true,
         "stackgroup": "1",
         "x": [
          "2025-01-01T00:00:00",
          "2025-04-01T00:00:00",
          "2025-05-01T00:00:00",
          "2025-07-01T00:00:00",
          "2025-11-01T00:00:00"
         ],
         "xaxis": "x",
         "y": [
          3,
          4,
          1,
          2,
          1
         ],
         "yaxis": "y",
         "type": "scatter"
        },
        {
         "fillpattern": {
          "shape": ""
         },
         "hovertemplate": "Facility Type=Medical Facility<br>Date=%{x}<br>Number of Expirations=%{y}<extra></extra>",
         "legendgroup": "Medical Facility",
         "line": {
          "color": "#EF553B"
         },
         "marker": {
          "symbol": "circle"
         },
         "mode": "lines+markers",
         "name": "Medical Facility",
         "orientation": "v",
         "showlegend": true,
         "stackgroup": "1",
         "x": [
          "2025-01-01T00:00:00",
          "2025-02-01T00:00:00",
          "2025-03-01T00:00:00",
          "2025-04-01T00:00:00",
          "2025-05-01T00:00:00",
          "2025-06-01T00:00:00",
          "2025-07-01T00:00:00",
          "2025-08-01T00:00:00",
          "2025-09-01T00:00:00",
          "2025-10-01T00:00:00",
          "2025-11-01T00:00:00",
          "2025-12-01T00:00:00",
          "2026-01-01T00:00:00",
          "2026-02-01T00:00:00"
         ],
         "xaxis": "x",
         "y": [
          12,
          37,
          44,
          26,
          39,
          30,
          69,
          71,
          41,
          49,
          140,
          40,
          44,
          1
         ],
         "yaxis": "y",
         "type": "scatter"
        },
        {
         "fillpattern": {
          "shape": ""
         },
         "hovertemplate": "Facility Type=Infusion Center<br>Date=%{x}<br>Number of Expirations=%{y}<extra></extra>",
         "legendgroup": "Infusion Center",
         "line": {
          "color": "#00cc96"
         },
         "marker": {
          "symbol": "circle"
         },
         "mode": "lines+markers",
         "name": "Infusion Center",
         "orientation": "v",
         "showlegend": true,
         "stackgroup": "1",
         "x": [
          "2025-02-01T00:00:00",
          "2025-03-01T00:00:00",
          "2025-04-01T00:00:00",
          "2025-05-01T00:00:00",
          "2025-06-01T00:00:00",
          "2025-07-01T00:00:00",
          "2025-08-01T00:00:00",
          "2025-09-01T00:00:00",
          "2025-10-01T00:00:00",
          "2025-11-01T00:00:00",
          "2025-12-01T00:00:00",
          "2026-01-01T00:00:00"
         ],
         "xaxis": "x",
         "y": [
          11,
          12,
          4,
          7,
          10,
          12,
          17,
          5,
          6,
          7,
          19,
          7
         ],
         "yaxis": "y",
         "type": "scatter"
        },
        {
         "fillpattern": {
          "shape": ""
         },
         "hovertemplate": "Facility Type=Research Center<br>Date=%{x}<br>Number of Expirations=%{y}<extra></extra>",
         "legendgroup": "Research Center",
         "line": {
          "color": "#ab63fa"
         },
         "marker": {
          "symbol": "circle"
         },
         "mode": "lines+markers",
         "name": "Research Center",
         "orientation": "v",
         "showlegend": true,
         "stackgroup": "1",
         "x": [
          "2025-07-01T00:00:00"
         ],
         "xaxis": "x",
         "y": [
          1
         ],
         "yaxis": "y",
         "type": "scatter"
        }
       ],
       "layout": {
        "template": {
         "data": {
          "barpolar": [
           {
            "marker": {
             "line": {
              "color": "white",
              "width": 0.5
             },
             "pattern": {
              "fillmode": "overlay",
              "size": 10,
              "solidity": 0.2
             }
            },
            "type": "barpolar"
           }
          ],
          "bar": [
           {
            "error_x": {
             "color": "#2a3f5f"
            },
            "error_y": {
             "color": "#2a3f5f"
            },
            "marker": {
             "line": {
              "color": "white",
              "width": 0.5
             },
             "pattern": {
              "fillmode": "overlay",
              "size": 10,
              "solidity": 0.2
             }
            },
            "type": "bar"
           }
          ],
          "carpet": [
           {
            "aaxis": {
             "endlinecolor": "#2a3f5f",
             "gridcolor": "#C8D4E3",
             "linecolor": "#C8D4E3",
             "minorgridcolor": "#C8D4E3",
             "startlinecolor": "#2a3f5f"
            },
            "baxis": {
             "endlinecolor": "#2a3f5f",
             "gridcolor": "#C8D4E3",
             "linecolor": "#C8D4E3",
             "minorgridcolor": "#C8D4E3",
             "startlinecolor": "#2a3f5f"
            },
            "type": "carpet"
           }
          ],
          "choropleth": [
           {
            "colorbar": {
             "outlinewidth": 0,
             "ticks": ""
            },
            "type": "choropleth"
           }
          ],
          "contourcarpet": [
           {
            "colorbar": {
             "outlinewidth": 0,
             "ticks": ""
            },
            "type": "contourcarpet"
           }
          ],
          "contour": [
           {
            "colorbar": {
             "outlinewidth": 0,
             "ticks": ""
            },
            "colorscale": [
             [
              0.0,
              "#0d0887"
             ],
             [
              0.1111111111111111,
              "#46039f"
             ],
             [
              0.2222222222222222,
              "#7201a8"
             ],
             [
              0.3333333333333333,
              "#9c179e"
             ],
             [
              0.4444444444444444,
              "#bd3786"
             ],
             [
              0.5555555555555556,
              "#d8576b"
             ],
             [
              0.6666666666666666,
              "#ed7953"
             ],
             [
              0.7777777777777778,
              "#fb9f3a"
             ],
             [
              0.8888888888888888,
              "#fdca26"
             ],
             [
              1.0,
              "#f0f921"
             ]
            ],
            "type": "contour"
           }
          ],
          "heatmapgl": [
           {
            "colorbar": {
             "outlinewidth": 0,
             "ticks": ""
            },
            "colorscale": [
             [
              0.0,
              "#0d0887"
             ],
             [
              0.1111111111111111,
              "#46039f"
             ],
             [
              0.2222222222222222,
              "#7201a8"
             ],
             [
              0.3333333333333333,
              "#9c179e"
             ],
             [
              0.4444444444444444,
              "#bd3786"
             ],
             [
              0.5555555555555556,
              "#d8576b"
             ],
             [
              0.6666666666666666,
              "#ed7953"
             ],
             [
              0.7777777777777778,
              "#fb9f3a"
             ],
             [
              0.8888888888888888,
              "#fdca26"
             ],
             [
              1.0,
              "#f0f921"
             ]
            ],
            "type": "heatmapgl"
           }
          ],
          "heatmap": [
           {
            "colorbar": {
             "outlinewidth": 0,
             "ticks": ""
            },
            "colorscale": [
             [
              0.0,
              "#0d0887"
             ],
             [
              0.1111111111111111,
              "#46039f"
             ],
             [
              0.2222222222222222,
              "#7201a8"
             ],
             [
              0.3333333333333333,
              "#9c179e"
             ],
             [
              0.4444444444444444,
              "#bd3786"
             ],
             [
              0.5555555555555556,
              "#d8576b"
             ],
             [
              0.6666666666666666,
              "#ed7953"
             ],
             [
              0.7777777777777778,
              "#fb9f3a"
             ],
             [
              0.8888888888888888,
              "#fdca26"
             ],
             [
              1.0,
              "#f0f921"
             ]
            ],
            "type": "heatmap"
           }
          ],
          "histogram2dcontour": [
           {
            "colorbar": {
             "outlinewidth": 0,
             "ticks": ""
            },
            "colorscale": [
             [
              0.0,
              "#0d0887"
             ],
             [
              0.1111111111111111,
              "#46039f"
             ],
             [
              0.2222222222222222,
              "#7201a8"
             ],
             [
              0.3333333333333333,
              "#9c179e"
             ],
             [
              0.4444444444444444,
              "#bd3786"
             ],
             [
              0.5555555555555556,
              "#d8576b"
             ],
             [
              0.6666666666666666,
              "#ed7953"
             ],
             [
              0.7777777777777778,
              "#fb9f3a"
             ],
             [
              0.8888888888888888,
              "#fdca26"
             ],
             [
              1.0,
              "#f0f921"
             ]
            ],
            "type": "histogram2dcontour"
           }
          ],
          "histogram2d": [
           {
            "colorbar": {
             "outlinewidth": 0,
             "ticks": ""
            },
            "colorscale": [
             [
              0.0,
              "#0d0887"
             ],
             [
              0.1111111111111111,
              "#46039f"
             ],
             [
              0.2222222222222222,
              "#7201a8"
             ],
             [
              0.3333333333333333,
              "#9c179e"
             ],
             [
              0.4444444444444444,
              "#bd3786"
             ],
             [
              0.5555555555555556,
              "#d8576b"
             ],
             [
              0.6666666666666666,
              "#ed7953"
             ],
             [
              0.7777777777777778,
              "#fb9f3a"
             ],
             [
              0.8888888888888888,
              "#fdca26"
             ],
             [
              1.0,
              "#f0f921"
             ]
            ],
            "type": "histogram2d"
           }
          ],
          "histogram": [
           {
            "marker": {
             "pattern": {
              "fillmode": "overlay",
              "size": 10,
              "solidity": 0.2
             }
            },
            "type": "histogram"
           }
          ],
          "mesh3d": [
           {
            "colorbar": {
             "outlinewidth": 0,
             "ticks": ""
            },
            "type": "mesh3d"
           }
          ],
          "parcoords": [
           {
            "line": {
             "colorbar": {
              "outlinewidth": 0,
              "ticks": ""
             }
            },
            "type": "parcoords"
           }
          ],
          "pie": [
           {
            "automargin": true,
            "type": "pie"
           }
          ],
          "scatter3d": [
           {
            "line": {
             "colorbar": {
              "outlinewidth": 0,
              "ticks": ""
             }
            },
            "marker": {
             "colorbar": {
              "outlinewidth": 0,
              "ticks": ""
             }
            },
            "type": "scatter3d"
           }
          ],
          "scattercarpet": [
           {
            "marker": {
             "colorbar": {
              "outlinewidth": 0,
              "ticks": ""
             }
            },
            "type": "scattercarpet"
           }
          ],
          "scattergeo": [
           {
            "marker": {
             "colorbar": {
              "outlinewidth": 0,
              "ticks": ""
             }
            },
            "type": "scattergeo"
           }
          ],
          "scattergl": [
           {
            "marker": {
             "colorbar": {
              "outlinewidth": 0,
              "ticks": ""
             }
            },
            "type": "scattergl"
           }
          ],
          "scattermapbox": [
           {
            "marker": {
             "colorbar": {
              "outlinewidth": 0,
              "ticks": ""
             }
            },
            "type": "scattermapbox"
           }
          ],
          "scatterpolargl": [
           {
            "marker": {
             "colorbar": {
              "outlinewidth": 0,
              "ticks": ""
             }
            },
            "type": "scatterpolargl"
           }
          ],
          "scatterpolar": [
           {
            "marker": {
             "colorbar": {
              "outlinewidth": 0,
              "ticks": ""
             }
            },
            "type": "scatterpolar"
           }
          ],
          "scatter": [
           {
            "fillpattern": {
             "fillmode": "overlay",
             "size": 10,
             "solidity": 0.2
            },
            "type": "scatter"
           }
          ],
          "scatterternary": [
           {
            "marker": {
             "colorbar": {
              "outlinewidth": 0,
              "ticks": ""
             }
            },
            "type": "scatterternary"
           }
          ],
          "surface": [
           {
            "colorbar": {
             "outlinewidth": 0,
             "ticks": ""
            },
            "colorscale": [
             [
              0.0,
              "#0d0887"
             ],
             [
              0.1111111111111111,
              "#46039f"
             ],
             [
              0.2222222222222222,
              "#7201a8"
             ],
             [
              0.3333333333333333,
              "#9c179e"
             ],
             [
              0.4444444444444444,
              "#bd3786"
             ],
             [
              0.5555555555555556,
              "#d8576b"
             ],
             [
              0.6666666666666666,
              "#ed7953"
             ],
             [
              0.7777777777777778,
              "#fb9f3a"
             ],
             [
              0.8888888888888888,
              "#fdca26"
             ],
             [
              1.0,
              "#f0f921"
             ]
            ],
            "type": "surface"
           }
          ],
          "table": [
           {
            "cells": {
             "fill": {
              "color": "#EBF0F8"
             },
             "line": {
              "color": "white"
             }
            },
            "header": {
             "fill": {
              "color": "#C8D4E3"
             },
             "line": {
              "color": "white"
             }
            },
            "type": "table"
           }
          ]
         },
         "layout": {
          "annotationdefaults": {
           "arrowcolor": "#2a3f5f",
           "arrowhead": 0,
           "arrowwidth": 1
          },
          "autotypenumbers": "strict",
          "coloraxis": {
           "colorbar": {
            "outlinewidth": 0,
            "ticks": ""
           }
          },
          "colorscale": {
           "diverging": [
            [
             0,
             "#8e0152"
            ],
            [
             0.1,
             "#c51b7d"
            ],
            [
             0.2,
             "#de77ae"
            ],
            [
             0.3,
             "#f1b6da"
            ],
            [
             0.4,
             "#fde0ef"
            ],
            [
             0.5,
             "#f7f7f7"
            ],
            [
             0.6,
             "#e6f5d0"
            ],
            [
             0.7,
             "#b8e186"
            ],
            [
             0.8,
             "#7fbc41"
            ],
            [
             0.9,
             "#4d9221"
            ],
            [
             1,
             "#276419"
            ]
           ],
           "sequential": [
            [
             0.0,
             "#0d0887"
            ],
            [
             0.1111111111111111,
             "#46039f"
            ],
            [
             0.2222222222222222,
             "#7201a8"
            ],
            [
             0.3333333333333333,
             "#9c179e"
            ],
            [
             0.4444444444444444,
             "#bd3786"
            ],
            [
             0.5555555555555556,
             "#d8576b"
            ],
            [
             0.6666666666666666,
             "#ed7953"
            ],
            [
             0.7777777777777778,
             "#fb9f3a"
            ],
            [
             0.8888888888888888,
             "#fdca26"
            ],
            [
             1.0,
             "#f0f921"
            ]
           ],
           "sequentialminus": [
            [
             0.0,
             "#0d0887"
            ],
            [
             0.1111111111111111,
             "#46039f"
            ],
            [
             0.2222222222222222,
             "#7201a8"
            ],
            [
             0.3333333333333333,
             "#9c179e"
            ],
            [
             0.4444444444444444,
             "#bd3786"
            ],
            [
             0.5555555555555556,
             "#d8576b"
            ],
            [
             0.6666666666666666,
             "#ed7953"
            ],
            [
             0.7777777777777778,
             "#fb9f3a"
            ],
            [
             0.8888888888888888,
             "#fdca26"
            ],
            [
             1.0,
             "#f0f921"
            ]
           ]
          },
          "colorway": [
           "#636efa",
           "#EF553B",
           "#00cc96",
           "#ab63fa",
           "#FFA15A",
           "#19d3f3",
           "#FF6692",
           "#B6E880",
           "#FF97FF",
           "#FECB52"
          ],
          "font": {
           "color": "#2a3f5f"
          },
          "geo": {
           "bgcolor": "white",
           "lakecolor": "white",
           "landcolor": "white",
           "showlakes": true,
           "showland": true,
           "subunitcolor": "#C8D4E3"
          },
          "hoverlabel": {
           "align": "left"
          },
          "hovermode": "closest",
          "mapbox": {
           "style": "light"
          },
          "paper_bgcolor": "white",
          "plot_bgcolor": "white",
          "polar": {
           "angularaxis": {
            "gridcolor": "#EBF0F8",
            "linecolor": "#EBF0F8",
            "ticks": ""
           },
           "bgcolor": "white",
           "radialaxis": {
            "gridcolor": "#EBF0F8",
            "linecolor": "#EBF0F8",
            "ticks": ""
           }
          },
          "scene": {
           "xaxis": {
            "backgroundcolor": "white",
            "gridcolor": "#DFE8F3",
            "gridwidth": 2,
            "linecolor": "#EBF0F8",
            "showbackground": true,
            "ticks": "",
            "zerolinecolor": "#EBF0F8"
           },
           "yaxis": {
            "backgroundcolor": "white",
            "gridcolor": "#DFE8F3",
            "gridwidth": 2,
            "linecolor": "#EBF0F8",
            "showbackground": true,
            "ticks": "",
            "zerolinecolor": "#EBF0F8"
           },
           "zaxis": {
            "backgroundcolor": "white",
            "gridcolor": "#DFE8F3",
            "gridwidth": 2,
            "linecolor": "#EBF0F8",
            "showbackground": true,
            "ticks": "",
            "zerolinecolor": "#EBF0F8"
           }
          },
          "shapedefaults": {
           "line": {
            "color": "#2a3f5f"
           }
          },
          "ternary": {
           "aaxis": {
            "gridcolor": "#DFE8F3",
            "linecolor": "#A2B1C6",
            "ticks": ""
           },
           "baxis": {
            "gridcolor": "#DFE8F3",
            "linecolor": "#A2B1C6",
            "ticks": ""
           },
           "bgcolor": "white",
           "caxis": {
            "gridcolor": "#DFE8F3",
            "linecolor": "#A2B1C6",
            "ticks": ""
           }
          },
          "title": {
           "x": 0.05
          },
          "xaxis": {
           "automargin": true,
           "gridcolor": "#EBF0F8",
           "linecolor": "#EBF0F8",
           "ticks": "",
           "title": {
            "standoff": 15
           },
           "zerolinecolor": "#EBF0F8",
           "zerolinewidth": 2
          },
          "yaxis": {
           "automargin": true,
           "gridcolor": "#EBF0F8",
           "linecolor": "#EBF0F8",
           "ticks": "",
           "title": {
            "standoff": 15
           },
           "zerolinecolor": "#EBF0F8",
           "zerolinewidth": 2
          }
         }
        },
        "xaxis": {
         "anchor": "y",
         "domain": [
          0.0,
          1.0
         ],
         "title": {
          "text": "Date"
         }
        },
        "yaxis": {
         "anchor": "x",
         "domain": [
          0.0,
          1.0
         ],
         "title": {
          "text": "Number of Expirations"
         }
        },
        "legend": {
         "title": {
          "text": "Facility Type"
         },
         "tracegroupgap": 0
        },
        "title": {
         "text": "Pharmacy Expirations Over Time by Facility Type"
        }
       },
       "config": {
        "plotlyServerURL": "https://plot.ly"
       }
      },
      "text/html": [
       "<div>                            <div id=\"2e7e3e91-4e1d-4682-8daa-5bc9a6366294\" class=\"plotly-graph-div\" style=\"height:525px; width:100%;\"></div>            <script type=\"text/javascript\">                require([\"plotly\"], function(Plotly) {                    window.PLOTLYENV=window.PLOTLYENV || {};                                    if (document.getElementById(\"2e7e3e91-4e1d-4682-8daa-5bc9a6366294\")) {                    Plotly.newPlot(                        \"2e7e3e91-4e1d-4682-8daa-5bc9a6366294\",                        [{\"fillpattern\":{\"shape\":\"\"},\"hovertemplate\":\"Facility Type=Veterinary Only\\u003cbr\\u003eDate=%{x}\\u003cbr\\u003eNumber of Expirations=%{y}\\u003cextra\\u003e\\u003c\\u002fextra\\u003e\",\"legendgroup\":\"Veterinary Only\",\"line\":{\"color\":\"#636efa\"},\"marker\":{\"symbol\":\"circle\"},\"mode\":\"lines+markers\",\"name\":\"Veterinary Only\",\"orientation\":\"v\",\"showlegend\":true,\"stackgroup\":\"1\",\"x\":[\"2025-01-01T00:00:00\",\"2025-04-01T00:00:00\",\"2025-05-01T00:00:00\",\"2025-07-01T00:00:00\",\"2025-11-01T00:00:00\"],\"xaxis\":\"x\",\"y\":[3,4,1,2,1],\"yaxis\":\"y\",\"type\":\"scatter\"},{\"fillpattern\":{\"shape\":\"\"},\"hovertemplate\":\"Facility Type=Medical Facility\\u003cbr\\u003eDate=%{x}\\u003cbr\\u003eNumber of Expirations=%{y}\\u003cextra\\u003e\\u003c\\u002fextra\\u003e\",\"legendgroup\":\"Medical Facility\",\"line\":{\"color\":\"#EF553B\"},\"marker\":{\"symbol\":\"circle\"},\"mode\":\"lines+markers\",\"name\":\"Medical Facility\",\"orientation\":\"v\",\"showlegend\":true,\"stackgroup\":\"1\",\"x\":[\"2025-01-01T00:00:00\",\"2025-02-01T00:00:00\",\"2025-03-01T00:00:00\",\"2025-04-01T00:00:00\",\"2025-05-01T00:00:00\",\"2025-06-01T00:00:00\",\"2025-07-01T00:00:00\",\"2025-08-01T00:00:00\",\"2025-09-01T00:00:00\",\"2025-10-01T00:00:00\",\"2025-11-01T00:00:00\",\"2025-12-01T00:00:00\",\"2026-01-01T00:00:00\",\"2026-02-01T00:00:00\"],\"xaxis\":\"x\",\"y\":[12,37,44,26,39,30,69,71,41,49,140,40,44,1],\"yaxis\":\"y\",\"type\":\"scatter\"},{\"fillpattern\":{\"shape\":\"\"},\"hovertemplate\":\"Facility Type=Infusion Center\\u003cbr\\u003eDate=%{x}\\u003cbr\\u003eNumber of Expirations=%{y}\\u003cextra\\u003e\\u003c\\u002fextra\\u003e\",\"legendgroup\":\"Infusion Center\",\"line\":{\"color\":\"#00cc96\"},\"marker\":{\"symbol\":\"circle\"},\"mode\":\"lines+markers\",\"name\":\"Infusion Center\",\"orientation\":\"v\",\"showlegend\":true,\"stackgroup\":\"1\",\"x\":[\"2025-02-01T00:00:00\",\"2025-03-01T00:00:00\",\"2025-04-01T00:00:00\",\"2025-05-01T00:00:00\",\"2025-06-01T00:00:00\",\"2025-07-01T00:00:00\",\"2025-08-01T00:00:00\",\"2025-09-01T00:00:00\",\"2025-10-01T00:00:00\",\"2025-11-01T00:00:00\",\"2025-12-01T00:00:00\",\"2026-01-01T00:00:00\"],\"xaxis\":\"x\",\"y\":[11,12,4,7,10,12,17,5,6,7,19,7],\"yaxis\":\"y\",\"type\":\"scatter\"},{\"fillpattern\":{\"shape\":\"\"},\"hovertemplate\":\"Facility Type=Research Center\\u003cbr\\u003eDate=%{x}\\u003cbr\\u003eNumber of Expirations=%{y}\\u003cextra\\u003e\\u003c\\u002fextra\\u003e\",\"legendgroup\":\"Research Center\",\"line\":{\"color\":\"#ab63fa\"},\"marker\":{\"symbol\":\"circle\"},\"mode\":\"lines+markers\",\"name\":\"Research Center\",\"orientation\":\"v\",\"showlegend\":true,\"stackgroup\":\"1\",\"x\":[\"2025-07-01T00:00:00\"],\"xaxis\":\"x\",\"y\":[1],\"yaxis\":\"y\",\"type\":\"scatter\"}],                        {\"template\":{\"data\":{\"barpolar\":[{\"marker\":{\"line\":{\"color\":\"white\",\"width\":0.5},\"pattern\":{\"fillmode\":\"overlay\",\"size\":10,\"solidity\":0.2}},\"type\":\"barpolar\"}],\"bar\":[{\"error_x\":{\"color\":\"#2a3f5f\"},\"error_y\":{\"color\":\"#2a3f5f\"},\"marker\":{\"line\":{\"color\":\"white\",\"width\":0.5},\"pattern\":{\"fillmode\":\"overlay\",\"size\":10,\"solidity\":0.2}},\"type\":\"bar\"}],\"carpet\":[{\"aaxis\":{\"endlinecolor\":\"#2a3f5f\",\"gridcolor\":\"#C8D4E3\",\"linecolor\":\"#C8D4E3\",\"minorgridcolor\":\"#C8D4E3\",\"startlinecolor\":\"#2a3f5f\"},\"baxis\":{\"endlinecolor\":\"#2a3f5f\",\"gridcolor\":\"#C8D4E3\",\"linecolor\":\"#C8D4E3\",\"minorgridcolor\":\"#C8D4E3\",\"startlinecolor\":\"#2a3f5f\"},\"type\":\"carpet\"}],\"choropleth\":[{\"colorbar\":{\"outlinewidth\":0,\"ticks\":\"\"},\"type\":\"choropleth\"}],\"contourcarpet\":[{\"colorbar\":{\"outlinewidth\":0,\"ticks\":\"\"},\"type\":\"contourcarpet\"}],\"contour\":[{\"colorbar\":{\"outlinewidth\":0,\"ticks\":\"\"},\"colorscale\":[[0.0,\"#0d0887\"],[0.1111111111111111,\"#46039f\"],[0.2222222222222222,\"#7201a8\"],[0.3333333333333333,\"#9c179e\"],[0.4444444444444444,\"#bd3786\"],[0.5555555555555556,\"#d8576b\"],[0.6666666666666666,\"#ed7953\"],[0.7777777777777778,\"#fb9f3a\"],[0.8888888888888888,\"#fdca26\"],[1.0,\"#f0f921\"]],\"type\":\"contour\"}],\"heatmapgl\":[{\"colorbar\":{\"outlinewidth\":0,\"ticks\":\"\"},\"colorscale\":[[0.0,\"#0d0887\"],[0.1111111111111111,\"#46039f\"],[0.2222222222222222,\"#7201a8\"],[0.3333333333333333,\"#9c179e\"],[0.4444444444444444,\"#bd3786\"],[0.5555555555555556,\"#d8576b\"],[0.6666666666666666,\"#ed7953\"],[0.7777777777777778,\"#fb9f3a\"],[0.8888888888888888,\"#fdca26\"],[1.0,\"#f0f921\"]],\"type\":\"heatmapgl\"}],\"heatmap\":[{\"colorbar\":{\"outlinewidth\":0,\"ticks\":\"\"},\"colorscale\":[[0.0,\"#0d0887\"],[0.1111111111111111,\"#46039f\"],[0.2222222222222222,\"#7201a8\"],[0.3333333333333333,\"#9c179e\"],[0.4444444444444444,\"#bd3786\"],[0.5555555555555556,\"#d8576b\"],[0.6666666666666666,\"#ed7953\"],[0.7777777777777778,\"#fb9f3a\"],[0.8888888888888888,\"#fdca26\"],[1.0,\"#f0f921\"]],\"type\":\"heatmap\"}],\"histogram2dcontour\":[{\"colorbar\":{\"outlinewidth\":0,\"ticks\":\"\"},\"colorscale\":[[0.0,\"#0d0887\"],[0.1111111111111111,\"#46039f\"],[0.2222222222222222,\"#7201a8\"],[0.3333333333333333,\"#9c179e\"],[0.4444444444444444,\"#bd3786\"],[0.5555555555555556,\"#d8576b\"],[0.6666666666666666,\"#ed7953\"],[0.7777777777777778,\"#fb9f3a\"],[0.8888888888888888,\"#fdca26\"],[1.0,\"#f0f921\"]],\"type\":\"histogram2dcontour\"}],\"histogram2d\":[{\"colorbar\":{\"outlinewidth\":0,\"ticks\":\"\"},\"colorscale\":[[0.0,\"#0d0887\"],[0.1111111111111111,\"#46039f\"],[0.2222222222222222,\"#7201a8\"],[0.3333333333333333,\"#9c179e\"],[0.4444444444444444,\"#bd3786\"],[0.5555555555555556,\"#d8576b\"],[0.6666666666666666,\"#ed7953\"],[0.7777777777777778,\"#fb9f3a\"],[0.8888888888888888,\"#fdca26\"],[1.0,\"#f0f921\"]],\"type\":\"histogram2d\"}],\"histogram\":[{\"marker\":{\"pattern\":{\"fillmode\":\"overlay\",\"size\":10,\"solidity\":0.2}},\"type\":\"histogram\"}],\"mesh3d\":[{\"colorbar\":{\"outlinewidth\":0,\"ticks\":\"\"},\"type\":\"mesh3d\"}],\"parcoords\":[{\"line\":{\"colorbar\":{\"outlinewidth\":0,\"ticks\":\"\"}},\"type\":\"parcoords\"}],\"pie\":[{\"automargin\":true,\"type\":\"pie\"}],\"scatter3d\":[{\"line\":{\"colorbar\":{\"outlinewidth\":0,\"ticks\":\"\"}},\"marker\":{\"colorbar\":{\"outlinewidth\":0,\"ticks\":\"\"}},\"type\":\"scatter3d\"}],\"scattercarpet\":[{\"marker\":{\"colorbar\":{\"outlinewidth\":0,\"ticks\":\"\"}},\"type\":\"scattercarpet\"}],\"scattergeo\":[{\"marker\":{\"colorbar\":{\"outlinewidth\":0,\"ticks\":\"\"}},\"type\":\"scattergeo\"}],\"scattergl\":[{\"marker\":{\"colorbar\":{\"outlinewidth\":0,\"ticks\":\"\"}},\"type\":\"scattergl\"}],\"scattermapbox\":[{\"marker\":{\"colorbar\":{\"outlinewidth\":0,\"ticks\":\"\"}},\"type\":\"scattermapbox\"}],\"scatterpolargl\":[{\"marker\":{\"colorbar\":{\"outlinewidth\":0,\"ticks\":\"\"}},\"type\":\"scatterpolargl\"}],\"scatterpolar\":[{\"marker\":{\"colorbar\":{\"outlinewidth\":0,\"ticks\":\"\"}},\"type\":\"scatterpolar\"}],\"scatter\":[{\"fillpattern\":{\"fillmode\":\"overlay\",\"size\":10,\"solidity\":0.2},\"type\":\"scatter\"}],\"scatterternary\":[{\"marker\":{\"colorbar\":{\"outlinewidth\":0,\"ticks\":\"\"}},\"type\":\"scatterternary\"}],\"surface\":[{\"colorbar\":{\"outlinewidth\":0,\"ticks\":\"\"},\"colorscale\":[[0.0,\"#0d0887\"],[0.1111111111111111,\"#46039f\"],[0.2222222222222222,\"#7201a8\"],[0.3333333333333333,\"#9c179e\"],[0.4444444444444444,\"#bd3786\"],[0.5555555555555556,\"#d8576b\"],[0.6666666666666666,\"#ed7953\"],[0.7777777777777778,\"#fb9f3a\"],[0.8888888888888888,\"#fdca26\"],[1.0,\"#f0f921\"]],\"type\":\"surface\"}],\"table\":[{\"cells\":{\"fill\":{\"color\":\"#EBF0F8\"},\"line\":{\"color\":\"white\"}},\"header\":{\"fill\":{\"color\":\"#C8D4E3\"},\"line\":{\"color\":\"white\"}},\"type\":\"table\"}]},\"layout\":{\"annotationdefaults\":{\"arrowcolor\":\"#2a3f5f\",\"arrowhead\":0,\"arrowwidth\":1},\"autotypenumbers\":\"strict\",\"coloraxis\":{\"colorbar\":{\"outlinewidth\":0,\"ticks\":\"\"}},\"colorscale\":{\"diverging\":[[0,\"#8e0152\"],[0.1,\"#c51b7d\"],[0.2,\"#de77ae\"],[0.3,\"#f1b6da\"],[0.4,\"#fde0ef\"],[0.5,\"#f7f7f7\"],[0.6,\"#e6f5d0\"],[0.7,\"#b8e186\"],[0.8,\"#7fbc41\"],[0.9,\"#4d9221\"],[1,\"#276419\"]],\"sequential\":[[0.0,\"#0d0887\"],[0.1111111111111111,\"#46039f\"],[0.2222222222222222,\"#7201a8\"],[0.3333333333333333,\"#9c179e\"],[0.4444444444444444,\"#bd3786\"],[0.5555555555555556,\"#d8576b\"],[0.6666666666666666,\"#ed7953\"],[0.7777777777777778,\"#fb9f3a\"],[0.8888888888888888,\"#fdca26\"],[1.0,\"#f0f921\"]],\"sequentialminus\":[[0.0,\"#0d0887\"],[0.1111111111111111,\"#46039f\"],[0.2222222222222222,\"#7201a8\"],[0.3333333333333333,\"#9c179e\"],[0.4444444444444444,\"#bd3786\"],[0.5555555555555556,\"#d8576b\"],[0.6666666666666666,\"#ed7953\"],[0.7777777777777778,\"#fb9f3a\"],[0.8888888888888888,\"#fdca26\"],[1.0,\"#f0f921\"]]},\"colorway\":[\"#636efa\",\"#EF553B\",\"#00cc96\",\"#ab63fa\",\"#FFA15A\",\"#19d3f3\",\"#FF6692\",\"#B6E880\",\"#FF97FF\",\"#FECB52\"],\"font\":{\"color\":\"#2a3f5f\"},\"geo\":{\"bgcolor\":\"white\",\"lakecolor\":\"white\",\"landcolor\":\"white\",\"showlakes\":true,\"showland\":true,\"subunitcolor\":\"#C8D4E3\"},\"hoverlabel\":{\"align\":\"left\"},\"hovermode\":\"closest\",\"mapbox\":{\"style\":\"light\"},\"paper_bgcolor\":\"white\",\"plot_bgcolor\":\"white\",\"polar\":{\"angularaxis\":{\"gridcolor\":\"#EBF0F8\",\"linecolor\":\"#EBF0F8\",\"ticks\":\"\"},\"bgcolor\":\"white\",\"radialaxis\":{\"gridcolor\":\"#EBF0F8\",\"linecolor\":\"#EBF0F8\",\"ticks\":\"\"}},\"scene\":{\"xaxis\":{\"backgroundcolor\":\"white\",\"gridcolor\":\"#DFE8F3\",\"gridwidth\":2,\"linecolor\":\"#EBF0F8\",\"showbackground\":true,\"ticks\":\"\",\"zerolinecolor\":\"#EBF0F8\"},\"yaxis\":{\"backgroundcolor\":\"white\",\"gridcolor\":\"#DFE8F3\",\"gridwidth\":2,\"linecolor\":\"#EBF0F8\",\"showbackground\":true,\"ticks\":\"\",\"zerolinecolor\":\"#EBF0F8\"},\"zaxis\":{\"backgroundcolor\":\"white\",\"gridcolor\":\"#DFE8F3\",\"gridwidth\":2,\"linecolor\":\"#EBF0F8\",\"showbackground\":true,\"ticks\":\"\",\"zerolinecolor\":\"#EBF0F8\"}},\"shapedefaults\":{\"line\":{\"color\":\"#2a3f5f\"}},\"ternary\":{\"aaxis\":{\"gridcolor\":\"#DFE8F3\",\"linecolor\":\"#A2B1C6\",\"ticks\":\"\"},\"baxis\":{\"gridcolor\":\"#DFE8F3\",\"linecolor\":\"#A2B1C6\",\"ticks\":\"\"},\"bgcolor\":\"white\",\"caxis\":{\"gridcolor\":\"#DFE8F3\",\"linecolor\":\"#A2B1C6\",\"ticks\":\"\"}},\"title\":{\"x\":0.05},\"xaxis\":{\"automargin\":true,\"gridcolor\":\"#EBF0F8\",\"linecolor\":\"#EBF0F8\",\"ticks\":\"\",\"title\":{\"standoff\":15},\"zerolinecolor\":\"#EBF0F8\",\"zerolinewidth\":2},\"yaxis\":{\"automargin\":true,\"gridcolor\":\"#EBF0F8\",\"linecolor\":\"#EBF0F8\",\"ticks\":\"\",\"title\":{\"standoff\":15},\"zerolinecolor\":\"#EBF0F8\",\"zerolinewidth\":2}}},\"xaxis\":{\"anchor\":\"y\",\"domain\":[0.0,1.0],\"title\":{\"text\":\"Date\"}},\"yaxis\":{\"anchor\":\"x\",\"domain\":[0.0,1.0],\"title\":{\"text\":\"Number of Expirations\"}},\"legend\":{\"title\":{\"text\":\"Facility Type\"},\"tracegroupgap\":0},\"title\":{\"text\":\"Pharmacy Expirations Over Time by Facility Type\"}},                        {\"responsive\": true}                    ).then(function(){\n",
       "                            \n",
       "var gd = document.getElementById('2e7e3e91-4e1d-4682-8daa-5bc9a6366294');\n",
       "var x = new MutationObserver(function (mutations, observer) {{\n",
       "        var display = window.getComputedStyle(gd).display;\n",
       "        if (!display || display === 'none') {{\n",
       "            console.log([gd, 'removed!']);\n",
       "            Plotly.purge(gd);\n",
       "            observer.disconnect();\n",
       "        }}\n",
       "}});\n",
       "\n",
       "// Listen for the removal of the full notebook cells\n",
       "var notebookContainer = gd.closest('#notebook-container');\n",
       "if (notebookContainer) {{\n",
       "    x.observe(notebookContainer, {childList: true});\n",
       "}}\n",
       "\n",
       "// Listen for the clearing of the current output cell\n",
       "var outputEl = gd.closest('.output');\n",
       "if (outputEl) {{\n",
       "    x.observe(outputEl, {childList: true});\n",
       "}}\n",
       "\n",
       "                        })                };                });            </script>        </div>"
      ]
     },
     "metadata": {},
     "output_type": "display_data"
    }
   ],
   "execution_count": 172
  },
  {
   "metadata": {
    "ExecuteTime": {
     "end_time": "2025-01-03T04:32:06.353116Z",
     "start_time": "2025-01-03T04:32:06.293088Z"
    }
   },
   "cell_type": "code",
   "source": [
    "import plotly.graph_objects as go\n",
    "\n",
    "# Ensure the Expiration Date is in the correct datetime format\n",
    "pharmacies['Expiration Date'] = pd.to_datetime(pharmacies['Expiration Date'], errors='coerce')\n",
    "\n",
    "# Filter out rows with invalid Expiration Date\n",
    "pharmacies_expiration = pharmacies[pharmacies['Expiration Date'].notna()]\n",
    "\n",
    "# Extract year, month, and facility type\n",
    "pharmacies_expiration['Year'] = pharmacies_expiration['Expiration Date'].dt.year\n",
    "pharmacies_expiration['Month'] = pharmacies_expiration['Expiration Date'].dt.month\n",
    "\n",
    "# Filter out rows where the Year is 2024\n",
    "pharmacies_expiration = pharmacies_expiration[pharmacies_expiration['Year'] != 2024]\n",
    "\n",
    "# Group by Year, Month, and Facility Type and count the number of expirations\n",
    "expirations_by_year_month_type = pharmacies_expiration.groupby(['Year', 'Month', 'Facility Type']).size().reset_index(name='Count')\n",
    "\n",
    "# Filter out rows where the count of expirations is zero\n",
    "expirations_by_year_month_type = expirations_by_year_month_type[expirations_by_year_month_type['Count'] > 0]\n",
    "\n",
    "# Create a \"Date\" column combining Year and Month for the plot\n",
    "expirations_by_year_month_type['Date'] = pd.to_datetime(expirations_by_year_month_type[['Year', 'Month']].assign(DAY=1))\n",
    "\n",
    "# Calculate total expirations per month (sum across all facility types)\n",
    "total_expirations_by_month = expirations_by_year_month_type.groupby('Date')['Count'].sum().reset_index(name='Total Expirations')\n",
    "\n",
    "# Create a bar chart for expirations by Facility Type and Month\n",
    "bar_fig = go.Figure()\n",
    "\n",
    "# Add bars for each Facility Type\n",
    "for facility_type in expirations_by_year_month_type['Facility Type'].unique():\n",
    "    df_facility = expirations_by_year_month_type[expirations_by_year_month_type['Facility Type'] == facility_type]\n",
    "    bar_fig.add_trace(go.Bar(x=df_facility['Date'], \n",
    "                             y=df_facility['Count'], \n",
    "                             name=facility_type, \n",
    "                             marker=dict(color=px.colors.qualitative.Set1[len(bar_fig.data) % len(px.colors.qualitative.Set1)])))\n",
    "\n",
    "# Add a line for the total expirations\n",
    "bar_fig.add_trace(go.Scatter(x=total_expirations_by_month['Date'], \n",
    "                             y=total_expirations_by_month['Total Expirations'], \n",
    "                             mode='lines+markers', \n",
    "                             name='Total Expirations', \n",
    "                             line=dict(color='black', width=3)))\n",
    "\n",
    "# Update layout for better visualization\n",
    "bar_fig.update_layout(\n",
    "    title=\"Pharmacy Expirations by Facility Type with Total Expirations\",\n",
    "    xaxis_title=\"Date\",\n",
    "    yaxis_title=\"Number of Expirations\",\n",
    "    template=\"plotly_white\",\n",
    "    barmode=\"stack\",  # Stack bars for each month by facility type\n",
    "    xaxis=dict(tickformat=\"%b %Y\"),\n",
    "    height=600\n",
    ")\n",
    "\n",
    "bar_fig.show()\n"
   ],
   "id": "c698ba623b54672b",
   "outputs": [
    {
     "data": {
      "application/vnd.plotly.v1+json": {
       "data": [
        {
         "marker": {
          "color": "rgb(228,26,28)"
         },
         "name": "Medical Facility",
         "x": [
          "2025-01-01T00:00:00",
          "2025-02-01T00:00:00",
          "2025-03-01T00:00:00",
          "2025-04-01T00:00:00",
          "2025-05-01T00:00:00",
          "2025-06-01T00:00:00",
          "2025-07-01T00:00:00",
          "2025-08-01T00:00:00",
          "2025-09-01T00:00:00",
          "2025-10-01T00:00:00",
          "2025-11-01T00:00:00",
          "2025-12-01T00:00:00",
          "2026-01-01T00:00:00",
          "2026-02-01T00:00:00"
         ],
         "y": [
          12,
          37,
          44,
          26,
          39,
          30,
          69,
          71,
          41,
          49,
          140,
          40,
          44,
          1
         ],
         "type": "bar"
        },
        {
         "marker": {
          "color": "rgb(55,126,184)"
         },
         "name": "Veterinary Only",
         "x": [
          "2025-01-01T00:00:00",
          "2025-04-01T00:00:00",
          "2025-05-01T00:00:00",
          "2025-07-01T00:00:00",
          "2025-11-01T00:00:00"
         ],
         "y": [
          3,
          4,
          1,
          2,
          1
         ],
         "type": "bar"
        },
        {
         "marker": {
          "color": "rgb(77,175,74)"
         },
         "name": "Infusion Center",
         "x": [
          "2025-02-01T00:00:00",
          "2025-03-01T00:00:00",
          "2025-04-01T00:00:00",
          "2025-05-01T00:00:00",
          "2025-06-01T00:00:00",
          "2025-07-01T00:00:00",
          "2025-08-01T00:00:00",
          "2025-09-01T00:00:00",
          "2025-10-01T00:00:00",
          "2025-11-01T00:00:00",
          "2025-12-01T00:00:00",
          "2026-01-01T00:00:00"
         ],
         "y": [
          11,
          12,
          4,
          7,
          10,
          12,
          17,
          5,
          6,
          7,
          19,
          7
         ],
         "type": "bar"
        },
        {
         "marker": {
          "color": "rgb(152,78,163)"
         },
         "name": "Research Center",
         "x": [
          "2025-07-01T00:00:00"
         ],
         "y": [
          1
         ],
         "type": "bar"
        },
        {
         "line": {
          "color": "black",
          "width": 3
         },
         "mode": "lines+markers",
         "name": "Total Expirations",
         "x": [
          "2025-01-01T00:00:00",
          "2025-02-01T00:00:00",
          "2025-03-01T00:00:00",
          "2025-04-01T00:00:00",
          "2025-05-01T00:00:00",
          "2025-06-01T00:00:00",
          "2025-07-01T00:00:00",
          "2025-08-01T00:00:00",
          "2025-09-01T00:00:00",
          "2025-10-01T00:00:00",
          "2025-11-01T00:00:00",
          "2025-12-01T00:00:00",
          "2026-01-01T00:00:00",
          "2026-02-01T00:00:00"
         ],
         "y": [
          15,
          48,
          56,
          34,
          47,
          40,
          84,
          88,
          46,
          55,
          148,
          59,
          51,
          1
         ],
         "type": "scatter"
        }
       ],
       "layout": {
        "template": {
         "data": {
          "barpolar": [
           {
            "marker": {
             "line": {
              "color": "white",
              "width": 0.5
             },
             "pattern": {
              "fillmode": "overlay",
              "size": 10,
              "solidity": 0.2
             }
            },
            "type": "barpolar"
           }
          ],
          "bar": [
           {
            "error_x": {
             "color": "#2a3f5f"
            },
            "error_y": {
             "color": "#2a3f5f"
            },
            "marker": {
             "line": {
              "color": "white",
              "width": 0.5
             },
             "pattern": {
              "fillmode": "overlay",
              "size": 10,
              "solidity": 0.2
             }
            },
            "type": "bar"
           }
          ],
          "carpet": [
           {
            "aaxis": {
             "endlinecolor": "#2a3f5f",
             "gridcolor": "#C8D4E3",
             "linecolor": "#C8D4E3",
             "minorgridcolor": "#C8D4E3",
             "startlinecolor": "#2a3f5f"
            },
            "baxis": {
             "endlinecolor": "#2a3f5f",
             "gridcolor": "#C8D4E3",
             "linecolor": "#C8D4E3",
             "minorgridcolor": "#C8D4E3",
             "startlinecolor": "#2a3f5f"
            },
            "type": "carpet"
           }
          ],
          "choropleth": [
           {
            "colorbar": {
             "outlinewidth": 0,
             "ticks": ""
            },
            "type": "choropleth"
           }
          ],
          "contourcarpet": [
           {
            "colorbar": {
             "outlinewidth": 0,
             "ticks": ""
            },
            "type": "contourcarpet"
           }
          ],
          "contour": [
           {
            "colorbar": {
             "outlinewidth": 0,
             "ticks": ""
            },
            "colorscale": [
             [
              0.0,
              "#0d0887"
             ],
             [
              0.1111111111111111,
              "#46039f"
             ],
             [
              0.2222222222222222,
              "#7201a8"
             ],
             [
              0.3333333333333333,
              "#9c179e"
             ],
             [
              0.4444444444444444,
              "#bd3786"
             ],
             [
              0.5555555555555556,
              "#d8576b"
             ],
             [
              0.6666666666666666,
              "#ed7953"
             ],
             [
              0.7777777777777778,
              "#fb9f3a"
             ],
             [
              0.8888888888888888,
              "#fdca26"
             ],
             [
              1.0,
              "#f0f921"
             ]
            ],
            "type": "contour"
           }
          ],
          "heatmapgl": [
           {
            "colorbar": {
             "outlinewidth": 0,
             "ticks": ""
            },
            "colorscale": [
             [
              0.0,
              "#0d0887"
             ],
             [
              0.1111111111111111,
              "#46039f"
             ],
             [
              0.2222222222222222,
              "#7201a8"
             ],
             [
              0.3333333333333333,
              "#9c179e"
             ],
             [
              0.4444444444444444,
              "#bd3786"
             ],
             [
              0.5555555555555556,
              "#d8576b"
             ],
             [
              0.6666666666666666,
              "#ed7953"
             ],
             [
              0.7777777777777778,
              "#fb9f3a"
             ],
             [
              0.8888888888888888,
              "#fdca26"
             ],
             [
              1.0,
              "#f0f921"
             ]
            ],
            "type": "heatmapgl"
           }
          ],
          "heatmap": [
           {
            "colorbar": {
             "outlinewidth": 0,
             "ticks": ""
            },
            "colorscale": [
             [
              0.0,
              "#0d0887"
             ],
             [
              0.1111111111111111,
              "#46039f"
             ],
             [
              0.2222222222222222,
              "#7201a8"
             ],
             [
              0.3333333333333333,
              "#9c179e"
             ],
             [
              0.4444444444444444,
              "#bd3786"
             ],
             [
              0.5555555555555556,
              "#d8576b"
             ],
             [
              0.6666666666666666,
              "#ed7953"
             ],
             [
              0.7777777777777778,
              "#fb9f3a"
             ],
             [
              0.8888888888888888,
              "#fdca26"
             ],
             [
              1.0,
              "#f0f921"
             ]
            ],
            "type": "heatmap"
           }
          ],
          "histogram2dcontour": [
           {
            "colorbar": {
             "outlinewidth": 0,
             "ticks": ""
            },
            "colorscale": [
             [
              0.0,
              "#0d0887"
             ],
             [
              0.1111111111111111,
              "#46039f"
             ],
             [
              0.2222222222222222,
              "#7201a8"
             ],
             [
              0.3333333333333333,
              "#9c179e"
             ],
             [
              0.4444444444444444,
              "#bd3786"
             ],
             [
              0.5555555555555556,
              "#d8576b"
             ],
             [
              0.6666666666666666,
              "#ed7953"
             ],
             [
              0.7777777777777778,
              "#fb9f3a"
             ],
             [
              0.8888888888888888,
              "#fdca26"
             ],
             [
              1.0,
              "#f0f921"
             ]
            ],
            "type": "histogram2dcontour"
           }
          ],
          "histogram2d": [
           {
            "colorbar": {
             "outlinewidth": 0,
             "ticks": ""
            },
            "colorscale": [
             [
              0.0,
              "#0d0887"
             ],
             [
              0.1111111111111111,
              "#46039f"
             ],
             [
              0.2222222222222222,
              "#7201a8"
             ],
             [
              0.3333333333333333,
              "#9c179e"
             ],
             [
              0.4444444444444444,
              "#bd3786"
             ],
             [
              0.5555555555555556,
              "#d8576b"
             ],
             [
              0.6666666666666666,
              "#ed7953"
             ],
             [
              0.7777777777777778,
              "#fb9f3a"
             ],
             [
              0.8888888888888888,
              "#fdca26"
             ],
             [
              1.0,
              "#f0f921"
             ]
            ],
            "type": "histogram2d"
           }
          ],
          "histogram": [
           {
            "marker": {
             "pattern": {
              "fillmode": "overlay",
              "size": 10,
              "solidity": 0.2
             }
            },
            "type": "histogram"
           }
          ],
          "mesh3d": [
           {
            "colorbar": {
             "outlinewidth": 0,
             "ticks": ""
            },
            "type": "mesh3d"
           }
          ],
          "parcoords": [
           {
            "line": {
             "colorbar": {
              "outlinewidth": 0,
              "ticks": ""
             }
            },
            "type": "parcoords"
           }
          ],
          "pie": [
           {
            "automargin": true,
            "type": "pie"
           }
          ],
          "scatter3d": [
           {
            "line": {
             "colorbar": {
              "outlinewidth": 0,
              "ticks": ""
             }
            },
            "marker": {
             "colorbar": {
              "outlinewidth": 0,
              "ticks": ""
             }
            },
            "type": "scatter3d"
           }
          ],
          "scattercarpet": [
           {
            "marker": {
             "colorbar": {
              "outlinewidth": 0,
              "ticks": ""
             }
            },
            "type": "scattercarpet"
           }
          ],
          "scattergeo": [
           {
            "marker": {
             "colorbar": {
              "outlinewidth": 0,
              "ticks": ""
             }
            },
            "type": "scattergeo"
           }
          ],
          "scattergl": [
           {
            "marker": {
             "colorbar": {
              "outlinewidth": 0,
              "ticks": ""
             }
            },
            "type": "scattergl"
           }
          ],
          "scattermapbox": [
           {
            "marker": {
             "colorbar": {
              "outlinewidth": 0,
              "ticks": ""
             }
            },
            "type": "scattermapbox"
           }
          ],
          "scatterpolargl": [
           {
            "marker": {
             "colorbar": {
              "outlinewidth": 0,
              "ticks": ""
             }
            },
            "type": "scatterpolargl"
           }
          ],
          "scatterpolar": [
           {
            "marker": {
             "colorbar": {
              "outlinewidth": 0,
              "ticks": ""
             }
            },
            "type": "scatterpolar"
           }
          ],
          "scatter": [
           {
            "fillpattern": {
             "fillmode": "overlay",
             "size": 10,
             "solidity": 0.2
            },
            "type": "scatter"
           }
          ],
          "scatterternary": [
           {
            "marker": {
             "colorbar": {
              "outlinewidth": 0,
              "ticks": ""
             }
            },
            "type": "scatterternary"
           }
          ],
          "surface": [
           {
            "colorbar": {
             "outlinewidth": 0,
             "ticks": ""
            },
            "colorscale": [
             [
              0.0,
              "#0d0887"
             ],
             [
              0.1111111111111111,
              "#46039f"
             ],
             [
              0.2222222222222222,
              "#7201a8"
             ],
             [
              0.3333333333333333,
              "#9c179e"
             ],
             [
              0.4444444444444444,
              "#bd3786"
             ],
             [
              0.5555555555555556,
              "#d8576b"
             ],
             [
              0.6666666666666666,
              "#ed7953"
             ],
             [
              0.7777777777777778,
              "#fb9f3a"
             ],
             [
              0.8888888888888888,
              "#fdca26"
             ],
             [
              1.0,
              "#f0f921"
             ]
            ],
            "type": "surface"
           }
          ],
          "table": [
           {
            "cells": {
             "fill": {
              "color": "#EBF0F8"
             },
             "line": {
              "color": "white"
             }
            },
            "header": {
             "fill": {
              "color": "#C8D4E3"
             },
             "line": {
              "color": "white"
             }
            },
            "type": "table"
           }
          ]
         },
         "layout": {
          "annotationdefaults": {
           "arrowcolor": "#2a3f5f",
           "arrowhead": 0,
           "arrowwidth": 1
          },
          "autotypenumbers": "strict",
          "coloraxis": {
           "colorbar": {
            "outlinewidth": 0,
            "ticks": ""
           }
          },
          "colorscale": {
           "diverging": [
            [
             0,
             "#8e0152"
            ],
            [
             0.1,
             "#c51b7d"
            ],
            [
             0.2,
             "#de77ae"
            ],
            [
             0.3,
             "#f1b6da"
            ],
            [
             0.4,
             "#fde0ef"
            ],
            [
             0.5,
             "#f7f7f7"
            ],
            [
             0.6,
             "#e6f5d0"
            ],
            [
             0.7,
             "#b8e186"
            ],
            [
             0.8,
             "#7fbc41"
            ],
            [
             0.9,
             "#4d9221"
            ],
            [
             1,
             "#276419"
            ]
           ],
           "sequential": [
            [
             0.0,
             "#0d0887"
            ],
            [
             0.1111111111111111,
             "#46039f"
            ],
            [
             0.2222222222222222,
             "#7201a8"
            ],
            [
             0.3333333333333333,
             "#9c179e"
            ],
            [
             0.4444444444444444,
             "#bd3786"
            ],
            [
             0.5555555555555556,
             "#d8576b"
            ],
            [
             0.6666666666666666,
             "#ed7953"
            ],
            [
             0.7777777777777778,
             "#fb9f3a"
            ],
            [
             0.8888888888888888,
             "#fdca26"
            ],
            [
             1.0,
             "#f0f921"
            ]
           ],
           "sequentialminus": [
            [
             0.0,
             "#0d0887"
            ],
            [
             0.1111111111111111,
             "#46039f"
            ],
            [
             0.2222222222222222,
             "#7201a8"
            ],
            [
             0.3333333333333333,
             "#9c179e"
            ],
            [
             0.4444444444444444,
             "#bd3786"
            ],
            [
             0.5555555555555556,
             "#d8576b"
            ],
            [
             0.6666666666666666,
             "#ed7953"
            ],
            [
             0.7777777777777778,
             "#fb9f3a"
            ],
            [
             0.8888888888888888,
             "#fdca26"
            ],
            [
             1.0,
             "#f0f921"
            ]
           ]
          },
          "colorway": [
           "#636efa",
           "#EF553B",
           "#00cc96",
           "#ab63fa",
           "#FFA15A",
           "#19d3f3",
           "#FF6692",
           "#B6E880",
           "#FF97FF",
           "#FECB52"
          ],
          "font": {
           "color": "#2a3f5f"
          },
          "geo": {
           "bgcolor": "white",
           "lakecolor": "white",
           "landcolor": "white",
           "showlakes": true,
           "showland": true,
           "subunitcolor": "#C8D4E3"
          },
          "hoverlabel": {
           "align": "left"
          },
          "hovermode": "closest",
          "mapbox": {
           "style": "light"
          },
          "paper_bgcolor": "white",
          "plot_bgcolor": "white",
          "polar": {
           "angularaxis": {
            "gridcolor": "#EBF0F8",
            "linecolor": "#EBF0F8",
            "ticks": ""
           },
           "bgcolor": "white",
           "radialaxis": {
            "gridcolor": "#EBF0F8",
            "linecolor": "#EBF0F8",
            "ticks": ""
           }
          },
          "scene": {
           "xaxis": {
            "backgroundcolor": "white",
            "gridcolor": "#DFE8F3",
            "gridwidth": 2,
            "linecolor": "#EBF0F8",
            "showbackground": true,
            "ticks": "",
            "zerolinecolor": "#EBF0F8"
           },
           "yaxis": {
            "backgroundcolor": "white",
            "gridcolor": "#DFE8F3",
            "gridwidth": 2,
            "linecolor": "#EBF0F8",
            "showbackground": true,
            "ticks": "",
            "zerolinecolor": "#EBF0F8"
           },
           "zaxis": {
            "backgroundcolor": "white",
            "gridcolor": "#DFE8F3",
            "gridwidth": 2,
            "linecolor": "#EBF0F8",
            "showbackground": true,
            "ticks": "",
            "zerolinecolor": "#EBF0F8"
           }
          },
          "shapedefaults": {
           "line": {
            "color": "#2a3f5f"
           }
          },
          "ternary": {
           "aaxis": {
            "gridcolor": "#DFE8F3",
            "linecolor": "#A2B1C6",
            "ticks": ""
           },
           "baxis": {
            "gridcolor": "#DFE8F3",
            "linecolor": "#A2B1C6",
            "ticks": ""
           },
           "bgcolor": "white",
           "caxis": {
            "gridcolor": "#DFE8F3",
            "linecolor": "#A2B1C6",
            "ticks": ""
           }
          },
          "title": {
           "x": 0.05
          },
          "xaxis": {
           "automargin": true,
           "gridcolor": "#EBF0F8",
           "linecolor": "#EBF0F8",
           "ticks": "",
           "title": {
            "standoff": 15
           },
           "zerolinecolor": "#EBF0F8",
           "zerolinewidth": 2
          },
          "yaxis": {
           "automargin": true,
           "gridcolor": "#EBF0F8",
           "linecolor": "#EBF0F8",
           "ticks": "",
           "title": {
            "standoff": 15
           },
           "zerolinecolor": "#EBF0F8",
           "zerolinewidth": 2
          }
         }
        },
        "xaxis": {
         "title": {
          "text": "Date"
         },
         "tickformat": "%b %Y"
        },
        "title": {
         "text": "Pharmacy Expirations by Facility Type with Total Expirations"
        },
        "yaxis": {
         "title": {
          "text": "Number of Expirations"
         }
        },
        "barmode": "stack",
        "height": 600
       },
       "config": {
        "plotlyServerURL": "https://plot.ly"
       }
      },
      "text/html": [
       "<div>                            <div id=\"376ca902-fe0a-436b-ba5f-b3ae7242663e\" class=\"plotly-graph-div\" style=\"height:600px; width:100%;\"></div>            <script type=\"text/javascript\">                require([\"plotly\"], function(Plotly) {                    window.PLOTLYENV=window.PLOTLYENV || {};                                    if (document.getElementById(\"376ca902-fe0a-436b-ba5f-b3ae7242663e\")) {                    Plotly.newPlot(                        \"376ca902-fe0a-436b-ba5f-b3ae7242663e\",                        [{\"marker\":{\"color\":\"rgb(228,26,28)\"},\"name\":\"Medical Facility\",\"x\":[\"2025-01-01T00:00:00\",\"2025-02-01T00:00:00\",\"2025-03-01T00:00:00\",\"2025-04-01T00:00:00\",\"2025-05-01T00:00:00\",\"2025-06-01T00:00:00\",\"2025-07-01T00:00:00\",\"2025-08-01T00:00:00\",\"2025-09-01T00:00:00\",\"2025-10-01T00:00:00\",\"2025-11-01T00:00:00\",\"2025-12-01T00:00:00\",\"2026-01-01T00:00:00\",\"2026-02-01T00:00:00\"],\"y\":[12,37,44,26,39,30,69,71,41,49,140,40,44,1],\"type\":\"bar\"},{\"marker\":{\"color\":\"rgb(55,126,184)\"},\"name\":\"Veterinary Only\",\"x\":[\"2025-01-01T00:00:00\",\"2025-04-01T00:00:00\",\"2025-05-01T00:00:00\",\"2025-07-01T00:00:00\",\"2025-11-01T00:00:00\"],\"y\":[3,4,1,2,1],\"type\":\"bar\"},{\"marker\":{\"color\":\"rgb(77,175,74)\"},\"name\":\"Infusion Center\",\"x\":[\"2025-02-01T00:00:00\",\"2025-03-01T00:00:00\",\"2025-04-01T00:00:00\",\"2025-05-01T00:00:00\",\"2025-06-01T00:00:00\",\"2025-07-01T00:00:00\",\"2025-08-01T00:00:00\",\"2025-09-01T00:00:00\",\"2025-10-01T00:00:00\",\"2025-11-01T00:00:00\",\"2025-12-01T00:00:00\",\"2026-01-01T00:00:00\"],\"y\":[11,12,4,7,10,12,17,5,6,7,19,7],\"type\":\"bar\"},{\"marker\":{\"color\":\"rgb(152,78,163)\"},\"name\":\"Research Center\",\"x\":[\"2025-07-01T00:00:00\"],\"y\":[1],\"type\":\"bar\"},{\"line\":{\"color\":\"black\",\"width\":3},\"mode\":\"lines+markers\",\"name\":\"Total Expirations\",\"x\":[\"2025-01-01T00:00:00\",\"2025-02-01T00:00:00\",\"2025-03-01T00:00:00\",\"2025-04-01T00:00:00\",\"2025-05-01T00:00:00\",\"2025-06-01T00:00:00\",\"2025-07-01T00:00:00\",\"2025-08-01T00:00:00\",\"2025-09-01T00:00:00\",\"2025-10-01T00:00:00\",\"2025-11-01T00:00:00\",\"2025-12-01T00:00:00\",\"2026-01-01T00:00:00\",\"2026-02-01T00:00:00\"],\"y\":[15,48,56,34,47,40,84,88,46,55,148,59,51,1],\"type\":\"scatter\"}],                        {\"template\":{\"data\":{\"barpolar\":[{\"marker\":{\"line\":{\"color\":\"white\",\"width\":0.5},\"pattern\":{\"fillmode\":\"overlay\",\"size\":10,\"solidity\":0.2}},\"type\":\"barpolar\"}],\"bar\":[{\"error_x\":{\"color\":\"#2a3f5f\"},\"error_y\":{\"color\":\"#2a3f5f\"},\"marker\":{\"line\":{\"color\":\"white\",\"width\":0.5},\"pattern\":{\"fillmode\":\"overlay\",\"size\":10,\"solidity\":0.2}},\"type\":\"bar\"}],\"carpet\":[{\"aaxis\":{\"endlinecolor\":\"#2a3f5f\",\"gridcolor\":\"#C8D4E3\",\"linecolor\":\"#C8D4E3\",\"minorgridcolor\":\"#C8D4E3\",\"startlinecolor\":\"#2a3f5f\"},\"baxis\":{\"endlinecolor\":\"#2a3f5f\",\"gridcolor\":\"#C8D4E3\",\"linecolor\":\"#C8D4E3\",\"minorgridcolor\":\"#C8D4E3\",\"startlinecolor\":\"#2a3f5f\"},\"type\":\"carpet\"}],\"choropleth\":[{\"colorbar\":{\"outlinewidth\":0,\"ticks\":\"\"},\"type\":\"choropleth\"}],\"contourcarpet\":[{\"colorbar\":{\"outlinewidth\":0,\"ticks\":\"\"},\"type\":\"contourcarpet\"}],\"contour\":[{\"colorbar\":{\"outlinewidth\":0,\"ticks\":\"\"},\"colorscale\":[[0.0,\"#0d0887\"],[0.1111111111111111,\"#46039f\"],[0.2222222222222222,\"#7201a8\"],[0.3333333333333333,\"#9c179e\"],[0.4444444444444444,\"#bd3786\"],[0.5555555555555556,\"#d8576b\"],[0.6666666666666666,\"#ed7953\"],[0.7777777777777778,\"#fb9f3a\"],[0.8888888888888888,\"#fdca26\"],[1.0,\"#f0f921\"]],\"type\":\"contour\"}],\"heatmapgl\":[{\"colorbar\":{\"outlinewidth\":0,\"ticks\":\"\"},\"colorscale\":[[0.0,\"#0d0887\"],[0.1111111111111111,\"#46039f\"],[0.2222222222222222,\"#7201a8\"],[0.3333333333333333,\"#9c179e\"],[0.4444444444444444,\"#bd3786\"],[0.5555555555555556,\"#d8576b\"],[0.6666666666666666,\"#ed7953\"],[0.7777777777777778,\"#fb9f3a\"],[0.8888888888888888,\"#fdca26\"],[1.0,\"#f0f921\"]],\"type\":\"heatmapgl\"}],\"heatmap\":[{\"colorbar\":{\"outlinewidth\":0,\"ticks\":\"\"},\"colorscale\":[[0.0,\"#0d0887\"],[0.1111111111111111,\"#46039f\"],[0.2222222222222222,\"#7201a8\"],[0.3333333333333333,\"#9c179e\"],[0.4444444444444444,\"#bd3786\"],[0.5555555555555556,\"#d8576b\"],[0.6666666666666666,\"#ed7953\"],[0.7777777777777778,\"#fb9f3a\"],[0.8888888888888888,\"#fdca26\"],[1.0,\"#f0f921\"]],\"type\":\"heatmap\"}],\"histogram2dcontour\":[{\"colorbar\":{\"outlinewidth\":0,\"ticks\":\"\"},\"colorscale\":[[0.0,\"#0d0887\"],[0.1111111111111111,\"#46039f\"],[0.2222222222222222,\"#7201a8\"],[0.3333333333333333,\"#9c179e\"],[0.4444444444444444,\"#bd3786\"],[0.5555555555555556,\"#d8576b\"],[0.6666666666666666,\"#ed7953\"],[0.7777777777777778,\"#fb9f3a\"],[0.8888888888888888,\"#fdca26\"],[1.0,\"#f0f921\"]],\"type\":\"histogram2dcontour\"}],\"histogram2d\":[{\"colorbar\":{\"outlinewidth\":0,\"ticks\":\"\"},\"colorscale\":[[0.0,\"#0d0887\"],[0.1111111111111111,\"#46039f\"],[0.2222222222222222,\"#7201a8\"],[0.3333333333333333,\"#9c179e\"],[0.4444444444444444,\"#bd3786\"],[0.5555555555555556,\"#d8576b\"],[0.6666666666666666,\"#ed7953\"],[0.7777777777777778,\"#fb9f3a\"],[0.8888888888888888,\"#fdca26\"],[1.0,\"#f0f921\"]],\"type\":\"histogram2d\"}],\"histogram\":[{\"marker\":{\"pattern\":{\"fillmode\":\"overlay\",\"size\":10,\"solidity\":0.2}},\"type\":\"histogram\"}],\"mesh3d\":[{\"colorbar\":{\"outlinewidth\":0,\"ticks\":\"\"},\"type\":\"mesh3d\"}],\"parcoords\":[{\"line\":{\"colorbar\":{\"outlinewidth\":0,\"ticks\":\"\"}},\"type\":\"parcoords\"}],\"pie\":[{\"automargin\":true,\"type\":\"pie\"}],\"scatter3d\":[{\"line\":{\"colorbar\":{\"outlinewidth\":0,\"ticks\":\"\"}},\"marker\":{\"colorbar\":{\"outlinewidth\":0,\"ticks\":\"\"}},\"type\":\"scatter3d\"}],\"scattercarpet\":[{\"marker\":{\"colorbar\":{\"outlinewidth\":0,\"ticks\":\"\"}},\"type\":\"scattercarpet\"}],\"scattergeo\":[{\"marker\":{\"colorbar\":{\"outlinewidth\":0,\"ticks\":\"\"}},\"type\":\"scattergeo\"}],\"scattergl\":[{\"marker\":{\"colorbar\":{\"outlinewidth\":0,\"ticks\":\"\"}},\"type\":\"scattergl\"}],\"scattermapbox\":[{\"marker\":{\"colorbar\":{\"outlinewidth\":0,\"ticks\":\"\"}},\"type\":\"scattermapbox\"}],\"scatterpolargl\":[{\"marker\":{\"colorbar\":{\"outlinewidth\":0,\"ticks\":\"\"}},\"type\":\"scatterpolargl\"}],\"scatterpolar\":[{\"marker\":{\"colorbar\":{\"outlinewidth\":0,\"ticks\":\"\"}},\"type\":\"scatterpolar\"}],\"scatter\":[{\"fillpattern\":{\"fillmode\":\"overlay\",\"size\":10,\"solidity\":0.2},\"type\":\"scatter\"}],\"scatterternary\":[{\"marker\":{\"colorbar\":{\"outlinewidth\":0,\"ticks\":\"\"}},\"type\":\"scatterternary\"}],\"surface\":[{\"colorbar\":{\"outlinewidth\":0,\"ticks\":\"\"},\"colorscale\":[[0.0,\"#0d0887\"],[0.1111111111111111,\"#46039f\"],[0.2222222222222222,\"#7201a8\"],[0.3333333333333333,\"#9c179e\"],[0.4444444444444444,\"#bd3786\"],[0.5555555555555556,\"#d8576b\"],[0.6666666666666666,\"#ed7953\"],[0.7777777777777778,\"#fb9f3a\"],[0.8888888888888888,\"#fdca26\"],[1.0,\"#f0f921\"]],\"type\":\"surface\"}],\"table\":[{\"cells\":{\"fill\":{\"color\":\"#EBF0F8\"},\"line\":{\"color\":\"white\"}},\"header\":{\"fill\":{\"color\":\"#C8D4E3\"},\"line\":{\"color\":\"white\"}},\"type\":\"table\"}]},\"layout\":{\"annotationdefaults\":{\"arrowcolor\":\"#2a3f5f\",\"arrowhead\":0,\"arrowwidth\":1},\"autotypenumbers\":\"strict\",\"coloraxis\":{\"colorbar\":{\"outlinewidth\":0,\"ticks\":\"\"}},\"colorscale\":{\"diverging\":[[0,\"#8e0152\"],[0.1,\"#c51b7d\"],[0.2,\"#de77ae\"],[0.3,\"#f1b6da\"],[0.4,\"#fde0ef\"],[0.5,\"#f7f7f7\"],[0.6,\"#e6f5d0\"],[0.7,\"#b8e186\"],[0.8,\"#7fbc41\"],[0.9,\"#4d9221\"],[1,\"#276419\"]],\"sequential\":[[0.0,\"#0d0887\"],[0.1111111111111111,\"#46039f\"],[0.2222222222222222,\"#7201a8\"],[0.3333333333333333,\"#9c179e\"],[0.4444444444444444,\"#bd3786\"],[0.5555555555555556,\"#d8576b\"],[0.6666666666666666,\"#ed7953\"],[0.7777777777777778,\"#fb9f3a\"],[0.8888888888888888,\"#fdca26\"],[1.0,\"#f0f921\"]],\"sequentialminus\":[[0.0,\"#0d0887\"],[0.1111111111111111,\"#46039f\"],[0.2222222222222222,\"#7201a8\"],[0.3333333333333333,\"#9c179e\"],[0.4444444444444444,\"#bd3786\"],[0.5555555555555556,\"#d8576b\"],[0.6666666666666666,\"#ed7953\"],[0.7777777777777778,\"#fb9f3a\"],[0.8888888888888888,\"#fdca26\"],[1.0,\"#f0f921\"]]},\"colorway\":[\"#636efa\",\"#EF553B\",\"#00cc96\",\"#ab63fa\",\"#FFA15A\",\"#19d3f3\",\"#FF6692\",\"#B6E880\",\"#FF97FF\",\"#FECB52\"],\"font\":{\"color\":\"#2a3f5f\"},\"geo\":{\"bgcolor\":\"white\",\"lakecolor\":\"white\",\"landcolor\":\"white\",\"showlakes\":true,\"showland\":true,\"subunitcolor\":\"#C8D4E3\"},\"hoverlabel\":{\"align\":\"left\"},\"hovermode\":\"closest\",\"mapbox\":{\"style\":\"light\"},\"paper_bgcolor\":\"white\",\"plot_bgcolor\":\"white\",\"polar\":{\"angularaxis\":{\"gridcolor\":\"#EBF0F8\",\"linecolor\":\"#EBF0F8\",\"ticks\":\"\"},\"bgcolor\":\"white\",\"radialaxis\":{\"gridcolor\":\"#EBF0F8\",\"linecolor\":\"#EBF0F8\",\"ticks\":\"\"}},\"scene\":{\"xaxis\":{\"backgroundcolor\":\"white\",\"gridcolor\":\"#DFE8F3\",\"gridwidth\":2,\"linecolor\":\"#EBF0F8\",\"showbackground\":true,\"ticks\":\"\",\"zerolinecolor\":\"#EBF0F8\"},\"yaxis\":{\"backgroundcolor\":\"white\",\"gridcolor\":\"#DFE8F3\",\"gridwidth\":2,\"linecolor\":\"#EBF0F8\",\"showbackground\":true,\"ticks\":\"\",\"zerolinecolor\":\"#EBF0F8\"},\"zaxis\":{\"backgroundcolor\":\"white\",\"gridcolor\":\"#DFE8F3\",\"gridwidth\":2,\"linecolor\":\"#EBF0F8\",\"showbackground\":true,\"ticks\":\"\",\"zerolinecolor\":\"#EBF0F8\"}},\"shapedefaults\":{\"line\":{\"color\":\"#2a3f5f\"}},\"ternary\":{\"aaxis\":{\"gridcolor\":\"#DFE8F3\",\"linecolor\":\"#A2B1C6\",\"ticks\":\"\"},\"baxis\":{\"gridcolor\":\"#DFE8F3\",\"linecolor\":\"#A2B1C6\",\"ticks\":\"\"},\"bgcolor\":\"white\",\"caxis\":{\"gridcolor\":\"#DFE8F3\",\"linecolor\":\"#A2B1C6\",\"ticks\":\"\"}},\"title\":{\"x\":0.05},\"xaxis\":{\"automargin\":true,\"gridcolor\":\"#EBF0F8\",\"linecolor\":\"#EBF0F8\",\"ticks\":\"\",\"title\":{\"standoff\":15},\"zerolinecolor\":\"#EBF0F8\",\"zerolinewidth\":2},\"yaxis\":{\"automargin\":true,\"gridcolor\":\"#EBF0F8\",\"linecolor\":\"#EBF0F8\",\"ticks\":\"\",\"title\":{\"standoff\":15},\"zerolinecolor\":\"#EBF0F8\",\"zerolinewidth\":2}}},\"xaxis\":{\"title\":{\"text\":\"Date\"},\"tickformat\":\"%b %Y\"},\"title\":{\"text\":\"Pharmacy Expirations by Facility Type with Total Expirations\"},\"yaxis\":{\"title\":{\"text\":\"Number of Expirations\"}},\"barmode\":\"stack\",\"height\":600},                        {\"responsive\": true}                    ).then(function(){\n",
       "                            \n",
       "var gd = document.getElementById('376ca902-fe0a-436b-ba5f-b3ae7242663e');\n",
       "var x = new MutationObserver(function (mutations, observer) {{\n",
       "        var display = window.getComputedStyle(gd).display;\n",
       "        if (!display || display === 'none') {{\n",
       "            console.log([gd, 'removed!']);\n",
       "            Plotly.purge(gd);\n",
       "            observer.disconnect();\n",
       "        }}\n",
       "}});\n",
       "\n",
       "// Listen for the removal of the full notebook cells\n",
       "var notebookContainer = gd.closest('#notebook-container');\n",
       "if (notebookContainer) {{\n",
       "    x.observe(notebookContainer, {childList: true});\n",
       "}}\n",
       "\n",
       "// Listen for the clearing of the current output cell\n",
       "var outputEl = gd.closest('.output');\n",
       "if (outputEl) {{\n",
       "    x.observe(outputEl, {childList: true});\n",
       "}}\n",
       "\n",
       "                        })                };                });            </script>        </div>"
      ]
     },
     "metadata": {},
     "output_type": "display_data"
    }
   ],
   "execution_count": 173
  },
  {
   "metadata": {
    "ExecuteTime": {
     "end_time": "2025-01-03T04:32:07.025612Z",
     "start_time": "2025-01-03T04:32:06.982791Z"
    }
   },
   "cell_type": "code",
   "source": [
    "import plotly.graph_objects as go\n",
    "import plotly.express as px\n",
    "import pandas as pd\n",
    "\n",
    "# Ensure the Expiration Date is in the correct datetime format\n",
    "pharmacies['Expiration Date'] = pd.to_datetime(pharmacies['Expiration Date'], errors='coerce')\n",
    "\n",
    "# Filter out rows with invalid Expiration Date\n",
    "pharmacies_expiration = pharmacies[pharmacies['Expiration Date'].notna()]\n",
    "\n",
    "# Extract year, month, and facility type\n",
    "pharmacies_expiration['Year'] = pharmacies_expiration['Expiration Date'].dt.year\n",
    "pharmacies_expiration['Month'] = pharmacies_expiration['Expiration Date'].dt.month\n",
    "\n",
    "# Filter out rows where the Year is 2024\n",
    "pharmacies_expiration = pharmacies_expiration[pharmacies_expiration['Year'] != 2024]\n",
    "\n",
    "# Group by Year, Month, and Facility Type and count the number of expirations\n",
    "expirations_by_year_month_type = pharmacies_expiration.groupby(['Year', 'Month', 'Facility Type']).size().reset_index(name='Count')\n",
    "\n",
    "# Filter out rows where the count of expirations is zero\n",
    "expirations_by_year_month_type = expirations_by_year_month_type[expirations_by_year_month_type['Count'] > 0]\n",
    "\n",
    "# Create a \"Date\" column combining Year and Month for the plot\n",
    "expirations_by_year_month_type['Date'] = pd.to_datetime(expirations_by_year_month_type[['Year', 'Month']].assign(DAY=1))\n",
    "\n",
    "# Calculate total expirations per month (sum across all facility types)\n",
    "total_expirations_by_month = expirations_by_year_month_type.groupby('Date')['Count'].sum().reset_index(name='Total Expirations')\n",
    "\n",
    "# Create a bar chart for expirations by Facility Type and Month\n",
    "bar_fig = go.Figure()\n",
    "\n",
    "# Add bars for each Facility Type\n",
    "for facility_type in expirations_by_year_month_type['Facility Type'].unique():\n",
    "    df_facility = expirations_by_year_month_type[expirations_by_year_month_type['Facility Type'] == facility_type]\n",
    "    bar_fig.add_trace(go.Bar(x=df_facility['Date'], \n",
    "                             y=df_facility['Count'], \n",
    "                             name=facility_type, \n",
    "                             marker=dict(color=px.colors.qualitative.Set1[len(bar_fig.data) % len(px.colors.qualitative.Set1)])))\n",
    "\n",
    "# Add a line for the total expirations\n",
    "bar_fig.add_trace(go.Scatter(x=total_expirations_by_month['Date'], \n",
    "                             y=total_expirations_by_month['Total Expirations'], \n",
    "                             mode='lines+markers', \n",
    "                             name='Total Expirations', \n",
    "                             line=dict(color='black', width=3)))\n",
    "\n",
    "# Update layout for better visualization\n",
    "bar_fig.update_layout(\n",
    "    title=\"Pharmacy Expirations by Facility Type with Total Expirations\",\n",
    "    xaxis_title=\"Date\",\n",
    "    yaxis_title=\"Number of Expirations\",\n",
    "    template=\"plotly_white\",\n",
    "    barmode=\"group\",  # Group bars side by side\n",
    "    xaxis=dict(tickformat=\"%b %Y\"),\n",
    "    height=600\n",
    ")\n",
    "\n",
    "bar_fig.show()\n"
   ],
   "id": "8ad0a71e9df6601d",
   "outputs": [
    {
     "data": {
      "application/vnd.plotly.v1+json": {
       "data": [
        {
         "marker": {
          "color": "rgb(228,26,28)"
         },
         "name": "Medical Facility",
         "x": [
          "2025-01-01T00:00:00",
          "2025-02-01T00:00:00",
          "2025-03-01T00:00:00",
          "2025-04-01T00:00:00",
          "2025-05-01T00:00:00",
          "2025-06-01T00:00:00",
          "2025-07-01T00:00:00",
          "2025-08-01T00:00:00",
          "2025-09-01T00:00:00",
          "2025-10-01T00:00:00",
          "2025-11-01T00:00:00",
          "2025-12-01T00:00:00",
          "2026-01-01T00:00:00",
          "2026-02-01T00:00:00"
         ],
         "y": [
          12,
          37,
          44,
          26,
          39,
          30,
          69,
          71,
          41,
          49,
          140,
          40,
          44,
          1
         ],
         "type": "bar"
        },
        {
         "marker": {
          "color": "rgb(55,126,184)"
         },
         "name": "Veterinary Only",
         "x": [
          "2025-01-01T00:00:00",
          "2025-04-01T00:00:00",
          "2025-05-01T00:00:00",
          "2025-07-01T00:00:00",
          "2025-11-01T00:00:00"
         ],
         "y": [
          3,
          4,
          1,
          2,
          1
         ],
         "type": "bar"
        },
        {
         "marker": {
          "color": "rgb(77,175,74)"
         },
         "name": "Infusion Center",
         "x": [
          "2025-02-01T00:00:00",
          "2025-03-01T00:00:00",
          "2025-04-01T00:00:00",
          "2025-05-01T00:00:00",
          "2025-06-01T00:00:00",
          "2025-07-01T00:00:00",
          "2025-08-01T00:00:00",
          "2025-09-01T00:00:00",
          "2025-10-01T00:00:00",
          "2025-11-01T00:00:00",
          "2025-12-01T00:00:00",
          "2026-01-01T00:00:00"
         ],
         "y": [
          11,
          12,
          4,
          7,
          10,
          12,
          17,
          5,
          6,
          7,
          19,
          7
         ],
         "type": "bar"
        },
        {
         "marker": {
          "color": "rgb(152,78,163)"
         },
         "name": "Research Center",
         "x": [
          "2025-07-01T00:00:00"
         ],
         "y": [
          1
         ],
         "type": "bar"
        },
        {
         "line": {
          "color": "black",
          "width": 3
         },
         "mode": "lines+markers",
         "name": "Total Expirations",
         "x": [
          "2025-01-01T00:00:00",
          "2025-02-01T00:00:00",
          "2025-03-01T00:00:00",
          "2025-04-01T00:00:00",
          "2025-05-01T00:00:00",
          "2025-06-01T00:00:00",
          "2025-07-01T00:00:00",
          "2025-08-01T00:00:00",
          "2025-09-01T00:00:00",
          "2025-10-01T00:00:00",
          "2025-11-01T00:00:00",
          "2025-12-01T00:00:00",
          "2026-01-01T00:00:00",
          "2026-02-01T00:00:00"
         ],
         "y": [
          15,
          48,
          56,
          34,
          47,
          40,
          84,
          88,
          46,
          55,
          148,
          59,
          51,
          1
         ],
         "type": "scatter"
        }
       ],
       "layout": {
        "template": {
         "data": {
          "barpolar": [
           {
            "marker": {
             "line": {
              "color": "white",
              "width": 0.5
             },
             "pattern": {
              "fillmode": "overlay",
              "size": 10,
              "solidity": 0.2
             }
            },
            "type": "barpolar"
           }
          ],
          "bar": [
           {
            "error_x": {
             "color": "#2a3f5f"
            },
            "error_y": {
             "color": "#2a3f5f"
            },
            "marker": {
             "line": {
              "color": "white",
              "width": 0.5
             },
             "pattern": {
              "fillmode": "overlay",
              "size": 10,
              "solidity": 0.2
             }
            },
            "type": "bar"
           }
          ],
          "carpet": [
           {
            "aaxis": {
             "endlinecolor": "#2a3f5f",
             "gridcolor": "#C8D4E3",
             "linecolor": "#C8D4E3",
             "minorgridcolor": "#C8D4E3",
             "startlinecolor": "#2a3f5f"
            },
            "baxis": {
             "endlinecolor": "#2a3f5f",
             "gridcolor": "#C8D4E3",
             "linecolor": "#C8D4E3",
             "minorgridcolor": "#C8D4E3",
             "startlinecolor": "#2a3f5f"
            },
            "type": "carpet"
           }
          ],
          "choropleth": [
           {
            "colorbar": {
             "outlinewidth": 0,
             "ticks": ""
            },
            "type": "choropleth"
           }
          ],
          "contourcarpet": [
           {
            "colorbar": {
             "outlinewidth": 0,
             "ticks": ""
            },
            "type": "contourcarpet"
           }
          ],
          "contour": [
           {
            "colorbar": {
             "outlinewidth": 0,
             "ticks": ""
            },
            "colorscale": [
             [
              0.0,
              "#0d0887"
             ],
             [
              0.1111111111111111,
              "#46039f"
             ],
             [
              0.2222222222222222,
              "#7201a8"
             ],
             [
              0.3333333333333333,
              "#9c179e"
             ],
             [
              0.4444444444444444,
              "#bd3786"
             ],
             [
              0.5555555555555556,
              "#d8576b"
             ],
             [
              0.6666666666666666,
              "#ed7953"
             ],
             [
              0.7777777777777778,
              "#fb9f3a"
             ],
             [
              0.8888888888888888,
              "#fdca26"
             ],
             [
              1.0,
              "#f0f921"
             ]
            ],
            "type": "contour"
           }
          ],
          "heatmapgl": [
           {
            "colorbar": {
             "outlinewidth": 0,
             "ticks": ""
            },
            "colorscale": [
             [
              0.0,
              "#0d0887"
             ],
             [
              0.1111111111111111,
              "#46039f"
             ],
             [
              0.2222222222222222,
              "#7201a8"
             ],
             [
              0.3333333333333333,
              "#9c179e"
             ],
             [
              0.4444444444444444,
              "#bd3786"
             ],
             [
              0.5555555555555556,
              "#d8576b"
             ],
             [
              0.6666666666666666,
              "#ed7953"
             ],
             [
              0.7777777777777778,
              "#fb9f3a"
             ],
             [
              0.8888888888888888,
              "#fdca26"
             ],
             [
              1.0,
              "#f0f921"
             ]
            ],
            "type": "heatmapgl"
           }
          ],
          "heatmap": [
           {
            "colorbar": {
             "outlinewidth": 0,
             "ticks": ""
            },
            "colorscale": [
             [
              0.0,
              "#0d0887"
             ],
             [
              0.1111111111111111,
              "#46039f"
             ],
             [
              0.2222222222222222,
              "#7201a8"
             ],
             [
              0.3333333333333333,
              "#9c179e"
             ],
             [
              0.4444444444444444,
              "#bd3786"
             ],
             [
              0.5555555555555556,
              "#d8576b"
             ],
             [
              0.6666666666666666,
              "#ed7953"
             ],
             [
              0.7777777777777778,
              "#fb9f3a"
             ],
             [
              0.8888888888888888,
              "#fdca26"
             ],
             [
              1.0,
              "#f0f921"
             ]
            ],
            "type": "heatmap"
           }
          ],
          "histogram2dcontour": [
           {
            "colorbar": {
             "outlinewidth": 0,
             "ticks": ""
            },
            "colorscale": [
             [
              0.0,
              "#0d0887"
             ],
             [
              0.1111111111111111,
              "#46039f"
             ],
             [
              0.2222222222222222,
              "#7201a8"
             ],
             [
              0.3333333333333333,
              "#9c179e"
             ],
             [
              0.4444444444444444,
              "#bd3786"
             ],
             [
              0.5555555555555556,
              "#d8576b"
             ],
             [
              0.6666666666666666,
              "#ed7953"
             ],
             [
              0.7777777777777778,
              "#fb9f3a"
             ],
             [
              0.8888888888888888,
              "#fdca26"
             ],
             [
              1.0,
              "#f0f921"
             ]
            ],
            "type": "histogram2dcontour"
           }
          ],
          "histogram2d": [
           {
            "colorbar": {
             "outlinewidth": 0,
             "ticks": ""
            },
            "colorscale": [
             [
              0.0,
              "#0d0887"
             ],
             [
              0.1111111111111111,
              "#46039f"
             ],
             [
              0.2222222222222222,
              "#7201a8"
             ],
             [
              0.3333333333333333,
              "#9c179e"
             ],
             [
              0.4444444444444444,
              "#bd3786"
             ],
             [
              0.5555555555555556,
              "#d8576b"
             ],
             [
              0.6666666666666666,
              "#ed7953"
             ],
             [
              0.7777777777777778,
              "#fb9f3a"
             ],
             [
              0.8888888888888888,
              "#fdca26"
             ],
             [
              1.0,
              "#f0f921"
             ]
            ],
            "type": "histogram2d"
           }
          ],
          "histogram": [
           {
            "marker": {
             "pattern": {
              "fillmode": "overlay",
              "size": 10,
              "solidity": 0.2
             }
            },
            "type": "histogram"
           }
          ],
          "mesh3d": [
           {
            "colorbar": {
             "outlinewidth": 0,
             "ticks": ""
            },
            "type": "mesh3d"
           }
          ],
          "parcoords": [
           {
            "line": {
             "colorbar": {
              "outlinewidth": 0,
              "ticks": ""
             }
            },
            "type": "parcoords"
           }
          ],
          "pie": [
           {
            "automargin": true,
            "type": "pie"
           }
          ],
          "scatter3d": [
           {
            "line": {
             "colorbar": {
              "outlinewidth": 0,
              "ticks": ""
             }
            },
            "marker": {
             "colorbar": {
              "outlinewidth": 0,
              "ticks": ""
             }
            },
            "type": "scatter3d"
           }
          ],
          "scattercarpet": [
           {
            "marker": {
             "colorbar": {
              "outlinewidth": 0,
              "ticks": ""
             }
            },
            "type": "scattercarpet"
           }
          ],
          "scattergeo": [
           {
            "marker": {
             "colorbar": {
              "outlinewidth": 0,
              "ticks": ""
             }
            },
            "type": "scattergeo"
           }
          ],
          "scattergl": [
           {
            "marker": {
             "colorbar": {
              "outlinewidth": 0,
              "ticks": ""
             }
            },
            "type": "scattergl"
           }
          ],
          "scattermapbox": [
           {
            "marker": {
             "colorbar": {
              "outlinewidth": 0,
              "ticks": ""
             }
            },
            "type": "scattermapbox"
           }
          ],
          "scatterpolargl": [
           {
            "marker": {
             "colorbar": {
              "outlinewidth": 0,
              "ticks": ""
             }
            },
            "type": "scatterpolargl"
           }
          ],
          "scatterpolar": [
           {
            "marker": {
             "colorbar": {
              "outlinewidth": 0,
              "ticks": ""
             }
            },
            "type": "scatterpolar"
           }
          ],
          "scatter": [
           {
            "fillpattern": {
             "fillmode": "overlay",
             "size": 10,
             "solidity": 0.2
            },
            "type": "scatter"
           }
          ],
          "scatterternary": [
           {
            "marker": {
             "colorbar": {
              "outlinewidth": 0,
              "ticks": ""
             }
            },
            "type": "scatterternary"
           }
          ],
          "surface": [
           {
            "colorbar": {
             "outlinewidth": 0,
             "ticks": ""
            },
            "colorscale": [
             [
              0.0,
              "#0d0887"
             ],
             [
              0.1111111111111111,
              "#46039f"
             ],
             [
              0.2222222222222222,
              "#7201a8"
             ],
             [
              0.3333333333333333,
              "#9c179e"
             ],
             [
              0.4444444444444444,
              "#bd3786"
             ],
             [
              0.5555555555555556,
              "#d8576b"
             ],
             [
              0.6666666666666666,
              "#ed7953"
             ],
             [
              0.7777777777777778,
              "#fb9f3a"
             ],
             [
              0.8888888888888888,
              "#fdca26"
             ],
             [
              1.0,
              "#f0f921"
             ]
            ],
            "type": "surface"
           }
          ],
          "table": [
           {
            "cells": {
             "fill": {
              "color": "#EBF0F8"
             },
             "line": {
              "color": "white"
             }
            },
            "header": {
             "fill": {
              "color": "#C8D4E3"
             },
             "line": {
              "color": "white"
             }
            },
            "type": "table"
           }
          ]
         },
         "layout": {
          "annotationdefaults": {
           "arrowcolor": "#2a3f5f",
           "arrowhead": 0,
           "arrowwidth": 1
          },
          "autotypenumbers": "strict",
          "coloraxis": {
           "colorbar": {
            "outlinewidth": 0,
            "ticks": ""
           }
          },
          "colorscale": {
           "diverging": [
            [
             0,
             "#8e0152"
            ],
            [
             0.1,
             "#c51b7d"
            ],
            [
             0.2,
             "#de77ae"
            ],
            [
             0.3,
             "#f1b6da"
            ],
            [
             0.4,
             "#fde0ef"
            ],
            [
             0.5,
             "#f7f7f7"
            ],
            [
             0.6,
             "#e6f5d0"
            ],
            [
             0.7,
             "#b8e186"
            ],
            [
             0.8,
             "#7fbc41"
            ],
            [
             0.9,
             "#4d9221"
            ],
            [
             1,
             "#276419"
            ]
           ],
           "sequential": [
            [
             0.0,
             "#0d0887"
            ],
            [
             0.1111111111111111,
             "#46039f"
            ],
            [
             0.2222222222222222,
             "#7201a8"
            ],
            [
             0.3333333333333333,
             "#9c179e"
            ],
            [
             0.4444444444444444,
             "#bd3786"
            ],
            [
             0.5555555555555556,
             "#d8576b"
            ],
            [
             0.6666666666666666,
             "#ed7953"
            ],
            [
             0.7777777777777778,
             "#fb9f3a"
            ],
            [
             0.8888888888888888,
             "#fdca26"
            ],
            [
             1.0,
             "#f0f921"
            ]
           ],
           "sequentialminus": [
            [
             0.0,
             "#0d0887"
            ],
            [
             0.1111111111111111,
             "#46039f"
            ],
            [
             0.2222222222222222,
             "#7201a8"
            ],
            [
             0.3333333333333333,
             "#9c179e"
            ],
            [
             0.4444444444444444,
             "#bd3786"
            ],
            [
             0.5555555555555556,
             "#d8576b"
            ],
            [
             0.6666666666666666,
             "#ed7953"
            ],
            [
             0.7777777777777778,
             "#fb9f3a"
            ],
            [
             0.8888888888888888,
             "#fdca26"
            ],
            [
             1.0,
             "#f0f921"
            ]
           ]
          },
          "colorway": [
           "#636efa",
           "#EF553B",
           "#00cc96",
           "#ab63fa",
           "#FFA15A",
           "#19d3f3",
           "#FF6692",
           "#B6E880",
           "#FF97FF",
           "#FECB52"
          ],
          "font": {
           "color": "#2a3f5f"
          },
          "geo": {
           "bgcolor": "white",
           "lakecolor": "white",
           "landcolor": "white",
           "showlakes": true,
           "showland": true,
           "subunitcolor": "#C8D4E3"
          },
          "hoverlabel": {
           "align": "left"
          },
          "hovermode": "closest",
          "mapbox": {
           "style": "light"
          },
          "paper_bgcolor": "white",
          "plot_bgcolor": "white",
          "polar": {
           "angularaxis": {
            "gridcolor": "#EBF0F8",
            "linecolor": "#EBF0F8",
            "ticks": ""
           },
           "bgcolor": "white",
           "radialaxis": {
            "gridcolor": "#EBF0F8",
            "linecolor": "#EBF0F8",
            "ticks": ""
           }
          },
          "scene": {
           "xaxis": {
            "backgroundcolor": "white",
            "gridcolor": "#DFE8F3",
            "gridwidth": 2,
            "linecolor": "#EBF0F8",
            "showbackground": true,
            "ticks": "",
            "zerolinecolor": "#EBF0F8"
           },
           "yaxis": {
            "backgroundcolor": "white",
            "gridcolor": "#DFE8F3",
            "gridwidth": 2,
            "linecolor": "#EBF0F8",
            "showbackground": true,
            "ticks": "",
            "zerolinecolor": "#EBF0F8"
           },
           "zaxis": {
            "backgroundcolor": "white",
            "gridcolor": "#DFE8F3",
            "gridwidth": 2,
            "linecolor": "#EBF0F8",
            "showbackground": true,
            "ticks": "",
            "zerolinecolor": "#EBF0F8"
           }
          },
          "shapedefaults": {
           "line": {
            "color": "#2a3f5f"
           }
          },
          "ternary": {
           "aaxis": {
            "gridcolor": "#DFE8F3",
            "linecolor": "#A2B1C6",
            "ticks": ""
           },
           "baxis": {
            "gridcolor": "#DFE8F3",
            "linecolor": "#A2B1C6",
            "ticks": ""
           },
           "bgcolor": "white",
           "caxis": {
            "gridcolor": "#DFE8F3",
            "linecolor": "#A2B1C6",
            "ticks": ""
           }
          },
          "title": {
           "x": 0.05
          },
          "xaxis": {
           "automargin": true,
           "gridcolor": "#EBF0F8",
           "linecolor": "#EBF0F8",
           "ticks": "",
           "title": {
            "standoff": 15
           },
           "zerolinecolor": "#EBF0F8",
           "zerolinewidth": 2
          },
          "yaxis": {
           "automargin": true,
           "gridcolor": "#EBF0F8",
           "linecolor": "#EBF0F8",
           "ticks": "",
           "title": {
            "standoff": 15
           },
           "zerolinecolor": "#EBF0F8",
           "zerolinewidth": 2
          }
         }
        },
        "xaxis": {
         "title": {
          "text": "Date"
         },
         "tickformat": "%b %Y"
        },
        "title": {
         "text": "Pharmacy Expirations by Facility Type with Total Expirations"
        },
        "yaxis": {
         "title": {
          "text": "Number of Expirations"
         }
        },
        "barmode": "group",
        "height": 600
       },
       "config": {
        "plotlyServerURL": "https://plot.ly"
       }
      },
      "text/html": [
       "<div>                            <div id=\"737891ea-ba3b-48b9-afa3-c8cd8b1a8ef7\" class=\"plotly-graph-div\" style=\"height:600px; width:100%;\"></div>            <script type=\"text/javascript\">                require([\"plotly\"], function(Plotly) {                    window.PLOTLYENV=window.PLOTLYENV || {};                                    if (document.getElementById(\"737891ea-ba3b-48b9-afa3-c8cd8b1a8ef7\")) {                    Plotly.newPlot(                        \"737891ea-ba3b-48b9-afa3-c8cd8b1a8ef7\",                        [{\"marker\":{\"color\":\"rgb(228,26,28)\"},\"name\":\"Medical Facility\",\"x\":[\"2025-01-01T00:00:00\",\"2025-02-01T00:00:00\",\"2025-03-01T00:00:00\",\"2025-04-01T00:00:00\",\"2025-05-01T00:00:00\",\"2025-06-01T00:00:00\",\"2025-07-01T00:00:00\",\"2025-08-01T00:00:00\",\"2025-09-01T00:00:00\",\"2025-10-01T00:00:00\",\"2025-11-01T00:00:00\",\"2025-12-01T00:00:00\",\"2026-01-01T00:00:00\",\"2026-02-01T00:00:00\"],\"y\":[12,37,44,26,39,30,69,71,41,49,140,40,44,1],\"type\":\"bar\"},{\"marker\":{\"color\":\"rgb(55,126,184)\"},\"name\":\"Veterinary Only\",\"x\":[\"2025-01-01T00:00:00\",\"2025-04-01T00:00:00\",\"2025-05-01T00:00:00\",\"2025-07-01T00:00:00\",\"2025-11-01T00:00:00\"],\"y\":[3,4,1,2,1],\"type\":\"bar\"},{\"marker\":{\"color\":\"rgb(77,175,74)\"},\"name\":\"Infusion Center\",\"x\":[\"2025-02-01T00:00:00\",\"2025-03-01T00:00:00\",\"2025-04-01T00:00:00\",\"2025-05-01T00:00:00\",\"2025-06-01T00:00:00\",\"2025-07-01T00:00:00\",\"2025-08-01T00:00:00\",\"2025-09-01T00:00:00\",\"2025-10-01T00:00:00\",\"2025-11-01T00:00:00\",\"2025-12-01T00:00:00\",\"2026-01-01T00:00:00\"],\"y\":[11,12,4,7,10,12,17,5,6,7,19,7],\"type\":\"bar\"},{\"marker\":{\"color\":\"rgb(152,78,163)\"},\"name\":\"Research Center\",\"x\":[\"2025-07-01T00:00:00\"],\"y\":[1],\"type\":\"bar\"},{\"line\":{\"color\":\"black\",\"width\":3},\"mode\":\"lines+markers\",\"name\":\"Total Expirations\",\"x\":[\"2025-01-01T00:00:00\",\"2025-02-01T00:00:00\",\"2025-03-01T00:00:00\",\"2025-04-01T00:00:00\",\"2025-05-01T00:00:00\",\"2025-06-01T00:00:00\",\"2025-07-01T00:00:00\",\"2025-08-01T00:00:00\",\"2025-09-01T00:00:00\",\"2025-10-01T00:00:00\",\"2025-11-01T00:00:00\",\"2025-12-01T00:00:00\",\"2026-01-01T00:00:00\",\"2026-02-01T00:00:00\"],\"y\":[15,48,56,34,47,40,84,88,46,55,148,59,51,1],\"type\":\"scatter\"}],                        {\"template\":{\"data\":{\"barpolar\":[{\"marker\":{\"line\":{\"color\":\"white\",\"width\":0.5},\"pattern\":{\"fillmode\":\"overlay\",\"size\":10,\"solidity\":0.2}},\"type\":\"barpolar\"}],\"bar\":[{\"error_x\":{\"color\":\"#2a3f5f\"},\"error_y\":{\"color\":\"#2a3f5f\"},\"marker\":{\"line\":{\"color\":\"white\",\"width\":0.5},\"pattern\":{\"fillmode\":\"overlay\",\"size\":10,\"solidity\":0.2}},\"type\":\"bar\"}],\"carpet\":[{\"aaxis\":{\"endlinecolor\":\"#2a3f5f\",\"gridcolor\":\"#C8D4E3\",\"linecolor\":\"#C8D4E3\",\"minorgridcolor\":\"#C8D4E3\",\"startlinecolor\":\"#2a3f5f\"},\"baxis\":{\"endlinecolor\":\"#2a3f5f\",\"gridcolor\":\"#C8D4E3\",\"linecolor\":\"#C8D4E3\",\"minorgridcolor\":\"#C8D4E3\",\"startlinecolor\":\"#2a3f5f\"},\"type\":\"carpet\"}],\"choropleth\":[{\"colorbar\":{\"outlinewidth\":0,\"ticks\":\"\"},\"type\":\"choropleth\"}],\"contourcarpet\":[{\"colorbar\":{\"outlinewidth\":0,\"ticks\":\"\"},\"type\":\"contourcarpet\"}],\"contour\":[{\"colorbar\":{\"outlinewidth\":0,\"ticks\":\"\"},\"colorscale\":[[0.0,\"#0d0887\"],[0.1111111111111111,\"#46039f\"],[0.2222222222222222,\"#7201a8\"],[0.3333333333333333,\"#9c179e\"],[0.4444444444444444,\"#bd3786\"],[0.5555555555555556,\"#d8576b\"],[0.6666666666666666,\"#ed7953\"],[0.7777777777777778,\"#fb9f3a\"],[0.8888888888888888,\"#fdca26\"],[1.0,\"#f0f921\"]],\"type\":\"contour\"}],\"heatmapgl\":[{\"colorbar\":{\"outlinewidth\":0,\"ticks\":\"\"},\"colorscale\":[[0.0,\"#0d0887\"],[0.1111111111111111,\"#46039f\"],[0.2222222222222222,\"#7201a8\"],[0.3333333333333333,\"#9c179e\"],[0.4444444444444444,\"#bd3786\"],[0.5555555555555556,\"#d8576b\"],[0.6666666666666666,\"#ed7953\"],[0.7777777777777778,\"#fb9f3a\"],[0.8888888888888888,\"#fdca26\"],[1.0,\"#f0f921\"]],\"type\":\"heatmapgl\"}],\"heatmap\":[{\"colorbar\":{\"outlinewidth\":0,\"ticks\":\"\"},\"colorscale\":[[0.0,\"#0d0887\"],[0.1111111111111111,\"#46039f\"],[0.2222222222222222,\"#7201a8\"],[0.3333333333333333,\"#9c179e\"],[0.4444444444444444,\"#bd3786\"],[0.5555555555555556,\"#d8576b\"],[0.6666666666666666,\"#ed7953\"],[0.7777777777777778,\"#fb9f3a\"],[0.8888888888888888,\"#fdca26\"],[1.0,\"#f0f921\"]],\"type\":\"heatmap\"}],\"histogram2dcontour\":[{\"colorbar\":{\"outlinewidth\":0,\"ticks\":\"\"},\"colorscale\":[[0.0,\"#0d0887\"],[0.1111111111111111,\"#46039f\"],[0.2222222222222222,\"#7201a8\"],[0.3333333333333333,\"#9c179e\"],[0.4444444444444444,\"#bd3786\"],[0.5555555555555556,\"#d8576b\"],[0.6666666666666666,\"#ed7953\"],[0.7777777777777778,\"#fb9f3a\"],[0.8888888888888888,\"#fdca26\"],[1.0,\"#f0f921\"]],\"type\":\"histogram2dcontour\"}],\"histogram2d\":[{\"colorbar\":{\"outlinewidth\":0,\"ticks\":\"\"},\"colorscale\":[[0.0,\"#0d0887\"],[0.1111111111111111,\"#46039f\"],[0.2222222222222222,\"#7201a8\"],[0.3333333333333333,\"#9c179e\"],[0.4444444444444444,\"#bd3786\"],[0.5555555555555556,\"#d8576b\"],[0.6666666666666666,\"#ed7953\"],[0.7777777777777778,\"#fb9f3a\"],[0.8888888888888888,\"#fdca26\"],[1.0,\"#f0f921\"]],\"type\":\"histogram2d\"}],\"histogram\":[{\"marker\":{\"pattern\":{\"fillmode\":\"overlay\",\"size\":10,\"solidity\":0.2}},\"type\":\"histogram\"}],\"mesh3d\":[{\"colorbar\":{\"outlinewidth\":0,\"ticks\":\"\"},\"type\":\"mesh3d\"}],\"parcoords\":[{\"line\":{\"colorbar\":{\"outlinewidth\":0,\"ticks\":\"\"}},\"type\":\"parcoords\"}],\"pie\":[{\"automargin\":true,\"type\":\"pie\"}],\"scatter3d\":[{\"line\":{\"colorbar\":{\"outlinewidth\":0,\"ticks\":\"\"}},\"marker\":{\"colorbar\":{\"outlinewidth\":0,\"ticks\":\"\"}},\"type\":\"scatter3d\"}],\"scattercarpet\":[{\"marker\":{\"colorbar\":{\"outlinewidth\":0,\"ticks\":\"\"}},\"type\":\"scattercarpet\"}],\"scattergeo\":[{\"marker\":{\"colorbar\":{\"outlinewidth\":0,\"ticks\":\"\"}},\"type\":\"scattergeo\"}],\"scattergl\":[{\"marker\":{\"colorbar\":{\"outlinewidth\":0,\"ticks\":\"\"}},\"type\":\"scattergl\"}],\"scattermapbox\":[{\"marker\":{\"colorbar\":{\"outlinewidth\":0,\"ticks\":\"\"}},\"type\":\"scattermapbox\"}],\"scatterpolargl\":[{\"marker\":{\"colorbar\":{\"outlinewidth\":0,\"ticks\":\"\"}},\"type\":\"scatterpolargl\"}],\"scatterpolar\":[{\"marker\":{\"colorbar\":{\"outlinewidth\":0,\"ticks\":\"\"}},\"type\":\"scatterpolar\"}],\"scatter\":[{\"fillpattern\":{\"fillmode\":\"overlay\",\"size\":10,\"solidity\":0.2},\"type\":\"scatter\"}],\"scatterternary\":[{\"marker\":{\"colorbar\":{\"outlinewidth\":0,\"ticks\":\"\"}},\"type\":\"scatterternary\"}],\"surface\":[{\"colorbar\":{\"outlinewidth\":0,\"ticks\":\"\"},\"colorscale\":[[0.0,\"#0d0887\"],[0.1111111111111111,\"#46039f\"],[0.2222222222222222,\"#7201a8\"],[0.3333333333333333,\"#9c179e\"],[0.4444444444444444,\"#bd3786\"],[0.5555555555555556,\"#d8576b\"],[0.6666666666666666,\"#ed7953\"],[0.7777777777777778,\"#fb9f3a\"],[0.8888888888888888,\"#fdca26\"],[1.0,\"#f0f921\"]],\"type\":\"surface\"}],\"table\":[{\"cells\":{\"fill\":{\"color\":\"#EBF0F8\"},\"line\":{\"color\":\"white\"}},\"header\":{\"fill\":{\"color\":\"#C8D4E3\"},\"line\":{\"color\":\"white\"}},\"type\":\"table\"}]},\"layout\":{\"annotationdefaults\":{\"arrowcolor\":\"#2a3f5f\",\"arrowhead\":0,\"arrowwidth\":1},\"autotypenumbers\":\"strict\",\"coloraxis\":{\"colorbar\":{\"outlinewidth\":0,\"ticks\":\"\"}},\"colorscale\":{\"diverging\":[[0,\"#8e0152\"],[0.1,\"#c51b7d\"],[0.2,\"#de77ae\"],[0.3,\"#f1b6da\"],[0.4,\"#fde0ef\"],[0.5,\"#f7f7f7\"],[0.6,\"#e6f5d0\"],[0.7,\"#b8e186\"],[0.8,\"#7fbc41\"],[0.9,\"#4d9221\"],[1,\"#276419\"]],\"sequential\":[[0.0,\"#0d0887\"],[0.1111111111111111,\"#46039f\"],[0.2222222222222222,\"#7201a8\"],[0.3333333333333333,\"#9c179e\"],[0.4444444444444444,\"#bd3786\"],[0.5555555555555556,\"#d8576b\"],[0.6666666666666666,\"#ed7953\"],[0.7777777777777778,\"#fb9f3a\"],[0.8888888888888888,\"#fdca26\"],[1.0,\"#f0f921\"]],\"sequentialminus\":[[0.0,\"#0d0887\"],[0.1111111111111111,\"#46039f\"],[0.2222222222222222,\"#7201a8\"],[0.3333333333333333,\"#9c179e\"],[0.4444444444444444,\"#bd3786\"],[0.5555555555555556,\"#d8576b\"],[0.6666666666666666,\"#ed7953\"],[0.7777777777777778,\"#fb9f3a\"],[0.8888888888888888,\"#fdca26\"],[1.0,\"#f0f921\"]]},\"colorway\":[\"#636efa\",\"#EF553B\",\"#00cc96\",\"#ab63fa\",\"#FFA15A\",\"#19d3f3\",\"#FF6692\",\"#B6E880\",\"#FF97FF\",\"#FECB52\"],\"font\":{\"color\":\"#2a3f5f\"},\"geo\":{\"bgcolor\":\"white\",\"lakecolor\":\"white\",\"landcolor\":\"white\",\"showlakes\":true,\"showland\":true,\"subunitcolor\":\"#C8D4E3\"},\"hoverlabel\":{\"align\":\"left\"},\"hovermode\":\"closest\",\"mapbox\":{\"style\":\"light\"},\"paper_bgcolor\":\"white\",\"plot_bgcolor\":\"white\",\"polar\":{\"angularaxis\":{\"gridcolor\":\"#EBF0F8\",\"linecolor\":\"#EBF0F8\",\"ticks\":\"\"},\"bgcolor\":\"white\",\"radialaxis\":{\"gridcolor\":\"#EBF0F8\",\"linecolor\":\"#EBF0F8\",\"ticks\":\"\"}},\"scene\":{\"xaxis\":{\"backgroundcolor\":\"white\",\"gridcolor\":\"#DFE8F3\",\"gridwidth\":2,\"linecolor\":\"#EBF0F8\",\"showbackground\":true,\"ticks\":\"\",\"zerolinecolor\":\"#EBF0F8\"},\"yaxis\":{\"backgroundcolor\":\"white\",\"gridcolor\":\"#DFE8F3\",\"gridwidth\":2,\"linecolor\":\"#EBF0F8\",\"showbackground\":true,\"ticks\":\"\",\"zerolinecolor\":\"#EBF0F8\"},\"zaxis\":{\"backgroundcolor\":\"white\",\"gridcolor\":\"#DFE8F3\",\"gridwidth\":2,\"linecolor\":\"#EBF0F8\",\"showbackground\":true,\"ticks\":\"\",\"zerolinecolor\":\"#EBF0F8\"}},\"shapedefaults\":{\"line\":{\"color\":\"#2a3f5f\"}},\"ternary\":{\"aaxis\":{\"gridcolor\":\"#DFE8F3\",\"linecolor\":\"#A2B1C6\",\"ticks\":\"\"},\"baxis\":{\"gridcolor\":\"#DFE8F3\",\"linecolor\":\"#A2B1C6\",\"ticks\":\"\"},\"bgcolor\":\"white\",\"caxis\":{\"gridcolor\":\"#DFE8F3\",\"linecolor\":\"#A2B1C6\",\"ticks\":\"\"}},\"title\":{\"x\":0.05},\"xaxis\":{\"automargin\":true,\"gridcolor\":\"#EBF0F8\",\"linecolor\":\"#EBF0F8\",\"ticks\":\"\",\"title\":{\"standoff\":15},\"zerolinecolor\":\"#EBF0F8\",\"zerolinewidth\":2},\"yaxis\":{\"automargin\":true,\"gridcolor\":\"#EBF0F8\",\"linecolor\":\"#EBF0F8\",\"ticks\":\"\",\"title\":{\"standoff\":15},\"zerolinecolor\":\"#EBF0F8\",\"zerolinewidth\":2}}},\"xaxis\":{\"title\":{\"text\":\"Date\"},\"tickformat\":\"%b %Y\"},\"title\":{\"text\":\"Pharmacy Expirations by Facility Type with Total Expirations\"},\"yaxis\":{\"title\":{\"text\":\"Number of Expirations\"}},\"barmode\":\"group\",\"height\":600},                        {\"responsive\": true}                    ).then(function(){\n",
       "                            \n",
       "var gd = document.getElementById('737891ea-ba3b-48b9-afa3-c8cd8b1a8ef7');\n",
       "var x = new MutationObserver(function (mutations, observer) {{\n",
       "        var display = window.getComputedStyle(gd).display;\n",
       "        if (!display || display === 'none') {{\n",
       "            console.log([gd, 'removed!']);\n",
       "            Plotly.purge(gd);\n",
       "            observer.disconnect();\n",
       "        }}\n",
       "}});\n",
       "\n",
       "// Listen for the removal of the full notebook cells\n",
       "var notebookContainer = gd.closest('#notebook-container');\n",
       "if (notebookContainer) {{\n",
       "    x.observe(notebookContainer, {childList: true});\n",
       "}}\n",
       "\n",
       "// Listen for the clearing of the current output cell\n",
       "var outputEl = gd.closest('.output');\n",
       "if (outputEl) {{\n",
       "    x.observe(outputEl, {childList: true});\n",
       "}}\n",
       "\n",
       "                        })                };                });            </script>        </div>"
      ]
     },
     "metadata": {},
     "output_type": "display_data"
    }
   ],
   "execution_count": 174
  },
  {
   "metadata": {
    "ExecuteTime": {
     "end_time": "2025-01-03T04:32:07.798344Z",
     "start_time": "2025-01-03T04:32:07.795550Z"
    }
   },
   "cell_type": "code",
   "source": "",
   "id": "2c1f648d22c76e74",
   "outputs": [],
   "execution_count": 174
  },
  {
   "metadata": {},
   "cell_type": "markdown",
   "source": "## Specialties ",
   "id": "e6909c8215554a8"
  },
  {
   "metadata": {
    "ExecuteTime": {
     "end_time": "2025-01-03T04:32:08.579469Z",
     "start_time": "2025-01-03T04:32:07.881016Z"
    }
   },
   "cell_type": "code",
   "source": [
    "# Create pharmacies_specialties where Specialties is not null\n",
    "pharmacies_specialties = pharmacies.copy()\n",
    "pharmacies_specialties = pharmacies_specialties[pharmacies_specialties['Specialties'].notna()]\n",
    "\n",
    "# Ensure the Specialties column is a list (if not already)\n",
    "pharmacies_specialties['Specialties'] = pharmacies_specialties['Specialties'].apply(lambda x: x.split(',') if isinstance(x, str) else x)\n"
   ],
   "id": "110023c16e497d81",
   "outputs": [
    {
     "ename": "KeyError",
     "evalue": "'Specialties'",
     "output_type": "error",
     "traceback": [
      "\u001B[1;31m---------------------------------------------------------------------------\u001B[0m",
      "\u001B[1;31mKeyError\u001B[0m                                  Traceback (most recent call last)",
      "File \u001B[1;32m~\\PycharmProjects\\California-Pharmacy-License-Dashboard\\.venv\\Lib\\site-packages\\pandas\\core\\indexes\\base.py:3805\u001B[0m, in \u001B[0;36mIndex.get_loc\u001B[1;34m(self, key)\u001B[0m\n\u001B[0;32m   3804\u001B[0m \u001B[38;5;28;01mtry\u001B[39;00m:\n\u001B[1;32m-> 3805\u001B[0m     \u001B[38;5;28;01mreturn\u001B[39;00m \u001B[38;5;28;43mself\u001B[39;49m\u001B[38;5;241;43m.\u001B[39;49m\u001B[43m_engine\u001B[49m\u001B[38;5;241;43m.\u001B[39;49m\u001B[43mget_loc\u001B[49m\u001B[43m(\u001B[49m\u001B[43mcasted_key\u001B[49m\u001B[43m)\u001B[49m\n\u001B[0;32m   3806\u001B[0m \u001B[38;5;28;01mexcept\u001B[39;00m \u001B[38;5;167;01mKeyError\u001B[39;00m \u001B[38;5;28;01mas\u001B[39;00m err:\n",
      "File \u001B[1;32mindex.pyx:167\u001B[0m, in \u001B[0;36mpandas._libs.index.IndexEngine.get_loc\u001B[1;34m()\u001B[0m\n",
      "File \u001B[1;32mindex.pyx:196\u001B[0m, in \u001B[0;36mpandas._libs.index.IndexEngine.get_loc\u001B[1;34m()\u001B[0m\n",
      "File \u001B[1;32mpandas\\\\_libs\\\\hashtable_class_helper.pxi:7081\u001B[0m, in \u001B[0;36mpandas._libs.hashtable.PyObjectHashTable.get_item\u001B[1;34m()\u001B[0m\n",
      "File \u001B[1;32mpandas\\\\_libs\\\\hashtable_class_helper.pxi:7089\u001B[0m, in \u001B[0;36mpandas._libs.hashtable.PyObjectHashTable.get_item\u001B[1;34m()\u001B[0m\n",
      "\u001B[1;31mKeyError\u001B[0m: 'Specialties'",
      "\nThe above exception was the direct cause of the following exception:\n",
      "\u001B[1;31mKeyError\u001B[0m                                  Traceback (most recent call last)",
      "Cell \u001B[1;32mIn[175], line 3\u001B[0m\n\u001B[0;32m      1\u001B[0m \u001B[38;5;66;03m# Create pharmacies_specialties where Specialties is not null\u001B[39;00m\n\u001B[0;32m      2\u001B[0m pharmacies_specialties \u001B[38;5;241m=\u001B[39m pharmacies\u001B[38;5;241m.\u001B[39mcopy()\n\u001B[1;32m----> 3\u001B[0m pharmacies_specialties \u001B[38;5;241m=\u001B[39m pharmacies_specialties[\u001B[43mpharmacies_specialties\u001B[49m\u001B[43m[\u001B[49m\u001B[38;5;124;43m'\u001B[39;49m\u001B[38;5;124;43mSpecialties\u001B[39;49m\u001B[38;5;124;43m'\u001B[39;49m\u001B[43m]\u001B[49m\u001B[38;5;241m.\u001B[39mnotna()]\n\u001B[0;32m      5\u001B[0m \u001B[38;5;66;03m# Ensure the Specialties column is a list (if not already)\u001B[39;00m\n\u001B[0;32m      6\u001B[0m pharmacies_specialties[\u001B[38;5;124m'\u001B[39m\u001B[38;5;124mSpecialties\u001B[39m\u001B[38;5;124m'\u001B[39m] \u001B[38;5;241m=\u001B[39m pharmacies_specialties[\u001B[38;5;124m'\u001B[39m\u001B[38;5;124mSpecialties\u001B[39m\u001B[38;5;124m'\u001B[39m]\u001B[38;5;241m.\u001B[39mapply(\u001B[38;5;28;01mlambda\u001B[39;00m x: x\u001B[38;5;241m.\u001B[39msplit(\u001B[38;5;124m'\u001B[39m\u001B[38;5;124m,\u001B[39m\u001B[38;5;124m'\u001B[39m) \u001B[38;5;28;01mif\u001B[39;00m \u001B[38;5;28misinstance\u001B[39m(x, \u001B[38;5;28mstr\u001B[39m) \u001B[38;5;28;01melse\u001B[39;00m x)\n",
      "File \u001B[1;32m~\\PycharmProjects\\California-Pharmacy-License-Dashboard\\.venv\\Lib\\site-packages\\pandas\\core\\frame.py:4102\u001B[0m, in \u001B[0;36mDataFrame.__getitem__\u001B[1;34m(self, key)\u001B[0m\n\u001B[0;32m   4100\u001B[0m \u001B[38;5;28;01mif\u001B[39;00m \u001B[38;5;28mself\u001B[39m\u001B[38;5;241m.\u001B[39mcolumns\u001B[38;5;241m.\u001B[39mnlevels \u001B[38;5;241m>\u001B[39m \u001B[38;5;241m1\u001B[39m:\n\u001B[0;32m   4101\u001B[0m     \u001B[38;5;28;01mreturn\u001B[39;00m \u001B[38;5;28mself\u001B[39m\u001B[38;5;241m.\u001B[39m_getitem_multilevel(key)\n\u001B[1;32m-> 4102\u001B[0m indexer \u001B[38;5;241m=\u001B[39m \u001B[38;5;28;43mself\u001B[39;49m\u001B[38;5;241;43m.\u001B[39;49m\u001B[43mcolumns\u001B[49m\u001B[38;5;241;43m.\u001B[39;49m\u001B[43mget_loc\u001B[49m\u001B[43m(\u001B[49m\u001B[43mkey\u001B[49m\u001B[43m)\u001B[49m\n\u001B[0;32m   4103\u001B[0m \u001B[38;5;28;01mif\u001B[39;00m is_integer(indexer):\n\u001B[0;32m   4104\u001B[0m     indexer \u001B[38;5;241m=\u001B[39m [indexer]\n",
      "File \u001B[1;32m~\\PycharmProjects\\California-Pharmacy-License-Dashboard\\.venv\\Lib\\site-packages\\pandas\\core\\indexes\\base.py:3812\u001B[0m, in \u001B[0;36mIndex.get_loc\u001B[1;34m(self, key)\u001B[0m\n\u001B[0;32m   3807\u001B[0m     \u001B[38;5;28;01mif\u001B[39;00m \u001B[38;5;28misinstance\u001B[39m(casted_key, \u001B[38;5;28mslice\u001B[39m) \u001B[38;5;129;01mor\u001B[39;00m (\n\u001B[0;32m   3808\u001B[0m         \u001B[38;5;28misinstance\u001B[39m(casted_key, abc\u001B[38;5;241m.\u001B[39mIterable)\n\u001B[0;32m   3809\u001B[0m         \u001B[38;5;129;01mand\u001B[39;00m \u001B[38;5;28many\u001B[39m(\u001B[38;5;28misinstance\u001B[39m(x, \u001B[38;5;28mslice\u001B[39m) \u001B[38;5;28;01mfor\u001B[39;00m x \u001B[38;5;129;01min\u001B[39;00m casted_key)\n\u001B[0;32m   3810\u001B[0m     ):\n\u001B[0;32m   3811\u001B[0m         \u001B[38;5;28;01mraise\u001B[39;00m InvalidIndexError(key)\n\u001B[1;32m-> 3812\u001B[0m     \u001B[38;5;28;01mraise\u001B[39;00m \u001B[38;5;167;01mKeyError\u001B[39;00m(key) \u001B[38;5;28;01mfrom\u001B[39;00m \u001B[38;5;21;01merr\u001B[39;00m\n\u001B[0;32m   3813\u001B[0m \u001B[38;5;28;01mexcept\u001B[39;00m \u001B[38;5;167;01mTypeError\u001B[39;00m:\n\u001B[0;32m   3814\u001B[0m     \u001B[38;5;66;03m# If we have a listlike key, _check_indexing_error will raise\u001B[39;00m\n\u001B[0;32m   3815\u001B[0m     \u001B[38;5;66;03m#  InvalidIndexError. Otherwise we fall through and re-raise\u001B[39;00m\n\u001B[0;32m   3816\u001B[0m     \u001B[38;5;66;03m#  the TypeError.\u001B[39;00m\n\u001B[0;32m   3817\u001B[0m     \u001B[38;5;28mself\u001B[39m\u001B[38;5;241m.\u001B[39m_check_indexing_error(key)\n",
      "\u001B[1;31mKeyError\u001B[0m: 'Specialties'"
     ]
    }
   ],
   "execution_count": 175
  },
  {
   "metadata": {
    "ExecuteTime": {
     "end_time": "2025-01-03T04:32:08.585009Z",
     "start_time": "2025-01-03T04:32:08.583997Z"
    }
   },
   "cell_type": "code",
   "source": [
    "# Assuming your dataframe is named pharmacies\n",
    "# Exploding the list of specialties to individual rows\n",
    "specialties = pharmacies.explode('Specialties')\n",
    "\n",
    "# Counting the occurrences of each specialty\n",
    "specialty_counts = specialties['Specialties'].value_counts().reset_index()\n",
    "specialty_counts.columns = ['Specialty', 'Count']\n",
    "\n",
    "# Creating the bar plot\n",
    "fig = px.bar(specialty_counts, x='Specialty', y='Count', title=\"Specialty Frequency\", \n",
    "             labels={'Specialty': 'Pharmacy Specialties', 'Count': 'Number of Pharmacies'})\n",
    "fig.show()"
   ],
   "id": "c5749187e745eda3",
   "outputs": [],
   "execution_count": null
  },
  {
   "metadata": {
    "ExecuteTime": {
     "end_time": "2025-01-03T04:32:08.588028Z",
     "start_time": "2025-01-03T04:32:08.586013Z"
    }
   },
   "cell_type": "code",
   "source": [
    "import pandas as pd\n",
    "import seaborn as sns\n",
    "import matplotlib.pyplot as plt\n",
    "\n",
    "# Assuming your dataframe is named pharmacies\n",
    "\n",
    "# Step 1: Explode the 'Specialties' column so that each pharmacy-specialty pair becomes a separate row\n",
    "exploded_specialties = pharmacies.explode('Specialties')\n",
    "\n",
    "# Step 2: Create a one-hot encoded DataFrame of specialties per pharmacy\n",
    "specialty_matrix = pd.get_dummies(exploded_specialties['Specialties'])\n",
    "\n",
    "# Step 3: Aggregate the data by summing the one-hot encoded values\n",
    "# This creates a matrix where each row is a pharmacy and each column is a specialty\n",
    "specialty_matrix = specialty_matrix.groupby(exploded_specialties.index).sum()\n",
    "\n",
    "# Step 4: Calculate co-occurrence matrix by multiplying the specialty matrix with its transpose\n",
    "co_occurrence_matrix = specialty_matrix.T.dot(specialty_matrix)\n",
    "\n",
    "# Step 5: Plot the heatmap\n",
    "plt.figure(figsize=(12, 10))\n",
    "sns.heatmap(co_occurrence_matrix, cmap='Blues', annot=True, fmt='d', square=True)\n",
    "plt.title('Specialty Co-occurrence Heatmap')\n",
    "plt.show()\n"
   ],
   "id": "51810d43e08c369b",
   "outputs": [],
   "execution_count": null
  },
  {
   "metadata": {},
   "cell_type": "code",
   "source": [
    "# Drop rows with NA values in the 'Specialties' column\n",
    "pharmacies_clean = pharmacies.copy()\n",
    "pharmacies_clean = pharmacies_clean.dropna(subset='Specialties')\n",
    "pharmacies_clean"
   ],
   "id": "5adc3c5e2aaeb0b5",
   "outputs": [],
   "execution_count": null
  },
  {
   "metadata": {},
   "cell_type": "code",
   "source": [
    "# Split each string by commas and strip any extra whitespace\n",
    "exploded_specialties = pharmacies_clean['Specialties'].str.split(',').explode()\n",
    "\n",
    "# Remove leading/trailing spaces from each specialty\n",
    "exploded_specialties = exploded_specialties.str.strip()\n",
    "\n",
    "# Get unique specialties\n",
    "unique_specialties = exploded_specialties.unique()\n",
    "\n",
    "# Display the unique specialties\n",
    "unique_specialties\n"
   ],
   "id": "977f800803a77ef4",
   "outputs": [],
   "execution_count": null
  },
  {
   "metadata": {
    "ExecuteTime": {
     "end_time": "2025-01-03T04:32:08.598561Z",
     "start_time": "2025-01-03T04:32:08.597563Z"
    }
   },
   "cell_type": "code",
   "source": "import re",
   "id": "2c6114c02476f367",
   "outputs": [],
   "execution_count": null
  },
  {
   "metadata": {
    "ExecuteTime": {
     "end_time": "2025-01-03T04:42:55.563310Z",
     "start_time": "2025-01-03T04:42:55.555355Z"
    }
   },
   "cell_type": "code",
   "source": [
    "# Drop rows where 'Specialties' column is either NaN or an empty string\n",
    "pharmacies_clean = pharmacies_clean[pharmacies_clean['Specialties'].notna()]\n",
    "pharmacies_clean = pharmacies_clean[pharmacies_clean['Specialties'] != '']\n",
    "\n",
    "# Alternatively, you can combine both conditions into one filter:\n",
    "# pharmacies_clean = pharmacies_clean[~pharmacies_clean['Specialties'].isin([None, ''])]\n",
    "\n",
    "# Now continue with your code\n",
    "pharmacies_clean['Specialties'] = pharmacies_clean['Specialties'].str.replace('Ear, Nose, and Throat', 'Ear Nose and Throat', regex=False)\n",
    "\n",
    "# Fix camel case, split combined specialties like 'PainManagementGastroenterology' into 'Pain Management' and 'Gastroenterology'\n",
    "pharmacies_clean['Specialties'] = pharmacies_clean['Specialties'].apply(\n",
    "    lambda x: re.sub(r'([a-z])([A-Z])', r'\\1 \\2', x) if isinstance(x, str) else x\n",
    ")\n",
    "\n",
    "\n",
    "# Split and process the specialties as before\n",
    "exploded_specialties = pharmacies_clean['Specialties'].str.split(',').explode()\n",
    "\n",
    "# Remove leading/trailing spaces from each specialty\n",
    "exploded_specialties = exploded_specialties.str.strip()\n",
    "\n",
    "# Count how many times each specialty appears (i.e., how many pharmacies have that specialty)\n",
    "specialty_counts = exploded_specialties.value_counts()\n",
    "\n",
    "# Display the unique specialties with their counts\n",
    "specialty_counts\n"
   ],
   "id": "b3bd832ea7def91b",
   "outputs": [
    {
     "data": {
      "text/plain": [
       "Specialties\n",
       "Hormone Replacement Therapy (HRT)    16\n",
       "Veterinary                           11\n",
       "Dermatology                          11\n",
       "Pain Management                      11\n",
       "Weight Loss                          11\n",
       "Oncology                             10\n",
       "IV Vitamin Therapy                    9\n",
       "Ophthalmology                         8\n",
       "Total Parenteral Nutrition (TPN)      6\n",
       "Pediatrics                            5\n",
       "Nuclear Medicine                      5\n",
       "Molecular Imaging                     5\n",
       "Dentistry                             5\n",
       "Gastroenterology                      4\n",
       "Anti-Aging                            4\n",
       "Clinical Trials                       4\n",
       "Antibiotics                           3\n",
       "Hematology                            3\n",
       "Podiatry                              3\n",
       "Nuclear Cardiology                    3\n",
       "Sexual Health                         3\n",
       "Anesthesia                            2\n",
       "Sports Medicine                       2\n",
       "Ear Nose and Throat                   2\n",
       "Long Term Care                        2\n",
       "Hair Care                             2\n",
       "Urology                               2\n",
       "Wellness                              2\n",
       "Pain Management Gastroenterology      1\n",
       "Hospice                               1\n",
       "Immunotherapy                         1\n",
       "Palliative Care                       1\n",
       "Chronic Disease                       1\n",
       "Cardiology                            1\n",
       "Anti-Viral Medications                1\n",
       "Wound Care                            1\n",
       "Chelation                             1\n",
       "Antifungal Medications                1\n",
       "Neurology                             1\n",
       "Reproductive Health                   1\n",
       "Proctology                            1\n",
       "Fertility                             1\n",
       "Endocrinology                         1\n",
       "Immunology                            1\n",
       "Infectious Disease                    1\n",
       "Rheumatology                          1\n",
       "Memory Care                           1\n",
       "Behavioral Health                     1\n",
       "Skilled Nursing                       1\n",
       "Mental Health                         1\n",
       "Name: count, dtype: int64"
      ]
     },
     "execution_count": 190,
     "metadata": {},
     "output_type": "execute_result"
    }
   ],
   "execution_count": 190
  },
  {
   "metadata": {
    "ExecuteTime": {
     "end_time": "2025-01-03T04:42:56.293353Z",
     "start_time": "2025-01-03T04:42:56.287980Z"
    }
   },
   "cell_type": "code",
   "source": "specialty_counts",
   "id": "cdbdc6a92976d39f",
   "outputs": [
    {
     "data": {
      "text/plain": [
       "Specialties\n",
       "Hormone Replacement Therapy (HRT)    16\n",
       "Veterinary                           11\n",
       "Dermatology                          11\n",
       "Pain Management                      11\n",
       "Weight Loss                          11\n",
       "Oncology                             10\n",
       "IV Vitamin Therapy                    9\n",
       "Ophthalmology                         8\n",
       "Total Parenteral Nutrition (TPN)      6\n",
       "Pediatrics                            5\n",
       "Nuclear Medicine                      5\n",
       "Molecular Imaging                     5\n",
       "Dentistry                             5\n",
       "Gastroenterology                      4\n",
       "Anti-Aging                            4\n",
       "Clinical Trials                       4\n",
       "Antibiotics                           3\n",
       "Hematology                            3\n",
       "Podiatry                              3\n",
       "Nuclear Cardiology                    3\n",
       "Sexual Health                         3\n",
       "Anesthesia                            2\n",
       "Sports Medicine                       2\n",
       "Ear Nose and Throat                   2\n",
       "Long Term Care                        2\n",
       "Hair Care                             2\n",
       "Urology                               2\n",
       "Wellness                              2\n",
       "Pain Management Gastroenterology      1\n",
       "Hospice                               1\n",
       "Immunotherapy                         1\n",
       "Palliative Care                       1\n",
       "Chronic Disease                       1\n",
       "Cardiology                            1\n",
       "Anti-Viral Medications                1\n",
       "Wound Care                            1\n",
       "Chelation                             1\n",
       "Antifungal Medications                1\n",
       "Neurology                             1\n",
       "Reproductive Health                   1\n",
       "Proctology                            1\n",
       "Fertility                             1\n",
       "Endocrinology                         1\n",
       "Immunology                            1\n",
       "Infectious Disease                    1\n",
       "Rheumatology                          1\n",
       "Memory Care                           1\n",
       "Behavioral Health                     1\n",
       "Skilled Nursing                       1\n",
       "Mental Health                         1\n",
       "Name: count, dtype: int64"
      ]
     },
     "execution_count": 191,
     "metadata": {},
     "output_type": "execute_result"
    }
   ],
   "execution_count": 191
  },
  {
   "metadata": {
    "ExecuteTime": {
     "end_time": "2025-01-03T04:42:56.995671Z",
     "start_time": "2025-01-03T04:42:56.910163Z"
    }
   },
   "cell_type": "code",
   "source": [
    "import plotly.express as px\n",
    "\n",
    "# Ensure specialty counts are sorted by count in descending order\n",
    "specialty_counts_sorted = specialty_counts.sort_values(ascending=False)\n",
    "\n",
    "# Plot for Specialty Counts (sorted)\n",
    "specialty_chart = px.bar(\n",
    "    x=specialty_counts_sorted.values,\n",
    "    y=specialty_counts_sorted.index,\n",
    "    orientation='h',\n",
    "    labels={'x': 'Count', 'y': 'Specialty'},\n",
    "    title=\"Specialty Counts\",\n",
    "    color=specialty_counts_sorted.values,  # Adding color based on the count for more clarity\n",
    "    color_continuous_scale='Viridis'  # A visually appealing color scale\n",
    ")\n",
    "\n",
    "# Reversing the y-axis to have the largest values on top\n",
    "specialty_chart.update_layout(\n",
    "    template=\"simple_white\",  # Simple white background\n",
    "    yaxis={'categoryorder': 'total ascending'},  # Sorting values in descending order\n",
    "    xaxis_title=\"Count\",\n",
    "    yaxis_title=\"Specialty\",\n",
    "    margin={\"l\": 150, \"r\": 200},  # Increase both left and right margin for better label space\n",
    "    height=1200,  # Increase height to give more room for the labels\n",
    "    yaxis_tickangle=0  # Horizontal labels\n",
    ")\n",
    "\n",
    "# Ensure condition counts are sorted by count in descending order\n",
    "condition_counts_sorted = condition_counts.sort_values(ascending=False)\n",
    "\n",
    "\n",
    "# Plot for Condition Counts (sorted)\n",
    "condition_chart = px.bar(\n",
    "    x=condition_counts_sorted.values,\n",
    "    y=condition_counts_sorted.index,\n",
    "    orientation='h',\n",
    "    labels={'x': 'Count', 'y': 'Condition'},\n",
    "    title=\"Condition Counts\",\n",
    "    color=condition_counts_sorted.values,  # Adding color based on the count for more clarity\n",
    "    color_continuous_scale='Viridis'  # A visually appealing color scale\n",
    ")\n",
    "\n",
    "# Reversing the y-axis to have the largest values on top\n",
    "condition_chart.update_layout(\n",
    "    template=\"simple_white\",  # Simple white background\n",
    "    yaxis={'categoryorder': 'total ascending'},  # Sorting values in descending order\n",
    "    xaxis_title=\"Count\",\n",
    "    yaxis_title=\"Condition\",\n",
    "    margin={\"l\": 150, \"r\": 200},  # Increase both left and right margin for better label space\n",
    "    height=1200,  # Increase height to give more room for the labels\n",
    "    width=1200,  # Increase width for more space for labels\n",
    "    yaxis_tickangle=0,  # Horizontal labels\n",
    "    font=dict(size=10),  # Decrease font size for labels\n",
    ")\n",
    "# Show the charts\n",
    "specialty_chart.show()\n",
    "condition_chart.show()\n"
   ],
   "id": "401aac07d683ff30",
   "outputs": [
    {
     "data": {
      "application/vnd.plotly.v1+json": {
       "data": [
        {
         "alignmentgroup": "True",
         "hovertemplate": "Count=%{x}<br>Specialty=%{y}<br>color=%{marker.color}<extra></extra>",
         "legendgroup": "",
         "marker": {
          "color": [
           16,
           11,
           11,
           11,
           11,
           10,
           9,
           8,
           6,
           5,
           5,
           5,
           5,
           4,
           4,
           4,
           3,
           3,
           3,
           3,
           3,
           2,
           2,
           2,
           2,
           2,
           2,
           2,
           1,
           1,
           1,
           1,
           1,
           1,
           1,
           1,
           1,
           1,
           1,
           1,
           1,
           1,
           1,
           1,
           1,
           1,
           1,
           1,
           1,
           1
          ],
          "coloraxis": "coloraxis",
          "pattern": {
           "shape": ""
          }
         },
         "name": "",
         "offsetgroup": "",
         "orientation": "h",
         "showlegend": false,
         "textposition": "auto",
         "x": [
          16,
          11,
          11,
          11,
          11,
          10,
          9,
          8,
          6,
          5,
          5,
          5,
          5,
          4,
          4,
          4,
          3,
          3,
          3,
          3,
          3,
          2,
          2,
          2,
          2,
          2,
          2,
          2,
          1,
          1,
          1,
          1,
          1,
          1,
          1,
          1,
          1,
          1,
          1,
          1,
          1,
          1,
          1,
          1,
          1,
          1,
          1,
          1,
          1,
          1
         ],
         "xaxis": "x",
         "y": [
          "Hormone Replacement Therapy (HRT)",
          "Veterinary",
          "Dermatology",
          "Pain Management",
          "Weight Loss",
          "Oncology",
          "IV Vitamin Therapy",
          "Ophthalmology",
          "Total Parenteral Nutrition (TPN)",
          "Pediatrics",
          "Nuclear Medicine",
          "Molecular Imaging",
          "Dentistry",
          "Gastroenterology",
          "Anti-Aging",
          "Clinical Trials",
          "Antibiotics",
          "Hematology",
          "Podiatry",
          "Nuclear Cardiology",
          "Sexual Health",
          "Anesthesia",
          "Sports Medicine",
          "Ear Nose and Throat",
          "Long Term Care",
          "Hair Care",
          "Urology",
          "Wellness",
          "Pain Management Gastroenterology",
          "Hospice",
          "Immunotherapy",
          "Palliative Care",
          "Chronic Disease",
          "Cardiology",
          "Anti-Viral Medications",
          "Wound Care",
          "Chelation",
          "Antifungal Medications",
          "Neurology",
          "Reproductive Health",
          "Proctology",
          "Fertility",
          "Endocrinology",
          "Immunology",
          "Infectious Disease",
          "Rheumatology",
          "Memory Care",
          "Behavioral Health",
          "Skilled Nursing",
          "Mental Health"
         ],
         "yaxis": "y",
         "type": "bar"
        }
       ],
       "layout": {
        "template": {
         "data": {
          "barpolar": [
           {
            "marker": {
             "line": {
              "color": "white",
              "width": 0.5
             },
             "pattern": {
              "fillmode": "overlay",
              "size": 10,
              "solidity": 0.2
             }
            },
            "type": "barpolar"
           }
          ],
          "bar": [
           {
            "error_x": {
             "color": "rgb(36,36,36)"
            },
            "error_y": {
             "color": "rgb(36,36,36)"
            },
            "marker": {
             "line": {
              "color": "white",
              "width": 0.5
             },
             "pattern": {
              "fillmode": "overlay",
              "size": 10,
              "solidity": 0.2
             }
            },
            "type": "bar"
           }
          ],
          "carpet": [
           {
            "aaxis": {
             "endlinecolor": "rgb(36,36,36)",
             "gridcolor": "white",
             "linecolor": "white",
             "minorgridcolor": "white",
             "startlinecolor": "rgb(36,36,36)"
            },
            "baxis": {
             "endlinecolor": "rgb(36,36,36)",
             "gridcolor": "white",
             "linecolor": "white",
             "minorgridcolor": "white",
             "startlinecolor": "rgb(36,36,36)"
            },
            "type": "carpet"
           }
          ],
          "choropleth": [
           {
            "colorbar": {
             "outlinewidth": 1,
             "tickcolor": "rgb(36,36,36)",
             "ticks": "outside"
            },
            "type": "choropleth"
           }
          ],
          "contourcarpet": [
           {
            "colorbar": {
             "outlinewidth": 1,
             "tickcolor": "rgb(36,36,36)",
             "ticks": "outside"
            },
            "type": "contourcarpet"
           }
          ],
          "contour": [
           {
            "colorbar": {
             "outlinewidth": 1,
             "tickcolor": "rgb(36,36,36)",
             "ticks": "outside"
            },
            "colorscale": [
             [
              0.0,
              "#440154"
             ],
             [
              0.1111111111111111,
              "#482878"
             ],
             [
              0.2222222222222222,
              "#3e4989"
             ],
             [
              0.3333333333333333,
              "#31688e"
             ],
             [
              0.4444444444444444,
              "#26828e"
             ],
             [
              0.5555555555555556,
              "#1f9e89"
             ],
             [
              0.6666666666666666,
              "#35b779"
             ],
             [
              0.7777777777777778,
              "#6ece58"
             ],
             [
              0.8888888888888888,
              "#b5de2b"
             ],
             [
              1.0,
              "#fde725"
             ]
            ],
            "type": "contour"
           }
          ],
          "heatmapgl": [
           {
            "colorbar": {
             "outlinewidth": 1,
             "tickcolor": "rgb(36,36,36)",
             "ticks": "outside"
            },
            "colorscale": [
             [
              0.0,
              "#440154"
             ],
             [
              0.1111111111111111,
              "#482878"
             ],
             [
              0.2222222222222222,
              "#3e4989"
             ],
             [
              0.3333333333333333,
              "#31688e"
             ],
             [
              0.4444444444444444,
              "#26828e"
             ],
             [
              0.5555555555555556,
              "#1f9e89"
             ],
             [
              0.6666666666666666,
              "#35b779"
             ],
             [
              0.7777777777777778,
              "#6ece58"
             ],
             [
              0.8888888888888888,
              "#b5de2b"
             ],
             [
              1.0,
              "#fde725"
             ]
            ],
            "type": "heatmapgl"
           }
          ],
          "heatmap": [
           {
            "colorbar": {
             "outlinewidth": 1,
             "tickcolor": "rgb(36,36,36)",
             "ticks": "outside"
            },
            "colorscale": [
             [
              0.0,
              "#440154"
             ],
             [
              0.1111111111111111,
              "#482878"
             ],
             [
              0.2222222222222222,
              "#3e4989"
             ],
             [
              0.3333333333333333,
              "#31688e"
             ],
             [
              0.4444444444444444,
              "#26828e"
             ],
             [
              0.5555555555555556,
              "#1f9e89"
             ],
             [
              0.6666666666666666,
              "#35b779"
             ],
             [
              0.7777777777777778,
              "#6ece58"
             ],
             [
              0.8888888888888888,
              "#b5de2b"
             ],
             [
              1.0,
              "#fde725"
             ]
            ],
            "type": "heatmap"
           }
          ],
          "histogram2dcontour": [
           {
            "colorbar": {
             "outlinewidth": 1,
             "tickcolor": "rgb(36,36,36)",
             "ticks": "outside"
            },
            "colorscale": [
             [
              0.0,
              "#440154"
             ],
             [
              0.1111111111111111,
              "#482878"
             ],
             [
              0.2222222222222222,
              "#3e4989"
             ],
             [
              0.3333333333333333,
              "#31688e"
             ],
             [
              0.4444444444444444,
              "#26828e"
             ],
             [
              0.5555555555555556,
              "#1f9e89"
             ],
             [
              0.6666666666666666,
              "#35b779"
             ],
             [
              0.7777777777777778,
              "#6ece58"
             ],
             [
              0.8888888888888888,
              "#b5de2b"
             ],
             [
              1.0,
              "#fde725"
             ]
            ],
            "type": "histogram2dcontour"
           }
          ],
          "histogram2d": [
           {
            "colorbar": {
             "outlinewidth": 1,
             "tickcolor": "rgb(36,36,36)",
             "ticks": "outside"
            },
            "colorscale": [
             [
              0.0,
              "#440154"
             ],
             [
              0.1111111111111111,
              "#482878"
             ],
             [
              0.2222222222222222,
              "#3e4989"
             ],
             [
              0.3333333333333333,
              "#31688e"
             ],
             [
              0.4444444444444444,
              "#26828e"
             ],
             [
              0.5555555555555556,
              "#1f9e89"
             ],
             [
              0.6666666666666666,
              "#35b779"
             ],
             [
              0.7777777777777778,
              "#6ece58"
             ],
             [
              0.8888888888888888,
              "#b5de2b"
             ],
             [
              1.0,
              "#fde725"
             ]
            ],
            "type": "histogram2d"
           }
          ],
          "histogram": [
           {
            "marker": {
             "line": {
              "color": "white",
              "width": 0.6
             }
            },
            "type": "histogram"
           }
          ],
          "mesh3d": [
           {
            "colorbar": {
             "outlinewidth": 1,
             "tickcolor": "rgb(36,36,36)",
             "ticks": "outside"
            },
            "type": "mesh3d"
           }
          ],
          "parcoords": [
           {
            "line": {
             "colorbar": {
              "outlinewidth": 1,
              "tickcolor": "rgb(36,36,36)",
              "ticks": "outside"
             }
            },
            "type": "parcoords"
           }
          ],
          "pie": [
           {
            "automargin": true,
            "type": "pie"
           }
          ],
          "scatter3d": [
           {
            "line": {
             "colorbar": {
              "outlinewidth": 1,
              "tickcolor": "rgb(36,36,36)",
              "ticks": "outside"
             }
            },
            "marker": {
             "colorbar": {
              "outlinewidth": 1,
              "tickcolor": "rgb(36,36,36)",
              "ticks": "outside"
             }
            },
            "type": "scatter3d"
           }
          ],
          "scattercarpet": [
           {
            "marker": {
             "colorbar": {
              "outlinewidth": 1,
              "tickcolor": "rgb(36,36,36)",
              "ticks": "outside"
             }
            },
            "type": "scattercarpet"
           }
          ],
          "scattergeo": [
           {
            "marker": {
             "colorbar": {
              "outlinewidth": 1,
              "tickcolor": "rgb(36,36,36)",
              "ticks": "outside"
             }
            },
            "type": "scattergeo"
           }
          ],
          "scattergl": [
           {
            "marker": {
             "colorbar": {
              "outlinewidth": 1,
              "tickcolor": "rgb(36,36,36)",
              "ticks": "outside"
             }
            },
            "type": "scattergl"
           }
          ],
          "scattermapbox": [
           {
            "marker": {
             "colorbar": {
              "outlinewidth": 1,
              "tickcolor": "rgb(36,36,36)",
              "ticks": "outside"
             }
            },
            "type": "scattermapbox"
           }
          ],
          "scatterpolargl": [
           {
            "marker": {
             "colorbar": {
              "outlinewidth": 1,
              "tickcolor": "rgb(36,36,36)",
              "ticks": "outside"
             }
            },
            "type": "scatterpolargl"
           }
          ],
          "scatterpolar": [
           {
            "marker": {
             "colorbar": {
              "outlinewidth": 1,
              "tickcolor": "rgb(36,36,36)",
              "ticks": "outside"
             }
            },
            "type": "scatterpolar"
           }
          ],
          "scatter": [
           {
            "fillpattern": {
             "fillmode": "overlay",
             "size": 10,
             "solidity": 0.2
            },
            "type": "scatter"
           }
          ],
          "scatterternary": [
           {
            "marker": {
             "colorbar": {
              "outlinewidth": 1,
              "tickcolor": "rgb(36,36,36)",
              "ticks": "outside"
             }
            },
            "type": "scatterternary"
           }
          ],
          "surface": [
           {
            "colorbar": {
             "outlinewidth": 1,
             "tickcolor": "rgb(36,36,36)",
             "ticks": "outside"
            },
            "colorscale": [
             [
              0.0,
              "#440154"
             ],
             [
              0.1111111111111111,
              "#482878"
             ],
             [
              0.2222222222222222,
              "#3e4989"
             ],
             [
              0.3333333333333333,
              "#31688e"
             ],
             [
              0.4444444444444444,
              "#26828e"
             ],
             [
              0.5555555555555556,
              "#1f9e89"
             ],
             [
              0.6666666666666666,
              "#35b779"
             ],
             [
              0.7777777777777778,
              "#6ece58"
             ],
             [
              0.8888888888888888,
              "#b5de2b"
             ],
             [
              1.0,
              "#fde725"
             ]
            ],
            "type": "surface"
           }
          ],
          "table": [
           {
            "cells": {
             "fill": {
              "color": "rgb(237,237,237)"
             },
             "line": {
              "color": "white"
             }
            },
            "header": {
             "fill": {
              "color": "rgb(217,217,217)"
             },
             "line": {
              "color": "white"
             }
            },
            "type": "table"
           }
          ]
         },
         "layout": {
          "annotationdefaults": {
           "arrowhead": 0,
           "arrowwidth": 1
          },
          "autotypenumbers": "strict",
          "coloraxis": {
           "colorbar": {
            "outlinewidth": 1,
            "tickcolor": "rgb(36,36,36)",
            "ticks": "outside"
           }
          },
          "colorscale": {
           "diverging": [
            [
             0.0,
             "rgb(103,0,31)"
            ],
            [
             0.1,
             "rgb(178,24,43)"
            ],
            [
             0.2,
             "rgb(214,96,77)"
            ],
            [
             0.3,
             "rgb(244,165,130)"
            ],
            [
             0.4,
             "rgb(253,219,199)"
            ],
            [
             0.5,
             "rgb(247,247,247)"
            ],
            [
             0.6,
             "rgb(209,229,240)"
            ],
            [
             0.7,
             "rgb(146,197,222)"
            ],
            [
             0.8,
             "rgb(67,147,195)"
            ],
            [
             0.9,
             "rgb(33,102,172)"
            ],
            [
             1.0,
             "rgb(5,48,97)"
            ]
           ],
           "sequential": [
            [
             0.0,
             "#440154"
            ],
            [
             0.1111111111111111,
             "#482878"
            ],
            [
             0.2222222222222222,
             "#3e4989"
            ],
            [
             0.3333333333333333,
             "#31688e"
            ],
            [
             0.4444444444444444,
             "#26828e"
            ],
            [
             0.5555555555555556,
             "#1f9e89"
            ],
            [
             0.6666666666666666,
             "#35b779"
            ],
            [
             0.7777777777777778,
             "#6ece58"
            ],
            [
             0.8888888888888888,
             "#b5de2b"
            ],
            [
             1.0,
             "#fde725"
            ]
           ],
           "sequentialminus": [
            [
             0.0,
             "#440154"
            ],
            [
             0.1111111111111111,
             "#482878"
            ],
            [
             0.2222222222222222,
             "#3e4989"
            ],
            [
             0.3333333333333333,
             "#31688e"
            ],
            [
             0.4444444444444444,
             "#26828e"
            ],
            [
             0.5555555555555556,
             "#1f9e89"
            ],
            [
             0.6666666666666666,
             "#35b779"
            ],
            [
             0.7777777777777778,
             "#6ece58"
            ],
            [
             0.8888888888888888,
             "#b5de2b"
            ],
            [
             1.0,
             "#fde725"
            ]
           ]
          },
          "colorway": [
           "#1F77B4",
           "#FF7F0E",
           "#2CA02C",
           "#D62728",
           "#9467BD",
           "#8C564B",
           "#E377C2",
           "#7F7F7F",
           "#BCBD22",
           "#17BECF"
          ],
          "font": {
           "color": "rgb(36,36,36)"
          },
          "geo": {
           "bgcolor": "white",
           "lakecolor": "white",
           "landcolor": "white",
           "showlakes": true,
           "showland": true,
           "subunitcolor": "white"
          },
          "hoverlabel": {
           "align": "left"
          },
          "hovermode": "closest",
          "mapbox": {
           "style": "light"
          },
          "paper_bgcolor": "white",
          "plot_bgcolor": "white",
          "polar": {
           "angularaxis": {
            "gridcolor": "rgb(232,232,232)",
            "linecolor": "rgb(36,36,36)",
            "showgrid": false,
            "showline": true,
            "ticks": "outside"
           },
           "bgcolor": "white",
           "radialaxis": {
            "gridcolor": "rgb(232,232,232)",
            "linecolor": "rgb(36,36,36)",
            "showgrid": false,
            "showline": true,
            "ticks": "outside"
           }
          },
          "scene": {
           "xaxis": {
            "backgroundcolor": "white",
            "gridcolor": "rgb(232,232,232)",
            "gridwidth": 2,
            "linecolor": "rgb(36,36,36)",
            "showbackground": true,
            "showgrid": false,
            "showline": true,
            "ticks": "outside",
            "zeroline": false,
            "zerolinecolor": "rgb(36,36,36)"
           },
           "yaxis": {
            "backgroundcolor": "white",
            "gridcolor": "rgb(232,232,232)",
            "gridwidth": 2,
            "linecolor": "rgb(36,36,36)",
            "showbackground": true,
            "showgrid": false,
            "showline": true,
            "ticks": "outside",
            "zeroline": false,
            "zerolinecolor": "rgb(36,36,36)"
           },
           "zaxis": {
            "backgroundcolor": "white",
            "gridcolor": "rgb(232,232,232)",
            "gridwidth": 2,
            "linecolor": "rgb(36,36,36)",
            "showbackground": true,
            "showgrid": false,
            "showline": true,
            "ticks": "outside",
            "zeroline": false,
            "zerolinecolor": "rgb(36,36,36)"
           }
          },
          "shapedefaults": {
           "fillcolor": "black",
           "line": {
            "width": 0
           },
           "opacity": 0.3
          },
          "ternary": {
           "aaxis": {
            "gridcolor": "rgb(232,232,232)",
            "linecolor": "rgb(36,36,36)",
            "showgrid": false,
            "showline": true,
            "ticks": "outside"
           },
           "baxis": {
            "gridcolor": "rgb(232,232,232)",
            "linecolor": "rgb(36,36,36)",
            "showgrid": false,
            "showline": true,
            "ticks": "outside"
           },
           "bgcolor": "white",
           "caxis": {
            "gridcolor": "rgb(232,232,232)",
            "linecolor": "rgb(36,36,36)",
            "showgrid": false,
            "showline": true,
            "ticks": "outside"
           }
          },
          "title": {
           "x": 0.05
          },
          "xaxis": {
           "automargin": true,
           "gridcolor": "rgb(232,232,232)",
           "linecolor": "rgb(36,36,36)",
           "showgrid": false,
           "showline": true,
           "ticks": "outside",
           "title": {
            "standoff": 15
           },
           "zeroline": false,
           "zerolinecolor": "rgb(36,36,36)"
          },
          "yaxis": {
           "automargin": true,
           "gridcolor": "rgb(232,232,232)",
           "linecolor": "rgb(36,36,36)",
           "showgrid": false,
           "showline": true,
           "ticks": "outside",
           "title": {
            "standoff": 15
           },
           "zeroline": false,
           "zerolinecolor": "rgb(36,36,36)"
          }
         }
        },
        "xaxis": {
         "anchor": "y",
         "domain": [
          0.0,
          1.0
         ],
         "title": {
          "text": "Count"
         }
        },
        "yaxis": {
         "anchor": "x",
         "domain": [
          0.0,
          1.0
         ],
         "title": {
          "text": "Specialty"
         },
         "categoryorder": "total ascending",
         "tickangle": 0
        },
        "coloraxis": {
         "colorbar": {
          "title": {
           "text": "color"
          }
         },
         "colorscale": [
          [
           0.0,
           "#440154"
          ],
          [
           0.1111111111111111,
           "#482878"
          ],
          [
           0.2222222222222222,
           "#3e4989"
          ],
          [
           0.3333333333333333,
           "#31688e"
          ],
          [
           0.4444444444444444,
           "#26828e"
          ],
          [
           0.5555555555555556,
           "#1f9e89"
          ],
          [
           0.6666666666666666,
           "#35b779"
          ],
          [
           0.7777777777777778,
           "#6ece58"
          ],
          [
           0.8888888888888888,
           "#b5de2b"
          ],
          [
           1.0,
           "#fde725"
          ]
         ]
        },
        "legend": {
         "tracegroupgap": 0
        },
        "title": {
         "text": "Specialty Counts"
        },
        "barmode": "relative",
        "margin": {
         "l": 150,
         "r": 200
        },
        "height": 1200
       },
       "config": {
        "plotlyServerURL": "https://plot.ly"
       }
      },
      "text/html": [
       "<div>                            <div id=\"f55f5345-0255-4585-b56f-86fda30b86ee\" class=\"plotly-graph-div\" style=\"height:1200px; width:100%;\"></div>            <script type=\"text/javascript\">                require([\"plotly\"], function(Plotly) {                    window.PLOTLYENV=window.PLOTLYENV || {};                                    if (document.getElementById(\"f55f5345-0255-4585-b56f-86fda30b86ee\")) {                    Plotly.newPlot(                        \"f55f5345-0255-4585-b56f-86fda30b86ee\",                        [{\"alignmentgroup\":\"True\",\"hovertemplate\":\"Count=%{x}\\u003cbr\\u003eSpecialty=%{y}\\u003cbr\\u003ecolor=%{marker.color}\\u003cextra\\u003e\\u003c\\u002fextra\\u003e\",\"legendgroup\":\"\",\"marker\":{\"color\":[16,11,11,11,11,10,9,8,6,5,5,5,5,4,4,4,3,3,3,3,3,2,2,2,2,2,2,2,1,1,1,1,1,1,1,1,1,1,1,1,1,1,1,1,1,1,1,1,1,1],\"coloraxis\":\"coloraxis\",\"pattern\":{\"shape\":\"\"}},\"name\":\"\",\"offsetgroup\":\"\",\"orientation\":\"h\",\"showlegend\":false,\"textposition\":\"auto\",\"x\":[16,11,11,11,11,10,9,8,6,5,5,5,5,4,4,4,3,3,3,3,3,2,2,2,2,2,2,2,1,1,1,1,1,1,1,1,1,1,1,1,1,1,1,1,1,1,1,1,1,1],\"xaxis\":\"x\",\"y\":[\"Hormone Replacement Therapy (HRT)\",\"Veterinary\",\"Dermatology\",\"Pain Management\",\"Weight Loss\",\"Oncology\",\"IV Vitamin Therapy\",\"Ophthalmology\",\"Total Parenteral Nutrition (TPN)\",\"Pediatrics\",\"Nuclear Medicine\",\"Molecular Imaging\",\"Dentistry\",\"Gastroenterology\",\"Anti-Aging\",\"Clinical Trials\",\"Antibiotics\",\"Hematology\",\"Podiatry\",\"Nuclear Cardiology\",\"Sexual Health\",\"Anesthesia\",\"Sports Medicine\",\"Ear Nose and Throat\",\"Long Term Care\",\"Hair Care\",\"Urology\",\"Wellness\",\"Pain Management Gastroenterology\",\"Hospice\",\"Immunotherapy\",\"Palliative Care\",\"Chronic Disease\",\"Cardiology\",\"Anti-Viral Medications\",\"Wound Care\",\"Chelation\",\"Antifungal Medications\",\"Neurology\",\"Reproductive Health\",\"Proctology\",\"Fertility\",\"Endocrinology\",\"Immunology\",\"Infectious Disease\",\"Rheumatology\",\"Memory Care\",\"Behavioral Health\",\"Skilled Nursing\",\"Mental Health\"],\"yaxis\":\"y\",\"type\":\"bar\"}],                        {\"template\":{\"data\":{\"barpolar\":[{\"marker\":{\"line\":{\"color\":\"white\",\"width\":0.5},\"pattern\":{\"fillmode\":\"overlay\",\"size\":10,\"solidity\":0.2}},\"type\":\"barpolar\"}],\"bar\":[{\"error_x\":{\"color\":\"rgb(36,36,36)\"},\"error_y\":{\"color\":\"rgb(36,36,36)\"},\"marker\":{\"line\":{\"color\":\"white\",\"width\":0.5},\"pattern\":{\"fillmode\":\"overlay\",\"size\":10,\"solidity\":0.2}},\"type\":\"bar\"}],\"carpet\":[{\"aaxis\":{\"endlinecolor\":\"rgb(36,36,36)\",\"gridcolor\":\"white\",\"linecolor\":\"white\",\"minorgridcolor\":\"white\",\"startlinecolor\":\"rgb(36,36,36)\"},\"baxis\":{\"endlinecolor\":\"rgb(36,36,36)\",\"gridcolor\":\"white\",\"linecolor\":\"white\",\"minorgridcolor\":\"white\",\"startlinecolor\":\"rgb(36,36,36)\"},\"type\":\"carpet\"}],\"choropleth\":[{\"colorbar\":{\"outlinewidth\":1,\"tickcolor\":\"rgb(36,36,36)\",\"ticks\":\"outside\"},\"type\":\"choropleth\"}],\"contourcarpet\":[{\"colorbar\":{\"outlinewidth\":1,\"tickcolor\":\"rgb(36,36,36)\",\"ticks\":\"outside\"},\"type\":\"contourcarpet\"}],\"contour\":[{\"colorbar\":{\"outlinewidth\":1,\"tickcolor\":\"rgb(36,36,36)\",\"ticks\":\"outside\"},\"colorscale\":[[0.0,\"#440154\"],[0.1111111111111111,\"#482878\"],[0.2222222222222222,\"#3e4989\"],[0.3333333333333333,\"#31688e\"],[0.4444444444444444,\"#26828e\"],[0.5555555555555556,\"#1f9e89\"],[0.6666666666666666,\"#35b779\"],[0.7777777777777778,\"#6ece58\"],[0.8888888888888888,\"#b5de2b\"],[1.0,\"#fde725\"]],\"type\":\"contour\"}],\"heatmapgl\":[{\"colorbar\":{\"outlinewidth\":1,\"tickcolor\":\"rgb(36,36,36)\",\"ticks\":\"outside\"},\"colorscale\":[[0.0,\"#440154\"],[0.1111111111111111,\"#482878\"],[0.2222222222222222,\"#3e4989\"],[0.3333333333333333,\"#31688e\"],[0.4444444444444444,\"#26828e\"],[0.5555555555555556,\"#1f9e89\"],[0.6666666666666666,\"#35b779\"],[0.7777777777777778,\"#6ece58\"],[0.8888888888888888,\"#b5de2b\"],[1.0,\"#fde725\"]],\"type\":\"heatmapgl\"}],\"heatmap\":[{\"colorbar\":{\"outlinewidth\":1,\"tickcolor\":\"rgb(36,36,36)\",\"ticks\":\"outside\"},\"colorscale\":[[0.0,\"#440154\"],[0.1111111111111111,\"#482878\"],[0.2222222222222222,\"#3e4989\"],[0.3333333333333333,\"#31688e\"],[0.4444444444444444,\"#26828e\"],[0.5555555555555556,\"#1f9e89\"],[0.6666666666666666,\"#35b779\"],[0.7777777777777778,\"#6ece58\"],[0.8888888888888888,\"#b5de2b\"],[1.0,\"#fde725\"]],\"type\":\"heatmap\"}],\"histogram2dcontour\":[{\"colorbar\":{\"outlinewidth\":1,\"tickcolor\":\"rgb(36,36,36)\",\"ticks\":\"outside\"},\"colorscale\":[[0.0,\"#440154\"],[0.1111111111111111,\"#482878\"],[0.2222222222222222,\"#3e4989\"],[0.3333333333333333,\"#31688e\"],[0.4444444444444444,\"#26828e\"],[0.5555555555555556,\"#1f9e89\"],[0.6666666666666666,\"#35b779\"],[0.7777777777777778,\"#6ece58\"],[0.8888888888888888,\"#b5de2b\"],[1.0,\"#fde725\"]],\"type\":\"histogram2dcontour\"}],\"histogram2d\":[{\"colorbar\":{\"outlinewidth\":1,\"tickcolor\":\"rgb(36,36,36)\",\"ticks\":\"outside\"},\"colorscale\":[[0.0,\"#440154\"],[0.1111111111111111,\"#482878\"],[0.2222222222222222,\"#3e4989\"],[0.3333333333333333,\"#31688e\"],[0.4444444444444444,\"#26828e\"],[0.5555555555555556,\"#1f9e89\"],[0.6666666666666666,\"#35b779\"],[0.7777777777777778,\"#6ece58\"],[0.8888888888888888,\"#b5de2b\"],[1.0,\"#fde725\"]],\"type\":\"histogram2d\"}],\"histogram\":[{\"marker\":{\"line\":{\"color\":\"white\",\"width\":0.6}},\"type\":\"histogram\"}],\"mesh3d\":[{\"colorbar\":{\"outlinewidth\":1,\"tickcolor\":\"rgb(36,36,36)\",\"ticks\":\"outside\"},\"type\":\"mesh3d\"}],\"parcoords\":[{\"line\":{\"colorbar\":{\"outlinewidth\":1,\"tickcolor\":\"rgb(36,36,36)\",\"ticks\":\"outside\"}},\"type\":\"parcoords\"}],\"pie\":[{\"automargin\":true,\"type\":\"pie\"}],\"scatter3d\":[{\"line\":{\"colorbar\":{\"outlinewidth\":1,\"tickcolor\":\"rgb(36,36,36)\",\"ticks\":\"outside\"}},\"marker\":{\"colorbar\":{\"outlinewidth\":1,\"tickcolor\":\"rgb(36,36,36)\",\"ticks\":\"outside\"}},\"type\":\"scatter3d\"}],\"scattercarpet\":[{\"marker\":{\"colorbar\":{\"outlinewidth\":1,\"tickcolor\":\"rgb(36,36,36)\",\"ticks\":\"outside\"}},\"type\":\"scattercarpet\"}],\"scattergeo\":[{\"marker\":{\"colorbar\":{\"outlinewidth\":1,\"tickcolor\":\"rgb(36,36,36)\",\"ticks\":\"outside\"}},\"type\":\"scattergeo\"}],\"scattergl\":[{\"marker\":{\"colorbar\":{\"outlinewidth\":1,\"tickcolor\":\"rgb(36,36,36)\",\"ticks\":\"outside\"}},\"type\":\"scattergl\"}],\"scattermapbox\":[{\"marker\":{\"colorbar\":{\"outlinewidth\":1,\"tickcolor\":\"rgb(36,36,36)\",\"ticks\":\"outside\"}},\"type\":\"scattermapbox\"}],\"scatterpolargl\":[{\"marker\":{\"colorbar\":{\"outlinewidth\":1,\"tickcolor\":\"rgb(36,36,36)\",\"ticks\":\"outside\"}},\"type\":\"scatterpolargl\"}],\"scatterpolar\":[{\"marker\":{\"colorbar\":{\"outlinewidth\":1,\"tickcolor\":\"rgb(36,36,36)\",\"ticks\":\"outside\"}},\"type\":\"scatterpolar\"}],\"scatter\":[{\"fillpattern\":{\"fillmode\":\"overlay\",\"size\":10,\"solidity\":0.2},\"type\":\"scatter\"}],\"scatterternary\":[{\"marker\":{\"colorbar\":{\"outlinewidth\":1,\"tickcolor\":\"rgb(36,36,36)\",\"ticks\":\"outside\"}},\"type\":\"scatterternary\"}],\"surface\":[{\"colorbar\":{\"outlinewidth\":1,\"tickcolor\":\"rgb(36,36,36)\",\"ticks\":\"outside\"},\"colorscale\":[[0.0,\"#440154\"],[0.1111111111111111,\"#482878\"],[0.2222222222222222,\"#3e4989\"],[0.3333333333333333,\"#31688e\"],[0.4444444444444444,\"#26828e\"],[0.5555555555555556,\"#1f9e89\"],[0.6666666666666666,\"#35b779\"],[0.7777777777777778,\"#6ece58\"],[0.8888888888888888,\"#b5de2b\"],[1.0,\"#fde725\"]],\"type\":\"surface\"}],\"table\":[{\"cells\":{\"fill\":{\"color\":\"rgb(237,237,237)\"},\"line\":{\"color\":\"white\"}},\"header\":{\"fill\":{\"color\":\"rgb(217,217,217)\"},\"line\":{\"color\":\"white\"}},\"type\":\"table\"}]},\"layout\":{\"annotationdefaults\":{\"arrowhead\":0,\"arrowwidth\":1},\"autotypenumbers\":\"strict\",\"coloraxis\":{\"colorbar\":{\"outlinewidth\":1,\"tickcolor\":\"rgb(36,36,36)\",\"ticks\":\"outside\"}},\"colorscale\":{\"diverging\":[[0.0,\"rgb(103,0,31)\"],[0.1,\"rgb(178,24,43)\"],[0.2,\"rgb(214,96,77)\"],[0.3,\"rgb(244,165,130)\"],[0.4,\"rgb(253,219,199)\"],[0.5,\"rgb(247,247,247)\"],[0.6,\"rgb(209,229,240)\"],[0.7,\"rgb(146,197,222)\"],[0.8,\"rgb(67,147,195)\"],[0.9,\"rgb(33,102,172)\"],[1.0,\"rgb(5,48,97)\"]],\"sequential\":[[0.0,\"#440154\"],[0.1111111111111111,\"#482878\"],[0.2222222222222222,\"#3e4989\"],[0.3333333333333333,\"#31688e\"],[0.4444444444444444,\"#26828e\"],[0.5555555555555556,\"#1f9e89\"],[0.6666666666666666,\"#35b779\"],[0.7777777777777778,\"#6ece58\"],[0.8888888888888888,\"#b5de2b\"],[1.0,\"#fde725\"]],\"sequentialminus\":[[0.0,\"#440154\"],[0.1111111111111111,\"#482878\"],[0.2222222222222222,\"#3e4989\"],[0.3333333333333333,\"#31688e\"],[0.4444444444444444,\"#26828e\"],[0.5555555555555556,\"#1f9e89\"],[0.6666666666666666,\"#35b779\"],[0.7777777777777778,\"#6ece58\"],[0.8888888888888888,\"#b5de2b\"],[1.0,\"#fde725\"]]},\"colorway\":[\"#1F77B4\",\"#FF7F0E\",\"#2CA02C\",\"#D62728\",\"#9467BD\",\"#8C564B\",\"#E377C2\",\"#7F7F7F\",\"#BCBD22\",\"#17BECF\"],\"font\":{\"color\":\"rgb(36,36,36)\"},\"geo\":{\"bgcolor\":\"white\",\"lakecolor\":\"white\",\"landcolor\":\"white\",\"showlakes\":true,\"showland\":true,\"subunitcolor\":\"white\"},\"hoverlabel\":{\"align\":\"left\"},\"hovermode\":\"closest\",\"mapbox\":{\"style\":\"light\"},\"paper_bgcolor\":\"white\",\"plot_bgcolor\":\"white\",\"polar\":{\"angularaxis\":{\"gridcolor\":\"rgb(232,232,232)\",\"linecolor\":\"rgb(36,36,36)\",\"showgrid\":false,\"showline\":true,\"ticks\":\"outside\"},\"bgcolor\":\"white\",\"radialaxis\":{\"gridcolor\":\"rgb(232,232,232)\",\"linecolor\":\"rgb(36,36,36)\",\"showgrid\":false,\"showline\":true,\"ticks\":\"outside\"}},\"scene\":{\"xaxis\":{\"backgroundcolor\":\"white\",\"gridcolor\":\"rgb(232,232,232)\",\"gridwidth\":2,\"linecolor\":\"rgb(36,36,36)\",\"showbackground\":true,\"showgrid\":false,\"showline\":true,\"ticks\":\"outside\",\"zeroline\":false,\"zerolinecolor\":\"rgb(36,36,36)\"},\"yaxis\":{\"backgroundcolor\":\"white\",\"gridcolor\":\"rgb(232,232,232)\",\"gridwidth\":2,\"linecolor\":\"rgb(36,36,36)\",\"showbackground\":true,\"showgrid\":false,\"showline\":true,\"ticks\":\"outside\",\"zeroline\":false,\"zerolinecolor\":\"rgb(36,36,36)\"},\"zaxis\":{\"backgroundcolor\":\"white\",\"gridcolor\":\"rgb(232,232,232)\",\"gridwidth\":2,\"linecolor\":\"rgb(36,36,36)\",\"showbackground\":true,\"showgrid\":false,\"showline\":true,\"ticks\":\"outside\",\"zeroline\":false,\"zerolinecolor\":\"rgb(36,36,36)\"}},\"shapedefaults\":{\"fillcolor\":\"black\",\"line\":{\"width\":0},\"opacity\":0.3},\"ternary\":{\"aaxis\":{\"gridcolor\":\"rgb(232,232,232)\",\"linecolor\":\"rgb(36,36,36)\",\"showgrid\":false,\"showline\":true,\"ticks\":\"outside\"},\"baxis\":{\"gridcolor\":\"rgb(232,232,232)\",\"linecolor\":\"rgb(36,36,36)\",\"showgrid\":false,\"showline\":true,\"ticks\":\"outside\"},\"bgcolor\":\"white\",\"caxis\":{\"gridcolor\":\"rgb(232,232,232)\",\"linecolor\":\"rgb(36,36,36)\",\"showgrid\":false,\"showline\":true,\"ticks\":\"outside\"}},\"title\":{\"x\":0.05},\"xaxis\":{\"automargin\":true,\"gridcolor\":\"rgb(232,232,232)\",\"linecolor\":\"rgb(36,36,36)\",\"showgrid\":false,\"showline\":true,\"ticks\":\"outside\",\"title\":{\"standoff\":15},\"zeroline\":false,\"zerolinecolor\":\"rgb(36,36,36)\"},\"yaxis\":{\"automargin\":true,\"gridcolor\":\"rgb(232,232,232)\",\"linecolor\":\"rgb(36,36,36)\",\"showgrid\":false,\"showline\":true,\"ticks\":\"outside\",\"title\":{\"standoff\":15},\"zeroline\":false,\"zerolinecolor\":\"rgb(36,36,36)\"}}},\"xaxis\":{\"anchor\":\"y\",\"domain\":[0.0,1.0],\"title\":{\"text\":\"Count\"}},\"yaxis\":{\"anchor\":\"x\",\"domain\":[0.0,1.0],\"title\":{\"text\":\"Specialty\"},\"categoryorder\":\"total ascending\",\"tickangle\":0},\"coloraxis\":{\"colorbar\":{\"title\":{\"text\":\"color\"}},\"colorscale\":[[0.0,\"#440154\"],[0.1111111111111111,\"#482878\"],[0.2222222222222222,\"#3e4989\"],[0.3333333333333333,\"#31688e\"],[0.4444444444444444,\"#26828e\"],[0.5555555555555556,\"#1f9e89\"],[0.6666666666666666,\"#35b779\"],[0.7777777777777778,\"#6ece58\"],[0.8888888888888888,\"#b5de2b\"],[1.0,\"#fde725\"]]},\"legend\":{\"tracegroupgap\":0},\"title\":{\"text\":\"Specialty Counts\"},\"barmode\":\"relative\",\"margin\":{\"l\":150,\"r\":200},\"height\":1200},                        {\"responsive\": true}                    ).then(function(){\n",
       "                            \n",
       "var gd = document.getElementById('f55f5345-0255-4585-b56f-86fda30b86ee');\n",
       "var x = new MutationObserver(function (mutations, observer) {{\n",
       "        var display = window.getComputedStyle(gd).display;\n",
       "        if (!display || display === 'none') {{\n",
       "            console.log([gd, 'removed!']);\n",
       "            Plotly.purge(gd);\n",
       "            observer.disconnect();\n",
       "        }}\n",
       "}});\n",
       "\n",
       "// Listen for the removal of the full notebook cells\n",
       "var notebookContainer = gd.closest('#notebook-container');\n",
       "if (notebookContainer) {{\n",
       "    x.observe(notebookContainer, {childList: true});\n",
       "}}\n",
       "\n",
       "// Listen for the clearing of the current output cell\n",
       "var outputEl = gd.closest('.output');\n",
       "if (outputEl) {{\n",
       "    x.observe(outputEl, {childList: true});\n",
       "}}\n",
       "\n",
       "                        })                };                });            </script>        </div>"
      ]
     },
     "metadata": {},
     "output_type": "display_data"
    },
    {
     "data": {
      "application/vnd.plotly.v1+json": {
       "data": [
        {
         "alignmentgroup": "True",
         "hovertemplate": "Count=%{x}<br>Condition=%{y}<br>color=%{marker.color}<extra></extra>",
         "legendgroup": "",
         "marker": {
          "color": [
           7,
           6,
           4,
           4,
           4,
           3,
           3,
           3,
           3,
           3,
           3,
           3,
           3,
           3,
           3,
           2,
           2,
           2,
           2,
           2,
           2,
           2,
           2,
           2,
           2,
           2,
           2,
           2,
           2,
           2,
           1,
           1,
           1,
           1,
           1,
           1,
           1,
           1,
           1,
           1,
           1,
           1,
           1,
           1,
           1,
           1,
           1,
           1,
           1,
           1,
           1,
           1,
           1,
           1,
           1,
           1,
           1,
           1,
           1,
           1,
           1,
           1,
           1,
           1,
           1,
           1,
           1,
           1,
           1,
           1,
           1,
           1,
           1,
           1,
           1,
           1,
           1,
           1,
           1,
           1,
           1,
           1,
           1,
           1
          ],
          "coloraxis": "coloraxis",
          "pattern": {
           "shape": ""
          }
         },
         "name": "",
         "offsetgroup": "",
         "orientation": "h",
         "showlegend": false,
         "textposition": "auto",
         "x": [
          7,
          6,
          4,
          4,
          4,
          3,
          3,
          3,
          3,
          3,
          3,
          3,
          3,
          3,
          3,
          2,
          2,
          2,
          2,
          2,
          2,
          2,
          2,
          2,
          2,
          2,
          2,
          2,
          2,
          2,
          1,
          1,
          1,
          1,
          1,
          1,
          1,
          1,
          1,
          1,
          1,
          1,
          1,
          1,
          1,
          1,
          1,
          1,
          1,
          1,
          1,
          1,
          1,
          1,
          1,
          1,
          1,
          1,
          1,
          1,
          1,
          1,
          1,
          1,
          1,
          1,
          1,
          1,
          1,
          1,
          1,
          1,
          1,
          1,
          1,
          1,
          1,
          1,
          1,
          1,
          1,
          1,
          1,
          1
         ],
         "xaxis": "x",
         "y": [
          "Thyroid Disease",
          "Cancer",
          "Erectile Dysfunction",
          "Infertility",
          "HIV/AIDs",
          "Bone Disease",
          "Osteosarcoma",
          "Heart Disease",
          "Multiple Sclerosis",
          "Lung Disease",
          "Pulmonary Embolism",
          "Chondrosarcoma",
          "Autism",
          "Ewing Sarcoma",
          "Eczema",
          "Arthritis",
          "Anemia",
          "Hypertension",
          "Cardioplegia",
          "Psoriasis",
          "Hepatitis",
          "Depression",
          "Nausea",
          "Lyme Disease",
          "Chronic Pain",
          "Crohn's Disease",
          "Fibromyalgia",
          "Cataracts",
          "Acne",
          "Diabetes",
          "Electrolyte Imbalance",
          "Appetite",
          "Glaucoma",
          "Dry Eye Syndrome",
          "Thyroid Dysfunction",
          "Terminally Ill",
          "Autoimmune Disease",
          "Premature Ejaculation",
          "Lupus",
          "Neuroinflammation",
          "Grave's Disease",
          "Celiac Disease",
          "Irritable Bowel",
          "Traumatic Brain Injury (TBI)",
          "Ulcerative Colitis",
          "Alzheimers",
          "Seizure Disorders",
          "Chronic Fatigue Syndrome",
          "Colitis",
          "Parkinson's Disease",
          "Hashimoto's",
          "Sjorgrens Sydrome",
          "Hirsutism",
          "Fissures",
          "Addiction",
          "Methylation",
          "Rosacea",
          "Shingles",
          "Oral Mucositis",
          "Nail Fungus",
          "Warts",
          "Skin Lightening",
          "Rheumatoid Arthritis",
          "Wound Care",
          "Organ Transplant",
          "Corneal Scarring/Haze",
          "Dry Eye",
          "PANDAS",
          "Eye Infection",
          "Adrenal Fatigue",
          "Alzheimer's Disease",
          "Intellectual & Developmental Disabilities",
          "COPD",
          "Congestive Heart Failure",
          "Asthma",
          "Osteoarthritis",
          "Anxiety Disorders",
          "PTSD",
          "OCD",
          "Anxiety",
          "Substance Abuse Disorder (SUD)",
          "Behavioral Addiction",
          "Menopause",
          "Vaginitis"
         ],
         "yaxis": "y",
         "type": "bar"
        }
       ],
       "layout": {
        "template": {
         "data": {
          "barpolar": [
           {
            "marker": {
             "line": {
              "color": "white",
              "width": 0.5
             },
             "pattern": {
              "fillmode": "overlay",
              "size": 10,
              "solidity": 0.2
             }
            },
            "type": "barpolar"
           }
          ],
          "bar": [
           {
            "error_x": {
             "color": "rgb(36,36,36)"
            },
            "error_y": {
             "color": "rgb(36,36,36)"
            },
            "marker": {
             "line": {
              "color": "white",
              "width": 0.5
             },
             "pattern": {
              "fillmode": "overlay",
              "size": 10,
              "solidity": 0.2
             }
            },
            "type": "bar"
           }
          ],
          "carpet": [
           {
            "aaxis": {
             "endlinecolor": "rgb(36,36,36)",
             "gridcolor": "white",
             "linecolor": "white",
             "minorgridcolor": "white",
             "startlinecolor": "rgb(36,36,36)"
            },
            "baxis": {
             "endlinecolor": "rgb(36,36,36)",
             "gridcolor": "white",
             "linecolor": "white",
             "minorgridcolor": "white",
             "startlinecolor": "rgb(36,36,36)"
            },
            "type": "carpet"
           }
          ],
          "choropleth": [
           {
            "colorbar": {
             "outlinewidth": 1,
             "tickcolor": "rgb(36,36,36)",
             "ticks": "outside"
            },
            "type": "choropleth"
           }
          ],
          "contourcarpet": [
           {
            "colorbar": {
             "outlinewidth": 1,
             "tickcolor": "rgb(36,36,36)",
             "ticks": "outside"
            },
            "type": "contourcarpet"
           }
          ],
          "contour": [
           {
            "colorbar": {
             "outlinewidth": 1,
             "tickcolor": "rgb(36,36,36)",
             "ticks": "outside"
            },
            "colorscale": [
             [
              0.0,
              "#440154"
             ],
             [
              0.1111111111111111,
              "#482878"
             ],
             [
              0.2222222222222222,
              "#3e4989"
             ],
             [
              0.3333333333333333,
              "#31688e"
             ],
             [
              0.4444444444444444,
              "#26828e"
             ],
             [
              0.5555555555555556,
              "#1f9e89"
             ],
             [
              0.6666666666666666,
              "#35b779"
             ],
             [
              0.7777777777777778,
              "#6ece58"
             ],
             [
              0.8888888888888888,
              "#b5de2b"
             ],
             [
              1.0,
              "#fde725"
             ]
            ],
            "type": "contour"
           }
          ],
          "heatmapgl": [
           {
            "colorbar": {
             "outlinewidth": 1,
             "tickcolor": "rgb(36,36,36)",
             "ticks": "outside"
            },
            "colorscale": [
             [
              0.0,
              "#440154"
             ],
             [
              0.1111111111111111,
              "#482878"
             ],
             [
              0.2222222222222222,
              "#3e4989"
             ],
             [
              0.3333333333333333,
              "#31688e"
             ],
             [
              0.4444444444444444,
              "#26828e"
             ],
             [
              0.5555555555555556,
              "#1f9e89"
             ],
             [
              0.6666666666666666,
              "#35b779"
             ],
             [
              0.7777777777777778,
              "#6ece58"
             ],
             [
              0.8888888888888888,
              "#b5de2b"
             ],
             [
              1.0,
              "#fde725"
             ]
            ],
            "type": "heatmapgl"
           }
          ],
          "heatmap": [
           {
            "colorbar": {
             "outlinewidth": 1,
             "tickcolor": "rgb(36,36,36)",
             "ticks": "outside"
            },
            "colorscale": [
             [
              0.0,
              "#440154"
             ],
             [
              0.1111111111111111,
              "#482878"
             ],
             [
              0.2222222222222222,
              "#3e4989"
             ],
             [
              0.3333333333333333,
              "#31688e"
             ],
             [
              0.4444444444444444,
              "#26828e"
             ],
             [
              0.5555555555555556,
              "#1f9e89"
             ],
             [
              0.6666666666666666,
              "#35b779"
             ],
             [
              0.7777777777777778,
              "#6ece58"
             ],
             [
              0.8888888888888888,
              "#b5de2b"
             ],
             [
              1.0,
              "#fde725"
             ]
            ],
            "type": "heatmap"
           }
          ],
          "histogram2dcontour": [
           {
            "colorbar": {
             "outlinewidth": 1,
             "tickcolor": "rgb(36,36,36)",
             "ticks": "outside"
            },
            "colorscale": [
             [
              0.0,
              "#440154"
             ],
             [
              0.1111111111111111,
              "#482878"
             ],
             [
              0.2222222222222222,
              "#3e4989"
             ],
             [
              0.3333333333333333,
              "#31688e"
             ],
             [
              0.4444444444444444,
              "#26828e"
             ],
             [
              0.5555555555555556,
              "#1f9e89"
             ],
             [
              0.6666666666666666,
              "#35b779"
             ],
             [
              0.7777777777777778,
              "#6ece58"
             ],
             [
              0.8888888888888888,
              "#b5de2b"
             ],
             [
              1.0,
              "#fde725"
             ]
            ],
            "type": "histogram2dcontour"
           }
          ],
          "histogram2d": [
           {
            "colorbar": {
             "outlinewidth": 1,
             "tickcolor": "rgb(36,36,36)",
             "ticks": "outside"
            },
            "colorscale": [
             [
              0.0,
              "#440154"
             ],
             [
              0.1111111111111111,
              "#482878"
             ],
             [
              0.2222222222222222,
              "#3e4989"
             ],
             [
              0.3333333333333333,
              "#31688e"
             ],
             [
              0.4444444444444444,
              "#26828e"
             ],
             [
              0.5555555555555556,
              "#1f9e89"
             ],
             [
              0.6666666666666666,
              "#35b779"
             ],
             [
              0.7777777777777778,
              "#6ece58"
             ],
             [
              0.8888888888888888,
              "#b5de2b"
             ],
             [
              1.0,
              "#fde725"
             ]
            ],
            "type": "histogram2d"
           }
          ],
          "histogram": [
           {
            "marker": {
             "line": {
              "color": "white",
              "width": 0.6
             }
            },
            "type": "histogram"
           }
          ],
          "mesh3d": [
           {
            "colorbar": {
             "outlinewidth": 1,
             "tickcolor": "rgb(36,36,36)",
             "ticks": "outside"
            },
            "type": "mesh3d"
           }
          ],
          "parcoords": [
           {
            "line": {
             "colorbar": {
              "outlinewidth": 1,
              "tickcolor": "rgb(36,36,36)",
              "ticks": "outside"
             }
            },
            "type": "parcoords"
           }
          ],
          "pie": [
           {
            "automargin": true,
            "type": "pie"
           }
          ],
          "scatter3d": [
           {
            "line": {
             "colorbar": {
              "outlinewidth": 1,
              "tickcolor": "rgb(36,36,36)",
              "ticks": "outside"
             }
            },
            "marker": {
             "colorbar": {
              "outlinewidth": 1,
              "tickcolor": "rgb(36,36,36)",
              "ticks": "outside"
             }
            },
            "type": "scatter3d"
           }
          ],
          "scattercarpet": [
           {
            "marker": {
             "colorbar": {
              "outlinewidth": 1,
              "tickcolor": "rgb(36,36,36)",
              "ticks": "outside"
             }
            },
            "type": "scattercarpet"
           }
          ],
          "scattergeo": [
           {
            "marker": {
             "colorbar": {
              "outlinewidth": 1,
              "tickcolor": "rgb(36,36,36)",
              "ticks": "outside"
             }
            },
            "type": "scattergeo"
           }
          ],
          "scattergl": [
           {
            "marker": {
             "colorbar": {
              "outlinewidth": 1,
              "tickcolor": "rgb(36,36,36)",
              "ticks": "outside"
             }
            },
            "type": "scattergl"
           }
          ],
          "scattermapbox": [
           {
            "marker": {
             "colorbar": {
              "outlinewidth": 1,
              "tickcolor": "rgb(36,36,36)",
              "ticks": "outside"
             }
            },
            "type": "scattermapbox"
           }
          ],
          "scatterpolargl": [
           {
            "marker": {
             "colorbar": {
              "outlinewidth": 1,
              "tickcolor": "rgb(36,36,36)",
              "ticks": "outside"
             }
            },
            "type": "scatterpolargl"
           }
          ],
          "scatterpolar": [
           {
            "marker": {
             "colorbar": {
              "outlinewidth": 1,
              "tickcolor": "rgb(36,36,36)",
              "ticks": "outside"
             }
            },
            "type": "scatterpolar"
           }
          ],
          "scatter": [
           {
            "fillpattern": {
             "fillmode": "overlay",
             "size": 10,
             "solidity": 0.2
            },
            "type": "scatter"
           }
          ],
          "scatterternary": [
           {
            "marker": {
             "colorbar": {
              "outlinewidth": 1,
              "tickcolor": "rgb(36,36,36)",
              "ticks": "outside"
             }
            },
            "type": "scatterternary"
           }
          ],
          "surface": [
           {
            "colorbar": {
             "outlinewidth": 1,
             "tickcolor": "rgb(36,36,36)",
             "ticks": "outside"
            },
            "colorscale": [
             [
              0.0,
              "#440154"
             ],
             [
              0.1111111111111111,
              "#482878"
             ],
             [
              0.2222222222222222,
              "#3e4989"
             ],
             [
              0.3333333333333333,
              "#31688e"
             ],
             [
              0.4444444444444444,
              "#26828e"
             ],
             [
              0.5555555555555556,
              "#1f9e89"
             ],
             [
              0.6666666666666666,
              "#35b779"
             ],
             [
              0.7777777777777778,
              "#6ece58"
             ],
             [
              0.8888888888888888,
              "#b5de2b"
             ],
             [
              1.0,
              "#fde725"
             ]
            ],
            "type": "surface"
           }
          ],
          "table": [
           {
            "cells": {
             "fill": {
              "color": "rgb(237,237,237)"
             },
             "line": {
              "color": "white"
             }
            },
            "header": {
             "fill": {
              "color": "rgb(217,217,217)"
             },
             "line": {
              "color": "white"
             }
            },
            "type": "table"
           }
          ]
         },
         "layout": {
          "annotationdefaults": {
           "arrowhead": 0,
           "arrowwidth": 1
          },
          "autotypenumbers": "strict",
          "coloraxis": {
           "colorbar": {
            "outlinewidth": 1,
            "tickcolor": "rgb(36,36,36)",
            "ticks": "outside"
           }
          },
          "colorscale": {
           "diverging": [
            [
             0.0,
             "rgb(103,0,31)"
            ],
            [
             0.1,
             "rgb(178,24,43)"
            ],
            [
             0.2,
             "rgb(214,96,77)"
            ],
            [
             0.3,
             "rgb(244,165,130)"
            ],
            [
             0.4,
             "rgb(253,219,199)"
            ],
            [
             0.5,
             "rgb(247,247,247)"
            ],
            [
             0.6,
             "rgb(209,229,240)"
            ],
            [
             0.7,
             "rgb(146,197,222)"
            ],
            [
             0.8,
             "rgb(67,147,195)"
            ],
            [
             0.9,
             "rgb(33,102,172)"
            ],
            [
             1.0,
             "rgb(5,48,97)"
            ]
           ],
           "sequential": [
            [
             0.0,
             "#440154"
            ],
            [
             0.1111111111111111,
             "#482878"
            ],
            [
             0.2222222222222222,
             "#3e4989"
            ],
            [
             0.3333333333333333,
             "#31688e"
            ],
            [
             0.4444444444444444,
             "#26828e"
            ],
            [
             0.5555555555555556,
             "#1f9e89"
            ],
            [
             0.6666666666666666,
             "#35b779"
            ],
            [
             0.7777777777777778,
             "#6ece58"
            ],
            [
             0.8888888888888888,
             "#b5de2b"
            ],
            [
             1.0,
             "#fde725"
            ]
           ],
           "sequentialminus": [
            [
             0.0,
             "#440154"
            ],
            [
             0.1111111111111111,
             "#482878"
            ],
            [
             0.2222222222222222,
             "#3e4989"
            ],
            [
             0.3333333333333333,
             "#31688e"
            ],
            [
             0.4444444444444444,
             "#26828e"
            ],
            [
             0.5555555555555556,
             "#1f9e89"
            ],
            [
             0.6666666666666666,
             "#35b779"
            ],
            [
             0.7777777777777778,
             "#6ece58"
            ],
            [
             0.8888888888888888,
             "#b5de2b"
            ],
            [
             1.0,
             "#fde725"
            ]
           ]
          },
          "colorway": [
           "#1F77B4",
           "#FF7F0E",
           "#2CA02C",
           "#D62728",
           "#9467BD",
           "#8C564B",
           "#E377C2",
           "#7F7F7F",
           "#BCBD22",
           "#17BECF"
          ],
          "font": {
           "color": "rgb(36,36,36)"
          },
          "geo": {
           "bgcolor": "white",
           "lakecolor": "white",
           "landcolor": "white",
           "showlakes": true,
           "showland": true,
           "subunitcolor": "white"
          },
          "hoverlabel": {
           "align": "left"
          },
          "hovermode": "closest",
          "mapbox": {
           "style": "light"
          },
          "paper_bgcolor": "white",
          "plot_bgcolor": "white",
          "polar": {
           "angularaxis": {
            "gridcolor": "rgb(232,232,232)",
            "linecolor": "rgb(36,36,36)",
            "showgrid": false,
            "showline": true,
            "ticks": "outside"
           },
           "bgcolor": "white",
           "radialaxis": {
            "gridcolor": "rgb(232,232,232)",
            "linecolor": "rgb(36,36,36)",
            "showgrid": false,
            "showline": true,
            "ticks": "outside"
           }
          },
          "scene": {
           "xaxis": {
            "backgroundcolor": "white",
            "gridcolor": "rgb(232,232,232)",
            "gridwidth": 2,
            "linecolor": "rgb(36,36,36)",
            "showbackground": true,
            "showgrid": false,
            "showline": true,
            "ticks": "outside",
            "zeroline": false,
            "zerolinecolor": "rgb(36,36,36)"
           },
           "yaxis": {
            "backgroundcolor": "white",
            "gridcolor": "rgb(232,232,232)",
            "gridwidth": 2,
            "linecolor": "rgb(36,36,36)",
            "showbackground": true,
            "showgrid": false,
            "showline": true,
            "ticks": "outside",
            "zeroline": false,
            "zerolinecolor": "rgb(36,36,36)"
           },
           "zaxis": {
            "backgroundcolor": "white",
            "gridcolor": "rgb(232,232,232)",
            "gridwidth": 2,
            "linecolor": "rgb(36,36,36)",
            "showbackground": true,
            "showgrid": false,
            "showline": true,
            "ticks": "outside",
            "zeroline": false,
            "zerolinecolor": "rgb(36,36,36)"
           }
          },
          "shapedefaults": {
           "fillcolor": "black",
           "line": {
            "width": 0
           },
           "opacity": 0.3
          },
          "ternary": {
           "aaxis": {
            "gridcolor": "rgb(232,232,232)",
            "linecolor": "rgb(36,36,36)",
            "showgrid": false,
            "showline": true,
            "ticks": "outside"
           },
           "baxis": {
            "gridcolor": "rgb(232,232,232)",
            "linecolor": "rgb(36,36,36)",
            "showgrid": false,
            "showline": true,
            "ticks": "outside"
           },
           "bgcolor": "white",
           "caxis": {
            "gridcolor": "rgb(232,232,232)",
            "linecolor": "rgb(36,36,36)",
            "showgrid": false,
            "showline": true,
            "ticks": "outside"
           }
          },
          "title": {
           "x": 0.05
          },
          "xaxis": {
           "automargin": true,
           "gridcolor": "rgb(232,232,232)",
           "linecolor": "rgb(36,36,36)",
           "showgrid": false,
           "showline": true,
           "ticks": "outside",
           "title": {
            "standoff": 15
           },
           "zeroline": false,
           "zerolinecolor": "rgb(36,36,36)"
          },
          "yaxis": {
           "automargin": true,
           "gridcolor": "rgb(232,232,232)",
           "linecolor": "rgb(36,36,36)",
           "showgrid": false,
           "showline": true,
           "ticks": "outside",
           "title": {
            "standoff": 15
           },
           "zeroline": false,
           "zerolinecolor": "rgb(36,36,36)"
          }
         }
        },
        "xaxis": {
         "anchor": "y",
         "domain": [
          0.0,
          1.0
         ],
         "title": {
          "text": "Count"
         }
        },
        "yaxis": {
         "anchor": "x",
         "domain": [
          0.0,
          1.0
         ],
         "title": {
          "text": "Condition"
         },
         "categoryorder": "total ascending",
         "tickangle": 0
        },
        "coloraxis": {
         "colorbar": {
          "title": {
           "text": "color"
          }
         },
         "colorscale": [
          [
           0.0,
           "#440154"
          ],
          [
           0.1111111111111111,
           "#482878"
          ],
          [
           0.2222222222222222,
           "#3e4989"
          ],
          [
           0.3333333333333333,
           "#31688e"
          ],
          [
           0.4444444444444444,
           "#26828e"
          ],
          [
           0.5555555555555556,
           "#1f9e89"
          ],
          [
           0.6666666666666666,
           "#35b779"
          ],
          [
           0.7777777777777778,
           "#6ece58"
          ],
          [
           0.8888888888888888,
           "#b5de2b"
          ],
          [
           1.0,
           "#fde725"
          ]
         ]
        },
        "legend": {
         "tracegroupgap": 0
        },
        "title": {
         "text": "Condition Counts"
        },
        "barmode": "relative",
        "margin": {
         "l": 150,
         "r": 200
        },
        "font": {
         "size": 10
        },
        "height": 1200,
        "width": 1200
       },
       "config": {
        "plotlyServerURL": "https://plot.ly"
       }
      },
      "text/html": [
       "<div>                            <div id=\"070d1eaa-e49a-4123-99cb-cb029194b50a\" class=\"plotly-graph-div\" style=\"height:1200px; width:1200px;\"></div>            <script type=\"text/javascript\">                require([\"plotly\"], function(Plotly) {                    window.PLOTLYENV=window.PLOTLYENV || {};                                    if (document.getElementById(\"070d1eaa-e49a-4123-99cb-cb029194b50a\")) {                    Plotly.newPlot(                        \"070d1eaa-e49a-4123-99cb-cb029194b50a\",                        [{\"alignmentgroup\":\"True\",\"hovertemplate\":\"Count=%{x}\\u003cbr\\u003eCondition=%{y}\\u003cbr\\u003ecolor=%{marker.color}\\u003cextra\\u003e\\u003c\\u002fextra\\u003e\",\"legendgroup\":\"\",\"marker\":{\"color\":[7,6,4,4,4,3,3,3,3,3,3,3,3,3,3,2,2,2,2,2,2,2,2,2,2,2,2,2,2,2,1,1,1,1,1,1,1,1,1,1,1,1,1,1,1,1,1,1,1,1,1,1,1,1,1,1,1,1,1,1,1,1,1,1,1,1,1,1,1,1,1,1,1,1,1,1,1,1,1,1,1,1,1,1],\"coloraxis\":\"coloraxis\",\"pattern\":{\"shape\":\"\"}},\"name\":\"\",\"offsetgroup\":\"\",\"orientation\":\"h\",\"showlegend\":false,\"textposition\":\"auto\",\"x\":[7,6,4,4,4,3,3,3,3,3,3,3,3,3,3,2,2,2,2,2,2,2,2,2,2,2,2,2,2,2,1,1,1,1,1,1,1,1,1,1,1,1,1,1,1,1,1,1,1,1,1,1,1,1,1,1,1,1,1,1,1,1,1,1,1,1,1,1,1,1,1,1,1,1,1,1,1,1,1,1,1,1,1,1],\"xaxis\":\"x\",\"y\":[\"Thyroid Disease\",\"Cancer\",\"Erectile Dysfunction\",\"Infertility\",\"HIV\\u002fAIDs\",\"Bone Disease\",\"Osteosarcoma\",\"Heart Disease\",\"Multiple Sclerosis\",\"Lung Disease\",\"Pulmonary Embolism\",\"Chondrosarcoma\",\"Autism\",\"Ewing Sarcoma\",\"Eczema\",\"Arthritis\",\"Anemia\",\"Hypertension\",\"Cardioplegia\",\"Psoriasis\",\"Hepatitis\",\"Depression\",\"Nausea\",\"Lyme Disease\",\"Chronic Pain\",\"Crohn's Disease\",\"Fibromyalgia\",\"Cataracts\",\"Acne\",\"Diabetes\",\"Electrolyte Imbalance\",\"Appetite\",\"Glaucoma\",\"Dry Eye Syndrome\",\"Thyroid Dysfunction\",\"Terminally Ill\",\"Autoimmune Disease\",\"Premature Ejaculation\",\"Lupus\",\"Neuroinflammation\",\"Grave's Disease\",\"Celiac Disease\",\"Irritable Bowel\",\"Traumatic Brain Injury (TBI)\",\"Ulcerative Colitis\",\"Alzheimers\",\"Seizure Disorders\",\"Chronic Fatigue Syndrome\",\"Colitis\",\"Parkinson's Disease\",\"Hashimoto's\",\"Sjorgrens Sydrome\",\"Hirsutism\",\"Fissures\",\"Addiction\",\"Methylation\",\"Rosacea\",\"Shingles\",\"Oral Mucositis\",\"Nail Fungus\",\"Warts\",\"Skin Lightening\",\"Rheumatoid Arthritis\",\"Wound Care\",\"Organ Transplant\",\"Corneal Scarring\\u002fHaze\",\"Dry Eye\",\"PANDAS\",\"Eye Infection\",\"Adrenal Fatigue\",\"Alzheimer's Disease\",\"Intellectual & Developmental Disabilities\",\"COPD\",\"Congestive Heart Failure\",\"Asthma\",\"Osteoarthritis\",\"Anxiety Disorders\",\"PTSD\",\"OCD\",\"Anxiety\",\"Substance Abuse Disorder (SUD)\",\"Behavioral Addiction\",\"Menopause\",\"Vaginitis\"],\"yaxis\":\"y\",\"type\":\"bar\"}],                        {\"template\":{\"data\":{\"barpolar\":[{\"marker\":{\"line\":{\"color\":\"white\",\"width\":0.5},\"pattern\":{\"fillmode\":\"overlay\",\"size\":10,\"solidity\":0.2}},\"type\":\"barpolar\"}],\"bar\":[{\"error_x\":{\"color\":\"rgb(36,36,36)\"},\"error_y\":{\"color\":\"rgb(36,36,36)\"},\"marker\":{\"line\":{\"color\":\"white\",\"width\":0.5},\"pattern\":{\"fillmode\":\"overlay\",\"size\":10,\"solidity\":0.2}},\"type\":\"bar\"}],\"carpet\":[{\"aaxis\":{\"endlinecolor\":\"rgb(36,36,36)\",\"gridcolor\":\"white\",\"linecolor\":\"white\",\"minorgridcolor\":\"white\",\"startlinecolor\":\"rgb(36,36,36)\"},\"baxis\":{\"endlinecolor\":\"rgb(36,36,36)\",\"gridcolor\":\"white\",\"linecolor\":\"white\",\"minorgridcolor\":\"white\",\"startlinecolor\":\"rgb(36,36,36)\"},\"type\":\"carpet\"}],\"choropleth\":[{\"colorbar\":{\"outlinewidth\":1,\"tickcolor\":\"rgb(36,36,36)\",\"ticks\":\"outside\"},\"type\":\"choropleth\"}],\"contourcarpet\":[{\"colorbar\":{\"outlinewidth\":1,\"tickcolor\":\"rgb(36,36,36)\",\"ticks\":\"outside\"},\"type\":\"contourcarpet\"}],\"contour\":[{\"colorbar\":{\"outlinewidth\":1,\"tickcolor\":\"rgb(36,36,36)\",\"ticks\":\"outside\"},\"colorscale\":[[0.0,\"#440154\"],[0.1111111111111111,\"#482878\"],[0.2222222222222222,\"#3e4989\"],[0.3333333333333333,\"#31688e\"],[0.4444444444444444,\"#26828e\"],[0.5555555555555556,\"#1f9e89\"],[0.6666666666666666,\"#35b779\"],[0.7777777777777778,\"#6ece58\"],[0.8888888888888888,\"#b5de2b\"],[1.0,\"#fde725\"]],\"type\":\"contour\"}],\"heatmapgl\":[{\"colorbar\":{\"outlinewidth\":1,\"tickcolor\":\"rgb(36,36,36)\",\"ticks\":\"outside\"},\"colorscale\":[[0.0,\"#440154\"],[0.1111111111111111,\"#482878\"],[0.2222222222222222,\"#3e4989\"],[0.3333333333333333,\"#31688e\"],[0.4444444444444444,\"#26828e\"],[0.5555555555555556,\"#1f9e89\"],[0.6666666666666666,\"#35b779\"],[0.7777777777777778,\"#6ece58\"],[0.8888888888888888,\"#b5de2b\"],[1.0,\"#fde725\"]],\"type\":\"heatmapgl\"}],\"heatmap\":[{\"colorbar\":{\"outlinewidth\":1,\"tickcolor\":\"rgb(36,36,36)\",\"ticks\":\"outside\"},\"colorscale\":[[0.0,\"#440154\"],[0.1111111111111111,\"#482878\"],[0.2222222222222222,\"#3e4989\"],[0.3333333333333333,\"#31688e\"],[0.4444444444444444,\"#26828e\"],[0.5555555555555556,\"#1f9e89\"],[0.6666666666666666,\"#35b779\"],[0.7777777777777778,\"#6ece58\"],[0.8888888888888888,\"#b5de2b\"],[1.0,\"#fde725\"]],\"type\":\"heatmap\"}],\"histogram2dcontour\":[{\"colorbar\":{\"outlinewidth\":1,\"tickcolor\":\"rgb(36,36,36)\",\"ticks\":\"outside\"},\"colorscale\":[[0.0,\"#440154\"],[0.1111111111111111,\"#482878\"],[0.2222222222222222,\"#3e4989\"],[0.3333333333333333,\"#31688e\"],[0.4444444444444444,\"#26828e\"],[0.5555555555555556,\"#1f9e89\"],[0.6666666666666666,\"#35b779\"],[0.7777777777777778,\"#6ece58\"],[0.8888888888888888,\"#b5de2b\"],[1.0,\"#fde725\"]],\"type\":\"histogram2dcontour\"}],\"histogram2d\":[{\"colorbar\":{\"outlinewidth\":1,\"tickcolor\":\"rgb(36,36,36)\",\"ticks\":\"outside\"},\"colorscale\":[[0.0,\"#440154\"],[0.1111111111111111,\"#482878\"],[0.2222222222222222,\"#3e4989\"],[0.3333333333333333,\"#31688e\"],[0.4444444444444444,\"#26828e\"],[0.5555555555555556,\"#1f9e89\"],[0.6666666666666666,\"#35b779\"],[0.7777777777777778,\"#6ece58\"],[0.8888888888888888,\"#b5de2b\"],[1.0,\"#fde725\"]],\"type\":\"histogram2d\"}],\"histogram\":[{\"marker\":{\"line\":{\"color\":\"white\",\"width\":0.6}},\"type\":\"histogram\"}],\"mesh3d\":[{\"colorbar\":{\"outlinewidth\":1,\"tickcolor\":\"rgb(36,36,36)\",\"ticks\":\"outside\"},\"type\":\"mesh3d\"}],\"parcoords\":[{\"line\":{\"colorbar\":{\"outlinewidth\":1,\"tickcolor\":\"rgb(36,36,36)\",\"ticks\":\"outside\"}},\"type\":\"parcoords\"}],\"pie\":[{\"automargin\":true,\"type\":\"pie\"}],\"scatter3d\":[{\"line\":{\"colorbar\":{\"outlinewidth\":1,\"tickcolor\":\"rgb(36,36,36)\",\"ticks\":\"outside\"}},\"marker\":{\"colorbar\":{\"outlinewidth\":1,\"tickcolor\":\"rgb(36,36,36)\",\"ticks\":\"outside\"}},\"type\":\"scatter3d\"}],\"scattercarpet\":[{\"marker\":{\"colorbar\":{\"outlinewidth\":1,\"tickcolor\":\"rgb(36,36,36)\",\"ticks\":\"outside\"}},\"type\":\"scattercarpet\"}],\"scattergeo\":[{\"marker\":{\"colorbar\":{\"outlinewidth\":1,\"tickcolor\":\"rgb(36,36,36)\",\"ticks\":\"outside\"}},\"type\":\"scattergeo\"}],\"scattergl\":[{\"marker\":{\"colorbar\":{\"outlinewidth\":1,\"tickcolor\":\"rgb(36,36,36)\",\"ticks\":\"outside\"}},\"type\":\"scattergl\"}],\"scattermapbox\":[{\"marker\":{\"colorbar\":{\"outlinewidth\":1,\"tickcolor\":\"rgb(36,36,36)\",\"ticks\":\"outside\"}},\"type\":\"scattermapbox\"}],\"scatterpolargl\":[{\"marker\":{\"colorbar\":{\"outlinewidth\":1,\"tickcolor\":\"rgb(36,36,36)\",\"ticks\":\"outside\"}},\"type\":\"scatterpolargl\"}],\"scatterpolar\":[{\"marker\":{\"colorbar\":{\"outlinewidth\":1,\"tickcolor\":\"rgb(36,36,36)\",\"ticks\":\"outside\"}},\"type\":\"scatterpolar\"}],\"scatter\":[{\"fillpattern\":{\"fillmode\":\"overlay\",\"size\":10,\"solidity\":0.2},\"type\":\"scatter\"}],\"scatterternary\":[{\"marker\":{\"colorbar\":{\"outlinewidth\":1,\"tickcolor\":\"rgb(36,36,36)\",\"ticks\":\"outside\"}},\"type\":\"scatterternary\"}],\"surface\":[{\"colorbar\":{\"outlinewidth\":1,\"tickcolor\":\"rgb(36,36,36)\",\"ticks\":\"outside\"},\"colorscale\":[[0.0,\"#440154\"],[0.1111111111111111,\"#482878\"],[0.2222222222222222,\"#3e4989\"],[0.3333333333333333,\"#31688e\"],[0.4444444444444444,\"#26828e\"],[0.5555555555555556,\"#1f9e89\"],[0.6666666666666666,\"#35b779\"],[0.7777777777777778,\"#6ece58\"],[0.8888888888888888,\"#b5de2b\"],[1.0,\"#fde725\"]],\"type\":\"surface\"}],\"table\":[{\"cells\":{\"fill\":{\"color\":\"rgb(237,237,237)\"},\"line\":{\"color\":\"white\"}},\"header\":{\"fill\":{\"color\":\"rgb(217,217,217)\"},\"line\":{\"color\":\"white\"}},\"type\":\"table\"}]},\"layout\":{\"annotationdefaults\":{\"arrowhead\":0,\"arrowwidth\":1},\"autotypenumbers\":\"strict\",\"coloraxis\":{\"colorbar\":{\"outlinewidth\":1,\"tickcolor\":\"rgb(36,36,36)\",\"ticks\":\"outside\"}},\"colorscale\":{\"diverging\":[[0.0,\"rgb(103,0,31)\"],[0.1,\"rgb(178,24,43)\"],[0.2,\"rgb(214,96,77)\"],[0.3,\"rgb(244,165,130)\"],[0.4,\"rgb(253,219,199)\"],[0.5,\"rgb(247,247,247)\"],[0.6,\"rgb(209,229,240)\"],[0.7,\"rgb(146,197,222)\"],[0.8,\"rgb(67,147,195)\"],[0.9,\"rgb(33,102,172)\"],[1.0,\"rgb(5,48,97)\"]],\"sequential\":[[0.0,\"#440154\"],[0.1111111111111111,\"#482878\"],[0.2222222222222222,\"#3e4989\"],[0.3333333333333333,\"#31688e\"],[0.4444444444444444,\"#26828e\"],[0.5555555555555556,\"#1f9e89\"],[0.6666666666666666,\"#35b779\"],[0.7777777777777778,\"#6ece58\"],[0.8888888888888888,\"#b5de2b\"],[1.0,\"#fde725\"]],\"sequentialminus\":[[0.0,\"#440154\"],[0.1111111111111111,\"#482878\"],[0.2222222222222222,\"#3e4989\"],[0.3333333333333333,\"#31688e\"],[0.4444444444444444,\"#26828e\"],[0.5555555555555556,\"#1f9e89\"],[0.6666666666666666,\"#35b779\"],[0.7777777777777778,\"#6ece58\"],[0.8888888888888888,\"#b5de2b\"],[1.0,\"#fde725\"]]},\"colorway\":[\"#1F77B4\",\"#FF7F0E\",\"#2CA02C\",\"#D62728\",\"#9467BD\",\"#8C564B\",\"#E377C2\",\"#7F7F7F\",\"#BCBD22\",\"#17BECF\"],\"font\":{\"color\":\"rgb(36,36,36)\"},\"geo\":{\"bgcolor\":\"white\",\"lakecolor\":\"white\",\"landcolor\":\"white\",\"showlakes\":true,\"showland\":true,\"subunitcolor\":\"white\"},\"hoverlabel\":{\"align\":\"left\"},\"hovermode\":\"closest\",\"mapbox\":{\"style\":\"light\"},\"paper_bgcolor\":\"white\",\"plot_bgcolor\":\"white\",\"polar\":{\"angularaxis\":{\"gridcolor\":\"rgb(232,232,232)\",\"linecolor\":\"rgb(36,36,36)\",\"showgrid\":false,\"showline\":true,\"ticks\":\"outside\"},\"bgcolor\":\"white\",\"radialaxis\":{\"gridcolor\":\"rgb(232,232,232)\",\"linecolor\":\"rgb(36,36,36)\",\"showgrid\":false,\"showline\":true,\"ticks\":\"outside\"}},\"scene\":{\"xaxis\":{\"backgroundcolor\":\"white\",\"gridcolor\":\"rgb(232,232,232)\",\"gridwidth\":2,\"linecolor\":\"rgb(36,36,36)\",\"showbackground\":true,\"showgrid\":false,\"showline\":true,\"ticks\":\"outside\",\"zeroline\":false,\"zerolinecolor\":\"rgb(36,36,36)\"},\"yaxis\":{\"backgroundcolor\":\"white\",\"gridcolor\":\"rgb(232,232,232)\",\"gridwidth\":2,\"linecolor\":\"rgb(36,36,36)\",\"showbackground\":true,\"showgrid\":false,\"showline\":true,\"ticks\":\"outside\",\"zeroline\":false,\"zerolinecolor\":\"rgb(36,36,36)\"},\"zaxis\":{\"backgroundcolor\":\"white\",\"gridcolor\":\"rgb(232,232,232)\",\"gridwidth\":2,\"linecolor\":\"rgb(36,36,36)\",\"showbackground\":true,\"showgrid\":false,\"showline\":true,\"ticks\":\"outside\",\"zeroline\":false,\"zerolinecolor\":\"rgb(36,36,36)\"}},\"shapedefaults\":{\"fillcolor\":\"black\",\"line\":{\"width\":0},\"opacity\":0.3},\"ternary\":{\"aaxis\":{\"gridcolor\":\"rgb(232,232,232)\",\"linecolor\":\"rgb(36,36,36)\",\"showgrid\":false,\"showline\":true,\"ticks\":\"outside\"},\"baxis\":{\"gridcolor\":\"rgb(232,232,232)\",\"linecolor\":\"rgb(36,36,36)\",\"showgrid\":false,\"showline\":true,\"ticks\":\"outside\"},\"bgcolor\":\"white\",\"caxis\":{\"gridcolor\":\"rgb(232,232,232)\",\"linecolor\":\"rgb(36,36,36)\",\"showgrid\":false,\"showline\":true,\"ticks\":\"outside\"}},\"title\":{\"x\":0.05},\"xaxis\":{\"automargin\":true,\"gridcolor\":\"rgb(232,232,232)\",\"linecolor\":\"rgb(36,36,36)\",\"showgrid\":false,\"showline\":true,\"ticks\":\"outside\",\"title\":{\"standoff\":15},\"zeroline\":false,\"zerolinecolor\":\"rgb(36,36,36)\"},\"yaxis\":{\"automargin\":true,\"gridcolor\":\"rgb(232,232,232)\",\"linecolor\":\"rgb(36,36,36)\",\"showgrid\":false,\"showline\":true,\"ticks\":\"outside\",\"title\":{\"standoff\":15},\"zeroline\":false,\"zerolinecolor\":\"rgb(36,36,36)\"}}},\"xaxis\":{\"anchor\":\"y\",\"domain\":[0.0,1.0],\"title\":{\"text\":\"Count\"}},\"yaxis\":{\"anchor\":\"x\",\"domain\":[0.0,1.0],\"title\":{\"text\":\"Condition\"},\"categoryorder\":\"total ascending\",\"tickangle\":0},\"coloraxis\":{\"colorbar\":{\"title\":{\"text\":\"color\"}},\"colorscale\":[[0.0,\"#440154\"],[0.1111111111111111,\"#482878\"],[0.2222222222222222,\"#3e4989\"],[0.3333333333333333,\"#31688e\"],[0.4444444444444444,\"#26828e\"],[0.5555555555555556,\"#1f9e89\"],[0.6666666666666666,\"#35b779\"],[0.7777777777777778,\"#6ece58\"],[0.8888888888888888,\"#b5de2b\"],[1.0,\"#fde725\"]]},\"legend\":{\"tracegroupgap\":0},\"title\":{\"text\":\"Condition Counts\"},\"barmode\":\"relative\",\"margin\":{\"l\":150,\"r\":200},\"font\":{\"size\":10},\"height\":1200,\"width\":1200},                        {\"responsive\": true}                    ).then(function(){\n",
       "                            \n",
       "var gd = document.getElementById('070d1eaa-e49a-4123-99cb-cb029194b50a');\n",
       "var x = new MutationObserver(function (mutations, observer) {{\n",
       "        var display = window.getComputedStyle(gd).display;\n",
       "        if (!display || display === 'none') {{\n",
       "            console.log([gd, 'removed!']);\n",
       "            Plotly.purge(gd);\n",
       "            observer.disconnect();\n",
       "        }}\n",
       "}});\n",
       "\n",
       "// Listen for the removal of the full notebook cells\n",
       "var notebookContainer = gd.closest('#notebook-container');\n",
       "if (notebookContainer) {{\n",
       "    x.observe(notebookContainer, {childList: true});\n",
       "}}\n",
       "\n",
       "// Listen for the clearing of the current output cell\n",
       "var outputEl = gd.closest('.output');\n",
       "if (outputEl) {{\n",
       "    x.observe(outputEl, {childList: true});\n",
       "}}\n",
       "\n",
       "                        })                };                });            </script>        </div>"
      ]
     },
     "metadata": {},
     "output_type": "display_data"
    }
   ],
   "execution_count": 192
  }
 ],
 "metadata": {
  "kernelspec": {
   "display_name": "Python 3",
   "language": "python",
   "name": "python3"
  },
  "language_info": {
   "codemirror_mode": {
    "name": "ipython",
    "version": 2
   },
   "file_extension": ".py",
   "mimetype": "text/x-python",
   "name": "python",
   "nbconvert_exporter": "python",
   "pygments_lexer": "ipython2",
   "version": "2.7.6"
  }
 },
 "nbformat": 4,
 "nbformat_minor": 5
}
