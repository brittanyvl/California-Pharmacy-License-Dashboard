{
 "cells": [
  {
   "metadata": {},
   "cell_type": "markdown",
   "source": [
    "# Exploratory Analysis of California State Board of Pharmacy Sterile Compounding Licenses\n",
    "\n",
    "The pharmacy data utilized in this analysis was retrieved from the California State Board of Pharmacy License Verification Database on 11/24/2024 at 2:53pm CST.  Please visit https://search.dca.ca.gov/results for more information. "
   ],
   "id": "917093db83f53ef8"
  },
  {
   "metadata": {},
   "cell_type": "markdown",
   "source": "## Notebook Setup",
   "id": "501a5603e676084d"
  },
  {
   "metadata": {
    "ExecuteTime": {
     "end_time": "2024-11-26T02:33:59.979987Z",
     "start_time": "2024-11-26T02:33:55.309962Z"
    }
   },
   "cell_type": "code",
   "source": "pip install matplotlib",
   "id": "8c3484bf414c1a74",
   "execution_count": 58,
   "outputs": []
  },
  {
   "metadata": {
    "ExecuteTime": {
     "end_time": "2024-11-26T02:34:11.694809Z",
     "start_time": "2024-11-26T02:34:11.690691Z"
    }
   },
   "cell_type": "code",
   "source": [
    "import pandas as pd\n",
    "import matplotlib.pyplot as plt\n",
    "\n",
    "\n",
    "# Set pandas to display more rows/columns for wider dataframes\n",
    "pd.set_option('display.max_columns', None)  # Show all columns\n",
    "pd.set_option('display.max_rows', 100)     # Adjust rows\n",
    "pd.set_option('display.width', 1000)       # Increase width for better visibility\n",
    "\n",
    "#pd.reset_option('all') "
   ],
   "id": "220caaafb34d99b0",
   "execution_count": 60,
   "outputs": []
  },
  {
   "metadata": {},
   "cell_type": "markdown",
   "source": "## Load & Clean Pharmacy Data",
   "id": "147173345325c83a"
  },
  {
   "metadata": {
    "ExecuteTime": {
     "end_time": "2024-11-26T02:43:22.250073Z",
     "start_time": "2024-11-26T02:43:22.236753Z"
    }
   },
   "cell_type": "code",
   "source": [
    "pharmacies = pd.read_csv('attempt_19.csv')\n",
    "pharmacies.head()\n",
    "\n",
    "#Drop Duplicates\n",
    "pharmacies = pharmacies.drop_duplicates()\n",
    "\n",
    "#Drop Accidental Column\n",
    "pharmacies = pharmacies.drop(columns=['CEDARS-SINAI MEDICAL CENTER -4TH FLOOR MAIN'])\n",
    "\n",
    "#Cast Zip as String\n",
    "pharmacies['Zip'] = pharmacies['Zip'].astype(str).str.replace(r'\\.0$', '', regex=True)\n",
    "\n",
    "#Drop NAs\n",
    "pharmacies = pharmacies.dropna()\n",
    "\n"
   ],
   "id": "1ebdc26e5b591f18",
   "execution_count": 86,
   "outputs": []
  },
  {
   "metadata": {},
   "cell_type": "markdown",
   "source": [
    "## Inspect Pharmacy Data\n",
    "\n",
    "The below cells provide statistics and summaries of the entire dataset. "
   ],
   "id": "918a538e5df4cd46"
  },
  {
   "metadata": {
    "ExecuteTime": {
     "end_time": "2024-11-26T02:43:24.895099Z",
     "start_time": "2024-11-26T02:43:24.880128Z"
    }
   },
   "cell_type": "code",
   "source": [
    "#Review summary statistics\n",
    "pharmacies.describe()"
   ],
   "id": "567e1aae64848c2b",
   "execution_count": 87,
   "outputs": []
  },
  {
   "metadata": {
    "ExecuteTime": {
     "end_time": "2024-11-26T02:56:01.575710Z",
     "start_time": "2024-11-26T02:56:01.563332Z"
    }
   },
   "cell_type": "code",
   "source": [
    "# Find rows with duplicated License Numbers (keeping the first occurrence)\n",
    "duplicated_license_numbers = pharmacies[pharmacies.duplicated(subset='License Number', keep=False)]\n",
    "\n",
    "# Display the result\n",
    "duplicated_license_numbers\n"
   ],
   "id": "6e17b0905c68d79c",
   "execution_count": 105,
   "outputs": []
  },
  {
   "metadata": {
    "ExecuteTime": {
     "end_time": "2024-11-26T02:43:28.757296Z",
     "start_time": "2024-11-26T02:43:28.750145Z"
    }
   },
   "cell_type": "code",
   "source": [
    "#Review datatypes and memory usage\n",
    "pharmacies.info()"
   ],
   "id": "c38fd8e021d62d09",
   "execution_count": 88,
   "outputs": []
  },
  {
   "metadata": {
    "ExecuteTime": {
     "end_time": "2024-11-26T02:43:31.335221Z",
     "start_time": "2024-11-26T02:43:31.330144Z"
    }
   },
   "cell_type": "code",
   "source": [
    "#Inspect datatypes\n",
    "pharmacies.dtypes"
   ],
   "id": "8e83ca9fd326ca1c",
   "execution_count": 89,
   "outputs": []
  },
  {
   "metadata": {
    "ExecuteTime": {
     "end_time": "2024-11-26T02:43:34.425557Z",
     "start_time": "2024-11-26T02:43:34.419650Z"
    }
   },
   "cell_type": "code",
   "source": [
    "#Review unique titles in pharmacy table\n",
    "pharmacies['Pharmacy Name'].value_counts()"
   ],
   "id": "f12ca1d347a6c83c",
   "execution_count": 90,
   "outputs": []
  },
  {
   "metadata": {
    "ExecuteTime": {
     "end_time": "2024-11-26T02:43:37.494982Z",
     "start_time": "2024-11-26T02:43:37.489770Z"
    }
   },
   "cell_type": "code",
   "source": [
    "#Count any null values \n",
    "pharmacies.isnull().sum()"
   ],
   "id": "fb449950509ee9a6",
   "execution_count": 91,
   "outputs": []
  },
  {
   "metadata": {},
   "cell_type": "markdown",
   "source": [
    "## Exploring the Pharmacy Data Visually\n",
    "\n",
    "The below cells are an initial analysis of the pharmacy data utilizing matplotlib.pyplot.  "
   ],
   "id": "59f81b89f315cf30"
  },
  {
   "metadata": {
    "ExecuteTime": {
     "end_time": "2024-11-26T02:46:12.650599Z",
     "start_time": "2024-11-26T02:46:12.500022Z"
    }
   },
   "cell_type": "code",
   "source": [
    "import matplotlib.pyplot as plt\n",
    "\n",
    "# Group data by License Type and count occurrences, sorting by descending order\n",
    "license_counts = pharmacies['License Type'].value_counts(ascending=False)\n",
    "\n",
    "# Adjust the figure size\n",
    "plt.figure(figsize=(10, 8))  # Taller to fit long labels\n",
    "\n",
    "# Plot the horizontal bar graph\n",
    "bars = plt.barh(\n",
    "    license_counts.index, license_counts.values, color='skyblue', edgecolor='black'\n",
    ")\n",
    "\n",
    "# Add title and labels with increased font size\n",
    "plt.title('Histogram of License Type', fontsize=16)\n",
    "plt.xlabel('Count', fontsize=14)\n",
    "plt.ylabel('Type', fontsize=14)\n",
    "\n",
    "# Add labels to the bars\n",
    "for bar in bars:\n",
    "    # Add the label to the end of each bar\n",
    "    plt.text(\n",
    "        bar.get_width() + 0.5,  # Slightly beyond the bar's end\n",
    "        bar.get_y() + bar.get_height() / 2,  # Vertically centered\n",
    "        f'{int(bar.get_width())}',  # Text is the width (count)\n",
    "        va='center', fontsize=10\n",
    "    )\n",
    "\n",
    "# Ensure layout adjusts for long labels\n",
    "plt.tight_layout()\n",
    "\n",
    "plt.show()\n"
   ],
   "id": "459fccc1d002438a",
   "execution_count": 95,
   "outputs": []
  },
  {
   "metadata": {
    "ExecuteTime": {
     "end_time": "2024-11-26T02:49:01.688641Z",
     "start_time": "2024-11-26T02:49:01.526585Z"
    }
   },
   "cell_type": "code",
   "source": [
    "import matplotlib.pyplot as plt\n",
    "\n",
    "# Generate descriptive statistics\n",
    "summary = pharmacies.describe()\n",
    "\n",
    "# Transpose the summary for easier access\n",
    "summary_transposed = summary.T\n",
    "\n",
    "# Select the `count` and `freq` rows\n",
    "summary_subset = summary_transposed[['count', 'freq']]\n",
    "\n",
    "# Plot as a grouped horizontal bar chart\n",
    "summary_subset.plot(\n",
    "    kind='barh', \n",
    "    figsize=(12, 8), \n",
    "    color=['skyblue', 'orange'], \n",
    "    edgecolor='black'\n",
    ")\n",
    "\n",
    "# Add title and axis labels\n",
    "plt.title('Descriptive Statistics for Categorical Data', fontsize=16)\n",
    "plt.xlabel('Value', fontsize=14)\n",
    "plt.ylabel('Features', fontsize=14)\n",
    "\n",
    "# Adjust layout for readability\n",
    "plt.tight_layout()\n",
    "plt.legend(title='Statistics', fontsize=12)\n",
    "plt.show()\n"
   ],
   "id": "93ab99532306e251",
   "execution_count": 99,
   "outputs": []
  },
  {
   "metadata": {
    "ExecuteTime": {
     "end_time": "2024-11-26T02:54:46.872316Z",
     "start_time": "2024-11-26T02:54:46.589021Z"
    }
   },
   "cell_type": "code",
   "source": [
    "import matplotlib.pyplot as plt\n",
    "\n",
    "# Calculate the value counts for the 'Pharmacy Name' column, limit to top 25, and sort by frequency\n",
    "top_pharmacies = pharmacies['Pharmacy Name'].value_counts().head(25).sort_values(ascending=True)\n",
    "\n",
    "# Create the horizontal bar chart\n",
    "plt.figure(figsize=(12, 8))\n",
    "plt.barh(top_pharmacies.index, top_pharmacies.values, color='skyblue', edgecolor='black')\n",
    "\n",
    "# Add labels and title\n",
    "plt.title('Top 25 Pharmacy Names by Frequency', fontsize=16)\n",
    "plt.xlabel('Count of Pharmacy Name', fontsize=14)\n",
    "plt.ylabel('Pharmacy Name', fontsize=14)\n",
    "\n",
    "# Annotate bars with the count values\n",
    "for index, value in enumerate(top_pharmacies.values):\n",
    "    plt.text(value + 0.5, index, str(value), va='center', fontsize=10)\n",
    "\n",
    "# Adjust layout for readability\n",
    "plt.tight_layout()\n",
    "\n",
    "plt.show()\n"
   ],
   "id": "66bc675dfc563492",
   "execution_count": 104,
   "outputs": []
  },
  {
   "metadata": {
    "ExecuteTime": {
     "end_time": "2024-11-26T02:52:25.828270Z",
     "start_time": "2024-11-26T02:52:25.672352Z"
    }
   },
   "cell_type": "code",
   "source": [
    "import matplotlib.pyplot as plt\n",
    "\n",
    "# Calculate the number of unique values for each column\n",
    "unique_counts = pharmacies.nunique()\n",
    "\n",
    "# Sort the unique counts for better visualization (optional)\n",
    "unique_counts = unique_counts.sort_values(ascending=False)\n",
    "\n",
    "# Create the horizontal bar chart\n",
    "plt.figure(figsize=(12, 8))\n",
    "plt.barh(unique_counts.index, unique_counts.values, color='skyblue', edgecolor='black')\n",
    "\n",
    "# Add labels and title\n",
    "plt.title('Number of Unique Values per Column', fontsize=16)\n",
    "plt.xlabel('Number of Unique Values', fontsize=14)\n",
    "plt.ylabel('Columns', fontsize=14)\n",
    "\n",
    "# Annotate bars with the unique count values\n",
    "for index, value in enumerate(unique_counts.values):\n",
    "    plt.text(value + 0.5, index, str(value), va='center', fontsize=10)\n",
    "\n",
    "# Adjust layout for readability\n",
    "plt.tight_layout()\n",
    "\n",
    "plt.show()\n"
   ],
   "id": "fe34054778c043ee",
   "execution_count": 100,
   "outputs": []
  },
  {
   "metadata": {
    "ExecuteTime": {
     "end_time": "2024-11-26T02:46:46.019072Z",
     "start_time": "2024-11-26T02:46:45.941894Z"
    }
   },
   "cell_type": "code",
   "source": [
    "#Create a histogram of the License Status distribution\n",
    "pharmacies['License Status'].hist(bins=20)\n",
    "plt.title('Histogram of License Status')\n",
    "plt.xlabel('Status')\n",
    "plt.ylabel('Count')\n",
    "plt.show()"
   ],
   "id": "d844be90fc234452",
   "execution_count": 96,
   "outputs": []
  },
  {
   "metadata": {
    "ExecuteTime": {
     "end_time": "2024-11-26T03:02:00.977980Z",
     "start_time": "2024-11-26T03:02:00.798275Z"
    }
   },
   "cell_type": "code",
   "source": [
    "# Group by year and month for a time series plot\n",
    "pharmacies['Expiration Date'] = pd.to_datetime(pharmacies['Expiration Date'], errors='coerce')\n",
    "\n",
    "pharmacies['Expiration Month'] = pharmacies['Expiration Date'].dt.to_period('M')\n",
    "\n",
    "# Count number of expirations per month\n",
    "expiration_by_month = pharmacies['Expiration Month'].value_counts().sort_index()\n",
    "\n",
    "# Plot the time series of expirations by month\n",
    "plt.figure(figsize=(12, 6))\n",
    "expiration_by_month.plot(kind='line', marker='o', color='skyblue')\n",
    "\n",
    "# Add title and labels\n",
    "plt.title('Number of Expirations per Month', fontsize=16)\n",
    "plt.xlabel('Month', fontsize=14)\n",
    "plt.ylabel('Number of Expirations', fontsize=14)\n",
    "\n",
    "# Improve layout\n",
    "plt.tight_layout()\n",
    "plt.show()\n"
   ],
   "id": "f8bdb2acd3cbd725",
   "execution_count": 118,
   "outputs": []
  },
  {
   "metadata": {
    "ExecuteTime": {
     "end_time": "2024-11-26T03:11:50.478331Z",
     "start_time": "2024-11-26T03:08:30.436277Z"
    }
   },
   "cell_type": "code",
   "source": "pip install plotly",
   "id": "2623e30d876219d1",
   "execution_count": 127,
   "outputs": []
  },
  {
   "metadata": {
    "ExecuteTime": {
     "end_time": "2024-11-26T03:12:18.862989Z",
     "start_time": "2024-11-26T03:12:16.575996Z"
    }
   },
   "cell_type": "code",
   "source": [
    "# Example aggregation: Count the number of pharmacies by state\n",
    "pharmacies_by_state = pharmacies['State'].value_counts()\n",
    "pharmacies_by_state = pharmacies_by_state.reset_index()\n",
    "pharmacies_by_state.columns = ['State', 'Count']\n",
    "\n",
    "print(pharmacies_by_state.head())\n",
    "\n",
    "import plotly.express as px\n",
    "\n",
    "# Create the choropleth map\n",
    "fig = px.choropleth(\n",
    "    pharmacies_by_state,\n",
    "    locations='State',          # Column containing state abbreviations\n",
    "    locationmode='USA-states',  # Use USA state codes\n",
    "    color='Count',              # Metric to color by\n",
    "    color_continuous_scale='Blues',  # Color scale\n",
    "    scope='usa',                # Focus on the USA\n",
    "    title='Pharmacies by State'\n",
    ")\n",
    "\n",
    "# Display the figure\n",
    "fig.show()\n"
   ],
   "id": "a6719aa349014054",
   "execution_count": 128,
   "outputs": []
  },
  {
   "metadata": {
    "ExecuteTime": {
     "end_time": "2024-11-26T03:17:08.026179Z",
     "start_time": "2024-11-26T03:17:07.996886Z"
    }
   },
   "cell_type": "code",
   "source": [
    "# Full state name to abbreviation mapping\n",
    "state_name_to_abbrev = {\n",
    "    'Alabama': 'AL', 'Alaska': 'AK', 'Arizona': 'AZ', 'Arkansas': 'AR', 'California': 'CA',\n",
    "    'Colorado': 'CO', 'Connecticut': 'CT', 'Delaware': 'DE', 'Florida': 'FL', 'Georgia': 'GA',\n",
    "    'Hawaii': 'HI', 'Idaho': 'ID', 'Illinois': 'IL', 'Indiana': 'IN', 'Iowa': 'IA',\n",
    "    'Kansas': 'KS', 'Kentucky': 'KY', 'Louisiana': 'LA', 'Maine': 'ME', 'Maryland': 'MD',\n",
    "    'Massachusetts': 'MA', 'Michigan': 'MI', 'Minnesota': 'MN', 'Mississippi': 'MS', 'Missouri': 'MO',\n",
    "    'Montana': 'MT', 'Nebraska': 'NE', 'Nevada': 'NV', 'New Hampshire': 'NH', 'New Jersey': 'NJ',\n",
    "    'New Mexico': 'NM', 'New York': 'NY', 'North Carolina': 'NC', 'North Dakota': 'ND', 'Ohio': 'OH',\n",
    "    'Oklahoma': 'OK', 'Oregon': 'OR', 'Pennsylvania': 'PA', 'Rhode Island': 'RI', 'South Carolina': 'SC',\n",
    "    'South Dakota': 'SD', 'Tennessee': 'TN', 'Texas': 'TX', 'Utah': 'UT', 'Vermont': 'VT',\n",
    "    'Virginia': 'VA', 'Washington': 'WA', 'West Virginia': 'WV', 'Wisconsin': 'WI', 'Wyoming': 'WY',\n",
    "}\n",
    "\n",
    "# Add state abbreviations to the DataFrame\n",
    "pharmacies_by_state['Abbreviation'] = pharmacies_by_state['State'].map(state_name_to_abbrev)\n",
    "\n",
    "import plotly.express as px\n",
    "\n",
    "# Create the choropleth map\n",
    "fig = px.choropleth(\n",
    "    pharmacies_by_state,\n",
    "    locations='Abbreviation',     # Column with state abbreviations\n",
    "    locationmode='USA-states',    # Use USA state codes\n",
    "    color='Count',                # Metric to color by\n",
    "    color_continuous_scale='Blues',  # Color scale\n",
    "    scope='usa',                  # Focus on the USA\n",
    "    title='Pharmacies by State'\n",
    ")\n",
    "\n",
    "# Display the figure\n",
    "fig.show()\n",
    "\n"
   ],
   "id": "39bff71688af381b",
   "execution_count": 134,
   "outputs": []
  },
  {
   "metadata": {
    "ExecuteTime": {
     "end_time": "2024-11-26T03:19:13.445833Z",
     "start_time": "2024-11-26T03:19:10.654439Z"
    }
   },
   "cell_type": "code",
   "source": "pip install pgeocode",
   "id": "2e0d1dff954082b7",
   "execution_count": 136,
   "outputs": []
  },
  {
   "metadata": {
    "ExecuteTime": {
     "end_time": "2024-11-26T03:24:24.205724Z",
     "start_time": "2024-11-26T03:24:21.357950Z"
    }
   },
   "cell_type": "code",
   "source": [
    "import pgeocode\n",
    "import pandas as pd\n",
    "import plotly.express as px\n",
    "\n",
    "# Filter for California\n",
    "pharmacies_in_california = pharmacies[pharmacies['State'] == 'California']\n",
    "\n",
    "# Count the number of pharmacies per Zip code\n",
    "pharmacies_by_zip = pharmacies_in_california['Zip'].value_counts().reset_index()\n",
    "pharmacies_by_zip.columns = ['Zip', 'Count']\n",
    "\n",
    "# Get latitude and longitude for each Zip code using pgeocode\n",
    "nomi = pgeocode.Nominatim('us')\n",
    "\n",
    "# Extract lat/lon for each Zip\n",
    "latitudes = []\n",
    "longitudes = []\n",
    "for zip_code in pharmacies_by_zip['Zip']:\n",
    "    geo_info = nomi.query_postal_code(zip_code)\n",
    "    if geo_info.latitude and geo_info.longitude:\n",
    "        latitudes.append(geo_info.latitude)\n",
    "        longitudes.append(geo_info.longitude)\n",
    "    else:\n",
    "        latitudes.append(None)\n",
    "        longitudes.append(None)\n",
    "\n",
    "# Add lat/lon to DataFrame\n",
    "pharmacies_by_zip['Latitude'] = latitudes\n",
    "pharmacies_by_zip['Longitude'] = longitudes\n",
    "\n",
    "# Drop rows where lat/lon are missing (invalid or unrecognized Zip codes)\n",
    "pharmacies_by_zip.dropna(subset=['Latitude', 'Longitude'], inplace=True)\n",
    "\n",
    "# Debug: Print out the first few rows to verify lat/lon\n",
    "print(pharmacies_by_zip.head())\n",
    "\n",
    "# Create scatter geo plot focused on California\n",
    "fig = px.scatter_geo(\n",
    "    pharmacies_by_zip,\n",
    "    lat='Latitude',\n",
    "    lon='Longitude',\n",
    "    size='Count',  # Size of the point represents the number of pharmacies\n",
    "    hover_name='Zip',  # Hover shows the Zip code\n",
    "    title='Pharmacies Distribution by Zip in California',\n",
    "    color='Count',  # Color points by count\n",
    "    color_continuous_scale='Blues',\n",
    "    scope='usa'  # Keep USA scope for state outlines\n",
    ")\n",
    "\n",
    "# Update the map to zoom into California (latitude/longitude boundaries)\n",
    "fig.update_geos(\n",
    "    visible=False,  # Remove national boundaries\n",
    "    resolution=50,  # Higher resolution for better detail\n",
    "    projection_type=\"mercator\",  # Mercator projection for detailed zoom\n",
    "    center={\"lat\": 37.5, \"lon\": -119.5},  # Approximate geographic center of California\n",
    "    lataxis_range=[32, 42],  # Latitude bounds for California\n",
    "    lonaxis_range=[-125, -114],  # Longitude bounds for California\n",
    ")\n",
    "\n",
    "# Show the plot\n",
    "fig.show()\n"
   ],
   "id": "4a7ba412f08ff8df",
   "execution_count": 145,
   "outputs": []
  },
  {
   "metadata": {
    "ExecuteTime": {
     "end_time": "2024-11-26T03:25:10.047128Z",
     "start_time": "2024-11-26T03:25:06.966520Z"
    }
   },
   "cell_type": "code",
   "source": [
    "import pgeocode\n",
    "import pandas as pd\n",
    "import plotly.express as px\n",
    "\n",
    "# Filter for California\n",
    "pharmacies_in_california = pharmacies[pharmacies['State'] == 'California']\n",
    "\n",
    "# Count the number of pharmacies per Zip code\n",
    "pharmacies_by_zip = pharmacies_in_california['Zip'].value_counts().reset_index()\n",
    "pharmacies_by_zip.columns = ['Zip', 'Count']\n",
    "\n",
    "# Get latitude and longitude for each Zip code using pgeocode\n",
    "nomi = pgeocode.Nominatim('us')\n",
    "\n",
    "# Extract lat/lon for each Zip\n",
    "latitudes = []\n",
    "longitudes = []\n",
    "for zip_code in pharmacies_by_zip['Zip']:\n",
    "    geo_info = nomi.query_postal_code(zip_code)\n",
    "    if geo_info.latitude and geo_info.longitude:\n",
    "        latitudes.append(geo_info.latitude)\n",
    "        longitudes.append(geo_info.longitude)\n",
    "    else:\n",
    "        latitudes.append(None)\n",
    "        longitudes.append(None)\n",
    "\n",
    "# Add lat/lon to DataFrame\n",
    "pharmacies_by_zip['Latitude'] = latitudes\n",
    "pharmacies_by_zip['Longitude'] = longitudes\n",
    "\n",
    "# Drop rows where lat/lon are missing (invalid or unrecognized Zip codes)\n",
    "pharmacies_by_zip.dropna(subset=['Latitude', 'Longitude'], inplace=True)\n",
    "\n",
    "# Check if DataFrame is empty after dropping invalid rows\n",
    "print(f\"Data points left for plotting: {len(pharmacies_by_zip)}\")\n",
    "print(pharmacies_by_zip.head())  # Optional: Print first few rows to verify lat/lon\n",
    "\n",
    "# Ensure lat/lon are numeric (float) for plotting\n",
    "pharmacies_by_zip['Latitude'] = pd.to_numeric(pharmacies_by_zip['Latitude'], errors='coerce')\n",
    "pharmacies_by_zip['Longitude'] = pd.to_numeric(pharmacies_by_zip['Longitude'], errors='coerce')\n",
    "\n",
    "# Basic scatter geo plot (without specific zoom settings)\n",
    "fig = px.scatter_geo(\n",
    "    pharmacies_by_zip,\n",
    "    lat='Latitude',\n",
    "    lon='Longitude',\n",
    "    size='Count',  # Size of the point represents the number of pharmacies\n",
    "    hover_name='Zip',  # Hover shows the Zip code\n",
    "    title='Pharmacies Distribution by Zip in California',\n",
    "    color='Count',  # Color points by count\n",
    "    color_continuous_scale='Blues',\n",
    "    scope='usa',  # Keep USA scope for state outlines\n",
    ")\n",
    "\n",
    "# Show the plot\n",
    "fig.show()\n"
   ],
   "id": "eded45a5178a8d11",
   "execution_count": 146,
   "outputs": []
  },
  {
   "metadata": {
    "ExecuteTime": {
     "end_time": "2024-11-26T03:26:41.292041Z",
     "start_time": "2024-11-26T03:26:38.096515Z"
    }
   },
   "cell_type": "code",
   "source": [
    "import pgeocode\n",
    "import pandas as pd\n",
    "import plotly.express as px\n",
    "\n",
    "# Filter for California\n",
    "pharmacies_in_california = pharmacies[pharmacies['State'] == 'California']\n",
    "\n",
    "# Count the number of pharmacies per Zip code\n",
    "pharmacies_by_zip = pharmacies_in_california['Zip'].value_counts().reset_index()\n",
    "pharmacies_by_zip.columns = ['Zip', 'Count']\n",
    "\n",
    "# Get latitude and longitude for each Zip code using pgeocode\n",
    "nomi = pgeocode.Nominatim('us')\n",
    "\n",
    "# Extract lat/lon for each Zip\n",
    "latitudes = []\n",
    "longitudes = []\n",
    "for zip_code in pharmacies_by_zip['Zip']:\n",
    "    geo_info = nomi.query_postal_code(zip_code)\n",
    "    if geo_info.latitude and geo_info.longitude:\n",
    "        latitudes.append(geo_info.latitude)\n",
    "        longitudes.append(geo_info.longitude)\n",
    "    else:\n",
    "        latitudes.append(None)\n",
    "        longitudes.append(None)\n",
    "\n",
    "# Add lat/lon to DataFrame\n",
    "pharmacies_by_zip['Latitude'] = latitudes\n",
    "pharmacies_by_zip['Longitude'] = longitudes\n",
    "\n",
    "# Drop rows where lat/lon are missing (invalid or unrecognized Zip codes)\n",
    "pharmacies_by_zip.dropna(subset=['Latitude', 'Longitude'], inplace=True)\n",
    "\n",
    "# Check if DataFrame is empty after dropping invalid rows\n",
    "print(f\"Data points left for plotting: {len(pharmacies_by_zip)}\")\n",
    "print(pharmacies_by_zip.head())  # Optional: Print first few rows to verify lat/lon\n",
    "\n",
    "# Ensure lat/lon are numeric (float) for plotting\n",
    "pharmacies_by_zip['Latitude'] = pd.to_numeric(pharmacies_by_zip['Latitude'], errors='coerce')\n",
    "pharmacies_by_zip['Longitude'] = pd.to_numeric(pharmacies_by_zip['Longitude'], errors='coerce')\n",
    "\n",
    "# Create scatter geo plot focused on California\n",
    "fig = px.scatter_geo(\n",
    "    pharmacies_by_zip,\n",
    "    lat='Latitude',\n",
    "    lon='Longitude',\n",
    "    size='Count',  # Size of the point represents the number of pharmacies\n",
    "    hover_name='Zip',  # Hover shows the Zip code\n",
    "    title='Pharmacies Distribution by Zip in California',\n",
    "    color='Count',  # Color points by count\n",
    "    color_continuous_scale='Blues'\n",
    ")\n",
    "\n",
    "# Update the map to zoom into California (latitude/longitude boundaries)\n",
    "fig.update_geos(\n",
    "    visible=True,  # Keep state boundaries visible\n",
    "    resolution=50,  # Higher resolution for better detail\n",
    "    projection_type=\"mercator\",  # Mercator projection for detailed zoom\n",
    "    center={\"lat\": 37.5, \"lon\": -119.5},  # Approximate geographic center of California\n",
    "    lataxis_range=[32, 42],  # Latitude bounds for California\n",
    "    lonaxis_range=[-125, -114],  # Longitude bounds for California\n",
    ")\n",
    "\n",
    "# Show the plot\n",
    "fig.show()\n"
   ],
   "id": "f90c47243f10693",
   "execution_count": 148,
   "outputs": []
  },
  {
   "metadata": {
    "ExecuteTime": {
     "end_time": "2024-11-26T03:27:34.425141Z",
     "start_time": "2024-11-26T03:27:31.290962Z"
    }
   },
   "cell_type": "code",
   "source": [
    "import pgeocode\n",
    "import pandas as pd\n",
    "import plotly.express as px\n",
    "\n",
    "# Filter for California\n",
    "pharmacies_in_california = pharmacies[pharmacies['State'] == 'California']\n",
    "\n",
    "# Count the number of pharmacies per Zip code\n",
    "pharmacies_by_zip = pharmacies_in_california['Zip'].value_counts().reset_index()\n",
    "pharmacies_by_zip.columns = ['Zip', 'Count']\n",
    "\n",
    "# Get latitude and longitude for each Zip code using pgeocode\n",
    "nomi = pgeocode.Nominatim('us')\n",
    "\n",
    "# Extract lat/lon for each Zip\n",
    "latitudes = []\n",
    "longitudes = []\n",
    "for zip_code in pharmacies_by_zip['Zip']:\n",
    "    geo_info = nomi.query_postal_code(zip_code)\n",
    "    if geo_info.latitude and geo_info.longitude:\n",
    "        latitudes.append(geo_info.latitude)\n",
    "        longitudes.append(geo_info.longitude)\n",
    "    else:\n",
    "        latitudes.append(None)\n",
    "        longitudes.append(None)\n",
    "\n",
    "# Add lat/lon to DataFrame\n",
    "pharmacies_by_zip['Latitude'] = latitudes\n",
    "pharmacies_by_zip['Longitude'] = longitudes\n",
    "\n",
    "# Drop rows where lat/lon are missing (invalid or unrecognized Zip codes)\n",
    "pharmacies_by_zip.dropna(subset=['Latitude', 'Longitude'], inplace=True)\n",
    "\n",
    "# Check if DataFrame is empty after dropping invalid rows\n",
    "print(f\"Data points left for plotting: {len(pharmacies_by_zip)}\")\n",
    "print(pharmacies_by_zip.head())  # Optional: Print first few rows to verify lat/lon\n",
    "\n",
    "# Ensure lat/lon are numeric (float) for plotting\n",
    "pharmacies_by_zip['Latitude'] = pd.to_numeric(pharmacies_by_zip['Latitude'], errors='coerce')\n",
    "pharmacies_by_zip['Longitude'] = pd.to_numeric(pharmacies_by_zip['Longitude'], errors='coerce')\n",
    "\n",
    "# Create scatter geo plot focused on California\n",
    "fig = px.scatter_geo(\n",
    "    pharmacies_by_zip,\n",
    "    lat='Latitude',\n",
    "    lon='Longitude',\n",
    "    size='Count',  # Size of the point represents the number of pharmacies\n",
    "    hover_name='Zip',  # Hover shows the Zip code\n",
    "    title='Pharmacies Distribution by Zip in California',\n",
    "    color='Count',  # Color points by count\n",
    "    color_continuous_scale='Blues',  # This can be modified for better contrast\n",
    ")\n",
    "\n",
    "# Update the map to zoom into California and adjust colors\n",
    "fig.update_geos(\n",
    "    visible=True,  # Keep state boundaries visible\n",
    "    resolution=50,  # Higher resolution for better detail\n",
    "    projection_type=\"mercator\",  # Mercator projection for detailed zoom\n",
    "    center={\"lat\": 37.5, \"lon\": -119.5},  # Approximate geographic center of California\n",
    "    lataxis_range=[32, 42],  # Latitude bounds for California\n",
    "    lonaxis_range=[-125, -114],  # Longitude bounds for California\n",
    "    landcolor=\"#f5e1a4\",  # Set land color to light straw (beige) color\n",
    "    showcoastlines=True,\n",
    "    coastlinecolor=\"black\",  # Black coastline for better contrast\n",
    ")\n",
    "\n",
    "# Show the plot\n",
    "fig.show()\n"
   ],
   "id": "97fed80e5a20e89c",
   "execution_count": 149,
   "outputs": []
  },
  {
   "metadata": {
    "ExecuteTime": {
     "end_time": "2024-11-26T03:30:02.650704Z",
     "start_time": "2024-11-26T03:30:02.643824Z"
    }
   },
   "cell_type": "code",
   "source": [
    "# Print the column names and inspect the structure\n",
    "print(county_geo.columns)\n",
    "print(county_geo.head())"
   ],
   "id": "20af7c2e71a584bf",
   "execution_count": 152,
   "outputs": []
  },
  {
   "metadata": {},
   "cell_type": "code",
   "execution_count": null,
   "source": "",
   "id": "abb28732fd2a3ae6",
   "outputs": []
  }
 ],
 "metadata": {
  "kernelspec": {
   "display_name": "Python 3",
   "language": "python",
   "name": "python3"
  },
  "language_info": {
   "codemirror_mode": {
    "name": "ipython",
    "version": 2
   },
   "file_extension": ".py",
   "mimetype": "text/x-python",
   "name": "python",
   "nbconvert_exporter": "python",
   "pygments_lexer": "ipython2",
   "version": "2.7.6"
  }
 },
 "nbformat": 4,
 "nbformat_minor": 5
}
