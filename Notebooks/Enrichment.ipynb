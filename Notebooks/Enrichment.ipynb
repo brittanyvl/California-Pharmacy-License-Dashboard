{
 "cells": [
  {
   "metadata": {},
   "cell_type": "markdown",
   "source": "# California Clear Sterile Compound License Enrichment",
   "id": "20b7dc1a264ad5bf"
  },
  {
   "metadata": {},
   "cell_type": "markdown",
   "source": "## Notebook Config",
   "id": "544f0c3fe2e926f6"
  },
  {
   "metadata": {
    "ExecuteTime": {
     "end_time": "2024-12-27T00:52:34.036139Z",
     "start_time": "2024-12-27T00:52:34.030897Z"
    }
   },
   "cell_type": "code",
   "source": [
    "import pandas as pd\n",
    "import re \n",
    "\n",
    "\n",
    "\n",
    "# Set pandas to display more rows/columns for wider dataframes\n",
    "pd.set_option('display.max_columns', None)  # Show all columns\n",
    "pd.set_option('display.max_rows', 100)     # Adjust rows\n",
    "pd.set_option('display.width', 1000)       # Increase width for better visibility"
   ],
   "id": "786a3a42f35dcbc4",
   "outputs": [],
   "execution_count": 14
  },
  {
   "metadata": {
    "ExecuteTime": {
     "end_time": "2024-12-27T00:52:34.681011Z",
     "start_time": "2024-12-27T00:52:34.671866Z"
    }
   },
   "cell_type": "code",
   "source": [
    "# Load Data\n",
    "pharmacies = pd.read_csv(\"all_pharmacies.csv\", dtype=str)\n",
    "# Convert ExpiratioN Date to Date\n",
    "pharmacies['Expiration Date'] = pd.to_datetime(pharmacies['Expiration Date'])"
   ],
   "id": "7120c7872263afa5",
   "outputs": [],
   "execution_count": 15
  },
  {
   "metadata": {
    "ExecuteTime": {
     "end_time": "2024-12-27T00:53:18.304103Z",
     "start_time": "2024-12-27T00:53:18.279684Z"
    }
   },
   "cell_type": "code",
   "source": "zips = pd.read_csv(\"zip_lat_long.csv\", dtype=str)",
   "id": "5310ab44a081bbf8",
   "outputs": [],
   "execution_count": 21
  },
  {
   "metadata": {},
   "cell_type": "markdown",
   "source": "## Enrich Location Data",
   "id": "458a5ec4a2597b6c"
  },
  {
   "metadata": {
    "ExecuteTime": {
     "end_time": "2024-12-27T00:55:57.286232Z",
     "start_time": "2024-12-27T00:55:57.282434Z"
    }
   },
   "cell_type": "code",
   "source": [
    "def get_lat_lon(df_to_edit: pd.DataFrame, df_with_zips: pd.DataFrame) -> pd.DataFrame:\n",
    "    merged_df = df_to_edit.merge(df_with_zips, on='Zip', how=\"left\")\n",
    "    return merged_df"
   ],
   "id": "7e1bfdf41299cf0e",
   "outputs": [],
   "execution_count": 31
  },
  {
   "metadata": {
    "ExecuteTime": {
     "end_time": "2024-12-27T00:55:57.746170Z",
     "start_time": "2024-12-27T00:55:57.733325Z"
    }
   },
   "cell_type": "code",
   "source": [
    "pharmacies = get_lat_lon(pharmacies, zips)\n",
    "pharmacies.head()"
   ],
   "id": "b55e69d5ff27c9e0",
   "outputs": [
    {
     "data": {
      "text/plain": [
       "                  Pharmacy Name License Number                              License Type License Status Expiration Date        City         State        County    Zip        LAT         LONG\n",
       "0  986 INFUSION PHARMACY #1 INC     LSC 101414              Sterile Compounding Pharmacy          CLEAR      2025-07-01     ANAHEIM    California        ORANGE  92807  33.848733  -117.788357\n",
       "1      A & O SPECIALTY PHARMACY     LSC 101817              Sterile Compounding Pharmacy          CLEAR      2025-03-01     SALINAS    California      MONTEREY  93901  36.636344  -121.623978\n",
       "2      ACCREDO HEALTH GROUP INC     NSC 101280  Nonresident Sterile Compounding Pharmacy          CLEAR      2025-12-01  WARRENDALE  Pennsylvania  OUT OF STATE  15086  40.674947   -80.106364\n",
       "3      ACCREDO HEALTH GROUP INC     NSC 101279  Nonresident Sterile Compounding Pharmacy          CLEAR      2025-12-01     ORLANDO       Florida  OUT OF STATE  32822  28.489898   -81.290154\n",
       "4         ADVANCE CARE PHARMACY      LSC 99611              Sterile Compounding Pharmacy          CLEAR      2025-07-01   ESCONDIDO    California     SAN DIEGO  92025  33.102005  -117.080419"
      ],
      "text/html": [
       "<div>\n",
       "<style scoped>\n",
       "    .dataframe tbody tr th:only-of-type {\n",
       "        vertical-align: middle;\n",
       "    }\n",
       "\n",
       "    .dataframe tbody tr th {\n",
       "        vertical-align: top;\n",
       "    }\n",
       "\n",
       "    .dataframe thead th {\n",
       "        text-align: right;\n",
       "    }\n",
       "</style>\n",
       "<table border=\"1\" class=\"dataframe\">\n",
       "  <thead>\n",
       "    <tr style=\"text-align: right;\">\n",
       "      <th></th>\n",
       "      <th>Pharmacy Name</th>\n",
       "      <th>License Number</th>\n",
       "      <th>License Type</th>\n",
       "      <th>License Status</th>\n",
       "      <th>Expiration Date</th>\n",
       "      <th>City</th>\n",
       "      <th>State</th>\n",
       "      <th>County</th>\n",
       "      <th>Zip</th>\n",
       "      <th>LAT</th>\n",
       "      <th>LONG</th>\n",
       "    </tr>\n",
       "  </thead>\n",
       "  <tbody>\n",
       "    <tr>\n",
       "      <th>0</th>\n",
       "      <td>986 INFUSION PHARMACY #1 INC</td>\n",
       "      <td>LSC 101414</td>\n",
       "      <td>Sterile Compounding Pharmacy</td>\n",
       "      <td>CLEAR</td>\n",
       "      <td>2025-07-01</td>\n",
       "      <td>ANAHEIM</td>\n",
       "      <td>California</td>\n",
       "      <td>ORANGE</td>\n",
       "      <td>92807</td>\n",
       "      <td>33.848733</td>\n",
       "      <td>-117.788357</td>\n",
       "    </tr>\n",
       "    <tr>\n",
       "      <th>1</th>\n",
       "      <td>A &amp; O SPECIALTY PHARMACY</td>\n",
       "      <td>LSC 101817</td>\n",
       "      <td>Sterile Compounding Pharmacy</td>\n",
       "      <td>CLEAR</td>\n",
       "      <td>2025-03-01</td>\n",
       "      <td>SALINAS</td>\n",
       "      <td>California</td>\n",
       "      <td>MONTEREY</td>\n",
       "      <td>93901</td>\n",
       "      <td>36.636344</td>\n",
       "      <td>-121.623978</td>\n",
       "    </tr>\n",
       "    <tr>\n",
       "      <th>2</th>\n",
       "      <td>ACCREDO HEALTH GROUP INC</td>\n",
       "      <td>NSC 101280</td>\n",
       "      <td>Nonresident Sterile Compounding Pharmacy</td>\n",
       "      <td>CLEAR</td>\n",
       "      <td>2025-12-01</td>\n",
       "      <td>WARRENDALE</td>\n",
       "      <td>Pennsylvania</td>\n",
       "      <td>OUT OF STATE</td>\n",
       "      <td>15086</td>\n",
       "      <td>40.674947</td>\n",
       "      <td>-80.106364</td>\n",
       "    </tr>\n",
       "    <tr>\n",
       "      <th>3</th>\n",
       "      <td>ACCREDO HEALTH GROUP INC</td>\n",
       "      <td>NSC 101279</td>\n",
       "      <td>Nonresident Sterile Compounding Pharmacy</td>\n",
       "      <td>CLEAR</td>\n",
       "      <td>2025-12-01</td>\n",
       "      <td>ORLANDO</td>\n",
       "      <td>Florida</td>\n",
       "      <td>OUT OF STATE</td>\n",
       "      <td>32822</td>\n",
       "      <td>28.489898</td>\n",
       "      <td>-81.290154</td>\n",
       "    </tr>\n",
       "    <tr>\n",
       "      <th>4</th>\n",
       "      <td>ADVANCE CARE PHARMACY</td>\n",
       "      <td>LSC 99611</td>\n",
       "      <td>Sterile Compounding Pharmacy</td>\n",
       "      <td>CLEAR</td>\n",
       "      <td>2025-07-01</td>\n",
       "      <td>ESCONDIDO</td>\n",
       "      <td>California</td>\n",
       "      <td>SAN DIEGO</td>\n",
       "      <td>92025</td>\n",
       "      <td>33.102005</td>\n",
       "      <td>-117.080419</td>\n",
       "    </tr>\n",
       "  </tbody>\n",
       "</table>\n",
       "</div>"
      ]
     },
     "execution_count": 32,
     "metadata": {},
     "output_type": "execute_result"
    }
   ],
   "execution_count": 32
  },
  {
   "metadata": {},
   "cell_type": "code",
   "outputs": [],
   "execution_count": null,
   "source": [
    "def update_state_to_abbreviation(df):\n",
    "\n",
    "    state_name_to_abbrev = {\n",
    "        'Alabama': 'AL', 'Alaska': 'AK', 'Arizona': 'AZ', 'Arkansas': 'AR', 'California': 'CA',\n",
    "        'Colorado': 'CO', 'Connecticut': 'CT', 'Delaware': 'DE', 'Florida': 'FL', 'Georgia': 'GA',\n",
    "        'Hawaii': 'HI', 'Idaho': 'ID', 'Illinois': 'IL', 'Indiana': 'IN', 'Iowa': 'IA',\n",
    "        'Kansas': 'KS', 'Kentucky': 'KY', 'Louisiana': 'LA', 'Maine': 'ME', 'Maryland': 'MD',\n",
    "        'Massachusetts': 'MA', 'Michigan': 'MI', 'Minnesota': 'MN', 'Mississippi': 'MS', 'Missouri': 'MO',\n",
    "        'Montana': 'MT', 'Nebraska': 'NE', 'Nevada': 'NV', 'New Hampshire': 'NH', 'New Jersey': 'NJ',\n",
    "        'New Mexico': 'NM', 'New York': 'NY', 'North Carolina': 'NC', 'North Dakota': 'ND', 'Ohio': 'OH',\n",
    "        'Oklahoma': 'OK', 'Oregon': 'OR', 'Pennsylvania': 'PA', 'Rhode Island': 'RI', 'South Carolina': 'SC',\n",
    "        'South Dakota': 'SD', 'Tennessee': 'TN', 'Texas': 'TX', 'Utah': 'UT', 'Vermont': 'VT',\n",
    "        'Virginia': 'VA', 'Washington': 'WA', 'West Virginia': 'WV', 'Wisconsin': 'WI', 'Wyoming': 'WY',\n",
    "    }\n",
    "    df[state_column] = df[state_column].map(state_name_to_abbrev)\n",
    "    return df\n"
   ],
   "id": "aebeff49b339a202"
  },
  {
   "metadata": {},
   "cell_type": "code",
   "outputs": [],
   "execution_count": null,
   "source": [
    "pharmacies = update_state_to_abbreviation(pharmacies, zips)\n",
    "pharmacies.head()"
   ],
   "id": "25df8c7fb552df54"
  }
 ],
 "metadata": {
  "kernelspec": {
   "display_name": "Python 3",
   "language": "python",
   "name": "python3"
  },
  "language_info": {
   "codemirror_mode": {
    "name": "ipython",
    "version": 2
   },
   "file_extension": ".py",
   "mimetype": "text/x-python",
   "name": "python",
   "nbconvert_exporter": "python",
   "pygments_lexer": "ipython2",
   "version": "2.7.6"
  }
 },
 "nbformat": 4,
 "nbformat_minor": 5
}
