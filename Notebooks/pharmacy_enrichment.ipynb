{
 "cells": [
  {
   "metadata": {},
   "cell_type": "markdown",
   "source": [
    "# Pharmacy Data Enrichment\n",
    "This notebook is for exploring how to best enrich data collected from the state database for additional insights. "
   ],
   "id": "e7936f113d7ad57a"
  },
  {
   "metadata": {},
   "cell_type": "markdown",
   "source": "## Notebook Configuration",
   "id": "6040ec6f79b5c9b7"
  },
  {
   "metadata": {
    "ExecuteTime": {
     "end_time": "2024-12-08T21:50:34.829667Z",
     "start_time": "2024-12-08T21:50:31.603162Z"
    }
   },
   "cell_type": "code",
   "source": [
    "!pip install geopandas\n",
    "!pip install geopy"
   ],
   "id": "c85617bdcc35bde6",
   "outputs": [
    {
     "name": "stdout",
     "output_type": "stream",
     "text": [
      "Requirement already satisfied: geopandas in c:\\users\\bvlma\\pycharmprojects\\california-pharmacy-license-dashboard\\.venv\\lib\\site-packages (1.0.1)\n",
      "Requirement already satisfied: numpy>=1.22 in c:\\users\\bvlma\\pycharmprojects\\california-pharmacy-license-dashboard\\.venv\\lib\\site-packages (from geopandas) (2.1.3)\n",
      "Requirement already satisfied: pyogrio>=0.7.2 in c:\\users\\bvlma\\pycharmprojects\\california-pharmacy-license-dashboard\\.venv\\lib\\site-packages (from geopandas) (0.10.0)\n",
      "Requirement already satisfied: packaging in c:\\users\\bvlma\\pycharmprojects\\california-pharmacy-license-dashboard\\.venv\\lib\\site-packages (from geopandas) (24.2)\n",
      "Requirement already satisfied: pandas>=1.4.0 in c:\\users\\bvlma\\pycharmprojects\\california-pharmacy-license-dashboard\\.venv\\lib\\site-packages (from geopandas) (2.2.3)\n",
      "Requirement already satisfied: pyproj>=3.3.0 in c:\\users\\bvlma\\pycharmprojects\\california-pharmacy-license-dashboard\\.venv\\lib\\site-packages (from geopandas) (3.7.0)\n",
      "Requirement already satisfied: shapely>=2.0.0 in c:\\users\\bvlma\\pycharmprojects\\california-pharmacy-license-dashboard\\.venv\\lib\\site-packages (from geopandas) (2.0.6)\n",
      "Requirement already satisfied: python-dateutil>=2.8.2 in c:\\users\\bvlma\\pycharmprojects\\california-pharmacy-license-dashboard\\.venv\\lib\\site-packages (from pandas>=1.4.0->geopandas) (2.9.0.post0)\n",
      "Requirement already satisfied: pytz>=2020.1 in c:\\users\\bvlma\\pycharmprojects\\california-pharmacy-license-dashboard\\.venv\\lib\\site-packages (from pandas>=1.4.0->geopandas) (2024.2)\n",
      "Requirement already satisfied: tzdata>=2022.7 in c:\\users\\bvlma\\pycharmprojects\\california-pharmacy-license-dashboard\\.venv\\lib\\site-packages (from pandas>=1.4.0->geopandas) (2024.2)\n",
      "Requirement already satisfied: certifi in c:\\users\\bvlma\\pycharmprojects\\california-pharmacy-license-dashboard\\.venv\\lib\\site-packages (from pyogrio>=0.7.2->geopandas) (2024.8.30)\n",
      "Requirement already satisfied: six>=1.5 in c:\\users\\bvlma\\pycharmprojects\\california-pharmacy-license-dashboard\\.venv\\lib\\site-packages (from python-dateutil>=2.8.2->pandas>=1.4.0->geopandas) (1.16.0)\n",
      "Requirement already satisfied: geopy in c:\\users\\bvlma\\pycharmprojects\\california-pharmacy-license-dashboard\\.venv\\lib\\site-packages (2.4.1)\n",
      "Requirement already satisfied: geographiclib<3,>=1.52 in c:\\users\\bvlma\\pycharmprojects\\california-pharmacy-license-dashboard\\.venv\\lib\\site-packages (from geopy) (2.0)\n"
     ]
    }
   ],
   "execution_count": 106
  },
  {
   "cell_type": "code",
   "id": "initial_id",
   "metadata": {
    "collapsed": true,
    "ExecuteTime": {
     "end_time": "2024-12-08T21:50:35.135450Z",
     "start_time": "2024-12-08T21:50:34.830674Z"
    }
   },
   "source": [
    "import pandas as pd\n",
    "import re \n",
    "from geopy.geocoders import Nominatim\n",
    "\n",
    "\n",
    "# Set pandas to display more rows/columns for wider dataframes\n",
    "pd.set_option('display.max_columns', None)  # Show all columns\n",
    "pd.set_option('display.max_rows', 100)     # Adjust rows\n",
    "pd.set_option('display.width', 1000)       # Increase width for better visibility"
   ],
   "outputs": [],
   "execution_count": 107
  },
  {
   "metadata": {},
   "cell_type": "markdown",
   "source": "## Load Pharmacy Data",
   "id": "ce4b224eb8adadb1"
  },
  {
   "metadata": {
    "ExecuteTime": {
     "end_time": "2024-12-08T21:50:35.148433Z",
     "start_time": "2024-12-08T21:50:35.136454Z"
    }
   },
   "cell_type": "code",
   "source": [
    "pharmacies = pd.read_csv('Notebooks/attempt_19.csv')\n",
    "pharmacies.head()"
   ],
   "id": "71dc1e9eaa23bf00",
   "outputs": [
    {
     "data": {
      "text/plain": [
       "                  Pharmacy Name License Number                              License Type License Status   Expiration Date        City         State        County      Zip CEDARS-SINAI MEDICAL CENTER -4TH FLOOR MAIN\n",
       "0  986 INFUSION PHARMACY #1 INC     LSC 101414              Sterile Compounding Pharmacy          CLEAR      July 1, 2025     ANAHEIM    California        ORANGE  92807.0                                         NaN\n",
       "1      A & O SPECIALTY PHARMACY     LSC 101817              Sterile Compounding Pharmacy          CLEAR     March 1, 2025     SALINAS    California      MONTEREY  93901.0                                         NaN\n",
       "2      ACCREDO HEALTH GROUP INC     NSC 101280  Nonresident Sterile Compounding Pharmacy          CLEAR  December 1, 2025  WARRENDALE  Pennsylvania  OUT OF STATE  15086.0                                         NaN\n",
       "3      ACCREDO HEALTH GROUP INC     NSC 101279  Nonresident Sterile Compounding Pharmacy          CLEAR  December 1, 2025     ORLANDO       Florida  OUT OF STATE  32822.0                                         NaN\n",
       "4         ADVANCE CARE PHARMACY      LSC 99611              Sterile Compounding Pharmacy          CLEAR      July 1, 2025   ESCONDIDO    California     SAN DIEGO  92025.0                                         NaN"
      ],
      "text/html": [
       "<div>\n",
       "<style scoped>\n",
       "    .dataframe tbody tr th:only-of-type {\n",
       "        vertical-align: middle;\n",
       "    }\n",
       "\n",
       "    .dataframe tbody tr th {\n",
       "        vertical-align: top;\n",
       "    }\n",
       "\n",
       "    .dataframe thead th {\n",
       "        text-align: right;\n",
       "    }\n",
       "</style>\n",
       "<table border=\"1\" class=\"dataframe\">\n",
       "  <thead>\n",
       "    <tr style=\"text-align: right;\">\n",
       "      <th></th>\n",
       "      <th>Pharmacy Name</th>\n",
       "      <th>License Number</th>\n",
       "      <th>License Type</th>\n",
       "      <th>License Status</th>\n",
       "      <th>Expiration Date</th>\n",
       "      <th>City</th>\n",
       "      <th>State</th>\n",
       "      <th>County</th>\n",
       "      <th>Zip</th>\n",
       "      <th>CEDARS-SINAI MEDICAL CENTER -4TH FLOOR MAIN</th>\n",
       "    </tr>\n",
       "  </thead>\n",
       "  <tbody>\n",
       "    <tr>\n",
       "      <th>0</th>\n",
       "      <td>986 INFUSION PHARMACY #1 INC</td>\n",
       "      <td>LSC 101414</td>\n",
       "      <td>Sterile Compounding Pharmacy</td>\n",
       "      <td>CLEAR</td>\n",
       "      <td>July 1, 2025</td>\n",
       "      <td>ANAHEIM</td>\n",
       "      <td>California</td>\n",
       "      <td>ORANGE</td>\n",
       "      <td>92807.0</td>\n",
       "      <td>NaN</td>\n",
       "    </tr>\n",
       "    <tr>\n",
       "      <th>1</th>\n",
       "      <td>A &amp; O SPECIALTY PHARMACY</td>\n",
       "      <td>LSC 101817</td>\n",
       "      <td>Sterile Compounding Pharmacy</td>\n",
       "      <td>CLEAR</td>\n",
       "      <td>March 1, 2025</td>\n",
       "      <td>SALINAS</td>\n",
       "      <td>California</td>\n",
       "      <td>MONTEREY</td>\n",
       "      <td>93901.0</td>\n",
       "      <td>NaN</td>\n",
       "    </tr>\n",
       "    <tr>\n",
       "      <th>2</th>\n",
       "      <td>ACCREDO HEALTH GROUP INC</td>\n",
       "      <td>NSC 101280</td>\n",
       "      <td>Nonresident Sterile Compounding Pharmacy</td>\n",
       "      <td>CLEAR</td>\n",
       "      <td>December 1, 2025</td>\n",
       "      <td>WARRENDALE</td>\n",
       "      <td>Pennsylvania</td>\n",
       "      <td>OUT OF STATE</td>\n",
       "      <td>15086.0</td>\n",
       "      <td>NaN</td>\n",
       "    </tr>\n",
       "    <tr>\n",
       "      <th>3</th>\n",
       "      <td>ACCREDO HEALTH GROUP INC</td>\n",
       "      <td>NSC 101279</td>\n",
       "      <td>Nonresident Sterile Compounding Pharmacy</td>\n",
       "      <td>CLEAR</td>\n",
       "      <td>December 1, 2025</td>\n",
       "      <td>ORLANDO</td>\n",
       "      <td>Florida</td>\n",
       "      <td>OUT OF STATE</td>\n",
       "      <td>32822.0</td>\n",
       "      <td>NaN</td>\n",
       "    </tr>\n",
       "    <tr>\n",
       "      <th>4</th>\n",
       "      <td>ADVANCE CARE PHARMACY</td>\n",
       "      <td>LSC 99611</td>\n",
       "      <td>Sterile Compounding Pharmacy</td>\n",
       "      <td>CLEAR</td>\n",
       "      <td>July 1, 2025</td>\n",
       "      <td>ESCONDIDO</td>\n",
       "      <td>California</td>\n",
       "      <td>SAN DIEGO</td>\n",
       "      <td>92025.0</td>\n",
       "      <td>NaN</td>\n",
       "    </tr>\n",
       "  </tbody>\n",
       "</table>\n",
       "</div>"
      ]
     },
     "execution_count": 108,
     "metadata": {},
     "output_type": "execute_result"
    }
   ],
   "execution_count": 108
  },
  {
   "metadata": {},
   "cell_type": "markdown",
   "source": [
    "## Enrich Pharmacy Categorization\n",
    "\n",
    "- [y/n] - is this a government facility?\n",
    "- [y/n] - is this a satellite location?\n",
    "- [y/n] - is this an infusion center? \n",
    "- [y/n] - is this a hospital or medical center? \n",
    "- [y/n] - is research institute or lab\n",
    "- [y/n] - is this strictly a veterinarian pharmacy? \n",
    "- [y/n] - provides Vitamin/Nutrition Therapy drugs\n",
    "- [y/n] - provide GLP1 drugs (Semaglutide, Tirzepatide)\n",
    "\n",
    "Available Specialities:\n",
    "- specialtyCancer\n",
    "- specialtyHomeInfusion\n",
    "- specialtyNutrition\n",
    "- "
   ],
   "id": "d577d8ae8daf0281"
  },
  {
   "metadata": {
    "jupyter": {
     "is_executing": true
    },
    "ExecuteTime": {
     "start_time": "2024-12-08T21:50:35.149437Z"
    }
   },
   "cell_type": "code",
   "source": [
    "#Drop rogue column from data collection:\n",
    "pharmacies = pharmacies.drop(columns=['CEDARS-SINAI MEDICAL CENTER -4TH FLOOR MAIN'])\n",
    "\n",
    "#Correct Zip Code Datatype\n",
    "pharmacies['Zip'] = pharmacies['Zip'].fillna(0).astype(int).astype(str)\n",
    "\n",
    "#\n",
    "pharmacies['Expiration Date'] = pd.to_datetime(pharmacies['Expiration Date'], format='%B %d, %Y')\n",
    "\n",
    "\n",
    "# Create an isGovernment column and populate it based on the License Type\n",
    "pharmacies['isGovernment'] = pharmacies['License Type'].str.contains('Government', case=False, na=False)\n",
    "\n",
    "# Create an isSatellite column and populate it based on the License Type\n",
    "pharmacies['isSatellite'] = pharmacies['License Type'].str.contains('Satellite', case=False, na=False)\n",
    "\n",
    "# Define a list of search terms\n",
    "infusion_center_search_terms = ['INFUSION', 'HOSPICARE', 'INTEGRATED CARE SYSTEMS', 'IV LEAGUE', 'KABAFUSION', 'MARSHALL MEDICAL ONCOLOGY PHARMACY', 'MODEL DRUG', 'NUTRISHARE', 'OMNICARE', 'OPTION CARE', 'OPTUM', 'OSO HOME CARE', 'OWL REXALL DRUG', 'PLAZA HOME CARE', 'POLARIS PHARMACY SERVICES', 'PREFERRED EXCELLENT CARE', 'QUADRACARE', 'SCRIPTS', 'SHARP CENTRAL PHARMACY SERVICES', 'TRINITY CARE RX', 'VIVE RX']\n",
    "\n",
    "# Create a regex pattern to match any of the search terms for infusion centers\n",
    "pattern = '|'.join(infusion_center_search_terms)\n",
    "\n",
    "# Update 'isInfusionCenter' based on keywords in License TYpe and Pharmacy Name\n",
    "pharmacies['isInfusionCenter'] = (\n",
    "    pharmacies['License Type'].str.contains('Infusion', case=False, na=False) |\n",
    "    pharmacies['Pharmacy Name'].str.contains(pattern, case=True, na=False)\n",
    ")\n",
    "# List of keywords to check for in the 'License Type' column for Hospitals\n",
    "keywords = [\n",
    "    'HOSPITAL', 'MEDICAL CENTER', 'ADVENTIST HEALTH', 'MEMORIAL', 'CAMPUS', \n",
    "    'REGIONAL', 'MED CTR', 'KAISER', 'OF USC', 'REHABILITATION', 'CEDARS-SINAI', 'CITY OF HOPE', 'CANCER CENTER', 'HOSPTIAL', 'CLINIC', 'HSP','OUTPATIENT', 'HEALTH SERVICES', 'HEALTH CENTER', 'COUNTY ONCOLOGY', 'HEALTH SYSTEM', 'STANFORD HEALTH CARE', 'CENTER FOR', 'UC DAVIS', 'UCI HEALTH', 'RUHS', 'BOWYER PHARMACY', 'CARDINAL HEALTH', 'CEDARS-SANAI', 'CONVERSIO HEALTH', 'CRMC', 'ONCOLOGY CENTER', 'EMANATE HEALTH', 'CARE PAVILION', 'HOAG', 'HIGHLAND CARE PAVILLION', 'KAWEAH HEALTH', 'HEALTHCARE DISTRICT', 'LPCH', 'LUNDQUIST INSTITUTE', 'MOUNTAIN VIEW PHARMACEUTICALS', 'PENTEC HEALTH', 'PRIME HEALTHCARE', 'PROVIDENCE ONCOLOGY', 'RADY CHILDREN\\'S', 'RIVER\\'S EDGE', 'SCRIPPS', 'SHRINERS', 'SOLEO HEALTH INC', 'SONOMA SPECIALTY PHARMACY', 'SUTTER LAKESIDE', 'TODD CANCER PAVILION', 'CORRECTIONAL FACILITY']\n",
    "\n",
    "# Create a pattern that matches any of the keywords\n",
    "keywords_pattern = '|'.join([re.escape(keyword) for keyword in keywords])\n",
    "\n",
    "# Create 'isHospital' column based on whether any of the keywords are present in 'Pharmacy Name'\n",
    "pharmacies['isHospital'] = pharmacies['Pharmacy Name'].str.contains(keywords_pattern, case=False, regex=True, na=False)\n",
    "\n",
    "isVeterinaryOnlyKeywords = ['PETNET PHARMACEUTICAL', 'PROLAB PHARMACY', 'SPECIALTY VETERINARY PHARMACY', 'WEDGEWOOD PHARMACY LLC']\n",
    "\n",
    "#Create Boolean isVeterinary Only column from our list of known only vet pharmacies \n",
    "pharmacies['isVeterinaryOnly'] = pharmacies['Pharmacy Name'].isin(isVeterinaryOnlyKeywords)\n",
    "\n",
    "# Declare pharmacies known to offer specialty products: \n",
    "specialty_dict = {\n",
    "    'HRT' : ['A & O SPECIALITY PHARMACY', 'AMBROSIA HEALTHCARE', 'BOOTHWYN PHARMACY', 'CHEMIQUE PHARMACEUTICALS', 'ANAZAOHEALTH', 'ENOVEX', 'FIRESIDE', 'INNOVATIVE COMPOUNDING PHARMACY', 'LEE SILSBY COMPOUNDING PHARMACY', 'MEDSPECIALTIES COMPOUNDING PHARMACY', 'O\\'BRIEN PHARMACY', 'PACIFIC COMPOUNDING PHARMACY AND CONSULTATIONS INC', 'STRIVE PHARMACY', 'TMC ACQUISITION LLC DBA TAILOR MADE COMPOUNDING', 'TORMED PHARMACY', 'VALOR COMPOUNDING PHARMACY'],\n",
    "    'Sexual Health': ['A & O SPECIALITY PHARMACY', 'ANAZAOHEALTH', 'LEE SILSBY COMPOUNDING PHARMACY', 'MEDSPECIALTIES COMPOUNDING PHARMACY', 'RX UNLIMITED PHARMACY', 'STRIVE PHARMACY', ],\n",
    "    'Dermatology': ['A & O SPECIALITY PHARMACY', 'ALERACARE PHARMACY', 'BIOPLUS SPECIALTY INFUSION', 'BOOTHWYN PHARMACY', 'ANAZAOHEALTH', 'ENVOEX', 'FIRESIDE', 'IMPRIMISRX', 'KabaFusion', 'LEE SILSBY COMPOUNDING PHARMACY', 'MEDSPECIALTIES COMPOUNDING PHARMACY', 'O\\'BRIEN PHARMACY', 'OWL WESTERN PHARMACY', 'STRIVE PHARMACY', 'VALOR COMPOUNDING PHARMACY', 'VLS PHARMACY INC'],\n",
    "    'Pain Management': ['A & O SPECIALITY PHARMACY', 'AMBROSIA HEALTHCARE', 'BASIC HOME INFUSION', 'BOOTHWYN PHARMACY', 'BROOKS HEALTH CARE', 'CHEMIQUE PHARMACEUTICALS', 'ENVOEX', 'FIRESIDE', 'HEALIX INFUSION', 'HOPEWELL PHARMACY', 'MARINER ADVANCED PHARMACY CORP', 'MEDSPECIALTIES COMPOUNDING PHARMACY', 'O\\'BRIEN PHARMACY', 'VLS PHARMACY INC'],\n",
    "    'Gastroenterology': ['A & O SPECIALITY PHARMACY', 'ALERACARE PHARMACY', 'BOOTHWYN PHARMACY', 'IV LEAGUE', 'LEE SILSBY COMPOUNDING PHARMACY', 'NORTHBAY SPECIALTY PHARMACY', 'O\\'BRIEN PHARMACY', 'OWL WESTERN PHARMACY'],\n",
    "    'Nutrition, Anti-Aging, General Wellness': ['CHEMIQUE PHARMACEUTICALS', 'ANAZAOHEALTH', 'CURE STAT RX', 'IMPRIMISRX', 'INFUSERVE', 'LEE SILSBY COMPOUNDING PHARMACY', 'PHARMALABS LLC', 'TMC ACQUISITION LLC DBA TAILOR MADE COMPOUNDING', 'UNIVERSITY COMPOUNDING PHARMACY', 'VLS PHARMACY INC'],\n",
    "    'Oncology': ['ACCREDO HEALTH GROUP INC', 'ALERACARE PHARMACY', 'ALLIANCERX', 'AMERICAN RIVER INFUSION', 'AMERIPHARMA', 'BIOPLUS SPECIALTY INFUSION', 'CHEMIQUE PHARMACEUTICALS', 'COMPLETE INFUSION CARE', 'CURE STAT RX', 'IV LEAGUE', 'MARINER ADVANCED PHARMACY CORP', 'NORTHBAY SPECIALTY PHARMACY', 'OWL WESTERN PHARMACY', 'PACIFIC COMPOUNDING PHARMACY AND CONSULTATIONS INC'],\n",
    "    'Blood & Bleeding Disorders': ['ACCREDO HEALTH GROUP INC', 'ALERACARE PHARMACY', 'ALLIANCERX', 'AMERIPHARMA', 'BIOPLUS SPECIALTY INFUSION', 'BIOSCRIP INFUSION SERVICES', 'CHEMIQUE PHARMACEUTICALS', 'CURE STAT RX', 'OWL WESTERN PHARMACY'],\n",
    "    'Hospice & Long Term Care': ['ADVANCE CARE PHARMACY', 'AMBROSIA HEALTHCARE', 'AMBROSIA HEALTHCARE', 'RED ROCK PHARMACY', 'CITRUS PHARMACY', 'DEl\\'S PHARMACY', 'DIAMOND DRUGS', 'FIRESIDE', 'HYGEIA', 'IV LEAGUE', 'PACIFIC WEST PHARMACY INC', 'PHILLIPS RANCH PHARMACY', 'SKILLED NURSING PHARMACY', 'STAR PHARMACY', 'VERDUGO PLAZA PHARMACY ALHAMBRA'],\n",
    "    'Cardiology': ['ALERACARE PHARMACY', 'BIOSCRIP INFUSION SERVICES', 'CENTRAL ADMIXTURE PHARMACY'],\n",
    "    'Infectious Disease' : ['ALERACARE PHARMACY', 'AMERICAN RIVER INFUSION', 'BIOSCRIP INFUSION SERVICES', 'BROOKS HEALTH CARE', 'COMPLETE INFUSION CARE', 'DEl\\'S PHARMACY', 'IV LEAGUE', 'MARINER ADVANCED PHARMACY CORP', 'OWL WESTERN PHARMACY'],\n",
    "    'Low Molecular': ['ALERACARE PHARMACY', ],\n",
    "    'Neurology': ['ALERACARE PHARMACY', 'ALLIANCERX', 'BIOSCRIP INFUSION SERVICES', 'KabaFusion', 'NORTHBAY SPECIALTY PHARMACY'],\n",
    "    'Opthalmic': ['ALERACARE PHARMACY', 'BOOTHWYN PHARMACY', 'CURE STAT RX', 'IMPRIMISRX', 'O\\'BRIEN PHARMACY', 'OSRX INC', 'TORMED PHARMACY', 'VALOR COMPOUNDING PHARMACY'],\n",
    "    'Osteo': ['ALERACARE PHARMACY', 'BIOPLUS SPECIALTY INFUSION'],\n",
    "    'Rheumatology': ['ALERACARE PHARMACY', 'ALLIANCERX', 'AMERICAN OUTCOMES MANAGEMENT', 'AMERICAN RIVER INFUSION', 'BIOPLUS SPECIALTY INFUSION', 'BIOSCRIP INFUSION SERVICES', 'HEALIX INFUSION', 'NORTHBAY SPECIALTY PHARMACY', 'OWL WESTERN PHARMACY'],\n",
    "    'Urology' : ['ALERACARE PHARMACY', 'BIOPLUS SPECIALTY INFUSION', 'BIOPLUS SPECIALTY INFUSION', 'O\\'BRIEN PHARMACY', 'PHARMALABS LLC', 'TORMED PHARMACY'],\n",
    "    'Pulmonary' : ['ALLIANCERX', ],\n",
    "    'Reproductive' : ['ALLIANCERX', 'BIOSCRIP INFUSION SERVICES', 'CURE STAT RX', 'FREEDOM FERTILITY PHARMACY'],\n",
    "    'Veterinary' : ['AMBROSIA HEALTHCARE', 'BCP VETERINARY', 'BOOTHWYN PHARMACY', 'CHEMIQUE PHARMACEUTICALS', 'COVETRUS', 'CURE STAT RX', 'ENVOEX', 'FIRESIDE', 'HOPEWELL PHARMACY', 'LEE SILSBY COMPOUNDING PHARMACY', 'MEDSPECIALTIES COMPOUNDING PHARMACY', 'PETNET PHARMACEUTICAL', 'PROLAB PHARMACY', 'SPECIALTY VETERINARY PHARMACY', 'STRIVE PHARMACY', 'VALOR COMPOUNDING PHARMACY'],\n",
    "    'Autoimmune Disease': ['AMERICAN OUTCOMES MANAGEMENT', 'AMERICAN RIVER INFUSION', 'BIOPLUS SPECIALTY INFUSION', 'HEALIX INFUSION', 'KabaFusion', 'MARINER ADVANCED PHARMACY CORP'],\n",
    "    'TPN' : ['AMERIPHARMA', 'BROOKS HEALTH CARE', 'CENTRAL ADMIXTURE PHARMACY', 'CHEMIQUE PHARMACEUTICALS', 'COMPLETE INFUSION CARE', 'CURE STAT RX', 'DCRX INFUSION', 'DEl\\'S PHARMACY', 'IV LEAGUE', 'KabaFusion', 'MARINER ADVANCED PHARMACY CORP'],\n",
    "    'Pediatric' : ['BIOPLUS SPECIALTY INFUSION', 'BOOTHWYN PHARMACY', 'CORAM CSV', 'CURE STAT RX', 'ENVOEX', 'FIRESIDE', 'IV LEAGUE', 'O\\'BRIEN PHARMACY', 'VLS PHARMACY INC'],\n",
    "    'Genetic Disorders': ['BIOPLUS SPECIALTY INFUSION'],\n",
    "    'Weight Loss': ['BOOTHWYN PHARMACY', 'RED ROCK PHARMACY', 'ANAZAOHEALTH', 'FIRESIDE', 'INNOVATIVE COMPOUNDING PHARMACY', 'PHARMALABS LLC', 'STRIVE PHARMACY', 'UNIVERSITY COMPOUNDING PHARMACY', 'VALOR COMPOUNDING PHARMACY'],\n",
    "    'Hair Care': ['ANAZAOHEALTH'],\n",
    "    'Dental' : ['FIRESIDE', 'LEE SILSBY COMPOUNDING PHARMACY', 'O\\'BRIEN PHARMACY', 'VALOR COMPOUNDING PHARMACY'],\n",
    "    'Ear, Nose, Throat': ['FIRESIDE', 'HOPEWELL PHARMACY', 'O\\'BRIEN PHARMACY'],\n",
    "    'Podiatry' : ['FIRESIDE'],\n",
    "    'Nuclear Radiopharmacy' : ['ISORX RADIOPHARMACY', 'JUBILANT DRAXIMAGE INC DBA JUBILANT RADIOPHARMA', 'RLS USA INC', 'SOFIE CO']\n",
    "    }\n",
    "\n",
    "conditions_dictionary = {\n",
    "    'Multiple Sclerosis': ['ACCREDO HEALTH GROUP INC', 'ALERACARE PHARMACY', 'ALLIANCERX', 'BIOPLUS SPECIALTY INFUSION', 'NORTHBAY SPECIALTY PHARMACY', 'OWL WESTERN PHARMACY'],\n",
    "    'HIV/AIDS' : ['ACCREDO HEALTH GROUP INC', 'BIOPLUS SPECIALTY INFUSION', 'NORTHBAY SPECIALTY PHARMACY', 'OWL WESTERN PHARMACY', 'RX UNLIMITED PHARMACY'],\n",
    "    'Crohns' : ['ALERACARE PHARMACY', 'BIOPLUS SPECIALTY INFUSION', 'LEE SILSBY COMPOUNDING PHARMACY'],\n",
    "    'Cystic Fibrosis': ['ALERACARE PHARMACY', ],\n",
    "    'Endometriosis': ['ALERACARE PHARMACY', ],\n",
    "    'Autism': ['HOPEWELL PHARMACY', 'LEE SILSBY COMPOUNDING PHARMACY'],\n",
    "    'Hepatitis': ['ACCREDO HEALTH GROUP INC', 'ALERACARE PHARMACY', 'ALLIANCERX', 'BIOPLUS SPECIALTY INFUSION', 'NORTHBAY SPECIALTY PHARMACY', 'OWL WESTERN PHARMACY'],\n",
    "    'Addiction' : ['LEE SILSBY COMPOUNDING PHARMACY'],\n",
    "    'Chronic Fatigue Syndrome' : ['LEE SILSBY COMPOUNDING PHARMACY'],\n",
    "    'Erectile Dysfunction' : ['LEE SILSBY COMPOUNDING PHARMACY'],\n",
    "    'Fibromyalgia' : ['LEE SILSBY COMPOUNDING PHARMACY'],\n",
    "    'Fissures' : ['LEE SILSBY COMPOUNDING PHARMACY'],\n",
    "    'Hirsutism' : ['LEE SILSBY COMPOUNDING PHARMACY'],\n",
    "    'Infertility' : ['LEE SILSBY COMPOUNDING PHARMACY', 'FREEDOM FERTILITY PHARMACY'],\n",
    "    'Lyme Disease' : ['LEE SILSBY COMPOUNDING PHARMACY'],\n",
    "    'Methylation Dysfunction' : ['LEE SILSBY COMPOUNDING PHARMACY'],\n",
    "    'Oral Mucositis' : ['LEE SILSBY COMPOUNDING PHARMACY'],\n",
    "    'PANDAS' : ['LEE SILSBY COMPOUNDING PHARMACY'],\n",
    "    'Rosacea' : ['LEE SILSBY COMPOUNDING PHARMACY'],\n",
    "    'Shingles' : ['LEE SILSBY COMPOUNDING PHARMACY'],\n",
    "    'Skin Lightening' : ['LEE SILSBY COMPOUNDING PHARMACY'],\n",
    "    'Vaginosis' : ['LEE SILSBY COMPOUNDING PHARMACY'],\n",
    "    'Warts' : ['LEE SILSBY COMPOUNDING PHARMACY'],\n",
    "    'Wound Care' : ['LEE SILSBY COMPOUNDING PHARMACY'],\n",
    "    'Organ Transplants' : ['AMERICAN OUTCOMES MANAGEMENT', 'BIOPLUS SPECIALTY INFUSION', 'CORAM CSV', 'NORTHBAY SPECIALTY PHARMACY']\n",
    "}\n",
    "\n",
    "pharmacies['Entity Type'] = 'Compounding Pharmacy' #Default Value\n",
    "\n",
    "pharmacies.loc[pharmacies['isGovernment'] == True, 'Entity Type'] = 'Government Facility'\n",
    "pharmacies.loc[pharmacies['isInfusionCenter'] == True, 'Entity Type'] = 'Infusion Services'\n",
    "pharmacies.loc[pharmacies['isHospital'] == True, 'Entity Type'] = 'Hospital or Med Center'\n",
    "pharmacies.loc[pharmacies['isVeterinaryOnly'] == True, 'Entity Type'] = 'Veterinary Compounding Only'\n",
    "\n"
   ],
   "id": "9b4b4b6518cdddfd",
   "outputs": [],
   "execution_count": null
  },
  {
   "metadata": {
    "jupyter": {
     "is_executing": true
    }
   },
   "cell_type": "code",
   "source": [
    "# Review Pharmacies that are NOT a hospital currently \n",
    "available_pharmacies = pharmacies.copy()\n",
    "available_pharmacies = available_pharmacies[(available_pharmacies['isHospital'] == False) & (available_pharmacies['isInfusionCenter'] == False) & (available_pharmacies['isGovernment'] == False ) & (available_pharmacies['isVeterinaryOnly'] == False)]\n",
    "\n",
    " \n",
    "\n",
    "# Loop through the specialty_dict to create new columns in available_pharmacies\n",
    "for specialty, pharmacies in specialty_dict.items():\n",
    "    # Create a new column with camel case naming like isHRT, isSexualHealth, etc.\n",
    "    column_name = f'is{specialty.replace(\" \", \"\")}'  # Removes spaces and adds 'is' at the beginning\n",
    "    available_pharmacies[column_name] = available_pharmacies['Pharmacy Name'].isin(pharmacies)\n",
    "    \n",
    "# Loop through the conditions_dictionary to create new columns in available_pharmacies\n",
    "for condition, pharmacies in conditions_dictionary.items():\n",
    "    # Create a new column with \"services\" as the prefix and camel case naming\n",
    "    column_name = f'services{condition.replace(\" \", \"\").replace(\"/\", \"\")}'  # Removes spaces and slashes and adds 'services' at the beginning\n",
    "    available_pharmacies[column_name] = available_pharmacies['Pharmacy Name'].isin(pharmacies)\n",
    "    \n",
    "#Drop any rows with NANs\n",
    "available_pharmacies.dropna(inplace=True)\n",
    "\n",
    "available_pharmacies.to_csv('available_pharmacies.csv', index=False, mode='w')\n",
    "\n",
    "available_pharmacies\n"
   ],
   "id": "d77d53b29e17255d",
   "outputs": [],
   "execution_count": null
  },
  {
   "metadata": {
    "jupyter": {
     "is_executing": true
    }
   },
   "cell_type": "code",
   "source": [
    "# Loop through the specialty_dict to create new columns in pharmacies\n",
    "\n",
    "# Save the enriched DataFrame to a CSV file\n",
    "#pharmacies.to_csv('pharmacies_enriched.csv', index=False)\n"
   ],
   "id": "333fe24e585526ba",
   "outputs": [],
   "execution_count": null
  },
  {
   "metadata": {
    "jupyter": {
     "is_executing": true
    }
   },
   "cell_type": "code",
   "source": "\n",
   "id": "fe7368f1f3e8d084",
   "outputs": [],
   "execution_count": null
  },
  {
   "metadata": {
    "jupyter": {
     "is_executing": true
    }
   },
   "cell_type": "code",
   "source": "",
   "id": "9111d91f4fb1bcd2",
   "outputs": [],
   "execution_count": null
  }
 ],
 "metadata": {
  "kernelspec": {
   "display_name": "Python 3",
   "language": "python",
   "name": "python3"
  },
  "language_info": {
   "codemirror_mode": {
    "name": "ipython",
    "version": 2
   },
   "file_extension": ".py",
   "mimetype": "text/x-python",
   "name": "python",
   "nbconvert_exporter": "python",
   "pygments_lexer": "ipython2",
   "version": "2.7.6"
  }
 },
 "nbformat": 4,
 "nbformat_minor": 5
}
